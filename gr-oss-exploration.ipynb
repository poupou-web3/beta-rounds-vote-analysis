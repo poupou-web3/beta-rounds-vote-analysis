{
 "cells": [
  {
   "attachments": {},
   "cell_type": "markdown",
   "metadata": {},
   "source": [
    "# Sybil exploration grant climate"
   ]
  },
  {
   "cell_type": "code",
   "execution_count": 1,
   "metadata": {},
   "outputs": [],
   "source": [
    "import os\n",
    "import sys\n",
    "from pathlib import Path\n",
    "import numpy as np\n",
    "import pandas as pd\n",
    "pd.options.mode.chained_assignment = None"
   ]
  },
  {
   "cell_type": "code",
   "execution_count": 2,
   "metadata": {},
   "outputs": [],
   "source": [
    "from sblegos.TransactionAnalyser import TransactionAnalyser\n",
    "from sbutils.LoadData import LoadData\n",
    "from sbdata.FlipsideApi import FlipsideApi"
   ]
  },
  {
   "cell_type": "code",
   "execution_count": 3,
   "metadata": {},
   "outputs": [],
   "source": [
    "current_dir = Path(os.getcwd())"
   ]
  },
  {
   "attachments": {},
   "cell_type": "markdown",
   "metadata": {},
   "source": [
    "### Initialisation of the data"
   ]
  },
  {
   "attachments": {},
   "cell_type": "markdown",
   "metadata": {},
   "source": [
    "#### Grant data initialisation"
   ]
  },
  {
   "cell_type": "code",
   "execution_count": 84,
   "metadata": {},
   "outputs": [],
   "source": [
    "path_to_grants = \"data/grants\"\n",
    "path_to_contributor_address = os.path.join(path_to_grants, \"address\")"
   ]
  },
  {
   "cell_type": "code",
   "execution_count": 5,
   "metadata": {},
   "outputs": [
    {
     "data": {
      "text/plain": [
       "['df_contribution_address_CLIMATE.csv',\n",
       " 'df_contribution_address_ETHEREUM.csv',\n",
       " 'df_contribution_address_FANTOM.csv',\n",
       " 'df_contribution_address_GR15.csv',\n",
       " 'df_contribution_address_OSS.csv',\n",
       " 'df_contribution_address_UNICEF.csv',\n",
       " 'unique_ctbt_address.csv']"
      ]
     },
     "execution_count": 5,
     "metadata": {},
     "output_type": "execute_result"
    }
   ],
   "source": [
    "full_path_add = os.path.join(current_dir, path_to_contributor_address)\n",
    "files = os.listdir(full_path_add)\n",
    "files"
   ]
  },
  {
   "cell_type": "code",
   "execution_count": 87,
   "metadata": {},
   "outputs": [],
   "source": [
    "csv = files[0]\n",
    "gr_round = \"CLIMATE\"\n",
    "df_address = pd.read_csv(os.path.join(full_path_add, csv))\n",
    "list_address = df_address[\"address\"].tolist()"
   ]
  },
  {
   "attachments": {},
   "cell_type": "markdown",
   "metadata": {},
   "source": [
    "The list_address is then used to load all the transactions from the grant data."
   ]
  },
  {
   "attachments": {},
   "cell_type": "markdown",
   "metadata": {},
   "source": [
    "#### Data loader initialisation"
   ]
  },
  {
   "cell_type": "code",
   "execution_count": 7,
   "metadata": {},
   "outputs": [
    {
     "name": "stdout",
     "output_type": "stream",
     "text": [
      "c:\\Users\\DELL Admin\\Documents\\ODC\\DataBuilderHackathon\\transactions_full\n"
     ]
    }
   ],
   "source": [
    "path_to_parent = Path(current_dir).parent\n",
    "path_to_tx = os.path.join(path_to_parent, 'transactions_full')\n",
    "print(path_to_tx)"
   ]
  },
  {
   "attachments": {},
   "cell_type": "markdown",
   "metadata": {},
   "source": [
    "Initialize the data loader with the path to the transactions "
   ]
  },
  {
   "cell_type": "code",
   "execution_count": 8,
   "metadata": {},
   "outputs": [],
   "source": [
    "data_loader = LoadData(path_to_tx)"
   ]
  },
  {
   "attachments": {},
   "cell_type": "markdown",
   "metadata": {},
   "source": [
    "The data loader is then used to load the data from the grant data. It takes some time to load the data. 3 minutes on my computer. "
   ]
  },
  {
   "cell_type": "code",
   "execution_count": 9,
   "metadata": {},
   "outputs": [],
   "source": [
    "df_tx = data_loader.create_df_tx('ethereum', list_address)"
   ]
  },
  {
   "attachments": {},
   "cell_type": "markdown",
   "metadata": {},
   "source": [
    "#### Sybil scorer TransactionAnalyser initialisation and exploration"
   ]
  },
  {
   "cell_type": "code",
   "execution_count": 10,
   "metadata": {},
   "outputs": [],
   "source": [
    "tx_analyser = TransactionAnalyser(df_tx, df_address=df_address)"
   ]
  },
  {
   "attachments": {},
   "cell_type": "markdown",
   "metadata": {},
   "source": [
    "Verify matching addresses because the transaction data is not always complete for a specific chain. ie an address may have contributed from a chain but have zero transactions on the studyed chain, here ethereum."
   ]
  },
  {
   "cell_type": "code",
   "execution_count": 11,
   "metadata": {},
   "outputs": [
    {
     "data": {
      "text/html": [
       "<div>\n",
       "<style scoped>\n",
       "    .dataframe tbody tr th:only-of-type {\n",
       "        vertical-align: middle;\n",
       "    }\n",
       "\n",
       "    .dataframe tbody tr th {\n",
       "        vertical-align: top;\n",
       "    }\n",
       "\n",
       "    .dataframe thead th {\n",
       "        text-align: right;\n",
       "    }\n",
       "</style>\n",
       "<table border=\"1\" class=\"dataframe\">\n",
       "  <thead>\n",
       "    <tr style=\"text-align: right;\">\n",
       "      <th></th>\n",
       "      <th>address</th>\n",
       "    </tr>\n",
       "  </thead>\n",
       "  <tbody>\n",
       "    <tr>\n",
       "      <th>0</th>\n",
       "      <td>0x001f41de6f455d6df74a669c6b21b6dda1bae644</td>\n",
       "    </tr>\n",
       "    <tr>\n",
       "      <th>1</th>\n",
       "      <td>0x002153708f11f2651215059eea30820ee4d49ff3</td>\n",
       "    </tr>\n",
       "  </tbody>\n",
       "</table>\n",
       "</div>"
      ],
      "text/plain": [
       "                                      address\n",
       "0  0x001f41de6f455d6df74a669c6b21b6dda1bae644\n",
       "1  0x002153708f11f2651215059eea30820ee4d49ff3"
      ]
     },
     "execution_count": 11,
     "metadata": {},
     "output_type": "execute_result"
    }
   ],
   "source": [
    "df_matching_address = pd.DataFrame(df_tx.EOA.unique(), columns=[\"address\"])\n",
    "df_matching_address.head(2)"
   ]
  },
  {
   "cell_type": "code",
   "execution_count": null,
   "metadata": {},
   "outputs": [],
   "source": [
    "df_matching_address.shape"
   ]
  },
  {
   "cell_type": "code",
   "execution_count": 12,
   "metadata": {},
   "outputs": [],
   "source": [
    "df_matching_address['seed_same_naive'] = df_matching_address.loc[:, 'address'].apply(lambda x : tx_analyser.has_same_seed_naive(x))"
   ]
  },
  {
   "cell_type": "code",
   "execution_count": 13,
   "metadata": {},
   "outputs": [],
   "source": [
    "df_matching_address['seed_same'] = df_matching_address.loc[:, 'address'].apply(lambda x : tx_analyser.has_same_seed(x))"
   ]
  },
  {
   "cell_type": "code",
   "execution_count": 14,
   "metadata": {},
   "outputs": [],
   "source": [
    "df_matching_address['seed_suspicious'] = df_matching_address.loc[:, 'seed_same_naive'].ne(df_matching_address.loc[:, 'seed_same'])"
   ]
  },
  {
   "cell_type": "code",
   "execution_count": 15,
   "metadata": {},
   "outputs": [],
   "source": [
    "df_matching_address['less_5_tx'] = df_matching_address.loc[:, 'address'].apply(lambda x : tx_analyser.has_less_than_n_transactions(x, 5))\n",
    "df_matching_address['less_10_tx'] = df_matching_address.loc[:, 'address'].apply(lambda x : tx_analyser.has_less_than_n_transactions(x, 10))"
   ]
  },
  {
   "cell_type": "code",
   "execution_count": 16,
   "metadata": {},
   "outputs": [],
   "source": [
    "df_matching_address['interacted_other_ctbt'] = df_matching_address.loc[:, 'address'].apply(lambda x : tx_analyser.has_interacted_with_other_contributor(x))"
   ]
  },
  {
   "cell_type": "code",
   "execution_count": 17,
   "metadata": {},
   "outputs": [],
   "source": [
    "df_matching_address.set_index('address', inplace=True)"
   ]
  },
  {
   "cell_type": "code",
   "execution_count": 18,
   "metadata": {},
   "outputs": [
    {
     "data": {
      "text/plain": [
       "seed_same_naive          1854\n",
       "seed_same                1887\n",
       "seed_suspicious            35\n",
       "less_5_tx                 843\n",
       "less_10_tx               1035\n",
       "interacted_other_ctbt     251\n",
       "dtype: int64"
      ]
     },
     "execution_count": 18,
     "metadata": {},
     "output_type": "execute_result"
    }
   ],
   "source": [
    "df_matching_address.sum()"
   ]
  },
  {
   "attachments": {},
   "cell_type": "markdown",
   "metadata": {},
   "source": [
    "Many addresses have the same seed wallet. This number should be lowered using tags to remove same wallet addresses comming from centralised exchange."
   ]
  },
  {
   "cell_type": "code",
   "execution_count": 19,
   "metadata": {},
   "outputs": [],
   "source": [
    "list_same_seed_wallets = df_matching_address[np.logical_or(df_matching_address['seed_same_naive'], df_matching_address['seed_same'])].index.tolist()"
   ]
  },
  {
   "cell_type": "code",
   "execution_count": 51,
   "metadata": {},
   "outputs": [],
   "source": [
    "df_seeder = tx_analyser.df_seed_wallet"
   ]
  },
  {
   "cell_type": "code",
   "execution_count": 29,
   "metadata": {},
   "outputs": [
    {
     "name": "stdout",
     "output_type": "stream",
     "text": [
      "655\n"
     ]
    }
   ],
   "source": [
    "seeder = np.unique(df_seeder.from_address.values)\n",
    "print(len(seeder))"
   ]
  },
  {
   "cell_type": "code",
   "execution_count": 45,
   "metadata": {},
   "outputs": [],
   "source": [
    "FLIPSIDE_API_KEY = os.environ.get('FLIPSIDE_API_KEY')\n",
    "flipside_api  = FlipsideApi(FLIPSIDE_API_KEY)\n",
    "sql = flipside_api.get_cross_chain_info_sql_query(\n",
    "            seeder,\n",
    "            info_type=\"label\")\n",
    "df_labels = flipside_api.execute_query(sql)"
   ]
  },
  {
   "cell_type": "code",
   "execution_count": 46,
   "metadata": {},
   "outputs": [
    {
     "data": {
      "text/html": [
       "<div>\n",
       "<style scoped>\n",
       "    .dataframe tbody tr th:only-of-type {\n",
       "        vertical-align: middle;\n",
       "    }\n",
       "\n",
       "    .dataframe tbody tr th {\n",
       "        vertical-align: top;\n",
       "    }\n",
       "\n",
       "    .dataframe thead th {\n",
       "        text-align: right;\n",
       "    }\n",
       "</style>\n",
       "<table border=\"1\" class=\"dataframe\">\n",
       "  <thead>\n",
       "    <tr style=\"text-align: right;\">\n",
       "      <th></th>\n",
       "      <th>system_created_at</th>\n",
       "      <th>insert_date</th>\n",
       "      <th>blockchain</th>\n",
       "      <th>address</th>\n",
       "      <th>creator</th>\n",
       "      <th>label_type</th>\n",
       "      <th>label_subtype</th>\n",
       "      <th>address_name</th>\n",
       "      <th>project_name</th>\n",
       "    </tr>\n",
       "  </thead>\n",
       "  <tbody>\n",
       "    <tr>\n",
       "      <th>0</th>\n",
       "      <td>2022-01-03 20:43:08.094</td>\n",
       "      <td>2022-01-03 20:43:06.000</td>\n",
       "      <td>ethereum</td>\n",
       "      <td>0x9696f59e4d72e237be84ffd425dcad154bf96976</td>\n",
       "      <td>flipside</td>\n",
       "      <td>cex</td>\n",
       "      <td>hot_wallet</td>\n",
       "      <td>binance 18</td>\n",
       "      <td>binance</td>\n",
       "    </tr>\n",
       "    <tr>\n",
       "      <th>1</th>\n",
       "      <td>2021-11-30 00:15:28.111</td>\n",
       "      <td>2021-11-29 23:00:05.000</td>\n",
       "      <td>ethereum</td>\n",
       "      <td>0x96fc4553a00c117c5b0bed950dd625d1c16dc894</td>\n",
       "      <td>flipside</td>\n",
       "      <td>cex</td>\n",
       "      <td>hot_wallet</td>\n",
       "      <td>changelly</td>\n",
       "      <td>changelly</td>\n",
       "    </tr>\n",
       "  </tbody>\n",
       "</table>\n",
       "</div>"
      ],
      "text/plain": [
       "         system_created_at              insert_date blockchain  \\\n",
       "0  2022-01-03 20:43:08.094  2022-01-03 20:43:06.000   ethereum   \n",
       "1  2021-11-30 00:15:28.111  2021-11-29 23:00:05.000   ethereum   \n",
       "\n",
       "                                      address   creator label_type  \\\n",
       "0  0x9696f59e4d72e237be84ffd425dcad154bf96976  flipside        cex   \n",
       "1  0x96fc4553a00c117c5b0bed950dd625d1c16dc894  flipside        cex   \n",
       "\n",
       "  label_subtype address_name project_name  \n",
       "0    hot_wallet   binance 18      binance  \n",
       "1    hot_wallet    changelly    changelly  "
      ]
     },
     "execution_count": 46,
     "metadata": {},
     "output_type": "execute_result"
    }
   ],
   "source": [
    "df_labels.head(2)"
   ]
  },
  {
   "cell_type": "code",
   "execution_count": 47,
   "metadata": {},
   "outputs": [
    {
     "data": {
      "text/plain": [
       "93"
      ]
     },
     "execution_count": 47,
     "metadata": {},
     "output_type": "execute_result"
    }
   ],
   "source": [
    "df_labels.shape[0]"
   ]
  },
  {
   "cell_type": "code",
   "execution_count": 48,
   "metadata": {},
   "outputs": [
    {
     "data": {
      "text/plain": [
       "array(['cex', 'dapp', 'operator', 'token'], dtype=object)"
      ]
     },
     "execution_count": 48,
     "metadata": {},
     "output_type": "execute_result"
    }
   ],
   "source": [
    "df_labels.label_type.unique()"
   ]
  },
  {
   "cell_type": "code",
   "execution_count": 49,
   "metadata": {},
   "outputs": [],
   "source": [
    "sql = flipside_api.get_cross_chain_info_sql_query(\n",
    "            seeder,\n",
    "            info_type=\"tag\")\n",
    "df_tags = flipside_api.execute_query(sql)"
   ]
  },
  {
   "cell_type": "code",
   "execution_count": 50,
   "metadata": {},
   "outputs": [
    {
     "data": {
      "text/html": [
       "<div>\n",
       "<style scoped>\n",
       "    .dataframe tbody tr th:only-of-type {\n",
       "        vertical-align: middle;\n",
       "    }\n",
       "\n",
       "    .dataframe tbody tr th {\n",
       "        vertical-align: top;\n",
       "    }\n",
       "\n",
       "    .dataframe thead th {\n",
       "        text-align: right;\n",
       "    }\n",
       "</style>\n",
       "<table border=\"1\" class=\"dataframe\">\n",
       "  <thead>\n",
       "    <tr style=\"text-align: right;\">\n",
       "      <th></th>\n",
       "    </tr>\n",
       "  </thead>\n",
       "  <tbody>\n",
       "  </tbody>\n",
       "</table>\n",
       "</div>"
      ],
      "text/plain": [
       "Empty DataFrame\n",
       "Columns: []\n",
       "Index: []"
      ]
     },
     "execution_count": 50,
     "metadata": {},
     "output_type": "execute_result"
    }
   ],
   "source": [
    "df_tags"
   ]
  },
  {
   "cell_type": "markdown",
   "metadata": {},
   "source": [
    "No tag where found in the seeders"
   ]
  },
  {
   "attachments": {},
   "cell_type": "markdown",
   "metadata": {},
   "source": [
    "Lets remove these wallets from the case where has_same_seed is raised."
   ]
  },
  {
   "cell_type": "code",
   "execution_count": 59,
   "metadata": {},
   "outputs": [],
   "source": [
    "df_matching_address['seed_without_label'] = df_seeder.apply(lambda x : x['from_address'] not in df_labels.address.values, axis=1)"
   ]
  },
  {
   "cell_type": "code",
   "execution_count": 61,
   "metadata": {},
   "outputs": [],
   "source": [
    "df_matching_address.fillna(True, inplace=True)"
   ]
  },
  {
   "cell_type": "code",
   "execution_count": 62,
   "metadata": {},
   "outputs": [],
   "source": [
    "df_matching_address[\"same_seed_without_label\"] = np.logical_and(np.logical_or(df_matching_address['seed_same_naive'], df_matching_address['seed_same']), df_matching_address[\"seed_without_label\"])"
   ]
  },
  {
   "cell_type": "code",
   "execution_count": 64,
   "metadata": {},
   "outputs": [
    {
     "data": {
      "text/plain": [
       "seed_same_naive            1854\n",
       "seed_same                  1887\n",
       "seed_suspicious              35\n",
       "less_5_tx                   843\n",
       "less_10_tx                 1035\n",
       "interacted_other_ctbt       251\n",
       "seed_without_label          707\n",
       "same_seed_without_label     176\n",
       "dtype: int64"
      ]
     },
     "execution_count": 64,
     "metadata": {},
     "output_type": "execute_result"
    }
   ],
   "source": [
    "df_matching_address.sum()"
   ]
  },
  {
   "cell_type": "code",
   "execution_count": 65,
   "metadata": {},
   "outputs": [],
   "source": [
    "df_matching_reduced = df_matching_address.loc[:, ['seed_suspicious', 'less_5_tx', 'interacted_other_ctbt', 'same_seed_without_label']]"
   ]
  },
  {
   "cell_type": "code",
   "execution_count": 80,
   "metadata": {},
   "outputs": [
    {
     "name": "stdout",
     "output_type": "stream",
     "text": [
      "There are 1199 suspicious wallets out of 2463 wallets wich is a ratio of 49%.\n"
     ]
    }
   ],
   "source": [
    "suspicious_wallet_count = (df_matching_reduced.T.sum(axis=0) > 0).sum()\n",
    "total_wallet_count = df_matching_reduced.shape[0]\n",
    "print(f\"There are {suspicious_wallet_count} suspicious wallets out of {total_wallet_count} wallets wich is a ratio of {round(suspicious_wallet_count/total_wallet_count*100)}%.\")"
   ]
  },
  {
   "attachments": {},
   "cell_type": "markdown",
   "metadata": {},
   "source": [
    "#### Now lets look at the project that have many suspicious contributors."
   ]
  },
  {
   "attachments": {},
   "cell_type": "markdown",
   "metadata": {},
   "source": [
    "We first load all the votes and then filter for the climate round"
   ]
  },
  {
   "cell_type": "code",
   "execution_count": 85,
   "metadata": {},
   "outputs": [
    {
     "name": "stderr",
     "output_type": "stream",
     "text": [
      "C:\\Users\\DELL Admin\\AppData\\Local\\Temp\\ipykernel_8116\\2868675674.py:1: DtypeWarning: Columns (0,4,7,10,11) have mixed types. Specify dtype option on import or set low_memory=False.\n",
      "  df_contributions = pd.read_csv(os.path.join(path_to_grants, \"df_contribution_normalized.csv\"))\n"
     ]
    }
   ],
   "source": [
    "df_contributions = pd.read_csv(os.path.join(path_to_grants, \"df_contribution_normalized.csv\"))\n",
    "df_applications = pd.read_csv(os.path.join(path_to_grants, \"df_application_normalized.csv\"))"
   ]
  },
  {
   "cell_type": "code",
   "execution_count": 92,
   "metadata": {},
   "outputs": [],
   "source": [
    "df_ctbt_round = df_contributions.loc[df_contributions['project_round'] == gr_round,: ]"
   ]
  },
  {
   "cell_type": "code",
   "execution_count": 93,
   "metadata": {},
   "outputs": [
    {
     "data": {
      "text/plain": [
       "(8556, 12)"
      ]
     },
     "execution_count": 93,
     "metadata": {},
     "output_type": "execute_result"
    }
   ],
   "source": [
    "df_ctbt_round.shape"
   ]
  },
  {
   "cell_type": "code",
   "execution_count": 90,
   "metadata": {},
   "outputs": [
    {
     "data": {
      "text/plain": [
       "Index(['ctbt_id', 'ctbt_token', 'ctbt_amount', 'ctbt_address',\n",
       "       'project_address', 'ctbt_timestamp', 'project_round', 'checkout_type',\n",
       "       'ctbt_amount_in_usd', 'raw_amount_in_token', 'ctbt_tx_hash',\n",
       "       'ctbt_modified_on'],\n",
       "      dtype='object')"
      ]
     },
     "execution_count": 90,
     "metadata": {},
     "output_type": "execute_result"
    }
   ],
   "source": [
    "df_ctbt_round.columns"
   ]
  },
  {
   "cell_type": "code",
   "execution_count": 91,
   "metadata": {},
   "outputs": [
    {
     "data": {
      "text/plain": [
       "2464"
      ]
     },
     "execution_count": 91,
     "metadata": {},
     "output_type": "execute_result"
    }
   ],
   "source": [
    "df_ctbt_round.ctbt_address.nunique()"
   ]
  },
  {
   "cell_type": "code",
   "execution_count": 174,
   "metadata": {},
   "outputs": [
    {
     "data": {
      "text/plain": [
       "array(['CLIMATE'], dtype=object)"
      ]
     },
     "execution_count": 174,
     "metadata": {},
     "output_type": "execute_result"
    }
   ],
   "source": [
    "df_ctbt_round.project_round.unique()"
   ]
  },
  {
   "attachments": {},
   "cell_type": "markdown",
   "metadata": {},
   "source": [
    "Many contributors have contributed several times to the climate grants. This is a sign that they are many sybils."
   ]
  },
  {
   "cell_type": "code",
   "execution_count": 98,
   "metadata": {},
   "outputs": [
    {
     "data": {
      "text/plain": [
       "812"
      ]
     },
     "execution_count": 98,
     "metadata": {},
     "output_type": "execute_result"
    }
   ],
   "source": [
    "(df_ctbt_round.groupby('ctbt_address').ctbt_id.count() > 1).sum()"
   ]
  },
  {
   "cell_type": "code",
   "execution_count": 100,
   "metadata": {},
   "outputs": [
    {
     "data": {
      "text/plain": [
       "project_address                             ctbt_address                              \n",
       "0x14cb60f6aca2b2a68d975743bacb33f01f587da5  0x67f06a56dbab410d1e06dc75493a1a09fc788047    3\n",
       "0x48f2696fb6fab7ac0956175b2e25b456e61b3fcf  0x67f06a56dbab410d1e06dc75493a1a09fc788047    3\n",
       "0x0f7272f8873b68b2a2f52685311822d831afc8b4  0x67f06a56dbab410d1e06dc75493a1a09fc788047    3\n",
       "0x41dde2dc7f718d5f764fc97e8d122864587642d4  0x67f06a56dbab410d1e06dc75493a1a09fc788047    3\n",
       "0x8d860d4f254ed45946f5fb0e3243c1db63a4ea2f  0x719028736f10164c838ef129936779ed739312f2    2\n",
       "                                                                                         ..\n",
       "0x41dde2dc7f718d5f764fc97e8d122864587642d4  0x140063a309fa9cab5f50c55ffd4fae592177a263    1\n",
       "                                            0x12b71792cb33186111f1a973e31c22c92547beae    1\n",
       "                                            0x12358f3801e916d7df8d86d7be9e48559837f6a7    1\n",
       "                                            0x10c0613d50cf8cd8886a9f248ce13d41b1d90faf    1\n",
       "0xfe97e32a873aa2f926fbfc560abeef01f753c128  0xf30bc2d6b591a648dbfa73ad1bc05f6bf2eeb565    1\n",
       "Name: ctbt_id, Length: 8275, dtype: int64"
      ]
     },
     "execution_count": 100,
     "metadata": {},
     "output_type": "execute_result"
    }
   ],
   "source": [
    "df_ctbt_round.groupby(['project_address', 'ctbt_address']).ctbt_id.count().sort_values(ascending=False)"
   ]
  },
  {
   "cell_type": "code",
   "execution_count": 105,
   "metadata": {},
   "outputs": [],
   "source": [
    "gb_has_multi_ctbt_to_project = df_ctbt_round.groupby(['project_address', 'ctbt_address']).ctbt_id.count() > 1"
   ]
  },
  {
   "cell_type": "code",
   "execution_count": 109,
   "metadata": {},
   "outputs": [
    {
     "name": "stderr",
     "output_type": "stream",
     "text": [
      "C:\\Users\\DELL Admin\\AppData\\Local\\Temp\\ipykernel_8116\\1799691189.py:1: FutureWarning: The default value of numeric_only in DataFrameGroupBy.sum is deprecated. In a future version, numeric_only will default to False. Either specify numeric_only or select only columns which should be valid for the function.\n",
      "  has_multi_ctbt_to_project = gb_has_multi_ctbt_to_project.reset_index().groupby('ctbt_address').sum().sort_values(by='ctbt_id', ascending=False) > 0\n"
     ]
    }
   ],
   "source": [
    "has_multi_ctbt_to_project = gb_has_multi_ctbt_to_project.reset_index().groupby('ctbt_address').sum().sort_values(by='ctbt_id', ascending=False) > 0"
   ]
  },
  {
   "cell_type": "code",
   "execution_count": 113,
   "metadata": {},
   "outputs": [
    {
     "name": "stdout",
     "output_type": "stream",
     "text": [
      "69 out of 2464 wallets have contributed more than one time to a project.\n"
     ]
    }
   ],
   "source": [
    "print(f\"{has_multi_ctbt_to_project.sum().ctbt_id} out of {has_multi_ctbt_to_project.shape[0]} wallets have contributed more than one time to a project.\")"
   ]
  },
  {
   "cell_type": "code",
   "execution_count": 114,
   "metadata": {},
   "outputs": [],
   "source": [
    "df_matching_reduced[\"many_ctbt_to_project\"] = has_multi_ctbt_to_project"
   ]
  },
  {
   "cell_type": "code",
   "execution_count": 116,
   "metadata": {},
   "outputs": [
    {
     "data": {
      "text/html": [
       "<div>\n",
       "<style scoped>\n",
       "    .dataframe tbody tr th:only-of-type {\n",
       "        vertical-align: middle;\n",
       "    }\n",
       "\n",
       "    .dataframe tbody tr th {\n",
       "        vertical-align: top;\n",
       "    }\n",
       "\n",
       "    .dataframe thead th {\n",
       "        text-align: right;\n",
       "    }\n",
       "</style>\n",
       "<table border=\"1\" class=\"dataframe\">\n",
       "  <thead>\n",
       "    <tr style=\"text-align: right;\">\n",
       "      <th></th>\n",
       "      <th>seed_suspicious</th>\n",
       "      <th>less_5_tx</th>\n",
       "      <th>interacted_other_ctbt</th>\n",
       "      <th>same_seed_without_label</th>\n",
       "      <th>many_ctbt_to_project</th>\n",
       "    </tr>\n",
       "    <tr>\n",
       "      <th>address</th>\n",
       "      <th></th>\n",
       "      <th></th>\n",
       "      <th></th>\n",
       "      <th></th>\n",
       "      <th></th>\n",
       "    </tr>\n",
       "  </thead>\n",
       "  <tbody>\n",
       "    <tr>\n",
       "      <th>0x001f41de6f455d6df74a669c6b21b6dda1bae644</th>\n",
       "      <td>False</td>\n",
       "      <td>True</td>\n",
       "      <td>False</td>\n",
       "      <td>False</td>\n",
       "      <td>False</td>\n",
       "    </tr>\n",
       "    <tr>\n",
       "      <th>0x002153708f11f2651215059eea30820ee4d49ff3</th>\n",
       "      <td>False</td>\n",
       "      <td>False</td>\n",
       "      <td>False</td>\n",
       "      <td>False</td>\n",
       "      <td>False</td>\n",
       "    </tr>\n",
       "  </tbody>\n",
       "</table>\n",
       "</div>"
      ],
      "text/plain": [
       "                                            seed_suspicious  less_5_tx  \\\n",
       "address                                                                  \n",
       "0x001f41de6f455d6df74a669c6b21b6dda1bae644            False       True   \n",
       "0x002153708f11f2651215059eea30820ee4d49ff3            False      False   \n",
       "\n",
       "                                            interacted_other_ctbt  \\\n",
       "address                                                             \n",
       "0x001f41de6f455d6df74a669c6b21b6dda1bae644                  False   \n",
       "0x002153708f11f2651215059eea30820ee4d49ff3                  False   \n",
       "\n",
       "                                            same_seed_without_label  \\\n",
       "address                                                               \n",
       "0x001f41de6f455d6df74a669c6b21b6dda1bae644                    False   \n",
       "0x002153708f11f2651215059eea30820ee4d49ff3                    False   \n",
       "\n",
       "                                            many_ctbt_to_project  \n",
       "address                                                           \n",
       "0x001f41de6f455d6df74a669c6b21b6dda1bae644                 False  \n",
       "0x002153708f11f2651215059eea30820ee4d49ff3                 False  "
      ]
     },
     "execution_count": 116,
     "metadata": {},
     "output_type": "execute_result"
    }
   ],
   "source": [
    "df_matching_reduced.head(2)"
   ]
  },
  {
   "cell_type": "code",
   "execution_count": 124,
   "metadata": {},
   "outputs": [],
   "source": [
    "suspicious_address = df_matching_reduced[df_matching_reduced.sum(axis=1)>0].index.values"
   ]
  },
  {
   "attachments": {},
   "cell_type": "markdown",
   "metadata": {},
   "source": [
    "Which projects are the most impacted?"
   ]
  },
  {
   "cell_type": "code",
   "execution_count": 128,
   "metadata": {},
   "outputs": [
    {
     "data": {
      "text/plain": [
       "(8556, 12)"
      ]
     },
     "execution_count": 128,
     "metadata": {},
     "output_type": "execute_result"
    }
   ],
   "source": [
    "df_ctbt_round.shape"
   ]
  },
  {
   "cell_type": "code",
   "execution_count": 129,
   "metadata": {},
   "outputs": [],
   "source": [
    "df_suspicious_votes = df_ctbt_round[df_ctbt_round.apply(lambda x : x['ctbt_address'] in suspicious_address, axis=1)]"
   ]
  },
  {
   "cell_type": "code",
   "execution_count": 134,
   "metadata": {},
   "outputs": [
    {
     "data": {
      "text/plain": [
       "project_address\n",
       "0x8d860d4f254ed45946f5fb0e3243c1db63a4ea2f    163\n",
       "0x18aa467e40e1defb1956708830a343c1d01d3d7c    139\n",
       "0x1208a26faa0f4ac65b42098419eb4daa5e580ac6    137\n",
       "0x08a3c2a819e3de7aca384c798269b3ce1cd0e437    133\n",
       "0x99b36fdbc582d113af36a21eba06bfeab7b9be12    128\n",
       "                                             ... \n",
       "0x799b774204a348e1182fe01074c51444ba70a149      1\n",
       "0xe126b3e5d052f1f575828f61feba4f4f2603652a      1\n",
       "0x9cce47e9cf12c6147c9844adbb81fe85880c4df4      1\n",
       "0x7f06ac71366631157551d97559b82975c293fdba      1\n",
       "0x7bd7de26ebd064465bb9c272513bb3bcbddb1e93      1\n",
       "Name: ctbt_id, Length: 65, dtype: int64"
      ]
     },
     "execution_count": 134,
     "metadata": {},
     "output_type": "execute_result"
    }
   ],
   "source": [
    "df_suspicious_votes.groupby('project_address').ctbt_id.count().sort_values(ascending=False)"
   ]
  },
  {
   "cell_type": "code",
   "execution_count": 135,
   "metadata": {},
   "outputs": [],
   "source": [
    "import seaborn as sns"
   ]
  },
  {
   "attachments": {},
   "cell_type": "markdown",
   "metadata": {},
   "source": [
    "Histplot of the number of suspicious contributor per project"
   ]
  },
  {
   "cell_type": "code",
   "execution_count": 143,
   "metadata": {},
   "outputs": [
    {
     "data": {
      "text/plain": [
       "<AxesSubplot: xlabel='ctbt_id', ylabel='Count'>"
      ]
     },
     "execution_count": 143,
     "metadata": {},
     "output_type": "execute_result"
    },
    {
     "data": {
      "image/png": "[encoded data removed]",
      "text/plain": [
       "<Figure size 640x480 with 1 Axes>"
      ]
     },
     "metadata": {},
     "output_type": "display_data"
    }
   ],
   "source": [
    "sns.histplot(df_suspicious_votes.groupby('project_address').ctbt_id.count(), bins=17)"
   ]
  },
  {
   "attachments": {},
   "cell_type": "markdown",
   "metadata": {},
   "source": [
    "We must also look at the ratio of suspicious contributors"
   ]
  },
  {
   "cell_type": "code",
   "execution_count": 145,
   "metadata": {},
   "outputs": [
    {
     "data": {
      "text/plain": [
       "project_address\n",
       "0x01d79bceaeaadfb8fd2f2f53005289cfcf483464     85\n",
       "0x035a1f3419dd223293e5411133d9c786f5885425    200\n",
       "0x08a3c2a819e3de7aca384c798269b3ce1cd0e437    162\n",
       "0x0ea26051f7657d59418da186137141cea90d0652    177\n",
       "0x0f7272f8873b68b2a2f52685311822d831afc8b4    227\n",
       "                                             ... \n",
       "0xf64bbc221f89cc882fba507908bbe4ae3ad2f470    284\n",
       "0xfbca78474a09e2bf3543f4fc1037152ea2c6c32d    277\n",
       "0xfc148c92062ae30d788d48031b89b45237f27af7    144\n",
       "0xfd9f8a0f4bdeac72f08af1c708023cc31dd2e3be    123\n",
       "0xfe97e32a873aa2f926fbfc560abeef01f753c128     29\n",
       "Name: ctbt_id, Length: 66, dtype: int64"
      ]
     },
     "execution_count": 145,
     "metadata": {},
     "output_type": "execute_result"
    }
   ],
   "source": [
    "df_ctbt_round.groupby('project_address').ctbt_id.count()"
   ]
  },
  {
   "cell_type": "code",
   "execution_count": 146,
   "metadata": {},
   "outputs": [],
   "source": [
    "df_ctbt_round[\"suspicious_flag\"] = df_ctbt_round['ctbt_address'].apply(lambda x : x in suspicious_address)"
   ]
  },
  {
   "cell_type": "code",
   "execution_count": 154,
   "metadata": {},
   "outputs": [
    {
     "data": {
      "text/plain": [
       "project_address\n",
       "0x01d79bceaeaadfb8fd2f2f53005289cfcf483464     73\n",
       "0x035a1f3419dd223293e5411133d9c786f5885425     85\n",
       "0x08a3c2a819e3de7aca384c798269b3ce1cd0e437    133\n",
       "0x0ea26051f7657d59418da186137141cea90d0652     57\n",
       "0x0f7272f8873b68b2a2f52685311822d831afc8b4     93\n",
       "                                             ... \n",
       "0xf64bbc221f89cc882fba507908bbe4ae3ad2f470    107\n",
       "0xfbca78474a09e2bf3543f4fc1037152ea2c6c32d     78\n",
       "0xfc148c92062ae30d788d48031b89b45237f27af7     54\n",
       "0xfd9f8a0f4bdeac72f08af1c708023cc31dd2e3be     35\n",
       "0xfe97e32a873aa2f926fbfc560abeef01f753c128     25\n",
       "Name: suspicious_flag, Length: 66, dtype: int64"
      ]
     },
     "execution_count": 154,
     "metadata": {},
     "output_type": "execute_result"
    }
   ],
   "source": [
    "df_ctbt_round.groupby(['project_address']).suspicious_flag.sum()"
   ]
  },
  {
   "cell_type": "code",
   "execution_count": 183,
   "metadata": {},
   "outputs": [
    {
     "data": {
      "text/plain": [
       "array(['CLIMATE'], dtype=object)"
      ]
     },
     "execution_count": 183,
     "metadata": {},
     "output_type": "execute_result"
    }
   ],
   "source": [
    "df_ctbt_round.project_round.unique()"
   ]
  },
  {
   "cell_type": "code",
   "execution_count": 158,
   "metadata": {},
   "outputs": [],
   "source": [
    "ratio_suspicious_ctbt = df_ctbt_round.groupby(['project_address']).suspicious_flag.sum() / df_ctbt_round.groupby(['project_address']).ctbt_id.count()"
   ]
  },
  {
   "cell_type": "code",
   "execution_count": 159,
   "metadata": {},
   "outputs": [
    {
     "data": {
      "text/plain": [
       "project_address\n",
       "0xe126b3e5d052f1f575828f61feba4f4f2603652a    1.000000\n",
       "0x9cce47e9cf12c6147c9844adbb81fe85880c4df4    1.000000\n",
       "0x7f06ac71366631157551d97559b82975c293fdba    1.000000\n",
       "0x7bd7de26ebd064465bb9c272513bb3bcbddb1e93    1.000000\n",
       "0x799b774204a348e1182fe01074c51444ba70a149    1.000000\n",
       "                                                ...   \n",
       "0x81c776d0d7f7d9d3699851993ecaa88a46187f11    0.287234\n",
       "0xfd9f8a0f4bdeac72f08af1c708023cc31dd2e3be    0.284553\n",
       "0xfbca78474a09e2bf3543f4fc1037152ea2c6c32d    0.281588\n",
       "0x14cb60f6aca2b2a68d975743bacb33f01f587da5    0.278226\n",
       "0x283949d7c2ad3c8bca304df6aa5d9a2a78e02b77    0.000000\n",
       "Length: 66, dtype: float64"
      ]
     },
     "execution_count": 159,
     "metadata": {},
     "output_type": "execute_result"
    }
   ],
   "source": [
    "ratio_suspicious_ctbt.sort_values(ascending=False)"
   ]
  },
  {
   "cell_type": "code",
   "execution_count": 160,
   "metadata": {},
   "outputs": [
    {
     "data": {
      "text/plain": [
       "<AxesSubplot: ylabel='Count'>"
      ]
     },
     "execution_count": 160,
     "metadata": {},
     "output_type": "execute_result"
    },
    {
     "data": {
      "image/png": "[encoded data removed]",
      "text/plain": [
       "<Figure size 640x480 with 1 Axes>"
      ]
     },
     "metadata": {},
     "output_type": "display_data"
    }
   ],
   "source": [
    "sns.histplot(ratio_suspicious_ctbt, bins=17)"
   ]
  },
  {
   "attachments": {},
   "cell_type": "markdown",
   "metadata": {},
   "source": [
    "With a ratio of suspicious contributors above 0.7 the project should be investigated."
   ]
  },
  {
   "attachments": {},
   "cell_type": "markdown",
   "metadata": {},
   "source": [
    "Histogram with all contributions"
   ]
  },
  {
   "cell_type": "code",
   "execution_count": 155,
   "metadata": {},
   "outputs": [
    {
     "data": {
      "text/plain": [
       "<AxesSubplot: xlabel='suspicious_flag', ylabel='Count'>"
      ]
     },
     "execution_count": 155,
     "metadata": {},
     "output_type": "execute_result"
    },
    {
     "data": {
      "image/png": "[encoded data removed]",
      "text/plain": [
       "<Figure size 640x480 with 1 Axes>"
      ]
     },
     "metadata": {},
     "output_type": "display_data"
    }
   ],
   "source": [
    "sns.histplot(df_ctbt_round.groupby(['project_address']).suspicious_flag.sum(), bins=17)"
   ]
  },
  {
   "attachments": {},
   "cell_type": "markdown",
   "metadata": {},
   "source": [
    "Above 60 suspicious flag for a project the project is highly suspicious"
   ]
  },
  {
   "attachments": {},
   "cell_type": "markdown",
   "metadata": {},
   "source": [
    "## Retrieve suspicious project from climate grant"
   ]
  },
  {
   "cell_type": "code",
   "execution_count": 164,
   "metadata": {},
   "outputs": [],
   "source": [
    "suspicious_project_address = ratio_suspicious_ctbt[ratio_suspicious_ctbt > 0.7]"
   ]
  },
  {
   "cell_type": "code",
   "execution_count": 167,
   "metadata": {},
   "outputs": [
    {
     "name": "stdout",
     "output_type": "stream",
     "text": [
      "There are 15 very suspicious projects\n"
     ]
    }
   ],
   "source": [
    "print(f\"There are {suspicious_project_address.shape[0]} very suspicious projects\")"
   ]
  },
  {
   "cell_type": "code",
   "execution_count": 177,
   "metadata": {},
   "outputs": [],
   "source": [
    "suspicious_applications = df_applications.loc[df_applications['project_address'].isin(suspicious_project_address.index.values), :]"
   ]
  },
  {
   "cell_type": "code",
   "execution_count": 178,
   "metadata": {},
   "outputs": [
    {
     "data": {
      "text/html": [
       "<div>\n",
       "<style scoped>\n",
       "    .dataframe tbody tr th:only-of-type {\n",
       "        vertical-align: middle;\n",
       "    }\n",
       "\n",
       "    .dataframe tbody tr th {\n",
       "        vertical-align: top;\n",
       "    }\n",
       "\n",
       "    .dataframe thead th {\n",
       "        text-align: right;\n",
       "    }\n",
       "</style>\n",
       "<table border=\"1\" class=\"dataframe\">\n",
       "  <thead>\n",
       "    <tr style=\"text-align: right;\">\n",
       "      <th></th>\n",
       "      <th>grant_id</th>\n",
       "      <th>project_active_grant</th>\n",
       "      <th>project_approved</th>\n",
       "      <th>project_address</th>\n",
       "      <th>project_title</th>\n",
       "      <th>project_website</th>\n",
       "      <th>project_decription</th>\n",
       "      <th>project_created_at</th>\n",
       "      <th>project_round</th>\n",
       "      <th>project_long_id</th>\n",
       "      <th>...</th>\n",
       "      <th>project_funding_source</th>\n",
       "      <th>project_team_size</th>\n",
       "      <th>live_on_other_chains</th>\n",
       "      <th>project_value</th>\n",
       "      <th>project_improvements_to_existing</th>\n",
       "      <th>project_github_twitter_credential</th>\n",
       "      <th>project_github_org_link</th>\n",
       "      <th>project_amount_received</th>\n",
       "      <th>project_contributor_count</th>\n",
       "      <th>project_contribution_count</th>\n",
       "    </tr>\n",
       "  </thead>\n",
       "  <tbody>\n",
       "    <tr>\n",
       "      <th>819</th>\n",
       "      <td>0x30b826002362b50fbcc7ee9ccd0515e4ab91c14141d3...</td>\n",
       "      <td>NaN</td>\n",
       "      <td>NaN</td>\n",
       "      <td>0x08a3c2a819e3de7aca384c798269b3ce1cd0e437</td>\n",
       "      <td>DefiLlama</td>\n",
       "      <td>https://defillama.com/</td>\n",
       "      <td>Open and transparent DeFi TVL and analytics. F...</td>\n",
       "      <td>2022-11-18 19:46:02</td>\n",
       "      <td>FANTOM</td>\n",
       "      <td>0x30b826002362b50fbcc7ee9ccd0515e4ab91c14141d3...</td>\n",
       "      <td>...</td>\n",
       "      <td>Previously received funding from Gitcoin Grant...</td>\n",
       "      <td>13</td>\n",
       "      <td>Yes, DefiLlama tracks almost all chains and Ll...</td>\n",
       "      <td>We track DeFi metrics for fantom projects, suc...</td>\n",
       "      <td>NaN</td>\n",
       "      <td>NaN</td>\n",
       "      <td>NaN</td>\n",
       "      <td>15454.296579</td>\n",
       "      <td>10064.0</td>\n",
       "      <td>11904.0</td>\n",
       "    </tr>\n",
       "    <tr>\n",
       "      <th>821</th>\n",
       "      <td>0x37ad3db0b0bc56cea1909e6a6f21fd35453ef27f1d9a...</td>\n",
       "      <td>NaN</td>\n",
       "      <td>NaN</td>\n",
       "      <td>0xe126b3e5d052f1f575828f61feba4f4f2603652a</td>\n",
       "      <td>Revoke.cash - Helping you stay safe in web3</td>\n",
       "      <td>https://revoke.cash</td>\n",
       "      <td>Hey all, we're building free and open source t...</td>\n",
       "      <td>2022-12-01 22:26:19</td>\n",
       "      <td>FANTOM</td>\n",
       "      <td>0x37ad3db0b0bc56cea1909e6a6f21fd35453ef27f1d9a...</td>\n",
       "      <td>...</td>\n",
       "      <td>Gitcoin Grants</td>\n",
       "      <td>1</td>\n",
       "      <td>Yes, Revoke.cash supports 30+ chains, and the ...</td>\n",
       "      <td>As a DeFi ecosystem grows more funds will be a...</td>\n",
       "      <td>NaN</td>\n",
       "      <td>NaN</td>\n",
       "      <td>NaN</td>\n",
       "      <td>7404.270070</td>\n",
       "      <td>7842.0</td>\n",
       "      <td>8636.0</td>\n",
       "    </tr>\n",
       "    <tr>\n",
       "      <th>985</th>\n",
       "      <td>0x429927c3a14cbe156749adb31371f385749150ac3604...</td>\n",
       "      <td>NaN</td>\n",
       "      <td>NaN</td>\n",
       "      <td>0x7f06ac71366631157551d97559b82975c293fdba</td>\n",
       "      <td>Ethereum on ARM</td>\n",
       "      <td>https://ethereum-on-arm-documentation.readthed...</td>\n",
       "      <td>Help us to build a &lt;$400 PnP Ethereum full/arc...</td>\n",
       "      <td>2023-01-11 13:26:23</td>\n",
       "      <td>ETHEREUM</td>\n",
       "      <td>0x429927c3a14cbe156749adb31371f385749150ac3604...</td>\n",
       "      <td>...</td>\n",
       "      <td>Gitcoin Grants, EF and QF rounds</td>\n",
       "      <td>2</td>\n",
       "      <td>NaN</td>\n",
       "      <td>NaN</td>\n",
       "      <td>NaN</td>\n",
       "      <td>Yes</td>\n",
       "      <td>NaN</td>\n",
       "      <td>751.312258</td>\n",
       "      <td>411.0</td>\n",
       "      <td>420.0</td>\n",
       "    </tr>\n",
       "    <tr>\n",
       "      <th>986</th>\n",
       "      <td>0x46de99c3a4e0542fde6d77bfa1ff6d19e107f253ea52...</td>\n",
       "      <td>NaN</td>\n",
       "      <td>NaN</td>\n",
       "      <td>0x08a3c2a819e3de7aca384c798269b3ce1cd0e437</td>\n",
       "      <td>Chainlist</td>\n",
       "      <td>https://chainlist.org/</td>\n",
       "      <td>We track all RPCs available for all chains, mo...</td>\n",
       "      <td>2023-01-15 23:49:35</td>\n",
       "      <td>ETHEREUM</td>\n",
       "      <td>0x46de99c3a4e0542fde6d77bfa1ff6d19e107f253ea52...</td>\n",
       "      <td>...</td>\n",
       "      <td>Donations + self-funding</td>\n",
       "      <td>2</td>\n",
       "      <td>NaN</td>\n",
       "      <td>NaN</td>\n",
       "      <td>NaN</td>\n",
       "      <td>Yes</td>\n",
       "      <td>NaN</td>\n",
       "      <td>15454.296579</td>\n",
       "      <td>10064.0</td>\n",
       "      <td>11904.0</td>\n",
       "    </tr>\n",
       "    <tr>\n",
       "      <th>996</th>\n",
       "      <td>0x99b81016d61f8b9115282b1055649d4876f386197590...</td>\n",
       "      <td>NaN</td>\n",
       "      <td>NaN</td>\n",
       "      <td>0x9cce47e9cf12c6147c9844adbb81fe85880c4df4</td>\n",
       "      <td>NiceNode: Run a node — just press start</td>\n",
       "      <td>https://nicenode.xyz</td>\n",
       "      <td>\\nThe current options to run a node require te...</td>\n",
       "      <td>2023-01-10 20:25:23</td>\n",
       "      <td>ETHEREUM</td>\n",
       "      <td>0x99b81016d61f8b9115282b1055649d4876f386197590...</td>\n",
       "      <td>...</td>\n",
       "      <td>Gitcoin, CityDAO, EF ESP program</td>\n",
       "      <td>3</td>\n",
       "      <td>NaN</td>\n",
       "      <td>NaN</td>\n",
       "      <td>NaN</td>\n",
       "      <td>yes for Twitter, working on Github (was an error)</td>\n",
       "      <td>NaN</td>\n",
       "      <td>627.757908</td>\n",
       "      <td>433.0</td>\n",
       "      <td>436.0</td>\n",
       "    </tr>\n",
       "    <tr>\n",
       "      <th>1006</th>\n",
       "      <td>0xfce9d62f9a833d6f7185f0051701d5a9e64c83d1daca...</td>\n",
       "      <td>NaN</td>\n",
       "      <td>NaN</td>\n",
       "      <td>0x08a3c2a819e3de7aca384c798269b3ce1cd0e437</td>\n",
       "      <td>DefiLlama APIs</td>\n",
       "      <td>https://defillama.com</td>\n",
       "      <td>DefiLlama provides multiple APIs for free that...</td>\n",
       "      <td>2023-01-14 22:00:59</td>\n",
       "      <td>ETHEREUM</td>\n",
       "      <td>0xfce9d62f9a833d6f7185f0051701d5a9e64c83d1daca...</td>\n",
       "      <td>...</td>\n",
       "      <td>Donations + self-funding</td>\n",
       "      <td>11 full time people + 2 interns</td>\n",
       "      <td>NaN</td>\n",
       "      <td>NaN</td>\n",
       "      <td>NaN</td>\n",
       "      <td>Yes</td>\n",
       "      <td>NaN</td>\n",
       "      <td>15454.296579</td>\n",
       "      <td>10064.0</td>\n",
       "      <td>11904.0</td>\n",
       "    </tr>\n",
       "    <tr>\n",
       "      <th>1011</th>\n",
       "      <td>0x0f1d31d427400106f3d2958225dd235ae60b6a7572fb...</td>\n",
       "      <td>NaN</td>\n",
       "      <td>NaN</td>\n",
       "      <td>0x01d79bceaeaadfb8fd2f2f53005289cfcf483464</td>\n",
       "      <td>Lenstube</td>\n",
       "      <td>https://lenstube.xyz</td>\n",
       "      <td>Decentralized video-sharing social media platf...</td>\n",
       "      <td>2023-01-12 06:50:23</td>\n",
       "      <td>OSS</td>\n",
       "      <td>0x0f1d31d427400106f3d2958225dd235ae60b6a7572fb...</td>\n",
       "      <td>...</td>\n",
       "      <td>Nil</td>\n",
       "      <td>1</td>\n",
       "      <td>NaN</td>\n",
       "      <td>NaN</td>\n",
       "      <td>NaN</td>\n",
       "      <td>Yes</td>\n",
       "      <td>User Account - sasicodes, Organization Account...</td>\n",
       "      <td>3560.551441</td>\n",
       "      <td>3035.0</td>\n",
       "      <td>3121.0</td>\n",
       "    </tr>\n",
       "    <tr>\n",
       "      <th>1021</th>\n",
       "      <td>0x20632d089357836c07c38ae6a8b50449fa86c9eef6fd...</td>\n",
       "      <td>NaN</td>\n",
       "      <td>NaN</td>\n",
       "      <td>0x7bd7de26ebd064465bb9c272513bb3bcbddb1e93</td>\n",
       "      <td>White Hat DAO</td>\n",
       "      <td>https://whitehatdao.com</td>\n",
       "      <td>Safety and security should be at the heart of ...</td>\n",
       "      <td>2023-01-08 21:15:59</td>\n",
       "      <td>OSS</td>\n",
       "      <td>0x20632d089357836c07c38ae6a8b50449fa86c9eef6fd...</td>\n",
       "      <td>...</td>\n",
       "      <td>Grants + raising funds through smart contract ...</td>\n",
       "      <td>19</td>\n",
       "      <td>NaN</td>\n",
       "      <td>NaN</td>\n",
       "      <td>NaN</td>\n",
       "      <td>Yes</td>\n",
       "      <td>https://github.com/WhiteHatDAO</td>\n",
       "      <td>164.848446</td>\n",
       "      <td>157.0</td>\n",
       "      <td>160.0</td>\n",
       "    </tr>\n",
       "    <tr>\n",
       "      <th>1029</th>\n",
       "      <td>0x3e4b3f7089aa5cb6614b67e235624d01364febe41841...</td>\n",
       "      <td>NaN</td>\n",
       "      <td>NaN</td>\n",
       "      <td>0x1208a26faa0f4ac65b42098419eb4daa5e580ac6</td>\n",
       "      <td>Optinames | ENS on Optimism</td>\n",
       "      <td>https://optinames.eth.limo</td>\n",
       "      <td>What are Optinames?\\n\\nOptinames are tradable ...</td>\n",
       "      <td>2023-01-15 10:04:47</td>\n",
       "      <td>OSS</td>\n",
       "      <td>0x3e4b3f7089aa5cb6614b67e235624d01364febe41841...</td>\n",
       "      <td>...</td>\n",
       "      <td>Gitcoin Grants</td>\n",
       "      <td>2</td>\n",
       "      <td>NaN</td>\n",
       "      <td>NaN</td>\n",
       "      <td>NaN</td>\n",
       "      <td>Yes</td>\n",
       "      <td>https://github.com/stevegachau</td>\n",
       "      <td>1918.848550</td>\n",
       "      <td>1628.0</td>\n",
       "      <td>1664.0</td>\n",
       "    </tr>\n",
       "    <tr>\n",
       "      <th>1032</th>\n",
       "      <td>0x43b94c544e8ac90c535752b8624e730820a5a752b361...</td>\n",
       "      <td>NaN</td>\n",
       "      <td>NaN</td>\n",
       "      <td>0x799b774204a348e1182fe01074c51444ba70a149</td>\n",
       "      <td>0xDeadList</td>\n",
       "      <td>https://0xdeadlist.io</td>\n",
       "      <td>Inspiration\\nWhen we say that an Ethereum acco...</td>\n",
       "      <td>2023-01-08 07:38:23</td>\n",
       "      <td>OSS</td>\n",
       "      <td>0x43b94c544e8ac90c535752b8624e730820a5a752b361...</td>\n",
       "      <td>...</td>\n",
       "      <td>None</td>\n",
       "      <td>5</td>\n",
       "      <td>NaN</td>\n",
       "      <td>NaN</td>\n",
       "      <td>NaN</td>\n",
       "      <td>Yes</td>\n",
       "      <td>https://github.com/colinlyguo</td>\n",
       "      <td>116.124192</td>\n",
       "      <td>106.0</td>\n",
       "      <td>109.0</td>\n",
       "    </tr>\n",
       "    <tr>\n",
       "      <th>1033</th>\n",
       "      <td>0x46ddc886ac23d5bc2cbc96cd2aa990627bcd98c881a9...</td>\n",
       "      <td>NaN</td>\n",
       "      <td>NaN</td>\n",
       "      <td>0x08a3c2a819e3de7aca384c798269b3ce1cd0e437</td>\n",
       "      <td>DefiLlama</td>\n",
       "      <td>https://defillama.com/</td>\n",
       "      <td>Open and transparent DeFi TVL and analytics</td>\n",
       "      <td>2023-01-14 21:38:23</td>\n",
       "      <td>OSS</td>\n",
       "      <td>0x46ddc886ac23d5bc2cbc96cd2aa990627bcd98c881a9...</td>\n",
       "      <td>...</td>\n",
       "      <td>Donations + self-funding</td>\n",
       "      <td>11 full time people + 2 interns</td>\n",
       "      <td>NaN</td>\n",
       "      <td>NaN</td>\n",
       "      <td>NaN</td>\n",
       "      <td>Yes</td>\n",
       "      <td>org account: https://github.com/DefiLlama, my ...</td>\n",
       "      <td>15454.296579</td>\n",
       "      <td>10064.0</td>\n",
       "      <td>11904.0</td>\n",
       "    </tr>\n",
       "    <tr>\n",
       "      <th>1047</th>\n",
       "      <td>0x60c037f9dfa5daee0f07bc26fb73393ef924e36c73c4...</td>\n",
       "      <td>NaN</td>\n",
       "      <td>NaN</td>\n",
       "      <td>0x18aa467e40e1defb1956708830a343c1d01d3d7c</td>\n",
       "      <td>JediSwap</td>\n",
       "      <td>https://jediswap.xyz</td>\n",
       "      <td>Note: Donations for this grant are for develop...</td>\n",
       "      <td>2023-01-17 07:47:47</td>\n",
       "      <td>OSS</td>\n",
       "      <td>0x60c037f9dfa5daee0f07bc26fb73393ef924e36c73c4...</td>\n",
       "      <td>...</td>\n",
       "      <td>Gitcoin grant mainly. No external funding. Mes...</td>\n",
       "      <td>300+ contributors (dev + non dev)</td>\n",
       "      <td>NaN</td>\n",
       "      <td>NaN</td>\n",
       "      <td>NaN</td>\n",
       "      <td>Yes</td>\n",
       "      <td>https://github.com/jediswapintern, https://git...</td>\n",
       "      <td>5370.176026</td>\n",
       "      <td>4163.0</td>\n",
       "      <td>4270.0</td>\n",
       "    </tr>\n",
       "    <tr>\n",
       "      <th>1050</th>\n",
       "      <td>0x67583b52562147ffe4d7b9c4422c6109d0d18a596c25...</td>\n",
       "      <td>NaN</td>\n",
       "      <td>NaN</td>\n",
       "      <td>0x9d100f017095e53b24d81296bca1d26742f1800f</td>\n",
       "      <td>StarkDeFi</td>\n",
       "      <td>https://www.starkdefi.com</td>\n",
       "      <td>StarkDeFi is a suite of decentralized financia...</td>\n",
       "      <td>2023-01-09 20:47:11</td>\n",
       "      <td>OSS</td>\n",
       "      <td>0x67583b52562147ffe4d7b9c4422c6109d0d18a596c25...</td>\n",
       "      <td>...</td>\n",
       "      <td>GR15</td>\n",
       "      <td>4</td>\n",
       "      <td>NaN</td>\n",
       "      <td>NaN</td>\n",
       "      <td>NaN</td>\n",
       "      <td>YES</td>\n",
       "      <td>https://github.com/Starkdefi/StarkDefi-contracts</td>\n",
       "      <td>4493.664469</td>\n",
       "      <td>3636.0</td>\n",
       "      <td>3729.0</td>\n",
       "    </tr>\n",
       "    <tr>\n",
       "      <th>1062</th>\n",
       "      <td>0x8029c7cda58d70a6cd81ac56a6a678e8ccfb560f153e...</td>\n",
       "      <td>NaN</td>\n",
       "      <td>NaN</td>\n",
       "      <td>0xfe97e32a873aa2f926fbfc560abeef01f753c128</td>\n",
       "      <td>Soul Wallet</td>\n",
       "      <td>https://soulwallets.me</td>\n",
       "      <td>Next-gen Ethereum wallet for everyone.</td>\n",
       "      <td>2023-01-13 21:10:35</td>\n",
       "      <td>OSS</td>\n",
       "      <td>0x8029c7cda58d70a6cd81ac56a6a678e8ccfb560f153e...</td>\n",
       "      <td>...</td>\n",
       "      <td>Ethereum community and VCs</td>\n",
       "      <td>10</td>\n",
       "      <td>NaN</td>\n",
       "      <td>NaN</td>\n",
       "      <td>NaN</td>\n",
       "      <td>yes</td>\n",
       "      <td>https://github.com/proofofsoulprotocol/soul-wa...</td>\n",
       "      <td>629.748810</td>\n",
       "      <td>708.0</td>\n",
       "      <td>717.0</td>\n",
       "    </tr>\n",
       "    <tr>\n",
       "      <th>1069</th>\n",
       "      <td>0x91db8779fa1b15d75761e358fe57683892c68d5cad11...</td>\n",
       "      <td>NaN</td>\n",
       "      <td>NaN</td>\n",
       "      <td>0x2af4125c8fe208a349ef78d3cb980308ab1ed34f</td>\n",
       "      <td>Proof of Humanity</td>\n",
       "      <td>https://proofofhumanity.eth.limo</td>\n",
       "      <td>Sybil-resistant registry of Humans using socia...</td>\n",
       "      <td>2023-01-16 18:01:47</td>\n",
       "      <td>OSS</td>\n",
       "      <td>0x91db8779fa1b15d75761e358fe57683892c68d5cad11...</td>\n",
       "      <td>...</td>\n",
       "      <td>Non profits</td>\n",
       "      <td>10</td>\n",
       "      <td>NaN</td>\n",
       "      <td>NaN</td>\n",
       "      <td>NaN</td>\n",
       "      <td>Didnt work</td>\n",
       "      <td>Democracy Earth Foundation</td>\n",
       "      <td>1723.308271</td>\n",
       "      <td>1737.0</td>\n",
       "      <td>1775.0</td>\n",
       "    </tr>\n",
       "    <tr>\n",
       "      <th>1078</th>\n",
       "      <td>0x9fb5b0d0698dc64cbd3a01c5205ebc5ef609e7d20c21...</td>\n",
       "      <td>NaN</td>\n",
       "      <td>NaN</td>\n",
       "      <td>0x57ea12a3a8e441f5fe7b1f3af1121097b7d3b6a8</td>\n",
       "      <td>Umbra</td>\n",
       "      <td>https://app.umbra.cash</td>\n",
       "      <td>Umbra is a protocol that lets you get paid pri...</td>\n",
       "      <td>2023-01-12 18:59:11</td>\n",
       "      <td>OSS</td>\n",
       "      <td>0x9fb5b0d0698dc64cbd3a01c5205ebc5ef609e7d20c21...</td>\n",
       "      <td>...</td>\n",
       "      <td>Grants</td>\n",
       "      <td>6</td>\n",
       "      <td>NaN</td>\n",
       "      <td>NaN</td>\n",
       "      <td>NaN</td>\n",
       "      <td>Yes</td>\n",
       "      <td>https://github.com/apbendi, https://github.com...</td>\n",
       "      <td>1503.918455</td>\n",
       "      <td>1228.0</td>\n",
       "      <td>1259.0</td>\n",
       "    </tr>\n",
       "    <tr>\n",
       "      <th>1090</th>\n",
       "      <td>0xafb022ea11846bceb90516c35155defd6404e4948697...</td>\n",
       "      <td>NaN</td>\n",
       "      <td>NaN</td>\n",
       "      <td>0x99b36fdbc582d113af36a21eba06bfeab7b9be12</td>\n",
       "      <td>Tally Ho! - Open Source and Community Owned Wa...</td>\n",
       "      <td>https://tallyho.org</td>\n",
       "      <td>Help fund the development of the first open so...</td>\n",
       "      <td>2023-01-13 19:20:59</td>\n",
       "      <td>OSS</td>\n",
       "      <td>0xafb022ea11846bceb90516c35155defd6404e4948697...</td>\n",
       "      <td>...</td>\n",
       "      <td>Thesis is funding the development currently</td>\n",
       "      <td>15</td>\n",
       "      <td>NaN</td>\n",
       "      <td>NaN</td>\n",
       "      <td>NaN</td>\n",
       "      <td>Yes</td>\n",
       "      <td>https://github.com/tallyhowallet</td>\n",
       "      <td>6610.313733</td>\n",
       "      <td>3658.0</td>\n",
       "      <td>3749.0</td>\n",
       "    </tr>\n",
       "    <tr>\n",
       "      <th>1101</th>\n",
       "      <td>0xbe519f8c8f7ff2acb359dd757c5d2bf25b05d9fd29b8...</td>\n",
       "      <td>NaN</td>\n",
       "      <td>NaN</td>\n",
       "      <td>0x3a5bd1e37b099ae3386d13947b6a90d97675e5e3</td>\n",
       "      <td>Lenster</td>\n",
       "      <td>https://lenster.xyz</td>\n",
       "      <td>Lenster is a decentralized and permissionless ...</td>\n",
       "      <td>2023-01-07 07:15:23</td>\n",
       "      <td>OSS</td>\n",
       "      <td>0xbe519f8c8f7ff2acb359dd757c5d2bf25b05d9fd29b8...</td>\n",
       "      <td>...</td>\n",
       "      <td>Ethereum, Polygon, zkSync</td>\n",
       "      <td>1</td>\n",
       "      <td>NaN</td>\n",
       "      <td>NaN</td>\n",
       "      <td>NaN</td>\n",
       "      <td>yes</td>\n",
       "      <td>https://github.com/bigint, https://github.com/...</td>\n",
       "      <td>8058.569967</td>\n",
       "      <td>5075.0</td>\n",
       "      <td>5222.0</td>\n",
       "    </tr>\n",
       "    <tr>\n",
       "      <th>1124</th>\n",
       "      <td>0xe797fdf65ab6db40d29cb7144e8715799a91c9a2f8a7...</td>\n",
       "      <td>NaN</td>\n",
       "      <td>NaN</td>\n",
       "      <td>0x1208a26faa0f4ac65b42098419eb4daa5e580ac6</td>\n",
       "      <td>MintBot | Polygon NFT Minter + ENS SubDomains ...</td>\n",
       "      <td>https://mintbot.io</td>\n",
       "      <td>Mintbot started out as a service that allows E...</td>\n",
       "      <td>2023-01-10 12:47:47</td>\n",
       "      <td>OSS</td>\n",
       "      <td>0xe797fdf65ab6db40d29cb7144e8715799a91c9a2f8a7...</td>\n",
       "      <td>...</td>\n",
       "      <td>Gitcoin Grants</td>\n",
       "      <td>2</td>\n",
       "      <td>NaN</td>\n",
       "      <td>NaN</td>\n",
       "      <td>NaN</td>\n",
       "      <td>Yes</td>\n",
       "      <td>https://github.com/stevegachau</td>\n",
       "      <td>1918.848550</td>\n",
       "      <td>1628.0</td>\n",
       "      <td>1664.0</td>\n",
       "    </tr>\n",
       "    <tr>\n",
       "      <th>1126</th>\n",
       "      <td>0xf05829c76e3da92a8942378240ab4dc70c8c509f558e...</td>\n",
       "      <td>NaN</td>\n",
       "      <td>NaN</td>\n",
       "      <td>0xe126b3e5d052f1f575828f61feba4f4f2603652a</td>\n",
       "      <td>Revoke.cash - Helping you stay safe in web3</td>\n",
       "      <td>https://revoke.cash</td>\n",
       "      <td>Hey all, we're building free and open source t...</td>\n",
       "      <td>2023-01-17 05:07:47</td>\n",
       "      <td>OSS</td>\n",
       "      <td>0xf05829c76e3da92a8942378240ab4dc70c8c509f558e...</td>\n",
       "      <td>...</td>\n",
       "      <td>Gitcoin Grants</td>\n",
       "      <td>1</td>\n",
       "      <td>NaN</td>\n",
       "      <td>NaN</td>\n",
       "      <td>NaN</td>\n",
       "      <td>Yes</td>\n",
       "      <td>https://github.com/rkalis, https://github.com/...</td>\n",
       "      <td>7404.270070</td>\n",
       "      <td>7842.0</td>\n",
       "      <td>8636.0</td>\n",
       "    </tr>\n",
       "  </tbody>\n",
       "</table>\n",
       "<p>20 rows × 28 columns</p>\n",
       "</div>"
      ],
      "text/plain": [
       "                                               grant_id project_active_grant  \\\n",
       "819   0x30b826002362b50fbcc7ee9ccd0515e4ab91c14141d3...                  NaN   \n",
       "821   0x37ad3db0b0bc56cea1909e6a6f21fd35453ef27f1d9a...                  NaN   \n",
       "985   0x429927c3a14cbe156749adb31371f385749150ac3604...                  NaN   \n",
       "986   0x46de99c3a4e0542fde6d77bfa1ff6d19e107f253ea52...                  NaN   \n",
       "996   0x99b81016d61f8b9115282b1055649d4876f386197590...                  NaN   \n",
       "1006  0xfce9d62f9a833d6f7185f0051701d5a9e64c83d1daca...                  NaN   \n",
       "1011  0x0f1d31d427400106f3d2958225dd235ae60b6a7572fb...                  NaN   \n",
       "1021  0x20632d089357836c07c38ae6a8b50449fa86c9eef6fd...                  NaN   \n",
       "1029  0x3e4b3f7089aa5cb6614b67e235624d01364febe41841...                  NaN   \n",
       "1032  0x43b94c544e8ac90c535752b8624e730820a5a752b361...                  NaN   \n",
       "1033  0x46ddc886ac23d5bc2cbc96cd2aa990627bcd98c881a9...                  NaN   \n",
       "1047  0x60c037f9dfa5daee0f07bc26fb73393ef924e36c73c4...                  NaN   \n",
       "1050  0x67583b52562147ffe4d7b9c4422c6109d0d18a596c25...                  NaN   \n",
       "1062  0x8029c7cda58d70a6cd81ac56a6a678e8ccfb560f153e...                  NaN   \n",
       "1069  0x91db8779fa1b15d75761e358fe57683892c68d5cad11...                  NaN   \n",
       "1078  0x9fb5b0d0698dc64cbd3a01c5205ebc5ef609e7d20c21...                  NaN   \n",
       "1090  0xafb022ea11846bceb90516c35155defd6404e4948697...                  NaN   \n",
       "1101  0xbe519f8c8f7ff2acb359dd757c5d2bf25b05d9fd29b8...                  NaN   \n",
       "1124  0xe797fdf65ab6db40d29cb7144e8715799a91c9a2f8a7...                  NaN   \n",
       "1126  0xf05829c76e3da92a8942378240ab4dc70c8c509f558e...                  NaN   \n",
       "\n",
       "     project_approved                             project_address  \\\n",
       "819               NaN  0x08a3c2a819e3de7aca384c798269b3ce1cd0e437   \n",
       "821               NaN  0xe126b3e5d052f1f575828f61feba4f4f2603652a   \n",
       "985               NaN  0x7f06ac71366631157551d97559b82975c293fdba   \n",
       "986               NaN  0x08a3c2a819e3de7aca384c798269b3ce1cd0e437   \n",
       "996               NaN  0x9cce47e9cf12c6147c9844adbb81fe85880c4df4   \n",
       "1006              NaN  0x08a3c2a819e3de7aca384c798269b3ce1cd0e437   \n",
       "1011              NaN  0x01d79bceaeaadfb8fd2f2f53005289cfcf483464   \n",
       "1021              NaN  0x7bd7de26ebd064465bb9c272513bb3bcbddb1e93   \n",
       "1029              NaN  0x1208a26faa0f4ac65b42098419eb4daa5e580ac6   \n",
       "1032              NaN  0x799b774204a348e1182fe01074c51444ba70a149   \n",
       "1033              NaN  0x08a3c2a819e3de7aca384c798269b3ce1cd0e437   \n",
       "1047              NaN  0x18aa467e40e1defb1956708830a343c1d01d3d7c   \n",
       "1050              NaN  0x9d100f017095e53b24d81296bca1d26742f1800f   \n",
       "1062              NaN  0xfe97e32a873aa2f926fbfc560abeef01f753c128   \n",
       "1069              NaN  0x2af4125c8fe208a349ef78d3cb980308ab1ed34f   \n",
       "1078              NaN  0x57ea12a3a8e441f5fe7b1f3af1121097b7d3b6a8   \n",
       "1090              NaN  0x99b36fdbc582d113af36a21eba06bfeab7b9be12   \n",
       "1101              NaN  0x3a5bd1e37b099ae3386d13947b6a90d97675e5e3   \n",
       "1124              NaN  0x1208a26faa0f4ac65b42098419eb4daa5e580ac6   \n",
       "1126              NaN  0xe126b3e5d052f1f575828f61feba4f4f2603652a   \n",
       "\n",
       "                                          project_title  \\\n",
       "819                                           DefiLlama   \n",
       "821         Revoke.cash - Helping you stay safe in web3   \n",
       "985                                     Ethereum on ARM   \n",
       "986                                           Chainlist   \n",
       "996             NiceNode: Run a node — just press start   \n",
       "1006                                     DefiLlama APIs   \n",
       "1011                                           Lenstube   \n",
       "1021                                      White Hat DAO   \n",
       "1029                        Optinames | ENS on Optimism   \n",
       "1032                                         0xDeadList   \n",
       "1033                                          DefiLlama   \n",
       "1047                                           JediSwap   \n",
       "1050                                          StarkDeFi   \n",
       "1062                                        Soul Wallet   \n",
       "1069                                  Proof of Humanity   \n",
       "1078                                              Umbra   \n",
       "1090  Tally Ho! - Open Source and Community Owned Wa...   \n",
       "1101                                            Lenster   \n",
       "1124  MintBot | Polygon NFT Minter + ENS SubDomains ...   \n",
       "1126        Revoke.cash - Helping you stay safe in web3   \n",
       "\n",
       "                                        project_website  \\\n",
       "819                              https://defillama.com/   \n",
       "821                                 https://revoke.cash   \n",
       "985   https://ethereum-on-arm-documentation.readthed...   \n",
       "986                              https://chainlist.org/   \n",
       "996                                https://nicenode.xyz   \n",
       "1006                              https://defillama.com   \n",
       "1011                               https://lenstube.xyz   \n",
       "1021                            https://whitehatdao.com   \n",
       "1029                         https://optinames.eth.limo   \n",
       "1032                              https://0xdeadlist.io   \n",
       "1033                             https://defillama.com/   \n",
       "1047                               https://jediswap.xyz   \n",
       "1050                          https://www.starkdefi.com   \n",
       "1062                             https://soulwallets.me   \n",
       "1069                   https://proofofhumanity.eth.limo   \n",
       "1078                             https://app.umbra.cash   \n",
       "1090                                https://tallyho.org   \n",
       "1101                                https://lenster.xyz   \n",
       "1124                                 https://mintbot.io   \n",
       "1126                                https://revoke.cash   \n",
       "\n",
       "                                     project_decription   project_created_at  \\\n",
       "819   Open and transparent DeFi TVL and analytics. F...  2022-11-18 19:46:02   \n",
       "821   Hey all, we're building free and open source t...  2022-12-01 22:26:19   \n",
       "985   Help us to build a <$400 PnP Ethereum full/arc...  2023-01-11 13:26:23   \n",
       "986   We track all RPCs available for all chains, mo...  2023-01-15 23:49:35   \n",
       "996   \\nThe current options to run a node require te...  2023-01-10 20:25:23   \n",
       "1006  DefiLlama provides multiple APIs for free that...  2023-01-14 22:00:59   \n",
       "1011  Decentralized video-sharing social media platf...  2023-01-12 06:50:23   \n",
       "1021  Safety and security should be at the heart of ...  2023-01-08 21:15:59   \n",
       "1029  What are Optinames?\\n\\nOptinames are tradable ...  2023-01-15 10:04:47   \n",
       "1032  Inspiration\\nWhen we say that an Ethereum acco...  2023-01-08 07:38:23   \n",
       "1033        Open and transparent DeFi TVL and analytics  2023-01-14 21:38:23   \n",
       "1047  Note: Donations for this grant are for develop...  2023-01-17 07:47:47   \n",
       "1050  StarkDeFi is a suite of decentralized financia...  2023-01-09 20:47:11   \n",
       "1062             Next-gen Ethereum wallet for everyone.  2023-01-13 21:10:35   \n",
       "1069  Sybil-resistant registry of Humans using socia...  2023-01-16 18:01:47   \n",
       "1078  Umbra is a protocol that lets you get paid pri...  2023-01-12 18:59:11   \n",
       "1090  Help fund the development of the first open so...  2023-01-13 19:20:59   \n",
       "1101  Lenster is a decentralized and permissionless ...  2023-01-07 07:15:23   \n",
       "1124  Mintbot started out as a service that allows E...  2023-01-10 12:47:47   \n",
       "1126  Hey all, we're building free and open source t...  2023-01-17 05:07:47   \n",
       "\n",
       "     project_round                                    project_long_id  ...  \\\n",
       "819         FANTOM  0x30b826002362b50fbcc7ee9ccd0515e4ab91c14141d3...  ...   \n",
       "821         FANTOM  0x37ad3db0b0bc56cea1909e6a6f21fd35453ef27f1d9a...  ...   \n",
       "985       ETHEREUM  0x429927c3a14cbe156749adb31371f385749150ac3604...  ...   \n",
       "986       ETHEREUM  0x46de99c3a4e0542fde6d77bfa1ff6d19e107f253ea52...  ...   \n",
       "996       ETHEREUM  0x99b81016d61f8b9115282b1055649d4876f386197590...  ...   \n",
       "1006      ETHEREUM  0xfce9d62f9a833d6f7185f0051701d5a9e64c83d1daca...  ...   \n",
       "1011           OSS  0x0f1d31d427400106f3d2958225dd235ae60b6a7572fb...  ...   \n",
       "1021           OSS  0x20632d089357836c07c38ae6a8b50449fa86c9eef6fd...  ...   \n",
       "1029           OSS  0x3e4b3f7089aa5cb6614b67e235624d01364febe41841...  ...   \n",
       "1032           OSS  0x43b94c544e8ac90c535752b8624e730820a5a752b361...  ...   \n",
       "1033           OSS  0x46ddc886ac23d5bc2cbc96cd2aa990627bcd98c881a9...  ...   \n",
       "1047           OSS  0x60c037f9dfa5daee0f07bc26fb73393ef924e36c73c4...  ...   \n",
       "1050           OSS  0x67583b52562147ffe4d7b9c4422c6109d0d18a596c25...  ...   \n",
       "1062           OSS  0x8029c7cda58d70a6cd81ac56a6a678e8ccfb560f153e...  ...   \n",
       "1069           OSS  0x91db8779fa1b15d75761e358fe57683892c68d5cad11...  ...   \n",
       "1078           OSS  0x9fb5b0d0698dc64cbd3a01c5205ebc5ef609e7d20c21...  ...   \n",
       "1090           OSS  0xafb022ea11846bceb90516c35155defd6404e4948697...  ...   \n",
       "1101           OSS  0xbe519f8c8f7ff2acb359dd757c5d2bf25b05d9fd29b8...  ...   \n",
       "1124           OSS  0xe797fdf65ab6db40d29cb7144e8715799a91c9a2f8a7...  ...   \n",
       "1126           OSS  0xf05829c76e3da92a8942378240ab4dc70c8c509f558e...  ...   \n",
       "\n",
       "                                 project_funding_source  \\\n",
       "819   Previously received funding from Gitcoin Grant...   \n",
       "821                                      Gitcoin Grants   \n",
       "985                    Gitcoin Grants, EF and QF rounds   \n",
       "986                            Donations + self-funding   \n",
       "996                    Gitcoin, CityDAO, EF ESP program   \n",
       "1006                           Donations + self-funding   \n",
       "1011                                                Nil   \n",
       "1021  Grants + raising funds through smart contract ...   \n",
       "1029                                     Gitcoin Grants   \n",
       "1032                                               None   \n",
       "1033                           Donations + self-funding   \n",
       "1047  Gitcoin grant mainly. No external funding. Mes...   \n",
       "1050                                               GR15   \n",
       "1062                         Ethereum community and VCs   \n",
       "1069                                        Non profits   \n",
       "1078                                             Grants   \n",
       "1090        Thesis is funding the development currently   \n",
       "1101                          Ethereum, Polygon, zkSync   \n",
       "1124                                     Gitcoin Grants   \n",
       "1126                                     Gitcoin Grants   \n",
       "\n",
       "                      project_team_size  \\\n",
       "819                                  13   \n",
       "821                                   1   \n",
       "985                                   2   \n",
       "986                                   2   \n",
       "996                                   3   \n",
       "1006    11 full time people + 2 interns   \n",
       "1011                                  1   \n",
       "1021                                 19   \n",
       "1029                                  2   \n",
       "1032                                  5   \n",
       "1033    11 full time people + 2 interns   \n",
       "1047  300+ contributors (dev + non dev)   \n",
       "1050                                  4   \n",
       "1062                                 10   \n",
       "1069                                 10   \n",
       "1078                                  6   \n",
       "1090                                 15   \n",
       "1101                                  1   \n",
       "1124                                  2   \n",
       "1126                                  1   \n",
       "\n",
       "                                   live_on_other_chains  \\\n",
       "819   Yes, DefiLlama tracks almost all chains and Ll...   \n",
       "821   Yes, Revoke.cash supports 30+ chains, and the ...   \n",
       "985                                                 NaN   \n",
       "986                                                 NaN   \n",
       "996                                                 NaN   \n",
       "1006                                                NaN   \n",
       "1011                                                NaN   \n",
       "1021                                                NaN   \n",
       "1029                                                NaN   \n",
       "1032                                                NaN   \n",
       "1033                                                NaN   \n",
       "1047                                                NaN   \n",
       "1050                                                NaN   \n",
       "1062                                                NaN   \n",
       "1069                                                NaN   \n",
       "1078                                                NaN   \n",
       "1090                                                NaN   \n",
       "1101                                                NaN   \n",
       "1124                                                NaN   \n",
       "1126                                                NaN   \n",
       "\n",
       "                                          project_value  \\\n",
       "819   We track DeFi metrics for fantom projects, suc...   \n",
       "821   As a DeFi ecosystem grows more funds will be a...   \n",
       "985                                                 NaN   \n",
       "986                                                 NaN   \n",
       "996                                                 NaN   \n",
       "1006                                                NaN   \n",
       "1011                                                NaN   \n",
       "1021                                                NaN   \n",
       "1029                                                NaN   \n",
       "1032                                                NaN   \n",
       "1033                                                NaN   \n",
       "1047                                                NaN   \n",
       "1050                                                NaN   \n",
       "1062                                                NaN   \n",
       "1069                                                NaN   \n",
       "1078                                                NaN   \n",
       "1090                                                NaN   \n",
       "1101                                                NaN   \n",
       "1124                                                NaN   \n",
       "1126                                                NaN   \n",
       "\n",
       "     project_improvements_to_existing  \\\n",
       "819                               NaN   \n",
       "821                               NaN   \n",
       "985                               NaN   \n",
       "986                               NaN   \n",
       "996                               NaN   \n",
       "1006                              NaN   \n",
       "1011                              NaN   \n",
       "1021                              NaN   \n",
       "1029                              NaN   \n",
       "1032                              NaN   \n",
       "1033                              NaN   \n",
       "1047                              NaN   \n",
       "1050                              NaN   \n",
       "1062                              NaN   \n",
       "1069                              NaN   \n",
       "1078                              NaN   \n",
       "1090                              NaN   \n",
       "1101                              NaN   \n",
       "1124                              NaN   \n",
       "1126                              NaN   \n",
       "\n",
       "                      project_github_twitter_credential  \\\n",
       "819                                                 NaN   \n",
       "821                                                 NaN   \n",
       "985                                                 Yes   \n",
       "986                                                 Yes   \n",
       "996   yes for Twitter, working on Github (was an error)   \n",
       "1006                                                Yes   \n",
       "1011                                                Yes   \n",
       "1021                                                Yes   \n",
       "1029                                                Yes   \n",
       "1032                                                Yes   \n",
       "1033                                                Yes   \n",
       "1047                                                Yes   \n",
       "1050                                                YES   \n",
       "1062                                                yes   \n",
       "1069                                         Didnt work   \n",
       "1078                                                Yes   \n",
       "1090                                                Yes   \n",
       "1101                                                yes   \n",
       "1124                                                Yes   \n",
       "1126                                                Yes   \n",
       "\n",
       "                                project_github_org_link  \\\n",
       "819                                                 NaN   \n",
       "821                                                 NaN   \n",
       "985                                                 NaN   \n",
       "986                                                 NaN   \n",
       "996                                                 NaN   \n",
       "1006                                                NaN   \n",
       "1011  User Account - sasicodes, Organization Account...   \n",
       "1021                     https://github.com/WhiteHatDAO   \n",
       "1029                     https://github.com/stevegachau   \n",
       "1032                      https://github.com/colinlyguo   \n",
       "1033  org account: https://github.com/DefiLlama, my ...   \n",
       "1047  https://github.com/jediswapintern, https://git...   \n",
       "1050   https://github.com/Starkdefi/StarkDefi-contracts   \n",
       "1062  https://github.com/proofofsoulprotocol/soul-wa...   \n",
       "1069                         Democracy Earth Foundation   \n",
       "1078  https://github.com/apbendi, https://github.com...   \n",
       "1090                   https://github.com/tallyhowallet   \n",
       "1101  https://github.com/bigint, https://github.com/...   \n",
       "1124                     https://github.com/stevegachau   \n",
       "1126  https://github.com/rkalis, https://github.com/...   \n",
       "\n",
       "     project_amount_received project_contributor_count  \\\n",
       "819             15454.296579                   10064.0   \n",
       "821              7404.270070                    7842.0   \n",
       "985               751.312258                     411.0   \n",
       "986             15454.296579                   10064.0   \n",
       "996               627.757908                     433.0   \n",
       "1006            15454.296579                   10064.0   \n",
       "1011             3560.551441                    3035.0   \n",
       "1021              164.848446                     157.0   \n",
       "1029             1918.848550                    1628.0   \n",
       "1032              116.124192                     106.0   \n",
       "1033            15454.296579                   10064.0   \n",
       "1047             5370.176026                    4163.0   \n",
       "1050             4493.664469                    3636.0   \n",
       "1062              629.748810                     708.0   \n",
       "1069             1723.308271                    1737.0   \n",
       "1078             1503.918455                    1228.0   \n",
       "1090             6610.313733                    3658.0   \n",
       "1101             8058.569967                    5075.0   \n",
       "1124             1918.848550                    1628.0   \n",
       "1126             7404.270070                    7842.0   \n",
       "\n",
       "     project_contribution_count  \n",
       "819                     11904.0  \n",
       "821                      8636.0  \n",
       "985                       420.0  \n",
       "986                     11904.0  \n",
       "996                       436.0  \n",
       "1006                    11904.0  \n",
       "1011                     3121.0  \n",
       "1021                      160.0  \n",
       "1029                     1664.0  \n",
       "1032                      109.0  \n",
       "1033                    11904.0  \n",
       "1047                     4270.0  \n",
       "1050                     3729.0  \n",
       "1062                      717.0  \n",
       "1069                     1775.0  \n",
       "1078                     1259.0  \n",
       "1090                     3749.0  \n",
       "1101                     5222.0  \n",
       "1124                     1664.0  \n",
       "1126                     8636.0  \n",
       "\n",
       "[20 rows x 28 columns]"
      ]
     },
     "execution_count": 178,
     "metadata": {},
     "output_type": "execute_result"
    }
   ],
   "source": [
    "suspicious_applications"
   ]
  },
  {
   "attachments": {},
   "cell_type": "markdown",
   "metadata": {},
   "source": [
    "Some projects appears several times because they may have contributed to several grants. and are recorded with the same project_address, yet they where registered with different project_id."
   ]
  },
  {
   "cell_type": "code",
   "execution_count": 179,
   "metadata": {},
   "outputs": [
    {
     "data": {
      "text/plain": [
       "array(['FANTOM', 'ETHEREUM', 'OSS'], dtype=object)"
      ]
     },
     "execution_count": 179,
     "metadata": {},
     "output_type": "execute_result"
    }
   ],
   "source": [
    "suspicious_applications.project_round.unique()"
   ]
  },
  {
   "attachments": {},
   "cell_type": "markdown",
   "metadata": {},
   "source": [
    "I think there is a bug somwhere because the project_address should be from the climate round."
   ]
  },
  {
   "attachments": {},
   "cell_type": "markdown",
   "metadata": {},
   "source": [
    "# Conclusion\n",
    "This notebook shows that applying some on chain analysis we can flag addresses and then cross the results with the application data to find projects with a very high ratio of suspicious contributors."
   ]
  }
 ],
 "metadata": {
  "kernelspec": {
   "display_name": "vexplorer",
   "language": "python",
   "name": "python3"
  },
  "language_info": {
   "codemirror_mode": {
    "name": "ipython",
    "version": 3
   },
   "file_extension": ".py",
   "mimetype": "text/x-python",
   "name": "python",
   "nbconvert_exporter": "python",
   "pygments_lexer": "ipython3",
   "version": "3.10.9"
  },
  "orig_nbformat": 4,
  "vscode": {
   "interpreter": {
    "hash": "e792627dd21444965ca9182d5837ded3009247ff5b5e7771c662170caaff759a"
   }
  }
 },
 "nbformat": 4,
 "nbformat_minor": 2
}
