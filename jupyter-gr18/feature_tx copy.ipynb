{
 "cells": [
  {
   "cell_type": "code",
   "execution_count": 223,
   "metadata": {},
   "outputs": [],
   "source": [
    "import os \n",
    "from pathlib import Path\n",
    "\n",
    "import pandas as pd\n",
    "import numpy as np\n"
   ]
  },
  {
   "cell_type": "code",
   "execution_count": 224,
   "metadata": {},
   "outputs": [],
   "source": [
    "from sbscorer.sblegos.TransactionAnalyser import TransactionAnalyser as txa"
   ]
  },
  {
   "cell_type": "code",
   "execution_count": 225,
   "metadata": {},
   "outputs": [],
   "source": [
    "FOLDER_NAME = 'gr18'\n",
    "CHAIN = 'optimism'\n",
    "extract_all = True\n",
    "\n",
    "# Set path to data folder\n",
    "current_dir = Path(os.getcwd())\n",
    "PATH_TO_EXPORT = os.path.join(current_dir.parent.parent, 'tx_data', FOLDER_NAME)\n",
    "PATH_TO_GR18 = os.path.join(current_dir.parent.parent, FOLDER_NAME)\n",
    "voter_tx_file_name = 'gg18_votes.csv'\n",
    "passport_file_name = 'gg18_voter_passports.csv'\n",
    "\n",
    "tx_file_name = 'gr_18_optimism_all_tx.csv'"
   ]
  },
  {
   "cell_type": "code",
   "execution_count": 226,
   "metadata": {},
   "outputs": [
    {
     "name": "stderr",
     "output_type": "stream",
     "text": [
      "C:\\Users\\DELL Admin\\AppData\\Local\\Temp\\ipykernel_1516\\1560736169.py:1: DtypeWarning: Columns (9) have mixed types. Specify dtype option on import or set low_memory=False.\n",
      "  votes = pd.read_csv(os.path.join(PATH_TO_GR18, voter_tx_file_name))\n"
     ]
    }
   ],
   "source": [
    "votes = pd.read_csv(os.path.join(PATH_TO_GR18, voter_tx_file_name))\n",
    "passports = pd.read_csv(os.path.join(PATH_TO_GR18, passport_file_name))"
   ]
  },
  {
   "cell_type": "code",
   "execution_count": 227,
   "metadata": {},
   "outputs": [
    {
     "data": {
      "text/plain": [
       "array(['Climate Round', 'Web3 Open Source Software',\n",
       "       'Web3 Community and Education ',\n",
       "       'Global Chinese Community for Public Goods - GR18', 'Web3 Social',\n",
       "       'Zuzalu Continuous Innovation', 'Meta Pool LatAm GG18',\n",
       "       'ReFi DAO Local Node ', 'Token Engineering',\n",
       "       'Ethereum Infrastructure', 'Arbitrum Domain Round'], dtype=object)"
      ]
     },
     "execution_count": 227,
     "metadata": {},
     "output_type": "execute_result"
    }
   ],
   "source": [
    "round_names = votes['round_name'].unique()\n",
    "round_names"
   ]
  },
  {
   "cell_type": "code",
   "execution_count": 228,
   "metadata": {},
   "outputs": [
    {
     "data": {
      "text/html": [
       "<div>\n",
       "<style scoped>\n",
       "    .dataframe tbody tr th:only-of-type {\n",
       "        vertical-align: middle;\n",
       "    }\n",
       "\n",
       "    .dataframe tbody tr th {\n",
       "        vertical-align: top;\n",
       "    }\n",
       "\n",
       "    .dataframe thead th {\n",
       "        text-align: right;\n",
       "    }\n",
       "</style>\n",
       "<table border=\"1\" class=\"dataframe\">\n",
       "  <thead>\n",
       "    <tr style=\"text-align: right;\">\n",
       "      <th></th>\n",
       "      <th>tx_hash</th>\n",
       "      <th>block_timestamp</th>\n",
       "      <th>from_address</th>\n",
       "      <th>to_address</th>\n",
       "      <th>gas_limit</th>\n",
       "      <th>gas_used</th>\n",
       "      <th>tx_fee</th>\n",
       "      <th>eth_value</th>\n",
       "      <th>__row_index</th>\n",
       "    </tr>\n",
       "  </thead>\n",
       "  <tbody>\n",
       "    <tr>\n",
       "      <th>0</th>\n",
       "      <td>0x863c5b543d29b329891fdec341845a73c2525e6dc212...</td>\n",
       "      <td>2023-08-24T20:22:03.000Z</td>\n",
       "      <td>0xf4af0314a06ea7376da5bdecc33f6f9800f1ae28</td>\n",
       "      <td>0x7f5c764cbc14f9669b88837ca1490cca17c31607</td>\n",
       "      <td>53067</td>\n",
       "      <td>53067</td>\n",
       "      <td>0.000029</td>\n",
       "      <td>0.000000</td>\n",
       "      <td>0</td>\n",
       "    </tr>\n",
       "    <tr>\n",
       "      <th>1</th>\n",
       "      <td>0xfdffb6eb77e72ca9f54297ebcc7644ea55db521f64c7...</td>\n",
       "      <td>2023-08-24T22:05:41.000Z</td>\n",
       "      <td>0x87dbffd0ed90b2252856faf753437a7bc9fcfa7b</td>\n",
       "      <td>0xb009b5707e6e0dc9830a1262de37f055972e6480</td>\n",
       "      <td>219895</td>\n",
       "      <td>139765</td>\n",
       "      <td>0.000058</td>\n",
       "      <td>0.000777</td>\n",
       "      <td>1</td>\n",
       "    </tr>\n",
       "    <tr>\n",
       "      <th>2</th>\n",
       "      <td>0x7b416f625fd29c2da17a7ad35b1c6dc7e0cf5b548249...</td>\n",
       "      <td>2023-08-24T16:10:17.000Z</td>\n",
       "      <td>0x532c1fc2940ec38d5c5e7fc8b8aa4aaddcaa17d3</td>\n",
       "      <td>0x46ce3b08bdef4461fb444d3746fd97f0af11dccf</td>\n",
       "      <td>731592</td>\n",
       "      <td>467423</td>\n",
       "      <td>0.000093</td>\n",
       "      <td>0.000000</td>\n",
       "      <td>2</td>\n",
       "    </tr>\n",
       "    <tr>\n",
       "      <th>3</th>\n",
       "      <td>0xbed4ce09f5f5c4d7aac7e310dfce11d94bf86f7da6d5...</td>\n",
       "      <td>2023-08-24T16:09:33.000Z</td>\n",
       "      <td>0x0596c217a79ea00e5dafc43778138ea61fd67ee2</td>\n",
       "      <td>0x2e42f214467f647fe687fd9a2bf3baddfa737465</td>\n",
       "      <td>119625</td>\n",
       "      <td>119625</td>\n",
       "      <td>0.000087</td>\n",
       "      <td>0.000000</td>\n",
       "      <td>3</td>\n",
       "    </tr>\n",
       "    <tr>\n",
       "      <th>4</th>\n",
       "      <td>0xb60502458c8de31606b84e0aed102ac83629726d8734...</td>\n",
       "      <td>2023-08-24T22:08:15.000Z</td>\n",
       "      <td>0xc1991c8bda29507991eeb230ff2063c2ea74a34c</td>\n",
       "      <td>0xa062ae8a9c5e11aaa026fc2670b0d65ccc8b2858</td>\n",
       "      <td>246899</td>\n",
       "      <td>229592</td>\n",
       "      <td>0.000070</td>\n",
       "      <td>0.000000</td>\n",
       "      <td>4</td>\n",
       "    </tr>\n",
       "  </tbody>\n",
       "</table>\n",
       "</div>"
      ],
      "text/plain": [
       "                                             tx_hash   \n",
       "0  0x863c5b543d29b329891fdec341845a73c2525e6dc212...  \\\n",
       "1  0xfdffb6eb77e72ca9f54297ebcc7644ea55db521f64c7...   \n",
       "2  0x7b416f625fd29c2da17a7ad35b1c6dc7e0cf5b548249...   \n",
       "3  0xbed4ce09f5f5c4d7aac7e310dfce11d94bf86f7da6d5...   \n",
       "4  0xb60502458c8de31606b84e0aed102ac83629726d8734...   \n",
       "\n",
       "            block_timestamp                                from_address   \n",
       "0  2023-08-24T20:22:03.000Z  0xf4af0314a06ea7376da5bdecc33f6f9800f1ae28  \\\n",
       "1  2023-08-24T22:05:41.000Z  0x87dbffd0ed90b2252856faf753437a7bc9fcfa7b   \n",
       "2  2023-08-24T16:10:17.000Z  0x532c1fc2940ec38d5c5e7fc8b8aa4aaddcaa17d3   \n",
       "3  2023-08-24T16:09:33.000Z  0x0596c217a79ea00e5dafc43778138ea61fd67ee2   \n",
       "4  2023-08-24T22:08:15.000Z  0xc1991c8bda29507991eeb230ff2063c2ea74a34c   \n",
       "\n",
       "                                   to_address  gas_limit  gas_used    tx_fee   \n",
       "0  0x7f5c764cbc14f9669b88837ca1490cca17c31607      53067     53067  0.000029  \\\n",
       "1  0xb009b5707e6e0dc9830a1262de37f055972e6480     219895    139765  0.000058   \n",
       "2  0x46ce3b08bdef4461fb444d3746fd97f0af11dccf     731592    467423  0.000093   \n",
       "3  0x2e42f214467f647fe687fd9a2bf3baddfa737465     119625    119625  0.000087   \n",
       "4  0xa062ae8a9c5e11aaa026fc2670b0d65ccc8b2858     246899    229592  0.000070   \n",
       "\n",
       "   eth_value  __row_index  \n",
       "0   0.000000            0  \n",
       "1   0.000777            1  \n",
       "2   0.000000            2  \n",
       "3   0.000000            3  \n",
       "4   0.000000            4  "
      ]
     },
     "execution_count": 228,
     "metadata": {},
     "output_type": "execute_result"
    }
   ],
   "source": [
    "# Load tx data\n",
    "df_tx = pd.read_csv(os.path.join(PATH_TO_EXPORT, tx_file_name))\n",
    "df_tx.head()"
   ]
  },
  {
   "cell_type": "code",
   "execution_count": 229,
   "metadata": {},
   "outputs": [],
   "source": [
    "df_tx.drop(columns=['__row_index'], inplace=True)"
   ]
  },
  {
   "cell_type": "code",
   "execution_count": 230,
   "metadata": {},
   "outputs": [],
   "source": [
    "# Choose round name to compute features\n",
    "round_name = round_names[0]"
   ]
  },
  {
   "cell_type": "code",
   "execution_count": 231,
   "metadata": {},
   "outputs": [],
   "source": [
    "CONTRACT_CREATION_AD_NAME = '0x_contract_creation'"
   ]
  },
  {
   "cell_type": "code",
   "execution_count": 232,
   "metadata": {},
   "outputs": [],
   "source": [
    "df_tx.loc[df_tx['to_address'].isna(), 'to_address'] = CONTRACT_CREATION_AD_NAME"
   ]
  },
  {
   "cell_type": "code",
   "execution_count": 233,
   "metadata": {},
   "outputs": [
    {
     "data": {
      "text/plain": [
       "tx_hash            0\n",
       "block_timestamp    0\n",
       "from_address       0\n",
       "to_address         0\n",
       "gas_limit          0\n",
       "gas_used           0\n",
       "tx_fee             0\n",
       "eth_value          0\n",
       "dtype: int64"
      ]
     },
     "execution_count": 233,
     "metadata": {},
     "output_type": "execute_result"
    }
   ],
   "source": [
    "df_tx.isna().sum()"
   ]
  },
  {
   "cell_type": "code",
   "execution_count": 234,
   "metadata": {},
   "outputs": [
    {
     "data": {
      "text/plain": [
       "(6894506, 8)"
      ]
     },
     "execution_count": 234,
     "metadata": {},
     "output_type": "execute_result"
    }
   ],
   "source": [
    "df_tx.shape"
   ]
  },
  {
   "cell_type": "code",
   "execution_count": 235,
   "metadata": {},
   "outputs": [],
   "source": [
    "votes_round = votes.loc[votes['round_name'] == round_name, :].copy()"
   ]
  },
  {
   "cell_type": "code",
   "execution_count": 236,
   "metadata": {},
   "outputs": [
    {
     "name": "stdout",
     "output_type": "stream",
     "text": [
      "Number of voters in round Climate Round: 5610\n"
     ]
    }
   ],
   "source": [
    "round_voters = votes_round['voter'].unique()\n",
    "print(f'Number of voters in round {round_name}: {len(round_voters)}')"
   ]
  },
  {
   "cell_type": "code",
   "execution_count": 237,
   "metadata": {},
   "outputs": [],
   "source": [
    "df_tx_EOA_FROM = df_tx.copy()\n",
    "df_tx_EOA_FROM['EOA'] = df_tx_EOA_FROM['from_address']"
   ]
  },
  {
   "cell_type": "code",
   "execution_count": 238,
   "metadata": {},
   "outputs": [],
   "source": [
    "df_tx_EOA_TO = df_tx.copy()\n",
    "df_tx_EOA_TO['EOA'] = df_tx_EOA_TO['to_address']"
   ]
  },
  {
   "cell_type": "code",
   "execution_count": 239,
   "metadata": {},
   "outputs": [
    {
     "data": {
      "text/plain": [
       "array(['0x7c52D1870423A266f6b0626fBC20EcA148D0300B',\n",
       "       '0x8073639B11994C549eDa58fC3cd7132a72aaDF10',\n",
       "       '0xCe462C13F461DEEB3Ec2dAaDd5e7d5F90Bb8F0b2', ...,\n",
       "       '0x0e746F622F5211eA6b3798f12C18897968323EE2',\n",
       "       '0xc37e705f34801896121B2Da24327332Cb7DC2CA7',\n",
       "       '0xCd20986CB96B6a602427379F62deFd5Adef6153B'], dtype=object)"
      ]
     },
     "execution_count": 239,
     "metadata": {},
     "output_type": "execute_result"
    }
   ],
   "source": [
    "round_voters"
   ]
  },
  {
   "cell_type": "code",
   "execution_count": 240,
   "metadata": {},
   "outputs": [],
   "source": [
    "df_tx_eoa = pd.concat([df_tx_EOA_FROM, df_tx_EOA_TO])"
   ]
  },
  {
   "cell_type": "code",
   "execution_count": 241,
   "metadata": {},
   "outputs": [
    {
     "data": {
      "text/plain": [
       "(13789012, 9)"
      ]
     },
     "execution_count": 241,
     "metadata": {},
     "output_type": "execute_result"
    }
   ],
   "source": [
    "df_tx_eoa.shape"
   ]
  },
  {
   "cell_type": "code",
   "execution_count": 242,
   "metadata": {},
   "outputs": [],
   "source": [
    "df_tx_eoa = df_tx_eoa.loc[df_tx_eoa['EOA'] != CONTRACT_CREATION_AD_NAME, :]"
   ]
  },
  {
   "cell_type": "code",
   "execution_count": 243,
   "metadata": {},
   "outputs": [
    {
     "data": {
      "text/plain": [
       "(13787932, 9)"
      ]
     },
     "execution_count": 243,
     "metadata": {},
     "output_type": "execute_result"
    }
   ],
   "source": [
    "df_tx_eoa.shape"
   ]
  },
  {
   "cell_type": "code",
   "execution_count": 244,
   "metadata": {},
   "outputs": [],
   "source": [
    "lowercase_converter = np.vectorize(str.lower)\n",
    "round_voters = lowercase_converter(round_voters)"
   ]
  },
  {
   "cell_type": "code",
   "execution_count": 245,
   "metadata": {},
   "outputs": [],
   "source": [
    "tx_analyser = txa(df_tx_eoa, round_voters)"
   ]
  },
  {
   "cell_type": "code",
   "execution_count": 251,
   "metadata": {},
   "outputs": [
    {
     "data": {
      "text/plain": [
       "892332"
      ]
     },
     "execution_count": 251,
     "metadata": {},
     "output_type": "execute_result"
    }
   ],
   "source": [
    "len(tx_analyser.df_transactions)"
   ]
  },
  {
   "cell_type": "code",
   "execution_count": 247,
   "metadata": {},
   "outputs": [
    {
     "data": {
      "text/plain": [
       "5610"
      ]
     },
     "execution_count": 247,
     "metadata": {},
     "output_type": "execute_result"
    }
   ],
   "source": [
    "len(tx_analyser.array_address)"
   ]
  },
  {
   "cell_type": "code",
   "execution_count": 248,
   "metadata": {},
   "outputs": [
    {
     "data": {
      "text/plain": [
       "5610"
      ]
     },
     "execution_count": 248,
     "metadata": {},
     "output_type": "execute_result"
    }
   ],
   "source": [
    "len(round_voters)"
   ]
  },
  {
   "cell_type": "code",
   "execution_count": 249,
   "metadata": {},
   "outputs": [
    {
     "name": "stdout",
     "output_type": "stream",
     "text": [
      "0\n"
     ]
    },
    {
     "data": {
      "text/plain": [
       "array([], dtype='<U42')"
      ]
     },
     "execution_count": 249,
     "metadata": {},
     "output_type": "execute_result"
    }
   ],
   "source": [
    "diff = np.setdiff1d(round_voters, tx_analyser.array_address)\n",
    "print(len(diff))\n",
    "diff"
   ]
  },
  {
   "cell_type": "code",
   "execution_count": 250,
   "metadata": {},
   "outputs": [
    {
     "ename": "NameError",
     "evalue": "name 'brea' is not defined",
     "output_type": "error",
     "traceback": [
      "\u001b[1;31m---------------------------------------------------------------------------\u001b[0m",
      "\u001b[1;31mNameError\u001b[0m                                 Traceback (most recent call last)",
      "Cell \u001b[1;32mIn[250], line 1\u001b[0m\n\u001b[1;32m----> 1\u001b[0m brea\n",
      "\u001b[1;31mNameError\u001b[0m: name 'brea' is not defined"
     ]
    }
   ],
   "source": [
    "brea"
   ]
  },
  {
   "cell_type": "code",
   "execution_count": null,
   "metadata": {},
   "outputs": [],
   "source": [
    "df_features = tx_analyser.get_df_features()"
   ]
  },
  {
   "cell_type": "code",
   "execution_count": null,
   "metadata": {},
   "outputs": [
    {
     "data": {
      "text/plain": [
       "(610, 19)"
      ]
     },
     "execution_count": 178,
     "metadata": {},
     "output_type": "execute_result"
    }
   ],
   "source": [
    "df_features.shape"
   ]
  },
  {
   "cell_type": "code",
   "execution_count": null,
   "metadata": {},
   "outputs": [
    {
     "data": {
      "text/html": [
       "<div>\n",
       "<style scoped>\n",
       "    .dataframe tbody tr th:only-of-type {\n",
       "        vertical-align: middle;\n",
       "    }\n",
       "\n",
       "    .dataframe tbody tr th {\n",
       "        vertical-align: top;\n",
       "    }\n",
       "\n",
       "    .dataframe thead th {\n",
       "        text-align: right;\n",
       "    }\n",
       "</style>\n",
       "<table border=\"1\" class=\"dataframe\">\n",
       "  <thead>\n",
       "    <tr style=\"text-align: right;\">\n",
       "      <th></th>\n",
       "      <th>EOA</th>\n",
       "      <th>count_tx</th>\n",
       "      <th>less_10_tx</th>\n",
       "      <th>count_same_seed</th>\n",
       "      <th>count_same_seed_naive</th>\n",
       "      <th>same_seed</th>\n",
       "      <th>same_seed_naive</th>\n",
       "      <th>seed_suspicious</th>\n",
       "      <th>count_interact_other_ctbt</th>\n",
       "      <th>first_in_tx_from</th>\n",
       "      <th>first_in_tx_gas_limit</th>\n",
       "      <th>first_in_tx_gas_used</th>\n",
       "      <th>first_in_tx_eth_value</th>\n",
       "      <th>first_in_tx_timestamp</th>\n",
       "      <th>to_address</th>\n",
       "      <th>first_out_tx_gas_limit</th>\n",
       "      <th>first_out_tx_gas_used</th>\n",
       "      <th>first_out_tx_eth_value</th>\n",
       "      <th>first_out_tx_timestamp</th>\n",
       "    </tr>\n",
       "  </thead>\n",
       "  <tbody>\n",
       "    <tr>\n",
       "      <th>0</th>\n",
       "      <td>0x00117fd41eab0f3d0c7d048a402c2e14d539473d</td>\n",
       "      <td>4</td>\n",
       "      <td>True</td>\n",
       "      <td>231</td>\n",
       "      <td>0</td>\n",
       "      <td>True</td>\n",
       "      <td>False</td>\n",
       "      <td>True</td>\n",
       "      <td>0</td>\n",
       "      <td>0xacd03d601e5bb1b275bb94076ff46ed9d753435a</td>\n",
       "      <td>21000.0</td>\n",
       "      <td>21000.0</td>\n",
       "      <td>0.004370</td>\n",
       "      <td>2023-08-29T08:28:07.000Z</td>\n",
       "      <td>0x2297aebd383787a160dd0d9f71508148769342e3</td>\n",
       "      <td>234905</td>\n",
       "      <td>224891</td>\n",
       "      <td>0.003118</td>\n",
       "      <td>2023-05-28T02:17:27.000Z</td>\n",
       "    </tr>\n",
       "    <tr>\n",
       "      <th>1</th>\n",
       "      <td>0x0015f1d02b55ec9edd7536ca628fd30361252ebf</td>\n",
       "      <td>41</td>\n",
       "      <td>False</td>\n",
       "      <td>31</td>\n",
       "      <td>27</td>\n",
       "      <td>True</td>\n",
       "      <td>True</td>\n",
       "      <td>False</td>\n",
       "      <td>1</td>\n",
       "      <td>0x2d2cc0eb095e43204e0c087e07dbf95909650939</td>\n",
       "      <td>150000.0</td>\n",
       "      <td>21000.0</td>\n",
       "      <td>0.025000</td>\n",
       "      <td>2023-01-14T11:08:22.000Z</td>\n",
       "      <td>0x68b3465833fb72a70ecdf485e0e4c7bd8665fc45</td>\n",
       "      <td>287571</td>\n",
       "      <td>215719</td>\n",
       "      <td>0.014335</td>\n",
       "      <td>2023-01-14T13:25:56.000Z</td>\n",
       "    </tr>\n",
       "    <tr>\n",
       "      <th>2</th>\n",
       "      <td>0x0035ab0a6508aa9fa7d093cd53d0fcbae1b6e926</td>\n",
       "      <td>7</td>\n",
       "      <td>True</td>\n",
       "      <td>1</td>\n",
       "      <td>1</td>\n",
       "      <td>True</td>\n",
       "      <td>True</td>\n",
       "      <td>False</td>\n",
       "      <td>1</td>\n",
       "      <td>0x4acd61b27509ac5afa151aedb9d073bce095dd7a</td>\n",
       "      <td>21000.0</td>\n",
       "      <td>21000.0</td>\n",
       "      <td>0.001500</td>\n",
       "      <td>2023-06-14T14:25:37.000Z</td>\n",
       "      <td>0x2e42f214467f647fe687fd9a2bf3baddfa737465</td>\n",
       "      <td>119654</td>\n",
       "      <td>119654</td>\n",
       "      <td>0.000000</td>\n",
       "      <td>2023-06-14T14:26:25.000Z</td>\n",
       "    </tr>\n",
       "    <tr>\n",
       "      <th>3</th>\n",
       "      <td>0x003b26e03e7d5822fa24aa75ef778fddec8b8e4f</td>\n",
       "      <td>5</td>\n",
       "      <td>True</td>\n",
       "      <td>59</td>\n",
       "      <td>0</td>\n",
       "      <td>True</td>\n",
       "      <td>False</td>\n",
       "      <td>True</td>\n",
       "      <td>0</td>\n",
       "      <td>0x80c67432656d59144ceff962e8faf8926599bcf8</td>\n",
       "      <td>100000.0</td>\n",
       "      <td>21000.0</td>\n",
       "      <td>0.020170</td>\n",
       "      <td>2023-07-09T22:33:25.000Z</td>\n",
       "      <td>0xb49c4e680174e331cb0a7ff3ab58afc9738d5f8b</td>\n",
       "      <td>485526</td>\n",
       "      <td>419296</td>\n",
       "      <td>0.178721</td>\n",
       "      <td>2023-06-28T10:06:49.000Z</td>\n",
       "    </tr>\n",
       "    <tr>\n",
       "      <th>4</th>\n",
       "      <td>0x00d5cbf97a6e9786a1a270c4b4404c81d59d643b</td>\n",
       "      <td>8</td>\n",
       "      <td>True</td>\n",
       "      <td>0</td>\n",
       "      <td>0</td>\n",
       "      <td>False</td>\n",
       "      <td>False</td>\n",
       "      <td>False</td>\n",
       "      <td>0</td>\n",
       "      <td>NaN</td>\n",
       "      <td>NaN</td>\n",
       "      <td>NaN</td>\n",
       "      <td>NaN</td>\n",
       "      <td>NaN</td>\n",
       "      <td>0xe6266a11f1c10d6ccdcf96b31508c3dc3f541890</td>\n",
       "      <td>156036</td>\n",
       "      <td>149086</td>\n",
       "      <td>0.000690</td>\n",
       "      <td>2023-07-03T19:53:19.000Z</td>\n",
       "    </tr>\n",
       "    <tr>\n",
       "      <th>...</th>\n",
       "      <td>...</td>\n",
       "      <td>...</td>\n",
       "      <td>...</td>\n",
       "      <td>...</td>\n",
       "      <td>...</td>\n",
       "      <td>...</td>\n",
       "      <td>...</td>\n",
       "      <td>...</td>\n",
       "      <td>...</td>\n",
       "      <td>...</td>\n",
       "      <td>...</td>\n",
       "      <td>...</td>\n",
       "      <td>...</td>\n",
       "      <td>...</td>\n",
       "      <td>...</td>\n",
       "      <td>...</td>\n",
       "      <td>...</td>\n",
       "      <td>...</td>\n",
       "      <td>...</td>\n",
       "    </tr>\n",
       "    <tr>\n",
       "      <th>605</th>\n",
       "      <td>0xfdc37b75a4cd7cd48d52466e5744b935ea940cec</td>\n",
       "      <td>5</td>\n",
       "      <td>True</td>\n",
       "      <td>231</td>\n",
       "      <td>0</td>\n",
       "      <td>True</td>\n",
       "      <td>False</td>\n",
       "      <td>True</td>\n",
       "      <td>0</td>\n",
       "      <td>0xacd03d601e5bb1b275bb94076ff46ed9d753435a</td>\n",
       "      <td>21000.0</td>\n",
       "      <td>21000.0</td>\n",
       "      <td>0.005321</td>\n",
       "      <td>2023-08-29T08:23:43.000Z</td>\n",
       "      <td>0x2297aebd383787a160dd0d9f71508148769342e3</td>\n",
       "      <td>234953</td>\n",
       "      <td>224939</td>\n",
       "      <td>0.001225</td>\n",
       "      <td>2023-05-27T17:46:39.000Z</td>\n",
       "    </tr>\n",
       "    <tr>\n",
       "      <th>606</th>\n",
       "      <td>0xfe5bdb59db8745f0dd23e532f2bd2935d996cce8</td>\n",
       "      <td>45</td>\n",
       "      <td>False</td>\n",
       "      <td>31</td>\n",
       "      <td>27</td>\n",
       "      <td>True</td>\n",
       "      <td>True</td>\n",
       "      <td>False</td>\n",
       "      <td>0</td>\n",
       "      <td>0x2d2cc0eb095e43204e0c087e07dbf95909650939</td>\n",
       "      <td>150000.0</td>\n",
       "      <td>21000.0</td>\n",
       "      <td>0.025000</td>\n",
       "      <td>2023-01-14T11:05:22.000Z</td>\n",
       "      <td>0x68b3465833fb72a70ecdf485e0e4c7bd8665fc45</td>\n",
       "      <td>269948</td>\n",
       "      <td>199997</td>\n",
       "      <td>0.013199</td>\n",
       "      <td>2023-01-14T13:25:11.000Z</td>\n",
       "    </tr>\n",
       "    <tr>\n",
       "      <th>607</th>\n",
       "      <td>0xfef5a1a2b3754a2f53161eaaacb3eb889f004d4a</td>\n",
       "      <td>7</td>\n",
       "      <td>True</td>\n",
       "      <td>6</td>\n",
       "      <td>5</td>\n",
       "      <td>True</td>\n",
       "      <td>True</td>\n",
       "      <td>False</td>\n",
       "      <td>1</td>\n",
       "      <td>0x302e2a0d4291ac14aa1160504ca45a0a1f2e7a5c</td>\n",
       "      <td>21000.0</td>\n",
       "      <td>21000.0</td>\n",
       "      <td>0.002980</td>\n",
       "      <td>2023-08-21T03:03:03.000Z</td>\n",
       "      <td>0x2871742b184633f8dc8546c6301cbc209945033e</td>\n",
       "      <td>78323</td>\n",
       "      <td>71662</td>\n",
       "      <td>0.000595</td>\n",
       "      <td>2023-08-21T03:03:55.000Z</td>\n",
       "    </tr>\n",
       "    <tr>\n",
       "      <th>608</th>\n",
       "      <td>0xff350e4dbc227b236ada08c8e4bb39e639d2aa8e</td>\n",
       "      <td>6</td>\n",
       "      <td>True</td>\n",
       "      <td>59</td>\n",
       "      <td>0</td>\n",
       "      <td>True</td>\n",
       "      <td>False</td>\n",
       "      <td>True</td>\n",
       "      <td>0</td>\n",
       "      <td>0x80c67432656d59144ceff962e8faf8926599bcf8</td>\n",
       "      <td>100000.0</td>\n",
       "      <td>21000.0</td>\n",
       "      <td>0.018480</td>\n",
       "      <td>2023-07-09T22:33:39.000Z</td>\n",
       "      <td>0x2297aebd383787a160dd0d9f71508148769342e3</td>\n",
       "      <td>234953</td>\n",
       "      <td>224939</td>\n",
       "      <td>0.001225</td>\n",
       "      <td>2023-05-28T01:33:50.000Z</td>\n",
       "    </tr>\n",
       "    <tr>\n",
       "      <th>609</th>\n",
       "      <td>0xff69716598052facd692b80b2d24164c452ae74b</td>\n",
       "      <td>186</td>\n",
       "      <td>False</td>\n",
       "      <td>0</td>\n",
       "      <td>0</td>\n",
       "      <td>False</td>\n",
       "      <td>False</td>\n",
       "      <td>False</td>\n",
       "      <td>0</td>\n",
       "      <td>NaN</td>\n",
       "      <td>NaN</td>\n",
       "      <td>NaN</td>\n",
       "      <td>NaN</td>\n",
       "      <td>NaN</td>\n",
       "      <td>0xe592427a0aece92de3edee1f18e0157c05861564</td>\n",
       "      <td>360297</td>\n",
       "      <td>275860</td>\n",
       "      <td>0.015000</td>\n",
       "      <td>2021-11-25T22:34:01.000Z</td>\n",
       "    </tr>\n",
       "  </tbody>\n",
       "</table>\n",
       "<p>610 rows × 19 columns</p>\n",
       "</div>"
      ],
      "text/plain": [
       "                                            EOA  count_tx  less_10_tx   \n",
       "0    0x00117fd41eab0f3d0c7d048a402c2e14d539473d         4        True  \\\n",
       "1    0x0015f1d02b55ec9edd7536ca628fd30361252ebf        41       False   \n",
       "2    0x0035ab0a6508aa9fa7d093cd53d0fcbae1b6e926         7        True   \n",
       "3    0x003b26e03e7d5822fa24aa75ef778fddec8b8e4f         5        True   \n",
       "4    0x00d5cbf97a6e9786a1a270c4b4404c81d59d643b         8        True   \n",
       "..                                          ...       ...         ...   \n",
       "605  0xfdc37b75a4cd7cd48d52466e5744b935ea940cec         5        True   \n",
       "606  0xfe5bdb59db8745f0dd23e532f2bd2935d996cce8        45       False   \n",
       "607  0xfef5a1a2b3754a2f53161eaaacb3eb889f004d4a         7        True   \n",
       "608  0xff350e4dbc227b236ada08c8e4bb39e639d2aa8e         6        True   \n",
       "609  0xff69716598052facd692b80b2d24164c452ae74b       186       False   \n",
       "\n",
       "     count_same_seed  count_same_seed_naive  same_seed  same_seed_naive   \n",
       "0                231                      0       True            False  \\\n",
       "1                 31                     27       True             True   \n",
       "2                  1                      1       True             True   \n",
       "3                 59                      0       True            False   \n",
       "4                  0                      0      False            False   \n",
       "..               ...                    ...        ...              ...   \n",
       "605              231                      0       True            False   \n",
       "606               31                     27       True             True   \n",
       "607                6                      5       True             True   \n",
       "608               59                      0       True            False   \n",
       "609                0                      0      False            False   \n",
       "\n",
       "     seed_suspicious  count_interact_other_ctbt   \n",
       "0               True                          0  \\\n",
       "1              False                          1   \n",
       "2              False                          1   \n",
       "3               True                          0   \n",
       "4              False                          0   \n",
       "..               ...                        ...   \n",
       "605             True                          0   \n",
       "606            False                          0   \n",
       "607            False                          1   \n",
       "608             True                          0   \n",
       "609            False                          0   \n",
       "\n",
       "                               first_in_tx_from  first_in_tx_gas_limit   \n",
       "0    0xacd03d601e5bb1b275bb94076ff46ed9d753435a                21000.0  \\\n",
       "1    0x2d2cc0eb095e43204e0c087e07dbf95909650939               150000.0   \n",
       "2    0x4acd61b27509ac5afa151aedb9d073bce095dd7a                21000.0   \n",
       "3    0x80c67432656d59144ceff962e8faf8926599bcf8               100000.0   \n",
       "4                                           NaN                    NaN   \n",
       "..                                          ...                    ...   \n",
       "605  0xacd03d601e5bb1b275bb94076ff46ed9d753435a                21000.0   \n",
       "606  0x2d2cc0eb095e43204e0c087e07dbf95909650939               150000.0   \n",
       "607  0x302e2a0d4291ac14aa1160504ca45a0a1f2e7a5c                21000.0   \n",
       "608  0x80c67432656d59144ceff962e8faf8926599bcf8               100000.0   \n",
       "609                                         NaN                    NaN   \n",
       "\n",
       "     first_in_tx_gas_used  first_in_tx_eth_value     first_in_tx_timestamp   \n",
       "0                 21000.0               0.004370  2023-08-29T08:28:07.000Z  \\\n",
       "1                 21000.0               0.025000  2023-01-14T11:08:22.000Z   \n",
       "2                 21000.0               0.001500  2023-06-14T14:25:37.000Z   \n",
       "3                 21000.0               0.020170  2023-07-09T22:33:25.000Z   \n",
       "4                     NaN                    NaN                       NaN   \n",
       "..                    ...                    ...                       ...   \n",
       "605               21000.0               0.005321  2023-08-29T08:23:43.000Z   \n",
       "606               21000.0               0.025000  2023-01-14T11:05:22.000Z   \n",
       "607               21000.0               0.002980  2023-08-21T03:03:03.000Z   \n",
       "608               21000.0               0.018480  2023-07-09T22:33:39.000Z   \n",
       "609                   NaN                    NaN                       NaN   \n",
       "\n",
       "                                     to_address  first_out_tx_gas_limit   \n",
       "0    0x2297aebd383787a160dd0d9f71508148769342e3                  234905  \\\n",
       "1    0x68b3465833fb72a70ecdf485e0e4c7bd8665fc45                  287571   \n",
       "2    0x2e42f214467f647fe687fd9a2bf3baddfa737465                  119654   \n",
       "3    0xb49c4e680174e331cb0a7ff3ab58afc9738d5f8b                  485526   \n",
       "4    0xe6266a11f1c10d6ccdcf96b31508c3dc3f541890                  156036   \n",
       "..                                          ...                     ...   \n",
       "605  0x2297aebd383787a160dd0d9f71508148769342e3                  234953   \n",
       "606  0x68b3465833fb72a70ecdf485e0e4c7bd8665fc45                  269948   \n",
       "607  0x2871742b184633f8dc8546c6301cbc209945033e                   78323   \n",
       "608  0x2297aebd383787a160dd0d9f71508148769342e3                  234953   \n",
       "609  0xe592427a0aece92de3edee1f18e0157c05861564                  360297   \n",
       "\n",
       "     first_out_tx_gas_used  first_out_tx_eth_value    first_out_tx_timestamp  \n",
       "0                   224891                0.003118  2023-05-28T02:17:27.000Z  \n",
       "1                   215719                0.014335  2023-01-14T13:25:56.000Z  \n",
       "2                   119654                0.000000  2023-06-14T14:26:25.000Z  \n",
       "3                   419296                0.178721  2023-06-28T10:06:49.000Z  \n",
       "4                   149086                0.000690  2023-07-03T19:53:19.000Z  \n",
       "..                     ...                     ...                       ...  \n",
       "605                 224939                0.001225  2023-05-27T17:46:39.000Z  \n",
       "606                 199997                0.013199  2023-01-14T13:25:11.000Z  \n",
       "607                  71662                0.000595  2023-08-21T03:03:55.000Z  \n",
       "608                 224939                0.001225  2023-05-28T01:33:50.000Z  \n",
       "609                 275860                0.015000  2021-11-25T22:34:01.000Z  \n",
       "\n",
       "[610 rows x 19 columns]"
      ]
     },
     "execution_count": 179,
     "metadata": {},
     "output_type": "execute_result"
    }
   ],
   "source": [
    "df_features"
   ]
  },
  {
   "cell_type": "code",
   "execution_count": null,
   "metadata": {},
   "outputs": [],
   "source": [
    "df_features.to_csv(os.path.join(PATH_TO_EXPORT, f'features_{round_name}.csv'), index=False)"
   ]
  }
 ],
 "metadata": {
  "kernelspec": {
   "display_name": "venslastSB",
   "language": "python",
   "name": "python3"
  },
  "language_info": {
   "codemirror_mode": {
    "name": "ipython",
    "version": 3
   },
   "file_extension": ".py",
   "mimetype": "text/x-python",
   "name": "python",
   "nbconvert_exporter": "python",
   "pygments_lexer": "ipython3",
   "version": "3.10.9"
  },
  "orig_nbformat": 4
 },
 "nbformat": 4,
 "nbformat_minor": 2
}
