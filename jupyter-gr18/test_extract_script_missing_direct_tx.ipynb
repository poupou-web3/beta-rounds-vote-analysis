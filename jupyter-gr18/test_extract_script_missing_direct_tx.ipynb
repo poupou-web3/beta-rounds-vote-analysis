{
 "cells": [
  {
   "cell_type": "code",
   "execution_count": 1,
   "metadata": {},
   "outputs": [],
   "source": [
    "import pandas as pd\n",
    "import json\n",
    "from sbscorer.sbdata.FlipsideApi import FlipsideApi\n",
    "import os\n",
    "import numpy as np\n",
    "from pathlib import Path"
   ]
  },
  {
   "cell_type": "code",
   "execution_count": 2,
   "metadata": {},
   "outputs": [],
   "source": [
    "FOLDER_NAME = 'gr18'\n",
    "CHAIN = 'optimism'\n",
    "extract_all = True\n",
    "\n",
    "# Set path to data folder\n",
    "current_dir = Path(os.getcwd())\n",
    "PATH_TO_EXPORT = os.path.join(current_dir.parent.parent, 'tx_data', FOLDER_NAME)\n",
    "\n",
    "# Initialize Flipside API\n",
    "api_key = os.environ['FLIPSIDE_API_KEY']\n",
    "flipside_api = FlipsideApi(api_key, max_address=100)"
   ]
  },
  {
   "cell_type": "code",
   "execution_count": 3,
   "metadata": {},
   "outputs": [
    {
     "data": {
      "text/plain": [
       "'c:\\\\Users\\\\DELL Admin\\\\Documents\\\\ODC\\\\RegenRangers\\\\tx_data\\\\gr18'"
      ]
     },
     "execution_count": 3,
     "metadata": {},
     "output_type": "execute_result"
    }
   ],
   "source": [
    "PATH_TO_EXPORT "
   ]
  },
  {
   "cell_type": "code",
   "execution_count": 4,
   "metadata": {},
   "outputs": [],
   "source": [
    "sql_template = \"\"\"\n",
    " -- forked from gr18 all votes with direct @ https://flipsidecrypto.xyz/edit/queries/a5eb357f-d1b0-4df7-8e35-5848f6dc5209\n",
    "\n",
    "with \n",
    "eth_time AS (\n",
    "  SELECT\n",
    "    tx_hash,\n",
    "    block_timestamp,\n",
    "    origin_from_address as voter,\n",
    "    amount_usd,\n",
    "  origin_to_address,\n",
    "  eth_to_address\n",
    "  from\n",
    "    optimism.core.ez_eth_transfers\n",
    "  where\n",
    "    block_timestamp between '2023-08-15 12:00:00.000'\n",
    "    and '2023-08-29 12:00:00.000'\n",
    "),\n",
    "eth_direct as (\n",
    "  SELECT\n",
    "    tx_hash,\n",
    "    block_timestamp,\n",
    "    voter,\n",
    "    'ETH' as token,\n",
    "    amount_usd\n",
    "  FROM\n",
    "    eth_time\n",
    "  WHERE\n",
    "    origin_to_address IN (\n",
    "      '0x8de918f0163b2021839a8d84954dd7e8e151326d',\n",
    "      '0xb6be0ecafdb66dd848b0480db40056ff94a9465d',\n",
    "      '0x2871742b184633f8dc8546c6301cbc209945033e',\n",
    "      '0x10be322de44389ded49c0b2b73d8c3a1e3b6d871',\n",
    "      '0x5b95acf46c73fd116f0fedadcbef453530e35d0',\n",
    "      '0xc5fdf5cff79e92fac1d6efa725c319248d279200',\n",
    "      '0xf591e42dffe8e62c2085ccaadfe05f84d89d0c6',\n",
    "      '0x9331fde4db7b9d9d1498c09d30149929f24cf9d5',\n",
    "      '0x30c381033aa2830ceb0aa372c2e4d28f004b3db9',\n",
    "      '0x69e423181f1d3e6bebf8ab88030c36da73785f26'\n",
    "    )\n",
    "    and eth_to_address IN (\n",
    "      '0x8de918f0163b2021839a8d84954dd7e8e151326d',\n",
    "      '0xb6be0ecafdb66dd848b0480db40056ff94a9465d',\n",
    "      '0x2871742b184633f8dc8546c6301cbc209945033e',\n",
    "      '0x10be322de44389ded49c0b2b73d8c3a1e3b6d871',\n",
    "      '0x5b95acf46c73fd116f0fedadcbef453530e35d0',\n",
    "      '0xc5fdf5cff79e92fac1d6efa725c319248d279200',\n",
    "      '0xf591e42dffe8e62c2085ccaadfe05f84d89d0c6',\n",
    "      '0x9331fde4db7b9d9d1498c09d30149929f24cf9d5',\n",
    "      '0x30c381033aa2830ceb0aa372c2e4d28f004b3db9',\n",
    "      '0x69e423181f1d3e6bebf8ab88030c36da73785f26'\n",
    "    )\n",
    "),\n",
    "\n",
    "\n",
    "unique_voter as (SELECT DISTINCT voter \n",
    "FROM eth_direct)\n",
    "\n",
    "SELECT \n",
    "tx.TX_HASH,\n",
    "tx.BLOCK_TIMESTAMP,\n",
    "tx.FROM_ADDRESS,\n",
    "tx.TO_ADDRESS,\n",
    "tx.GAS_LIMIT,\n",
    "tx.GAS_USED,\n",
    "tx.TX_FEE,\n",
    "tx.ETH_VALUE\n",
    "FROM optimism.core.fact_transactions tx\n",
    "INNER JOIN\n",
    "unique_voter v ON tx.FROM_ADDRESS = v.voter OR tx.TO_ADDRESS = v.voter\n",
    "WHERE \n",
    "-- tx.BLOCK_TIMESTAMP \n",
    "-- between CURRENT_DATE - interval '%d day'\n",
    "-- AND CURRENT_DATE - interval '%d day'\n",
    "-- AND \n",
    "tx.STATUS = 'SUCCESS'  \n",
    "\"\"\""
   ]
  },
  {
   "cell_type": "code",
   "execution_count": 5,
   "metadata": {},
   "outputs": [],
   "source": [
    "query_result_set = flipside_api.sdk.query(sql_template,\n",
    "                                              max_age_minutes=flipside_api.MAX_AGE_MINUTES,\n",
    "                                              page_size=50000,\n",
    "                                              page_number=1,\n",
    "                                              timeout_minutes=flipside_api.TIMEOUT_MINUTES,\n",
    "                                              ttl_minutes=flipside_api.TTL_MINUTES,\n",
    "                                              cached=flipside_api.CACHED,\n",
    "                                              retry_interval_seconds=flipside_api.RETRY_INTERVAL_SECONDS)"
   ]
  },
  {
   "cell_type": "code",
   "execution_count": 6,
   "metadata": {},
   "outputs": [
    {
     "name": "stdout",
     "output_type": "stream",
     "text": [
      "23.27 MB\n"
     ]
    }
   ],
   "source": [
    "def human_readable_size(size, decimal_places=2):\n",
    "    for unit in ['B', 'KB', 'MB', 'GB', 'TB']:\n",
    "        if size < 1024.0:\n",
    "            return f\"{size:.{decimal_places}f} {unit}\"\n",
    "        size /= 1024.0\n",
    "    return f\"{size:.{decimal_places}f} PB\"\n",
    "\n",
    "print(human_readable_size(query_result_set.run_stats.bytes))\n"
   ]
  },
  {
   "cell_type": "code",
   "execution_count": 9,
   "metadata": {},
   "outputs": [],
   "source": [
    "flipside_api.PAGE_SIZE = 25000"
   ]
  },
  {
   "cell_type": "code",
   "execution_count": 10,
   "metadata": {},
   "outputs": [],
   "source": [
    "df = flipside_api.execute_query(sql_template)"
   ]
  },
  {
   "cell_type": "code",
   "execution_count": 12,
   "metadata": {},
   "outputs": [],
   "source": [
    "df_loaded = pd.read_csv(os.path.join(PATH_TO_EXPORT, 'gr_18_optimism_all_tx.csv'))"
   ]
  },
  {
   "cell_type": "code",
   "execution_count": 13,
   "metadata": {},
   "outputs": [
    {
     "data": {
      "text/plain": [
       "(6776216, 9)"
      ]
     },
     "execution_count": 13,
     "metadata": {},
     "output_type": "execute_result"
    }
   ],
   "source": [
    "df_loaded.shape"
   ]
  },
  {
   "cell_type": "code",
   "execution_count": 14,
   "metadata": {},
   "outputs": [
    {
     "data": {
      "text/plain": [
       "(143290, 9)"
      ]
     },
     "execution_count": 14,
     "metadata": {},
     "output_type": "execute_result"
    }
   ],
   "source": [
    "df.shape"
   ]
  },
  {
   "cell_type": "code",
   "execution_count": 16,
   "metadata": {},
   "outputs": [],
   "source": [
    "new_df = pd.concat([df_loaded, df])"
   ]
  },
  {
   "cell_type": "code",
   "execution_count": 17,
   "metadata": {},
   "outputs": [
    {
     "data": {
      "text/plain": [
       "True"
      ]
     },
     "execution_count": 17,
     "metadata": {},
     "output_type": "execute_result"
    }
   ],
   "source": [
    "'0xa1c3ba69793690a86448990fd34c6a9d4c1f10239725aa135779a5c9ab534067' in new_df['tx_hash'].values"
   ]
  },
  {
   "cell_type": "code",
   "execution_count": 18,
   "metadata": {},
   "outputs": [
    {
     "data": {
      "text/html": [
       "<div>\n",
       "<style scoped>\n",
       "    .dataframe tbody tr th:only-of-type {\n",
       "        vertical-align: middle;\n",
       "    }\n",
       "\n",
       "    .dataframe tbody tr th {\n",
       "        vertical-align: top;\n",
       "    }\n",
       "\n",
       "    .dataframe thead th {\n",
       "        text-align: right;\n",
       "    }\n",
       "</style>\n",
       "<table border=\"1\" class=\"dataframe\">\n",
       "  <thead>\n",
       "    <tr style=\"text-align: right;\">\n",
       "      <th></th>\n",
       "      <th>tx_hash</th>\n",
       "      <th>block_timestamp</th>\n",
       "      <th>from_address</th>\n",
       "      <th>to_address</th>\n",
       "      <th>gas_limit</th>\n",
       "      <th>gas_used</th>\n",
       "      <th>tx_fee</th>\n",
       "      <th>eth_value</th>\n",
       "      <th>__row_index</th>\n",
       "    </tr>\n",
       "  </thead>\n",
       "  <tbody>\n",
       "    <tr>\n",
       "      <th>0</th>\n",
       "      <td>0x863c5b543d29b329891fdec341845a73c2525e6dc212...</td>\n",
       "      <td>2023-08-24T20:22:03.000Z</td>\n",
       "      <td>0xf4af0314a06ea7376da5bdecc33f6f9800f1ae28</td>\n",
       "      <td>0x7f5c764cbc14f9669b88837ca1490cca17c31607</td>\n",
       "      <td>53067</td>\n",
       "      <td>53067</td>\n",
       "      <td>0.000029</td>\n",
       "      <td>0.000000</td>\n",
       "      <td>0</td>\n",
       "    </tr>\n",
       "    <tr>\n",
       "      <th>1</th>\n",
       "      <td>0xfdffb6eb77e72ca9f54297ebcc7644ea55db521f64c7...</td>\n",
       "      <td>2023-08-24T22:05:41.000Z</td>\n",
       "      <td>0x87dbffd0ed90b2252856faf753437a7bc9fcfa7b</td>\n",
       "      <td>0xb009b5707e6e0dc9830a1262de37f055972e6480</td>\n",
       "      <td>219895</td>\n",
       "      <td>139765</td>\n",
       "      <td>0.000058</td>\n",
       "      <td>0.000777</td>\n",
       "      <td>1</td>\n",
       "    </tr>\n",
       "    <tr>\n",
       "      <th>2</th>\n",
       "      <td>0x7b416f625fd29c2da17a7ad35b1c6dc7e0cf5b548249...</td>\n",
       "      <td>2023-08-24T16:10:17.000Z</td>\n",
       "      <td>0x532c1fc2940ec38d5c5e7fc8b8aa4aaddcaa17d3</td>\n",
       "      <td>0x46ce3b08bdef4461fb444d3746fd97f0af11dccf</td>\n",
       "      <td>731592</td>\n",
       "      <td>467423</td>\n",
       "      <td>0.000093</td>\n",
       "      <td>0.000000</td>\n",
       "      <td>2</td>\n",
       "    </tr>\n",
       "    <tr>\n",
       "      <th>3</th>\n",
       "      <td>0xbed4ce09f5f5c4d7aac7e310dfce11d94bf86f7da6d5...</td>\n",
       "      <td>2023-08-24T16:09:33.000Z</td>\n",
       "      <td>0x0596c217a79ea00e5dafc43778138ea61fd67ee2</td>\n",
       "      <td>0x2e42f214467f647fe687fd9a2bf3baddfa737465</td>\n",
       "      <td>119625</td>\n",
       "      <td>119625</td>\n",
       "      <td>0.000087</td>\n",
       "      <td>0.000000</td>\n",
       "      <td>3</td>\n",
       "    </tr>\n",
       "    <tr>\n",
       "      <th>4</th>\n",
       "      <td>0xb60502458c8de31606b84e0aed102ac83629726d8734...</td>\n",
       "      <td>2023-08-24T22:08:15.000Z</td>\n",
       "      <td>0xc1991c8bda29507991eeb230ff2063c2ea74a34c</td>\n",
       "      <td>0xa062ae8a9c5e11aaa026fc2670b0d65ccc8b2858</td>\n",
       "      <td>246899</td>\n",
       "      <td>229592</td>\n",
       "      <td>0.000070</td>\n",
       "      <td>0.000000</td>\n",
       "      <td>4</td>\n",
       "    </tr>\n",
       "    <tr>\n",
       "      <th>...</th>\n",
       "      <td>...</td>\n",
       "      <td>...</td>\n",
       "      <td>...</td>\n",
       "      <td>...</td>\n",
       "      <td>...</td>\n",
       "      <td>...</td>\n",
       "      <td>...</td>\n",
       "      <td>...</td>\n",
       "      <td>...</td>\n",
       "    </tr>\n",
       "    <tr>\n",
       "      <th>18285</th>\n",
       "      <td>0x95bca0fe01d9cb3965c87e38e933a615c246886c4bf9...</td>\n",
       "      <td>2022-12-03T16:18:40.000Z</td>\n",
       "      <td>0x4e16c6d4ab2648b18f921ecf5ee2a8c2eba78f31</td>\n",
       "      <td>0x69dd38645f7457be13571a847ffd905f9acbaf6d</td>\n",
       "      <td>201477</td>\n",
       "      <td>176260</td>\n",
       "      <td>0.000097</td>\n",
       "      <td>0.000000</td>\n",
       "      <td>118285</td>\n",
       "    </tr>\n",
       "    <tr>\n",
       "      <th>18286</th>\n",
       "      <td>0x6f29783f12937dbc183388189c68ffd7fdab3b0ca757...</td>\n",
       "      <td>2022-12-03T09:32:42.000Z</td>\n",
       "      <td>0x7117248ddc900ad01b78c02462b09f3c594b13ea</td>\n",
       "      <td>0x7f5c764cbc14f9669b88837ca1490cca17c31607</td>\n",
       "      <td>53055</td>\n",
       "      <td>53055</td>\n",
       "      <td>0.000048</td>\n",
       "      <td>0.000000</td>\n",
       "      <td>118286</td>\n",
       "    </tr>\n",
       "    <tr>\n",
       "      <th>18287</th>\n",
       "      <td>0x40153174c0f084b67269afbb40f187e85949adcb44d2...</td>\n",
       "      <td>2022-12-03T19:23:40.000Z</td>\n",
       "      <td>0x4b040a88cb4edd02b97f0ab8c97d3da540fc2cf0</td>\n",
       "      <td>0x7f5c764cbc14f9669b88837ca1490cca17c31607</td>\n",
       "      <td>70000</td>\n",
       "      <td>53079</td>\n",
       "      <td>0.000060</td>\n",
       "      <td>0.000000</td>\n",
       "      <td>118287</td>\n",
       "    </tr>\n",
       "    <tr>\n",
       "      <th>18288</th>\n",
       "      <td>0x1bb8b885544c5098b0339131dcdc442fdd98b5956c74...</td>\n",
       "      <td>2022-12-03T12:45:47.000Z</td>\n",
       "      <td>0x4165ac75516763dae3481a5143f31f7b11ed618b</td>\n",
       "      <td>0x2e42f214467f647fe687fd9a2bf3baddfa737465</td>\n",
       "      <td>119630</td>\n",
       "      <td>119630</td>\n",
       "      <td>0.000069</td>\n",
       "      <td>0.000000</td>\n",
       "      <td>118288</td>\n",
       "    </tr>\n",
       "    <tr>\n",
       "      <th>18289</th>\n",
       "      <td>0xd9a1fc8785e4d1b6c7d9fcb4ecc30512d187195df0c7...</td>\n",
       "      <td>2022-12-03T01:06:55.000Z</td>\n",
       "      <td>0x2f3873739f0cab90d548d3c3e1ff9080d0186928</td>\n",
       "      <td>0x7f5c764cbc14f9669b88837ca1490cca17c31607</td>\n",
       "      <td>41490</td>\n",
       "      <td>41490</td>\n",
       "      <td>0.000045</td>\n",
       "      <td>0.000000</td>\n",
       "      <td>118289</td>\n",
       "    </tr>\n",
       "  </tbody>\n",
       "</table>\n",
       "<p>6894506 rows × 9 columns</p>\n",
       "</div>"
      ],
      "text/plain": [
       "                                                 tx_hash   \n",
       "0      0x863c5b543d29b329891fdec341845a73c2525e6dc212...  \\\n",
       "1      0xfdffb6eb77e72ca9f54297ebcc7644ea55db521f64c7...   \n",
       "2      0x7b416f625fd29c2da17a7ad35b1c6dc7e0cf5b548249...   \n",
       "3      0xbed4ce09f5f5c4d7aac7e310dfce11d94bf86f7da6d5...   \n",
       "4      0xb60502458c8de31606b84e0aed102ac83629726d8734...   \n",
       "...                                                  ...   \n",
       "18285  0x95bca0fe01d9cb3965c87e38e933a615c246886c4bf9...   \n",
       "18286  0x6f29783f12937dbc183388189c68ffd7fdab3b0ca757...   \n",
       "18287  0x40153174c0f084b67269afbb40f187e85949adcb44d2...   \n",
       "18288  0x1bb8b885544c5098b0339131dcdc442fdd98b5956c74...   \n",
       "18289  0xd9a1fc8785e4d1b6c7d9fcb4ecc30512d187195df0c7...   \n",
       "\n",
       "                block_timestamp                                from_address   \n",
       "0      2023-08-24T20:22:03.000Z  0xf4af0314a06ea7376da5bdecc33f6f9800f1ae28  \\\n",
       "1      2023-08-24T22:05:41.000Z  0x87dbffd0ed90b2252856faf753437a7bc9fcfa7b   \n",
       "2      2023-08-24T16:10:17.000Z  0x532c1fc2940ec38d5c5e7fc8b8aa4aaddcaa17d3   \n",
       "3      2023-08-24T16:09:33.000Z  0x0596c217a79ea00e5dafc43778138ea61fd67ee2   \n",
       "4      2023-08-24T22:08:15.000Z  0xc1991c8bda29507991eeb230ff2063c2ea74a34c   \n",
       "...                         ...                                         ...   \n",
       "18285  2022-12-03T16:18:40.000Z  0x4e16c6d4ab2648b18f921ecf5ee2a8c2eba78f31   \n",
       "18286  2022-12-03T09:32:42.000Z  0x7117248ddc900ad01b78c02462b09f3c594b13ea   \n",
       "18287  2022-12-03T19:23:40.000Z  0x4b040a88cb4edd02b97f0ab8c97d3da540fc2cf0   \n",
       "18288  2022-12-03T12:45:47.000Z  0x4165ac75516763dae3481a5143f31f7b11ed618b   \n",
       "18289  2022-12-03T01:06:55.000Z  0x2f3873739f0cab90d548d3c3e1ff9080d0186928   \n",
       "\n",
       "                                       to_address  gas_limit  gas_used   \n",
       "0      0x7f5c764cbc14f9669b88837ca1490cca17c31607      53067     53067  \\\n",
       "1      0xb009b5707e6e0dc9830a1262de37f055972e6480     219895    139765   \n",
       "2      0x46ce3b08bdef4461fb444d3746fd97f0af11dccf     731592    467423   \n",
       "3      0x2e42f214467f647fe687fd9a2bf3baddfa737465     119625    119625   \n",
       "4      0xa062ae8a9c5e11aaa026fc2670b0d65ccc8b2858     246899    229592   \n",
       "...                                           ...        ...       ...   \n",
       "18285  0x69dd38645f7457be13571a847ffd905f9acbaf6d     201477    176260   \n",
       "18286  0x7f5c764cbc14f9669b88837ca1490cca17c31607      53055     53055   \n",
       "18287  0x7f5c764cbc14f9669b88837ca1490cca17c31607      70000     53079   \n",
       "18288  0x2e42f214467f647fe687fd9a2bf3baddfa737465     119630    119630   \n",
       "18289  0x7f5c764cbc14f9669b88837ca1490cca17c31607      41490     41490   \n",
       "\n",
       "         tx_fee  eth_value  __row_index  \n",
       "0      0.000029   0.000000            0  \n",
       "1      0.000058   0.000777            1  \n",
       "2      0.000093   0.000000            2  \n",
       "3      0.000087   0.000000            3  \n",
       "4      0.000070   0.000000            4  \n",
       "...         ...        ...          ...  \n",
       "18285  0.000097   0.000000       118285  \n",
       "18286  0.000048   0.000000       118286  \n",
       "18287  0.000060   0.000000       118287  \n",
       "18288  0.000069   0.000000       118288  \n",
       "18289  0.000045   0.000000       118289  \n",
       "\n",
       "[6894506 rows x 9 columns]"
      ]
     },
     "execution_count": 18,
     "metadata": {},
     "output_type": "execute_result"
    }
   ],
   "source": [
    "df_not_dupplicate = new_df[~new_df.duplicated()]\n",
    "df_not_dupplicate"
   ]
  },
  {
   "cell_type": "code",
   "execution_count": 21,
   "metadata": {},
   "outputs": [
    {
     "data": {
      "text/plain": [
       "-25000"
      ]
     },
     "execution_count": 21,
     "metadata": {},
     "output_type": "execute_result"
    }
   ],
   "source": [
    "df_not_dupplicate.shape[0] - new_df.shape[0]"
   ]
  },
  {
   "cell_type": "code",
   "execution_count": 22,
   "metadata": {},
   "outputs": [],
   "source": [
    "if not os.path.exists(PATH_TO_EXPORT):\n",
    "    os.makedirs(PATH_TO_EXPORT)\n",
    "\n",
    "df_not_dupplicate.to_csv(os.path.join(PATH_TO_EXPORT, 'gr_18_optimism_all_tx.csv'), index=False)\n",
    "df_not_dupplicate.to_pickle(os.path.join(PATH_TO_EXPORT, 'gr_18_optimism_all_tx.pkl'))"
   ]
  },
  {
   "cell_type": "code",
   "execution_count": 23,
   "metadata": {},
   "outputs": [
    {
     "data": {
      "text/plain": [
       "'c:\\\\Users\\\\DELL Admin\\\\Documents\\\\ODC\\\\RegenRangers\\\\tx_data\\\\gr18'"
      ]
     },
     "execution_count": 23,
     "metadata": {},
     "output_type": "execute_result"
    }
   ],
   "source": [
    "PATH_TO_EXPORT"
   ]
  }
 ],
 "metadata": {
  "kernelspec": {
   "display_name": "venslastSB",
   "language": "python",
   "name": "python3"
  },
  "language_info": {
   "codemirror_mode": {
    "name": "ipython",
    "version": 3
   },
   "file_extension": ".py",
   "mimetype": "text/x-python",
   "name": "python",
   "nbconvert_exporter": "python",
   "pygments_lexer": "ipython3",
   "version": "3.10.9"
  },
  "orig_nbformat": 4
 },
 "nbformat": 4,
 "nbformat_minor": 2
}
