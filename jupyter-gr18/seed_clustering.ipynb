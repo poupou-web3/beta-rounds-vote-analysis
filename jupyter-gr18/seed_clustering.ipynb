{
 "cells": [
  {
   "cell_type": "markdown",
   "metadata": {},
   "source": [
    "Compute a flag based on seed clustereing"
   ]
  },
  {
   "cell_type": "code",
   "execution_count": 1,
   "metadata": {},
   "outputs": [],
   "source": [
    "import os\n",
    "from pathlib import Path\n",
    "import numpy as np\n",
    "import requests\n",
    "import pandas as pd"
   ]
  },
  {
   "cell_type": "code",
   "execution_count": 2,
   "metadata": {},
   "outputs": [],
   "source": [
    "import json"
   ]
  },
  {
   "cell_type": "code",
   "execution_count": 3,
   "metadata": {},
   "outputs": [],
   "source": [
    "from sbscorer.sblegos.TransactionAnalyser import TransactionAnalyser as txa"
   ]
  },
  {
   "cell_type": "code",
   "execution_count": 4,
   "metadata": {},
   "outputs": [],
   "source": [
    "# Set path to data folder\n",
    "current_dir = Path(os.getcwd())\n",
    "DATA_DIR = os.path.join(current_dir.parent.parent, 'data-regen-rangers')\n",
    "DATA_DIR_GITCOIN = os.path.join(current_dir.parent.parent, 'data-gitcoin')\n",
    "GRANT_ROUND_ID = '0x984e29dCB4286c2D9cbAA2c238AfDd8A191Eefbc'\n",
    "ODC_DATA_DIR = os.path.join(current_dir.parent.parent.parent, 'data')\n",
    "\n",
    "PATH_TO_VOTES = os.path.join(DATA_DIR_GITCOIN, 'citizen-votes.csv')\n",
    "# PATH_TO_GRANTS = os.path.join(DATA_DIR, \"all-allo-rounds.csv\")\n",
    "# PATH_TO_PROJECTS = os.path.join(DATA_DIR, \"projects_QmQurt.csv\")"
   ]
  },
  {
   "cell_type": "code",
   "execution_count": 5,
   "metadata": {},
   "outputs": [],
   "source": [
    "FOLDER_NAME = 'gr18'\n",
    "CHAIN = 'optimism'\n",
    "extract_all = True\n",
    "\n",
    "# Set path to data folder\n",
    "current_dir = Path(os.getcwd())\n",
    "PATH_TO_EXPORT = os.path.join(current_dir.parent.parent, 'tx_data', FOLDER_NAME)\n",
    "PATH_TO_GR18 = os.path.join(current_dir.parent.parent, FOLDER_NAME)\n",
    "voter_tx_file_name = 'gg18_votes.csv'\n",
    "passport_file_name = 'gg18_voter_passports.csv'\n",
    "\n",
    "tx_file_name = 'gr_18_optimism_all_tx.csv'"
   ]
  },
  {
   "cell_type": "code",
   "execution_count": 6,
   "metadata": {},
   "outputs": [
    {
     "name": "stderr",
     "output_type": "stream",
     "text": [
      "C:\\Users\\DELL Admin\\AppData\\Local\\Temp\\ipykernel_20584\\1560736169.py:1: DtypeWarning: Columns (9) have mixed types. Specify dtype option on import or set low_memory=False.\n",
      "  votes = pd.read_csv(os.path.join(PATH_TO_GR18, voter_tx_file_name))\n"
     ]
    }
   ],
   "source": [
    "votes = pd.read_csv(os.path.join(PATH_TO_GR18, voter_tx_file_name))\n",
    "passports = pd.read_csv(os.path.join(PATH_TO_GR18, passport_file_name))"
   ]
  },
  {
   "cell_type": "code",
   "execution_count": 7,
   "metadata": {},
   "outputs": [
    {
     "name": "stdout",
     "output_type": "stream",
     "text": [
      "df transaction shape : (6894506, 8)\n"
     ]
    }
   ],
   "source": [
    "# Load tx data\n",
    "CONTRACT_CREATION_AD_NAME = '0x_contract_creation'\n",
    "\n",
    "\n",
    "df_tx = pd.read_csv(os.path.join(PATH_TO_EXPORT, tx_file_name))\n",
    "\n",
    "df_tx.loc[df_tx['to_address'].isna(), 'to_address'] = CONTRACT_CREATION_AD_NAME\n",
    "\n",
    "assert df_tx.isna().sum().sum() == 0\n",
    "df_tx.drop(columns=['__row_index'], inplace=True)\n",
    "\n",
    "print(f'df transaction shape : {df_tx.shape}')\n",
    "\n",
    "# add EOA to df_tx\n",
    "df_tx_EOA_FROM = df_tx.copy()\n",
    "df_tx_EOA_FROM['EOA'] = df_tx_EOA_FROM['from_address']\n",
    "\n",
    "df_tx_EOA_TO = df_tx.copy()\n",
    "df_tx_EOA_TO['EOA'] = df_tx_EOA_TO['to_address']\n",
    "\n",
    "df_tx_eoa = pd.concat([df_tx_EOA_FROM, df_tx_EOA_TO])\n",
    "df_tx_eoa = df_tx_eoa.loc[df_tx_eoa['EOA'] != CONTRACT_CREATION_AD_NAME, :]\n",
    "\n"
   ]
  },
  {
   "cell_type": "code",
   "execution_count": 8,
   "metadata": {},
   "outputs": [
    {
     "data": {
      "text/plain": [
       "(13787932, 9)"
      ]
     },
     "execution_count": 8,
     "metadata": {},
     "output_type": "execute_result"
    }
   ],
   "source": [
    "df_tx_eoa.shape"
   ]
  },
  {
   "cell_type": "code",
   "execution_count": 9,
   "metadata": {},
   "outputs": [
    {
     "name": "stdout",
     "output_type": "stream",
     "text": [
      "Len of df tx: 6953161\n"
     ]
    }
   ],
   "source": [
    "tx_analyser = txa(df_tx_eoa.copy(), votes['voter'].str.lower().unique())\n",
    "\n",
    "print(f'Len of df tx: {len(tx_analyser.df_transactions)}')"
   ]
  },
  {
   "cell_type": "code",
   "execution_count": 10,
   "metadata": {},
   "outputs": [],
   "source": [
    "df_seed = tx_analyser.df_seed_wallet\n",
    "ar_un_seed = df_seed['from_address'].unique()"
   ]
  },
  {
   "cell_type": "code",
   "execution_count": 11,
   "metadata": {},
   "outputs": [
    {
     "data": {
      "text/plain": [
       "from_address    0\n",
       "to_address      0\n",
       "dtype: int64"
      ]
     },
     "execution_count": 11,
     "metadata": {},
     "output_type": "execute_result"
    }
   ],
   "source": [
    "df_seed.isna().sum()"
   ]
  },
  {
   "cell_type": "code",
   "execution_count": 12,
   "metadata": {},
   "outputs": [
    {
     "data": {
      "text/plain": [
       "8687"
      ]
     },
     "execution_count": 12,
     "metadata": {},
     "output_type": "execute_result"
    }
   ],
   "source": [
    "len(ar_un_seed)"
   ]
  },
  {
   "cell_type": "markdown",
   "metadata": {},
   "source": [
    "We will consider that these wallet can't be flagged with the new seed clustering algorithm."
   ]
  },
  {
   "cell_type": "code",
   "execution_count": 55,
   "metadata": {},
   "outputs": [
    {
     "name": "stdout",
     "output_type": "stream",
     "text": [
      "(105, 3)\n",
      "(104, 3)\n"
     ]
    }
   ],
   "source": [
    "# load labels for EOA to know if it is a bridge or an exchange or something else\n",
    "df_labels = pd.read_csv(os.path.join(ODC_DATA_DIR, 'address_labels_citizen.csv'), usecols=['address', 'tag', 'sub_type'])\n",
    "df_labels_test = pd.read_csv(os.path.join(ODC_DATA_DIR, 'address_labels_citizen_test.csv'), usecols=['address', 'tag', 'sub_type'])\n",
    "df_labels = pd.concat([df_labels, df_labels_test])\n",
    "print(df_labels.shape)\n",
    "df_labels.drop_duplicates(inplace=True)\n",
    "print(df_labels.shape)"
   ]
  },
  {
   "cell_type": "code",
   "execution_count": 56,
   "metadata": {},
   "outputs": [],
   "source": [
    "df_labels['cex_or_bridge'] = df_labels['tag'].apply(lambda x: True if x in ['cex_or_bridge', 'bridge', 'cex'] else False)"
   ]
  },
  {
   "cell_type": "code",
   "execution_count": 57,
   "metadata": {},
   "outputs": [
    {
     "data": {
      "text/plain": [
       "Index(['address', 'tag', 'sub_type', 'cex_or_bridge'], dtype='object')"
      ]
     },
     "execution_count": 57,
     "metadata": {},
     "output_type": "execute_result"
    }
   ],
   "source": [
    "df_labels.columns"
   ]
  },
  {
   "cell_type": "code",
   "execution_count": 58,
   "metadata": {},
   "outputs": [
    {
     "data": {
      "text/html": [
       "<div>\n",
       "<style scoped>\n",
       "    .dataframe tbody tr th:only-of-type {\n",
       "        vertical-align: middle;\n",
       "    }\n",
       "\n",
       "    .dataframe tbody tr th {\n",
       "        vertical-align: top;\n",
       "    }\n",
       "\n",
       "    .dataframe thead th {\n",
       "        text-align: right;\n",
       "    }\n",
       "</style>\n",
       "<table border=\"1\" class=\"dataframe\">\n",
       "  <thead>\n",
       "    <tr style=\"text-align: right;\">\n",
       "      <th></th>\n",
       "      <th>from_address</th>\n",
       "      <th>to_address</th>\n",
       "    </tr>\n",
       "  </thead>\n",
       "  <tbody>\n",
       "    <tr>\n",
       "      <th>0</th>\n",
       "      <td>0xacd03d601e5bb1b275bb94076ff46ed9d753435a</td>\n",
       "      <td>0x00000001985c6a08963eef53821c78aa84318b42</td>\n",
       "    </tr>\n",
       "    <tr>\n",
       "      <th>1</th>\n",
       "      <td>0x8052a1e6a7f64325ee3a7ce1c5e1cc39b22af712</td>\n",
       "      <td>0x00000002f32c0886ee65d68059fbdb76ef6a6996</td>\n",
       "    </tr>\n",
       "    <tr>\n",
       "      <th>2</th>\n",
       "      <td>0xacd03d601e5bb1b275bb94076ff46ed9d753435a</td>\n",
       "      <td>0x000000064730640b7d670408d74280924883064f</td>\n",
       "    </tr>\n",
       "    <tr>\n",
       "      <th>3</th>\n",
       "      <td>0x646e9a6a66726d54fa1137df4448fda922c50f0d</td>\n",
       "      <td>0x00000009d94baf057697d988d2e3eec2fce81162</td>\n",
       "    </tr>\n",
       "    <tr>\n",
       "      <th>4</th>\n",
       "      <td>0x62b2f8888413cf2619f2eab477b811d989083f75</td>\n",
       "      <td>0x0000000a362b7ae7239e186b2bbeb943305c59ad</td>\n",
       "    </tr>\n",
       "  </tbody>\n",
       "</table>\n",
       "</div>"
      ],
      "text/plain": [
       "                                 from_address   \n",
       "0  0xacd03d601e5bb1b275bb94076ff46ed9d753435a  \\\n",
       "1  0x8052a1e6a7f64325ee3a7ce1c5e1cc39b22af712   \n",
       "2  0xacd03d601e5bb1b275bb94076ff46ed9d753435a   \n",
       "3  0x646e9a6a66726d54fa1137df4448fda922c50f0d   \n",
       "4  0x62b2f8888413cf2619f2eab477b811d989083f75   \n",
       "\n",
       "                                   to_address  \n",
       "0  0x00000001985c6a08963eef53821c78aa84318b42  \n",
       "1  0x00000002f32c0886ee65d68059fbdb76ef6a6996  \n",
       "2  0x000000064730640b7d670408d74280924883064f  \n",
       "3  0x00000009d94baf057697d988d2e3eec2fce81162  \n",
       "4  0x0000000a362b7ae7239e186b2bbeb943305c59ad  "
      ]
     },
     "execution_count": 58,
     "metadata": {},
     "output_type": "execute_result"
    }
   ],
   "source": [
    "df_seed.head()"
   ]
  },
  {
   "cell_type": "code",
   "execution_count": 17,
   "metadata": {},
   "outputs": [],
   "source": [
    "arr_diff_labels = np.setdiff1d(df_seed['from_address'].unique(), df_labels['address'].unique())"
   ]
  },
  {
   "cell_type": "code",
   "execution_count": 18,
   "metadata": {},
   "outputs": [
    {
     "name": "stdout",
     "output_type": "stream",
     "text": [
      "Number of addresses in labels but not in our known labels: 8619\n"
     ]
    }
   ],
   "source": [
    "print(f'Number of addresses in labels but not in our known labels: {len(arr_diff_labels)}')"
   ]
  },
  {
   "cell_type": "markdown",
   "metadata": {},
   "source": [
    "We use the tag-address to get the list of addresses that are tagged as exchange or bridge."
   ]
  },
  {
   "cell_type": "code",
   "execution_count": 20,
   "metadata": {},
   "outputs": [
    {
     "data": {
      "text/plain": [
       "array(['0x00000000000cd56832ce5dfbcbff02e7ec639bc9',\n",
       "       '0x00000002f32c0886ee65d68059fbdb76ef6a6996',\n",
       "       '0x00000023f6b4ed7185e7b8928072a8bfec660ff3', ...,\n",
       "       '0xffebf6747d8b46852e552d0ffebe71d47ac9fcae',\n",
       "       '0xffec1b5f5a24b5fc2457763704191aa220c8bf78',\n",
       "       '0xfff4900fa3c47ea46cc4063937c8547ecc4eb9b3'], dtype=object)"
      ]
     },
     "execution_count": 20,
     "metadata": {},
     "output_type": "execute_result"
    }
   ],
   "source": [
    "arr_diff_labels"
   ]
  },
  {
   "cell_type": "code",
   "execution_count": 22,
   "metadata": {},
   "outputs": [],
   "source": [
    "url_tag_api = 'http://localhost:8000/infer/optimism'\n",
    "headers = {'Content-type': 'application/json'}\n",
    "response = requests.post(url_tag_api, headers=headers, json={\"address_list\": arr_diff_labels.tolist()})\n",
    "\n"
   ]
  },
  {
   "cell_type": "code",
   "execution_count": 23,
   "metadata": {},
   "outputs": [
    {
     "name": "stdout",
     "output_type": "stream",
     "text": [
      "200\n"
     ]
    }
   ],
   "source": [
    "print(response.status_code)"
   ]
  },
  {
   "cell_type": "code",
   "execution_count": null,
   "metadata": {},
   "outputs": [],
   "source": [
    "# write json to file\n",
    "# json_string = json.dumps(json_res)\n",
    "# with open('data.json', 'w') as f:\n",
    "#     json.dump(json_string, f)"
   ]
  },
  {
   "cell_type": "code",
   "execution_count": 26,
   "metadata": {},
   "outputs": [
    {
     "data": {
      "text/html": [
       "<div>\n",
       "<style scoped>\n",
       "    .dataframe tbody tr th:only-of-type {\n",
       "        vertical-align: middle;\n",
       "    }\n",
       "\n",
       "    .dataframe tbody tr th {\n",
       "        vertical-align: top;\n",
       "    }\n",
       "\n",
       "    .dataframe thead th {\n",
       "        text-align: right;\n",
       "    }\n",
       "</style>\n",
       "<table border=\"1\" class=\"dataframe\">\n",
       "  <thead>\n",
       "    <tr style=\"text-align: right;\">\n",
       "      <th></th>\n",
       "      <th>eoa</th>\n",
       "      <th>prediction</th>\n",
       "    </tr>\n",
       "  </thead>\n",
       "  <tbody>\n",
       "    <tr>\n",
       "      <th>0</th>\n",
       "      <td>0x08928dcb5bd0b58f8de51921eaade7da8146d259</td>\n",
       "      <td>0</td>\n",
       "    </tr>\n",
       "    <tr>\n",
       "      <th>1</th>\n",
       "      <td>0x156ddb799cc9ecb1a099f3fac2a3ce5affef266e</td>\n",
       "      <td>0</td>\n",
       "    </tr>\n",
       "  </tbody>\n",
       "</table>\n",
       "</div>"
      ],
      "text/plain": [
       "                                          eoa  prediction\n",
       "0  0x08928dcb5bd0b58f8de51921eaade7da8146d259           0\n",
       "1  0x156ddb799cc9ecb1a099f3fac2a3ce5affef266e           0"
      ]
     },
     "execution_count": 26,
     "metadata": {},
     "output_type": "execute_result"
    }
   ],
   "source": [
    "df_res = pd.read_json(response.json()['result'], orient='split')\n",
    "df_res.head(2)"
   ]
  },
  {
   "cell_type": "code",
   "execution_count": 27,
   "metadata": {},
   "outputs": [],
   "source": [
    "df_res.to_csv(os.path.join(ODC_DATA_DIR, 'seed_labels_gr18_raw.csv'), index=False)"
   ]
  },
  {
   "cell_type": "code",
   "execution_count": 28,
   "metadata": {},
   "outputs": [],
   "source": [
    "# Concatenate the results with the known labels\n",
    "# df_labels_all = pd.concat([df_labels.loc[:, ['address', 'cex_or_bridge']], df_res], ignore_index=True)\n",
    "df_labels_all = df_res.rename(columns={'eoa': 'address', 'prediction': 'cex_or_bridge_raw'})"
   ]
  },
  {
   "cell_type": "code",
   "execution_count": 29,
   "metadata": {},
   "outputs": [
    {
     "data": {
      "text/html": [
       "<div>\n",
       "<style scoped>\n",
       "    .dataframe tbody tr th:only-of-type {\n",
       "        vertical-align: middle;\n",
       "    }\n",
       "\n",
       "    .dataframe tbody tr th {\n",
       "        vertical-align: top;\n",
       "    }\n",
       "\n",
       "    .dataframe thead th {\n",
       "        text-align: right;\n",
       "    }\n",
       "</style>\n",
       "<table border=\"1\" class=\"dataframe\">\n",
       "  <thead>\n",
       "    <tr style=\"text-align: right;\">\n",
       "      <th></th>\n",
       "      <th>address</th>\n",
       "      <th>cex_or_bridge_raw</th>\n",
       "    </tr>\n",
       "  </thead>\n",
       "  <tbody>\n",
       "    <tr>\n",
       "      <th>0</th>\n",
       "      <td>0x08928dcb5bd0b58f8de51921eaade7da8146d259</td>\n",
       "      <td>0</td>\n",
       "    </tr>\n",
       "    <tr>\n",
       "      <th>1</th>\n",
       "      <td>0x156ddb799cc9ecb1a099f3fac2a3ce5affef266e</td>\n",
       "      <td>0</td>\n",
       "    </tr>\n",
       "  </tbody>\n",
       "</table>\n",
       "</div>"
      ],
      "text/plain": [
       "                                      address  cex_or_bridge_raw\n",
       "0  0x08928dcb5bd0b58f8de51921eaade7da8146d259                  0\n",
       "1  0x156ddb799cc9ecb1a099f3fac2a3ce5affef266e                  0"
      ]
     },
     "execution_count": 29,
     "metadata": {},
     "output_type": "execute_result"
    }
   ],
   "source": [
    "df_labels_all.head(2)"
   ]
  },
  {
   "cell_type": "code",
   "execution_count": 35,
   "metadata": {},
   "outputs": [
    {
     "data": {
      "text/plain": [
       "32"
      ]
     },
     "execution_count": 35,
     "metadata": {},
     "output_type": "execute_result"
    }
   ],
   "source": [
    "df_labels['cex_or_bridge'].sum()"
   ]
  },
  {
   "cell_type": "code",
   "execution_count": 30,
   "metadata": {},
   "outputs": [],
   "source": [
    "df_seed.reset_index(inplace=True, drop=True)"
   ]
  },
  {
   "cell_type": "code",
   "execution_count": 31,
   "metadata": {},
   "outputs": [],
   "source": [
    "df_labels_all['address'] = df_labels_all['address'].str.lower()"
   ]
  },
  {
   "cell_type": "code",
   "execution_count": 32,
   "metadata": {},
   "outputs": [],
   "source": [
    "df_seed['from_address'] = df_seed['from_address'].str.lower()"
   ]
  },
  {
   "cell_type": "code",
   "execution_count": 38,
   "metadata": {},
   "outputs": [
    {
     "data": {
      "text/plain": [
       "from_address             0\n",
       "to_address               0\n",
       "address              27326\n",
       "cex_or_bridge_raw    27326\n",
       "dtype: int64"
      ]
     },
     "execution_count": 38,
     "metadata": {},
     "output_type": "execute_result"
    }
   ],
   "source": [
    "# For each seed wallet check if it is a bridge or a cex and aggragate the results by seed wallet\n",
    "df_seed_labels = df_seed.merge(df_labels_all, left_on='from_address', right_on='address', how='left')\n",
    "df_seed_labels.isna().sum()"
   ]
  },
  {
   "cell_type": "code",
   "execution_count": 39,
   "metadata": {},
   "outputs": [],
   "source": [
    "df_seed_labels.dropna(subset=['cex_or_bridge_raw'], inplace=True)"
   ]
  },
  {
   "cell_type": "code",
   "execution_count": 43,
   "metadata": {},
   "outputs": [],
   "source": [
    "df_seed_agg = df_seed_labels.groupby('from_address').agg({'cex_or_bridge_raw': 'sum'}).sort_values(by='cex_or_bridge_raw', ascending=False)"
   ]
  },
  {
   "cell_type": "code",
   "execution_count": 48,
   "metadata": {},
   "outputs": [
    {
     "data": {
      "text/html": [
       "<div>\n",
       "<style scoped>\n",
       "    .dataframe tbody tr th:only-of-type {\n",
       "        vertical-align: middle;\n",
       "    }\n",
       "\n",
       "    .dataframe tbody tr th {\n",
       "        vertical-align: top;\n",
       "    }\n",
       "\n",
       "    .dataframe thead th {\n",
       "        text-align: right;\n",
       "    }\n",
       "</style>\n",
       "<table border=\"1\" class=\"dataframe\">\n",
       "  <thead>\n",
       "    <tr style=\"text-align: right;\">\n",
       "      <th></th>\n",
       "      <th>cex_or_bridge_raw</th>\n",
       "    </tr>\n",
       "    <tr>\n",
       "      <th>from_address</th>\n",
       "      <th></th>\n",
       "    </tr>\n",
       "  </thead>\n",
       "  <tbody>\n",
       "    <tr>\n",
       "      <th>0x45a318273749d6eb00f5f6ca3bc7cd3de26d642a</th>\n",
       "      <td>87.0</td>\n",
       "    </tr>\n",
       "    <tr>\n",
       "      <th>0xd267a84a50c6993823c2c4b66610aca137812b13</th>\n",
       "      <td>12.0</td>\n",
       "    </tr>\n",
       "    <tr>\n",
       "      <th>0x030081c7d9c0cf6f3fdd3614a7c5bd6b4369934a</th>\n",
       "      <td>9.0</td>\n",
       "    </tr>\n",
       "    <tr>\n",
       "      <th>0xab75ca9ac66c0499d4ebf0b925777c7d282e015e</th>\n",
       "      <td>4.0</td>\n",
       "    </tr>\n",
       "    <tr>\n",
       "      <th>0x1eaae1b90bb9331d53a5fd835f2da0147e49f777</th>\n",
       "      <td>3.0</td>\n",
       "    </tr>\n",
       "    <tr>\n",
       "      <th>0x61f6bcc9f67a9dab6eff059f0d42d7da34b871a6</th>\n",
       "      <td>3.0</td>\n",
       "    </tr>\n",
       "    <tr>\n",
       "      <th>0x994841265cd8a18a710d839da4ca8000b0a121c5</th>\n",
       "      <td>3.0</td>\n",
       "    </tr>\n",
       "    <tr>\n",
       "      <th>0x827c83377cdc4c6bf6e8c5ca133f883890837230</th>\n",
       "      <td>3.0</td>\n",
       "    </tr>\n",
       "    <tr>\n",
       "      <th>0xc707ca69b2323a0703a11de784cb70417b0844e1</th>\n",
       "      <td>3.0</td>\n",
       "    </tr>\n",
       "    <tr>\n",
       "      <th>0x871e432c387518491576e21a68ea769a04e3c7d3</th>\n",
       "      <td>2.0</td>\n",
       "    </tr>\n",
       "    <tr>\n",
       "      <th>0x1b38dfb11ce378417ca96e1c0dfa7a328a4b0fcd</th>\n",
       "      <td>2.0</td>\n",
       "    </tr>\n",
       "    <tr>\n",
       "      <th>0xc93f6548e60413f47d2d928c33fd9b902a90bf93</th>\n",
       "      <td>2.0</td>\n",
       "    </tr>\n",
       "    <tr>\n",
       "      <th>0x3ae6a89e590f30c3074a84f2582a7aac9a41fe56</th>\n",
       "      <td>2.0</td>\n",
       "    </tr>\n",
       "    <tr>\n",
       "      <th>0x107df559b1df6f2ed9e6179f0a43868e049c902f</th>\n",
       "      <td>2.0</td>\n",
       "    </tr>\n",
       "    <tr>\n",
       "      <th>0xf6c1307fcd0ed9e396bde6d3e8ae76db94cc2ee4</th>\n",
       "      <td>2.0</td>\n",
       "    </tr>\n",
       "    <tr>\n",
       "      <th>0x17ea38de1befd0c676e0616a3a2850203feaa020</th>\n",
       "      <td>2.0</td>\n",
       "    </tr>\n",
       "    <tr>\n",
       "      <th>0x4e29fa717fb61753e26885421b84ff7e06df585e</th>\n",
       "      <td>2.0</td>\n",
       "    </tr>\n",
       "    <tr>\n",
       "      <th>0xcf47bfcd6f76fb24a6696c3cb2087278a54f5165</th>\n",
       "      <td>2.0</td>\n",
       "    </tr>\n",
       "    <tr>\n",
       "      <th>0x27d8dcee49d8bdbbc94e9e0bb947931fd4c7a129</th>\n",
       "      <td>2.0</td>\n",
       "    </tr>\n",
       "    <tr>\n",
       "      <th>0x01ccb548cb303f1c552eeb660fec6f3d7876c0a0</th>\n",
       "      <td>2.0</td>\n",
       "    </tr>\n",
       "    <tr>\n",
       "      <th>0x0b3fb7ba63a9cb9ab9a5f9b45f9d9a5e3bfe8e1a</th>\n",
       "      <td>2.0</td>\n",
       "    </tr>\n",
       "    <tr>\n",
       "      <th>0x632ffbef4a84298b98c577b617e6e64adbdb9d82</th>\n",
       "      <td>2.0</td>\n",
       "    </tr>\n",
       "    <tr>\n",
       "      <th>0x0aa5d2d177620633838ba9f58a7ddbf2871f50ff</th>\n",
       "      <td>2.0</td>\n",
       "    </tr>\n",
       "    <tr>\n",
       "      <th>0x7a0d5ea416dc5cb2d7692e7384152275538ad156</th>\n",
       "      <td>2.0</td>\n",
       "    </tr>\n",
       "    <tr>\n",
       "      <th>0x396c015aa5d27d8d0d6e1d16744e105f168ae000</th>\n",
       "      <td>2.0</td>\n",
       "    </tr>\n",
       "    <tr>\n",
       "      <th>0x0fb867bde96eca4ec04a7e6d649894baa1a296ee</th>\n",
       "      <td>2.0</td>\n",
       "    </tr>\n",
       "    <tr>\n",
       "      <th>0xb8818317a019c0ef5c4eab5377c30451444b6a28</th>\n",
       "      <td>2.0</td>\n",
       "    </tr>\n",
       "    <tr>\n",
       "      <th>0x9a66791c38b5630941a54206c5cb29d7786b5350</th>\n",
       "      <td>2.0</td>\n",
       "    </tr>\n",
       "    <tr>\n",
       "      <th>0x3cca8c74b3fba0e6ad387b6d55e9f443b2aa0c3b</th>\n",
       "      <td>2.0</td>\n",
       "    </tr>\n",
       "    <tr>\n",
       "      <th>0x519c6f7305776104ef616b0cc01a613975e3fc18</th>\n",
       "      <td>2.0</td>\n",
       "    </tr>\n",
       "    <tr>\n",
       "      <th>0xa580905eb09862af9d06e36fcd0df0aa4ea74687</th>\n",
       "      <td>2.0</td>\n",
       "    </tr>\n",
       "    <tr>\n",
       "      <th>0xa048144611b4d03bf6dfcafa1d3e953b246b1fd4</th>\n",
       "      <td>2.0</td>\n",
       "    </tr>\n",
       "  </tbody>\n",
       "</table>\n",
       "</div>"
      ],
      "text/plain": [
       "                                            cex_or_bridge_raw\n",
       "from_address                                                 \n",
       "0x45a318273749d6eb00f5f6ca3bc7cd3de26d642a               87.0\n",
       "0xd267a84a50c6993823c2c4b66610aca137812b13               12.0\n",
       "0x030081c7d9c0cf6f3fdd3614a7c5bd6b4369934a                9.0\n",
       "0xab75ca9ac66c0499d4ebf0b925777c7d282e015e                4.0\n",
       "0x1eaae1b90bb9331d53a5fd835f2da0147e49f777                3.0\n",
       "0x61f6bcc9f67a9dab6eff059f0d42d7da34b871a6                3.0\n",
       "0x994841265cd8a18a710d839da4ca8000b0a121c5                3.0\n",
       "0x827c83377cdc4c6bf6e8c5ca133f883890837230                3.0\n",
       "0xc707ca69b2323a0703a11de784cb70417b0844e1                3.0\n",
       "0x871e432c387518491576e21a68ea769a04e3c7d3                2.0\n",
       "0x1b38dfb11ce378417ca96e1c0dfa7a328a4b0fcd                2.0\n",
       "0xc93f6548e60413f47d2d928c33fd9b902a90bf93                2.0\n",
       "0x3ae6a89e590f30c3074a84f2582a7aac9a41fe56                2.0\n",
       "0x107df559b1df6f2ed9e6179f0a43868e049c902f                2.0\n",
       "0xf6c1307fcd0ed9e396bde6d3e8ae76db94cc2ee4                2.0\n",
       "0x17ea38de1befd0c676e0616a3a2850203feaa020                2.0\n",
       "0x4e29fa717fb61753e26885421b84ff7e06df585e                2.0\n",
       "0xcf47bfcd6f76fb24a6696c3cb2087278a54f5165                2.0\n",
       "0x27d8dcee49d8bdbbc94e9e0bb947931fd4c7a129                2.0\n",
       "0x01ccb548cb303f1c552eeb660fec6f3d7876c0a0                2.0\n",
       "0x0b3fb7ba63a9cb9ab9a5f9b45f9d9a5e3bfe8e1a                2.0\n",
       "0x632ffbef4a84298b98c577b617e6e64adbdb9d82                2.0\n",
       "0x0aa5d2d177620633838ba9f58a7ddbf2871f50ff                2.0\n",
       "0x7a0d5ea416dc5cb2d7692e7384152275538ad156                2.0\n",
       "0x396c015aa5d27d8d0d6e1d16744e105f168ae000                2.0\n",
       "0x0fb867bde96eca4ec04a7e6d649894baa1a296ee                2.0\n",
       "0xb8818317a019c0ef5c4eab5377c30451444b6a28                2.0\n",
       "0x9a66791c38b5630941a54206c5cb29d7786b5350                2.0\n",
       "0x3cca8c74b3fba0e6ad387b6d55e9f443b2aa0c3b                2.0\n",
       "0x519c6f7305776104ef616b0cc01a613975e3fc18                2.0\n",
       "0xa580905eb09862af9d06e36fcd0df0aa4ea74687                2.0\n",
       "0xa048144611b4d03bf6dfcafa1d3e953b246b1fd4                2.0"
      ]
     },
     "execution_count": 48,
     "metadata": {},
     "output_type": "execute_result"
    }
   ],
   "source": [
    "df_seed_agg[df_seed_agg['cex_or_bridge_raw'] > 1]"
   ]
  },
  {
   "cell_type": "markdown",
   "metadata": {},
   "source": [
    "some manual work to verify that the addresses are indeed exchange or bridge.\n",
    "We know that arround 10% of addresses are mislabelled."
   ]
  },
  {
   "cell_type": "markdown",
   "metadata": {},
   "source": [
    "From these addresses only the first one is a cex others are bots.\n",
    "\n",
    "We then add that address to the list of labels and can now use the seed clustering algorithm."
   ]
  },
  {
   "cell_type": "code",
   "execution_count": 59,
   "metadata": {},
   "outputs": [],
   "source": [
    "new_df_cex = pd.DataFrame(columns=['address', 'cex_or_bridge'], data=[['0x45a318273749d6eb00f5f6ca3bc7cd3de26d642a', True]])\n",
    "df_labels = pd.concat([df_labels, new_df_cex], ignore_index=True)"
   ]
  },
  {
   "cell_type": "code",
   "execution_count": 60,
   "metadata": {},
   "outputs": [
    {
     "data": {
      "text/html": [
       "<div>\n",
       "<style scoped>\n",
       "    .dataframe tbody tr th:only-of-type {\n",
       "        vertical-align: middle;\n",
       "    }\n",
       "\n",
       "    .dataframe tbody tr th {\n",
       "        vertical-align: top;\n",
       "    }\n",
       "\n",
       "    .dataframe thead th {\n",
       "        text-align: right;\n",
       "    }\n",
       "</style>\n",
       "<table border=\"1\" class=\"dataframe\">\n",
       "  <thead>\n",
       "    <tr style=\"text-align: right;\">\n",
       "      <th></th>\n",
       "      <th>address</th>\n",
       "      <th>tag</th>\n",
       "      <th>sub_type</th>\n",
       "      <th>cex_or_bridge</th>\n",
       "    </tr>\n",
       "  </thead>\n",
       "  <tbody>\n",
       "    <tr>\n",
       "      <th>0</th>\n",
       "      <td>0x4a1939dc1de524ff01980a911f0f4d65ce7a27ba</td>\n",
       "      <td>airdrop_master</td>\n",
       "      <td>NaN</td>\n",
       "      <td>False</td>\n",
       "    </tr>\n",
       "    <tr>\n",
       "      <th>1</th>\n",
       "      <td>0xeec428c18ff39c66162e39e79ed6eb8c790e43d7</td>\n",
       "      <td>cex_or_bridge</td>\n",
       "      <td>?</td>\n",
       "      <td>True</td>\n",
       "    </tr>\n",
       "    <tr>\n",
       "      <th>2</th>\n",
       "      <td>0x8f5075a0795864253e1f11313e5f98accf512fed</td>\n",
       "      <td>airdrop_master</td>\n",
       "      <td>NaN</td>\n",
       "      <td>False</td>\n",
       "    </tr>\n",
       "    <tr>\n",
       "      <th>3</th>\n",
       "      <td>0x9ce0dc49df0ab26690748e90a6f2c2ad9cec5fad</td>\n",
       "      <td>airdrop_master</td>\n",
       "      <td>NaN</td>\n",
       "      <td>False</td>\n",
       "    </tr>\n",
       "    <tr>\n",
       "      <th>4</th>\n",
       "      <td>0x5bdf85216ec1e38d6458c870992a69e38e03f7ef</td>\n",
       "      <td>cex</td>\n",
       "      <td>BitGet</td>\n",
       "      <td>True</td>\n",
       "    </tr>\n",
       "    <tr>\n",
       "      <th>...</th>\n",
       "      <td>...</td>\n",
       "      <td>...</td>\n",
       "      <td>...</td>\n",
       "      <td>...</td>\n",
       "    </tr>\n",
       "    <tr>\n",
       "      <th>100</th>\n",
       "      <td>0x54a3b587448e605f854e4274b50d4ac024ed3bfb</td>\n",
       "      <td>user</td>\n",
       "      <td>50k</td>\n",
       "      <td>False</td>\n",
       "    </tr>\n",
       "    <tr>\n",
       "      <th>101</th>\n",
       "      <td>0x1beb5a36f40f68eccd53899c94902e9905135456</td>\n",
       "      <td>bot</td>\n",
       "      <td>scam</td>\n",
       "      <td>False</td>\n",
       "    </tr>\n",
       "    <tr>\n",
       "      <th>102</th>\n",
       "      <td>0x1579e97c0c9619c61aef016d055b3d7de7f14bdb</td>\n",
       "      <td>airdrop_master</td>\n",
       "      <td>medium</td>\n",
       "      <td>False</td>\n",
       "    </tr>\n",
       "    <tr>\n",
       "      <th>103</th>\n",
       "      <td>0x27ee985d1e446ec71c277c89cd877ec4eeaa236c</td>\n",
       "      <td>cex</td>\n",
       "      <td>Binance?</td>\n",
       "      <td>True</td>\n",
       "    </tr>\n",
       "    <tr>\n",
       "      <th>104</th>\n",
       "      <td>0x45a318273749d6eb00f5f6ca3bc7cd3de26d642a</td>\n",
       "      <td>NaN</td>\n",
       "      <td>NaN</td>\n",
       "      <td>True</td>\n",
       "    </tr>\n",
       "  </tbody>\n",
       "</table>\n",
       "<p>105 rows × 4 columns</p>\n",
       "</div>"
      ],
      "text/plain": [
       "                                        address             tag  sub_type   \n",
       "0    0x4a1939dc1de524ff01980a911f0f4d65ce7a27ba  airdrop_master       NaN  \\\n",
       "1    0xeec428c18ff39c66162e39e79ed6eb8c790e43d7   cex_or_bridge         ?   \n",
       "2    0x8f5075a0795864253e1f11313e5f98accf512fed  airdrop_master       NaN   \n",
       "3    0x9ce0dc49df0ab26690748e90a6f2c2ad9cec5fad  airdrop_master       NaN   \n",
       "4    0x5bdf85216ec1e38d6458c870992a69e38e03f7ef             cex    BitGet   \n",
       "..                                          ...             ...       ...   \n",
       "100  0x54a3b587448e605f854e4274b50d4ac024ed3bfb            user       50k   \n",
       "101  0x1beb5a36f40f68eccd53899c94902e9905135456            bot       scam   \n",
       "102  0x1579e97c0c9619c61aef016d055b3d7de7f14bdb  airdrop_master    medium   \n",
       "103  0x27ee985d1e446ec71c277c89cd877ec4eeaa236c             cex  Binance?   \n",
       "104  0x45a318273749d6eb00f5f6ca3bc7cd3de26d642a             NaN       NaN   \n",
       "\n",
       "     cex_or_bridge  \n",
       "0            False  \n",
       "1             True  \n",
       "2            False  \n",
       "3            False  \n",
       "4             True  \n",
       "..             ...  \n",
       "100          False  \n",
       "101          False  \n",
       "102          False  \n",
       "103           True  \n",
       "104           True  \n",
       "\n",
       "[105 rows x 4 columns]"
      ]
     },
     "execution_count": 60,
     "metadata": {},
     "output_type": "execute_result"
    }
   ],
   "source": [
    "df_labels"
   ]
  },
  {
   "cell_type": "code",
   "execution_count": 64,
   "metadata": {},
   "outputs": [
    {
     "data": {
      "text/html": [
       "<div>\n",
       "<style scoped>\n",
       "    .dataframe tbody tr th:only-of-type {\n",
       "        vertical-align: middle;\n",
       "    }\n",
       "\n",
       "    .dataframe tbody tr th {\n",
       "        vertical-align: top;\n",
       "    }\n",
       "\n",
       "    .dataframe thead th {\n",
       "        text-align: right;\n",
       "    }\n",
       "</style>\n",
       "<table border=\"1\" class=\"dataframe\">\n",
       "  <thead>\n",
       "    <tr style=\"text-align: right;\">\n",
       "      <th></th>\n",
       "      <th>to_address</th>\n",
       "    </tr>\n",
       "    <tr>\n",
       "      <th>from_address</th>\n",
       "      <th></th>\n",
       "    </tr>\n",
       "  </thead>\n",
       "  <tbody>\n",
       "    <tr>\n",
       "      <th>0xacd03d601e5bb1b275bb94076ff46ed9d753435a</th>\n",
       "      <td>9105</td>\n",
       "    </tr>\n",
       "    <tr>\n",
       "      <th>0x80c67432656d59144ceff962e8faf8926599bcf8</th>\n",
       "      <td>6360</td>\n",
       "    </tr>\n",
       "  </tbody>\n",
       "</table>\n",
       "</div>"
      ],
      "text/plain": [
       "                                            to_address\n",
       "from_address                                          \n",
       "0xacd03d601e5bb1b275bb94076ff46ed9d753435a        9105\n",
       "0x80c67432656d59144ceff962e8faf8926599bcf8        6360"
      ]
     },
     "execution_count": 64,
     "metadata": {},
     "output_type": "execute_result"
    }
   ],
   "source": [
    "df_count_seed = df_seed.groupby('from_address').count().sort_values(by='to_address', ascending=False)\n",
    "df_count_seed.head(2)"
   ]
  },
  {
   "cell_type": "code",
   "execution_count": 65,
   "metadata": {},
   "outputs": [
    {
     "name": "stdout",
     "output_type": "stream",
     "text": [
      "33\n"
     ]
    }
   ],
   "source": [
    "array_address_cex_or_bridge = df_labels[df_labels['cex_or_bridge']]['address'].unique()\n",
    "print(len(array_address_cex_or_bridge))"
   ]
  },
  {
   "cell_type": "code",
   "execution_count": 70,
   "metadata": {},
   "outputs": [
    {
     "data": {
      "text/html": [
       "<div>\n",
       "<style scoped>\n",
       "    .dataframe tbody tr th:only-of-type {\n",
       "        vertical-align: middle;\n",
       "    }\n",
       "\n",
       "    .dataframe tbody tr th {\n",
       "        vertical-align: top;\n",
       "    }\n",
       "\n",
       "    .dataframe thead th {\n",
       "        text-align: right;\n",
       "    }\n",
       "</style>\n",
       "<table border=\"1\" class=\"dataframe\">\n",
       "  <thead>\n",
       "    <tr style=\"text-align: right;\">\n",
       "      <th></th>\n",
       "      <th>EOA</th>\n",
       "      <th>cex_or_bridge</th>\n",
       "    </tr>\n",
       "    <tr>\n",
       "      <th>from_address</th>\n",
       "      <th></th>\n",
       "      <th></th>\n",
       "    </tr>\n",
       "  </thead>\n",
       "  <tbody>\n",
       "    <tr>\n",
       "      <th>0x17f52a50227ea7aa6042eaae44c84a9a9d59d092</th>\n",
       "      <td>274</td>\n",
       "      <td>False</td>\n",
       "    </tr>\n",
       "    <tr>\n",
       "      <th>0xd7367bd1a720f42d9f4ba0043db89dc49cf80f6d</th>\n",
       "      <td>52</td>\n",
       "      <td>False</td>\n",
       "    </tr>\n",
       "    <tr>\n",
       "      <th>0xb4bb4a094338bc566e4bb0355c9de525f7c1f1b4</th>\n",
       "      <td>50</td>\n",
       "      <td>False</td>\n",
       "    </tr>\n",
       "    <tr>\n",
       "      <th>0x5b965a9cdcdb710d50967b0ac32e6341b72063a2</th>\n",
       "      <td>38</td>\n",
       "      <td>False</td>\n",
       "    </tr>\n",
       "    <tr>\n",
       "      <th>0xa3992a99b5838ababb2606a697be12384e5b2655</th>\n",
       "      <td>34</td>\n",
       "      <td>False</td>\n",
       "    </tr>\n",
       "    <tr>\n",
       "      <th>0xc6d7cba263bc5afb0ecc97820d8c6c6c9c92b0c2</th>\n",
       "      <td>24</td>\n",
       "      <td>False</td>\n",
       "    </tr>\n",
       "    <tr>\n",
       "      <th>0x27899fface558bde9f284ba5c8c91ec79ee60fd6</th>\n",
       "      <td>18</td>\n",
       "      <td>False</td>\n",
       "    </tr>\n",
       "    <tr>\n",
       "      <th>0x3047bf8e87f0786702b8e8265c3b04cedba920e3</th>\n",
       "      <td>18</td>\n",
       "      <td>False</td>\n",
       "    </tr>\n",
       "    <tr>\n",
       "      <th>0xce557bb2eeb69162116e60472890503b9da8c5a6</th>\n",
       "      <td>16</td>\n",
       "      <td>False</td>\n",
       "    </tr>\n",
       "    <tr>\n",
       "      <th>0xc55b8da10e52e9f7bf464f4c85a59f686dd7d772</th>\n",
       "      <td>15</td>\n",
       "      <td>False</td>\n",
       "    </tr>\n",
       "    <tr>\n",
       "      <th>0x98db3a41bf8bf4ded2c92a84ec0705689ddeef8b</th>\n",
       "      <td>15</td>\n",
       "      <td>False</td>\n",
       "    </tr>\n",
       "    <tr>\n",
       "      <th>0x416365993481e52e0472e7417656276d4e147a00</th>\n",
       "      <td>14</td>\n",
       "      <td>False</td>\n",
       "    </tr>\n",
       "    <tr>\n",
       "      <th>0xb7c1c4290946efc9fb8e4c47a65899f98f448272</th>\n",
       "      <td>13</td>\n",
       "      <td>False</td>\n",
       "    </tr>\n",
       "    <tr>\n",
       "      <th>0x8f3c665cfd74fab1025e5693d80aaee3a4967398</th>\n",
       "      <td>13</td>\n",
       "      <td>False</td>\n",
       "    </tr>\n",
       "    <tr>\n",
       "      <th>0xbcc306cff05cd3a24286591bfc98efb443144a90</th>\n",
       "      <td>13</td>\n",
       "      <td>False</td>\n",
       "    </tr>\n",
       "    <tr>\n",
       "      <th>0x1a676d7fe4b97f1b10b1407600602f9fbf516ae8</th>\n",
       "      <td>12</td>\n",
       "      <td>False</td>\n",
       "    </tr>\n",
       "    <tr>\n",
       "      <th>0x7f52995d09c8eb7c562191e407ab3f273fc5d0ad</th>\n",
       "      <td>12</td>\n",
       "      <td>False</td>\n",
       "    </tr>\n",
       "    <tr>\n",
       "      <th>0xd267a84a50c6993823c2c4b66610aca137812b13</th>\n",
       "      <td>12</td>\n",
       "      <td>False</td>\n",
       "    </tr>\n",
       "    <tr>\n",
       "      <th>0x646592183ff25a0c44f09896a384004778f831ed</th>\n",
       "      <td>12</td>\n",
       "      <td>False</td>\n",
       "    </tr>\n",
       "    <tr>\n",
       "      <th>0xf1caea27ea10ecae48fce7428476a592a5569be5</th>\n",
       "      <td>11</td>\n",
       "      <td>False</td>\n",
       "    </tr>\n",
       "  </tbody>\n",
       "</table>\n",
       "</div>"
      ],
      "text/plain": [
       "                                            EOA  cex_or_bridge\n",
       "from_address                                                  \n",
       "0x17f52a50227ea7aa6042eaae44c84a9a9d59d092  274          False\n",
       "0xd7367bd1a720f42d9f4ba0043db89dc49cf80f6d   52          False\n",
       "0xb4bb4a094338bc566e4bb0355c9de525f7c1f1b4   50          False\n",
       "0x5b965a9cdcdb710d50967b0ac32e6341b72063a2   38          False\n",
       "0xa3992a99b5838ababb2606a697be12384e5b2655   34          False\n",
       "0xc6d7cba263bc5afb0ecc97820d8c6c6c9c92b0c2   24          False\n",
       "0x27899fface558bde9f284ba5c8c91ec79ee60fd6   18          False\n",
       "0x3047bf8e87f0786702b8e8265c3b04cedba920e3   18          False\n",
       "0xce557bb2eeb69162116e60472890503b9da8c5a6   16          False\n",
       "0xc55b8da10e52e9f7bf464f4c85a59f686dd7d772   15          False\n",
       "0x98db3a41bf8bf4ded2c92a84ec0705689ddeef8b   15          False\n",
       "0x416365993481e52e0472e7417656276d4e147a00   14          False\n",
       "0xb7c1c4290946efc9fb8e4c47a65899f98f448272   13          False\n",
       "0x8f3c665cfd74fab1025e5693d80aaee3a4967398   13          False\n",
       "0xbcc306cff05cd3a24286591bfc98efb443144a90   13          False\n",
       "0x1a676d7fe4b97f1b10b1407600602f9fbf516ae8   12          False\n",
       "0x7f52995d09c8eb7c562191e407ab3f273fc5d0ad   12          False\n",
       "0xd267a84a50c6993823c2c4b66610aca137812b13   12          False\n",
       "0x646592183ff25a0c44f09896a384004778f831ed   12          False\n",
       "0xf1caea27ea10ecae48fce7428476a592a5569be5   11          False"
      ]
     },
     "execution_count": 70,
     "metadata": {},
     "output_type": "execute_result"
    }
   ],
   "source": [
    "df_count_seed['cex_or_bridge'] = df_count_seed.index.isin(array_address_cex_or_bridge)\n",
    "df_count_seed.rename(columns={'to_address': 'EOA'}, inplace=True)\n",
    "df_count_seed[~df_count_seed['cex_or_bridge']].head(20)\n"
   ]
  },
  {
   "cell_type": "markdown",
   "metadata": {},
   "source": [
    "Here we compute some metric to see how many sybil could be flagged with the new seed clustering algorithm.\n",
    "These is not the best approach because we should look at these suspicious addresses and their votes to see if they are sybil or not."
   ]
  },
  {
   "cell_type": "code",
   "execution_count": 71,
   "metadata": {},
   "outputs": [
    {
     "name": "stdout",
     "output_type": "stream",
     "text": [
      "                                            EOA  cex_or_bridge\n",
      "from_address                                                  \n",
      "0x17f52a50227ea7aa6042eaae44c84a9a9d59d092  274          False\n",
      "0xd7367bd1a720f42d9f4ba0043db89dc49cf80f6d   52          False\n",
      "number of suspicious seeding wallets: 381\n",
      "number of expected sybils: 2168\n"
     ]
    }
   ],
   "source": [
    "df_suspicous_seed = df_count_seed.loc[np.logical_and(~df_count_seed['cex_or_bridge'], df_count_seed['EOA'] > 2)]\n",
    "print(df_suspicous_seed.head(2))\n",
    "print(f'number of suspicious seeding wallets: {df_suspicous_seed.shape[0]}')\n",
    "print(f'number of expected sybils: {df_suspicous_seed[\"EOA\"].sum()}')"
   ]
  },
  {
   "cell_type": "code",
   "execution_count": 72,
   "metadata": {},
   "outputs": [
    {
     "name": "stdout",
     "output_type": "stream",
     "text": [
      "number of suspicious seeding wallets: 1085\n",
      "number of expected sybils: 3576\n"
     ]
    }
   ],
   "source": [
    "df_suspicous_seed = df_count_seed.loc[np.logical_and(~df_count_seed['cex_or_bridge'], df_count_seed['EOA'] > 1)]\n",
    "print(f'number of suspicious seeding wallets: {df_suspicous_seed.shape[0]}')\n",
    "print(f'number of expected sybils: {df_suspicous_seed[\"EOA\"].sum()}')"
   ]
  },
  {
   "cell_type": "markdown",
   "metadata": {},
   "source": [
    "Above 3 seeding of voters we can expect the voter address to be a sybil. At 2 we may not be sure so the best way is to look at the votes."
   ]
  },
  {
   "cell_type": "code",
   "execution_count": 75,
   "metadata": {},
   "outputs": [],
   "source": [
    "df_seed['EOA'] = df_seed['to_address']"
   ]
  },
  {
   "cell_type": "code",
   "execution_count": 76,
   "metadata": {},
   "outputs": [
    {
     "name": "stdout",
     "output_type": "stream",
     "text": [
      "number of suspicious voters: 4157\n",
      "number of suspicious_seeder 1085\n"
     ]
    }
   ],
   "source": [
    "array_suspicous_seed = df_suspicous_seed.index.values\n",
    "array_sus_seed_eoa = df_seed[df_seed['EOA'].isin(array_suspicous_seed)].EOA.unique()\n",
    "array_sus_seed_from = df_seed[df_seed['from_address'].isin(array_suspicous_seed)].from_address.unique()\n",
    "suspicious_voter = df_seed[np.logical_or(df_seed['EOA'].isin(array_suspicous_seed), df_seed['from_address'].isin(array_suspicous_seed))]['EOA'].unique()\n",
    "print(f'number of suspicious voters: {len(suspicious_voter)}')\n",
    "print(f'number of suspicious_seeder {len(array_suspicous_seed)}')"
   ]
  },
  {
   "cell_type": "code",
   "execution_count": 77,
   "metadata": {},
   "outputs": [],
   "source": [
    "df_seed_suspicious = df_seed[np.logical_or(df_seed['EOA'].isin(array_suspicous_seed), df_seed['from_address'].isin(array_suspicous_seed))].copy()"
   ]
  },
  {
   "cell_type": "code",
   "execution_count": 78,
   "metadata": {},
   "outputs": [],
   "source": [
    "cluster = []\n",
    "for group in df_seed_suspicious.groupby('from_address'):\n",
    "    small_cluster = np.array([])\n",
    "    if group[0] in array_address_cex_or_bridge:\n",
    "        small_cluster = group[1]['EOA'].unique()\n",
    "    else:\n",
    "        small_cluster = np.append(group[1]['EOA'].unique(), group[0])\n",
    "    cluster.append(small_cluster)"
   ]
  },
  {
   "cell_type": "code",
   "execution_count": 79,
   "metadata": {},
   "outputs": [
    {
     "data": {
      "text/plain": [
       "1365"
      ]
     },
     "execution_count": 79,
     "metadata": {},
     "output_type": "execute_result"
    }
   ],
   "source": [
    "df_seed_suspicious.from_address.unique().shape[0]"
   ]
  },
  {
   "cell_type": "code",
   "execution_count": 80,
   "metadata": {},
   "outputs": [
    {
     "name": "stdout",
     "output_type": "stream",
     "text": [
      "number of suspicious clusters: 1365 before merging\n"
     ]
    }
   ],
   "source": [
    "assert len(cluster) == df_seed_suspicious.from_address.unique().shape[0]\n",
    "print(f'number of suspicious clusters: {len(cluster)} before merging')"
   ]
  },
  {
   "cell_type": "markdown",
   "metadata": {},
   "source": [
    "Now we merge clusters that contains at least one common address"
   ]
  },
  {
   "cell_type": "code",
   "execution_count": 81,
   "metadata": {},
   "outputs": [],
   "source": [
    "def merge_cluster(cluster):\n",
    "    new_cluster = []\n",
    "    cluster_merged = []\n",
    "    for i in range(len(cluster)):\n",
    "        if not i in cluster_merged:\n",
    "            small_cluster = cluster[i]\n",
    "            for j in range(i+1, len(cluster)):\n",
    "                if len(np.intersect1d(small_cluster, cluster[j])) > 0:\n",
    "                    small_cluster = np.append(small_cluster, cluster[j])\n",
    "                    cluster_merged.append(j)\n",
    "            new_cluster.append(np.unique(small_cluster))\n",
    "    return new_cluster"
   ]
  },
  {
   "cell_type": "code",
   "execution_count": 82,
   "metadata": {},
   "outputs": [],
   "source": [
    "def merge_cluster_full(cluster):\n",
    "    print(len(cluster))\n",
    "    new_cluster = merge_cluster(cluster)\n",
    "    while len(new_cluster) != len(cluster):\n",
    "        cluster = new_cluster\n",
    "        new_cluster = merge_cluster(cluster)\n",
    "        print(len(new_cluster))\n",
    "    return new_cluster"
   ]
  },
  {
   "cell_type": "code",
   "execution_count": 83,
   "metadata": {},
   "outputs": [
    {
     "name": "stdout",
     "output_type": "stream",
     "text": [
      "1365\n",
      "603\n",
      "596\n",
      "596\n"
     ]
    }
   ],
   "source": [
    "new_cluster = merge_cluster_full(cluster)"
   ]
  },
  {
   "cell_type": "code",
   "execution_count": 84,
   "metadata": {},
   "outputs": [
    {
     "name": "stdout",
     "output_type": "stream",
     "text": [
      "max length of cluster: 506\n"
     ]
    }
   ],
   "source": [
    "def max_length_cluster(cluster):\n",
    "    max_length = 0\n",
    "    for i in range(len(cluster)):\n",
    "        if len(cluster[i]) > max_length:\n",
    "            max_length = len(cluster[i])\n",
    "    return max_length\n",
    "\n",
    "print(f'max length of cluster: {max_length_cluster(new_cluster)}')"
   ]
  },
  {
   "cell_type": "code",
   "execution_count": 85,
   "metadata": {},
   "outputs": [
    {
     "data": {
      "text/plain": [
       "2"
      ]
     },
     "execution_count": 85,
     "metadata": {},
     "output_type": "execute_result"
    }
   ],
   "source": [
    "# minimum number of wallets seeded\n",
    "df_seed[df_seed['from_address'].isin(array_suspicous_seed)].groupby('from_address').count()['EOA'].min()"
   ]
  },
  {
   "cell_type": "code",
   "execution_count": 86,
   "metadata": {},
   "outputs": [],
   "source": [
    "def assign_cluster(address, cluster):\n",
    "    for i in range(len(cluster)):\n",
    "        if address in cluster[i]:\n",
    "            return cluster[i]\n",
    "    return np.nan\n",
    "\n",
    "def assign_cluster_number(address, cluster):\n",
    "    for i in range(len(cluster)):\n",
    "        if address in cluster[i]:\n",
    "            return i\n",
    "    return -1"
   ]
  },
  {
   "cell_type": "code",
   "execution_count": 88,
   "metadata": {},
   "outputs": [],
   "source": [
    "df_seed.drop(columns=['to_address'], inplace=True)"
   ]
  },
  {
   "cell_type": "code",
   "execution_count": 91,
   "metadata": {},
   "outputs": [],
   "source": [
    "# Either the cluster corresponds to the seed wallet or the voter is the seed wallet\n",
    "# we have to remove the case where the voter seed wallet is an exchange then we assign the voter address\n",
    "df_seed['cluster_address'] = df_seed['EOA'].apply(lambda x: assign_cluster(x, new_cluster))\n",
    "df_seed['cluster_number'] = df_seed['EOA'].apply(lambda x: assign_cluster_number(x, new_cluster))"
   ]
  },
  {
   "cell_type": "code",
   "execution_count": 92,
   "metadata": {},
   "outputs": [],
   "source": [
    "df_seed['cluster_size'] = df_seed['cluster_address'].apply(lambda x: len(x) if isinstance(x, np.ndarray) else 0)"
   ]
  },
  {
   "cell_type": "code",
   "execution_count": 102,
   "metadata": {},
   "outputs": [
    {
     "data": {
      "text/html": [
       "<div>\n",
       "<style scoped>\n",
       "    .dataframe tbody tr th:only-of-type {\n",
       "        vertical-align: middle;\n",
       "    }\n",
       "\n",
       "    .dataframe tbody tr th {\n",
       "        vertical-align: top;\n",
       "    }\n",
       "\n",
       "    .dataframe thead th {\n",
       "        text-align: right;\n",
       "    }\n",
       "</style>\n",
       "<table border=\"1\" class=\"dataframe\">\n",
       "  <thead>\n",
       "    <tr style=\"text-align: right;\">\n",
       "      <th></th>\n",
       "      <th>from_address</th>\n",
       "      <th>EOA</th>\n",
       "      <th>cluster_address</th>\n",
       "      <th>cluster_number</th>\n",
       "      <th>cluster_size</th>\n",
       "    </tr>\n",
       "  </thead>\n",
       "  <tbody>\n",
       "    <tr>\n",
       "      <th>43</th>\n",
       "      <td>0x719028736f10164c838ef129936779ed739312f2</td>\n",
       "      <td>0x002b5dfb3c71e1dc97a2e5a0a7f69f3e7b83f269</td>\n",
       "      <td>[0x002b5dfb3c71e1dc97a2e5a0a7f69f3e7b83f269, 0...</td>\n",
       "      <td>3</td>\n",
       "      <td>506</td>\n",
       "    </tr>\n",
       "    <tr>\n",
       "      <th>243</th>\n",
       "      <td>0xb5c69e6dcb418d902598cdc298717ff7c484a805</td>\n",
       "      <td>0x0165efba0d7381cb9c10509df5dca9229c401ae6</td>\n",
       "      <td>[0x0165efba0d7381cb9c10509df5dca9229c401ae6, 0...</td>\n",
       "      <td>18</td>\n",
       "      <td>441</td>\n",
       "    </tr>\n",
       "    <tr>\n",
       "      <th>302</th>\n",
       "      <td>0x17f52a50227ea7aa6042eaae44c84a9a9d59d092</td>\n",
       "      <td>0x01eec0c7faf859582b68898868af7ed875e48d40</td>\n",
       "      <td>[0x01eec0c7faf859582b68898868af7ed875e48d40, 0...</td>\n",
       "      <td>86</td>\n",
       "      <td>281</td>\n",
       "    </tr>\n",
       "    <tr>\n",
       "      <th>84</th>\n",
       "      <td>0xb4bb4a094338bc566e4bb0355c9de525f7c1f1b4</td>\n",
       "      <td>0x0065981684b5e02f95283b8ce1916b8981206a3d</td>\n",
       "      <td>[0x0065981684b5e02f95283b8ce1916b8981206a3d, 0...</td>\n",
       "      <td>38</td>\n",
       "      <td>117</td>\n",
       "    </tr>\n",
       "    <tr>\n",
       "      <th>124</th>\n",
       "      <td>0x01ccb548cb303f1c552eeb660fec6f3d7876c0a0</td>\n",
       "      <td>0x00aefcafae46fd245fb8ca555fe30f4713760579</td>\n",
       "      <td>[0x00aefcafae46fd245fb8ca555fe30f4713760579, 0...</td>\n",
       "      <td>6</td>\n",
       "      <td>88</td>\n",
       "    </tr>\n",
       "    <tr>\n",
       "      <th>133</th>\n",
       "      <td>0xaa1062ff44cb41b9aac4879dda6e7c21c1e8aa3b</td>\n",
       "      <td>0x00bd3e58009601c77043672a8271451b18c9d6c2</td>\n",
       "      <td>[0x00bd3e58009601c77043672a8271451b18c9d6c2, 0...</td>\n",
       "      <td>2</td>\n",
       "      <td>64</td>\n",
       "    </tr>\n",
       "    <tr>\n",
       "      <th>314</th>\n",
       "      <td>0x0628ffe7f4e299e817761d05c0c7e89513ba308a</td>\n",
       "      <td>0x020109398ac397da015c903aec703b2de94cf1c0</td>\n",
       "      <td>[0x020109398ac397da015c903aec703b2de94cf1c0, 0...</td>\n",
       "      <td>23</td>\n",
       "      <td>63</td>\n",
       "    </tr>\n",
       "    <tr>\n",
       "      <th>347</th>\n",
       "      <td>0xd7367bd1a720f42d9f4ba0043db89dc49cf80f6d</td>\n",
       "      <td>0x023b38379fa2a4f44c5991b655ab79834f2786a9</td>\n",
       "      <td>[0x023b38379fa2a4f44c5991b655ab79834f2786a9, 0...</td>\n",
       "      <td>206</td>\n",
       "      <td>61</td>\n",
       "    </tr>\n",
       "    <tr>\n",
       "      <th>2241</th>\n",
       "      <td>0x5b965a9cdcdb710d50967b0ac32e6341b72063a2</td>\n",
       "      <td>0x0f2261d0374a202466023ff71105674b1238f3b3</td>\n",
       "      <td>[0x0f2261d0374a202466023ff71105674b1238f3b3, 0...</td>\n",
       "      <td>300</td>\n",
       "      <td>39</td>\n",
       "    </tr>\n",
       "    <tr>\n",
       "      <th>1628</th>\n",
       "      <td>0xa3992a99b5838ababb2606a697be12384e5b2655</td>\n",
       "      <td>0x0afbea5597875c33047ab0004575f636e652c49e</td>\n",
       "      <td>[0x0afbea5597875c33047ab0004575f636e652c49e, 0...</td>\n",
       "      <td>465</td>\n",
       "      <td>35</td>\n",
       "    </tr>\n",
       "  </tbody>\n",
       "</table>\n",
       "</div>"
      ],
      "text/plain": [
       "                                    from_address   \n",
       "43    0x719028736f10164c838ef129936779ed739312f2  \\\n",
       "243   0xb5c69e6dcb418d902598cdc298717ff7c484a805   \n",
       "302   0x17f52a50227ea7aa6042eaae44c84a9a9d59d092   \n",
       "84    0xb4bb4a094338bc566e4bb0355c9de525f7c1f1b4   \n",
       "124   0x01ccb548cb303f1c552eeb660fec6f3d7876c0a0   \n",
       "133   0xaa1062ff44cb41b9aac4879dda6e7c21c1e8aa3b   \n",
       "314   0x0628ffe7f4e299e817761d05c0c7e89513ba308a   \n",
       "347   0xd7367bd1a720f42d9f4ba0043db89dc49cf80f6d   \n",
       "2241  0x5b965a9cdcdb710d50967b0ac32e6341b72063a2   \n",
       "1628  0xa3992a99b5838ababb2606a697be12384e5b2655   \n",
       "\n",
       "                                             EOA   \n",
       "43    0x002b5dfb3c71e1dc97a2e5a0a7f69f3e7b83f269  \\\n",
       "243   0x0165efba0d7381cb9c10509df5dca9229c401ae6   \n",
       "302   0x01eec0c7faf859582b68898868af7ed875e48d40   \n",
       "84    0x0065981684b5e02f95283b8ce1916b8981206a3d   \n",
       "124   0x00aefcafae46fd245fb8ca555fe30f4713760579   \n",
       "133   0x00bd3e58009601c77043672a8271451b18c9d6c2   \n",
       "314   0x020109398ac397da015c903aec703b2de94cf1c0   \n",
       "347   0x023b38379fa2a4f44c5991b655ab79834f2786a9   \n",
       "2241  0x0f2261d0374a202466023ff71105674b1238f3b3   \n",
       "1628  0x0afbea5597875c33047ab0004575f636e652c49e   \n",
       "\n",
       "                                        cluster_address  cluster_number   \n",
       "43    [0x002b5dfb3c71e1dc97a2e5a0a7f69f3e7b83f269, 0...               3  \\\n",
       "243   [0x0165efba0d7381cb9c10509df5dca9229c401ae6, 0...              18   \n",
       "302   [0x01eec0c7faf859582b68898868af7ed875e48d40, 0...              86   \n",
       "84    [0x0065981684b5e02f95283b8ce1916b8981206a3d, 0...              38   \n",
       "124   [0x00aefcafae46fd245fb8ca555fe30f4713760579, 0...               6   \n",
       "133   [0x00bd3e58009601c77043672a8271451b18c9d6c2, 0...               2   \n",
       "314   [0x020109398ac397da015c903aec703b2de94cf1c0, 0...              23   \n",
       "347   [0x023b38379fa2a4f44c5991b655ab79834f2786a9, 0...             206   \n",
       "2241  [0x0f2261d0374a202466023ff71105674b1238f3b3, 0...             300   \n",
       "1628  [0x0afbea5597875c33047ab0004575f636e652c49e, 0...             465   \n",
       "\n",
       "      cluster_size  \n",
       "43             506  \n",
       "243            441  \n",
       "302            281  \n",
       "84             117  \n",
       "124             88  \n",
       "133             64  \n",
       "314             63  \n",
       "347             61  \n",
       "2241            39  \n",
       "1628            35  "
      ]
     },
     "execution_count": 102,
     "metadata": {},
     "output_type": "execute_result"
    }
   ],
   "source": [
    "df_seed.drop_duplicates(subset=['cluster_number']).sort_values(by='cluster_size', ascending=False).head(10)"
   ]
  },
  {
   "cell_type": "code",
   "execution_count": 105,
   "metadata": {},
   "outputs": [
    {
     "data": {
      "text/plain": [
       "array(['0x00000002f32c0886ee65d68059fbdb76ef6a6996',\n",
       "       '0x548be6667e92e742dbd852662349ae74bb39a215',\n",
       "       '0x6f5da981982011f1ac2ec345b5c2681c16298f2e', ...,\n",
       "       '0xfda9c289eb901d495dec764050f9d596eb64cbbe',\n",
       "       '0x8ae339f9a9fddf930cf10d7fcb4abba417cd50fd',\n",
       "       '0xff935e24d108e316484d07bbd9d7d6469677c23e'], dtype=object)"
      ]
     },
     "execution_count": 105,
     "metadata": {},
     "output_type": "execute_result"
    }
   ],
   "source": [
    "np.concatenate(new_cluster)"
   ]
  },
  {
   "cell_type": "code",
   "execution_count": 106,
   "metadata": {},
   "outputs": [
    {
     "data": {
      "text/plain": [
       "array([], dtype=object)"
      ]
     },
     "execution_count": 106,
     "metadata": {},
     "output_type": "execute_result"
    }
   ],
   "source": [
    "# verify no cluster address from a cex\n",
    "np.intersect1d(np.unique(np.concatenate(new_cluster)), array_address_cex_or_bridge)"
   ]
  },
  {
   "cell_type": "code",
   "execution_count": 107,
   "metadata": {},
   "outputs": [],
   "source": [
    "df_seed.to_csv(os.path.join(PATH_TO_GR18, 'seed_cluster_gr18.csv'), index=False)"
   ]
  },
  {
   "cell_type": "code",
   "execution_count": null,
   "metadata": {},
   "outputs": [],
   "source": []
  },
  {
   "cell_type": "code",
   "execution_count": 112,
   "metadata": {},
   "outputs": [],
   "source": [
    "df_seed.dropna(subset=['cluster_address']).to_csv(os.path.join(PATH_TO_GR18, 'seed_cluster_only_gr18.csv'), index=False)"
   ]
  },
  {
   "cell_type": "code",
   "execution_count": 108,
   "metadata": {},
   "outputs": [
    {
     "data": {
      "text/html": [
       "<div>\n",
       "<style scoped>\n",
       "    .dataframe tbody tr th:only-of-type {\n",
       "        vertical-align: middle;\n",
       "    }\n",
       "\n",
       "    .dataframe tbody tr th {\n",
       "        vertical-align: top;\n",
       "    }\n",
       "\n",
       "    .dataframe thead th {\n",
       "        text-align: right;\n",
       "    }\n",
       "</style>\n",
       "<table border=\"1\" class=\"dataframe\">\n",
       "  <thead>\n",
       "    <tr style=\"text-align: right;\">\n",
       "      <th></th>\n",
       "      <th>from_address</th>\n",
       "      <th>EOA</th>\n",
       "      <th>cluster_address</th>\n",
       "      <th>cluster_number</th>\n",
       "      <th>cluster_size</th>\n",
       "    </tr>\n",
       "  </thead>\n",
       "  <tbody>\n",
       "    <tr>\n",
       "      <th>0</th>\n",
       "      <td>0xacd03d601e5bb1b275bb94076ff46ed9d753435a</td>\n",
       "      <td>0x00000001985c6a08963eef53821c78aa84318b42</td>\n",
       "      <td>NaN</td>\n",
       "      <td>-1</td>\n",
       "      <td>0</td>\n",
       "    </tr>\n",
       "    <tr>\n",
       "      <th>1</th>\n",
       "      <td>0x8052a1e6a7f64325ee3a7ce1c5e1cc39b22af712</td>\n",
       "      <td>0x00000002f32c0886ee65d68059fbdb76ef6a6996</td>\n",
       "      <td>[0x00000002f32c0886ee65d68059fbdb76ef6a6996, 0...</td>\n",
       "      <td>0</td>\n",
       "      <td>4</td>\n",
       "    </tr>\n",
       "    <tr>\n",
       "      <th>2</th>\n",
       "      <td>0xacd03d601e5bb1b275bb94076ff46ed9d753435a</td>\n",
       "      <td>0x000000064730640b7d670408d74280924883064f</td>\n",
       "      <td>NaN</td>\n",
       "      <td>-1</td>\n",
       "      <td>0</td>\n",
       "    </tr>\n",
       "    <tr>\n",
       "      <th>3</th>\n",
       "      <td>0x646e9a6a66726d54fa1137df4448fda922c50f0d</td>\n",
       "      <td>0x00000009d94baf057697d988d2e3eec2fce81162</td>\n",
       "      <td>NaN</td>\n",
       "      <td>-1</td>\n",
       "      <td>0</td>\n",
       "    </tr>\n",
       "    <tr>\n",
       "      <th>4</th>\n",
       "      <td>0x62b2f8888413cf2619f2eab477b811d989083f75</td>\n",
       "      <td>0x0000000a362b7ae7239e186b2bbeb943305c59ad</td>\n",
       "      <td>NaN</td>\n",
       "      <td>-1</td>\n",
       "      <td>0</td>\n",
       "    </tr>\n",
       "    <tr>\n",
       "      <th>...</th>\n",
       "      <td>...</td>\n",
       "      <td>...</td>\n",
       "      <td>...</td>\n",
       "      <td>...</td>\n",
       "      <td>...</td>\n",
       "    </tr>\n",
       "    <tr>\n",
       "      <th>38116</th>\n",
       "      <td>0x2d2cc0eb095e43204e0c087e07dbf95909650939</td>\n",
       "      <td>0xfff9e8387f6ea2073d1c38b9571fe4aa55fd3ad8</td>\n",
       "      <td>NaN</td>\n",
       "      <td>-1</td>\n",
       "      <td>0</td>\n",
       "    </tr>\n",
       "    <tr>\n",
       "      <th>38117</th>\n",
       "      <td>0xdf362413e0125a93c57c31472f5cc02bebb99306</td>\n",
       "      <td>0xfffb43b6b6048adc32ded4fcedc429b17e7ea72d</td>\n",
       "      <td>NaN</td>\n",
       "      <td>-1</td>\n",
       "      <td>0</td>\n",
       "    </tr>\n",
       "    <tr>\n",
       "      <th>38118</th>\n",
       "      <td>0x053b5ac05c40a4bb348a6047da6979dd34f2822d</td>\n",
       "      <td>0xfffb609cda6131468b17391e6e4f3124cf180333</td>\n",
       "      <td>[0x053b5ac05c40a4bb348a6047da6979dd34f2822d, 0...</td>\n",
       "      <td>24</td>\n",
       "      <td>6</td>\n",
       "    </tr>\n",
       "    <tr>\n",
       "      <th>38119</th>\n",
       "      <td>0x4b440d72a15d2c367a6e471ba6fc8c61d1a0f4a5</td>\n",
       "      <td>0xfffbbbc0504cc643ef14cd89269c4d9cbce428c9</td>\n",
       "      <td>NaN</td>\n",
       "      <td>-1</td>\n",
       "      <td>0</td>\n",
       "    </tr>\n",
       "    <tr>\n",
       "      <th>38120</th>\n",
       "      <td>0x2fc617e933a52713247ce25730f6695920b3befe</td>\n",
       "      <td>0xffffd230115df924d3b805624437f4e47281c3f8</td>\n",
       "      <td>NaN</td>\n",
       "      <td>-1</td>\n",
       "      <td>0</td>\n",
       "    </tr>\n",
       "  </tbody>\n",
       "</table>\n",
       "<p>38121 rows × 5 columns</p>\n",
       "</div>"
      ],
      "text/plain": [
       "                                     from_address   \n",
       "0      0xacd03d601e5bb1b275bb94076ff46ed9d753435a  \\\n",
       "1      0x8052a1e6a7f64325ee3a7ce1c5e1cc39b22af712   \n",
       "2      0xacd03d601e5bb1b275bb94076ff46ed9d753435a   \n",
       "3      0x646e9a6a66726d54fa1137df4448fda922c50f0d   \n",
       "4      0x62b2f8888413cf2619f2eab477b811d989083f75   \n",
       "...                                           ...   \n",
       "38116  0x2d2cc0eb095e43204e0c087e07dbf95909650939   \n",
       "38117  0xdf362413e0125a93c57c31472f5cc02bebb99306   \n",
       "38118  0x053b5ac05c40a4bb348a6047da6979dd34f2822d   \n",
       "38119  0x4b440d72a15d2c367a6e471ba6fc8c61d1a0f4a5   \n",
       "38120  0x2fc617e933a52713247ce25730f6695920b3befe   \n",
       "\n",
       "                                              EOA   \n",
       "0      0x00000001985c6a08963eef53821c78aa84318b42  \\\n",
       "1      0x00000002f32c0886ee65d68059fbdb76ef6a6996   \n",
       "2      0x000000064730640b7d670408d74280924883064f   \n",
       "3      0x00000009d94baf057697d988d2e3eec2fce81162   \n",
       "4      0x0000000a362b7ae7239e186b2bbeb943305c59ad   \n",
       "...                                           ...   \n",
       "38116  0xfff9e8387f6ea2073d1c38b9571fe4aa55fd3ad8   \n",
       "38117  0xfffb43b6b6048adc32ded4fcedc429b17e7ea72d   \n",
       "38118  0xfffb609cda6131468b17391e6e4f3124cf180333   \n",
       "38119  0xfffbbbc0504cc643ef14cd89269c4d9cbce428c9   \n",
       "38120  0xffffd230115df924d3b805624437f4e47281c3f8   \n",
       "\n",
       "                                         cluster_address  cluster_number   \n",
       "0                                                    NaN              -1  \\\n",
       "1      [0x00000002f32c0886ee65d68059fbdb76ef6a6996, 0...               0   \n",
       "2                                                    NaN              -1   \n",
       "3                                                    NaN              -1   \n",
       "4                                                    NaN              -1   \n",
       "...                                                  ...             ...   \n",
       "38116                                                NaN              -1   \n",
       "38117                                                NaN              -1   \n",
       "38118  [0x053b5ac05c40a4bb348a6047da6979dd34f2822d, 0...              24   \n",
       "38119                                                NaN              -1   \n",
       "38120                                                NaN              -1   \n",
       "\n",
       "       cluster_size  \n",
       "0                 0  \n",
       "1                 4  \n",
       "2                 0  \n",
       "3                 0  \n",
       "4                 0  \n",
       "...             ...  \n",
       "38116             0  \n",
       "38117             0  \n",
       "38118             6  \n",
       "38119             0  \n",
       "38120             0  \n",
       "\n",
       "[38121 rows x 5 columns]"
      ]
     },
     "execution_count": 108,
     "metadata": {},
     "output_type": "execute_result"
    }
   ],
   "source": [
    "df_seed"
   ]
  }
 ],
 "metadata": {
  "kernelspec": {
   "display_name": "venvVotesUpdate",
   "language": "python",
   "name": "python3"
  },
  "language_info": {
   "codemirror_mode": {
    "name": "ipython",
    "version": 3
   },
   "file_extension": ".py",
   "mimetype": "text/x-python",
   "name": "python",
   "nbconvert_exporter": "python",
   "pygments_lexer": "ipython3",
   "version": "3.10.9"
  },
  "orig_nbformat": 4
 },
 "nbformat": 4,
 "nbformat_minor": 2
}
