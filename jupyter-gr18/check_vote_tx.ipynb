{
 "cells": [
  {
   "cell_type": "code",
   "execution_count": 33,
   "metadata": {},
   "outputs": [],
   "source": [
    "import os \n",
    "from pathlib import Path\n",
    "\n",
    "import pandas as pd\n",
    "import numpy as np\n"
   ]
  },
  {
   "cell_type": "code",
   "execution_count": 34,
   "metadata": {},
   "outputs": [],
   "source": [
    "from sbscorer.sblegos.TransactionAnalyser import TransactionAnalyser as txa"
   ]
  },
  {
   "cell_type": "code",
   "execution_count": 35,
   "metadata": {},
   "outputs": [],
   "source": [
    "FOLDER_NAME = 'gr18'\n",
    "CHAIN = 'optimism'\n",
    "extract_all = True\n",
    "\n",
    "# Set path to data folder\n",
    "current_dir = Path(os.getcwd())\n",
    "PATH_TO_EXPORT = os.path.join(current_dir.parent.parent, 'tx_data', FOLDER_NAME)\n",
    "PATH_TO_GR18 = os.path.join(current_dir.parent.parent, FOLDER_NAME)\n",
    "voter_tx_file_name = 'gg18_votes.csv'\n",
    "passport_file_name = 'gg18_voter_passports.csv'\n",
    "\n",
    "tx_file_name = 'gr_18_optimism_all_tx.csv'"
   ]
  },
  {
   "cell_type": "code",
   "execution_count": 9,
   "metadata": {},
   "outputs": [
    {
     "name": "stderr",
     "output_type": "stream",
     "text": [
      "C:\\Users\\DELL Admin\\AppData\\Local\\Temp\\ipykernel_15428\\1560736169.py:1: DtypeWarning: Columns (9) have mixed types. Specify dtype option on import or set low_memory=False.\n",
      "  votes = pd.read_csv(os.path.join(PATH_TO_GR18, voter_tx_file_name))\n"
     ]
    }
   ],
   "source": [
    "votes = pd.read_csv(os.path.join(PATH_TO_GR18, voter_tx_file_name))\n",
    "passports = pd.read_csv(os.path.join(PATH_TO_GR18, passport_file_name))"
   ]
  },
  {
   "cell_type": "code",
   "execution_count": 37,
   "metadata": {},
   "outputs": [
    {
     "data": {
      "text/plain": [
       "array(['Climate Round', 'Web3 Open Source Software',\n",
       "       'Web3 Community and Education ',\n",
       "       'Global Chinese Community for Public Goods - GR18', 'Web3 Social',\n",
       "       'Zuzalu Continuous Innovation', 'Meta Pool LatAm GG18',\n",
       "       'ReFi DAO Local Node ', 'Token Engineering',\n",
       "       'Ethereum Infrastructure', 'Arbitrum Domain Round'], dtype=object)"
      ]
     },
     "execution_count": 37,
     "metadata": {},
     "output_type": "execute_result"
    }
   ],
   "source": [
    "votes.round_name.unique()"
   ]
  },
  {
   "cell_type": "code",
   "execution_count": 38,
   "metadata": {},
   "outputs": [
    {
     "data": {
      "text/plain": [
       "(328389, 15)"
      ]
     },
     "execution_count": 38,
     "metadata": {},
     "output_type": "execute_result"
    }
   ],
   "source": [
    "votes.shape"
   ]
  },
  {
   "cell_type": "code",
   "execution_count": 41,
   "metadata": {},
   "outputs": [],
   "source": [
    "votes = votes[np.logical_not(np.logical_or(votes['round_name'] == 'Ethereum Infrastructure', votes['round_name'] == 'Arbitrum Domain Round'))]"
   ]
  },
  {
   "cell_type": "code",
   "execution_count": 42,
   "metadata": {},
   "outputs": [
    {
     "data": {
      "text/plain": [
       "(258994, 15)"
      ]
     },
     "execution_count": 42,
     "metadata": {},
     "output_type": "execute_result"
    }
   ],
   "source": [
    "votes.shape"
   ]
  },
  {
   "cell_type": "code",
   "execution_count": 43,
   "metadata": {},
   "outputs": [
    {
     "data": {
      "text/plain": [
       "array(['Climate Round', 'Web3 Open Source Software',\n",
       "       'Web3 Community and Education ',\n",
       "       'Global Chinese Community for Public Goods - GR18', 'Web3 Social',\n",
       "       'Zuzalu Continuous Innovation', 'Meta Pool LatAm GG18',\n",
       "       'ReFi DAO Local Node ', 'Token Engineering'], dtype=object)"
      ]
     },
     "execution_count": 43,
     "metadata": {},
     "output_type": "execute_result"
    }
   ],
   "source": [
    "round_names = votes['round_name'].unique()\n",
    "round_names"
   ]
  },
  {
   "cell_type": "code",
   "execution_count": 44,
   "metadata": {},
   "outputs": [
    {
     "data": {
      "text/html": [
       "<div>\n",
       "<style scoped>\n",
       "    .dataframe tbody tr th:only-of-type {\n",
       "        vertical-align: middle;\n",
       "    }\n",
       "\n",
       "    .dataframe tbody tr th {\n",
       "        vertical-align: top;\n",
       "    }\n",
       "\n",
       "    .dataframe thead th {\n",
       "        text-align: right;\n",
       "    }\n",
       "</style>\n",
       "<table border=\"1\" class=\"dataframe\">\n",
       "  <thead>\n",
       "    <tr style=\"text-align: right;\">\n",
       "      <th></th>\n",
       "      <th>tx_hash</th>\n",
       "      <th>block_timestamp</th>\n",
       "      <th>from_address</th>\n",
       "      <th>to_address</th>\n",
       "      <th>gas_limit</th>\n",
       "      <th>gas_used</th>\n",
       "      <th>tx_fee</th>\n",
       "      <th>eth_value</th>\n",
       "      <th>__row_index</th>\n",
       "    </tr>\n",
       "  </thead>\n",
       "  <tbody>\n",
       "    <tr>\n",
       "      <th>0</th>\n",
       "      <td>0x863c5b543d29b329891fdec341845a73c2525e6dc212...</td>\n",
       "      <td>2023-08-24T20:22:03.000Z</td>\n",
       "      <td>0xf4af0314a06ea7376da5bdecc33f6f9800f1ae28</td>\n",
       "      <td>0x7f5c764cbc14f9669b88837ca1490cca17c31607</td>\n",
       "      <td>53067</td>\n",
       "      <td>53067</td>\n",
       "      <td>0.000029</td>\n",
       "      <td>0.000000</td>\n",
       "      <td>0</td>\n",
       "    </tr>\n",
       "    <tr>\n",
       "      <th>1</th>\n",
       "      <td>0xfdffb6eb77e72ca9f54297ebcc7644ea55db521f64c7...</td>\n",
       "      <td>2023-08-24T22:05:41.000Z</td>\n",
       "      <td>0x87dbffd0ed90b2252856faf753437a7bc9fcfa7b</td>\n",
       "      <td>0xb009b5707e6e0dc9830a1262de37f055972e6480</td>\n",
       "      <td>219895</td>\n",
       "      <td>139765</td>\n",
       "      <td>0.000058</td>\n",
       "      <td>0.000777</td>\n",
       "      <td>1</td>\n",
       "    </tr>\n",
       "    <tr>\n",
       "      <th>2</th>\n",
       "      <td>0x7b416f625fd29c2da17a7ad35b1c6dc7e0cf5b548249...</td>\n",
       "      <td>2023-08-24T16:10:17.000Z</td>\n",
       "      <td>0x532c1fc2940ec38d5c5e7fc8b8aa4aaddcaa17d3</td>\n",
       "      <td>0x46ce3b08bdef4461fb444d3746fd97f0af11dccf</td>\n",
       "      <td>731592</td>\n",
       "      <td>467423</td>\n",
       "      <td>0.000093</td>\n",
       "      <td>0.000000</td>\n",
       "      <td>2</td>\n",
       "    </tr>\n",
       "    <tr>\n",
       "      <th>3</th>\n",
       "      <td>0xbed4ce09f5f5c4d7aac7e310dfce11d94bf86f7da6d5...</td>\n",
       "      <td>2023-08-24T16:09:33.000Z</td>\n",
       "      <td>0x0596c217a79ea00e5dafc43778138ea61fd67ee2</td>\n",
       "      <td>0x2e42f214467f647fe687fd9a2bf3baddfa737465</td>\n",
       "      <td>119625</td>\n",
       "      <td>119625</td>\n",
       "      <td>0.000087</td>\n",
       "      <td>0.000000</td>\n",
       "      <td>3</td>\n",
       "    </tr>\n",
       "    <tr>\n",
       "      <th>4</th>\n",
       "      <td>0xb60502458c8de31606b84e0aed102ac83629726d8734...</td>\n",
       "      <td>2023-08-24T22:08:15.000Z</td>\n",
       "      <td>0xc1991c8bda29507991eeb230ff2063c2ea74a34c</td>\n",
       "      <td>0xa062ae8a9c5e11aaa026fc2670b0d65ccc8b2858</td>\n",
       "      <td>246899</td>\n",
       "      <td>229592</td>\n",
       "      <td>0.000070</td>\n",
       "      <td>0.000000</td>\n",
       "      <td>4</td>\n",
       "    </tr>\n",
       "  </tbody>\n",
       "</table>\n",
       "</div>"
      ],
      "text/plain": [
       "                                             tx_hash   \n",
       "0  0x863c5b543d29b329891fdec341845a73c2525e6dc212...  \\\n",
       "1  0xfdffb6eb77e72ca9f54297ebcc7644ea55db521f64c7...   \n",
       "2  0x7b416f625fd29c2da17a7ad35b1c6dc7e0cf5b548249...   \n",
       "3  0xbed4ce09f5f5c4d7aac7e310dfce11d94bf86f7da6d5...   \n",
       "4  0xb60502458c8de31606b84e0aed102ac83629726d8734...   \n",
       "\n",
       "            block_timestamp                                from_address   \n",
       "0  2023-08-24T20:22:03.000Z  0xf4af0314a06ea7376da5bdecc33f6f9800f1ae28  \\\n",
       "1  2023-08-24T22:05:41.000Z  0x87dbffd0ed90b2252856faf753437a7bc9fcfa7b   \n",
       "2  2023-08-24T16:10:17.000Z  0x532c1fc2940ec38d5c5e7fc8b8aa4aaddcaa17d3   \n",
       "3  2023-08-24T16:09:33.000Z  0x0596c217a79ea00e5dafc43778138ea61fd67ee2   \n",
       "4  2023-08-24T22:08:15.000Z  0xc1991c8bda29507991eeb230ff2063c2ea74a34c   \n",
       "\n",
       "                                   to_address  gas_limit  gas_used    tx_fee   \n",
       "0  0x7f5c764cbc14f9669b88837ca1490cca17c31607      53067     53067  0.000029  \\\n",
       "1  0xb009b5707e6e0dc9830a1262de37f055972e6480     219895    139765  0.000058   \n",
       "2  0x46ce3b08bdef4461fb444d3746fd97f0af11dccf     731592    467423  0.000093   \n",
       "3  0x2e42f214467f647fe687fd9a2bf3baddfa737465     119625    119625  0.000087   \n",
       "4  0xa062ae8a9c5e11aaa026fc2670b0d65ccc8b2858     246899    229592  0.000070   \n",
       "\n",
       "   eth_value  __row_index  \n",
       "0   0.000000            0  \n",
       "1   0.000777            1  \n",
       "2   0.000000            2  \n",
       "3   0.000000            3  \n",
       "4   0.000000            4  "
      ]
     },
     "execution_count": 44,
     "metadata": {},
     "output_type": "execute_result"
    }
   ],
   "source": [
    "# Load tx data\n",
    "df_tx = pd.read_csv(os.path.join(PATH_TO_EXPORT, tx_file_name))\n",
    "df_tx.head()"
   ]
  },
  {
   "cell_type": "code",
   "execution_count": 45,
   "metadata": {},
   "outputs": [],
   "source": [
    "df_tx.drop(columns=['__row_index'], inplace=True)"
   ]
  },
  {
   "cell_type": "code",
   "execution_count": 46,
   "metadata": {},
   "outputs": [],
   "source": [
    "# Choose round name to compute features\n",
    "round_name = round_names[0]"
   ]
  },
  {
   "cell_type": "code",
   "execution_count": 47,
   "metadata": {},
   "outputs": [],
   "source": [
    "CONTRACT_CREATION_AD_NAME = '0x_contract_creation'"
   ]
  },
  {
   "cell_type": "code",
   "execution_count": 48,
   "metadata": {},
   "outputs": [],
   "source": [
    "df_tx.loc[df_tx['to_address'].isna(), 'to_address'] = CONTRACT_CREATION_AD_NAME"
   ]
  },
  {
   "cell_type": "code",
   "execution_count": 49,
   "metadata": {},
   "outputs": [
    {
     "data": {
      "text/plain": [
       "tx_hash            0\n",
       "block_timestamp    0\n",
       "from_address       0\n",
       "to_address         0\n",
       "gas_limit          0\n",
       "gas_used           0\n",
       "tx_fee             0\n",
       "eth_value          0\n",
       "dtype: int64"
      ]
     },
     "execution_count": 49,
     "metadata": {},
     "output_type": "execute_result"
    }
   ],
   "source": [
    "df_tx.isna().sum()"
   ]
  },
  {
   "cell_type": "code",
   "execution_count": 50,
   "metadata": {},
   "outputs": [
    {
     "data": {
      "text/plain": [
       "(6894506, 8)"
      ]
     },
     "execution_count": 50,
     "metadata": {},
     "output_type": "execute_result"
    }
   ],
   "source": [
    "df_tx.shape"
   ]
  },
  {
   "cell_type": "code",
   "execution_count": 51,
   "metadata": {},
   "outputs": [
    {
     "name": "stdout",
     "output_type": "stream",
     "text": [
      "Number of voters in round: 44957\n"
     ]
    }
   ],
   "source": [
    "unique_voters = votes['voter'].unique()\n",
    "print(f'Number of voters in round: {len(unique_voters)}')"
   ]
  },
  {
   "cell_type": "code",
   "execution_count": 52,
   "metadata": {},
   "outputs": [],
   "source": [
    "df_tx_EOA_FROM = df_tx.copy()\n",
    "df_tx_EOA_FROM['EOA'] = df_tx_EOA_FROM['from_address']"
   ]
  },
  {
   "cell_type": "code",
   "execution_count": 53,
   "metadata": {},
   "outputs": [],
   "source": [
    "df_tx_EOA_TO = df_tx.copy()\n",
    "df_tx_EOA_TO['EOA'] = df_tx_EOA_TO['to_address']"
   ]
  },
  {
   "cell_type": "code",
   "execution_count": 54,
   "metadata": {},
   "outputs": [],
   "source": [
    "df_tx_eoa = pd.concat([df_tx_EOA_FROM, df_tx_EOA_TO])"
   ]
  },
  {
   "cell_type": "code",
   "execution_count": 55,
   "metadata": {},
   "outputs": [
    {
     "data": {
      "text/plain": [
       "(13789012, 9)"
      ]
     },
     "execution_count": 55,
     "metadata": {},
     "output_type": "execute_result"
    }
   ],
   "source": [
    "df_tx_eoa.shape"
   ]
  },
  {
   "cell_type": "code",
   "execution_count": 56,
   "metadata": {},
   "outputs": [],
   "source": [
    "df_tx_eoa = df_tx_eoa.loc[df_tx_eoa['EOA'] != CONTRACT_CREATION_AD_NAME, :]"
   ]
  },
  {
   "cell_type": "code",
   "execution_count": 57,
   "metadata": {},
   "outputs": [
    {
     "data": {
      "text/plain": [
       "(13787932, 9)"
      ]
     },
     "execution_count": 57,
     "metadata": {},
     "output_type": "execute_result"
    }
   ],
   "source": [
    "df_tx_eoa.shape"
   ]
  },
  {
   "cell_type": "code",
   "execution_count": 58,
   "metadata": {},
   "outputs": [
    {
     "name": "stdout",
     "output_type": "stream",
     "text": [
      "Number of voters in round: 44957\n"
     ]
    }
   ],
   "source": [
    "lowercase_converter = np.vectorize(str.lower)\n",
    "unique_voters = lowercase_converter(unique_voters)\n",
    "print(f'Number of voters in round: {len(unique_voters)}')"
   ]
  },
  {
   "cell_type": "code",
   "execution_count": 59,
   "metadata": {},
   "outputs": [],
   "source": [
    "unique_eoa = df_tx_eoa['EOA'].unique()"
   ]
  },
  {
   "cell_type": "code",
   "execution_count": 60,
   "metadata": {},
   "outputs": [
    {
     "name": "stdout",
     "output_type": "stream",
     "text": [
      "Number of unique EOA: 140257\n"
     ]
    }
   ],
   "source": [
    "print(f'Number of unique EOA: {len(unique_eoa)}')"
   ]
  },
  {
   "cell_type": "code",
   "execution_count": 61,
   "metadata": {},
   "outputs": [
    {
     "name": "stdout",
     "output_type": "stream",
     "text": [
      "17\n"
     ]
    },
    {
     "data": {
      "text/plain": [
       "array(['0x0000024bc043e565527f26318f7bb5dbae457a36',\n",
       "       '0x105f63328d809455f149350348a5a615a92e7380',\n",
       "       '0x11e223c49b3bc43c011ef62f79ce81bfd29d3b74',\n",
       "       '0x264d4c968832671d750512051fcc4af6ca002db9',\n",
       "       '0x528fd0edf2d42b4691d6f2a3a040f1610510065c',\n",
       "       '0x5f80335076b788ba0a898b4d8d88fcc967720bff',\n",
       "       '0x8efa270c263990f64eb3b1261f9a7925c1fdb878',\n",
       "       '0x968a0e5603c5d4dbf24cbd7df562921d158ad19c',\n",
       "       '0xa1ff7552cc06cbd4bff90e478857fd2a2553b66e',\n",
       "       '0xb0cbfba1ebb77c6639e2b9513c286a77392c7b8b',\n",
       "       '0xb29e0c1906ebb53f8d9c81625bcddc085e057606',\n",
       "       '0xc31442c950e7151ded79386a506be868f61792ee',\n",
       "       '0xcaebd06d75b5f8c77a73df27ab56964ccc64f793',\n",
       "       '0xcc596bc6753cb82e4383b83bda25b1133a84a5b3',\n",
       "       '0xd3055381ce349b4cb7116a0b3fab762c3f16fa45',\n",
       "       '0xdd903d23af089a4d2d257ef2a4d34e755813da7b',\n",
       "       '0xed3d344d9af0d139018c36255da5371b2ff458c7'], dtype='<U42')"
      ]
     },
     "execution_count": 61,
     "metadata": {},
     "output_type": "execute_result"
    }
   ],
   "source": [
    "diff = np.setdiff1d(unique_voters, unique_eoa) # that are in a but not in b\n",
    "print(len(diff))\n",
    "diff"
   ]
  },
  {
   "cell_type": "code",
   "execution_count": 62,
   "metadata": {},
   "outputs": [
    {
     "name": "stdout",
     "output_type": "stream",
     "text": [
      "17\n"
     ]
    }
   ],
   "source": [
    "#faster?\n",
    "count = np.sum(~np.in1d(unique_voters, unique_eoa))\n",
    "print(count)"
   ]
  },
  {
   "cell_type": "code",
   "execution_count": 63,
   "metadata": {},
   "outputs": [
    {
     "name": "stdout",
     "output_type": "stream",
     "text": [
      "95317\n"
     ]
    }
   ],
   "source": [
    "diff_eoa = np.setdiff1d(unique_eoa, unique_voters)\n",
    "print(len(diff_eoa))"
   ]
  },
  {
   "cell_type": "code",
   "execution_count": null,
   "metadata": {},
   "outputs": [],
   "source": []
  }
 ],
 "metadata": {
  "kernelspec": {
   "display_name": "venslastSB",
   "language": "python",
   "name": "python3"
  },
  "language_info": {
   "codemirror_mode": {
    "name": "ipython",
    "version": 3
   },
   "file_extension": ".py",
   "mimetype": "text/x-python",
   "name": "python",
   "nbconvert_exporter": "python",
   "pygments_lexer": "ipython3",
   "version": "3.10.9"
  },
  "orig_nbformat": 4
 },
 "nbformat": 4,
 "nbformat_minor": 2
}
