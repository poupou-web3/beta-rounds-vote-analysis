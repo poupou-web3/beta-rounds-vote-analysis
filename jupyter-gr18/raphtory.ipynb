{
 "cells": [
  {
   "cell_type": "markdown",
   "metadata": {},
   "source": [
    "# Flag EOA that have less than 30 tx and a bot behavior"
   ]
  },
  {
   "cell_type": "code",
   "execution_count": 59,
   "metadata": {},
   "outputs": [],
   "source": [
    "import os\n",
    "from pathlib import Path\n",
    "import numpy as np\n",
    "import requests\n",
    "import pandas as pd\n",
    "import json"
   ]
  },
  {
   "cell_type": "code",
   "execution_count": 60,
   "metadata": {},
   "outputs": [],
   "source": [
    "import raphtory as rp\n",
    "import raphtory.export as ex\n",
    "import matplotlib.pyplot as plt\n",
    "import networkx as nx\n",
    "\n",
    "from raphtory import Graph\n",
    "import pandas as pd"
   ]
  },
  {
   "cell_type": "code",
   "execution_count": 61,
   "metadata": {},
   "outputs": [],
   "source": [
    "from sbscorer.sblegos.TransactionAnalyser import TransactionAnalyser as txa"
   ]
  },
  {
   "cell_type": "code",
   "execution_count": 62,
   "metadata": {},
   "outputs": [],
   "source": [
    "# Set path to data folder\n",
    "current_dir = Path(os.getcwd())\n",
    "DATA_DIR = os.path.join(current_dir.parent.parent, 'data-regen-rangers')\n",
    "DATA_DIR_GITCOIN = os.path.join(current_dir.parent.parent, 'data-gitcoin')\n",
    "GRANT_ROUND_ID = '0x984e29dCB4286c2D9cbAA2c238AfDd8A191Eefbc'\n",
    "ODC_DATA_DIR = os.path.join(current_dir.parent.parent.parent, 'data')\n",
    "\n",
    "PATH_TO_VOTES = os.path.join(DATA_DIR_GITCOIN, 'citizen-votes.csv')\n",
    "# PATH_TO_GRANTS = os.path.join(DATA_DIR, \"all-allo-rounds.csv\")\n",
    "# PATH_TO_PROJECTS = os.path.join(DATA_DIR, \"projects_QmQurt.csv\")"
   ]
  },
  {
   "cell_type": "code",
   "execution_count": 63,
   "metadata": {},
   "outputs": [],
   "source": [
    "FOLDER_NAME = 'gr18'\n",
    "CHAIN = 'optimism'\n",
    "extract_all = True\n",
    "\n",
    "# Set path to data folder\n",
    "current_dir = Path(os.getcwd())\n",
    "PATH_TO_EXPORT = os.path.join(current_dir.parent.parent, 'tx_data', FOLDER_NAME)\n",
    "PATH_TO_GR18 = os.path.join(current_dir.parent.parent, FOLDER_NAME)\n",
    "voter_tx_file_name = 'gg18_votes.csv'\n",
    "passport_file_name = 'gg18_voter_passports.csv'\n",
    "\n",
    "tx_file_name = 'gr_18_optimism_all_tx.csv'\n",
    "token_transfer_file_name = 'gr_18_optimism_TOKEN_TRANSFERS.csv'"
   ]
  },
  {
   "cell_type": "code",
   "execution_count": 64,
   "metadata": {},
   "outputs": [
    {
     "name": "stderr",
     "output_type": "stream",
     "text": [
      "C:\\Users\\DELL Admin\\AppData\\Local\\Temp\\ipykernel_29160\\1560736169.py:1: DtypeWarning: Columns (9) have mixed types. Specify dtype option on import or set low_memory=False.\n",
      "  votes = pd.read_csv(os.path.join(PATH_TO_GR18, voter_tx_file_name))\n"
     ]
    }
   ],
   "source": [
    "votes = pd.read_csv(os.path.join(PATH_TO_GR18, voter_tx_file_name))\n",
    "passports = pd.read_csv(os.path.join(PATH_TO_GR18, passport_file_name))"
   ]
  },
  {
   "cell_type": "code",
   "execution_count": 65,
   "metadata": {},
   "outputs": [],
   "source": [
    "CONTRACT_CREATION_AD_NAME = '0x_contract_creation'\n",
    "\n",
    "df_tx = pd.read_csv(os.path.join(PATH_TO_EXPORT, tx_file_name))\n",
    "\n",
    "df_tx.loc[df_tx['to_address'].isna(), 'to_address'] = CONTRACT_CREATION_AD_NAME"
   ]
  },
  {
   "cell_type": "code",
   "execution_count": 66,
   "metadata": {},
   "outputs": [
    {
     "name": "stderr",
     "output_type": "stream",
     "text": [
      "C:\\Users\\DELL Admin\\AppData\\Local\\Temp\\ipykernel_29160\\3861798164.py:1: DtypeWarning: Columns (8) have mixed types. Specify dtype option on import or set low_memory=False.\n",
      "  df_token_transfers = pd.read_csv(os.path.join(PATH_TO_EXPORT, token_transfer_file_name))\n"
     ]
    }
   ],
   "source": [
    "df_token_transfers = pd.read_csv(os.path.join(PATH_TO_EXPORT, token_transfer_file_name))"
   ]
  },
  {
   "cell_type": "code",
   "execution_count": 67,
   "metadata": {},
   "outputs": [],
   "source": [
    "unique_address = np.unique(np.concatenate((df_tx['from_address'].values, df_tx['to_address'].values)))"
   ]
  },
  {
   "cell_type": "code",
   "execution_count": 68,
   "metadata": {},
   "outputs": [
    {
     "data": {
      "text/plain": [
       "Index(['tx_hash', 'block_timestamp', 'contract_address', 'origin_from_address',\n",
       "       'origin_to_address', 'from_address', 'to_address', 'symbol',\n",
       "       'raw_amount', 'amount_usd', '__row_index'],\n",
       "      dtype='object')"
      ]
     },
     "execution_count": 68,
     "metadata": {},
     "output_type": "execute_result"
    }
   ],
   "source": [
    "df_token_transfers.columns"
   ]
  },
  {
   "cell_type": "code",
   "execution_count": 69,
   "metadata": {},
   "outputs": [
    {
     "data": {
      "text/plain": [
       "140258"
      ]
     },
     "execution_count": 69,
     "metadata": {},
     "output_type": "execute_result"
    }
   ],
   "source": [
    "len(unique_address)"
   ]
  },
  {
   "cell_type": "code",
   "execution_count": 70,
   "metadata": {},
   "outputs": [],
   "source": [
    "df_token_transfers_target = df_token_transfers.loc[np.logical_or(df_token_transfers['origin_from_address'].isin(unique_address), df_token_transfers['to_address'].isin(unique_address))]"
   ]
  },
  {
   "cell_type": "code",
   "execution_count": 71,
   "metadata": {},
   "outputs": [
    {
     "data": {
      "text/plain": [
       "(10663360, 11)"
      ]
     },
     "execution_count": 71,
     "metadata": {},
     "output_type": "execute_result"
    }
   ],
   "source": [
    "df_token_transfers_target.shape"
   ]
  },
  {
   "cell_type": "code",
   "execution_count": 72,
   "metadata": {},
   "outputs": [
    {
     "data": {
      "text/plain": [
       "tx_hash                 object\n",
       "block_timestamp         object\n",
       "contract_address        object\n",
       "origin_from_address     object\n",
       "origin_to_address       object\n",
       "from_address            object\n",
       "to_address              object\n",
       "symbol                  object\n",
       "raw_amount              object\n",
       "amount_usd             float64\n",
       "__row_index              int64\n",
       "dtype: object"
      ]
     },
     "execution_count": 72,
     "metadata": {},
     "output_type": "execute_result"
    }
   ],
   "source": [
    "df_token_transfers_target.dtypes"
   ]
  },
  {
   "cell_type": "code",
   "execution_count": 35,
   "metadata": {},
   "outputs": [
    {
     "data": {
      "text/plain": [
       "tx_hash                0\n",
       "block_timestamp        0\n",
       "contract_address       0\n",
       "origin_from_address    0\n",
       "origin_to_address      0\n",
       "from_address           0\n",
       "to_address             0\n",
       "symbol                 0\n",
       "raw_amount             0\n",
       "amount_usd             0\n",
       "__row_index            0\n",
       "dtype: int64"
      ]
     },
     "execution_count": 35,
     "metadata": {},
     "output_type": "execute_result"
    }
   ],
   "source": [
    "# preprocessing remove nan values\n",
    "df_token_transfers_target.loc[df_token_transfers_target['origin_to_address'].isna(), 'origin_to_address'] = CONTRACT_CREATION_AD_NAME\n",
    "df_token_transfers_target.loc[df_token_transfers_target['symbol'].isna(), 'symbol'] = ''\n",
    "df_token_transfers_target.loc[df_token_transfers_target['amount_usd'].isna(), 'amount_usd'] = 0\n",
    "\n",
    "# preprocessing convert to types\n",
    "df_token_transfers_target[\"block_timestamp\"] = pd.to_datetime(df_token_transfers_target[\"block_timestamp\"])\n",
    "\n",
    "column_types = {\n",
    "    \"origin_from_address\": str,\n",
    "    \"origin_to_address\": str,\n",
    "    \"to_address\": str,\n",
    "    \"from_address\": str,\n",
    "    \"tx_hash\": str,\n",
    "    \"symbol\": str,\n",
    "    \"contract_address\": str,\n",
    "    \"amount_usd\": float\n",
    "}\n",
    "\n",
    "df_token_transfers_target = df_token_transfers_target.astype(column_types)\n",
    "\n",
    "\n",
    "# verify nan values\n",
    "df_token_transfers_target.isna().sum()"
   ]
  },
  {
   "cell_type": "code",
   "execution_count": 36,
   "metadata": {},
   "outputs": [
    {
     "name": "stdout",
     "output_type": "stream",
     "text": [
      "shape normal transactions: (6894506, 9)\n",
      "shape token transfers: (10663360, 11)\n"
     ]
    }
   ],
   "source": [
    "print(f'shape normal transactions: {df_tx.shape}')\n",
    "print(f'shape token transfers: {df_token_transfers_target.shape}')"
   ]
  },
  {
   "cell_type": "code",
   "execution_count": 37,
   "metadata": {},
   "outputs": [
    {
     "data": {
      "text/plain": [
       "tx_hash            0\n",
       "block_timestamp    0\n",
       "from_address       0\n",
       "to_address         0\n",
       "gas_limit          0\n",
       "gas_used           0\n",
       "tx_fee             0\n",
       "eth_value          0\n",
       "__row_index        0\n",
       "dtype: int64"
      ]
     },
     "execution_count": 37,
     "metadata": {},
     "output_type": "execute_result"
    }
   ],
   "source": [
    "df_tx.isna().sum()"
   ]
  },
  {
   "cell_type": "code",
   "execution_count": 38,
   "metadata": {},
   "outputs": [
    {
     "data": {
      "text/plain": [
       "Index(['tx_hash', 'block_timestamp', 'from_address', 'to_address', 'gas_limit',\n",
       "       'gas_used', 'tx_fee', 'eth_value', '__row_index'],\n",
       "      dtype='object')"
      ]
     },
     "execution_count": 38,
     "metadata": {},
     "output_type": "execute_result"
    }
   ],
   "source": [
    "df_tx.columns"
   ]
  },
  {
   "cell_type": "code",
   "execution_count": 39,
   "metadata": {},
   "outputs": [
    {
     "data": {
      "text/plain": [
       "tx_hash             object\n",
       "block_timestamp     object\n",
       "from_address        object\n",
       "to_address          object\n",
       "gas_limit            int64\n",
       "gas_used             int64\n",
       "tx_fee             float64\n",
       "eth_value          float64\n",
       "__row_index          int64\n",
       "dtype: object"
      ]
     },
     "execution_count": 39,
     "metadata": {},
     "output_type": "execute_result"
    }
   ],
   "source": [
    "df_tx.dtypes"
   ]
  },
  {
   "cell_type": "code",
   "execution_count": 41,
   "metadata": {},
   "outputs": [],
   "source": [
    "# Convert block_timestamp to datetime with specific format\n",
    "df_tx[\"block_timestamp\"] = pd.to_datetime(df_tx[\"block_timestamp\"])\n",
    "\n",
    "column_types = {\n",
    "    \"from_address\": str,\n",
    "    \"to_address\": str,\n",
    "    \"tx_hash\": str,\n",
    "}\n",
    "\n",
    "df_tx = df_tx.astype(column_types)\n"
   ]
  },
  {
   "cell_type": "code",
   "execution_count": 54,
   "metadata": {},
   "outputs": [
    {
     "data": {
      "text/plain": [
       "tx_hash                         object\n",
       "block_timestamp    datetime64[ms, UTC]\n",
       "from_address                    object\n",
       "to_address                      object\n",
       "gas_limit                        int64\n",
       "gas_used                         int64\n",
       "tx_fee                         float64\n",
       "eth_value                      float64\n",
       "__row_index                      int64\n",
       "dtype: object"
      ]
     },
     "execution_count": 54,
     "metadata": {},
     "output_type": "execute_result"
    }
   ],
   "source": [
    "df_tx.dtypes"
   ]
  },
  {
   "cell_type": "code",
   "execution_count": 82,
   "metadata": {},
   "outputs": [
    {
     "name": "stdout",
     "output_type": "stream",
     "text": [
      "The transaction graph:\n",
      "Graph(number_of_edges=2320668, number_of_vertices=140258, number_of_temporal_edges=6894506, earliest_time=\"1636683861000000000\", latest_time=\"1693485791000000000\")\n",
      "Vertex(name=0xf4af0314a06ea7376da5bdecc33f6f9800f1ae28, earliest_time=\"1688677145000000000\", latest_time=\"1693341547000000000\", properties={_id: 0xf4af0314a06ea7376da5bdecc33f6f9800f1ae28})\n"
     ]
    }
   ],
   "source": [
    "g = Graph.load_from_pandas(\n",
    "    edges_df=df_tx,\n",
    "    src=\"from_address\",\n",
    "    dst=\"to_address\",\n",
    "    time=\"block_timestamp\",\n",
    "    props=[\"tx_hash\", \"gas_limit\", \"gas_used\", \"tx_fee\", \"eth_value\"],\n",
    "    layer=\"normal_transaction\",\n",
    ")\n",
    "\n",
    "print(\"The transaction graph:\")\n",
    "print(g)\n",
    "print(g.vertex(\"0xf4af0314a06ea7376da5bdecc33f6f9800f1ae28\"))"
   ]
  },
  {
   "cell_type": "code",
   "execution_count": 87,
   "metadata": {},
   "outputs": [
    {
     "ename": "TypeError",
     "evalue": "argument 'timestamp': time '2023-08-24 20:22:03+00:00' must be a str, dt or an integer",
     "output_type": "error",
     "traceback": [
      "\u001b[1;31m---------------------------------------------------------------------------\u001b[0m",
      "\u001b[1;31mTypeError\u001b[0m                                 Traceback (most recent call last)",
      "Cell \u001b[1;32mIn[87], line 2\u001b[0m\n\u001b[0;32m      1\u001b[0m \u001b[39mfor\u001b[39;00m index, row \u001b[39min\u001b[39;00m df_tx\u001b[39m.\u001b[39miterrows():\n\u001b[1;32m----> 2\u001b[0m     g_token\u001b[39m.\u001b[39;49madd_edge(\n\u001b[0;32m      3\u001b[0m         src\u001b[39m=\u001b[39;49mrow[\u001b[39m\"\u001b[39;49m\u001b[39mfrom_address\u001b[39;49m\u001b[39m\"\u001b[39;49m],\n\u001b[0;32m      4\u001b[0m         dst\u001b[39m=\u001b[39;49mrow[\u001b[39m\"\u001b[39;49m\u001b[39mto_address\u001b[39;49m\u001b[39m\"\u001b[39;49m],\n\u001b[0;32m      5\u001b[0m         timestamp\u001b[39m=\u001b[39;49mrow[\u001b[39m\"\u001b[39;49m\u001b[39mblock_timestamp\u001b[39;49m\u001b[39m\"\u001b[39;49m],\n\u001b[0;32m      6\u001b[0m         properties\u001b[39m=\u001b[39;49m{\n\u001b[0;32m      7\u001b[0m             \u001b[39m\"\u001b[39;49m\u001b[39mtx_hash\u001b[39;49m\u001b[39m\"\u001b[39;49m: row[\u001b[39m\"\u001b[39;49m\u001b[39mtx_hash\u001b[39;49m\u001b[39m\"\u001b[39;49m],\n\u001b[0;32m      8\u001b[0m             \u001b[39m\"\u001b[39;49m\u001b[39mgas_limit\u001b[39;49m\u001b[39m\"\u001b[39;49m: row[\u001b[39m\"\u001b[39;49m\u001b[39mgas_limit\u001b[39;49m\u001b[39m\"\u001b[39;49m],\n\u001b[0;32m      9\u001b[0m             \u001b[39m\"\u001b[39;49m\u001b[39mgas_used\u001b[39;49m\u001b[39m\"\u001b[39;49m: row[\u001b[39m\"\u001b[39;49m\u001b[39mgas_used\u001b[39;49m\u001b[39m\"\u001b[39;49m],\n\u001b[0;32m     10\u001b[0m             \u001b[39m\"\u001b[39;49m\u001b[39mtx_fee\u001b[39;49m\u001b[39m\"\u001b[39;49m: row[\u001b[39m\"\u001b[39;49m\u001b[39mtx_fee\u001b[39;49m\u001b[39m\"\u001b[39;49m],\n\u001b[0;32m     11\u001b[0m             \u001b[39m\"\u001b[39;49m\u001b[39meth_value\u001b[39;49m\u001b[39m\"\u001b[39;49m: row[\u001b[39m\"\u001b[39;49m\u001b[39meth_value\u001b[39;49m\u001b[39m\"\u001b[39;49m]},\n\u001b[0;32m     12\u001b[0m         layer\u001b[39m=\u001b[39;49m\u001b[39m\"\u001b[39;49m\u001b[39mtoken_transfer\u001b[39;49m\u001b[39m\"\u001b[39;49m\n\u001b[0;32m     13\u001b[0m     )\n",
      "\u001b[1;31mTypeError\u001b[0m: argument 'timestamp': time '2023-08-24 20:22:03+00:00' must be a str, dt or an integer"
     ]
    }
   ],
   "source": [
    "for index, row in df_tx.iterrows():\n",
    "    g_token.add_edge(\n",
    "        src=row[\"from_address\"],\n",
    "        dst=row[\"to_address\"],\n",
    "        timestamp=row[\"block_timestamp\"],\n",
    "        properties={\n",
    "            \"tx_hash\": row[\"tx_hash\"],\n",
    "            \"gas_limit\": row[\"gas_limit\"],\n",
    "            \"gas_used\": row[\"gas_used\"],\n",
    "            \"tx_fee\": row[\"tx_fee\"],\n",
    "            \"eth_value\": row[\"eth_value\"]},\n",
    "        layer=\"token_transfer\"\n",
    "    )"
   ]
  },
  {
   "cell_type": "code",
   "execution_count": 44,
   "metadata": {},
   "outputs": [
    {
     "name": "stdout",
     "output_type": "stream",
     "text": [
      "Number of vertices: 140258\n",
      "Number of edges: 2320668\n"
     ]
    }
   ],
   "source": [
    "print(f'Number of vertices: {g.num_vertices()}')\n",
    "print(f'Number of edges: {g.num_edges()}')"
   ]
  },
  {
   "cell_type": "code",
   "execution_count": 45,
   "metadata": {},
   "outputs": [
    {
     "data": {
      "text/plain": [
       "Index(['tx_hash', 'block_timestamp', 'contract_address', 'origin_from_address',\n",
       "       'origin_to_address', 'from_address', 'to_address', 'symbol',\n",
       "       'raw_amount', 'amount_usd', '__row_index'],\n",
       "      dtype='object')"
      ]
     },
     "execution_count": 45,
     "metadata": {},
     "output_type": "execute_result"
    }
   ],
   "source": [
    "df_token_transfers_target.columns"
   ]
  },
  {
   "cell_type": "code",
   "execution_count": 86,
   "metadata": {},
   "outputs": [],
   "source": [
    "g_token = Graph.load_from_pandas(\n",
    "    edges_df=df_token_transfers_target[['origin_from_address', 'to_address', 'block_timestamp', 'tx_hash', 'contract_address', 'origin_to_address', 'from_address', 'symbol', 'amount_usd']],\n",
    "    src=\"origin_from_address\",\n",
    "    dst=\"to_address\",\n",
    "    time=\"block_timestamp\",\n",
    "    props=[\"tx_hash\", \"contract_address\", \"origin_to_address\", \"from_address\", \"symbol\", \"amount_usd\"],\n",
    "    layer_in_df=\"token_transfer\",\n",
    ")"
   ]
  },
  {
   "cell_type": "code",
   "execution_count": 85,
   "metadata": {},
   "outputs": [
    {
     "ename": "TypeError",
     "evalue": "argument 'timestamp': time '2023-08-19 22:02:37+00:00' must be a str, dt or an integer",
     "output_type": "error",
     "traceback": [
      "\u001b[1;31m---------------------------------------------------------------------------\u001b[0m",
      "\u001b[1;31mTypeError\u001b[0m                                 Traceback (most recent call last)",
      "Cell \u001b[1;32mIn[85], line 2\u001b[0m\n\u001b[0;32m      1\u001b[0m \u001b[39mfor\u001b[39;00m index, row \u001b[39min\u001b[39;00m df_token_transfers_target\u001b[39m.\u001b[39miterrows():\n\u001b[1;32m----> 2\u001b[0m     g\u001b[39m.\u001b[39;49madd_edge(\n\u001b[0;32m      3\u001b[0m         src\u001b[39m=\u001b[39;49mrow[\u001b[39m\"\u001b[39;49m\u001b[39morigin_from_address\u001b[39;49m\u001b[39m\"\u001b[39;49m],\n\u001b[0;32m      4\u001b[0m         dst\u001b[39m=\u001b[39;49mrow[\u001b[39m\"\u001b[39;49m\u001b[39mto_address\u001b[39;49m\u001b[39m\"\u001b[39;49m],\n\u001b[0;32m      5\u001b[0m         timestamp\u001b[39m=\u001b[39;49mrow[\u001b[39m\"\u001b[39;49m\u001b[39mblock_timestamp\u001b[39;49m\u001b[39m\"\u001b[39;49m],\n\u001b[0;32m      6\u001b[0m         properties\u001b[39m=\u001b[39;49m{\n\u001b[0;32m      7\u001b[0m             \u001b[39m\"\u001b[39;49m\u001b[39mtx_hash\u001b[39;49m\u001b[39m\"\u001b[39;49m: row[\u001b[39m\"\u001b[39;49m\u001b[39mtx_hash\u001b[39;49m\u001b[39m\"\u001b[39;49m],\n\u001b[0;32m      8\u001b[0m             \u001b[39m\"\u001b[39;49m\u001b[39mcontract_address\u001b[39;49m\u001b[39m\"\u001b[39;49m: row[\u001b[39m\"\u001b[39;49m\u001b[39mcontract_address\u001b[39;49m\u001b[39m\"\u001b[39;49m],\n\u001b[0;32m      9\u001b[0m             \u001b[39m\"\u001b[39;49m\u001b[39morigin_to_address\u001b[39;49m\u001b[39m\"\u001b[39;49m: row[\u001b[39m\"\u001b[39;49m\u001b[39morigin_to_address\u001b[39;49m\u001b[39m\"\u001b[39;49m],\n\u001b[0;32m     10\u001b[0m             \u001b[39m\"\u001b[39;49m\u001b[39mfrom_address\u001b[39;49m\u001b[39m\"\u001b[39;49m: row[\u001b[39m\"\u001b[39;49m\u001b[39mfrom_address\u001b[39;49m\u001b[39m\"\u001b[39;49m],\n\u001b[0;32m     11\u001b[0m             \u001b[39m\"\u001b[39;49m\u001b[39msymbol\u001b[39;49m\u001b[39m\"\u001b[39;49m: row[\u001b[39m\"\u001b[39;49m\u001b[39msymbol\u001b[39;49m\u001b[39m\"\u001b[39;49m],\n\u001b[0;32m     12\u001b[0m             \u001b[39m\"\u001b[39;49m\u001b[39mamount_usd\u001b[39;49m\u001b[39m\"\u001b[39;49m: row[\u001b[39m\"\u001b[39;49m\u001b[39mamount_usd\u001b[39;49m\u001b[39m\"\u001b[39;49m]},\n\u001b[0;32m     13\u001b[0m         layer\u001b[39m=\u001b[39;49m\u001b[39m\"\u001b[39;49m\u001b[39mtoken_transfer\u001b[39;49m\u001b[39m\"\u001b[39;49m\n\u001b[0;32m     14\u001b[0m     )\n",
      "\u001b[1;31mTypeError\u001b[0m: argument 'timestamp': time '2023-08-19 22:02:37+00:00' must be a str, dt or an integer"
     ]
    }
   ],
   "source": [
    "for index, row in df_token_transfers_target.iterrows():\n",
    "    g.add_edge(\n",
    "        src=row[\"origin_from_address\"],\n",
    "        dst=row[\"to_address\"],\n",
    "        timestamp=row[\"block_timestamp\"],\n",
    "        properties={\n",
    "            \"tx_hash\": row[\"tx_hash\"],\n",
    "            \"contract_address\": row[\"contract_address\"],\n",
    "            \"origin_to_address\": row[\"origin_to_address\"],\n",
    "            \"from_address\": row[\"from_address\"],\n",
    "            \"symbol\": row[\"symbol\"],\n",
    "            \"amount_usd\": row[\"amount_usd\"]},\n",
    "        layer=\"token_transfer\"\n",
    "    )"
   ]
  },
  {
   "cell_type": "code",
   "execution_count": null,
   "metadata": {},
   "outputs": [
    {
     "name": "stdout",
     "output_type": "stream",
     "text": [
      "Number of vertices: 140258\n",
      "Number of edges: 2320668\n"
     ]
    }
   ],
   "source": [
    "print(f'Number of vertices: {g.num_vertices()}')\n",
    "print(f'Number of edges: {g.num_edges()}')"
   ]
  },
  {
   "cell_type": "code",
   "execution_count": 48,
   "metadata": {},
   "outputs": [
    {
     "name": "stdout",
     "output_type": "stream",
     "text": [
      "The graph's density is 0.00011796707985922694\n",
      "The graph's clustering coefficient is 0.00014594744104434759\n",
      "The graph's reciprocity is 0.024489408761862057\n"
     ]
    }
   ],
   "source": [
    "from raphtory import algorithms as ralg\n",
    "\n",
    "density = ralg.directed_graph_density(g)\n",
    "clustering_coefficient = ralg.global_clustering_coefficient(g)\n",
    "reciprocity = ralg.global_reciprocity(g)\n",
    "\n",
    "print(f\"The graph's density is {density}\")\n",
    "print(f\"The graph's clustering coefficient is {clustering_coefficient}\")\n",
    "print(f\"The graph's reciprocity is {reciprocity}\")"
   ]
  },
  {
   "cell_type": "code",
   "execution_count": 49,
   "metadata": {},
   "outputs": [
    {
     "name": "stdout",
     "output_type": "stream",
     "text": [
      "Gandalf's ranking is None\n",
      "\n",
      "Rank 1: 0x15fa08599eb017f89c1712d0fe76138899fdb9db with a score of 0.03937\n",
      "Rank 2: 0x7f5c764cbc14f9669b88837ca1490cca17c31607 with a score of 0.00694\n",
      "Rank 3: 0xb49c4e680174e331cb0a7ff3ab58afc9738d5f8b with a score of 0.00564\n",
      "Rank 4: 0xb0d502e938ed5f4df2e681fe6e419ff29631d62b with a score of 0.00451\n",
      "Rank 5: 0x2e42f214467f647fe687fd9a2bf3baddfa737465 with a score of 0.00450\n"
     ]
    }
   ],
   "source": [
    "results = ralg.pagerank(g)\n",
    "\n",
    "# Getting the results for an individual character (Gandalf)\n",
    "gandalf_rank = results.get(\"Gandalf\")\n",
    "print(f\"Gandalf's ranking is {gandalf_rank}\\n\")\n",
    "\n",
    "# Getting the top 5 most important characters and printing out their scores\n",
    "top_5 = results.top_k(5)\n",
    "for rank, (name, score) in enumerate(top_5, 1):\n",
    "    print(f\"Rank {rank}: {name} with a score of {score:.5f}\")"
   ]
  },
  {
   "cell_type": "code",
   "execution_count": null,
   "metadata": {},
   "outputs": [],
   "source": []
  },
  {
   "cell_type": "code",
   "execution_count": null,
   "metadata": {},
   "outputs": [],
   "source": []
  },
  {
   "cell_type": "code",
   "execution_count": null,
   "metadata": {},
   "outputs": [
    {
     "ename": "ModuleNotFoundError",
     "evalue": "No module named 'scipy'",
     "output_type": "error",
     "traceback": [
      "\u001b[1;31m---------------------------------------------------------------------------\u001b[0m",
      "\u001b[1;31mModuleNotFoundError\u001b[0m                       Traceback (most recent call last)",
      "Cell \u001b[1;32mIn[35], line 2\u001b[0m\n\u001b[0;32m      1\u001b[0m nx_g \u001b[39m=\u001b[39m ex\u001b[39m.\u001b[39mto_networkx(g)\n\u001b[1;32m----> 2\u001b[0m nx\u001b[39m.\u001b[39;49mdraw(nx_g, with_labels\u001b[39m=\u001b[39;49m\u001b[39mTrue\u001b[39;49;00m, node_color\u001b[39m=\u001b[39;49m\u001b[39m\"\u001b[39;49m\u001b[39mlightblue\u001b[39;49m\u001b[39m\"\u001b[39;49m, edge_color\u001b[39m=\u001b[39;49m\u001b[39m\"\u001b[39;49m\u001b[39mgray\u001b[39;49m\u001b[39m\"\u001b[39;49m)\n",
      "File \u001b[1;32mc:\\Users\\DELL Admin\\Documents\\ODC\\RegenRangers\\beta-round-vote-analysis\\venslastSB\\lib\\site-packages\\networkx\\drawing\\nx_pylab.py:121\u001b[0m, in \u001b[0;36mdraw\u001b[1;34m(G, pos, ax, **kwds)\u001b[0m\n\u001b[0;32m    118\u001b[0m \u001b[39mif\u001b[39;00m \u001b[39m\"\u001b[39m\u001b[39mwith_labels\u001b[39m\u001b[39m\"\u001b[39m \u001b[39mnot\u001b[39;00m \u001b[39min\u001b[39;00m kwds:\n\u001b[0;32m    119\u001b[0m     kwds[\u001b[39m\"\u001b[39m\u001b[39mwith_labels\u001b[39m\u001b[39m\"\u001b[39m] \u001b[39m=\u001b[39m \u001b[39m\"\u001b[39m\u001b[39mlabels\u001b[39m\u001b[39m\"\u001b[39m \u001b[39min\u001b[39;00m kwds\n\u001b[1;32m--> 121\u001b[0m draw_networkx(G, pos\u001b[39m=\u001b[39mpos, ax\u001b[39m=\u001b[39max, \u001b[39m*\u001b[39m\u001b[39m*\u001b[39mkwds)\n\u001b[0;32m    122\u001b[0m ax\u001b[39m.\u001b[39mset_axis_off()\n\u001b[0;32m    123\u001b[0m plt\u001b[39m.\u001b[39mdraw_if_interactive()\n",
      "File \u001b[1;32mc:\\Users\\DELL Admin\\Documents\\ODC\\RegenRangers\\beta-round-vote-analysis\\venslastSB\\lib\\site-packages\\networkx\\drawing\\nx_pylab.py:301\u001b[0m, in \u001b[0;36mdraw_networkx\u001b[1;34m(G, pos, arrows, with_labels, **kwds)\u001b[0m\n\u001b[0;32m    298\u001b[0m label_kwds \u001b[39m=\u001b[39m {k: v \u001b[39mfor\u001b[39;00m k, v \u001b[39min\u001b[39;00m kwds\u001b[39m.\u001b[39mitems() \u001b[39mif\u001b[39;00m k \u001b[39min\u001b[39;00m valid_label_kwds}\n\u001b[0;32m    300\u001b[0m \u001b[39mif\u001b[39;00m pos \u001b[39mis\u001b[39;00m \u001b[39mNone\u001b[39;00m:\n\u001b[1;32m--> 301\u001b[0m     pos \u001b[39m=\u001b[39m nx\u001b[39m.\u001b[39;49mdrawing\u001b[39m.\u001b[39;49mspring_layout(G)  \u001b[39m# default to spring layout\u001b[39;00m\n\u001b[0;32m    303\u001b[0m draw_networkx_nodes(G, pos, \u001b[39m*\u001b[39m\u001b[39m*\u001b[39mnode_kwds)\n\u001b[0;32m    304\u001b[0m draw_networkx_edges(G, pos, arrows\u001b[39m=\u001b[39marrows, \u001b[39m*\u001b[39m\u001b[39m*\u001b[39medge_kwds)\n",
      "File \u001b[1;32mc:\\Users\\DELL Admin\\Documents\\ODC\\RegenRangers\\beta-round-vote-analysis\\venslastSB\\lib\\site-packages\\networkx\\utils\\decorators.py:766\u001b[0m, in \u001b[0;36margmap.__call__.<locals>.func\u001b[1;34m(_argmap__wrapper, *args, **kwargs)\u001b[0m\n\u001b[0;32m    765\u001b[0m \u001b[39mdef\u001b[39;00m \u001b[39mfunc\u001b[39m(\u001b[39m*\u001b[39margs, __wrapper\u001b[39m=\u001b[39m\u001b[39mNone\u001b[39;00m, \u001b[39m*\u001b[39m\u001b[39m*\u001b[39mkwargs):\n\u001b[1;32m--> 766\u001b[0m     \u001b[39mreturn\u001b[39;00m argmap\u001b[39m.\u001b[39m_lazy_compile(__wrapper)(\u001b[39m*\u001b[39margs, \u001b[39m*\u001b[39m\u001b[39m*\u001b[39mkwargs)\n",
      "File \u001b[1;32m<class 'networkx.utils.decorators.argmap'> compilation 4:4\u001b[0m, in \u001b[0;36margmap_spring_layout_1\u001b[1;34m(G, k, pos, fixed, iterations, threshold, weight, scale, center, dim, seed)\u001b[0m\n\u001b[0;32m      2\u001b[0m \u001b[39mimport\u001b[39;00m \u001b[39mcollections\u001b[39;00m\n\u001b[0;32m      3\u001b[0m \u001b[39mimport\u001b[39;00m \u001b[39mgzip\u001b[39;00m\n\u001b[1;32m----> 4\u001b[0m \u001b[39mimport\u001b[39;00m \u001b[39minspect\u001b[39;00m\n\u001b[0;32m      5\u001b[0m \u001b[39mimport\u001b[39;00m \u001b[39mitertools\u001b[39;00m\n\u001b[0;32m      6\u001b[0m \u001b[39mimport\u001b[39;00m \u001b[39mre\u001b[39;00m\n",
      "File \u001b[1;32mc:\\Users\\DELL Admin\\Documents\\ODC\\RegenRangers\\beta-round-vote-analysis\\venslastSB\\lib\\site-packages\\networkx\\drawing\\layout.py:477\u001b[0m, in \u001b[0;36mspring_layout\u001b[1;34m(G, k, pos, fixed, iterations, threshold, weight, scale, center, dim, seed)\u001b[0m\n\u001b[0;32m    475\u001b[0m \u001b[39mif\u001b[39;00m \u001b[39mlen\u001b[39m(G) \u001b[39m<\u001b[39m \u001b[39m500\u001b[39m:  \u001b[39m# sparse solver for large graphs\u001b[39;00m\n\u001b[0;32m    476\u001b[0m     \u001b[39mraise\u001b[39;00m \u001b[39mValueError\u001b[39;00m\n\u001b[1;32m--> 477\u001b[0m A \u001b[39m=\u001b[39m nx\u001b[39m.\u001b[39;49mto_scipy_sparse_array(G, weight\u001b[39m=\u001b[39;49mweight, dtype\u001b[39m=\u001b[39;49m\u001b[39m\"\u001b[39;49m\u001b[39mf\u001b[39;49m\u001b[39m\"\u001b[39;49m)\n\u001b[0;32m    478\u001b[0m \u001b[39mif\u001b[39;00m k \u001b[39mis\u001b[39;00m \u001b[39mNone\u001b[39;00m \u001b[39mand\u001b[39;00m fixed \u001b[39mis\u001b[39;00m \u001b[39mnot\u001b[39;00m \u001b[39mNone\u001b[39;00m:\n\u001b[0;32m    479\u001b[0m     \u001b[39m# We must adjust k by domain size for layouts not near 1x1\u001b[39;00m\n\u001b[0;32m    480\u001b[0m     nnodes, _ \u001b[39m=\u001b[39m A\u001b[39m.\u001b[39mshape\n",
      "File \u001b[1;32mc:\\Users\\DELL Admin\\Documents\\ODC\\RegenRangers\\beta-round-vote-analysis\\venslastSB\\lib\\site-packages\\networkx\\convert_matrix.py:546\u001b[0m, in \u001b[0;36mto_scipy_sparse_array\u001b[1;34m(G, nodelist, dtype, weight, format)\u001b[0m\n\u001b[0;32m    466\u001b[0m \u001b[39mdef\u001b[39;00m \u001b[39mto_scipy_sparse_array\u001b[39m(G, nodelist\u001b[39m=\u001b[39m\u001b[39mNone\u001b[39;00m, dtype\u001b[39m=\u001b[39m\u001b[39mNone\u001b[39;00m, weight\u001b[39m=\u001b[39m\u001b[39m\"\u001b[39m\u001b[39mweight\u001b[39m\u001b[39m\"\u001b[39m, \u001b[39mformat\u001b[39m\u001b[39m=\u001b[39m\u001b[39m\"\u001b[39m\u001b[39mcsr\u001b[39m\u001b[39m\"\u001b[39m):\n\u001b[0;32m    467\u001b[0m \u001b[39m    \u001b[39m\u001b[39m\"\"\"Returns the graph adjacency matrix as a SciPy sparse array.\u001b[39;00m\n\u001b[0;32m    468\u001b[0m \n\u001b[0;32m    469\u001b[0m \u001b[39m    Parameters\u001b[39;00m\n\u001b[1;32m   (...)\u001b[0m\n\u001b[0;32m    544\u001b[0m \u001b[39m       https://docs.scipy.org/doc/scipy/reference/sparse.html\u001b[39;00m\n\u001b[0;32m    545\u001b[0m \u001b[39m    \"\"\"\u001b[39;00m\n\u001b[1;32m--> 546\u001b[0m     \u001b[39mimport\u001b[39;00m \u001b[39mscipy\u001b[39;00m \u001b[39mas\u001b[39;00m \u001b[39msp\u001b[39;00m\n\u001b[0;32m    547\u001b[0m     \u001b[39mimport\u001b[39;00m \u001b[39mscipy\u001b[39;00m\u001b[39m.\u001b[39;00m\u001b[39msparse\u001b[39;00m  \u001b[39m# call as sp.sparse\u001b[39;00m\n\u001b[0;32m    549\u001b[0m     \u001b[39mif\u001b[39;00m \u001b[39mlen\u001b[39m(G) \u001b[39m==\u001b[39m \u001b[39m0\u001b[39m:\n",
      "\u001b[1;31mModuleNotFoundError\u001b[0m: No module named 'scipy'"
     ]
    },
    {
     "data": {
      "image/png": "[encoded data removed]",
      "text/plain": [
       "<Figure size 640x480 with 1 Axes>"
      ]
     },
     "metadata": {},
     "output_type": "display_data"
    }
   ],
   "source": [
    "nx_g = ex.to_networkx(g)\n",
    "nx.draw(nx_g, with_labels=True, node_color=\"lightblue\", edge_color=\"gray\")"
   ]
  }
 ],
 "metadata": {
  "kernelspec": {
   "display_name": "venvVotesUpdate",
   "language": "python",
   "name": "python3"
  },
  "language_info": {
   "codemirror_mode": {
    "name": "ipython",
    "version": 3
   },
   "file_extension": ".py",
   "mimetype": "text/x-python",
   "name": "python",
   "nbconvert_exporter": "python",
   "pygments_lexer": "ipython3",
   "version": "3.10.9"
  },
  "orig_nbformat": 4
 },
 "nbformat": 4,
 "nbformat_minor": 2
}
