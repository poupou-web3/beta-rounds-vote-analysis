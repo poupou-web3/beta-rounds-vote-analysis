{
 "cells": [
  {
   "cell_type": "markdown",
   "metadata": {},
   "source": [
    "# Explore raphtory capabilities"
   ]
  },
  {
   "cell_type": "code",
   "execution_count": 33,
   "metadata": {},
   "outputs": [],
   "source": [
    "import os\n",
    "from pathlib import Path\n",
    "import numpy as np\n",
    "import requests\n",
    "import pandas as pd\n",
    "import json"
   ]
  },
  {
   "cell_type": "code",
   "execution_count": 34,
   "metadata": {},
   "outputs": [],
   "source": [
    "import raphtory as rp\n",
    "import raphtory.export as ex\n",
    "import matplotlib.pyplot as plt\n",
    "import networkx as nx\n",
    "\n",
    "from raphtory import Graph\n",
    "import pandas as pd"
   ]
  },
  {
   "cell_type": "code",
   "execution_count": 35,
   "metadata": {},
   "outputs": [],
   "source": [
    "from sbscorer.sblegos.TransactionAnalyser import TransactionAnalyser as txa"
   ]
  },
  {
   "cell_type": "code",
   "execution_count": 36,
   "metadata": {},
   "outputs": [],
   "source": [
    "# Set path to data folder\n",
    "current_dir = Path(os.getcwd())\n",
    "DATA_DIR = os.path.join(current_dir.parent.parent, 'data-regen-rangers')\n",
    "DATA_DIR_GITCOIN = os.path.join(current_dir.parent.parent, 'data-gitcoin')\n",
    "GRANT_ROUND_ID = '0x984e29dCB4286c2D9cbAA2c238AfDd8A191Eefbc'\n",
    "ODC_DATA_DIR = os.path.join(current_dir.parent.parent.parent, 'data')\n",
    "\n",
    "PATH_TO_VOTES = os.path.join(DATA_DIR_GITCOIN, 'citizen-votes.csv')\n",
    "# PATH_TO_GRANTS = os.path.join(DATA_DIR, \"all-allo-rounds.csv\")\n",
    "# PATH_TO_PROJECTS = os.path.join(DATA_DIR, \"projects_QmQurt.csv\")"
   ]
  },
  {
   "cell_type": "code",
   "execution_count": 37,
   "metadata": {},
   "outputs": [],
   "source": [
    "FOLDER_NAME = 'gr18'\n",
    "CHAIN = 'optimism'\n",
    "extract_all = True\n",
    "\n",
    "# Set path to data folder\n",
    "current_dir = Path(os.getcwd())\n",
    "PATH_TO_EXPORT = os.path.join(current_dir.parent.parent, 'tx_data', FOLDER_NAME)\n",
    "PATH_TO_GR18 = os.path.join(current_dir.parent.parent, FOLDER_NAME)\n",
    "voter_tx_file_name = 'gg18_votes.csv'\n",
    "passport_file_name = 'gg18_voter_passports.csv'\n",
    "\n",
    "tx_file_name = 'gr_18_optimism_all_tx.csv'\n",
    "token_transfer_file_name = 'gr_18_optimism_TOKEN_TRANSFERS.csv'"
   ]
  },
  {
   "cell_type": "code",
   "execution_count": 38,
   "metadata": {},
   "outputs": [
    {
     "name": "stderr",
     "output_type": "stream",
     "text": [
      "C:\\Users\\DELL Admin\\AppData\\Local\\Temp\\ipykernel_7848\\1560736169.py:1: DtypeWarning: Columns (9) have mixed types. Specify dtype option on import or set low_memory=False.\n",
      "  votes = pd.read_csv(os.path.join(PATH_TO_GR18, voter_tx_file_name))\n"
     ]
    }
   ],
   "source": [
    "votes = pd.read_csv(os.path.join(PATH_TO_GR18, voter_tx_file_name))\n",
    "passports = pd.read_csv(os.path.join(PATH_TO_GR18, passport_file_name))"
   ]
  },
  {
   "cell_type": "code",
   "execution_count": 39,
   "metadata": {},
   "outputs": [],
   "source": [
    "CONTRACT_CREATION_AD_NAME = '0x_contract_creation'\n",
    "\n",
    "df_tx = pd.read_csv(os.path.join(PATH_TO_EXPORT, tx_file_name))\n",
    "\n",
    "df_tx.loc[df_tx['to_address'].isna(), 'to_address'] = CONTRACT_CREATION_AD_NAME"
   ]
  },
  {
   "cell_type": "code",
   "execution_count": 40,
   "metadata": {},
   "outputs": [
    {
     "name": "stderr",
     "output_type": "stream",
     "text": [
      "C:\\Users\\DELL Admin\\AppData\\Local\\Temp\\ipykernel_7848\\3861798164.py:1: DtypeWarning: Columns (8) have mixed types. Specify dtype option on import or set low_memory=False.\n",
      "  df_token_transfers = pd.read_csv(os.path.join(PATH_TO_EXPORT, token_transfer_file_name))\n"
     ]
    }
   ],
   "source": [
    "df_token_transfers = pd.read_csv(os.path.join(PATH_TO_EXPORT, token_transfer_file_name))"
   ]
  },
  {
   "cell_type": "code",
   "execution_count": 41,
   "metadata": {},
   "outputs": [],
   "source": [
    "unique_address = np.unique(np.concatenate((df_tx['from_address'].values, df_tx['to_address'].values)))"
   ]
  },
  {
   "cell_type": "code",
   "execution_count": 42,
   "metadata": {},
   "outputs": [
    {
     "data": {
      "text/plain": [
       "Index(['tx_hash', 'block_timestamp', 'contract_address', 'origin_from_address',\n",
       "       'origin_to_address', 'from_address', 'to_address', 'symbol',\n",
       "       'raw_amount', 'amount_usd', '__row_index'],\n",
       "      dtype='object')"
      ]
     },
     "execution_count": 42,
     "metadata": {},
     "output_type": "execute_result"
    }
   ],
   "source": [
    "df_token_transfers.columns"
   ]
  },
  {
   "cell_type": "code",
   "execution_count": 43,
   "metadata": {},
   "outputs": [
    {
     "data": {
      "text/plain": [
       "140258"
      ]
     },
     "execution_count": 43,
     "metadata": {},
     "output_type": "execute_result"
    }
   ],
   "source": [
    "len(unique_address)"
   ]
  },
  {
   "cell_type": "code",
   "execution_count": 44,
   "metadata": {},
   "outputs": [],
   "source": [
    "df_token_transfers_target = df_token_transfers.loc[np.logical_or(df_token_transfers['origin_from_address'].isin(unique_address), df_token_transfers['to_address'].isin(unique_address))]"
   ]
  },
  {
   "cell_type": "code",
   "execution_count": 45,
   "metadata": {},
   "outputs": [
    {
     "data": {
      "text/plain": [
       "(10663360, 11)"
      ]
     },
     "execution_count": 45,
     "metadata": {},
     "output_type": "execute_result"
    }
   ],
   "source": [
    "df_token_transfers_target.shape"
   ]
  },
  {
   "cell_type": "code",
   "execution_count": 46,
   "metadata": {},
   "outputs": [
    {
     "data": {
      "text/plain": [
       "tx_hash                 object\n",
       "block_timestamp         object\n",
       "contract_address        object\n",
       "origin_from_address     object\n",
       "origin_to_address       object\n",
       "from_address            object\n",
       "to_address              object\n",
       "symbol                  object\n",
       "raw_amount              object\n",
       "amount_usd             float64\n",
       "__row_index              int64\n",
       "dtype: object"
      ]
     },
     "execution_count": 46,
     "metadata": {},
     "output_type": "execute_result"
    }
   ],
   "source": [
    "df_token_transfers_target.dtypes"
   ]
  },
  {
   "cell_type": "code",
   "execution_count": 47,
   "metadata": {},
   "outputs": [
    {
     "data": {
      "text/plain": [
       "tx_hash                0\n",
       "block_timestamp        0\n",
       "contract_address       0\n",
       "origin_from_address    0\n",
       "origin_to_address      0\n",
       "from_address           0\n",
       "to_address             0\n",
       "symbol                 0\n",
       "raw_amount             0\n",
       "amount_usd             0\n",
       "__row_index            0\n",
       "dtype: int64"
      ]
     },
     "execution_count": 47,
     "metadata": {},
     "output_type": "execute_result"
    }
   ],
   "source": [
    "# preprocessing remove nan values\n",
    "df_token_transfers_target.loc[df_token_transfers_target['origin_to_address'].isna(), 'origin_to_address'] = CONTRACT_CREATION_AD_NAME\n",
    "df_token_transfers_target.loc[df_token_transfers_target['symbol'].isna(), 'symbol'] = ''\n",
    "df_token_transfers_target.loc[df_token_transfers_target['amount_usd'].isna(), 'amount_usd'] = 0\n",
    "\n",
    "# preprocessing convert to types\n",
    "df_token_transfers_target[\"block_timestamp\"] = pd.to_datetime(df_token_transfers_target[\"block_timestamp\"]).astype(\"datetime64[ms, UTC]\")\n",
    "\n",
    "column_types = {\n",
    "    \"origin_from_address\": str,\n",
    "    \"origin_to_address\": str,\n",
    "    \"to_address\": str,\n",
    "    \"from_address\": str,\n",
    "    \"tx_hash\": str,\n",
    "    \"symbol\": str,\n",
    "    \"contract_address\": str,\n",
    "    \"amount_usd\": float\n",
    "}\n",
    "\n",
    "df_token_transfers_target = df_token_transfers_target.astype(column_types)\n",
    "\n",
    "\n",
    "# verify nan values\n",
    "df_token_transfers_target.isna().sum()"
   ]
  },
  {
   "cell_type": "code",
   "execution_count": 48,
   "metadata": {},
   "outputs": [
    {
     "name": "stdout",
     "output_type": "stream",
     "text": [
      "shape normal transactions: (6894506, 9)\n",
      "shape token transfers: (10663360, 11)\n"
     ]
    }
   ],
   "source": [
    "print(f'shape normal transactions: {df_tx.shape}')\n",
    "print(f'shape token transfers: {df_token_transfers_target.shape}')"
   ]
  },
  {
   "cell_type": "code",
   "execution_count": 49,
   "metadata": {},
   "outputs": [
    {
     "data": {
      "text/plain": [
       "tx_hash            0\n",
       "block_timestamp    0\n",
       "from_address       0\n",
       "to_address         0\n",
       "gas_limit          0\n",
       "gas_used           0\n",
       "tx_fee             0\n",
       "eth_value          0\n",
       "__row_index        0\n",
       "dtype: int64"
      ]
     },
     "execution_count": 49,
     "metadata": {},
     "output_type": "execute_result"
    }
   ],
   "source": [
    "df_tx.isna().sum()"
   ]
  },
  {
   "cell_type": "code",
   "execution_count": 50,
   "metadata": {},
   "outputs": [
    {
     "data": {
      "text/plain": [
       "Index(['tx_hash', 'block_timestamp', 'from_address', 'to_address', 'gas_limit',\n",
       "       'gas_used', 'tx_fee', 'eth_value', '__row_index'],\n",
       "      dtype='object')"
      ]
     },
     "execution_count": 50,
     "metadata": {},
     "output_type": "execute_result"
    }
   ],
   "source": [
    "df_tx.columns"
   ]
  },
  {
   "cell_type": "code",
   "execution_count": 51,
   "metadata": {},
   "outputs": [
    {
     "data": {
      "text/plain": [
       "tx_hash             object\n",
       "block_timestamp     object\n",
       "from_address        object\n",
       "to_address          object\n",
       "gas_limit            int64\n",
       "gas_used             int64\n",
       "tx_fee             float64\n",
       "eth_value          float64\n",
       "__row_index          int64\n",
       "dtype: object"
      ]
     },
     "execution_count": 51,
     "metadata": {},
     "output_type": "execute_result"
    }
   ],
   "source": [
    "df_tx.dtypes"
   ]
  },
  {
   "cell_type": "code",
   "execution_count": 52,
   "metadata": {},
   "outputs": [],
   "source": [
    "# Convert block_timestamp to datetime with specific format\n",
    "df_tx[\"block_timestamp\"] = pd.to_datetime(df_tx[\"block_timestamp\"]).astype(\"datetime64[ms, UTC]\")\n",
    "\n",
    "column_types = {\n",
    "    \"from_address\": str,\n",
    "    \"to_address\": str,\n",
    "    \"tx_hash\": str,\n",
    "}\n",
    "\n",
    "df_tx = df_tx.astype(column_types)\n"
   ]
  },
  {
   "cell_type": "code",
   "execution_count": 53,
   "metadata": {},
   "outputs": [
    {
     "data": {
      "text/plain": [
       "tx_hash                         object\n",
       "block_timestamp    datetime64[ms, UTC]\n",
       "from_address                    object\n",
       "to_address                      object\n",
       "gas_limit                        int64\n",
       "gas_used                         int64\n",
       "tx_fee                         float64\n",
       "eth_value                      float64\n",
       "__row_index                      int64\n",
       "dtype: object"
      ]
     },
     "execution_count": 53,
     "metadata": {},
     "output_type": "execute_result"
    }
   ],
   "source": [
    "df_tx.dtypes"
   ]
  },
  {
   "cell_type": "code",
   "execution_count": 54,
   "metadata": {},
   "outputs": [
    {
     "name": "stdout",
     "output_type": "stream",
     "text": [
      "The transaction graph:\n",
      "Graph(number_of_edges=2320668, number_of_vertices=140258, number_of_temporal_edges=6894506, earliest_time=\"1636683861000\", latest_time=\"1693485791000\")\n",
      "Vertex(name=0xf4af0314a06ea7376da5bdecc33f6f9800f1ae28, earliest_time=\"1688677145000\", latest_time=\"1693341547000\", properties={_id: 0xf4af0314a06ea7376da5bdecc33f6f9800f1ae28})\n"
     ]
    }
   ],
   "source": [
    "g_tx = Graph.load_from_pandas(\n",
    "    edges_df=df_tx,\n",
    "    src=\"from_address\",\n",
    "    dst=\"to_address\",\n",
    "    time=\"block_timestamp\",\n",
    "    props=[\"tx_hash\", \"gas_limit\", \"gas_used\", \"tx_fee\", \"eth_value\"],\n",
    "    layer=\"normal_transaction\",\n",
    ")\n",
    "\n",
    "print(\"The transaction graph:\")\n",
    "print(g_tx)\n",
    "print(g_tx.vertex(\"0xf4af0314a06ea7376da5bdecc33f6f9800f1ae28\"))"
   ]
  },
  {
   "cell_type": "code",
   "execution_count": 55,
   "metadata": {},
   "outputs": [],
   "source": [
    "# for index, row in df_tx.iterrows():\n",
    "#     g_token.add_edge(\n",
    "#         src=row[\"from_address\"],\n",
    "#         dst=row[\"to_address\"],\n",
    "#         timestamp=row[\"block_timestamp\"],\n",
    "#         properties={\n",
    "#             \"tx_hash\": row[\"tx_hash\"],\n",
    "#             \"gas_limit\": row[\"gas_limit\"],\n",
    "#             \"gas_used\": row[\"gas_used\"],\n",
    "#             \"tx_fee\": row[\"tx_fee\"],\n",
    "#             \"eth_value\": row[\"eth_value\"]},\n",
    "#         layer=\"token_transfer\"\n",
    "#     )"
   ]
  },
  {
   "cell_type": "code",
   "execution_count": 56,
   "metadata": {},
   "outputs": [
    {
     "name": "stdout",
     "output_type": "stream",
     "text": [
      "Number of vertices: 140258\n",
      "Number of edges: 2320668\n"
     ]
    }
   ],
   "source": [
    "print(f'Number of vertices: {g_tx.num_vertices()}')\n",
    "print(f'Number of edges: {g_tx.num_edges()}')"
   ]
  },
  {
   "cell_type": "code",
   "execution_count": 57,
   "metadata": {},
   "outputs": [
    {
     "data": {
      "text/plain": [
       "Index(['tx_hash', 'block_timestamp', 'contract_address', 'origin_from_address',\n",
       "       'origin_to_address', 'from_address', 'to_address', 'symbol',\n",
       "       'raw_amount', 'amount_usd', '__row_index'],\n",
       "      dtype='object')"
      ]
     },
     "execution_count": 57,
     "metadata": {},
     "output_type": "execute_result"
    }
   ],
   "source": [
    "df_token_transfers_target.columns"
   ]
  },
  {
   "cell_type": "code",
   "execution_count": 58,
   "metadata": {},
   "outputs": [],
   "source": [
    "# g_token = Graph.load_from_pandas(\n",
    "#     edges_df=df_token_transfers_target[['origin_from_address', 'to_address', 'block_timestamp', 'tx_hash', 'contract_address', 'origin_to_address', 'from_address', 'symbol', 'amount_usd']],\n",
    "#     src=\"origin_from_address\",\n",
    "#     dst=\"to_address\",\n",
    "#     time=\"block_timestamp\",\n",
    "#     props=[\"tx_hash\", \"contract_address\", \"origin_to_address\", \"from_address\", \"symbol\", \"amount_usd\"],\n",
    "#     layer_in_df=\"token_transfer\",\n",
    "# )"
   ]
  },
  {
   "cell_type": "code",
   "execution_count": 59,
   "metadata": {},
   "outputs": [],
   "source": [
    "g_tx.load_edges_from_pandas(\n",
    "    edge_df=df_token_transfers_target[['origin_from_address', 'to_address', 'block_timestamp', 'tx_hash', 'contract_address', 'origin_to_address', 'from_address', 'symbol', 'amount_usd']],\n",
    "    src_col=\"origin_from_address\",\n",
    "    dst_col=\"to_address\",\n",
    "    time_col=\"block_timestamp\",\n",
    "    props=[\"tx_hash\", \"contract_address\", \"origin_to_address\", \"from_address\", \"symbol\", \"amount_usd\"],\n",
    "    layer_in_df=\"token_transfer\",\n",
    ")"
   ]
  },
  {
   "cell_type": "code",
   "execution_count": 60,
   "metadata": {},
   "outputs": [
    {
     "name": "stdout",
     "output_type": "stream",
     "text": [
      "Number of vertices: 182517\n",
      "Number of edges: 4198372\n"
     ]
    }
   ],
   "source": [
    "print(f'Number of vertices: {g_tx.num_vertices()}')\n",
    "print(f'Number of edges: {g_tx.num_edges()}')"
   ]
  },
  {
   "cell_type": "code",
   "execution_count": 61,
   "metadata": {},
   "outputs": [],
   "source": [
    "# for index, row in df_token_transfers_target.iterrows():\n",
    "#     g_tx.add_edge(\n",
    "#         src=row[\"origin_from_address\"],\n",
    "#         dst=row[\"to_address\"],\n",
    "#         timestamp=row[\"block_timestamp\"],\n",
    "#         properties={\n",
    "#             \"tx_hash\": row[\"tx_hash\"],\n",
    "#             \"contract_address\": row[\"contract_address\"],\n",
    "#             \"origin_to_address\": row[\"origin_to_address\"],\n",
    "#             \"from_address\": row[\"from_address\"],\n",
    "#             \"symbol\": row[\"symbol\"],\n",
    "#             \"amount_usd\": row[\"amount_usd\"]},\n",
    "#         layer=\"token_transfer\"\n",
    "#     )"
   ]
  },
  {
   "cell_type": "code",
   "execution_count": 62,
   "metadata": {},
   "outputs": [
    {
     "name": "stdout",
     "output_type": "stream",
     "text": [
      "Number of vertices: 182517\n",
      "Number of edges: 4198372\n"
     ]
    }
   ],
   "source": [
    "print(f'Number of vertices: {g_tx.num_vertices()}')\n",
    "print(f'Number of edges: {g_tx.num_edges()}')"
   ]
  },
  {
   "cell_type": "code",
   "execution_count": 63,
   "metadata": {},
   "outputs": [
    {
     "name": "stdout",
     "output_type": "stream",
     "text": [
      "The graph's density is 0.00011796707985922694\n",
      "The graph's clustering coefficient is 0.00014594744104434759\n",
      "The graph's reciprocity is 0.024489408761862057\n"
     ]
    }
   ],
   "source": [
    "from raphtory import algorithms as ralg\n",
    "\n",
    "density = ralg.directed_graph_density(g)\n",
    "clustering_coefficient = ralg.global_clustering_coefficient(g)\n",
    "reciprocity = ralg.global_reciprocity(g)\n",
    "\n",
    "print(f\"The graph's density is {density}\")\n",
    "print(f\"The graph's clustering coefficient is {clustering_coefficient}\")\n",
    "print(f\"The graph's reciprocity is {reciprocity}\")"
   ]
  },
  {
   "cell_type": "code",
   "execution_count": 64,
   "metadata": {},
   "outputs": [
    {
     "name": "stdout",
     "output_type": "stream",
     "text": [
      "Gandalf's ranking is None\n",
      "\n",
      "Rank 1: 0x15fa08599eb017f89c1712d0fe76138899fdb9db with a score of 0.03937\n",
      "Rank 2: 0x7f5c764cbc14f9669b88837ca1490cca17c31607 with a score of 0.00694\n",
      "Rank 3: 0xb49c4e680174e331cb0a7ff3ab58afc9738d5f8b with a score of 0.00564\n",
      "Rank 4: 0xb0d502e938ed5f4df2e681fe6e419ff29631d62b with a score of 0.00451\n",
      "Rank 5: 0x2e42f214467f647fe687fd9a2bf3baddfa737465 with a score of 0.00450\n"
     ]
    }
   ],
   "source": [
    "results = ralg.pagerank(g)\n",
    "\n",
    "# Getting the results for an individual character (Gandalf)\n",
    "gandalf_rank = results.get(\"Gandalf\")\n",
    "print(f\"Gandalf's ranking is {gandalf_rank}\\n\")\n",
    "\n",
    "# Getting the top 5 most important characters and printing out their scores\n",
    "top_5 = results.top_k(5)\n",
    "for rank, (name, score) in enumerate(top_5, 1):\n",
    "    print(f\"Rank {rank}: {name} with a score of {score:.5f}\")"
   ]
  },
  {
   "cell_type": "code",
   "execution_count": null,
   "metadata": {},
   "outputs": [],
   "source": []
  },
  {
   "cell_type": "code",
   "execution_count": null,
   "metadata": {},
   "outputs": [],
   "source": []
  }
 ],
 "metadata": {
  "kernelspec": {
   "display_name": "venvVotesUpdate",
   "language": "python",
   "name": "python3"
  },
  "language_info": {
   "codemirror_mode": {
    "name": "ipython",
    "version": 3
   },
   "file_extension": ".py",
   "mimetype": "text/x-python",
   "name": "python",
   "nbconvert_exporter": "python",
   "pygments_lexer": "ipython3",
   "version": "3.10.9"
  },
  "orig_nbformat": 4
 },
 "nbformat": 4,
 "nbformat_minor": 2
}
