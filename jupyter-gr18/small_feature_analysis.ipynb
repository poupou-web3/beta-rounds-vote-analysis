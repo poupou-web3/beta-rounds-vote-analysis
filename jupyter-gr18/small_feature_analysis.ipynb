{
 "cells": [
  {
   "cell_type": "code",
   "execution_count": 1,
   "metadata": {},
   "outputs": [],
   "source": [
    "import os \n",
    "from pathlib import Path\n",
    "\n",
    "import pandas as pd\n",
    "import numpy as np"
   ]
  },
  {
   "cell_type": "code",
   "execution_count": 2,
   "metadata": {},
   "outputs": [],
   "source": [
    "from sbscorer.sblegos.TransactionAnalyser import TransactionAnalyser as txa"
   ]
  },
  {
   "cell_type": "code",
   "execution_count": 4,
   "metadata": {},
   "outputs": [],
   "source": [
    "FOLDER_NAME = 'gr18'\n",
    "CHAIN = 'optimism'\n",
    "extract_all = True\n",
    "\n",
    "# Set path to data folder\n",
    "current_dir = Path(os.getcwd())\n",
    "src_dir = current_dir.parent.parent\n",
    "PATH_TO_EXPORT = os.path.join(src_dir, 'tx_data', FOLDER_NAME)\n",
    "PATH_TO_GR18 = os.path.join(src_dir, FOLDER_NAME)\n",
    "voter_tx_file_name = 'gg18_votes.csv'\n",
    "passport_file_name = 'gg18_voter_passports.csv'\n",
    "\n",
    "tx_file_name = 'gr_18_optimism_all_tx.csv'"
   ]
  },
  {
   "cell_type": "code",
   "execution_count": 5,
   "metadata": {},
   "outputs": [
    {
     "name": "stderr",
     "output_type": "stream",
     "text": [
      "C:\\Users\\DELL Admin\\AppData\\Local\\Temp\\ipykernel_12452\\1560736169.py:1: DtypeWarning: Columns (9) have mixed types. Specify dtype option on import or set low_memory=False.\n",
      "  votes = pd.read_csv(os.path.join(PATH_TO_GR18, voter_tx_file_name))\n"
     ]
    }
   ],
   "source": [
    "votes = pd.read_csv(os.path.join(PATH_TO_GR18, voter_tx_file_name))\n",
    "passports = pd.read_csv(os.path.join(PATH_TO_GR18, passport_file_name))"
   ]
  },
  {
   "cell_type": "code",
   "execution_count": 6,
   "metadata": {},
   "outputs": [
    {
     "data": {
      "text/plain": [
       "array(['Climate Round', 'Web3 Open Source Software',\n",
       "       'Web3 Community and Education ',\n",
       "       'Global Chinese Community for Public Goods - GR18', 'Web3 Social',\n",
       "       'Zuzalu Continuous Innovation', 'Meta Pool LatAm GG18',\n",
       "       'ReFi DAO Local Node ', 'Token Engineering',\n",
       "       'Ethereum Infrastructure', 'Arbitrum Domain Round'], dtype=object)"
      ]
     },
     "execution_count": 6,
     "metadata": {},
     "output_type": "execute_result"
    }
   ],
   "source": [
    "round_names = votes['round_name'].unique()\n",
    "round_names"
   ]
  },
  {
   "cell_type": "code",
   "execution_count": 7,
   "metadata": {},
   "outputs": [],
   "source": [
    "round_names =['Climate Round',\n",
    "       'Web3 Community and Education ',\n",
    "       'Global Chinese Community for Public Goods - GR18',\n",
    "        'Web3 Social',\n",
    "       'Zuzalu Continuous Innovation',\n",
    "        'Meta Pool LatAm GG18',\n",
    "       'ReFi DAO Local Node ',\n",
    "        'Token Engineering']\n",
    "# round_names =['Web3 Open Source Software']"
   ]
  },
  {
   "cell_type": "code",
   "execution_count": 19,
   "metadata": {},
   "outputs": [
    {
     "data": {
      "text/plain": [
       "Index(['EOA', 'count_tx', 'less_10_tx', 'count_same_seed',\n",
       "       'count_same_seed_naive', 'same_seed', 'same_seed_naive',\n",
       "       'seed_suspicious', 'count_interact_other_ctbt', 'first_in_tx_from',\n",
       "       'first_in_tx_gas_limit', 'first_in_tx_gas_used',\n",
       "       'first_in_tx_eth_value', 'first_in_tx_timestamp', 'to_address',\n",
       "       'first_out_tx_gas_limit', 'first_out_tx_gas_used',\n",
       "       'first_out_tx_eth_value', 'first_out_tx_timestamp', 'lcs',\n",
       "       'cluster_size_lcs', 'mean_score_lcs', 'max_score_lcs', 'has_lcs'],\n",
       "      dtype='object')"
      ]
     },
     "execution_count": 19,
     "metadata": {},
     "output_type": "execute_result"
    }
   ],
   "source": [
    "df_feature.columns"
   ]
  },
  {
   "cell_type": "code",
   "execution_count": 24,
   "metadata": {},
   "outputs": [
    {
     "name": "stdout",
     "output_type": "stream",
     "text": [
      "Round name: Climate Round, unique_voters: 5610\n",
      "Less than 10 tx:  1690\n",
      "has_lcs:  414\n",
      "\n",
      "\n",
      "Round name: Web3 Community and Education , unique_voters: 12413\n",
      "Less than 10 tx:  2629\n",
      "has_lcs:  727\n",
      "\n",
      "\n",
      "Round name: Global Chinese Community for Public Goods - GR18, unique_voters: 545\n",
      "Less than 10 tx:  143\n",
      "has_lcs:  34\n",
      "\n",
      "\n",
      "Round name: Web3 Social, unique_voters: 3828\n",
      "Less than 10 tx:  639\n",
      "has_lcs:  114\n",
      "\n",
      "\n",
      "Round name: Zuzalu Continuous Innovation, unique_voters: 695\n",
      "Less than 10 tx:  281\n",
      "has_lcs:  40\n",
      "\n",
      "\n",
      "Round name: Meta Pool LatAm GG18, unique_voters: 610\n",
      "Less than 10 tx:  264\n",
      "has_lcs:  50\n",
      "\n",
      "\n",
      "Round name: ReFi DAO Local Node , unique_voters: 752\n",
      "Less than 10 tx:  397\n",
      "has_lcs:  56\n",
      "\n",
      "\n",
      "Round name: Token Engineering, unique_voters: 1830\n",
      "Less than 10 tx:  830\n",
      "has_lcs:  193\n",
      "\n",
      "\n"
     ]
    }
   ],
   "source": [
    "# create a dict with name of round as key and df_feature as value\n",
    "\n",
    "dict_round_df = {}\n",
    "for round_name in round_names:\n",
    "    path_feature_file_new = os.path.join(PATH_TO_EXPORT, f'features_{round_name}_new.csv')\n",
    "    df_feature = pd.read_csv(path_feature_file_new)\n",
    "    dict_round_df[round_name] = df_feature\n",
    "    print(f'Round name: {round_name}, unique_voters: {df_feature.shape[0]}')\n",
    "    print('Less than 10 tx: ', df_feature['less_10_tx'].sum())\n",
    "    print(\"has_lcs: \", df_feature['has_lcs'].sum())\n",
    "    print(\"\\n\")"
   ]
  },
  {
   "cell_type": "code",
   "execution_count": 9,
   "metadata": {},
   "outputs": [],
   "source": [
    "df_climate = dict_round_df['Climate Round']"
   ]
  },
  {
   "cell_type": "code",
   "execution_count": 15,
   "metadata": {},
   "outputs": [
    {
     "data": {
      "text/plain": [
       "414"
      ]
     },
     "execution_count": 15,
     "metadata": {},
     "output_type": "execute_result"
    }
   ],
   "source": [
    "df_climate['has_lcs'].sum()"
   ]
  }
 ],
 "metadata": {
  "kernelspec": {
   "display_name": "venslastSB",
   "language": "python",
   "name": "python3"
  },
  "language_info": {
   "codemirror_mode": {
    "name": "ipython",
    "version": 3
   },
   "file_extension": ".py",
   "mimetype": "text/x-python",
   "name": "python",
   "nbconvert_exporter": "python",
   "pygments_lexer": "ipython3",
   "version": "3.10.9"
  },
  "orig_nbformat": 4
 },
 "nbformat": 4,
 "nbformat_minor": 2
}
