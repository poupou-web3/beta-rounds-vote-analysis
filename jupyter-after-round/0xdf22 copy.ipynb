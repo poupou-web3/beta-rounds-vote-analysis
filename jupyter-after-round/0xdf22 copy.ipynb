{
 "cells": [
  {
   "attachments": {},
   "cell_type": "markdown",
   "metadata": {},
   "source": [
    "# vote_coefficients_0xAA40E2E5c8df03d792A52B5458959C320F86ca18_1\n"
   ]
  },
  {
   "cell_type": "code",
   "execution_count": 1,
   "metadata": {},
   "outputs": [],
   "source": [
    "import os\n",
    "from pathlib import Path\n",
    "import numpy as np\n",
    "\n",
    "import pandas as pd\n",
    "\n",
    "from sbdata.FlipsideApi import FlipsideApi\n",
    "\n",
    "# Set path to data folder\n",
    "current_dir = Path(os.getcwd())\n",
    "PATH_TO_EXPORT = os.path.join(current_dir.parent.parent, 'tx_data', 'all_beta_rounds')\n",
    "DATA_DIR = os.path.join(current_dir.parent.parent, 'data-regen-rangers')\n",
    "DATA_DIR_GITCOIN = os.path.join(current_dir.parent.parent, 'data-gitcoin')\n",
    "CSV_GITCOIN_GRANTS = 'vote_coefficients-0xdf22a2C8F6BA9376fF17EE13E6154B784ee92094.csv'\n",
    "\n",
    "# read the address from oss grant\n",
    "\n",
    "api_key = os.environ['FLIPSIDE_API_KEY']\n",
    "flipside_api = FlipsideApi(api_key, max_address=400)\n",
    "PATH_TO_VOTES = os.path.join(DATA_DIR, \"votes_baoki.csv\")\n",
    "PATH_TO_GRANTS = os.path.join(DATA_DIR, \"all-allo-rounds.csv\")\n",
    "PATH_TO_PROJECTS = os.path.join(DATA_DIR, \"projects_QmQurt.csv\")\n",
    "PATH_TO_VOTES_GITCOIN = os.path.join(DATA_DIR_GITCOIN, CSV_GITCOIN_GRANTS)\n",
    "\n",
    "# load data\n",
    "df_votes = pd.read_csv(PATH_TO_VOTES_GITCOIN)\n",
    "df_grants = pd.read_csv(PATH_TO_GRANTS)\n",
    "df_application = pd.read_csv(PATH_TO_PROJECTS)\n",
    "# Lowercase all addresses because flipside api return lowercase address\n",
    "#id,projectId,applicationId,roundId,token,voter,grantAddress,amount,amountUSD,coefficient,status,last_score_timestamp,type,success,rawScore,threshold\n",
    "df_grants['Round ID'] = df_grants['Round ID'].str.lower()\n",
    "str_columns_votes = ['id', 'projectId', 'roundId', 'voter', 'grantAddress']\n",
    "df_votes[str_columns_votes] = df_votes[str_columns_votes].applymap(lambda x: x.lower())\n",
    "\n",
    "str_columns_application = ['id', 'roundId', 'metadata.application.round', 'metadata.application.recipient']\n",
    "df_application[str_columns_application] = df_application[str_columns_application].applymap(lambda x: str(x).lower())\n",
    "\n",
    "# round_id = df_grants[df_grants['Round name'] == 'Web3 Community and Education']['Round ID'].values[0]\n",
    "array_unique_address = df_votes['voter'].unique()\n",
    "\n",
    "array_unique_address = np.char.lower(array_unique_address.astype(str))\n"
   ]
  },
  {
   "cell_type": "code",
   "execution_count": 2,
   "metadata": {},
   "outputs": [],
   "source": [
    "from sbutils import LoadData\n",
    "\n",
    "# Load data\n",
    "data_loader = LoadData.LoadData(PATH_TO_EXPORT)\n",
    "df_tx = data_loader.create_df_tx('ethereum', array_unique_address)"
   ]
  },
  {
   "cell_type": "code",
   "execution_count": 3,
   "metadata": {},
   "outputs": [
    {
     "data": {
      "text/plain": [
       "1062"
      ]
     },
     "execution_count": 3,
     "metadata": {},
     "output_type": "execute_result"
    }
   ],
   "source": [
    "len(array_unique_address)"
   ]
  },
  {
   "cell_type": "code",
   "execution_count": 4,
   "metadata": {},
   "outputs": [
    {
     "data": {
      "text/plain": [
       "1062"
      ]
     },
     "execution_count": 4,
     "metadata": {},
     "output_type": "execute_result"
    }
   ],
   "source": [
    "df_tx.EOA.nunique()"
   ]
  },
  {
   "cell_type": "code",
   "execution_count": 5,
   "metadata": {},
   "outputs": [
    {
     "data": {
      "text/plain": [
       "array([], dtype=object)"
      ]
     },
     "execution_count": 5,
     "metadata": {},
     "output_type": "execute_result"
    }
   ],
   "source": [
    "c = np.setxor1d(array_unique_address, df_tx.EOA.values)\n",
    "c"
   ]
  },
  {
   "attachments": {},
   "cell_type": "markdown",
   "metadata": {},
   "source": [
    "## Computing legos booleans"
   ]
  },
  {
   "cell_type": "code",
   "execution_count": 6,
   "metadata": {},
   "outputs": [],
   "source": [
    "from sblegos.TransactionAnalyser import TransactionAnalyser as txa\n",
    "tx_analyser = txa(df_tx, df_address=pd.DataFrame(np.intersect1d(df_tx.EOA.unique(), array_unique_address), columns=['address']))"
   ]
  },
  {
   "attachments": {},
   "cell_type": "markdown",
   "metadata": {},
   "source": [
    "use matching address because some addresses are not in the extracted data set"
   ]
  },
  {
   "cell_type": "code",
   "execution_count": 7,
   "metadata": {},
   "outputs": [
    {
     "data": {
      "text/html": [
       "<div>\n",
       "<style scoped>\n",
       "    .dataframe tbody tr th:only-of-type {\n",
       "        vertical-align: middle;\n",
       "    }\n",
       "\n",
       "    .dataframe tbody tr th {\n",
       "        vertical-align: top;\n",
       "    }\n",
       "\n",
       "    .dataframe thead th {\n",
       "        text-align: right;\n",
       "    }\n",
       "</style>\n",
       "<table border=\"1\" class=\"dataframe\">\n",
       "  <thead>\n",
       "    <tr style=\"text-align: right;\">\n",
       "      <th></th>\n",
       "      <th>address</th>\n",
       "    </tr>\n",
       "  </thead>\n",
       "  <tbody>\n",
       "    <tr>\n",
       "      <th>0</th>\n",
       "      <td>0x0000005178d55139ba21423218ea7290a7ccdc81</td>\n",
       "    </tr>\n",
       "    <tr>\n",
       "      <th>1</th>\n",
       "      <td>0x0029ab135b5be72168bf80f140d60a9264dbd0c5</td>\n",
       "    </tr>\n",
       "  </tbody>\n",
       "</table>\n",
       "</div>"
      ],
      "text/plain": [
       "                                      address\n",
       "0  0x0000005178d55139ba21423218ea7290a7ccdc81\n",
       "1  0x0029ab135b5be72168bf80f140d60a9264dbd0c5"
      ]
     },
     "execution_count": 7,
     "metadata": {},
     "output_type": "execute_result"
    }
   ],
   "source": [
    "df_matching_address = pd.DataFrame(df_tx.EOA.unique(), columns=[\"address\"])\n",
    "df_matching_address.head(2)"
   ]
  },
  {
   "attachments": {},
   "cell_type": "markdown",
   "metadata": {},
   "source": [
    "Compute the boolean "
   ]
  },
  {
   "attachments": {},
   "cell_type": "markdown",
   "metadata": {},
   "source": [
    "less than 10 x transaction are not performant legos so we don't use it, has same seed is computed as an intermediarry to get the seed_suspicious flag"
   ]
  },
  {
   "cell_type": "code",
   "execution_count": 8,
   "metadata": {},
   "outputs": [],
   "source": [
    "df_matching_address['seed_same_naive'] = df_matching_address.loc[:, 'address'].apply(lambda x : tx_analyser.has_same_seed_naive(x))\n",
    "df_matching_address['seed_same'] = df_matching_address.loc[:, 'address'].apply(lambda x : tx_analyser.has_same_seed(x))\n",
    "df_matching_address['seed_suspicious'] = df_matching_address.loc[:, 'seed_same_naive'].ne(df_matching_address.loc[:, 'seed_same'])\n",
    "df_matching_address['less_5_tx'] = df_matching_address.loc[:, 'address'].apply(lambda x : tx_analyser.has_less_than_n_transactions(x, 5))\n",
    "df_matching_address['less_10_tx'] = df_matching_address.loc[:, 'address'].apply(lambda x : tx_analyser.has_less_than_n_transactions(x, 10))\n",
    "df_matching_address['interacted_other_ctbt'] = df_matching_address.loc[:, 'address'].apply(lambda x : tx_analyser.has_interacted_with_other_contributor(x))"
   ]
  },
  {
   "cell_type": "code",
   "execution_count": 9,
   "metadata": {},
   "outputs": [],
   "source": [
    "df_matching_address['lcs'] = 0\n",
    "df_matching_address[df_matching_address['less_10_tx'] == True].shape\n",
    "r = df_matching_address.loc[df_matching_address['less_10_tx'] == True, 'address'].apply(lambda x: tx_analyser.transaction_similitude_pylcs(x, minimum_sim_tx=3))"
   ]
  },
  {
   "cell_type": "code",
   "execution_count": 10,
   "metadata": {},
   "outputs": [
    {
     "name": "stdout",
     "output_type": "stream",
     "text": [
      "3\n"
     ]
    }
   ],
   "source": [
    "def lcs_to_array(lcs):\n",
    "    if lcs.shape[0] == 0:\n",
    "        return []\n",
    "    else:\n",
    "        return np.asarray(lcs.reset_index())\n",
    "\n",
    "def get_mean_score_lcs(lcs):\n",
    "    if lcs.shape[0] == 0:\n",
    "        return 0\n",
    "    else:\n",
    "        return lcs.reset_index()['score'].mean()\n",
    "    \n",
    "def get_max_score_lcs(lcs):\n",
    "    if lcs.shape[0] == 0:\n",
    "        return 0\n",
    "    else:\n",
    "        return lcs.reset_index()['score'].max()\n",
    "    \n",
    "df_matching_address['cluster_size_lcs'] = 0\n",
    "df_matching_address['mean_score_lcs'] = 0\n",
    "df_matching_address['max_score_lcs'] = 0\n",
    "\n",
    "df_matching_address.loc[df_matching_address['less_10_tx'] == True, 'cluster_size_lcs'] = r.apply(lambda x: len(x))\n",
    "df_matching_address.loc[df_matching_address['less_10_tx'] == True, 'mean_score_lcs'] = r.apply(lambda x: get_mean_score_lcs(x))\n",
    "df_matching_address.loc[df_matching_address['less_10_tx'] == True, 'max_score_lcs'] = r.apply(lambda x: get_max_score_lcs(x))\n",
    "\n",
    "df_matching_address['has_lcs'] = df_matching_address['cluster_size_lcs'] > 0\n",
    "\n",
    "print((df_matching_address[df_matching_address['less_10_tx'] == True]['cluster_size_lcs'] > 0).sum())"
   ]
  },
  {
   "cell_type": "code",
   "execution_count": 11,
   "metadata": {},
   "outputs": [
    {
     "name": "stdout",
     "output_type": "stream",
     "text": [
      "Number of voters: 1062\n"
     ]
    }
   ],
   "source": [
    "print(f'Number of voters: {len(df_matching_address)}')"
   ]
  },
  {
   "cell_type": "code",
   "execution_count": 12,
   "metadata": {},
   "outputs": [
    {
     "data": {
      "text/plain": [
       "address                  0x0000005178d55139ba21423218ea7290a7ccdc810x00...\n",
       "seed_same_naive                                                        604\n",
       "seed_same                                                              630\n",
       "seed_suspicious                                                         26\n",
       "less_5_tx                                                                4\n",
       "less_10_tx                                                              23\n",
       "interacted_other_ctbt                                                  165\n",
       "lcs                                                                      0\n",
       "cluster_size_lcs                                                        14\n",
       "mean_score_lcs                                                    0.496296\n",
       "max_score_lcs                                                     0.577778\n",
       "has_lcs                                                                  3\n",
       "dtype: object"
      ]
     },
     "execution_count": 12,
     "metadata": {},
     "output_type": "execute_result"
    }
   ],
   "source": [
    "df_matching_address.sum()"
   ]
  },
  {
   "attachments": {},
   "cell_type": "markdown",
   "metadata": {},
   "source": [
    "### Investigating the boolean seed suspicious"
   ]
  },
  {
   "cell_type": "code",
   "execution_count": 13,
   "metadata": {},
   "outputs": [
    {
     "data": {
      "text/html": [
       "<div>\n",
       "<style scoped>\n",
       "    .dataframe tbody tr th:only-of-type {\n",
       "        vertical-align: middle;\n",
       "    }\n",
       "\n",
       "    .dataframe tbody tr th {\n",
       "        vertical-align: top;\n",
       "    }\n",
       "\n",
       "    .dataframe thead th {\n",
       "        text-align: right;\n",
       "    }\n",
       "</style>\n",
       "<table border=\"1\" class=\"dataframe\">\n",
       "  <thead>\n",
       "    <tr style=\"text-align: right;\">\n",
       "      <th></th>\n",
       "      <th>address</th>\n",
       "      <th>seed_same_naive</th>\n",
       "      <th>seed_same</th>\n",
       "      <th>seed_suspicious</th>\n",
       "      <th>less_5_tx</th>\n",
       "      <th>less_10_tx</th>\n",
       "      <th>interacted_other_ctbt</th>\n",
       "      <th>lcs</th>\n",
       "      <th>cluster_size_lcs</th>\n",
       "      <th>mean_score_lcs</th>\n",
       "      <th>max_score_lcs</th>\n",
       "      <th>has_lcs</th>\n",
       "    </tr>\n",
       "  </thead>\n",
       "  <tbody>\n",
       "    <tr>\n",
       "      <th>18</th>\n",
       "      <td>0x059fde12f424fa2aa9c3d9fd128cbe47b9bc2a85</td>\n",
       "      <td>False</td>\n",
       "      <td>True</td>\n",
       "      <td>True</td>\n",
       "      <td>False</td>\n",
       "      <td>False</td>\n",
       "      <td>False</td>\n",
       "      <td>0</td>\n",
       "      <td>0</td>\n",
       "      <td>0.0</td>\n",
       "      <td>0.0</td>\n",
       "      <td>False</td>\n",
       "    </tr>\n",
       "    <tr>\n",
       "      <th>47</th>\n",
       "      <td>0x0b02898ad0b7e19e3ebea23c74eafafe6a867dda</td>\n",
       "      <td>False</td>\n",
       "      <td>True</td>\n",
       "      <td>True</td>\n",
       "      <td>False</td>\n",
       "      <td>False</td>\n",
       "      <td>False</td>\n",
       "      <td>0</td>\n",
       "      <td>0</td>\n",
       "      <td>0.0</td>\n",
       "      <td>0.0</td>\n",
       "      <td>False</td>\n",
       "    </tr>\n",
       "    <tr>\n",
       "      <th>59</th>\n",
       "      <td>0x0e75eabd04986a8fb0b8cb30d6dd069c86e5e142</td>\n",
       "      <td>False</td>\n",
       "      <td>True</td>\n",
       "      <td>True</td>\n",
       "      <td>False</td>\n",
       "      <td>False</td>\n",
       "      <td>False</td>\n",
       "      <td>0</td>\n",
       "      <td>0</td>\n",
       "      <td>0.0</td>\n",
       "      <td>0.0</td>\n",
       "      <td>False</td>\n",
       "    </tr>\n",
       "    <tr>\n",
       "      <th>157</th>\n",
       "      <td>0x274b15188071778ee870c6b9462f07d7456a81de</td>\n",
       "      <td>False</td>\n",
       "      <td>True</td>\n",
       "      <td>True</td>\n",
       "      <td>False</td>\n",
       "      <td>False</td>\n",
       "      <td>False</td>\n",
       "      <td>0</td>\n",
       "      <td>0</td>\n",
       "      <td>0.0</td>\n",
       "      <td>0.0</td>\n",
       "      <td>False</td>\n",
       "    </tr>\n",
       "    <tr>\n",
       "      <th>202</th>\n",
       "      <td>0x31fe409c0d66af66a40b21a1c963168f4e1323b3</td>\n",
       "      <td>False</td>\n",
       "      <td>True</td>\n",
       "      <td>True</td>\n",
       "      <td>False</td>\n",
       "      <td>False</td>\n",
       "      <td>False</td>\n",
       "      <td>0</td>\n",
       "      <td>0</td>\n",
       "      <td>0.0</td>\n",
       "      <td>0.0</td>\n",
       "      <td>False</td>\n",
       "    </tr>\n",
       "    <tr>\n",
       "      <th>270</th>\n",
       "      <td>0x4189ab08f226612a0181642b63f55fc2e6fa0537</td>\n",
       "      <td>False</td>\n",
       "      <td>True</td>\n",
       "      <td>True</td>\n",
       "      <td>False</td>\n",
       "      <td>False</td>\n",
       "      <td>False</td>\n",
       "      <td>0</td>\n",
       "      <td>0</td>\n",
       "      <td>0.0</td>\n",
       "      <td>0.0</td>\n",
       "      <td>False</td>\n",
       "    </tr>\n",
       "    <tr>\n",
       "      <th>278</th>\n",
       "      <td>0x4360187ba1204bf91e9f697f67283b38f962da3e</td>\n",
       "      <td>False</td>\n",
       "      <td>True</td>\n",
       "      <td>True</td>\n",
       "      <td>False</td>\n",
       "      <td>False</td>\n",
       "      <td>False</td>\n",
       "      <td>0</td>\n",
       "      <td>0</td>\n",
       "      <td>0.0</td>\n",
       "      <td>0.0</td>\n",
       "      <td>False</td>\n",
       "    </tr>\n",
       "    <tr>\n",
       "      <th>293</th>\n",
       "      <td>0x47a39544dc1af6ab7060babde4a336a795e652d3</td>\n",
       "      <td>False</td>\n",
       "      <td>True</td>\n",
       "      <td>True</td>\n",
       "      <td>False</td>\n",
       "      <td>False</td>\n",
       "      <td>False</td>\n",
       "      <td>0</td>\n",
       "      <td>0</td>\n",
       "      <td>0.0</td>\n",
       "      <td>0.0</td>\n",
       "      <td>False</td>\n",
       "    </tr>\n",
       "    <tr>\n",
       "      <th>316</th>\n",
       "      <td>0x4e441d3a31c8b2672a7685482bd288938e5b7833</td>\n",
       "      <td>False</td>\n",
       "      <td>True</td>\n",
       "      <td>True</td>\n",
       "      <td>False</td>\n",
       "      <td>False</td>\n",
       "      <td>False</td>\n",
       "      <td>0</td>\n",
       "      <td>0</td>\n",
       "      <td>0.0</td>\n",
       "      <td>0.0</td>\n",
       "      <td>False</td>\n",
       "    </tr>\n",
       "    <tr>\n",
       "      <th>367</th>\n",
       "      <td>0x5aeedbc6b655c13950f32e5e8a0760d15bbe0afb</td>\n",
       "      <td>False</td>\n",
       "      <td>True</td>\n",
       "      <td>True</td>\n",
       "      <td>False</td>\n",
       "      <td>False</td>\n",
       "      <td>False</td>\n",
       "      <td>0</td>\n",
       "      <td>0</td>\n",
       "      <td>0.0</td>\n",
       "      <td>0.0</td>\n",
       "      <td>False</td>\n",
       "    </tr>\n",
       "    <tr>\n",
       "      <th>389</th>\n",
       "      <td>0x5e6f984b5de41efa109287d5022b9ba865a2924c</td>\n",
       "      <td>False</td>\n",
       "      <td>True</td>\n",
       "      <td>True</td>\n",
       "      <td>False</td>\n",
       "      <td>False</td>\n",
       "      <td>False</td>\n",
       "      <td>0</td>\n",
       "      <td>0</td>\n",
       "      <td>0.0</td>\n",
       "      <td>0.0</td>\n",
       "      <td>False</td>\n",
       "    </tr>\n",
       "    <tr>\n",
       "      <th>464</th>\n",
       "      <td>0x6e0ba269d7858a2db0ace0f435a4299d6c5bd529</td>\n",
       "      <td>False</td>\n",
       "      <td>True</td>\n",
       "      <td>True</td>\n",
       "      <td>False</td>\n",
       "      <td>False</td>\n",
       "      <td>False</td>\n",
       "      <td>0</td>\n",
       "      <td>0</td>\n",
       "      <td>0.0</td>\n",
       "      <td>0.0</td>\n",
       "      <td>False</td>\n",
       "    </tr>\n",
       "    <tr>\n",
       "      <th>537</th>\n",
       "      <td>0x7f62ee76cbe653a9dac1442cb96ff063d20b62e5</td>\n",
       "      <td>False</td>\n",
       "      <td>True</td>\n",
       "      <td>True</td>\n",
       "      <td>False</td>\n",
       "      <td>False</td>\n",
       "      <td>False</td>\n",
       "      <td>0</td>\n",
       "      <td>0</td>\n",
       "      <td>0.0</td>\n",
       "      <td>0.0</td>\n",
       "      <td>False</td>\n",
       "    </tr>\n",
       "    <tr>\n",
       "      <th>594</th>\n",
       "      <td>0x8e7d20638947132b0e6e1afde2da1b103aff9280</td>\n",
       "      <td>False</td>\n",
       "      <td>True</td>\n",
       "      <td>True</td>\n",
       "      <td>False</td>\n",
       "      <td>False</td>\n",
       "      <td>False</td>\n",
       "      <td>0</td>\n",
       "      <td>0</td>\n",
       "      <td>0.0</td>\n",
       "      <td>0.0</td>\n",
       "      <td>False</td>\n",
       "    </tr>\n",
       "    <tr>\n",
       "      <th>604</th>\n",
       "      <td>0x904cbe32d0880c0f94025c0b118f1d6729c5d2bb</td>\n",
       "      <td>False</td>\n",
       "      <td>True</td>\n",
       "      <td>True</td>\n",
       "      <td>False</td>\n",
       "      <td>False</td>\n",
       "      <td>False</td>\n",
       "      <td>0</td>\n",
       "      <td>0</td>\n",
       "      <td>0.0</td>\n",
       "      <td>0.0</td>\n",
       "      <td>False</td>\n",
       "    </tr>\n",
       "    <tr>\n",
       "      <th>735</th>\n",
       "      <td>0xb01768ca836f2aa4a5c240a8d3782a61c081bb84</td>\n",
       "      <td>False</td>\n",
       "      <td>True</td>\n",
       "      <td>True</td>\n",
       "      <td>False</td>\n",
       "      <td>False</td>\n",
       "      <td>False</td>\n",
       "      <td>0</td>\n",
       "      <td>0</td>\n",
       "      <td>0.0</td>\n",
       "      <td>0.0</td>\n",
       "      <td>False</td>\n",
       "    </tr>\n",
       "    <tr>\n",
       "      <th>793</th>\n",
       "      <td>0xbe0a0846bf2057b901bb1e3e577147a2be8663d8</td>\n",
       "      <td>False</td>\n",
       "      <td>True</td>\n",
       "      <td>True</td>\n",
       "      <td>False</td>\n",
       "      <td>False</td>\n",
       "      <td>False</td>\n",
       "      <td>0</td>\n",
       "      <td>0</td>\n",
       "      <td>0.0</td>\n",
       "      <td>0.0</td>\n",
       "      <td>False</td>\n",
       "    </tr>\n",
       "    <tr>\n",
       "      <th>811</th>\n",
       "      <td>0xc28064b875ae25f9a2ca28c08f116a5c26229f69</td>\n",
       "      <td>False</td>\n",
       "      <td>True</td>\n",
       "      <td>True</td>\n",
       "      <td>False</td>\n",
       "      <td>False</td>\n",
       "      <td>False</td>\n",
       "      <td>0</td>\n",
       "      <td>0</td>\n",
       "      <td>0.0</td>\n",
       "      <td>0.0</td>\n",
       "      <td>False</td>\n",
       "    </tr>\n",
       "    <tr>\n",
       "      <th>814</th>\n",
       "      <td>0xc2e2b715d9e302947ec7e312fd2384b5a1296099</td>\n",
       "      <td>False</td>\n",
       "      <td>True</td>\n",
       "      <td>True</td>\n",
       "      <td>False</td>\n",
       "      <td>False</td>\n",
       "      <td>True</td>\n",
       "      <td>0</td>\n",
       "      <td>0</td>\n",
       "      <td>0.0</td>\n",
       "      <td>0.0</td>\n",
       "      <td>False</td>\n",
       "    </tr>\n",
       "    <tr>\n",
       "      <th>847</th>\n",
       "      <td>0xca7b0ce9f73164c2fa1ec90826c94df00796e994</td>\n",
       "      <td>False</td>\n",
       "      <td>True</td>\n",
       "      <td>True</td>\n",
       "      <td>False</td>\n",
       "      <td>False</td>\n",
       "      <td>False</td>\n",
       "      <td>0</td>\n",
       "      <td>0</td>\n",
       "      <td>0.0</td>\n",
       "      <td>0.0</td>\n",
       "      <td>False</td>\n",
       "    </tr>\n",
       "    <tr>\n",
       "      <th>875</th>\n",
       "      <td>0xd1d44bed62a27ca6a1514480e985699f3a470cd7</td>\n",
       "      <td>False</td>\n",
       "      <td>True</td>\n",
       "      <td>True</td>\n",
       "      <td>False</td>\n",
       "      <td>False</td>\n",
       "      <td>False</td>\n",
       "      <td>0</td>\n",
       "      <td>0</td>\n",
       "      <td>0.0</td>\n",
       "      <td>0.0</td>\n",
       "      <td>False</td>\n",
       "    </tr>\n",
       "    <tr>\n",
       "      <th>901</th>\n",
       "      <td>0xd743c426849d2fddf4621db167c6627b47c19d47</td>\n",
       "      <td>False</td>\n",
       "      <td>True</td>\n",
       "      <td>True</td>\n",
       "      <td>False</td>\n",
       "      <td>False</td>\n",
       "      <td>False</td>\n",
       "      <td>0</td>\n",
       "      <td>0</td>\n",
       "      <td>0.0</td>\n",
       "      <td>0.0</td>\n",
       "      <td>False</td>\n",
       "    </tr>\n",
       "    <tr>\n",
       "      <th>933</th>\n",
       "      <td>0xdfef68b86eff06691e3edfaebf620c84eb86f0e3</td>\n",
       "      <td>False</td>\n",
       "      <td>True</td>\n",
       "      <td>True</td>\n",
       "      <td>False</td>\n",
       "      <td>False</td>\n",
       "      <td>False</td>\n",
       "      <td>0</td>\n",
       "      <td>0</td>\n",
       "      <td>0.0</td>\n",
       "      <td>0.0</td>\n",
       "      <td>False</td>\n",
       "    </tr>\n",
       "    <tr>\n",
       "      <th>948</th>\n",
       "      <td>0xe454d47f89e1e5434779bca6ef7190a7e9dfd9d0</td>\n",
       "      <td>False</td>\n",
       "      <td>True</td>\n",
       "      <td>True</td>\n",
       "      <td>False</td>\n",
       "      <td>False</td>\n",
       "      <td>False</td>\n",
       "      <td>0</td>\n",
       "      <td>0</td>\n",
       "      <td>0.0</td>\n",
       "      <td>0.0</td>\n",
       "      <td>False</td>\n",
       "    </tr>\n",
       "    <tr>\n",
       "      <th>989</th>\n",
       "      <td>0xefa80a25527fcdde37058aad50983f5c5f72039c</td>\n",
       "      <td>False</td>\n",
       "      <td>True</td>\n",
       "      <td>True</td>\n",
       "      <td>False</td>\n",
       "      <td>False</td>\n",
       "      <td>False</td>\n",
       "      <td>0</td>\n",
       "      <td>0</td>\n",
       "      <td>0.0</td>\n",
       "      <td>0.0</td>\n",
       "      <td>False</td>\n",
       "    </tr>\n",
       "    <tr>\n",
       "      <th>1029</th>\n",
       "      <td>0xf97f261e2fd4cb035412abcde731d29c52dce136</td>\n",
       "      <td>False</td>\n",
       "      <td>True</td>\n",
       "      <td>True</td>\n",
       "      <td>False</td>\n",
       "      <td>False</td>\n",
       "      <td>False</td>\n",
       "      <td>0</td>\n",
       "      <td>0</td>\n",
       "      <td>0.0</td>\n",
       "      <td>0.0</td>\n",
       "      <td>False</td>\n",
       "    </tr>\n",
       "  </tbody>\n",
       "</table>\n",
       "</div>"
      ],
      "text/plain": [
       "                                         address  seed_same_naive  seed_same   \n",
       "18    0x059fde12f424fa2aa9c3d9fd128cbe47b9bc2a85            False       True  \\\n",
       "47    0x0b02898ad0b7e19e3ebea23c74eafafe6a867dda            False       True   \n",
       "59    0x0e75eabd04986a8fb0b8cb30d6dd069c86e5e142            False       True   \n",
       "157   0x274b15188071778ee870c6b9462f07d7456a81de            False       True   \n",
       "202   0x31fe409c0d66af66a40b21a1c963168f4e1323b3            False       True   \n",
       "270   0x4189ab08f226612a0181642b63f55fc2e6fa0537            False       True   \n",
       "278   0x4360187ba1204bf91e9f697f67283b38f962da3e            False       True   \n",
       "293   0x47a39544dc1af6ab7060babde4a336a795e652d3            False       True   \n",
       "316   0x4e441d3a31c8b2672a7685482bd288938e5b7833            False       True   \n",
       "367   0x5aeedbc6b655c13950f32e5e8a0760d15bbe0afb            False       True   \n",
       "389   0x5e6f984b5de41efa109287d5022b9ba865a2924c            False       True   \n",
       "464   0x6e0ba269d7858a2db0ace0f435a4299d6c5bd529            False       True   \n",
       "537   0x7f62ee76cbe653a9dac1442cb96ff063d20b62e5            False       True   \n",
       "594   0x8e7d20638947132b0e6e1afde2da1b103aff9280            False       True   \n",
       "604   0x904cbe32d0880c0f94025c0b118f1d6729c5d2bb            False       True   \n",
       "735   0xb01768ca836f2aa4a5c240a8d3782a61c081bb84            False       True   \n",
       "793   0xbe0a0846bf2057b901bb1e3e577147a2be8663d8            False       True   \n",
       "811   0xc28064b875ae25f9a2ca28c08f116a5c26229f69            False       True   \n",
       "814   0xc2e2b715d9e302947ec7e312fd2384b5a1296099            False       True   \n",
       "847   0xca7b0ce9f73164c2fa1ec90826c94df00796e994            False       True   \n",
       "875   0xd1d44bed62a27ca6a1514480e985699f3a470cd7            False       True   \n",
       "901   0xd743c426849d2fddf4621db167c6627b47c19d47            False       True   \n",
       "933   0xdfef68b86eff06691e3edfaebf620c84eb86f0e3            False       True   \n",
       "948   0xe454d47f89e1e5434779bca6ef7190a7e9dfd9d0            False       True   \n",
       "989   0xefa80a25527fcdde37058aad50983f5c5f72039c            False       True   \n",
       "1029  0xf97f261e2fd4cb035412abcde731d29c52dce136            False       True   \n",
       "\n",
       "      seed_suspicious  less_5_tx  less_10_tx  interacted_other_ctbt  lcs   \n",
       "18               True      False       False                  False    0  \\\n",
       "47               True      False       False                  False    0   \n",
       "59               True      False       False                  False    0   \n",
       "157              True      False       False                  False    0   \n",
       "202              True      False       False                  False    0   \n",
       "270              True      False       False                  False    0   \n",
       "278              True      False       False                  False    0   \n",
       "293              True      False       False                  False    0   \n",
       "316              True      False       False                  False    0   \n",
       "367              True      False       False                  False    0   \n",
       "389              True      False       False                  False    0   \n",
       "464              True      False       False                  False    0   \n",
       "537              True      False       False                  False    0   \n",
       "594              True      False       False                  False    0   \n",
       "604              True      False       False                  False    0   \n",
       "735              True      False       False                  False    0   \n",
       "793              True      False       False                  False    0   \n",
       "811              True      False       False                  False    0   \n",
       "814              True      False       False                   True    0   \n",
       "847              True      False       False                  False    0   \n",
       "875              True      False       False                  False    0   \n",
       "901              True      False       False                  False    0   \n",
       "933              True      False       False                  False    0   \n",
       "948              True      False       False                  False    0   \n",
       "989              True      False       False                  False    0   \n",
       "1029             True      False       False                  False    0   \n",
       "\n",
       "      cluster_size_lcs  mean_score_lcs  max_score_lcs  has_lcs  \n",
       "18                   0             0.0            0.0    False  \n",
       "47                   0             0.0            0.0    False  \n",
       "59                   0             0.0            0.0    False  \n",
       "157                  0             0.0            0.0    False  \n",
       "202                  0             0.0            0.0    False  \n",
       "270                  0             0.0            0.0    False  \n",
       "278                  0             0.0            0.0    False  \n",
       "293                  0             0.0            0.0    False  \n",
       "316                  0             0.0            0.0    False  \n",
       "367                  0             0.0            0.0    False  \n",
       "389                  0             0.0            0.0    False  \n",
       "464                  0             0.0            0.0    False  \n",
       "537                  0             0.0            0.0    False  \n",
       "594                  0             0.0            0.0    False  \n",
       "604                  0             0.0            0.0    False  \n",
       "735                  0             0.0            0.0    False  \n",
       "793                  0             0.0            0.0    False  \n",
       "811                  0             0.0            0.0    False  \n",
       "814                  0             0.0            0.0    False  \n",
       "847                  0             0.0            0.0    False  \n",
       "875                  0             0.0            0.0    False  \n",
       "901                  0             0.0            0.0    False  \n",
       "933                  0             0.0            0.0    False  \n",
       "948                  0             0.0            0.0    False  \n",
       "989                  0             0.0            0.0    False  \n",
       "1029                 0             0.0            0.0    False  "
      ]
     },
     "execution_count": 13,
     "metadata": {},
     "output_type": "execute_result"
    }
   ],
   "source": [
    "df_matching_address[df_matching_address['seed_suspicious'] == True]"
   ]
  },
  {
   "cell_type": "code",
   "execution_count": 14,
   "metadata": {},
   "outputs": [],
   "source": [
    "# projects_voted = df_votes[df_votes['voter'] == '0xc28064b875ae25f9a2ca28c08f116a5c26229f69']\n",
    "# print(f'Number of votes {projects_voted.shape[0]} Number of projects voted: {projects_voted.grantAddress.nunique()}')\n",
    "# # Merge the project the user voted for and the projects \n",
    "# projects_voted.merge(df_application, left_on='grantAddress', right_on='metadata.application.recipient', how='left').drop_duplicates(subset='grantAddress').loc[:, ['grantAddress', 'metadata.application.project.title', 'status', 'metadata.application.round']].reset_index(drop=True)"
   ]
  },
  {
   "attachments": {},
   "cell_type": "markdown",
   "metadata": {},
   "source": [
    "Some of the projects he donated to are in the list of Rejected projects showing that this address is indeed a sybil. And may have contributed to ohter fraudulent projects."
   ]
  },
  {
   "attachments": {},
   "cell_type": "markdown",
   "metadata": {},
   "source": [
    "- Pulsar is not very active and is forked code for the most part\n",
    "- Fusion not very active on github but has a lot of activity on twitter \n",
    "- Share suspicious Github with no activity, twitter does not exists: suspicious\n",
    "\n",
    "Other projects are ok"
   ]
  },
  {
   "cell_type": "code",
   "execution_count": 15,
   "metadata": {},
   "outputs": [],
   "source": [
    "# projects_voted = df_votes[df_votes['voter'] == '0x61ffe691821291d02e9ba5d33098adcee71a3a17']\n",
    "# print(f'Number of votes {projects_voted.shape[0]} Number of projects voted: {projects_voted.grantAddress.nunique()}')\n",
    "# # Merge the project the user voted for and the projects \n",
    "# projects_voted.merge(df_application, left_on='grantAddress', right_on='metadata.application.recipient', how='left').drop_duplicates(subset='grantAddress').loc[:, ['grantAddress', 'metadata.application.project.title']].reset_index(drop=True)"
   ]
  },
  {
   "cell_type": "code",
   "execution_count": 16,
   "metadata": {},
   "outputs": [],
   "source": [
    "# projects_voted = df_votes[df_votes['voter'] == '0xe51200a4d161935fc311ed8a0401feb1abf20e3a']\n",
    "# print(f'Number of votes {projects_voted.shape[0]} Number of projects voted: {projects_voted.grantAddress.nunique()}')\n",
    "# # Merge the project the user voted for and the projects \n",
    "# projects_voted.merge(df_application, left_on='grantAddress', right_on='metadata.application.recipient', how='left').drop_duplicates(subset='grantAddress').loc[:, ['grantAddress', 'metadata.application.project.title']].reset_index(drop=True)"
   ]
  },
  {
   "attachments": {},
   "cell_type": "markdown",
   "metadata": {},
   "source": [
    "The boolean seed suspicious is not relevant for that round we will not use it for the analysis."
   ]
  },
  {
   "attachments": {},
   "cell_type": "markdown",
   "metadata": {},
   "source": [
    "### Computing the new dex interaction score\n",
    "It was investigated in another notebook "
   ]
  },
  {
   "cell_type": "code",
   "execution_count": 17,
   "metadata": {},
   "outputs": [],
   "source": [
    "def get_interacted_address(from_address, to_address, address):\n",
    "    if from_address == address:\n",
    "        return to_address\n",
    "    else:\n",
    "        return from_address\n",
    "\n",
    "def count_interaction_with_any(tx_analyser, address, array_address):\n",
    "    \"\"\"\n",
    "    Return an integer of the number of interactions with the addresses in the array_address\n",
    "    Parameters\n",
    "    ----------\n",
    "    address : str\n",
    "        The address to check\n",
    "\n",
    "    Returns\n",
    "    -------\n",
    "    count_interaction_with_any : int\n",
    "        The number of interactions with the addresses in the array_address\n",
    "    \"\"\"\n",
    "    tx_analyser.set_group_by_sorted_EOA()\n",
    "\n",
    "    df = tx_analyser.gb_EOA_sorted.get_group(address)\n",
    "    address_interacted = df.apply(lambda x: get_interacted_address(x['from_address'], x['to_address'], address), axis=1)\n",
    "    tx_boolean_interacted = address_interacted.isin(array_address)\n",
    "    return tx_boolean_interacted.sum()\n",
    "\n",
    "def has_interacted_with_any(tx_analyser, address, array_address):\n",
    "    \"\"\"\n",
    "    Return a boolean whether the address has interacted with any address in the array_address\n",
    "    Parameters\n",
    "    ----------\n",
    "    address : str\n",
    "        The address to check\n",
    "\n",
    "    Returns\n",
    "    -------\n",
    "    has_interacted_with_any : bool\n",
    "        True if the address has interacted with one or more of the addresses in the array_address\n",
    "    \"\"\"\n",
    "    count_interaction_with_any = count_interaction_with_any(tx_analyser, address, array_address)\n",
    "    return count_interaction_with_any > 0"
   ]
  },
  {
   "cell_type": "code",
   "execution_count": 18,
   "metadata": {},
   "outputs": [],
   "source": [
    "label_query = '''\n",
    "SELECT ADDRESS, CREATOR, LABEL_TYPE, ADDRESS_NAME, PROJECT_NAME\n",
    "FROM crosschain.core.address_labels \n",
    "WHERE BLOCKCHAIN='ethereum'\n",
    "AND LABEL_SUBTYPE = 'pool' \n",
    ";'''\n",
    "df_label = flipside_api.execute_query(label_query)"
   ]
  },
  {
   "cell_type": "code",
   "execution_count": 19,
   "metadata": {},
   "outputs": [],
   "source": [
    "# extract all the pool addresses\n",
    "array_pool_address = df_label['address'].unique()"
   ]
  },
  {
   "cell_type": "code",
   "execution_count": 20,
   "metadata": {},
   "outputs": [],
   "source": [
    "tx_analyser.set_group_by_sorted_EOA()"
   ]
  },
  {
   "cell_type": "code",
   "execution_count": 21,
   "metadata": {},
   "outputs": [],
   "source": [
    "# Compute the number of interactions with any of the pools for each address\n",
    "df_matching_address['count_interaction_with_pool'] = df_matching_address['address'].apply(lambda x: count_interaction_with_any(tx_analyser, x, array_pool_address))"
   ]
  },
  {
   "cell_type": "code",
   "execution_count": 22,
   "metadata": {},
   "outputs": [
    {
     "data": {
      "text/plain": [
       "0.507532956685499"
      ]
     },
     "execution_count": 22,
     "metadata": {},
     "output_type": "execute_result"
    }
   ],
   "source": [
    "(df_matching_address['count_interaction_with_pool'] > 0).sum() / len(df_matching_address)"
   ]
  },
  {
   "cell_type": "code",
   "execution_count": 23,
   "metadata": {},
   "outputs": [],
   "source": [
    "label_query = '''\n",
    "SELECT DISTINCT(LABEL_SUBTYPE)\n",
    "FROM crosschain.core.address_labels \n",
    "WHERE BLOCKCHAIN='ethereum'\n",
    ";'''\n",
    "df_distinct_labels = flipside_api.execute_query(label_query)"
   ]
  },
  {
   "cell_type": "code",
   "execution_count": 24,
   "metadata": {},
   "outputs": [
    {
     "data": {
      "text/plain": [
       "array(['nf_token_contract', 'token_distribution', 'nf_position_manager',\n",
       "       'router', 'marketplace', 'foundation', 'strategy', 'fee_wallet',\n",
       "       'multisig', 'airdrop_contract', 'governance', 'contract_deployer',\n",
       "       'reserve', 'chadmin', 'token_contract', 'bridge', 'mint_burn',\n",
       "       'mint_contract', 'mining_pool', 'donation_address', 'pool',\n",
       "       'hot_wallet', 'deposit_wallet', 'staking_contract', 'oracle',\n",
       "       'vault', 'toxic', 'cold_wallet', 'swap_router', 'voting',\n",
       "       'general_contract', 'distributor_cex', 'rewards', 'dao',\n",
       "       'treasury', 'token_sale', 'aggregator_contract', 'escrow',\n",
       "       'swap_contract'], dtype=object)"
      ]
     },
     "execution_count": 24,
     "metadata": {},
     "output_type": "execute_result"
    }
   ],
   "source": [
    "df_distinct_labels.label_subtype.unique()"
   ]
  },
  {
   "attachments": {},
   "cell_type": "markdown",
   "metadata": {},
   "source": [
    "From these tags lets flag any address that have interacted with a toxic wallet"
   ]
  },
  {
   "cell_type": "code",
   "execution_count": 25,
   "metadata": {},
   "outputs": [],
   "source": [
    "label_query = '''\n",
    "SELECT ADDRESS, CREATOR, LABEL_TYPE, ADDRESS_NAME, PROJECT_NAME\n",
    "FROM crosschain.core.address_labels \n",
    "WHERE BLOCKCHAIN='ethereum'\n",
    "AND LABEL_SUBTYPE = 'toxic'\n",
    ";'''\n",
    "df_toxic = flipside_api.execute_query(label_query)"
   ]
  },
  {
   "cell_type": "code",
   "execution_count": 26,
   "metadata": {},
   "outputs": [
    {
     "data": {
      "text/plain": [
       "(4857, 6)"
      ]
     },
     "execution_count": 26,
     "metadata": {},
     "output_type": "execute_result"
    }
   ],
   "source": [
    "df_toxic.shape"
   ]
  },
  {
   "cell_type": "code",
   "execution_count": 27,
   "metadata": {},
   "outputs": [],
   "source": [
    "# Compute the number of interactions with any of the scam for each address\n",
    "df_matching_address['count_interaction_with_toxic'] = df_matching_address['address'].apply(lambda x: count_interaction_with_any(tx_analyser, x, df_toxic['address'].unique()))"
   ]
  },
  {
   "cell_type": "code",
   "execution_count": 28,
   "metadata": {},
   "outputs": [
    {
     "name": "stdout",
     "output_type": "stream",
     "text": [
      "Percentage of addresses that have interacted with a toxic address: 2%\n"
     ]
    }
   ],
   "source": [
    "print(f'Percentage of addresses that have interacted with a toxic address: {int((df_matching_address[\"count_interaction_with_toxic\"] > 0).sum() / len(df_matching_address) *100)}%')"
   ]
  },
  {
   "attachments": {},
   "cell_type": "markdown",
   "metadata": {},
   "source": [
    "I found the tag_name \"airdrop master\" could be interesting "
   ]
  },
  {
   "cell_type": "code",
   "execution_count": 29,
   "metadata": {},
   "outputs": [],
   "source": [
    "query_airdrop_master = '''\n",
    "SELECT BLOCKCHAIN, CREATOR, ADDRESS, TAG_NAME\n",
    "FROM crosschain.core.address_tags \n",
    "WHERE BLOCKCHAIN='ethereum'\n",
    "AND TAG_NAME = 'airdrop master'\n",
    ";\n",
    "'''\n",
    "df_airdrop_master = flipside_api.execute_query(query_airdrop_master)"
   ]
  },
  {
   "cell_type": "code",
   "execution_count": 30,
   "metadata": {},
   "outputs": [
    {
     "name": "stdout",
     "output_type": "stream",
     "text": [
      "Percentage of addresses that interacted with airdrop master: 25%\n"
     ]
    }
   ],
   "source": [
    "# Compute the number of interactions with any of the aidrop for each address\n",
    "df_matching_address['count_interaction_with_airdrop_m'] = df_matching_address['address'].apply(lambda x: count_interaction_with_any(tx_analyser, x, df_airdrop_master['address'].unique()))\n",
    "print(f'Percentage of addresses that interacted with airdrop master: {int((df_matching_address[\"count_interaction_with_airdrop_m\"] > 0).sum() / len(df_matching_address) * 100)}%')"
   ]
  },
  {
   "cell_type": "code",
   "execution_count": 31,
   "metadata": {},
   "outputs": [
    {
     "name": "stdout",
     "output_type": "stream",
     "text": [
      "Percentage of addresses that are airdrop master: 12%\n"
     ]
    }
   ],
   "source": [
    "# Boolean whether the address is a aidrop master\n",
    "df_matching_address['is_airdrop_master'] = df_matching_address['address'].apply(lambda x: x in df_airdrop_master['address'].unique()) \n",
    "print(f'Percentage of addresses that are airdrop master: {int((df_matching_address[\"is_airdrop_master\"]).sum() / len(df_matching_address) * 100)}%')"
   ]
  },
  {
   "cell_type": "code",
   "execution_count": 32,
   "metadata": {},
   "outputs": [],
   "source": [
    "sql_query_tornado = '''\n",
    "SELECT DISTINCT PROJECT_NAME, ADDRESS\n",
    "FROM crosschain.core.address_labels \n",
    "WHERE BLOCKCHAIN='ethereum'\n",
    "AND PROJECT_NAME LIKE '%tornado%'\n",
    ";\n",
    "'''\n",
    "df_tornado = flipside_api.execute_query(sql_query_tornado)"
   ]
  },
  {
   "cell_type": "code",
   "execution_count": 33,
   "metadata": {},
   "outputs": [
    {
     "name": "stdout",
     "output_type": "stream",
     "text": [
      "Percentage of addresses that interacted with tornado: 4%\n"
     ]
    }
   ],
   "source": [
    "# Count the number of interactions with tornado\n",
    "df_matching_address['count_interaction_with_tornado'] = df_matching_address['address'].apply(lambda x: count_interaction_with_any(tx_analyser, x, df_tornado['address'].unique()))\n",
    "print(f'Percentage of addresses that interacted with tornado: {int((df_matching_address[\"count_interaction_with_tornado\"] > 0).sum() / len(df_matching_address) * 100)}%')"
   ]
  },
  {
   "cell_type": "code",
   "execution_count": 34,
   "metadata": {},
   "outputs": [
    {
     "name": "stdout",
     "output_type": "stream",
     "text": [
      "Percentage of addresses that interacted with disperse: 2%\n"
     ]
    }
   ],
   "source": [
    "# Count the number of time the address interatec with disperse contract: '0xD152f549545093347A162Dce210e7293f1452150'\n",
    "df_matching_address['count_interaction_with_disperse'] = df_matching_address['address'].apply(lambda x: count_interaction_with_any(tx_analyser, x, [str.lower('0xD152f549545093347A162Dce210e7293f1452150')]))\n",
    "print(f'Percentage of addresses that interacted with disperse: {int((df_matching_address[\"count_interaction_with_disperse\"] > 0).sum() / len(df_matching_address) * 100)}%')"
   ]
  },
  {
   "cell_type": "code",
   "execution_count": 35,
   "metadata": {},
   "outputs": [
    {
     "data": {
      "text/html": [
       "<div>\n",
       "<style scoped>\n",
       "    .dataframe tbody tr th:only-of-type {\n",
       "        vertical-align: middle;\n",
       "    }\n",
       "\n",
       "    .dataframe tbody tr th {\n",
       "        vertical-align: top;\n",
       "    }\n",
       "\n",
       "    .dataframe thead th {\n",
       "        text-align: right;\n",
       "    }\n",
       "</style>\n",
       "<table border=\"1\" class=\"dataframe\">\n",
       "  <thead>\n",
       "    <tr style=\"text-align: right;\">\n",
       "      <th></th>\n",
       "      <th>lcs</th>\n",
       "      <th>cluster_size_lcs</th>\n",
       "      <th>mean_score_lcs</th>\n",
       "      <th>max_score_lcs</th>\n",
       "      <th>count_interaction_with_pool</th>\n",
       "      <th>count_interaction_with_toxic</th>\n",
       "      <th>count_interaction_with_airdrop_m</th>\n",
       "      <th>count_interaction_with_tornado</th>\n",
       "      <th>count_interaction_with_disperse</th>\n",
       "    </tr>\n",
       "  </thead>\n",
       "  <tbody>\n",
       "    <tr>\n",
       "      <th>count</th>\n",
       "      <td>1062.0</td>\n",
       "      <td>1062.000000</td>\n",
       "      <td>1062.000000</td>\n",
       "      <td>1062.000000</td>\n",
       "      <td>1062.000000</td>\n",
       "      <td>1062.000000</td>\n",
       "      <td>1062.000000</td>\n",
       "      <td>1062.000000</td>\n",
       "      <td>1062.000000</td>\n",
       "    </tr>\n",
       "    <tr>\n",
       "      <th>mean</th>\n",
       "      <td>0.0</td>\n",
       "      <td>0.013183</td>\n",
       "      <td>0.000467</td>\n",
       "      <td>0.000544</td>\n",
       "      <td>13.700565</td>\n",
       "      <td>0.051789</td>\n",
       "      <td>3.919962</td>\n",
       "      <td>0.316384</td>\n",
       "      <td>0.159134</td>\n",
       "    </tr>\n",
       "    <tr>\n",
       "      <th>std</th>\n",
       "      <td>0.0</td>\n",
       "      <td>0.370718</td>\n",
       "      <td>0.009161</td>\n",
       "      <td>0.010242</td>\n",
       "      <td>91.830114</td>\n",
       "      <td>0.378687</td>\n",
       "      <td>16.151503</td>\n",
       "      <td>2.568514</td>\n",
       "      <td>1.737784</td>\n",
       "    </tr>\n",
       "    <tr>\n",
       "      <th>min</th>\n",
       "      <td>0.0</td>\n",
       "      <td>0.000000</td>\n",
       "      <td>0.000000</td>\n",
       "      <td>0.000000</td>\n",
       "      <td>0.000000</td>\n",
       "      <td>0.000000</td>\n",
       "      <td>0.000000</td>\n",
       "      <td>0.000000</td>\n",
       "      <td>0.000000</td>\n",
       "    </tr>\n",
       "    <tr>\n",
       "      <th>10%</th>\n",
       "      <td>0.0</td>\n",
       "      <td>0.000000</td>\n",
       "      <td>0.000000</td>\n",
       "      <td>0.000000</td>\n",
       "      <td>0.000000</td>\n",
       "      <td>0.000000</td>\n",
       "      <td>0.000000</td>\n",
       "      <td>0.000000</td>\n",
       "      <td>0.000000</td>\n",
       "    </tr>\n",
       "    <tr>\n",
       "      <th>25%</th>\n",
       "      <td>0.0</td>\n",
       "      <td>0.000000</td>\n",
       "      <td>0.000000</td>\n",
       "      <td>0.000000</td>\n",
       "      <td>0.000000</td>\n",
       "      <td>0.000000</td>\n",
       "      <td>0.000000</td>\n",
       "      <td>0.000000</td>\n",
       "      <td>0.000000</td>\n",
       "    </tr>\n",
       "    <tr>\n",
       "      <th>50%</th>\n",
       "      <td>0.0</td>\n",
       "      <td>0.000000</td>\n",
       "      <td>0.000000</td>\n",
       "      <td>0.000000</td>\n",
       "      <td>1.000000</td>\n",
       "      <td>0.000000</td>\n",
       "      <td>0.000000</td>\n",
       "      <td>0.000000</td>\n",
       "      <td>0.000000</td>\n",
       "    </tr>\n",
       "    <tr>\n",
       "      <th>75%</th>\n",
       "      <td>0.0</td>\n",
       "      <td>0.000000</td>\n",
       "      <td>0.000000</td>\n",
       "      <td>0.000000</td>\n",
       "      <td>5.000000</td>\n",
       "      <td>0.000000</td>\n",
       "      <td>1.000000</td>\n",
       "      <td>0.000000</td>\n",
       "      <td>0.000000</td>\n",
       "    </tr>\n",
       "    <tr>\n",
       "      <th>90%</th>\n",
       "      <td>0.0</td>\n",
       "      <td>0.000000</td>\n",
       "      <td>0.000000</td>\n",
       "      <td>0.000000</td>\n",
       "      <td>22.000000</td>\n",
       "      <td>0.000000</td>\n",
       "      <td>7.000000</td>\n",
       "      <td>0.000000</td>\n",
       "      <td>0.000000</td>\n",
       "    </tr>\n",
       "    <tr>\n",
       "      <th>max</th>\n",
       "      <td>0.0</td>\n",
       "      <td>12.000000</td>\n",
       "      <td>0.200000</td>\n",
       "      <td>0.200000</td>\n",
       "      <td>2632.000000</td>\n",
       "      <td>7.000000</td>\n",
       "      <td>208.000000</td>\n",
       "      <td>55.000000</td>\n",
       "      <td>39.000000</td>\n",
       "    </tr>\n",
       "  </tbody>\n",
       "</table>\n",
       "</div>"
      ],
      "text/plain": [
       "          lcs  cluster_size_lcs  mean_score_lcs  max_score_lcs   \n",
       "count  1062.0       1062.000000     1062.000000    1062.000000  \\\n",
       "mean      0.0          0.013183        0.000467       0.000544   \n",
       "std       0.0          0.370718        0.009161       0.010242   \n",
       "min       0.0          0.000000        0.000000       0.000000   \n",
       "10%       0.0          0.000000        0.000000       0.000000   \n",
       "25%       0.0          0.000000        0.000000       0.000000   \n",
       "50%       0.0          0.000000        0.000000       0.000000   \n",
       "75%       0.0          0.000000        0.000000       0.000000   \n",
       "90%       0.0          0.000000        0.000000       0.000000   \n",
       "max       0.0         12.000000        0.200000       0.200000   \n",
       "\n",
       "       count_interaction_with_pool  count_interaction_with_toxic   \n",
       "count                  1062.000000                   1062.000000  \\\n",
       "mean                     13.700565                      0.051789   \n",
       "std                      91.830114                      0.378687   \n",
       "min                       0.000000                      0.000000   \n",
       "10%                       0.000000                      0.000000   \n",
       "25%                       0.000000                      0.000000   \n",
       "50%                       1.000000                      0.000000   \n",
       "75%                       5.000000                      0.000000   \n",
       "90%                      22.000000                      0.000000   \n",
       "max                    2632.000000                      7.000000   \n",
       "\n",
       "       count_interaction_with_airdrop_m  count_interaction_with_tornado   \n",
       "count                       1062.000000                     1062.000000  \\\n",
       "mean                           3.919962                        0.316384   \n",
       "std                           16.151503                        2.568514   \n",
       "min                            0.000000                        0.000000   \n",
       "10%                            0.000000                        0.000000   \n",
       "25%                            0.000000                        0.000000   \n",
       "50%                            0.000000                        0.000000   \n",
       "75%                            1.000000                        0.000000   \n",
       "90%                            7.000000                        0.000000   \n",
       "max                          208.000000                       55.000000   \n",
       "\n",
       "       count_interaction_with_disperse  \n",
       "count                      1062.000000  \n",
       "mean                          0.159134  \n",
       "std                           1.737784  \n",
       "min                           0.000000  \n",
       "10%                           0.000000  \n",
       "25%                           0.000000  \n",
       "50%                           0.000000  \n",
       "75%                           0.000000  \n",
       "90%                           0.000000  \n",
       "max                          39.000000  "
      ]
     },
     "execution_count": 35,
     "metadata": {},
     "output_type": "execute_result"
    }
   ],
   "source": [
    "df_matching_address.describe(percentiles=[0.1, 0.25, 0.5, 0.75, 0.9])"
   ]
  },
  {
   "cell_type": "code",
   "execution_count": 36,
   "metadata": {},
   "outputs": [],
   "source": [
    "df_matching_address['has_interaction_toxic'] = df_matching_address['count_interaction_with_toxic'] > 0\n",
    "df_matching_address['has_no_pool_interaction'] = df_matching_address['count_interaction_with_pool'] < 6\n",
    "df_matching_address['has_interaction_airdrop_m'] = df_matching_address['count_interaction_with_airdrop_m'] > 0\n",
    "df_matching_address['has_interaction_tornado'] = df_matching_address['count_interaction_with_tornado'] > 0\n",
    "df_matching_address['has_interaction_disperse'] = df_matching_address['count_interaction_with_disperse'] > 0"
   ]
  },
  {
   "cell_type": "code",
   "execution_count": 37,
   "metadata": {},
   "outputs": [],
   "source": [
    "boolean_features = ['has_lcs', 'seed_suspicious', 'has_interaction_toxic', 'has_no_pool_interaction', 'has_interaction_airdrop_m', 'has_interaction_tornado', 'has_interaction_disperse', 'is_airdrop_master', 'interacted_other_ctbt']"
   ]
  },
  {
   "cell_type": "code",
   "execution_count": 38,
   "metadata": {},
   "outputs": [
    {
     "data": {
      "text/plain": [
       "has_lcs                        3\n",
       "seed_suspicious               26\n",
       "has_interaction_toxic         31\n",
       "has_no_pool_interaction      803\n",
       "has_interaction_airdrop_m    270\n",
       "has_interaction_tornado       43\n",
       "has_interaction_disperse      26\n",
       "is_airdrop_master            136\n",
       "interacted_other_ctbt        165\n",
       "dtype: int64"
      ]
     },
     "execution_count": 38,
     "metadata": {},
     "output_type": "execute_result"
    }
   ],
   "source": [
    "df_matching_address[boolean_features].sum() "
   ]
  },
  {
   "cell_type": "code",
   "execution_count": 39,
   "metadata": {},
   "outputs": [
    {
     "data": {
      "text/plain": [
       "1062"
      ]
     },
     "execution_count": 39,
     "metadata": {},
     "output_type": "execute_result"
    }
   ],
   "source": [
    "len(df_matching_address)"
   ]
  },
  {
   "attachments": {},
   "cell_type": "markdown",
   "metadata": {},
   "source": [
    "### Investigating the grants receiving the most votes from the flagged addresses"
   ]
  },
  {
   "attachments": {},
   "cell_type": "markdown",
   "metadata": {},
   "source": [
    "### Look at the addresses with at least one flag"
   ]
  },
  {
   "attachments": {},
   "cell_type": "markdown",
   "metadata": {},
   "source": [
    "We are going to review the addresses that have at least 1 flag:\n",
    "- has_intercation_toxic \n",
    "- has_interaction_disperse\n",
    "- has_interaction_airdrop_master\n",
    "- is airdrop master\n",
    "- seed suspicious\n",
    "- interacted with other contributor and less than 5 tx\n",
    "\n",
    "I decided to remove tornado cash because someone can be anonimous with out being a sybil"
   ]
  },
  {
   "cell_type": "code",
   "execution_count": 41,
   "metadata": {},
   "outputs": [],
   "source": [
    "df_matching_address['interact_less_5tx'] = np.logical_and(df_matching_address['interacted_other_ctbt'], df_matching_address['less_5_tx'])"
   ]
  },
  {
   "cell_type": "code",
   "execution_count": 42,
   "metadata": {},
   "outputs": [],
   "source": [
    "interaction_bool = ['has_lcs', 'has_interaction_toxic', 'has_interaction_airdrop_m', 'has_interaction_disperse', 'is_airdrop_master', 'seed_suspicious', 'interact_less_5tx']"
   ]
  },
  {
   "cell_type": "code",
   "execution_count": 43,
   "metadata": {},
   "outputs": [
    {
     "data": {
      "text/plain": [
       "has_lcs                        3\n",
       "has_interaction_toxic         31\n",
       "has_interaction_airdrop_m    270\n",
       "has_interaction_disperse      26\n",
       "is_airdrop_master            136\n",
       "seed_suspicious               26\n",
       "interact_less_5tx              0\n",
       "dtype: int64"
      ]
     },
     "execution_count": 43,
     "metadata": {},
     "output_type": "execute_result"
    }
   ],
   "source": [
    "df_matching_address[interaction_bool].sum()"
   ]
  },
  {
   "cell_type": "code",
   "execution_count": 44,
   "metadata": {},
   "outputs": [
    {
     "data": {
      "text/html": [
       "<div>\n",
       "<style scoped>\n",
       "    .dataframe tbody tr th:only-of-type {\n",
       "        vertical-align: middle;\n",
       "    }\n",
       "\n",
       "    .dataframe tbody tr th {\n",
       "        vertical-align: top;\n",
       "    }\n",
       "\n",
       "    .dataframe thead th {\n",
       "        text-align: right;\n",
       "    }\n",
       "</style>\n",
       "<table border=\"1\" class=\"dataframe\">\n",
       "  <thead>\n",
       "    <tr style=\"text-align: right;\">\n",
       "      <th></th>\n",
       "      <th>has_lcs</th>\n",
       "      <th>has_interaction_toxic</th>\n",
       "      <th>has_interaction_airdrop_m</th>\n",
       "      <th>has_interaction_disperse</th>\n",
       "      <th>is_airdrop_master</th>\n",
       "      <th>seed_suspicious</th>\n",
       "      <th>interact_less_5tx</th>\n",
       "    </tr>\n",
       "  </thead>\n",
       "  <tbody>\n",
       "    <tr>\n",
       "      <th>has_lcs</th>\n",
       "      <td>1.0</td>\n",
       "      <td>0.000000</td>\n",
       "      <td>0.000000</td>\n",
       "      <td>0.000000</td>\n",
       "      <td>0.000000</td>\n",
       "      <td>0.000000</td>\n",
       "      <td>0.0</td>\n",
       "    </tr>\n",
       "    <tr>\n",
       "      <th>has_interaction_toxic</th>\n",
       "      <td>0.0</td>\n",
       "      <td>1.000000</td>\n",
       "      <td>0.082734</td>\n",
       "      <td>0.117647</td>\n",
       "      <td>0.084416</td>\n",
       "      <td>0.000000</td>\n",
       "      <td>0.0</td>\n",
       "    </tr>\n",
       "    <tr>\n",
       "      <th>has_interaction_airdrop_m</th>\n",
       "      <td>0.0</td>\n",
       "      <td>0.082734</td>\n",
       "      <td>1.000000</td>\n",
       "      <td>0.068592</td>\n",
       "      <td>0.409722</td>\n",
       "      <td>0.013699</td>\n",
       "      <td>0.0</td>\n",
       "    </tr>\n",
       "    <tr>\n",
       "      <th>has_interaction_disperse</th>\n",
       "      <td>0.0</td>\n",
       "      <td>0.117647</td>\n",
       "      <td>0.068592</td>\n",
       "      <td>1.000000</td>\n",
       "      <td>0.072848</td>\n",
       "      <td>0.040000</td>\n",
       "      <td>0.0</td>\n",
       "    </tr>\n",
       "    <tr>\n",
       "      <th>is_airdrop_master</th>\n",
       "      <td>0.0</td>\n",
       "      <td>0.084416</td>\n",
       "      <td>0.409722</td>\n",
       "      <td>0.072848</td>\n",
       "      <td>1.000000</td>\n",
       "      <td>0.012500</td>\n",
       "      <td>0.0</td>\n",
       "    </tr>\n",
       "    <tr>\n",
       "      <th>seed_suspicious</th>\n",
       "      <td>0.0</td>\n",
       "      <td>0.000000</td>\n",
       "      <td>0.013699</td>\n",
       "      <td>0.040000</td>\n",
       "      <td>0.012500</td>\n",
       "      <td>1.000000</td>\n",
       "      <td>0.0</td>\n",
       "    </tr>\n",
       "    <tr>\n",
       "      <th>interact_less_5tx</th>\n",
       "      <td>0.0</td>\n",
       "      <td>0.000000</td>\n",
       "      <td>0.000000</td>\n",
       "      <td>0.000000</td>\n",
       "      <td>0.000000</td>\n",
       "      <td>0.000000</td>\n",
       "      <td>1.0</td>\n",
       "    </tr>\n",
       "  </tbody>\n",
       "</table>\n",
       "</div>"
      ],
      "text/plain": [
       "                           has_lcs  has_interaction_toxic   \n",
       "has_lcs                        1.0               0.000000  \\\n",
       "has_interaction_toxic          0.0               1.000000   \n",
       "has_interaction_airdrop_m      0.0               0.082734   \n",
       "has_interaction_disperse       0.0               0.117647   \n",
       "is_airdrop_master              0.0               0.084416   \n",
       "seed_suspicious                0.0               0.000000   \n",
       "interact_less_5tx              0.0               0.000000   \n",
       "\n",
       "                           has_interaction_airdrop_m   \n",
       "has_lcs                                     0.000000  \\\n",
       "has_interaction_toxic                       0.082734   \n",
       "has_interaction_airdrop_m                   1.000000   \n",
       "has_interaction_disperse                    0.068592   \n",
       "is_airdrop_master                           0.409722   \n",
       "seed_suspicious                             0.013699   \n",
       "interact_less_5tx                           0.000000   \n",
       "\n",
       "                           has_interaction_disperse  is_airdrop_master   \n",
       "has_lcs                                    0.000000           0.000000  \\\n",
       "has_interaction_toxic                      0.117647           0.084416   \n",
       "has_interaction_airdrop_m                  0.068592           0.409722   \n",
       "has_interaction_disperse                   1.000000           0.072848   \n",
       "is_airdrop_master                          0.072848           1.000000   \n",
       "seed_suspicious                            0.040000           0.012500   \n",
       "interact_less_5tx                          0.000000           0.000000   \n",
       "\n",
       "                           seed_suspicious  interact_less_5tx  \n",
       "has_lcs                           0.000000                0.0  \n",
       "has_interaction_toxic             0.000000                0.0  \n",
       "has_interaction_airdrop_m         0.013699                0.0  \n",
       "has_interaction_disperse          0.040000                0.0  \n",
       "is_airdrop_master                 0.012500                0.0  \n",
       "seed_suspicious                   1.000000                0.0  \n",
       "interact_less_5tx                 0.000000                1.0  "
      ]
     },
     "execution_count": 44,
     "metadata": {},
     "output_type": "execute_result"
    }
   ],
   "source": [
    "from scipy.spatial.distance import pdist\n",
    "\n",
    "def jaccard_similarity_matrix(df):\n",
    "    \n",
    "    n = df.shape[1]\n",
    "    scores = 1 - pdist(np.array(df).T, metric='jaccard')\n",
    "    result = np.zeros((n,n))\n",
    "    result[np.triu_indices(n, k=1)] = scores\n",
    "    result += result.T\n",
    "    np.fill_diagonal(result, 1)\n",
    "    return pd.DataFrame(result, index=df.columns, columns=df.columns)\n",
    "\n",
    "jaccard_similarity = jaccard_similarity_matrix(df_matching_address[interaction_bool])\n",
    "jaccard_similarity"
   ]
  },
  {
   "cell_type": "code",
   "execution_count": 45,
   "metadata": {},
   "outputs": [
    {
     "data": {
      "text/plain": [
       "<Axes: >"
      ]
     },
     "execution_count": 45,
     "metadata": {},
     "output_type": "execute_result"
    },
    {
     "data": {
      "image/png": "[encoded data removed]",
      "text/plain": [
       "<Figure size 640x480 with 2 Axes>"
      ]
     },
     "metadata": {},
     "output_type": "display_data"
    }
   ],
   "source": [
    "import seaborn as sns\n",
    "sns.heatmap(jaccard_similarity, annot=True)"
   ]
  },
  {
   "cell_type": "code",
   "execution_count": 46,
   "metadata": {},
   "outputs": [
    {
     "name": "stdout",
     "output_type": "stream",
     "text": [
      "Number of addresses that interacted with a suspicious contract or address: 326\n"
     ]
    }
   ],
   "source": [
    "df_matching_address['flagged'] = df_matching_address[interaction_bool].sum(axis=1) > 0\n",
    "df_interact_sus_2 = df_matching_address[df_matching_address['flagged'] == True]\n",
    "print(f'Number of addresses that interacted with a suspicious contract or address: {df_interact_sus_2.shape[0]}')"
   ]
  },
  {
   "cell_type": "code",
   "execution_count": 47,
   "metadata": {},
   "outputs": [
    {
     "ename": "NameError",
     "evalue": "name 'count_unique_vote_grant' is not defined",
     "output_type": "error",
     "traceback": [
      "\u001b[1;31m---------------------------------------------------------------------------\u001b[0m",
      "\u001b[1;31mNameError\u001b[0m                                 Traceback (most recent call last)",
      "Cell \u001b[1;32mIn[47], line 4\u001b[0m\n\u001b[0;32m      2\u001b[0m \u001b[39m# count_unique_vote_grant = df_votes.drop_duplicates(subset=['grantAddress', 'voter']).groupby('grantAddress')['id'].count().sort_values(ascending=False).reset_index().head(10)\u001b[39;00m\n\u001b[0;32m      3\u001b[0m count_suspicious_vote_grant_2 \u001b[39m=\u001b[39m df_vote_sus_2[\u001b[39m'\u001b[39m\u001b[39mgrantAddress\u001b[39m\u001b[39m'\u001b[39m]\u001b[39m.\u001b[39mvalue_counts()\u001b[39m.\u001b[39mreset_index()\n\u001b[1;32m----> 4\u001b[0m df_vote_grant_2 \u001b[39m=\u001b[39m count_unique_vote_grant\u001b[39m.\u001b[39mmerge(count_suspicious_vote_grant_2, left_on\u001b[39m=\u001b[39m\u001b[39m'\u001b[39m\u001b[39mgrantAddress\u001b[39m\u001b[39m'\u001b[39m, right_on\u001b[39m=\u001b[39m\u001b[39m'\u001b[39m\u001b[39mgrantAddress\u001b[39m\u001b[39m'\u001b[39m, how\u001b[39m=\u001b[39m\u001b[39m'\u001b[39m\u001b[39mleft\u001b[39m\u001b[39m'\u001b[39m)\u001b[39m.\u001b[39mfillna(\u001b[39m0\u001b[39m)\u001b[39m.\u001b[39mrename(columns\u001b[39m=\u001b[39m{\u001b[39m'\u001b[39m\u001b[39mid\u001b[39m\u001b[39m'\u001b[39m: \u001b[39m'\u001b[39m\u001b[39mcount_unique_vote\u001b[39m\u001b[39m'\u001b[39m, \u001b[39m'\u001b[39m\u001b[39mcount\u001b[39m\u001b[39m'\u001b[39m: \u001b[39m'\u001b[39m\u001b[39mcount_suspicious_vote\u001b[39m\u001b[39m'\u001b[39m})\n",
      "\u001b[1;31mNameError\u001b[0m: name 'count_unique_vote_grant' is not defined"
     ]
    }
   ],
   "source": [
    "df_vote_sus_2 = df_votes[df_votes['voter'].isin(df_interact_sus_2['address'])]\n",
    "# count_unique_vote_grant = df_votes.drop_duplicates(subset=['grantAddress', 'voter']).groupby('grantAddress')['id'].count().sort_values(ascending=False).reset_index().head(10)\n",
    "count_suspicious_vote_grant_2 = df_vote_sus_2['grantAddress'].value_counts().reset_index()\n",
    "df_vote_grant_2 = count_unique_vote_grant.merge(count_suspicious_vote_grant_2, left_on='grantAddress', right_on='grantAddress', how='left').fillna(0).rename(columns={'id': 'count_unique_vote', 'count': 'count_suspicious_vote'})"
   ]
  },
  {
   "cell_type": "code",
   "execution_count": null,
   "metadata": {},
   "outputs": [
    {
     "name": "stdout",
     "output_type": "stream",
     "text": [
      "Number of suspicious votes 1189 Number of projects voted: 194\n",
      "number of grants: 216\n"
     ]
    },
    {
     "data": {
      "text/html": [
       "<div>\n",
       "<style scoped>\n",
       "    .dataframe tbody tr th:only-of-type {\n",
       "        vertical-align: middle;\n",
       "    }\n",
       "\n",
       "    .dataframe tbody tr th {\n",
       "        vertical-align: top;\n",
       "    }\n",
       "\n",
       "    .dataframe thead th {\n",
       "        text-align: right;\n",
       "    }\n",
       "</style>\n",
       "<table border=\"1\" class=\"dataframe\">\n",
       "  <thead>\n",
       "    <tr style=\"text-align: right;\">\n",
       "      <th></th>\n",
       "      <th>grantAddress</th>\n",
       "      <th>metadata.application.project.title</th>\n",
       "      <th>percentage_suspicious_vote</th>\n",
       "      <th>count_suspicious_vote</th>\n",
       "      <th>roundId</th>\n",
       "      <th>status</th>\n",
       "    </tr>\n",
       "  </thead>\n",
       "  <tbody>\n",
       "    <tr>\n",
       "      <th>207</th>\n",
       "      <td>0xd6a6b5bac1e2eac575b1b1bc066d9d6e384d7e50</td>\n",
       "      <td>Dot.alert()</td>\n",
       "      <td>150.000000</td>\n",
       "      <td>3.0</td>\n",
       "      <td>0xaa40e2e5c8df03d792a52b5458959c320f86ca18</td>\n",
       "      <td>APPROVED</td>\n",
       "    </tr>\n",
       "    <tr>\n",
       "      <th>183</th>\n",
       "      <td>0xac9844ec536b69e826ff643520a2d185d13c52ed</td>\n",
       "      <td>WGMI Community DAO</td>\n",
       "      <td>133.333333</td>\n",
       "      <td>4.0</td>\n",
       "      <td>0xaa40e2e5c8df03d792a52b5458959c320f86ca18</td>\n",
       "      <td>APPROVED</td>\n",
       "    </tr>\n",
       "    <tr>\n",
       "      <th>215</th>\n",
       "      <td>0x557a13655a955e50fa5b7f8128b9414d15ee399e</td>\n",
       "      <td>American Crypto Academy</td>\n",
       "      <td>100.000000</td>\n",
       "      <td>1.0</td>\n",
       "      <td>0xaa40e2e5c8df03d792a52b5458959c320f86ca18</td>\n",
       "      <td>APPROVED</td>\n",
       "    </tr>\n",
       "    <tr>\n",
       "      <th>214</th>\n",
       "      <td>0xb5759de539114751ca6db8d967ad21913df25ecf</td>\n",
       "      <td>Cryptoblarabi Academy</td>\n",
       "      <td>100.000000</td>\n",
       "      <td>1.0</td>\n",
       "      <td>0xaa40e2e5c8df03d792a52b5458959c320f86ca18</td>\n",
       "      <td>APPROVED</td>\n",
       "    </tr>\n",
       "    <tr>\n",
       "      <th>213</th>\n",
       "      <td>0xb11eacc17bd735854d9d89bee9efe1d6b7e0b9bf</td>\n",
       "      <td>\"JPGs Against Humanity\" Documentary Series</td>\n",
       "      <td>100.000000</td>\n",
       "      <td>1.0</td>\n",
       "      <td>0xaa40e2e5c8df03d792a52b5458959c320f86ca18</td>\n",
       "      <td>APPROVED</td>\n",
       "    </tr>\n",
       "    <tr>\n",
       "      <th>212</th>\n",
       "      <td>0xe19102cab66efcfafe78fcea936322ac5215b7f6</td>\n",
       "      <td>ScrumDAO</td>\n",
       "      <td>100.000000</td>\n",
       "      <td>1.0</td>\n",
       "      <td>0xaa40e2e5c8df03d792a52b5458959c320f86ca18</td>\n",
       "      <td>APPROVED</td>\n",
       "    </tr>\n",
       "    <tr>\n",
       "      <th>211</th>\n",
       "      <td>0x2a58a4ad067ea8bd71fb7cb5b7b6db775d7c60a1</td>\n",
       "      <td>Konma Upskill</td>\n",
       "      <td>100.000000</td>\n",
       "      <td>1.0</td>\n",
       "      <td>0xaa40e2e5c8df03d792a52b5458959c320f86ca18</td>\n",
       "      <td>APPROVED</td>\n",
       "    </tr>\n",
       "    <tr>\n",
       "      <th>210</th>\n",
       "      <td>0xad851ef1ad2ccf8f87413e6c274bccbec37469d2</td>\n",
       "      <td>DspytDAO - Fostering Innovation and Education ...</td>\n",
       "      <td>100.000000</td>\n",
       "      <td>1.0</td>\n",
       "      <td>0xaa40e2e5c8df03d792a52b5458959c320f86ca18</td>\n",
       "      <td>APPROVED</td>\n",
       "    </tr>\n",
       "    <tr>\n",
       "      <th>209</th>\n",
       "      <td>0xcfa8f21be8f6347703f7c9e45b3e3c08aaa5893e</td>\n",
       "      <td>DuaCrypto: The Premier Ethereum YouTube Channel</td>\n",
       "      <td>100.000000</td>\n",
       "      <td>1.0</td>\n",
       "      <td>0xaa40e2e5c8df03d792a52b5458959c320f86ca18</td>\n",
       "      <td>APPROVED</td>\n",
       "    </tr>\n",
       "    <tr>\n",
       "      <th>202</th>\n",
       "      <td>0xe23e0cccc91b11b3fe2d3dd140e28b598e395289</td>\n",
       "      <td>Buidlers</td>\n",
       "      <td>100.000000</td>\n",
       "      <td>2.0</td>\n",
       "      <td>0xaa40e2e5c8df03d792a52b5458959c320f86ca18</td>\n",
       "      <td>APPROVED</td>\n",
       "    </tr>\n",
       "    <tr>\n",
       "      <th>198</th>\n",
       "      <td>0x459efd5f53b4bb04b278925754fd427783831bc5</td>\n",
       "      <td>Web3Domains.com</td>\n",
       "      <td>100.000000</td>\n",
       "      <td>2.0</td>\n",
       "      <td>0xaa40e2e5c8df03d792a52b5458959c320f86ca18</td>\n",
       "      <td>APPROVED</td>\n",
       "    </tr>\n",
       "    <tr>\n",
       "      <th>197</th>\n",
       "      <td>0x55ae8f00b3f0497b5d4b0723bfd9566a2b27a45e</td>\n",
       "      <td>PlannerDAO On-Chain Certification Process</td>\n",
       "      <td>100.000000</td>\n",
       "      <td>2.0</td>\n",
       "      <td>0xaa40e2e5c8df03d792a52b5458959c320f86ca18</td>\n",
       "      <td>APPROVED</td>\n",
       "    </tr>\n",
       "    <tr>\n",
       "      <th>194</th>\n",
       "      <td>0x41d2a18e1ddacdabfddadb62e9aee67c63070b76</td>\n",
       "      <td>Learning Data Science on the Ethereum Blockcha...</td>\n",
       "      <td>100.000000</td>\n",
       "      <td>2.0</td>\n",
       "      <td>0xaa40e2e5c8df03d792a52b5458959c320f86ca18</td>\n",
       "      <td>APPROVED</td>\n",
       "    </tr>\n",
       "    <tr>\n",
       "      <th>193</th>\n",
       "      <td>0x87678f9229910d5462ee26df6f7b4cf41888638c</td>\n",
       "      <td>LifeShip | Decentralized space capsules</td>\n",
       "      <td>100.000000</td>\n",
       "      <td>2.0</td>\n",
       "      <td>0xaa40e2e5c8df03d792a52b5458959c320f86ca18</td>\n",
       "      <td>APPROVED</td>\n",
       "    </tr>\n",
       "    <tr>\n",
       "      <th>91</th>\n",
       "      <td>0xa1e9f3215590e27b18b48f1ebf785f031c22d272</td>\n",
       "      <td>MetaFest</td>\n",
       "      <td>100.000000</td>\n",
       "      <td>11.0</td>\n",
       "      <td>0xaa40e2e5c8df03d792a52b5458959c320f86ca18</td>\n",
       "      <td>APPROVED</td>\n",
       "    </tr>\n",
       "    <tr>\n",
       "      <th>62</th>\n",
       "      <td>0x5ead82e959d8218f6003526ab8d457972b679c41</td>\n",
       "      <td>Ethereum Costa Rica</td>\n",
       "      <td>92.857143</td>\n",
       "      <td>13.0</td>\n",
       "      <td>0xaa40e2e5c8df03d792a52b5458959c320f86ca18</td>\n",
       "      <td>APPROVED</td>\n",
       "    </tr>\n",
       "    <tr>\n",
       "      <th>0</th>\n",
       "      <td>0xc36e4889a820bd8089a8ad226ee9d0c703aed314</td>\n",
       "      <td>Crypto Babes Club</td>\n",
       "      <td>83.091787</td>\n",
       "      <td>172.0</td>\n",
       "      <td>0xaa40e2e5c8df03d792a52b5458959c320f86ca18</td>\n",
       "      <td>APPROVED</td>\n",
       "    </tr>\n",
       "    <tr>\n",
       "      <th>37</th>\n",
       "      <td>0x0eb2ab241210900aeac2fba054dd605355fe2490</td>\n",
       "      <td>Buidl Guidl</td>\n",
       "      <td>81.818182</td>\n",
       "      <td>18.0</td>\n",
       "      <td>0xaa40e2e5c8df03d792a52b5458959c320f86ca18</td>\n",
       "      <td>APPROVED</td>\n",
       "    </tr>\n",
       "    <tr>\n",
       "      <th>96</th>\n",
       "      <td>0x32b74b90407309f6637245292cd90347de658a37</td>\n",
       "      <td>Somer Esat Ethereum Staking Guides (Ubuntu)</td>\n",
       "      <td>80.000000</td>\n",
       "      <td>8.0</td>\n",
       "      <td>0xaa40e2e5c8df03d792a52b5458959c320f86ca18</td>\n",
       "      <td>APPROVED</td>\n",
       "    </tr>\n",
       "    <tr>\n",
       "      <th>114</th>\n",
       "      <td>0x9dcba70b2dfe5807e2a847e065ebb666791f8b8a</td>\n",
       "      <td>B&lt;&gt;rder/ess</td>\n",
       "      <td>75.000000</td>\n",
       "      <td>6.0</td>\n",
       "      <td>0xaa40e2e5c8df03d792a52b5458959c320f86ca18</td>\n",
       "      <td>APPROVED</td>\n",
       "    </tr>\n",
       "    <tr>\n",
       "      <th>50</th>\n",
       "      <td>0xac7bbf5768b2721bbd1a15348a3bee1543bff3ba</td>\n",
       "      <td>ETHBarcelona</td>\n",
       "      <td>72.222222</td>\n",
       "      <td>13.0</td>\n",
       "      <td>0xaa40e2e5c8df03d792a52b5458959c320f86ca18</td>\n",
       "      <td>APPROVED</td>\n",
       "    </tr>\n",
       "    <tr>\n",
       "      <th>25</th>\n",
       "      <td>0xda3dddae8119644f8be18c7afd16850b02a4c841</td>\n",
       "      <td>ETH Venezuela Community Projects</td>\n",
       "      <td>72.000000</td>\n",
       "      <td>18.0</td>\n",
       "      <td>0xaa40e2e5c8df03d792a52b5458959c320f86ca18</td>\n",
       "      <td>APPROVED</td>\n",
       "    </tr>\n",
       "    <tr>\n",
       "      <th>122</th>\n",
       "      <td>0xf0e57c78092ef49bbba945279e09939d2b6bb391</td>\n",
       "      <td>Asilo Digital</td>\n",
       "      <td>71.428571</td>\n",
       "      <td>5.0</td>\n",
       "      <td>0xaa40e2e5c8df03d792a52b5458959c320f86ca18</td>\n",
       "      <td>APPROVED</td>\n",
       "    </tr>\n",
       "    <tr>\n",
       "      <th>120</th>\n",
       "      <td>0x8efef51d19ef3844c00076ab9d02847b9c70f94a</td>\n",
       "      <td>Pentacle</td>\n",
       "      <td>71.428571</td>\n",
       "      <td>5.0</td>\n",
       "      <td>0xaa40e2e5c8df03d792a52b5458959c320f86ca18</td>\n",
       "      <td>APPROVED</td>\n",
       "    </tr>\n",
       "    <tr>\n",
       "      <th>61</th>\n",
       "      <td>0x622b253fddf6d8d4e0c145d7598d8c00fc7e710c</td>\n",
       "      <td>Bu Zhi DAO</td>\n",
       "      <td>71.428571</td>\n",
       "      <td>10.0</td>\n",
       "      <td>0xaa40e2e5c8df03d792a52b5458959c320f86ca18</td>\n",
       "      <td>APPROVED</td>\n",
       "    </tr>\n",
       "    <tr>\n",
       "      <th>98</th>\n",
       "      <td>0x73949c45af294b97d0cc93c0c0565aee6554dc4b</td>\n",
       "      <td>Ethereum Bolivia</td>\n",
       "      <td>70.000000</td>\n",
       "      <td>7.0</td>\n",
       "      <td>0xaa40e2e5c8df03d792a52b5458959c320f86ca18</td>\n",
       "      <td>APPROVED</td>\n",
       "    </tr>\n",
       "    <tr>\n",
       "      <th>74</th>\n",
       "      <td>0x47b074200508afd4818142cef8d137093bae179f</td>\n",
       "      <td>ETHChile: An emerging and growing community</td>\n",
       "      <td>69.230769</td>\n",
       "      <td>9.0</td>\n",
       "      <td>0xaa40e2e5c8df03d792a52b5458959c320f86ca18</td>\n",
       "      <td>APPROVED</td>\n",
       "    </tr>\n",
       "    <tr>\n",
       "      <th>188</th>\n",
       "      <td>0x281fc8583fbeb10ab6090783451f832c9e5d7b34</td>\n",
       "      <td>AA Chinese Community</td>\n",
       "      <td>66.666667</td>\n",
       "      <td>2.0</td>\n",
       "      <td>0xaa40e2e5c8df03d792a52b5458959c320f86ca18</td>\n",
       "      <td>APPROVED</td>\n",
       "    </tr>\n",
       "    <tr>\n",
       "      <th>111</th>\n",
       "      <td>0x09a24d78a828f6c651a3a073b4365771465dd57a</td>\n",
       "      <td>EthCartagena</td>\n",
       "      <td>66.666667</td>\n",
       "      <td>6.0</td>\n",
       "      <td>0xaa40e2e5c8df03d792a52b5458959c320f86ca18</td>\n",
       "      <td>APPROVED</td>\n",
       "    </tr>\n",
       "    <tr>\n",
       "      <th>109</th>\n",
       "      <td>0xa9ac44f20dd34b183062f83788c44b6b060a7e3d</td>\n",
       "      <td>Ethereum Dominicana</td>\n",
       "      <td>66.666667</td>\n",
       "      <td>6.0</td>\n",
       "      <td>0xaa40e2e5c8df03d792a52b5458959c320f86ca18</td>\n",
       "      <td>APPROVED</td>\n",
       "    </tr>\n",
       "  </tbody>\n",
       "</table>\n",
       "</div>"
      ],
      "text/plain": [
       "                                   grantAddress   \n",
       "207  0xd6a6b5bac1e2eac575b1b1bc066d9d6e384d7e50  \\\n",
       "183  0xac9844ec536b69e826ff643520a2d185d13c52ed   \n",
       "215  0x557a13655a955e50fa5b7f8128b9414d15ee399e   \n",
       "214  0xb5759de539114751ca6db8d967ad21913df25ecf   \n",
       "213  0xb11eacc17bd735854d9d89bee9efe1d6b7e0b9bf   \n",
       "212  0xe19102cab66efcfafe78fcea936322ac5215b7f6   \n",
       "211  0x2a58a4ad067ea8bd71fb7cb5b7b6db775d7c60a1   \n",
       "210  0xad851ef1ad2ccf8f87413e6c274bccbec37469d2   \n",
       "209  0xcfa8f21be8f6347703f7c9e45b3e3c08aaa5893e   \n",
       "202  0xe23e0cccc91b11b3fe2d3dd140e28b598e395289   \n",
       "198  0x459efd5f53b4bb04b278925754fd427783831bc5   \n",
       "197  0x55ae8f00b3f0497b5d4b0723bfd9566a2b27a45e   \n",
       "194  0x41d2a18e1ddacdabfddadb62e9aee67c63070b76   \n",
       "193  0x87678f9229910d5462ee26df6f7b4cf41888638c   \n",
       "91   0xa1e9f3215590e27b18b48f1ebf785f031c22d272   \n",
       "62   0x5ead82e959d8218f6003526ab8d457972b679c41   \n",
       "0    0xc36e4889a820bd8089a8ad226ee9d0c703aed314   \n",
       "37   0x0eb2ab241210900aeac2fba054dd605355fe2490   \n",
       "96   0x32b74b90407309f6637245292cd90347de658a37   \n",
       "114  0x9dcba70b2dfe5807e2a847e065ebb666791f8b8a   \n",
       "50   0xac7bbf5768b2721bbd1a15348a3bee1543bff3ba   \n",
       "25   0xda3dddae8119644f8be18c7afd16850b02a4c841   \n",
       "122  0xf0e57c78092ef49bbba945279e09939d2b6bb391   \n",
       "120  0x8efef51d19ef3844c00076ab9d02847b9c70f94a   \n",
       "61   0x622b253fddf6d8d4e0c145d7598d8c00fc7e710c   \n",
       "98   0x73949c45af294b97d0cc93c0c0565aee6554dc4b   \n",
       "74   0x47b074200508afd4818142cef8d137093bae179f   \n",
       "188  0x281fc8583fbeb10ab6090783451f832c9e5d7b34   \n",
       "111  0x09a24d78a828f6c651a3a073b4365771465dd57a   \n",
       "109  0xa9ac44f20dd34b183062f83788c44b6b060a7e3d   \n",
       "\n",
       "                    metadata.application.project.title   \n",
       "207                                        Dot.alert()  \\\n",
       "183                                 WGMI Community DAO   \n",
       "215                            American Crypto Academy   \n",
       "214                              Cryptoblarabi Academy   \n",
       "213         \"JPGs Against Humanity\" Documentary Series   \n",
       "212                                           ScrumDAO   \n",
       "211                                      Konma Upskill   \n",
       "210  DspytDAO - Fostering Innovation and Education ...   \n",
       "209    DuaCrypto: The Premier Ethereum YouTube Channel   \n",
       "202                                           Buidlers   \n",
       "198                                    Web3Domains.com   \n",
       "197          PlannerDAO On-Chain Certification Process   \n",
       "194  Learning Data Science on the Ethereum Blockcha...   \n",
       "193            LifeShip | Decentralized space capsules   \n",
       "91                                            MetaFest   \n",
       "62                                 Ethereum Costa Rica   \n",
       "0                                    Crypto Babes Club   \n",
       "37                                         Buidl Guidl   \n",
       "96         Somer Esat Ethereum Staking Guides (Ubuntu)   \n",
       "114                                        B<>rder/ess   \n",
       "50                                        ETHBarcelona   \n",
       "25                    ETH Venezuela Community Projects   \n",
       "122                                      Asilo Digital   \n",
       "120                                           Pentacle   \n",
       "61                                          Bu Zhi DAO   \n",
       "98                                    Ethereum Bolivia   \n",
       "74         ETHChile: An emerging and growing community   \n",
       "188                               AA Chinese Community   \n",
       "111                                       EthCartagena   \n",
       "109                                Ethereum Dominicana   \n",
       "\n",
       "     percentage_suspicious_vote  count_suspicious_vote   \n",
       "207                  150.000000                    3.0  \\\n",
       "183                  133.333333                    4.0   \n",
       "215                  100.000000                    1.0   \n",
       "214                  100.000000                    1.0   \n",
       "213                  100.000000                    1.0   \n",
       "212                  100.000000                    1.0   \n",
       "211                  100.000000                    1.0   \n",
       "210                  100.000000                    1.0   \n",
       "209                  100.000000                    1.0   \n",
       "202                  100.000000                    2.0   \n",
       "198                  100.000000                    2.0   \n",
       "197                  100.000000                    2.0   \n",
       "194                  100.000000                    2.0   \n",
       "193                  100.000000                    2.0   \n",
       "91                   100.000000                   11.0   \n",
       "62                    92.857143                   13.0   \n",
       "0                     83.091787                  172.0   \n",
       "37                    81.818182                   18.0   \n",
       "96                    80.000000                    8.0   \n",
       "114                   75.000000                    6.0   \n",
       "50                    72.222222                   13.0   \n",
       "25                    72.000000                   18.0   \n",
       "122                   71.428571                    5.0   \n",
       "120                   71.428571                    5.0   \n",
       "61                    71.428571                   10.0   \n",
       "98                    70.000000                    7.0   \n",
       "74                    69.230769                    9.0   \n",
       "188                   66.666667                    2.0   \n",
       "111                   66.666667                    6.0   \n",
       "109                   66.666667                    6.0   \n",
       "\n",
       "                                        roundId    status  \n",
       "207  0xaa40e2e5c8df03d792a52b5458959c320f86ca18  APPROVED  \n",
       "183  0xaa40e2e5c8df03d792a52b5458959c320f86ca18  APPROVED  \n",
       "215  0xaa40e2e5c8df03d792a52b5458959c320f86ca18  APPROVED  \n",
       "214  0xaa40e2e5c8df03d792a52b5458959c320f86ca18  APPROVED  \n",
       "213  0xaa40e2e5c8df03d792a52b5458959c320f86ca18  APPROVED  \n",
       "212  0xaa40e2e5c8df03d792a52b5458959c320f86ca18  APPROVED  \n",
       "211  0xaa40e2e5c8df03d792a52b5458959c320f86ca18  APPROVED  \n",
       "210  0xaa40e2e5c8df03d792a52b5458959c320f86ca18  APPROVED  \n",
       "209  0xaa40e2e5c8df03d792a52b5458959c320f86ca18  APPROVED  \n",
       "202  0xaa40e2e5c8df03d792a52b5458959c320f86ca18  APPROVED  \n",
       "198  0xaa40e2e5c8df03d792a52b5458959c320f86ca18  APPROVED  \n",
       "197  0xaa40e2e5c8df03d792a52b5458959c320f86ca18  APPROVED  \n",
       "194  0xaa40e2e5c8df03d792a52b5458959c320f86ca18  APPROVED  \n",
       "193  0xaa40e2e5c8df03d792a52b5458959c320f86ca18  APPROVED  \n",
       "91   0xaa40e2e5c8df03d792a52b5458959c320f86ca18  APPROVED  \n",
       "62   0xaa40e2e5c8df03d792a52b5458959c320f86ca18  APPROVED  \n",
       "0    0xaa40e2e5c8df03d792a52b5458959c320f86ca18  APPROVED  \n",
       "37   0xaa40e2e5c8df03d792a52b5458959c320f86ca18  APPROVED  \n",
       "96   0xaa40e2e5c8df03d792a52b5458959c320f86ca18  APPROVED  \n",
       "114  0xaa40e2e5c8df03d792a52b5458959c320f86ca18  APPROVED  \n",
       "50   0xaa40e2e5c8df03d792a52b5458959c320f86ca18  APPROVED  \n",
       "25   0xaa40e2e5c8df03d792a52b5458959c320f86ca18  APPROVED  \n",
       "122  0xaa40e2e5c8df03d792a52b5458959c320f86ca18  APPROVED  \n",
       "120  0xaa40e2e5c8df03d792a52b5458959c320f86ca18  APPROVED  \n",
       "61   0xaa40e2e5c8df03d792a52b5458959c320f86ca18  APPROVED  \n",
       "98   0xaa40e2e5c8df03d792a52b5458959c320f86ca18  APPROVED  \n",
       "74   0xaa40e2e5c8df03d792a52b5458959c320f86ca18  APPROVED  \n",
       "188  0xaa40e2e5c8df03d792a52b5458959c320f86ca18  APPROVED  \n",
       "111  0xaa40e2e5c8df03d792a52b5458959c320f86ca18  APPROVED  \n",
       "109  0xaa40e2e5c8df03d792a52b5458959c320f86ca18  APPROVED  "
      ]
     },
     "execution_count": 118,
     "metadata": {},
     "output_type": "execute_result"
    }
   ],
   "source": [
    "df_vote_grant_2['percentage_suspicious_vote'] = df_vote_grant_2['count_suspicious_vote'] / df_vote_grant_2['count_unique_vote'] * 100\n",
    "print(f'Number of suspicious votes {df_vote_sus_2.shape[0]} Number of projects voted: {df_vote_sus_2.grantAddress.nunique()}')\n",
    "# Merge the project the user voted for and the projects \n",
    "gr_sus_2 = df_vote_grant_2.merge(df_application, left_on='grantAddress', right_on='metadata.application.recipient', how='left').drop_duplicates(subset='grantAddress').loc[:, ['grantAddress', 'metadata.application.project.title', 'percentage_suspicious_vote', 'count_suspicious_vote', 'roundId', 'status']].reset_index(drop=True).sort_values(by='percentage_suspicious_vote', ascending=False)\n",
    "print(f'number of grants: {gr_sus.shape[0]}')\n",
    "gr_sus_2.head(30)"
   ]
  },
  {
   "cell_type": "code",
   "execution_count": 48,
   "metadata": {},
   "outputs": [],
   "source": [
    "boolean_to_keep = ['seed_suspicious', 'has_interaction_toxic', 'has_no_pool_interaction', 'has_interaction_tornado', 'has_interaction_disperse', 'is_airdrop_master', 'has_interaction_airdrop_m', 'interacted_other_ctbt', 'interact_less_5tx', 'flagged']"
   ]
  },
  {
   "cell_type": "code",
   "execution_count": 49,
   "metadata": {},
   "outputs": [
    {
     "data": {
      "text/plain": [
       "seed_suspicious               26\n",
       "has_interaction_toxic         31\n",
       "has_no_pool_interaction      803\n",
       "has_interaction_tornado       43\n",
       "has_interaction_disperse      26\n",
       "is_airdrop_master            136\n",
       "has_interaction_airdrop_m    270\n",
       "interacted_other_ctbt        165\n",
       "interact_less_5tx              0\n",
       "flagged                      326\n",
       "dtype: int64"
      ]
     },
     "execution_count": 49,
     "metadata": {},
     "output_type": "execute_result"
    }
   ],
   "source": [
    "df_matching_address[boolean_to_keep].sum()"
   ]
  },
  {
   "cell_type": "code",
   "execution_count": 50,
   "metadata": {},
   "outputs": [
    {
     "name": "stdout",
     "output_type": "stream",
     "text": [
      "number of squelched votes out of 4307\n"
     ]
    },
    {
     "data": {
      "text/plain": [
       "coefficient    350\n",
       "dtype: int64"
      ]
     },
     "execution_count": 50,
     "metadata": {},
     "output_type": "execute_result"
    }
   ],
   "source": [
    "final_merge = df_votes.merge(df_matching_address, left_on='voter', right_on='address', how='left')\n",
    "print(f'number of squelched votes out of {final_merge.shape[0]}')\n",
    "final_merge.shape[0] - final_merge[['coefficient']].sum() "
   ]
  },
  {
   "cell_type": "code",
   "execution_count": 51,
   "metadata": {},
   "outputs": [
    {
     "name": "stdout",
     "output_type": "stream",
     "text": [
      "(4307, 16)\n",
      "(4307, 41)\n"
     ]
    }
   ],
   "source": [
    "print(df_votes.shape)\n",
    "print(final_merge.shape)"
   ]
  },
  {
   "cell_type": "code",
   "execution_count": 52,
   "metadata": {},
   "outputs": [
    {
     "name": "stderr",
     "output_type": "stream",
     "text": [
      "C:\\Users\\DELL Admin\\AppData\\Local\\Temp\\ipykernel_27252\\2681738413.py:7: DtypeWarning: Columns (15,16) have mixed types. Specify dtype option on import or set low_memory=False.\n",
      "  df_votes_stephi = pd.read_csv(os.path.join(DATA_DIR_STEFI, CSV_STEPHI))\n"
     ]
    },
    {
     "name": "stdout",
     "output_type": "stream",
     "text": [
      "(81811, 19) votes stephi\n",
      "(4307, 41) final merge\n",
      "(4307, 43) votes merge\n"
     ]
    },
    {
     "data": {
      "image/png": "[encoded data removed]",
      "text/plain": [
       "<Figure size 640x480 with 2 Axes>"
      ]
     },
     "metadata": {},
     "output_type": "display_data"
    }
   ],
   "source": [
    "# Adding Stakeriddo and Gray flagged wallet\n",
    "\n",
    "DATA_DIR_STEFI = os.path.join(current_dir.parent.parent, 'stefi')\n",
    "CSV_STEPHI = 'sso_odc_analysis.csv'\n",
    "\n",
    "# load data\n",
    "df_votes_stephi = pd.read_csv(os.path.join(DATA_DIR_STEFI, CSV_STEPHI))\n",
    "print(f'{df_votes_stephi.shape} votes stephi')\n",
    "print(f'{final_merge.shape} final merge')\n",
    "df_stephi_bool_voter = df_votes_stephi[['voter', 'stakeridoo_detected', 'doge_detected']]\n",
    "df_merge = final_merge.merge(df_stephi_bool_voter.drop_duplicates(subset=['voter']), left_on='voter', right_on='voter', how='left')\n",
    "print(f'{df_merge.shape} votes merge')\n",
    "\n",
    "df_merge['bool_gitcoin_detected'] = np.logical_not(df_merge.success.astype(bool))\n",
    "df_merge['stakeridoo_detected'].fillna(False, inplace=True)\n",
    "df_merge['doge_detected'].fillna(False, inplace=True)\n",
    "df_merge['odc_detected'] = np.logical_or(np.logical_or(df_merge['stakeridoo_detected'], df_merge['doge_detected']), df_merge['flagged'])\n",
    "\n",
    "boolean_jaccard = boolean_to_keep + ['stakeridoo_detected', 'doge_detected', 'bool_gitcoin_detected', 'odc_detected']\n",
    "jaccard_similarity_2 = jaccard_similarity_matrix(df_merge[boolean_jaccard])\n",
    "sns.heatmap(jaccard_similarity_2)\n",
    "\n",
    "df_merge['proposed_coeff'] = np.logical_not(np.logical_or(df_merge['odc_detected'], df_merge['bool_gitcoin_detected']))\n",
    "\n",
    "df_merge.drop(columns=['bool_gitcoin_detected', 'address']).to_csv(f'../output_gitcoin/n_{CSV_GITCOIN_GRANTS}', index=False)"
   ]
  },
  {
   "cell_type": "code",
   "execution_count": 53,
   "metadata": {},
   "outputs": [
    {
     "data": {
      "text/plain": [
       "seed_suspicious                87\n",
       "has_interaction_toxic         135\n",
       "has_no_pool_interaction      3190\n",
       "has_interaction_tornado       245\n",
       "has_interaction_disperse      148\n",
       "is_airdrop_master             530\n",
       "has_interaction_airdrop_m    1076\n",
       "interacted_other_ctbt         539\n",
       "interact_less_5tx               0\n",
       "flagged                      1283\n",
       "stakeridoo_detected            64\n",
       "doge_detected                   7\n",
       "bool_gitcoin_detected          85\n",
       "odc_detected                 1340\n",
       "dtype: int64"
      ]
     },
     "execution_count": 53,
     "metadata": {},
     "output_type": "execute_result"
    }
   ],
   "source": [
    "df_merge[boolean_jaccard].sum(axis=0)"
   ]
  }
 ],
 "metadata": {
  "kernelspec": {
   "display_name": "venvotes",
   "language": "python",
   "name": "python3"
  },
  "language_info": {
   "codemirror_mode": {
    "name": "ipython",
    "version": 3
   },
   "file_extension": ".py",
   "mimetype": "text/x-python",
   "name": "python",
   "nbconvert_exporter": "python",
   "pygments_lexer": "ipython3",
   "version": "3.10.9"
  },
  "orig_nbformat": 4
 },
 "nbformat": 4,
 "nbformat_minor": 2
}
