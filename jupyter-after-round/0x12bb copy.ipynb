{
 "cells": [
  {
   "attachments": {},
   "cell_type": "markdown",
   "metadata": {},
   "source": [
    "# vote_coefficients_0xAA40E2E5c8df03d792A52B5458959C320F86ca18_1\n"
   ]
  },
  {
   "cell_type": "code",
   "execution_count": 1,
   "metadata": {},
   "outputs": [
    {
     "name": "stderr",
     "output_type": "stream",
     "text": [
      "C:\\Users\\DELL Admin\\AppData\\Local\\Temp\\ipykernel_9816\\1947096817.py:26: DtypeWarning: Columns (7) have mixed types. Specify dtype option on import or set low_memory=False.\n",
      "  df_votes = pd.read_csv(PATH_TO_VOTES_GITCOIN)\n"
     ]
    }
   ],
   "source": [
    "import os\n",
    "from pathlib import Path\n",
    "import numpy as np\n",
    "\n",
    "import pandas as pd\n",
    "\n",
    "from sbdata.FlipsideApi import FlipsideApi\n",
    "\n",
    "# Set path to data folder\n",
    "current_dir = Path(os.getcwd())\n",
    "PATH_TO_EXPORT = os.path.join(current_dir.parent.parent, 'tx_data', 'all_beta_rounds')\n",
    "DATA_DIR = os.path.join(current_dir.parent.parent, 'data-regen-rangers')\n",
    "DATA_DIR_GITCOIN = os.path.join(current_dir.parent.parent, 'data-gitcoin')\n",
    "CSV_GITCOIN_GRANTS = 'vote_coefficients_0x12BB5bBbFE596dbc489d209299B8302c3300fa40_4.csv'\n",
    "\n",
    "# read the address from oss grant\n",
    "\n",
    "api_key = os.environ['FLIPSIDE_API_KEY']\n",
    "flipside_api = FlipsideApi(api_key, max_address=400)\n",
    "PATH_TO_VOTES = os.path.join(DATA_DIR, \"votes_baoki.csv\")\n",
    "PATH_TO_GRANTS = os.path.join(DATA_DIR, \"all-allo-rounds.csv\")\n",
    "PATH_TO_PROJECTS = os.path.join(DATA_DIR, \"projects_QmQurt.csv\")\n",
    "PATH_TO_VOTES_GITCOIN = os.path.join(DATA_DIR_GITCOIN, CSV_GITCOIN_GRANTS)\n",
    "\n",
    "# load data\n",
    "df_votes = pd.read_csv(PATH_TO_VOTES_GITCOIN)\n",
    "df_grants = pd.read_csv(PATH_TO_GRANTS)\n",
    "df_application = pd.read_csv(PATH_TO_PROJECTS)\n",
    "# Lowercase all addresses because flipside api return lowercase address\n",
    "#id,projectId,applicationId,roundId,token,voter,grantAddress,amount,amountUSD,coefficient,status,last_score_timestamp,type,success,rawScore,threshold\n",
    "df_grants['Round ID'] = df_grants['Round ID'].str.lower()\n",
    "str_columns_votes = ['id', 'projectId', 'roundId', 'voter', 'grantAddress']\n",
    "df_votes[str_columns_votes] = df_votes[str_columns_votes].applymap(lambda x: x.lower())\n",
    "\n",
    "str_columns_application = ['id', 'roundId', 'metadata.application.round', 'metadata.application.recipient']\n",
    "df_application[str_columns_application] = df_application[str_columns_application].applymap(lambda x: str(x).lower())\n",
    "\n",
    "# round_id = df_grants[df_grants['Round name'] == 'Web3 Community and Education']['Round ID'].values[0]\n",
    "array_unique_address = df_votes['voter'].unique()\n",
    "\n",
    "array_unique_address = np.char.lower(array_unique_address.astype(str))\n"
   ]
  },
  {
   "cell_type": "code",
   "execution_count": 2,
   "metadata": {},
   "outputs": [],
   "source": [
    "from sbutils import LoadData\n",
    "\n",
    "# Load data\n",
    "data_loader = LoadData.LoadData(PATH_TO_EXPORT)\n",
    "df_tx = data_loader.create_df_tx('ethereum', array_unique_address)"
   ]
  },
  {
   "cell_type": "code",
   "execution_count": 3,
   "metadata": {},
   "outputs": [
    {
     "data": {
      "text/plain": [
       "14554"
      ]
     },
     "execution_count": 3,
     "metadata": {},
     "output_type": "execute_result"
    }
   ],
   "source": [
    "len(array_unique_address)"
   ]
  },
  {
   "cell_type": "code",
   "execution_count": 4,
   "metadata": {},
   "outputs": [
    {
     "data": {
      "text/plain": [
       "14554"
      ]
     },
     "execution_count": 4,
     "metadata": {},
     "output_type": "execute_result"
    }
   ],
   "source": [
    "df_tx.EOA.nunique()"
   ]
  },
  {
   "cell_type": "code",
   "execution_count": 5,
   "metadata": {},
   "outputs": [
    {
     "data": {
      "text/plain": [
       "array([], dtype=object)"
      ]
     },
     "execution_count": 5,
     "metadata": {},
     "output_type": "execute_result"
    }
   ],
   "source": [
    "c = np.setxor1d(array_unique_address, df_tx.EOA.values)\n",
    "c"
   ]
  },
  {
   "attachments": {},
   "cell_type": "markdown",
   "metadata": {},
   "source": [
    "## Computing legos booleans"
   ]
  },
  {
   "cell_type": "code",
   "execution_count": 6,
   "metadata": {},
   "outputs": [],
   "source": [
    "from sblegos.TransactionAnalyser import TransactionAnalyser as txa\n",
    "tx_analyser = txa(df_tx, df_address=pd.DataFrame(np.intersect1d(df_tx.EOA.unique(), array_unique_address), columns=['address']))"
   ]
  },
  {
   "attachments": {},
   "cell_type": "markdown",
   "metadata": {},
   "source": [
    "use matching address because some addresses are not in the extracted data set"
   ]
  },
  {
   "cell_type": "code",
   "execution_count": 7,
   "metadata": {},
   "outputs": [
    {
     "data": {
      "text/html": [
       "<div>\n",
       "<style scoped>\n",
       "    .dataframe tbody tr th:only-of-type {\n",
       "        vertical-align: middle;\n",
       "    }\n",
       "\n",
       "    .dataframe tbody tr th {\n",
       "        vertical-align: top;\n",
       "    }\n",
       "\n",
       "    .dataframe thead th {\n",
       "        text-align: right;\n",
       "    }\n",
       "</style>\n",
       "<table border=\"1\" class=\"dataframe\">\n",
       "  <thead>\n",
       "    <tr style=\"text-align: right;\">\n",
       "      <th></th>\n",
       "      <th>address</th>\n",
       "    </tr>\n",
       "  </thead>\n",
       "  <tbody>\n",
       "    <tr>\n",
       "      <th>0</th>\n",
       "      <td>0x00000000037a08ce8c4917a5c58f40c85367df0c</td>\n",
       "    </tr>\n",
       "    <tr>\n",
       "      <th>1</th>\n",
       "      <td>0x00000001985c6a08963eef53821c78aa84318b42</td>\n",
       "    </tr>\n",
       "  </tbody>\n",
       "</table>\n",
       "</div>"
      ],
      "text/plain": [
       "                                      address\n",
       "0  0x00000000037a08ce8c4917a5c58f40c85367df0c\n",
       "1  0x00000001985c6a08963eef53821c78aa84318b42"
      ]
     },
     "execution_count": 7,
     "metadata": {},
     "output_type": "execute_result"
    }
   ],
   "source": [
    "df_matching_address = pd.DataFrame(df_tx.EOA.unique(), columns=[\"address\"])\n",
    "df_matching_address.head(2)"
   ]
  },
  {
   "attachments": {},
   "cell_type": "markdown",
   "metadata": {},
   "source": [
    "Compute the boolean "
   ]
  },
  {
   "attachments": {},
   "cell_type": "markdown",
   "metadata": {},
   "source": [
    "less than 10 x transaction are not performant legos so we don't use it, has same seed is computed as an intermediarry to get the seed_suspicious flag"
   ]
  },
  {
   "cell_type": "code",
   "execution_count": 8,
   "metadata": {},
   "outputs": [],
   "source": [
    "df_matching_address['seed_same_naive'] = df_matching_address.loc[:, 'address'].apply(lambda x : tx_analyser.has_same_seed_naive(x))\n",
    "df_matching_address['seed_same'] = df_matching_address.loc[:, 'address'].apply(lambda x : tx_analyser.has_same_seed(x))\n",
    "df_matching_address['seed_suspicious'] = df_matching_address.loc[:, 'seed_same_naive'].ne(df_matching_address.loc[:, 'seed_same'])\n",
    "df_matching_address['less_5_tx'] = df_matching_address.loc[:, 'address'].apply(lambda x : tx_analyser.has_less_than_n_transactions(x, 5))\n",
    "df_matching_address['less_10_tx'] = df_matching_address.loc[:, 'address'].apply(lambda x : tx_analyser.has_less_than_n_transactions(x, 10))\n",
    "df_matching_address['interacted_other_ctbt'] = df_matching_address.loc[:, 'address'].apply(lambda x : tx_analyser.has_interacted_with_other_contributor(x))"
   ]
  },
  {
   "cell_type": "code",
   "execution_count": 9,
   "metadata": {},
   "outputs": [],
   "source": [
    "df_matching_address['lcs'] = 0\n",
    "df_matching_address[df_matching_address['less_10_tx'] == True].shape\n",
    "r = df_matching_address.loc[df_matching_address['less_10_tx'] == True, 'address'].apply(lambda x: tx_analyser.transaction_similitude_pylcs(x, minimum_sim_tx=3))"
   ]
  },
  {
   "cell_type": "code",
   "execution_count": 10,
   "metadata": {},
   "outputs": [
    {
     "name": "stdout",
     "output_type": "stream",
     "text": [
      "425\n"
     ]
    }
   ],
   "source": [
    "def lcs_to_array(lcs):\n",
    "    if lcs.shape[0] == 0:\n",
    "        return []\n",
    "    else:\n",
    "        return np.asarray(lcs.reset_index())\n",
    "\n",
    "def get_mean_score_lcs(lcs):\n",
    "    if lcs.shape[0] == 0:\n",
    "        return 0\n",
    "    else:\n",
    "        return lcs.reset_index()['score'].mean()\n",
    "    \n",
    "def get_max_score_lcs(lcs):\n",
    "    if lcs.shape[0] == 0:\n",
    "        return 0\n",
    "    else:\n",
    "        return lcs.reset_index()['score'].max()\n",
    "    \n",
    "df_matching_address['cluster_size_lcs'] = 0\n",
    "df_matching_address['mean_score_lcs'] = 0\n",
    "df_matching_address['max_score_lcs'] = 0\n",
    "\n",
    "df_matching_address.loc[df_matching_address['less_10_tx'] == True, 'cluster_size_lcs'] = r.apply(lambda x: len(x))\n",
    "df_matching_address.loc[df_matching_address['less_10_tx'] == True, 'mean_score_lcs'] = r.apply(lambda x: get_mean_score_lcs(x))\n",
    "df_matching_address.loc[df_matching_address['less_10_tx'] == True, 'max_score_lcs'] = r.apply(lambda x: get_max_score_lcs(x))\n",
    "\n",
    "df_matching_address['has_lcs'] = df_matching_address['cluster_size_lcs'] > 0\n",
    "\n",
    "print((df_matching_address[df_matching_address['less_10_tx'] == True]['cluster_size_lcs'] > 0).sum())"
   ]
  },
  {
   "cell_type": "code",
   "execution_count": 11,
   "metadata": {},
   "outputs": [
    {
     "name": "stdout",
     "output_type": "stream",
     "text": [
      "Number of voters: 14554\n"
     ]
    }
   ],
   "source": [
    "print(f'Number of voters: {len(df_matching_address)}')"
   ]
  },
  {
   "cell_type": "code",
   "execution_count": 12,
   "metadata": {},
   "outputs": [
    {
     "data": {
      "text/plain": [
       "address                  0x00000000037a08ce8c4917a5c58f40c85367df0c0x00...\n",
       "seed_same_naive                                                      10325\n",
       "seed_same                                                            10758\n",
       "seed_suspicious                                                        489\n",
       "less_5_tx                                                              229\n",
       "less_10_tx                                                             917\n",
       "interacted_other_ctbt                                                 3994\n",
       "lcs                                                                      0\n",
       "cluster_size_lcs                                                      2969\n",
       "mean_score_lcs                                                   53.201528\n",
       "max_score_lcs                                                    56.699527\n",
       "has_lcs                                                                425\n",
       "dtype: object"
      ]
     },
     "execution_count": 12,
     "metadata": {},
     "output_type": "execute_result"
    }
   ],
   "source": [
    "df_matching_address.sum()"
   ]
  },
  {
   "attachments": {},
   "cell_type": "markdown",
   "metadata": {},
   "source": [
    "### Investigating the boolean seed suspicious"
   ]
  },
  {
   "cell_type": "code",
   "execution_count": 13,
   "metadata": {},
   "outputs": [
    {
     "data": {
      "text/html": [
       "<div>\n",
       "<style scoped>\n",
       "    .dataframe tbody tr th:only-of-type {\n",
       "        vertical-align: middle;\n",
       "    }\n",
       "\n",
       "    .dataframe tbody tr th {\n",
       "        vertical-align: top;\n",
       "    }\n",
       "\n",
       "    .dataframe thead th {\n",
       "        text-align: right;\n",
       "    }\n",
       "</style>\n",
       "<table border=\"1\" class=\"dataframe\">\n",
       "  <thead>\n",
       "    <tr style=\"text-align: right;\">\n",
       "      <th></th>\n",
       "      <th>address</th>\n",
       "      <th>seed_same_naive</th>\n",
       "      <th>seed_same</th>\n",
       "      <th>seed_suspicious</th>\n",
       "      <th>less_5_tx</th>\n",
       "      <th>less_10_tx</th>\n",
       "      <th>interacted_other_ctbt</th>\n",
       "      <th>lcs</th>\n",
       "      <th>cluster_size_lcs</th>\n",
       "      <th>mean_score_lcs</th>\n",
       "      <th>max_score_lcs</th>\n",
       "      <th>has_lcs</th>\n",
       "    </tr>\n",
       "  </thead>\n",
       "  <tbody>\n",
       "    <tr>\n",
       "      <th>42</th>\n",
       "      <td>0x006970fd32059734e586a323b13fc1ce625f296b</td>\n",
       "      <td>False</td>\n",
       "      <td>True</td>\n",
       "      <td>True</td>\n",
       "      <td>False</td>\n",
       "      <td>False</td>\n",
       "      <td>False</td>\n",
       "      <td>0</td>\n",
       "      <td>0</td>\n",
       "      <td>0.000000</td>\n",
       "      <td>0.000000</td>\n",
       "      <td>False</td>\n",
       "    </tr>\n",
       "    <tr>\n",
       "      <th>43</th>\n",
       "      <td>0x006ad7df1dfad4af7d182b9598a294d7c601488b</td>\n",
       "      <td>False</td>\n",
       "      <td>True</td>\n",
       "      <td>True</td>\n",
       "      <td>False</td>\n",
       "      <td>False</td>\n",
       "      <td>False</td>\n",
       "      <td>0</td>\n",
       "      <td>0</td>\n",
       "      <td>0.000000</td>\n",
       "      <td>0.000000</td>\n",
       "      <td>False</td>\n",
       "    </tr>\n",
       "    <tr>\n",
       "      <th>60</th>\n",
       "      <td>0x00bb8b005d090b6a59aa5c9550f3f9629edb18bf</td>\n",
       "      <td>False</td>\n",
       "      <td>True</td>\n",
       "      <td>True</td>\n",
       "      <td>False</td>\n",
       "      <td>False</td>\n",
       "      <td>False</td>\n",
       "      <td>0</td>\n",
       "      <td>0</td>\n",
       "      <td>0.000000</td>\n",
       "      <td>0.000000</td>\n",
       "      <td>False</td>\n",
       "    </tr>\n",
       "    <tr>\n",
       "      <th>61</th>\n",
       "      <td>0x00bf528c0e7ce508e6c20642fdae6b8728e4122b</td>\n",
       "      <td>False</td>\n",
       "      <td>True</td>\n",
       "      <td>True</td>\n",
       "      <td>False</td>\n",
       "      <td>False</td>\n",
       "      <td>True</td>\n",
       "      <td>0</td>\n",
       "      <td>0</td>\n",
       "      <td>0.000000</td>\n",
       "      <td>0.000000</td>\n",
       "      <td>False</td>\n",
       "    </tr>\n",
       "    <tr>\n",
       "      <th>97</th>\n",
       "      <td>0x0150c608a25176c08d9bc8b43d0dc64e4c9f4a58</td>\n",
       "      <td>False</td>\n",
       "      <td>True</td>\n",
       "      <td>True</td>\n",
       "      <td>False</td>\n",
       "      <td>False</td>\n",
       "      <td>False</td>\n",
       "      <td>0</td>\n",
       "      <td>0</td>\n",
       "      <td>0.000000</td>\n",
       "      <td>0.000000</td>\n",
       "      <td>False</td>\n",
       "    </tr>\n",
       "    <tr>\n",
       "      <th>...</th>\n",
       "      <td>...</td>\n",
       "      <td>...</td>\n",
       "      <td>...</td>\n",
       "      <td>...</td>\n",
       "      <td>...</td>\n",
       "      <td>...</td>\n",
       "      <td>...</td>\n",
       "      <td>...</td>\n",
       "      <td>...</td>\n",
       "      <td>...</td>\n",
       "      <td>...</td>\n",
       "      <td>...</td>\n",
       "    </tr>\n",
       "    <tr>\n",
       "      <th>14488</th>\n",
       "      <td>0xfeeda41a603ea7da0b8638ac885be0b2399b4b29</td>\n",
       "      <td>False</td>\n",
       "      <td>True</td>\n",
       "      <td>True</td>\n",
       "      <td>False</td>\n",
       "      <td>False</td>\n",
       "      <td>False</td>\n",
       "      <td>0</td>\n",
       "      <td>0</td>\n",
       "      <td>0.000000</td>\n",
       "      <td>0.000000</td>\n",
       "      <td>False</td>\n",
       "    </tr>\n",
       "    <tr>\n",
       "      <th>14495</th>\n",
       "      <td>0xff17b13fde1b3738b473d24ca640379f8e163738</td>\n",
       "      <td>False</td>\n",
       "      <td>True</td>\n",
       "      <td>True</td>\n",
       "      <td>False</td>\n",
       "      <td>False</td>\n",
       "      <td>False</td>\n",
       "      <td>0</td>\n",
       "      <td>0</td>\n",
       "      <td>0.000000</td>\n",
       "      <td>0.000000</td>\n",
       "      <td>False</td>\n",
       "    </tr>\n",
       "    <tr>\n",
       "      <th>14525</th>\n",
       "      <td>0xff938bd81c2671c28caf920d8015bad9fb816d59</td>\n",
       "      <td>False</td>\n",
       "      <td>True</td>\n",
       "      <td>True</td>\n",
       "      <td>False</td>\n",
       "      <td>False</td>\n",
       "      <td>True</td>\n",
       "      <td>0</td>\n",
       "      <td>0</td>\n",
       "      <td>0.000000</td>\n",
       "      <td>0.000000</td>\n",
       "      <td>False</td>\n",
       "    </tr>\n",
       "    <tr>\n",
       "      <th>14531</th>\n",
       "      <td>0xffa95c8ea548c484e0c40d5e985237db070d6211</td>\n",
       "      <td>False</td>\n",
       "      <td>True</td>\n",
       "      <td>True</td>\n",
       "      <td>False</td>\n",
       "      <td>False</td>\n",
       "      <td>False</td>\n",
       "      <td>0</td>\n",
       "      <td>0</td>\n",
       "      <td>0.000000</td>\n",
       "      <td>0.000000</td>\n",
       "      <td>False</td>\n",
       "    </tr>\n",
       "    <tr>\n",
       "      <th>14545</th>\n",
       "      <td>0xffd066a3438e2c61e456cfc5841c9179c9c0f599</td>\n",
       "      <td>False</td>\n",
       "      <td>True</td>\n",
       "      <td>True</td>\n",
       "      <td>False</td>\n",
       "      <td>True</td>\n",
       "      <td>False</td>\n",
       "      <td>0</td>\n",
       "      <td>1</td>\n",
       "      <td>0.114286</td>\n",
       "      <td>0.114286</td>\n",
       "      <td>True</td>\n",
       "    </tr>\n",
       "  </tbody>\n",
       "</table>\n",
       "<p>489 rows × 12 columns</p>\n",
       "</div>"
      ],
      "text/plain": [
       "                                          address  seed_same_naive  seed_same   \n",
       "42     0x006970fd32059734e586a323b13fc1ce625f296b            False       True  \\\n",
       "43     0x006ad7df1dfad4af7d182b9598a294d7c601488b            False       True   \n",
       "60     0x00bb8b005d090b6a59aa5c9550f3f9629edb18bf            False       True   \n",
       "61     0x00bf528c0e7ce508e6c20642fdae6b8728e4122b            False       True   \n",
       "97     0x0150c608a25176c08d9bc8b43d0dc64e4c9f4a58            False       True   \n",
       "...                                           ...              ...        ...   \n",
       "14488  0xfeeda41a603ea7da0b8638ac885be0b2399b4b29            False       True   \n",
       "14495  0xff17b13fde1b3738b473d24ca640379f8e163738            False       True   \n",
       "14525  0xff938bd81c2671c28caf920d8015bad9fb816d59            False       True   \n",
       "14531  0xffa95c8ea548c484e0c40d5e985237db070d6211            False       True   \n",
       "14545  0xffd066a3438e2c61e456cfc5841c9179c9c0f599            False       True   \n",
       "\n",
       "       seed_suspicious  less_5_tx  less_10_tx  interacted_other_ctbt  lcs   \n",
       "42                True      False       False                  False    0  \\\n",
       "43                True      False       False                  False    0   \n",
       "60                True      False       False                  False    0   \n",
       "61                True      False       False                   True    0   \n",
       "97                True      False       False                  False    0   \n",
       "...                ...        ...         ...                    ...  ...   \n",
       "14488             True      False       False                  False    0   \n",
       "14495             True      False       False                  False    0   \n",
       "14525             True      False       False                   True    0   \n",
       "14531             True      False       False                  False    0   \n",
       "14545             True      False        True                  False    0   \n",
       "\n",
       "       cluster_size_lcs  mean_score_lcs  max_score_lcs  has_lcs  \n",
       "42                    0        0.000000       0.000000    False  \n",
       "43                    0        0.000000       0.000000    False  \n",
       "60                    0        0.000000       0.000000    False  \n",
       "61                    0        0.000000       0.000000    False  \n",
       "97                    0        0.000000       0.000000    False  \n",
       "...                 ...             ...            ...      ...  \n",
       "14488                 0        0.000000       0.000000    False  \n",
       "14495                 0        0.000000       0.000000    False  \n",
       "14525                 0        0.000000       0.000000    False  \n",
       "14531                 0        0.000000       0.000000    False  \n",
       "14545                 1        0.114286       0.114286     True  \n",
       "\n",
       "[489 rows x 12 columns]"
      ]
     },
     "execution_count": 13,
     "metadata": {},
     "output_type": "execute_result"
    }
   ],
   "source": [
    "df_matching_address[df_matching_address['seed_suspicious'] == True]"
   ]
  },
  {
   "attachments": {},
   "cell_type": "markdown",
   "metadata": {},
   "source": [
    "Some of the projects he donated to are in the list of Rejected projects showing that this address is indeed a sybil. And may have contributed to ohter fraudulent projects."
   ]
  },
  {
   "attachments": {},
   "cell_type": "markdown",
   "metadata": {},
   "source": [
    "- Pulsar is not very active and is forked code for the most part\n",
    "- Fusion not very active on github but has a lot of activity on twitter \n",
    "- Share suspicious Github with no activity, twitter does not exists: suspicious\n",
    "\n",
    "Other projects are ok"
   ]
  },
  {
   "attachments": {},
   "cell_type": "markdown",
   "metadata": {},
   "source": [
    "The boolean seed suspicious is not relevant for that round we will not use it for the analysis."
   ]
  },
  {
   "attachments": {},
   "cell_type": "markdown",
   "metadata": {},
   "source": [
    "### Computing the new dex interaction score\n",
    "It was investigated in another notebook "
   ]
  },
  {
   "cell_type": "code",
   "execution_count": 14,
   "metadata": {},
   "outputs": [],
   "source": [
    "def get_interacted_address(from_address, to_address, address):\n",
    "    if from_address == address:\n",
    "        return to_address\n",
    "    else:\n",
    "        return from_address\n",
    "\n",
    "def count_interaction_with_any(tx_analyser, address, array_address):\n",
    "    \"\"\"\n",
    "    Return an integer of the number of interactions with the addresses in the array_address\n",
    "    Parameters\n",
    "    ----------\n",
    "    address : str\n",
    "        The address to check\n",
    "\n",
    "    Returns\n",
    "    -------\n",
    "    count_interaction_with_any : int\n",
    "        The number of interactions with the addresses in the array_address\n",
    "    \"\"\"\n",
    "    tx_analyser.set_group_by_sorted_EOA()\n",
    "\n",
    "    df = tx_analyser.gb_EOA_sorted.get_group(address)\n",
    "    address_interacted = df.apply(lambda x: get_interacted_address(x['from_address'], x['to_address'], address), axis=1)\n",
    "    tx_boolean_interacted = address_interacted.isin(array_address)\n",
    "    return tx_boolean_interacted.sum()\n",
    "\n",
    "def has_interacted_with_any(tx_analyser, address, array_address):\n",
    "    \"\"\"\n",
    "    Return a boolean whether the address has interacted with any address in the array_address\n",
    "    Parameters\n",
    "    ----------\n",
    "    address : str\n",
    "        The address to check\n",
    "\n",
    "    Returns\n",
    "    -------\n",
    "    has_interacted_with_any : bool\n",
    "        True if the address has interacted with one or more of the addresses in the array_address\n",
    "    \"\"\"\n",
    "    count_interaction_with_any = count_interaction_with_any(tx_analyser, address, array_address)\n",
    "    return count_interaction_with_any > 0"
   ]
  },
  {
   "cell_type": "code",
   "execution_count": 18,
   "metadata": {},
   "outputs": [],
   "source": [
    "label_query = '''\n",
    "SELECT ADDRESS, CREATOR, LABEL_TYPE, ADDRESS_NAME, PROJECT_NAME\n",
    "FROM crosschain.core.address_labels \n",
    "WHERE BLOCKCHAIN='ethereum'\n",
    "AND LABEL_SUBTYPE = 'pool' \n",
    ";'''\n",
    "df_label = flipside_api.execute_query(label_query)"
   ]
  },
  {
   "cell_type": "code",
   "execution_count": 19,
   "metadata": {},
   "outputs": [],
   "source": [
    "# extract all the pool addresses\n",
    "array_pool_address = df_label['address'].unique()"
   ]
  },
  {
   "cell_type": "code",
   "execution_count": 20,
   "metadata": {},
   "outputs": [],
   "source": [
    "tx_analyser.set_group_by_sorted_EOA()"
   ]
  },
  {
   "cell_type": "code",
   "execution_count": 21,
   "metadata": {},
   "outputs": [],
   "source": [
    "# Compute the number of interactions with any of the pools for each address\n",
    "df_matching_address['count_interaction_with_pool'] = df_matching_address['address'].apply(lambda x: count_interaction_with_any(tx_analyser, x, array_pool_address))"
   ]
  },
  {
   "cell_type": "code",
   "execution_count": 22,
   "metadata": {},
   "outputs": [
    {
     "data": {
      "text/plain": [
       "0.35103751545966744"
      ]
     },
     "execution_count": 22,
     "metadata": {},
     "output_type": "execute_result"
    }
   ],
   "source": [
    "(df_matching_address['count_interaction_with_pool'] > 0).sum() / len(df_matching_address)"
   ]
  },
  {
   "attachments": {},
   "cell_type": "markdown",
   "metadata": {},
   "source": [
    "From these tags lets flag any address that have interacted with a toxic wallet"
   ]
  },
  {
   "cell_type": "code",
   "execution_count": 23,
   "metadata": {},
   "outputs": [],
   "source": [
    "label_query = '''\n",
    "SELECT ADDRESS, CREATOR, LABEL_TYPE, ADDRESS_NAME, PROJECT_NAME\n",
    "FROM crosschain.core.address_labels \n",
    "WHERE BLOCKCHAIN='ethereum'\n",
    "AND LABEL_SUBTYPE = 'toxic'\n",
    ";'''\n",
    "df_toxic = flipside_api.execute_query(label_query)"
   ]
  },
  {
   "cell_type": "code",
   "execution_count": 24,
   "metadata": {},
   "outputs": [
    {
     "data": {
      "text/plain": [
       "(4857, 6)"
      ]
     },
     "execution_count": 24,
     "metadata": {},
     "output_type": "execute_result"
    }
   ],
   "source": [
    "df_toxic.shape"
   ]
  },
  {
   "cell_type": "code",
   "execution_count": 25,
   "metadata": {},
   "outputs": [],
   "source": [
    "# Compute the number of interactions with any of the scam for each address\n",
    "df_matching_address['count_interaction_with_toxic'] = df_matching_address['address'].apply(lambda x: count_interaction_with_any(tx_analyser, x, df_toxic['address'].unique()))"
   ]
  },
  {
   "cell_type": "code",
   "execution_count": 26,
   "metadata": {},
   "outputs": [
    {
     "name": "stdout",
     "output_type": "stream",
     "text": [
      "Percentage of addresses that have interacted with a toxic address: 1%\n"
     ]
    }
   ],
   "source": [
    "print(f'Percentage of addresses that have interacted with a toxic address: {int((df_matching_address[\"count_interaction_with_toxic\"] > 0).sum() / len(df_matching_address) *100)}%')"
   ]
  },
  {
   "attachments": {},
   "cell_type": "markdown",
   "metadata": {},
   "source": [
    "I found the tag_name \"airdrop master\" could be interesting "
   ]
  },
  {
   "cell_type": "code",
   "execution_count": 27,
   "metadata": {},
   "outputs": [],
   "source": [
    "query_airdrop_master = '''\n",
    "SELECT BLOCKCHAIN, CREATOR, ADDRESS, TAG_NAME\n",
    "FROM crosschain.core.address_tags \n",
    "WHERE BLOCKCHAIN='ethereum'\n",
    "AND TAG_NAME = 'airdrop master'\n",
    ";\n",
    "'''\n",
    "df_airdrop_master = flipside_api.execute_query(query_airdrop_master)"
   ]
  },
  {
   "cell_type": "code",
   "execution_count": 28,
   "metadata": {},
   "outputs": [
    {
     "name": "stdout",
     "output_type": "stream",
     "text": [
      "Percentage of addresses that interacted with airdrop master: 14%\n"
     ]
    }
   ],
   "source": [
    "# Compute the number of interactions with any of the aidrop for each address\n",
    "df_matching_address['count_interaction_with_airdrop_m'] = df_matching_address['address'].apply(lambda x: count_interaction_with_any(tx_analyser, x, df_airdrop_master['address'].unique()))\n",
    "print(f'Percentage of addresses that interacted with airdrop master: {int((df_matching_address[\"count_interaction_with_airdrop_m\"] > 0).sum() / len(df_matching_address) * 100)}%')"
   ]
  },
  {
   "cell_type": "code",
   "execution_count": 30,
   "metadata": {},
   "outputs": [
    {
     "name": "stdout",
     "output_type": "stream",
     "text": [
      "Percentage of addresses that are airdrop master: 5%\n"
     ]
    }
   ],
   "source": [
    "# Boolean whether the address is a aidrop master\n",
    "df_matching_address['is_airdrop_master'] = df_matching_address['address'].apply(lambda x: x in df_airdrop_master['address'].unique()) \n",
    "print(f'Percentage of addresses that are airdrop master: {int((df_matching_address[\"is_airdrop_master\"]).sum() / len(df_matching_address) * 100)}%')"
   ]
  },
  {
   "cell_type": "code",
   "execution_count": 31,
   "metadata": {},
   "outputs": [],
   "source": [
    "sql_query_tornado = '''\n",
    "SELECT DISTINCT PROJECT_NAME, ADDRESS\n",
    "FROM crosschain.core.address_labels \n",
    "WHERE BLOCKCHAIN='ethereum'\n",
    "AND PROJECT_NAME LIKE '%tornado%'\n",
    ";\n",
    "'''\n",
    "df_tornado = flipside_api.execute_query(sql_query_tornado)"
   ]
  },
  {
   "cell_type": "code",
   "execution_count": 32,
   "metadata": {},
   "outputs": [
    {
     "name": "stdout",
     "output_type": "stream",
     "text": [
      "Percentage of addresses that interacted with tornado: 1%\n"
     ]
    }
   ],
   "source": [
    "# Count the number of interactions with tornado\n",
    "df_matching_address['count_interaction_with_tornado'] = df_matching_address['address'].apply(lambda x: count_interaction_with_any(tx_analyser, x, df_tornado['address'].unique()))\n",
    "print(f'Percentage of addresses that interacted with tornado: {int((df_matching_address[\"count_interaction_with_tornado\"] > 0).sum() / len(df_matching_address) * 100)}%')"
   ]
  },
  {
   "cell_type": "code",
   "execution_count": 33,
   "metadata": {},
   "outputs": [
    {
     "name": "stdout",
     "output_type": "stream",
     "text": [
      "Percentage of addresses that interacted with disperse: 1%\n"
     ]
    }
   ],
   "source": [
    "# Count the number of time the address interatec with disperse contract: '0xD152f549545093347A162Dce210e7293f1452150'\n",
    "df_matching_address['count_interaction_with_disperse'] = df_matching_address['address'].apply(lambda x: count_interaction_with_any(tx_analyser, x, [str.lower('0xD152f549545093347A162Dce210e7293f1452150')]))\n",
    "print(f'Percentage of addresses that interacted with disperse: {int((df_matching_address[\"count_interaction_with_disperse\"] > 0).sum() / len(df_matching_address) * 100)}%')"
   ]
  },
  {
   "cell_type": "code",
   "execution_count": 34,
   "metadata": {},
   "outputs": [
    {
     "data": {
      "text/html": [
       "<div>\n",
       "<style scoped>\n",
       "    .dataframe tbody tr th:only-of-type {\n",
       "        vertical-align: middle;\n",
       "    }\n",
       "\n",
       "    .dataframe tbody tr th {\n",
       "        vertical-align: top;\n",
       "    }\n",
       "\n",
       "    .dataframe thead th {\n",
       "        text-align: right;\n",
       "    }\n",
       "</style>\n",
       "<table border=\"1\" class=\"dataframe\">\n",
       "  <thead>\n",
       "    <tr style=\"text-align: right;\">\n",
       "      <th></th>\n",
       "      <th>lcs</th>\n",
       "      <th>cluster_size_lcs</th>\n",
       "      <th>mean_score_lcs</th>\n",
       "      <th>max_score_lcs</th>\n",
       "      <th>count_interaction_with_pool</th>\n",
       "      <th>count_interaction_with_toxic</th>\n",
       "      <th>count_interaction_with_airdrop_m</th>\n",
       "      <th>count_interaction_with_tornado</th>\n",
       "      <th>count_interaction_with_disperse</th>\n",
       "    </tr>\n",
       "  </thead>\n",
       "  <tbody>\n",
       "    <tr>\n",
       "      <th>count</th>\n",
       "      <td>14554.0</td>\n",
       "      <td>14554.000000</td>\n",
       "      <td>14554.000000</td>\n",
       "      <td>14554.000000</td>\n",
       "      <td>14554.000000</td>\n",
       "      <td>14554.000000</td>\n",
       "      <td>14554.000000</td>\n",
       "      <td>14554.000000</td>\n",
       "      <td>14554.000000</td>\n",
       "    </tr>\n",
       "    <tr>\n",
       "      <th>mean</th>\n",
       "      <td>0.0</td>\n",
       "      <td>0.203999</td>\n",
       "      <td>0.003655</td>\n",
       "      <td>0.003896</td>\n",
       "      <td>4.003710</td>\n",
       "      <td>0.041432</td>\n",
       "      <td>1.687990</td>\n",
       "      <td>0.041157</td>\n",
       "      <td>0.098530</td>\n",
       "    </tr>\n",
       "    <tr>\n",
       "      <th>std</th>\n",
       "      <td>0.0</td>\n",
       "      <td>1.902078</td>\n",
       "      <td>0.021802</td>\n",
       "      <td>0.023348</td>\n",
       "      <td>28.982165</td>\n",
       "      <td>0.748714</td>\n",
       "      <td>11.881739</td>\n",
       "      <td>0.788599</td>\n",
       "      <td>3.471618</td>\n",
       "    </tr>\n",
       "    <tr>\n",
       "      <th>min</th>\n",
       "      <td>0.0</td>\n",
       "      <td>0.000000</td>\n",
       "      <td>0.000000</td>\n",
       "      <td>0.000000</td>\n",
       "      <td>0.000000</td>\n",
       "      <td>0.000000</td>\n",
       "      <td>0.000000</td>\n",
       "      <td>0.000000</td>\n",
       "      <td>0.000000</td>\n",
       "    </tr>\n",
       "    <tr>\n",
       "      <th>10%</th>\n",
       "      <td>0.0</td>\n",
       "      <td>0.000000</td>\n",
       "      <td>0.000000</td>\n",
       "      <td>0.000000</td>\n",
       "      <td>0.000000</td>\n",
       "      <td>0.000000</td>\n",
       "      <td>0.000000</td>\n",
       "      <td>0.000000</td>\n",
       "      <td>0.000000</td>\n",
       "    </tr>\n",
       "    <tr>\n",
       "      <th>25%</th>\n",
       "      <td>0.0</td>\n",
       "      <td>0.000000</td>\n",
       "      <td>0.000000</td>\n",
       "      <td>0.000000</td>\n",
       "      <td>0.000000</td>\n",
       "      <td>0.000000</td>\n",
       "      <td>0.000000</td>\n",
       "      <td>0.000000</td>\n",
       "      <td>0.000000</td>\n",
       "    </tr>\n",
       "    <tr>\n",
       "      <th>50%</th>\n",
       "      <td>0.0</td>\n",
       "      <td>0.000000</td>\n",
       "      <td>0.000000</td>\n",
       "      <td>0.000000</td>\n",
       "      <td>0.000000</td>\n",
       "      <td>0.000000</td>\n",
       "      <td>0.000000</td>\n",
       "      <td>0.000000</td>\n",
       "      <td>0.000000</td>\n",
       "    </tr>\n",
       "    <tr>\n",
       "      <th>75%</th>\n",
       "      <td>0.0</td>\n",
       "      <td>0.000000</td>\n",
       "      <td>0.000000</td>\n",
       "      <td>0.000000</td>\n",
       "      <td>2.000000</td>\n",
       "      <td>0.000000</td>\n",
       "      <td>0.000000</td>\n",
       "      <td>0.000000</td>\n",
       "      <td>0.000000</td>\n",
       "    </tr>\n",
       "    <tr>\n",
       "      <th>90%</th>\n",
       "      <td>0.0</td>\n",
       "      <td>0.000000</td>\n",
       "      <td>0.000000</td>\n",
       "      <td>0.000000</td>\n",
       "      <td>8.000000</td>\n",
       "      <td>0.000000</td>\n",
       "      <td>2.000000</td>\n",
       "      <td>0.000000</td>\n",
       "      <td>0.000000</td>\n",
       "    </tr>\n",
       "    <tr>\n",
       "      <th>max</th>\n",
       "      <td>0.0</td>\n",
       "      <td>56.000000</td>\n",
       "      <td>0.200000</td>\n",
       "      <td>0.200000</td>\n",
       "      <td>2632.000000</td>\n",
       "      <td>56.000000</td>\n",
       "      <td>600.000000</td>\n",
       "      <td>55.000000</td>\n",
       "      <td>388.000000</td>\n",
       "    </tr>\n",
       "  </tbody>\n",
       "</table>\n",
       "</div>"
      ],
      "text/plain": [
       "           lcs  cluster_size_lcs  mean_score_lcs  max_score_lcs   \n",
       "count  14554.0      14554.000000    14554.000000   14554.000000  \\\n",
       "mean       0.0          0.203999        0.003655       0.003896   \n",
       "std        0.0          1.902078        0.021802       0.023348   \n",
       "min        0.0          0.000000        0.000000       0.000000   \n",
       "10%        0.0          0.000000        0.000000       0.000000   \n",
       "25%        0.0          0.000000        0.000000       0.000000   \n",
       "50%        0.0          0.000000        0.000000       0.000000   \n",
       "75%        0.0          0.000000        0.000000       0.000000   \n",
       "90%        0.0          0.000000        0.000000       0.000000   \n",
       "max        0.0         56.000000        0.200000       0.200000   \n",
       "\n",
       "       count_interaction_with_pool  count_interaction_with_toxic   \n",
       "count                 14554.000000                  14554.000000  \\\n",
       "mean                      4.003710                      0.041432   \n",
       "std                      28.982165                      0.748714   \n",
       "min                       0.000000                      0.000000   \n",
       "10%                       0.000000                      0.000000   \n",
       "25%                       0.000000                      0.000000   \n",
       "50%                       0.000000                      0.000000   \n",
       "75%                       2.000000                      0.000000   \n",
       "90%                       8.000000                      0.000000   \n",
       "max                    2632.000000                     56.000000   \n",
       "\n",
       "       count_interaction_with_airdrop_m  count_interaction_with_tornado   \n",
       "count                      14554.000000                    14554.000000  \\\n",
       "mean                           1.687990                        0.041157   \n",
       "std                           11.881739                        0.788599   \n",
       "min                            0.000000                        0.000000   \n",
       "10%                            0.000000                        0.000000   \n",
       "25%                            0.000000                        0.000000   \n",
       "50%                            0.000000                        0.000000   \n",
       "75%                            0.000000                        0.000000   \n",
       "90%                            2.000000                        0.000000   \n",
       "max                          600.000000                       55.000000   \n",
       "\n",
       "       count_interaction_with_disperse  \n",
       "count                     14554.000000  \n",
       "mean                          0.098530  \n",
       "std                           3.471618  \n",
       "min                           0.000000  \n",
       "10%                           0.000000  \n",
       "25%                           0.000000  \n",
       "50%                           0.000000  \n",
       "75%                           0.000000  \n",
       "90%                           0.000000  \n",
       "max                         388.000000  "
      ]
     },
     "execution_count": 34,
     "metadata": {},
     "output_type": "execute_result"
    }
   ],
   "source": [
    "df_matching_address.describe(percentiles=[0.1, 0.25, 0.5, 0.75, 0.9])"
   ]
  },
  {
   "cell_type": "code",
   "execution_count": 35,
   "metadata": {},
   "outputs": [],
   "source": [
    "df_matching_address['has_interaction_toxic'] = df_matching_address['count_interaction_with_toxic'] > 0\n",
    "df_matching_address['has_no_pool_interaction'] = df_matching_address['count_interaction_with_pool'] < 6\n",
    "df_matching_address['has_interaction_airdrop_m'] = df_matching_address['count_interaction_with_airdrop_m'] > 0\n",
    "df_matching_address['has_interaction_tornado'] = df_matching_address['count_interaction_with_tornado'] > 0\n",
    "df_matching_address['has_interaction_disperse'] = df_matching_address['count_interaction_with_disperse'] > 0"
   ]
  },
  {
   "cell_type": "code",
   "execution_count": 36,
   "metadata": {},
   "outputs": [],
   "source": [
    "boolean_features = ['has_lcs', 'seed_suspicious', 'has_interaction_toxic', 'has_no_pool_interaction', 'has_interaction_airdrop_m', 'has_interaction_tornado', 'has_interaction_disperse', 'is_airdrop_master', 'interacted_other_ctbt']"
   ]
  },
  {
   "cell_type": "code",
   "execution_count": 37,
   "metadata": {},
   "outputs": [
    {
     "data": {
      "text/plain": [
       "has_lcs                        425\n",
       "seed_suspicious                489\n",
       "has_interaction_toxic          283\n",
       "has_no_pool_interaction      12670\n",
       "has_interaction_airdrop_m     2042\n",
       "has_interaction_tornado        155\n",
       "has_interaction_disperse       192\n",
       "is_airdrop_master              831\n",
       "interacted_other_ctbt         3994\n",
       "dtype: int64"
      ]
     },
     "execution_count": 37,
     "metadata": {},
     "output_type": "execute_result"
    }
   ],
   "source": [
    "df_matching_address[boolean_features].sum() "
   ]
  },
  {
   "cell_type": "code",
   "execution_count": 38,
   "metadata": {},
   "outputs": [
    {
     "data": {
      "text/plain": [
       "14554"
      ]
     },
     "execution_count": 38,
     "metadata": {},
     "output_type": "execute_result"
    }
   ],
   "source": [
    "len(df_matching_address)"
   ]
  },
  {
   "attachments": {},
   "cell_type": "markdown",
   "metadata": {},
   "source": [
    "### Look at the addresses with at least one flag"
   ]
  },
  {
   "attachments": {},
   "cell_type": "markdown",
   "metadata": {},
   "source": [
    "We are going to review the addresses that have at least 1 flag:\n",
    "- has_intercation_toxic \n",
    "- has_interaction_disperse\n",
    "- has_interaction_airdrop_master\n",
    "- is airdrop master\n",
    "- seed suspicious\n",
    "- interacted with other contributor and less than 5 tx\n",
    "\n",
    "I decided to remove tornado cash because someone can be anonimous with out being a sybil"
   ]
  },
  {
   "cell_type": "code",
   "execution_count": 40,
   "metadata": {},
   "outputs": [],
   "source": [
    "df_matching_address['interact_less_5tx'] = np.logical_and(df_matching_address['interacted_other_ctbt'], df_matching_address['less_5_tx'])"
   ]
  },
  {
   "cell_type": "code",
   "execution_count": 41,
   "metadata": {},
   "outputs": [],
   "source": [
    "interaction_bool = ['has_lcs', 'has_interaction_toxic', 'has_interaction_airdrop_m', 'has_interaction_disperse', 'is_airdrop_master', 'seed_suspicious', 'interact_less_5tx']"
   ]
  },
  {
   "cell_type": "code",
   "execution_count": 42,
   "metadata": {},
   "outputs": [
    {
     "data": {
      "text/plain": [
       "has_lcs                       425\n",
       "has_interaction_toxic         283\n",
       "has_interaction_airdrop_m    2042\n",
       "has_interaction_disperse      192\n",
       "is_airdrop_master             831\n",
       "seed_suspicious               489\n",
       "interact_less_5tx              27\n",
       "dtype: int64"
      ]
     },
     "execution_count": 42,
     "metadata": {},
     "output_type": "execute_result"
    }
   ],
   "source": [
    "df_matching_address[interaction_bool].sum()"
   ]
  },
  {
   "cell_type": "code",
   "execution_count": 43,
   "metadata": {},
   "outputs": [
    {
     "data": {
      "text/html": [
       "<div>\n",
       "<style scoped>\n",
       "    .dataframe tbody tr th:only-of-type {\n",
       "        vertical-align: middle;\n",
       "    }\n",
       "\n",
       "    .dataframe tbody tr th {\n",
       "        vertical-align: top;\n",
       "    }\n",
       "\n",
       "    .dataframe thead th {\n",
       "        text-align: right;\n",
       "    }\n",
       "</style>\n",
       "<table border=\"1\" class=\"dataframe\">\n",
       "  <thead>\n",
       "    <tr style=\"text-align: right;\">\n",
       "      <th></th>\n",
       "      <th>has_lcs</th>\n",
       "      <th>has_interaction_toxic</th>\n",
       "      <th>has_interaction_airdrop_m</th>\n",
       "      <th>has_interaction_disperse</th>\n",
       "      <th>is_airdrop_master</th>\n",
       "      <th>seed_suspicious</th>\n",
       "      <th>interact_less_5tx</th>\n",
       "    </tr>\n",
       "  </thead>\n",
       "  <tbody>\n",
       "    <tr>\n",
       "      <th>has_lcs</th>\n",
       "      <td>1.000000</td>\n",
       "      <td>0.000000</td>\n",
       "      <td>0.000000</td>\n",
       "      <td>0.000000</td>\n",
       "      <td>0.000000</td>\n",
       "      <td>0.015556</td>\n",
       "      <td>0.000000</td>\n",
       "    </tr>\n",
       "    <tr>\n",
       "      <th>has_interaction_toxic</th>\n",
       "      <td>0.000000</td>\n",
       "      <td>1.000000</td>\n",
       "      <td>0.085434</td>\n",
       "      <td>0.055556</td>\n",
       "      <td>0.075290</td>\n",
       "      <td>0.006519</td>\n",
       "      <td>0.000000</td>\n",
       "    </tr>\n",
       "    <tr>\n",
       "      <th>has_interaction_airdrop_m</th>\n",
       "      <td>0.000000</td>\n",
       "      <td>0.085434</td>\n",
       "      <td>1.000000</td>\n",
       "      <td>0.048334</td>\n",
       "      <td>0.327634</td>\n",
       "      <td>0.012805</td>\n",
       "      <td>0.000000</td>\n",
       "    </tr>\n",
       "    <tr>\n",
       "      <th>has_interaction_disperse</th>\n",
       "      <td>0.000000</td>\n",
       "      <td>0.055556</td>\n",
       "      <td>0.048334</td>\n",
       "      <td>1.000000</td>\n",
       "      <td>0.051387</td>\n",
       "      <td>0.004425</td>\n",
       "      <td>0.000000</td>\n",
       "    </tr>\n",
       "    <tr>\n",
       "      <th>is_airdrop_master</th>\n",
       "      <td>0.000000</td>\n",
       "      <td>0.075290</td>\n",
       "      <td>0.327634</td>\n",
       "      <td>0.051387</td>\n",
       "      <td>1.000000</td>\n",
       "      <td>0.010720</td>\n",
       "      <td>0.000000</td>\n",
       "    </tr>\n",
       "    <tr>\n",
       "      <th>seed_suspicious</th>\n",
       "      <td>0.015556</td>\n",
       "      <td>0.006519</td>\n",
       "      <td>0.012805</td>\n",
       "      <td>0.004425</td>\n",
       "      <td>0.010720</td>\n",
       "      <td>1.000000</td>\n",
       "      <td>0.013752</td>\n",
       "    </tr>\n",
       "    <tr>\n",
       "      <th>interact_less_5tx</th>\n",
       "      <td>0.000000</td>\n",
       "      <td>0.000000</td>\n",
       "      <td>0.000000</td>\n",
       "      <td>0.000000</td>\n",
       "      <td>0.000000</td>\n",
       "      <td>0.013752</td>\n",
       "      <td>1.000000</td>\n",
       "    </tr>\n",
       "  </tbody>\n",
       "</table>\n",
       "</div>"
      ],
      "text/plain": [
       "                            has_lcs  has_interaction_toxic   \n",
       "has_lcs                    1.000000               0.000000  \\\n",
       "has_interaction_toxic      0.000000               1.000000   \n",
       "has_interaction_airdrop_m  0.000000               0.085434   \n",
       "has_interaction_disperse   0.000000               0.055556   \n",
       "is_airdrop_master          0.000000               0.075290   \n",
       "seed_suspicious            0.015556               0.006519   \n",
       "interact_less_5tx          0.000000               0.000000   \n",
       "\n",
       "                           has_interaction_airdrop_m   \n",
       "has_lcs                                     0.000000  \\\n",
       "has_interaction_toxic                       0.085434   \n",
       "has_interaction_airdrop_m                   1.000000   \n",
       "has_interaction_disperse                    0.048334   \n",
       "is_airdrop_master                           0.327634   \n",
       "seed_suspicious                             0.012805   \n",
       "interact_less_5tx                           0.000000   \n",
       "\n",
       "                           has_interaction_disperse  is_airdrop_master   \n",
       "has_lcs                                    0.000000           0.000000  \\\n",
       "has_interaction_toxic                      0.055556           0.075290   \n",
       "has_interaction_airdrop_m                  0.048334           0.327634   \n",
       "has_interaction_disperse                   1.000000           0.051387   \n",
       "is_airdrop_master                          0.051387           1.000000   \n",
       "seed_suspicious                            0.004425           0.010720   \n",
       "interact_less_5tx                          0.000000           0.000000   \n",
       "\n",
       "                           seed_suspicious  interact_less_5tx  \n",
       "has_lcs                           0.015556           0.000000  \n",
       "has_interaction_toxic             0.006519           0.000000  \n",
       "has_interaction_airdrop_m         0.012805           0.000000  \n",
       "has_interaction_disperse          0.004425           0.000000  \n",
       "is_airdrop_master                 0.010720           0.000000  \n",
       "seed_suspicious                   1.000000           0.013752  \n",
       "interact_less_5tx                 0.013752           1.000000  "
      ]
     },
     "execution_count": 43,
     "metadata": {},
     "output_type": "execute_result"
    }
   ],
   "source": [
    "from scipy.spatial.distance import pdist\n",
    "\n",
    "def jaccard_similarity_matrix(df):\n",
    "    \n",
    "    n = df.shape[1]\n",
    "    scores = 1 - pdist(np.array(df).T, metric='jaccard')\n",
    "    result = np.zeros((n,n))\n",
    "    result[np.triu_indices(n, k=1)] = scores\n",
    "    result += result.T\n",
    "    np.fill_diagonal(result, 1)\n",
    "    return pd.DataFrame(result, index=df.columns, columns=df.columns)\n",
    "\n",
    "jaccard_similarity = jaccard_similarity_matrix(df_matching_address[interaction_bool])\n",
    "jaccard_similarity"
   ]
  },
  {
   "cell_type": "code",
   "execution_count": 44,
   "metadata": {},
   "outputs": [
    {
     "data": {
      "text/plain": [
       "<Axes: >"
      ]
     },
     "execution_count": 44,
     "metadata": {},
     "output_type": "execute_result"
    },
    {
     "data": {
      "image/png": "[encoded data removed]",
      "text/plain": [
       "<Figure size 640x480 with 2 Axes>"
      ]
     },
     "metadata": {},
     "output_type": "display_data"
    }
   ],
   "source": [
    "import seaborn as sns\n",
    "sns.heatmap(jaccard_similarity, annot=True)"
   ]
  },
  {
   "cell_type": "code",
   "execution_count": 45,
   "metadata": {},
   "outputs": [
    {
     "name": "stdout",
     "output_type": "stream",
     "text": [
      "Number of addresses that interacted with a suspicious contract or address: 3226\n"
     ]
    }
   ],
   "source": [
    "df_matching_address['flagged'] = df_matching_address[interaction_bool].sum(axis=1) > 0\n",
    "df_interact_sus_2 = df_matching_address[df_matching_address['flagged'] == True]\n",
    "print(f'Number of addresses that interacted with a suspicious contract or address: {df_interact_sus_2.shape[0]}')"
   ]
  },
  {
   "cell_type": "code",
   "execution_count": 52,
   "metadata": {},
   "outputs": [],
   "source": [
    "boolean_to_keep = ['has_lcs', 'seed_suspicious', 'has_interaction_toxic', 'has_no_pool_interaction', 'has_interaction_tornado', 'has_interaction_disperse', 'is_airdrop_master', 'has_interaction_airdrop_m', 'interacted_other_ctbt', 'interact_less_5tx', 'flagged']"
   ]
  },
  {
   "cell_type": "code",
   "execution_count": 53,
   "metadata": {},
   "outputs": [
    {
     "data": {
      "text/plain": [
       "has_lcs                        425\n",
       "seed_suspicious                489\n",
       "has_interaction_toxic          283\n",
       "has_no_pool_interaction      12670\n",
       "has_interaction_tornado        155\n",
       "has_interaction_disperse       192\n",
       "is_airdrop_master              831\n",
       "has_interaction_airdrop_m     2042\n",
       "interacted_other_ctbt         3994\n",
       "interact_less_5tx               27\n",
       "flagged                       3226\n",
       "dtype: int64"
      ]
     },
     "execution_count": 53,
     "metadata": {},
     "output_type": "execute_result"
    }
   ],
   "source": [
    "df_matching_address[boolean_to_keep].sum()"
   ]
  },
  {
   "cell_type": "code",
   "execution_count": 54,
   "metadata": {},
   "outputs": [
    {
     "name": "stdout",
     "output_type": "stream",
     "text": [
      "number of squelched votes out of 81811\n"
     ]
    },
    {
     "data": {
      "text/plain": [
       "coefficient    5598\n",
       "dtype: int64"
      ]
     },
     "execution_count": 54,
     "metadata": {},
     "output_type": "execute_result"
    }
   ],
   "source": [
    "final_merge = df_votes.merge(df_matching_address, left_on='voter', right_on='address', how='left')\n",
    "print(f'number of squelched votes out of {final_merge.shape[0]}')\n",
    "final_merge.shape[0] - final_merge[['coefficient']].sum() "
   ]
  },
  {
   "cell_type": "code",
   "execution_count": 55,
   "metadata": {},
   "outputs": [
    {
     "name": "stdout",
     "output_type": "stream",
     "text": [
      "(81811, 16)\n",
      "(81811, 41)\n"
     ]
    }
   ],
   "source": [
    "print(df_votes.shape)\n",
    "print(final_merge.shape)"
   ]
  },
  {
   "cell_type": "code",
   "execution_count": 56,
   "metadata": {},
   "outputs": [
    {
     "name": "stderr",
     "output_type": "stream",
     "text": [
      "C:\\Users\\DELL Admin\\AppData\\Local\\Temp\\ipykernel_9816\\2681738413.py:7: DtypeWarning: Columns (15,16) have mixed types. Specify dtype option on import or set low_memory=False.\n",
      "  df_votes_stephi = pd.read_csv(os.path.join(DATA_DIR_STEFI, CSV_STEPHI))\n"
     ]
    },
    {
     "name": "stdout",
     "output_type": "stream",
     "text": [
      "(81811, 19) votes stephi\n",
      "(81811, 41) final merge\n",
      "(81811, 43) votes merge\n"
     ]
    },
    {
     "data": {
      "image/png": "[encoded data removed]",
      "text/plain": [
       "<Figure size 640x480 with 2 Axes>"
      ]
     },
     "metadata": {},
     "output_type": "display_data"
    }
   ],
   "source": [
    "# Adding Stakeriddo and Gray flagged wallet\n",
    "\n",
    "DATA_DIR_STEFI = os.path.join(current_dir.parent.parent, 'stefi')\n",
    "CSV_STEPHI = 'sso_odc_analysis.csv'\n",
    "\n",
    "# load data\n",
    "df_votes_stephi = pd.read_csv(os.path.join(DATA_DIR_STEFI, CSV_STEPHI))\n",
    "print(f'{df_votes_stephi.shape} votes stephi')\n",
    "print(f'{final_merge.shape} final merge')\n",
    "df_stephi_bool_voter = df_votes_stephi[['voter', 'stakeridoo_detected', 'doge_detected']]\n",
    "df_merge = final_merge.merge(df_stephi_bool_voter.drop_duplicates(subset=['voter']), left_on='voter', right_on='voter', how='left')\n",
    "print(f'{df_merge.shape} votes merge')\n",
    "\n",
    "df_merge['bool_gitcoin_detected'] = np.logical_not(df_merge.success.astype(bool))\n",
    "df_merge['stakeridoo_detected'].fillna(False, inplace=True)\n",
    "df_merge['doge_detected'].fillna(False, inplace=True)\n",
    "df_merge['odc_detected'] = np.logical_or(np.logical_or(df_merge['stakeridoo_detected'], df_merge['doge_detected']), df_merge['flagged'])\n",
    "\n",
    "boolean_jaccard = boolean_to_keep + ['stakeridoo_detected', 'doge_detected', 'bool_gitcoin_detected', 'odc_detected']\n",
    "jaccard_similarity_2 = jaccard_similarity_matrix(df_merge[boolean_jaccard])\n",
    "sns.heatmap(jaccard_similarity_2)\n",
    "\n",
    "df_merge['proposed_coeff'] = np.logical_not(np.logical_or(df_merge['odc_detected'], df_merge['bool_gitcoin_detected']))\n",
    "\n",
    "df_merge.drop(columns=['bool_gitcoin_detected', 'address']).to_csv(f'../output_gitcoin/n_{CSV_GITCOIN_GRANTS}', index=False)"
   ]
  },
  {
   "cell_type": "code",
   "execution_count": 57,
   "metadata": {},
   "outputs": [
    {
     "data": {
      "text/plain": [
       "has_lcs                       1498\n",
       "seed_suspicious               2319\n",
       "has_interaction_toxic         1763\n",
       "has_no_pool_interaction      69503\n",
       "has_interaction_tornado       1271\n",
       "has_interaction_disperse      1192\n",
       "is_airdrop_master             5230\n",
       "has_interaction_airdrop_m    12198\n",
       "interacted_other_ctbt        22821\n",
       "interact_less_5tx               83\n",
       "flagged                      17754\n",
       "stakeridoo_detected           3527\n",
       "doge_detected                  215\n",
       "bool_gitcoin_detected         1635\n",
       "odc_detected                 20753\n",
       "dtype: int64"
      ]
     },
     "execution_count": 57,
     "metadata": {},
     "output_type": "execute_result"
    }
   ],
   "source": [
    "df_merge[boolean_jaccard].sum(axis=0)"
   ]
  },
  {
   "cell_type": "code",
   "execution_count": 62,
   "metadata": {},
   "outputs": [
    {
     "data": {
      "text/html": [
       "<div>\n",
       "<style scoped>\n",
       "    .dataframe tbody tr th:only-of-type {\n",
       "        vertical-align: middle;\n",
       "    }\n",
       "\n",
       "    .dataframe tbody tr th {\n",
       "        vertical-align: top;\n",
       "    }\n",
       "\n",
       "    .dataframe thead th {\n",
       "        text-align: right;\n",
       "    }\n",
       "</style>\n",
       "<table border=\"1\" class=\"dataframe\">\n",
       "  <thead>\n",
       "    <tr style=\"text-align: right;\">\n",
       "      <th></th>\n",
       "      <th>id</th>\n",
       "      <th>projectId</th>\n",
       "      <th>applicationId</th>\n",
       "      <th>roundId</th>\n",
       "      <th>token</th>\n",
       "      <th>voter</th>\n",
       "      <th>grantAddress</th>\n",
       "      <th>amount</th>\n",
       "      <th>amountUSD</th>\n",
       "      <th>coefficient</th>\n",
       "      <th>...</th>\n",
       "      <th>has_interaction_airdrop_m</th>\n",
       "      <th>has_interaction_tornado</th>\n",
       "      <th>has_interaction_disperse</th>\n",
       "      <th>interact_less_5tx</th>\n",
       "      <th>flagged</th>\n",
       "      <th>stakeridoo_detected</th>\n",
       "      <th>doge_detected</th>\n",
       "      <th>bool_gitcoin_detected</th>\n",
       "      <th>odc_detected</th>\n",
       "      <th>proposed_coeff</th>\n",
       "    </tr>\n",
       "  </thead>\n",
       "  <tbody>\n",
       "    <tr>\n",
       "      <th>255</th>\n",
       "      <td>0x374d108569601c9ce2e534bc7065f1d5e9f01b998590...</td>\n",
       "      <td>0xcc6d33fe291d0fafb19cf8b833dc27d2f469fac52e3c...</td>\n",
       "      <td>43</td>\n",
       "      <td>0x12bb5bbbfe596dbc489d209299b8302c3300fa40</td>\n",
       "      <td>0x0000000000000000000000000000000000000000</td>\n",
       "      <td>0xbf0218296dbd6ac24b7b358427c840556d6c0fb6</td>\n",
       "      <td>0x5afc7720b161788f9d833555b7ebc3274fd98da1</td>\n",
       "      <td>20000000000000000</td>\n",
       "      <td>37.409845</td>\n",
       "      <td>1</td>\n",
       "      <td>...</td>\n",
       "      <td>False</td>\n",
       "      <td>False</td>\n",
       "      <td>False</td>\n",
       "      <td>False</td>\n",
       "      <td>True</td>\n",
       "      <td>False</td>\n",
       "      <td>False</td>\n",
       "      <td>False</td>\n",
       "      <td>True</td>\n",
       "      <td>False</td>\n",
       "    </tr>\n",
       "    <tr>\n",
       "      <th>256</th>\n",
       "      <td>0x57c5bc3d5853cc90fd5a76f0f8bfe78e929766c802c5...</td>\n",
       "      <td>0xfb5b07f162ab081bf8608d275e9d595a331e0b36b2e4...</td>\n",
       "      <td>15</td>\n",
       "      <td>0x12bb5bbbfe596dbc489d209299b8302c3300fa40</td>\n",
       "      <td>0x0000000000000000000000000000000000000000</td>\n",
       "      <td>0xbf0218296dbd6ac24b7b358427c840556d6c0fb6</td>\n",
       "      <td>0xf503017d7baf7fbc0fff7492b751025c6a78179b</td>\n",
       "      <td>1000000000000000</td>\n",
       "      <td>1.870492</td>\n",
       "      <td>1</td>\n",
       "      <td>...</td>\n",
       "      <td>False</td>\n",
       "      <td>False</td>\n",
       "      <td>False</td>\n",
       "      <td>False</td>\n",
       "      <td>True</td>\n",
       "      <td>False</td>\n",
       "      <td>False</td>\n",
       "      <td>False</td>\n",
       "      <td>True</td>\n",
       "      <td>False</td>\n",
       "    </tr>\n",
       "    <tr>\n",
       "      <th>257</th>\n",
       "      <td>0xdfff1a71381dcab5d2780d8fcb37975361189de797ab...</td>\n",
       "      <td>0xafb022ea11846bceb90516c35155defd6404e4948697...</td>\n",
       "      <td>87</td>\n",
       "      <td>0x12bb5bbbfe596dbc489d209299b8302c3300fa40</td>\n",
       "      <td>0x0000000000000000000000000000000000000000</td>\n",
       "      <td>0xbf0218296dbd6ac24b7b358427c840556d6c0fb6</td>\n",
       "      <td>0x99b36fdbc582d113af36a21eba06bfeab7b9be12</td>\n",
       "      <td>1000000000000000</td>\n",
       "      <td>1.870492</td>\n",
       "      <td>1</td>\n",
       "      <td>...</td>\n",
       "      <td>False</td>\n",
       "      <td>False</td>\n",
       "      <td>False</td>\n",
       "      <td>False</td>\n",
       "      <td>True</td>\n",
       "      <td>False</td>\n",
       "      <td>False</td>\n",
       "      <td>False</td>\n",
       "      <td>True</td>\n",
       "      <td>False</td>\n",
       "    </tr>\n",
       "    <tr>\n",
       "      <th>258</th>\n",
       "      <td>0x248d084921d6173605052a547a1b9a55fd19c3d2b8da...</td>\n",
       "      <td>0xf8c209e714261f23f9390b8fae720ea280fe14b84f48...</td>\n",
       "      <td>63</td>\n",
       "      <td>0x12bb5bbbfe596dbc489d209299b8302c3300fa40</td>\n",
       "      <td>0x0000000000000000000000000000000000000000</td>\n",
       "      <td>0xbf0218296dbd6ac24b7b358427c840556d6c0fb6</td>\n",
       "      <td>0x6ea869b6870dd98552b0c7e47da90702a436358b</td>\n",
       "      <td>1000000000000000</td>\n",
       "      <td>1.870492</td>\n",
       "      <td>1</td>\n",
       "      <td>...</td>\n",
       "      <td>False</td>\n",
       "      <td>False</td>\n",
       "      <td>False</td>\n",
       "      <td>False</td>\n",
       "      <td>True</td>\n",
       "      <td>False</td>\n",
       "      <td>False</td>\n",
       "      <td>False</td>\n",
       "      <td>True</td>\n",
       "      <td>False</td>\n",
       "    </tr>\n",
       "    <tr>\n",
       "      <th>259</th>\n",
       "      <td>0xdf19ebce476eba515b7c38b2ae81a3396b73cbbe2619...</td>\n",
       "      <td>0x0a55058c4e4ec1b799a6101fe5c9eac8277d7864515f...</td>\n",
       "      <td>142</td>\n",
       "      <td>0x12bb5bbbfe596dbc489d209299b8302c3300fa40</td>\n",
       "      <td>0x0000000000000000000000000000000000000000</td>\n",
       "      <td>0xbf0218296dbd6ac24b7b358427c840556d6c0fb6</td>\n",
       "      <td>0x97843608a00e2bbc75ab0c1911387e002565dede</td>\n",
       "      <td>2000000000000000</td>\n",
       "      <td>3.740985</td>\n",
       "      <td>1</td>\n",
       "      <td>...</td>\n",
       "      <td>False</td>\n",
       "      <td>False</td>\n",
       "      <td>False</td>\n",
       "      <td>False</td>\n",
       "      <td>True</td>\n",
       "      <td>False</td>\n",
       "      <td>False</td>\n",
       "      <td>False</td>\n",
       "      <td>True</td>\n",
       "      <td>False</td>\n",
       "    </tr>\n",
       "    <tr>\n",
       "      <th>...</th>\n",
       "      <td>...</td>\n",
       "      <td>...</td>\n",
       "      <td>...</td>\n",
       "      <td>...</td>\n",
       "      <td>...</td>\n",
       "      <td>...</td>\n",
       "      <td>...</td>\n",
       "      <td>...</td>\n",
       "      <td>...</td>\n",
       "      <td>...</td>\n",
       "      <td>...</td>\n",
       "      <td>...</td>\n",
       "      <td>...</td>\n",
       "      <td>...</td>\n",
       "      <td>...</td>\n",
       "      <td>...</td>\n",
       "      <td>...</td>\n",
       "      <td>...</td>\n",
       "      <td>...</td>\n",
       "      <td>...</td>\n",
       "      <td>...</td>\n",
       "    </tr>\n",
       "    <tr>\n",
       "      <th>80867</th>\n",
       "      <td>0xac58ea3b241f55e8e6c46cbb59c82dc6beae703c94b9...</td>\n",
       "      <td>0xfb5b07f162ab081bf8608d275e9d595a331e0b36b2e4...</td>\n",
       "      <td>15</td>\n",
       "      <td>0x12bb5bbbfe596dbc489d209299b8302c3300fa40</td>\n",
       "      <td>0x0000000000000000000000000000000000000000</td>\n",
       "      <td>0x5d0b0a723bb755429d292e1768c5d105c35877b0</td>\n",
       "      <td>0xf503017d7baf7fbc0fff7492b751025c6a78179b</td>\n",
       "      <td>610000000000000</td>\n",
       "      <td>1.122338</td>\n",
       "      <td>1</td>\n",
       "      <td>...</td>\n",
       "      <td>False</td>\n",
       "      <td>False</td>\n",
       "      <td>False</td>\n",
       "      <td>False</td>\n",
       "      <td>True</td>\n",
       "      <td>False</td>\n",
       "      <td>False</td>\n",
       "      <td>False</td>\n",
       "      <td>True</td>\n",
       "      <td>False</td>\n",
       "    </tr>\n",
       "    <tr>\n",
       "      <th>80868</th>\n",
       "      <td>0xed14e068d45a67ce69f6bf1382b041130a4a2def60cb...</td>\n",
       "      <td>0xb746c0f648f9b930ea4568cf8741067a7fc7eb3928ac...</td>\n",
       "      <td>40</td>\n",
       "      <td>0x12bb5bbbfe596dbc489d209299b8302c3300fa40</td>\n",
       "      <td>0x0000000000000000000000000000000000000000</td>\n",
       "      <td>0x5d0b0a723bb755429d292e1768c5d105c35877b0</td>\n",
       "      <td>0x4d9339dd97db55e3b9bcbe65de39ff9c04d1c2cd</td>\n",
       "      <td>610000000000000</td>\n",
       "      <td>1.122338</td>\n",
       "      <td>1</td>\n",
       "      <td>...</td>\n",
       "      <td>False</td>\n",
       "      <td>False</td>\n",
       "      <td>False</td>\n",
       "      <td>False</td>\n",
       "      <td>True</td>\n",
       "      <td>False</td>\n",
       "      <td>False</td>\n",
       "      <td>False</td>\n",
       "      <td>True</td>\n",
       "      <td>False</td>\n",
       "    </tr>\n",
       "    <tr>\n",
       "      <th>80869</th>\n",
       "      <td>0xb8748b45bac082445439110d70ba8cf7e6b010b46ae6...</td>\n",
       "      <td>0x60c037f9dfa5daee0f07bc26fb73393ef924e36c73c4...</td>\n",
       "      <td>18</td>\n",
       "      <td>0x12bb5bbbfe596dbc489d209299b8302c3300fa40</td>\n",
       "      <td>0x0000000000000000000000000000000000000000</td>\n",
       "      <td>0x5d0b0a723bb755429d292e1768c5d105c35877b0</td>\n",
       "      <td>0x18aa467e40e1defb1956708830a343c1d01d3d7c</td>\n",
       "      <td>610000000000000</td>\n",
       "      <td>1.122338</td>\n",
       "      <td>1</td>\n",
       "      <td>...</td>\n",
       "      <td>False</td>\n",
       "      <td>False</td>\n",
       "      <td>False</td>\n",
       "      <td>False</td>\n",
       "      <td>True</td>\n",
       "      <td>False</td>\n",
       "      <td>False</td>\n",
       "      <td>False</td>\n",
       "      <td>True</td>\n",
       "      <td>False</td>\n",
       "    </tr>\n",
       "    <tr>\n",
       "      <th>80870</th>\n",
       "      <td>0x4c278ef43966168f481ebb6a67ac324048cc85e4fd1b...</td>\n",
       "      <td>0xe8d3a5b6bdbf0d28545bacff60d88a98c268535d2df1...</td>\n",
       "      <td>105</td>\n",
       "      <td>0x12bb5bbbfe596dbc489d209299b8302c3300fa40</td>\n",
       "      <td>0x0000000000000000000000000000000000000000</td>\n",
       "      <td>0x5d0b0a723bb755429d292e1768c5d105c35877b0</td>\n",
       "      <td>0xdb0c831283c003686aef40ca228e42bdabf6674c</td>\n",
       "      <td>610000000000000</td>\n",
       "      <td>1.122338</td>\n",
       "      <td>1</td>\n",
       "      <td>...</td>\n",
       "      <td>False</td>\n",
       "      <td>False</td>\n",
       "      <td>False</td>\n",
       "      <td>False</td>\n",
       "      <td>True</td>\n",
       "      <td>False</td>\n",
       "      <td>False</td>\n",
       "      <td>False</td>\n",
       "      <td>True</td>\n",
       "      <td>False</td>\n",
       "    </tr>\n",
       "    <tr>\n",
       "      <th>80871</th>\n",
       "      <td>0xc93ae55f7e4af9e8ec95ab4149bc17737ad9404fb4a8...</td>\n",
       "      <td>0x9fb5b0d0698dc64cbd3a01c5205ebc5ef609e7d20c21...</td>\n",
       "      <td>22</td>\n",
       "      <td>0x12bb5bbbfe596dbc489d209299b8302c3300fa40</td>\n",
       "      <td>0x0000000000000000000000000000000000000000</td>\n",
       "      <td>0x5d0b0a723bb755429d292e1768c5d105c35877b0</td>\n",
       "      <td>0x57ea12a3a8e441f5fe7b1f3af1121097b7d3b6a8</td>\n",
       "      <td>610000000000000</td>\n",
       "      <td>1.122338</td>\n",
       "      <td>1</td>\n",
       "      <td>...</td>\n",
       "      <td>False</td>\n",
       "      <td>False</td>\n",
       "      <td>False</td>\n",
       "      <td>False</td>\n",
       "      <td>True</td>\n",
       "      <td>False</td>\n",
       "      <td>False</td>\n",
       "      <td>False</td>\n",
       "      <td>True</td>\n",
       "      <td>False</td>\n",
       "    </tr>\n",
       "  </tbody>\n",
       "</table>\n",
       "<p>1498 rows × 46 columns</p>\n",
       "</div>"
      ],
      "text/plain": [
       "                                                      id   \n",
       "255    0x374d108569601c9ce2e534bc7065f1d5e9f01b998590...  \\\n",
       "256    0x57c5bc3d5853cc90fd5a76f0f8bfe78e929766c802c5...   \n",
       "257    0xdfff1a71381dcab5d2780d8fcb37975361189de797ab...   \n",
       "258    0x248d084921d6173605052a547a1b9a55fd19c3d2b8da...   \n",
       "259    0xdf19ebce476eba515b7c38b2ae81a3396b73cbbe2619...   \n",
       "...                                                  ...   \n",
       "80867  0xac58ea3b241f55e8e6c46cbb59c82dc6beae703c94b9...   \n",
       "80868  0xed14e068d45a67ce69f6bf1382b041130a4a2def60cb...   \n",
       "80869  0xb8748b45bac082445439110d70ba8cf7e6b010b46ae6...   \n",
       "80870  0x4c278ef43966168f481ebb6a67ac324048cc85e4fd1b...   \n",
       "80871  0xc93ae55f7e4af9e8ec95ab4149bc17737ad9404fb4a8...   \n",
       "\n",
       "                                               projectId  applicationId   \n",
       "255    0xcc6d33fe291d0fafb19cf8b833dc27d2f469fac52e3c...             43  \\\n",
       "256    0xfb5b07f162ab081bf8608d275e9d595a331e0b36b2e4...             15   \n",
       "257    0xafb022ea11846bceb90516c35155defd6404e4948697...             87   \n",
       "258    0xf8c209e714261f23f9390b8fae720ea280fe14b84f48...             63   \n",
       "259    0x0a55058c4e4ec1b799a6101fe5c9eac8277d7864515f...            142   \n",
       "...                                                  ...            ...   \n",
       "80867  0xfb5b07f162ab081bf8608d275e9d595a331e0b36b2e4...             15   \n",
       "80868  0xb746c0f648f9b930ea4568cf8741067a7fc7eb3928ac...             40   \n",
       "80869  0x60c037f9dfa5daee0f07bc26fb73393ef924e36c73c4...             18   \n",
       "80870  0xe8d3a5b6bdbf0d28545bacff60d88a98c268535d2df1...            105   \n",
       "80871  0x9fb5b0d0698dc64cbd3a01c5205ebc5ef609e7d20c21...             22   \n",
       "\n",
       "                                          roundId   \n",
       "255    0x12bb5bbbfe596dbc489d209299b8302c3300fa40  \\\n",
       "256    0x12bb5bbbfe596dbc489d209299b8302c3300fa40   \n",
       "257    0x12bb5bbbfe596dbc489d209299b8302c3300fa40   \n",
       "258    0x12bb5bbbfe596dbc489d209299b8302c3300fa40   \n",
       "259    0x12bb5bbbfe596dbc489d209299b8302c3300fa40   \n",
       "...                                           ...   \n",
       "80867  0x12bb5bbbfe596dbc489d209299b8302c3300fa40   \n",
       "80868  0x12bb5bbbfe596dbc489d209299b8302c3300fa40   \n",
       "80869  0x12bb5bbbfe596dbc489d209299b8302c3300fa40   \n",
       "80870  0x12bb5bbbfe596dbc489d209299b8302c3300fa40   \n",
       "80871  0x12bb5bbbfe596dbc489d209299b8302c3300fa40   \n",
       "\n",
       "                                            token   \n",
       "255    0x0000000000000000000000000000000000000000  \\\n",
       "256    0x0000000000000000000000000000000000000000   \n",
       "257    0x0000000000000000000000000000000000000000   \n",
       "258    0x0000000000000000000000000000000000000000   \n",
       "259    0x0000000000000000000000000000000000000000   \n",
       "...                                           ...   \n",
       "80867  0x0000000000000000000000000000000000000000   \n",
       "80868  0x0000000000000000000000000000000000000000   \n",
       "80869  0x0000000000000000000000000000000000000000   \n",
       "80870  0x0000000000000000000000000000000000000000   \n",
       "80871  0x0000000000000000000000000000000000000000   \n",
       "\n",
       "                                            voter   \n",
       "255    0xbf0218296dbd6ac24b7b358427c840556d6c0fb6  \\\n",
       "256    0xbf0218296dbd6ac24b7b358427c840556d6c0fb6   \n",
       "257    0xbf0218296dbd6ac24b7b358427c840556d6c0fb6   \n",
       "258    0xbf0218296dbd6ac24b7b358427c840556d6c0fb6   \n",
       "259    0xbf0218296dbd6ac24b7b358427c840556d6c0fb6   \n",
       "...                                           ...   \n",
       "80867  0x5d0b0a723bb755429d292e1768c5d105c35877b0   \n",
       "80868  0x5d0b0a723bb755429d292e1768c5d105c35877b0   \n",
       "80869  0x5d0b0a723bb755429d292e1768c5d105c35877b0   \n",
       "80870  0x5d0b0a723bb755429d292e1768c5d105c35877b0   \n",
       "80871  0x5d0b0a723bb755429d292e1768c5d105c35877b0   \n",
       "\n",
       "                                     grantAddress             amount   \n",
       "255    0x5afc7720b161788f9d833555b7ebc3274fd98da1  20000000000000000  \\\n",
       "256    0xf503017d7baf7fbc0fff7492b751025c6a78179b   1000000000000000   \n",
       "257    0x99b36fdbc582d113af36a21eba06bfeab7b9be12   1000000000000000   \n",
       "258    0x6ea869b6870dd98552b0c7e47da90702a436358b   1000000000000000   \n",
       "259    0x97843608a00e2bbc75ab0c1911387e002565dede   2000000000000000   \n",
       "...                                           ...                ...   \n",
       "80867  0xf503017d7baf7fbc0fff7492b751025c6a78179b    610000000000000   \n",
       "80868  0x4d9339dd97db55e3b9bcbe65de39ff9c04d1c2cd    610000000000000   \n",
       "80869  0x18aa467e40e1defb1956708830a343c1d01d3d7c    610000000000000   \n",
       "80870  0xdb0c831283c003686aef40ca228e42bdabf6674c    610000000000000   \n",
       "80871  0x57ea12a3a8e441f5fe7b1f3af1121097b7d3b6a8    610000000000000   \n",
       "\n",
       "       amountUSD  coefficient  ... has_interaction_airdrop_m   \n",
       "255    37.409845            1  ...                     False  \\\n",
       "256     1.870492            1  ...                     False   \n",
       "257     1.870492            1  ...                     False   \n",
       "258     1.870492            1  ...                     False   \n",
       "259     3.740985            1  ...                     False   \n",
       "...          ...          ...  ...                       ...   \n",
       "80867   1.122338            1  ...                     False   \n",
       "80868   1.122338            1  ...                     False   \n",
       "80869   1.122338            1  ...                     False   \n",
       "80870   1.122338            1  ...                     False   \n",
       "80871   1.122338            1  ...                     False   \n",
       "\n",
       "      has_interaction_tornado has_interaction_disperse interact_less_5tx   \n",
       "255                     False                    False             False  \\\n",
       "256                     False                    False             False   \n",
       "257                     False                    False             False   \n",
       "258                     False                    False             False   \n",
       "259                     False                    False             False   \n",
       "...                       ...                      ...               ...   \n",
       "80867                   False                    False             False   \n",
       "80868                   False                    False             False   \n",
       "80869                   False                    False             False   \n",
       "80870                   False                    False             False   \n",
       "80871                   False                    False             False   \n",
       "\n",
       "       flagged  stakeridoo_detected doge_detected  bool_gitcoin_detected   \n",
       "255       True                False         False                  False  \\\n",
       "256       True                False         False                  False   \n",
       "257       True                False         False                  False   \n",
       "258       True                False         False                  False   \n",
       "259       True                False         False                  False   \n",
       "...        ...                  ...           ...                    ...   \n",
       "80867     True                False         False                  False   \n",
       "80868     True                False         False                  False   \n",
       "80869     True                False         False                  False   \n",
       "80870     True                False         False                  False   \n",
       "80871     True                False         False                  False   \n",
       "\n",
       "       odc_detected  proposed_coeff  \n",
       "255            True           False  \n",
       "256            True           False  \n",
       "257            True           False  \n",
       "258            True           False  \n",
       "259            True           False  \n",
       "...             ...             ...  \n",
       "80867          True           False  \n",
       "80868          True           False  \n",
       "80869          True           False  \n",
       "80870          True           False  \n",
       "80871          True           False  \n",
       "\n",
       "[1498 rows x 46 columns]"
      ]
     },
     "execution_count": 62,
     "metadata": {},
     "output_type": "execute_result"
    }
   ],
   "source": [
    "df_merge[df_merge['has_lcs'] == True]"
   ]
  },
  {
   "cell_type": "code",
   "execution_count": 67,
   "metadata": {},
   "outputs": [
    {
     "data": {
      "text/plain": [
       "count                                           1498\n",
       "unique                                            53\n",
       "top       0x3a5bd1e37b099ae3386d13947b6a90d97675e5e3\n",
       "freq                                             197\n",
       "Name: grantAddress, dtype: object"
      ]
     },
     "execution_count": 67,
     "metadata": {},
     "output_type": "execute_result"
    }
   ],
   "source": [
    "df_merge[df_merge['has_lcs'] == True].grantAddress.describe()   "
   ]
  },
  {
   "cell_type": "code",
   "execution_count": 94,
   "metadata": {},
   "outputs": [
    {
     "data": {
      "text/plain": [
       "Index(['id', 'projectNumber', 'roundId', 'status', 'amountUSD', 'votes',\n",
       "       'uniqueContributors', 'createdAtBlock', 'statusUpdatedAtBlock',\n",
       "       'metadata.signature', 'metadata.application.round',\n",
       "       'metadata.application.recipient',\n",
       "       'metadata.application.project.lastUpdated',\n",
       "       'metadata.application.project.createdAt',\n",
       "       'metadata.application.project.id', 'metadata.application.project.title',\n",
       "       'metadata.application.project.description',\n",
       "       'metadata.application.project.website',\n",
       "       'metadata.application.project.logoImg',\n",
       "       'metadata.application.project.metaPtr.protocol',\n",
       "       'metadata.application.project.metaPtr.pointer',\n",
       "       'metadata.application.project.userGithub',\n",
       "       'metadata.application.project.projectGithub',\n",
       "       'metadata.application.project.projectTwitter',\n",
       "       'metadata.application.answers',\n",
       "       'metadata.application.project.bannerImg',\n",
       "       'metadata.application.project.credentials.twitter.@context',\n",
       "       'metadata.application.project.credentials.twitter.type',\n",
       "       'metadata.application.project.credentials.twitter.credentialSubject.id',\n",
       "       'metadata.application.project.credentials.twitter.credentialSubject.@context',\n",
       "       'metadata.application.project.credentials.twitter.credentialSubject.provider',\n",
       "       'metadata.application.project.credentials.twitter.credentialSubject.hash',\n",
       "       'metadata.application.project.credentials.twitter.issuer',\n",
       "       'metadata.application.project.credentials.twitter.issuanceDate',\n",
       "       'metadata.application.project.credentials.twitter.proof.type',\n",
       "       'metadata.application.project.credentials.twitter.proof.proofPurpose',\n",
       "       'metadata.application.project.credentials.twitter.proof.verificationMethod',\n",
       "       'metadata.application.project.credentials.twitter.proof.created',\n",
       "       'metadata.application.project.credentials.twitter.proof.jws',\n",
       "       'metadata.application.project.credentials.twitter.expirationDate',\n",
       "       'metadata.application.project.credentials.github.@context',\n",
       "       'metadata.application.project.credentials.github.type',\n",
       "       'metadata.application.project.credentials.github.credentialSubject.id',\n",
       "       'metadata.application.project.credentials.github.credentialSubject.provider',\n",
       "       'metadata.application.project.credentials.github.credentialSubject.hash',\n",
       "       'metadata.application.project.credentials.github.credentialSubject.@context',\n",
       "       'metadata.application.project.credentials.github.issuer',\n",
       "       'metadata.application.project.credentials.github.issuanceDate',\n",
       "       'metadata.application.project.credentials.github.proof.type',\n",
       "       'metadata.application.project.credentials.github.proof.proofPurpose',\n",
       "       'metadata.application.project.credentials.github.proof.verificationMethod',\n",
       "       'metadata.application.project.credentials.github.proof.created',\n",
       "       'metadata.application.project.credentials.github.proof.jws',\n",
       "       'metadata.application.project.credentials.github.expirationDate'],\n",
       "      dtype='object')"
      ]
     },
     "execution_count": 94,
     "metadata": {},
     "output_type": "execute_result"
    }
   ],
   "source": [
    "df_application.columns"
   ]
  },
  {
   "cell_type": "code",
   "execution_count": 95,
   "metadata": {},
   "outputs": [
    {
     "data": {
      "text/plain": [
       "19    0x18aa467e40e1defb1956708830a343c1d01d3d7c\n",
       "Name: metadata.application.recipient, dtype: object"
      ]
     },
     "execution_count": 95,
     "metadata": {},
     "output_type": "execute_result"
    }
   ],
   "source": [
    "df_application[df_application[\"metadata.application.project.title\"].str.lower().str.contains('jedi')][\"metadata.application.recipient\"]"
   ]
  },
  {
   "cell_type": "code",
   "execution_count": 108,
   "metadata": {},
   "outputs": [],
   "source": [
    "jedi_swap = df_merge[df_merge['grantAddress'].str.lower() == str.lower('0x18aa467E40E1deFB1956708830A343c1D01d3D7C')]"
   ]
  },
  {
   "cell_type": "code",
   "execution_count": 110,
   "metadata": {},
   "outputs": [
    {
     "data": {
      "text/plain": [
       "9506"
      ]
     },
     "execution_count": 110,
     "metadata": {},
     "output_type": "execute_result"
    }
   ],
   "source": [
    "jedi_swap['voter'].nunique()"
   ]
  },
  {
   "cell_type": "code",
   "execution_count": 111,
   "metadata": {},
   "outputs": [
    {
     "data": {
      "text/plain": [
       "(9710,)"
      ]
     },
     "execution_count": 111,
     "metadata": {},
     "output_type": "execute_result"
    }
   ],
   "source": [
    "jedi_swap['voter'].shape"
   ]
  },
  {
   "cell_type": "code",
   "execution_count": 112,
   "metadata": {},
   "outputs": [
    {
     "data": {
      "text/plain": [
       "Index(['id', 'projectId', 'applicationId', 'roundId', 'token', 'voter',\n",
       "       'grantAddress', 'amount', 'amountUSD', 'coefficient', 'status',\n",
       "       'last_score_timestamp', 'type', 'success', 'rawScore', 'threshold',\n",
       "       'address', 'seed_same_naive', 'seed_same', 'seed_suspicious',\n",
       "       'less_5_tx', 'less_10_tx', 'interacted_other_ctbt', 'lcs',\n",
       "       'cluster_size_lcs', 'mean_score_lcs', 'max_score_lcs', 'has_lcs',\n",
       "       'count_interaction_with_pool', 'count_interaction_with_toxic',\n",
       "       'count_interaction_with_airdrop_m', 'is_airdrop_master',\n",
       "       'count_interaction_with_tornado', 'count_interaction_with_disperse',\n",
       "       'has_interaction_toxic', 'has_no_pool_interaction',\n",
       "       'has_interaction_airdrop_m', 'has_interaction_tornado',\n",
       "       'has_interaction_disperse', 'interact_less_5tx', 'flagged',\n",
       "       'stakeridoo_detected', 'doge_detected', 'bool_gitcoin_detected',\n",
       "       'odc_detected', 'proposed_coeff'],\n",
       "      dtype='object')"
      ]
     },
     "execution_count": 112,
     "metadata": {},
     "output_type": "execute_result"
    }
   ],
   "source": [
    "jedi_swap.columns"
   ]
  },
  {
   "cell_type": "code",
   "execution_count": 121,
   "metadata": {},
   "outputs": [
    {
     "data": {
      "text/plain": [
       "odc_detected                 2374\n",
       "stakeridoo_detected           449\n",
       "doge_detected                  32\n",
       "bool_gitcoin_detected         222\n",
       "is_airdrop_master             567\n",
       "has_interaction_toxic         187\n",
       "has_no_pool_interaction      8440\n",
       "has_interaction_airdrop_m    1355\n",
       "has_interaction_tornado        84\n",
       "has_interaction_disperse      113\n",
       "interact_less_5tx               5\n",
       "has_lcs                       167\n",
       "dtype: int64"
      ]
     },
     "execution_count": 121,
     "metadata": {},
     "output_type": "execute_result"
    }
   ],
   "source": [
    "jedi_swap[[\"odc_detected\", \"stakeridoo_detected\", \"doge_detected\", \"bool_gitcoin_detected\", \"is_airdrop_master\", \"has_interaction_toxic\", \"has_no_pool_interaction\", \"has_interaction_airdrop_m\", \"has_interaction_tornado\", \"has_interaction_disperse\", \"interact_less_5tx\", \"has_lcs\"]].sum()"
   ]
  },
  {
   "cell_type": "code",
   "execution_count": 126,
   "metadata": {},
   "outputs": [
    {
     "name": "stderr",
     "output_type": "stream",
     "text": [
      "C:\\Users\\DELL Admin\\AppData\\Local\\Temp\\ipykernel_9816\\525363702.py:1: DtypeWarning: Columns (7) have mixed types. Specify dtype option on import or set low_memory=False.\n",
      "  df_no_lcs= pd.read_csv(os.path.join('C:\\\\Users\\\\DELL Admin\\\\Downloads\\\\Telegram Desktop', f\"n_{CSV_GITCOIN_GRANTS}\"))\n"
     ]
    }
   ],
   "source": [
    "df_no_lcs= pd.read_csv(os.path.join('C:\\\\Users\\\\DELL Admin\\\\Downloads\\\\Telegram Desktop', f\"n_{CSV_GITCOIN_GRANTS}\"))"
   ]
  },
  {
   "cell_type": "code",
   "execution_count": 132,
   "metadata": {},
   "outputs": [],
   "source": [
    "bool_old = set(boolean_jaccard) - set(['has_lcs', 'bool_gitcoin_detected'])\n",
    "bool_old = list(bool_old)"
   ]
  },
  {
   "cell_type": "code",
   "execution_count": 133,
   "metadata": {},
   "outputs": [
    {
     "data": {
      "text/plain": [
       "is_airdrop_master             5230\n",
       "has_no_pool_interaction      69503\n",
       "stakeridoo_detected           3527\n",
       "has_interaction_tornado       1271\n",
       "seed_suspicious               2319\n",
       "has_interaction_toxic         1763\n",
       "has_interaction_airdrop_m    12198\n",
       "interacted_other_ctbt        22821\n",
       "odc_detected                 19274\n",
       "interact_less_5tx               83\n",
       "has_interaction_disperse      1192\n",
       "flagged                      16274\n",
       "doge_detected                  215\n",
       "dtype: int64"
      ]
     },
     "execution_count": 133,
     "metadata": {},
     "output_type": "execute_result"
    }
   ],
   "source": [
    "df_no_lcs[bool_old].sum(axis=0)"
   ]
  },
  {
   "cell_type": "code",
   "execution_count": 134,
   "metadata": {},
   "outputs": [
    {
     "data": {
      "text/plain": [
       "-1479"
      ]
     },
     "execution_count": 134,
     "metadata": {},
     "output_type": "execute_result"
    }
   ],
   "source": [
    "19274 - 20753"
   ]
  },
  {
   "cell_type": "code",
   "execution_count": 139,
   "metadata": {},
   "outputs": [
    {
     "data": {
      "text/html": [
       "<div>\n",
       "<style scoped>\n",
       "    .dataframe tbody tr th:only-of-type {\n",
       "        vertical-align: middle;\n",
       "    }\n",
       "\n",
       "    .dataframe tbody tr th {\n",
       "        vertical-align: top;\n",
       "    }\n",
       "\n",
       "    .dataframe thead th {\n",
       "        text-align: right;\n",
       "    }\n",
       "</style>\n",
       "<table border=\"1\" class=\"dataframe\">\n",
       "  <thead>\n",
       "    <tr style=\"text-align: right;\">\n",
       "      <th></th>\n",
       "      <th>grantAddress</th>\n",
       "      <th>voter</th>\n",
       "    </tr>\n",
       "  </thead>\n",
       "  <tbody>\n",
       "    <tr>\n",
       "      <th>0</th>\n",
       "      <td>0x3a5bd1e37b099ae3386d13947b6a90d97675e5e3</td>\n",
       "      <td>197</td>\n",
       "    </tr>\n",
       "    <tr>\n",
       "      <th>1</th>\n",
       "      <td>0x18aa467e40e1defb1956708830a343c1d01d3d7c</td>\n",
       "      <td>167</td>\n",
       "    </tr>\n",
       "    <tr>\n",
       "      <th>2</th>\n",
       "      <td>0x08a3c2a819e3de7aca384c798269b3ce1cd0e437</td>\n",
       "      <td>159</td>\n",
       "    </tr>\n",
       "    <tr>\n",
       "      <th>3</th>\n",
       "      <td>0x99b36fdbc582d113af36a21eba06bfeab7b9be12</td>\n",
       "      <td>157</td>\n",
       "    </tr>\n",
       "    <tr>\n",
       "      <th>4</th>\n",
       "      <td>0xdb0c831283c003686aef40ca228e42bdabf6674c</td>\n",
       "      <td>136</td>\n",
       "    </tr>\n",
       "    <tr>\n",
       "      <th>5</th>\n",
       "      <td>0x5683921269b041fbe66882dd6cadd48b7e5b5817</td>\n",
       "      <td>127</td>\n",
       "    </tr>\n",
       "    <tr>\n",
       "      <th>6</th>\n",
       "      <td>0xe126b3e5d052f1f575828f61feba4f4f2603652a</td>\n",
       "      <td>77</td>\n",
       "    </tr>\n",
       "    <tr>\n",
       "      <th>7</th>\n",
       "      <td>0x4b8810b079eb22ecf2d1f75e08e0abbd6fd87dbf</td>\n",
       "      <td>70</td>\n",
       "    </tr>\n",
       "    <tr>\n",
       "      <th>8</th>\n",
       "      <td>0x01d79bceaeaadfb8fd2f2f53005289cfcf483464</td>\n",
       "      <td>62</td>\n",
       "    </tr>\n",
       "    <tr>\n",
       "      <th>9</th>\n",
       "      <td>0x57ea12a3a8e441f5fe7b1f3af1121097b7d3b6a8</td>\n",
       "      <td>61</td>\n",
       "    </tr>\n",
       "  </tbody>\n",
       "</table>\n",
       "</div>"
      ],
      "text/plain": [
       "                                 grantAddress  voter\n",
       "0  0x3a5bd1e37b099ae3386d13947b6a90d97675e5e3    197\n",
       "1  0x18aa467e40e1defb1956708830a343c1d01d3d7c    167\n",
       "2  0x08a3c2a819e3de7aca384c798269b3ce1cd0e437    159\n",
       "3  0x99b36fdbc582d113af36a21eba06bfeab7b9be12    157\n",
       "4  0xdb0c831283c003686aef40ca228e42bdabf6674c    136\n",
       "5  0x5683921269b041fbe66882dd6cadd48b7e5b5817    127\n",
       "6  0xe126b3e5d052f1f575828f61feba4f4f2603652a     77\n",
       "7  0x4b8810b079eb22ecf2d1f75e08e0abbd6fd87dbf     70\n",
       "8  0x01d79bceaeaadfb8fd2f2f53005289cfcf483464     62\n",
       "9  0x57ea12a3a8e441f5fe7b1f3af1121097b7d3b6a8     61"
      ]
     },
     "execution_count": 139,
     "metadata": {},
     "output_type": "execute_result"
    }
   ],
   "source": [
    "df_lcs_top_grant = df_merge[df_merge['has_lcs'] == True].groupby('grantAddress')['voter'].count().sort_values(ascending=False).reset_index()\n",
    "df_lcs_top_grant.head(10)"
   ]
  },
  {
   "cell_type": "code",
   "execution_count": null,
   "metadata": {},
   "outputs": [],
   "source": [
    "df_application['metadata.application.project.title']"
   ]
  },
  {
   "cell_type": "code",
   "execution_count": 150,
   "metadata": {},
   "outputs": [
    {
     "data": {
      "text/plain": [
       "10                                           Lenster\n",
       "19                                          JediSwap\n",
       "167                                        Chainlist\n",
       "24                                         DefiLlama\n",
       "87     Taho - Open Source and Community Owned Wallet\n",
       "105                           Leto | Transfer crypto\n",
       "104                         Via | Cross-chain router\n",
       "73                                           OmniBTC\n",
       "14       Revoke.cash - Helping you stay safe in web3\n",
       "100         BrightID 🔆 Universal Proof of Uniqueness\n",
       "Name: metadata.application.project.title, dtype: object"
      ]
     },
     "execution_count": 150,
     "metadata": {},
     "output_type": "execute_result"
    }
   ],
   "source": [
    "df_application.merge(df_lcs_top_grant, left_on='metadata.application.recipient', right_on='grantAddress', how='left').sort_values(by='voter', ascending=False)['metadata.application.project.title'].head(10)"
   ]
  },
  {
   "cell_type": "code",
   "execution_count": 156,
   "metadata": {},
   "outputs": [
    {
     "data": {
      "text/plain": [
       "has_no_pool_interaction\n",
       "True     12670\n",
       "False     1884\n",
       "Name: count, dtype: int64"
      ]
     },
     "execution_count": 156,
     "metadata": {},
     "output_type": "execute_result"
    }
   ],
   "source": [
    "df_merge.drop_duplicates(subset=[\"voter\"])['has_no_pool_interaction'].value_counts()"
   ]
  },
  {
   "cell_type": "code",
   "execution_count": 162,
   "metadata": {},
   "outputs": [],
   "source": [
    "df_stake = df_merge.drop_duplicates(subset=[\"voter\"])[df_merge.drop_duplicates(subset=[\"voter\"])['stakeridoo_detected'] == True]"
   ]
  },
  {
   "cell_type": "code",
   "execution_count": 176,
   "metadata": {},
   "outputs": [
    {
     "data": {
      "text/html": [
       "<div>\n",
       "<style scoped>\n",
       "    .dataframe tbody tr th:only-of-type {\n",
       "        vertical-align: middle;\n",
       "    }\n",
       "\n",
       "    .dataframe tbody tr th {\n",
       "        vertical-align: top;\n",
       "    }\n",
       "\n",
       "    .dataframe thead th {\n",
       "        text-align: right;\n",
       "    }\n",
       "</style>\n",
       "<table border=\"1\" class=\"dataframe\">\n",
       "  <thead>\n",
       "    <tr style=\"text-align: right;\">\n",
       "      <th></th>\n",
       "      <th>voter</th>\n",
       "      <th>rawScore</th>\n",
       "    </tr>\n",
       "  </thead>\n",
       "  <tbody>\n",
       "    <tr>\n",
       "      <th>486</th>\n",
       "      <td>0x34e2cb7513a50b19f450a067ed5230a86c13a2e9</td>\n",
       "      <td>37.01</td>\n",
       "    </tr>\n",
       "    <tr>\n",
       "      <th>526</th>\n",
       "      <td>0xe4d9f174e9b9f987836030ca0b244a5b4f615869</td>\n",
       "      <td>44.23</td>\n",
       "    </tr>\n",
       "    <tr>\n",
       "      <th>959</th>\n",
       "      <td>0x2fe95ba46d36e6bbc8d3bbc6bf3f18c85c91f3af</td>\n",
       "      <td>34.72</td>\n",
       "    </tr>\n",
       "    <tr>\n",
       "      <th>1592</th>\n",
       "      <td>0xddcfad43fb08c29935f3c6752b3a0d4f64d17b3c</td>\n",
       "      <td>39.10</td>\n",
       "    </tr>\n",
       "    <tr>\n",
       "      <th>2291</th>\n",
       "      <td>0x723aadf9329a770c8a77f205eaacc879b6e83f55</td>\n",
       "      <td>31.70</td>\n",
       "    </tr>\n",
       "    <tr>\n",
       "      <th>...</th>\n",
       "      <td>...</td>\n",
       "      <td>...</td>\n",
       "    </tr>\n",
       "    <tr>\n",
       "      <th>72265</th>\n",
       "      <td>0xfc7d1491dfcdcf6e72bf202e6d3bf5cc55e5b5ee</td>\n",
       "      <td>43.78</td>\n",
       "    </tr>\n",
       "    <tr>\n",
       "      <th>74902</th>\n",
       "      <td>0xe01ada32ad63ea1e021a3dd9c1c9baedfd5fbf11</td>\n",
       "      <td>37.12</td>\n",
       "    </tr>\n",
       "    <tr>\n",
       "      <th>76186</th>\n",
       "      <td>0xb7c1c4290946efc9fb8e4c47a65899f98f448272</td>\n",
       "      <td>31.80</td>\n",
       "    </tr>\n",
       "    <tr>\n",
       "      <th>77810</th>\n",
       "      <td>0xa437edb5987318649c05386801135a0c0bfcb701</td>\n",
       "      <td>33.15</td>\n",
       "    </tr>\n",
       "    <tr>\n",
       "      <th>79712</th>\n",
       "      <td>0x110b8b6717c4da32d86a8d3ef78964d44f9d61f0</td>\n",
       "      <td>32.02</td>\n",
       "    </tr>\n",
       "  </tbody>\n",
       "</table>\n",
       "<p>62 rows × 2 columns</p>\n",
       "</div>"
      ],
      "text/plain": [
       "                                            voter  rawScore\n",
       "486    0x34e2cb7513a50b19f450a067ed5230a86c13a2e9     37.01\n",
       "526    0xe4d9f174e9b9f987836030ca0b244a5b4f615869     44.23\n",
       "959    0x2fe95ba46d36e6bbc8d3bbc6bf3f18c85c91f3af     34.72\n",
       "1592   0xddcfad43fb08c29935f3c6752b3a0d4f64d17b3c     39.10\n",
       "2291   0x723aadf9329a770c8a77f205eaacc879b6e83f55     31.70\n",
       "...                                           ...       ...\n",
       "72265  0xfc7d1491dfcdcf6e72bf202e6d3bf5cc55e5b5ee     43.78\n",
       "74902  0xe01ada32ad63ea1e021a3dd9c1c9baedfd5fbf11     37.12\n",
       "76186  0xb7c1c4290946efc9fb8e4c47a65899f98f448272     31.80\n",
       "77810  0xa437edb5987318649c05386801135a0c0bfcb701     33.15\n",
       "79712  0x110b8b6717c4da32d86a8d3ef78964d44f9d61f0     32.02\n",
       "\n",
       "[62 rows x 2 columns]"
      ]
     },
     "execution_count": 176,
     "metadata": {},
     "output_type": "execute_result"
    }
   ],
   "source": [
    "df_stake[df_stake.rawScore > 30][['voter', 'rawScore']]"
   ]
  },
  {
   "cell_type": "code",
   "execution_count": 180,
   "metadata": {},
   "outputs": [],
   "source": [
    "df_merge[df_merge['voter'].isin(['0xbd125f7c40e252a090871b865aca471f5cb8ee01', '0xb58f2521f5a05cfbee6f88171ac94ac088888888', '0x34e2cb7513a50b19f450a067ed5230a86c13a2e9'])].to_csv((\"cluster.csv\"), index=False)"
   ]
  }
 ],
 "metadata": {
  "kernelspec": {
   "display_name": "venvotes",
   "language": "python",
   "name": "python3"
  },
  "language_info": {
   "codemirror_mode": {
    "name": "ipython",
    "version": 3
   },
   "file_extension": ".py",
   "mimetype": "text/x-python",
   "name": "python",
   "nbconvert_exporter": "python",
   "pygments_lexer": "ipython3",
   "version": "3.10.9"
  },
  "orig_nbformat": 4
 },
 "nbformat": 4,
 "nbformat_minor": 2
}
