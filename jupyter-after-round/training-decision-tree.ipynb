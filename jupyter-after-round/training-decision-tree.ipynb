{
 "cells": [
  {
   "attachments": {},
   "cell_type": "markdown",
   "metadata": {},
   "source": [
    "## Train a machine learning model using extracted features"
   ]
  },
  {
   "cell_type": "code",
   "execution_count": 1,
   "metadata": {},
   "outputs": [],
   "source": [
    "import pandas as pd\n",
    "import numpy as np\n",
    "import matplotlib.pyplot as plt\n",
    "import seaborn as sns\n",
    "import os\n",
    "from pathlib import Path\n",
    "from sklearn.tree import DecisionTreeClassifier\n",
    "from sklearn.model_selection import train_test_split\n",
    "from sklearn.metrics import accuracy_score\n",
    "from sklearn.metrics import confusion_matrix"
   ]
  },
  {
   "cell_type": "code",
   "execution_count": 2,
   "metadata": {},
   "outputs": [
    {
     "name": "stdout",
     "output_type": "stream",
     "text": [
      "c:\\Users\\DELL Admin\\Documents\\ODC\\RegenRangers\\beta-round-vote-analysis\\jupyter-after-round\n"
     ]
    },
    {
     "data": {
      "text/plain": [
       "Index(['address', 'seed_same_naive', 'seed_same', 'seed_suspicious',\n",
       "       'less_5_tx', 'interacted_other_ctbt', 'count_interaction_with_pool',\n",
       "       'count_interaction_with_airdrop_m', 'is_airdrop_master',\n",
       "       'count_interaction_with_tornado', 'count_interaction_with_disperse',\n",
       "       'count_interaction_with_toxic', 'has_interaction_toxic',\n",
       "       'has_no_pool_interaction', 'has_interaction_airdrop_m',\n",
       "       'has_interaction_tornado', 'has_interaction_disperse',\n",
       "       'interact_less_5tx', 'flagged', 'voter', 'stakeridoo_detected',\n",
       "       'doge_detected', 'odc_detected', 'Wallet Address', 'Gitcoin Handle',\n",
       "       'Thor/Loki Indicator', 'Stamps Collected', 'Logistic Regression Score',\n",
       "       'Regularized Regression Score', 'COF Kish Score', 'Gitcoin Regen Score',\n",
       "       'Stamps', 'loki'],\n",
       "      dtype='object')"
      ]
     },
     "execution_count": 2,
     "metadata": {},
     "output_type": "execute_result"
    }
   ],
   "source": [
    "current_path = Path(os.getcwd())\n",
    "print(current_path)\n",
    "PATH = os.path.join(current_path.parent, 'output_gitcoin', 'loki-thor-analysis', 'merge_loki.csv')\n",
    "df = pd.read_csv(PATH)\n",
    "df.columns"
   ]
  },
  {
   "cell_type": "code",
   "execution_count": 23,
   "metadata": {},
   "outputs": [],
   "source": [
    "cols_features = ['seed_same_naive', 'seed_same', 'seed_suspicious', 'less_5_tx',\n",
    "       'interacted_other_ctbt', 'count_interaction_with_pool',\n",
    "       'count_interaction_with_airdrop_m', 'is_airdrop_master',\n",
    "       'count_interaction_with_tornado', 'count_interaction_with_disperse',\n",
    "       'count_interaction_with_toxic', 'has_interaction_toxic',\n",
    "       'has_no_pool_interaction', 'has_interaction_airdrop_m',\n",
    "       'has_interaction_tornado', 'has_interaction_disperse',\n",
    "       'interact_less_5tx', 'flagged', 'stakeridoo_detected',\n",
    "       'doge_detected', 'odc_detected',\n",
    "       'Logistic Regression Score', 'Regularized Regression Score',\n",
    "       'COF Kish Score', 'Gitcoin Regen Score']"
   ]
  },
  {
   "cell_type": "code",
   "execution_count": 24,
   "metadata": {},
   "outputs": [],
   "source": [
    "df_used = df.loc[:, cols_features]"
   ]
  },
  {
   "cell_type": "code",
   "execution_count": 25,
   "metadata": {},
   "outputs": [
    {
     "name": "stdout",
     "output_type": "stream",
     "text": [
      "Accuracy: 0.7395437262357415\n"
     ]
    }
   ],
   "source": [
    "# Split the dataset into training and testing sets\n",
    "from sklearn.model_selection import train_test_split\n",
    "X_train, X_test, y_train, y_test = train_test_split(df_used, df['loki'], random_state=42)\n",
    "\n",
    "# Train the decision tree classifier\n",
    "dtc = DecisionTreeClassifier(random_state=42)\n",
    "dtc.fit(X_train, y_train)\n",
    "\n",
    "# Evaluate the performance of the classifier on the testing set\n",
    "y_pred = dtc.predict(X_test)\n",
    "accuracy = accuracy_score(y_test, y_pred)\n",
    "print(f\"Accuracy: {accuracy}\")\n"
   ]
  },
  {
   "cell_type": "code",
   "execution_count": null,
   "metadata": {},
   "outputs": [],
   "source": []
  }
 ],
 "metadata": {
  "kernelspec": {
   "display_name": "venvotes",
   "language": "python",
   "name": "python3"
  },
  "language_info": {
   "codemirror_mode": {
    "name": "ipython",
    "version": 3
   },
   "file_extension": ".py",
   "mimetype": "text/x-python",
   "name": "python",
   "nbconvert_exporter": "python",
   "pygments_lexer": "ipython3",
   "version": "3.10.9"
  },
  "orig_nbformat": 4
 },
 "nbformat": 4,
 "nbformat_minor": 2
}
