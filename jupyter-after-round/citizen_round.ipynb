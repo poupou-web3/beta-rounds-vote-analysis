{
 "cells": [
  {
   "attachments": {},
   "cell_type": "markdown",
   "metadata": {},
   "source": [
    "# vote_coefficients_0xAA40E2E5c8df03d792A52B5458959C320F86ca18_1\n"
   ]
  },
  {
   "cell_type": "code",
   "execution_count": 135,
   "metadata": {},
   "outputs": [],
   "source": [
    "import os\n",
    "from pathlib import Path\n",
    "import numpy as np\n",
    "import requests\n",
    "import pandas as pd\n",
    "\n",
    "from sbdata.FlipsideApi import FlipsideApi\n",
    "\n",
    "\n",
    "\n",
    "# Set path to data folder\n",
    "current_dir = Path(os.getcwd())\n",
    "FOLDER_NAME = 'community_round'\n",
    "CHAIN = 'optimism'\n",
    "PATH_TO_EXPORT = os.path.join(current_dir.parent.parent, 'tx_data', FOLDER_NAME)\n",
    "DATA_DIR = os.path.join(current_dir.parent.parent, 'data-regen-rangers')\n",
    "DATA_DIR_GITCOIN = os.path.join(current_dir.parent.parent, 'data-gitcoin')\n",
    "GRANT_ROUND_ID = '0x984e29dCB4286c2D9cbAA2c238AfDd8A191Eefbc'\n",
    "CHAIN_ID = '10'\n",
    "\n",
    "\n",
    "# read the address from oss grant\n",
    "\n",
    "api_key = os.environ['FLIPSIDE_API_KEY']\n",
    "flipside_api = FlipsideApi(api_key, max_address=400)\n",
    "PATH_TO_VOTES = os.path.join(DATA_DIR_GITCOIN, 'citizen-votes.csv')\n",
    "# PATH_TO_GRANTS = os.path.join(DATA_DIR, \"all-allo-rounds.csv\")\n",
    "# PATH_TO_PROJECTS = os.path.join(DATA_DIR, \"projects_QmQurt.csv\")\n",
    "# PATH_TO_VOTES_GITCOIN = os.path.join(DATA_DIR_GITCOIN, CSV_GITCOIN_GRANTS)"
   ]
  },
  {
   "cell_type": "code",
   "execution_count": 136,
   "metadata": {},
   "outputs": [],
   "source": [
    "# def load_round_votes_data(chain_id, round_id):\n",
    "#     votes_url = 'https://indexer-grants-stack.gitcoin.co/data/' + chain_id + '/rounds/' + round_id + '/votes.json'\n",
    "#     try:\n",
    "#         # download the Votes JSON data from the URL\n",
    "#         response = requests.get(votes_url)\n",
    "#         if response.status_code == 200:\n",
    "#             votes_data = response.json()\n",
    "#         df = pd.DataFrame(votes_data)\n",
    "#         return df\n",
    "#     except:\n",
    "#         return pd.DataFrame()"
   ]
  },
  {
   "cell_type": "code",
   "execution_count": 137,
   "metadata": {},
   "outputs": [],
   "source": [
    "# # load data\n",
    "# df_votes = df_votes = load_round_votes_data(CHAIN_ID, GRANT_ROUND_ID)"
   ]
  },
  {
   "cell_type": "code",
   "execution_count": 138,
   "metadata": {},
   "outputs": [],
   "source": [
    "df_votes = pd.read_csv(PATH_TO_VOTES)\n",
    "# df_grants = pd.read_csv(PATH_TO_GRANTS)\n",
    "# df_application = pd.read_csv(PATH_TO_PROJECTS)\n",
    "# Lowercase all addresses because flipside api return lowercase address\n",
    "#id,projectId,applicationId,roundId,token,voter,grantAddress,amount,amountUSD,coefficient,status,last_score_timestamp,type,success,rawScore,threshold\n",
    "# df_grants['Round ID'] = df_grants['Round ID'].str.lower()\n",
    "# str_columns_votes = ['id', 'transaction', 'projectId', 'roundId', 'voter', 'grantAddress']\n",
    "# df_votes[str_columns_votes] = df_votes[str_columns_votes].applymap(lambda x: x.lower())\n",
    "\n",
    "# str_columns_application = ['id', 'roundId', 'metadata.application.round', 'metadata.application.recipient']\n",
    "# df_application[str_columns_application] = df_application[str_columns_application].applymap(lambda x: str(x).lower())\n",
    "\n",
    "# round_id = df_grants[df_grants['Round name'] == 'Web3 Community and Education']['Round ID'].values[0]\n",
    "array_unique_address = df_votes['voter'].unique()\n",
    "\n",
    "array_unique_address = np.char.lower(array_unique_address.astype(str))"
   ]
  },
  {
   "cell_type": "code",
   "execution_count": 139,
   "metadata": {},
   "outputs": [],
   "source": [
    "from sbutils import LoadData\n",
    "\n",
    "# Load data\n",
    "data_loader = LoadData.LoadData(PATH_TO_EXPORT)\n",
    "df_tx = data_loader.create_df_tx(CHAIN, array_unique_address)"
   ]
  },
  {
   "cell_type": "code",
   "execution_count": 140,
   "metadata": {},
   "outputs": [
    {
     "data": {
      "text/plain": [
       "(2822339, 10)"
      ]
     },
     "execution_count": 140,
     "metadata": {},
     "output_type": "execute_result"
    }
   ],
   "source": [
    "df_tx.shape"
   ]
  },
  {
   "cell_type": "code",
   "execution_count": 141,
   "metadata": {},
   "outputs": [
    {
     "data": {
      "text/plain": [
       "17023"
      ]
     },
     "execution_count": 141,
     "metadata": {},
     "output_type": "execute_result"
    }
   ],
   "source": [
    "len(array_unique_address)"
   ]
  },
  {
   "cell_type": "code",
   "execution_count": 142,
   "metadata": {},
   "outputs": [
    {
     "data": {
      "text/plain": [
       "17023"
      ]
     },
     "execution_count": 142,
     "metadata": {},
     "output_type": "execute_result"
    }
   ],
   "source": [
    "df_tx.EOA.nunique()"
   ]
  },
  {
   "cell_type": "code",
   "execution_count": 143,
   "metadata": {},
   "outputs": [
    {
     "data": {
      "text/plain": [
       "array([], dtype=object)"
      ]
     },
     "execution_count": 143,
     "metadata": {},
     "output_type": "execute_result"
    }
   ],
   "source": [
    "c = np.setxor1d(array_unique_address, df_tx.EOA.values)\n",
    "c"
   ]
  },
  {
   "attachments": {},
   "cell_type": "markdown",
   "metadata": {},
   "source": [
    "## Computing legos booleans"
   ]
  },
  {
   "cell_type": "code",
   "execution_count": 144,
   "metadata": {},
   "outputs": [],
   "source": [
    "from sblegos.TransactionAnalyser import TransactionAnalyser as txa\n",
    "tx_analyser = txa(df_tx, df_address=pd.DataFrame(np.intersect1d(df_tx.EOA.unique(), array_unique_address), columns=['address']))"
   ]
  },
  {
   "attachments": {},
   "cell_type": "markdown",
   "metadata": {},
   "source": [
    "use matching address because some addresses are not in the extracted data set"
   ]
  },
  {
   "cell_type": "code",
   "execution_count": 145,
   "metadata": {},
   "outputs": [
    {
     "data": {
      "text/html": [
       "<div>\n",
       "<style scoped>\n",
       "    .dataframe tbody tr th:only-of-type {\n",
       "        vertical-align: middle;\n",
       "    }\n",
       "\n",
       "    .dataframe tbody tr th {\n",
       "        vertical-align: top;\n",
       "    }\n",
       "\n",
       "    .dataframe thead th {\n",
       "        text-align: right;\n",
       "    }\n",
       "</style>\n",
       "<table border=\"1\" class=\"dataframe\">\n",
       "  <thead>\n",
       "    <tr style=\"text-align: right;\">\n",
       "      <th></th>\n",
       "      <th>address</th>\n",
       "    </tr>\n",
       "  </thead>\n",
       "  <tbody>\n",
       "    <tr>\n",
       "      <th>0</th>\n",
       "      <td>0x000000006f457c0f8f560333d9c2877287d92a92</td>\n",
       "    </tr>\n",
       "    <tr>\n",
       "      <th>1</th>\n",
       "      <td>0x000128fa45d79dc9af8016da242781f12c363fd5</td>\n",
       "    </tr>\n",
       "  </tbody>\n",
       "</table>\n",
       "</div>"
      ],
      "text/plain": [
       "                                      address\n",
       "0  0x000000006f457c0f8f560333d9c2877287d92a92\n",
       "1  0x000128fa45d79dc9af8016da242781f12c363fd5"
      ]
     },
     "execution_count": 145,
     "metadata": {},
     "output_type": "execute_result"
    }
   ],
   "source": [
    "df_matching_address = pd.DataFrame(df_tx.EOA.unique(), columns=[\"address\"])\n",
    "df_matching_address.head(2)"
   ]
  },
  {
   "attachments": {},
   "cell_type": "markdown",
   "metadata": {},
   "source": [
    "Compute the boolean "
   ]
  },
  {
   "attachments": {},
   "cell_type": "markdown",
   "metadata": {},
   "source": [
    "less than 10 x transaction are not performant legos so we don't use it, has same seed is computed as an intermediarry to get the seed_suspicious flag"
   ]
  },
  {
   "cell_type": "code",
   "execution_count": 146,
   "metadata": {},
   "outputs": [],
   "source": [
    "df_matching_address['seed_same_naive'] = df_matching_address.loc[:, 'address'].apply(lambda x : tx_analyser.has_same_seed_naive(x))\n",
    "df_matching_address['seed_same'] = df_matching_address.loc[:, 'address'].apply(lambda x : tx_analyser.has_same_seed(x))\n",
    "df_matching_address['seed_suspicious'] = df_matching_address.loc[:, 'seed_same_naive'].ne(df_matching_address.loc[:, 'seed_same'])\n",
    "df_matching_address['less_5_tx'] = df_matching_address.loc[:, 'address'].apply(lambda x : tx_analyser.has_less_than_n_transactions(x, 5))\n",
    "df_matching_address['less_10_tx'] = df_matching_address.loc[:, 'address'].apply(lambda x : tx_analyser.has_less_than_n_transactions(x, 10))"
   ]
  },
  {
   "cell_type": "code",
   "execution_count": 147,
   "metadata": {},
   "outputs": [],
   "source": [
    "df_matching_address['interacted_other_ctbt'] = df_matching_address.loc[:, 'address'].apply(lambda x : tx_analyser.has_interacted_with_other_contributor(x))"
   ]
  },
  {
   "cell_type": "code",
   "execution_count": 148,
   "metadata": {},
   "outputs": [],
   "source": [
    "df_matching_address['lcs'] = \"\"\n",
    "r = df_matching_address.loc[df_matching_address['less_10_tx'] == True, 'address'].apply(lambda x: tx_analyser.transaction_similitude_pylcs(x, minimum_sim_tx=3))"
   ]
  },
  {
   "cell_type": "code",
   "execution_count": 408,
   "metadata": {},
   "outputs": [
    {
     "name": "stdout",
     "output_type": "stream",
     "text": [
      "136\n"
     ]
    }
   ],
   "source": [
    "def lcs_to_array(lcs):\n",
    "    if lcs.shape[0] == 0:\n",
    "        return []\n",
    "    else:\n",
    "        return np.asarray(lcs.reset_index())\n",
    "\n",
    "def get_mean_score_lcs(lcs):\n",
    "    if lcs.shape[0] == 0:\n",
    "        return 0\n",
    "    else:\n",
    "        return lcs.reset_index()['score'].mean()\n",
    "    \n",
    "def get_max_score_lcs(lcs):\n",
    "    if lcs.shape[0] == 0:\n",
    "        return 0\n",
    "    else:\n",
    "        return lcs.reset_index()['score'].max()\n",
    "    \n",
    "df_matching_address['cluster_size_lcs'] = 0\n",
    "df_matching_address['mean_score_lcs'] = 0\n",
    "df_matching_address['max_score_lcs'] = 0\n",
    "\n",
    "df_matching_address.loc[df_matching_address['less_10_tx'] == True, 'cluster_size_lcs'] = r.reset_index()['address'].apply(lambda x: len(x))\n",
    "df_matching_address.loc[df_matching_address['less_10_tx'] == True, 'mean_score_lcs'] = r.reset_index()['address'].apply(lambda x: get_mean_score_lcs(x))\n",
    "df_matching_address.loc[df_matching_address['less_10_tx'] == True, 'max_score_lcs'] = r.reset_index()['address'].apply(lambda x: get_max_score_lcs(x))\n",
    "\n",
    "df_matching_address.loc[df_matching_address['less_10_tx'] == True, 'lcs'] = r.reset_index()['address'].apply(lambda x: x.reset_index().to_json())\n",
    "\n",
    "df_matching_address['has_lcs'] = df_matching_address['cluster_size_lcs'] > 0\n",
    "\n",
    "print((df_matching_address[df_matching_address['less_10_tx'] == True]['cluster_size_lcs'] > 0).sum())"
   ]
  },
  {
   "cell_type": "code",
   "execution_count": 374,
   "metadata": {},
   "outputs": [
    {
     "data": {
      "text/plain": [
       "(0, 2)"
      ]
     },
     "execution_count": 374,
     "metadata": {},
     "output_type": "execute_result"
    }
   ],
   "source": [
    "(r.reset_index()['address'][4]).shape"
   ]
  },
  {
   "cell_type": "code",
   "execution_count": 372,
   "metadata": {},
   "outputs": [
    {
     "data": {
      "text/plain": [
       "0"
      ]
     },
     "execution_count": 372,
     "metadata": {},
     "output_type": "execute_result"
    }
   ],
   "source": [
    "len(r.reset_index()['address'][4])"
   ]
  },
  {
   "cell_type": "code",
   "execution_count": 368,
   "metadata": {},
   "outputs": [
    {
     "data": {
      "text/plain": [
       "2         True\n",
       "27        True\n",
       "36        True\n",
       "39       False\n",
       "40       False\n",
       "         ...  \n",
       "16939    False\n",
       "16943    False\n",
       "16966     True\n",
       "16974     True\n",
       "17005     True\n",
       "Name: has_lcs, Length: 2352, dtype: bool"
      ]
     },
     "execution_count": 368,
     "metadata": {},
     "output_type": "execute_result"
    }
   ],
   "source": [
    "df_matching_address.loc[df_matching_address['less_10_tx'], 'has_lcs']"
   ]
  },
  {
   "cell_type": "code",
   "execution_count": 150,
   "metadata": {},
   "outputs": [
    {
     "name": "stdout",
     "output_type": "stream",
     "text": [
      "Number of voters: 17023\n"
     ]
    }
   ],
   "source": [
    "print(f'Number of voters: {len(df_matching_address)}')"
   ]
  },
  {
   "cell_type": "code",
   "execution_count": 377,
   "metadata": {},
   "outputs": [
    {
     "data": {
      "text/plain": [
       "address                             0x000000006f457c0f8f560333d9c2877287d92a920x00...\n",
       "seed_same_naive                                                                  7290\n",
       "seed_same                                                                       10999\n",
       "seed_suspicious                                                                  5229\n",
       "less_5_tx                                                                         910\n",
       "less_10_tx                                                                       2352\n",
       "interacted_other_ctbt                                                            3315\n",
       "cluster_size_lcs                                                               6192.0\n",
       "mean_score_lcs                                                              19.902017\n",
       "max_score_lcs                                                               23.162698\n",
       "has_lcs                                                                           136\n",
       "count_interaction_with_pool                                                    106517\n",
       "count_interaction_with_toxic                                                        0\n",
       "interact_less_5tx                                                                  34\n",
       "has_interaction_toxic                                                               0\n",
       "has_no_pool_interaction                                                         13413\n",
       "count_interaction_with_airdrop_m                                                 2431\n",
       "is_airdrop_master                                                                 728\n",
       "count_interaction_with_tornado                                                    354\n",
       "count_interaction_with_disperse                                                    93\n",
       "has_interaction_airdrop_m                                                         591\n",
       "has_interaction_tornado                                                           298\n",
       "has_interaction_disperse                                                           37\n",
       "flagged                                                                          2282\n",
       "dtype: object"
      ]
     },
     "execution_count": 377,
     "metadata": {},
     "output_type": "execute_result"
    }
   ],
   "source": [
    "df_matching_address.drop(axis=1, columns='lcs').sum()"
   ]
  },
  {
   "cell_type": "code",
   "execution_count": 151,
   "metadata": {},
   "outputs": [
    {
     "data": {
      "text/plain": [
       "address                  0x000000006f457c0f8f560333d9c2877287d92a920x00...\n",
       "seed_same_naive                                                       7290\n",
       "seed_same                                                            10999\n",
       "seed_suspicious                                                       5229\n",
       "less_5_tx                                                              910\n",
       "less_10_tx                                                            2352\n",
       "interacted_other_ctbt                                                 3315\n",
       "lcs                                                                      0\n",
       "cluster_size_lcs                                                     47991\n",
       "mean_score_lcs                                                  157.549362\n",
       "max_score_lcs                                                     184.4721\n",
       "has_lcs                                                               1082\n",
       "dtype: object"
      ]
     },
     "execution_count": 151,
     "metadata": {},
     "output_type": "execute_result"
    }
   ],
   "source": [
    "df_matching_address.sum()"
   ]
  },
  {
   "attachments": {},
   "cell_type": "markdown",
   "metadata": {},
   "source": [
    "### Investigating the boolean seed suspicious"
   ]
  },
  {
   "cell_type": "code",
   "execution_count": 152,
   "metadata": {},
   "outputs": [
    {
     "data": {
      "text/html": [
       "<div>\n",
       "<style scoped>\n",
       "    .dataframe tbody tr th:only-of-type {\n",
       "        vertical-align: middle;\n",
       "    }\n",
       "\n",
       "    .dataframe tbody tr th {\n",
       "        vertical-align: top;\n",
       "    }\n",
       "\n",
       "    .dataframe thead th {\n",
       "        text-align: right;\n",
       "    }\n",
       "</style>\n",
       "<table border=\"1\" class=\"dataframe\">\n",
       "  <thead>\n",
       "    <tr style=\"text-align: right;\">\n",
       "      <th></th>\n",
       "      <th>address</th>\n",
       "      <th>seed_same_naive</th>\n",
       "      <th>seed_same</th>\n",
       "      <th>seed_suspicious</th>\n",
       "      <th>less_5_tx</th>\n",
       "      <th>less_10_tx</th>\n",
       "      <th>interacted_other_ctbt</th>\n",
       "      <th>lcs</th>\n",
       "      <th>cluster_size_lcs</th>\n",
       "      <th>mean_score_lcs</th>\n",
       "      <th>max_score_lcs</th>\n",
       "      <th>has_lcs</th>\n",
       "    </tr>\n",
       "  </thead>\n",
       "  <tbody>\n",
       "    <tr>\n",
       "      <th>2</th>\n",
       "      <td>0x000569d03483abb8949f729908465e65c4bdb243</td>\n",
       "      <td>False</td>\n",
       "      <td>True</td>\n",
       "      <td>True</td>\n",
       "      <td>False</td>\n",
       "      <td>True</td>\n",
       "      <td>False</td>\n",
       "      <td>0</td>\n",
       "      <td>57</td>\n",
       "      <td>0.194386</td>\n",
       "      <td>0.2</td>\n",
       "      <td>True</td>\n",
       "    </tr>\n",
       "    <tr>\n",
       "      <th>5</th>\n",
       "      <td>0x0017f7adf1b404298efa3015ca0b56961fea4c34</td>\n",
       "      <td>False</td>\n",
       "      <td>True</td>\n",
       "      <td>True</td>\n",
       "      <td>False</td>\n",
       "      <td>False</td>\n",
       "      <td>False</td>\n",
       "      <td>0</td>\n",
       "      <td>0</td>\n",
       "      <td>0.000000</td>\n",
       "      <td>0.0</td>\n",
       "      <td>False</td>\n",
       "    </tr>\n",
       "    <tr>\n",
       "      <th>6</th>\n",
       "      <td>0x001eabec5ae0e4dc40aecd9a75a6377fa0b31dcb</td>\n",
       "      <td>False</td>\n",
       "      <td>True</td>\n",
       "      <td>True</td>\n",
       "      <td>False</td>\n",
       "      <td>False</td>\n",
       "      <td>False</td>\n",
       "      <td>0</td>\n",
       "      <td>0</td>\n",
       "      <td>0.000000</td>\n",
       "      <td>0.0</td>\n",
       "      <td>False</td>\n",
       "    </tr>\n",
       "    <tr>\n",
       "      <th>8</th>\n",
       "      <td>0x002738a4a86d2591794fd36c120b36bad33d5f41</td>\n",
       "      <td>False</td>\n",
       "      <td>True</td>\n",
       "      <td>True</td>\n",
       "      <td>False</td>\n",
       "      <td>False</td>\n",
       "      <td>False</td>\n",
       "      <td>0</td>\n",
       "      <td>0</td>\n",
       "      <td>0.000000</td>\n",
       "      <td>0.0</td>\n",
       "      <td>False</td>\n",
       "    </tr>\n",
       "    <tr>\n",
       "      <th>12</th>\n",
       "      <td>0x003a3eb1a1d2ad3bea19ae06324727beeeec2e34</td>\n",
       "      <td>False</td>\n",
       "      <td>True</td>\n",
       "      <td>True</td>\n",
       "      <td>False</td>\n",
       "      <td>False</td>\n",
       "      <td>False</td>\n",
       "      <td>0</td>\n",
       "      <td>0</td>\n",
       "      <td>0.000000</td>\n",
       "      <td>0.0</td>\n",
       "      <td>False</td>\n",
       "    </tr>\n",
       "    <tr>\n",
       "      <th>...</th>\n",
       "      <td>...</td>\n",
       "      <td>...</td>\n",
       "      <td>...</td>\n",
       "      <td>...</td>\n",
       "      <td>...</td>\n",
       "      <td>...</td>\n",
       "      <td>...</td>\n",
       "      <td>...</td>\n",
       "      <td>...</td>\n",
       "      <td>...</td>\n",
       "      <td>...</td>\n",
       "      <td>...</td>\n",
       "    </tr>\n",
       "    <tr>\n",
       "      <th>16999</th>\n",
       "      <td>0xffcb5e8b0ee83612b335f7011340983771a5f9c3</td>\n",
       "      <td>False</td>\n",
       "      <td>True</td>\n",
       "      <td>True</td>\n",
       "      <td>False</td>\n",
       "      <td>False</td>\n",
       "      <td>False</td>\n",
       "      <td>0</td>\n",
       "      <td>0</td>\n",
       "      <td>0.000000</td>\n",
       "      <td>0.0</td>\n",
       "      <td>False</td>\n",
       "    </tr>\n",
       "    <tr>\n",
       "      <th>17006</th>\n",
       "      <td>0xffd5c1af9951cf292e9386c89b8e08c92005c33b</td>\n",
       "      <td>False</td>\n",
       "      <td>True</td>\n",
       "      <td>True</td>\n",
       "      <td>False</td>\n",
       "      <td>False</td>\n",
       "      <td>False</td>\n",
       "      <td>0</td>\n",
       "      <td>0</td>\n",
       "      <td>0.000000</td>\n",
       "      <td>0.0</td>\n",
       "      <td>False</td>\n",
       "    </tr>\n",
       "    <tr>\n",
       "      <th>17007</th>\n",
       "      <td>0xffd92144cafd599a5a93e4805ca4d8f0e666d623</td>\n",
       "      <td>False</td>\n",
       "      <td>True</td>\n",
       "      <td>True</td>\n",
       "      <td>False</td>\n",
       "      <td>False</td>\n",
       "      <td>False</td>\n",
       "      <td>0</td>\n",
       "      <td>0</td>\n",
       "      <td>0.000000</td>\n",
       "      <td>0.0</td>\n",
       "      <td>False</td>\n",
       "    </tr>\n",
       "    <tr>\n",
       "      <th>17010</th>\n",
       "      <td>0xffe31b706e753e632667b46335f23b6adbb2ec6e</td>\n",
       "      <td>False</td>\n",
       "      <td>True</td>\n",
       "      <td>True</td>\n",
       "      <td>False</td>\n",
       "      <td>False</td>\n",
       "      <td>False</td>\n",
       "      <td>0</td>\n",
       "      <td>0</td>\n",
       "      <td>0.000000</td>\n",
       "      <td>0.0</td>\n",
       "      <td>False</td>\n",
       "    </tr>\n",
       "    <tr>\n",
       "      <th>17013</th>\n",
       "      <td>0xffe969745fc9c6b0ce6519172ed65433e7143cc7</td>\n",
       "      <td>False</td>\n",
       "      <td>True</td>\n",
       "      <td>True</td>\n",
       "      <td>False</td>\n",
       "      <td>False</td>\n",
       "      <td>False</td>\n",
       "      <td>0</td>\n",
       "      <td>0</td>\n",
       "      <td>0.000000</td>\n",
       "      <td>0.0</td>\n",
       "      <td>False</td>\n",
       "    </tr>\n",
       "  </tbody>\n",
       "</table>\n",
       "<p>5229 rows × 12 columns</p>\n",
       "</div>"
      ],
      "text/plain": [
       "                                          address  seed_same_naive  seed_same   \n",
       "2      0x000569d03483abb8949f729908465e65c4bdb243            False       True  \\\n",
       "5      0x0017f7adf1b404298efa3015ca0b56961fea4c34            False       True   \n",
       "6      0x001eabec5ae0e4dc40aecd9a75a6377fa0b31dcb            False       True   \n",
       "8      0x002738a4a86d2591794fd36c120b36bad33d5f41            False       True   \n",
       "12     0x003a3eb1a1d2ad3bea19ae06324727beeeec2e34            False       True   \n",
       "...                                           ...              ...        ...   \n",
       "16999  0xffcb5e8b0ee83612b335f7011340983771a5f9c3            False       True   \n",
       "17006  0xffd5c1af9951cf292e9386c89b8e08c92005c33b            False       True   \n",
       "17007  0xffd92144cafd599a5a93e4805ca4d8f0e666d623            False       True   \n",
       "17010  0xffe31b706e753e632667b46335f23b6adbb2ec6e            False       True   \n",
       "17013  0xffe969745fc9c6b0ce6519172ed65433e7143cc7            False       True   \n",
       "\n",
       "       seed_suspicious  less_5_tx  less_10_tx  interacted_other_ctbt  lcs   \n",
       "2                 True      False        True                  False    0  \\\n",
       "5                 True      False       False                  False    0   \n",
       "6                 True      False       False                  False    0   \n",
       "8                 True      False       False                  False    0   \n",
       "12                True      False       False                  False    0   \n",
       "...                ...        ...         ...                    ...  ...   \n",
       "16999             True      False       False                  False    0   \n",
       "17006             True      False       False                  False    0   \n",
       "17007             True      False       False                  False    0   \n",
       "17010             True      False       False                  False    0   \n",
       "17013             True      False       False                  False    0   \n",
       "\n",
       "       cluster_size_lcs  mean_score_lcs  max_score_lcs  has_lcs  \n",
       "2                    57        0.194386            0.2     True  \n",
       "5                     0        0.000000            0.0    False  \n",
       "6                     0        0.000000            0.0    False  \n",
       "8                     0        0.000000            0.0    False  \n",
       "12                    0        0.000000            0.0    False  \n",
       "...                 ...             ...            ...      ...  \n",
       "16999                 0        0.000000            0.0    False  \n",
       "17006                 0        0.000000            0.0    False  \n",
       "17007                 0        0.000000            0.0    False  \n",
       "17010                 0        0.000000            0.0    False  \n",
       "17013                 0        0.000000            0.0    False  \n",
       "\n",
       "[5229 rows x 12 columns]"
      ]
     },
     "execution_count": 152,
     "metadata": {},
     "output_type": "execute_result"
    }
   ],
   "source": [
    "df_matching_address[df_matching_address['seed_suspicious'] == True]"
   ]
  },
  {
   "attachments": {},
   "cell_type": "markdown",
   "metadata": {},
   "source": [
    "### Computing the dex interaction score"
   ]
  },
  {
   "cell_type": "code",
   "execution_count": 153,
   "metadata": {},
   "outputs": [],
   "source": [
    "def get_interacted_address(from_address, to_address, address):\n",
    "    if from_address == address:\n",
    "        return to_address\n",
    "    else:\n",
    "        return from_address\n",
    "\n",
    "def count_interaction_with_any(tx_analyser, address, array_address):\n",
    "    \"\"\"\n",
    "    Return an integer of the number of interactions with the addresses in the array_address\n",
    "    Parameters\n",
    "    ----------\n",
    "    address : str\n",
    "        The address to check\n",
    "\n",
    "    Returns\n",
    "    -------\n",
    "    count_interaction_with_any : int\n",
    "        The number of interactions with the addresses in the array_address\n",
    "    \"\"\"\n",
    "    tx_analyser.set_group_by_sorted_EOA()\n",
    "\n",
    "    df = tx_analyser.gb_EOA_sorted.get_group(address)\n",
    "    address_interacted = df.apply(lambda x: get_interacted_address(x['from_address'], x['to_address'], address), axis=1)\n",
    "    tx_boolean_interacted = address_interacted.isin(array_address)\n",
    "    return tx_boolean_interacted.sum()\n",
    "\n",
    "def has_interacted_with_any(tx_analyser, address, array_address):\n",
    "    \"\"\"\n",
    "    Return a boolean whether the address has interacted with any address in the array_address\n",
    "    Parameters\n",
    "    ----------\n",
    "    address : str\n",
    "        The address to check\n",
    "\n",
    "    Returns\n",
    "    -------\n",
    "    has_interacted_with_any : bool\n",
    "        True if the address has interacted with one or more of the addresses in the array_address\n",
    "    \"\"\"\n",
    "    count_interaction_with_any = count_interaction_with_any(tx_analyser, address, array_address)\n",
    "    return count_interaction_with_any > 0"
   ]
  },
  {
   "cell_type": "code",
   "execution_count": 154,
   "metadata": {},
   "outputs": [],
   "source": [
    "label_query = '''\n",
    "SELECT ADDRESS, CREATOR, LABEL_TYPE, ADDRESS_NAME, PROJECT_NAME\n",
    "FROM crosschain.core.address_labels \n",
    "WHERE BLOCKCHAIN='optimism'\n",
    "AND LABEL_SUBTYPE = 'pool' \n",
    ";'''\n",
    "df_label = flipside_api.execute_query(label_query)"
   ]
  },
  {
   "cell_type": "code",
   "execution_count": 155,
   "metadata": {},
   "outputs": [],
   "source": [
    "# extract all the pool addresses\n",
    "array_pool_address = df_label['address'].unique()"
   ]
  },
  {
   "cell_type": "code",
   "execution_count": 156,
   "metadata": {},
   "outputs": [],
   "source": [
    "tx_analyser.set_group_by_sorted_EOA()"
   ]
  },
  {
   "cell_type": "code",
   "execution_count": 157,
   "metadata": {},
   "outputs": [],
   "source": [
    "# Compute the number of interactions with any of the pools for each address\n",
    "df_matching_address['count_interaction_with_pool'] = df_matching_address['address'].apply(lambda x: count_interaction_with_any(tx_analyser, x, array_pool_address))"
   ]
  },
  {
   "cell_type": "code",
   "execution_count": 158,
   "metadata": {},
   "outputs": [
    {
     "data": {
      "text/plain": [
       "0.496974681313517"
      ]
     },
     "execution_count": 158,
     "metadata": {},
     "output_type": "execute_result"
    }
   ],
   "source": [
    "(df_matching_address['count_interaction_with_pool'] > 0).sum() / len(df_matching_address)"
   ]
  },
  {
   "attachments": {},
   "cell_type": "markdown",
   "metadata": {},
   "source": [
    "From these tags lets flag any address that have interacted with a toxic wallet"
   ]
  },
  {
   "cell_type": "code",
   "execution_count": 159,
   "metadata": {},
   "outputs": [],
   "source": [
    "label_query = '''\n",
    "SELECT ADDRESS, CREATOR, LABEL_TYPE, ADDRESS_NAME, PROJECT_NAME\n",
    "FROM crosschain.core.address_labels \n",
    "WHERE BLOCKCHAIN='optimism'\n",
    "AND LABEL_SUBTYPE = 'toxic'\n",
    ";'''\n",
    "df_toxic = flipside_api.execute_query(label_query)"
   ]
  },
  {
   "cell_type": "code",
   "execution_count": 160,
   "metadata": {},
   "outputs": [
    {
     "data": {
      "text/plain": [
       "(0, 0)"
      ]
     },
     "execution_count": 160,
     "metadata": {},
     "output_type": "execute_result"
    }
   ],
   "source": [
    "df_toxic.shape"
   ]
  },
  {
   "cell_type": "code",
   "execution_count": 162,
   "metadata": {},
   "outputs": [],
   "source": [
    "# Compute the number of interactions with any of the scam for each address\n",
    "if df_toxic.shape[0] > 0:\n",
    "    df_matching_address['count_interaction_with_toxic'] = df_matching_address['address'].apply(lambda x: count_interaction_with_any(tx_analyser, x, df_toxic['address'].unique()))\n",
    "else:\n",
    "    df_matching_address['count_interaction_with_toxic'] = 0"
   ]
  },
  {
   "cell_type": "code",
   "execution_count": 163,
   "metadata": {},
   "outputs": [
    {
     "name": "stdout",
     "output_type": "stream",
     "text": [
      "Percentage of addresses that have interacted with a toxic address: 0%\n"
     ]
    }
   ],
   "source": [
    "print(f'Percentage of addresses that have interacted with a toxic address: {int((df_matching_address[\"count_interaction_with_toxic\"] > 0).sum() / len(df_matching_address) *100)}%')"
   ]
  },
  {
   "attachments": {},
   "cell_type": "markdown",
   "metadata": {},
   "source": [
    "I found the tag_name \"airdrop master\" could be interesting "
   ]
  },
  {
   "cell_type": "code",
   "execution_count": 182,
   "metadata": {},
   "outputs": [],
   "source": [
    "query_airdrop_master = '''\n",
    "SELECT BLOCKCHAIN, CREATOR, ADDRESS, TAG_NAME\n",
    "FROM crosschain.core.address_tags \n",
    "WHERE TAG_NAME = 'airdrop master'\n",
    ";\n",
    "'''\n",
    "df_airdrop_master = flipside_api.execute_query(query_airdrop_master)"
   ]
  },
  {
   "cell_type": "code",
   "execution_count": 183,
   "metadata": {},
   "outputs": [
    {
     "data": {
      "text/html": [
       "<div>\n",
       "<style scoped>\n",
       "    .dataframe tbody tr th:only-of-type {\n",
       "        vertical-align: middle;\n",
       "    }\n",
       "\n",
       "    .dataframe tbody tr th {\n",
       "        vertical-align: top;\n",
       "    }\n",
       "\n",
       "    .dataframe thead th {\n",
       "        text-align: right;\n",
       "    }\n",
       "</style>\n",
       "<table border=\"1\" class=\"dataframe\">\n",
       "  <thead>\n",
       "    <tr style=\"text-align: right;\">\n",
       "      <th></th>\n",
       "      <th>blockchain</th>\n",
       "      <th>creator</th>\n",
       "      <th>address</th>\n",
       "      <th>tag_name</th>\n",
       "      <th>__row_index</th>\n",
       "    </tr>\n",
       "  </thead>\n",
       "  <tbody>\n",
       "    <tr>\n",
       "      <th>0</th>\n",
       "      <td>ethereum</td>\n",
       "      <td>flipside</td>\n",
       "      <td>0x366b862656d5f06d506d6fc2c1e31425c2ccfc3f</td>\n",
       "      <td>airdrop master</td>\n",
       "      <td>0</td>\n",
       "    </tr>\n",
       "    <tr>\n",
       "      <th>1</th>\n",
       "      <td>ethereum</td>\n",
       "      <td>flipside</td>\n",
       "      <td>0x1637c6985673c6b92b2c97faf4f9dfec7a77ee25</td>\n",
       "      <td>airdrop master</td>\n",
       "      <td>1</td>\n",
       "    </tr>\n",
       "    <tr>\n",
       "      <th>2</th>\n",
       "      <td>ethereum</td>\n",
       "      <td>flipside</td>\n",
       "      <td>0xf1c0dc910ecfb7260e97e79d9e89774dca231456</td>\n",
       "      <td>airdrop master</td>\n",
       "      <td>2</td>\n",
       "    </tr>\n",
       "    <tr>\n",
       "      <th>3</th>\n",
       "      <td>ethereum</td>\n",
       "      <td>flipside</td>\n",
       "      <td>0xe92156af7db06361a508f3c2fc4a382edb9ee2b0</td>\n",
       "      <td>airdrop master</td>\n",
       "      <td>3</td>\n",
       "    </tr>\n",
       "    <tr>\n",
       "      <th>4</th>\n",
       "      <td>ethereum</td>\n",
       "      <td>flipside</td>\n",
       "      <td>0x39f234a6ef150346e887a036c4ea1642e26e87ec</td>\n",
       "      <td>airdrop master</td>\n",
       "      <td>4</td>\n",
       "    </tr>\n",
       "    <tr>\n",
       "      <th>...</th>\n",
       "      <td>...</td>\n",
       "      <td>...</td>\n",
       "      <td>...</td>\n",
       "      <td>...</td>\n",
       "      <td>...</td>\n",
       "    </tr>\n",
       "    <tr>\n",
       "      <th>65533</th>\n",
       "      <td>ethereum</td>\n",
       "      <td>flipside</td>\n",
       "      <td>0xc85b0b3dc93e6be5a15df75f89acc6855cbf4252</td>\n",
       "      <td>airdrop master</td>\n",
       "      <td>165533</td>\n",
       "    </tr>\n",
       "    <tr>\n",
       "      <th>65534</th>\n",
       "      <td>ethereum</td>\n",
       "      <td>flipside</td>\n",
       "      <td>0x7da9949382c0f36700b563712ff0a6e38374aa92</td>\n",
       "      <td>airdrop master</td>\n",
       "      <td>165534</td>\n",
       "    </tr>\n",
       "    <tr>\n",
       "      <th>65535</th>\n",
       "      <td>ethereum</td>\n",
       "      <td>flipside</td>\n",
       "      <td>0x1b84fd3a36bd551da54d9d5607885f1461ee9dc6</td>\n",
       "      <td>airdrop master</td>\n",
       "      <td>165535</td>\n",
       "    </tr>\n",
       "    <tr>\n",
       "      <th>65536</th>\n",
       "      <td>ethereum</td>\n",
       "      <td>flipside</td>\n",
       "      <td>0x2fb27655744ffd73ef90e42dc2f56591be58d4d3</td>\n",
       "      <td>airdrop master</td>\n",
       "      <td>165536</td>\n",
       "    </tr>\n",
       "    <tr>\n",
       "      <th>65537</th>\n",
       "      <td>ethereum</td>\n",
       "      <td>flipside</td>\n",
       "      <td>0xf2455a4c6fcc6f41f59222f4244afddc85ff1ed7</td>\n",
       "      <td>airdrop master</td>\n",
       "      <td>165537</td>\n",
       "    </tr>\n",
       "  </tbody>\n",
       "</table>\n",
       "<p>265538 rows × 5 columns</p>\n",
       "</div>"
      ],
      "text/plain": [
       "      blockchain   creator                                     address   \n",
       "0       ethereum  flipside  0x366b862656d5f06d506d6fc2c1e31425c2ccfc3f  \\\n",
       "1       ethereum  flipside  0x1637c6985673c6b92b2c97faf4f9dfec7a77ee25   \n",
       "2       ethereum  flipside  0xf1c0dc910ecfb7260e97e79d9e89774dca231456   \n",
       "3       ethereum  flipside  0xe92156af7db06361a508f3c2fc4a382edb9ee2b0   \n",
       "4       ethereum  flipside  0x39f234a6ef150346e887a036c4ea1642e26e87ec   \n",
       "...          ...       ...                                         ...   \n",
       "65533   ethereum  flipside  0xc85b0b3dc93e6be5a15df75f89acc6855cbf4252   \n",
       "65534   ethereum  flipside  0x7da9949382c0f36700b563712ff0a6e38374aa92   \n",
       "65535   ethereum  flipside  0x1b84fd3a36bd551da54d9d5607885f1461ee9dc6   \n",
       "65536   ethereum  flipside  0x2fb27655744ffd73ef90e42dc2f56591be58d4d3   \n",
       "65537   ethereum  flipside  0xf2455a4c6fcc6f41f59222f4244afddc85ff1ed7   \n",
       "\n",
       "             tag_name  __row_index  \n",
       "0      airdrop master            0  \n",
       "1      airdrop master            1  \n",
       "2      airdrop master            2  \n",
       "3      airdrop master            3  \n",
       "4      airdrop master            4  \n",
       "...               ...          ...  \n",
       "65533  airdrop master       165533  \n",
       "65534  airdrop master       165534  \n",
       "65535  airdrop master       165535  \n",
       "65536  airdrop master       165536  \n",
       "65537  airdrop master       165537  \n",
       "\n",
       "[265538 rows x 5 columns]"
      ]
     },
     "execution_count": 183,
     "metadata": {},
     "output_type": "execute_result"
    }
   ],
   "source": [
    "df_airdrop_master"
   ]
  },
  {
   "cell_type": "code",
   "execution_count": 184,
   "metadata": {},
   "outputs": [
    {
     "name": "stdout",
     "output_type": "stream",
     "text": [
      "Percentage of addresses that interacted with airdrop master: 3%\n"
     ]
    }
   ],
   "source": [
    "# Compute the number of interactions with any of the aidrop for each address\n",
    "df_matching_address['count_interaction_with_airdrop_m'] = df_matching_address['address'].apply(lambda x: count_interaction_with_any(tx_analyser, x, df_airdrop_master['address'].unique()))\n",
    "print(f'Percentage of addresses that interacted with airdrop master: {int((df_matching_address[\"count_interaction_with_airdrop_m\"] > 0).sum() / len(df_matching_address) * 100)}%')"
   ]
  },
  {
   "cell_type": "code",
   "execution_count": 185,
   "metadata": {},
   "outputs": [
    {
     "name": "stdout",
     "output_type": "stream",
     "text": [
      "Percentage of addresses that are airdrop master: 4%\n"
     ]
    }
   ],
   "source": [
    "# Boolean whether the address is a aidrop master\n",
    "df_matching_address['is_airdrop_master'] = df_matching_address['address'].apply(lambda x: x in df_airdrop_master['address'].unique()) \n",
    "print(f'Percentage of addresses that are airdrop master: {int((df_matching_address[\"is_airdrop_master\"]).sum() / len(df_matching_address) * 100)}%')"
   ]
  },
  {
   "cell_type": "code",
   "execution_count": 186,
   "metadata": {},
   "outputs": [],
   "source": [
    "sql_query_tornado = '''\n",
    "SELECT DISTINCT PROJECT_NAME, ADDRESS\n",
    "FROM crosschain.core.address_labels \n",
    "WHERE BLOCKCHAIN='optimism'\n",
    "AND PROJECT_NAME LIKE '%tornado%'\n",
    ";\n",
    "'''\n",
    "df_tornado = flipside_api.execute_query(sql_query_tornado)"
   ]
  },
  {
   "cell_type": "code",
   "execution_count": 187,
   "metadata": {},
   "outputs": [
    {
     "name": "stdout",
     "output_type": "stream",
     "text": [
      "Percentage of addresses that interacted with tornado: 1%\n"
     ]
    }
   ],
   "source": [
    "# Count the number of interactions with tornado\n",
    "df_matching_address['count_interaction_with_tornado'] = df_matching_address['address'].apply(lambda x: count_interaction_with_any(tx_analyser, x, df_tornado['address'].unique()))\n",
    "print(f'Percentage of addresses that interacted with tornado: {int((df_matching_address[\"count_interaction_with_tornado\"] > 0).sum() / len(df_matching_address) * 100)}%')"
   ]
  },
  {
   "cell_type": "code",
   "execution_count": 188,
   "metadata": {},
   "outputs": [
    {
     "name": "stdout",
     "output_type": "stream",
     "text": [
      "Percentage of addresses that interacted with disperse: 0%\n"
     ]
    }
   ],
   "source": [
    "# Count the number of time the address interatec with disperse contract: '0xD152f549545093347A162Dce210e7293f1452150'\n",
    "df_matching_address['count_interaction_with_disperse'] = df_matching_address['address'].apply(lambda x: count_interaction_with_any(tx_analyser, x, [str.lower('0xD152f549545093347A162Dce210e7293f1452150')]))\n",
    "print(f'Percentage of addresses that interacted with disperse: {int((df_matching_address[\"count_interaction_with_disperse\"] > 0).sum() / len(df_matching_address) * 100)}%')"
   ]
  },
  {
   "cell_type": "code",
   "execution_count": 189,
   "metadata": {},
   "outputs": [
    {
     "data": {
      "text/html": [
       "<div>\n",
       "<style scoped>\n",
       "    .dataframe tbody tr th:only-of-type {\n",
       "        vertical-align: middle;\n",
       "    }\n",
       "\n",
       "    .dataframe tbody tr th {\n",
       "        vertical-align: top;\n",
       "    }\n",
       "\n",
       "    .dataframe thead th {\n",
       "        text-align: right;\n",
       "    }\n",
       "</style>\n",
       "<table border=\"1\" class=\"dataframe\">\n",
       "  <thead>\n",
       "    <tr style=\"text-align: right;\">\n",
       "      <th></th>\n",
       "      <th>lcs</th>\n",
       "      <th>cluster_size_lcs</th>\n",
       "      <th>mean_score_lcs</th>\n",
       "      <th>max_score_lcs</th>\n",
       "      <th>count_interaction_with_pool</th>\n",
       "      <th>count_interaction_with_toxic</th>\n",
       "      <th>count_interaction_with_airdrop_m</th>\n",
       "      <th>count_interaction_with_tornado</th>\n",
       "      <th>count_interaction_with_disperse</th>\n",
       "    </tr>\n",
       "  </thead>\n",
       "  <tbody>\n",
       "    <tr>\n",
       "      <th>count</th>\n",
       "      <td>17023.0</td>\n",
       "      <td>17023.000000</td>\n",
       "      <td>17023.000000</td>\n",
       "      <td>17023.000000</td>\n",
       "      <td>17023.000000</td>\n",
       "      <td>17023.0</td>\n",
       "      <td>17023.000000</td>\n",
       "      <td>17023.000000</td>\n",
       "      <td>17023.000000</td>\n",
       "    </tr>\n",
       "    <tr>\n",
       "      <th>mean</th>\n",
       "      <td>0.0</td>\n",
       "      <td>2.819186</td>\n",
       "      <td>0.009255</td>\n",
       "      <td>0.010837</td>\n",
       "      <td>6.257240</td>\n",
       "      <td>0.0</td>\n",
       "      <td>0.142807</td>\n",
       "      <td>0.020795</td>\n",
       "      <td>0.005463</td>\n",
       "    </tr>\n",
       "    <tr>\n",
       "      <th>std</th>\n",
       "      <td>0.0</td>\n",
       "      <td>18.442207</td>\n",
       "      <td>0.036681</td>\n",
       "      <td>0.042714</td>\n",
       "      <td>16.397703</td>\n",
       "      <td>0.0</td>\n",
       "      <td>1.620024</td>\n",
       "      <td>0.171839</td>\n",
       "      <td>0.208290</td>\n",
       "    </tr>\n",
       "    <tr>\n",
       "      <th>min</th>\n",
       "      <td>0.0</td>\n",
       "      <td>0.000000</td>\n",
       "      <td>0.000000</td>\n",
       "      <td>0.000000</td>\n",
       "      <td>0.000000</td>\n",
       "      <td>0.0</td>\n",
       "      <td>0.000000</td>\n",
       "      <td>0.000000</td>\n",
       "      <td>0.000000</td>\n",
       "    </tr>\n",
       "    <tr>\n",
       "      <th>10%</th>\n",
       "      <td>0.0</td>\n",
       "      <td>0.000000</td>\n",
       "      <td>0.000000</td>\n",
       "      <td>0.000000</td>\n",
       "      <td>0.000000</td>\n",
       "      <td>0.0</td>\n",
       "      <td>0.000000</td>\n",
       "      <td>0.000000</td>\n",
       "      <td>0.000000</td>\n",
       "    </tr>\n",
       "    <tr>\n",
       "      <th>25%</th>\n",
       "      <td>0.0</td>\n",
       "      <td>0.000000</td>\n",
       "      <td>0.000000</td>\n",
       "      <td>0.000000</td>\n",
       "      <td>0.000000</td>\n",
       "      <td>0.0</td>\n",
       "      <td>0.000000</td>\n",
       "      <td>0.000000</td>\n",
       "      <td>0.000000</td>\n",
       "    </tr>\n",
       "    <tr>\n",
       "      <th>50%</th>\n",
       "      <td>0.0</td>\n",
       "      <td>0.000000</td>\n",
       "      <td>0.000000</td>\n",
       "      <td>0.000000</td>\n",
       "      <td>0.000000</td>\n",
       "      <td>0.0</td>\n",
       "      <td>0.000000</td>\n",
       "      <td>0.000000</td>\n",
       "      <td>0.000000</td>\n",
       "    </tr>\n",
       "    <tr>\n",
       "      <th>75%</th>\n",
       "      <td>0.0</td>\n",
       "      <td>0.000000</td>\n",
       "      <td>0.000000</td>\n",
       "      <td>0.000000</td>\n",
       "      <td>4.000000</td>\n",
       "      <td>0.0</td>\n",
       "      <td>0.000000</td>\n",
       "      <td>0.000000</td>\n",
       "      <td>0.000000</td>\n",
       "    </tr>\n",
       "    <tr>\n",
       "      <th>90%</th>\n",
       "      <td>0.0</td>\n",
       "      <td>0.000000</td>\n",
       "      <td>0.000000</td>\n",
       "      <td>0.000000</td>\n",
       "      <td>22.000000</td>\n",
       "      <td>0.0</td>\n",
       "      <td>0.000000</td>\n",
       "      <td>0.000000</td>\n",
       "      <td>0.000000</td>\n",
       "    </tr>\n",
       "    <tr>\n",
       "      <th>max</th>\n",
       "      <td>0.0</td>\n",
       "      <td>328.000000</td>\n",
       "      <td>0.200000</td>\n",
       "      <td>0.200000</td>\n",
       "      <td>1010.000000</td>\n",
       "      <td>0.0</td>\n",
       "      <td>85.000000</td>\n",
       "      <td>5.000000</td>\n",
       "      <td>21.000000</td>\n",
       "    </tr>\n",
       "  </tbody>\n",
       "</table>\n",
       "</div>"
      ],
      "text/plain": [
       "           lcs  cluster_size_lcs  mean_score_lcs  max_score_lcs   \n",
       "count  17023.0      17023.000000    17023.000000   17023.000000  \\\n",
       "mean       0.0          2.819186        0.009255       0.010837   \n",
       "std        0.0         18.442207        0.036681       0.042714   \n",
       "min        0.0          0.000000        0.000000       0.000000   \n",
       "10%        0.0          0.000000        0.000000       0.000000   \n",
       "25%        0.0          0.000000        0.000000       0.000000   \n",
       "50%        0.0          0.000000        0.000000       0.000000   \n",
       "75%        0.0          0.000000        0.000000       0.000000   \n",
       "90%        0.0          0.000000        0.000000       0.000000   \n",
       "max        0.0        328.000000        0.200000       0.200000   \n",
       "\n",
       "       count_interaction_with_pool  count_interaction_with_toxic   \n",
       "count                 17023.000000                       17023.0  \\\n",
       "mean                      6.257240                           0.0   \n",
       "std                      16.397703                           0.0   \n",
       "min                       0.000000                           0.0   \n",
       "10%                       0.000000                           0.0   \n",
       "25%                       0.000000                           0.0   \n",
       "50%                       0.000000                           0.0   \n",
       "75%                       4.000000                           0.0   \n",
       "90%                      22.000000                           0.0   \n",
       "max                    1010.000000                           0.0   \n",
       "\n",
       "       count_interaction_with_airdrop_m  count_interaction_with_tornado   \n",
       "count                      17023.000000                    17023.000000  \\\n",
       "mean                           0.142807                        0.020795   \n",
       "std                            1.620024                        0.171839   \n",
       "min                            0.000000                        0.000000   \n",
       "10%                            0.000000                        0.000000   \n",
       "25%                            0.000000                        0.000000   \n",
       "50%                            0.000000                        0.000000   \n",
       "75%                            0.000000                        0.000000   \n",
       "90%                            0.000000                        0.000000   \n",
       "max                           85.000000                        5.000000   \n",
       "\n",
       "       count_interaction_with_disperse  \n",
       "count                     17023.000000  \n",
       "mean                          0.005463  \n",
       "std                           0.208290  \n",
       "min                           0.000000  \n",
       "10%                           0.000000  \n",
       "25%                           0.000000  \n",
       "50%                           0.000000  \n",
       "75%                           0.000000  \n",
       "90%                           0.000000  \n",
       "max                          21.000000  "
      ]
     },
     "execution_count": 189,
     "metadata": {},
     "output_type": "execute_result"
    }
   ],
   "source": [
    "df_matching_address.describe(percentiles=[0.1, 0.25, 0.5, 0.75, 0.9])"
   ]
  },
  {
   "cell_type": "code",
   "execution_count": 190,
   "metadata": {},
   "outputs": [],
   "source": [
    "df_matching_address['has_interaction_toxic'] = df_matching_address['count_interaction_with_toxic'] > 0\n",
    "df_matching_address['has_no_pool_interaction'] = df_matching_address['count_interaction_with_pool'] < 6\n",
    "df_matching_address['has_interaction_airdrop_m'] = df_matching_address['count_interaction_with_airdrop_m'] > 0\n",
    "df_matching_address['has_interaction_tornado'] = df_matching_address['count_interaction_with_tornado'] > 0\n",
    "df_matching_address['has_interaction_disperse'] = df_matching_address['count_interaction_with_disperse'] > 0"
   ]
  },
  {
   "cell_type": "code",
   "execution_count": 191,
   "metadata": {},
   "outputs": [],
   "source": [
    "boolean_features = ['has_lcs', 'seed_suspicious', 'has_interaction_toxic', 'has_no_pool_interaction', 'has_interaction_airdrop_m', 'has_interaction_tornado', 'has_interaction_disperse', 'is_airdrop_master', 'interacted_other_ctbt']"
   ]
  },
  {
   "cell_type": "code",
   "execution_count": 192,
   "metadata": {},
   "outputs": [
    {
     "data": {
      "text/plain": [
       "has_lcs                       1082\n",
       "seed_suspicious               5229\n",
       "has_interaction_toxic            0\n",
       "has_no_pool_interaction      13413\n",
       "has_interaction_airdrop_m      591\n",
       "has_interaction_tornado        298\n",
       "has_interaction_disperse        37\n",
       "is_airdrop_master              728\n",
       "interacted_other_ctbt         3315\n",
       "dtype: int64"
      ]
     },
     "execution_count": 192,
     "metadata": {},
     "output_type": "execute_result"
    }
   ],
   "source": [
    "df_matching_address[boolean_features].sum() "
   ]
  },
  {
   "cell_type": "code",
   "execution_count": 193,
   "metadata": {},
   "outputs": [
    {
     "data": {
      "text/plain": [
       "17023"
      ]
     },
     "execution_count": 193,
     "metadata": {},
     "output_type": "execute_result"
    }
   ],
   "source": [
    "len(df_matching_address)"
   ]
  },
  {
   "attachments": {},
   "cell_type": "markdown",
   "metadata": {},
   "source": [
    "### Look at the addresses with at least one flag"
   ]
  },
  {
   "attachments": {},
   "cell_type": "markdown",
   "metadata": {},
   "source": [
    "We are going to review the addresses that have at least 1 flag:\n",
    "- has_intercation_toxic \n",
    "- has_interaction_disperse\n",
    "- has_interaction_airdrop_master\n",
    "- is airdrop master\n",
    "- interacted with other contributor and less than 5 tx\n",
    "- has_lcs\n",
    "\n",
    "remove seed suspicious because many people use bridges to fund their wallet\n",
    "\n",
    "I decided to remove tornado cash because someone can be anonimous with out being a sybil"
   ]
  },
  {
   "cell_type": "code",
   "execution_count": 194,
   "metadata": {},
   "outputs": [],
   "source": [
    "df_matching_address['interact_less_5tx'] = np.logical_and(df_matching_address['interacted_other_ctbt'], df_matching_address['less_5_tx'])"
   ]
  },
  {
   "cell_type": "code",
   "execution_count": 195,
   "metadata": {},
   "outputs": [],
   "source": [
    "interaction_bool = ['has_lcs', 'has_interaction_toxic', 'has_interaction_airdrop_m', 'has_interaction_disperse', 'is_airdrop_master', 'interact_less_5tx']"
   ]
  },
  {
   "cell_type": "code",
   "execution_count": 196,
   "metadata": {},
   "outputs": [
    {
     "data": {
      "text/plain": [
       "has_lcs                      1082\n",
       "has_interaction_toxic           0\n",
       "has_interaction_airdrop_m     591\n",
       "has_interaction_disperse       37\n",
       "is_airdrop_master             728\n",
       "interact_less_5tx              34\n",
       "dtype: int64"
      ]
     },
     "execution_count": 196,
     "metadata": {},
     "output_type": "execute_result"
    }
   ],
   "source": [
    "df_matching_address[interaction_bool].sum()"
   ]
  },
  {
   "cell_type": "code",
   "execution_count": 197,
   "metadata": {},
   "outputs": [
    {
     "data": {
      "text/html": [
       "<div>\n",
       "<style scoped>\n",
       "    .dataframe tbody tr th:only-of-type {\n",
       "        vertical-align: middle;\n",
       "    }\n",
       "\n",
       "    .dataframe tbody tr th {\n",
       "        vertical-align: top;\n",
       "    }\n",
       "\n",
       "    .dataframe thead th {\n",
       "        text-align: right;\n",
       "    }\n",
       "</style>\n",
       "<table border=\"1\" class=\"dataframe\">\n",
       "  <thead>\n",
       "    <tr style=\"text-align: right;\">\n",
       "      <th></th>\n",
       "      <th>has_lcs</th>\n",
       "      <th>has_interaction_toxic</th>\n",
       "      <th>has_interaction_airdrop_m</th>\n",
       "      <th>has_interaction_disperse</th>\n",
       "      <th>is_airdrop_master</th>\n",
       "      <th>interact_less_5tx</th>\n",
       "    </tr>\n",
       "  </thead>\n",
       "  <tbody>\n",
       "    <tr>\n",
       "      <th>has_lcs</th>\n",
       "      <td>1.000000</td>\n",
       "      <td>0.0</td>\n",
       "      <td>0.002397</td>\n",
       "      <td>0.000000</td>\n",
       "      <td>0.002215</td>\n",
       "      <td>0.001795</td>\n",
       "    </tr>\n",
       "    <tr>\n",
       "      <th>has_interaction_toxic</th>\n",
       "      <td>0.000000</td>\n",
       "      <td>1.0</td>\n",
       "      <td>0.000000</td>\n",
       "      <td>0.000000</td>\n",
       "      <td>0.000000</td>\n",
       "      <td>0.000000</td>\n",
       "    </tr>\n",
       "    <tr>\n",
       "      <th>has_interaction_airdrop_m</th>\n",
       "      <td>0.002397</td>\n",
       "      <td>0.0</td>\n",
       "      <td>1.000000</td>\n",
       "      <td>0.000000</td>\n",
       "      <td>0.157018</td>\n",
       "      <td>0.003210</td>\n",
       "    </tr>\n",
       "    <tr>\n",
       "      <th>has_interaction_disperse</th>\n",
       "      <td>0.000000</td>\n",
       "      <td>0.0</td>\n",
       "      <td>0.000000</td>\n",
       "      <td>1.000000</td>\n",
       "      <td>0.002621</td>\n",
       "      <td>0.000000</td>\n",
       "    </tr>\n",
       "    <tr>\n",
       "      <th>is_airdrop_master</th>\n",
       "      <td>0.002215</td>\n",
       "      <td>0.0</td>\n",
       "      <td>0.157018</td>\n",
       "      <td>0.002621</td>\n",
       "      <td>1.000000</td>\n",
       "      <td>0.000000</td>\n",
       "    </tr>\n",
       "    <tr>\n",
       "      <th>interact_less_5tx</th>\n",
       "      <td>0.001795</td>\n",
       "      <td>0.0</td>\n",
       "      <td>0.003210</td>\n",
       "      <td>0.000000</td>\n",
       "      <td>0.000000</td>\n",
       "      <td>1.000000</td>\n",
       "    </tr>\n",
       "  </tbody>\n",
       "</table>\n",
       "</div>"
      ],
      "text/plain": [
       "                            has_lcs  has_interaction_toxic   \n",
       "has_lcs                    1.000000                    0.0  \\\n",
       "has_interaction_toxic      0.000000                    1.0   \n",
       "has_interaction_airdrop_m  0.002397                    0.0   \n",
       "has_interaction_disperse   0.000000                    0.0   \n",
       "is_airdrop_master          0.002215                    0.0   \n",
       "interact_less_5tx          0.001795                    0.0   \n",
       "\n",
       "                           has_interaction_airdrop_m   \n",
       "has_lcs                                     0.002397  \\\n",
       "has_interaction_toxic                       0.000000   \n",
       "has_interaction_airdrop_m                   1.000000   \n",
       "has_interaction_disperse                    0.000000   \n",
       "is_airdrop_master                           0.157018   \n",
       "interact_less_5tx                           0.003210   \n",
       "\n",
       "                           has_interaction_disperse  is_airdrop_master   \n",
       "has_lcs                                    0.000000           0.002215  \\\n",
       "has_interaction_toxic                      0.000000           0.000000   \n",
       "has_interaction_airdrop_m                  0.000000           0.157018   \n",
       "has_interaction_disperse                   1.000000           0.002621   \n",
       "is_airdrop_master                          0.002621           1.000000   \n",
       "interact_less_5tx                          0.000000           0.000000   \n",
       "\n",
       "                           interact_less_5tx  \n",
       "has_lcs                             0.001795  \n",
       "has_interaction_toxic               0.000000  \n",
       "has_interaction_airdrop_m           0.003210  \n",
       "has_interaction_disperse            0.000000  \n",
       "is_airdrop_master                   0.000000  \n",
       "interact_less_5tx                   1.000000  "
      ]
     },
     "execution_count": 197,
     "metadata": {},
     "output_type": "execute_result"
    }
   ],
   "source": [
    "from scipy.spatial.distance import pdist\n",
    "\n",
    "def jaccard_similarity_matrix(df):\n",
    "    \n",
    "    n = df.shape[1]\n",
    "    scores = 1 - pdist(np.array(df).T, metric='jaccard')\n",
    "    result = np.zeros((n,n))\n",
    "    result[np.triu_indices(n, k=1)] = scores\n",
    "    result += result.T\n",
    "    np.fill_diagonal(result, 1)\n",
    "    return pd.DataFrame(result, index=df.columns, columns=df.columns)\n",
    "\n",
    "jaccard_similarity = jaccard_similarity_matrix(df_matching_address[interaction_bool])\n",
    "jaccard_similarity"
   ]
  },
  {
   "cell_type": "code",
   "execution_count": 198,
   "metadata": {},
   "outputs": [
    {
     "data": {
      "text/plain": [
       "<Axes: >"
      ]
     },
     "execution_count": 198,
     "metadata": {},
     "output_type": "execute_result"
    },
    {
     "data": {
      "image/png": "[encoded data removed]",
      "text/plain": [
       "<Figure size 640x480 with 2 Axes>"
      ]
     },
     "metadata": {},
     "output_type": "display_data"
    }
   ],
   "source": [
    "import seaborn as sns\n",
    "sns.heatmap(jaccard_similarity, annot=True)"
   ]
  },
  {
   "cell_type": "code",
   "execution_count": 199,
   "metadata": {},
   "outputs": [
    {
     "name": "stdout",
     "output_type": "stream",
     "text": [
      "Number of addresses that interacted with a suspicious contract or address: 2282\n"
     ]
    }
   ],
   "source": [
    "df_matching_address['flagged'] = df_matching_address[interaction_bool].sum(axis=1) > 0\n",
    "df_interact_sus_2 = df_matching_address[df_matching_address['flagged'] == True]\n",
    "print(f'Number of addresses that interacted with a suspicious contract or address: {df_interact_sus_2.shape[0]}')"
   ]
  },
  {
   "cell_type": "code",
   "execution_count": 200,
   "metadata": {},
   "outputs": [],
   "source": [
    "boolean_to_keep = ['has_lcs', 'seed_suspicious', 'has_interaction_toxic', 'has_no_pool_interaction', 'has_interaction_tornado', 'has_interaction_disperse', 'is_airdrop_master', 'has_interaction_airdrop_m', 'interacted_other_ctbt', 'interact_less_5tx', 'flagged']"
   ]
  },
  {
   "cell_type": "code",
   "execution_count": 201,
   "metadata": {},
   "outputs": [
    {
     "data": {
      "text/plain": [
       "has_lcs                       1082\n",
       "seed_suspicious               5229\n",
       "has_interaction_toxic            0\n",
       "has_no_pool_interaction      13413\n",
       "has_interaction_tornado        298\n",
       "has_interaction_disperse        37\n",
       "is_airdrop_master              728\n",
       "has_interaction_airdrop_m      591\n",
       "interacted_other_ctbt         3315\n",
       "interact_less_5tx               34\n",
       "flagged                       2282\n",
       "dtype: int64"
      ]
     },
     "execution_count": 201,
     "metadata": {},
     "output_type": "execute_result"
    }
   ],
   "source": [
    "df_matching_address[boolean_to_keep].sum()"
   ]
  },
  {
   "cell_type": "code",
   "execution_count": 202,
   "metadata": {},
   "outputs": [
    {
     "name": "stdout",
     "output_type": "stream",
     "text": [
      "number of squelched votes out of 57366\n"
     ]
    },
    {
     "data": {
      "text/plain": [
       "flagged    8626\n",
       "dtype: int64"
      ]
     },
     "execution_count": 202,
     "metadata": {},
     "output_type": "execute_result"
    }
   ],
   "source": [
    "final_merge = df_votes.merge(df_matching_address, left_on='voter', right_on='address', how='left')\n",
    "print(f'number of squelched votes out of {final_merge.shape[0]}')\n",
    "final_merge[['flagged']].sum() "
   ]
  },
  {
   "cell_type": "code",
   "execution_count": 203,
   "metadata": {},
   "outputs": [
    {
     "name": "stdout",
     "output_type": "stream",
     "text": [
      "(57366, 6)\n",
      "(57366, 31)\n"
     ]
    }
   ],
   "source": [
    "print(df_votes.shape)\n",
    "print(final_merge.shape)"
   ]
  },
  {
   "cell_type": "code",
   "execution_count": 204,
   "metadata": {},
   "outputs": [
    {
     "name": "stderr",
     "output_type": "stream",
     "text": [
      "C:\\Users\\DELL Admin\\AppData\\Local\\Temp\\ipykernel_12448\\3488879250.py:7: DtypeWarning: Columns (15,16) have mixed types. Specify dtype option on import or set low_memory=False.\n",
      "  df_votes_stephi = pd.read_csv(os.path.join(DATA_DIR_STEFI, CSV_STEPHI))\n"
     ]
    },
    {
     "name": "stdout",
     "output_type": "stream",
     "text": [
      "(81811, 19) votes stephi\n",
      "(57366, 31) final merge\n",
      "(57366, 33) votes merge\n"
     ]
    },
    {
     "data": {
      "image/png": "[encoded data removed]",
      "text/plain": [
       "<Figure size 640x480 with 2 Axes>"
      ]
     },
     "metadata": {},
     "output_type": "display_data"
    }
   ],
   "source": [
    "# Adding Stakeriddo and Gray flagged wallet\n",
    "\n",
    "DATA_DIR_STEFI = os.path.join(current_dir.parent.parent, 'stefi')\n",
    "CSV_STEPHI = 'sso_odc_analysis.csv'\n",
    "\n",
    "# load data\n",
    "df_votes_stephi = pd.read_csv(os.path.join(DATA_DIR_STEFI, CSV_STEPHI))\n",
    "print(f'{df_votes_stephi.shape} votes stephi')\n",
    "print(f'{final_merge.shape} final merge')\n",
    "df_stephi_bool_voter = df_votes_stephi[['voter', 'stakeridoo_detected', 'doge_detected']]\n",
    "df_merge = final_merge.merge(df_stephi_bool_voter.drop_duplicates(subset=['voter']), left_on='voter', right_on='voter', how='left')\n",
    "print(f'{df_merge.shape} votes merge')\n",
    "\n",
    "df_merge['stakeridoo_detected'].fillna(False, inplace=True)\n",
    "df_merge['doge_detected'].fillna(False, inplace=True)\n",
    "df_merge['odc_detected'] = np.logical_or(np.logical_or(df_merge['stakeridoo_detected'], df_merge['doge_detected']), df_merge['flagged'])\n",
    "\n",
    "boolean_jaccard = boolean_to_keep + ['stakeridoo_detected', 'doge_detected', 'odc_detected']\n",
    "jaccard_similarity_2 = jaccard_similarity_matrix(df_merge[boolean_jaccard])\n",
    "sns.heatmap(jaccard_similarity_2)\n",
    "\n",
    "df_merge.drop(columns=['address']).to_csv(f'../output_gitcoin/n_{CHAIN_ID}_{GRANT_ROUND_ID}.csv', index=False)"
   ]
  },
  {
   "cell_type": "code",
   "execution_count": 209,
   "metadata": {},
   "outputs": [],
   "source": [
    "df_merge.drop(columns=['address']).to_csv(f'../output_gitcoin/n_{CHAIN_ID}_{GRANT_ROUND_ID}.csv', index=False)"
   ]
  },
  {
   "cell_type": "code",
   "execution_count": 213,
   "metadata": {},
   "outputs": [
    {
     "data": {
      "text/plain": [
       "has_lcs                       1082\n",
       "seed_suspicious               5229\n",
       "has_interaction_toxic            0\n",
       "has_no_pool_interaction      13413\n",
       "has_interaction_tornado        298\n",
       "has_interaction_disperse        37\n",
       "is_airdrop_master              728\n",
       "has_interaction_airdrop_m      591\n",
       "interacted_other_ctbt         3315\n",
       "interact_less_5tx               34\n",
       "flagged                       2282\n",
       "stakeridoo_detected            136\n",
       "doge_detected                    2\n",
       "odc_detected                  2407\n",
       "dtype: int64"
      ]
     },
     "execution_count": 213,
     "metadata": {},
     "output_type": "execute_result"
    }
   ],
   "source": [
    "df_merge.drop_duplicates(subset=['voter'])[boolean_jaccard].sum(axis=0)"
   ]
  },
  {
   "cell_type": "code",
   "execution_count": 214,
   "metadata": {},
   "outputs": [
    {
     "data": {
      "text/plain": [
       "(17023, 34)"
      ]
     },
     "execution_count": 214,
     "metadata": {},
     "output_type": "execute_result"
    }
   ],
   "source": [
    "df_merge.drop_duplicates(subset=['voter']).shape"
   ]
  },
  {
   "cell_type": "code",
   "execution_count": 215,
   "metadata": {},
   "outputs": [
    {
     "data": {
      "text/plain": [
       "has_lcs                       1082\n",
       "seed_suspicious               5229\n",
       "has_interaction_toxic            0\n",
       "has_no_pool_interaction      13413\n",
       "has_interaction_tornado        298\n",
       "has_interaction_disperse        37\n",
       "is_airdrop_master              728\n",
       "has_interaction_airdrop_m      591\n",
       "interacted_other_ctbt         3315\n",
       "interact_less_5tx               34\n",
       "flagged                       2282\n",
       "dtype: int64"
      ]
     },
     "execution_count": 215,
     "metadata": {},
     "output_type": "execute_result"
    }
   ],
   "source": [
    "df_matching_address[boolean_to_keep].sum()"
   ]
  },
  {
   "cell_type": "code",
   "execution_count": 205,
   "metadata": {},
   "outputs": [
    {
     "data": {
      "text/plain": [
       "has_lcs                       3223\n",
       "seed_suspicious              18907\n",
       "has_interaction_toxic            0\n",
       "has_no_pool_interaction      41794\n",
       "has_interaction_tornado       1342\n",
       "has_interaction_disperse       128\n",
       "is_airdrop_master             3463\n",
       "has_interaction_airdrop_m     2606\n",
       "interacted_other_ctbt        10720\n",
       "interact_less_5tx              101\n",
       "flagged                       8626\n",
       "stakeridoo_detected            983\n",
       "doge_detected                    6\n",
       "odc_detected                  9558\n",
       "dtype: int64"
      ]
     },
     "execution_count": 205,
     "metadata": {},
     "output_type": "execute_result"
    }
   ],
   "source": [
    "df_merge[boolean_jaccard].sum(axis=0)"
   ]
  },
  {
   "cell_type": "code",
   "execution_count": 222,
   "metadata": {},
   "outputs": [
    {
     "data": {
      "text/html": [
       "<div>\n",
       "<style scoped>\n",
       "    .dataframe tbody tr th:only-of-type {\n",
       "        vertical-align: middle;\n",
       "    }\n",
       "\n",
       "    .dataframe tbody tr th {\n",
       "        vertical-align: top;\n",
       "    }\n",
       "\n",
       "    .dataframe thead th {\n",
       "        text-align: right;\n",
       "    }\n",
       "</style>\n",
       "<table border=\"1\" class=\"dataframe\">\n",
       "  <thead>\n",
       "    <tr style=\"text-align: right;\">\n",
       "      <th></th>\n",
       "      <th>block_timestamp</th>\n",
       "      <th>tx_hash</th>\n",
       "      <th>voter</th>\n",
       "      <th>amount_usd</th>\n",
       "      <th>__row_index</th>\n",
       "      <th>address</th>\n",
       "      <th>seed_same_naive</th>\n",
       "      <th>seed_same</th>\n",
       "      <th>seed_suspicious</th>\n",
       "      <th>less_5_tx</th>\n",
       "      <th>...</th>\n",
       "      <th>is_airdrop_master</th>\n",
       "      <th>count_interaction_with_tornado</th>\n",
       "      <th>count_interaction_with_disperse</th>\n",
       "      <th>has_interaction_airdrop_m</th>\n",
       "      <th>has_interaction_tornado</th>\n",
       "      <th>has_interaction_disperse</th>\n",
       "      <th>flagged</th>\n",
       "      <th>stakeridoo_detected</th>\n",
       "      <th>doge_detected</th>\n",
       "      <th>odc_detected</th>\n",
       "    </tr>\n",
       "    <tr>\n",
       "      <th>project</th>\n",
       "      <th></th>\n",
       "      <th></th>\n",
       "      <th></th>\n",
       "      <th></th>\n",
       "      <th></th>\n",
       "      <th></th>\n",
       "      <th></th>\n",
       "      <th></th>\n",
       "      <th></th>\n",
       "      <th></th>\n",
       "      <th></th>\n",
       "      <th></th>\n",
       "      <th></th>\n",
       "      <th></th>\n",
       "      <th></th>\n",
       "      <th></th>\n",
       "      <th></th>\n",
       "      <th></th>\n",
       "      <th></th>\n",
       "      <th></th>\n",
       "      <th></th>\n",
       "    </tr>\n",
       "  </thead>\n",
       "  <tbody>\n",
       "    <tr>\n",
       "      <th>0x91fbd3447077bfd97f5af4d2c033ecbc25788f89</th>\n",
       "      <td>2023-06-27T23:14:59.000Z</td>\n",
       "      <td>0xd30bb8483147faa7e53a7f374a32dcbaa404985032dd...</td>\n",
       "      <td>0xf06107faa1398fc800e00ad974e3a5b617e8e542</td>\n",
       "      <td>0.377385</td>\n",
       "      <td>223</td>\n",
       "      <td>0xf06107faa1398fc800e00ad974e3a5b617e8e542</td>\n",
       "      <td>True</td>\n",
       "      <td>True</td>\n",
       "      <td>False</td>\n",
       "      <td>False</td>\n",
       "      <td>...</td>\n",
       "      <td>False</td>\n",
       "      <td>0</td>\n",
       "      <td>0</td>\n",
       "      <td>False</td>\n",
       "      <td>False</td>\n",
       "      <td>False</td>\n",
       "      <td>True</td>\n",
       "      <td>False</td>\n",
       "      <td>False</td>\n",
       "      <td>True</td>\n",
       "    </tr>\n",
       "    <tr>\n",
       "      <th>0x8d36bbb74973dd04e31dcbce5778b16dd310bd9b</th>\n",
       "      <td>2023-06-27T23:14:59.000Z</td>\n",
       "      <td>0xd30bb8483147faa7e53a7f374a32dcbaa404985032dd...</td>\n",
       "      <td>0xf06107faa1398fc800e00ad974e3a5b617e8e542</td>\n",
       "      <td>0.382646</td>\n",
       "      <td>232</td>\n",
       "      <td>0xf06107faa1398fc800e00ad974e3a5b617e8e542</td>\n",
       "      <td>True</td>\n",
       "      <td>True</td>\n",
       "      <td>False</td>\n",
       "      <td>False</td>\n",
       "      <td>...</td>\n",
       "      <td>False</td>\n",
       "      <td>0</td>\n",
       "      <td>0</td>\n",
       "      <td>False</td>\n",
       "      <td>False</td>\n",
       "      <td>False</td>\n",
       "      <td>True</td>\n",
       "      <td>False</td>\n",
       "      <td>False</td>\n",
       "      <td>True</td>\n",
       "    </tr>\n",
       "    <tr>\n",
       "      <th>0xf55d40d1e5255a639ab36834f93d44ce8125e047</th>\n",
       "      <td>2023-06-27T23:14:59.000Z</td>\n",
       "      <td>0xd30bb8483147faa7e53a7f374a32dcbaa404985032dd...</td>\n",
       "      <td>0xf06107faa1398fc800e00ad974e3a5b617e8e542</td>\n",
       "      <td>0.390637</td>\n",
       "      <td>224</td>\n",
       "      <td>0xf06107faa1398fc800e00ad974e3a5b617e8e542</td>\n",
       "      <td>True</td>\n",
       "      <td>True</td>\n",
       "      <td>False</td>\n",
       "      <td>False</td>\n",
       "      <td>...</td>\n",
       "      <td>False</td>\n",
       "      <td>0</td>\n",
       "      <td>0</td>\n",
       "      <td>False</td>\n",
       "      <td>False</td>\n",
       "      <td>False</td>\n",
       "      <td>True</td>\n",
       "      <td>False</td>\n",
       "      <td>False</td>\n",
       "      <td>True</td>\n",
       "    </tr>\n",
       "    <tr>\n",
       "      <th>0xdc71a1bdeabd3c347dc21e9354aff91ad375eb97</th>\n",
       "      <td>2023-06-27T23:14:59.000Z</td>\n",
       "      <td>0xd30bb8483147faa7e53a7f374a32dcbaa404985032dd...</td>\n",
       "      <td>0xf06107faa1398fc800e00ad974e3a5b617e8e542</td>\n",
       "      <td>0.386126</td>\n",
       "      <td>229</td>\n",
       "      <td>0xf06107faa1398fc800e00ad974e3a5b617e8e542</td>\n",
       "      <td>True</td>\n",
       "      <td>True</td>\n",
       "      <td>False</td>\n",
       "      <td>False</td>\n",
       "      <td>...</td>\n",
       "      <td>False</td>\n",
       "      <td>0</td>\n",
       "      <td>0</td>\n",
       "      <td>False</td>\n",
       "      <td>False</td>\n",
       "      <td>False</td>\n",
       "      <td>True</td>\n",
       "      <td>False</td>\n",
       "      <td>False</td>\n",
       "      <td>True</td>\n",
       "    </tr>\n",
       "    <tr>\n",
       "      <th>0xca72c93172ba6eff168e59e7f17c3c7a8fea9b62</th>\n",
       "      <td>2023-06-27T23:14:59.000Z</td>\n",
       "      <td>0xd30bb8483147faa7e53a7f374a32dcbaa404985032dd...</td>\n",
       "      <td>0xf06107faa1398fc800e00ad974e3a5b617e8e542</td>\n",
       "      <td>0.394020</td>\n",
       "      <td>220</td>\n",
       "      <td>0xf06107faa1398fc800e00ad974e3a5b617e8e542</td>\n",
       "      <td>True</td>\n",
       "      <td>True</td>\n",
       "      <td>False</td>\n",
       "      <td>False</td>\n",
       "      <td>...</td>\n",
       "      <td>False</td>\n",
       "      <td>0</td>\n",
       "      <td>0</td>\n",
       "      <td>False</td>\n",
       "      <td>False</td>\n",
       "      <td>False</td>\n",
       "      <td>True</td>\n",
       "      <td>False</td>\n",
       "      <td>False</td>\n",
       "      <td>True</td>\n",
       "    </tr>\n",
       "    <tr>\n",
       "      <th>0xc4450c8d1009160883e44f24d66d92436ae4b4c5</th>\n",
       "      <td>2023-06-27T23:14:59.000Z</td>\n",
       "      <td>0xd30bb8483147faa7e53a7f374a32dcbaa404985032dd...</td>\n",
       "      <td>0xf06107faa1398fc800e00ad974e3a5b617e8e542</td>\n",
       "      <td>0.382047</td>\n",
       "      <td>242</td>\n",
       "      <td>0xf06107faa1398fc800e00ad974e3a5b617e8e542</td>\n",
       "      <td>True</td>\n",
       "      <td>True</td>\n",
       "      <td>False</td>\n",
       "      <td>False</td>\n",
       "      <td>...</td>\n",
       "      <td>False</td>\n",
       "      <td>0</td>\n",
       "      <td>0</td>\n",
       "      <td>False</td>\n",
       "      <td>False</td>\n",
       "      <td>False</td>\n",
       "      <td>True</td>\n",
       "      <td>False</td>\n",
       "      <td>False</td>\n",
       "      <td>True</td>\n",
       "    </tr>\n",
       "    <tr>\n",
       "      <th>0xbec643bd5b7f5e9190617ca4187ef0455950c51c</th>\n",
       "      <td>2023-06-27T23:14:59.000Z</td>\n",
       "      <td>0xd30bb8483147faa7e53a7f374a32dcbaa404985032dd...</td>\n",
       "      <td>0xf06107faa1398fc800e00ad974e3a5b617e8e542</td>\n",
       "      <td>0.382630</td>\n",
       "      <td>241</td>\n",
       "      <td>0xf06107faa1398fc800e00ad974e3a5b617e8e542</td>\n",
       "      <td>True</td>\n",
       "      <td>True</td>\n",
       "      <td>False</td>\n",
       "      <td>False</td>\n",
       "      <td>...</td>\n",
       "      <td>False</td>\n",
       "      <td>0</td>\n",
       "      <td>0</td>\n",
       "      <td>False</td>\n",
       "      <td>False</td>\n",
       "      <td>False</td>\n",
       "      <td>True</td>\n",
       "      <td>False</td>\n",
       "      <td>False</td>\n",
       "      <td>True</td>\n",
       "    </tr>\n",
       "    <tr>\n",
       "      <th>0xb62e762af637b49eb4870bce8fe21bfff189e495</th>\n",
       "      <td>2023-06-27T23:14:59.000Z</td>\n",
       "      <td>0xd30bb8483147faa7e53a7f374a32dcbaa404985032dd...</td>\n",
       "      <td>0xf06107faa1398fc800e00ad974e3a5b617e8e542</td>\n",
       "      <td>0.378028</td>\n",
       "      <td>239</td>\n",
       "      <td>0xf06107faa1398fc800e00ad974e3a5b617e8e542</td>\n",
       "      <td>True</td>\n",
       "      <td>True</td>\n",
       "      <td>False</td>\n",
       "      <td>False</td>\n",
       "      <td>...</td>\n",
       "      <td>False</td>\n",
       "      <td>0</td>\n",
       "      <td>0</td>\n",
       "      <td>False</td>\n",
       "      <td>False</td>\n",
       "      <td>False</td>\n",
       "      <td>True</td>\n",
       "      <td>False</td>\n",
       "      <td>False</td>\n",
       "      <td>True</td>\n",
       "    </tr>\n",
       "    <tr>\n",
       "      <th>0xa51e0a99b53d5b00937a2631d5865468a3543b7d</th>\n",
       "      <td>2023-06-27T23:14:59.000Z</td>\n",
       "      <td>0xd30bb8483147faa7e53a7f374a32dcbaa404985032dd...</td>\n",
       "      <td>0xf06107faa1398fc800e00ad974e3a5b617e8e542</td>\n",
       "      <td>0.382066</td>\n",
       "      <td>238</td>\n",
       "      <td>0xf06107faa1398fc800e00ad974e3a5b617e8e542</td>\n",
       "      <td>True</td>\n",
       "      <td>True</td>\n",
       "      <td>False</td>\n",
       "      <td>False</td>\n",
       "      <td>...</td>\n",
       "      <td>False</td>\n",
       "      <td>0</td>\n",
       "      <td>0</td>\n",
       "      <td>False</td>\n",
       "      <td>False</td>\n",
       "      <td>False</td>\n",
       "      <td>True</td>\n",
       "      <td>False</td>\n",
       "      <td>False</td>\n",
       "      <td>True</td>\n",
       "    </tr>\n",
       "    <tr>\n",
       "      <th>0xa40ba205add80c214ec7a710e790a54d738c4c27</th>\n",
       "      <td>2023-06-27T23:14:59.000Z</td>\n",
       "      <td>0xd30bb8483147faa7e53a7f374a32dcbaa404985032dd...</td>\n",
       "      <td>0xf06107faa1398fc800e00ad974e3a5b617e8e542</td>\n",
       "      <td>0.384733</td>\n",
       "      <td>250</td>\n",
       "      <td>0xf06107faa1398fc800e00ad974e3a5b617e8e542</td>\n",
       "      <td>True</td>\n",
       "      <td>True</td>\n",
       "      <td>False</td>\n",
       "      <td>False</td>\n",
       "      <td>...</td>\n",
       "      <td>False</td>\n",
       "      <td>0</td>\n",
       "      <td>0</td>\n",
       "      <td>False</td>\n",
       "      <td>False</td>\n",
       "      <td>False</td>\n",
       "      <td>True</td>\n",
       "      <td>False</td>\n",
       "      <td>False</td>\n",
       "      <td>True</td>\n",
       "    </tr>\n",
       "    <tr>\n",
       "      <th>0xa30ab83e693ad49f3f651085dad11d049c818923</th>\n",
       "      <td>2023-06-27T23:14:59.000Z</td>\n",
       "      <td>0xd30bb8483147faa7e53a7f374a32dcbaa404985032dd...</td>\n",
       "      <td>0xf06107faa1398fc800e00ad974e3a5b617e8e542</td>\n",
       "      <td>0.390261</td>\n",
       "      <td>236</td>\n",
       "      <td>0xf06107faa1398fc800e00ad974e3a5b617e8e542</td>\n",
       "      <td>True</td>\n",
       "      <td>True</td>\n",
       "      <td>False</td>\n",
       "      <td>False</td>\n",
       "      <td>...</td>\n",
       "      <td>False</td>\n",
       "      <td>0</td>\n",
       "      <td>0</td>\n",
       "      <td>False</td>\n",
       "      <td>False</td>\n",
       "      <td>False</td>\n",
       "      <td>True</td>\n",
       "      <td>False</td>\n",
       "      <td>False</td>\n",
       "      <td>True</td>\n",
       "    </tr>\n",
       "    <tr>\n",
       "      <th>0x9dcba70b2dfe5807e2a847e065ebb666791f8b8a</th>\n",
       "      <td>2023-06-27T23:14:59.000Z</td>\n",
       "      <td>0xd30bb8483147faa7e53a7f374a32dcbaa404985032dd...</td>\n",
       "      <td>0xf06107faa1398fc800e00ad974e3a5b617e8e542</td>\n",
       "      <td>0.385900</td>\n",
       "      <td>240</td>\n",
       "      <td>0xf06107faa1398fc800e00ad974e3a5b617e8e542</td>\n",
       "      <td>True</td>\n",
       "      <td>True</td>\n",
       "      <td>False</td>\n",
       "      <td>False</td>\n",
       "      <td>...</td>\n",
       "      <td>False</td>\n",
       "      <td>0</td>\n",
       "      <td>0</td>\n",
       "      <td>False</td>\n",
       "      <td>False</td>\n",
       "      <td>False</td>\n",
       "      <td>True</td>\n",
       "      <td>False</td>\n",
       "      <td>False</td>\n",
       "      <td>True</td>\n",
       "    </tr>\n",
       "    <tr>\n",
       "      <th>0x9531c059098e3d194ff87febb587ab07b30b1306</th>\n",
       "      <td>2023-06-27T23:14:59.000Z</td>\n",
       "      <td>0xd30bb8483147faa7e53a7f374a32dcbaa404985032dd...</td>\n",
       "      <td>0xf06107faa1398fc800e00ad974e3a5b617e8e542</td>\n",
       "      <td>0.380449</td>\n",
       "      <td>252</td>\n",
       "      <td>0xf06107faa1398fc800e00ad974e3a5b617e8e542</td>\n",
       "      <td>True</td>\n",
       "      <td>True</td>\n",
       "      <td>False</td>\n",
       "      <td>False</td>\n",
       "      <td>...</td>\n",
       "      <td>False</td>\n",
       "      <td>0</td>\n",
       "      <td>0</td>\n",
       "      <td>False</td>\n",
       "      <td>False</td>\n",
       "      <td>False</td>\n",
       "      <td>True</td>\n",
       "      <td>False</td>\n",
       "      <td>False</td>\n",
       "      <td>True</td>\n",
       "    </tr>\n",
       "    <tr>\n",
       "      <th>0x924f5821f991f366df954536e9a408867f962637</th>\n",
       "      <td>2023-06-27T23:14:59.000Z</td>\n",
       "      <td>0xd30bb8483147faa7e53a7f374a32dcbaa404985032dd...</td>\n",
       "      <td>0xf06107faa1398fc800e00ad974e3a5b617e8e542</td>\n",
       "      <td>0.380449</td>\n",
       "      <td>221</td>\n",
       "      <td>0xf06107faa1398fc800e00ad974e3a5b617e8e542</td>\n",
       "      <td>True</td>\n",
       "      <td>True</td>\n",
       "      <td>False</td>\n",
       "      <td>False</td>\n",
       "      <td>...</td>\n",
       "      <td>False</td>\n",
       "      <td>0</td>\n",
       "      <td>0</td>\n",
       "      <td>False</td>\n",
       "      <td>False</td>\n",
       "      <td>False</td>\n",
       "      <td>True</td>\n",
       "      <td>False</td>\n",
       "      <td>False</td>\n",
       "      <td>True</td>\n",
       "    </tr>\n",
       "    <tr>\n",
       "      <th>0x298f7f66ba43f0efecf4bc324b0016f822c783a4</th>\n",
       "      <td>2023-06-27T23:14:59.000Z</td>\n",
       "      <td>0xd30bb8483147faa7e53a7f374a32dcbaa404985032dd...</td>\n",
       "      <td>0xf06107faa1398fc800e00ad974e3a5b617e8e542</td>\n",
       "      <td>0.386596</td>\n",
       "      <td>246</td>\n",
       "      <td>0xf06107faa1398fc800e00ad974e3a5b617e8e542</td>\n",
       "      <td>True</td>\n",
       "      <td>True</td>\n",
       "      <td>False</td>\n",
       "      <td>False</td>\n",
       "      <td>...</td>\n",
       "      <td>False</td>\n",
       "      <td>0</td>\n",
       "      <td>0</td>\n",
       "      <td>False</td>\n",
       "      <td>False</td>\n",
       "      <td>False</td>\n",
       "      <td>True</td>\n",
       "      <td>False</td>\n",
       "      <td>False</td>\n",
       "      <td>True</td>\n",
       "    </tr>\n",
       "    <tr>\n",
       "      <th>0xfc9265a28f66cf4561d74a4e25d7bbd3f482b8e6</th>\n",
       "      <td>2023-06-27T23:14:59.000Z</td>\n",
       "      <td>0xd30bb8483147faa7e53a7f374a32dcbaa404985032dd...</td>\n",
       "      <td>0xf06107faa1398fc800e00ad974e3a5b617e8e542</td>\n",
       "      <td>0.390776</td>\n",
       "      <td>225</td>\n",
       "      <td>0xf06107faa1398fc800e00ad974e3a5b617e8e542</td>\n",
       "      <td>True</td>\n",
       "      <td>True</td>\n",
       "      <td>False</td>\n",
       "      <td>False</td>\n",
       "      <td>...</td>\n",
       "      <td>False</td>\n",
       "      <td>0</td>\n",
       "      <td>0</td>\n",
       "      <td>False</td>\n",
       "      <td>False</td>\n",
       "      <td>False</td>\n",
       "      <td>True</td>\n",
       "      <td>False</td>\n",
       "      <td>False</td>\n",
       "      <td>True</td>\n",
       "    </tr>\n",
       "    <tr>\n",
       "      <th>0x8cfb71682feb93317d1eb4e0b3ca7fa9044169cf</th>\n",
       "      <td>2023-06-27T23:14:59.000Z</td>\n",
       "      <td>0xd30bb8483147faa7e53a7f374a32dcbaa404985032dd...</td>\n",
       "      <td>0xf06107faa1398fc800e00ad974e3a5b617e8e542</td>\n",
       "      <td>0.382573</td>\n",
       "      <td>231</td>\n",
       "      <td>0xf06107faa1398fc800e00ad974e3a5b617e8e542</td>\n",
       "      <td>True</td>\n",
       "      <td>True</td>\n",
       "      <td>False</td>\n",
       "      <td>False</td>\n",
       "      <td>...</td>\n",
       "      <td>False</td>\n",
       "      <td>0</td>\n",
       "      <td>0</td>\n",
       "      <td>False</td>\n",
       "      <td>False</td>\n",
       "      <td>False</td>\n",
       "      <td>True</td>\n",
       "      <td>False</td>\n",
       "      <td>False</td>\n",
       "      <td>True</td>\n",
       "    </tr>\n",
       "    <tr>\n",
       "      <th>0x88c379caef7965c49b17c2a18c43af36f213fbd5</th>\n",
       "      <td>2023-06-27T23:14:59.000Z</td>\n",
       "      <td>0xd30bb8483147faa7e53a7f374a32dcbaa404985032dd...</td>\n",
       "      <td>0xf06107faa1398fc800e00ad974e3a5b617e8e542</td>\n",
       "      <td>0.388596</td>\n",
       "      <td>237</td>\n",
       "      <td>0xf06107faa1398fc800e00ad974e3a5b617e8e542</td>\n",
       "      <td>True</td>\n",
       "      <td>True</td>\n",
       "      <td>False</td>\n",
       "      <td>False</td>\n",
       "      <td>...</td>\n",
       "      <td>False</td>\n",
       "      <td>0</td>\n",
       "      <td>0</td>\n",
       "      <td>False</td>\n",
       "      <td>False</td>\n",
       "      <td>False</td>\n",
       "      <td>True</td>\n",
       "      <td>False</td>\n",
       "      <td>False</td>\n",
       "      <td>True</td>\n",
       "    </tr>\n",
       "    <tr>\n",
       "      <th>0x3fb0d1e89693b8709de60d835452a4712d1c9b04</th>\n",
       "      <td>2023-06-27T23:14:59.000Z</td>\n",
       "      <td>0xd30bb8483147faa7e53a7f374a32dcbaa404985032dd...</td>\n",
       "      <td>0xf06107faa1398fc800e00ad974e3a5b617e8e542</td>\n",
       "      <td>0.390073</td>\n",
       "      <td>251</td>\n",
       "      <td>0xf06107faa1398fc800e00ad974e3a5b617e8e542</td>\n",
       "      <td>True</td>\n",
       "      <td>True</td>\n",
       "      <td>False</td>\n",
       "      <td>False</td>\n",
       "      <td>...</td>\n",
       "      <td>False</td>\n",
       "      <td>0</td>\n",
       "      <td>0</td>\n",
       "      <td>False</td>\n",
       "      <td>False</td>\n",
       "      <td>False</td>\n",
       "      <td>True</td>\n",
       "      <td>False</td>\n",
       "      <td>False</td>\n",
       "      <td>True</td>\n",
       "    </tr>\n",
       "    <tr>\n",
       "      <th>0x4486907312143049ac5c6280cba9ba4cd5f30511</th>\n",
       "      <td>2023-06-27T23:14:59.000Z</td>\n",
       "      <td>0xd30bb8483147faa7e53a7f374a32dcbaa404985032dd...</td>\n",
       "      <td>0xf06107faa1398fc800e00ad974e3a5b617e8e542</td>\n",
       "      <td>0.380556</td>\n",
       "      <td>249</td>\n",
       "      <td>0xf06107faa1398fc800e00ad974e3a5b617e8e542</td>\n",
       "      <td>True</td>\n",
       "      <td>True</td>\n",
       "      <td>False</td>\n",
       "      <td>False</td>\n",
       "      <td>...</td>\n",
       "      <td>False</td>\n",
       "      <td>0</td>\n",
       "      <td>0</td>\n",
       "      <td>False</td>\n",
       "      <td>False</td>\n",
       "      <td>False</td>\n",
       "      <td>True</td>\n",
       "      <td>False</td>\n",
       "      <td>False</td>\n",
       "      <td>True</td>\n",
       "    </tr>\n",
       "    <tr>\n",
       "      <th>0x521aacb43d89e1b8ffd64d9ef76b0a1074dedaf8</th>\n",
       "      <td>2023-06-27T23:14:59.000Z</td>\n",
       "      <td>0xd30bb8483147faa7e53a7f374a32dcbaa404985032dd...</td>\n",
       "      <td>0xf06107faa1398fc800e00ad974e3a5b617e8e542</td>\n",
       "      <td>0.381953</td>\n",
       "      <td>243</td>\n",
       "      <td>0xf06107faa1398fc800e00ad974e3a5b617e8e542</td>\n",
       "      <td>True</td>\n",
       "      <td>True</td>\n",
       "      <td>False</td>\n",
       "      <td>False</td>\n",
       "      <td>...</td>\n",
       "      <td>False</td>\n",
       "      <td>0</td>\n",
       "      <td>0</td>\n",
       "      <td>False</td>\n",
       "      <td>False</td>\n",
       "      <td>False</td>\n",
       "      <td>True</td>\n",
       "      <td>False</td>\n",
       "      <td>False</td>\n",
       "      <td>True</td>\n",
       "    </tr>\n",
       "    <tr>\n",
       "      <th>0x5a5d9ab7b1bd978f80909503ebb828879daca9c3</th>\n",
       "      <td>2023-06-27T23:14:59.000Z</td>\n",
       "      <td>0xd30bb8483147faa7e53a7f374a32dcbaa404985032dd...</td>\n",
       "      <td>0xf06107faa1398fc800e00ad974e3a5b617e8e542</td>\n",
       "      <td>0.389904</td>\n",
       "      <td>234</td>\n",
       "      <td>0xf06107faa1398fc800e00ad974e3a5b617e8e542</td>\n",
       "      <td>True</td>\n",
       "      <td>True</td>\n",
       "      <td>False</td>\n",
       "      <td>False</td>\n",
       "      <td>...</td>\n",
       "      <td>False</td>\n",
       "      <td>0</td>\n",
       "      <td>0</td>\n",
       "      <td>False</td>\n",
       "      <td>False</td>\n",
       "      <td>False</td>\n",
       "      <td>True</td>\n",
       "      <td>False</td>\n",
       "      <td>False</td>\n",
       "      <td>True</td>\n",
       "    </tr>\n",
       "    <tr>\n",
       "      <th>0x6b5918d8ef9094679f4b4e1bf397a66ea411b118</th>\n",
       "      <td>2023-06-27T23:14:59.000Z</td>\n",
       "      <td>0xd30bb8483147faa7e53a7f374a32dcbaa404985032dd...</td>\n",
       "      <td>0xf06107faa1398fc800e00ad974e3a5b617e8e542</td>\n",
       "      <td>0.380539</td>\n",
       "      <td>244</td>\n",
       "      <td>0xf06107faa1398fc800e00ad974e3a5b617e8e542</td>\n",
       "      <td>True</td>\n",
       "      <td>True</td>\n",
       "      <td>False</td>\n",
       "      <td>False</td>\n",
       "      <td>...</td>\n",
       "      <td>False</td>\n",
       "      <td>0</td>\n",
       "      <td>0</td>\n",
       "      <td>False</td>\n",
       "      <td>False</td>\n",
       "      <td>False</td>\n",
       "      <td>True</td>\n",
       "      <td>False</td>\n",
       "      <td>False</td>\n",
       "      <td>True</td>\n",
       "    </tr>\n",
       "    <tr>\n",
       "      <th>0x74afec0c8564ddc09e9fac9493c611eeafcca0e7</th>\n",
       "      <td>2023-06-27T23:14:59.000Z</td>\n",
       "      <td>0xd30bb8483147faa7e53a7f374a32dcbaa404985032dd...</td>\n",
       "      <td>0xf06107faa1398fc800e00ad974e3a5b617e8e542</td>\n",
       "      <td>0.380220</td>\n",
       "      <td>226</td>\n",
       "      <td>0xf06107faa1398fc800e00ad974e3a5b617e8e542</td>\n",
       "      <td>True</td>\n",
       "      <td>True</td>\n",
       "      <td>False</td>\n",
       "      <td>False</td>\n",
       "      <td>...</td>\n",
       "      <td>False</td>\n",
       "      <td>0</td>\n",
       "      <td>0</td>\n",
       "      <td>False</td>\n",
       "      <td>False</td>\n",
       "      <td>False</td>\n",
       "      <td>True</td>\n",
       "      <td>False</td>\n",
       "      <td>False</td>\n",
       "      <td>True</td>\n",
       "    </tr>\n",
       "    <tr>\n",
       "      <th>0x7904667c340601aab73939372c016dc5102732a2</th>\n",
       "      <td>2023-06-27T23:14:59.000Z</td>\n",
       "      <td>0xd30bb8483147faa7e53a7f374a32dcbaa404985032dd...</td>\n",
       "      <td>0xf06107faa1398fc800e00ad974e3a5b617e8e542</td>\n",
       "      <td>0.384020</td>\n",
       "      <td>248</td>\n",
       "      <td>0xf06107faa1398fc800e00ad974e3a5b617e8e542</td>\n",
       "      <td>True</td>\n",
       "      <td>True</td>\n",
       "      <td>False</td>\n",
       "      <td>False</td>\n",
       "      <td>...</td>\n",
       "      <td>False</td>\n",
       "      <td>0</td>\n",
       "      <td>0</td>\n",
       "      <td>False</td>\n",
       "      <td>False</td>\n",
       "      <td>False</td>\n",
       "      <td>True</td>\n",
       "      <td>False</td>\n",
       "      <td>False</td>\n",
       "      <td>True</td>\n",
       "    </tr>\n",
       "    <tr>\n",
       "      <th>0x850a146d7478daaa98fc26fd85e6a24e50846a9d</th>\n",
       "      <td>2023-06-27T23:14:59.000Z</td>\n",
       "      <td>0xd30bb8483147faa7e53a7f374a32dcbaa404985032dd...</td>\n",
       "      <td>0xf06107faa1398fc800e00ad974e3a5b617e8e542</td>\n",
       "      <td>0.390317</td>\n",
       "      <td>235</td>\n",
       "      <td>0xf06107faa1398fc800e00ad974e3a5b617e8e542</td>\n",
       "      <td>True</td>\n",
       "      <td>True</td>\n",
       "      <td>False</td>\n",
       "      <td>False</td>\n",
       "      <td>...</td>\n",
       "      <td>False</td>\n",
       "      <td>0</td>\n",
       "      <td>0</td>\n",
       "      <td>False</td>\n",
       "      <td>False</td>\n",
       "      <td>False</td>\n",
       "      <td>True</td>\n",
       "      <td>False</td>\n",
       "      <td>False</td>\n",
       "      <td>True</td>\n",
       "    </tr>\n",
       "    <tr>\n",
       "      <th>0x8615b6ed9468cbb58cfdf45c120b87e15add787f</th>\n",
       "      <td>2023-06-27T23:14:59.000Z</td>\n",
       "      <td>0xd30bb8483147faa7e53a7f374a32dcbaa404985032dd...</td>\n",
       "      <td>0xf06107faa1398fc800e00ad974e3a5b617e8e542</td>\n",
       "      <td>0.389942</td>\n",
       "      <td>247</td>\n",
       "      <td>0xf06107faa1398fc800e00ad974e3a5b617e8e542</td>\n",
       "      <td>True</td>\n",
       "      <td>True</td>\n",
       "      <td>False</td>\n",
       "      <td>False</td>\n",
       "      <td>...</td>\n",
       "      <td>False</td>\n",
       "      <td>0</td>\n",
       "      <td>0</td>\n",
       "      <td>False</td>\n",
       "      <td>False</td>\n",
       "      <td>False</td>\n",
       "      <td>True</td>\n",
       "      <td>False</td>\n",
       "      <td>False</td>\n",
       "      <td>True</td>\n",
       "    </tr>\n",
       "    <tr>\n",
       "      <th>0x13257e783dc8ded7e227a28edb0428c42d31202e</th>\n",
       "      <td>2023-06-27T07:00:47.000Z</td>\n",
       "      <td>0x02c49bd1d6415e4ed5b5548e359c894630dd39ee8bf3...</td>\n",
       "      <td>0xc5cdf34b216fa0675e9bce0c646b2016ce58b181</td>\n",
       "      <td>1.898486</td>\n",
       "      <td>129</td>\n",
       "      <td>0xc5cdf34b216fa0675e9bce0c646b2016ce58b181</td>\n",
       "      <td>True</td>\n",
       "      <td>True</td>\n",
       "      <td>False</td>\n",
       "      <td>False</td>\n",
       "      <td>...</td>\n",
       "      <td>False</td>\n",
       "      <td>0</td>\n",
       "      <td>0</td>\n",
       "      <td>False</td>\n",
       "      <td>False</td>\n",
       "      <td>False</td>\n",
       "      <td>True</td>\n",
       "      <td>False</td>\n",
       "      <td>False</td>\n",
       "      <td>True</td>\n",
       "    </tr>\n",
       "    <tr>\n",
       "      <th>0x85a363699c6864248a6ffca66e4a1a5ccf9f5567</th>\n",
       "      <td>2023-06-27T05:22:17.000Z</td>\n",
       "      <td>0xa3c9a867214de5f7221cb886c78b6144517091f8bc9a...</td>\n",
       "      <td>0x7d860a3d948cfd85d2854b816fb0b51701e83f37</td>\n",
       "      <td>1.127814</td>\n",
       "      <td>126</td>\n",
       "      <td>0x7d860a3d948cfd85d2854b816fb0b51701e83f37</td>\n",
       "      <td>False</td>\n",
       "      <td>False</td>\n",
       "      <td>False</td>\n",
       "      <td>False</td>\n",
       "      <td>...</td>\n",
       "      <td>False</td>\n",
       "      <td>0</td>\n",
       "      <td>0</td>\n",
       "      <td>False</td>\n",
       "      <td>False</td>\n",
       "      <td>False</td>\n",
       "      <td>True</td>\n",
       "      <td>False</td>\n",
       "      <td>False</td>\n",
       "      <td>True</td>\n",
       "    </tr>\n",
       "    <tr>\n",
       "      <th>0xe1887ff140bfa9d3b45d0b2077b7471124acd242</th>\n",
       "      <td>2023-06-27T05:22:17.000Z</td>\n",
       "      <td>0xa3c9a867214de5f7221cb886c78b6144517091f8bc9a...</td>\n",
       "      <td>0x7d860a3d948cfd85d2854b816fb0b51701e83f37</td>\n",
       "      <td>1.127814</td>\n",
       "      <td>125</td>\n",
       "      <td>0x7d860a3d948cfd85d2854b816fb0b51701e83f37</td>\n",
       "      <td>False</td>\n",
       "      <td>False</td>\n",
       "      <td>False</td>\n",
       "      <td>False</td>\n",
       "      <td>...</td>\n",
       "      <td>False</td>\n",
       "      <td>0</td>\n",
       "      <td>0</td>\n",
       "      <td>False</td>\n",
       "      <td>False</td>\n",
       "      <td>False</td>\n",
       "      <td>True</td>\n",
       "      <td>False</td>\n",
       "      <td>False</td>\n",
       "      <td>True</td>\n",
       "    </tr>\n",
       "    <tr>\n",
       "      <th>0x745ce2af76e9a6eba65cc0cacaa9ea109bb7fabd</th>\n",
       "      <td>2023-06-27T23:10:23.000Z</td>\n",
       "      <td>0x548950b6cb0ebacaadedeef029fd568facba47b50e3c...</td>\n",
       "      <td>0x20e7492b180f05802daf67e3a48b6df76d1c7903</td>\n",
       "      <td>0.263156</td>\n",
       "      <td>175</td>\n",
       "      <td>0x20e7492b180f05802daf67e3a48b6df76d1c7903</td>\n",
       "      <td>True</td>\n",
       "      <td>True</td>\n",
       "      <td>False</td>\n",
       "      <td>True</td>\n",
       "      <td>...</td>\n",
       "      <td>False</td>\n",
       "      <td>0</td>\n",
       "      <td>0</td>\n",
       "      <td>False</td>\n",
       "      <td>False</td>\n",
       "      <td>False</td>\n",
       "      <td>True</td>\n",
       "      <td>False</td>\n",
       "      <td>False</td>\n",
       "      <td>True</td>\n",
       "    </tr>\n",
       "    <tr>\n",
       "      <th>0xc98786d5a7a03c1e74affcb97ff7ef8a710da09b</th>\n",
       "      <td>2023-06-27T23:10:23.000Z</td>\n",
       "      <td>0x548950b6cb0ebacaadedeef029fd568facba47b50e3c...</td>\n",
       "      <td>0x20e7492b180f05802daf67e3a48b6df76d1c7903</td>\n",
       "      <td>0.263156</td>\n",
       "      <td>174</td>\n",
       "      <td>0x20e7492b180f05802daf67e3a48b6df76d1c7903</td>\n",
       "      <td>True</td>\n",
       "      <td>True</td>\n",
       "      <td>False</td>\n",
       "      <td>True</td>\n",
       "      <td>...</td>\n",
       "      <td>False</td>\n",
       "      <td>0</td>\n",
       "      <td>0</td>\n",
       "      <td>False</td>\n",
       "      <td>False</td>\n",
       "      <td>False</td>\n",
       "      <td>True</td>\n",
       "      <td>False</td>\n",
       "      <td>False</td>\n",
       "      <td>True</td>\n",
       "    </tr>\n",
       "    <tr>\n",
       "      <th>0xeb0cf83c80e4b4cd82196dac94e2c579672b6b1c</th>\n",
       "      <td>2023-06-27T23:10:23.000Z</td>\n",
       "      <td>0x548950b6cb0ebacaadedeef029fd568facba47b50e3c...</td>\n",
       "      <td>0x20e7492b180f05802daf67e3a48b6df76d1c7903</td>\n",
       "      <td>0.263156</td>\n",
       "      <td>86</td>\n",
       "      <td>0x20e7492b180f05802daf67e3a48b6df76d1c7903</td>\n",
       "      <td>True</td>\n",
       "      <td>True</td>\n",
       "      <td>False</td>\n",
       "      <td>True</td>\n",
       "      <td>...</td>\n",
       "      <td>False</td>\n",
       "      <td>0</td>\n",
       "      <td>0</td>\n",
       "      <td>False</td>\n",
       "      <td>False</td>\n",
       "      <td>False</td>\n",
       "      <td>True</td>\n",
       "      <td>False</td>\n",
       "      <td>False</td>\n",
       "      <td>True</td>\n",
       "    </tr>\n",
       "  </tbody>\n",
       "</table>\n",
       "<p>33 rows × 33 columns</p>\n",
       "</div>"
      ],
      "text/plain": [
       "                                                     block_timestamp   \n",
       "project                                                                \n",
       "0x91fbd3447077bfd97f5af4d2c033ecbc25788f89  2023-06-27T23:14:59.000Z  \\\n",
       "0x8d36bbb74973dd04e31dcbce5778b16dd310bd9b  2023-06-27T23:14:59.000Z   \n",
       "0xf55d40d1e5255a639ab36834f93d44ce8125e047  2023-06-27T23:14:59.000Z   \n",
       "0xdc71a1bdeabd3c347dc21e9354aff91ad375eb97  2023-06-27T23:14:59.000Z   \n",
       "0xca72c93172ba6eff168e59e7f17c3c7a8fea9b62  2023-06-27T23:14:59.000Z   \n",
       "0xc4450c8d1009160883e44f24d66d92436ae4b4c5  2023-06-27T23:14:59.000Z   \n",
       "0xbec643bd5b7f5e9190617ca4187ef0455950c51c  2023-06-27T23:14:59.000Z   \n",
       "0xb62e762af637b49eb4870bce8fe21bfff189e495  2023-06-27T23:14:59.000Z   \n",
       "0xa51e0a99b53d5b00937a2631d5865468a3543b7d  2023-06-27T23:14:59.000Z   \n",
       "0xa40ba205add80c214ec7a710e790a54d738c4c27  2023-06-27T23:14:59.000Z   \n",
       "0xa30ab83e693ad49f3f651085dad11d049c818923  2023-06-27T23:14:59.000Z   \n",
       "0x9dcba70b2dfe5807e2a847e065ebb666791f8b8a  2023-06-27T23:14:59.000Z   \n",
       "0x9531c059098e3d194ff87febb587ab07b30b1306  2023-06-27T23:14:59.000Z   \n",
       "0x924f5821f991f366df954536e9a408867f962637  2023-06-27T23:14:59.000Z   \n",
       "0x298f7f66ba43f0efecf4bc324b0016f822c783a4  2023-06-27T23:14:59.000Z   \n",
       "0xfc9265a28f66cf4561d74a4e25d7bbd3f482b8e6  2023-06-27T23:14:59.000Z   \n",
       "0x8cfb71682feb93317d1eb4e0b3ca7fa9044169cf  2023-06-27T23:14:59.000Z   \n",
       "0x88c379caef7965c49b17c2a18c43af36f213fbd5  2023-06-27T23:14:59.000Z   \n",
       "0x3fb0d1e89693b8709de60d835452a4712d1c9b04  2023-06-27T23:14:59.000Z   \n",
       "0x4486907312143049ac5c6280cba9ba4cd5f30511  2023-06-27T23:14:59.000Z   \n",
       "0x521aacb43d89e1b8ffd64d9ef76b0a1074dedaf8  2023-06-27T23:14:59.000Z   \n",
       "0x5a5d9ab7b1bd978f80909503ebb828879daca9c3  2023-06-27T23:14:59.000Z   \n",
       "0x6b5918d8ef9094679f4b4e1bf397a66ea411b118  2023-06-27T23:14:59.000Z   \n",
       "0x74afec0c8564ddc09e9fac9493c611eeafcca0e7  2023-06-27T23:14:59.000Z   \n",
       "0x7904667c340601aab73939372c016dc5102732a2  2023-06-27T23:14:59.000Z   \n",
       "0x850a146d7478daaa98fc26fd85e6a24e50846a9d  2023-06-27T23:14:59.000Z   \n",
       "0x8615b6ed9468cbb58cfdf45c120b87e15add787f  2023-06-27T23:14:59.000Z   \n",
       "0x13257e783dc8ded7e227a28edb0428c42d31202e  2023-06-27T07:00:47.000Z   \n",
       "0x85a363699c6864248a6ffca66e4a1a5ccf9f5567  2023-06-27T05:22:17.000Z   \n",
       "0xe1887ff140bfa9d3b45d0b2077b7471124acd242  2023-06-27T05:22:17.000Z   \n",
       "0x745ce2af76e9a6eba65cc0cacaa9ea109bb7fabd  2023-06-27T23:10:23.000Z   \n",
       "0xc98786d5a7a03c1e74affcb97ff7ef8a710da09b  2023-06-27T23:10:23.000Z   \n",
       "0xeb0cf83c80e4b4cd82196dac94e2c579672b6b1c  2023-06-27T23:10:23.000Z   \n",
       "\n",
       "                                                                                      tx_hash   \n",
       "project                                                                                         \n",
       "0x91fbd3447077bfd97f5af4d2c033ecbc25788f89  0xd30bb8483147faa7e53a7f374a32dcbaa404985032dd...  \\\n",
       "0x8d36bbb74973dd04e31dcbce5778b16dd310bd9b  0xd30bb8483147faa7e53a7f374a32dcbaa404985032dd...   \n",
       "0xf55d40d1e5255a639ab36834f93d44ce8125e047  0xd30bb8483147faa7e53a7f374a32dcbaa404985032dd...   \n",
       "0xdc71a1bdeabd3c347dc21e9354aff91ad375eb97  0xd30bb8483147faa7e53a7f374a32dcbaa404985032dd...   \n",
       "0xca72c93172ba6eff168e59e7f17c3c7a8fea9b62  0xd30bb8483147faa7e53a7f374a32dcbaa404985032dd...   \n",
       "0xc4450c8d1009160883e44f24d66d92436ae4b4c5  0xd30bb8483147faa7e53a7f374a32dcbaa404985032dd...   \n",
       "0xbec643bd5b7f5e9190617ca4187ef0455950c51c  0xd30bb8483147faa7e53a7f374a32dcbaa404985032dd...   \n",
       "0xb62e762af637b49eb4870bce8fe21bfff189e495  0xd30bb8483147faa7e53a7f374a32dcbaa404985032dd...   \n",
       "0xa51e0a99b53d5b00937a2631d5865468a3543b7d  0xd30bb8483147faa7e53a7f374a32dcbaa404985032dd...   \n",
       "0xa40ba205add80c214ec7a710e790a54d738c4c27  0xd30bb8483147faa7e53a7f374a32dcbaa404985032dd...   \n",
       "0xa30ab83e693ad49f3f651085dad11d049c818923  0xd30bb8483147faa7e53a7f374a32dcbaa404985032dd...   \n",
       "0x9dcba70b2dfe5807e2a847e065ebb666791f8b8a  0xd30bb8483147faa7e53a7f374a32dcbaa404985032dd...   \n",
       "0x9531c059098e3d194ff87febb587ab07b30b1306  0xd30bb8483147faa7e53a7f374a32dcbaa404985032dd...   \n",
       "0x924f5821f991f366df954536e9a408867f962637  0xd30bb8483147faa7e53a7f374a32dcbaa404985032dd...   \n",
       "0x298f7f66ba43f0efecf4bc324b0016f822c783a4  0xd30bb8483147faa7e53a7f374a32dcbaa404985032dd...   \n",
       "0xfc9265a28f66cf4561d74a4e25d7bbd3f482b8e6  0xd30bb8483147faa7e53a7f374a32dcbaa404985032dd...   \n",
       "0x8cfb71682feb93317d1eb4e0b3ca7fa9044169cf  0xd30bb8483147faa7e53a7f374a32dcbaa404985032dd...   \n",
       "0x88c379caef7965c49b17c2a18c43af36f213fbd5  0xd30bb8483147faa7e53a7f374a32dcbaa404985032dd...   \n",
       "0x3fb0d1e89693b8709de60d835452a4712d1c9b04  0xd30bb8483147faa7e53a7f374a32dcbaa404985032dd...   \n",
       "0x4486907312143049ac5c6280cba9ba4cd5f30511  0xd30bb8483147faa7e53a7f374a32dcbaa404985032dd...   \n",
       "0x521aacb43d89e1b8ffd64d9ef76b0a1074dedaf8  0xd30bb8483147faa7e53a7f374a32dcbaa404985032dd...   \n",
       "0x5a5d9ab7b1bd978f80909503ebb828879daca9c3  0xd30bb8483147faa7e53a7f374a32dcbaa404985032dd...   \n",
       "0x6b5918d8ef9094679f4b4e1bf397a66ea411b118  0xd30bb8483147faa7e53a7f374a32dcbaa404985032dd...   \n",
       "0x74afec0c8564ddc09e9fac9493c611eeafcca0e7  0xd30bb8483147faa7e53a7f374a32dcbaa404985032dd...   \n",
       "0x7904667c340601aab73939372c016dc5102732a2  0xd30bb8483147faa7e53a7f374a32dcbaa404985032dd...   \n",
       "0x850a146d7478daaa98fc26fd85e6a24e50846a9d  0xd30bb8483147faa7e53a7f374a32dcbaa404985032dd...   \n",
       "0x8615b6ed9468cbb58cfdf45c120b87e15add787f  0xd30bb8483147faa7e53a7f374a32dcbaa404985032dd...   \n",
       "0x13257e783dc8ded7e227a28edb0428c42d31202e  0x02c49bd1d6415e4ed5b5548e359c894630dd39ee8bf3...   \n",
       "0x85a363699c6864248a6ffca66e4a1a5ccf9f5567  0xa3c9a867214de5f7221cb886c78b6144517091f8bc9a...   \n",
       "0xe1887ff140bfa9d3b45d0b2077b7471124acd242  0xa3c9a867214de5f7221cb886c78b6144517091f8bc9a...   \n",
       "0x745ce2af76e9a6eba65cc0cacaa9ea109bb7fabd  0x548950b6cb0ebacaadedeef029fd568facba47b50e3c...   \n",
       "0xc98786d5a7a03c1e74affcb97ff7ef8a710da09b  0x548950b6cb0ebacaadedeef029fd568facba47b50e3c...   \n",
       "0xeb0cf83c80e4b4cd82196dac94e2c579672b6b1c  0x548950b6cb0ebacaadedeef029fd568facba47b50e3c...   \n",
       "\n",
       "                                                                                 voter   \n",
       "project                                                                                  \n",
       "0x91fbd3447077bfd97f5af4d2c033ecbc25788f89  0xf06107faa1398fc800e00ad974e3a5b617e8e542  \\\n",
       "0x8d36bbb74973dd04e31dcbce5778b16dd310bd9b  0xf06107faa1398fc800e00ad974e3a5b617e8e542   \n",
       "0xf55d40d1e5255a639ab36834f93d44ce8125e047  0xf06107faa1398fc800e00ad974e3a5b617e8e542   \n",
       "0xdc71a1bdeabd3c347dc21e9354aff91ad375eb97  0xf06107faa1398fc800e00ad974e3a5b617e8e542   \n",
       "0xca72c93172ba6eff168e59e7f17c3c7a8fea9b62  0xf06107faa1398fc800e00ad974e3a5b617e8e542   \n",
       "0xc4450c8d1009160883e44f24d66d92436ae4b4c5  0xf06107faa1398fc800e00ad974e3a5b617e8e542   \n",
       "0xbec643bd5b7f5e9190617ca4187ef0455950c51c  0xf06107faa1398fc800e00ad974e3a5b617e8e542   \n",
       "0xb62e762af637b49eb4870bce8fe21bfff189e495  0xf06107faa1398fc800e00ad974e3a5b617e8e542   \n",
       "0xa51e0a99b53d5b00937a2631d5865468a3543b7d  0xf06107faa1398fc800e00ad974e3a5b617e8e542   \n",
       "0xa40ba205add80c214ec7a710e790a54d738c4c27  0xf06107faa1398fc800e00ad974e3a5b617e8e542   \n",
       "0xa30ab83e693ad49f3f651085dad11d049c818923  0xf06107faa1398fc800e00ad974e3a5b617e8e542   \n",
       "0x9dcba70b2dfe5807e2a847e065ebb666791f8b8a  0xf06107faa1398fc800e00ad974e3a5b617e8e542   \n",
       "0x9531c059098e3d194ff87febb587ab07b30b1306  0xf06107faa1398fc800e00ad974e3a5b617e8e542   \n",
       "0x924f5821f991f366df954536e9a408867f962637  0xf06107faa1398fc800e00ad974e3a5b617e8e542   \n",
       "0x298f7f66ba43f0efecf4bc324b0016f822c783a4  0xf06107faa1398fc800e00ad974e3a5b617e8e542   \n",
       "0xfc9265a28f66cf4561d74a4e25d7bbd3f482b8e6  0xf06107faa1398fc800e00ad974e3a5b617e8e542   \n",
       "0x8cfb71682feb93317d1eb4e0b3ca7fa9044169cf  0xf06107faa1398fc800e00ad974e3a5b617e8e542   \n",
       "0x88c379caef7965c49b17c2a18c43af36f213fbd5  0xf06107faa1398fc800e00ad974e3a5b617e8e542   \n",
       "0x3fb0d1e89693b8709de60d835452a4712d1c9b04  0xf06107faa1398fc800e00ad974e3a5b617e8e542   \n",
       "0x4486907312143049ac5c6280cba9ba4cd5f30511  0xf06107faa1398fc800e00ad974e3a5b617e8e542   \n",
       "0x521aacb43d89e1b8ffd64d9ef76b0a1074dedaf8  0xf06107faa1398fc800e00ad974e3a5b617e8e542   \n",
       "0x5a5d9ab7b1bd978f80909503ebb828879daca9c3  0xf06107faa1398fc800e00ad974e3a5b617e8e542   \n",
       "0x6b5918d8ef9094679f4b4e1bf397a66ea411b118  0xf06107faa1398fc800e00ad974e3a5b617e8e542   \n",
       "0x74afec0c8564ddc09e9fac9493c611eeafcca0e7  0xf06107faa1398fc800e00ad974e3a5b617e8e542   \n",
       "0x7904667c340601aab73939372c016dc5102732a2  0xf06107faa1398fc800e00ad974e3a5b617e8e542   \n",
       "0x850a146d7478daaa98fc26fd85e6a24e50846a9d  0xf06107faa1398fc800e00ad974e3a5b617e8e542   \n",
       "0x8615b6ed9468cbb58cfdf45c120b87e15add787f  0xf06107faa1398fc800e00ad974e3a5b617e8e542   \n",
       "0x13257e783dc8ded7e227a28edb0428c42d31202e  0xc5cdf34b216fa0675e9bce0c646b2016ce58b181   \n",
       "0x85a363699c6864248a6ffca66e4a1a5ccf9f5567  0x7d860a3d948cfd85d2854b816fb0b51701e83f37   \n",
       "0xe1887ff140bfa9d3b45d0b2077b7471124acd242  0x7d860a3d948cfd85d2854b816fb0b51701e83f37   \n",
       "0x745ce2af76e9a6eba65cc0cacaa9ea109bb7fabd  0x20e7492b180f05802daf67e3a48b6df76d1c7903   \n",
       "0xc98786d5a7a03c1e74affcb97ff7ef8a710da09b  0x20e7492b180f05802daf67e3a48b6df76d1c7903   \n",
       "0xeb0cf83c80e4b4cd82196dac94e2c579672b6b1c  0x20e7492b180f05802daf67e3a48b6df76d1c7903   \n",
       "\n",
       "                                            amount_usd  __row_index   \n",
       "project                                                               \n",
       "0x91fbd3447077bfd97f5af4d2c033ecbc25788f89    0.377385          223  \\\n",
       "0x8d36bbb74973dd04e31dcbce5778b16dd310bd9b    0.382646          232   \n",
       "0xf55d40d1e5255a639ab36834f93d44ce8125e047    0.390637          224   \n",
       "0xdc71a1bdeabd3c347dc21e9354aff91ad375eb97    0.386126          229   \n",
       "0xca72c93172ba6eff168e59e7f17c3c7a8fea9b62    0.394020          220   \n",
       "0xc4450c8d1009160883e44f24d66d92436ae4b4c5    0.382047          242   \n",
       "0xbec643bd5b7f5e9190617ca4187ef0455950c51c    0.382630          241   \n",
       "0xb62e762af637b49eb4870bce8fe21bfff189e495    0.378028          239   \n",
       "0xa51e0a99b53d5b00937a2631d5865468a3543b7d    0.382066          238   \n",
       "0xa40ba205add80c214ec7a710e790a54d738c4c27    0.384733          250   \n",
       "0xa30ab83e693ad49f3f651085dad11d049c818923    0.390261          236   \n",
       "0x9dcba70b2dfe5807e2a847e065ebb666791f8b8a    0.385900          240   \n",
       "0x9531c059098e3d194ff87febb587ab07b30b1306    0.380449          252   \n",
       "0x924f5821f991f366df954536e9a408867f962637    0.380449          221   \n",
       "0x298f7f66ba43f0efecf4bc324b0016f822c783a4    0.386596          246   \n",
       "0xfc9265a28f66cf4561d74a4e25d7bbd3f482b8e6    0.390776          225   \n",
       "0x8cfb71682feb93317d1eb4e0b3ca7fa9044169cf    0.382573          231   \n",
       "0x88c379caef7965c49b17c2a18c43af36f213fbd5    0.388596          237   \n",
       "0x3fb0d1e89693b8709de60d835452a4712d1c9b04    0.390073          251   \n",
       "0x4486907312143049ac5c6280cba9ba4cd5f30511    0.380556          249   \n",
       "0x521aacb43d89e1b8ffd64d9ef76b0a1074dedaf8    0.381953          243   \n",
       "0x5a5d9ab7b1bd978f80909503ebb828879daca9c3    0.389904          234   \n",
       "0x6b5918d8ef9094679f4b4e1bf397a66ea411b118    0.380539          244   \n",
       "0x74afec0c8564ddc09e9fac9493c611eeafcca0e7    0.380220          226   \n",
       "0x7904667c340601aab73939372c016dc5102732a2    0.384020          248   \n",
       "0x850a146d7478daaa98fc26fd85e6a24e50846a9d    0.390317          235   \n",
       "0x8615b6ed9468cbb58cfdf45c120b87e15add787f    0.389942          247   \n",
       "0x13257e783dc8ded7e227a28edb0428c42d31202e    1.898486          129   \n",
       "0x85a363699c6864248a6ffca66e4a1a5ccf9f5567    1.127814          126   \n",
       "0xe1887ff140bfa9d3b45d0b2077b7471124acd242    1.127814          125   \n",
       "0x745ce2af76e9a6eba65cc0cacaa9ea109bb7fabd    0.263156          175   \n",
       "0xc98786d5a7a03c1e74affcb97ff7ef8a710da09b    0.263156          174   \n",
       "0xeb0cf83c80e4b4cd82196dac94e2c579672b6b1c    0.263156           86   \n",
       "\n",
       "                                                                               address   \n",
       "project                                                                                  \n",
       "0x91fbd3447077bfd97f5af4d2c033ecbc25788f89  0xf06107faa1398fc800e00ad974e3a5b617e8e542  \\\n",
       "0x8d36bbb74973dd04e31dcbce5778b16dd310bd9b  0xf06107faa1398fc800e00ad974e3a5b617e8e542   \n",
       "0xf55d40d1e5255a639ab36834f93d44ce8125e047  0xf06107faa1398fc800e00ad974e3a5b617e8e542   \n",
       "0xdc71a1bdeabd3c347dc21e9354aff91ad375eb97  0xf06107faa1398fc800e00ad974e3a5b617e8e542   \n",
       "0xca72c93172ba6eff168e59e7f17c3c7a8fea9b62  0xf06107faa1398fc800e00ad974e3a5b617e8e542   \n",
       "0xc4450c8d1009160883e44f24d66d92436ae4b4c5  0xf06107faa1398fc800e00ad974e3a5b617e8e542   \n",
       "0xbec643bd5b7f5e9190617ca4187ef0455950c51c  0xf06107faa1398fc800e00ad974e3a5b617e8e542   \n",
       "0xb62e762af637b49eb4870bce8fe21bfff189e495  0xf06107faa1398fc800e00ad974e3a5b617e8e542   \n",
       "0xa51e0a99b53d5b00937a2631d5865468a3543b7d  0xf06107faa1398fc800e00ad974e3a5b617e8e542   \n",
       "0xa40ba205add80c214ec7a710e790a54d738c4c27  0xf06107faa1398fc800e00ad974e3a5b617e8e542   \n",
       "0xa30ab83e693ad49f3f651085dad11d049c818923  0xf06107faa1398fc800e00ad974e3a5b617e8e542   \n",
       "0x9dcba70b2dfe5807e2a847e065ebb666791f8b8a  0xf06107faa1398fc800e00ad974e3a5b617e8e542   \n",
       "0x9531c059098e3d194ff87febb587ab07b30b1306  0xf06107faa1398fc800e00ad974e3a5b617e8e542   \n",
       "0x924f5821f991f366df954536e9a408867f962637  0xf06107faa1398fc800e00ad974e3a5b617e8e542   \n",
       "0x298f7f66ba43f0efecf4bc324b0016f822c783a4  0xf06107faa1398fc800e00ad974e3a5b617e8e542   \n",
       "0xfc9265a28f66cf4561d74a4e25d7bbd3f482b8e6  0xf06107faa1398fc800e00ad974e3a5b617e8e542   \n",
       "0x8cfb71682feb93317d1eb4e0b3ca7fa9044169cf  0xf06107faa1398fc800e00ad974e3a5b617e8e542   \n",
       "0x88c379caef7965c49b17c2a18c43af36f213fbd5  0xf06107faa1398fc800e00ad974e3a5b617e8e542   \n",
       "0x3fb0d1e89693b8709de60d835452a4712d1c9b04  0xf06107faa1398fc800e00ad974e3a5b617e8e542   \n",
       "0x4486907312143049ac5c6280cba9ba4cd5f30511  0xf06107faa1398fc800e00ad974e3a5b617e8e542   \n",
       "0x521aacb43d89e1b8ffd64d9ef76b0a1074dedaf8  0xf06107faa1398fc800e00ad974e3a5b617e8e542   \n",
       "0x5a5d9ab7b1bd978f80909503ebb828879daca9c3  0xf06107faa1398fc800e00ad974e3a5b617e8e542   \n",
       "0x6b5918d8ef9094679f4b4e1bf397a66ea411b118  0xf06107faa1398fc800e00ad974e3a5b617e8e542   \n",
       "0x74afec0c8564ddc09e9fac9493c611eeafcca0e7  0xf06107faa1398fc800e00ad974e3a5b617e8e542   \n",
       "0x7904667c340601aab73939372c016dc5102732a2  0xf06107faa1398fc800e00ad974e3a5b617e8e542   \n",
       "0x850a146d7478daaa98fc26fd85e6a24e50846a9d  0xf06107faa1398fc800e00ad974e3a5b617e8e542   \n",
       "0x8615b6ed9468cbb58cfdf45c120b87e15add787f  0xf06107faa1398fc800e00ad974e3a5b617e8e542   \n",
       "0x13257e783dc8ded7e227a28edb0428c42d31202e  0xc5cdf34b216fa0675e9bce0c646b2016ce58b181   \n",
       "0x85a363699c6864248a6ffca66e4a1a5ccf9f5567  0x7d860a3d948cfd85d2854b816fb0b51701e83f37   \n",
       "0xe1887ff140bfa9d3b45d0b2077b7471124acd242  0x7d860a3d948cfd85d2854b816fb0b51701e83f37   \n",
       "0x745ce2af76e9a6eba65cc0cacaa9ea109bb7fabd  0x20e7492b180f05802daf67e3a48b6df76d1c7903   \n",
       "0xc98786d5a7a03c1e74affcb97ff7ef8a710da09b  0x20e7492b180f05802daf67e3a48b6df76d1c7903   \n",
       "0xeb0cf83c80e4b4cd82196dac94e2c579672b6b1c  0x20e7492b180f05802daf67e3a48b6df76d1c7903   \n",
       "\n",
       "                                            seed_same_naive  seed_same   \n",
       "project                                                                  \n",
       "0x91fbd3447077bfd97f5af4d2c033ecbc25788f89             True       True  \\\n",
       "0x8d36bbb74973dd04e31dcbce5778b16dd310bd9b             True       True   \n",
       "0xf55d40d1e5255a639ab36834f93d44ce8125e047             True       True   \n",
       "0xdc71a1bdeabd3c347dc21e9354aff91ad375eb97             True       True   \n",
       "0xca72c93172ba6eff168e59e7f17c3c7a8fea9b62             True       True   \n",
       "0xc4450c8d1009160883e44f24d66d92436ae4b4c5             True       True   \n",
       "0xbec643bd5b7f5e9190617ca4187ef0455950c51c             True       True   \n",
       "0xb62e762af637b49eb4870bce8fe21bfff189e495             True       True   \n",
       "0xa51e0a99b53d5b00937a2631d5865468a3543b7d             True       True   \n",
       "0xa40ba205add80c214ec7a710e790a54d738c4c27             True       True   \n",
       "0xa30ab83e693ad49f3f651085dad11d049c818923             True       True   \n",
       "0x9dcba70b2dfe5807e2a847e065ebb666791f8b8a             True       True   \n",
       "0x9531c059098e3d194ff87febb587ab07b30b1306             True       True   \n",
       "0x924f5821f991f366df954536e9a408867f962637             True       True   \n",
       "0x298f7f66ba43f0efecf4bc324b0016f822c783a4             True       True   \n",
       "0xfc9265a28f66cf4561d74a4e25d7bbd3f482b8e6             True       True   \n",
       "0x8cfb71682feb93317d1eb4e0b3ca7fa9044169cf             True       True   \n",
       "0x88c379caef7965c49b17c2a18c43af36f213fbd5             True       True   \n",
       "0x3fb0d1e89693b8709de60d835452a4712d1c9b04             True       True   \n",
       "0x4486907312143049ac5c6280cba9ba4cd5f30511             True       True   \n",
       "0x521aacb43d89e1b8ffd64d9ef76b0a1074dedaf8             True       True   \n",
       "0x5a5d9ab7b1bd978f80909503ebb828879daca9c3             True       True   \n",
       "0x6b5918d8ef9094679f4b4e1bf397a66ea411b118             True       True   \n",
       "0x74afec0c8564ddc09e9fac9493c611eeafcca0e7             True       True   \n",
       "0x7904667c340601aab73939372c016dc5102732a2             True       True   \n",
       "0x850a146d7478daaa98fc26fd85e6a24e50846a9d             True       True   \n",
       "0x8615b6ed9468cbb58cfdf45c120b87e15add787f             True       True   \n",
       "0x13257e783dc8ded7e227a28edb0428c42d31202e             True       True   \n",
       "0x85a363699c6864248a6ffca66e4a1a5ccf9f5567            False      False   \n",
       "0xe1887ff140bfa9d3b45d0b2077b7471124acd242            False      False   \n",
       "0x745ce2af76e9a6eba65cc0cacaa9ea109bb7fabd             True       True   \n",
       "0xc98786d5a7a03c1e74affcb97ff7ef8a710da09b             True       True   \n",
       "0xeb0cf83c80e4b4cd82196dac94e2c579672b6b1c             True       True   \n",
       "\n",
       "                                            seed_suspicious  less_5_tx  ...   \n",
       "project                                                                 ...   \n",
       "0x91fbd3447077bfd97f5af4d2c033ecbc25788f89            False      False  ...  \\\n",
       "0x8d36bbb74973dd04e31dcbce5778b16dd310bd9b            False      False  ...   \n",
       "0xf55d40d1e5255a639ab36834f93d44ce8125e047            False      False  ...   \n",
       "0xdc71a1bdeabd3c347dc21e9354aff91ad375eb97            False      False  ...   \n",
       "0xca72c93172ba6eff168e59e7f17c3c7a8fea9b62            False      False  ...   \n",
       "0xc4450c8d1009160883e44f24d66d92436ae4b4c5            False      False  ...   \n",
       "0xbec643bd5b7f5e9190617ca4187ef0455950c51c            False      False  ...   \n",
       "0xb62e762af637b49eb4870bce8fe21bfff189e495            False      False  ...   \n",
       "0xa51e0a99b53d5b00937a2631d5865468a3543b7d            False      False  ...   \n",
       "0xa40ba205add80c214ec7a710e790a54d738c4c27            False      False  ...   \n",
       "0xa30ab83e693ad49f3f651085dad11d049c818923            False      False  ...   \n",
       "0x9dcba70b2dfe5807e2a847e065ebb666791f8b8a            False      False  ...   \n",
       "0x9531c059098e3d194ff87febb587ab07b30b1306            False      False  ...   \n",
       "0x924f5821f991f366df954536e9a408867f962637            False      False  ...   \n",
       "0x298f7f66ba43f0efecf4bc324b0016f822c783a4            False      False  ...   \n",
       "0xfc9265a28f66cf4561d74a4e25d7bbd3f482b8e6            False      False  ...   \n",
       "0x8cfb71682feb93317d1eb4e0b3ca7fa9044169cf            False      False  ...   \n",
       "0x88c379caef7965c49b17c2a18c43af36f213fbd5            False      False  ...   \n",
       "0x3fb0d1e89693b8709de60d835452a4712d1c9b04            False      False  ...   \n",
       "0x4486907312143049ac5c6280cba9ba4cd5f30511            False      False  ...   \n",
       "0x521aacb43d89e1b8ffd64d9ef76b0a1074dedaf8            False      False  ...   \n",
       "0x5a5d9ab7b1bd978f80909503ebb828879daca9c3            False      False  ...   \n",
       "0x6b5918d8ef9094679f4b4e1bf397a66ea411b118            False      False  ...   \n",
       "0x74afec0c8564ddc09e9fac9493c611eeafcca0e7            False      False  ...   \n",
       "0x7904667c340601aab73939372c016dc5102732a2            False      False  ...   \n",
       "0x850a146d7478daaa98fc26fd85e6a24e50846a9d            False      False  ...   \n",
       "0x8615b6ed9468cbb58cfdf45c120b87e15add787f            False      False  ...   \n",
       "0x13257e783dc8ded7e227a28edb0428c42d31202e            False      False  ...   \n",
       "0x85a363699c6864248a6ffca66e4a1a5ccf9f5567            False      False  ...   \n",
       "0xe1887ff140bfa9d3b45d0b2077b7471124acd242            False      False  ...   \n",
       "0x745ce2af76e9a6eba65cc0cacaa9ea109bb7fabd            False       True  ...   \n",
       "0xc98786d5a7a03c1e74affcb97ff7ef8a710da09b            False       True  ...   \n",
       "0xeb0cf83c80e4b4cd82196dac94e2c579672b6b1c            False       True  ...   \n",
       "\n",
       "                                            is_airdrop_master   \n",
       "project                                                         \n",
       "0x91fbd3447077bfd97f5af4d2c033ecbc25788f89              False  \\\n",
       "0x8d36bbb74973dd04e31dcbce5778b16dd310bd9b              False   \n",
       "0xf55d40d1e5255a639ab36834f93d44ce8125e047              False   \n",
       "0xdc71a1bdeabd3c347dc21e9354aff91ad375eb97              False   \n",
       "0xca72c93172ba6eff168e59e7f17c3c7a8fea9b62              False   \n",
       "0xc4450c8d1009160883e44f24d66d92436ae4b4c5              False   \n",
       "0xbec643bd5b7f5e9190617ca4187ef0455950c51c              False   \n",
       "0xb62e762af637b49eb4870bce8fe21bfff189e495              False   \n",
       "0xa51e0a99b53d5b00937a2631d5865468a3543b7d              False   \n",
       "0xa40ba205add80c214ec7a710e790a54d738c4c27              False   \n",
       "0xa30ab83e693ad49f3f651085dad11d049c818923              False   \n",
       "0x9dcba70b2dfe5807e2a847e065ebb666791f8b8a              False   \n",
       "0x9531c059098e3d194ff87febb587ab07b30b1306              False   \n",
       "0x924f5821f991f366df954536e9a408867f962637              False   \n",
       "0x298f7f66ba43f0efecf4bc324b0016f822c783a4              False   \n",
       "0xfc9265a28f66cf4561d74a4e25d7bbd3f482b8e6              False   \n",
       "0x8cfb71682feb93317d1eb4e0b3ca7fa9044169cf              False   \n",
       "0x88c379caef7965c49b17c2a18c43af36f213fbd5              False   \n",
       "0x3fb0d1e89693b8709de60d835452a4712d1c9b04              False   \n",
       "0x4486907312143049ac5c6280cba9ba4cd5f30511              False   \n",
       "0x521aacb43d89e1b8ffd64d9ef76b0a1074dedaf8              False   \n",
       "0x5a5d9ab7b1bd978f80909503ebb828879daca9c3              False   \n",
       "0x6b5918d8ef9094679f4b4e1bf397a66ea411b118              False   \n",
       "0x74afec0c8564ddc09e9fac9493c611eeafcca0e7              False   \n",
       "0x7904667c340601aab73939372c016dc5102732a2              False   \n",
       "0x850a146d7478daaa98fc26fd85e6a24e50846a9d              False   \n",
       "0x8615b6ed9468cbb58cfdf45c120b87e15add787f              False   \n",
       "0x13257e783dc8ded7e227a28edb0428c42d31202e              False   \n",
       "0x85a363699c6864248a6ffca66e4a1a5ccf9f5567              False   \n",
       "0xe1887ff140bfa9d3b45d0b2077b7471124acd242              False   \n",
       "0x745ce2af76e9a6eba65cc0cacaa9ea109bb7fabd              False   \n",
       "0xc98786d5a7a03c1e74affcb97ff7ef8a710da09b              False   \n",
       "0xeb0cf83c80e4b4cd82196dac94e2c579672b6b1c              False   \n",
       "\n",
       "                                            count_interaction_with_tornado   \n",
       "project                                                                      \n",
       "0x91fbd3447077bfd97f5af4d2c033ecbc25788f89                               0  \\\n",
       "0x8d36bbb74973dd04e31dcbce5778b16dd310bd9b                               0   \n",
       "0xf55d40d1e5255a639ab36834f93d44ce8125e047                               0   \n",
       "0xdc71a1bdeabd3c347dc21e9354aff91ad375eb97                               0   \n",
       "0xca72c93172ba6eff168e59e7f17c3c7a8fea9b62                               0   \n",
       "0xc4450c8d1009160883e44f24d66d92436ae4b4c5                               0   \n",
       "0xbec643bd5b7f5e9190617ca4187ef0455950c51c                               0   \n",
       "0xb62e762af637b49eb4870bce8fe21bfff189e495                               0   \n",
       "0xa51e0a99b53d5b00937a2631d5865468a3543b7d                               0   \n",
       "0xa40ba205add80c214ec7a710e790a54d738c4c27                               0   \n",
       "0xa30ab83e693ad49f3f651085dad11d049c818923                               0   \n",
       "0x9dcba70b2dfe5807e2a847e065ebb666791f8b8a                               0   \n",
       "0x9531c059098e3d194ff87febb587ab07b30b1306                               0   \n",
       "0x924f5821f991f366df954536e9a408867f962637                               0   \n",
       "0x298f7f66ba43f0efecf4bc324b0016f822c783a4                               0   \n",
       "0xfc9265a28f66cf4561d74a4e25d7bbd3f482b8e6                               0   \n",
       "0x8cfb71682feb93317d1eb4e0b3ca7fa9044169cf                               0   \n",
       "0x88c379caef7965c49b17c2a18c43af36f213fbd5                               0   \n",
       "0x3fb0d1e89693b8709de60d835452a4712d1c9b04                               0   \n",
       "0x4486907312143049ac5c6280cba9ba4cd5f30511                               0   \n",
       "0x521aacb43d89e1b8ffd64d9ef76b0a1074dedaf8                               0   \n",
       "0x5a5d9ab7b1bd978f80909503ebb828879daca9c3                               0   \n",
       "0x6b5918d8ef9094679f4b4e1bf397a66ea411b118                               0   \n",
       "0x74afec0c8564ddc09e9fac9493c611eeafcca0e7                               0   \n",
       "0x7904667c340601aab73939372c016dc5102732a2                               0   \n",
       "0x850a146d7478daaa98fc26fd85e6a24e50846a9d                               0   \n",
       "0x8615b6ed9468cbb58cfdf45c120b87e15add787f                               0   \n",
       "0x13257e783dc8ded7e227a28edb0428c42d31202e                               0   \n",
       "0x85a363699c6864248a6ffca66e4a1a5ccf9f5567                               0   \n",
       "0xe1887ff140bfa9d3b45d0b2077b7471124acd242                               0   \n",
       "0x745ce2af76e9a6eba65cc0cacaa9ea109bb7fabd                               0   \n",
       "0xc98786d5a7a03c1e74affcb97ff7ef8a710da09b                               0   \n",
       "0xeb0cf83c80e4b4cd82196dac94e2c579672b6b1c                               0   \n",
       "\n",
       "                                            count_interaction_with_disperse   \n",
       "project                                                                       \n",
       "0x91fbd3447077bfd97f5af4d2c033ecbc25788f89                                0  \\\n",
       "0x8d36bbb74973dd04e31dcbce5778b16dd310bd9b                                0   \n",
       "0xf55d40d1e5255a639ab36834f93d44ce8125e047                                0   \n",
       "0xdc71a1bdeabd3c347dc21e9354aff91ad375eb97                                0   \n",
       "0xca72c93172ba6eff168e59e7f17c3c7a8fea9b62                                0   \n",
       "0xc4450c8d1009160883e44f24d66d92436ae4b4c5                                0   \n",
       "0xbec643bd5b7f5e9190617ca4187ef0455950c51c                                0   \n",
       "0xb62e762af637b49eb4870bce8fe21bfff189e495                                0   \n",
       "0xa51e0a99b53d5b00937a2631d5865468a3543b7d                                0   \n",
       "0xa40ba205add80c214ec7a710e790a54d738c4c27                                0   \n",
       "0xa30ab83e693ad49f3f651085dad11d049c818923                                0   \n",
       "0x9dcba70b2dfe5807e2a847e065ebb666791f8b8a                                0   \n",
       "0x9531c059098e3d194ff87febb587ab07b30b1306                                0   \n",
       "0x924f5821f991f366df954536e9a408867f962637                                0   \n",
       "0x298f7f66ba43f0efecf4bc324b0016f822c783a4                                0   \n",
       "0xfc9265a28f66cf4561d74a4e25d7bbd3f482b8e6                                0   \n",
       "0x8cfb71682feb93317d1eb4e0b3ca7fa9044169cf                                0   \n",
       "0x88c379caef7965c49b17c2a18c43af36f213fbd5                                0   \n",
       "0x3fb0d1e89693b8709de60d835452a4712d1c9b04                                0   \n",
       "0x4486907312143049ac5c6280cba9ba4cd5f30511                                0   \n",
       "0x521aacb43d89e1b8ffd64d9ef76b0a1074dedaf8                                0   \n",
       "0x5a5d9ab7b1bd978f80909503ebb828879daca9c3                                0   \n",
       "0x6b5918d8ef9094679f4b4e1bf397a66ea411b118                                0   \n",
       "0x74afec0c8564ddc09e9fac9493c611eeafcca0e7                                0   \n",
       "0x7904667c340601aab73939372c016dc5102732a2                                0   \n",
       "0x850a146d7478daaa98fc26fd85e6a24e50846a9d                                0   \n",
       "0x8615b6ed9468cbb58cfdf45c120b87e15add787f                                0   \n",
       "0x13257e783dc8ded7e227a28edb0428c42d31202e                                0   \n",
       "0x85a363699c6864248a6ffca66e4a1a5ccf9f5567                                0   \n",
       "0xe1887ff140bfa9d3b45d0b2077b7471124acd242                                0   \n",
       "0x745ce2af76e9a6eba65cc0cacaa9ea109bb7fabd                                0   \n",
       "0xc98786d5a7a03c1e74affcb97ff7ef8a710da09b                                0   \n",
       "0xeb0cf83c80e4b4cd82196dac94e2c579672b6b1c                                0   \n",
       "\n",
       "                                            has_interaction_airdrop_m   \n",
       "project                                                                 \n",
       "0x91fbd3447077bfd97f5af4d2c033ecbc25788f89                      False  \\\n",
       "0x8d36bbb74973dd04e31dcbce5778b16dd310bd9b                      False   \n",
       "0xf55d40d1e5255a639ab36834f93d44ce8125e047                      False   \n",
       "0xdc71a1bdeabd3c347dc21e9354aff91ad375eb97                      False   \n",
       "0xca72c93172ba6eff168e59e7f17c3c7a8fea9b62                      False   \n",
       "0xc4450c8d1009160883e44f24d66d92436ae4b4c5                      False   \n",
       "0xbec643bd5b7f5e9190617ca4187ef0455950c51c                      False   \n",
       "0xb62e762af637b49eb4870bce8fe21bfff189e495                      False   \n",
       "0xa51e0a99b53d5b00937a2631d5865468a3543b7d                      False   \n",
       "0xa40ba205add80c214ec7a710e790a54d738c4c27                      False   \n",
       "0xa30ab83e693ad49f3f651085dad11d049c818923                      False   \n",
       "0x9dcba70b2dfe5807e2a847e065ebb666791f8b8a                      False   \n",
       "0x9531c059098e3d194ff87febb587ab07b30b1306                      False   \n",
       "0x924f5821f991f366df954536e9a408867f962637                      False   \n",
       "0x298f7f66ba43f0efecf4bc324b0016f822c783a4                      False   \n",
       "0xfc9265a28f66cf4561d74a4e25d7bbd3f482b8e6                      False   \n",
       "0x8cfb71682feb93317d1eb4e0b3ca7fa9044169cf                      False   \n",
       "0x88c379caef7965c49b17c2a18c43af36f213fbd5                      False   \n",
       "0x3fb0d1e89693b8709de60d835452a4712d1c9b04                      False   \n",
       "0x4486907312143049ac5c6280cba9ba4cd5f30511                      False   \n",
       "0x521aacb43d89e1b8ffd64d9ef76b0a1074dedaf8                      False   \n",
       "0x5a5d9ab7b1bd978f80909503ebb828879daca9c3                      False   \n",
       "0x6b5918d8ef9094679f4b4e1bf397a66ea411b118                      False   \n",
       "0x74afec0c8564ddc09e9fac9493c611eeafcca0e7                      False   \n",
       "0x7904667c340601aab73939372c016dc5102732a2                      False   \n",
       "0x850a146d7478daaa98fc26fd85e6a24e50846a9d                      False   \n",
       "0x8615b6ed9468cbb58cfdf45c120b87e15add787f                      False   \n",
       "0x13257e783dc8ded7e227a28edb0428c42d31202e                      False   \n",
       "0x85a363699c6864248a6ffca66e4a1a5ccf9f5567                      False   \n",
       "0xe1887ff140bfa9d3b45d0b2077b7471124acd242                      False   \n",
       "0x745ce2af76e9a6eba65cc0cacaa9ea109bb7fabd                      False   \n",
       "0xc98786d5a7a03c1e74affcb97ff7ef8a710da09b                      False   \n",
       "0xeb0cf83c80e4b4cd82196dac94e2c579672b6b1c                      False   \n",
       "\n",
       "                                            has_interaction_tornado   \n",
       "project                                                               \n",
       "0x91fbd3447077bfd97f5af4d2c033ecbc25788f89                    False  \\\n",
       "0x8d36bbb74973dd04e31dcbce5778b16dd310bd9b                    False   \n",
       "0xf55d40d1e5255a639ab36834f93d44ce8125e047                    False   \n",
       "0xdc71a1bdeabd3c347dc21e9354aff91ad375eb97                    False   \n",
       "0xca72c93172ba6eff168e59e7f17c3c7a8fea9b62                    False   \n",
       "0xc4450c8d1009160883e44f24d66d92436ae4b4c5                    False   \n",
       "0xbec643bd5b7f5e9190617ca4187ef0455950c51c                    False   \n",
       "0xb62e762af637b49eb4870bce8fe21bfff189e495                    False   \n",
       "0xa51e0a99b53d5b00937a2631d5865468a3543b7d                    False   \n",
       "0xa40ba205add80c214ec7a710e790a54d738c4c27                    False   \n",
       "0xa30ab83e693ad49f3f651085dad11d049c818923                    False   \n",
       "0x9dcba70b2dfe5807e2a847e065ebb666791f8b8a                    False   \n",
       "0x9531c059098e3d194ff87febb587ab07b30b1306                    False   \n",
       "0x924f5821f991f366df954536e9a408867f962637                    False   \n",
       "0x298f7f66ba43f0efecf4bc324b0016f822c783a4                    False   \n",
       "0xfc9265a28f66cf4561d74a4e25d7bbd3f482b8e6                    False   \n",
       "0x8cfb71682feb93317d1eb4e0b3ca7fa9044169cf                    False   \n",
       "0x88c379caef7965c49b17c2a18c43af36f213fbd5                    False   \n",
       "0x3fb0d1e89693b8709de60d835452a4712d1c9b04                    False   \n",
       "0x4486907312143049ac5c6280cba9ba4cd5f30511                    False   \n",
       "0x521aacb43d89e1b8ffd64d9ef76b0a1074dedaf8                    False   \n",
       "0x5a5d9ab7b1bd978f80909503ebb828879daca9c3                    False   \n",
       "0x6b5918d8ef9094679f4b4e1bf397a66ea411b118                    False   \n",
       "0x74afec0c8564ddc09e9fac9493c611eeafcca0e7                    False   \n",
       "0x7904667c340601aab73939372c016dc5102732a2                    False   \n",
       "0x850a146d7478daaa98fc26fd85e6a24e50846a9d                    False   \n",
       "0x8615b6ed9468cbb58cfdf45c120b87e15add787f                    False   \n",
       "0x13257e783dc8ded7e227a28edb0428c42d31202e                    False   \n",
       "0x85a363699c6864248a6ffca66e4a1a5ccf9f5567                    False   \n",
       "0xe1887ff140bfa9d3b45d0b2077b7471124acd242                    False   \n",
       "0x745ce2af76e9a6eba65cc0cacaa9ea109bb7fabd                    False   \n",
       "0xc98786d5a7a03c1e74affcb97ff7ef8a710da09b                    False   \n",
       "0xeb0cf83c80e4b4cd82196dac94e2c579672b6b1c                    False   \n",
       "\n",
       "                                            has_interaction_disperse  flagged   \n",
       "project                                                                         \n",
       "0x91fbd3447077bfd97f5af4d2c033ecbc25788f89                     False     True  \\\n",
       "0x8d36bbb74973dd04e31dcbce5778b16dd310bd9b                     False     True   \n",
       "0xf55d40d1e5255a639ab36834f93d44ce8125e047                     False     True   \n",
       "0xdc71a1bdeabd3c347dc21e9354aff91ad375eb97                     False     True   \n",
       "0xca72c93172ba6eff168e59e7f17c3c7a8fea9b62                     False     True   \n",
       "0xc4450c8d1009160883e44f24d66d92436ae4b4c5                     False     True   \n",
       "0xbec643bd5b7f5e9190617ca4187ef0455950c51c                     False     True   \n",
       "0xb62e762af637b49eb4870bce8fe21bfff189e495                     False     True   \n",
       "0xa51e0a99b53d5b00937a2631d5865468a3543b7d                     False     True   \n",
       "0xa40ba205add80c214ec7a710e790a54d738c4c27                     False     True   \n",
       "0xa30ab83e693ad49f3f651085dad11d049c818923                     False     True   \n",
       "0x9dcba70b2dfe5807e2a847e065ebb666791f8b8a                     False     True   \n",
       "0x9531c059098e3d194ff87febb587ab07b30b1306                     False     True   \n",
       "0x924f5821f991f366df954536e9a408867f962637                     False     True   \n",
       "0x298f7f66ba43f0efecf4bc324b0016f822c783a4                     False     True   \n",
       "0xfc9265a28f66cf4561d74a4e25d7bbd3f482b8e6                     False     True   \n",
       "0x8cfb71682feb93317d1eb4e0b3ca7fa9044169cf                     False     True   \n",
       "0x88c379caef7965c49b17c2a18c43af36f213fbd5                     False     True   \n",
       "0x3fb0d1e89693b8709de60d835452a4712d1c9b04                     False     True   \n",
       "0x4486907312143049ac5c6280cba9ba4cd5f30511                     False     True   \n",
       "0x521aacb43d89e1b8ffd64d9ef76b0a1074dedaf8                     False     True   \n",
       "0x5a5d9ab7b1bd978f80909503ebb828879daca9c3                     False     True   \n",
       "0x6b5918d8ef9094679f4b4e1bf397a66ea411b118                     False     True   \n",
       "0x74afec0c8564ddc09e9fac9493c611eeafcca0e7                     False     True   \n",
       "0x7904667c340601aab73939372c016dc5102732a2                     False     True   \n",
       "0x850a146d7478daaa98fc26fd85e6a24e50846a9d                     False     True   \n",
       "0x8615b6ed9468cbb58cfdf45c120b87e15add787f                     False     True   \n",
       "0x13257e783dc8ded7e227a28edb0428c42d31202e                     False     True   \n",
       "0x85a363699c6864248a6ffca66e4a1a5ccf9f5567                     False     True   \n",
       "0xe1887ff140bfa9d3b45d0b2077b7471124acd242                     False     True   \n",
       "0x745ce2af76e9a6eba65cc0cacaa9ea109bb7fabd                     False     True   \n",
       "0xc98786d5a7a03c1e74affcb97ff7ef8a710da09b                     False     True   \n",
       "0xeb0cf83c80e4b4cd82196dac94e2c579672b6b1c                     False     True   \n",
       "\n",
       "                                            stakeridoo_detected   \n",
       "project                                                           \n",
       "0x91fbd3447077bfd97f5af4d2c033ecbc25788f89                False  \\\n",
       "0x8d36bbb74973dd04e31dcbce5778b16dd310bd9b                False   \n",
       "0xf55d40d1e5255a639ab36834f93d44ce8125e047                False   \n",
       "0xdc71a1bdeabd3c347dc21e9354aff91ad375eb97                False   \n",
       "0xca72c93172ba6eff168e59e7f17c3c7a8fea9b62                False   \n",
       "0xc4450c8d1009160883e44f24d66d92436ae4b4c5                False   \n",
       "0xbec643bd5b7f5e9190617ca4187ef0455950c51c                False   \n",
       "0xb62e762af637b49eb4870bce8fe21bfff189e495                False   \n",
       "0xa51e0a99b53d5b00937a2631d5865468a3543b7d                False   \n",
       "0xa40ba205add80c214ec7a710e790a54d738c4c27                False   \n",
       "0xa30ab83e693ad49f3f651085dad11d049c818923                False   \n",
       "0x9dcba70b2dfe5807e2a847e065ebb666791f8b8a                False   \n",
       "0x9531c059098e3d194ff87febb587ab07b30b1306                False   \n",
       "0x924f5821f991f366df954536e9a408867f962637                False   \n",
       "0x298f7f66ba43f0efecf4bc324b0016f822c783a4                False   \n",
       "0xfc9265a28f66cf4561d74a4e25d7bbd3f482b8e6                False   \n",
       "0x8cfb71682feb93317d1eb4e0b3ca7fa9044169cf                False   \n",
       "0x88c379caef7965c49b17c2a18c43af36f213fbd5                False   \n",
       "0x3fb0d1e89693b8709de60d835452a4712d1c9b04                False   \n",
       "0x4486907312143049ac5c6280cba9ba4cd5f30511                False   \n",
       "0x521aacb43d89e1b8ffd64d9ef76b0a1074dedaf8                False   \n",
       "0x5a5d9ab7b1bd978f80909503ebb828879daca9c3                False   \n",
       "0x6b5918d8ef9094679f4b4e1bf397a66ea411b118                False   \n",
       "0x74afec0c8564ddc09e9fac9493c611eeafcca0e7                False   \n",
       "0x7904667c340601aab73939372c016dc5102732a2                False   \n",
       "0x850a146d7478daaa98fc26fd85e6a24e50846a9d                False   \n",
       "0x8615b6ed9468cbb58cfdf45c120b87e15add787f                False   \n",
       "0x13257e783dc8ded7e227a28edb0428c42d31202e                False   \n",
       "0x85a363699c6864248a6ffca66e4a1a5ccf9f5567                False   \n",
       "0xe1887ff140bfa9d3b45d0b2077b7471124acd242                False   \n",
       "0x745ce2af76e9a6eba65cc0cacaa9ea109bb7fabd                False   \n",
       "0xc98786d5a7a03c1e74affcb97ff7ef8a710da09b                False   \n",
       "0xeb0cf83c80e4b4cd82196dac94e2c579672b6b1c                False   \n",
       "\n",
       "                                            doge_detected  odc_detected  \n",
       "project                                                                  \n",
       "0x91fbd3447077bfd97f5af4d2c033ecbc25788f89          False          True  \n",
       "0x8d36bbb74973dd04e31dcbce5778b16dd310bd9b          False          True  \n",
       "0xf55d40d1e5255a639ab36834f93d44ce8125e047          False          True  \n",
       "0xdc71a1bdeabd3c347dc21e9354aff91ad375eb97          False          True  \n",
       "0xca72c93172ba6eff168e59e7f17c3c7a8fea9b62          False          True  \n",
       "0xc4450c8d1009160883e44f24d66d92436ae4b4c5          False          True  \n",
       "0xbec643bd5b7f5e9190617ca4187ef0455950c51c          False          True  \n",
       "0xb62e762af637b49eb4870bce8fe21bfff189e495          False          True  \n",
       "0xa51e0a99b53d5b00937a2631d5865468a3543b7d          False          True  \n",
       "0xa40ba205add80c214ec7a710e790a54d738c4c27          False          True  \n",
       "0xa30ab83e693ad49f3f651085dad11d049c818923          False          True  \n",
       "0x9dcba70b2dfe5807e2a847e065ebb666791f8b8a          False          True  \n",
       "0x9531c059098e3d194ff87febb587ab07b30b1306          False          True  \n",
       "0x924f5821f991f366df954536e9a408867f962637          False          True  \n",
       "0x298f7f66ba43f0efecf4bc324b0016f822c783a4          False          True  \n",
       "0xfc9265a28f66cf4561d74a4e25d7bbd3f482b8e6          False          True  \n",
       "0x8cfb71682feb93317d1eb4e0b3ca7fa9044169cf          False          True  \n",
       "0x88c379caef7965c49b17c2a18c43af36f213fbd5          False          True  \n",
       "0x3fb0d1e89693b8709de60d835452a4712d1c9b04          False          True  \n",
       "0x4486907312143049ac5c6280cba9ba4cd5f30511          False          True  \n",
       "0x521aacb43d89e1b8ffd64d9ef76b0a1074dedaf8          False          True  \n",
       "0x5a5d9ab7b1bd978f80909503ebb828879daca9c3          False          True  \n",
       "0x6b5918d8ef9094679f4b4e1bf397a66ea411b118          False          True  \n",
       "0x74afec0c8564ddc09e9fac9493c611eeafcca0e7          False          True  \n",
       "0x7904667c340601aab73939372c016dc5102732a2          False          True  \n",
       "0x850a146d7478daaa98fc26fd85e6a24e50846a9d          False          True  \n",
       "0x8615b6ed9468cbb58cfdf45c120b87e15add787f          False          True  \n",
       "0x13257e783dc8ded7e227a28edb0428c42d31202e          False          True  \n",
       "0x85a363699c6864248a6ffca66e4a1a5ccf9f5567          False          True  \n",
       "0xe1887ff140bfa9d3b45d0b2077b7471124acd242          False          True  \n",
       "0x745ce2af76e9a6eba65cc0cacaa9ea109bb7fabd          False          True  \n",
       "0xc98786d5a7a03c1e74affcb97ff7ef8a710da09b          False          True  \n",
       "0xeb0cf83c80e4b4cd82196dac94e2c579672b6b1c          False          True  \n",
       "\n",
       "[33 rows x 33 columns]"
      ]
     },
     "execution_count": 222,
     "metadata": {},
     "output_type": "execute_result"
    }
   ],
   "source": [
    "df_merge[df_merge['has_lcs'] == True].groupby('project').first().sort_values(by='voter', ascending=False)"
   ]
  },
  {
   "cell_type": "code",
   "execution_count": 207,
   "metadata": {},
   "outputs": [
    {
     "data": {
      "text/plain": [
       "array(['0x310e17aac11fc520fe1cca063d33eb31a59d0034',\n",
       "       '0x8270a0febba70899419e76a98bf2b5dc15fe2ff4',\n",
       "       '0x0b32165db4d078ced10e75cc069b92ce2a049827', ...,\n",
       "       '0x33f3e6a6800a4cdad0def04f943b4c1a296df8b9',\n",
       "       '0x2ca482f7de7075b5800c813741951b7a196b247e',\n",
       "       '0x202dd5ed1fd4158d013bf38daea7f8e6d9df24a7'], dtype=object)"
      ]
     },
     "execution_count": 207,
     "metadata": {},
     "output_type": "execute_result"
    }
   ],
   "source": [
    "df_merge[df_merge['has_lcs'] == True].sort_values(\"max_score_lcs\").voter.unique()"
   ]
  },
  {
   "cell_type": "code",
   "execution_count": 224,
   "metadata": {},
   "outputs": [
    {
     "data": {
      "text/plain": [
       "(1082, 25)"
      ]
     },
     "execution_count": 224,
     "metadata": {},
     "output_type": "execute_result"
    }
   ],
   "source": [
    "df_matching_address_lcs = df_matching_address[df_matching_address['has_lcs']]\n",
    "df_matching_address_lcs.shape"
   ]
  },
  {
   "cell_type": "code",
   "execution_count": 243,
   "metadata": {},
   "outputs": [],
   "source": [
    "c1 = r.reset_index().address[0].index.values"
   ]
  },
  {
   "cell_type": "code",
   "execution_count": 244,
   "metadata": {},
   "outputs": [],
   "source": [
    "df_tx_lcs = df_tx[df_tx['EOA'].isin(c1)]"
   ]
  },
  {
   "cell_type": "code",
   "execution_count": 245,
   "metadata": {},
   "outputs": [],
   "source": [
    "# create network graph\n",
    "import networkx as nx\n",
    "G = nx.from_pandas_edgelist(df_tx_lcs, source='from_address', target='to_address', edge_attr=True, create_using=nx.DiGraph())\n"
   ]
  },
  {
   "cell_type": "code",
   "execution_count": 275,
   "metadata": {},
   "outputs": [
    {
     "data": {
      "image/png": "[encoded data removed]",
      "text/plain": [
       "<Figure size 640x480 with 1 Axes>"
      ]
     },
     "metadata": {},
     "output_type": "display_data"
    }
   ],
   "source": [
    "from matplotlib import pyplot as plt\n",
    "# Create a dictionary to store the node labels\n",
    "labels = {}\n",
    "colors = []\n",
    "# Set the node labels to display only the first 4 characters\n",
    "for node in G.nodes():\n",
    "    labels[node] = node[:4]\n",
    "    if node in df_votes['voter'].unique():\n",
    "        colors.append('red')\n",
    "    elif node == \"0x984e29dcb4286c2d9cbaa2c238afdd8a191eefbc\":\n",
    "        colors.append('green')\n",
    "    else:\n",
    "        colors.append('blue')\n",
    "\n",
    "# Plot the graph\n",
    "pos = nx.spring_layout(G)\n",
    "nx.draw_networkx(G, pos=pos, labels=labels, with_labels=True)\n",
    "plt.show()"
   ]
  },
  {
   "cell_type": "code",
   "execution_count": 276,
   "metadata": {},
   "outputs": [
    {
     "data": {
      "application/vnd.plotly.v1+json": {
       "config": {
        "plotlyServerURL": "https://plot.ly"
       },
       "data": [
        {
         "hoverinfo": "none",
         "line": {
          "width": 1
         },
         "mode": "lines",
         "type": "scatter",
         "x": [
          0.04476182917266921,
          0.6926848322183445
         ],
         "y": [
          0.02950428967314848,
          -0.36703736494989636
         ]
        },
        {
         "hoverinfo": "none",
         "line": {
          "width": 1
         },
         "mode": "lines",
         "type": "scatter",
         "x": [
          0.04476182917266921,
          -0.6478839691019497
         ],
         "y": [
          0.02950428967314848,
          0.4279953687126086
         ]
        },
        {
         "hoverinfo": "none",
         "line": {
          "width": 1
         },
         "mode": "lines",
         "type": "scatter",
         "x": [
          -0.005691754434137787,
          0.04476182917266921
         ],
         "y": [
          -0.024349130651307213,
          0.02950428967314848
         ]
        },
        {
         "hoverinfo": "none",
         "line": {
          "width": 1
         },
         "mode": "lines",
         "type": "scatter",
         "x": [
          -0.005691754434137787,
          0.01389504769495296
         ],
         "y": [
          -0.024349130651307213,
          0.05178315450305561
         ]
        },
        {
         "hoverinfo": "none",
         "line": {
          "width": 1
         },
         "mode": "lines",
         "type": "scatter",
         "x": [
          -0.005691754434137787,
          0.02221628739516226
         ],
         "y": [
          -0.024349130651307213,
          0.006134939210014225
         ]
        },
        {
         "hoverinfo": "none",
         "line": {
          "width": 1
         },
         "mode": "lines",
         "type": "scatter",
         "x": [
          -0.005691754434137787,
          -0.08020318779825082
         ],
         "y": [
          -0.024349130651307213,
          -0.10568104912624113
         ]
        },
        {
         "hoverinfo": "none",
         "line": {
          "width": 1
         },
         "mode": "lines",
         "type": "scatter",
         "x": [
          -0.005691754434137787,
          0.012082385297571366
         ],
         "y": [
          -0.024349130651307213,
          0.003066904194459957
         ]
        },
        {
         "hoverinfo": "none",
         "line": {
          "width": 1
         },
         "mode": "lines",
         "type": "scatter",
         "x": [
          -0.005691754434137787,
          0.0020965928624228527
         ],
         "y": [
          -0.024349130651307213,
          -0.0029204066289426965
         ]
        },
        {
         "hoverinfo": "none",
         "line": {
          "width": 1
         },
         "mode": "lines",
         "type": "scatter",
         "x": [
          -0.005691754434137787,
          0.03987495558809135
         ],
         "y": [
          -0.024349130651307213,
          0.04516638255106692
         ]
        },
        {
         "hoverinfo": "none",
         "line": {
          "width": 1
         },
         "mode": "lines",
         "type": "scatter",
         "x": [
          -0.005691754434137787,
          0.028402277732087734
         ],
         "y": [
          -0.024349130651307213,
          0.055852141597739415
         ]
        },
        {
         "hoverinfo": "none",
         "line": {
          "width": 1
         },
         "mode": "lines",
         "type": "scatter",
         "x": [
          -0.005691754434137787,
          0.008968341723952021
         ],
         "y": [
          -0.024349130651307213,
          0.04579606501495033
         ]
        },
        {
         "hoverinfo": "none",
         "line": {
          "width": 1
         },
         "mode": "lines",
         "type": "scatter",
         "x": [
          -0.005691754434137787,
          0.004041957431652822
         ],
         "y": [
          -0.024349130651307213,
          0.03855729684977317
         ]
        },
        {
         "hoverinfo": "none",
         "line": {
          "width": 1
         },
         "mode": "lines",
         "type": "scatter",
         "x": [
          -0.005691754434137787,
          0.007260600980676227
         ],
         "y": [
          -0.024349130651307213,
          -0.007201480590930581
         ]
        },
        {
         "hoverinfo": "none",
         "line": {
          "width": 1
         },
         "mode": "lines",
         "type": "scatter",
         "x": [
          -0.005691754434137787,
          -0.04092430491095822
         ],
         "y": [
          -0.024349130651307213,
          -0.3554921717242343
         ]
        },
        {
         "hoverinfo": "none",
         "line": {
          "width": 1
         },
         "mode": "lines",
         "type": "scatter",
         "x": [
          -0.005691754434137787,
          0.03455009593719792
         ],
         "y": [
          -0.024349130651307213,
          0.058692455404054704
         ]
        },
        {
         "hoverinfo": "none",
         "line": {
          "width": 1
         },
         "mode": "lines",
         "type": "scatter",
         "x": [
          -0.005691754434137787,
          0.01015466487519587
         ],
         "y": [
          -0.024349130651307213,
          0.0234123900894244
         ]
        },
        {
         "hoverinfo": "none",
         "line": {
          "width": 1
         },
         "mode": "lines",
         "type": "scatter",
         "x": [
          -0.005691754434137787,
          0.042578286354046264
         ],
         "y": [
          -0.024349130651307213,
          0.061680120202909396
         ]
        },
        {
         "hoverinfo": "none",
         "line": {
          "width": 1
         },
         "mode": "lines",
         "type": "scatter",
         "x": [
          -0.005691754434137787,
          0.017512871408382542
         ],
         "y": [
          -0.024349130651307213,
          0.0437729480358529
         ]
        },
        {
         "hoverinfo": "none",
         "line": {
          "width": 1
         },
         "mode": "lines",
         "type": "scatter",
         "x": [
          -0.005691754434137787,
          0.04929901176143618
         ],
         "y": [
          -0.024349130651307213,
          0.04523244209072498
         ]
        },
        {
         "hoverinfo": "none",
         "line": {
          "width": 1
         },
         "mode": "lines",
         "type": "scatter",
         "x": [
          -0.005691754434137787,
          0.04592765960296895
         ],
         "y": [
          -0.024349130651307213,
          0.037494579829089957
         ]
        },
        {
         "hoverinfo": "none",
         "line": {
          "width": 1
         },
         "mode": "lines",
         "type": "scatter",
         "x": [
          -0.005691754434137787,
          0.03249863268718136
         ],
         "y": [
          -0.024349130651307213,
          0.01393997625678733
         ]
        },
        {
         "hoverinfo": "none",
         "line": {
          "width": 1
         },
         "mode": "lines",
         "type": "scatter",
         "x": [
          -0.005691754434137787,
          0.01076968362935033
         ],
         "y": [
          -0.024349130651307213,
          0.03141868719902152
         ]
        },
        {
         "hoverinfo": "none",
         "line": {
          "width": 1
         },
         "mode": "lines",
         "type": "scatter",
         "x": [
          -0.005691754434137787,
          0.029584947004381988
         ],
         "y": [
          -0.024349130651307213,
          0.023048337801003533
         ]
        },
        {
         "hoverinfo": "none",
         "line": {
          "width": 1
         },
         "mode": "lines",
         "type": "scatter",
         "x": [
          -0.005691754434137787,
          0.04644704099805812
         ],
         "y": [
          -0.024349130651307213,
          0.06674786696521524
         ]
        },
        {
         "hoverinfo": "none",
         "line": {
          "width": 1
         },
         "mode": "lines",
         "type": "scatter",
         "x": [
          -0.005691754434137787,
          0.01740048916903949
         ],
         "y": [
          -0.024349130651307213,
          0.026157067607978153
         ]
        },
        {
         "hoverinfo": "none",
         "line": {
          "width": 1
         },
         "mode": "lines",
         "type": "scatter",
         "x": [
          -0.005691754434137787,
          0.030488039281119716
         ],
         "y": [
          -0.024349130651307213,
          0.006002716133752574
         ]
        },
        {
         "hoverinfo": "none",
         "line": {
          "width": 1
         },
         "mode": "lines",
         "type": "scatter",
         "x": [
          -0.005691754434137787,
          0.029705347482336386
         ],
         "y": [
          -0.024349130651307213,
          0.035592684880190545
         ]
        },
        {
         "hoverinfo": "none",
         "line": {
          "width": 1
         },
         "mode": "lines",
         "type": "scatter",
         "x": [
          -0.005691754434137787,
          0.05020297218144633
         ],
         "y": [
          -0.024349130651307213,
          0.057836250260850375
         ]
        },
        {
         "hoverinfo": "none",
         "line": {
          "width": 1
         },
         "mode": "lines",
         "type": "scatter",
         "x": [
          -0.005691754434137787,
          0.02559602609813507
         ],
         "y": [
          -0.024349130651307213,
          0.027525715508069953
         ]
        },
        {
         "hoverinfo": "none",
         "line": {
          "width": 1
         },
         "mode": "lines",
         "type": "scatter",
         "x": [
          -0.005691754434137787,
          0.032378165670751885
         ],
         "y": [
          -0.024349130651307213,
          0.04694363620513246
         ]
        },
        {
         "hoverinfo": "none",
         "line": {
          "width": 1
         },
         "mode": "lines",
         "type": "scatter",
         "x": [
          -0.005691754434137787,
          0.010900943038873519
         ],
         "y": [
          -0.024349130651307213,
          0.011037419975597559
         ]
        },
        {
         "hoverinfo": "none",
         "line": {
          "width": 1
         },
         "mode": "lines",
         "type": "scatter",
         "x": [
          -0.005691754434137787,
          0.020431591339236038
         ],
         "y": [
          -0.024349130651307213,
          -0.00021273799814785512
         ]
        },
        {
         "hoverinfo": "none",
         "line": {
          "width": 1
         },
         "mode": "lines",
         "type": "scatter",
         "x": [
          -0.005691754434137787,
          0.024771418362829232
         ],
         "y": [
          -0.024349130651307213,
          0.048385232560873424
         ]
        },
        {
         "hoverinfo": "none",
         "line": {
          "width": 1
         },
         "mode": "lines",
         "type": "scatter",
         "x": [
          -0.005691754434137787,
          0.038709434575576934
         ],
         "y": [
          -0.024349130651307213,
          0.06845148334374382
         ]
        },
        {
         "hoverinfo": "none",
         "line": {
          "width": 1
         },
         "mode": "lines",
         "type": "scatter",
         "x": [
          -0.005691754434137787,
          0.01833745773680972
         ],
         "y": [
          -0.024349130651307213,
          0.019552618730793926
         ]
        },
        {
         "hoverinfo": "none",
         "line": {
          "width": 1
         },
         "mode": "lines",
         "type": "scatter",
         "x": [
          -0.005691754434137787,
          0.0028289772998398985
         ],
         "y": [
          -0.024349130651307213,
          0.02047587469487022
         ]
        },
        {
         "hoverinfo": "none",
         "line": {
          "width": 1
         },
         "mode": "lines",
         "type": "scatter",
         "x": [
          -0.005691754434137787,
          0.03893374804482046
         ],
         "y": [
          -0.024349130651307213,
          0.02439754275975477
         ]
        },
        {
         "hoverinfo": "none",
         "line": {
          "width": 1
         },
         "mode": "lines",
         "type": "scatter",
         "x": [
          -0.005691754434137787,
          0.039051428557774874
         ],
         "y": [
          -0.024349130651307213,
          0.052813451010017304
         ]
        },
        {
         "hoverinfo": "none",
         "line": {
          "width": 1
         },
         "mode": "lines",
         "type": "scatter",
         "x": [
          -0.005691754434137787,
          0.004583480977937421
         ],
         "y": [
          -0.024349130651307213,
          0.005271752334718368
         ]
        },
        {
         "hoverinfo": "none",
         "line": {
          "width": 1
         },
         "mode": "lines",
         "type": "scatter",
         "x": [
          -0.005691754434137787,
          -0.2503683540523814
         ],
         "y": [
          -0.024349130651307213,
          -0.2222589098762178
         ]
        },
        {
         "hoverinfo": "none",
         "line": {
          "width": 1
         },
         "mode": "lines",
         "type": "scatter",
         "x": [
          -0.005691754434137787,
          0.011714774196604699
         ],
         "y": [
          -0.024349130651307213,
          0.038121471391594504
         ]
        },
        {
         "hoverinfo": "none",
         "line": {
          "width": 1
         },
         "mode": "lines",
         "type": "scatter",
         "x": [
          -0.005691754434137787,
          0.03825944616421079
         ],
         "y": [
          -0.024349130651307213,
          0.018029830955898114
         ]
        },
        {
         "hoverinfo": "none",
         "line": {
          "width": 1
         },
         "mode": "lines",
         "type": "scatter",
         "x": [
          -0.005691754434137787,
          0.024651504063586165
         ],
         "y": [
          -0.024349130651307213,
          0.04136169890802197
         ]
        },
        {
         "hoverinfo": "none",
         "line": {
          "width": 1
         },
         "mode": "lines",
         "type": "scatter",
         "x": [
          -0.005691754434137787,
          0.02563254992878366
         ],
         "y": [
          -0.024349130651307213,
          0.015347747884216915
         ]
        },
        {
         "hoverinfo": "none",
         "line": {
          "width": 1
         },
         "mode": "lines",
         "type": "scatter",
         "x": [
          -0.005691754434137787,
          0.03664029821679861
         ],
         "y": [
          -0.024349130651307213,
          0.03164423318917684
         ]
        },
        {
         "hoverinfo": "none",
         "line": {
          "width": 1
         },
         "mode": "lines",
         "type": "scatter",
         "x": [
          -0.005691754434137787,
          0.014432424653725311
         ],
         "y": [
          -0.024349130651307213,
          -0.0039582292055626795
         ]
        },
        {
         "hoverinfo": "none",
         "line": {
          "width": 1
         },
         "mode": "lines",
         "type": "scatter",
         "x": [
          -0.005691754434137787,
          -0.00219843053567417
         ],
         "y": [
          -0.024349130651307213,
          0.02516106643063922
         ]
        },
        {
         "hoverinfo": "none",
         "line": {
          "width": 1
         },
         "mode": "lines",
         "type": "scatter",
         "x": [
          -0.005691754434137787,
          0.047456190630730026
         ],
         "y": [
          -0.024349130651307213,
          0.05144407135624629
         ]
        },
        {
         "hoverinfo": "none",
         "line": {
          "width": 1
         },
         "mode": "lines",
         "type": "scatter",
         "x": [
          -0.005691754434137787,
          -0.0035493542643521194
         ],
         "y": [
          -0.024349130651307213,
          0.015368552068566825
         ]
        },
        {
         "hoverinfo": "none",
         "line": {
          "width": 1
         },
         "mode": "lines",
         "type": "scatter",
         "x": [
          -0.005691754434137787,
          0.02348282007939637
         ],
         "y": [
          -0.024349130651307213,
          0.061742108163413086
         ]
        },
        {
         "hoverinfo": "none",
         "line": {
          "width": 1
         },
         "mode": "lines",
         "type": "scatter",
         "x": [
          -0.005691754434137787,
          0.03063363078012347
         ],
         "y": [
          -0.024349130651307213,
          0.06657709498691727
         ]
        },
        {
         "hoverinfo": "none",
         "line": {
          "width": 1
         },
         "mode": "lines",
         "type": "scatter",
         "x": [
          -0.005691754434137787,
          0.01775554083509517
         ],
         "y": [
          -0.024349130651307213,
          0.011951335218635105
         ]
        },
        {
         "hoverinfo": "none",
         "line": {
          "width": 1
         },
         "mode": "lines",
         "type": "scatter",
         "x": [
          -0.005691754434137787,
          0.007115369403204182
         ],
         "y": [
          -0.024349130651307213,
          0.01528365100110669
         ]
        },
        {
         "hoverinfo": "none",
         "line": {
          "width": 1
         },
         "mode": "lines",
         "type": "scatter",
         "x": [
          -0.005691754434137787,
          0.019654886127487073
         ],
         "y": [
          -0.024349130651307213,
          0.055469744831511
         ]
        },
        {
         "hoverinfo": "none",
         "line": {
          "width": 1
         },
         "mode": "lines",
         "type": "scatter",
         "x": [
          -0.005691754434137787,
          0.037050869815672495
         ],
         "y": [
          -0.024349130651307213,
          0.03947275042530325
         ]
        },
        {
         "hoverinfo": "none",
         "line": {
          "width": 1
         },
         "mode": "lines",
         "type": "scatter",
         "x": [
          -0.005691754434137787,
          0.0211238963163348
         ],
         "y": [
          -0.024349130651307213,
          0.03484116670242668
         ]
        },
        {
         "hoverinfo": "none",
         "line": {
          "width": 1
         },
         "mode": "lines",
         "type": "scatter",
         "x": [
          -0.005691754434137787,
          0.002037260067292594
         ],
         "y": [
          -0.024349130651307213,
          0.03066265717680217
         ]
        },
        {
         "hoverinfo": "none",
         "line": {
          "width": 1
         },
         "mode": "lines",
         "type": "scatter",
         "x": [
          -0.005691754434137787,
          -0.0024759207880824703
         ],
         "y": [
          -0.024349130651307213,
          0.008647288496831747
         ]
        },
        {
         "hoverinfo": "none",
         "line": {
          "width": 1
         },
         "mode": "lines",
         "type": "scatter",
         "x": [
          -0.005691754434137787,
          -0.00410262949162648
         ],
         "y": [
          -0.024349130651307213,
          0.0007790829345439655
         ]
        },
        {
         "hoverinfo": "none",
         "line": {
          "width": 1
         },
         "mode": "lines",
         "type": "scatter",
         "x": [
          0.01389504769495296,
          0.6926848322183445
         ],
         "y": [
          0.05178315450305561,
          -0.36703736494989636
         ]
        },
        {
         "hoverinfo": "none",
         "line": {
          "width": 1
         },
         "mode": "lines",
         "type": "scatter",
         "x": [
          0.01389504769495296,
          -0.6478839691019497
         ],
         "y": [
          0.05178315450305561,
          0.4279953687126086
         ]
        },
        {
         "hoverinfo": "none",
         "line": {
          "width": 1
         },
         "mode": "lines",
         "type": "scatter",
         "x": [
          0.02221628739516226,
          0.6926848322183445
         ],
         "y": [
          0.006134939210014225,
          -0.36703736494989636
         ]
        },
        {
         "hoverinfo": "none",
         "line": {
          "width": 1
         },
         "mode": "lines",
         "type": "scatter",
         "x": [
          0.02221628739516226,
          -0.6478839691019497
         ],
         "y": [
          0.006134939210014225,
          0.4279953687126086
         ]
        },
        {
         "hoverinfo": "none",
         "line": {
          "width": 1
         },
         "mode": "lines",
         "type": "scatter",
         "x": [
          -0.08020318779825082,
          -0.009724259623835038
         ],
         "y": [
          -0.10568104912624113,
          0.6899333506802169
         ]
        },
        {
         "hoverinfo": "none",
         "line": {
          "width": 1
         },
         "mode": "lines",
         "type": "scatter",
         "x": [
          -0.08020318779825082,
          -0.6478839691019497
         ],
         "y": [
          -0.10568104912624113,
          0.4279953687126086
         ]
        },
        {
         "hoverinfo": "none",
         "line": {
          "width": 1
         },
         "mode": "lines",
         "type": "scatter",
         "x": [
          -0.08020318779825082,
          0.6926848322183445
         ],
         "y": [
          -0.10568104912624113,
          -0.36703736494989636
         ]
        },
        {
         "hoverinfo": "none",
         "line": {
          "width": 1
         },
         "mode": "lines",
         "type": "scatter",
         "x": [
          -0.08020318779825082,
          -0.3322969643732677
         ],
         "y": [
          -0.10568104912624113,
          -1
         ]
        },
        {
         "hoverinfo": "none",
         "line": {
          "width": 1
         },
         "mode": "lines",
         "type": "scatter",
         "x": [
          0.012082385297571366,
          0.6926848322183445
         ],
         "y": [
          0.003066904194459957,
          -0.36703736494989636
         ]
        },
        {
         "hoverinfo": "none",
         "line": {
          "width": 1
         },
         "mode": "lines",
         "type": "scatter",
         "x": [
          0.012082385297571366,
          -0.6478839691019497
         ],
         "y": [
          0.003066904194459957,
          0.4279953687126086
         ]
        },
        {
         "hoverinfo": "none",
         "line": {
          "width": 1
         },
         "mode": "lines",
         "type": "scatter",
         "x": [
          0.0020965928624228527,
          0.6926848322183445
         ],
         "y": [
          -0.0029204066289426965,
          -0.36703736494989636
         ]
        },
        {
         "hoverinfo": "none",
         "line": {
          "width": 1
         },
         "mode": "lines",
         "type": "scatter",
         "x": [
          0.0020965928624228527,
          -0.6478839691019497
         ],
         "y": [
          -0.0029204066289426965,
          0.4279953687126086
         ]
        },
        {
         "hoverinfo": "none",
         "line": {
          "width": 1
         },
         "mode": "lines",
         "type": "scatter",
         "x": [
          0.03987495558809135,
          0.6926848322183445
         ],
         "y": [
          0.04516638255106692,
          -0.36703736494989636
         ]
        },
        {
         "hoverinfo": "none",
         "line": {
          "width": 1
         },
         "mode": "lines",
         "type": "scatter",
         "x": [
          0.03987495558809135,
          -0.6478839691019497
         ],
         "y": [
          0.04516638255106692,
          0.4279953687126086
         ]
        },
        {
         "hoverinfo": "none",
         "line": {
          "width": 1
         },
         "mode": "lines",
         "type": "scatter",
         "x": [
          0.028402277732087734,
          0.6926848322183445
         ],
         "y": [
          0.055852141597739415,
          -0.36703736494989636
         ]
        },
        {
         "hoverinfo": "none",
         "line": {
          "width": 1
         },
         "mode": "lines",
         "type": "scatter",
         "x": [
          0.028402277732087734,
          -0.6478839691019497
         ],
         "y": [
          0.055852141597739415,
          0.4279953687126086
         ]
        },
        {
         "hoverinfo": "none",
         "line": {
          "width": 1
         },
         "mode": "lines",
         "type": "scatter",
         "x": [
          0.008968341723952021,
          0.6926848322183445
         ],
         "y": [
          0.04579606501495033,
          -0.36703736494989636
         ]
        },
        {
         "hoverinfo": "none",
         "line": {
          "width": 1
         },
         "mode": "lines",
         "type": "scatter",
         "x": [
          0.008968341723952021,
          -0.6478839691019497
         ],
         "y": [
          0.04579606501495033,
          0.4279953687126086
         ]
        },
        {
         "hoverinfo": "none",
         "line": {
          "width": 1
         },
         "mode": "lines",
         "type": "scatter",
         "x": [
          0.004041957431652822,
          -0.6478839691019497
         ],
         "y": [
          0.03855729684977317,
          0.4279953687126086
         ]
        },
        {
         "hoverinfo": "none",
         "line": {
          "width": 1
         },
         "mode": "lines",
         "type": "scatter",
         "x": [
          0.004041957431652822,
          0.6926848322183445
         ],
         "y": [
          0.03855729684977317,
          -0.36703736494989636
         ]
        },
        {
         "hoverinfo": "none",
         "line": {
          "width": 1
         },
         "mode": "lines",
         "type": "scatter",
         "x": [
          0.007260600980676227,
          0.6926848322183445
         ],
         "y": [
          -0.007201480590930581,
          -0.36703736494989636
         ]
        },
        {
         "hoverinfo": "none",
         "line": {
          "width": 1
         },
         "mode": "lines",
         "type": "scatter",
         "x": [
          0.007260600980676227,
          -0.6478839691019497
         ],
         "y": [
          -0.007201480590930581,
          0.4279953687126086
         ]
        },
        {
         "hoverinfo": "none",
         "line": {
          "width": 1
         },
         "mode": "lines",
         "type": "scatter",
         "x": [
          -0.04092430491095822,
          0.6926848322183445
         ],
         "y": [
          -0.3554921717242343,
          -0.36703736494989636
         ]
        },
        {
         "hoverinfo": "none",
         "line": {
          "width": 1
         },
         "mode": "lines",
         "type": "scatter",
         "x": [
          -0.04092430491095822,
          0.38249272998650324
         ],
         "y": [
          -0.3554921717242343,
          -0.8353081553497304
         ]
        },
        {
         "hoverinfo": "none",
         "line": {
          "width": 1
         },
         "mode": "lines",
         "type": "scatter",
         "x": [
          -0.04092430491095822,
          -0.3322969643732677
         ],
         "y": [
          -0.3554921717242343,
          -1
         ]
        },
        {
         "hoverinfo": "none",
         "line": {
          "width": 1
         },
         "mode": "lines",
         "type": "scatter",
         "x": [
          -0.04092430491095822,
          -0.6478839691019497
         ],
         "y": [
          -0.3554921717242343,
          0.4279953687126086
         ]
        },
        {
         "hoverinfo": "none",
         "line": {
          "width": 1
         },
         "mode": "lines",
         "type": "scatter",
         "x": [
          0.03455009593719792,
          0.6926848322183445
         ],
         "y": [
          0.058692455404054704,
          -0.36703736494989636
         ]
        },
        {
         "hoverinfo": "none",
         "line": {
          "width": 1
         },
         "mode": "lines",
         "type": "scatter",
         "x": [
          0.03455009593719792,
          -0.6478839691019497
         ],
         "y": [
          0.058692455404054704,
          0.4279953687126086
         ]
        },
        {
         "hoverinfo": "none",
         "line": {
          "width": 1
         },
         "mode": "lines",
         "type": "scatter",
         "x": [
          0.01015466487519587,
          0.6926848322183445
         ],
         "y": [
          0.0234123900894244,
          -0.36703736494989636
         ]
        },
        {
         "hoverinfo": "none",
         "line": {
          "width": 1
         },
         "mode": "lines",
         "type": "scatter",
         "x": [
          0.01015466487519587,
          -0.6478839691019497
         ],
         "y": [
          0.0234123900894244,
          0.4279953687126086
         ]
        },
        {
         "hoverinfo": "none",
         "line": {
          "width": 1
         },
         "mode": "lines",
         "type": "scatter",
         "x": [
          0.042578286354046264,
          0.6926848322183445
         ],
         "y": [
          0.061680120202909396,
          -0.36703736494989636
         ]
        },
        {
         "hoverinfo": "none",
         "line": {
          "width": 1
         },
         "mode": "lines",
         "type": "scatter",
         "x": [
          0.042578286354046264,
          -0.6478839691019497
         ],
         "y": [
          0.061680120202909396,
          0.4279953687126086
         ]
        },
        {
         "hoverinfo": "none",
         "line": {
          "width": 1
         },
         "mode": "lines",
         "type": "scatter",
         "x": [
          0.017512871408382542,
          0.6926848322183445
         ],
         "y": [
          0.0437729480358529,
          -0.36703736494989636
         ]
        },
        {
         "hoverinfo": "none",
         "line": {
          "width": 1
         },
         "mode": "lines",
         "type": "scatter",
         "x": [
          0.017512871408382542,
          -0.6478839691019497
         ],
         "y": [
          0.0437729480358529,
          0.4279953687126086
         ]
        },
        {
         "hoverinfo": "none",
         "line": {
          "width": 1
         },
         "mode": "lines",
         "type": "scatter",
         "x": [
          0.04929901176143618,
          0.6926848322183445
         ],
         "y": [
          0.04523244209072498,
          -0.36703736494989636
         ]
        },
        {
         "hoverinfo": "none",
         "line": {
          "width": 1
         },
         "mode": "lines",
         "type": "scatter",
         "x": [
          0.04929901176143618,
          -0.6478839691019497
         ],
         "y": [
          0.04523244209072498,
          0.4279953687126086
         ]
        },
        {
         "hoverinfo": "none",
         "line": {
          "width": 1
         },
         "mode": "lines",
         "type": "scatter",
         "x": [
          0.04592765960296895,
          0.6926848322183445
         ],
         "y": [
          0.037494579829089957,
          -0.36703736494989636
         ]
        },
        {
         "hoverinfo": "none",
         "line": {
          "width": 1
         },
         "mode": "lines",
         "type": "scatter",
         "x": [
          0.04592765960296895,
          -0.6478839691019497
         ],
         "y": [
          0.037494579829089957,
          0.4279953687126086
         ]
        },
        {
         "hoverinfo": "none",
         "line": {
          "width": 1
         },
         "mode": "lines",
         "type": "scatter",
         "x": [
          0.03249863268718136,
          0.6926848322183445
         ],
         "y": [
          0.01393997625678733,
          -0.36703736494989636
         ]
        },
        {
         "hoverinfo": "none",
         "line": {
          "width": 1
         },
         "mode": "lines",
         "type": "scatter",
         "x": [
          0.03249863268718136,
          -0.6478839691019497
         ],
         "y": [
          0.01393997625678733,
          0.4279953687126086
         ]
        },
        {
         "hoverinfo": "none",
         "line": {
          "width": 1
         },
         "mode": "lines",
         "type": "scatter",
         "x": [
          0.01076968362935033,
          0.6926848322183445
         ],
         "y": [
          0.03141868719902152,
          -0.36703736494989636
         ]
        },
        {
         "hoverinfo": "none",
         "line": {
          "width": 1
         },
         "mode": "lines",
         "type": "scatter",
         "x": [
          0.01076968362935033,
          -0.6478839691019497
         ],
         "y": [
          0.03141868719902152,
          0.4279953687126086
         ]
        },
        {
         "hoverinfo": "none",
         "line": {
          "width": 1
         },
         "mode": "lines",
         "type": "scatter",
         "x": [
          0.029584947004381988,
          0.6926848322183445
         ],
         "y": [
          0.023048337801003533,
          -0.36703736494989636
         ]
        },
        {
         "hoverinfo": "none",
         "line": {
          "width": 1
         },
         "mode": "lines",
         "type": "scatter",
         "x": [
          0.029584947004381988,
          -0.6478839691019497
         ],
         "y": [
          0.023048337801003533,
          0.4279953687126086
         ]
        },
        {
         "hoverinfo": "none",
         "line": {
          "width": 1
         },
         "mode": "lines",
         "type": "scatter",
         "x": [
          0.04644704099805812,
          0.6926848322183445
         ],
         "y": [
          0.06674786696521524,
          -0.36703736494989636
         ]
        },
        {
         "hoverinfo": "none",
         "line": {
          "width": 1
         },
         "mode": "lines",
         "type": "scatter",
         "x": [
          0.04644704099805812,
          -0.6478839691019497
         ],
         "y": [
          0.06674786696521524,
          0.4279953687126086
         ]
        },
        {
         "hoverinfo": "none",
         "line": {
          "width": 1
         },
         "mode": "lines",
         "type": "scatter",
         "x": [
          0.01740048916903949,
          0.6926848322183445
         ],
         "y": [
          0.026157067607978153,
          -0.36703736494989636
         ]
        },
        {
         "hoverinfo": "none",
         "line": {
          "width": 1
         },
         "mode": "lines",
         "type": "scatter",
         "x": [
          0.01740048916903949,
          -0.6478839691019497
         ],
         "y": [
          0.026157067607978153,
          0.4279953687126086
         ]
        },
        {
         "hoverinfo": "none",
         "line": {
          "width": 1
         },
         "mode": "lines",
         "type": "scatter",
         "x": [
          0.030488039281119716,
          0.6926848322183445
         ],
         "y": [
          0.006002716133752574,
          -0.36703736494989636
         ]
        },
        {
         "hoverinfo": "none",
         "line": {
          "width": 1
         },
         "mode": "lines",
         "type": "scatter",
         "x": [
          0.030488039281119716,
          -0.6478839691019497
         ],
         "y": [
          0.006002716133752574,
          0.4279953687126086
         ]
        },
        {
         "hoverinfo": "none",
         "line": {
          "width": 1
         },
         "mode": "lines",
         "type": "scatter",
         "x": [
          0.029705347482336386,
          0.6926848322183445
         ],
         "y": [
          0.035592684880190545,
          -0.36703736494989636
         ]
        },
        {
         "hoverinfo": "none",
         "line": {
          "width": 1
         },
         "mode": "lines",
         "type": "scatter",
         "x": [
          0.029705347482336386,
          -0.6478839691019497
         ],
         "y": [
          0.035592684880190545,
          0.4279953687126086
         ]
        },
        {
         "hoverinfo": "none",
         "line": {
          "width": 1
         },
         "mode": "lines",
         "type": "scatter",
         "x": [
          0.05020297218144633,
          0.6926848322183445
         ],
         "y": [
          0.057836250260850375,
          -0.36703736494989636
         ]
        },
        {
         "hoverinfo": "none",
         "line": {
          "width": 1
         },
         "mode": "lines",
         "type": "scatter",
         "x": [
          0.05020297218144633,
          -0.6478839691019497
         ],
         "y": [
          0.057836250260850375,
          0.4279953687126086
         ]
        },
        {
         "hoverinfo": "none",
         "line": {
          "width": 1
         },
         "mode": "lines",
         "type": "scatter",
         "x": [
          0.02559602609813507,
          0.6926848322183445
         ],
         "y": [
          0.027525715508069953,
          -0.36703736494989636
         ]
        },
        {
         "hoverinfo": "none",
         "line": {
          "width": 1
         },
         "mode": "lines",
         "type": "scatter",
         "x": [
          0.02559602609813507,
          -0.6478839691019497
         ],
         "y": [
          0.027525715508069953,
          0.4279953687126086
         ]
        },
        {
         "hoverinfo": "none",
         "line": {
          "width": 1
         },
         "mode": "lines",
         "type": "scatter",
         "x": [
          0.032378165670751885,
          0.6926848322183445
         ],
         "y": [
          0.04694363620513246,
          -0.36703736494989636
         ]
        },
        {
         "hoverinfo": "none",
         "line": {
          "width": 1
         },
         "mode": "lines",
         "type": "scatter",
         "x": [
          0.032378165670751885,
          -0.6478839691019497
         ],
         "y": [
          0.04694363620513246,
          0.4279953687126086
         ]
        },
        {
         "hoverinfo": "none",
         "line": {
          "width": 1
         },
         "mode": "lines",
         "type": "scatter",
         "x": [
          0.010900943038873519,
          0.6926848322183445
         ],
         "y": [
          0.011037419975597559,
          -0.36703736494989636
         ]
        },
        {
         "hoverinfo": "none",
         "line": {
          "width": 1
         },
         "mode": "lines",
         "type": "scatter",
         "x": [
          0.010900943038873519,
          -0.6478839691019497
         ],
         "y": [
          0.011037419975597559,
          0.4279953687126086
         ]
        },
        {
         "hoverinfo": "none",
         "line": {
          "width": 1
         },
         "mode": "lines",
         "type": "scatter",
         "x": [
          0.020431591339236038,
          0.6926848322183445
         ],
         "y": [
          -0.00021273799814785512,
          -0.36703736494989636
         ]
        },
        {
         "hoverinfo": "none",
         "line": {
          "width": 1
         },
         "mode": "lines",
         "type": "scatter",
         "x": [
          0.020431591339236038,
          -0.6478839691019497
         ],
         "y": [
          -0.00021273799814785512,
          0.4279953687126086
         ]
        },
        {
         "hoverinfo": "none",
         "line": {
          "width": 1
         },
         "mode": "lines",
         "type": "scatter",
         "x": [
          0.024771418362829232,
          0.6926848322183445
         ],
         "y": [
          0.048385232560873424,
          -0.36703736494989636
         ]
        },
        {
         "hoverinfo": "none",
         "line": {
          "width": 1
         },
         "mode": "lines",
         "type": "scatter",
         "x": [
          0.024771418362829232,
          -0.6478839691019497
         ],
         "y": [
          0.048385232560873424,
          0.4279953687126086
         ]
        },
        {
         "hoverinfo": "none",
         "line": {
          "width": 1
         },
         "mode": "lines",
         "type": "scatter",
         "x": [
          0.038709434575576934,
          0.6926848322183445
         ],
         "y": [
          0.06845148334374382,
          -0.36703736494989636
         ]
        },
        {
         "hoverinfo": "none",
         "line": {
          "width": 1
         },
         "mode": "lines",
         "type": "scatter",
         "x": [
          0.038709434575576934,
          -0.6478839691019497
         ],
         "y": [
          0.06845148334374382,
          0.4279953687126086
         ]
        },
        {
         "hoverinfo": "none",
         "line": {
          "width": 1
         },
         "mode": "lines",
         "type": "scatter",
         "x": [
          0.01833745773680972,
          0.6926848322183445
         ],
         "y": [
          0.019552618730793926,
          -0.36703736494989636
         ]
        },
        {
         "hoverinfo": "none",
         "line": {
          "width": 1
         },
         "mode": "lines",
         "type": "scatter",
         "x": [
          0.01833745773680972,
          -0.6478839691019497
         ],
         "y": [
          0.019552618730793926,
          0.4279953687126086
         ]
        },
        {
         "hoverinfo": "none",
         "line": {
          "width": 1
         },
         "mode": "lines",
         "type": "scatter",
         "x": [
          0.0028289772998398985,
          0.6926848322183445
         ],
         "y": [
          0.02047587469487022,
          -0.36703736494989636
         ]
        },
        {
         "hoverinfo": "none",
         "line": {
          "width": 1
         },
         "mode": "lines",
         "type": "scatter",
         "x": [
          0.0028289772998398985,
          -0.6478839691019497
         ],
         "y": [
          0.02047587469487022,
          0.4279953687126086
         ]
        },
        {
         "hoverinfo": "none",
         "line": {
          "width": 1
         },
         "mode": "lines",
         "type": "scatter",
         "x": [
          0.03893374804482046,
          0.6926848322183445
         ],
         "y": [
          0.02439754275975477,
          -0.36703736494989636
         ]
        },
        {
         "hoverinfo": "none",
         "line": {
          "width": 1
         },
         "mode": "lines",
         "type": "scatter",
         "x": [
          0.03893374804482046,
          -0.6478839691019497
         ],
         "y": [
          0.02439754275975477,
          0.4279953687126086
         ]
        },
        {
         "hoverinfo": "none",
         "line": {
          "width": 1
         },
         "mode": "lines",
         "type": "scatter",
         "x": [
          0.039051428557774874,
          0.6926848322183445
         ],
         "y": [
          0.052813451010017304,
          -0.36703736494989636
         ]
        },
        {
         "hoverinfo": "none",
         "line": {
          "width": 1
         },
         "mode": "lines",
         "type": "scatter",
         "x": [
          0.039051428557774874,
          -0.6478839691019497
         ],
         "y": [
          0.052813451010017304,
          0.4279953687126086
         ]
        },
        {
         "hoverinfo": "none",
         "line": {
          "width": 1
         },
         "mode": "lines",
         "type": "scatter",
         "x": [
          0.004583480977937421,
          0.6926848322183445
         ],
         "y": [
          0.005271752334718368,
          -0.36703736494989636
         ]
        },
        {
         "hoverinfo": "none",
         "line": {
          "width": 1
         },
         "mode": "lines",
         "type": "scatter",
         "x": [
          0.004583480977937421,
          -0.6478839691019497
         ],
         "y": [
          0.005271752334718368,
          0.4279953687126086
         ]
        },
        {
         "hoverinfo": "none",
         "line": {
          "width": 1
         },
         "mode": "lines",
         "type": "scatter",
         "x": [
          -0.2503683540523814,
          0.6926848322183445
         ],
         "y": [
          -0.2222589098762178,
          -0.36703736494989636
         ]
        },
        {
         "hoverinfo": "none",
         "line": {
          "width": 1
         },
         "mode": "lines",
         "type": "scatter",
         "x": [
          -0.2503683540523814,
          -0.940642584063343
         ],
         "y": [
          -0.2222589098762178,
          0.11284094111189813
         ]
        },
        {
         "hoverinfo": "none",
         "line": {
          "width": 1
         },
         "mode": "lines",
         "type": "scatter",
         "x": [
          -0.2503683540523814,
          -0.6478839691019497
         ],
         "y": [
          -0.2222589098762178,
          0.4279953687126086
         ]
        },
        {
         "hoverinfo": "none",
         "line": {
          "width": 1
         },
         "mode": "lines",
         "type": "scatter",
         "x": [
          -0.2503683540523814,
          -0.3322969643732677
         ],
         "y": [
          -0.2222589098762178,
          -1
         ]
        },
        {
         "hoverinfo": "none",
         "line": {
          "width": 1
         },
         "mode": "lines",
         "type": "scatter",
         "x": [
          0.011714774196604699,
          0.6926848322183445
         ],
         "y": [
          0.038121471391594504,
          -0.36703736494989636
         ]
        },
        {
         "hoverinfo": "none",
         "line": {
          "width": 1
         },
         "mode": "lines",
         "type": "scatter",
         "x": [
          0.011714774196604699,
          -0.6478839691019497
         ],
         "y": [
          0.038121471391594504,
          0.4279953687126086
         ]
        },
        {
         "hoverinfo": "none",
         "line": {
          "width": 1
         },
         "mode": "lines",
         "type": "scatter",
         "x": [
          0.03825944616421079,
          0.6926848322183445
         ],
         "y": [
          0.018029830955898114,
          -0.36703736494989636
         ]
        },
        {
         "hoverinfo": "none",
         "line": {
          "width": 1
         },
         "mode": "lines",
         "type": "scatter",
         "x": [
          0.03825944616421079,
          -0.6478839691019497
         ],
         "y": [
          0.018029830955898114,
          0.4279953687126086
         ]
        },
        {
         "hoverinfo": "none",
         "line": {
          "width": 1
         },
         "mode": "lines",
         "type": "scatter",
         "x": [
          0.024651504063586165,
          0.6926848322183445
         ],
         "y": [
          0.04136169890802197,
          -0.36703736494989636
         ]
        },
        {
         "hoverinfo": "none",
         "line": {
          "width": 1
         },
         "mode": "lines",
         "type": "scatter",
         "x": [
          0.024651504063586165,
          -0.6478839691019497
         ],
         "y": [
          0.04136169890802197,
          0.4279953687126086
         ]
        },
        {
         "hoverinfo": "none",
         "line": {
          "width": 1
         },
         "mode": "lines",
         "type": "scatter",
         "x": [
          0.02563254992878366,
          0.6926848322183445
         ],
         "y": [
          0.015347747884216915,
          -0.36703736494989636
         ]
        },
        {
         "hoverinfo": "none",
         "line": {
          "width": 1
         },
         "mode": "lines",
         "type": "scatter",
         "x": [
          0.02563254992878366,
          -0.6478839691019497
         ],
         "y": [
          0.015347747884216915,
          0.4279953687126086
         ]
        },
        {
         "hoverinfo": "none",
         "line": {
          "width": 1
         },
         "mode": "lines",
         "type": "scatter",
         "x": [
          0.03664029821679861,
          0.6926848322183445
         ],
         "y": [
          0.03164423318917684,
          -0.36703736494989636
         ]
        },
        {
         "hoverinfo": "none",
         "line": {
          "width": 1
         },
         "mode": "lines",
         "type": "scatter",
         "x": [
          0.03664029821679861,
          -0.6478839691019497
         ],
         "y": [
          0.03164423318917684,
          0.4279953687126086
         ]
        },
        {
         "hoverinfo": "none",
         "line": {
          "width": 1
         },
         "mode": "lines",
         "type": "scatter",
         "x": [
          0.014432424653725311,
          0.6926848322183445
         ],
         "y": [
          -0.0039582292055626795,
          -0.36703736494989636
         ]
        },
        {
         "hoverinfo": "none",
         "line": {
          "width": 1
         },
         "mode": "lines",
         "type": "scatter",
         "x": [
          0.014432424653725311,
          -0.6478839691019497
         ],
         "y": [
          -0.0039582292055626795,
          0.4279953687126086
         ]
        },
        {
         "hoverinfo": "none",
         "line": {
          "width": 1
         },
         "mode": "lines",
         "type": "scatter",
         "x": [
          -0.00219843053567417,
          0.6926848322183445
         ],
         "y": [
          0.02516106643063922,
          -0.36703736494989636
         ]
        },
        {
         "hoverinfo": "none",
         "line": {
          "width": 1
         },
         "mode": "lines",
         "type": "scatter",
         "x": [
          -0.00219843053567417,
          -0.6478839691019497
         ],
         "y": [
          0.02516106643063922,
          0.4279953687126086
         ]
        },
        {
         "hoverinfo": "none",
         "line": {
          "width": 1
         },
         "mode": "lines",
         "type": "scatter",
         "x": [
          0.047456190630730026,
          0.6926848322183445
         ],
         "y": [
          0.05144407135624629,
          -0.36703736494989636
         ]
        },
        {
         "hoverinfo": "none",
         "line": {
          "width": 1
         },
         "mode": "lines",
         "type": "scatter",
         "x": [
          0.047456190630730026,
          -0.6478839691019497
         ],
         "y": [
          0.05144407135624629,
          0.4279953687126086
         ]
        },
        {
         "hoverinfo": "none",
         "line": {
          "width": 1
         },
         "mode": "lines",
         "type": "scatter",
         "x": [
          -0.0035493542643521194,
          0.6926848322183445
         ],
         "y": [
          0.015368552068566825,
          -0.36703736494989636
         ]
        },
        {
         "hoverinfo": "none",
         "line": {
          "width": 1
         },
         "mode": "lines",
         "type": "scatter",
         "x": [
          -0.0035493542643521194,
          -0.6478839691019497
         ],
         "y": [
          0.015368552068566825,
          0.4279953687126086
         ]
        },
        {
         "hoverinfo": "none",
         "line": {
          "width": 1
         },
         "mode": "lines",
         "type": "scatter",
         "x": [
          0.02348282007939637,
          0.6926848322183445
         ],
         "y": [
          0.061742108163413086,
          -0.36703736494989636
         ]
        },
        {
         "hoverinfo": "none",
         "line": {
          "width": 1
         },
         "mode": "lines",
         "type": "scatter",
         "x": [
          0.02348282007939637,
          -0.6478839691019497
         ],
         "y": [
          0.061742108163413086,
          0.4279953687126086
         ]
        },
        {
         "hoverinfo": "none",
         "line": {
          "width": 1
         },
         "mode": "lines",
         "type": "scatter",
         "x": [
          0.03063363078012347,
          0.6926848322183445
         ],
         "y": [
          0.06657709498691727,
          -0.36703736494989636
         ]
        },
        {
         "hoverinfo": "none",
         "line": {
          "width": 1
         },
         "mode": "lines",
         "type": "scatter",
         "x": [
          0.03063363078012347,
          -0.6478839691019497
         ],
         "y": [
          0.06657709498691727,
          0.4279953687126086
         ]
        },
        {
         "hoverinfo": "none",
         "line": {
          "width": 1
         },
         "mode": "lines",
         "type": "scatter",
         "x": [
          0.01775554083509517,
          0.6926848322183445
         ],
         "y": [
          0.011951335218635105,
          -0.36703736494989636
         ]
        },
        {
         "hoverinfo": "none",
         "line": {
          "width": 1
         },
         "mode": "lines",
         "type": "scatter",
         "x": [
          0.01775554083509517,
          0.01775554083509517
         ],
         "y": [
          0.011951335218635105,
          0.011951335218635105
         ]
        },
        {
         "hoverinfo": "none",
         "line": {
          "width": 1
         },
         "mode": "lines",
         "type": "scatter",
         "x": [
          0.01775554083509517,
          -0.6478839691019497
         ],
         "y": [
          0.011951335218635105,
          0.4279953687126086
         ]
        },
        {
         "hoverinfo": "none",
         "line": {
          "width": 1
         },
         "mode": "lines",
         "type": "scatter",
         "x": [
          0.007115369403204182,
          0.6926848322183445
         ],
         "y": [
          0.01528365100110669,
          -0.36703736494989636
         ]
        },
        {
         "hoverinfo": "none",
         "line": {
          "width": 1
         },
         "mode": "lines",
         "type": "scatter",
         "x": [
          0.007115369403204182,
          -0.6478839691019497
         ],
         "y": [
          0.01528365100110669,
          0.4279953687126086
         ]
        },
        {
         "hoverinfo": "none",
         "line": {
          "width": 1
         },
         "mode": "lines",
         "type": "scatter",
         "x": [
          0.019654886127487073,
          0.6926848322183445
         ],
         "y": [
          0.055469744831511,
          -0.36703736494989636
         ]
        },
        {
         "hoverinfo": "none",
         "line": {
          "width": 1
         },
         "mode": "lines",
         "type": "scatter",
         "x": [
          0.019654886127487073,
          -0.6478839691019497
         ],
         "y": [
          0.055469744831511,
          0.4279953687126086
         ]
        },
        {
         "hoverinfo": "none",
         "line": {
          "width": 1
         },
         "mode": "lines",
         "type": "scatter",
         "x": [
          0.037050869815672495,
          0.6926848322183445
         ],
         "y": [
          0.03947275042530325,
          -0.36703736494989636
         ]
        },
        {
         "hoverinfo": "none",
         "line": {
          "width": 1
         },
         "mode": "lines",
         "type": "scatter",
         "x": [
          0.037050869815672495,
          -0.6478839691019497
         ],
         "y": [
          0.03947275042530325,
          0.4279953687126086
         ]
        },
        {
         "hoverinfo": "none",
         "line": {
          "width": 1
         },
         "mode": "lines",
         "type": "scatter",
         "x": [
          0.0211238963163348,
          -0.6478839691019497
         ],
         "y": [
          0.03484116670242668,
          0.4279953687126086
         ]
        },
        {
         "hoverinfo": "none",
         "line": {
          "width": 1
         },
         "mode": "lines",
         "type": "scatter",
         "x": [
          0.0211238963163348,
          0.6926848322183445
         ],
         "y": [
          0.03484116670242668,
          -0.36703736494989636
         ]
        },
        {
         "hoverinfo": "none",
         "line": {
          "width": 1
         },
         "mode": "lines",
         "type": "scatter",
         "x": [
          0.002037260067292594,
          0.6926848322183445
         ],
         "y": [
          0.03066265717680217,
          -0.36703736494989636
         ]
        },
        {
         "hoverinfo": "none",
         "line": {
          "width": 1
         },
         "mode": "lines",
         "type": "scatter",
         "x": [
          0.002037260067292594,
          -0.6478839691019497
         ],
         "y": [
          0.03066265717680217,
          0.4279953687126086
         ]
        },
        {
         "hoverinfo": "none",
         "line": {
          "width": 1
         },
         "mode": "lines",
         "type": "scatter",
         "x": [
          -0.0024759207880824703,
          0.6926848322183445
         ],
         "y": [
          0.008647288496831747,
          -0.36703736494989636
         ]
        },
        {
         "hoverinfo": "none",
         "line": {
          "width": 1
         },
         "mode": "lines",
         "type": "scatter",
         "x": [
          -0.0024759207880824703,
          -0.6478839691019497
         ],
         "y": [
          0.008647288496831747,
          0.4279953687126086
         ]
        },
        {
         "hoverinfo": "none",
         "line": {
          "width": 1
         },
         "mode": "lines",
         "type": "scatter",
         "x": [
          -0.00410262949162648,
          0.6926848322183445
         ],
         "y": [
          0.0007790829345439655,
          -0.36703736494989636
         ]
        },
        {
         "hoverinfo": "none",
         "line": {
          "width": 1
         },
         "mode": "lines",
         "type": "scatter",
         "x": [
          -0.00410262949162648,
          -0.6478839691019497
         ],
         "y": [
          0.0007790829345439655,
          0.4279953687126086
         ]
        },
        {
         "hoverinfo": "text",
         "marker": {
          "color": [
           "red",
           "blue",
           "blue",
           "green",
           "red",
           "red",
           "red",
           "blue",
           "blue",
           "red",
           "red",
           "red",
           "red",
           "red",
           "red",
           "red",
           "red",
           "blue",
           "red",
           "red",
           "red",
           "red",
           "red",
           "red",
           "red",
           "red",
           "red",
           "red",
           "red",
           "red",
           "red",
           "red",
           "red",
           "red",
           "red",
           "red",
           "red",
           "red",
           "red",
           "red",
           "red",
           "red",
           "red",
           "red",
           "blue",
           "red",
           "red",
           "red",
           "red",
           "red",
           "red",
           "red",
           "red",
           "red",
           "red",
           "red",
           "red",
           "red",
           "red",
           "red",
           "red",
           "red",
           "red",
           "red"
          ],
          "size": 15
         },
         "mode": "markers",
         "text": [
          "0x03",
          "0xb4",
          "0x80",
          "0x98",
          "0x05",
          "0x05",
          "0x07",
          "0xb4",
          "0x31",
          "0x0c",
          "0x0c",
          "0x0c",
          "0x11",
          "0x15",
          "0x29",
          "0x2e",
          "0x30",
          "0xf3",
          "0x33",
          "0x38",
          "0x3a",
          "0x3a",
          "0x3c",
          "0x45",
          "0x45",
          "0x47",
          "0x49",
          "0x52",
          "0x55",
          "0x5a",
          "0x5e",
          "0x66",
          "0x74",
          "0x78",
          "0x7b",
          "0x7c",
          "0x7d",
          "0x81",
          "0x82",
          "0x85",
          "0x87",
          "0x90",
          "0x92",
          "0x93",
          "0x11",
          "0x9d",
          "0x9e",
          "0xa3",
          "0xb7",
          "0xba",
          "0xba",
          "0xc7",
          "0xca",
          "0xca",
          "0xd0",
          "0xdb",
          "0xe0",
          "0xe1",
          "0xe1",
          "0xe2",
          "0xe8",
          "0xf3",
          "0xf5",
          "0xf8"
         ],
         "type": "scatter",
         "x": [
          0.04476182917266921,
          0.6926848322183445,
          -0.005691754434137787,
          -0.6478839691019497,
          0.01389504769495296,
          0.02221628739516226,
          -0.08020318779825082,
          -0.009724259623835038,
          -0.3322969643732677,
          0.012082385297571366,
          0.0020965928624228527,
          0.03987495558809135,
          0.028402277732087734,
          0.008968341723952021,
          0.004041957431652822,
          0.007260600980676227,
          -0.04092430491095822,
          0.38249272998650324,
          0.03455009593719792,
          0.01015466487519587,
          0.042578286354046264,
          0.017512871408382542,
          0.04929901176143618,
          0.04592765960296895,
          0.03249863268718136,
          0.01076968362935033,
          0.029584947004381988,
          0.04644704099805812,
          0.01740048916903949,
          0.030488039281119716,
          0.029705347482336386,
          0.05020297218144633,
          0.02559602609813507,
          0.032378165670751885,
          0.010900943038873519,
          0.020431591339236038,
          0.024771418362829232,
          0.038709434575576934,
          0.01833745773680972,
          0.0028289772998398985,
          0.03893374804482046,
          0.039051428557774874,
          0.004583480977937421,
          -0.2503683540523814,
          -0.940642584063343,
          0.011714774196604699,
          0.03825944616421079,
          0.024651504063586165,
          0.02563254992878366,
          0.03664029821679861,
          0.014432424653725311,
          -0.00219843053567417,
          0.047456190630730026,
          -0.0035493542643521194,
          0.02348282007939637,
          0.03063363078012347,
          0.01775554083509517,
          0.007115369403204182,
          0.019654886127487073,
          0.037050869815672495,
          0.0211238963163348,
          0.002037260067292594,
          -0.0024759207880824703,
          -0.00410262949162648
         ],
         "y": [
          0.02950428967314848,
          -0.36703736494989636,
          -0.024349130651307213,
          0.4279953687126086,
          0.05178315450305561,
          0.006134939210014225,
          -0.10568104912624113,
          0.6899333506802169,
          -1,
          0.003066904194459957,
          -0.0029204066289426965,
          0.04516638255106692,
          0.055852141597739415,
          0.04579606501495033,
          0.03855729684977317,
          -0.007201480590930581,
          -0.3554921717242343,
          -0.8353081553497304,
          0.058692455404054704,
          0.0234123900894244,
          0.061680120202909396,
          0.0437729480358529,
          0.04523244209072498,
          0.037494579829089957,
          0.01393997625678733,
          0.03141868719902152,
          0.023048337801003533,
          0.06674786696521524,
          0.026157067607978153,
          0.006002716133752574,
          0.035592684880190545,
          0.057836250260850375,
          0.027525715508069953,
          0.04694363620513246,
          0.011037419975597559,
          -0.00021273799814785512,
          0.048385232560873424,
          0.06845148334374382,
          0.019552618730793926,
          0.02047587469487022,
          0.02439754275975477,
          0.052813451010017304,
          0.005271752334718368,
          -0.2222589098762178,
          0.11284094111189813,
          0.038121471391594504,
          0.018029830955898114,
          0.04136169890802197,
          0.015347747884216915,
          0.03164423318917684,
          -0.0039582292055626795,
          0.02516106643063922,
          0.05144407135624629,
          0.015368552068566825,
          0.061742108163413086,
          0.06657709498691727,
          0.011951335218635105,
          0.01528365100110669,
          0.055469744831511,
          0.03947275042530325,
          0.03484116670242668,
          0.03066265717680217,
          0.008647288496831747,
          0.0007790829345439655
         ]
        }
       ],
       "layout": {
        "hovermode": "closest",
        "margin": {
         "b": 20,
         "l": 5,
         "r": 5,
         "t": 40
        },
        "plot_bgcolor": "white",
        "showlegend": false,
        "template": {
         "data": {
          "bar": [
           {
            "error_x": {
             "color": "#2a3f5f"
            },
            "error_y": {
             "color": "#2a3f5f"
            },
            "marker": {
             "line": {
              "color": "#E5ECF6",
              "width": 0.5
             },
             "pattern": {
              "fillmode": "overlay",
              "size": 10,
              "solidity": 0.2
             }
            },
            "type": "bar"
           }
          ],
          "barpolar": [
           {
            "marker": {
             "line": {
              "color": "#E5ECF6",
              "width": 0.5
             },
             "pattern": {
              "fillmode": "overlay",
              "size": 10,
              "solidity": 0.2
             }
            },
            "type": "barpolar"
           }
          ],
          "carpet": [
           {
            "aaxis": {
             "endlinecolor": "#2a3f5f",
             "gridcolor": "white",
             "linecolor": "white",
             "minorgridcolor": "white",
             "startlinecolor": "#2a3f5f"
            },
            "baxis": {
             "endlinecolor": "#2a3f5f",
             "gridcolor": "white",
             "linecolor": "white",
             "minorgridcolor": "white",
             "startlinecolor": "#2a3f5f"
            },
            "type": "carpet"
           }
          ],
          "choropleth": [
           {
            "colorbar": {
             "outlinewidth": 0,
             "ticks": ""
            },
            "type": "choropleth"
           }
          ],
          "contour": [
           {
            "colorbar": {
             "outlinewidth": 0,
             "ticks": ""
            },
            "colorscale": [
             [
              0,
              "#0d0887"
             ],
             [
              0.1111111111111111,
              "#46039f"
             ],
             [
              0.2222222222222222,
              "#7201a8"
             ],
             [
              0.3333333333333333,
              "#9c179e"
             ],
             [
              0.4444444444444444,
              "#bd3786"
             ],
             [
              0.5555555555555556,
              "#d8576b"
             ],
             [
              0.6666666666666666,
              "#ed7953"
             ],
             [
              0.7777777777777778,
              "#fb9f3a"
             ],
             [
              0.8888888888888888,
              "#fdca26"
             ],
             [
              1,
              "#f0f921"
             ]
            ],
            "type": "contour"
           }
          ],
          "contourcarpet": [
           {
            "colorbar": {
             "outlinewidth": 0,
             "ticks": ""
            },
            "type": "contourcarpet"
           }
          ],
          "heatmap": [
           {
            "colorbar": {
             "outlinewidth": 0,
             "ticks": ""
            },
            "colorscale": [
             [
              0,
              "#0d0887"
             ],
             [
              0.1111111111111111,
              "#46039f"
             ],
             [
              0.2222222222222222,
              "#7201a8"
             ],
             [
              0.3333333333333333,
              "#9c179e"
             ],
             [
              0.4444444444444444,
              "#bd3786"
             ],
             [
              0.5555555555555556,
              "#d8576b"
             ],
             [
              0.6666666666666666,
              "#ed7953"
             ],
             [
              0.7777777777777778,
              "#fb9f3a"
             ],
             [
              0.8888888888888888,
              "#fdca26"
             ],
             [
              1,
              "#f0f921"
             ]
            ],
            "type": "heatmap"
           }
          ],
          "heatmapgl": [
           {
            "colorbar": {
             "outlinewidth": 0,
             "ticks": ""
            },
            "colorscale": [
             [
              0,
              "#0d0887"
             ],
             [
              0.1111111111111111,
              "#46039f"
             ],
             [
              0.2222222222222222,
              "#7201a8"
             ],
             [
              0.3333333333333333,
              "#9c179e"
             ],
             [
              0.4444444444444444,
              "#bd3786"
             ],
             [
              0.5555555555555556,
              "#d8576b"
             ],
             [
              0.6666666666666666,
              "#ed7953"
             ],
             [
              0.7777777777777778,
              "#fb9f3a"
             ],
             [
              0.8888888888888888,
              "#fdca26"
             ],
             [
              1,
              "#f0f921"
             ]
            ],
            "type": "heatmapgl"
           }
          ],
          "histogram": [
           {
            "marker": {
             "pattern": {
              "fillmode": "overlay",
              "size": 10,
              "solidity": 0.2
             }
            },
            "type": "histogram"
           }
          ],
          "histogram2d": [
           {
            "colorbar": {
             "outlinewidth": 0,
             "ticks": ""
            },
            "colorscale": [
             [
              0,
              "#0d0887"
             ],
             [
              0.1111111111111111,
              "#46039f"
             ],
             [
              0.2222222222222222,
              "#7201a8"
             ],
             [
              0.3333333333333333,
              "#9c179e"
             ],
             [
              0.4444444444444444,
              "#bd3786"
             ],
             [
              0.5555555555555556,
              "#d8576b"
             ],
             [
              0.6666666666666666,
              "#ed7953"
             ],
             [
              0.7777777777777778,
              "#fb9f3a"
             ],
             [
              0.8888888888888888,
              "#fdca26"
             ],
             [
              1,
              "#f0f921"
             ]
            ],
            "type": "histogram2d"
           }
          ],
          "histogram2dcontour": [
           {
            "colorbar": {
             "outlinewidth": 0,
             "ticks": ""
            },
            "colorscale": [
             [
              0,
              "#0d0887"
             ],
             [
              0.1111111111111111,
              "#46039f"
             ],
             [
              0.2222222222222222,
              "#7201a8"
             ],
             [
              0.3333333333333333,
              "#9c179e"
             ],
             [
              0.4444444444444444,
              "#bd3786"
             ],
             [
              0.5555555555555556,
              "#d8576b"
             ],
             [
              0.6666666666666666,
              "#ed7953"
             ],
             [
              0.7777777777777778,
              "#fb9f3a"
             ],
             [
              0.8888888888888888,
              "#fdca26"
             ],
             [
              1,
              "#f0f921"
             ]
            ],
            "type": "histogram2dcontour"
           }
          ],
          "mesh3d": [
           {
            "colorbar": {
             "outlinewidth": 0,
             "ticks": ""
            },
            "type": "mesh3d"
           }
          ],
          "parcoords": [
           {
            "line": {
             "colorbar": {
              "outlinewidth": 0,
              "ticks": ""
             }
            },
            "type": "parcoords"
           }
          ],
          "pie": [
           {
            "automargin": true,
            "type": "pie"
           }
          ],
          "scatter": [
           {
            "fillpattern": {
             "fillmode": "overlay",
             "size": 10,
             "solidity": 0.2
            },
            "type": "scatter"
           }
          ],
          "scatter3d": [
           {
            "line": {
             "colorbar": {
              "outlinewidth": 0,
              "ticks": ""
             }
            },
            "marker": {
             "colorbar": {
              "outlinewidth": 0,
              "ticks": ""
             }
            },
            "type": "scatter3d"
           }
          ],
          "scattercarpet": [
           {
            "marker": {
             "colorbar": {
              "outlinewidth": 0,
              "ticks": ""
             }
            },
            "type": "scattercarpet"
           }
          ],
          "scattergeo": [
           {
            "marker": {
             "colorbar": {
              "outlinewidth": 0,
              "ticks": ""
             }
            },
            "type": "scattergeo"
           }
          ],
          "scattergl": [
           {
            "marker": {
             "colorbar": {
              "outlinewidth": 0,
              "ticks": ""
             }
            },
            "type": "scattergl"
           }
          ],
          "scattermapbox": [
           {
            "marker": {
             "colorbar": {
              "outlinewidth": 0,
              "ticks": ""
             }
            },
            "type": "scattermapbox"
           }
          ],
          "scatterpolar": [
           {
            "marker": {
             "colorbar": {
              "outlinewidth": 0,
              "ticks": ""
             }
            },
            "type": "scatterpolar"
           }
          ],
          "scatterpolargl": [
           {
            "marker": {
             "colorbar": {
              "outlinewidth": 0,
              "ticks": ""
             }
            },
            "type": "scatterpolargl"
           }
          ],
          "scatterternary": [
           {
            "marker": {
             "colorbar": {
              "outlinewidth": 0,
              "ticks": ""
             }
            },
            "type": "scatterternary"
           }
          ],
          "surface": [
           {
            "colorbar": {
             "outlinewidth": 0,
             "ticks": ""
            },
            "colorscale": [
             [
              0,
              "#0d0887"
             ],
             [
              0.1111111111111111,
              "#46039f"
             ],
             [
              0.2222222222222222,
              "#7201a8"
             ],
             [
              0.3333333333333333,
              "#9c179e"
             ],
             [
              0.4444444444444444,
              "#bd3786"
             ],
             [
              0.5555555555555556,
              "#d8576b"
             ],
             [
              0.6666666666666666,
              "#ed7953"
             ],
             [
              0.7777777777777778,
              "#fb9f3a"
             ],
             [
              0.8888888888888888,
              "#fdca26"
             ],
             [
              1,
              "#f0f921"
             ]
            ],
            "type": "surface"
           }
          ],
          "table": [
           {
            "cells": {
             "fill": {
              "color": "#EBF0F8"
             },
             "line": {
              "color": "white"
             }
            },
            "header": {
             "fill": {
              "color": "#C8D4E3"
             },
             "line": {
              "color": "white"
             }
            },
            "type": "table"
           }
          ]
         },
         "layout": {
          "annotationdefaults": {
           "arrowcolor": "#2a3f5f",
           "arrowhead": 0,
           "arrowwidth": 1
          },
          "autotypenumbers": "strict",
          "coloraxis": {
           "colorbar": {
            "outlinewidth": 0,
            "ticks": ""
           }
          },
          "colorscale": {
           "diverging": [
            [
             0,
             "#8e0152"
            ],
            [
             0.1,
             "#c51b7d"
            ],
            [
             0.2,
             "#de77ae"
            ],
            [
             0.3,
             "#f1b6da"
            ],
            [
             0.4,
             "#fde0ef"
            ],
            [
             0.5,
             "#f7f7f7"
            ],
            [
             0.6,
             "#e6f5d0"
            ],
            [
             0.7,
             "#b8e186"
            ],
            [
             0.8,
             "#7fbc41"
            ],
            [
             0.9,
             "#4d9221"
            ],
            [
             1,
             "#276419"
            ]
           ],
           "sequential": [
            [
             0,
             "#0d0887"
            ],
            [
             0.1111111111111111,
             "#46039f"
            ],
            [
             0.2222222222222222,
             "#7201a8"
            ],
            [
             0.3333333333333333,
             "#9c179e"
            ],
            [
             0.4444444444444444,
             "#bd3786"
            ],
            [
             0.5555555555555556,
             "#d8576b"
            ],
            [
             0.6666666666666666,
             "#ed7953"
            ],
            [
             0.7777777777777778,
             "#fb9f3a"
            ],
            [
             0.8888888888888888,
             "#fdca26"
            ],
            [
             1,
             "#f0f921"
            ]
           ],
           "sequentialminus": [
            [
             0,
             "#0d0887"
            ],
            [
             0.1111111111111111,
             "#46039f"
            ],
            [
             0.2222222222222222,
             "#7201a8"
            ],
            [
             0.3333333333333333,
             "#9c179e"
            ],
            [
             0.4444444444444444,
             "#bd3786"
            ],
            [
             0.5555555555555556,
             "#d8576b"
            ],
            [
             0.6666666666666666,
             "#ed7953"
            ],
            [
             0.7777777777777778,
             "#fb9f3a"
            ],
            [
             0.8888888888888888,
             "#fdca26"
            ],
            [
             1,
             "#f0f921"
            ]
           ]
          },
          "colorway": [
           "#636efa",
           "#EF553B",
           "#00cc96",
           "#ab63fa",
           "#FFA15A",
           "#19d3f3",
           "#FF6692",
           "#B6E880",
           "#FF97FF",
           "#FECB52"
          ],
          "font": {
           "color": "#2a3f5f"
          },
          "geo": {
           "bgcolor": "white",
           "lakecolor": "white",
           "landcolor": "#E5ECF6",
           "showlakes": true,
           "showland": true,
           "subunitcolor": "white"
          },
          "hoverlabel": {
           "align": "left"
          },
          "hovermode": "closest",
          "mapbox": {
           "style": "light"
          },
          "paper_bgcolor": "white",
          "plot_bgcolor": "#E5ECF6",
          "polar": {
           "angularaxis": {
            "gridcolor": "white",
            "linecolor": "white",
            "ticks": ""
           },
           "bgcolor": "#E5ECF6",
           "radialaxis": {
            "gridcolor": "white",
            "linecolor": "white",
            "ticks": ""
           }
          },
          "scene": {
           "xaxis": {
            "backgroundcolor": "#E5ECF6",
            "gridcolor": "white",
            "gridwidth": 2,
            "linecolor": "white",
            "showbackground": true,
            "ticks": "",
            "zerolinecolor": "white"
           },
           "yaxis": {
            "backgroundcolor": "#E5ECF6",
            "gridcolor": "white",
            "gridwidth": 2,
            "linecolor": "white",
            "showbackground": true,
            "ticks": "",
            "zerolinecolor": "white"
           },
           "zaxis": {
            "backgroundcolor": "#E5ECF6",
            "gridcolor": "white",
            "gridwidth": 2,
            "linecolor": "white",
            "showbackground": true,
            "ticks": "",
            "zerolinecolor": "white"
           }
          },
          "shapedefaults": {
           "line": {
            "color": "#2a3f5f"
           }
          },
          "ternary": {
           "aaxis": {
            "gridcolor": "white",
            "linecolor": "white",
            "ticks": ""
           },
           "baxis": {
            "gridcolor": "white",
            "linecolor": "white",
            "ticks": ""
           },
           "bgcolor": "#E5ECF6",
           "caxis": {
            "gridcolor": "white",
            "linecolor": "white",
            "ticks": ""
           }
          },
          "title": {
           "x": 0.05
          },
          "xaxis": {
           "automargin": true,
           "gridcolor": "white",
           "linecolor": "white",
           "ticks": "",
           "title": {
            "standoff": 15
           },
           "zerolinecolor": "white",
           "zerolinewidth": 2
          },
          "yaxis": {
           "automargin": true,
           "gridcolor": "white",
           "linecolor": "white",
           "ticks": "",
           "title": {
            "standoff": 15
           },
           "zerolinecolor": "white",
           "zerolinewidth": 2
          }
         }
        },
        "xaxis": {
         "showgrid": false,
         "showticklabels": false,
         "zeroline": false
        },
        "yaxis": {
         "showgrid": false,
         "showticklabels": false,
         "zeroline": false
        }
       }
      }
     },
     "metadata": {},
     "output_type": "display_data"
    }
   ],
   "source": [
    "import plotly.graph_objects as go\n",
    "\n",
    "\n",
    "# Create a list to store the node positions\n",
    "pos = nx.spring_layout(G)\n",
    "\n",
    "# Create a Scatter plot for the nodes\n",
    "node_trace = go.Scatter(\n",
    "    x=[pos[node][0] for node in G.nodes()],\n",
    "    y=[pos[node][1] for node in G.nodes()],\n",
    "    mode='markers',\n",
    "    text=[labels[node] for node in G.nodes()],\n",
    "    hoverinfo='text',\n",
    "    marker=dict(\n",
    "        size=15,\n",
    "        color=colors\n",
    "    )\n",
    ")\n",
    "\n",
    "# Create a list to store the edge traces\n",
    "edge_traces = []\n",
    "for edge in G.edges():\n",
    "    x0, y0 = pos[edge[0]]\n",
    "    x1, y1 = pos[edge[1]]\n",
    "    edge_trace = go.Scatter(\n",
    "        x=[x0, x1],\n",
    "        y=[y0, y1],\n",
    "        mode='lines',\n",
    "        line=dict(width=1),\n",
    "        hoverinfo='none'\n",
    "    )\n",
    "    edge_traces.append(edge_trace)\n",
    "\n",
    "# Create the figure\n",
    "fig = go.Figure(data=[*edge_traces, node_trace])\n",
    "\n",
    "# Set the layout options\n",
    "fig.update_layout(\n",
    "    plot_bgcolor='white',\n",
    "    showlegend=False,\n",
    "    xaxis=dict(showgrid=False, zeroline=False, showticklabels=False),\n",
    "    yaxis=dict(showgrid=False, zeroline=False, showticklabels=False),\n",
    "    margin=dict(b=20, l=5, r=5, t=40),\n",
    "    hovermode='closest'\n",
    ")\n",
    "\n",
    "# Show the figure\n",
    "fig.show()\n"
   ]
  },
  {
   "cell_type": "code",
   "execution_count": 280,
   "metadata": {},
   "outputs": [
    {
     "name": "stdout",
     "output_type": "stream",
     "text": [
      "64\n",
      "178\n",
      "True\n"
     ]
    }
   ],
   "source": [
    "print(G.number_of_nodes())\n",
    "print(G.number_of_edges())\n",
    "print(nx.is_directed(G))\n",
    "bool_nodes = [n in G.nodes() if n in df_votes['voter'].unique() else False for n in G.nodes()]"
   ]
  },
  {
   "cell_type": "code",
   "execution_count": 346,
   "metadata": {},
   "outputs": [
    {
     "data": {
      "text/plain": [
       "2352"
      ]
     },
     "execution_count": 346,
     "metadata": {},
     "output_type": "execute_result"
    }
   ],
   "source": [
    "df_matching_address['less_10_tx'].sum()"
   ]
  },
  {
   "cell_type": "code",
   "execution_count": 347,
   "metadata": {},
   "outputs": [
    {
     "data": {
      "text/plain": [
       "(2352,)"
      ]
     },
     "execution_count": 347,
     "metadata": {},
     "output_type": "execute_result"
    }
   ],
   "source": [
    "r.shape"
   ]
  },
  {
   "cell_type": "code",
   "execution_count": 349,
   "metadata": {},
   "outputs": [
    {
     "data": {
      "text/html": [
       "<div>\n",
       "<style scoped>\n",
       "    .dataframe tbody tr th:only-of-type {\n",
       "        vertical-align: middle;\n",
       "    }\n",
       "\n",
       "    .dataframe tbody tr th {\n",
       "        vertical-align: top;\n",
       "    }\n",
       "\n",
       "    .dataframe thead th {\n",
       "        text-align: right;\n",
       "    }\n",
       "</style>\n",
       "<table border=\"1\" class=\"dataframe\">\n",
       "  <thead>\n",
       "    <tr style=\"text-align: right;\">\n",
       "      <th></th>\n",
       "      <th>index</th>\n",
       "      <th>address</th>\n",
       "    </tr>\n",
       "  </thead>\n",
       "  <tbody>\n",
       "    <tr>\n",
       "      <th>0</th>\n",
       "      <td>2</td>\n",
       "      <td>lc...</td>\n",
       "    </tr>\n",
       "    <tr>\n",
       "      <th>1</th>\n",
       "      <td>27</td>\n",
       "      <td>lc...</td>\n",
       "    </tr>\n",
       "    <tr>\n",
       "      <th>2</th>\n",
       "      <td>36</td>\n",
       "      <td>lc...</td>\n",
       "    </tr>\n",
       "    <tr>\n",
       "      <th>3</th>\n",
       "      <td>39</td>\n",
       "      <td>Empty DataFrame\n",
       "Columns: [lcs, score]\n",
       "Index: []</td>\n",
       "    </tr>\n",
       "    <tr>\n",
       "      <th>4</th>\n",
       "      <td>40</td>\n",
       "      <td>Empty DataFrame\n",
       "Columns: [lcs, score]\n",
       "Index: []</td>\n",
       "    </tr>\n",
       "    <tr>\n",
       "      <th>...</th>\n",
       "      <td>...</td>\n",
       "      <td>...</td>\n",
       "    </tr>\n",
       "    <tr>\n",
       "      <th>2347</th>\n",
       "      <td>16939</td>\n",
       "      <td>Empty DataFrame\n",
       "Columns: [lcs, score]\n",
       "Index: []</td>\n",
       "    </tr>\n",
       "    <tr>\n",
       "      <th>2348</th>\n",
       "      <td>16943</td>\n",
       "      <td>Empty DataFrame\n",
       "Columns: [lcs, score]\n",
       "Index: []</td>\n",
       "    </tr>\n",
       "    <tr>\n",
       "      <th>2349</th>\n",
       "      <td>16966</td>\n",
       "      <td>lc...</td>\n",
       "    </tr>\n",
       "    <tr>\n",
       "      <th>2350</th>\n",
       "      <td>16974</td>\n",
       "      <td>lc...</td>\n",
       "    </tr>\n",
       "    <tr>\n",
       "      <th>2351</th>\n",
       "      <td>17005</td>\n",
       "      <td>lc...</td>\n",
       "    </tr>\n",
       "  </tbody>\n",
       "</table>\n",
       "<p>2352 rows × 2 columns</p>\n",
       "</div>"
      ],
      "text/plain": [
       "      index                                            address\n",
       "0         2                                              lc...\n",
       "1        27                                              lc...\n",
       "2        36                                              lc...\n",
       "3        39    Empty DataFrame\n",
       "Columns: [lcs, score]\n",
       "Index: []\n",
       "4        40    Empty DataFrame\n",
       "Columns: [lcs, score]\n",
       "Index: []\n",
       "...     ...                                                ...\n",
       "2347  16939    Empty DataFrame\n",
       "Columns: [lcs, score]\n",
       "Index: []\n",
       "2348  16943    Empty DataFrame\n",
       "Columns: [lcs, score]\n",
       "Index: []\n",
       "2349  16966                                              lc...\n",
       "2350  16974                                              lc...\n",
       "2351  17005                                              lc...\n",
       "\n",
       "[2352 rows x 2 columns]"
      ]
     },
     "execution_count": 349,
     "metadata": {},
     "output_type": "execute_result"
    }
   ],
   "source": [
    "r.reset_index()"
   ]
  },
  {
   "cell_type": "code",
   "execution_count": 343,
   "metadata": {},
   "outputs": [],
   "source": [
    "df_matching_address['lcs'] = \"\"\n",
    "df_matching_address.loc[df_matching_address['less_10_tx'] == True, 'lcs'] = r.reset_index()['address'].apply(lambda x: x.reset_index().to_dict(orient='records'))"
   ]
  },
  {
   "cell_type": "code",
   "execution_count": 378,
   "metadata": {},
   "outputs": [
    {
     "data": {
      "text/html": [
       "<div>\n",
       "<style scoped>\n",
       "    .dataframe tbody tr th:only-of-type {\n",
       "        vertical-align: middle;\n",
       "    }\n",
       "\n",
       "    .dataframe tbody tr th {\n",
       "        vertical-align: top;\n",
       "    }\n",
       "\n",
       "    .dataframe thead th {\n",
       "        text-align: right;\n",
       "    }\n",
       "</style>\n",
       "<table border=\"1\" class=\"dataframe\">\n",
       "  <thead>\n",
       "    <tr style=\"text-align: right;\">\n",
       "      <th></th>\n",
       "      <th>address</th>\n",
       "      <th>lcs</th>\n",
       "      <th>cluster_size_lcs</th>\n",
       "      <th>mean_score_lcs</th>\n",
       "      <th>max_score_lcs</th>\n",
       "    </tr>\n",
       "  </thead>\n",
       "  <tbody>\n",
       "    <tr>\n",
       "      <th>2</th>\n",
       "      <td>0x000569d03483abb8949f729908465e65c4bdb243</td>\n",
       "      <td>[{'address': '0x01b527a67d82692c0d4ece55a1be08...</td>\n",
       "      <td>48.0</td>\n",
       "      <td>0.200000</td>\n",
       "      <td>0.200000</td>\n",
       "    </tr>\n",
       "    <tr>\n",
       "      <th>36</th>\n",
       "      <td>0x008ba093c10369ffc41ce502295196970d024fa5</td>\n",
       "      <td>[{'address': '0x00ba2f6797ca4b45f6b1f73906d238...</td>\n",
       "      <td>12.0</td>\n",
       "      <td>0.188889</td>\n",
       "      <td>0.200000</td>\n",
       "    </tr>\n",
       "    <tr>\n",
       "      <th>40</th>\n",
       "      <td>0x009b155a60a3946afa5695d46a7e3aeb5286f2cb</td>\n",
       "      <td>[{'address': '0x8cdbf920a41e29ddadae0bb6b39067...</td>\n",
       "      <td>2.0</td>\n",
       "      <td>0.125000</td>\n",
       "      <td>0.125000</td>\n",
       "    </tr>\n",
       "    <tr>\n",
       "      <th>54</th>\n",
       "      <td>0x00ba2f6797ca4b45f6b1f73906d238afcdfbcbf1</td>\n",
       "      <td>[{'address': '0x06bc5be9ad18a47987c169c9947b9f...</td>\n",
       "      <td>19.0</td>\n",
       "      <td>0.114286</td>\n",
       "      <td>0.114286</td>\n",
       "    </tr>\n",
       "    <tr>\n",
       "      <th>57</th>\n",
       "      <td>0x00c92dd31effcee60d934e58e88f58a0662f8842</td>\n",
       "      <td>[{'address': '0x000569d03483abb8949f729908465e...</td>\n",
       "      <td>172.0</td>\n",
       "      <td>0.145183</td>\n",
       "      <td>0.200000</td>\n",
       "    </tr>\n",
       "    <tr>\n",
       "      <th>...</th>\n",
       "      <td>...</td>\n",
       "      <td>...</td>\n",
       "      <td>...</td>\n",
       "      <td>...</td>\n",
       "      <td>...</td>\n",
       "    </tr>\n",
       "    <tr>\n",
       "      <th>2300</th>\n",
       "      <td>0x221e38a1896142d2aac7e4a2d9c0d13ecfc3daac</td>\n",
       "      <td>[{'address': '0xdbbc11d4db1fa43944ff0791baa684...</td>\n",
       "      <td>1.0</td>\n",
       "      <td>0.200000</td>\n",
       "      <td>0.200000</td>\n",
       "    </tr>\n",
       "    <tr>\n",
       "      <th>2302</th>\n",
       "      <td>0x222653f91f3fc74c36d01e9c77aead6dcd65a955</td>\n",
       "      <td>[{'address': '0x0225b41ece02d4505fbc5d1a193bd6...</td>\n",
       "      <td>9.0</td>\n",
       "      <td>0.185185</td>\n",
       "      <td>0.200000</td>\n",
       "    </tr>\n",
       "    <tr>\n",
       "      <th>2325</th>\n",
       "      <td>0x228f570131e3ac754acd1181195bbeb1a8102df3</td>\n",
       "      <td>[{'address': '0x0d4dc70a006daad7cbf8cae3379d10...</td>\n",
       "      <td>52.0</td>\n",
       "      <td>0.094444</td>\n",
       "      <td>0.133333</td>\n",
       "    </tr>\n",
       "    <tr>\n",
       "      <th>2327</th>\n",
       "      <td>0x22a1ae65b9638ca239c6ccb29ecd11ec990ba492</td>\n",
       "      <td>[{'address': '0x01f7f1a5974b98f85fc20434d575c2...</td>\n",
       "      <td>91.0</td>\n",
       "      <td>0.133333</td>\n",
       "      <td>0.133333</td>\n",
       "    </tr>\n",
       "    <tr>\n",
       "      <th>2340</th>\n",
       "      <td>0x22c3ff3219296ce8c740140afab6ae42c66c280a</td>\n",
       "      <td>[{'address': '0x01d7016c5acc11fcb57e7f1823456c...</td>\n",
       "      <td>88.0</td>\n",
       "      <td>0.195455</td>\n",
       "      <td>0.200000</td>\n",
       "    </tr>\n",
       "  </tbody>\n",
       "</table>\n",
       "<p>136 rows × 5 columns</p>\n",
       "</div>"
      ],
      "text/plain": [
       "                                         address   \n",
       "2     0x000569d03483abb8949f729908465e65c4bdb243  \\\n",
       "36    0x008ba093c10369ffc41ce502295196970d024fa5   \n",
       "40    0x009b155a60a3946afa5695d46a7e3aeb5286f2cb   \n",
       "54    0x00ba2f6797ca4b45f6b1f73906d238afcdfbcbf1   \n",
       "57    0x00c92dd31effcee60d934e58e88f58a0662f8842   \n",
       "...                                          ...   \n",
       "2300  0x221e38a1896142d2aac7e4a2d9c0d13ecfc3daac   \n",
       "2302  0x222653f91f3fc74c36d01e9c77aead6dcd65a955   \n",
       "2325  0x228f570131e3ac754acd1181195bbeb1a8102df3   \n",
       "2327  0x22a1ae65b9638ca239c6ccb29ecd11ec990ba492   \n",
       "2340  0x22c3ff3219296ce8c740140afab6ae42c66c280a   \n",
       "\n",
       "                                                    lcs  cluster_size_lcs   \n",
       "2     [{'address': '0x01b527a67d82692c0d4ece55a1be08...              48.0  \\\n",
       "36    [{'address': '0x00ba2f6797ca4b45f6b1f73906d238...              12.0   \n",
       "40    [{'address': '0x8cdbf920a41e29ddadae0bb6b39067...               2.0   \n",
       "54    [{'address': '0x06bc5be9ad18a47987c169c9947b9f...              19.0   \n",
       "57    [{'address': '0x000569d03483abb8949f729908465e...             172.0   \n",
       "...                                                 ...               ...   \n",
       "2300  [{'address': '0xdbbc11d4db1fa43944ff0791baa684...               1.0   \n",
       "2302  [{'address': '0x0225b41ece02d4505fbc5d1a193bd6...               9.0   \n",
       "2325  [{'address': '0x0d4dc70a006daad7cbf8cae3379d10...              52.0   \n",
       "2327  [{'address': '0x01f7f1a5974b98f85fc20434d575c2...              91.0   \n",
       "2340  [{'address': '0x01d7016c5acc11fcb57e7f1823456c...              88.0   \n",
       "\n",
       "      mean_score_lcs  max_score_lcs  \n",
       "2           0.200000       0.200000  \n",
       "36          0.188889       0.200000  \n",
       "40          0.125000       0.125000  \n",
       "54          0.114286       0.114286  \n",
       "57          0.145183       0.200000  \n",
       "...              ...            ...  \n",
       "2300        0.200000       0.200000  \n",
       "2302        0.185185       0.200000  \n",
       "2325        0.094444       0.133333  \n",
       "2327        0.133333       0.133333  \n",
       "2340        0.195455       0.200000  \n",
       "\n",
       "[136 rows x 5 columns]"
      ]
     },
     "execution_count": 378,
     "metadata": {},
     "output_type": "execute_result"
    }
   ],
   "source": [
    "df_matching_address.loc[df_matching_address['has_lcs'], ['address', 'lcs', 'cluster_size_lcs', 'mean_score_lcs', 'max_score_lcs']]"
   ]
  },
  {
   "cell_type": "code",
   "execution_count": 380,
   "metadata": {},
   "outputs": [],
   "source": [
    "list_flagged_lcs_address = df_matching_address.loc[df_matching_address['has_lcs'], 'address'].values"
   ]
  },
  {
   "cell_type": "code",
   "execution_count": 393,
   "metadata": {},
   "outputs": [],
   "source": [
    "import json"
   ]
  },
  {
   "cell_type": "code",
   "execution_count": 394,
   "metadata": {},
   "outputs": [],
   "source": [
    "lcs1 = df_matching_address.sort_values(by='cluster_size_lcs', ascending=False).iloc[0]['lcs']"
   ]
  },
  {
   "cell_type": "code",
   "execution_count": 402,
   "metadata": {},
   "outputs": [],
   "source": [
    "largest_cluster_add = pd.DataFrame(lcs1)['address'].values"
   ]
  },
  {
   "cell_type": "code",
   "execution_count": 406,
   "metadata": {},
   "outputs": [
    {
     "data": {
      "text/plain": [
       "8"
      ]
     },
     "execution_count": 406,
     "metadata": {},
     "output_type": "execute_result"
    }
   ],
   "source": [
    "len(np.intersect1d(largest_cluster_add, list_flagged_lcs_address))"
   ]
  },
  {
   "cell_type": "code",
   "execution_count": 405,
   "metadata": {},
   "outputs": [
    {
     "data": {
      "text/plain": [
       "230"
      ]
     },
     "execution_count": 405,
     "metadata": {},
     "output_type": "execute_result"
    }
   ],
   "source": [
    "len(np.intersect1d(largest_cluster_add, df_votes['voter'].unique()))"
   ]
  },
  {
   "cell_type": "code",
   "execution_count": 410,
   "metadata": {},
   "outputs": [],
   "source": [
    "df_labels = pd.read_parquet(os.path.join(DATA_DIR, 'optimism_address_labels.parquet'))"
   ]
  },
  {
   "cell_type": "code",
   "execution_count": 431,
   "metadata": {},
   "outputs": [
    {
     "data": {
      "text/plain": [
       "Index(['address', 'address_name', 'label_subtype', 'project_name',\n",
       "       '__row_index'],\n",
       "      dtype='object')"
      ]
     },
     "execution_count": 431,
     "metadata": {},
     "output_type": "execute_result"
    }
   ],
   "source": [
    "df_labels.columns"
   ]
  },
  {
   "cell_type": "code",
   "execution_count": 432,
   "metadata": {},
   "outputs": [
    {
     "data": {
      "text/plain": [
       "array(['pool', 'swap_contract', 'token_contract', 'swap_router',\n",
       "       'rewards', 'vault', 'contract_deployer', 'bridge', 'mint_burn',\n",
       "       'general_contract', 'deposit_wallet', 'nf_token_contract',\n",
       "       'governance', 'hot_wallet', 'oracle', 'treasury',\n",
       "       'donation_address', 'airdrop_contract', 'staking_contract',\n",
       "       'fee_wallet'], dtype=object)"
      ]
     },
     "execution_count": 432,
     "metadata": {},
     "output_type": "execute_result"
    }
   ],
   "source": [
    "df_labels.label_subtype.unique()"
   ]
  },
  {
   "cell_type": "code",
   "execution_count": 445,
   "metadata": {},
   "outputs": [],
   "source": [
    "def same_seed_not_exchange_address(tx_analyser, df_labels, address):\n",
    "    if tx_analyser.df_seed_wallet_naive is None:\n",
    "        tx_analyser.set_seed_wallet_naive()\n",
    "    df_same_seed = tx_analyser.get_address_same_seed(tx_analyser.df_seed_wallet_naive, address)\n",
    "    if df_same_seed.shape[0] == 0:\n",
    "        return []\n",
    "    else:\n",
    "        df_cex_bridge_wallets = df_labels[df_labels['label_subtype'].isin(['cex', 'swap_router', 'bridge', 'hot_wallet'])]\n",
    "        df_same_seed = df_same_seed[~df_same_seed['from_address'].isin(df_cex_bridge_wallets['address'].astype(str).values)]\n",
    "        return df_same_seed['from_address'].unique()\n"
   ]
  },
  {
   "cell_type": "code",
   "execution_count": null,
   "metadata": {},
   "outputs": [],
   "source": [
    "def has_same_seed_not_exchange(tx_analyser, df_labels, address):\n",
    "    if tx_analyser.df_seed_wallet_naive is None:\n",
    "        tx_analyser.set_seed_wallet_naive()\n",
    "    df_same_seed = tx_analyser.get_address_same_seed(tx_analyser.df_seed_wallet_naive, address)\n",
    "    if df_same_seed.shape[0] == 0:\n",
    "        return []\n",
    "    else:\n",
    "        df_cex_bridge_wallets = df_labels[df_labels['label_subtype'].isin(['cex', 'swap_router', 'bridge', 'hot_wallet'])]\n",
    "        df_same_seed = df_same_seed[~df_same_seed['from_address'].isin(df_cex_bridge_wallets['address'].astype(str).values)]\n",
    "        return df_same_seed['from_address'].shape[0] > 0"
   ]
  },
  {
   "cell_type": "code",
   "execution_count": 469,
   "metadata": {},
   "outputs": [
    {
     "data": {
      "text/plain": [
       "(17023, 2)"
      ]
     },
     "execution_count": 469,
     "metadata": {},
     "output_type": "execute_result"
    }
   ],
   "source": [
    "tx_analyser.df_seed_wallet_naive.shape"
   ]
  },
  {
   "cell_type": "code",
   "execution_count": 476,
   "metadata": {},
   "outputs": [
    {
     "data": {
      "text/plain": [
       "(718682, 5)"
      ]
     },
     "execution_count": 476,
     "metadata": {},
     "output_type": "execute_result"
    }
   ],
   "source": [
    "df_labels.shape"
   ]
  },
  {
   "cell_type": "code",
   "execution_count": 579,
   "metadata": {},
   "outputs": [
    {
     "data": {
      "text/plain": [
       "'c:\\\\Users\\\\DELL Admin\\\\Documents\\\\ODC\\\\RegenRangers\\\\data-regen-rangers'"
      ]
     },
     "execution_count": 579,
     "metadata": {},
     "output_type": "execute_result"
    }
   ],
   "source": [
    "DATA_DIR"
   ]
  },
  {
   "cell_type": "code",
   "execution_count": 578,
   "metadata": {},
   "outputs": [],
   "source": [
    "tx_analyser.df_seed_wallet.reset_index().to_csv(os.path.join(DATA_DIR, 'seed_wallet_citizen.csv'), index=False)"
   ]
  },
  {
   "cell_type": "code",
   "execution_count": 485,
   "metadata": {},
   "outputs": [],
   "source": [
    "merge_label_seed = tx_analyser.df_seed_wallet_naive.groupby('from_address').count().sort_values(by='to_address', ascending=False).reset_index().merge(df_labels.drop_duplicates(), left_on='from_address', right_on='address', how='left')"
   ]
  },
  {
   "cell_type": "code",
   "execution_count": 570,
   "metadata": {},
   "outputs": [
    {
     "data": {
      "text/plain": [
       "10421"
      ]
     },
     "execution_count": 570,
     "metadata": {},
     "output_type": "execute_result"
    }
   ],
   "source": [
    "merge_label_seed.address.isna().sum()"
   ]
  },
  {
   "cell_type": "code",
   "execution_count": 573,
   "metadata": {},
   "outputs": [
    {
     "data": {
      "text/html": [
       "<div>\n",
       "<style scoped>\n",
       "    .dataframe tbody tr th:only-of-type {\n",
       "        vertical-align: middle;\n",
       "    }\n",
       "\n",
       "    .dataframe tbody tr th {\n",
       "        vertical-align: top;\n",
       "    }\n",
       "\n",
       "    .dataframe thead th {\n",
       "        text-align: right;\n",
       "    }\n",
       "</style>\n",
       "<table border=\"1\" class=\"dataframe\">\n",
       "  <thead>\n",
       "    <tr style=\"text-align: right;\">\n",
       "      <th></th>\n",
       "      <th>from_address</th>\n",
       "      <th>to_address</th>\n",
       "      <th>address</th>\n",
       "      <th>address_name</th>\n",
       "      <th>label_subtype</th>\n",
       "      <th>project_name</th>\n",
       "      <th>__row_index</th>\n",
       "    </tr>\n",
       "  </thead>\n",
       "  <tbody>\n",
       "    <tr>\n",
       "      <th>0</th>\n",
       "      <td>0xacd03d601e5bb1b275bb94076ff46ed9d753435a</td>\n",
       "      <td>1999</td>\n",
       "      <td>0xacd03d601e5bb1b275bb94076ff46ed9d753435a</td>\n",
       "      <td>binance hot wallet</td>\n",
       "      <td>hot_wallet</td>\n",
       "      <td>binance</td>\n",
       "      <td>8086.0</td>\n",
       "    </tr>\n",
       "    <tr>\n",
       "      <th>5</th>\n",
       "      <td>0x9ef21be1c270aa1c3c3d750f458442397fbffcb6</td>\n",
       "      <td>147</td>\n",
       "      <td>0x9ef21be1c270aa1c3c3d750f458442397fbffcb6</td>\n",
       "      <td>binance</td>\n",
       "      <td>hot_wallet</td>\n",
       "      <td>binance</td>\n",
       "      <td>7365.0</td>\n",
       "    </tr>\n",
       "    <tr>\n",
       "      <th>7</th>\n",
       "      <td>0xebb8ea128bbdff9a1780a4902a9380022371d466</td>\n",
       "      <td>59</td>\n",
       "      <td>0xebb8ea128bbdff9a1780a4902a9380022371d466</td>\n",
       "      <td>kucoin hot wallet</td>\n",
       "      <td>hot_wallet</td>\n",
       "      <td>kucoin</td>\n",
       "      <td>11509.0</td>\n",
       "    </tr>\n",
       "    <tr>\n",
       "      <th>119</th>\n",
       "      <td>0xc8373edfad6d5c5f600b6b2507f78431c5271ff5</td>\n",
       "      <td>3</td>\n",
       "      <td>0xc8373edfad6d5c5f600b6b2507f78431c5271ff5</td>\n",
       "      <td>coinbase hot wallet</td>\n",
       "      <td>hot_wallet</td>\n",
       "      <td>coinbase</td>\n",
       "      <td>9361.0</td>\n",
       "    </tr>\n",
       "    <tr>\n",
       "      <th>156</th>\n",
       "      <td>0xa3f45e619ce3aae2fa5f8244439a66b203b78bcc</td>\n",
       "      <td>3</td>\n",
       "      <td>0xa3f45e619ce3aae2fa5f8244439a66b203b78bcc</td>\n",
       "      <td>kucoin hot_wallet</td>\n",
       "      <td>hot_wallet</td>\n",
       "      <td>kucoin</td>\n",
       "      <td>7638.0</td>\n",
       "    </tr>\n",
       "    <tr>\n",
       "      <th>322</th>\n",
       "      <td>0x9841484a4a6c0b61c4eea71376d76453fd05ec9c</td>\n",
       "      <td>2</td>\n",
       "      <td>0x9841484a4a6c0b61c4eea71376d76453fd05ec9c</td>\n",
       "      <td>thales contract deployer</td>\n",
       "      <td>contract_deployer</td>\n",
       "      <td>thales</td>\n",
       "      <td>7063.0</td>\n",
       "    </tr>\n",
       "    <tr>\n",
       "      <th>1610</th>\n",
       "      <td>0xb29050965a5ac70ab487aa47546cdcbc97dae45d</td>\n",
       "      <td>1</td>\n",
       "      <td>0xb29050965a5ac70ab487aa47546cdcbc97dae45d</td>\n",
       "      <td>punk domains contract deployer</td>\n",
       "      <td>contract_deployer</td>\n",
       "      <td>punk domains</td>\n",
       "      <td>8344.0</td>\n",
       "    </tr>\n",
       "    <tr>\n",
       "      <th>4111</th>\n",
       "      <td>0xf491d040110384dbcf7f241ffe2a546513fd873d</td>\n",
       "      <td>1</td>\n",
       "      <td>0xf491d040110384dbcf7f241ffe2a546513fd873d</td>\n",
       "      <td>coinbase: hot wallet</td>\n",
       "      <td>hot_wallet</td>\n",
       "      <td>coinbase</td>\n",
       "      <td>12427.0</td>\n",
       "    </tr>\n",
       "    <tr>\n",
       "      <th>8707</th>\n",
       "      <td>0x839395e20bbb182fa440d08f850e6c7a8f6f0780</td>\n",
       "      <td>1</td>\n",
       "      <td>0x839395e20bbb182fa440d08f850e6c7a8f6f0780</td>\n",
       "      <td>delegate</td>\n",
       "      <td>governance</td>\n",
       "      <td>optimism</td>\n",
       "      <td>6025.0</td>\n",
       "    </tr>\n",
       "    <tr>\n",
       "      <th>8952</th>\n",
       "      <td>0x74f85fe5538dbfcf3b46399e121c3ba83f695f91</td>\n",
       "      <td>1</td>\n",
       "      <td>0x74f85fe5538dbfcf3b46399e121c3ba83f695f91</td>\n",
       "      <td>tokenpocket contract deployer</td>\n",
       "      <td>contract_deployer</td>\n",
       "      <td>tokenpocket</td>\n",
       "      <td>5681.0</td>\n",
       "    </tr>\n",
       "    <tr>\n",
       "      <th>9588</th>\n",
       "      <td>0x43c5b1c2be8ef194a509cf93eb1ab3dbd07b97ed</td>\n",
       "      <td>1</td>\n",
       "      <td>0x43c5b1c2be8ef194a509cf93eb1ab3dbd07b97ed</td>\n",
       "      <td>binance hot wallet</td>\n",
       "      <td>hot_wallet</td>\n",
       "      <td>binance</td>\n",
       "      <td>3621.0</td>\n",
       "    </tr>\n",
       "  </tbody>\n",
       "</table>\n",
       "</div>"
      ],
      "text/plain": [
       "                                    from_address  to_address   \n",
       "0     0xacd03d601e5bb1b275bb94076ff46ed9d753435a        1999  \\\n",
       "5     0x9ef21be1c270aa1c3c3d750f458442397fbffcb6         147   \n",
       "7     0xebb8ea128bbdff9a1780a4902a9380022371d466          59   \n",
       "119   0xc8373edfad6d5c5f600b6b2507f78431c5271ff5           3   \n",
       "156   0xa3f45e619ce3aae2fa5f8244439a66b203b78bcc           3   \n",
       "322   0x9841484a4a6c0b61c4eea71376d76453fd05ec9c           2   \n",
       "1610  0xb29050965a5ac70ab487aa47546cdcbc97dae45d           1   \n",
       "4111  0xf491d040110384dbcf7f241ffe2a546513fd873d           1   \n",
       "8707  0x839395e20bbb182fa440d08f850e6c7a8f6f0780           1   \n",
       "8952  0x74f85fe5538dbfcf3b46399e121c3ba83f695f91           1   \n",
       "9588  0x43c5b1c2be8ef194a509cf93eb1ab3dbd07b97ed           1   \n",
       "\n",
       "                                         address   \n",
       "0     0xacd03d601e5bb1b275bb94076ff46ed9d753435a  \\\n",
       "5     0x9ef21be1c270aa1c3c3d750f458442397fbffcb6   \n",
       "7     0xebb8ea128bbdff9a1780a4902a9380022371d466   \n",
       "119   0xc8373edfad6d5c5f600b6b2507f78431c5271ff5   \n",
       "156   0xa3f45e619ce3aae2fa5f8244439a66b203b78bcc   \n",
       "322   0x9841484a4a6c0b61c4eea71376d76453fd05ec9c   \n",
       "1610  0xb29050965a5ac70ab487aa47546cdcbc97dae45d   \n",
       "4111  0xf491d040110384dbcf7f241ffe2a546513fd873d   \n",
       "8707  0x839395e20bbb182fa440d08f850e6c7a8f6f0780   \n",
       "8952  0x74f85fe5538dbfcf3b46399e121c3ba83f695f91   \n",
       "9588  0x43c5b1c2be8ef194a509cf93eb1ab3dbd07b97ed   \n",
       "\n",
       "                        address_name      label_subtype  project_name   \n",
       "0                 binance hot wallet         hot_wallet       binance  \\\n",
       "5                            binance         hot_wallet       binance   \n",
       "7                  kucoin hot wallet         hot_wallet        kucoin   \n",
       "119              coinbase hot wallet         hot_wallet      coinbase   \n",
       "156                kucoin hot_wallet         hot_wallet        kucoin   \n",
       "322         thales contract deployer  contract_deployer        thales   \n",
       "1610  punk domains contract deployer  contract_deployer  punk domains   \n",
       "4111            coinbase: hot wallet         hot_wallet      coinbase   \n",
       "8707                        delegate         governance      optimism   \n",
       "8952   tokenpocket contract deployer  contract_deployer   tokenpocket   \n",
       "9588              binance hot wallet         hot_wallet       binance   \n",
       "\n",
       "      __row_index  \n",
       "0          8086.0  \n",
       "5          7365.0  \n",
       "7         11509.0  \n",
       "119        9361.0  \n",
       "156        7638.0  \n",
       "322        7063.0  \n",
       "1610       8344.0  \n",
       "4111      12427.0  \n",
       "8707       6025.0  \n",
       "8952       5681.0  \n",
       "9588       3621.0  "
      ]
     },
     "execution_count": 573,
     "metadata": {},
     "output_type": "execute_result"
    }
   ],
   "source": [
    "merge_label_seed[merge_label_seed.address.notna()]"
   ]
  },
  {
   "cell_type": "code",
   "execution_count": 524,
   "metadata": {},
   "outputs": [
    {
     "data": {
      "text/html": [
       "<div>\n",
       "<style scoped>\n",
       "    .dataframe tbody tr th:only-of-type {\n",
       "        vertical-align: middle;\n",
       "    }\n",
       "\n",
       "    .dataframe tbody tr th {\n",
       "        vertical-align: top;\n",
       "    }\n",
       "\n",
       "    .dataframe thead th {\n",
       "        text-align: right;\n",
       "    }\n",
       "</style>\n",
       "<table border=\"1\" class=\"dataframe\">\n",
       "  <thead>\n",
       "    <tr style=\"text-align: right;\">\n",
       "      <th></th>\n",
       "      <th>from_address</th>\n",
       "      <th>to_address</th>\n",
       "      <th>address</th>\n",
       "      <th>address_name</th>\n",
       "      <th>label_subtype</th>\n",
       "      <th>project_name</th>\n",
       "      <th>__row_index</th>\n",
       "    </tr>\n",
       "  </thead>\n",
       "  <tbody>\n",
       "    <tr>\n",
       "      <th>0</th>\n",
       "      <td>0xacd03d601e5bb1b275bb94076ff46ed9d753435a</td>\n",
       "      <td>1999</td>\n",
       "      <td>0xacd03d601e5bb1b275bb94076ff46ed9d753435a</td>\n",
       "      <td>binance hot wallet</td>\n",
       "      <td>hot_wallet</td>\n",
       "      <td>binance</td>\n",
       "      <td>8086.0</td>\n",
       "    </tr>\n",
       "    <tr>\n",
       "      <th>1</th>\n",
       "      <td>0x80c67432656d59144ceff962e8faf8926599bcf8</td>\n",
       "      <td>1354</td>\n",
       "      <td>NaN</td>\n",
       "      <td>NaN</td>\n",
       "      <td>NaN</td>\n",
       "      <td>NaN</td>\n",
       "      <td>NaN</td>\n",
       "    </tr>\n",
       "    <tr>\n",
       "      <th>2</th>\n",
       "      <td>0x2d2cc0eb095e43204e0c087e07dbf95909650939</td>\n",
       "      <td>841</td>\n",
       "      <td>NaN</td>\n",
       "      <td>NaN</td>\n",
       "      <td>NaN</td>\n",
       "      <td>NaN</td>\n",
       "      <td>NaN</td>\n",
       "    </tr>\n",
       "    <tr>\n",
       "      <th>3</th>\n",
       "      <td>0xf89d7b9c864f589bbf53a82105107622b35eaa40</td>\n",
       "      <td>516</td>\n",
       "      <td>NaN</td>\n",
       "      <td>NaN</td>\n",
       "      <td>NaN</td>\n",
       "      <td>NaN</td>\n",
       "      <td>NaN</td>\n",
       "    </tr>\n",
       "    <tr>\n",
       "      <th>4</th>\n",
       "      <td>0xe4edb277e41dc89ab076a1f049f4a3efa700bce8</td>\n",
       "      <td>358</td>\n",
       "      <td>NaN</td>\n",
       "      <td>NaN</td>\n",
       "      <td>NaN</td>\n",
       "      <td>NaN</td>\n",
       "      <td>NaN</td>\n",
       "    </tr>\n",
       "    <tr>\n",
       "      <th>5</th>\n",
       "      <td>0x9ef21be1c270aa1c3c3d750f458442397fbffcb6</td>\n",
       "      <td>147</td>\n",
       "      <td>0x9ef21be1c270aa1c3c3d750f458442397fbffcb6</td>\n",
       "      <td>binance</td>\n",
       "      <td>hot_wallet</td>\n",
       "      <td>binance</td>\n",
       "      <td>7365.0</td>\n",
       "    </tr>\n",
       "    <tr>\n",
       "      <th>6</th>\n",
       "      <td>0xdf90c9b995a3b10a5b8570a47101e6c6a29eb945</td>\n",
       "      <td>124</td>\n",
       "      <td>NaN</td>\n",
       "      <td>NaN</td>\n",
       "      <td>NaN</td>\n",
       "      <td>NaN</td>\n",
       "      <td>NaN</td>\n",
       "    </tr>\n",
       "    <tr>\n",
       "      <th>7</th>\n",
       "      <td>0xebb8ea128bbdff9a1780a4902a9380022371d466</td>\n",
       "      <td>59</td>\n",
       "      <td>0xebb8ea128bbdff9a1780a4902a9380022371d466</td>\n",
       "      <td>kucoin hot wallet</td>\n",
       "      <td>hot_wallet</td>\n",
       "      <td>kucoin</td>\n",
       "      <td>11509.0</td>\n",
       "    </tr>\n",
       "    <tr>\n",
       "      <th>8</th>\n",
       "      <td>0xee73323912a4e3772b74ed0ca1595a152b0ef282</td>\n",
       "      <td>49</td>\n",
       "      <td>NaN</td>\n",
       "      <td>NaN</td>\n",
       "      <td>NaN</td>\n",
       "      <td>NaN</td>\n",
       "      <td>NaN</td>\n",
       "    </tr>\n",
       "    <tr>\n",
       "      <th>9</th>\n",
       "      <td>0x2fc617e933a52713247ce25730f6695920b3befe</td>\n",
       "      <td>47</td>\n",
       "      <td>NaN</td>\n",
       "      <td>NaN</td>\n",
       "      <td>NaN</td>\n",
       "      <td>NaN</td>\n",
       "      <td>NaN</td>\n",
       "    </tr>\n",
       "    <tr>\n",
       "      <th>10</th>\n",
       "      <td>0x4a1939dc1de524ff01980a911f0f4d65ce7a27ba</td>\n",
       "      <td>25</td>\n",
       "      <td>NaN</td>\n",
       "      <td>NaN</td>\n",
       "      <td>NaN</td>\n",
       "      <td>NaN</td>\n",
       "      <td>NaN</td>\n",
       "    </tr>\n",
       "    <tr>\n",
       "      <th>11</th>\n",
       "      <td>0xeec428c18ff39c66162e39e79ed6eb8c790e43d7</td>\n",
       "      <td>20</td>\n",
       "      <td>NaN</td>\n",
       "      <td>NaN</td>\n",
       "      <td>NaN</td>\n",
       "      <td>NaN</td>\n",
       "      <td>NaN</td>\n",
       "    </tr>\n",
       "    <tr>\n",
       "      <th>12</th>\n",
       "      <td>0x8f5075a0795864253e1f11313e5f98accf512fed</td>\n",
       "      <td>18</td>\n",
       "      <td>NaN</td>\n",
       "      <td>NaN</td>\n",
       "      <td>NaN</td>\n",
       "      <td>NaN</td>\n",
       "      <td>NaN</td>\n",
       "    </tr>\n",
       "    <tr>\n",
       "      <th>13</th>\n",
       "      <td>0x9ce0dc49df0ab26690748e90a6f2c2ad9cec5fad</td>\n",
       "      <td>17</td>\n",
       "      <td>NaN</td>\n",
       "      <td>NaN</td>\n",
       "      <td>NaN</td>\n",
       "      <td>NaN</td>\n",
       "      <td>NaN</td>\n",
       "    </tr>\n",
       "    <tr>\n",
       "      <th>14</th>\n",
       "      <td>0x5bdf85216ec1e38d6458c870992a69e38e03f7ef</td>\n",
       "      <td>15</td>\n",
       "      <td>NaN</td>\n",
       "      <td>NaN</td>\n",
       "      <td>NaN</td>\n",
       "      <td>NaN</td>\n",
       "      <td>NaN</td>\n",
       "    </tr>\n",
       "    <tr>\n",
       "      <th>15</th>\n",
       "      <td>0x17f52a50227ea7aa6042eaae44c84a9a9d59d092</td>\n",
       "      <td>15</td>\n",
       "      <td>NaN</td>\n",
       "      <td>NaN</td>\n",
       "      <td>NaN</td>\n",
       "      <td>NaN</td>\n",
       "      <td>NaN</td>\n",
       "    </tr>\n",
       "    <tr>\n",
       "      <th>16</th>\n",
       "      <td>0xe11388d101bebfed134848ae5ba404a1139fbe6c</td>\n",
       "      <td>13</td>\n",
       "      <td>NaN</td>\n",
       "      <td>NaN</td>\n",
       "      <td>NaN</td>\n",
       "      <td>NaN</td>\n",
       "      <td>NaN</td>\n",
       "    </tr>\n",
       "    <tr>\n",
       "      <th>17</th>\n",
       "      <td>0x91e8225e721829a24375db2bdf0b9df82d7b3b8e</td>\n",
       "      <td>10</td>\n",
       "      <td>NaN</td>\n",
       "      <td>NaN</td>\n",
       "      <td>NaN</td>\n",
       "      <td>NaN</td>\n",
       "      <td>NaN</td>\n",
       "    </tr>\n",
       "    <tr>\n",
       "      <th>18</th>\n",
       "      <td>0x0508290be181edf3969249d526d20be956a6fcfb</td>\n",
       "      <td>10</td>\n",
       "      <td>NaN</td>\n",
       "      <td>NaN</td>\n",
       "      <td>NaN</td>\n",
       "      <td>NaN</td>\n",
       "      <td>NaN</td>\n",
       "    </tr>\n",
       "    <tr>\n",
       "      <th>19</th>\n",
       "      <td>0x94a36d8bd3470cfc447eab754decd419c6a676b6</td>\n",
       "      <td>10</td>\n",
       "      <td>NaN</td>\n",
       "      <td>NaN</td>\n",
       "      <td>NaN</td>\n",
       "      <td>NaN</td>\n",
       "      <td>NaN</td>\n",
       "    </tr>\n",
       "    <tr>\n",
       "      <th>20</th>\n",
       "      <td>0x47a916d0b694c95bc0c09953c1a6e22c8867be32</td>\n",
       "      <td>10</td>\n",
       "      <td>NaN</td>\n",
       "      <td>NaN</td>\n",
       "      <td>NaN</td>\n",
       "      <td>NaN</td>\n",
       "      <td>NaN</td>\n",
       "    </tr>\n",
       "    <tr>\n",
       "      <th>21</th>\n",
       "      <td>0x62cc4edfe738701297f06ce979de18229b69b49a</td>\n",
       "      <td>9</td>\n",
       "      <td>NaN</td>\n",
       "      <td>NaN</td>\n",
       "      <td>NaN</td>\n",
       "      <td>NaN</td>\n",
       "      <td>NaN</td>\n",
       "    </tr>\n",
       "    <tr>\n",
       "      <th>22</th>\n",
       "      <td>0x0a88bc5c32b684d467b43c06d9e0899efeaf59df</td>\n",
       "      <td>9</td>\n",
       "      <td>NaN</td>\n",
       "      <td>NaN</td>\n",
       "      <td>NaN</td>\n",
       "      <td>NaN</td>\n",
       "      <td>NaN</td>\n",
       "    </tr>\n",
       "    <tr>\n",
       "      <th>23</th>\n",
       "      <td>0xdfdc2927de08ce14c10af8417018f9586c348af5</td>\n",
       "      <td>8</td>\n",
       "      <td>NaN</td>\n",
       "      <td>NaN</td>\n",
       "      <td>NaN</td>\n",
       "      <td>NaN</td>\n",
       "      <td>NaN</td>\n",
       "    </tr>\n",
       "    <tr>\n",
       "      <th>24</th>\n",
       "      <td>0xb612884850f6f2dd04fb792e5ad4ff5b67ffeca6</td>\n",
       "      <td>8</td>\n",
       "      <td>NaN</td>\n",
       "      <td>NaN</td>\n",
       "      <td>NaN</td>\n",
       "      <td>NaN</td>\n",
       "      <td>NaN</td>\n",
       "    </tr>\n",
       "    <tr>\n",
       "      <th>25</th>\n",
       "      <td>0x9f4cb53e9a2e9aae05dce7f315c0437463326208</td>\n",
       "      <td>7</td>\n",
       "      <td>NaN</td>\n",
       "      <td>NaN</td>\n",
       "      <td>NaN</td>\n",
       "      <td>NaN</td>\n",
       "      <td>NaN</td>\n",
       "    </tr>\n",
       "    <tr>\n",
       "      <th>26</th>\n",
       "      <td>0x77ef7c18a27d3886dc1e4f6e67a7bb1e5b336d92</td>\n",
       "      <td>7</td>\n",
       "      <td>NaN</td>\n",
       "      <td>NaN</td>\n",
       "      <td>NaN</td>\n",
       "      <td>NaN</td>\n",
       "      <td>NaN</td>\n",
       "    </tr>\n",
       "    <tr>\n",
       "      <th>27</th>\n",
       "      <td>0xca9245a982387e964a8ee0048797beae5fda23ca</td>\n",
       "      <td>7</td>\n",
       "      <td>NaN</td>\n",
       "      <td>NaN</td>\n",
       "      <td>NaN</td>\n",
       "      <td>NaN</td>\n",
       "      <td>NaN</td>\n",
       "    </tr>\n",
       "    <tr>\n",
       "      <th>28</th>\n",
       "      <td>0x4e40cf7129bb09382e4e4010e0c02ae97be42782</td>\n",
       "      <td>7</td>\n",
       "      <td>NaN</td>\n",
       "      <td>NaN</td>\n",
       "      <td>NaN</td>\n",
       "      <td>NaN</td>\n",
       "      <td>NaN</td>\n",
       "    </tr>\n",
       "    <tr>\n",
       "      <th>29</th>\n",
       "      <td>0xba07c4b25a06d1b08d9d0c28ca6d9df2695a359d</td>\n",
       "      <td>7</td>\n",
       "      <td>NaN</td>\n",
       "      <td>NaN</td>\n",
       "      <td>NaN</td>\n",
       "      <td>NaN</td>\n",
       "      <td>NaN</td>\n",
       "    </tr>\n",
       "  </tbody>\n",
       "</table>\n",
       "</div>"
      ],
      "text/plain": [
       "                                  from_address  to_address   \n",
       "0   0xacd03d601e5bb1b275bb94076ff46ed9d753435a        1999  \\\n",
       "1   0x80c67432656d59144ceff962e8faf8926599bcf8        1354   \n",
       "2   0x2d2cc0eb095e43204e0c087e07dbf95909650939         841   \n",
       "3   0xf89d7b9c864f589bbf53a82105107622b35eaa40         516   \n",
       "4   0xe4edb277e41dc89ab076a1f049f4a3efa700bce8         358   \n",
       "5   0x9ef21be1c270aa1c3c3d750f458442397fbffcb6         147   \n",
       "6   0xdf90c9b995a3b10a5b8570a47101e6c6a29eb945         124   \n",
       "7   0xebb8ea128bbdff9a1780a4902a9380022371d466          59   \n",
       "8   0xee73323912a4e3772b74ed0ca1595a152b0ef282          49   \n",
       "9   0x2fc617e933a52713247ce25730f6695920b3befe          47   \n",
       "10  0x4a1939dc1de524ff01980a911f0f4d65ce7a27ba          25   \n",
       "11  0xeec428c18ff39c66162e39e79ed6eb8c790e43d7          20   \n",
       "12  0x8f5075a0795864253e1f11313e5f98accf512fed          18   \n",
       "13  0x9ce0dc49df0ab26690748e90a6f2c2ad9cec5fad          17   \n",
       "14  0x5bdf85216ec1e38d6458c870992a69e38e03f7ef          15   \n",
       "15  0x17f52a50227ea7aa6042eaae44c84a9a9d59d092          15   \n",
       "16  0xe11388d101bebfed134848ae5ba404a1139fbe6c          13   \n",
       "17  0x91e8225e721829a24375db2bdf0b9df82d7b3b8e          10   \n",
       "18  0x0508290be181edf3969249d526d20be956a6fcfb          10   \n",
       "19  0x94a36d8bd3470cfc447eab754decd419c6a676b6          10   \n",
       "20  0x47a916d0b694c95bc0c09953c1a6e22c8867be32          10   \n",
       "21  0x62cc4edfe738701297f06ce979de18229b69b49a           9   \n",
       "22  0x0a88bc5c32b684d467b43c06d9e0899efeaf59df           9   \n",
       "23  0xdfdc2927de08ce14c10af8417018f9586c348af5           8   \n",
       "24  0xb612884850f6f2dd04fb792e5ad4ff5b67ffeca6           8   \n",
       "25  0x9f4cb53e9a2e9aae05dce7f315c0437463326208           7   \n",
       "26  0x77ef7c18a27d3886dc1e4f6e67a7bb1e5b336d92           7   \n",
       "27  0xca9245a982387e964a8ee0048797beae5fda23ca           7   \n",
       "28  0x4e40cf7129bb09382e4e4010e0c02ae97be42782           7   \n",
       "29  0xba07c4b25a06d1b08d9d0c28ca6d9df2695a359d           7   \n",
       "\n",
       "                                       address        address_name   \n",
       "0   0xacd03d601e5bb1b275bb94076ff46ed9d753435a  binance hot wallet  \\\n",
       "1                                          NaN                 NaN   \n",
       "2                                          NaN                 NaN   \n",
       "3                                          NaN                 NaN   \n",
       "4                                          NaN                 NaN   \n",
       "5   0x9ef21be1c270aa1c3c3d750f458442397fbffcb6             binance   \n",
       "6                                          NaN                 NaN   \n",
       "7   0xebb8ea128bbdff9a1780a4902a9380022371d466   kucoin hot wallet   \n",
       "8                                          NaN                 NaN   \n",
       "9                                          NaN                 NaN   \n",
       "10                                         NaN                 NaN   \n",
       "11                                         NaN                 NaN   \n",
       "12                                         NaN                 NaN   \n",
       "13                                         NaN                 NaN   \n",
       "14                                         NaN                 NaN   \n",
       "15                                         NaN                 NaN   \n",
       "16                                         NaN                 NaN   \n",
       "17                                         NaN                 NaN   \n",
       "18                                         NaN                 NaN   \n",
       "19                                         NaN                 NaN   \n",
       "20                                         NaN                 NaN   \n",
       "21                                         NaN                 NaN   \n",
       "22                                         NaN                 NaN   \n",
       "23                                         NaN                 NaN   \n",
       "24                                         NaN                 NaN   \n",
       "25                                         NaN                 NaN   \n",
       "26                                         NaN                 NaN   \n",
       "27                                         NaN                 NaN   \n",
       "28                                         NaN                 NaN   \n",
       "29                                         NaN                 NaN   \n",
       "\n",
       "   label_subtype project_name  __row_index  \n",
       "0     hot_wallet      binance       8086.0  \n",
       "1            NaN          NaN          NaN  \n",
       "2            NaN          NaN          NaN  \n",
       "3            NaN          NaN          NaN  \n",
       "4            NaN          NaN          NaN  \n",
       "5     hot_wallet      binance       7365.0  \n",
       "6            NaN          NaN          NaN  \n",
       "7     hot_wallet       kucoin      11509.0  \n",
       "8            NaN          NaN          NaN  \n",
       "9            NaN          NaN          NaN  \n",
       "10           NaN          NaN          NaN  \n",
       "11           NaN          NaN          NaN  \n",
       "12           NaN          NaN          NaN  \n",
       "13           NaN          NaN          NaN  \n",
       "14           NaN          NaN          NaN  \n",
       "15           NaN          NaN          NaN  \n",
       "16           NaN          NaN          NaN  \n",
       "17           NaN          NaN          NaN  \n",
       "18           NaN          NaN          NaN  \n",
       "19           NaN          NaN          NaN  \n",
       "20           NaN          NaN          NaN  \n",
       "21           NaN          NaN          NaN  \n",
       "22           NaN          NaN          NaN  \n",
       "23           NaN          NaN          NaN  \n",
       "24           NaN          NaN          NaN  \n",
       "25           NaN          NaN          NaN  \n",
       "26           NaN          NaN          NaN  \n",
       "27           NaN          NaN          NaN  \n",
       "28           NaN          NaN          NaN  \n",
       "29           NaN          NaN          NaN  "
      ]
     },
     "execution_count": 524,
     "metadata": {},
     "output_type": "execute_result"
    }
   ],
   "source": [
    "merge_label_seed.head(30)"
   ]
  },
  {
   "cell_type": "code",
   "execution_count": 506,
   "metadata": {},
   "outputs": [
    {
     "data": {
      "text/plain": [
       "740"
      ]
     },
     "execution_count": 506,
     "metadata": {},
     "output_type": "execute_result"
    }
   ],
   "source": [
    "merge_label_seed[merge_label_seed.to_address > 2].iloc[10:].to_address.sum()"
   ]
  },
  {
   "cell_type": "code",
   "execution_count": 525,
   "metadata": {},
   "outputs": [],
   "source": [
    "sql_template = \"\"\"\n",
    "WITH\n",
    "  transactions AS (\n",
    "    SELECT\n",
    "      BLOCK_TIMESTAMP,\n",
    "      TX_FEE,\n",
    "      FROM_ADDRESS AS EOA\n",
    "      1 as BOOLEAN_OUT\n",
    "    FROM\n",
    "      optimism.core.fact_transactions\n",
    "    WHERE\n",
    "      FROM_ADDRESS IN (%s)\n",
    "    UNION ALL\n",
    "    SELECT\n",
    "      BLOCK_TIMESTAMP,\n",
    "      TX_FEE,\n",
    "      TO_ADDRESS AS EOA,\n",
    "      0 as BOOLEAN_OUT\n",
    "    FROM\n",
    "      optimism.core.fact_transactions\n",
    "    WHERE\n",
    "      TO_ADDRESS IN (%s)\n",
    "  )\n",
    "SELECT\n",
    "  EOA,\n",
    "  COUNT(*) as n_tx,\n",
    "  SUM(BOOLEAN_OUT) as n_tx_out,\n",
    "  n_tx - n_tx_out as n_tx_in,\n",
    "  n_tx_out - n_tx_in as n_tx_diff_out_in,\n",
    "  TIMESTAMPDIFF(MINUTE, MIN(BLOCK_TIMESTAMP), CURRENT_TIMESTAMP()) as age,\n",
    "  TIMESTAMPDIFF(MINUTE, MIN(BLOCK_TIMESTAMP), MAX(BLOCK_TIMESTAMP)) as time_alive,\n",
    "  n_tx / age as tx_min,\n",
    "  n_tx / time_alive as tx_min_alive,\n",
    "  AVG(TX_FEE) as avg_tx_fee,\n",
    "  STDDEV(TX_FEE) as std_tx_fee\n",
    "FROM\n",
    "  transactions\n",
    "GROUP BY\n",
    "  EOA;\n",
    "\"\"\""
   ]
  },
  {
   "cell_type": "code",
   "execution_count": 526,
   "metadata": {},
   "outputs": [],
   "source": [
    "array_address_to_test = merge_label_seed.from_address.values[0:100]"
   ]
  },
  {
   "cell_type": "code",
   "execution_count": 527,
   "metadata": {},
   "outputs": [],
   "source": [
    "list_df = []"
   ]
  },
  {
   "cell_type": "code",
   "execution_count": 528,
   "metadata": {},
   "outputs": [
    {
     "name": "stdout",
     "output_type": "stream",
     "text": [
      "Extracting transactions for address: 0 - 50\n",
      "Extracting transactions for address: 50 - 100\n"
     ]
    }
   ],
   "source": [
    "api_key2 = os.environ['FLIPSIDE_API_KEY2']\n",
    "flipside_api2 = FlipsideApi(api_key2, page_size=50000, max_address=50)\n",
    "\n",
    "\n",
    "q, r = divmod(len(array_address_to_test), flipside_api2.MAX_ADDRESS)\n",
    "if r != 0:\n",
    "    q += 1\n",
    "for i in range(q):\n",
    "    start_index = i * flipside_api2.MAX_ADDRESS\n",
    "    end_index = (i + 1) * flipside_api2.MAX_ADDRESS\n",
    "    print(\n",
    "        f\"Extracting transactions for address: {start_index} - {end_index}\")\n",
    "    array_address_slice = array_address_to_test[start_index:end_index]\n",
    "    str_address_slice = flipside_api2.get_string_address(array_address_slice)\n",
    "    sql = sql_template % (str_address_slice, str_address_slice)\n",
    "    df = flipside_api2.execute_query(sql=sql)\n",
    "    list_df.append(df)\n",
    "details_address = pd.concat(list_df)\n"
   ]
  },
  {
   "cell_type": "code",
   "execution_count": 536,
   "metadata": {},
   "outputs": [],
   "source": [
    "path_odc_data = os.path.join(current_dir.parent.parent.parent, 'data')\n",
    "labels_odc = pd.read_csv(os.path.join(path_odc_data, 'address_labels_citizen.csv'))"
   ]
  },
  {
   "cell_type": "code",
   "execution_count": 548,
   "metadata": {},
   "outputs": [
    {
     "data": {
      "text/plain": [
       "Index(['from_address', 'to_address', 'address', 'address_name',\n",
       "       'label_subtype', 'project_name', '__row_index'],\n",
       "      dtype='object')"
      ]
     },
     "execution_count": 548,
     "metadata": {},
     "output_type": "execute_result"
    }
   ],
   "source": [
    "merge_label_seed.columns"
   ]
  },
  {
   "cell_type": "code",
   "execution_count": 553,
   "metadata": {},
   "outputs": [],
   "source": [
    "details_address_labels = details_address.merge(labels_odc[['address', 'tag', 'sub_type']], left_on='eoa', right_on='address', how='left').drop(columns=['__row_index', 'address']).sort_values('n_tx', ascending=False)\n",
    "details_address_labels_seed = details_address_labels.merge(merge_label_seed[['from_address', 'to_address', 'project_name']], left_on='eoa', right_on='from_address', how='left').drop(('from_address'), axis=1)"
   ]
  },
  {
   "cell_type": "code",
   "execution_count": 569,
   "metadata": {},
   "outputs": [
    {
     "data": {
      "text/html": [
       "<div>\n",
       "<style scoped>\n",
       "    .dataframe tbody tr th:only-of-type {\n",
       "        vertical-align: middle;\n",
       "    }\n",
       "\n",
       "    .dataframe tbody tr th {\n",
       "        vertical-align: top;\n",
       "    }\n",
       "\n",
       "    .dataframe thead th {\n",
       "        text-align: right;\n",
       "    }\n",
       "</style>\n",
       "<table border=\"1\" class=\"dataframe\">\n",
       "  <thead>\n",
       "    <tr style=\"text-align: right;\">\n",
       "      <th></th>\n",
       "      <th>eoa</th>\n",
       "      <th>n_tx</th>\n",
       "      <th>age</th>\n",
       "      <th>time_alive</th>\n",
       "      <th>tx_min</th>\n",
       "      <th>tx_min_alive</th>\n",
       "      <th>avg_tx_fee</th>\n",
       "      <th>std_tx_fee</th>\n",
       "      <th>tag</th>\n",
       "      <th>sub_type</th>\n",
       "      <th>to_address</th>\n",
       "      <th>project_name</th>\n",
       "    </tr>\n",
       "  </thead>\n",
       "  <tbody>\n",
       "    <tr>\n",
       "      <th>99</th>\n",
       "      <td>0x0da9c987db9af6c16efcb4f1c4eebbda5f8fa6e8</td>\n",
       "      <td>4</td>\n",
       "      <td>23335</td>\n",
       "      <td>5</td>\n",
       "      <td>0.000171</td>\n",
       "      <td>0.800000</td>\n",
       "      <td>0.000055</td>\n",
       "      <td>0.000060</td>\n",
       "      <td>NaN</td>\n",
       "      <td>NaN</td>\n",
       "      <td>4</td>\n",
       "      <td>NaN</td>\n",
       "    </tr>\n",
       "    <tr>\n",
       "      <th>98</th>\n",
       "      <td>0xcc57767e0c085e865ba0598ad2731741a018e562</td>\n",
       "      <td>8</td>\n",
       "      <td>24647</td>\n",
       "      <td>10468</td>\n",
       "      <td>0.000325</td>\n",
       "      <td>0.000764</td>\n",
       "      <td>0.000060</td>\n",
       "      <td>0.000049</td>\n",
       "      <td>NaN</td>\n",
       "      <td>NaN</td>\n",
       "      <td>3</td>\n",
       "      <td>NaN</td>\n",
       "    </tr>\n",
       "    <tr>\n",
       "      <th>97</th>\n",
       "      <td>0x8d2d57e1783944cb11956075819c7a83e71904f3</td>\n",
       "      <td>8</td>\n",
       "      <td>24802</td>\n",
       "      <td>10610</td>\n",
       "      <td>0.000323</td>\n",
       "      <td>0.000754</td>\n",
       "      <td>0.000058</td>\n",
       "      <td>0.000056</td>\n",
       "      <td>NaN</td>\n",
       "      <td>NaN</td>\n",
       "      <td>3</td>\n",
       "      <td>NaN</td>\n",
       "    </tr>\n",
       "    <tr>\n",
       "      <th>96</th>\n",
       "      <td>0xc246500af2488860363b089fcb4f314e1130709c</td>\n",
       "      <td>10</td>\n",
       "      <td>185363</td>\n",
       "      <td>45863</td>\n",
       "      <td>0.000054</td>\n",
       "      <td>0.000218</td>\n",
       "      <td>0.000112</td>\n",
       "      <td>0.000048</td>\n",
       "      <td>NaN</td>\n",
       "      <td>NaN</td>\n",
       "      <td>6</td>\n",
       "      <td>NaN</td>\n",
       "    </tr>\n",
       "    <tr>\n",
       "      <th>95</th>\n",
       "      <td>0x94a36d8bd3470cfc447eab754decd419c6a676b6</td>\n",
       "      <td>12</td>\n",
       "      <td>325506</td>\n",
       "      <td>496</td>\n",
       "      <td>0.000037</td>\n",
       "      <td>0.024194</td>\n",
       "      <td>0.000052</td>\n",
       "      <td>0.000023</td>\n",
       "      <td>seeder</td>\n",
       "      <td>intermediar</td>\n",
       "      <td>10</td>\n",
       "      <td>NaN</td>\n",
       "    </tr>\n",
       "    <tr>\n",
       "      <th>94</th>\n",
       "      <td>0xac7326fcec955bddd1cbf4507e568b55c79c12cb</td>\n",
       "      <td>16</td>\n",
       "      <td>723325</td>\n",
       "      <td>710645</td>\n",
       "      <td>0.000022</td>\n",
       "      <td>0.000023</td>\n",
       "      <td>0.000210</td>\n",
       "      <td>0.000189</td>\n",
       "      <td>NaN</td>\n",
       "      <td>NaN</td>\n",
       "      <td>6</td>\n",
       "      <td>NaN</td>\n",
       "    </tr>\n",
       "    <tr>\n",
       "      <th>93</th>\n",
       "      <td>0x4e40cf7129bb09382e4e4010e0c02ae97be42782</td>\n",
       "      <td>33</td>\n",
       "      <td>13052</td>\n",
       "      <td>1335</td>\n",
       "      <td>0.002528</td>\n",
       "      <td>0.024719</td>\n",
       "      <td>0.000059</td>\n",
       "      <td>0.000032</td>\n",
       "      <td>sybil</td>\n",
       "      <td>NaN</td>\n",
       "      <td>7</td>\n",
       "      <td>NaN</td>\n",
       "    </tr>\n",
       "    <tr>\n",
       "      <th>92</th>\n",
       "      <td>0x289cece03ec226fd996fd84dd544667bf2b1d156</td>\n",
       "      <td>36</td>\n",
       "      <td>153908</td>\n",
       "      <td>150506</td>\n",
       "      <td>0.000234</td>\n",
       "      <td>0.000239</td>\n",
       "      <td>0.000157</td>\n",
       "      <td>0.000112</td>\n",
       "      <td>NaN</td>\n",
       "      <td>NaN</td>\n",
       "      <td>6</td>\n",
       "      <td>NaN</td>\n",
       "    </tr>\n",
       "    <tr>\n",
       "      <th>91</th>\n",
       "      <td>0x651068f54d5ddc07b0a1cb07c2703d97c4249815</td>\n",
       "      <td>37</td>\n",
       "      <td>77907</td>\n",
       "      <td>62435</td>\n",
       "      <td>0.000475</td>\n",
       "      <td>0.000593</td>\n",
       "      <td>0.000158</td>\n",
       "      <td>0.000113</td>\n",
       "      <td>NaN</td>\n",
       "      <td>NaN</td>\n",
       "      <td>3</td>\n",
       "      <td>NaN</td>\n",
       "    </tr>\n",
       "    <tr>\n",
       "      <th>90</th>\n",
       "      <td>0x91e8225e721829a24375db2bdf0b9df82d7b3b8e</td>\n",
       "      <td>40</td>\n",
       "      <td>146793</td>\n",
       "      <td>85130</td>\n",
       "      <td>0.000272</td>\n",
       "      <td>0.000470</td>\n",
       "      <td>0.000154</td>\n",
       "      <td>0.000042</td>\n",
       "      <td>seeder</td>\n",
       "      <td>?</td>\n",
       "      <td>10</td>\n",
       "      <td>NaN</td>\n",
       "    </tr>\n",
       "    <tr>\n",
       "      <th>89</th>\n",
       "      <td>0xba07c4b25a06d1b08d9d0c28ca6d9df2695a359d</td>\n",
       "      <td>51</td>\n",
       "      <td>175579</td>\n",
       "      <td>161322</td>\n",
       "      <td>0.000290</td>\n",
       "      <td>0.000316</td>\n",
       "      <td>0.000139</td>\n",
       "      <td>0.000101</td>\n",
       "      <td>airdrop_master</td>\n",
       "      <td>NaN</td>\n",
       "      <td>7</td>\n",
       "      <td>NaN</td>\n",
       "    </tr>\n",
       "    <tr>\n",
       "      <th>88</th>\n",
       "      <td>0x0508290be181edf3969249d526d20be956a6fcfb</td>\n",
       "      <td>56</td>\n",
       "      <td>361449</td>\n",
       "      <td>272059</td>\n",
       "      <td>0.000155</td>\n",
       "      <td>0.000206</td>\n",
       "      <td>0.000131</td>\n",
       "      <td>0.000118</td>\n",
       "      <td>seeder</td>\n",
       "      <td>intermediar</td>\n",
       "      <td>10</td>\n",
       "      <td>NaN</td>\n",
       "    </tr>\n",
       "    <tr>\n",
       "      <th>87</th>\n",
       "      <td>0xd1c2c0b70afb8f3c207642e7c9ee3c36375a72b1</td>\n",
       "      <td>68</td>\n",
       "      <td>332931</td>\n",
       "      <td>332228</td>\n",
       "      <td>0.000204</td>\n",
       "      <td>0.000205</td>\n",
       "      <td>0.000224</td>\n",
       "      <td>0.000259</td>\n",
       "      <td>NaN</td>\n",
       "      <td>NaN</td>\n",
       "      <td>4</td>\n",
       "      <td>NaN</td>\n",
       "    </tr>\n",
       "    <tr>\n",
       "      <th>86</th>\n",
       "      <td>0xe11388d101bebfed134848ae5ba404a1139fbe6c</td>\n",
       "      <td>70</td>\n",
       "      <td>577051</td>\n",
       "      <td>566653</td>\n",
       "      <td>0.000121</td>\n",
       "      <td>0.000124</td>\n",
       "      <td>0.000287</td>\n",
       "      <td>0.000241</td>\n",
       "      <td>NaN</td>\n",
       "      <td>NaN</td>\n",
       "      <td>13</td>\n",
       "      <td>NaN</td>\n",
       "    </tr>\n",
       "    <tr>\n",
       "      <th>85</th>\n",
       "      <td>0x3723a3c595cbb47ead3fb744b4eb90c2fa3371e9</td>\n",
       "      <td>73</td>\n",
       "      <td>175581</td>\n",
       "      <td>161324</td>\n",
       "      <td>0.000416</td>\n",
       "      <td>0.000453</td>\n",
       "      <td>0.000127</td>\n",
       "      <td>0.000102</td>\n",
       "      <td>NaN</td>\n",
       "      <td>NaN</td>\n",
       "      <td>6</td>\n",
       "      <td>NaN</td>\n",
       "    </tr>\n",
       "    <tr>\n",
       "      <th>84</th>\n",
       "      <td>0xad82d8b54d202be0c07d286d38040a49cf07b673</td>\n",
       "      <td>88</td>\n",
       "      <td>265004</td>\n",
       "      <td>233121</td>\n",
       "      <td>0.000332</td>\n",
       "      <td>0.000377</td>\n",
       "      <td>0.000084</td>\n",
       "      <td>0.000055</td>\n",
       "      <td>NaN</td>\n",
       "      <td>NaN</td>\n",
       "      <td>5</td>\n",
       "      <td>NaN</td>\n",
       "    </tr>\n",
       "    <tr>\n",
       "      <th>83</th>\n",
       "      <td>0x47a916d0b694c95bc0c09953c1a6e22c8867be32</td>\n",
       "      <td>89</td>\n",
       "      <td>269238</td>\n",
       "      <td>137322</td>\n",
       "      <td>0.000331</td>\n",
       "      <td>0.000648</td>\n",
       "      <td>0.000066</td>\n",
       "      <td>0.000016</td>\n",
       "      <td>seeder</td>\n",
       "      <td>intermediar</td>\n",
       "      <td>10</td>\n",
       "      <td>NaN</td>\n",
       "    </tr>\n",
       "    <tr>\n",
       "      <th>82</th>\n",
       "      <td>0xed0b249da6bd10a3489b9e972fa6a2f1634dc72b</td>\n",
       "      <td>94</td>\n",
       "      <td>316841</td>\n",
       "      <td>309361</td>\n",
       "      <td>0.000297</td>\n",
       "      <td>0.000304</td>\n",
       "      <td>0.000183</td>\n",
       "      <td>0.000176</td>\n",
       "      <td>NaN</td>\n",
       "      <td>NaN</td>\n",
       "      <td>4</td>\n",
       "      <td>NaN</td>\n",
       "    </tr>\n",
       "    <tr>\n",
       "      <th>81</th>\n",
       "      <td>0x13831813d35d9157462042ae716eb454d25b345a</td>\n",
       "      <td>115</td>\n",
       "      <td>295962</td>\n",
       "      <td>281583</td>\n",
       "      <td>0.000389</td>\n",
       "      <td>0.000408</td>\n",
       "      <td>0.000107</td>\n",
       "      <td>0.000086</td>\n",
       "      <td>NaN</td>\n",
       "      <td>NaN</td>\n",
       "      <td>3</td>\n",
       "      <td>NaN</td>\n",
       "    </tr>\n",
       "    <tr>\n",
       "      <th>80</th>\n",
       "      <td>0x4020367bdc53b43ca41b7d62b8b4b5f374950446</td>\n",
       "      <td>116</td>\n",
       "      <td>306874</td>\n",
       "      <td>292732</td>\n",
       "      <td>0.000378</td>\n",
       "      <td>0.000396</td>\n",
       "      <td>0.000116</td>\n",
       "      <td>0.000120</td>\n",
       "      <td>NaN</td>\n",
       "      <td>NaN</td>\n",
       "      <td>4</td>\n",
       "      <td>NaN</td>\n",
       "    </tr>\n",
       "    <tr>\n",
       "      <th>79</th>\n",
       "      <td>0xc76d3d2eba6a9636194a06eae9e1d95c825209aa</td>\n",
       "      <td>118</td>\n",
       "      <td>334362</td>\n",
       "      <td>334172</td>\n",
       "      <td>0.000353</td>\n",
       "      <td>0.000353</td>\n",
       "      <td>0.000109</td>\n",
       "      <td>0.000140</td>\n",
       "      <td>NaN</td>\n",
       "      <td>NaN</td>\n",
       "      <td>4</td>\n",
       "      <td>NaN</td>\n",
       "    </tr>\n",
       "    <tr>\n",
       "      <th>78</th>\n",
       "      <td>0x679a85900270a2733f2c2795fdf72e8235ecf3d4</td>\n",
       "      <td>122</td>\n",
       "      <td>297667</td>\n",
       "      <td>283272</td>\n",
       "      <td>0.000410</td>\n",
       "      <td>0.000431</td>\n",
       "      <td>0.000106</td>\n",
       "      <td>0.000067</td>\n",
       "      <td>NaN</td>\n",
       "      <td>NaN</td>\n",
       "      <td>3</td>\n",
       "      <td>NaN</td>\n",
       "    </tr>\n",
       "    <tr>\n",
       "      <th>77</th>\n",
       "      <td>0xfa3c126c8e854865264f0e710792ec1eedad57cf</td>\n",
       "      <td>128</td>\n",
       "      <td>436105</td>\n",
       "      <td>420074</td>\n",
       "      <td>0.000294</td>\n",
       "      <td>0.000305</td>\n",
       "      <td>0.000099</td>\n",
       "      <td>0.000089</td>\n",
       "      <td>NaN</td>\n",
       "      <td>NaN</td>\n",
       "      <td>3</td>\n",
       "      <td>NaN</td>\n",
       "    </tr>\n",
       "    <tr>\n",
       "      <th>76</th>\n",
       "      <td>0xef9c13ea6b615fa61cbdec56c7b4978b9dd8bb46</td>\n",
       "      <td>128</td>\n",
       "      <td>271963</td>\n",
       "      <td>268114</td>\n",
       "      <td>0.000471</td>\n",
       "      <td>0.000477</td>\n",
       "      <td>0.000112</td>\n",
       "      <td>0.000064</td>\n",
       "      <td>NaN</td>\n",
       "      <td>NaN</td>\n",
       "      <td>4</td>\n",
       "      <td>NaN</td>\n",
       "    </tr>\n",
       "    <tr>\n",
       "      <th>74</th>\n",
       "      <td>0xd53a37df1473cab9715131a6c8a9091775eb0e78</td>\n",
       "      <td>131</td>\n",
       "      <td>316829</td>\n",
       "      <td>301526</td>\n",
       "      <td>0.000413</td>\n",
       "      <td>0.000434</td>\n",
       "      <td>0.000087</td>\n",
       "      <td>0.000064</td>\n",
       "      <td>NaN</td>\n",
       "      <td>NaN</td>\n",
       "      <td>3</td>\n",
       "      <td>NaN</td>\n",
       "    </tr>\n",
       "    <tr>\n",
       "      <th>75</th>\n",
       "      <td>0x9727d0baad3b7c0161aca7866915bca6a5c9546b</td>\n",
       "      <td>131</td>\n",
       "      <td>587368</td>\n",
       "      <td>586459</td>\n",
       "      <td>0.000223</td>\n",
       "      <td>0.000223</td>\n",
       "      <td>0.000122</td>\n",
       "      <td>0.000072</td>\n",
       "      <td>NaN</td>\n",
       "      <td>NaN</td>\n",
       "      <td>4</td>\n",
       "      <td>NaN</td>\n",
       "    </tr>\n",
       "    <tr>\n",
       "      <th>73</th>\n",
       "      <td>0x5976a68d20b6ae9a6fae2b12babd0ff5b43fa6b4</td>\n",
       "      <td>132</td>\n",
       "      <td>576902</td>\n",
       "      <td>564720</td>\n",
       "      <td>0.000229</td>\n",
       "      <td>0.000234</td>\n",
       "      <td>0.000184</td>\n",
       "      <td>0.000268</td>\n",
       "      <td>NaN</td>\n",
       "      <td>NaN</td>\n",
       "      <td>4</td>\n",
       "      <td>NaN</td>\n",
       "    </tr>\n",
       "    <tr>\n",
       "      <th>72</th>\n",
       "      <td>0x3993accbcc37425bbb00fda35e21eb194739f721</td>\n",
       "      <td>136</td>\n",
       "      <td>821956</td>\n",
       "      <td>821053</td>\n",
       "      <td>0.000165</td>\n",
       "      <td>0.000166</td>\n",
       "      <td>0.000122</td>\n",
       "      <td>0.000120</td>\n",
       "      <td>NaN</td>\n",
       "      <td>NaN</td>\n",
       "      <td>3</td>\n",
       "      <td>NaN</td>\n",
       "    </tr>\n",
       "    <tr>\n",
       "      <th>71</th>\n",
       "      <td>0x8f5075a0795864253e1f11313e5f98accf512fed</td>\n",
       "      <td>149</td>\n",
       "      <td>478560</td>\n",
       "      <td>477250</td>\n",
       "      <td>0.000311</td>\n",
       "      <td>0.000312</td>\n",
       "      <td>0.000080</td>\n",
       "      <td>0.000096</td>\n",
       "      <td>airdrop_master</td>\n",
       "      <td>NaN</td>\n",
       "      <td>18</td>\n",
       "      <td>NaN</td>\n",
       "    </tr>\n",
       "    <tr>\n",
       "      <th>70</th>\n",
       "      <td>0xd7e7fe08b28c372e0ee77aad0c3d6bffcac1ad1e</td>\n",
       "      <td>151</td>\n",
       "      <td>436092</td>\n",
       "      <td>419136</td>\n",
       "      <td>0.000346</td>\n",
       "      <td>0.000360</td>\n",
       "      <td>0.000113</td>\n",
       "      <td>0.000143</td>\n",
       "      <td>NaN</td>\n",
       "      <td>NaN</td>\n",
       "      <td>3</td>\n",
       "      <td>NaN</td>\n",
       "    </tr>\n",
       "    <tr>\n",
       "      <th>69</th>\n",
       "      <td>0x12cc2273ae9929fde04a8960cb64aa72ef43c078</td>\n",
       "      <td>154</td>\n",
       "      <td>314033</td>\n",
       "      <td>299874</td>\n",
       "      <td>0.000490</td>\n",
       "      <td>0.000514</td>\n",
       "      <td>0.000094</td>\n",
       "      <td>0.000079</td>\n",
       "      <td>NaN</td>\n",
       "      <td>NaN</td>\n",
       "      <td>4</td>\n",
       "      <td>NaN</td>\n",
       "    </tr>\n",
       "    <tr>\n",
       "      <th>68</th>\n",
       "      <td>0xca1aca4c87856613fc73ea705f13b70c11a3619f</td>\n",
       "      <td>158</td>\n",
       "      <td>463891</td>\n",
       "      <td>463702</td>\n",
       "      <td>0.000341</td>\n",
       "      <td>0.000341</td>\n",
       "      <td>0.000083</td>\n",
       "      <td>0.000110</td>\n",
       "      <td>NaN</td>\n",
       "      <td>NaN</td>\n",
       "      <td>5</td>\n",
       "      <td>NaN</td>\n",
       "    </tr>\n",
       "    <tr>\n",
       "      <th>67</th>\n",
       "      <td>0xacb47be13e50124c7ec22405b608d0e895ab6f3c</td>\n",
       "      <td>159</td>\n",
       "      <td>336479</td>\n",
       "      <td>333419</td>\n",
       "      <td>0.000473</td>\n",
       "      <td>0.000477</td>\n",
       "      <td>0.000146</td>\n",
       "      <td>0.000116</td>\n",
       "      <td>NaN</td>\n",
       "      <td>NaN</td>\n",
       "      <td>6</td>\n",
       "      <td>NaN</td>\n",
       "    </tr>\n",
       "    <tr>\n",
       "      <th>66</th>\n",
       "      <td>0xf7cccec25b88bfa08cb81a8473ca190b55f63a11</td>\n",
       "      <td>161</td>\n",
       "      <td>485522</td>\n",
       "      <td>471471</td>\n",
       "      <td>0.000332</td>\n",
       "      <td>0.000341</td>\n",
       "      <td>0.000129</td>\n",
       "      <td>0.000159</td>\n",
       "      <td>NaN</td>\n",
       "      <td>NaN</td>\n",
       "      <td>4</td>\n",
       "      <td>NaN</td>\n",
       "    </tr>\n",
       "    <tr>\n",
       "      <th>65</th>\n",
       "      <td>0x99095b01f51c73b143b487669488e220fc16ea44</td>\n",
       "      <td>167</td>\n",
       "      <td>156729</td>\n",
       "      <td>153814</td>\n",
       "      <td>0.001066</td>\n",
       "      <td>0.001086</td>\n",
       "      <td>0.000158</td>\n",
       "      <td>0.000136</td>\n",
       "      <td>NaN</td>\n",
       "      <td>NaN</td>\n",
       "      <td>6</td>\n",
       "      <td>NaN</td>\n",
       "    </tr>\n",
       "    <tr>\n",
       "      <th>64</th>\n",
       "      <td>0x81e2d092418767e0cf69e03bbacfd50bd82024aa</td>\n",
       "      <td>169</td>\n",
       "      <td>395942</td>\n",
       "      <td>381838</td>\n",
       "      <td>0.000427</td>\n",
       "      <td>0.000443</td>\n",
       "      <td>0.000100</td>\n",
       "      <td>0.000129</td>\n",
       "      <td>NaN</td>\n",
       "      <td>NaN</td>\n",
       "      <td>6</td>\n",
       "      <td>NaN</td>\n",
       "    </tr>\n",
       "    <tr>\n",
       "      <th>63</th>\n",
       "      <td>0x4a1939dc1de524ff01980a911f0f4d65ce7a27ba</td>\n",
       "      <td>172</td>\n",
       "      <td>214040</td>\n",
       "      <td>213527</td>\n",
       "      <td>0.000804</td>\n",
       "      <td>0.000806</td>\n",
       "      <td>0.000131</td>\n",
       "      <td>0.000126</td>\n",
       "      <td>airdrop_master</td>\n",
       "      <td>NaN</td>\n",
       "      <td>25</td>\n",
       "      <td>NaN</td>\n",
       "    </tr>\n",
       "    <tr>\n",
       "      <th>62</th>\n",
       "      <td>0x20916c23321d0552bbca2bcea01db5474532c62d</td>\n",
       "      <td>174</td>\n",
       "      <td>463886</td>\n",
       "      <td>463415</td>\n",
       "      <td>0.000375</td>\n",
       "      <td>0.000375</td>\n",
       "      <td>0.000103</td>\n",
       "      <td>0.000115</td>\n",
       "      <td>NaN</td>\n",
       "      <td>NaN</td>\n",
       "      <td>5</td>\n",
       "      <td>NaN</td>\n",
       "    </tr>\n",
       "    <tr>\n",
       "      <th>61</th>\n",
       "      <td>0x6902440e4e62ef77b12afd93ea539819e02ab0c2</td>\n",
       "      <td>176</td>\n",
       "      <td>463467</td>\n",
       "      <td>423258</td>\n",
       "      <td>0.000380</td>\n",
       "      <td>0.000416</td>\n",
       "      <td>0.000104</td>\n",
       "      <td>0.000184</td>\n",
       "      <td>NaN</td>\n",
       "      <td>NaN</td>\n",
       "      <td>4</td>\n",
       "      <td>NaN</td>\n",
       "    </tr>\n",
       "    <tr>\n",
       "      <th>60</th>\n",
       "      <td>0xb897e36c0ac31f56ad9da4c872e1358fca7f6e27</td>\n",
       "      <td>186</td>\n",
       "      <td>405093</td>\n",
       "      <td>390994</td>\n",
       "      <td>0.000459</td>\n",
       "      <td>0.000476</td>\n",
       "      <td>0.000101</td>\n",
       "      <td>0.000141</td>\n",
       "      <td>NaN</td>\n",
       "      <td>NaN</td>\n",
       "      <td>5</td>\n",
       "      <td>NaN</td>\n",
       "    </tr>\n",
       "  </tbody>\n",
       "</table>\n",
       "</div>"
      ],
      "text/plain": [
       "                                           eoa  n_tx     age  time_alive   \n",
       "99  0x0da9c987db9af6c16efcb4f1c4eebbda5f8fa6e8     4   23335           5  \\\n",
       "98  0xcc57767e0c085e865ba0598ad2731741a018e562     8   24647       10468   \n",
       "97  0x8d2d57e1783944cb11956075819c7a83e71904f3     8   24802       10610   \n",
       "96  0xc246500af2488860363b089fcb4f314e1130709c    10  185363       45863   \n",
       "95  0x94a36d8bd3470cfc447eab754decd419c6a676b6    12  325506         496   \n",
       "94  0xac7326fcec955bddd1cbf4507e568b55c79c12cb    16  723325      710645   \n",
       "93  0x4e40cf7129bb09382e4e4010e0c02ae97be42782    33   13052        1335   \n",
       "92  0x289cece03ec226fd996fd84dd544667bf2b1d156    36  153908      150506   \n",
       "91  0x651068f54d5ddc07b0a1cb07c2703d97c4249815    37   77907       62435   \n",
       "90  0x91e8225e721829a24375db2bdf0b9df82d7b3b8e    40  146793       85130   \n",
       "89  0xba07c4b25a06d1b08d9d0c28ca6d9df2695a359d    51  175579      161322   \n",
       "88  0x0508290be181edf3969249d526d20be956a6fcfb    56  361449      272059   \n",
       "87  0xd1c2c0b70afb8f3c207642e7c9ee3c36375a72b1    68  332931      332228   \n",
       "86  0xe11388d101bebfed134848ae5ba404a1139fbe6c    70  577051      566653   \n",
       "85  0x3723a3c595cbb47ead3fb744b4eb90c2fa3371e9    73  175581      161324   \n",
       "84  0xad82d8b54d202be0c07d286d38040a49cf07b673    88  265004      233121   \n",
       "83  0x47a916d0b694c95bc0c09953c1a6e22c8867be32    89  269238      137322   \n",
       "82  0xed0b249da6bd10a3489b9e972fa6a2f1634dc72b    94  316841      309361   \n",
       "81  0x13831813d35d9157462042ae716eb454d25b345a   115  295962      281583   \n",
       "80  0x4020367bdc53b43ca41b7d62b8b4b5f374950446   116  306874      292732   \n",
       "79  0xc76d3d2eba6a9636194a06eae9e1d95c825209aa   118  334362      334172   \n",
       "78  0x679a85900270a2733f2c2795fdf72e8235ecf3d4   122  297667      283272   \n",
       "77  0xfa3c126c8e854865264f0e710792ec1eedad57cf   128  436105      420074   \n",
       "76  0xef9c13ea6b615fa61cbdec56c7b4978b9dd8bb46   128  271963      268114   \n",
       "74  0xd53a37df1473cab9715131a6c8a9091775eb0e78   131  316829      301526   \n",
       "75  0x9727d0baad3b7c0161aca7866915bca6a5c9546b   131  587368      586459   \n",
       "73  0x5976a68d20b6ae9a6fae2b12babd0ff5b43fa6b4   132  576902      564720   \n",
       "72  0x3993accbcc37425bbb00fda35e21eb194739f721   136  821956      821053   \n",
       "71  0x8f5075a0795864253e1f11313e5f98accf512fed   149  478560      477250   \n",
       "70  0xd7e7fe08b28c372e0ee77aad0c3d6bffcac1ad1e   151  436092      419136   \n",
       "69  0x12cc2273ae9929fde04a8960cb64aa72ef43c078   154  314033      299874   \n",
       "68  0xca1aca4c87856613fc73ea705f13b70c11a3619f   158  463891      463702   \n",
       "67  0xacb47be13e50124c7ec22405b608d0e895ab6f3c   159  336479      333419   \n",
       "66  0xf7cccec25b88bfa08cb81a8473ca190b55f63a11   161  485522      471471   \n",
       "65  0x99095b01f51c73b143b487669488e220fc16ea44   167  156729      153814   \n",
       "64  0x81e2d092418767e0cf69e03bbacfd50bd82024aa   169  395942      381838   \n",
       "63  0x4a1939dc1de524ff01980a911f0f4d65ce7a27ba   172  214040      213527   \n",
       "62  0x20916c23321d0552bbca2bcea01db5474532c62d   174  463886      463415   \n",
       "61  0x6902440e4e62ef77b12afd93ea539819e02ab0c2   176  463467      423258   \n",
       "60  0xb897e36c0ac31f56ad9da4c872e1358fca7f6e27   186  405093      390994   \n",
       "\n",
       "      tx_min  tx_min_alive  avg_tx_fee  std_tx_fee             tag   \n",
       "99  0.000171      0.800000    0.000055    0.000060             NaN  \\\n",
       "98  0.000325      0.000764    0.000060    0.000049             NaN   \n",
       "97  0.000323      0.000754    0.000058    0.000056             NaN   \n",
       "96  0.000054      0.000218    0.000112    0.000048             NaN   \n",
       "95  0.000037      0.024194    0.000052    0.000023          seeder   \n",
       "94  0.000022      0.000023    0.000210    0.000189             NaN   \n",
       "93  0.002528      0.024719    0.000059    0.000032           sybil   \n",
       "92  0.000234      0.000239    0.000157    0.000112             NaN   \n",
       "91  0.000475      0.000593    0.000158    0.000113             NaN   \n",
       "90  0.000272      0.000470    0.000154    0.000042          seeder   \n",
       "89  0.000290      0.000316    0.000139    0.000101  airdrop_master   \n",
       "88  0.000155      0.000206    0.000131    0.000118          seeder   \n",
       "87  0.000204      0.000205    0.000224    0.000259             NaN   \n",
       "86  0.000121      0.000124    0.000287    0.000241             NaN   \n",
       "85  0.000416      0.000453    0.000127    0.000102             NaN   \n",
       "84  0.000332      0.000377    0.000084    0.000055             NaN   \n",
       "83  0.000331      0.000648    0.000066    0.000016          seeder   \n",
       "82  0.000297      0.000304    0.000183    0.000176             NaN   \n",
       "81  0.000389      0.000408    0.000107    0.000086             NaN   \n",
       "80  0.000378      0.000396    0.000116    0.000120             NaN   \n",
       "79  0.000353      0.000353    0.000109    0.000140             NaN   \n",
       "78  0.000410      0.000431    0.000106    0.000067             NaN   \n",
       "77  0.000294      0.000305    0.000099    0.000089             NaN   \n",
       "76  0.000471      0.000477    0.000112    0.000064             NaN   \n",
       "74  0.000413      0.000434    0.000087    0.000064             NaN   \n",
       "75  0.000223      0.000223    0.000122    0.000072             NaN   \n",
       "73  0.000229      0.000234    0.000184    0.000268             NaN   \n",
       "72  0.000165      0.000166    0.000122    0.000120             NaN   \n",
       "71  0.000311      0.000312    0.000080    0.000096  airdrop_master   \n",
       "70  0.000346      0.000360    0.000113    0.000143             NaN   \n",
       "69  0.000490      0.000514    0.000094    0.000079             NaN   \n",
       "68  0.000341      0.000341    0.000083    0.000110             NaN   \n",
       "67  0.000473      0.000477    0.000146    0.000116             NaN   \n",
       "66  0.000332      0.000341    0.000129    0.000159             NaN   \n",
       "65  0.001066      0.001086    0.000158    0.000136             NaN   \n",
       "64  0.000427      0.000443    0.000100    0.000129             NaN   \n",
       "63  0.000804      0.000806    0.000131    0.000126  airdrop_master   \n",
       "62  0.000375      0.000375    0.000103    0.000115             NaN   \n",
       "61  0.000380      0.000416    0.000104    0.000184             NaN   \n",
       "60  0.000459      0.000476    0.000101    0.000141             NaN   \n",
       "\n",
       "       sub_type  to_address project_name  \n",
       "99          NaN           4          NaN  \n",
       "98          NaN           3          NaN  \n",
       "97          NaN           3          NaN  \n",
       "96          NaN           6          NaN  \n",
       "95  intermediar          10          NaN  \n",
       "94          NaN           6          NaN  \n",
       "93          NaN           7          NaN  \n",
       "92          NaN           6          NaN  \n",
       "91          NaN           3          NaN  \n",
       "90            ?          10          NaN  \n",
       "89          NaN           7          NaN  \n",
       "88  intermediar          10          NaN  \n",
       "87          NaN           4          NaN  \n",
       "86          NaN          13          NaN  \n",
       "85          NaN           6          NaN  \n",
       "84          NaN           5          NaN  \n",
       "83  intermediar          10          NaN  \n",
       "82          NaN           4          NaN  \n",
       "81          NaN           3          NaN  \n",
       "80          NaN           4          NaN  \n",
       "79          NaN           4          NaN  \n",
       "78          NaN           3          NaN  \n",
       "77          NaN           3          NaN  \n",
       "76          NaN           4          NaN  \n",
       "74          NaN           3          NaN  \n",
       "75          NaN           4          NaN  \n",
       "73          NaN           4          NaN  \n",
       "72          NaN           3          NaN  \n",
       "71          NaN          18          NaN  \n",
       "70          NaN           3          NaN  \n",
       "69          NaN           4          NaN  \n",
       "68          NaN           5          NaN  \n",
       "67          NaN           6          NaN  \n",
       "66          NaN           4          NaN  \n",
       "65          NaN           6          NaN  \n",
       "64          NaN           6          NaN  \n",
       "63          NaN          25          NaN  \n",
       "62          NaN           5          NaN  \n",
       "61          NaN           4          NaN  \n",
       "60          NaN           5          NaN  "
      ]
     },
     "execution_count": 569,
     "metadata": {},
     "output_type": "execute_result"
    }
   ],
   "source": [
    "details_address_labels_seed.sort_values('n_tx', ascending=True).head(40)"
   ]
  },
  {
   "cell_type": "code",
   "execution_count": 557,
   "metadata": {},
   "outputs": [
    {
     "data": {
      "text/plain": [
       "count     100.000000\n",
       "mean       60.210000\n",
       "std       258.552431\n",
       "min         3.000000\n",
       "10%         3.000000\n",
       "25%         4.000000\n",
       "50%         5.000000\n",
       "75%         7.250000\n",
       "90%        27.200000\n",
       "max      1999.000000\n",
       "Name: to_address, dtype: float64"
      ]
     },
     "execution_count": 557,
     "metadata": {},
     "output_type": "execute_result"
    }
   ],
   "source": [
    "details_address_labels_seed.to_address.describe(percentiles=[0.1, 0.25, 0.5, 0.75, 0.9])"
   ]
  },
  {
   "cell_type": "code",
   "execution_count": 443,
   "metadata": {},
   "outputs": [],
   "source": [
    "df_matching_address['same_seed_not_exchange'] = df_matching_address['address'].apply(lambda x: has_same_seed_not_exchange(tx_analyser, df_labels, x))"
   ]
  },
  {
   "cell_type": "code",
   "execution_count": 446,
   "metadata": {},
   "outputs": [],
   "source": [
    "df_matching_address['same_seed_not_exchange_w'] = df_matching_address['address'].apply(lambda x: same_seed_not_exchange_address(tx_analyser, df_labels, x))"
   ]
  },
  {
   "cell_type": "code",
   "execution_count": 444,
   "metadata": {},
   "outputs": [
    {
     "data": {
      "text/plain": [
       "seed_same_naive            7290\n",
       "seed_same                 10999\n",
       "same_seed_not_exchange     5079\n",
       "dtype: int64"
      ]
     },
     "execution_count": 444,
     "metadata": {},
     "output_type": "execute_result"
    }
   ],
   "source": [
    "df_matching_address[['seed_same_naive', 'seed_same', 'same_seed_not_exchange']].sum()"
   ]
  },
  {
   "cell_type": "code",
   "execution_count": 461,
   "metadata": {},
   "outputs": [],
   "source": [
    "similar_seeder = np.concatenate(df_matching_address['same_seed_not_exchange_w'].values)"
   ]
  },
  {
   "cell_type": "code",
   "execution_count": 462,
   "metadata": {},
   "outputs": [],
   "source": [
    "unique_seeder = np.unique(similar_seeder)"
   ]
  },
  {
   "cell_type": "code",
   "execution_count": 464,
   "metadata": {},
   "outputs": [
    {
     "name": "stdout",
     "output_type": "stream",
     "text": [
      "(5079,)\n",
      "(694,)\n"
     ]
    }
   ],
   "source": [
    "print(similar_seeder.shape)\n",
    "print(unique_seeder.shape)"
   ]
  },
  {
   "cell_type": "code",
   "execution_count": null,
   "metadata": {},
   "outputs": [],
   "source": []
  },
  {
   "cell_type": "code",
   "execution_count": null,
   "metadata": {},
   "outputs": [],
   "source": []
  },
  {
   "cell_type": "code",
   "execution_count": 409,
   "metadata": {},
   "outputs": [],
   "source": [
    "df_matching_address.to_csv(f'../output_gitcoin/full_features/voters_features_{GRANT_ROUND_ID}.csv', index=False)"
   ]
  },
  {
   "cell_type": "code",
   "execution_count": null,
   "metadata": {},
   "outputs": [
    {
     "data": {
      "text/plain": [
       "19    0x18aa467e40e1defb1956708830a343c1d01d3d7c\n",
       "Name: metadata.application.recipient, dtype: object"
      ]
     },
     "execution_count": 95,
     "metadata": {},
     "output_type": "execute_result"
    }
   ],
   "source": [
    "df_application[df_application[\"metadata.application.project.title\"].str.lower().str.contains('jedi')][\"metadata.application.recipient\"]"
   ]
  },
  {
   "cell_type": "code",
   "execution_count": null,
   "metadata": {},
   "outputs": [],
   "source": [
    "jedi_swap = df_merge[df_merge['grantAddress'].str.lower() == str.lower('0x18aa467E40E1deFB1956708830A343c1D01d3D7C')]"
   ]
  },
  {
   "cell_type": "code",
   "execution_count": null,
   "metadata": {},
   "outputs": [
    {
     "data": {
      "text/plain": [
       "9506"
      ]
     },
     "execution_count": 110,
     "metadata": {},
     "output_type": "execute_result"
    }
   ],
   "source": [
    "jedi_swap['voter'].nunique()"
   ]
  },
  {
   "cell_type": "code",
   "execution_count": null,
   "metadata": {},
   "outputs": [
    {
     "data": {
      "text/plain": [
       "(9710,)"
      ]
     },
     "execution_count": 111,
     "metadata": {},
     "output_type": "execute_result"
    }
   ],
   "source": [
    "jedi_swap['voter'].shape"
   ]
  },
  {
   "cell_type": "code",
   "execution_count": null,
   "metadata": {},
   "outputs": [
    {
     "data": {
      "text/plain": [
       "Index(['id', 'projectId', 'applicationId', 'roundId', 'token', 'voter',\n",
       "       'grantAddress', 'amount', 'amountUSD', 'coefficient', 'status',\n",
       "       'last_score_timestamp', 'type', 'success', 'rawScore', 'threshold',\n",
       "       'address', 'seed_same_naive', 'seed_same', 'seed_suspicious',\n",
       "       'less_5_tx', 'less_10_tx', 'interacted_other_ctbt', 'lcs',\n",
       "       'cluster_size_lcs', 'mean_score_lcs', 'max_score_lcs', 'has_lcs',\n",
       "       'count_interaction_with_pool', 'count_interaction_with_toxic',\n",
       "       'count_interaction_with_airdrop_m', 'is_airdrop_master',\n",
       "       'count_interaction_with_tornado', 'count_interaction_with_disperse',\n",
       "       'has_interaction_toxic', 'has_no_pool_interaction',\n",
       "       'has_interaction_airdrop_m', 'has_interaction_tornado',\n",
       "       'has_interaction_disperse', 'interact_less_5tx', 'flagged',\n",
       "       'stakeridoo_detected', 'doge_detected', 'bool_gitcoin_detected',\n",
       "       'odc_detected', 'proposed_coeff'],\n",
       "      dtype='object')"
      ]
     },
     "execution_count": 112,
     "metadata": {},
     "output_type": "execute_result"
    }
   ],
   "source": [
    "jedi_swap.columns"
   ]
  },
  {
   "cell_type": "code",
   "execution_count": null,
   "metadata": {},
   "outputs": [
    {
     "data": {
      "text/plain": [
       "odc_detected                 2374\n",
       "stakeridoo_detected           449\n",
       "doge_detected                  32\n",
       "bool_gitcoin_detected         222\n",
       "is_airdrop_master             567\n",
       "has_interaction_toxic         187\n",
       "has_no_pool_interaction      8440\n",
       "has_interaction_airdrop_m    1355\n",
       "has_interaction_tornado        84\n",
       "has_interaction_disperse      113\n",
       "interact_less_5tx               5\n",
       "has_lcs                       167\n",
       "dtype: int64"
      ]
     },
     "execution_count": 121,
     "metadata": {},
     "output_type": "execute_result"
    }
   ],
   "source": [
    "jedi_swap[[\"odc_detected\", \"stakeridoo_detected\", \"doge_detected\", \"bool_gitcoin_detected\", \"is_airdrop_master\", \"has_interaction_toxic\", \"has_no_pool_interaction\", \"has_interaction_airdrop_m\", \"has_interaction_tornado\", \"has_interaction_disperse\", \"interact_less_5tx\", \"has_lcs\"]].sum()"
   ]
  },
  {
   "cell_type": "code",
   "execution_count": null,
   "metadata": {},
   "outputs": [
    {
     "name": "stderr",
     "output_type": "stream",
     "text": [
      "C:\\Users\\DELL Admin\\AppData\\Local\\Temp\\ipykernel_9816\\525363702.py:1: DtypeWarning: Columns (7) have mixed types. Specify dtype option on import or set low_memory=False.\n",
      "  df_no_lcs= pd.read_csv(os.path.join('C:\\\\Users\\\\DELL Admin\\\\Downloads\\\\Telegram Desktop', f\"n_{CSV_GITCOIN_GRANTS}\"))\n"
     ]
    }
   ],
   "source": [
    "df_no_lcs= pd.read_csv(os.path.join('C:\\\\Users\\\\DELL Admin\\\\Downloads\\\\Telegram Desktop', f\"n_{CSV_GITCOIN_GRANTS}\"))"
   ]
  },
  {
   "cell_type": "code",
   "execution_count": null,
   "metadata": {},
   "outputs": [],
   "source": [
    "bool_old = set(boolean_jaccard) - set(['has_lcs', 'bool_gitcoin_detected'])\n",
    "bool_old = list(bool_old)"
   ]
  },
  {
   "cell_type": "code",
   "execution_count": null,
   "metadata": {},
   "outputs": [
    {
     "data": {
      "text/plain": [
       "is_airdrop_master             5230\n",
       "has_no_pool_interaction      69503\n",
       "stakeridoo_detected           3527\n",
       "has_interaction_tornado       1271\n",
       "seed_suspicious               2319\n",
       "has_interaction_toxic         1763\n",
       "has_interaction_airdrop_m    12198\n",
       "interacted_other_ctbt        22821\n",
       "odc_detected                 19274\n",
       "interact_less_5tx               83\n",
       "has_interaction_disperse      1192\n",
       "flagged                      16274\n",
       "doge_detected                  215\n",
       "dtype: int64"
      ]
     },
     "execution_count": 133,
     "metadata": {},
     "output_type": "execute_result"
    }
   ],
   "source": [
    "df_no_lcs[bool_old].sum(axis=0)"
   ]
  },
  {
   "cell_type": "code",
   "execution_count": null,
   "metadata": {},
   "outputs": [
    {
     "data": {
      "text/plain": [
       "-1479"
      ]
     },
     "execution_count": 134,
     "metadata": {},
     "output_type": "execute_result"
    }
   ],
   "source": [
    "19274 - 20753"
   ]
  },
  {
   "cell_type": "code",
   "execution_count": null,
   "metadata": {},
   "outputs": [
    {
     "data": {
      "text/html": [
       "<div>\n",
       "<style scoped>\n",
       "    .dataframe tbody tr th:only-of-type {\n",
       "        vertical-align: middle;\n",
       "    }\n",
       "\n",
       "    .dataframe tbody tr th {\n",
       "        vertical-align: top;\n",
       "    }\n",
       "\n",
       "    .dataframe thead th {\n",
       "        text-align: right;\n",
       "    }\n",
       "</style>\n",
       "<table border=\"1\" class=\"dataframe\">\n",
       "  <thead>\n",
       "    <tr style=\"text-align: right;\">\n",
       "      <th></th>\n",
       "      <th>grantAddress</th>\n",
       "      <th>voter</th>\n",
       "    </tr>\n",
       "  </thead>\n",
       "  <tbody>\n",
       "    <tr>\n",
       "      <th>0</th>\n",
       "      <td>0x3a5bd1e37b099ae3386d13947b6a90d97675e5e3</td>\n",
       "      <td>197</td>\n",
       "    </tr>\n",
       "    <tr>\n",
       "      <th>1</th>\n",
       "      <td>0x18aa467e40e1defb1956708830a343c1d01d3d7c</td>\n",
       "      <td>167</td>\n",
       "    </tr>\n",
       "    <tr>\n",
       "      <th>2</th>\n",
       "      <td>0x08a3c2a819e3de7aca384c798269b3ce1cd0e437</td>\n",
       "      <td>159</td>\n",
       "    </tr>\n",
       "    <tr>\n",
       "      <th>3</th>\n",
       "      <td>0x99b36fdbc582d113af36a21eba06bfeab7b9be12</td>\n",
       "      <td>157</td>\n",
       "    </tr>\n",
       "    <tr>\n",
       "      <th>4</th>\n",
       "      <td>0xdb0c831283c003686aef40ca228e42bdabf6674c</td>\n",
       "      <td>136</td>\n",
       "    </tr>\n",
       "    <tr>\n",
       "      <th>5</th>\n",
       "      <td>0x5683921269b041fbe66882dd6cadd48b7e5b5817</td>\n",
       "      <td>127</td>\n",
       "    </tr>\n",
       "    <tr>\n",
       "      <th>6</th>\n",
       "      <td>0xe126b3e5d052f1f575828f61feba4f4f2603652a</td>\n",
       "      <td>77</td>\n",
       "    </tr>\n",
       "    <tr>\n",
       "      <th>7</th>\n",
       "      <td>0x4b8810b079eb22ecf2d1f75e08e0abbd6fd87dbf</td>\n",
       "      <td>70</td>\n",
       "    </tr>\n",
       "    <tr>\n",
       "      <th>8</th>\n",
       "      <td>0x01d79bceaeaadfb8fd2f2f53005289cfcf483464</td>\n",
       "      <td>62</td>\n",
       "    </tr>\n",
       "    <tr>\n",
       "      <th>9</th>\n",
       "      <td>0x57ea12a3a8e441f5fe7b1f3af1121097b7d3b6a8</td>\n",
       "      <td>61</td>\n",
       "    </tr>\n",
       "  </tbody>\n",
       "</table>\n",
       "</div>"
      ],
      "text/plain": [
       "                                 grantAddress  voter\n",
       "0  0x3a5bd1e37b099ae3386d13947b6a90d97675e5e3    197\n",
       "1  0x18aa467e40e1defb1956708830a343c1d01d3d7c    167\n",
       "2  0x08a3c2a819e3de7aca384c798269b3ce1cd0e437    159\n",
       "3  0x99b36fdbc582d113af36a21eba06bfeab7b9be12    157\n",
       "4  0xdb0c831283c003686aef40ca228e42bdabf6674c    136\n",
       "5  0x5683921269b041fbe66882dd6cadd48b7e5b5817    127\n",
       "6  0xe126b3e5d052f1f575828f61feba4f4f2603652a     77\n",
       "7  0x4b8810b079eb22ecf2d1f75e08e0abbd6fd87dbf     70\n",
       "8  0x01d79bceaeaadfb8fd2f2f53005289cfcf483464     62\n",
       "9  0x57ea12a3a8e441f5fe7b1f3af1121097b7d3b6a8     61"
      ]
     },
     "execution_count": 139,
     "metadata": {},
     "output_type": "execute_result"
    }
   ],
   "source": [
    "df_lcs_top_grant = df_merge[df_merge['has_lcs'] == True].groupby('grantAddress')['voter'].count().sort_values(ascending=False).reset_index()\n",
    "df_lcs_top_grant.head(10)"
   ]
  },
  {
   "cell_type": "code",
   "execution_count": null,
   "metadata": {},
   "outputs": [],
   "source": [
    "df_application['metadata.application.project.title']"
   ]
  },
  {
   "cell_type": "code",
   "execution_count": null,
   "metadata": {},
   "outputs": [
    {
     "data": {
      "text/plain": [
       "10                                           Lenster\n",
       "19                                          JediSwap\n",
       "167                                        Chainlist\n",
       "24                                         DefiLlama\n",
       "87     Taho - Open Source and Community Owned Wallet\n",
       "105                           Leto | Transfer crypto\n",
       "104                         Via | Cross-chain router\n",
       "73                                           OmniBTC\n",
       "14       Revoke.cash - Helping you stay safe in web3\n",
       "100         BrightID 🔆 Universal Proof of Uniqueness\n",
       "Name: metadata.application.project.title, dtype: object"
      ]
     },
     "execution_count": 150,
     "metadata": {},
     "output_type": "execute_result"
    }
   ],
   "source": [
    "df_application.merge(df_lcs_top_grant, left_on='metadata.application.recipient', right_on='grantAddress', how='left').sort_values(by='voter', ascending=False)['metadata.application.project.title'].head(10)"
   ]
  },
  {
   "cell_type": "code",
   "execution_count": null,
   "metadata": {},
   "outputs": [
    {
     "data": {
      "text/plain": [
       "has_no_pool_interaction\n",
       "True     12670\n",
       "False     1884\n",
       "Name: count, dtype: int64"
      ]
     },
     "execution_count": 156,
     "metadata": {},
     "output_type": "execute_result"
    }
   ],
   "source": [
    "df_merge.drop_duplicates(subset=[\"voter\"])['has_no_pool_interaction'].value_counts()"
   ]
  },
  {
   "cell_type": "code",
   "execution_count": null,
   "metadata": {},
   "outputs": [],
   "source": [
    "df_stake = df_merge.drop_duplicates(subset=[\"voter\"])[df_merge.drop_duplicates(subset=[\"voter\"])['stakeridoo_detected'] == True]"
   ]
  },
  {
   "cell_type": "code",
   "execution_count": null,
   "metadata": {},
   "outputs": [
    {
     "data": {
      "text/html": [
       "<div>\n",
       "<style scoped>\n",
       "    .dataframe tbody tr th:only-of-type {\n",
       "        vertical-align: middle;\n",
       "    }\n",
       "\n",
       "    .dataframe tbody tr th {\n",
       "        vertical-align: top;\n",
       "    }\n",
       "\n",
       "    .dataframe thead th {\n",
       "        text-align: right;\n",
       "    }\n",
       "</style>\n",
       "<table border=\"1\" class=\"dataframe\">\n",
       "  <thead>\n",
       "    <tr style=\"text-align: right;\">\n",
       "      <th></th>\n",
       "      <th>voter</th>\n",
       "      <th>rawScore</th>\n",
       "    </tr>\n",
       "  </thead>\n",
       "  <tbody>\n",
       "    <tr>\n",
       "      <th>486</th>\n",
       "      <td>0x34e2cb7513a50b19f450a067ed5230a86c13a2e9</td>\n",
       "      <td>37.01</td>\n",
       "    </tr>\n",
       "    <tr>\n",
       "      <th>526</th>\n",
       "      <td>0xe4d9f174e9b9f987836030ca0b244a5b4f615869</td>\n",
       "      <td>44.23</td>\n",
       "    </tr>\n",
       "    <tr>\n",
       "      <th>959</th>\n",
       "      <td>0x2fe95ba46d36e6bbc8d3bbc6bf3f18c85c91f3af</td>\n",
       "      <td>34.72</td>\n",
       "    </tr>\n",
       "    <tr>\n",
       "      <th>1592</th>\n",
       "      <td>0xddcfad43fb08c29935f3c6752b3a0d4f64d17b3c</td>\n",
       "      <td>39.10</td>\n",
       "    </tr>\n",
       "    <tr>\n",
       "      <th>2291</th>\n",
       "      <td>0x723aadf9329a770c8a77f205eaacc879b6e83f55</td>\n",
       "      <td>31.70</td>\n",
       "    </tr>\n",
       "    <tr>\n",
       "      <th>...</th>\n",
       "      <td>...</td>\n",
       "      <td>...</td>\n",
       "    </tr>\n",
       "    <tr>\n",
       "      <th>72265</th>\n",
       "      <td>0xfc7d1491dfcdcf6e72bf202e6d3bf5cc55e5b5ee</td>\n",
       "      <td>43.78</td>\n",
       "    </tr>\n",
       "    <tr>\n",
       "      <th>74902</th>\n",
       "      <td>0xe01ada32ad63ea1e021a3dd9c1c9baedfd5fbf11</td>\n",
       "      <td>37.12</td>\n",
       "    </tr>\n",
       "    <tr>\n",
       "      <th>76186</th>\n",
       "      <td>0xb7c1c4290946efc9fb8e4c47a65899f98f448272</td>\n",
       "      <td>31.80</td>\n",
       "    </tr>\n",
       "    <tr>\n",
       "      <th>77810</th>\n",
       "      <td>0xa437edb5987318649c05386801135a0c0bfcb701</td>\n",
       "      <td>33.15</td>\n",
       "    </tr>\n",
       "    <tr>\n",
       "      <th>79712</th>\n",
       "      <td>0x110b8b6717c4da32d86a8d3ef78964d44f9d61f0</td>\n",
       "      <td>32.02</td>\n",
       "    </tr>\n",
       "  </tbody>\n",
       "</table>\n",
       "<p>62 rows × 2 columns</p>\n",
       "</div>"
      ],
      "text/plain": [
       "                                            voter  rawScore\n",
       "486    0x34e2cb7513a50b19f450a067ed5230a86c13a2e9     37.01\n",
       "526    0xe4d9f174e9b9f987836030ca0b244a5b4f615869     44.23\n",
       "959    0x2fe95ba46d36e6bbc8d3bbc6bf3f18c85c91f3af     34.72\n",
       "1592   0xddcfad43fb08c29935f3c6752b3a0d4f64d17b3c     39.10\n",
       "2291   0x723aadf9329a770c8a77f205eaacc879b6e83f55     31.70\n",
       "...                                           ...       ...\n",
       "72265  0xfc7d1491dfcdcf6e72bf202e6d3bf5cc55e5b5ee     43.78\n",
       "74902  0xe01ada32ad63ea1e021a3dd9c1c9baedfd5fbf11     37.12\n",
       "76186  0xb7c1c4290946efc9fb8e4c47a65899f98f448272     31.80\n",
       "77810  0xa437edb5987318649c05386801135a0c0bfcb701     33.15\n",
       "79712  0x110b8b6717c4da32d86a8d3ef78964d44f9d61f0     32.02\n",
       "\n",
       "[62 rows x 2 columns]"
      ]
     },
     "execution_count": 176,
     "metadata": {},
     "output_type": "execute_result"
    }
   ],
   "source": [
    "df_stake[df_stake.rawScore > 30][['voter', 'rawScore']]"
   ]
  },
  {
   "cell_type": "code",
   "execution_count": null,
   "metadata": {},
   "outputs": [],
   "source": [
    "df_merge[df_merge['voter'].isin(['0xbd125f7c40e252a090871b865aca471f5cb8ee01', '0xb58f2521f5a05cfbee6f88171ac94ac088888888', '0x34e2cb7513a50b19f450a067ed5230a86c13a2e9'])].to_csv((\"cluster.csv\"), index=False)"
   ]
  },
  {
   "cell_type": "code",
   "execution_count": null,
   "metadata": {},
   "outputs": [],
   "source": [
    "df_test_vote = pd.read_csv('C:/Users/DELL Admin/Downloads/Gitcoin Citizens  Round #1_ Retroactive funding  (1).csv')"
   ]
  },
  {
   "cell_type": "code",
   "execution_count": null,
   "metadata": {},
   "outputs": [
    {
     "data": {
      "text/plain": [
       "Index(['id', 'transaction', 'blockNumber', 'projectId', 'applicationId',\n",
       "       'roundId', 'voter', 'grantAddress', 'token', 'amount', 'amountUSD',\n",
       "       'amountRoundToken', 'project_id', 'title', 'status', 'utc_time'],\n",
       "      dtype='object')"
      ]
     },
     "execution_count": 109,
     "metadata": {},
     "output_type": "execute_result"
    }
   ],
   "source": [
    "df_test_vote.columns"
   ]
  },
  {
   "cell_type": "code",
   "execution_count": null,
   "metadata": {},
   "outputs": [
    {
     "data": {
      "text/plain": [
       "39657.92561761"
      ]
     },
     "execution_count": 112,
     "metadata": {},
     "output_type": "execute_result"
    }
   ],
   "source": [
    "df_test_vote.amountUSD.sum()"
   ]
  },
  {
   "cell_type": "code",
   "execution_count": null,
   "metadata": {},
   "outputs": [
    {
     "data": {
      "text/plain": [
       "'0x4193c793a5a082818c36b4736f9a8c8eaabfa62bc0d050f8e9f51a2ccf68a089'"
      ]
     },
     "execution_count": 107,
     "metadata": {},
     "output_type": "execute_result"
    }
   ],
   "source": [
    "df_test_vote.sort_values(by='blockNumber', ascending=True).loc[0, 'transaction']"
   ]
  },
  {
   "cell_type": "code",
   "execution_count": null,
   "metadata": {},
   "outputs": [],
   "source": [
    "df_mer"
   ]
  }
 ],
 "metadata": {
  "kernelspec": {
   "display_name": "venvotes",
   "language": "python",
   "name": "python3"
  },
  "language_info": {
   "codemirror_mode": {
    "name": "ipython",
    "version": 3
   },
   "file_extension": ".py",
   "mimetype": "text/x-python",
   "name": "python",
   "nbconvert_exporter": "python",
   "pygments_lexer": "ipython3",
   "version": "3.10.9"
  },
  "orig_nbformat": 4
 },
 "nbformat": 4,
 "nbformat_minor": 2
}
