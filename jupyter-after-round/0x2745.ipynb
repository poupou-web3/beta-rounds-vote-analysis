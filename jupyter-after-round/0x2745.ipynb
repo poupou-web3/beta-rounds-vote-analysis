{
 "cells": [
  {
   "attachments": {},
   "cell_type": "markdown",
   "metadata": {},
   "source": [
    "# vote_coefficients_0x274554EB289004e15A7679123901B7F070dDa0fa_1\n"
   ]
  },
  {
   "cell_type": "code",
   "execution_count": 115,
   "metadata": {},
   "outputs": [],
   "source": [
    "import os\n",
    "from pathlib import Path\n",
    "import numpy as np\n",
    "\n",
    "import pandas as pd\n",
    "\n",
    "from sbdata.FlipsideApi import FlipsideApi\n",
    "\n",
    "# Set path to data folder\n",
    "current_dir = Path(os.getcwd())\n",
    "PATH_TO_EXPORT = os.path.join(current_dir.parent.parent, 'tx_data', 'all_beta_rounds')\n",
    "DATA_DIR = os.path.join(current_dir.parent.parent, 'data-regen-rangers')\n",
    "DATA_DIR_GITCOIN = os.path.join(current_dir.parent.parent, 'data-gitcoin')\n",
    "CSV_GITCOIN_GRANTS = 'vote_coefficients_0x274554EB289004e15A7679123901B7F070dDa0fa_1.csv'\n",
    "\n",
    "# read the address from oss grant\n",
    "\n",
    "api_key = os.environ['FLIPSIDE_API_KEY']\n",
    "flipside_api = FlipsideApi(api_key, max_address=400)\n",
    "PATH_TO_VOTES = os.path.join(DATA_DIR, \"votes_baoki.csv\")\n",
    "PATH_TO_GRANTS = os.path.join(DATA_DIR, \"all-allo-rounds.csv\")\n",
    "PATH_TO_PROJECTS = os.path.join(DATA_DIR, \"projects_QmQurt.csv\")\n",
    "PATH_TO_VOTES_GITCOIN = os.path.join(DATA_DIR_GITCOIN, CSV_GITCOIN_GRANTS)\n",
    "\n",
    "# load data\n",
    "df_votes = pd.read_csv(PATH_TO_VOTES_GITCOIN)\n",
    "df_grants = pd.read_csv(PATH_TO_GRANTS)\n",
    "df_application = pd.read_csv(PATH_TO_PROJECTS)\n",
    "# Lowercase all addresses because flipside api return lowercase address\n",
    "#id,projectId,applicationId,roundId,token,voter,grantAddress,amount,amountUSD,coefficient,status,last_score_timestamp,type,success,rawScore,threshold\n",
    "df_grants['Round ID'] = df_grants['Round ID'].str.lower()\n",
    "str_columns_votes = ['id', 'projectId', 'roundId', 'voter', 'grantAddress']\n",
    "df_votes[str_columns_votes] = df_votes[str_columns_votes].applymap(lambda x: x.lower())\n",
    "\n",
    "str_columns_application = ['id', 'roundId', 'metadata.application.round', 'metadata.application.recipient']\n",
    "df_application[str_columns_application] = df_application[str_columns_application].applymap(lambda x: str(x).lower())\n",
    "\n",
    "# round_id = df_grants[df_grants['Round name'] == 'Web3 Community and Education']['Round ID'].values[0]\n",
    "array_unique_address = df_votes['voter'].unique()\n",
    "\n",
    "array_unique_address = np.char.lower(array_unique_address.astype(str))\n"
   ]
  },
  {
   "cell_type": "code",
   "execution_count": 116,
   "metadata": {},
   "outputs": [],
   "source": [
    "from sbutils import LoadData\n",
    "\n",
    "# Load data\n",
    "data_loader = LoadData.LoadData(PATH_TO_EXPORT)\n",
    "df_tx = data_loader.create_df_tx('ethereum', array_unique_address)"
   ]
  },
  {
   "cell_type": "code",
   "execution_count": 187,
   "metadata": {},
   "outputs": [
    {
     "data": {
      "text/plain": [
       "(8605, 16)"
      ]
     },
     "execution_count": 187,
     "metadata": {},
     "output_type": "execute_result"
    }
   ],
   "source": [
    "df_votes.shape"
   ]
  },
  {
   "cell_type": "code",
   "execution_count": 117,
   "metadata": {},
   "outputs": [
    {
     "data": {
      "text/plain": [
       "1848"
      ]
     },
     "execution_count": 117,
     "metadata": {},
     "output_type": "execute_result"
    }
   ],
   "source": [
    "len(array_unique_address)"
   ]
  },
  {
   "cell_type": "code",
   "execution_count": 118,
   "metadata": {},
   "outputs": [
    {
     "data": {
      "text/plain": [
       "1848"
      ]
     },
     "execution_count": 118,
     "metadata": {},
     "output_type": "execute_result"
    }
   ],
   "source": [
    "df_tx.EOA.nunique()"
   ]
  },
  {
   "cell_type": "code",
   "execution_count": 119,
   "metadata": {},
   "outputs": [
    {
     "data": {
      "text/plain": [
       "array([], dtype=object)"
      ]
     },
     "execution_count": 119,
     "metadata": {},
     "output_type": "execute_result"
    }
   ],
   "source": [
    "c = np.setxor1d(array_unique_address, df_tx.EOA.values)\n",
    "c"
   ]
  },
  {
   "attachments": {},
   "cell_type": "markdown",
   "metadata": {},
   "source": [
    "## Computing legos booleans"
   ]
  },
  {
   "cell_type": "code",
   "execution_count": 120,
   "metadata": {},
   "outputs": [],
   "source": [
    "from sblegos.TransactionAnalyser import TransactionAnalyser as txa\n",
    "tx_analyser = txa(df_tx, df_address=pd.DataFrame(np.intersect1d(df_tx.EOA.unique(), array_unique_address)))"
   ]
  },
  {
   "attachments": {},
   "cell_type": "markdown",
   "metadata": {},
   "source": [
    "use matching address because some addresses are not in the extracted data set"
   ]
  },
  {
   "cell_type": "code",
   "execution_count": 121,
   "metadata": {},
   "outputs": [
    {
     "data": {
      "text/html": [
       "<div>\n",
       "<style scoped>\n",
       "    .dataframe tbody tr th:only-of-type {\n",
       "        vertical-align: middle;\n",
       "    }\n",
       "\n",
       "    .dataframe tbody tr th {\n",
       "        vertical-align: top;\n",
       "    }\n",
       "\n",
       "    .dataframe thead th {\n",
       "        text-align: right;\n",
       "    }\n",
       "</style>\n",
       "<table border=\"1\" class=\"dataframe\">\n",
       "  <thead>\n",
       "    <tr style=\"text-align: right;\">\n",
       "      <th></th>\n",
       "      <th>address</th>\n",
       "    </tr>\n",
       "  </thead>\n",
       "  <tbody>\n",
       "    <tr>\n",
       "      <th>0</th>\n",
       "      <td>0x0000005178d55139ba21423218ea7290a7ccdc81</td>\n",
       "    </tr>\n",
       "    <tr>\n",
       "      <th>1</th>\n",
       "      <td>0x00622116402f303f22d38f3ec202774f183f6468</td>\n",
       "    </tr>\n",
       "  </tbody>\n",
       "</table>\n",
       "</div>"
      ],
      "text/plain": [
       "                                      address\n",
       "0  0x0000005178d55139ba21423218ea7290a7ccdc81\n",
       "1  0x00622116402f303f22d38f3ec202774f183f6468"
      ]
     },
     "execution_count": 121,
     "metadata": {},
     "output_type": "execute_result"
    }
   ],
   "source": [
    "df_matching_address = pd.DataFrame(df_tx.EOA.unique(), columns=[\"address\"])\n",
    "df_matching_address.head(2)"
   ]
  },
  {
   "attachments": {},
   "cell_type": "markdown",
   "metadata": {},
   "source": [
    "Compute the boolean "
   ]
  },
  {
   "attachments": {},
   "cell_type": "markdown",
   "metadata": {},
   "source": [
    "less than 10 x transaction are not performant legos so we don't use it, has same seed is computed as an intermediarry to get the seed_suspicious flag"
   ]
  },
  {
   "cell_type": "code",
   "execution_count": 122,
   "metadata": {},
   "outputs": [],
   "source": [
    "df_matching_address['seed_same_naive'] = df_matching_address.loc[:, 'address'].apply(lambda x : tx_analyser.has_same_seed_naive(x))\n",
    "df_matching_address['seed_same'] = df_matching_address.loc[:, 'address'].apply(lambda x : tx_analyser.has_same_seed(x))\n",
    "df_matching_address['seed_suspicious'] = df_matching_address.loc[:, 'seed_same_naive'].ne(df_matching_address.loc[:, 'seed_same'])\n",
    "df_matching_address['less_5_tx'] = df_matching_address.loc[:, 'address'].apply(lambda x : tx_analyser.has_less_than_n_transactions(x, 5))\n",
    "# df_matching_address['less_10_tx'] = df_matching_address.loc[:, 'address'].apply(lambda x : tx_analyser.has_less_than_n_transactions(x, 10))\n",
    "df_matching_address['interacted_other_ctbt'] = df_matching_address.loc[:, 'address'].apply(lambda x : tx_analyser.has_interacted_with_other_contributor(x))"
   ]
  },
  {
   "cell_type": "code",
   "execution_count": 123,
   "metadata": {},
   "outputs": [
    {
     "name": "stdout",
     "output_type": "stream",
     "text": [
      "Number of voters: 1848\n"
     ]
    }
   ],
   "source": [
    "print(f'Number of voters: {len(df_matching_address)}')"
   ]
  },
  {
   "cell_type": "code",
   "execution_count": 124,
   "metadata": {},
   "outputs": [
    {
     "data": {
      "text/plain": [
       "address                  0x0000005178d55139ba21423218ea7290a7ccdc810x00...\n",
       "seed_same_naive                                                       1134\n",
       "seed_same                                                             1176\n",
       "seed_suspicious                                                         42\n",
       "less_5_tx                                                                5\n",
       "interacted_other_ctbt                                                  320\n",
       "dtype: object"
      ]
     },
     "execution_count": 124,
     "metadata": {},
     "output_type": "execute_result"
    }
   ],
   "source": [
    "df_matching_address.sum()"
   ]
  },
  {
   "attachments": {},
   "cell_type": "markdown",
   "metadata": {},
   "source": [
    "### Investigating the boolean seed suspicious"
   ]
  },
  {
   "cell_type": "code",
   "execution_count": 125,
   "metadata": {},
   "outputs": [
    {
     "data": {
      "text/html": [
       "<div>\n",
       "<style scoped>\n",
       "    .dataframe tbody tr th:only-of-type {\n",
       "        vertical-align: middle;\n",
       "    }\n",
       "\n",
       "    .dataframe tbody tr th {\n",
       "        vertical-align: top;\n",
       "    }\n",
       "\n",
       "    .dataframe thead th {\n",
       "        text-align: right;\n",
       "    }\n",
       "</style>\n",
       "<table border=\"1\" class=\"dataframe\">\n",
       "  <thead>\n",
       "    <tr style=\"text-align: right;\">\n",
       "      <th></th>\n",
       "      <th>address</th>\n",
       "      <th>seed_same_naive</th>\n",
       "      <th>seed_same</th>\n",
       "      <th>seed_suspicious</th>\n",
       "      <th>less_5_tx</th>\n",
       "      <th>interacted_other_ctbt</th>\n",
       "    </tr>\n",
       "  </thead>\n",
       "  <tbody>\n",
       "    <tr>\n",
       "      <th>15</th>\n",
       "      <td>0x0433872b827b0eb1fe165bd74309c3aeccbdb2f9</td>\n",
       "      <td>False</td>\n",
       "      <td>True</td>\n",
       "      <td>True</td>\n",
       "      <td>False</td>\n",
       "      <td>False</td>\n",
       "    </tr>\n",
       "    <tr>\n",
       "      <th>31</th>\n",
       "      <td>0x061c405ccb27cf0ebfc76f41da09c2e3eba8c476</td>\n",
       "      <td>False</td>\n",
       "      <td>True</td>\n",
       "      <td>True</td>\n",
       "      <td>False</td>\n",
       "      <td>False</td>\n",
       "    </tr>\n",
       "    <tr>\n",
       "      <th>65</th>\n",
       "      <td>0x0c056aba1cbe5fbfbc05971e8c631a0afd64a494</td>\n",
       "      <td>False</td>\n",
       "      <td>True</td>\n",
       "      <td>True</td>\n",
       "      <td>False</td>\n",
       "      <td>False</td>\n",
       "    </tr>\n",
       "    <tr>\n",
       "      <th>80</th>\n",
       "      <td>0x0e75eabd04986a8fb0b8cb30d6dd069c86e5e142</td>\n",
       "      <td>False</td>\n",
       "      <td>True</td>\n",
       "      <td>True</td>\n",
       "      <td>False</td>\n",
       "      <td>False</td>\n",
       "    </tr>\n",
       "    <tr>\n",
       "      <th>98</th>\n",
       "      <td>0x10c9742a1b6f9f5275eda17e025291b11673c5f0</td>\n",
       "      <td>False</td>\n",
       "      <td>True</td>\n",
       "      <td>True</td>\n",
       "      <td>False</td>\n",
       "      <td>False</td>\n",
       "    </tr>\n",
       "    <tr>\n",
       "      <th>108</th>\n",
       "      <td>0x11c0f196e606916cb18211e0750924a2a6ea4917</td>\n",
       "      <td>False</td>\n",
       "      <td>True</td>\n",
       "      <td>True</td>\n",
       "      <td>False</td>\n",
       "      <td>False</td>\n",
       "    </tr>\n",
       "    <tr>\n",
       "      <th>137</th>\n",
       "      <td>0x1636c0725cb87ad26378e98733a9a420856f993f</td>\n",
       "      <td>False</td>\n",
       "      <td>True</td>\n",
       "      <td>True</td>\n",
       "      <td>False</td>\n",
       "      <td>False</td>\n",
       "    </tr>\n",
       "    <tr>\n",
       "      <th>158</th>\n",
       "      <td>0x18eb5c524e0dbdf160916ddc60974dfc91bafc69</td>\n",
       "      <td>False</td>\n",
       "      <td>True</td>\n",
       "      <td>True</td>\n",
       "      <td>False</td>\n",
       "      <td>False</td>\n",
       "    </tr>\n",
       "    <tr>\n",
       "      <th>198</th>\n",
       "      <td>0x1e908555578205a9a6b9efec160d849658f30be5</td>\n",
       "      <td>False</td>\n",
       "      <td>True</td>\n",
       "      <td>True</td>\n",
       "      <td>False</td>\n",
       "      <td>True</td>\n",
       "    </tr>\n",
       "    <tr>\n",
       "      <th>232</th>\n",
       "      <td>0x2266e997a7eb807b94aae1790fdc372936e05a84</td>\n",
       "      <td>False</td>\n",
       "      <td>True</td>\n",
       "      <td>True</td>\n",
       "      <td>False</td>\n",
       "      <td>True</td>\n",
       "    </tr>\n",
       "    <tr>\n",
       "      <th>237</th>\n",
       "      <td>0x2305295216e65806326a2a25e1f2ea3a76f9a700</td>\n",
       "      <td>False</td>\n",
       "      <td>True</td>\n",
       "      <td>True</td>\n",
       "      <td>False</td>\n",
       "      <td>False</td>\n",
       "    </tr>\n",
       "    <tr>\n",
       "      <th>260</th>\n",
       "      <td>0x26434624fd8abaafff276459524ffd1d54241d2b</td>\n",
       "      <td>False</td>\n",
       "      <td>True</td>\n",
       "      <td>True</td>\n",
       "      <td>False</td>\n",
       "      <td>False</td>\n",
       "    </tr>\n",
       "    <tr>\n",
       "      <th>307</th>\n",
       "      <td>0x2d0a364c22e369f322df6b74c3f02981aa9657c8</td>\n",
       "      <td>False</td>\n",
       "      <td>True</td>\n",
       "      <td>True</td>\n",
       "      <td>False</td>\n",
       "      <td>False</td>\n",
       "    </tr>\n",
       "    <tr>\n",
       "      <th>387</th>\n",
       "      <td>0x39a9e5e4992df95b513aa6a9d732d9ef4c920248</td>\n",
       "      <td>False</td>\n",
       "      <td>True</td>\n",
       "      <td>True</td>\n",
       "      <td>False</td>\n",
       "      <td>False</td>\n",
       "    </tr>\n",
       "    <tr>\n",
       "      <th>390</th>\n",
       "      <td>0x39cfcd7ddf7903a17f4d77a0410f9b4da7f6c083</td>\n",
       "      <td>False</td>\n",
       "      <td>True</td>\n",
       "      <td>True</td>\n",
       "      <td>False</td>\n",
       "      <td>False</td>\n",
       "    </tr>\n",
       "    <tr>\n",
       "      <th>403</th>\n",
       "      <td>0x3b1aeea1c8e8f627d0411ebd2f3b655ed0fdb7e4</td>\n",
       "      <td>False</td>\n",
       "      <td>True</td>\n",
       "      <td>True</td>\n",
       "      <td>False</td>\n",
       "      <td>True</td>\n",
       "    </tr>\n",
       "    <tr>\n",
       "      <th>494</th>\n",
       "      <td>0x474d7d70207fc6e133551927dd3cb212b086018f</td>\n",
       "      <td>False</td>\n",
       "      <td>True</td>\n",
       "      <td>True</td>\n",
       "      <td>False</td>\n",
       "      <td>False</td>\n",
       "    </tr>\n",
       "    <tr>\n",
       "      <th>498</th>\n",
       "      <td>0x47a39544dc1af6ab7060babde4a336a795e652d3</td>\n",
       "      <td>False</td>\n",
       "      <td>True</td>\n",
       "      <td>True</td>\n",
       "      <td>False</td>\n",
       "      <td>False</td>\n",
       "    </tr>\n",
       "    <tr>\n",
       "      <th>559</th>\n",
       "      <td>0x50a47b8a24cc1d9671b2244a783b5e397dc1fd06</td>\n",
       "      <td>False</td>\n",
       "      <td>True</td>\n",
       "      <td>True</td>\n",
       "      <td>False</td>\n",
       "      <td>False</td>\n",
       "    </tr>\n",
       "    <tr>\n",
       "      <th>561</th>\n",
       "      <td>0x5111721d36bff9ab0582459eae97217c70cb2d73</td>\n",
       "      <td>False</td>\n",
       "      <td>True</td>\n",
       "      <td>True</td>\n",
       "      <td>False</td>\n",
       "      <td>False</td>\n",
       "    </tr>\n",
       "    <tr>\n",
       "      <th>586</th>\n",
       "      <td>0x54dd0ccedd3697db4a8f331d52701349266c0717</td>\n",
       "      <td>False</td>\n",
       "      <td>True</td>\n",
       "      <td>True</td>\n",
       "      <td>False</td>\n",
       "      <td>False</td>\n",
       "    </tr>\n",
       "    <tr>\n",
       "      <th>642</th>\n",
       "      <td>0x5bb18fff9f821e673ee56f38988bd85a010571f8</td>\n",
       "      <td>False</td>\n",
       "      <td>True</td>\n",
       "      <td>True</td>\n",
       "      <td>False</td>\n",
       "      <td>False</td>\n",
       "    </tr>\n",
       "    <tr>\n",
       "      <th>653</th>\n",
       "      <td>0x5d346f55df93d578b207adec5cb820f15ec708d3</td>\n",
       "      <td>False</td>\n",
       "      <td>True</td>\n",
       "      <td>True</td>\n",
       "      <td>False</td>\n",
       "      <td>False</td>\n",
       "    </tr>\n",
       "    <tr>\n",
       "      <th>664</th>\n",
       "      <td>0x5e5de26e14a711d6eb21333c24f1acec9fa0a2c1</td>\n",
       "      <td>False</td>\n",
       "      <td>True</td>\n",
       "      <td>True</td>\n",
       "      <td>False</td>\n",
       "      <td>False</td>\n",
       "    </tr>\n",
       "    <tr>\n",
       "      <th>669</th>\n",
       "      <td>0x5f7b3cc5b724b9a6d75bbf6e6e7fcff360a43905</td>\n",
       "      <td>False</td>\n",
       "      <td>True</td>\n",
       "      <td>True</td>\n",
       "      <td>False</td>\n",
       "      <td>True</td>\n",
       "    </tr>\n",
       "    <tr>\n",
       "      <th>684</th>\n",
       "      <td>0x618b2f7bca034ea28110b13241c6feaeb42cdbfd</td>\n",
       "      <td>False</td>\n",
       "      <td>True</td>\n",
       "      <td>True</td>\n",
       "      <td>False</td>\n",
       "      <td>False</td>\n",
       "    </tr>\n",
       "    <tr>\n",
       "      <th>833</th>\n",
       "      <td>0x73a84449cc993e9669cf5181c5ec4978a5145c70</td>\n",
       "      <td>False</td>\n",
       "      <td>True</td>\n",
       "      <td>True</td>\n",
       "      <td>False</td>\n",
       "      <td>False</td>\n",
       "    </tr>\n",
       "    <tr>\n",
       "      <th>857</th>\n",
       "      <td>0x768d6735341e3f79382b0ebc70b53f87e0d1d461</td>\n",
       "      <td>False</td>\n",
       "      <td>True</td>\n",
       "      <td>True</td>\n",
       "      <td>False</td>\n",
       "      <td>False</td>\n",
       "    </tr>\n",
       "    <tr>\n",
       "      <th>910</th>\n",
       "      <td>0x7df437c26813e2d976d2d88fc99e361f9e90ad3c</td>\n",
       "      <td>False</td>\n",
       "      <td>True</td>\n",
       "      <td>True</td>\n",
       "      <td>False</td>\n",
       "      <td>True</td>\n",
       "    </tr>\n",
       "    <tr>\n",
       "      <th>982</th>\n",
       "      <td>0x88ff5a8a5f1fe61dc7aceb1a4fa260f2facfadd5</td>\n",
       "      <td>False</td>\n",
       "      <td>True</td>\n",
       "      <td>True</td>\n",
       "      <td>False</td>\n",
       "      <td>False</td>\n",
       "    </tr>\n",
       "    <tr>\n",
       "      <th>1061</th>\n",
       "      <td>0x93efe639691b5b35a62a52b5b141eb1d87cc269e</td>\n",
       "      <td>False</td>\n",
       "      <td>True</td>\n",
       "      <td>True</td>\n",
       "      <td>False</td>\n",
       "      <td>False</td>\n",
       "    </tr>\n",
       "    <tr>\n",
       "      <th>1161</th>\n",
       "      <td>0xa2437d99c55744f12d4a71f1b06740eb99b4aa0a</td>\n",
       "      <td>False</td>\n",
       "      <td>True</td>\n",
       "      <td>True</td>\n",
       "      <td>False</td>\n",
       "      <td>False</td>\n",
       "    </tr>\n",
       "    <tr>\n",
       "      <th>1230</th>\n",
       "      <td>0xac4ddaf8fbffba0f1e8c7619720335fd4f03eacd</td>\n",
       "      <td>False</td>\n",
       "      <td>True</td>\n",
       "      <td>True</td>\n",
       "      <td>False</td>\n",
       "      <td>False</td>\n",
       "    </tr>\n",
       "    <tr>\n",
       "      <th>1258</th>\n",
       "      <td>0xaf4fad23b7710cd73a57df9fa554cdc67b241372</td>\n",
       "      <td>False</td>\n",
       "      <td>True</td>\n",
       "      <td>True</td>\n",
       "      <td>False</td>\n",
       "      <td>False</td>\n",
       "    </tr>\n",
       "    <tr>\n",
       "      <th>1397</th>\n",
       "      <td>0xc28064b875ae25f9a2ca28c08f116a5c26229f69</td>\n",
       "      <td>False</td>\n",
       "      <td>True</td>\n",
       "      <td>True</td>\n",
       "      <td>False</td>\n",
       "      <td>False</td>\n",
       "    </tr>\n",
       "    <tr>\n",
       "      <th>1413</th>\n",
       "      <td>0xc64ab5bcd2bc209c256307a6ee5e2dba52e75c53</td>\n",
       "      <td>False</td>\n",
       "      <td>True</td>\n",
       "      <td>True</td>\n",
       "      <td>False</td>\n",
       "      <td>False</td>\n",
       "    </tr>\n",
       "    <tr>\n",
       "      <th>1454</th>\n",
       "      <td>0xca7b0ce9f73164c2fa1ec90826c94df00796e994</td>\n",
       "      <td>False</td>\n",
       "      <td>True</td>\n",
       "      <td>True</td>\n",
       "      <td>False</td>\n",
       "      <td>False</td>\n",
       "    </tr>\n",
       "    <tr>\n",
       "      <th>1609</th>\n",
       "      <td>0xdec6e553d15e6de3c06547df5094a4f9d88ca8d9</td>\n",
       "      <td>False</td>\n",
       "      <td>True</td>\n",
       "      <td>True</td>\n",
       "      <td>False</td>\n",
       "      <td>False</td>\n",
       "    </tr>\n",
       "    <tr>\n",
       "      <th>1647</th>\n",
       "      <td>0xe454d47f89e1e5434779bca6ef7190a7e9dfd9d0</td>\n",
       "      <td>False</td>\n",
       "      <td>True</td>\n",
       "      <td>True</td>\n",
       "      <td>False</td>\n",
       "      <td>False</td>\n",
       "    </tr>\n",
       "    <tr>\n",
       "      <th>1678</th>\n",
       "      <td>0xe891bedaed840a8a581664daa1463e9e29a916fa</td>\n",
       "      <td>False</td>\n",
       "      <td>True</td>\n",
       "      <td>True</td>\n",
       "      <td>False</td>\n",
       "      <td>False</td>\n",
       "    </tr>\n",
       "    <tr>\n",
       "      <th>1697</th>\n",
       "      <td>0xeb85449a63a254f0a8ec583cc84a07c116326bbc</td>\n",
       "      <td>False</td>\n",
       "      <td>True</td>\n",
       "      <td>True</td>\n",
       "      <td>False</td>\n",
       "      <td>False</td>\n",
       "    </tr>\n",
       "    <tr>\n",
       "      <th>1769</th>\n",
       "      <td>0xf7030ee79d6d8176caba07b0f8dcb4a40d029b11</td>\n",
       "      <td>False</td>\n",
       "      <td>True</td>\n",
       "      <td>True</td>\n",
       "      <td>False</td>\n",
       "      <td>True</td>\n",
       "    </tr>\n",
       "  </tbody>\n",
       "</table>\n",
       "</div>"
      ],
      "text/plain": [
       "                                         address  seed_same_naive  seed_same   \n",
       "15    0x0433872b827b0eb1fe165bd74309c3aeccbdb2f9            False       True  \\\n",
       "31    0x061c405ccb27cf0ebfc76f41da09c2e3eba8c476            False       True   \n",
       "65    0x0c056aba1cbe5fbfbc05971e8c631a0afd64a494            False       True   \n",
       "80    0x0e75eabd04986a8fb0b8cb30d6dd069c86e5e142            False       True   \n",
       "98    0x10c9742a1b6f9f5275eda17e025291b11673c5f0            False       True   \n",
       "108   0x11c0f196e606916cb18211e0750924a2a6ea4917            False       True   \n",
       "137   0x1636c0725cb87ad26378e98733a9a420856f993f            False       True   \n",
       "158   0x18eb5c524e0dbdf160916ddc60974dfc91bafc69            False       True   \n",
       "198   0x1e908555578205a9a6b9efec160d849658f30be5            False       True   \n",
       "232   0x2266e997a7eb807b94aae1790fdc372936e05a84            False       True   \n",
       "237   0x2305295216e65806326a2a25e1f2ea3a76f9a700            False       True   \n",
       "260   0x26434624fd8abaafff276459524ffd1d54241d2b            False       True   \n",
       "307   0x2d0a364c22e369f322df6b74c3f02981aa9657c8            False       True   \n",
       "387   0x39a9e5e4992df95b513aa6a9d732d9ef4c920248            False       True   \n",
       "390   0x39cfcd7ddf7903a17f4d77a0410f9b4da7f6c083            False       True   \n",
       "403   0x3b1aeea1c8e8f627d0411ebd2f3b655ed0fdb7e4            False       True   \n",
       "494   0x474d7d70207fc6e133551927dd3cb212b086018f            False       True   \n",
       "498   0x47a39544dc1af6ab7060babde4a336a795e652d3            False       True   \n",
       "559   0x50a47b8a24cc1d9671b2244a783b5e397dc1fd06            False       True   \n",
       "561   0x5111721d36bff9ab0582459eae97217c70cb2d73            False       True   \n",
       "586   0x54dd0ccedd3697db4a8f331d52701349266c0717            False       True   \n",
       "642   0x5bb18fff9f821e673ee56f38988bd85a010571f8            False       True   \n",
       "653   0x5d346f55df93d578b207adec5cb820f15ec708d3            False       True   \n",
       "664   0x5e5de26e14a711d6eb21333c24f1acec9fa0a2c1            False       True   \n",
       "669   0x5f7b3cc5b724b9a6d75bbf6e6e7fcff360a43905            False       True   \n",
       "684   0x618b2f7bca034ea28110b13241c6feaeb42cdbfd            False       True   \n",
       "833   0x73a84449cc993e9669cf5181c5ec4978a5145c70            False       True   \n",
       "857   0x768d6735341e3f79382b0ebc70b53f87e0d1d461            False       True   \n",
       "910   0x7df437c26813e2d976d2d88fc99e361f9e90ad3c            False       True   \n",
       "982   0x88ff5a8a5f1fe61dc7aceb1a4fa260f2facfadd5            False       True   \n",
       "1061  0x93efe639691b5b35a62a52b5b141eb1d87cc269e            False       True   \n",
       "1161  0xa2437d99c55744f12d4a71f1b06740eb99b4aa0a            False       True   \n",
       "1230  0xac4ddaf8fbffba0f1e8c7619720335fd4f03eacd            False       True   \n",
       "1258  0xaf4fad23b7710cd73a57df9fa554cdc67b241372            False       True   \n",
       "1397  0xc28064b875ae25f9a2ca28c08f116a5c26229f69            False       True   \n",
       "1413  0xc64ab5bcd2bc209c256307a6ee5e2dba52e75c53            False       True   \n",
       "1454  0xca7b0ce9f73164c2fa1ec90826c94df00796e994            False       True   \n",
       "1609  0xdec6e553d15e6de3c06547df5094a4f9d88ca8d9            False       True   \n",
       "1647  0xe454d47f89e1e5434779bca6ef7190a7e9dfd9d0            False       True   \n",
       "1678  0xe891bedaed840a8a581664daa1463e9e29a916fa            False       True   \n",
       "1697  0xeb85449a63a254f0a8ec583cc84a07c116326bbc            False       True   \n",
       "1769  0xf7030ee79d6d8176caba07b0f8dcb4a40d029b11            False       True   \n",
       "\n",
       "      seed_suspicious  less_5_tx  interacted_other_ctbt  \n",
       "15               True      False                  False  \n",
       "31               True      False                  False  \n",
       "65               True      False                  False  \n",
       "80               True      False                  False  \n",
       "98               True      False                  False  \n",
       "108              True      False                  False  \n",
       "137              True      False                  False  \n",
       "158              True      False                  False  \n",
       "198              True      False                   True  \n",
       "232              True      False                   True  \n",
       "237              True      False                  False  \n",
       "260              True      False                  False  \n",
       "307              True      False                  False  \n",
       "387              True      False                  False  \n",
       "390              True      False                  False  \n",
       "403              True      False                   True  \n",
       "494              True      False                  False  \n",
       "498              True      False                  False  \n",
       "559              True      False                  False  \n",
       "561              True      False                  False  \n",
       "586              True      False                  False  \n",
       "642              True      False                  False  \n",
       "653              True      False                  False  \n",
       "664              True      False                  False  \n",
       "669              True      False                   True  \n",
       "684              True      False                  False  \n",
       "833              True      False                  False  \n",
       "857              True      False                  False  \n",
       "910              True      False                   True  \n",
       "982              True      False                  False  \n",
       "1061             True      False                  False  \n",
       "1161             True      False                  False  \n",
       "1230             True      False                  False  \n",
       "1258             True      False                  False  \n",
       "1397             True      False                  False  \n",
       "1413             True      False                  False  \n",
       "1454             True      False                  False  \n",
       "1609             True      False                  False  \n",
       "1647             True      False                  False  \n",
       "1678             True      False                  False  \n",
       "1697             True      False                  False  \n",
       "1769             True      False                   True  "
      ]
     },
     "execution_count": 125,
     "metadata": {},
     "output_type": "execute_result"
    }
   ],
   "source": [
    "df_matching_address[df_matching_address['seed_suspicious'] == True]"
   ]
  },
  {
   "cell_type": "code",
   "execution_count": 126,
   "metadata": {},
   "outputs": [],
   "source": [
    "# projects_voted = df_votes[df_votes['voter'] == '0xc28064b875ae25f9a2ca28c08f116a5c26229f69']\n",
    "# print(f'Number of votes {projects_voted.shape[0]} Number of projects voted: {projects_voted.grantAddress.nunique()}')\n",
    "# # Merge the project the user voted for and the projects \n",
    "# projects_voted.merge(df_application, left_on='grantAddress', right_on='metadata.application.recipient', how='left').drop_duplicates(subset='grantAddress').loc[:, ['grantAddress', 'metadata.application.project.title', 'status', 'metadata.application.round']].reset_index(drop=True)"
   ]
  },
  {
   "attachments": {},
   "cell_type": "markdown",
   "metadata": {},
   "source": [
    "Some of the projects he donated to are in the list of Rejected projects showing that this address is indeed a sybil. And may have contributed to ohter fraudulent projects."
   ]
  },
  {
   "attachments": {},
   "cell_type": "markdown",
   "metadata": {},
   "source": [
    "- Pulsar is not very active and is forked code for the most part\n",
    "- Fusion not very active on github but has a lot of activity on twitter \n",
    "- Share suspicious Github with no activity, twitter does not exists: suspicious\n",
    "\n",
    "Other projects are ok"
   ]
  },
  {
   "cell_type": "code",
   "execution_count": 127,
   "metadata": {},
   "outputs": [],
   "source": [
    "# projects_voted = df_votes[df_votes['voter'] == '0x61ffe691821291d02e9ba5d33098adcee71a3a17']\n",
    "# print(f'Number of votes {projects_voted.shape[0]} Number of projects voted: {projects_voted.grantAddress.nunique()}')\n",
    "# # Merge the project the user voted for and the projects \n",
    "# projects_voted.merge(df_application, left_on='grantAddress', right_on='metadata.application.recipient', how='left').drop_duplicates(subset='grantAddress').loc[:, ['grantAddress', 'metadata.application.project.title']].reset_index(drop=True)"
   ]
  },
  {
   "cell_type": "code",
   "execution_count": 128,
   "metadata": {},
   "outputs": [],
   "source": [
    "# projects_voted = df_votes[df_votes['voter'] == '0xe51200a4d161935fc311ed8a0401feb1abf20e3a']\n",
    "# print(f'Number of votes {projects_voted.shape[0]} Number of projects voted: {projects_voted.grantAddress.nunique()}')\n",
    "# # Merge the project the user voted for and the projects \n",
    "# projects_voted.merge(df_application, left_on='grantAddress', right_on='metadata.application.recipient', how='left').drop_duplicates(subset='grantAddress').loc[:, ['grantAddress', 'metadata.application.project.title']].reset_index(drop=True)"
   ]
  },
  {
   "attachments": {},
   "cell_type": "markdown",
   "metadata": {},
   "source": [
    "The boolean seed suspicious is not relevant for that round we will not use it for the analysis."
   ]
  },
  {
   "attachments": {},
   "cell_type": "markdown",
   "metadata": {},
   "source": [
    "### Computing the new dex interaction score\n",
    "It was investigated in another notebook "
   ]
  },
  {
   "cell_type": "code",
   "execution_count": 129,
   "metadata": {},
   "outputs": [],
   "source": [
    "def get_interacted_address(from_address, to_address, address):\n",
    "    if from_address == address:\n",
    "        return to_address\n",
    "    else:\n",
    "        return from_address\n",
    "\n",
    "def count_interaction_with_any(tx_analyser, address, array_address):\n",
    "    \"\"\"\n",
    "    Return an integer of the number of interactions with the addresses in the array_address\n",
    "    Parameters\n",
    "    ----------\n",
    "    address : str\n",
    "        The address to check\n",
    "\n",
    "    Returns\n",
    "    -------\n",
    "    count_interaction_with_any : int\n",
    "        The number of interactions with the addresses in the array_address\n",
    "    \"\"\"\n",
    "    tx_analyser.set_group_by_sorted_EOA()\n",
    "\n",
    "    df = tx_analyser.gb_EOA_sorted.get_group(address)\n",
    "    address_interacted = df.apply(lambda x: get_interacted_address(x['from_address'], x['to_address'], address), axis=1)\n",
    "    tx_boolean_interacted = address_interacted.isin(array_address)\n",
    "    return tx_boolean_interacted.sum()\n",
    "\n",
    "def has_interacted_with_any(tx_analyser, address, array_address):\n",
    "    \"\"\"\n",
    "    Return a boolean whether the address has interacted with any address in the array_address\n",
    "    Parameters\n",
    "    ----------\n",
    "    address : str\n",
    "        The address to check\n",
    "\n",
    "    Returns\n",
    "    -------\n",
    "    has_interacted_with_any : bool\n",
    "        True if the address has interacted with one or more of the addresses in the array_address\n",
    "    \"\"\"\n",
    "    count_interaction_with_any = count_interaction_with_any(tx_analyser, address, array_address)\n",
    "    return count_interaction_with_any > 0"
   ]
  },
  {
   "cell_type": "code",
   "execution_count": 130,
   "metadata": {},
   "outputs": [],
   "source": [
    "label_query = '''\n",
    "SELECT ADDRESS, CREATOR, LABEL_TYPE, ADDRESS_NAME, PROJECT_NAME\n",
    "FROM crosschain.core.address_labels \n",
    "WHERE BLOCKCHAIN='ethereum'\n",
    "AND LABEL_SUBTYPE = 'pool' \n",
    ";'''\n",
    "df_label = flipside_api.execute_query(label_query)"
   ]
  },
  {
   "cell_type": "code",
   "execution_count": 131,
   "metadata": {},
   "outputs": [],
   "source": [
    "# extract all the pool addresses\n",
    "array_pool_address = df_label['address'].unique()"
   ]
  },
  {
   "cell_type": "code",
   "execution_count": 132,
   "metadata": {},
   "outputs": [],
   "source": [
    "tx_analyser.set_group_by_sorted_EOA()"
   ]
  },
  {
   "cell_type": "code",
   "execution_count": 133,
   "metadata": {},
   "outputs": [],
   "source": [
    "# Compute the number of interactions with any of the pools for each address\n",
    "df_matching_address['count_interaction_with_pool'] = df_matching_address['address'].apply(lambda x: count_interaction_with_any(tx_analyser, x, array_pool_address))"
   ]
  },
  {
   "cell_type": "code",
   "execution_count": 134,
   "metadata": {},
   "outputs": [
    {
     "data": {
      "text/plain": [
       "0.40205627705627706"
      ]
     },
     "execution_count": 134,
     "metadata": {},
     "output_type": "execute_result"
    }
   ],
   "source": [
    "(df_matching_address['count_interaction_with_pool'] > 0).sum() / len(df_matching_address)"
   ]
  },
  {
   "cell_type": "code",
   "execution_count": 135,
   "metadata": {},
   "outputs": [],
   "source": [
    "label_query = '''\n",
    "SELECT DISTINCT(LABEL_SUBTYPE)\n",
    "FROM crosschain.core.address_labels \n",
    "WHERE BLOCKCHAIN='ethereum'\n",
    ";'''\n",
    "df_distinct_labels = flipside_api.execute_query(label_query)"
   ]
  },
  {
   "cell_type": "code",
   "execution_count": 136,
   "metadata": {},
   "outputs": [
    {
     "data": {
      "text/plain": [
       "array(['voting', 'swap_router', 'treasury', 'token_sale', 'vault', 'pool',\n",
       "       'chadmin', 'marketplace', 'foundation', 'multisig',\n",
       "       'airdrop_contract', 'router', 'dao', 'rewards', 'reserve',\n",
       "       'oracle', 'hot_wallet', 'mining_pool', 'donation_address',\n",
       "       'contract_deployer', 'governance', 'escrow', 'nf_token_contract',\n",
       "       'nf_position_manager', 'token_distribution', 'aggregator_contract',\n",
       "       'toxic', 'strategy', 'cold_wallet', 'swap_contract',\n",
       "       'distributor_cex', 'deposit_wallet', 'staking_contract',\n",
       "       'general_contract', 'fee_wallet', 'token_contract', 'bridge',\n",
       "       'mint_burn', 'mint_contract'], dtype=object)"
      ]
     },
     "execution_count": 136,
     "metadata": {},
     "output_type": "execute_result"
    }
   ],
   "source": [
    "df_distinct_labels.label_subtype.unique()"
   ]
  },
  {
   "attachments": {},
   "cell_type": "markdown",
   "metadata": {},
   "source": [
    "From these tags lets flag any address that have interacted with a toxic wallet"
   ]
  },
  {
   "cell_type": "code",
   "execution_count": 137,
   "metadata": {},
   "outputs": [],
   "source": [
    "label_query = '''\n",
    "SELECT ADDRESS, CREATOR, LABEL_TYPE, ADDRESS_NAME, PROJECT_NAME\n",
    "FROM crosschain.core.address_labels \n",
    "WHERE BLOCKCHAIN='ethereum'\n",
    "AND LABEL_SUBTYPE = 'toxic'\n",
    ";'''\n",
    "df_toxic = flipside_api.execute_query(label_query)"
   ]
  },
  {
   "cell_type": "code",
   "execution_count": 138,
   "metadata": {},
   "outputs": [
    {
     "data": {
      "text/plain": [
       "(4857, 6)"
      ]
     },
     "execution_count": 138,
     "metadata": {},
     "output_type": "execute_result"
    }
   ],
   "source": [
    "df_toxic.shape"
   ]
  },
  {
   "cell_type": "code",
   "execution_count": 139,
   "metadata": {},
   "outputs": [],
   "source": [
    "# Compute the number of interactions with any of the scam for each address\n",
    "df_matching_address['count_interaction_with_toxic'] = df_matching_address['address'].apply(lambda x: count_interaction_with_any(tx_analyser, x, df_toxic['address'].unique()))"
   ]
  },
  {
   "cell_type": "code",
   "execution_count": 140,
   "metadata": {},
   "outputs": [
    {
     "name": "stdout",
     "output_type": "stream",
     "text": [
      "Percentage of addresses that have interacted with a toxic address: 3%\n"
     ]
    }
   ],
   "source": [
    "print(f'Percentage of addresses that have interacted with a toxic address: {int((df_matching_address[\"count_interaction_with_toxic\"] > 0).sum() / len(df_matching_address) *100)}%')"
   ]
  },
  {
   "cell_type": "code",
   "execution_count": 141,
   "metadata": {},
   "outputs": [],
   "source": [
    "tag_query = '''\n",
    "SELECT DISTINCT(TAG_TYPE)\n",
    "FROM crosschain.core.address_tags \n",
    "WHERE BLOCKCHAIN='ethereum'\n",
    ";'''\n",
    "df_distinct_tags = flipside_api.execute_query(tag_query)"
   ]
  },
  {
   "cell_type": "code",
   "execution_count": 142,
   "metadata": {},
   "outputs": [
    {
     "data": {
      "text/plain": [
       "array(['chainlink oracle', 'dydx delegate', 'Balancer Delegates',\n",
       "       'contract', 'NFT', 'Aave Delegates', 'dex', 'nft', 'activity',\n",
       "       'wallet', 'cex'], dtype=object)"
      ]
     },
     "execution_count": 142,
     "metadata": {},
     "output_type": "execute_result"
    }
   ],
   "source": [
    "df_distinct_tags.tag_type.values"
   ]
  },
  {
   "attachments": {},
   "cell_type": "markdown",
   "metadata": {},
   "source": [
    "I found the tag_name \"airdrop master\" could be interesting "
   ]
  },
  {
   "cell_type": "code",
   "execution_count": 143,
   "metadata": {},
   "outputs": [],
   "source": [
    "query_airdrop_master = '''\n",
    "SELECT BLOCKCHAIN, CREATOR, ADDRESS, TAG_NAME\n",
    "FROM crosschain.core.address_tags \n",
    "WHERE BLOCKCHAIN='ethereum'\n",
    "AND TAG_NAME = 'airdrop master'\n",
    ";\n",
    "'''\n",
    "df_airdrop_master = flipside_api.execute_query(query_airdrop_master)"
   ]
  },
  {
   "cell_type": "code",
   "execution_count": 144,
   "metadata": {},
   "outputs": [
    {
     "name": "stdout",
     "output_type": "stream",
     "text": [
      "Percentage of addresses that interacted with airdrop master: 17%\n"
     ]
    }
   ],
   "source": [
    "# Compute the number of interactions with any of the aidrop for each address\n",
    "df_matching_address['count_interaction_with_airdrop_m'] = df_matching_address['address'].apply(lambda x: count_interaction_with_any(tx_analyser, x, df_airdrop_master['address'].unique()))\n",
    "print(f'Percentage of addresses that interacted with airdrop master: {int((df_matching_address[\"count_interaction_with_airdrop_m\"] > 0).sum() / len(df_matching_address) * 100)}%')"
   ]
  },
  {
   "cell_type": "code",
   "execution_count": 145,
   "metadata": {},
   "outputs": [
    {
     "name": "stdout",
     "output_type": "stream",
     "text": [
      "Percentage of addresses that are airdrop master: 6%\n"
     ]
    }
   ],
   "source": [
    "# Boolean whether the address is a aidrop master\n",
    "df_matching_address['is_airdrop_master'] = df_matching_address['address'].apply(lambda x: x in df_airdrop_master['address'].unique()) \n",
    "print(f'Percentage of addresses that are airdrop master: {int((df_matching_address[\"is_airdrop_master\"]).sum() / len(df_matching_address) * 100)}%')"
   ]
  },
  {
   "cell_type": "code",
   "execution_count": 146,
   "metadata": {},
   "outputs": [],
   "source": [
    "sql_query_tornado = '''\n",
    "SELECT DISTINCT PROJECT_NAME, ADDRESS\n",
    "FROM crosschain.core.address_labels \n",
    "WHERE BLOCKCHAIN='ethereum'\n",
    "AND PROJECT_NAME LIKE '%tornado%'\n",
    ";\n",
    "'''\n",
    "df_tornado = flipside_api.execute_query(sql_query_tornado)"
   ]
  },
  {
   "cell_type": "code",
   "execution_count": 147,
   "metadata": {},
   "outputs": [
    {
     "name": "stdout",
     "output_type": "stream",
     "text": [
      "Percentage of addresses that interacted with tornado: 1%\n"
     ]
    }
   ],
   "source": [
    "# Count the number of interactions with tornado\n",
    "df_matching_address['count_interaction_with_tornado'] = df_matching_address['address'].apply(lambda x: count_interaction_with_any(tx_analyser, x, df_tornado['address'].unique()))\n",
    "print(f'Percentage of addresses that interacted with tornado: {int((df_matching_address[\"count_interaction_with_tornado\"] > 0).sum() / len(df_matching_address) * 100)}%')"
   ]
  },
  {
   "cell_type": "code",
   "execution_count": 148,
   "metadata": {},
   "outputs": [
    {
     "name": "stdout",
     "output_type": "stream",
     "text": [
      "Percentage of addresses that interacted with disperse: 1%\n"
     ]
    }
   ],
   "source": [
    "# Count the number of time the address interatec with disperse contract: '0xD152f549545093347A162Dce210e7293f1452150'\n",
    "df_matching_address['count_interaction_with_disperse'] = df_matching_address['address'].apply(lambda x: count_interaction_with_any(tx_analyser, x, [str.lower('0xD152f549545093347A162Dce210e7293f1452150')]))\n",
    "print(f'Percentage of addresses that interacted with disperse: {int((df_matching_address[\"count_interaction_with_disperse\"] > 0).sum() / len(df_matching_address) * 100)}%')"
   ]
  },
  {
   "cell_type": "code",
   "execution_count": 149,
   "metadata": {},
   "outputs": [
    {
     "data": {
      "text/html": [
       "<div>\n",
       "<style scoped>\n",
       "    .dataframe tbody tr th:only-of-type {\n",
       "        vertical-align: middle;\n",
       "    }\n",
       "\n",
       "    .dataframe tbody tr th {\n",
       "        vertical-align: top;\n",
       "    }\n",
       "\n",
       "    .dataframe thead th {\n",
       "        text-align: right;\n",
       "    }\n",
       "</style>\n",
       "<table border=\"1\" class=\"dataframe\">\n",
       "  <thead>\n",
       "    <tr style=\"text-align: right;\">\n",
       "      <th></th>\n",
       "      <th>count_interaction_with_pool</th>\n",
       "      <th>count_interaction_with_toxic</th>\n",
       "      <th>count_interaction_with_airdrop_m</th>\n",
       "      <th>count_interaction_with_tornado</th>\n",
       "      <th>count_interaction_with_disperse</th>\n",
       "    </tr>\n",
       "  </thead>\n",
       "  <tbody>\n",
       "    <tr>\n",
       "      <th>count</th>\n",
       "      <td>1848.000000</td>\n",
       "      <td>1848.000000</td>\n",
       "      <td>1848.000000</td>\n",
       "      <td>1848.000000</td>\n",
       "      <td>1848.000000</td>\n",
       "    </tr>\n",
       "    <tr>\n",
       "      <th>mean</th>\n",
       "      <td>6.633117</td>\n",
       "      <td>0.103355</td>\n",
       "      <td>2.301948</td>\n",
       "      <td>0.093074</td>\n",
       "      <td>0.103355</td>\n",
       "    </tr>\n",
       "    <tr>\n",
       "      <th>std</th>\n",
       "      <td>30.686755</td>\n",
       "      <td>1.635300</td>\n",
       "      <td>11.439479</td>\n",
       "      <td>1.012106</td>\n",
       "      <td>1.426651</td>\n",
       "    </tr>\n",
       "    <tr>\n",
       "      <th>min</th>\n",
       "      <td>0.000000</td>\n",
       "      <td>0.000000</td>\n",
       "      <td>0.000000</td>\n",
       "      <td>0.000000</td>\n",
       "      <td>0.000000</td>\n",
       "    </tr>\n",
       "    <tr>\n",
       "      <th>10%</th>\n",
       "      <td>0.000000</td>\n",
       "      <td>0.000000</td>\n",
       "      <td>0.000000</td>\n",
       "      <td>0.000000</td>\n",
       "      <td>0.000000</td>\n",
       "    </tr>\n",
       "    <tr>\n",
       "      <th>25%</th>\n",
       "      <td>0.000000</td>\n",
       "      <td>0.000000</td>\n",
       "      <td>0.000000</td>\n",
       "      <td>0.000000</td>\n",
       "      <td>0.000000</td>\n",
       "    </tr>\n",
       "    <tr>\n",
       "      <th>50%</th>\n",
       "      <td>0.000000</td>\n",
       "      <td>0.000000</td>\n",
       "      <td>0.000000</td>\n",
       "      <td>0.000000</td>\n",
       "      <td>0.000000</td>\n",
       "    </tr>\n",
       "    <tr>\n",
       "      <th>75%</th>\n",
       "      <td>3.000000</td>\n",
       "      <td>0.000000</td>\n",
       "      <td>0.000000</td>\n",
       "      <td>0.000000</td>\n",
       "      <td>0.000000</td>\n",
       "    </tr>\n",
       "    <tr>\n",
       "      <th>90%</th>\n",
       "      <td>12.000000</td>\n",
       "      <td>0.000000</td>\n",
       "      <td>4.000000</td>\n",
       "      <td>0.000000</td>\n",
       "      <td>0.000000</td>\n",
       "    </tr>\n",
       "    <tr>\n",
       "      <th>max</th>\n",
       "      <td>560.000000</td>\n",
       "      <td>56.000000</td>\n",
       "      <td>281.000000</td>\n",
       "      <td>26.000000</td>\n",
       "      <td>39.000000</td>\n",
       "    </tr>\n",
       "  </tbody>\n",
       "</table>\n",
       "</div>"
      ],
      "text/plain": [
       "       count_interaction_with_pool  count_interaction_with_toxic   \n",
       "count                  1848.000000                   1848.000000  \\\n",
       "mean                      6.633117                      0.103355   \n",
       "std                      30.686755                      1.635300   \n",
       "min                       0.000000                      0.000000   \n",
       "10%                       0.000000                      0.000000   \n",
       "25%                       0.000000                      0.000000   \n",
       "50%                       0.000000                      0.000000   \n",
       "75%                       3.000000                      0.000000   \n",
       "90%                      12.000000                      0.000000   \n",
       "max                     560.000000                     56.000000   \n",
       "\n",
       "       count_interaction_with_airdrop_m  count_interaction_with_tornado   \n",
       "count                       1848.000000                     1848.000000  \\\n",
       "mean                           2.301948                        0.093074   \n",
       "std                           11.439479                        1.012106   \n",
       "min                            0.000000                        0.000000   \n",
       "10%                            0.000000                        0.000000   \n",
       "25%                            0.000000                        0.000000   \n",
       "50%                            0.000000                        0.000000   \n",
       "75%                            0.000000                        0.000000   \n",
       "90%                            4.000000                        0.000000   \n",
       "max                          281.000000                       26.000000   \n",
       "\n",
       "       count_interaction_with_disperse  \n",
       "count                      1848.000000  \n",
       "mean                          0.103355  \n",
       "std                           1.426651  \n",
       "min                           0.000000  \n",
       "10%                           0.000000  \n",
       "25%                           0.000000  \n",
       "50%                           0.000000  \n",
       "75%                           0.000000  \n",
       "90%                           0.000000  \n",
       "max                          39.000000  "
      ]
     },
     "execution_count": 149,
     "metadata": {},
     "output_type": "execute_result"
    }
   ],
   "source": [
    "df_matching_address.describe(percentiles=[0.1, 0.25, 0.5, 0.75, 0.9])"
   ]
  },
  {
   "cell_type": "code",
   "execution_count": 150,
   "metadata": {},
   "outputs": [],
   "source": [
    "df_matching_address['has_interaction_toxic'] = df_matching_address['count_interaction_with_toxic'] > 0\n",
    "df_matching_address['has_no_pool_interaction'] = df_matching_address['count_interaction_with_pool'] < 6\n",
    "df_matching_address['has_interaction_airdrop_m'] = df_matching_address['count_interaction_with_airdrop_m'] > 0\n",
    "df_matching_address['has_interaction_tornado'] = df_matching_address['count_interaction_with_tornado'] > 0\n",
    "df_matching_address['has_interaction_disperse'] = df_matching_address['count_interaction_with_disperse'] > 0"
   ]
  },
  {
   "cell_type": "code",
   "execution_count": 151,
   "metadata": {},
   "outputs": [],
   "source": [
    "boolean_features = ['seed_suspicious', 'has_interaction_toxic', 'has_no_pool_interaction', 'has_interaction_airdrop_m', 'has_interaction_tornado', 'has_interaction_disperse', 'is_airdrop_master', 'interacted_other_ctbt']"
   ]
  },
  {
   "cell_type": "code",
   "execution_count": 152,
   "metadata": {},
   "outputs": [
    {
     "data": {
      "text/plain": [
       "seed_suspicious                42\n",
       "has_interaction_toxic          61\n",
       "has_no_pool_interaction      1532\n",
       "has_interaction_airdrop_m     321\n",
       "has_interaction_tornado        33\n",
       "has_interaction_disperse       31\n",
       "is_airdrop_master             122\n",
       "interacted_other_ctbt         320\n",
       "dtype: int64"
      ]
     },
     "execution_count": 152,
     "metadata": {},
     "output_type": "execute_result"
    }
   ],
   "source": [
    "df_matching_address[boolean_features].sum() "
   ]
  },
  {
   "cell_type": "code",
   "execution_count": 153,
   "metadata": {},
   "outputs": [
    {
     "data": {
      "text/plain": [
       "1848"
      ]
     },
     "execution_count": 153,
     "metadata": {},
     "output_type": "execute_result"
    }
   ],
   "source": [
    "len(df_matching_address)"
   ]
  },
  {
   "cell_type": "code",
   "execution_count": 154,
   "metadata": {},
   "outputs": [
    {
     "data": {
      "text/plain": [
       "155"
      ]
     },
     "execution_count": 154,
     "metadata": {},
     "output_type": "execute_result"
    }
   ],
   "source": [
    "(df_matching_address[boolean_features].sum(axis=1) > 2).sum()"
   ]
  },
  {
   "cell_type": "code",
   "execution_count": 155,
   "metadata": {},
   "outputs": [],
   "source": [
    "df_matching_address['count_flags'] = df_matching_address[boolean_features].sum(axis=1)"
   ]
  },
  {
   "cell_type": "code",
   "execution_count": 156,
   "metadata": {},
   "outputs": [],
   "source": [
    "df_matching_address['suspicious_1'] = df_matching_address['count_flags'] > 2"
   ]
  },
  {
   "cell_type": "code",
   "execution_count": 157,
   "metadata": {},
   "outputs": [],
   "source": [
    "df_suspicious_1 = df_matching_address[df_matching_address['suspicious_1'] == True]"
   ]
  },
  {
   "attachments": {},
   "cell_type": "markdown",
   "metadata": {},
   "source": [
    "### Investigating the grants receiving the most votes from the flagged addresses"
   ]
  },
  {
   "cell_type": "code",
   "execution_count": 158,
   "metadata": {},
   "outputs": [],
   "source": [
    "df_vote_sus1 = df_votes[df_votes['voter'].isin(df_suspicious_1['address'])]\n",
    "count_unique_vote_grant = df_votes.drop_duplicates(subset=['grantAddress', 'voter']).groupby('grantAddress')['id'].count().sort_values(ascending=False).reset_index()\n",
    "count_suspicious_vote_grant = df_vote_sus1['grantAddress'].value_counts().reset_index()\n",
    "df_vote_grant = count_unique_vote_grant.merge(count_suspicious_vote_grant, left_on='grantAddress', right_on='grantAddress', how='left').fillna(0).rename(columns={'id': 'count_unique_vote', 'count': 'count_suspicious_vote'})"
   ]
  },
  {
   "cell_type": "code",
   "execution_count": 159,
   "metadata": {},
   "outputs": [
    {
     "name": "stdout",
     "output_type": "stream",
     "text": [
      "Number of suspicious votes 500 Number of projects voted: 12\n",
      "number of grants: 12\n"
     ]
    },
    {
     "data": {
      "text/html": [
       "<div>\n",
       "<style scoped>\n",
       "    .dataframe tbody tr th:only-of-type {\n",
       "        vertical-align: middle;\n",
       "    }\n",
       "\n",
       "    .dataframe tbody tr th {\n",
       "        vertical-align: top;\n",
       "    }\n",
       "\n",
       "    .dataframe thead th {\n",
       "        text-align: right;\n",
       "    }\n",
       "</style>\n",
       "<table border=\"1\" class=\"dataframe\">\n",
       "  <thead>\n",
       "    <tr style=\"text-align: right;\">\n",
       "      <th></th>\n",
       "      <th>grantAddress</th>\n",
       "      <th>metadata.application.project.title</th>\n",
       "      <th>percentage_suspicious_vote</th>\n",
       "      <th>count_suspicious_vote</th>\n",
       "      <th>roundId</th>\n",
       "      <th>status</th>\n",
       "    </tr>\n",
       "  </thead>\n",
       "  <tbody>\n",
       "    <tr>\n",
       "      <th>11</th>\n",
       "      <td>0x52277e5cf8df8ef51d9bd37d8d7553a72d378bef</td>\n",
       "      <td>Trustless zkMafia</td>\n",
       "      <td>9.523810</td>\n",
       "      <td>28</td>\n",
       "      <td>0x274554eb289004e15a7679123901b7f070dda0fa</td>\n",
       "      <td>APPROVED</td>\n",
       "    </tr>\n",
       "    <tr>\n",
       "      <th>0</th>\n",
       "      <td>0x73dce9348a03975415c6fa5296e71c1abae61407</td>\n",
       "      <td>zkBob</td>\n",
       "      <td>7.305503</td>\n",
       "      <td>77</td>\n",
       "      <td>0x274554eb289004e15a7679123901b7f070dda0fa</td>\n",
       "      <td>APPROVED</td>\n",
       "    </tr>\n",
       "    <tr>\n",
       "      <th>10</th>\n",
       "      <td>0x0b0e6486648fbbb8e9ab33e3ae9d0b44b6faa701</td>\n",
       "      <td>Zero Knowledge Podcast</td>\n",
       "      <td>7.291667</td>\n",
       "      <td>28</td>\n",
       "      <td>0x274554eb289004e15a7679123901b7f070dda0fa</td>\n",
       "      <td>APPROVED</td>\n",
       "    </tr>\n",
       "    <tr>\n",
       "      <th>3</th>\n",
       "      <td>0x09dcfde0fff76ced37a78de5e7008e7401f92b3b</td>\n",
       "      <td>Proof of Innocence</td>\n",
       "      <td>6.633907</td>\n",
       "      <td>54</td>\n",
       "      <td>0x274554eb289004e15a7679123901b7f070dda0fa</td>\n",
       "      <td>APPROVED</td>\n",
       "    </tr>\n",
       "    <tr>\n",
       "      <th>1</th>\n",
       "      <td>0xe72ad4f94827abc45ed2bc02197fd6c091930492</td>\n",
       "      <td>Halo2 Backend for Noir</td>\n",
       "      <td>6.368715</td>\n",
       "      <td>57</td>\n",
       "      <td>0x12bb5bbbfe596dbc489d209299b8302c3300fa40</td>\n",
       "      <td>REJECTED</td>\n",
       "    </tr>\n",
       "    <tr>\n",
       "      <th>4</th>\n",
       "      <td>0xa0f92821c3ac20fa71a701efc5ca5d3c82e29fee</td>\n",
       "      <td>4EVERLAND</td>\n",
       "      <td>5.968170</td>\n",
       "      <td>45</td>\n",
       "      <td>0x274554eb289004e15a7679123901b7f070dda0fa</td>\n",
       "      <td>APPROVED</td>\n",
       "    </tr>\n",
       "    <tr>\n",
       "      <th>5</th>\n",
       "      <td>0x986dd13ccab3b637032ebedd30ef8a7fea4d6184</td>\n",
       "      <td>Sprintcheckout</td>\n",
       "      <td>5.722071</td>\n",
       "      <td>42</td>\n",
       "      <td>0x274554eb289004e15a7679123901b7f070dda0fa</td>\n",
       "      <td>APPROVED</td>\n",
       "    </tr>\n",
       "    <tr>\n",
       "      <th>2</th>\n",
       "      <td>0x947f8a49640b4770a8c7fe3c1e69ffc974295448</td>\n",
       "      <td>ZeroPool</td>\n",
       "      <td>5.587893</td>\n",
       "      <td>48</td>\n",
       "      <td>0x274554eb289004e15a7679123901b7f070dda0fa</td>\n",
       "      <td>APPROVED</td>\n",
       "    </tr>\n",
       "    <tr>\n",
       "      <th>6</th>\n",
       "      <td>0x5b3920527cfe207100312f4685e048ee032fa391</td>\n",
       "      <td>zkREPL</td>\n",
       "      <td>4.993065</td>\n",
       "      <td>36</td>\n",
       "      <td>0x274554eb289004e15a7679123901b7f070dda0fa</td>\n",
       "      <td>APPROVED</td>\n",
       "    </tr>\n",
       "    <tr>\n",
       "      <th>7</th>\n",
       "      <td>0x535bae5d2b5c41d186a9a9983904bcfab4732836</td>\n",
       "      <td>EZKL</td>\n",
       "      <td>4.910714</td>\n",
       "      <td>33</td>\n",
       "      <td>0x274554eb289004e15a7679123901b7f070dda0fa</td>\n",
       "      <td>APPROVED</td>\n",
       "    </tr>\n",
       "    <tr>\n",
       "      <th>8</th>\n",
       "      <td>0x23ada6e6a9e9d4ecddd185e3ec353163bceebf2a</td>\n",
       "      <td>PLUME: Pseudonymously Linked Unique Message En...</td>\n",
       "      <td>4.761905</td>\n",
       "      <td>31</td>\n",
       "      <td>0x274554eb289004e15a7679123901b7f070dda0fa</td>\n",
       "      <td>APPROVED</td>\n",
       "    </tr>\n",
       "    <tr>\n",
       "      <th>9</th>\n",
       "      <td>0x5e1b920d26abbed943b4e0f91b3ad373e7519b41</td>\n",
       "      <td>Switch Electric: Maxwell</td>\n",
       "      <td>3.790614</td>\n",
       "      <td>21</td>\n",
       "      <td>0x274554eb289004e15a7679123901b7f070dda0fa</td>\n",
       "      <td>APPROVED</td>\n",
       "    </tr>\n",
       "  </tbody>\n",
       "</table>\n",
       "</div>"
      ],
      "text/plain": [
       "                                  grantAddress   \n",
       "11  0x52277e5cf8df8ef51d9bd37d8d7553a72d378bef  \\\n",
       "0   0x73dce9348a03975415c6fa5296e71c1abae61407   \n",
       "10  0x0b0e6486648fbbb8e9ab33e3ae9d0b44b6faa701   \n",
       "3   0x09dcfde0fff76ced37a78de5e7008e7401f92b3b   \n",
       "1   0xe72ad4f94827abc45ed2bc02197fd6c091930492   \n",
       "4   0xa0f92821c3ac20fa71a701efc5ca5d3c82e29fee   \n",
       "5   0x986dd13ccab3b637032ebedd30ef8a7fea4d6184   \n",
       "2   0x947f8a49640b4770a8c7fe3c1e69ffc974295448   \n",
       "6   0x5b3920527cfe207100312f4685e048ee032fa391   \n",
       "7   0x535bae5d2b5c41d186a9a9983904bcfab4732836   \n",
       "8   0x23ada6e6a9e9d4ecddd185e3ec353163bceebf2a   \n",
       "9   0x5e1b920d26abbed943b4e0f91b3ad373e7519b41   \n",
       "\n",
       "                   metadata.application.project.title   \n",
       "11                                  Trustless zkMafia  \\\n",
       "0                                               zkBob   \n",
       "10                             Zero Knowledge Podcast   \n",
       "3                                  Proof of Innocence   \n",
       "1                              Halo2 Backend for Noir   \n",
       "4                                           4EVERLAND   \n",
       "5                                      Sprintcheckout   \n",
       "2                                            ZeroPool   \n",
       "6                                              zkREPL   \n",
       "7                                                EZKL   \n",
       "8   PLUME: Pseudonymously Linked Unique Message En...   \n",
       "9                            Switch Electric: Maxwell   \n",
       "\n",
       "    percentage_suspicious_vote  count_suspicious_vote   \n",
       "11                    9.523810                     28  \\\n",
       "0                     7.305503                     77   \n",
       "10                    7.291667                     28   \n",
       "3                     6.633907                     54   \n",
       "1                     6.368715                     57   \n",
       "4                     5.968170                     45   \n",
       "5                     5.722071                     42   \n",
       "2                     5.587893                     48   \n",
       "6                     4.993065                     36   \n",
       "7                     4.910714                     33   \n",
       "8                     4.761905                     31   \n",
       "9                     3.790614                     21   \n",
       "\n",
       "                                       roundId    status  \n",
       "11  0x274554eb289004e15a7679123901b7f070dda0fa  APPROVED  \n",
       "0   0x274554eb289004e15a7679123901b7f070dda0fa  APPROVED  \n",
       "10  0x274554eb289004e15a7679123901b7f070dda0fa  APPROVED  \n",
       "3   0x274554eb289004e15a7679123901b7f070dda0fa  APPROVED  \n",
       "1   0x12bb5bbbfe596dbc489d209299b8302c3300fa40  REJECTED  \n",
       "4   0x274554eb289004e15a7679123901b7f070dda0fa  APPROVED  \n",
       "5   0x274554eb289004e15a7679123901b7f070dda0fa  APPROVED  \n",
       "2   0x274554eb289004e15a7679123901b7f070dda0fa  APPROVED  \n",
       "6   0x274554eb289004e15a7679123901b7f070dda0fa  APPROVED  \n",
       "7   0x274554eb289004e15a7679123901b7f070dda0fa  APPROVED  \n",
       "8   0x274554eb289004e15a7679123901b7f070dda0fa  APPROVED  \n",
       "9   0x274554eb289004e15a7679123901b7f070dda0fa  APPROVED  "
      ]
     },
     "execution_count": 159,
     "metadata": {},
     "output_type": "execute_result"
    }
   ],
   "source": [
    "df_vote_grant['percentage_suspicious_vote'] = df_vote_grant['count_suspicious_vote'] / df_vote_grant['count_unique_vote'] * 100\n",
    "print(f'Number of suspicious votes {df_vote_sus1.shape[0]} Number of projects voted: {df_vote_sus1.grantAddress.nunique()}')\n",
    "# Merge the project the user voted for and the projects \n",
    "gr_sus = df_vote_grant.merge(df_application, left_on='grantAddress', right_on='metadata.application.recipient', how='left').drop_duplicates(subset='grantAddress').loc[:, ['grantAddress', 'metadata.application.project.title', 'percentage_suspicious_vote', 'count_suspicious_vote', 'roundId', 'status']].reset_index(drop=True).sort_values(by='percentage_suspicious_vote', ascending=False)\n",
    "print(f'number of grants: {gr_sus.shape[0]}')\n",
    "gr_sus.head(30)"
   ]
  },
  {
   "attachments": {},
   "cell_type": "markdown",
   "metadata": {},
   "source": [
    "### Look at the addresses with at least one flag"
   ]
  },
  {
   "attachments": {},
   "cell_type": "markdown",
   "metadata": {},
   "source": [
    "We are going to review the addresses that have at least 1 flag:\n",
    "- has_intercation_toxic \n",
    "- has_interaction_disperse\n",
    "- has_interaction_airdrop_master\n",
    "- is airdrop master\n",
    "- seed suspicious\n",
    "- interacted with other contributor and less than 5 tx\n",
    "\n",
    "I decided to remove tornado cash because someone can be anonimous with out being a sybil"
   ]
  },
  {
   "cell_type": "code",
   "execution_count": 160,
   "metadata": {},
   "outputs": [],
   "source": [
    "df_matching_address['interact_less_5tx'] = np.logical_and(df_matching_address['interacted_other_ctbt'], df_matching_address['less_5_tx'])"
   ]
  },
  {
   "cell_type": "code",
   "execution_count": 161,
   "metadata": {},
   "outputs": [],
   "source": [
    "interaction_bool = ['has_interaction_toxic', 'has_interaction_airdrop_m', 'has_interaction_disperse', 'is_airdrop_master', 'seed_suspicious', 'interact_less_5tx']"
   ]
  },
  {
   "cell_type": "code",
   "execution_count": 162,
   "metadata": {},
   "outputs": [
    {
     "data": {
      "text/plain": [
       "has_interaction_toxic         61\n",
       "has_interaction_airdrop_m    321\n",
       "has_interaction_disperse      31\n",
       "is_airdrop_master            122\n",
       "seed_suspicious               42\n",
       "interact_less_5tx              0\n",
       "dtype: int64"
      ]
     },
     "execution_count": 162,
     "metadata": {},
     "output_type": "execute_result"
    }
   ],
   "source": [
    "df_matching_address[interaction_bool].sum()"
   ]
  },
  {
   "cell_type": "code",
   "execution_count": 163,
   "metadata": {},
   "outputs": [
    {
     "data": {
      "text/html": [
       "<div>\n",
       "<style scoped>\n",
       "    .dataframe tbody tr th:only-of-type {\n",
       "        vertical-align: middle;\n",
       "    }\n",
       "\n",
       "    .dataframe tbody tr th {\n",
       "        vertical-align: top;\n",
       "    }\n",
       "\n",
       "    .dataframe thead th {\n",
       "        text-align: right;\n",
       "    }\n",
       "</style>\n",
       "<table border=\"1\" class=\"dataframe\">\n",
       "  <thead>\n",
       "    <tr style=\"text-align: right;\">\n",
       "      <th></th>\n",
       "      <th>has_interaction_toxic</th>\n",
       "      <th>has_interaction_airdrop_m</th>\n",
       "      <th>has_interaction_disperse</th>\n",
       "      <th>is_airdrop_master</th>\n",
       "      <th>seed_suspicious</th>\n",
       "      <th>interact_less_5tx</th>\n",
       "    </tr>\n",
       "  </thead>\n",
       "  <tbody>\n",
       "    <tr>\n",
       "      <th>has_interaction_toxic</th>\n",
       "      <td>1.000000</td>\n",
       "      <td>0.110465</td>\n",
       "      <td>0.095238</td>\n",
       "      <td>0.076471</td>\n",
       "      <td>0.009804</td>\n",
       "      <td>0.0</td>\n",
       "    </tr>\n",
       "    <tr>\n",
       "      <th>has_interaction_airdrop_m</th>\n",
       "      <td>0.110465</td>\n",
       "      <td>1.000000</td>\n",
       "      <td>0.050746</td>\n",
       "      <td>0.338369</td>\n",
       "      <td>0.013966</td>\n",
       "      <td>0.0</td>\n",
       "    </tr>\n",
       "    <tr>\n",
       "      <th>has_interaction_disperse</th>\n",
       "      <td>0.095238</td>\n",
       "      <td>0.050746</td>\n",
       "      <td>1.000000</td>\n",
       "      <td>0.062500</td>\n",
       "      <td>0.000000</td>\n",
       "      <td>0.0</td>\n",
       "    </tr>\n",
       "    <tr>\n",
       "      <th>is_airdrop_master</th>\n",
       "      <td>0.076471</td>\n",
       "      <td>0.338369</td>\n",
       "      <td>0.062500</td>\n",
       "      <td>1.000000</td>\n",
       "      <td>0.000000</td>\n",
       "      <td>0.0</td>\n",
       "    </tr>\n",
       "    <tr>\n",
       "      <th>seed_suspicious</th>\n",
       "      <td>0.009804</td>\n",
       "      <td>0.013966</td>\n",
       "      <td>0.000000</td>\n",
       "      <td>0.000000</td>\n",
       "      <td>1.000000</td>\n",
       "      <td>0.0</td>\n",
       "    </tr>\n",
       "    <tr>\n",
       "      <th>interact_less_5tx</th>\n",
       "      <td>0.000000</td>\n",
       "      <td>0.000000</td>\n",
       "      <td>0.000000</td>\n",
       "      <td>0.000000</td>\n",
       "      <td>0.000000</td>\n",
       "      <td>1.0</td>\n",
       "    </tr>\n",
       "  </tbody>\n",
       "</table>\n",
       "</div>"
      ],
      "text/plain": [
       "                           has_interaction_toxic  has_interaction_airdrop_m   \n",
       "has_interaction_toxic                   1.000000                   0.110465  \\\n",
       "has_interaction_airdrop_m               0.110465                   1.000000   \n",
       "has_interaction_disperse                0.095238                   0.050746   \n",
       "is_airdrop_master                       0.076471                   0.338369   \n",
       "seed_suspicious                         0.009804                   0.013966   \n",
       "interact_less_5tx                       0.000000                   0.000000   \n",
       "\n",
       "                           has_interaction_disperse  is_airdrop_master   \n",
       "has_interaction_toxic                      0.095238           0.076471  \\\n",
       "has_interaction_airdrop_m                  0.050746           0.338369   \n",
       "has_interaction_disperse                   1.000000           0.062500   \n",
       "is_airdrop_master                          0.062500           1.000000   \n",
       "seed_suspicious                            0.000000           0.000000   \n",
       "interact_less_5tx                          0.000000           0.000000   \n",
       "\n",
       "                           seed_suspicious  interact_less_5tx  \n",
       "has_interaction_toxic             0.009804                0.0  \n",
       "has_interaction_airdrop_m         0.013966                0.0  \n",
       "has_interaction_disperse          0.000000                0.0  \n",
       "is_airdrop_master                 0.000000                0.0  \n",
       "seed_suspicious                   1.000000                0.0  \n",
       "interact_less_5tx                 0.000000                1.0  "
      ]
     },
     "execution_count": 163,
     "metadata": {},
     "output_type": "execute_result"
    }
   ],
   "source": [
    "from scipy.spatial.distance import pdist\n",
    "\n",
    "def jaccard_similarity_matrix(df):\n",
    "    \n",
    "    n = df.shape[1]\n",
    "    scores = 1 - pdist(np.array(df).T, metric='jaccard')\n",
    "    result = np.zeros((n,n))\n",
    "    result[np.triu_indices(n, k=1)] = scores\n",
    "    result += result.T\n",
    "    np.fill_diagonal(result, 1)\n",
    "    return pd.DataFrame(result, index=df.columns, columns=df.columns)\n",
    "\n",
    "jaccard_similarity = jaccard_similarity_matrix(df_matching_address[interaction_bool])\n",
    "jaccard_similarity"
   ]
  },
  {
   "cell_type": "code",
   "execution_count": 164,
   "metadata": {},
   "outputs": [
    {
     "data": {
      "text/plain": [
       "<Axes: >"
      ]
     },
     "execution_count": 164,
     "metadata": {},
     "output_type": "execute_result"
    },
    {
     "data": {
      "image/png": "[encoded data removed]",
      "text/plain": [
       "<Figure size 640x480 with 2 Axes>"
      ]
     },
     "metadata": {},
     "output_type": "display_data"
    }
   ],
   "source": [
    "import seaborn as sns\n",
    "sns.heatmap(jaccard_similarity, annot=True)"
   ]
  },
  {
   "cell_type": "code",
   "execution_count": 165,
   "metadata": {},
   "outputs": [
    {
     "name": "stdout",
     "output_type": "stream",
     "text": [
      "Number of addresses that interacted with a suspicious contract or address: 401\n"
     ]
    }
   ],
   "source": [
    "df_matching_address['flagged'] = df_matching_address[interaction_bool].sum(axis=1) > 0\n",
    "df_interact_sus_2 = df_matching_address[df_matching_address['flagged'] == True]\n",
    "print(f'Number of addresses that interacted with a suspicious contract or address: {df_interact_sus_2.shape[0]}')"
   ]
  },
  {
   "cell_type": "code",
   "execution_count": 166,
   "metadata": {},
   "outputs": [],
   "source": [
    "df_vote_sus_2 = df_votes[df_votes['voter'].isin(df_interact_sus_2['address'])]\n",
    "# count_unique_vote_grant = df_votes.drop_duplicates(subset=['grantAddress', 'voter']).groupby('grantAddress')['id'].count().sort_values(ascending=False).reset_index().head(10)\n",
    "count_suspicious_vote_grant_2 = df_vote_sus_2['grantAddress'].value_counts().reset_index()\n",
    "df_vote_grant_2 = count_unique_vote_grant.merge(count_suspicious_vote_grant_2, left_on='grantAddress', right_on='grantAddress', how='left').fillna(0).rename(columns={'id': 'count_unique_vote', 'count': 'count_suspicious_vote'})"
   ]
  },
  {
   "cell_type": "code",
   "execution_count": 167,
   "metadata": {},
   "outputs": [
    {
     "name": "stdout",
     "output_type": "stream",
     "text": [
      "Number of suspicious votes 1467 Number of projects voted: 12\n",
      "number of grants: 12\n"
     ]
    },
    {
     "data": {
      "text/html": [
       "<div>\n",
       "<style scoped>\n",
       "    .dataframe tbody tr th:only-of-type {\n",
       "        vertical-align: middle;\n",
       "    }\n",
       "\n",
       "    .dataframe tbody tr th {\n",
       "        vertical-align: top;\n",
       "    }\n",
       "\n",
       "    .dataframe thead th {\n",
       "        text-align: right;\n",
       "    }\n",
       "</style>\n",
       "<table border=\"1\" class=\"dataframe\">\n",
       "  <thead>\n",
       "    <tr style=\"text-align: right;\">\n",
       "      <th></th>\n",
       "      <th>grantAddress</th>\n",
       "      <th>metadata.application.project.title</th>\n",
       "      <th>percentage_suspicious_vote</th>\n",
       "      <th>count_suspicious_vote</th>\n",
       "      <th>roundId</th>\n",
       "      <th>status</th>\n",
       "    </tr>\n",
       "  </thead>\n",
       "  <tbody>\n",
       "    <tr>\n",
       "      <th>11</th>\n",
       "      <td>0x52277e5cf8df8ef51d9bd37d8d7553a72d378bef</td>\n",
       "      <td>Trustless zkMafia</td>\n",
       "      <td>24.149660</td>\n",
       "      <td>71</td>\n",
       "      <td>0x274554eb289004e15a7679123901b7f070dda0fa</td>\n",
       "      <td>APPROVED</td>\n",
       "    </tr>\n",
       "    <tr>\n",
       "      <th>10</th>\n",
       "      <td>0x0b0e6486648fbbb8e9ab33e3ae9d0b44b6faa701</td>\n",
       "      <td>Zero Knowledge Podcast</td>\n",
       "      <td>21.614583</td>\n",
       "      <td>83</td>\n",
       "      <td>0x274554eb289004e15a7679123901b7f070dda0fa</td>\n",
       "      <td>APPROVED</td>\n",
       "    </tr>\n",
       "    <tr>\n",
       "      <th>0</th>\n",
       "      <td>0x73dce9348a03975415c6fa5296e71c1abae61407</td>\n",
       "      <td>zkBob</td>\n",
       "      <td>19.544592</td>\n",
       "      <td>206</td>\n",
       "      <td>0x274554eb289004e15a7679123901b7f070dda0fa</td>\n",
       "      <td>APPROVED</td>\n",
       "    </tr>\n",
       "    <tr>\n",
       "      <th>3</th>\n",
       "      <td>0x09dcfde0fff76ced37a78de5e7008e7401f92b3b</td>\n",
       "      <td>Proof of Innocence</td>\n",
       "      <td>19.410319</td>\n",
       "      <td>158</td>\n",
       "      <td>0x274554eb289004e15a7679123901b7f070dda0fa</td>\n",
       "      <td>APPROVED</td>\n",
       "    </tr>\n",
       "    <tr>\n",
       "      <th>4</th>\n",
       "      <td>0xa0f92821c3ac20fa71a701efc5ca5d3c82e29fee</td>\n",
       "      <td>4EVERLAND</td>\n",
       "      <td>17.904509</td>\n",
       "      <td>135</td>\n",
       "      <td>0x274554eb289004e15a7679123901b7f070dda0fa</td>\n",
       "      <td>APPROVED</td>\n",
       "    </tr>\n",
       "    <tr>\n",
       "      <th>1</th>\n",
       "      <td>0xe72ad4f94827abc45ed2bc02197fd6c091930492</td>\n",
       "      <td>Halo2 Backend for Noir</td>\n",
       "      <td>17.430168</td>\n",
       "      <td>156</td>\n",
       "      <td>0x12bb5bbbfe596dbc489d209299b8302c3300fa40</td>\n",
       "      <td>REJECTED</td>\n",
       "    </tr>\n",
       "    <tr>\n",
       "      <th>5</th>\n",
       "      <td>0x986dd13ccab3b637032ebedd30ef8a7fea4d6184</td>\n",
       "      <td>Sprintcheckout</td>\n",
       "      <td>17.029973</td>\n",
       "      <td>125</td>\n",
       "      <td>0x274554eb289004e15a7679123901b7f070dda0fa</td>\n",
       "      <td>APPROVED</td>\n",
       "    </tr>\n",
       "    <tr>\n",
       "      <th>2</th>\n",
       "      <td>0x947f8a49640b4770a8c7fe3c1e69ffc974295448</td>\n",
       "      <td>ZeroPool</td>\n",
       "      <td>16.763679</td>\n",
       "      <td>144</td>\n",
       "      <td>0x274554eb289004e15a7679123901b7f070dda0fa</td>\n",
       "      <td>APPROVED</td>\n",
       "    </tr>\n",
       "    <tr>\n",
       "      <th>8</th>\n",
       "      <td>0x23ada6e6a9e9d4ecddd185e3ec353163bceebf2a</td>\n",
       "      <td>PLUME: Pseudonymously Linked Unique Message En...</td>\n",
       "      <td>16.129032</td>\n",
       "      <td>105</td>\n",
       "      <td>0x274554eb289004e15a7679123901b7f070dda0fa</td>\n",
       "      <td>APPROVED</td>\n",
       "    </tr>\n",
       "    <tr>\n",
       "      <th>6</th>\n",
       "      <td>0x5b3920527cfe207100312f4685e048ee032fa391</td>\n",
       "      <td>zkREPL</td>\n",
       "      <td>15.395284</td>\n",
       "      <td>111</td>\n",
       "      <td>0x274554eb289004e15a7679123901b7f070dda0fa</td>\n",
       "      <td>APPROVED</td>\n",
       "    </tr>\n",
       "    <tr>\n",
       "      <th>7</th>\n",
       "      <td>0x535bae5d2b5c41d186a9a9983904bcfab4732836</td>\n",
       "      <td>EZKL</td>\n",
       "      <td>14.880952</td>\n",
       "      <td>100</td>\n",
       "      <td>0x274554eb289004e15a7679123901b7f070dda0fa</td>\n",
       "      <td>APPROVED</td>\n",
       "    </tr>\n",
       "    <tr>\n",
       "      <th>9</th>\n",
       "      <td>0x5e1b920d26abbed943b4e0f91b3ad373e7519b41</td>\n",
       "      <td>Switch Electric: Maxwell</td>\n",
       "      <td>13.176895</td>\n",
       "      <td>73</td>\n",
       "      <td>0x274554eb289004e15a7679123901b7f070dda0fa</td>\n",
       "      <td>APPROVED</td>\n",
       "    </tr>\n",
       "  </tbody>\n",
       "</table>\n",
       "</div>"
      ],
      "text/plain": [
       "                                  grantAddress   \n",
       "11  0x52277e5cf8df8ef51d9bd37d8d7553a72d378bef  \\\n",
       "10  0x0b0e6486648fbbb8e9ab33e3ae9d0b44b6faa701   \n",
       "0   0x73dce9348a03975415c6fa5296e71c1abae61407   \n",
       "3   0x09dcfde0fff76ced37a78de5e7008e7401f92b3b   \n",
       "4   0xa0f92821c3ac20fa71a701efc5ca5d3c82e29fee   \n",
       "1   0xe72ad4f94827abc45ed2bc02197fd6c091930492   \n",
       "5   0x986dd13ccab3b637032ebedd30ef8a7fea4d6184   \n",
       "2   0x947f8a49640b4770a8c7fe3c1e69ffc974295448   \n",
       "8   0x23ada6e6a9e9d4ecddd185e3ec353163bceebf2a   \n",
       "6   0x5b3920527cfe207100312f4685e048ee032fa391   \n",
       "7   0x535bae5d2b5c41d186a9a9983904bcfab4732836   \n",
       "9   0x5e1b920d26abbed943b4e0f91b3ad373e7519b41   \n",
       "\n",
       "                   metadata.application.project.title   \n",
       "11                                  Trustless zkMafia  \\\n",
       "10                             Zero Knowledge Podcast   \n",
       "0                                               zkBob   \n",
       "3                                  Proof of Innocence   \n",
       "4                                           4EVERLAND   \n",
       "1                              Halo2 Backend for Noir   \n",
       "5                                      Sprintcheckout   \n",
       "2                                            ZeroPool   \n",
       "8   PLUME: Pseudonymously Linked Unique Message En...   \n",
       "6                                              zkREPL   \n",
       "7                                                EZKL   \n",
       "9                            Switch Electric: Maxwell   \n",
       "\n",
       "    percentage_suspicious_vote  count_suspicious_vote   \n",
       "11                   24.149660                     71  \\\n",
       "10                   21.614583                     83   \n",
       "0                    19.544592                    206   \n",
       "3                    19.410319                    158   \n",
       "4                    17.904509                    135   \n",
       "1                    17.430168                    156   \n",
       "5                    17.029973                    125   \n",
       "2                    16.763679                    144   \n",
       "8                    16.129032                    105   \n",
       "6                    15.395284                    111   \n",
       "7                    14.880952                    100   \n",
       "9                    13.176895                     73   \n",
       "\n",
       "                                       roundId    status  \n",
       "11  0x274554eb289004e15a7679123901b7f070dda0fa  APPROVED  \n",
       "10  0x274554eb289004e15a7679123901b7f070dda0fa  APPROVED  \n",
       "0   0x274554eb289004e15a7679123901b7f070dda0fa  APPROVED  \n",
       "3   0x274554eb289004e15a7679123901b7f070dda0fa  APPROVED  \n",
       "4   0x274554eb289004e15a7679123901b7f070dda0fa  APPROVED  \n",
       "1   0x12bb5bbbfe596dbc489d209299b8302c3300fa40  REJECTED  \n",
       "5   0x274554eb289004e15a7679123901b7f070dda0fa  APPROVED  \n",
       "2   0x274554eb289004e15a7679123901b7f070dda0fa  APPROVED  \n",
       "8   0x274554eb289004e15a7679123901b7f070dda0fa  APPROVED  \n",
       "6   0x274554eb289004e15a7679123901b7f070dda0fa  APPROVED  \n",
       "7   0x274554eb289004e15a7679123901b7f070dda0fa  APPROVED  \n",
       "9   0x274554eb289004e15a7679123901b7f070dda0fa  APPROVED  "
      ]
     },
     "execution_count": 167,
     "metadata": {},
     "output_type": "execute_result"
    }
   ],
   "source": [
    "df_vote_grant_2['percentage_suspicious_vote'] = df_vote_grant_2['count_suspicious_vote'] / df_vote_grant_2['count_unique_vote'] * 100\n",
    "print(f'Number of suspicious votes {df_vote_sus_2.shape[0]} Number of projects voted: {df_vote_sus_2.grantAddress.nunique()}')\n",
    "# Merge the project the user voted for and the projects \n",
    "gr_sus_2 = df_vote_grant_2.merge(df_application, left_on='grantAddress', right_on='metadata.application.recipient', how='left').drop_duplicates(subset='grantAddress').loc[:, ['grantAddress', 'metadata.application.project.title', 'percentage_suspicious_vote', 'count_suspicious_vote', 'roundId', 'status']].reset_index(drop=True).sort_values(by='percentage_suspicious_vote', ascending=False)\n",
    "print(f'number of grants: {gr_sus.shape[0]}')\n",
    "gr_sus_2.head(30)"
   ]
  },
  {
   "cell_type": "code",
   "execution_count": 168,
   "metadata": {},
   "outputs": [],
   "source": [
    "boolean_to_keep = ['seed_suspicious', 'has_interaction_toxic', 'has_no_pool_interaction', 'has_interaction_tornado', 'has_interaction_disperse', 'is_airdrop_master', 'has_interaction_airdrop_m', 'interacted_other_ctbt', 'interact_less_5tx', 'flagged']"
   ]
  },
  {
   "cell_type": "code",
   "execution_count": 169,
   "metadata": {},
   "outputs": [
    {
     "data": {
      "text/plain": [
       "seed_suspicious                42\n",
       "has_interaction_toxic          61\n",
       "has_no_pool_interaction      1532\n",
       "has_interaction_tornado        33\n",
       "has_interaction_disperse       31\n",
       "is_airdrop_master             122\n",
       "has_interaction_airdrop_m     321\n",
       "interacted_other_ctbt         320\n",
       "interact_less_5tx               0\n",
       "flagged                       401\n",
       "dtype: int64"
      ]
     },
     "execution_count": 169,
     "metadata": {},
     "output_type": "execute_result"
    }
   ],
   "source": [
    "df_matching_address[boolean_to_keep].sum()"
   ]
  },
  {
   "cell_type": "code",
   "execution_count": null,
   "metadata": {},
   "outputs": [],
   "source": [
    "df_votes.shape"
   ]
  },
  {
   "cell_type": "code",
   "execution_count": 170,
   "metadata": {},
   "outputs": [
    {
     "name": "stdout",
     "output_type": "stream",
     "text": [
      "number of squelched votes out of 8605\n"
     ]
    },
    {
     "data": {
      "text/plain": [
       "coefficient    637\n",
       "dtype: int64"
      ]
     },
     "execution_count": 170,
     "metadata": {},
     "output_type": "execute_result"
    }
   ],
   "source": [
    "final_merge = df_votes.merge(df_matching_address[boolean_to_keep + ['address']], left_on='voter', right_on='address', how='left')\n",
    "print(f'number of squelched votes out of {final_merge.shape[0]}')\n",
    "final_merge.shape[0] - final_merge[['coefficient']].sum() "
   ]
  },
  {
   "cell_type": "code",
   "execution_count": 171,
   "metadata": {},
   "outputs": [
    {
     "name": "stdout",
     "output_type": "stream",
     "text": [
      "(8605, 16)\n",
      "(8605, 27)\n"
     ]
    }
   ],
   "source": [
    "print(df_votes.shape)\n",
    "print(final_merge.shape)"
   ]
  },
  {
   "cell_type": "code",
   "execution_count": 188,
   "metadata": {},
   "outputs": [
    {
     "name": "stderr",
     "output_type": "stream",
     "text": [
      "C:\\Users\\DELL Admin\\AppData\\Local\\Temp\\ipykernel_1800\\2681738413.py:7: DtypeWarning: Columns (15,16) have mixed types. Specify dtype option on import or set low_memory=False.\n",
      "  df_votes_stephi = pd.read_csv(os.path.join(DATA_DIR_STEFI, CSV_STEPHI))\n"
     ]
    },
    {
     "name": "stdout",
     "output_type": "stream",
     "text": [
      "(81811, 19) votes stephi\n",
      "(8605, 27) final merge\n",
      "(8605, 29) votes merge\n"
     ]
    },
    {
     "data": {
      "image/png": "[encoded data removed]",
      "text/plain": [
       "<Figure size 640x480 with 2 Axes>"
      ]
     },
     "metadata": {},
     "output_type": "display_data"
    }
   ],
   "source": [
    "# Adding Stakeriddo and Gray flagged wallet\n",
    "\n",
    "DATA_DIR_STEFI = os.path.join(current_dir.parent.parent, 'stefi')\n",
    "CSV_STEPHI = 'sso_odc_analysis.csv'\n",
    "\n",
    "# load data\n",
    "df_votes_stephi = pd.read_csv(os.path.join(DATA_DIR_STEFI, CSV_STEPHI))\n",
    "print(f'{df_votes_stephi.shape} votes stephi')\n",
    "print(f'{final_merge.shape} final merge')\n",
    "df_stephi_bool_voter = df_votes_stephi[['voter', 'stakeridoo_detected', 'doge_detected']]\n",
    "df_merge = final_merge.merge(df_stephi_bool_voter.drop_duplicates(subset=['voter']), left_on='voter', right_on='voter', how='left')\n",
    "print(f'{df_merge.shape} votes merge')\n",
    "\n",
    "df_merge['bool_gitcoin_detected'] = np.logical_not(df_merge.success.astype(bool))\n",
    "df_merge['stakeridoo_detected'].fillna(False, inplace=True)\n",
    "df_merge['doge_detected'].fillna(False, inplace=True)\n",
    "df_merge['odc_detected'] = np.logical_or(np.logical_or(df_merge['stakeridoo_detected'], df_merge['doge_detected']), df_merge['flagged'])\n",
    "\n",
    "boolean_jaccard = boolean_to_keep + ['stakeridoo_detected', 'doge_detected', 'bool_gitcoin_detected', 'odc_detected']\n",
    "jaccard_similarity_2 = jaccard_similarity_matrix(df_merge[boolean_jaccard])\n",
    "sns.heatmap(jaccard_similarity_2)\n",
    "\n",
    "df_merge['proposed_coeff'] = np.logical_not(np.logical_or(df_merge['odc_detected'], df_merge['bool_gitcoin_detected']))\n",
    "\n",
    "df_merge.drop(columns=['bool_gitcoin_detected', 'address']).to_csv(f'../output_gitcoin/n_{CSV_GITCOIN_GRANTS}', index=False)"
   ]
  },
  {
   "cell_type": "code",
   "execution_count": 184,
   "metadata": {},
   "outputs": [
    {
     "name": "stdout",
     "output_type": "stream",
     "text": [
      "number of squelched votes out of 73447\n",
      "success           72618\n",
      "proposed_coeff    61543\n",
      "dtype: object\n",
      "difference between the number of squelched votes and the number of votes with proposed coefficient: success             829\n",
      "proposed_coeff    11904\n",
      "dtype: object\n"
     ]
    }
   ],
   "source": [
    "number_votes = df_merge.shape[0]\n",
    "print(f'number of squelched votes out of {number_votes}')\n",
    "print(df_merge[['success', 'proposed_coeff']].sum())\n",
    "print(f'difference between the number of squelched votes and the number of votes with proposed coefficient: {number_votes - df_merge[[\"success\", \"proposed_coeff\"]].sum()}')"
   ]
  },
  {
   "cell_type": "code",
   "execution_count": 181,
   "metadata": {},
   "outputs": [
    {
     "name": "stdout",
     "output_type": "stream",
     "text": [
      "number of voters: 1848\n"
     ]
    },
    {
     "data": {
      "text/plain": [
       "success           1698\n",
       "proposed_coeff    1333\n",
       "dtype: object"
      ]
     },
     "execution_count": 181,
     "metadata": {},
     "output_type": "execute_result"
    }
   ],
   "source": [
    "unique_voter = df_merge.drop_duplicates('voter')\n",
    "print(f'number of voters: {unique_voter.shape[0]}')\n",
    "unique_voter[['success', 'proposed_coeff']].sum()"
   ]
  },
  {
   "cell_type": "code",
   "execution_count": 185,
   "metadata": {},
   "outputs": [
    {
     "data": {
      "text/plain": [
       "Index(['id', 'projectId', 'applicationId', 'roundId', 'token', 'voter',\n",
       "       'grantAddress', 'amount', 'amountUSD', 'coefficient', 'status',\n",
       "       'last_score_timestamp', 'type', 'success', 'rawScore', 'threshold',\n",
       "       'seed_suspicious', 'has_interaction_toxic', 'has_no_pool_interaction',\n",
       "       'has_interaction_tornado', 'has_interaction_disperse',\n",
       "       'is_airdrop_master', 'has_interaction_airdrop_m',\n",
       "       'interacted_other_ctbt', 'interact_less_5tx', 'flagged', 'address',\n",
       "       'stakeridoo_detected', 'doge_detected', 'bool_gitcoin_detected',\n",
       "       'odc_detected', 'proposed_coeff'],\n",
       "      dtype='object')"
      ]
     },
     "execution_count": 185,
     "metadata": {},
     "output_type": "execute_result"
    }
   ],
   "source": [
    "df_merge.columns"
   ]
  },
  {
   "cell_type": "code",
   "execution_count": 189,
   "metadata": {},
   "outputs": [
    {
     "data": {
      "text/plain": [
       "seed_suspicious               202\n",
       "has_interaction_toxic         234\n",
       "has_no_pool_interaction      7476\n",
       "has_interaction_tornado       113\n",
       "has_interaction_disperse       83\n",
       "is_airdrop_master             411\n",
       "has_interaction_airdrop_m    1139\n",
       "interacted_other_ctbt        1162\n",
       "interact_less_5tx               0\n",
       "flagged                      1467\n",
       "stakeridoo_detected            78\n",
       "doge_detected                   1\n",
       "bool_gitcoin_detected         299\n",
       "odc_detected                 1546\n",
       "dtype: int64"
      ]
     },
     "execution_count": 189,
     "metadata": {},
     "output_type": "execute_result"
    }
   ],
   "source": [
    "df_merge[boolean_jaccard].sum(axis=0)"
   ]
  },
  {
   "cell_type": "code",
   "execution_count": 193,
   "metadata": {},
   "outputs": [],
   "source": [
    "df_merge['gitcoin_and_odc'] = np.logical_and(df_merge['bool_gitcoin_detected'], df_merge['odc_detected'])\n",
    "df_merge['gitcoin_or_odc'] = np.logical_or(df_merge['bool_gitcoin_detected'], df_merge['odc_detected'])\n",
    "df_merge['monetary_value_gitcoin'] = df_merge['amountUSD'] * df_merge['bool_gitcoin_detected']\n",
    "df_merge['monetary_value_odc'] = df_merge['amountUSD'] * df_merge['odc_detected']\n",
    "df_merge['monetary_value_gitcoin_and_odc'] = df_merge['amountUSD'] * df_merge['gitcoin_and_odc']\n",
    "df_merge['monetary_value_gitcoin_or_odc'] = df_merge['amountUSD'] * df_merge['gitcoin_or_odc']"
   ]
  },
  {
   "cell_type": "code",
   "execution_count": 194,
   "metadata": {},
   "outputs": [
    {
     "data": {
      "text/plain": [
       "seed_suspicious                     202.000000\n",
       "has_interaction_toxic               234.000000\n",
       "has_no_pool_interaction            7476.000000\n",
       "has_interaction_tornado             113.000000\n",
       "has_interaction_disperse             83.000000\n",
       "is_airdrop_master                   411.000000\n",
       "has_interaction_airdrop_m          1139.000000\n",
       "interacted_other_ctbt              1162.000000\n",
       "interact_less_5tx                     0.000000\n",
       "flagged                            1467.000000\n",
       "stakeridoo_detected                  78.000000\n",
       "doge_detected                         1.000000\n",
       "bool_gitcoin_detected               299.000000\n",
       "odc_detected                       1546.000000\n",
       "gitcoin_and_odc                      21.000000\n",
       "gitcoin_or_odc                     1824.000000\n",
       "monetary_value_gitcoin             2531.808523\n",
       "monetary_value_odc                 8977.551597\n",
       "monetary_value_gitcoin_and_odc      187.114153\n",
       "monetary_value_gitcoin_or_odc     11322.245966\n",
       "amountUSD                         31265.441079\n",
       "dtype: float64"
      ]
     },
     "execution_count": 194,
     "metadata": {},
     "output_type": "execute_result"
    }
   ],
   "source": [
    "boolean_stats = boolean_jaccard + ['gitcoin_and_odc', 'gitcoin_or_odc', 'monetary_value_gitcoin', 'monetary_value_odc', 'monetary_value_gitcoin_and_odc', 'monetary_value_gitcoin_or_odc', 'amountUSD']\n",
    "df_merge[boolean_stats].sum(axis=0)"
   ]
  }
 ],
 "metadata": {
  "kernelspec": {
   "display_name": "venvotes",
   "language": "python",
   "name": "python3"
  },
  "language_info": {
   "codemirror_mode": {
    "name": "ipython",
    "version": 3
   },
   "file_extension": ".py",
   "mimetype": "text/x-python",
   "name": "python",
   "nbconvert_exporter": "python",
   "pygments_lexer": "ipython3",
   "version": "3.10.9"
  },
  "orig_nbformat": 4
 },
 "nbformat": 4,
 "nbformat_minor": 2
}
