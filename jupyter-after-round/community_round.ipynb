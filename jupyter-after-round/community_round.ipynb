{
 "cells": [
  {
   "attachments": {},
   "cell_type": "markdown",
   "metadata": {},
   "source": [
    "# vote_coefficients_0xAA40E2E5c8df03d792A52B5458959C320F86ca18_1\n"
   ]
  },
  {
   "cell_type": "code",
   "execution_count": 135,
   "metadata": {},
   "outputs": [],
   "source": [
    "import os\n",
    "from pathlib import Path\n",
    "import numpy as np\n",
    "import requests\n",
    "import pandas as pd\n",
    "\n",
    "from sbdata.FlipsideApi import FlipsideApi\n",
    "\n",
    "\n",
    "\n",
    "# Set path to data folder\n",
    "current_dir = Path(os.getcwd())\n",
    "FOLDER_NAME = 'community_round'\n",
    "CHAIN = 'optimism'\n",
    "PATH_TO_EXPORT = os.path.join(current_dir.parent.parent, 'tx_data', FOLDER_NAME)\n",
    "DATA_DIR = os.path.join(current_dir.parent.parent, 'data-regen-rangers')\n",
    "DATA_DIR_GITCOIN = os.path.join(current_dir.parent.parent, 'data-gitcoin')\n",
    "GRANT_ROUND_ID = '0x984e29dCB4286c2D9cbAA2c238AfDd8A191Eefbc'\n",
    "CHAIN_ID = '10'\n",
    "\n",
    "\n",
    "# read the address from oss grant\n",
    "\n",
    "api_key = os.environ['FLIPSIDE_API_KEY']\n",
    "flipside_api = FlipsideApi(api_key, max_address=400)\n",
    "PATH_TO_VOTES = os.path.join(DATA_DIR_GITCOIN, 'citizen-votes.csv')\n",
    "# PATH_TO_GRANTS = os.path.join(DATA_DIR, \"all-allo-rounds.csv\")\n",
    "# PATH_TO_PROJECTS = os.path.join(DATA_DIR, \"projects_QmQurt.csv\")\n",
    "# PATH_TO_VOTES_GITCOIN = os.path.join(DATA_DIR_GITCOIN, CSV_GITCOIN_GRANTS)\n",
    "\n"
   ]
  },
  {
   "cell_type": "code",
   "execution_count": 136,
   "metadata": {},
   "outputs": [],
   "source": [
    "# def load_round_votes_data(chain_id, round_id):\n",
    "#     votes_url = 'https://indexer-grants-stack.gitcoin.co/data/' + chain_id + '/rounds/' + round_id + '/votes.json'\n",
    "#     try:\n",
    "#         # download the Votes JSON data from the URL\n",
    "#         response = requests.get(votes_url)\n",
    "#         if response.status_code == 200:\n",
    "#             votes_data = response.json()\n",
    "#         df = pd.DataFrame(votes_data)\n",
    "#         return df\n",
    "#     except:\n",
    "#         return pd.DataFrame()"
   ]
  },
  {
   "cell_type": "code",
   "execution_count": 137,
   "metadata": {},
   "outputs": [],
   "source": [
    "# # load data\n",
    "# df_votes = df_votes = load_round_votes_data(CHAIN_ID, GRANT_ROUND_ID)"
   ]
  },
  {
   "cell_type": "code",
   "execution_count": 138,
   "metadata": {},
   "outputs": [],
   "source": [
    "df_votes = pd.read_csv(PATH_TO_VOTES)\n",
    "# df_grants = pd.read_csv(PATH_TO_GRANTS)\n",
    "# df_application = pd.read_csv(PATH_TO_PROJECTS)\n",
    "# Lowercase all addresses because flipside api return lowercase address\n",
    "#id,projectId,applicationId,roundId,token,voter,grantAddress,amount,amountUSD,coefficient,status,last_score_timestamp,type,success,rawScore,threshold\n",
    "# df_grants['Round ID'] = df_grants['Round ID'].str.lower()\n",
    "# str_columns_votes = ['id', 'transaction', 'projectId', 'roundId', 'voter', 'grantAddress']\n",
    "# df_votes[str_columns_votes] = df_votes[str_columns_votes].applymap(lambda x: x.lower())\n",
    "\n",
    "# str_columns_application = ['id', 'roundId', 'metadata.application.round', 'metadata.application.recipient']\n",
    "# df_application[str_columns_application] = df_application[str_columns_application].applymap(lambda x: str(x).lower())\n",
    "\n",
    "# round_id = df_grants[df_grants['Round name'] == 'Web3 Community and Education']['Round ID'].values[0]\n",
    "array_unique_address = df_votes['voter'].unique()\n",
    "\n",
    "array_unique_address = np.char.lower(array_unique_address.astype(str))"
   ]
  },
  {
   "cell_type": "code",
   "execution_count": 139,
   "metadata": {},
   "outputs": [],
   "source": [
    "from sbutils import LoadData\n",
    "\n",
    "# Load data\n",
    "data_loader = LoadData.LoadData(PATH_TO_EXPORT)\n",
    "df_tx = data_loader.create_df_tx(CHAIN, array_unique_address)"
   ]
  },
  {
   "cell_type": "code",
   "execution_count": 140,
   "metadata": {},
   "outputs": [
    {
     "data": {
      "text/plain": [
       "(2822339, 10)"
      ]
     },
     "execution_count": 140,
     "metadata": {},
     "output_type": "execute_result"
    }
   ],
   "source": [
    "df_tx.shape"
   ]
  },
  {
   "cell_type": "code",
   "execution_count": 141,
   "metadata": {},
   "outputs": [
    {
     "data": {
      "text/plain": [
       "17023"
      ]
     },
     "execution_count": 141,
     "metadata": {},
     "output_type": "execute_result"
    }
   ],
   "source": [
    "len(array_unique_address)"
   ]
  },
  {
   "cell_type": "code",
   "execution_count": 142,
   "metadata": {},
   "outputs": [
    {
     "data": {
      "text/plain": [
       "17023"
      ]
     },
     "execution_count": 142,
     "metadata": {},
     "output_type": "execute_result"
    }
   ],
   "source": [
    "df_tx.EOA.nunique()"
   ]
  },
  {
   "cell_type": "code",
   "execution_count": 143,
   "metadata": {},
   "outputs": [
    {
     "data": {
      "text/plain": [
       "array([], dtype=object)"
      ]
     },
     "execution_count": 143,
     "metadata": {},
     "output_type": "execute_result"
    }
   ],
   "source": [
    "c = np.setxor1d(array_unique_address, df_tx.EOA.values)\n",
    "c"
   ]
  },
  {
   "attachments": {},
   "cell_type": "markdown",
   "metadata": {},
   "source": [
    "## Computing legos booleans"
   ]
  },
  {
   "cell_type": "code",
   "execution_count": 144,
   "metadata": {},
   "outputs": [],
   "source": [
    "from sblegos.TransactionAnalyser import TransactionAnalyser as txa\n",
    "tx_analyser = txa(df_tx, df_address=pd.DataFrame(np.intersect1d(df_tx.EOA.unique(), array_unique_address), columns=['address']))"
   ]
  },
  {
   "attachments": {},
   "cell_type": "markdown",
   "metadata": {},
   "source": [
    "use matching address because some addresses are not in the extracted data set"
   ]
  },
  {
   "cell_type": "code",
   "execution_count": 145,
   "metadata": {},
   "outputs": [
    {
     "data": {
      "text/html": [
       "<div>\n",
       "<style scoped>\n",
       "    .dataframe tbody tr th:only-of-type {\n",
       "        vertical-align: middle;\n",
       "    }\n",
       "\n",
       "    .dataframe tbody tr th {\n",
       "        vertical-align: top;\n",
       "    }\n",
       "\n",
       "    .dataframe thead th {\n",
       "        text-align: right;\n",
       "    }\n",
       "</style>\n",
       "<table border=\"1\" class=\"dataframe\">\n",
       "  <thead>\n",
       "    <tr style=\"text-align: right;\">\n",
       "      <th></th>\n",
       "      <th>address</th>\n",
       "    </tr>\n",
       "  </thead>\n",
       "  <tbody>\n",
       "    <tr>\n",
       "      <th>0</th>\n",
       "      <td>0x000000006f457c0f8f560333d9c2877287d92a92</td>\n",
       "    </tr>\n",
       "    <tr>\n",
       "      <th>1</th>\n",
       "      <td>0x000128fa45d79dc9af8016da242781f12c363fd5</td>\n",
       "    </tr>\n",
       "  </tbody>\n",
       "</table>\n",
       "</div>"
      ],
      "text/plain": [
       "                                      address\n",
       "0  0x000000006f457c0f8f560333d9c2877287d92a92\n",
       "1  0x000128fa45d79dc9af8016da242781f12c363fd5"
      ]
     },
     "execution_count": 145,
     "metadata": {},
     "output_type": "execute_result"
    }
   ],
   "source": [
    "df_matching_address = pd.DataFrame(df_tx.EOA.unique(), columns=[\"address\"])\n",
    "df_matching_address.head(2)"
   ]
  },
  {
   "attachments": {},
   "cell_type": "markdown",
   "metadata": {},
   "source": [
    "Compute the boolean "
   ]
  },
  {
   "attachments": {},
   "cell_type": "markdown",
   "metadata": {},
   "source": [
    "less than 10 x transaction are not performant legos so we don't use it, has same seed is computed as an intermediarry to get the seed_suspicious flag"
   ]
  },
  {
   "cell_type": "code",
   "execution_count": 146,
   "metadata": {},
   "outputs": [],
   "source": [
    "df_matching_address['seed_same_naive'] = df_matching_address.loc[:, 'address'].apply(lambda x : tx_analyser.has_same_seed_naive(x))\n",
    "df_matching_address['seed_same'] = df_matching_address.loc[:, 'address'].apply(lambda x : tx_analyser.has_same_seed(x))\n",
    "df_matching_address['seed_suspicious'] = df_matching_address.loc[:, 'seed_same_naive'].ne(df_matching_address.loc[:, 'seed_same'])\n",
    "df_matching_address['less_5_tx'] = df_matching_address.loc[:, 'address'].apply(lambda x : tx_analyser.has_less_than_n_transactions(x, 5))\n",
    "df_matching_address['less_10_tx'] = df_matching_address.loc[:, 'address'].apply(lambda x : tx_analyser.has_less_than_n_transactions(x, 10))"
   ]
  },
  {
   "cell_type": "code",
   "execution_count": 147,
   "metadata": {},
   "outputs": [],
   "source": [
    "df_matching_address['interacted_other_ctbt'] = df_matching_address.loc[:, 'address'].apply(lambda x : tx_analyser.has_interacted_with_other_contributor(x))"
   ]
  },
  {
   "cell_type": "code",
   "execution_count": 148,
   "metadata": {},
   "outputs": [],
   "source": [
    "df_matching_address['lcs'] = 0\n",
    "r = df_matching_address.loc[df_matching_address['less_10_tx'] == True, 'address'].apply(lambda x: tx_analyser.transaction_similitude_pylcs(x, minimum_sim_tx=3))"
   ]
  },
  {
   "cell_type": "code",
   "execution_count": null,
   "metadata": {},
   "outputs": [
    {
     "name": "stdout",
     "output_type": "stream",
     "text": [
      "287\n"
     ]
    }
   ],
   "source": [
    "def lcs_to_array(lcs):\n",
    "    if lcs.shape[0] == 0:\n",
    "        return []\n",
    "    else:\n",
    "        return np.asarray(lcs.reset_index())\n",
    "\n",
    "def get_mean_score_lcs(lcs):\n",
    "    if lcs.shape[0] == 0:\n",
    "        return 0\n",
    "    else:\n",
    "        return lcs.reset_index()['score'].mean()\n",
    "    \n",
    "def get_max_score_lcs(lcs):\n",
    "    if lcs.shape[0] == 0:\n",
    "        return 0\n",
    "    else:\n",
    "        return lcs.reset_index()['score'].max()\n",
    "    \n",
    "df_matching_address['cluster_size_lcs'] = 0\n",
    "df_matching_address['mean_score_lcs'] = 0\n",
    "df_matching_address['max_score_lcs'] = 0\n",
    "\n",
    "df_matching_address.loc[df_matching_address['less_10_tx'] == True, 'cluster_size_lcs'] = r.apply(lambda x: len(x))\n",
    "df_matching_address.loc[df_matching_address['less_10_tx'] == True, 'mean_score_lcs'] = r.apply(lambda x: get_mean_score_lcs(x))\n",
    "df_matching_address.loc[df_matching_address['less_10_tx'] == True, 'max_score_lcs'] = r.apply(lambda x: get_max_score_lcs(x))\n",
    "\n",
    "df_matching_address['has_lcs'] = df_matching_address['cluster_size_lcs'] > 0\n",
    "\n",
    "print((df_matching_address[df_matching_address['less_10_tx'] == True]['cluster_size_lcs'] > 0).sum())"
   ]
  },
  {
   "cell_type": "code",
   "execution_count": null,
   "metadata": {},
   "outputs": [
    {
     "name": "stdout",
     "output_type": "stream",
     "text": [
      "Number of voters: 6164\n"
     ]
    }
   ],
   "source": [
    "print(f'Number of voters: {len(df_matching_address)}')"
   ]
  },
  {
   "cell_type": "code",
   "execution_count": null,
   "metadata": {},
   "outputs": [
    {
     "data": {
      "text/plain": [
       "address                  0x0015f91e93996d7e5979bf32391a8be59aadd6060x00...\n",
       "seed_same_naive                                                       2565\n",
       "seed_same                                                             3961\n",
       "seed_suspicious                                                       1970\n",
       "less_5_tx                                                              236\n",
       "less_10_tx                                                             669\n",
       "interacted_other_ctbt                                                 1173\n",
       "lcs                                                                      0\n",
       "cluster_size_lcs                                                     10039\n",
       "mean_score_lcs                                                   42.069165\n",
       "max_score_lcs                                                    49.466111\n",
       "has_lcs                                                                287\n",
       "dtype: object"
      ]
     },
     "execution_count": 22,
     "metadata": {},
     "output_type": "execute_result"
    }
   ],
   "source": [
    "df_matching_address.sum()"
   ]
  },
  {
   "attachments": {},
   "cell_type": "markdown",
   "metadata": {},
   "source": [
    "### Investigating the boolean seed suspicious"
   ]
  },
  {
   "cell_type": "code",
   "execution_count": null,
   "metadata": {},
   "outputs": [
    {
     "data": {
      "text/html": [
       "<div>\n",
       "<style scoped>\n",
       "    .dataframe tbody tr th:only-of-type {\n",
       "        vertical-align: middle;\n",
       "    }\n",
       "\n",
       "    .dataframe tbody tr th {\n",
       "        vertical-align: top;\n",
       "    }\n",
       "\n",
       "    .dataframe thead th {\n",
       "        text-align: right;\n",
       "    }\n",
       "</style>\n",
       "<table border=\"1\" class=\"dataframe\">\n",
       "  <thead>\n",
       "    <tr style=\"text-align: right;\">\n",
       "      <th></th>\n",
       "      <th>address</th>\n",
       "      <th>seed_same_naive</th>\n",
       "      <th>seed_same</th>\n",
       "      <th>seed_suspicious</th>\n",
       "      <th>less_5_tx</th>\n",
       "      <th>less_10_tx</th>\n",
       "      <th>interacted_other_ctbt</th>\n",
       "      <th>lcs</th>\n",
       "      <th>cluster_size_lcs</th>\n",
       "      <th>mean_score_lcs</th>\n",
       "      <th>max_score_lcs</th>\n",
       "      <th>has_lcs</th>\n",
       "    </tr>\n",
       "  </thead>\n",
       "  <tbody>\n",
       "    <tr>\n",
       "      <th>1</th>\n",
       "      <td>0x0017f7adf1b404298efa3015ca0b56961fea4c34</td>\n",
       "      <td>False</td>\n",
       "      <td>True</td>\n",
       "      <td>True</td>\n",
       "      <td>False</td>\n",
       "      <td>False</td>\n",
       "      <td>False</td>\n",
       "      <td>0</td>\n",
       "      <td>0</td>\n",
       "      <td>0.0</td>\n",
       "      <td>0.0</td>\n",
       "      <td>False</td>\n",
       "    </tr>\n",
       "    <tr>\n",
       "      <th>5</th>\n",
       "      <td>0x00409fc839a2ec2e6d12305423d37cd011279c09</td>\n",
       "      <td>False</td>\n",
       "      <td>True</td>\n",
       "      <td>True</td>\n",
       "      <td>False</td>\n",
       "      <td>False</td>\n",
       "      <td>False</td>\n",
       "      <td>0</td>\n",
       "      <td>0</td>\n",
       "      <td>0.0</td>\n",
       "      <td>0.0</td>\n",
       "      <td>False</td>\n",
       "    </tr>\n",
       "    <tr>\n",
       "      <th>9</th>\n",
       "      <td>0x005da0a62a2771007cb6c5dec0b6fe8ce269a517</td>\n",
       "      <td>False</td>\n",
       "      <td>True</td>\n",
       "      <td>True</td>\n",
       "      <td>False</td>\n",
       "      <td>False</td>\n",
       "      <td>False</td>\n",
       "      <td>0</td>\n",
       "      <td>0</td>\n",
       "      <td>0.0</td>\n",
       "      <td>0.0</td>\n",
       "      <td>False</td>\n",
       "    </tr>\n",
       "    <tr>\n",
       "      <th>11</th>\n",
       "      <td>0x0062dc9d3d8cc7e730d65025d9abf85307fc09b2</td>\n",
       "      <td>True</td>\n",
       "      <td>False</td>\n",
       "      <td>True</td>\n",
       "      <td>False</td>\n",
       "      <td>False</td>\n",
       "      <td>True</td>\n",
       "      <td>0</td>\n",
       "      <td>0</td>\n",
       "      <td>0.0</td>\n",
       "      <td>0.0</td>\n",
       "      <td>False</td>\n",
       "    </tr>\n",
       "    <tr>\n",
       "      <th>12</th>\n",
       "      <td>0x006330b60ab7c400fc0b43d8d125f372cf641fa7</td>\n",
       "      <td>False</td>\n",
       "      <td>True</td>\n",
       "      <td>True</td>\n",
       "      <td>False</td>\n",
       "      <td>False</td>\n",
       "      <td>False</td>\n",
       "      <td>0</td>\n",
       "      <td>0</td>\n",
       "      <td>0.0</td>\n",
       "      <td>0.0</td>\n",
       "      <td>False</td>\n",
       "    </tr>\n",
       "    <tr>\n",
       "      <th>...</th>\n",
       "      <td>...</td>\n",
       "      <td>...</td>\n",
       "      <td>...</td>\n",
       "      <td>...</td>\n",
       "      <td>...</td>\n",
       "      <td>...</td>\n",
       "      <td>...</td>\n",
       "      <td>...</td>\n",
       "      <td>...</td>\n",
       "      <td>...</td>\n",
       "      <td>...</td>\n",
       "      <td>...</td>\n",
       "    </tr>\n",
       "    <tr>\n",
       "      <th>6149</th>\n",
       "      <td>0xffae606567923a901ccbb748915fdb63ea6f514e</td>\n",
       "      <td>False</td>\n",
       "      <td>True</td>\n",
       "      <td>True</td>\n",
       "      <td>False</td>\n",
       "      <td>False</td>\n",
       "      <td>False</td>\n",
       "      <td>0</td>\n",
       "      <td>0</td>\n",
       "      <td>0.0</td>\n",
       "      <td>0.0</td>\n",
       "      <td>False</td>\n",
       "    </tr>\n",
       "    <tr>\n",
       "      <th>6150</th>\n",
       "      <td>0xffb0a17e69cb382175503cfe0b029b179658a06a</td>\n",
       "      <td>False</td>\n",
       "      <td>True</td>\n",
       "      <td>True</td>\n",
       "      <td>False</td>\n",
       "      <td>False</td>\n",
       "      <td>False</td>\n",
       "      <td>0</td>\n",
       "      <td>0</td>\n",
       "      <td>0.0</td>\n",
       "      <td>0.0</td>\n",
       "      <td>False</td>\n",
       "    </tr>\n",
       "    <tr>\n",
       "      <th>6153</th>\n",
       "      <td>0xffbee70c7e4360c6df4c7aa834566ba4efef6669</td>\n",
       "      <td>False</td>\n",
       "      <td>True</td>\n",
       "      <td>True</td>\n",
       "      <td>False</td>\n",
       "      <td>False</td>\n",
       "      <td>True</td>\n",
       "      <td>0</td>\n",
       "      <td>0</td>\n",
       "      <td>0.0</td>\n",
       "      <td>0.0</td>\n",
       "      <td>False</td>\n",
       "    </tr>\n",
       "    <tr>\n",
       "      <th>6156</th>\n",
       "      <td>0xffc8684231888888888f125b2d4843ac6ae3c605</td>\n",
       "      <td>False</td>\n",
       "      <td>True</td>\n",
       "      <td>True</td>\n",
       "      <td>False</td>\n",
       "      <td>False</td>\n",
       "      <td>False</td>\n",
       "      <td>0</td>\n",
       "      <td>0</td>\n",
       "      <td>0.0</td>\n",
       "      <td>0.0</td>\n",
       "      <td>False</td>\n",
       "    </tr>\n",
       "    <tr>\n",
       "      <th>6160</th>\n",
       "      <td>0xffe969745fc9c6b0ce6519172ed65433e7143cc7</td>\n",
       "      <td>False</td>\n",
       "      <td>True</td>\n",
       "      <td>True</td>\n",
       "      <td>False</td>\n",
       "      <td>False</td>\n",
       "      <td>False</td>\n",
       "      <td>0</td>\n",
       "      <td>0</td>\n",
       "      <td>0.0</td>\n",
       "      <td>0.0</td>\n",
       "      <td>False</td>\n",
       "    </tr>\n",
       "  </tbody>\n",
       "</table>\n",
       "<p>1970 rows × 12 columns</p>\n",
       "</div>"
      ],
      "text/plain": [
       "                                         address  seed_same_naive  seed_same   \n",
       "1     0x0017f7adf1b404298efa3015ca0b56961fea4c34            False       True  \\\n",
       "5     0x00409fc839a2ec2e6d12305423d37cd011279c09            False       True   \n",
       "9     0x005da0a62a2771007cb6c5dec0b6fe8ce269a517            False       True   \n",
       "11    0x0062dc9d3d8cc7e730d65025d9abf85307fc09b2             True      False   \n",
       "12    0x006330b60ab7c400fc0b43d8d125f372cf641fa7            False       True   \n",
       "...                                          ...              ...        ...   \n",
       "6149  0xffae606567923a901ccbb748915fdb63ea6f514e            False       True   \n",
       "6150  0xffb0a17e69cb382175503cfe0b029b179658a06a            False       True   \n",
       "6153  0xffbee70c7e4360c6df4c7aa834566ba4efef6669            False       True   \n",
       "6156  0xffc8684231888888888f125b2d4843ac6ae3c605            False       True   \n",
       "6160  0xffe969745fc9c6b0ce6519172ed65433e7143cc7            False       True   \n",
       "\n",
       "      seed_suspicious  less_5_tx  less_10_tx  interacted_other_ctbt  lcs   \n",
       "1                True      False       False                  False    0  \\\n",
       "5                True      False       False                  False    0   \n",
       "9                True      False       False                  False    0   \n",
       "11               True      False       False                   True    0   \n",
       "12               True      False       False                  False    0   \n",
       "...               ...        ...         ...                    ...  ...   \n",
       "6149             True      False       False                  False    0   \n",
       "6150             True      False       False                  False    0   \n",
       "6153             True      False       False                   True    0   \n",
       "6156             True      False       False                  False    0   \n",
       "6160             True      False       False                  False    0   \n",
       "\n",
       "      cluster_size_lcs  mean_score_lcs  max_score_lcs  has_lcs  \n",
       "1                    0             0.0            0.0    False  \n",
       "5                    0             0.0            0.0    False  \n",
       "9                    0             0.0            0.0    False  \n",
       "11                   0             0.0            0.0    False  \n",
       "12                   0             0.0            0.0    False  \n",
       "...                ...             ...            ...      ...  \n",
       "6149                 0             0.0            0.0    False  \n",
       "6150                 0             0.0            0.0    False  \n",
       "6153                 0             0.0            0.0    False  \n",
       "6156                 0             0.0            0.0    False  \n",
       "6160                 0             0.0            0.0    False  \n",
       "\n",
       "[1970 rows x 12 columns]"
      ]
     },
     "execution_count": 23,
     "metadata": {},
     "output_type": "execute_result"
    }
   ],
   "source": [
    "df_matching_address[df_matching_address['seed_suspicious'] == True]"
   ]
  },
  {
   "attachments": {},
   "cell_type": "markdown",
   "metadata": {},
   "source": [
    "### Computing the dex interaction score"
   ]
  },
  {
   "cell_type": "code",
   "execution_count": null,
   "metadata": {},
   "outputs": [],
   "source": [
    "def get_interacted_address(from_address, to_address, address):\n",
    "    if from_address == address:\n",
    "        return to_address\n",
    "    else:\n",
    "        return from_address\n",
    "\n",
    "def count_interaction_with_any(tx_analyser, address, array_address):\n",
    "    \"\"\"\n",
    "    Return an integer of the number of interactions with the addresses in the array_address\n",
    "    Parameters\n",
    "    ----------\n",
    "    address : str\n",
    "        The address to check\n",
    "\n",
    "    Returns\n",
    "    -------\n",
    "    count_interaction_with_any : int\n",
    "        The number of interactions with the addresses in the array_address\n",
    "    \"\"\"\n",
    "    tx_analyser.set_group_by_sorted_EOA()\n",
    "\n",
    "    df = tx_analyser.gb_EOA_sorted.get_group(address)\n",
    "    address_interacted = df.apply(lambda x: get_interacted_address(x['from_address'], x['to_address'], address), axis=1)\n",
    "    tx_boolean_interacted = address_interacted.isin(array_address)\n",
    "    return tx_boolean_interacted.sum()\n",
    "\n",
    "def has_interacted_with_any(tx_analyser, address, array_address):\n",
    "    \"\"\"\n",
    "    Return a boolean whether the address has interacted with any address in the array_address\n",
    "    Parameters\n",
    "    ----------\n",
    "    address : str\n",
    "        The address to check\n",
    "\n",
    "    Returns\n",
    "    -------\n",
    "    has_interacted_with_any : bool\n",
    "        True if the address has interacted with one or more of the addresses in the array_address\n",
    "    \"\"\"\n",
    "    count_interaction_with_any = count_interaction_with_any(tx_analyser, address, array_address)\n",
    "    return count_interaction_with_any > 0"
   ]
  },
  {
   "cell_type": "code",
   "execution_count": null,
   "metadata": {},
   "outputs": [],
   "source": [
    "label_query = '''\n",
    "SELECT ADDRESS, CREATOR, LABEL_TYPE, ADDRESS_NAME, PROJECT_NAME\n",
    "FROM crosschain.core.address_labels \n",
    "WHERE BLOCKCHAIN='optimism'\n",
    "AND LABEL_SUBTYPE = 'pool' \n",
    ";'''\n",
    "df_label = flipside_api.execute_query(label_query)"
   ]
  },
  {
   "cell_type": "code",
   "execution_count": null,
   "metadata": {},
   "outputs": [],
   "source": [
    "# extract all the pool addresses\n",
    "array_pool_address = df_label['address'].unique()"
   ]
  },
  {
   "cell_type": "code",
   "execution_count": null,
   "metadata": {},
   "outputs": [],
   "source": [
    "tx_analyser.set_group_by_sorted_EOA()"
   ]
  },
  {
   "cell_type": "code",
   "execution_count": null,
   "metadata": {},
   "outputs": [],
   "source": [
    "# Compute the number of interactions with any of the pools for each address\n",
    "df_matching_address['count_interaction_with_pool'] = df_matching_address['address'].apply(lambda x: count_interaction_with_any(tx_analyser, x, array_pool_address))"
   ]
  },
  {
   "cell_type": "code",
   "execution_count": null,
   "metadata": {},
   "outputs": [
    {
     "data": {
      "text/plain": [
       "0.5426670992861778"
      ]
     },
     "execution_count": 63,
     "metadata": {},
     "output_type": "execute_result"
    }
   ],
   "source": [
    "(df_matching_address['count_interaction_with_pool'] > 0).sum() / len(df_matching_address)"
   ]
  },
  {
   "attachments": {},
   "cell_type": "markdown",
   "metadata": {},
   "source": [
    "From these tags lets flag any address that have interacted with a toxic wallet"
   ]
  },
  {
   "cell_type": "code",
   "execution_count": null,
   "metadata": {},
   "outputs": [],
   "source": [
    "label_query = '''\n",
    "SELECT ADDRESS, CREATOR, LABEL_TYPE, ADDRESS_NAME, PROJECT_NAME\n",
    "FROM crosschain.core.address_labels \n",
    "WHERE BLOCKCHAIN='optimism'\n",
    "AND LABEL_SUBTYPE = 'toxic'\n",
    ";'''\n",
    "df_toxic = flipside_api.execute_query(label_query)"
   ]
  },
  {
   "cell_type": "code",
   "execution_count": null,
   "metadata": {},
   "outputs": [
    {
     "data": {
      "text/plain": [
       "(0, 0)"
      ]
     },
     "execution_count": 65,
     "metadata": {},
     "output_type": "execute_result"
    }
   ],
   "source": [
    "df_toxic.shape"
   ]
  },
  {
   "cell_type": "code",
   "execution_count": null,
   "metadata": {},
   "outputs": [
    {
     "ename": "KeyError",
     "evalue": "'address'",
     "output_type": "error",
     "traceback": [
      "\u001b[1;31m---------------------------------------------------------------------------\u001b[0m",
      "\u001b[1;31mKeyError\u001b[0m                                  Traceback (most recent call last)",
      "Cell \u001b[1;32mIn[66], line 2\u001b[0m\n\u001b[0;32m      1\u001b[0m \u001b[39m# Compute the number of interactions with any of the scam for each address\u001b[39;00m\n\u001b[1;32m----> 2\u001b[0m df_matching_address[\u001b[39m'\u001b[39m\u001b[39mcount_interaction_with_toxic\u001b[39m\u001b[39m'\u001b[39m] \u001b[39m=\u001b[39m df_matching_address[\u001b[39m'\u001b[39;49m\u001b[39maddress\u001b[39;49m\u001b[39m'\u001b[39;49m]\u001b[39m.\u001b[39;49mapply(\u001b[39mlambda\u001b[39;49;00m x: count_interaction_with_any(tx_analyser, x, df_toxic[\u001b[39m'\u001b[39;49m\u001b[39maddress\u001b[39;49m\u001b[39m'\u001b[39;49m]\u001b[39m.\u001b[39;49munique()))\n",
      "File \u001b[1;32mc:\\Users\\DELL Admin\\Documents\\ODC\\RegenRangers\\beta-round-vote-analysis\\venvotes2\\lib\\site-packages\\pandas\\core\\series.py:4626\u001b[0m, in \u001b[0;36mSeries.apply\u001b[1;34m(self, func, convert_dtype, args, **kwargs)\u001b[0m\n\u001b[0;32m   4516\u001b[0m \u001b[39mdef\u001b[39;00m \u001b[39mapply\u001b[39m(\n\u001b[0;32m   4517\u001b[0m     \u001b[39mself\u001b[39m,\n\u001b[0;32m   4518\u001b[0m     func: AggFuncType,\n\u001b[1;32m   (...)\u001b[0m\n\u001b[0;32m   4521\u001b[0m     \u001b[39m*\u001b[39m\u001b[39m*\u001b[39mkwargs,\n\u001b[0;32m   4522\u001b[0m ) \u001b[39m-\u001b[39m\u001b[39m>\u001b[39m DataFrame \u001b[39m|\u001b[39m Series:\n\u001b[0;32m   4523\u001b[0m \u001b[39m    \u001b[39m\u001b[39m\"\"\"\u001b[39;00m\n\u001b[0;32m   4524\u001b[0m \u001b[39m    Invoke function on values of Series.\u001b[39;00m\n\u001b[0;32m   4525\u001b[0m \n\u001b[1;32m   (...)\u001b[0m\n\u001b[0;32m   4624\u001b[0m \u001b[39m    dtype: float64\u001b[39;00m\n\u001b[0;32m   4625\u001b[0m \u001b[39m    \"\"\"\u001b[39;00m\n\u001b[1;32m-> 4626\u001b[0m     \u001b[39mreturn\u001b[39;00m SeriesApply(\u001b[39mself\u001b[39;49m, func, convert_dtype, args, kwargs)\u001b[39m.\u001b[39;49mapply()\n",
      "File \u001b[1;32mc:\\Users\\DELL Admin\\Documents\\ODC\\RegenRangers\\beta-round-vote-analysis\\venvotes2\\lib\\site-packages\\pandas\\core\\apply.py:1025\u001b[0m, in \u001b[0;36mSeriesApply.apply\u001b[1;34m(self)\u001b[0m\n\u001b[0;32m   1022\u001b[0m     \u001b[39mreturn\u001b[39;00m \u001b[39mself\u001b[39m\u001b[39m.\u001b[39mapply_str()\n\u001b[0;32m   1024\u001b[0m \u001b[39m# self.f is Callable\u001b[39;00m\n\u001b[1;32m-> 1025\u001b[0m \u001b[39mreturn\u001b[39;00m \u001b[39mself\u001b[39;49m\u001b[39m.\u001b[39;49mapply_standard()\n",
      "File \u001b[1;32mc:\\Users\\DELL Admin\\Documents\\ODC\\RegenRangers\\beta-round-vote-analysis\\venvotes2\\lib\\site-packages\\pandas\\core\\apply.py:1076\u001b[0m, in \u001b[0;36mSeriesApply.apply_standard\u001b[1;34m(self)\u001b[0m\n\u001b[0;32m   1074\u001b[0m     \u001b[39melse\u001b[39;00m:\n\u001b[0;32m   1075\u001b[0m         values \u001b[39m=\u001b[39m obj\u001b[39m.\u001b[39mastype(\u001b[39mobject\u001b[39m)\u001b[39m.\u001b[39m_values\n\u001b[1;32m-> 1076\u001b[0m         mapped \u001b[39m=\u001b[39m lib\u001b[39m.\u001b[39;49mmap_infer(\n\u001b[0;32m   1077\u001b[0m             values,\n\u001b[0;32m   1078\u001b[0m             f,\n\u001b[0;32m   1079\u001b[0m             convert\u001b[39m=\u001b[39;49m\u001b[39mself\u001b[39;49m\u001b[39m.\u001b[39;49mconvert_dtype,\n\u001b[0;32m   1080\u001b[0m         )\n\u001b[0;32m   1082\u001b[0m \u001b[39mif\u001b[39;00m \u001b[39mlen\u001b[39m(mapped) \u001b[39mand\u001b[39;00m \u001b[39misinstance\u001b[39m(mapped[\u001b[39m0\u001b[39m], ABCSeries):\n\u001b[0;32m   1083\u001b[0m     \u001b[39m# GH#43986 Need to do list(mapped) in order to get treated as nested\u001b[39;00m\n\u001b[0;32m   1084\u001b[0m     \u001b[39m#  See also GH#25959 regarding EA support\u001b[39;00m\n\u001b[0;32m   1085\u001b[0m     \u001b[39mreturn\u001b[39;00m obj\u001b[39m.\u001b[39m_constructor_expanddim(\u001b[39mlist\u001b[39m(mapped), index\u001b[39m=\u001b[39mobj\u001b[39m.\u001b[39mindex)\n",
      "File \u001b[1;32mc:\\Users\\DELL Admin\\Documents\\ODC\\RegenRangers\\beta-round-vote-analysis\\venvotes2\\lib\\site-packages\\pandas\\_libs\\lib.pyx:2834\u001b[0m, in \u001b[0;36mpandas._libs.lib.map_infer\u001b[1;34m()\u001b[0m\n",
      "Cell \u001b[1;32mIn[66], line 2\u001b[0m, in \u001b[0;36m<lambda>\u001b[1;34m(x)\u001b[0m\n\u001b[0;32m      1\u001b[0m \u001b[39m# Compute the number of interactions with any of the scam for each address\u001b[39;00m\n\u001b[1;32m----> 2\u001b[0m df_matching_address[\u001b[39m'\u001b[39m\u001b[39mcount_interaction_with_toxic\u001b[39m\u001b[39m'\u001b[39m] \u001b[39m=\u001b[39m df_matching_address[\u001b[39m'\u001b[39m\u001b[39maddress\u001b[39m\u001b[39m'\u001b[39m]\u001b[39m.\u001b[39mapply(\u001b[39mlambda\u001b[39;00m x: count_interaction_with_any(tx_analyser, x, df_toxic[\u001b[39m'\u001b[39;49m\u001b[39maddress\u001b[39;49m\u001b[39m'\u001b[39;49m]\u001b[39m.\u001b[39munique()))\n",
      "File \u001b[1;32mc:\\Users\\DELL Admin\\Documents\\ODC\\RegenRangers\\beta-round-vote-analysis\\venvotes2\\lib\\site-packages\\pandas\\core\\frame.py:3761\u001b[0m, in \u001b[0;36mDataFrame.__getitem__\u001b[1;34m(self, key)\u001b[0m\n\u001b[0;32m   3759\u001b[0m \u001b[39mif\u001b[39;00m \u001b[39mself\u001b[39m\u001b[39m.\u001b[39mcolumns\u001b[39m.\u001b[39mnlevels \u001b[39m>\u001b[39m \u001b[39m1\u001b[39m:\n\u001b[0;32m   3760\u001b[0m     \u001b[39mreturn\u001b[39;00m \u001b[39mself\u001b[39m\u001b[39m.\u001b[39m_getitem_multilevel(key)\n\u001b[1;32m-> 3761\u001b[0m indexer \u001b[39m=\u001b[39m \u001b[39mself\u001b[39;49m\u001b[39m.\u001b[39;49mcolumns\u001b[39m.\u001b[39;49mget_loc(key)\n\u001b[0;32m   3762\u001b[0m \u001b[39mif\u001b[39;00m is_integer(indexer):\n\u001b[0;32m   3763\u001b[0m     indexer \u001b[39m=\u001b[39m [indexer]\n",
      "File \u001b[1;32mc:\\Users\\DELL Admin\\Documents\\ODC\\RegenRangers\\beta-round-vote-analysis\\venvotes2\\lib\\site-packages\\pandas\\core\\indexes\\range.py:349\u001b[0m, in \u001b[0;36mRangeIndex.get_loc\u001b[1;34m(self, key)\u001b[0m\n\u001b[0;32m    347\u001b[0m         \u001b[39mraise\u001b[39;00m \u001b[39mKeyError\u001b[39;00m(key) \u001b[39mfrom\u001b[39;00m \u001b[39merr\u001b[39;00m\n\u001b[0;32m    348\u001b[0m \u001b[39mif\u001b[39;00m \u001b[39misinstance\u001b[39m(key, Hashable):\n\u001b[1;32m--> 349\u001b[0m     \u001b[39mraise\u001b[39;00m \u001b[39mKeyError\u001b[39;00m(key)\n\u001b[0;32m    350\u001b[0m \u001b[39mself\u001b[39m\u001b[39m.\u001b[39m_check_indexing_error(key)\n\u001b[0;32m    351\u001b[0m \u001b[39mraise\u001b[39;00m \u001b[39mKeyError\u001b[39;00m(key)\n",
      "\u001b[1;31mKeyError\u001b[0m: 'address'"
     ]
    }
   ],
   "source": [
    "# Compute the number of interactions with any of the scam for each address\n",
    "df_matching_address['count_interaction_with_toxic'] = df_matching_address['address'].apply(lambda x: count_interaction_with_any(tx_analyser, x, df_toxic['address'].unique()))"
   ]
  },
  {
   "cell_type": "code",
   "execution_count": null,
   "metadata": {},
   "outputs": [
    {
     "name": "stdout",
     "output_type": "stream",
     "text": [
      "Percentage of addresses that have interacted with a toxic address: 0%\n"
     ]
    }
   ],
   "source": [
    "print(f'Percentage of addresses that have interacted with a toxic address: {int((df_matching_address[\"count_interaction_with_toxic\"] > 0).sum() / len(df_matching_address) *100)}%')"
   ]
  },
  {
   "attachments": {},
   "cell_type": "markdown",
   "metadata": {},
   "source": [
    "I found the tag_name \"airdrop master\" could be interesting "
   ]
  },
  {
   "cell_type": "code",
   "execution_count": null,
   "metadata": {},
   "outputs": [],
   "source": [
    "query_airdrop_master = '''\n",
    "SELECT BLOCKCHAIN, CREATOR, ADDRESS, TAG_NAME\n",
    "FROM crosschain.core.address_tags \n",
    "WHERE BLOCKCHAIN='optimism'\n",
    "AND TAG_NAME = 'airdrop master'\n",
    ";\n",
    "'''\n",
    "df_airdrop_master = flipside_api.execute_query(query_airdrop_master)"
   ]
  },
  {
   "cell_type": "code",
   "execution_count": null,
   "metadata": {},
   "outputs": [
    {
     "name": "stdout",
     "output_type": "stream",
     "text": [
      "Percentage of addresses that interacted with airdrop master: 3%\n"
     ]
    }
   ],
   "source": [
    "# Compute the number of interactions with any of the aidrop for each address\n",
    "df_matching_address['count_interaction_with_airdrop_m'] = df_matching_address['address'].apply(lambda x: count_interaction_with_any(tx_analyser, x, df_airdrop_master['address'].unique()))\n",
    "print(f'Percentage of addresses that interacted with airdrop master: {int((df_matching_address[\"count_interaction_with_airdrop_m\"] > 0).sum() / len(df_matching_address) * 100)}%')"
   ]
  },
  {
   "cell_type": "code",
   "execution_count": null,
   "metadata": {},
   "outputs": [
    {
     "name": "stdout",
     "output_type": "stream",
     "text": [
      "Percentage of addresses that are airdrop master: 4%\n"
     ]
    }
   ],
   "source": [
    "# Boolean whether the address is a aidrop master\n",
    "df_matching_address['is_airdrop_master'] = df_matching_address['address'].apply(lambda x: x in df_airdrop_master['address'].unique()) \n",
    "print(f'Percentage of addresses that are airdrop master: {int((df_matching_address[\"is_airdrop_master\"]).sum() / len(df_matching_address) * 100)}%')"
   ]
  },
  {
   "cell_type": "code",
   "execution_count": null,
   "metadata": {},
   "outputs": [],
   "source": [
    "sql_query_tornado = '''\n",
    "SELECT DISTINCT PROJECT_NAME, ADDRESS\n",
    "FROM crosschain.core.address_labels \n",
    "WHERE BLOCKCHAIN='optimism'\n",
    "AND PROJECT_NAME LIKE '%tornado%'\n",
    ";\n",
    "'''\n",
    "df_tornado = flipside_api.execute_query(sql_query_tornado)"
   ]
  },
  {
   "cell_type": "code",
   "execution_count": null,
   "metadata": {},
   "outputs": [
    {
     "name": "stdout",
     "output_type": "stream",
     "text": [
      "Percentage of addresses that interacted with tornado: 0%\n"
     ]
    }
   ],
   "source": [
    "# Count the number of interactions with tornado\n",
    "df_matching_address['count_interaction_with_tornado'] = df_matching_address['address'].apply(lambda x: count_interaction_with_any(tx_analyser, x, df_tornado['address'].unique()))\n",
    "print(f'Percentage of addresses that interacted with tornado: {int((df_matching_address[\"count_interaction_with_tornado\"] > 0).sum() / len(df_matching_address) * 100)}%')"
   ]
  },
  {
   "cell_type": "code",
   "execution_count": null,
   "metadata": {},
   "outputs": [
    {
     "name": "stdout",
     "output_type": "stream",
     "text": [
      "Percentage of addresses that interacted with disperse: 0%\n"
     ]
    }
   ],
   "source": [
    "# Count the number of time the address interatec with disperse contract: '0xD152f549545093347A162Dce210e7293f1452150'\n",
    "df_matching_address['count_interaction_with_disperse'] = df_matching_address['address'].apply(lambda x: count_interaction_with_any(tx_analyser, x, [str.lower('0xD152f549545093347A162Dce210e7293f1452150')]))\n",
    "print(f'Percentage of addresses that interacted with disperse: {int((df_matching_address[\"count_interaction_with_disperse\"] > 0).sum() / len(df_matching_address) * 100)}%')"
   ]
  },
  {
   "cell_type": "code",
   "execution_count": null,
   "metadata": {},
   "outputs": [
    {
     "data": {
      "text/html": [
       "<div>\n",
       "<style scoped>\n",
       "    .dataframe tbody tr th:only-of-type {\n",
       "        vertical-align: middle;\n",
       "    }\n",
       "\n",
       "    .dataframe tbody tr th {\n",
       "        vertical-align: top;\n",
       "    }\n",
       "\n",
       "    .dataframe thead th {\n",
       "        text-align: right;\n",
       "    }\n",
       "</style>\n",
       "<table border=\"1\" class=\"dataframe\">\n",
       "  <thead>\n",
       "    <tr style=\"text-align: right;\">\n",
       "      <th></th>\n",
       "      <th>lcs</th>\n",
       "      <th>cluster_size_lcs</th>\n",
       "      <th>mean_score_lcs</th>\n",
       "      <th>max_score_lcs</th>\n",
       "      <th>count_interaction_with_pool</th>\n",
       "      <th>count_interaction_with_toxic</th>\n",
       "      <th>count_interaction_with_airdrop_m</th>\n",
       "      <th>count_interaction_with_tornado</th>\n",
       "      <th>count_interaction_with_disperse</th>\n",
       "    </tr>\n",
       "  </thead>\n",
       "  <tbody>\n",
       "    <tr>\n",
       "      <th>count</th>\n",
       "      <td>6164.0</td>\n",
       "      <td>6164.000000</td>\n",
       "      <td>6164.000000</td>\n",
       "      <td>6164.000000</td>\n",
       "      <td>6164.000000</td>\n",
       "      <td>6164.0</td>\n",
       "      <td>6164.000000</td>\n",
       "      <td>6164.0</td>\n",
       "      <td>6164.000000</td>\n",
       "    </tr>\n",
       "    <tr>\n",
       "      <th>mean</th>\n",
       "      <td>0.0</td>\n",
       "      <td>1.628650</td>\n",
       "      <td>0.006825</td>\n",
       "      <td>0.008025</td>\n",
       "      <td>0.220149</td>\n",
       "      <td>0.0</td>\n",
       "      <td>0.190299</td>\n",
       "      <td>0.0</td>\n",
       "      <td>0.010383</td>\n",
       "    </tr>\n",
       "    <tr>\n",
       "      <th>std</th>\n",
       "      <td>0.0</td>\n",
       "      <td>11.858166</td>\n",
       "      <td>0.031873</td>\n",
       "      <td>0.037290</td>\n",
       "      <td>0.677668</td>\n",
       "      <td>0.0</td>\n",
       "      <td>2.095473</td>\n",
       "      <td>0.0</td>\n",
       "      <td>0.330537</td>\n",
       "    </tr>\n",
       "    <tr>\n",
       "      <th>min</th>\n",
       "      <td>0.0</td>\n",
       "      <td>0.000000</td>\n",
       "      <td>0.000000</td>\n",
       "      <td>0.000000</td>\n",
       "      <td>0.000000</td>\n",
       "      <td>0.0</td>\n",
       "      <td>0.000000</td>\n",
       "      <td>0.0</td>\n",
       "      <td>0.000000</td>\n",
       "    </tr>\n",
       "    <tr>\n",
       "      <th>10%</th>\n",
       "      <td>0.0</td>\n",
       "      <td>0.000000</td>\n",
       "      <td>0.000000</td>\n",
       "      <td>0.000000</td>\n",
       "      <td>0.000000</td>\n",
       "      <td>0.0</td>\n",
       "      <td>0.000000</td>\n",
       "      <td>0.0</td>\n",
       "      <td>0.000000</td>\n",
       "    </tr>\n",
       "    <tr>\n",
       "      <th>25%</th>\n",
       "      <td>0.0</td>\n",
       "      <td>0.000000</td>\n",
       "      <td>0.000000</td>\n",
       "      <td>0.000000</td>\n",
       "      <td>0.000000</td>\n",
       "      <td>0.0</td>\n",
       "      <td>0.000000</td>\n",
       "      <td>0.0</td>\n",
       "      <td>0.000000</td>\n",
       "    </tr>\n",
       "    <tr>\n",
       "      <th>50%</th>\n",
       "      <td>0.0</td>\n",
       "      <td>0.000000</td>\n",
       "      <td>0.000000</td>\n",
       "      <td>0.000000</td>\n",
       "      <td>0.000000</td>\n",
       "      <td>0.0</td>\n",
       "      <td>0.000000</td>\n",
       "      <td>0.0</td>\n",
       "      <td>0.000000</td>\n",
       "    </tr>\n",
       "    <tr>\n",
       "      <th>75%</th>\n",
       "      <td>0.0</td>\n",
       "      <td>0.000000</td>\n",
       "      <td>0.000000</td>\n",
       "      <td>0.000000</td>\n",
       "      <td>0.000000</td>\n",
       "      <td>0.0</td>\n",
       "      <td>0.000000</td>\n",
       "      <td>0.0</td>\n",
       "      <td>0.000000</td>\n",
       "    </tr>\n",
       "    <tr>\n",
       "      <th>90%</th>\n",
       "      <td>0.0</td>\n",
       "      <td>0.000000</td>\n",
       "      <td>0.000000</td>\n",
       "      <td>0.000000</td>\n",
       "      <td>1.000000</td>\n",
       "      <td>0.0</td>\n",
       "      <td>0.000000</td>\n",
       "      <td>0.0</td>\n",
       "      <td>0.000000</td>\n",
       "    </tr>\n",
       "    <tr>\n",
       "      <th>max</th>\n",
       "      <td>0.0</td>\n",
       "      <td>159.000000</td>\n",
       "      <td>0.200000</td>\n",
       "      <td>0.200000</td>\n",
       "      <td>30.000000</td>\n",
       "      <td>0.0</td>\n",
       "      <td>81.000000</td>\n",
       "      <td>0.0</td>\n",
       "      <td>21.000000</td>\n",
       "    </tr>\n",
       "  </tbody>\n",
       "</table>\n",
       "</div>"
      ],
      "text/plain": [
       "          lcs  cluster_size_lcs  mean_score_lcs  max_score_lcs   \n",
       "count  6164.0       6164.000000     6164.000000    6164.000000  \\\n",
       "mean      0.0          1.628650        0.006825       0.008025   \n",
       "std       0.0         11.858166        0.031873       0.037290   \n",
       "min       0.0          0.000000        0.000000       0.000000   \n",
       "10%       0.0          0.000000        0.000000       0.000000   \n",
       "25%       0.0          0.000000        0.000000       0.000000   \n",
       "50%       0.0          0.000000        0.000000       0.000000   \n",
       "75%       0.0          0.000000        0.000000       0.000000   \n",
       "90%       0.0          0.000000        0.000000       0.000000   \n",
       "max       0.0        159.000000        0.200000       0.200000   \n",
       "\n",
       "       count_interaction_with_pool  count_interaction_with_toxic   \n",
       "count                  6164.000000                        6164.0  \\\n",
       "mean                      0.220149                           0.0   \n",
       "std                       0.677668                           0.0   \n",
       "min                       0.000000                           0.0   \n",
       "10%                       0.000000                           0.0   \n",
       "25%                       0.000000                           0.0   \n",
       "50%                       0.000000                           0.0   \n",
       "75%                       0.000000                           0.0   \n",
       "90%                       1.000000                           0.0   \n",
       "max                      30.000000                           0.0   \n",
       "\n",
       "       count_interaction_with_airdrop_m  count_interaction_with_tornado   \n",
       "count                       6164.000000                          6164.0  \\\n",
       "mean                           0.190299                             0.0   \n",
       "std                            2.095473                             0.0   \n",
       "min                            0.000000                             0.0   \n",
       "10%                            0.000000                             0.0   \n",
       "25%                            0.000000                             0.0   \n",
       "50%                            0.000000                             0.0   \n",
       "75%                            0.000000                             0.0   \n",
       "90%                            0.000000                             0.0   \n",
       "max                           81.000000                             0.0   \n",
       "\n",
       "       count_interaction_with_disperse  \n",
       "count                      6164.000000  \n",
       "mean                          0.010383  \n",
       "std                           0.330537  \n",
       "min                           0.000000  \n",
       "10%                           0.000000  \n",
       "25%                           0.000000  \n",
       "50%                           0.000000  \n",
       "75%                           0.000000  \n",
       "90%                           0.000000  \n",
       "max                          21.000000  "
      ]
     },
     "execution_count": 40,
     "metadata": {},
     "output_type": "execute_result"
    }
   ],
   "source": [
    "df_matching_address.describe(percentiles=[0.1, 0.25, 0.5, 0.75, 0.9])"
   ]
  },
  {
   "cell_type": "code",
   "execution_count": null,
   "metadata": {},
   "outputs": [],
   "source": [
    "df_matching_address['has_interaction_toxic'] = df_matching_address['count_interaction_with_toxic'] > 0\n",
    "df_matching_address['has_no_pool_interaction'] = df_matching_address['count_interaction_with_pool'] < 6\n",
    "df_matching_address['has_interaction_airdrop_m'] = df_matching_address['count_interaction_with_airdrop_m'] > 0\n",
    "df_matching_address['has_interaction_tornado'] = df_matching_address['count_interaction_with_tornado'] > 0\n",
    "df_matching_address['has_interaction_disperse'] = df_matching_address['count_interaction_with_disperse'] > 0"
   ]
  },
  {
   "cell_type": "code",
   "execution_count": null,
   "metadata": {},
   "outputs": [],
   "source": [
    "boolean_features = ['has_lcs', 'seed_suspicious', 'has_interaction_toxic', 'has_no_pool_interaction', 'has_interaction_airdrop_m', 'has_interaction_tornado', 'has_interaction_disperse', 'is_airdrop_master', 'interacted_other_ctbt']"
   ]
  },
  {
   "cell_type": "code",
   "execution_count": null,
   "metadata": {},
   "outputs": [
    {
     "data": {
      "text/plain": [
       "has_lcs                       287\n",
       "seed_suspicious              1970\n",
       "has_interaction_toxic           0\n",
       "has_no_pool_interaction      4689\n",
       "has_interaction_airdrop_m     230\n",
       "has_interaction_tornado         0\n",
       "has_interaction_disperse       17\n",
       "is_airdrop_master             300\n",
       "interacted_other_ctbt        1173\n",
       "dtype: int64"
      ]
     },
     "execution_count": 69,
     "metadata": {},
     "output_type": "execute_result"
    }
   ],
   "source": [
    "df_matching_address[boolean_features].sum() "
   ]
  },
  {
   "cell_type": "code",
   "execution_count": null,
   "metadata": {},
   "outputs": [
    {
     "data": {
      "text/plain": [
       "6164"
      ]
     },
     "execution_count": 70,
     "metadata": {},
     "output_type": "execute_result"
    }
   ],
   "source": [
    "len(df_matching_address)"
   ]
  },
  {
   "attachments": {},
   "cell_type": "markdown",
   "metadata": {},
   "source": [
    "### Look at the addresses with at least one flag"
   ]
  },
  {
   "attachments": {},
   "cell_type": "markdown",
   "metadata": {},
   "source": [
    "We are going to review the addresses that have at least 1 flag:\n",
    "- has_intercation_toxic \n",
    "- has_interaction_disperse\n",
    "- has_interaction_airdrop_master\n",
    "- is airdrop master\n",
    "- interacted with other contributor and less than 5 tx\n",
    "- has_lcs\n",
    "\n",
    "remove seed suspicious because many people use bridges to fund their wallet\n",
    "\n",
    "I decided to remove tornado cash because someone can be anonimous with out being a sybil"
   ]
  },
  {
   "cell_type": "code",
   "execution_count": null,
   "metadata": {},
   "outputs": [],
   "source": [
    "df_matching_address['interact_less_5tx'] = np.logical_and(df_matching_address['interacted_other_ctbt'], df_matching_address['less_5_tx'])"
   ]
  },
  {
   "cell_type": "code",
   "execution_count": null,
   "metadata": {},
   "outputs": [],
   "source": [
    "interaction_bool = ['has_lcs', 'has_interaction_toxic', 'has_interaction_airdrop_m', 'has_interaction_disperse', 'is_airdrop_master', 'interact_less_5tx']"
   ]
  },
  {
   "cell_type": "code",
   "execution_count": null,
   "metadata": {},
   "outputs": [
    {
     "data": {
      "text/plain": [
       "has_lcs                      287\n",
       "has_interaction_toxic          0\n",
       "has_interaction_airdrop_m    230\n",
       "has_interaction_disperse      17\n",
       "is_airdrop_master            300\n",
       "interact_less_5tx              7\n",
       "dtype: int64"
      ]
     },
     "execution_count": 85,
     "metadata": {},
     "output_type": "execute_result"
    }
   ],
   "source": [
    "df_matching_address[interaction_bool].sum()"
   ]
  },
  {
   "cell_type": "code",
   "execution_count": null,
   "metadata": {},
   "outputs": [
    {
     "data": {
      "text/html": [
       "<div>\n",
       "<style scoped>\n",
       "    .dataframe tbody tr th:only-of-type {\n",
       "        vertical-align: middle;\n",
       "    }\n",
       "\n",
       "    .dataframe tbody tr th {\n",
       "        vertical-align: top;\n",
       "    }\n",
       "\n",
       "    .dataframe thead th {\n",
       "        text-align: right;\n",
       "    }\n",
       "</style>\n",
       "<table border=\"1\" class=\"dataframe\">\n",
       "  <thead>\n",
       "    <tr style=\"text-align: right;\">\n",
       "      <th></th>\n",
       "      <th>has_lcs</th>\n",
       "      <th>has_interaction_toxic</th>\n",
       "      <th>has_interaction_airdrop_m</th>\n",
       "      <th>has_interaction_disperse</th>\n",
       "      <th>is_airdrop_master</th>\n",
       "      <th>interact_less_5tx</th>\n",
       "    </tr>\n",
       "  </thead>\n",
       "  <tbody>\n",
       "    <tr>\n",
       "      <th>has_lcs</th>\n",
       "      <td>1.0</td>\n",
       "      <td>0.0</td>\n",
       "      <td>0.000000</td>\n",
       "      <td>0.000000</td>\n",
       "      <td>0.000000</td>\n",
       "      <td>0.0</td>\n",
       "    </tr>\n",
       "    <tr>\n",
       "      <th>has_interaction_toxic</th>\n",
       "      <td>0.0</td>\n",
       "      <td>1.0</td>\n",
       "      <td>0.000000</td>\n",
       "      <td>0.000000</td>\n",
       "      <td>0.000000</td>\n",
       "      <td>0.0</td>\n",
       "    </tr>\n",
       "    <tr>\n",
       "      <th>has_interaction_airdrop_m</th>\n",
       "      <td>0.0</td>\n",
       "      <td>0.0</td>\n",
       "      <td>1.000000</td>\n",
       "      <td>0.000000</td>\n",
       "      <td>0.180401</td>\n",
       "      <td>0.0</td>\n",
       "    </tr>\n",
       "    <tr>\n",
       "      <th>has_interaction_disperse</th>\n",
       "      <td>0.0</td>\n",
       "      <td>0.0</td>\n",
       "      <td>0.000000</td>\n",
       "      <td>1.000000</td>\n",
       "      <td>0.006349</td>\n",
       "      <td>0.0</td>\n",
       "    </tr>\n",
       "    <tr>\n",
       "      <th>is_airdrop_master</th>\n",
       "      <td>0.0</td>\n",
       "      <td>0.0</td>\n",
       "      <td>0.180401</td>\n",
       "      <td>0.006349</td>\n",
       "      <td>1.000000</td>\n",
       "      <td>0.0</td>\n",
       "    </tr>\n",
       "    <tr>\n",
       "      <th>interact_less_5tx</th>\n",
       "      <td>0.0</td>\n",
       "      <td>0.0</td>\n",
       "      <td>0.000000</td>\n",
       "      <td>0.000000</td>\n",
       "      <td>0.000000</td>\n",
       "      <td>1.0</td>\n",
       "    </tr>\n",
       "  </tbody>\n",
       "</table>\n",
       "</div>"
      ],
      "text/plain": [
       "                           has_lcs  has_interaction_toxic   \n",
       "has_lcs                        1.0                    0.0  \\\n",
       "has_interaction_toxic          0.0                    1.0   \n",
       "has_interaction_airdrop_m      0.0                    0.0   \n",
       "has_interaction_disperse       0.0                    0.0   \n",
       "is_airdrop_master              0.0                    0.0   \n",
       "interact_less_5tx              0.0                    0.0   \n",
       "\n",
       "                           has_interaction_airdrop_m   \n",
       "has_lcs                                     0.000000  \\\n",
       "has_interaction_toxic                       0.000000   \n",
       "has_interaction_airdrop_m                   1.000000   \n",
       "has_interaction_disperse                    0.000000   \n",
       "is_airdrop_master                           0.180401   \n",
       "interact_less_5tx                           0.000000   \n",
       "\n",
       "                           has_interaction_disperse  is_airdrop_master   \n",
       "has_lcs                                    0.000000           0.000000  \\\n",
       "has_interaction_toxic                      0.000000           0.000000   \n",
       "has_interaction_airdrop_m                  0.000000           0.180401   \n",
       "has_interaction_disperse                   1.000000           0.006349   \n",
       "is_airdrop_master                          0.006349           1.000000   \n",
       "interact_less_5tx                          0.000000           0.000000   \n",
       "\n",
       "                           interact_less_5tx  \n",
       "has_lcs                                  0.0  \n",
       "has_interaction_toxic                    0.0  \n",
       "has_interaction_airdrop_m                0.0  \n",
       "has_interaction_disperse                 0.0  \n",
       "is_airdrop_master                        0.0  \n",
       "interact_less_5tx                        1.0  "
      ]
     },
     "execution_count": 86,
     "metadata": {},
     "output_type": "execute_result"
    }
   ],
   "source": [
    "from scipy.spatial.distance import pdist\n",
    "\n",
    "def jaccard_similarity_matrix(df):\n",
    "    \n",
    "    n = df.shape[1]\n",
    "    scores = 1 - pdist(np.array(df).T, metric='jaccard')\n",
    "    result = np.zeros((n,n))\n",
    "    result[np.triu_indices(n, k=1)] = scores\n",
    "    result += result.T\n",
    "    np.fill_diagonal(result, 1)\n",
    "    return pd.DataFrame(result, index=df.columns, columns=df.columns)\n",
    "\n",
    "jaccard_similarity = jaccard_similarity_matrix(df_matching_address[interaction_bool])\n",
    "jaccard_similarity"
   ]
  },
  {
   "cell_type": "code",
   "execution_count": null,
   "metadata": {},
   "outputs": [
    {
     "data": {
      "text/plain": [
       "<Axes: >"
      ]
     },
     "execution_count": 87,
     "metadata": {},
     "output_type": "execute_result"
    },
    {
     "data": {
      "image/png": "[encoded data removed]",
      "text/plain": [
       "<Figure size 640x480 with 2 Axes>"
      ]
     },
     "metadata": {},
     "output_type": "display_data"
    }
   ],
   "source": [
    "import seaborn as sns\n",
    "sns.heatmap(jaccard_similarity, annot=True)"
   ]
  },
  {
   "cell_type": "code",
   "execution_count": null,
   "metadata": {},
   "outputs": [
    {
     "name": "stdout",
     "output_type": "stream",
     "text": [
      "Number of addresses that interacted with a suspicious contract or address: 758\n"
     ]
    }
   ],
   "source": [
    "df_matching_address['flagged'] = df_matching_address[interaction_bool].sum(axis=1) > 0\n",
    "df_interact_sus_2 = df_matching_address[df_matching_address['flagged'] == True]\n",
    "print(f'Number of addresses that interacted with a suspicious contract or address: {df_interact_sus_2.shape[0]}')"
   ]
  },
  {
   "cell_type": "code",
   "execution_count": null,
   "metadata": {},
   "outputs": [],
   "source": [
    "boolean_to_keep = ['has_lcs', 'seed_suspicious', 'has_interaction_toxic', 'has_no_pool_interaction', 'has_interaction_tornado', 'has_interaction_disperse', 'is_airdrop_master', 'has_interaction_airdrop_m', 'interacted_other_ctbt', 'interact_less_5tx', 'flagged']"
   ]
  },
  {
   "cell_type": "code",
   "execution_count": null,
   "metadata": {},
   "outputs": [
    {
     "data": {
      "text/plain": [
       "has_lcs                       287\n",
       "seed_suspicious              1970\n",
       "has_interaction_toxic           0\n",
       "has_no_pool_interaction      4689\n",
       "has_interaction_tornado         0\n",
       "has_interaction_disperse       17\n",
       "is_airdrop_master             300\n",
       "has_interaction_airdrop_m     230\n",
       "interacted_other_ctbt        1173\n",
       "interact_less_5tx               7\n",
       "flagged                       758\n",
       "dtype: int64"
      ]
     },
     "execution_count": 90,
     "metadata": {},
     "output_type": "execute_result"
    }
   ],
   "source": [
    "df_matching_address[boolean_to_keep].sum()"
   ]
  },
  {
   "cell_type": "code",
   "execution_count": null,
   "metadata": {},
   "outputs": [
    {
     "name": "stdout",
     "output_type": "stream",
     "text": [
      "number of squelched votes out of 21743\n"
     ]
    },
    {
     "data": {
      "text/plain": [
       "flagged    3303\n",
       "dtype: object"
      ]
     },
     "execution_count": 91,
     "metadata": {},
     "output_type": "execute_result"
    }
   ],
   "source": [
    "final_merge = df_votes.merge(df_matching_address, left_on='voter', right_on='address', how='left')\n",
    "print(f'number of squelched votes out of {final_merge.shape[0]}')\n",
    "final_merge[['flagged']].sum() "
   ]
  },
  {
   "cell_type": "code",
   "execution_count": null,
   "metadata": {},
   "outputs": [
    {
     "name": "stdout",
     "output_type": "stream",
     "text": [
      "(21743, 12)\n",
      "(21743, 37)\n"
     ]
    }
   ],
   "source": [
    "print(df_votes.shape)\n",
    "print(final_merge.shape)"
   ]
  },
  {
   "cell_type": "code",
   "execution_count": null,
   "metadata": {},
   "outputs": [
    {
     "name": "stderr",
     "output_type": "stream",
     "text": [
      "C:\\Users\\DELL Admin\\AppData\\Local\\Temp\\ipykernel_12448\\3488879250.py:7: DtypeWarning: Columns (15,16) have mixed types. Specify dtype option on import or set low_memory=False.\n",
      "  df_votes_stephi = pd.read_csv(os.path.join(DATA_DIR_STEFI, CSV_STEPHI))\n"
     ]
    },
    {
     "name": "stdout",
     "output_type": "stream",
     "text": [
      "(81811, 19) votes stephi\n",
      "(21743, 37) final merge\n",
      "(21743, 39) votes merge\n"
     ]
    },
    {
     "data": {
      "image/png": "[encoded data removed]",
      "text/plain": [
       "<Figure size 640x480 with 2 Axes>"
      ]
     },
     "metadata": {},
     "output_type": "display_data"
    }
   ],
   "source": [
    "# Adding Stakeriddo and Gray flagged wallet\n",
    "\n",
    "DATA_DIR_STEFI = os.path.join(current_dir.parent.parent, 'stefi')\n",
    "CSV_STEPHI = 'sso_odc_analysis.csv'\n",
    "\n",
    "# load data\n",
    "df_votes_stephi = pd.read_csv(os.path.join(DATA_DIR_STEFI, CSV_STEPHI))\n",
    "print(f'{df_votes_stephi.shape} votes stephi')\n",
    "print(f'{final_merge.shape} final merge')\n",
    "df_stephi_bool_voter = df_votes_stephi[['voter', 'stakeridoo_detected', 'doge_detected']]\n",
    "df_merge = final_merge.merge(df_stephi_bool_voter.drop_duplicates(subset=['voter']), left_on='voter', right_on='voter', how='left')\n",
    "print(f'{df_merge.shape} votes merge')\n",
    "\n",
    "df_merge['stakeridoo_detected'].fillna(False, inplace=True)\n",
    "df_merge['doge_detected'].fillna(False, inplace=True)\n",
    "df_merge['odc_detected'] = np.logical_or(np.logical_or(df_merge['stakeridoo_detected'], df_merge['doge_detected']), df_merge['flagged'])\n",
    "\n",
    "boolean_jaccard = boolean_to_keep + ['stakeridoo_detected', 'doge_detected', 'odc_detected']\n",
    "jaccard_similarity_2 = jaccard_similarity_matrix(df_merge[boolean_jaccard])\n",
    "sns.heatmap(jaccard_similarity_2)\n",
    "\n",
    "df_merge.drop(columns=['address']).to_csv(f'../output_gitcoin/n_{CHAIN_ID}_{GRANT_ROUND_ID}', index=False)"
   ]
  },
  {
   "cell_type": "code",
   "execution_count": null,
   "metadata": {},
   "outputs": [
    {
     "data": {
      "text/plain": [
       "has_lcs                        787\n",
       "seed_suspicious               7760\n",
       "has_interaction_toxic            0\n",
       "has_no_pool_interaction      14424\n",
       "has_interaction_tornado          0\n",
       "has_interaction_disperse        60\n",
       "is_airdrop_master             1800\n",
       "has_interaction_airdrop_m     1156\n",
       "interacted_other_ctbt         3929\n",
       "interact_less_5tx               19\n",
       "flagged                       3303\n",
       "stakeridoo_detected            492\n",
       "doge_detected                    0\n",
       "odc_detected                  3786\n",
       "dtype: object"
      ]
     },
     "execution_count": 98,
     "metadata": {},
     "output_type": "execute_result"
    }
   ],
   "source": [
    "df_merge[boolean_jaccard].sum(axis=0)"
   ]
  },
  {
   "cell_type": "code",
   "execution_count": null,
   "metadata": {},
   "outputs": [
    {
     "data": {
      "text/html": [
       "<div>\n",
       "<style scoped>\n",
       "    .dataframe tbody tr th:only-of-type {\n",
       "        vertical-align: middle;\n",
       "    }\n",
       "\n",
       "    .dataframe tbody tr th {\n",
       "        vertical-align: top;\n",
       "    }\n",
       "\n",
       "    .dataframe thead th {\n",
       "        text-align: right;\n",
       "    }\n",
       "</style>\n",
       "<table border=\"1\" class=\"dataframe\">\n",
       "  <thead>\n",
       "    <tr style=\"text-align: right;\">\n",
       "      <th></th>\n",
       "      <th>id</th>\n",
       "      <th>transaction</th>\n",
       "      <th>blockNumber</th>\n",
       "      <th>projectId</th>\n",
       "      <th>applicationId</th>\n",
       "      <th>roundId</th>\n",
       "      <th>voter</th>\n",
       "      <th>grantAddress</th>\n",
       "      <th>token</th>\n",
       "      <th>amount</th>\n",
       "      <th>...</th>\n",
       "      <th>has_interaction_toxic</th>\n",
       "      <th>has_no_pool_interaction</th>\n",
       "      <th>has_interaction_airdrop_m</th>\n",
       "      <th>has_interaction_tornado</th>\n",
       "      <th>has_interaction_disperse</th>\n",
       "      <th>interact_less_5tx</th>\n",
       "      <th>flagged</th>\n",
       "      <th>stakeridoo_detected</th>\n",
       "      <th>doge_detected</th>\n",
       "      <th>odc_detected</th>\n",
       "    </tr>\n",
       "  </thead>\n",
       "  <tbody>\n",
       "    <tr>\n",
       "      <th>10</th>\n",
       "      <td>0x0a957eecf7379b829ce7a052a2ce26a14041a719863d...</td>\n",
       "      <td>0x9ecc3ecb47d54683d04f6db19116ff732508a5c6710f...</td>\n",
       "      <td>105530484</td>\n",
       "      <td>0x7504217cb61d4b90163e8fb0f9801f597b6972a43ad7...</td>\n",
       "      <td>9</td>\n",
       "      <td>0x984e29dcb4286c2d9cbaa2c238afdd8a191eefbc</td>\n",
       "      <td>0x8af9dde8ac866fe9b8694e9181403b984f1e4c0c</td>\n",
       "      <td>0x850a146d7478daaa98fc26fd85e6a24e50846a9d</td>\n",
       "      <td>0xDA10009cBd5D07dd0CeCc66161FC93D7c9000da1</td>\n",
       "      <td>1000000000000000000</td>\n",
       "      <td>...</td>\n",
       "      <td>False</td>\n",
       "      <td>True</td>\n",
       "      <td>False</td>\n",
       "      <td>False</td>\n",
       "      <td>False</td>\n",
       "      <td>False</td>\n",
       "      <td>True</td>\n",
       "      <td>False</td>\n",
       "      <td>False</td>\n",
       "      <td>True</td>\n",
       "    </tr>\n",
       "    <tr>\n",
       "      <th>52</th>\n",
       "      <td>0xb03fda56ae1377c5fc061bd074332e5c16f17a4a3a9c...</td>\n",
       "      <td>0x7f28cbe62e25bac6b56f3d7b76c165389ee6bbec80c7...</td>\n",
       "      <td>105533677</td>\n",
       "      <td>0x4cd41869f9b2d95c05e2cb13643f1ab7ae05ebd43934...</td>\n",
       "      <td>45</td>\n",
       "      <td>0x984e29dcb4286c2d9cbaa2c238afdd8a191eefbc</td>\n",
       "      <td>0x470b9e148ed7973acd4cbc99931ab1d8ad801745</td>\n",
       "      <td>0xbec643bd5b7f5e9190617ca4187ef0455950c51c</td>\n",
       "      <td>0x0000000000000000000000000000000000000000</td>\n",
       "      <td>2500000000000000</td>\n",
       "      <td>...</td>\n",
       "      <td>False</td>\n",
       "      <td>True</td>\n",
       "      <td>False</td>\n",
       "      <td>False</td>\n",
       "      <td>False</td>\n",
       "      <td>False</td>\n",
       "      <td>True</td>\n",
       "      <td>False</td>\n",
       "      <td>False</td>\n",
       "      <td>True</td>\n",
       "    </tr>\n",
       "    <tr>\n",
       "      <th>114</th>\n",
       "      <td>0x8c4c550ef9af2108f4d94481d42fac0b2c1aa7fce1b1...</td>\n",
       "      <td>0x7560c5fe387d0281d5141d531091186184d351054af5...</td>\n",
       "      <td>105535882</td>\n",
       "      <td>0x4cd41869f9b2d95c05e2cb13643f1ab7ae05ebd43934...</td>\n",
       "      <td>45</td>\n",
       "      <td>0x984e29dcb4286c2d9cbaa2c238afdd8a191eefbc</td>\n",
       "      <td>0x15c16d061f801f61f44f4a84161c8a81acd83b1f</td>\n",
       "      <td>0xbec643bd5b7f5e9190617ca4187ef0455950c51c</td>\n",
       "      <td>0xDA10009cBd5D07dd0CeCc66161FC93D7c9000da1</td>\n",
       "      <td>1000000000000000000</td>\n",
       "      <td>...</td>\n",
       "      <td>False</td>\n",
       "      <td>True</td>\n",
       "      <td>False</td>\n",
       "      <td>False</td>\n",
       "      <td>False</td>\n",
       "      <td>False</td>\n",
       "      <td>True</td>\n",
       "      <td>False</td>\n",
       "      <td>False</td>\n",
       "      <td>True</td>\n",
       "    </tr>\n",
       "    <tr>\n",
       "      <th>503</th>\n",
       "      <td>0x5d2504a90c34e4fb4ea8a7b0b3b34457ecd5cd0dfa8b...</td>\n",
       "      <td>0xebad7478e905684ee0ea75be1ba66275ac379c21317f...</td>\n",
       "      <td>105539725</td>\n",
       "      <td>0x0ba24d30bb476404f6982bb4868cb351afb593fda0b4...</td>\n",
       "      <td>15</td>\n",
       "      <td>0x984e29dcb4286c2d9cbaa2c238afdd8a191eefbc</td>\n",
       "      <td>0x310e17aac11fc520fe1cca063d33eb31a59d0034</td>\n",
       "      <td>0x9dcba70b2dfe5807e2a847e065ebb666791f8b8a</td>\n",
       "      <td>0x0000000000000000000000000000000000000000</td>\n",
       "      <td>600000000000000</td>\n",
       "      <td>...</td>\n",
       "      <td>False</td>\n",
       "      <td>True</td>\n",
       "      <td>False</td>\n",
       "      <td>False</td>\n",
       "      <td>False</td>\n",
       "      <td>False</td>\n",
       "      <td>True</td>\n",
       "      <td>False</td>\n",
       "      <td>False</td>\n",
       "      <td>True</td>\n",
       "    </tr>\n",
       "    <tr>\n",
       "      <th>504</th>\n",
       "      <td>0x60f4fdcb312a4a896e53e2076a3010b7f523caae81d7...</td>\n",
       "      <td>0xebad7478e905684ee0ea75be1ba66275ac379c21317f...</td>\n",
       "      <td>105539725</td>\n",
       "      <td>0x5d79092725d85663a135c9841b6c8445f20132ee2595...</td>\n",
       "      <td>57</td>\n",
       "      <td>0x984e29dcb4286c2d9cbaa2c238afdd8a191eefbc</td>\n",
       "      <td>0x310e17aac11fc520fe1cca063d33eb31a59d0034</td>\n",
       "      <td>0xa40ba205add80c214ec7a710e790a54d738c4c27</td>\n",
       "      <td>0x0000000000000000000000000000000000000000</td>\n",
       "      <td>600000000000000</td>\n",
       "      <td>...</td>\n",
       "      <td>False</td>\n",
       "      <td>True</td>\n",
       "      <td>False</td>\n",
       "      <td>False</td>\n",
       "      <td>False</td>\n",
       "      <td>False</td>\n",
       "      <td>True</td>\n",
       "      <td>False</td>\n",
       "      <td>False</td>\n",
       "      <td>True</td>\n",
       "    </tr>\n",
       "    <tr>\n",
       "      <th>...</th>\n",
       "      <td>...</td>\n",
       "      <td>...</td>\n",
       "      <td>...</td>\n",
       "      <td>...</td>\n",
       "      <td>...</td>\n",
       "      <td>...</td>\n",
       "      <td>...</td>\n",
       "      <td>...</td>\n",
       "      <td>...</td>\n",
       "      <td>...</td>\n",
       "      <td>...</td>\n",
       "      <td>...</td>\n",
       "      <td>...</td>\n",
       "      <td>...</td>\n",
       "      <td>...</td>\n",
       "      <td>...</td>\n",
       "      <td>...</td>\n",
       "      <td>...</td>\n",
       "      <td>...</td>\n",
       "      <td>...</td>\n",
       "      <td>...</td>\n",
       "    </tr>\n",
       "    <tr>\n",
       "      <th>21543</th>\n",
       "      <td>0xe4abc96be82f6828a41e3c0f068c82a9eaf2cefee2c3...</td>\n",
       "      <td>0x040855e4cf2fdd0cfb30943291fc4421d3360898634e...</td>\n",
       "      <td>106124107</td>\n",
       "      <td>0x7d375a7944644cffe00bc6a0f8df9063cf450ab664a5...</td>\n",
       "      <td>30</td>\n",
       "      <td>0x984e29dcb4286c2d9cbaa2c238afdd8a191eefbc</td>\n",
       "      <td>0xb9851ff713e00316aa4e44dc859f0f0f407fded1</td>\n",
       "      <td>0xc98786d5a7a03c1e74affcb97ff7ef8a710da09b</td>\n",
       "      <td>0x0000000000000000000000000000000000000000</td>\n",
       "      <td>650000000000000</td>\n",
       "      <td>...</td>\n",
       "      <td>False</td>\n",
       "      <td>True</td>\n",
       "      <td>False</td>\n",
       "      <td>False</td>\n",
       "      <td>False</td>\n",
       "      <td>False</td>\n",
       "      <td>True</td>\n",
       "      <td>False</td>\n",
       "      <td>False</td>\n",
       "      <td>True</td>\n",
       "    </tr>\n",
       "    <tr>\n",
       "      <th>21544</th>\n",
       "      <td>0x34e5d1d2716209e7e1bf3b8f271a1479d3b8031ebe95...</td>\n",
       "      <td>0xe082e6b3dd49c36dd52074200f85e254748a77c6d052...</td>\n",
       "      <td>106124107</td>\n",
       "      <td>0xf86d3c00eeb235e59e08ac308355ca451046a5631480...</td>\n",
       "      <td>58</td>\n",
       "      <td>0x984e29dcb4286c2d9cbaa2c238afdd8a191eefbc</td>\n",
       "      <td>0xcac45a80b7439c757b4e1cbe242afb764418c8ba</td>\n",
       "      <td>0x85a363699c6864248a6ffca66e4a1a5ccf9f5567</td>\n",
       "      <td>0x0000000000000000000000000000000000000000</td>\n",
       "      <td>654000000000000</td>\n",
       "      <td>...</td>\n",
       "      <td>False</td>\n",
       "      <td>True</td>\n",
       "      <td>False</td>\n",
       "      <td>False</td>\n",
       "      <td>False</td>\n",
       "      <td>False</td>\n",
       "      <td>True</td>\n",
       "      <td>False</td>\n",
       "      <td>False</td>\n",
       "      <td>True</td>\n",
       "    </tr>\n",
       "    <tr>\n",
       "      <th>21545</th>\n",
       "      <td>0x29300f0aa9e05ec99e7aee7640c3cc5795201e3c974c...</td>\n",
       "      <td>0xe082e6b3dd49c36dd52074200f85e254748a77c6d052...</td>\n",
       "      <td>106124107</td>\n",
       "      <td>0xad87e5bd9ff90d2b4b2bbbd531a5217254fd6513dcff...</td>\n",
       "      <td>32</td>\n",
       "      <td>0x984e29dcb4286c2d9cbaa2c238afdd8a191eefbc</td>\n",
       "      <td>0xcac45a80b7439c757b4e1cbe242afb764418c8ba</td>\n",
       "      <td>0x745ce2af76e9a6eba65cc0cacaa9ea109bb7fabd</td>\n",
       "      <td>0x0000000000000000000000000000000000000000</td>\n",
       "      <td>654000000000000</td>\n",
       "      <td>...</td>\n",
       "      <td>False</td>\n",
       "      <td>True</td>\n",
       "      <td>False</td>\n",
       "      <td>False</td>\n",
       "      <td>False</td>\n",
       "      <td>False</td>\n",
       "      <td>True</td>\n",
       "      <td>False</td>\n",
       "      <td>False</td>\n",
       "      <td>True</td>\n",
       "    </tr>\n",
       "    <tr>\n",
       "      <th>21583</th>\n",
       "      <td>0x1eda3e79adafc2769a6306bce2e9dd7e53eb76396109...</td>\n",
       "      <td>0xb37abe08dc9e499843f3917cf71e76a647fd00dd5504...</td>\n",
       "      <td>106124369</td>\n",
       "      <td>0xf0183cc502b19a91e7c3914afb8f0140d7532b4b4934...</td>\n",
       "      <td>39</td>\n",
       "      <td>0x984e29dcb4286c2d9cbaa2c238afdd8a191eefbc</td>\n",
       "      <td>0x748a3093d9afadef97f1b5694c2742d2c73fbe65</td>\n",
       "      <td>0x7904667c340601aab73939372c016dc5102732a2</td>\n",
       "      <td>0x0000000000000000000000000000000000000000</td>\n",
       "      <td>700000000000000</td>\n",
       "      <td>...</td>\n",
       "      <td>False</td>\n",
       "      <td>True</td>\n",
       "      <td>False</td>\n",
       "      <td>False</td>\n",
       "      <td>False</td>\n",
       "      <td>False</td>\n",
       "      <td>True</td>\n",
       "      <td>False</td>\n",
       "      <td>False</td>\n",
       "      <td>True</td>\n",
       "    </tr>\n",
       "    <tr>\n",
       "      <th>21584</th>\n",
       "      <td>0x5598166f85bea5bc2572ecc5009813a0b697c6b9e909...</td>\n",
       "      <td>0xb37abe08dc9e499843f3917cf71e76a647fd00dd5504...</td>\n",
       "      <td>106124369</td>\n",
       "      <td>0x7d375a7944644cffe00bc6a0f8df9063cf450ab664a5...</td>\n",
       "      <td>30</td>\n",
       "      <td>0x984e29dcb4286c2d9cbaa2c238afdd8a191eefbc</td>\n",
       "      <td>0x748a3093d9afadef97f1b5694c2742d2c73fbe65</td>\n",
       "      <td>0xc98786d5a7a03c1e74affcb97ff7ef8a710da09b</td>\n",
       "      <td>0x0000000000000000000000000000000000000000</td>\n",
       "      <td>700000000000000</td>\n",
       "      <td>...</td>\n",
       "      <td>False</td>\n",
       "      <td>True</td>\n",
       "      <td>False</td>\n",
       "      <td>False</td>\n",
       "      <td>False</td>\n",
       "      <td>False</td>\n",
       "      <td>True</td>\n",
       "      <td>False</td>\n",
       "      <td>False</td>\n",
       "      <td>True</td>\n",
       "    </tr>\n",
       "  </tbody>\n",
       "</table>\n",
       "<p>787 rows × 40 columns</p>\n",
       "</div>"
      ],
      "text/plain": [
       "                                                      id   \n",
       "10     0x0a957eecf7379b829ce7a052a2ce26a14041a719863d...  \\\n",
       "52     0xb03fda56ae1377c5fc061bd074332e5c16f17a4a3a9c...   \n",
       "114    0x8c4c550ef9af2108f4d94481d42fac0b2c1aa7fce1b1...   \n",
       "503    0x5d2504a90c34e4fb4ea8a7b0b3b34457ecd5cd0dfa8b...   \n",
       "504    0x60f4fdcb312a4a896e53e2076a3010b7f523caae81d7...   \n",
       "...                                                  ...   \n",
       "21543  0xe4abc96be82f6828a41e3c0f068c82a9eaf2cefee2c3...   \n",
       "21544  0x34e5d1d2716209e7e1bf3b8f271a1479d3b8031ebe95...   \n",
       "21545  0x29300f0aa9e05ec99e7aee7640c3cc5795201e3c974c...   \n",
       "21583  0x1eda3e79adafc2769a6306bce2e9dd7e53eb76396109...   \n",
       "21584  0x5598166f85bea5bc2572ecc5009813a0b697c6b9e909...   \n",
       "\n",
       "                                             transaction  blockNumber   \n",
       "10     0x9ecc3ecb47d54683d04f6db19116ff732508a5c6710f...    105530484  \\\n",
       "52     0x7f28cbe62e25bac6b56f3d7b76c165389ee6bbec80c7...    105533677   \n",
       "114    0x7560c5fe387d0281d5141d531091186184d351054af5...    105535882   \n",
       "503    0xebad7478e905684ee0ea75be1ba66275ac379c21317f...    105539725   \n",
       "504    0xebad7478e905684ee0ea75be1ba66275ac379c21317f...    105539725   \n",
       "...                                                  ...          ...   \n",
       "21543  0x040855e4cf2fdd0cfb30943291fc4421d3360898634e...    106124107   \n",
       "21544  0xe082e6b3dd49c36dd52074200f85e254748a77c6d052...    106124107   \n",
       "21545  0xe082e6b3dd49c36dd52074200f85e254748a77c6d052...    106124107   \n",
       "21583  0xb37abe08dc9e499843f3917cf71e76a647fd00dd5504...    106124369   \n",
       "21584  0xb37abe08dc9e499843f3917cf71e76a647fd00dd5504...    106124369   \n",
       "\n",
       "                                               projectId applicationId   \n",
       "10     0x7504217cb61d4b90163e8fb0f9801f597b6972a43ad7...             9  \\\n",
       "52     0x4cd41869f9b2d95c05e2cb13643f1ab7ae05ebd43934...            45   \n",
       "114    0x4cd41869f9b2d95c05e2cb13643f1ab7ae05ebd43934...            45   \n",
       "503    0x0ba24d30bb476404f6982bb4868cb351afb593fda0b4...            15   \n",
       "504    0x5d79092725d85663a135c9841b6c8445f20132ee2595...            57   \n",
       "...                                                  ...           ...   \n",
       "21543  0x7d375a7944644cffe00bc6a0f8df9063cf450ab664a5...            30   \n",
       "21544  0xf86d3c00eeb235e59e08ac308355ca451046a5631480...            58   \n",
       "21545  0xad87e5bd9ff90d2b4b2bbbd531a5217254fd6513dcff...            32   \n",
       "21583  0xf0183cc502b19a91e7c3914afb8f0140d7532b4b4934...            39   \n",
       "21584  0x7d375a7944644cffe00bc6a0f8df9063cf450ab664a5...            30   \n",
       "\n",
       "                                          roundId   \n",
       "10     0x984e29dcb4286c2d9cbaa2c238afdd8a191eefbc  \\\n",
       "52     0x984e29dcb4286c2d9cbaa2c238afdd8a191eefbc   \n",
       "114    0x984e29dcb4286c2d9cbaa2c238afdd8a191eefbc   \n",
       "503    0x984e29dcb4286c2d9cbaa2c238afdd8a191eefbc   \n",
       "504    0x984e29dcb4286c2d9cbaa2c238afdd8a191eefbc   \n",
       "...                                           ...   \n",
       "21543  0x984e29dcb4286c2d9cbaa2c238afdd8a191eefbc   \n",
       "21544  0x984e29dcb4286c2d9cbaa2c238afdd8a191eefbc   \n",
       "21545  0x984e29dcb4286c2d9cbaa2c238afdd8a191eefbc   \n",
       "21583  0x984e29dcb4286c2d9cbaa2c238afdd8a191eefbc   \n",
       "21584  0x984e29dcb4286c2d9cbaa2c238afdd8a191eefbc   \n",
       "\n",
       "                                            voter   \n",
       "10     0x8af9dde8ac866fe9b8694e9181403b984f1e4c0c  \\\n",
       "52     0x470b9e148ed7973acd4cbc99931ab1d8ad801745   \n",
       "114    0x15c16d061f801f61f44f4a84161c8a81acd83b1f   \n",
       "503    0x310e17aac11fc520fe1cca063d33eb31a59d0034   \n",
       "504    0x310e17aac11fc520fe1cca063d33eb31a59d0034   \n",
       "...                                           ...   \n",
       "21543  0xb9851ff713e00316aa4e44dc859f0f0f407fded1   \n",
       "21544  0xcac45a80b7439c757b4e1cbe242afb764418c8ba   \n",
       "21545  0xcac45a80b7439c757b4e1cbe242afb764418c8ba   \n",
       "21583  0x748a3093d9afadef97f1b5694c2742d2c73fbe65   \n",
       "21584  0x748a3093d9afadef97f1b5694c2742d2c73fbe65   \n",
       "\n",
       "                                     grantAddress   \n",
       "10     0x850a146d7478daaa98fc26fd85e6a24e50846a9d  \\\n",
       "52     0xbec643bd5b7f5e9190617ca4187ef0455950c51c   \n",
       "114    0xbec643bd5b7f5e9190617ca4187ef0455950c51c   \n",
       "503    0x9dcba70b2dfe5807e2a847e065ebb666791f8b8a   \n",
       "504    0xa40ba205add80c214ec7a710e790a54d738c4c27   \n",
       "...                                           ...   \n",
       "21543  0xc98786d5a7a03c1e74affcb97ff7ef8a710da09b   \n",
       "21544  0x85a363699c6864248a6ffca66e4a1a5ccf9f5567   \n",
       "21545  0x745ce2af76e9a6eba65cc0cacaa9ea109bb7fabd   \n",
       "21583  0x7904667c340601aab73939372c016dc5102732a2   \n",
       "21584  0xc98786d5a7a03c1e74affcb97ff7ef8a710da09b   \n",
       "\n",
       "                                            token               amount  ...   \n",
       "10     0xDA10009cBd5D07dd0CeCc66161FC93D7c9000da1  1000000000000000000  ...  \\\n",
       "52     0x0000000000000000000000000000000000000000     2500000000000000  ...   \n",
       "114    0xDA10009cBd5D07dd0CeCc66161FC93D7c9000da1  1000000000000000000  ...   \n",
       "503    0x0000000000000000000000000000000000000000      600000000000000  ...   \n",
       "504    0x0000000000000000000000000000000000000000      600000000000000  ...   \n",
       "...                                           ...                  ...  ...   \n",
       "21543  0x0000000000000000000000000000000000000000      650000000000000  ...   \n",
       "21544  0x0000000000000000000000000000000000000000      654000000000000  ...   \n",
       "21545  0x0000000000000000000000000000000000000000      654000000000000  ...   \n",
       "21583  0x0000000000000000000000000000000000000000      700000000000000  ...   \n",
       "21584  0x0000000000000000000000000000000000000000      700000000000000  ...   \n",
       "\n",
       "       has_interaction_toxic has_no_pool_interaction   \n",
       "10                     False                    True  \\\n",
       "52                     False                    True   \n",
       "114                    False                    True   \n",
       "503                    False                    True   \n",
       "504                    False                    True   \n",
       "...                      ...                     ...   \n",
       "21543                  False                    True   \n",
       "21544                  False                    True   \n",
       "21545                  False                    True   \n",
       "21583                  False                    True   \n",
       "21584                  False                    True   \n",
       "\n",
       "      has_interaction_airdrop_m has_interaction_tornado   \n",
       "10                        False                   False  \\\n",
       "52                        False                   False   \n",
       "114                       False                   False   \n",
       "503                       False                   False   \n",
       "504                       False                   False   \n",
       "...                         ...                     ...   \n",
       "21543                     False                   False   \n",
       "21544                     False                   False   \n",
       "21545                     False                   False   \n",
       "21583                     False                   False   \n",
       "21584                     False                   False   \n",
       "\n",
       "      has_interaction_disperse interact_less_5tx flagged stakeridoo_detected   \n",
       "10                       False             False    True               False  \\\n",
       "52                       False             False    True               False   \n",
       "114                      False             False    True               False   \n",
       "503                      False             False    True               False   \n",
       "504                      False             False    True               False   \n",
       "...                        ...               ...     ...                 ...   \n",
       "21543                    False             False    True               False   \n",
       "21544                    False             False    True               False   \n",
       "21545                    False             False    True               False   \n",
       "21583                    False             False    True               False   \n",
       "21584                    False             False    True               False   \n",
       "\n",
       "      doge_detected  odc_detected  \n",
       "10            False          True  \n",
       "52            False          True  \n",
       "114           False          True  \n",
       "503           False          True  \n",
       "504           False          True  \n",
       "...             ...           ...  \n",
       "21543         False          True  \n",
       "21544         False          True  \n",
       "21545         False          True  \n",
       "21583         False          True  \n",
       "21584         False          True  \n",
       "\n",
       "[787 rows x 40 columns]"
      ]
     },
     "execution_count": 99,
     "metadata": {},
     "output_type": "execute_result"
    }
   ],
   "source": [
    "df_merge[df_merge['has_lcs'] == True]"
   ]
  },
  {
   "cell_type": "code",
   "execution_count": null,
   "metadata": {},
   "outputs": [
    {
     "data": {
      "text/plain": [
       "array(['0x8af9dde8ac866fe9b8694e9181403b984f1e4c0c',\n",
       "       '0x4640306e6168614f4876fed6a9b3552dc4eb8585',\n",
       "       '0xe12523e7e8ac19f17ef1adb089799edf2c7d3286',\n",
       "       '0x67756e2f06d3fa61060c103fa07cf8d925f77ad2',\n",
       "       '0x80ccb9473d002c07b04c802b9e6fadf3100db7c8',\n",
       "       '0x834cd95fb7fcb89bf4030c606d9b6732ed33279a',\n",
       "       '0xf67e291050d5a31a2ac07b2fc7bdad9b38a136b9',\n",
       "       '0x7d96b51289f98ae86d791664ba07ea8171397622',\n",
       "       '0xb9851ff713e00316aa4e44dc859f0f0f407fded1',\n",
       "       '0x310e17aac11fc520fe1cca063d33eb31a59d0034',\n",
       "       '0x8270a0febba70899419e76a98bf2b5dc15fe2ff4',\n",
       "       '0x8bb8cc3715e48b1f33f9d2cd5861d9866f9c16e6',\n",
       "       '0x039dccc8a288426a8998186a4ce4d3cd2c257a85',\n",
       "       '0x229519b031d6f2dffad550032e170592e004dcc4',\n",
       "       '0x40875286b86f7c33b02ab218314061e9562f2ced',\n",
       "       '0xd83d94867f043e6f433d21e067eac01e25b97436',\n",
       "       '0x07a8b20d298160d0f321b02ce2ea9087fbfbb4fe',\n",
       "       '0x08445c001c4c43f74c9a0ac8e7671671b21e76f3',\n",
       "       '0xf84f094cfcce59cca42e6cb4ecae144bda07e5a8',\n",
       "       '0x8f38284b8cc234214a85285a8c52ee4d83b292ec',\n",
       "       '0xd549cd776a6a52cf2185e8bf6829923059fc8176',\n",
       "       '0x86a5944a6dd3c5a6394f8129ee938dd300579a5f',\n",
       "       '0x13d9f69268b705152d5caeb7b8a8b84b1be3eb13',\n",
       "       '0x554be1dfb5b77d4c252e5d2bdfea842282203888',\n",
       "       '0x748a3093d9afadef97f1b5694c2742d2c73fbe65',\n",
       "       '0xaf2ff783d91928cb5100655d948adfe685fe8427',\n",
       "       '0xd69267b795d48d00ccb9bc907f2a7aac1a864b3c',\n",
       "       '0x98914e8e5bbad08c17c07fc7211d2336624d2a01',\n",
       "       '0xf45215cc41729f3ce17d1ab3187fee0d62775f82',\n",
       "       '0x0e9cef4345bc04d37795b5b9d2642c6a0eb85e4a',\n",
       "       '0xc2838c5f882f43958ac6993b5195618595c3f283',\n",
       "       '0xb49bf2dbb45012c07084f1c52f81ccfb293cd323',\n",
       "       '0x86a611704cafefa7dfcafed96f340114a0798034',\n",
       "       '0xf164135701f36b86dcb8d3d4cdffe30677b15704',\n",
       "       '0x509bea2ad9bcf38a95cb1ad7e4aac40a4a1249c5',\n",
       "       '0xdf766cd020979c27cbd8a29b2e5be9e5827a18cf',\n",
       "       '0xd8f3f73fc7bb20d87bb8a95ba733066dfb8a7f2c',\n",
       "       '0x83ad8dd3bc2da49ada096b387d8d70e7fa7a8b33',\n",
       "       '0xfc6fcda58af9937f9875aaeb71a02f219c02cace',\n",
       "       '0x056f236eff9e1876fde89f9805173327bb362ff2',\n",
       "       '0x870e75a230bf07c6c62b1684b2fa533151da5594',\n",
       "       '0xf20b9f2b7028199ffbcc7dea99a6295ff9e2a4d3',\n",
       "       '0xbd960317bc7db59b1feec55b01b5dbe0fd35142a',\n",
       "       '0x48ad6672b1afe28315e54d8097022caa444c522d',\n",
       "       '0xf8d39e8f4b922308856bcd3305c1af103f637428',\n",
       "       '0x3bb4528dea10ec81882624e3a2049f661d2ce8a3',\n",
       "       '0x42ddebde020d5b46d3358b8aac963fb8de630d1e',\n",
       "       '0x2a61efd6988d6d998015393590ce4eda22ddd8fb',\n",
       "       '0x70469299a97e0957924484273acadae6027c673c',\n",
       "       '0x7d860a3d948cfd85d2854b816fb0b51701e83f37',\n",
       "       '0xe3541439d57629bdd04607afc745579fb6b18c71',\n",
       "       '0x1f6b9c9b622965933e1f8895bc07ffd4aef0dbb8',\n",
       "       '0x17ffc2e2f6ec1b3e108f3353ca05c6ad0dcdea17',\n",
       "       '0x3b16e643291d060330d36ec22398d16485137977',\n",
       "       '0x9aab9afe4e269de558ceb429ba7767a1a5680f55',\n",
       "       '0x8518cd7b64248f218547c2b47778fc9b49bf01eb',\n",
       "       '0x4c7d4619129fc9f699603f84eed8dc73bf59cdad',\n",
       "       '0xfc7fcea8274bca12439956206342830671c5bb15',\n",
       "       '0x9b5e1d2f16a11b504b1d7b09188fa89e831b2082',\n",
       "       '0xe020b915091d3e49de33a974715cf2ad57836fea',\n",
       "       '0x4bf551fa2663c2a1ed578126c50def60b1f71b79',\n",
       "       '0xf40763d2f75dc1684f125223bcfc95b1a2c6ebc3',\n",
       "       '0xe6775b09178f8aa72df80935dc9213b5e79d43b3',\n",
       "       '0xff8342e10872ebef2827a92d4d0a54d4850b2c1f',\n",
       "       '0xabdbd5b64b0e0f8bca70a0610fb242001cd09d19',\n",
       "       '0xc580ae3ebc743596763805f273932888dbc8e25c',\n",
       "       '0x4eba1cb7669cb4e39c903f08e1cc0f49a8ba2251',\n",
       "       '0xc719d64474df2617348bbd08fbe4d1329553eb8e',\n",
       "       '0x8d45fa8a96d6b3398c7da4e309948fa008e46754',\n",
       "       '0x8434a1ee10e7d117da263c1b56355cc0eabf868a',\n",
       "       '0xeb9458e52054c0332da270de77e0d223ee4de967',\n",
       "       '0x749db31260a9530c47f7559fb16c34d44d0acd73',\n",
       "       '0xb63e7686fe057c0c8c6b93f5752b14a942e73e5c',\n",
       "       '0x70fdd5a8527f140f67c886fb7b592a3b6dafb91b',\n",
       "       '0x581a09c496595b93b2f4ec5cd19280a31ff57da9',\n",
       "       '0xae5436c988547139a7f29823d2cad414767a7a6c',\n",
       "       '0x0702be1c35fbd8ea1d8e3f9c05a106db6c3dd8b4',\n",
       "       '0xf6918d50e4e47ed01d5d9eebd3899ab99659586d',\n",
       "       '0x6ce847855066715a73f914358803a71380c6d76d',\n",
       "       '0x7b3967fa168ec71910a06cd69ac84056ce834811',\n",
       "       '0x8e1542e3239098193374fa48978952d2e6cbd45f',\n",
       "       '0xee11a59fa705ae0a1d22fecdfa78a61f6a4bf9f3',\n",
       "       '0xc033ada4f798300dc65304a02e7a1558b5d1a34e',\n",
       "       '0x91ff011d1138c72ed414559b218336457bc288ef',\n",
       "       '0xab3695132a6489e96ef730adf028cda5c2a39458',\n",
       "       '0xa8872b97935e61716ff29fa5fa187edcb03c4b31',\n",
       "       '0x470b9e148ed7973acd4cbc99931ab1d8ad801745',\n",
       "       '0x2d8799aad7efb50689b4299cce03b044c0aec888',\n",
       "       '0x15d538369629520e88af9c10802ddc153f0f9619',\n",
       "       '0x8eeffbbff6cc917d333308c34df894e552975318',\n",
       "       '0xc675265091678407750fc075725ff4f250ce3800',\n",
       "       '0x15c16d061f801f61f44f4a84161c8a81acd83b1f',\n",
       "       '0xea19d98e8e339788d28954fbf8ef0cb0d4d2f727',\n",
       "       '0x1653691933111d7bfa0567a7e88a0672a03d1c1c',\n",
       "       '0x6462b56134b8974f23191641197252707137dbae',\n",
       "       '0x819d1cc28291560b804b44331f10c5e0d28e5d2f',\n",
       "       '0x8efd27a5a585e2220d3d013f24722d8474eaa6f9',\n",
       "       '0x3eba6b24e5bae1a004931fa664ce3dffc4598a07',\n",
       "       '0xcee7bfd363b420dd33094715b83e0193c32c37b1',\n",
       "       '0xbf390af9daffb7e660bba767bfec1b64c958b87a',\n",
       "       '0xeba95fb00f11aef913500ff8e424f53af92f76c9',\n",
       "       '0x5afc097927b253890d1038f61732e9e19b18f6a7',\n",
       "       '0x2e00950d0b8e0735147de7b0249fb525e990e406',\n",
       "       '0xd5d4063f18cff1dd4657207df58e2df983e1797f',\n",
       "       '0xc8501f84b52126bfa9de138909e1f593cde55ba1',\n",
       "       '0x3aa9180b882901ee282a5bd6eaa889bb0558a221',\n",
       "       '0x63015141896343bf8e644dcda124f5bf5c6a59d4',\n",
       "       '0xcac45a80b7439c757b4e1cbe242afb764418c8ba',\n",
       "       '0x624db064ea2afd995b6f0456bb5872c63c7c1276',\n",
       "       '0x5d31f848ce4661c27e092290d0db2ac89db542f3',\n",
       "       '0x05c2c1d0c3cf0134987191c28707352284d3bd3e',\n",
       "       '0xc750f6ff535873b5fd11f4af12f59bf860941361',\n",
       "       '0xf249b6a22ac4c4121ef8b8a7aec712e0e1791c01',\n",
       "       '0xec1ebfc82743223635ac8fd23fc15873d91694d5',\n",
       "       '0x27273f138703b8ebd2e1d02a55ba44892b5bb32e',\n",
       "       '0x43ebaa52fea188a9eec790ab0187fded7e9c489f',\n",
       "       '0xddb53b1ced041462d18ce9a9a278906cc4d5be28',\n",
       "       '0x35bb74570b6f46495196168ff68d0136cba0518a',\n",
       "       '0xe9a7fa56a52fdded546ce981203490687da25849',\n",
       "       '0x74ce8dc204c161be7379de9b48efa7498ab43044',\n",
       "       '0x52a5986b3d5dffcf7e233300efb0ba6bb5a7c44b',\n",
       "       '0xcf501f5a44fa855ef22737836d93daf5ff8c62ec',\n",
       "       '0x01d7016c5acc11fcb57e7f1823456c1383f8068c',\n",
       "       '0xcd64e47867fbfa236185f79673411ab1000e0c6b',\n",
       "       '0x8dd58cc2bd08b39c5143a7ce9bda2b21a87bf995',\n",
       "       '0xbc91c332322477500c00a0a5f32ef02c6cb410e1',\n",
       "       '0x76c69486b2e8d35948fea420d70ab6231870be4d',\n",
       "       '0xb754dfdbdadd95b4699df3a33964eaf7c63da9be',\n",
       "       '0x0ca95a247da8882a27c57c53aff3aa885b805e9f',\n",
       "       '0x8bebee448688a2bd83cf3b13cb2e784880037d59',\n",
       "       '0x0ae546ee5ff80a199f8495a4416abcf18c99b935',\n",
       "       '0x78a7948bdf1d6bca55d73437b584d3f530d8c293',\n",
       "       '0x06bc5be9ad18a47987c169c9947b9f72ae88b2d8',\n",
       "       '0xff63ed58f32b0ab25d53726656462f0a3f264f5f',\n",
       "       '0x7b44f1037a1b40e525c9f7aad4d3eb7ef44e2a37',\n",
       "       '0xc5cc95a9c787e6d3ae3d6cde6f54350a579f569a',\n",
       "       '0xf8dbfecc20444f3ed68e3205be4534761e8ab189',\n",
       "       '0x255a9bcdfea03d35b95c2f4f513daa37c8bfd582',\n",
       "       '0x5d8f7210f92438582bb7a938ef5490083774eff6',\n",
       "       '0x62f1721f8672a1e42abb3c04f10b9c75d1d90113',\n",
       "       '0x9de64b246e70efd22a24a4f1c5d2cb2d2e2378b4',\n",
       "       '0x55a50e910910694d97a37118d1f2d30f86fb1872',\n",
       "       '0x554ee0f6cdf321123c3533094a966684fddf62de',\n",
       "       '0x32d0019847104e86a215b39ea52c82cdcfde878c',\n",
       "       '0x19d97d14fd98a6e65bf1765ec3d9d6be35e3d70a',\n",
       "       '0x94270483dec3d67b464396b9bf63412382c6819e',\n",
       "       '0x991835eb84f91e7739b4a42be8a20ef00506576b',\n",
       "       '0x80a497205cc9fdf870ab8f0de8aa9fd36de5607c',\n",
       "       '0xe65a39989a4332d72a5c2adb4d88740434f00565',\n",
       "       '0x7c8f1329e83f6907a3c854c85f8d1832b023908b',\n",
       "       '0x91668534c74f0fbd7674d216cdbe64c2a2436a20',\n",
       "       '0x1acc0fdde2b085857a7e98d98ce86e740d3ca021',\n",
       "       '0xbe9a247218683cf7000a2255dc27708a4f96f0ce',\n",
       "       '0xfe896d4044993fa5b1953fa5bbc5bd9419a7d2e5',\n",
       "       '0x6ac8113ba900ca42dddc89782fe7c876ef19edf3',\n",
       "       '0x0c74f2640e452695a9ea1fb7313ab59520050980',\n",
       "       '0x0f11b097d7a8a19fd12906e9ffb359435b424b14',\n",
       "       '0x3cb0fdeabce47deeeef22dea10896d865cd1667e',\n",
       "       '0x6f9ed123848ee18b6f1d962b3f8d73eae9b33b1c',\n",
       "       '0x8e5b5f853ba469120a0941172e73e17834aef2d4',\n",
       "       '0xcbc09614f4431a608ce8c907f1cb2aeec19197cf',\n",
       "       '0x87a9019f03ab3fafa07b6ad22657acbe5871c8f1',\n",
       "       '0x333c9a1baac198900b6865a7b3a42909ebd0cf18',\n",
       "       '0x308affadc5c1c388a9ff49b7c16290814696cab8',\n",
       "       '0x478a7f1103be7abd1bc077b95a4a7d8c58490dbc',\n",
       "       '0xc3a8ac2991a5392aea2274b8c27923aaf0a6ec48',\n",
       "       '0xcf2066de262f54e6a7f8563842f96e57c38e96f4',\n",
       "       '0xd1b18894323c9efa8e28daa93d7286170eadf0ac',\n",
       "       '0x9b43b7409c47a0212e824013e995dcf8b2c3ab15',\n",
       "       '0x09166a665f4596d42f7952975abc108d85d57a13',\n",
       "       '0x864b33482feb6fe1ed07be3e458d99c7084941c7',\n",
       "       '0x5026f212f955f61c8a5c98430503635a99d70918',\n",
       "       '0xa4bc1e7da46348e5f86d7f22f5285e315d726cf9',\n",
       "       '0x10de3250f8f905d49135b5ff0b17441c9ee8e283',\n",
       "       '0x189ca20f6c8dcf60a6f09ca2ebea63ed16b403da',\n",
       "       '0xfc69b202c7f441b9c72cfc9ce2ba3ecec63260d2',\n",
       "       '0xe4e760fe9e985ec8caf12f5740060aa234af39e2',\n",
       "       '0x4155060b8c5d026f2ca0fa5901ec4a9393285cdf',\n",
       "       '0x2ea22920599161eafefe31fc481ae0ee1280cad6',\n",
       "       '0x427181c742d8126e6983be6eb76e471a801b47e6',\n",
       "       '0x308b6031cd280cb5fa2aedafd1050dd2b366716e',\n",
       "       '0x4cdcbec7e07d6ffac6312b87cbc319128dead4e1',\n",
       "       '0x2f48e52bead14161fe08ff797d53f33721fadf76',\n",
       "       '0xf7154187f1ff8aa79a1fef2f6b2113b3c5f9c8ea',\n",
       "       '0xbe529e687fe66f49cdca8a1e24e18a18a014db1d',\n",
       "       '0x40d6ff27a2864873f89046d951a8937c57ad2554',\n",
       "       '0x584e9e95085401adcd511b62551e8f52c731060c',\n",
       "       '0xb1cc4256f505cf6b49635d731c62563fe44f6ba0',\n",
       "       '0xfc0619bf1ef569f0fd5d702f086d4c9b812c2774',\n",
       "       '0xa458c0e342ce8ed52ad050d2d6fa0ff472d49224',\n",
       "       '0x59a1771ae95cb9dd62f7b2ed7e6a450dfe49e66a',\n",
       "       '0xf74d6dcecd1e5a9155b060d244a435dbd9ce1551',\n",
       "       '0xad0db63bd85a4d572b626aa7ce38ab34f6282112',\n",
       "       '0xa01206670a79e54ee8f52fb46e0fa4ac10b8c1c9',\n",
       "       '0x5fed909730cb4ea5cdb7c37a901cc18bbce8701a',\n",
       "       '0x4607514cc75dce007c37ae2f2898105c08904986',\n",
       "       '0x0a310ec3a2721634809d82fd40c8e4bc0f3f1d6d',\n",
       "       '0xd80e5838b2e673516887bdfb7e28d5433e8784ee',\n",
       "       '0xcbeade6c407436c4717f98b555f0d53f719142a1',\n",
       "       '0x13f42ae7c72d560d03809343d3622be56fba1bd2',\n",
       "       '0xb497b8e24c2be07b02ba4ce43adb8c2a135f956f',\n",
       "       '0x58055b43c125f30bc043b4b7fc2b8aca4de983fe',\n",
       "       '0xc0eed95cfaa8faa7e2d1013ba8e5c0bdd2db1196',\n",
       "       '0xc70362b4b7357dcc4f2dd89f24bab96523d2184f',\n",
       "       '0x44d0357fcfd76bda5968374c3cf901b69c105575',\n",
       "       '0x14f0a1c2da662662bde1510c8be2e3d38a9b93f3',\n",
       "       '0x35f5897fbde6259f42316959799d62ec91f1d3f1',\n",
       "       '0x01fe3c095752faed42fabe770c9368c48e3a4169',\n",
       "       '0xf2d85c116ab6051a72ecf1063930034e6fa07129',\n",
       "       '0x968783c4cbc948050e8f735492e95053c0a8cba5',\n",
       "       '0x95015fa44af672e183410fdca11c632aca46ba88',\n",
       "       '0xc20872e243e776cc7cd141a2bb462b498208a471',\n",
       "       '0x5b5def2718aa2e98f193c9e7f93eb70b42fa290e',\n",
       "       '0x8ac12b8e96875bbc8bdfba8f482ff1d2a3476784',\n",
       "       '0x821914faaddeb9d7eb8e7f6c53052dc35367f5b0',\n",
       "       '0x59611bd27e5e21d56008eb05a9fbeff47c84f337',\n",
       "       '0xb6cd34ba8d1adc7ecf2c696f43d674def4ac9f1b',\n",
       "       '0x0301f541ae4216a0b04fa52c6a34d7a58d21d692',\n",
       "       '0x451fc24bcea16b7051d3b8551e819764935248ba',\n",
       "       '0xc000c75b1455760f8c277973e40000b1acf490a7',\n",
       "       '0x7d57599ecddb78f0a5f2c5e8a28224cc9105001b',\n",
       "       '0x6570ea7e90bf6a8dc58cac248399e24374a74c0e',\n",
       "       '0x91256ae824175f0b58ad8977d8dc46a0aabfa7bd',\n",
       "       '0x48e859735bba44d50a7dc43931b66ad316354ed6',\n",
       "       '0x10712cb7a9d7e306cb81dd9a450ef5324db0d79b',\n",
       "       '0xc037bce113d8eaf9cb62e8e709b5e5aec3a23123',\n",
       "       '0x9357bc41a3e6bcfcd527868a417a7d879afbc225',\n",
       "       '0xa2afba172a47098932757cdb42483828813556e1',\n",
       "       '0x6731caa60d74f7083c582e2b7d5c5b6c8e04b804',\n",
       "       '0xa7617de4b2147984b6745dd7d972493907be2be7',\n",
       "       '0x431e299d657c1c6992f4046a565e057ce389f3ec',\n",
       "       '0xa4afad796db3eb21ae134d11026fd1a95347c5f5',\n",
       "       '0x12689aed449eb4e5cd48dddba19eb2223f230b1b',\n",
       "       '0xefb774b77ec2f67306e1d1e937ad299446b48f25',\n",
       "       '0xc262a6a3067cef1b76974efa9a451b8a71eaf7ff',\n",
       "       '0x85b485098a833796c185719c34fdd4733885a0cf',\n",
       "       '0x58c4af3ddc93c71ee4f550d32adaf2d2ab921c96',\n",
       "       '0x674e5209e614591ee394f13078cbbc0e9423c823',\n",
       "       '0xc198d0acfe290675234ead3505f22eaeadf8c2d6',\n",
       "       '0x2173d8efe5d4b73ec2b5346ace48e276b252b5b3',\n",
       "       '0x1144e5b48e30ef24df1b63454edc506501d3bc7a',\n",
       "       '0x8a27bb0fb256358b9774c308854cf47f495ef3bd',\n",
       "       '0xee62beff0c9dc7eb4877ade95907b10811bdf565',\n",
       "       '0xd65f6858c452ea425a98d7ee6bc88e227ab95d5f',\n",
       "       '0x35b6caaa86587755dbe92a82127784df9639bafb',\n",
       "       '0xe5568480a1821f64e316397f4f16fcd8c8c3654b',\n",
       "       '0xbfeec248b2e5116c00d44c184204b7d11a2ecce2',\n",
       "       '0x202dd5ed1fd4158d013bf38daea7f8e6d9df24a7',\n",
       "       '0x34c2cdbe0956a885a3bb5bb8187277ee3cb36ca2',\n",
       "       '0xa6b7f8fbbe3c878ebe027969a5eab2c45b6c8230',\n",
       "       '0x2a2e94326839d69cf13bd5d3b56f4b34f8b14300',\n",
       "       '0x70ac9bd9ef3c3d5308685561d2316ad1896b0006',\n",
       "       '0x97f91e3112ab2492bd7681c9cecec72ec0c7be4a',\n",
       "       '0x15a8ebc0816e6481953f8ba2b478111bc6ac2ab8',\n",
       "       '0x91010bb71d416d9e24b6698a03c8c02dfbc4318a',\n",
       "       '0x1b1a3bb73d65d93a585d03462472acc855b90c62',\n",
       "       '0x4916c18646b6b4b78750a8a917158c1a42594dba',\n",
       "       '0x4046b7fd76c79fe18f84486a0b7eb1387e37af34',\n",
       "       '0x46d4cd0fce250232648184e88daf723d8771cc1f',\n",
       "       '0x46d8be87d08c69a8552675fb15e9ce0c1c58e949',\n",
       "       '0x688d70a4f73e18be161224cbfa40432bbccb043d',\n",
       "       '0xf3c2a75e090a68bbd9500a12fa951915c8c785a1',\n",
       "       '0x9c09f242e43e4291bcd9d1cdb3a50b7e84b5b57d',\n",
       "       '0xa20e199da8f469af2e310083f6b4443e4d4c90e7',\n",
       "       '0x112841215d87829c44c2f9aea25c6d4c558201f6',\n",
       "       '0x500f3ea74ecd11320859285cc63e5dfe33e15612',\n",
       "       '0x9063b85b1e7e8172f9527e2ec62e552ad070eabf',\n",
       "       '0x40aaa0b56835cfce7675bdd75c8a00a11e97b494',\n",
       "       '0x3dc7eb9d1782cbe5ad4f6a596e1d5823eea9fa4b',\n",
       "       '0x029233ccacdfcb9aad7d87f319d3f5ecd86ce79d',\n",
       "       '0x64002f168418034065f788bb84d2cb3e6b92e2a5',\n",
       "       '0x92f1fe991d58c8fda955b2acfe06f3637f0dbd4d',\n",
       "       '0x202c6f4991293b0e8816fe05d5a55ccd6e3ccb75',\n",
       "       '0xacc386cf73af1dcf6902a697eb02b099ab76d6d7',\n",
       "       '0x92bd838ab94a104ae261a3d07c273700364f9706',\n",
       "       '0xca4db03e5e3a91d9c2cc5cc28e590f30d2b57232',\n",
       "       '0xea04c24f8924e8c0403d8626d8601508caa17230',\n",
       "       '0x0c9a583cf49037cd060e7155b58700d8d1c75486',\n",
       "       '0x6927c15503b4d7101531ac2c544b96d7d78b3f75',\n",
       "       '0x1caaf7165a0079a1c8af05a3efde72537d64a00d',\n",
       "       '0x48ab36958415fc42546fec05df127e1ec130f5c2',\n",
       "       '0x92efe80947e8f83d9f794d54a6555b43efe76c23',\n",
       "       '0x358f0da29bf463e3e8c3204d95117d8cf1c00bd3',\n",
       "       '0x2ed01cbb724d51acbc769add3a0c53b7cc3454ae',\n",
       "       '0xc795b6631862d8cf4a7c95fc3d2d86189d5be3b2',\n",
       "       '0x452f7261c110d86edf4dfc451ddc0627a956ab3a',\n",
       "       '0x00d4df4070932bea8f398f021af6250dda341292'], dtype=object)"
      ]
     },
     "execution_count": 100,
     "metadata": {},
     "output_type": "execute_result"
    }
   ],
   "source": [
    "df_merge[df_merge['has_lcs'] == True].sort_values(\"max_score_lcs\").voter.unique()"
   ]
  },
  {
   "cell_type": "code",
   "execution_count": null,
   "metadata": {},
   "outputs": [
    {
     "data": {
      "text/plain": [
       "count                                            787\n",
       "unique                                            33\n",
       "top       0xeb0cf83c80e4b4cd82196dac94e2c579672b6b1c\n",
       "freq                                             108\n",
       "Name: grantAddress, dtype: object"
      ]
     },
     "execution_count": 101,
     "metadata": {},
     "output_type": "execute_result"
    }
   ],
   "source": [
    "df_merge[df_merge['has_lcs'] == True].grantAddress.describe()   "
   ]
  },
  {
   "cell_type": "code",
   "execution_count": null,
   "metadata": {},
   "outputs": [
    {
     "ename": "NameError",
     "evalue": "name 'df_application' is not defined",
     "output_type": "error",
     "traceback": [
      "\u001b[1;31m---------------------------------------------------------------------------\u001b[0m",
      "\u001b[1;31mNameError\u001b[0m                                 Traceback (most recent call last)",
      "Cell \u001b[1;32mIn[102], line 1\u001b[0m\n\u001b[1;32m----> 1\u001b[0m df_application\u001b[39m.\u001b[39mcolumns\n",
      "\u001b[1;31mNameError\u001b[0m: name 'df_application' is not defined"
     ]
    }
   ],
   "source": [
    "df_application.columns"
   ]
  },
  {
   "cell_type": "code",
   "execution_count": null,
   "metadata": {},
   "outputs": [
    {
     "data": {
      "text/plain": [
       "19    0x18aa467e40e1defb1956708830a343c1d01d3d7c\n",
       "Name: metadata.application.recipient, dtype: object"
      ]
     },
     "execution_count": 95,
     "metadata": {},
     "output_type": "execute_result"
    }
   ],
   "source": [
    "df_application[df_application[\"metadata.application.project.title\"].str.lower().str.contains('jedi')][\"metadata.application.recipient\"]"
   ]
  },
  {
   "cell_type": "code",
   "execution_count": null,
   "metadata": {},
   "outputs": [],
   "source": [
    "jedi_swap = df_merge[df_merge['grantAddress'].str.lower() == str.lower('0x18aa467E40E1deFB1956708830A343c1D01d3D7C')]"
   ]
  },
  {
   "cell_type": "code",
   "execution_count": null,
   "metadata": {},
   "outputs": [
    {
     "data": {
      "text/plain": [
       "9506"
      ]
     },
     "execution_count": 110,
     "metadata": {},
     "output_type": "execute_result"
    }
   ],
   "source": [
    "jedi_swap['voter'].nunique()"
   ]
  },
  {
   "cell_type": "code",
   "execution_count": null,
   "metadata": {},
   "outputs": [
    {
     "data": {
      "text/plain": [
       "(9710,)"
      ]
     },
     "execution_count": 111,
     "metadata": {},
     "output_type": "execute_result"
    }
   ],
   "source": [
    "jedi_swap['voter'].shape"
   ]
  },
  {
   "cell_type": "code",
   "execution_count": null,
   "metadata": {},
   "outputs": [
    {
     "data": {
      "text/plain": [
       "Index(['id', 'projectId', 'applicationId', 'roundId', 'token', 'voter',\n",
       "       'grantAddress', 'amount', 'amountUSD', 'coefficient', 'status',\n",
       "       'last_score_timestamp', 'type', 'success', 'rawScore', 'threshold',\n",
       "       'address', 'seed_same_naive', 'seed_same', 'seed_suspicious',\n",
       "       'less_5_tx', 'less_10_tx', 'interacted_other_ctbt', 'lcs',\n",
       "       'cluster_size_lcs', 'mean_score_lcs', 'max_score_lcs', 'has_lcs',\n",
       "       'count_interaction_with_pool', 'count_interaction_with_toxic',\n",
       "       'count_interaction_with_airdrop_m', 'is_airdrop_master',\n",
       "       'count_interaction_with_tornado', 'count_interaction_with_disperse',\n",
       "       'has_interaction_toxic', 'has_no_pool_interaction',\n",
       "       'has_interaction_airdrop_m', 'has_interaction_tornado',\n",
       "       'has_interaction_disperse', 'interact_less_5tx', 'flagged',\n",
       "       'stakeridoo_detected', 'doge_detected', 'bool_gitcoin_detected',\n",
       "       'odc_detected', 'proposed_coeff'],\n",
       "      dtype='object')"
      ]
     },
     "execution_count": 112,
     "metadata": {},
     "output_type": "execute_result"
    }
   ],
   "source": [
    "jedi_swap.columns"
   ]
  },
  {
   "cell_type": "code",
   "execution_count": null,
   "metadata": {},
   "outputs": [
    {
     "data": {
      "text/plain": [
       "odc_detected                 2374\n",
       "stakeridoo_detected           449\n",
       "doge_detected                  32\n",
       "bool_gitcoin_detected         222\n",
       "is_airdrop_master             567\n",
       "has_interaction_toxic         187\n",
       "has_no_pool_interaction      8440\n",
       "has_interaction_airdrop_m    1355\n",
       "has_interaction_tornado        84\n",
       "has_interaction_disperse      113\n",
       "interact_less_5tx               5\n",
       "has_lcs                       167\n",
       "dtype: int64"
      ]
     },
     "execution_count": 121,
     "metadata": {},
     "output_type": "execute_result"
    }
   ],
   "source": [
    "jedi_swap[[\"odc_detected\", \"stakeridoo_detected\", \"doge_detected\", \"bool_gitcoin_detected\", \"is_airdrop_master\", \"has_interaction_toxic\", \"has_no_pool_interaction\", \"has_interaction_airdrop_m\", \"has_interaction_tornado\", \"has_interaction_disperse\", \"interact_less_5tx\", \"has_lcs\"]].sum()"
   ]
  },
  {
   "cell_type": "code",
   "execution_count": null,
   "metadata": {},
   "outputs": [
    {
     "name": "stderr",
     "output_type": "stream",
     "text": [
      "C:\\Users\\DELL Admin\\AppData\\Local\\Temp\\ipykernel_9816\\525363702.py:1: DtypeWarning: Columns (7) have mixed types. Specify dtype option on import or set low_memory=False.\n",
      "  df_no_lcs= pd.read_csv(os.path.join('C:\\\\Users\\\\DELL Admin\\\\Downloads\\\\Telegram Desktop', f\"n_{CSV_GITCOIN_GRANTS}\"))\n"
     ]
    }
   ],
   "source": [
    "df_no_lcs= pd.read_csv(os.path.join('C:\\\\Users\\\\DELL Admin\\\\Downloads\\\\Telegram Desktop', f\"n_{CSV_GITCOIN_GRANTS}\"))"
   ]
  },
  {
   "cell_type": "code",
   "execution_count": null,
   "metadata": {},
   "outputs": [],
   "source": [
    "bool_old = set(boolean_jaccard) - set(['has_lcs', 'bool_gitcoin_detected'])\n",
    "bool_old = list(bool_old)"
   ]
  },
  {
   "cell_type": "code",
   "execution_count": null,
   "metadata": {},
   "outputs": [
    {
     "data": {
      "text/plain": [
       "is_airdrop_master             5230\n",
       "has_no_pool_interaction      69503\n",
       "stakeridoo_detected           3527\n",
       "has_interaction_tornado       1271\n",
       "seed_suspicious               2319\n",
       "has_interaction_toxic         1763\n",
       "has_interaction_airdrop_m    12198\n",
       "interacted_other_ctbt        22821\n",
       "odc_detected                 19274\n",
       "interact_less_5tx               83\n",
       "has_interaction_disperse      1192\n",
       "flagged                      16274\n",
       "doge_detected                  215\n",
       "dtype: int64"
      ]
     },
     "execution_count": 133,
     "metadata": {},
     "output_type": "execute_result"
    }
   ],
   "source": [
    "df_no_lcs[bool_old].sum(axis=0)"
   ]
  },
  {
   "cell_type": "code",
   "execution_count": null,
   "metadata": {},
   "outputs": [
    {
     "data": {
      "text/plain": [
       "-1479"
      ]
     },
     "execution_count": 134,
     "metadata": {},
     "output_type": "execute_result"
    }
   ],
   "source": [
    "19274 - 20753"
   ]
  },
  {
   "cell_type": "code",
   "execution_count": null,
   "metadata": {},
   "outputs": [
    {
     "data": {
      "text/html": [
       "<div>\n",
       "<style scoped>\n",
       "    .dataframe tbody tr th:only-of-type {\n",
       "        vertical-align: middle;\n",
       "    }\n",
       "\n",
       "    .dataframe tbody tr th {\n",
       "        vertical-align: top;\n",
       "    }\n",
       "\n",
       "    .dataframe thead th {\n",
       "        text-align: right;\n",
       "    }\n",
       "</style>\n",
       "<table border=\"1\" class=\"dataframe\">\n",
       "  <thead>\n",
       "    <tr style=\"text-align: right;\">\n",
       "      <th></th>\n",
       "      <th>grantAddress</th>\n",
       "      <th>voter</th>\n",
       "    </tr>\n",
       "  </thead>\n",
       "  <tbody>\n",
       "    <tr>\n",
       "      <th>0</th>\n",
       "      <td>0x3a5bd1e37b099ae3386d13947b6a90d97675e5e3</td>\n",
       "      <td>197</td>\n",
       "    </tr>\n",
       "    <tr>\n",
       "      <th>1</th>\n",
       "      <td>0x18aa467e40e1defb1956708830a343c1d01d3d7c</td>\n",
       "      <td>167</td>\n",
       "    </tr>\n",
       "    <tr>\n",
       "      <th>2</th>\n",
       "      <td>0x08a3c2a819e3de7aca384c798269b3ce1cd0e437</td>\n",
       "      <td>159</td>\n",
       "    </tr>\n",
       "    <tr>\n",
       "      <th>3</th>\n",
       "      <td>0x99b36fdbc582d113af36a21eba06bfeab7b9be12</td>\n",
       "      <td>157</td>\n",
       "    </tr>\n",
       "    <tr>\n",
       "      <th>4</th>\n",
       "      <td>0xdb0c831283c003686aef40ca228e42bdabf6674c</td>\n",
       "      <td>136</td>\n",
       "    </tr>\n",
       "    <tr>\n",
       "      <th>5</th>\n",
       "      <td>0x5683921269b041fbe66882dd6cadd48b7e5b5817</td>\n",
       "      <td>127</td>\n",
       "    </tr>\n",
       "    <tr>\n",
       "      <th>6</th>\n",
       "      <td>0xe126b3e5d052f1f575828f61feba4f4f2603652a</td>\n",
       "      <td>77</td>\n",
       "    </tr>\n",
       "    <tr>\n",
       "      <th>7</th>\n",
       "      <td>0x4b8810b079eb22ecf2d1f75e08e0abbd6fd87dbf</td>\n",
       "      <td>70</td>\n",
       "    </tr>\n",
       "    <tr>\n",
       "      <th>8</th>\n",
       "      <td>0x01d79bceaeaadfb8fd2f2f53005289cfcf483464</td>\n",
       "      <td>62</td>\n",
       "    </tr>\n",
       "    <tr>\n",
       "      <th>9</th>\n",
       "      <td>0x57ea12a3a8e441f5fe7b1f3af1121097b7d3b6a8</td>\n",
       "      <td>61</td>\n",
       "    </tr>\n",
       "  </tbody>\n",
       "</table>\n",
       "</div>"
      ],
      "text/plain": [
       "                                 grantAddress  voter\n",
       "0  0x3a5bd1e37b099ae3386d13947b6a90d97675e5e3    197\n",
       "1  0x18aa467e40e1defb1956708830a343c1d01d3d7c    167\n",
       "2  0x08a3c2a819e3de7aca384c798269b3ce1cd0e437    159\n",
       "3  0x99b36fdbc582d113af36a21eba06bfeab7b9be12    157\n",
       "4  0xdb0c831283c003686aef40ca228e42bdabf6674c    136\n",
       "5  0x5683921269b041fbe66882dd6cadd48b7e5b5817    127\n",
       "6  0xe126b3e5d052f1f575828f61feba4f4f2603652a     77\n",
       "7  0x4b8810b079eb22ecf2d1f75e08e0abbd6fd87dbf     70\n",
       "8  0x01d79bceaeaadfb8fd2f2f53005289cfcf483464     62\n",
       "9  0x57ea12a3a8e441f5fe7b1f3af1121097b7d3b6a8     61"
      ]
     },
     "execution_count": 139,
     "metadata": {},
     "output_type": "execute_result"
    }
   ],
   "source": [
    "df_lcs_top_grant = df_merge[df_merge['has_lcs'] == True].groupby('grantAddress')['voter'].count().sort_values(ascending=False).reset_index()\n",
    "df_lcs_top_grant.head(10)"
   ]
  },
  {
   "cell_type": "code",
   "execution_count": null,
   "metadata": {},
   "outputs": [],
   "source": [
    "df_application['metadata.application.project.title']"
   ]
  },
  {
   "cell_type": "code",
   "execution_count": null,
   "metadata": {},
   "outputs": [
    {
     "data": {
      "text/plain": [
       "10                                           Lenster\n",
       "19                                          JediSwap\n",
       "167                                        Chainlist\n",
       "24                                         DefiLlama\n",
       "87     Taho - Open Source and Community Owned Wallet\n",
       "105                           Leto | Transfer crypto\n",
       "104                         Via | Cross-chain router\n",
       "73                                           OmniBTC\n",
       "14       Revoke.cash - Helping you stay safe in web3\n",
       "100         BrightID 🔆 Universal Proof of Uniqueness\n",
       "Name: metadata.application.project.title, dtype: object"
      ]
     },
     "execution_count": 150,
     "metadata": {},
     "output_type": "execute_result"
    }
   ],
   "source": [
    "df_application.merge(df_lcs_top_grant, left_on='metadata.application.recipient', right_on='grantAddress', how='left').sort_values(by='voter', ascending=False)['metadata.application.project.title'].head(10)"
   ]
  },
  {
   "cell_type": "code",
   "execution_count": null,
   "metadata": {},
   "outputs": [
    {
     "data": {
      "text/plain": [
       "has_no_pool_interaction\n",
       "True     12670\n",
       "False     1884\n",
       "Name: count, dtype: int64"
      ]
     },
     "execution_count": 156,
     "metadata": {},
     "output_type": "execute_result"
    }
   ],
   "source": [
    "df_merge.drop_duplicates(subset=[\"voter\"])['has_no_pool_interaction'].value_counts()"
   ]
  },
  {
   "cell_type": "code",
   "execution_count": null,
   "metadata": {},
   "outputs": [],
   "source": [
    "df_stake = df_merge.drop_duplicates(subset=[\"voter\"])[df_merge.drop_duplicates(subset=[\"voter\"])['stakeridoo_detected'] == True]"
   ]
  },
  {
   "cell_type": "code",
   "execution_count": null,
   "metadata": {},
   "outputs": [
    {
     "data": {
      "text/html": [
       "<div>\n",
       "<style scoped>\n",
       "    .dataframe tbody tr th:only-of-type {\n",
       "        vertical-align: middle;\n",
       "    }\n",
       "\n",
       "    .dataframe tbody tr th {\n",
       "        vertical-align: top;\n",
       "    }\n",
       "\n",
       "    .dataframe thead th {\n",
       "        text-align: right;\n",
       "    }\n",
       "</style>\n",
       "<table border=\"1\" class=\"dataframe\">\n",
       "  <thead>\n",
       "    <tr style=\"text-align: right;\">\n",
       "      <th></th>\n",
       "      <th>voter</th>\n",
       "      <th>rawScore</th>\n",
       "    </tr>\n",
       "  </thead>\n",
       "  <tbody>\n",
       "    <tr>\n",
       "      <th>486</th>\n",
       "      <td>0x34e2cb7513a50b19f450a067ed5230a86c13a2e9</td>\n",
       "      <td>37.01</td>\n",
       "    </tr>\n",
       "    <tr>\n",
       "      <th>526</th>\n",
       "      <td>0xe4d9f174e9b9f987836030ca0b244a5b4f615869</td>\n",
       "      <td>44.23</td>\n",
       "    </tr>\n",
       "    <tr>\n",
       "      <th>959</th>\n",
       "      <td>0x2fe95ba46d36e6bbc8d3bbc6bf3f18c85c91f3af</td>\n",
       "      <td>34.72</td>\n",
       "    </tr>\n",
       "    <tr>\n",
       "      <th>1592</th>\n",
       "      <td>0xddcfad43fb08c29935f3c6752b3a0d4f64d17b3c</td>\n",
       "      <td>39.10</td>\n",
       "    </tr>\n",
       "    <tr>\n",
       "      <th>2291</th>\n",
       "      <td>0x723aadf9329a770c8a77f205eaacc879b6e83f55</td>\n",
       "      <td>31.70</td>\n",
       "    </tr>\n",
       "    <tr>\n",
       "      <th>...</th>\n",
       "      <td>...</td>\n",
       "      <td>...</td>\n",
       "    </tr>\n",
       "    <tr>\n",
       "      <th>72265</th>\n",
       "      <td>0xfc7d1491dfcdcf6e72bf202e6d3bf5cc55e5b5ee</td>\n",
       "      <td>43.78</td>\n",
       "    </tr>\n",
       "    <tr>\n",
       "      <th>74902</th>\n",
       "      <td>0xe01ada32ad63ea1e021a3dd9c1c9baedfd5fbf11</td>\n",
       "      <td>37.12</td>\n",
       "    </tr>\n",
       "    <tr>\n",
       "      <th>76186</th>\n",
       "      <td>0xb7c1c4290946efc9fb8e4c47a65899f98f448272</td>\n",
       "      <td>31.80</td>\n",
       "    </tr>\n",
       "    <tr>\n",
       "      <th>77810</th>\n",
       "      <td>0xa437edb5987318649c05386801135a0c0bfcb701</td>\n",
       "      <td>33.15</td>\n",
       "    </tr>\n",
       "    <tr>\n",
       "      <th>79712</th>\n",
       "      <td>0x110b8b6717c4da32d86a8d3ef78964d44f9d61f0</td>\n",
       "      <td>32.02</td>\n",
       "    </tr>\n",
       "  </tbody>\n",
       "</table>\n",
       "<p>62 rows × 2 columns</p>\n",
       "</div>"
      ],
      "text/plain": [
       "                                            voter  rawScore\n",
       "486    0x34e2cb7513a50b19f450a067ed5230a86c13a2e9     37.01\n",
       "526    0xe4d9f174e9b9f987836030ca0b244a5b4f615869     44.23\n",
       "959    0x2fe95ba46d36e6bbc8d3bbc6bf3f18c85c91f3af     34.72\n",
       "1592   0xddcfad43fb08c29935f3c6752b3a0d4f64d17b3c     39.10\n",
       "2291   0x723aadf9329a770c8a77f205eaacc879b6e83f55     31.70\n",
       "...                                           ...       ...\n",
       "72265  0xfc7d1491dfcdcf6e72bf202e6d3bf5cc55e5b5ee     43.78\n",
       "74902  0xe01ada32ad63ea1e021a3dd9c1c9baedfd5fbf11     37.12\n",
       "76186  0xb7c1c4290946efc9fb8e4c47a65899f98f448272     31.80\n",
       "77810  0xa437edb5987318649c05386801135a0c0bfcb701     33.15\n",
       "79712  0x110b8b6717c4da32d86a8d3ef78964d44f9d61f0     32.02\n",
       "\n",
       "[62 rows x 2 columns]"
      ]
     },
     "execution_count": 176,
     "metadata": {},
     "output_type": "execute_result"
    }
   ],
   "source": [
    "df_stake[df_stake.rawScore > 30][['voter', 'rawScore']]"
   ]
  },
  {
   "cell_type": "code",
   "execution_count": null,
   "metadata": {},
   "outputs": [],
   "source": [
    "df_merge[df_merge['voter'].isin(['0xbd125f7c40e252a090871b865aca471f5cb8ee01', '0xb58f2521f5a05cfbee6f88171ac94ac088888888', '0x34e2cb7513a50b19f450a067ed5230a86c13a2e9'])].to_csv((\"cluster.csv\"), index=False)"
   ]
  },
  {
   "cell_type": "code",
   "execution_count": null,
   "metadata": {},
   "outputs": [],
   "source": [
    "df_test_vote = pd.read_csv('C:/Users/DELL Admin/Downloads/Gitcoin Citizens  Round #1_ Retroactive funding  (1).csv')"
   ]
  },
  {
   "cell_type": "code",
   "execution_count": null,
   "metadata": {},
   "outputs": [
    {
     "data": {
      "text/plain": [
       "Index(['id', 'transaction', 'blockNumber', 'projectId', 'applicationId',\n",
       "       'roundId', 'voter', 'grantAddress', 'token', 'amount', 'amountUSD',\n",
       "       'amountRoundToken', 'project_id', 'title', 'status', 'utc_time'],\n",
       "      dtype='object')"
      ]
     },
     "execution_count": 109,
     "metadata": {},
     "output_type": "execute_result"
    }
   ],
   "source": [
    "df_test_vote.columns"
   ]
  },
  {
   "cell_type": "code",
   "execution_count": null,
   "metadata": {},
   "outputs": [
    {
     "data": {
      "text/plain": [
       "39657.92561761"
      ]
     },
     "execution_count": 112,
     "metadata": {},
     "output_type": "execute_result"
    }
   ],
   "source": [
    "df_test_vote.amountUSD.sum()"
   ]
  },
  {
   "cell_type": "code",
   "execution_count": null,
   "metadata": {},
   "outputs": [
    {
     "data": {
      "text/plain": [
       "'0x4193c793a5a082818c36b4736f9a8c8eaabfa62bc0d050f8e9f51a2ccf68a089'"
      ]
     },
     "execution_count": 107,
     "metadata": {},
     "output_type": "execute_result"
    }
   ],
   "source": [
    "df_test_vote.sort_values(by='blockNumber', ascending=True).loc[0, 'transaction']"
   ]
  }
 ],
 "metadata": {
  "kernelspec": {
   "display_name": "venvotes",
   "language": "python",
   "name": "python3"
  },
  "language_info": {
   "codemirror_mode": {
    "name": "ipython",
    "version": 3
   },
   "file_extension": ".py",
   "mimetype": "text/x-python",
   "name": "python",
   "nbconvert_exporter": "python",
   "pygments_lexer": "ipython3",
   "version": "3.10.9"
  },
  "orig_nbformat": 4
 },
 "nbformat": 4,
 "nbformat_minor": 2
}
