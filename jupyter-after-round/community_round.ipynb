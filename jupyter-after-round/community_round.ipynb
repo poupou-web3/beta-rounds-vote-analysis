{
 "cells": [
  {
   "attachments": {},
   "cell_type": "markdown",
   "metadata": {},
   "source": [
    "# vote_coefficients_0xAA40E2E5c8df03d792A52B5458959C320F86ca18_1\n"
   ]
  },
  {
   "cell_type": "code",
   "execution_count": 135,
   "metadata": {},
   "outputs": [],
   "source": [
    "import os\n",
    "from pathlib import Path\n",
    "import numpy as np\n",
    "import requests\n",
    "import pandas as pd\n",
    "\n",
    "from sbdata.FlipsideApi import FlipsideApi\n",
    "\n",
    "\n",
    "\n",
    "# Set path to data folder\n",
    "current_dir = Path(os.getcwd())\n",
    "FOLDER_NAME = 'community_round'\n",
    "CHAIN = 'optimism'\n",
    "PATH_TO_EXPORT = os.path.join(current_dir.parent.parent, 'tx_data', FOLDER_NAME)\n",
    "DATA_DIR = os.path.join(current_dir.parent.parent, 'data-regen-rangers')\n",
    "DATA_DIR_GITCOIN = os.path.join(current_dir.parent.parent, 'data-gitcoin')\n",
    "GRANT_ROUND_ID = '0x984e29dCB4286c2D9cbAA2c238AfDd8A191Eefbc'\n",
    "CHAIN_ID = '10'\n",
    "\n",
    "\n",
    "# read the address from oss grant\n",
    "\n",
    "api_key = os.environ['FLIPSIDE_API_KEY']\n",
    "flipside_api = FlipsideApi(api_key, max_address=400)\n",
    "PATH_TO_VOTES = os.path.join(DATA_DIR_GITCOIN, 'citizen-votes.csv')\n",
    "# PATH_TO_GRANTS = os.path.join(DATA_DIR, \"all-allo-rounds.csv\")\n",
    "# PATH_TO_PROJECTS = os.path.join(DATA_DIR, \"projects_QmQurt.csv\")\n",
    "# PATH_TO_VOTES_GITCOIN = os.path.join(DATA_DIR_GITCOIN, CSV_GITCOIN_GRANTS)\n",
    "\n"
   ]
  },
  {
   "cell_type": "code",
   "execution_count": 136,
   "metadata": {},
   "outputs": [],
   "source": [
    "# def load_round_votes_data(chain_id, round_id):\n",
    "#     votes_url = 'https://indexer-grants-stack.gitcoin.co/data/' + chain_id + '/rounds/' + round_id + '/votes.json'\n",
    "#     try:\n",
    "#         # download the Votes JSON data from the URL\n",
    "#         response = requests.get(votes_url)\n",
    "#         if response.status_code == 200:\n",
    "#             votes_data = response.json()\n",
    "#         df = pd.DataFrame(votes_data)\n",
    "#         return df\n",
    "#     except:\n",
    "#         return pd.DataFrame()"
   ]
  },
  {
   "cell_type": "code",
   "execution_count": 137,
   "metadata": {},
   "outputs": [],
   "source": [
    "# # load data\n",
    "# df_votes = df_votes = load_round_votes_data(CHAIN_ID, GRANT_ROUND_ID)"
   ]
  },
  {
   "cell_type": "code",
   "execution_count": 138,
   "metadata": {},
   "outputs": [],
   "source": [
    "df_votes = pd.read_csv(PATH_TO_VOTES)\n",
    "# df_grants = pd.read_csv(PATH_TO_GRANTS)\n",
    "# df_application = pd.read_csv(PATH_TO_PROJECTS)\n",
    "# Lowercase all addresses because flipside api return lowercase address\n",
    "#id,projectId,applicationId,roundId,token,voter,grantAddress,amount,amountUSD,coefficient,status,last_score_timestamp,type,success,rawScore,threshold\n",
    "# df_grants['Round ID'] = df_grants['Round ID'].str.lower()\n",
    "# str_columns_votes = ['id', 'transaction', 'projectId', 'roundId', 'voter', 'grantAddress']\n",
    "# df_votes[str_columns_votes] = df_votes[str_columns_votes].applymap(lambda x: x.lower())\n",
    "\n",
    "# str_columns_application = ['id', 'roundId', 'metadata.application.round', 'metadata.application.recipient']\n",
    "# df_application[str_columns_application] = df_application[str_columns_application].applymap(lambda x: str(x).lower())\n",
    "\n",
    "# round_id = df_grants[df_grants['Round name'] == 'Web3 Community and Education']['Round ID'].values[0]\n",
    "array_unique_address = df_votes['voter'].unique()\n",
    "\n",
    "array_unique_address = np.char.lower(array_unique_address.astype(str))"
   ]
  },
  {
   "cell_type": "code",
   "execution_count": 139,
   "metadata": {},
   "outputs": [],
   "source": [
    "from sbutils import LoadData\n",
    "\n",
    "# Load data\n",
    "data_loader = LoadData.LoadData(PATH_TO_EXPORT)\n",
    "df_tx = data_loader.create_df_tx(CHAIN, array_unique_address)"
   ]
  },
  {
   "cell_type": "code",
   "execution_count": 140,
   "metadata": {},
   "outputs": [
    {
     "data": {
      "text/plain": [
       "(2822339, 10)"
      ]
     },
     "execution_count": 140,
     "metadata": {},
     "output_type": "execute_result"
    }
   ],
   "source": [
    "df_tx.shape"
   ]
  },
  {
   "cell_type": "code",
   "execution_count": 141,
   "metadata": {},
   "outputs": [
    {
     "data": {
      "text/plain": [
       "17023"
      ]
     },
     "execution_count": 141,
     "metadata": {},
     "output_type": "execute_result"
    }
   ],
   "source": [
    "len(array_unique_address)"
   ]
  },
  {
   "cell_type": "code",
   "execution_count": 142,
   "metadata": {},
   "outputs": [
    {
     "data": {
      "text/plain": [
       "17023"
      ]
     },
     "execution_count": 142,
     "metadata": {},
     "output_type": "execute_result"
    }
   ],
   "source": [
    "df_tx.EOA.nunique()"
   ]
  },
  {
   "cell_type": "code",
   "execution_count": 143,
   "metadata": {},
   "outputs": [
    {
     "data": {
      "text/plain": [
       "array([], dtype=object)"
      ]
     },
     "execution_count": 143,
     "metadata": {},
     "output_type": "execute_result"
    }
   ],
   "source": [
    "c = np.setxor1d(array_unique_address, df_tx.EOA.values)\n",
    "c"
   ]
  },
  {
   "attachments": {},
   "cell_type": "markdown",
   "metadata": {},
   "source": [
    "## Computing legos booleans"
   ]
  },
  {
   "cell_type": "code",
   "execution_count": 144,
   "metadata": {},
   "outputs": [],
   "source": [
    "from sblegos.TransactionAnalyser import TransactionAnalyser as txa\n",
    "tx_analyser = txa(df_tx, df_address=pd.DataFrame(np.intersect1d(df_tx.EOA.unique(), array_unique_address), columns=['address']))"
   ]
  },
  {
   "attachments": {},
   "cell_type": "markdown",
   "metadata": {},
   "source": [
    "use matching address because some addresses are not in the extracted data set"
   ]
  },
  {
   "cell_type": "code",
   "execution_count": 145,
   "metadata": {},
   "outputs": [
    {
     "data": {
      "text/html": [
       "<div>\n",
       "<style scoped>\n",
       "    .dataframe tbody tr th:only-of-type {\n",
       "        vertical-align: middle;\n",
       "    }\n",
       "\n",
       "    .dataframe tbody tr th {\n",
       "        vertical-align: top;\n",
       "    }\n",
       "\n",
       "    .dataframe thead th {\n",
       "        text-align: right;\n",
       "    }\n",
       "</style>\n",
       "<table border=\"1\" class=\"dataframe\">\n",
       "  <thead>\n",
       "    <tr style=\"text-align: right;\">\n",
       "      <th></th>\n",
       "      <th>address</th>\n",
       "    </tr>\n",
       "  </thead>\n",
       "  <tbody>\n",
       "    <tr>\n",
       "      <th>0</th>\n",
       "      <td>0x000000006f457c0f8f560333d9c2877287d92a92</td>\n",
       "    </tr>\n",
       "    <tr>\n",
       "      <th>1</th>\n",
       "      <td>0x000128fa45d79dc9af8016da242781f12c363fd5</td>\n",
       "    </tr>\n",
       "  </tbody>\n",
       "</table>\n",
       "</div>"
      ],
      "text/plain": [
       "                                      address\n",
       "0  0x000000006f457c0f8f560333d9c2877287d92a92\n",
       "1  0x000128fa45d79dc9af8016da242781f12c363fd5"
      ]
     },
     "execution_count": 145,
     "metadata": {},
     "output_type": "execute_result"
    }
   ],
   "source": [
    "df_matching_address = pd.DataFrame(df_tx.EOA.unique(), columns=[\"address\"])\n",
    "df_matching_address.head(2)"
   ]
  },
  {
   "attachments": {},
   "cell_type": "markdown",
   "metadata": {},
   "source": [
    "Compute the boolean "
   ]
  },
  {
   "attachments": {},
   "cell_type": "markdown",
   "metadata": {},
   "source": [
    "less than 10 x transaction are not performant legos so we don't use it, has same seed is computed as an intermediarry to get the seed_suspicious flag"
   ]
  },
  {
   "cell_type": "code",
   "execution_count": 146,
   "metadata": {},
   "outputs": [],
   "source": [
    "df_matching_address['seed_same_naive'] = df_matching_address.loc[:, 'address'].apply(lambda x : tx_analyser.has_same_seed_naive(x))\n",
    "df_matching_address['seed_same'] = df_matching_address.loc[:, 'address'].apply(lambda x : tx_analyser.has_same_seed(x))\n",
    "df_matching_address['seed_suspicious'] = df_matching_address.loc[:, 'seed_same_naive'].ne(df_matching_address.loc[:, 'seed_same'])\n",
    "df_matching_address['less_5_tx'] = df_matching_address.loc[:, 'address'].apply(lambda x : tx_analyser.has_less_than_n_transactions(x, 5))\n",
    "df_matching_address['less_10_tx'] = df_matching_address.loc[:, 'address'].apply(lambda x : tx_analyser.has_less_than_n_transactions(x, 10))"
   ]
  },
  {
   "cell_type": "code",
   "execution_count": 147,
   "metadata": {},
   "outputs": [],
   "source": [
    "df_matching_address['interacted_other_ctbt'] = df_matching_address.loc[:, 'address'].apply(lambda x : tx_analyser.has_interacted_with_other_contributor(x))"
   ]
  },
  {
   "cell_type": "code",
   "execution_count": 148,
   "metadata": {},
   "outputs": [],
   "source": [
    "df_matching_address['lcs'] = 0\n",
    "r = df_matching_address.loc[df_matching_address['less_10_tx'] == True, 'address'].apply(lambda x: tx_analyser.transaction_similitude_pylcs(x, minimum_sim_tx=3))"
   ]
  },
  {
   "cell_type": "code",
   "execution_count": 149,
   "metadata": {},
   "outputs": [
    {
     "name": "stdout",
     "output_type": "stream",
     "text": [
      "1082\n"
     ]
    }
   ],
   "source": [
    "def lcs_to_array(lcs):\n",
    "    if lcs.shape[0] == 0:\n",
    "        return []\n",
    "    else:\n",
    "        return np.asarray(lcs.reset_index())\n",
    "\n",
    "def get_mean_score_lcs(lcs):\n",
    "    if lcs.shape[0] == 0:\n",
    "        return 0\n",
    "    else:\n",
    "        return lcs.reset_index()['score'].mean()\n",
    "    \n",
    "def get_max_score_lcs(lcs):\n",
    "    if lcs.shape[0] == 0:\n",
    "        return 0\n",
    "    else:\n",
    "        return lcs.reset_index()['score'].max()\n",
    "    \n",
    "df_matching_address['cluster_size_lcs'] = 0\n",
    "df_matching_address['mean_score_lcs'] = 0\n",
    "df_matching_address['max_score_lcs'] = 0\n",
    "\n",
    "df_matching_address.loc[df_matching_address['less_10_tx'] == True, 'cluster_size_lcs'] = r.apply(lambda x: len(x))\n",
    "df_matching_address.loc[df_matching_address['less_10_tx'] == True, 'mean_score_lcs'] = r.apply(lambda x: get_mean_score_lcs(x))\n",
    "df_matching_address.loc[df_matching_address['less_10_tx'] == True, 'max_score_lcs'] = r.apply(lambda x: get_max_score_lcs(x))\n",
    "\n",
    "df_matching_address['has_lcs'] = df_matching_address['cluster_size_lcs'] > 0\n",
    "\n",
    "print((df_matching_address[df_matching_address['less_10_tx'] == True]['cluster_size_lcs'] > 0).sum())"
   ]
  },
  {
   "cell_type": "code",
   "execution_count": 150,
   "metadata": {},
   "outputs": [
    {
     "name": "stdout",
     "output_type": "stream",
     "text": [
      "Number of voters: 17023\n"
     ]
    }
   ],
   "source": [
    "print(f'Number of voters: {len(df_matching_address)}')"
   ]
  },
  {
   "cell_type": "code",
   "execution_count": 151,
   "metadata": {},
   "outputs": [
    {
     "data": {
      "text/plain": [
       "address                  0x000000006f457c0f8f560333d9c2877287d92a920x00...\n",
       "seed_same_naive                                                       7290\n",
       "seed_same                                                            10999\n",
       "seed_suspicious                                                       5229\n",
       "less_5_tx                                                              910\n",
       "less_10_tx                                                            2352\n",
       "interacted_other_ctbt                                                 3315\n",
       "lcs                                                                      0\n",
       "cluster_size_lcs                                                     47991\n",
       "mean_score_lcs                                                  157.549362\n",
       "max_score_lcs                                                     184.4721\n",
       "has_lcs                                                               1082\n",
       "dtype: object"
      ]
     },
     "execution_count": 151,
     "metadata": {},
     "output_type": "execute_result"
    }
   ],
   "source": [
    "df_matching_address.sum()"
   ]
  },
  {
   "attachments": {},
   "cell_type": "markdown",
   "metadata": {},
   "source": [
    "### Investigating the boolean seed suspicious"
   ]
  },
  {
   "cell_type": "code",
   "execution_count": 152,
   "metadata": {},
   "outputs": [
    {
     "data": {
      "text/html": [
       "<div>\n",
       "<style scoped>\n",
       "    .dataframe tbody tr th:only-of-type {\n",
       "        vertical-align: middle;\n",
       "    }\n",
       "\n",
       "    .dataframe tbody tr th {\n",
       "        vertical-align: top;\n",
       "    }\n",
       "\n",
       "    .dataframe thead th {\n",
       "        text-align: right;\n",
       "    }\n",
       "</style>\n",
       "<table border=\"1\" class=\"dataframe\">\n",
       "  <thead>\n",
       "    <tr style=\"text-align: right;\">\n",
       "      <th></th>\n",
       "      <th>address</th>\n",
       "      <th>seed_same_naive</th>\n",
       "      <th>seed_same</th>\n",
       "      <th>seed_suspicious</th>\n",
       "      <th>less_5_tx</th>\n",
       "      <th>less_10_tx</th>\n",
       "      <th>interacted_other_ctbt</th>\n",
       "      <th>lcs</th>\n",
       "      <th>cluster_size_lcs</th>\n",
       "      <th>mean_score_lcs</th>\n",
       "      <th>max_score_lcs</th>\n",
       "      <th>has_lcs</th>\n",
       "    </tr>\n",
       "  </thead>\n",
       "  <tbody>\n",
       "    <tr>\n",
       "      <th>2</th>\n",
       "      <td>0x000569d03483abb8949f729908465e65c4bdb243</td>\n",
       "      <td>False</td>\n",
       "      <td>True</td>\n",
       "      <td>True</td>\n",
       "      <td>False</td>\n",
       "      <td>True</td>\n",
       "      <td>False</td>\n",
       "      <td>0</td>\n",
       "      <td>57</td>\n",
       "      <td>0.194386</td>\n",
       "      <td>0.2</td>\n",
       "      <td>True</td>\n",
       "    </tr>\n",
       "    <tr>\n",
       "      <th>5</th>\n",
       "      <td>0x0017f7adf1b404298efa3015ca0b56961fea4c34</td>\n",
       "      <td>False</td>\n",
       "      <td>True</td>\n",
       "      <td>True</td>\n",
       "      <td>False</td>\n",
       "      <td>False</td>\n",
       "      <td>False</td>\n",
       "      <td>0</td>\n",
       "      <td>0</td>\n",
       "      <td>0.000000</td>\n",
       "      <td>0.0</td>\n",
       "      <td>False</td>\n",
       "    </tr>\n",
       "    <tr>\n",
       "      <th>6</th>\n",
       "      <td>0x001eabec5ae0e4dc40aecd9a75a6377fa0b31dcb</td>\n",
       "      <td>False</td>\n",
       "      <td>True</td>\n",
       "      <td>True</td>\n",
       "      <td>False</td>\n",
       "      <td>False</td>\n",
       "      <td>False</td>\n",
       "      <td>0</td>\n",
       "      <td>0</td>\n",
       "      <td>0.000000</td>\n",
       "      <td>0.0</td>\n",
       "      <td>False</td>\n",
       "    </tr>\n",
       "    <tr>\n",
       "      <th>8</th>\n",
       "      <td>0x002738a4a86d2591794fd36c120b36bad33d5f41</td>\n",
       "      <td>False</td>\n",
       "      <td>True</td>\n",
       "      <td>True</td>\n",
       "      <td>False</td>\n",
       "      <td>False</td>\n",
       "      <td>False</td>\n",
       "      <td>0</td>\n",
       "      <td>0</td>\n",
       "      <td>0.000000</td>\n",
       "      <td>0.0</td>\n",
       "      <td>False</td>\n",
       "    </tr>\n",
       "    <tr>\n",
       "      <th>12</th>\n",
       "      <td>0x003a3eb1a1d2ad3bea19ae06324727beeeec2e34</td>\n",
       "      <td>False</td>\n",
       "      <td>True</td>\n",
       "      <td>True</td>\n",
       "      <td>False</td>\n",
       "      <td>False</td>\n",
       "      <td>False</td>\n",
       "      <td>0</td>\n",
       "      <td>0</td>\n",
       "      <td>0.000000</td>\n",
       "      <td>0.0</td>\n",
       "      <td>False</td>\n",
       "    </tr>\n",
       "    <tr>\n",
       "      <th>...</th>\n",
       "      <td>...</td>\n",
       "      <td>...</td>\n",
       "      <td>...</td>\n",
       "      <td>...</td>\n",
       "      <td>...</td>\n",
       "      <td>...</td>\n",
       "      <td>...</td>\n",
       "      <td>...</td>\n",
       "      <td>...</td>\n",
       "      <td>...</td>\n",
       "      <td>...</td>\n",
       "      <td>...</td>\n",
       "    </tr>\n",
       "    <tr>\n",
       "      <th>16999</th>\n",
       "      <td>0xffcb5e8b0ee83612b335f7011340983771a5f9c3</td>\n",
       "      <td>False</td>\n",
       "      <td>True</td>\n",
       "      <td>True</td>\n",
       "      <td>False</td>\n",
       "      <td>False</td>\n",
       "      <td>False</td>\n",
       "      <td>0</td>\n",
       "      <td>0</td>\n",
       "      <td>0.000000</td>\n",
       "      <td>0.0</td>\n",
       "      <td>False</td>\n",
       "    </tr>\n",
       "    <tr>\n",
       "      <th>17006</th>\n",
       "      <td>0xffd5c1af9951cf292e9386c89b8e08c92005c33b</td>\n",
       "      <td>False</td>\n",
       "      <td>True</td>\n",
       "      <td>True</td>\n",
       "      <td>False</td>\n",
       "      <td>False</td>\n",
       "      <td>False</td>\n",
       "      <td>0</td>\n",
       "      <td>0</td>\n",
       "      <td>0.000000</td>\n",
       "      <td>0.0</td>\n",
       "      <td>False</td>\n",
       "    </tr>\n",
       "    <tr>\n",
       "      <th>17007</th>\n",
       "      <td>0xffd92144cafd599a5a93e4805ca4d8f0e666d623</td>\n",
       "      <td>False</td>\n",
       "      <td>True</td>\n",
       "      <td>True</td>\n",
       "      <td>False</td>\n",
       "      <td>False</td>\n",
       "      <td>False</td>\n",
       "      <td>0</td>\n",
       "      <td>0</td>\n",
       "      <td>0.000000</td>\n",
       "      <td>0.0</td>\n",
       "      <td>False</td>\n",
       "    </tr>\n",
       "    <tr>\n",
       "      <th>17010</th>\n",
       "      <td>0xffe31b706e753e632667b46335f23b6adbb2ec6e</td>\n",
       "      <td>False</td>\n",
       "      <td>True</td>\n",
       "      <td>True</td>\n",
       "      <td>False</td>\n",
       "      <td>False</td>\n",
       "      <td>False</td>\n",
       "      <td>0</td>\n",
       "      <td>0</td>\n",
       "      <td>0.000000</td>\n",
       "      <td>0.0</td>\n",
       "      <td>False</td>\n",
       "    </tr>\n",
       "    <tr>\n",
       "      <th>17013</th>\n",
       "      <td>0xffe969745fc9c6b0ce6519172ed65433e7143cc7</td>\n",
       "      <td>False</td>\n",
       "      <td>True</td>\n",
       "      <td>True</td>\n",
       "      <td>False</td>\n",
       "      <td>False</td>\n",
       "      <td>False</td>\n",
       "      <td>0</td>\n",
       "      <td>0</td>\n",
       "      <td>0.000000</td>\n",
       "      <td>0.0</td>\n",
       "      <td>False</td>\n",
       "    </tr>\n",
       "  </tbody>\n",
       "</table>\n",
       "<p>5229 rows × 12 columns</p>\n",
       "</div>"
      ],
      "text/plain": [
       "                                          address  seed_same_naive  seed_same   \n",
       "2      0x000569d03483abb8949f729908465e65c4bdb243            False       True  \\\n",
       "5      0x0017f7adf1b404298efa3015ca0b56961fea4c34            False       True   \n",
       "6      0x001eabec5ae0e4dc40aecd9a75a6377fa0b31dcb            False       True   \n",
       "8      0x002738a4a86d2591794fd36c120b36bad33d5f41            False       True   \n",
       "12     0x003a3eb1a1d2ad3bea19ae06324727beeeec2e34            False       True   \n",
       "...                                           ...              ...        ...   \n",
       "16999  0xffcb5e8b0ee83612b335f7011340983771a5f9c3            False       True   \n",
       "17006  0xffd5c1af9951cf292e9386c89b8e08c92005c33b            False       True   \n",
       "17007  0xffd92144cafd599a5a93e4805ca4d8f0e666d623            False       True   \n",
       "17010  0xffe31b706e753e632667b46335f23b6adbb2ec6e            False       True   \n",
       "17013  0xffe969745fc9c6b0ce6519172ed65433e7143cc7            False       True   \n",
       "\n",
       "       seed_suspicious  less_5_tx  less_10_tx  interacted_other_ctbt  lcs   \n",
       "2                 True      False        True                  False    0  \\\n",
       "5                 True      False       False                  False    0   \n",
       "6                 True      False       False                  False    0   \n",
       "8                 True      False       False                  False    0   \n",
       "12                True      False       False                  False    0   \n",
       "...                ...        ...         ...                    ...  ...   \n",
       "16999             True      False       False                  False    0   \n",
       "17006             True      False       False                  False    0   \n",
       "17007             True      False       False                  False    0   \n",
       "17010             True      False       False                  False    0   \n",
       "17013             True      False       False                  False    0   \n",
       "\n",
       "       cluster_size_lcs  mean_score_lcs  max_score_lcs  has_lcs  \n",
       "2                    57        0.194386            0.2     True  \n",
       "5                     0        0.000000            0.0    False  \n",
       "6                     0        0.000000            0.0    False  \n",
       "8                     0        0.000000            0.0    False  \n",
       "12                    0        0.000000            0.0    False  \n",
       "...                 ...             ...            ...      ...  \n",
       "16999                 0        0.000000            0.0    False  \n",
       "17006                 0        0.000000            0.0    False  \n",
       "17007                 0        0.000000            0.0    False  \n",
       "17010                 0        0.000000            0.0    False  \n",
       "17013                 0        0.000000            0.0    False  \n",
       "\n",
       "[5229 rows x 12 columns]"
      ]
     },
     "execution_count": 152,
     "metadata": {},
     "output_type": "execute_result"
    }
   ],
   "source": [
    "df_matching_address[df_matching_address['seed_suspicious'] == True]"
   ]
  },
  {
   "attachments": {},
   "cell_type": "markdown",
   "metadata": {},
   "source": [
    "### Computing the dex interaction score"
   ]
  },
  {
   "cell_type": "code",
   "execution_count": 153,
   "metadata": {},
   "outputs": [],
   "source": [
    "def get_interacted_address(from_address, to_address, address):\n",
    "    if from_address == address:\n",
    "        return to_address\n",
    "    else:\n",
    "        return from_address\n",
    "\n",
    "def count_interaction_with_any(tx_analyser, address, array_address):\n",
    "    \"\"\"\n",
    "    Return an integer of the number of interactions with the addresses in the array_address\n",
    "    Parameters\n",
    "    ----------\n",
    "    address : str\n",
    "        The address to check\n",
    "\n",
    "    Returns\n",
    "    -------\n",
    "    count_interaction_with_any : int\n",
    "        The number of interactions with the addresses in the array_address\n",
    "    \"\"\"\n",
    "    tx_analyser.set_group_by_sorted_EOA()\n",
    "\n",
    "    df = tx_analyser.gb_EOA_sorted.get_group(address)\n",
    "    address_interacted = df.apply(lambda x: get_interacted_address(x['from_address'], x['to_address'], address), axis=1)\n",
    "    tx_boolean_interacted = address_interacted.isin(array_address)\n",
    "    return tx_boolean_interacted.sum()\n",
    "\n",
    "def has_interacted_with_any(tx_analyser, address, array_address):\n",
    "    \"\"\"\n",
    "    Return a boolean whether the address has interacted with any address in the array_address\n",
    "    Parameters\n",
    "    ----------\n",
    "    address : str\n",
    "        The address to check\n",
    "\n",
    "    Returns\n",
    "    -------\n",
    "    has_interacted_with_any : bool\n",
    "        True if the address has interacted with one or more of the addresses in the array_address\n",
    "    \"\"\"\n",
    "    count_interaction_with_any = count_interaction_with_any(tx_analyser, address, array_address)\n",
    "    return count_interaction_with_any > 0"
   ]
  },
  {
   "cell_type": "code",
   "execution_count": 154,
   "metadata": {},
   "outputs": [],
   "source": [
    "label_query = '''\n",
    "SELECT ADDRESS, CREATOR, LABEL_TYPE, ADDRESS_NAME, PROJECT_NAME\n",
    "FROM crosschain.core.address_labels \n",
    "WHERE BLOCKCHAIN='optimism'\n",
    "AND LABEL_SUBTYPE = 'pool' \n",
    ";'''\n",
    "df_label = flipside_api.execute_query(label_query)"
   ]
  },
  {
   "cell_type": "code",
   "execution_count": 155,
   "metadata": {},
   "outputs": [],
   "source": [
    "# extract all the pool addresses\n",
    "array_pool_address = df_label['address'].unique()"
   ]
  },
  {
   "cell_type": "code",
   "execution_count": 156,
   "metadata": {},
   "outputs": [],
   "source": [
    "tx_analyser.set_group_by_sorted_EOA()"
   ]
  },
  {
   "cell_type": "code",
   "execution_count": 157,
   "metadata": {},
   "outputs": [],
   "source": [
    "# Compute the number of interactions with any of the pools for each address\n",
    "df_matching_address['count_interaction_with_pool'] = df_matching_address['address'].apply(lambda x: count_interaction_with_any(tx_analyser, x, array_pool_address))"
   ]
  },
  {
   "cell_type": "code",
   "execution_count": 158,
   "metadata": {},
   "outputs": [
    {
     "data": {
      "text/plain": [
       "0.496974681313517"
      ]
     },
     "execution_count": 158,
     "metadata": {},
     "output_type": "execute_result"
    }
   ],
   "source": [
    "(df_matching_address['count_interaction_with_pool'] > 0).sum() / len(df_matching_address)"
   ]
  },
  {
   "attachments": {},
   "cell_type": "markdown",
   "metadata": {},
   "source": [
    "From these tags lets flag any address that have interacted with a toxic wallet"
   ]
  },
  {
   "cell_type": "code",
   "execution_count": 159,
   "metadata": {},
   "outputs": [],
   "source": [
    "label_query = '''\n",
    "SELECT ADDRESS, CREATOR, LABEL_TYPE, ADDRESS_NAME, PROJECT_NAME\n",
    "FROM crosschain.core.address_labels \n",
    "WHERE BLOCKCHAIN='optimism'\n",
    "AND LABEL_SUBTYPE = 'toxic'\n",
    ";'''\n",
    "df_toxic = flipside_api.execute_query(label_query)"
   ]
  },
  {
   "cell_type": "code",
   "execution_count": 160,
   "metadata": {},
   "outputs": [
    {
     "data": {
      "text/plain": [
       "(0, 0)"
      ]
     },
     "execution_count": 160,
     "metadata": {},
     "output_type": "execute_result"
    }
   ],
   "source": [
    "df_toxic.shape"
   ]
  },
  {
   "cell_type": "code",
   "execution_count": 162,
   "metadata": {},
   "outputs": [],
   "source": [
    "# Compute the number of interactions with any of the scam for each address\n",
    "if df_toxic.shape[0] > 0:\n",
    "    df_matching_address['count_interaction_with_toxic'] = df_matching_address['address'].apply(lambda x: count_interaction_with_any(tx_analyser, x, df_toxic['address'].unique()))\n",
    "else:\n",
    "    df_matching_address['count_interaction_with_toxic'] = 0"
   ]
  },
  {
   "cell_type": "code",
   "execution_count": 163,
   "metadata": {},
   "outputs": [
    {
     "name": "stdout",
     "output_type": "stream",
     "text": [
      "Percentage of addresses that have interacted with a toxic address: 0%\n"
     ]
    }
   ],
   "source": [
    "print(f'Percentage of addresses that have interacted with a toxic address: {int((df_matching_address[\"count_interaction_with_toxic\"] > 0).sum() / len(df_matching_address) *100)}%')"
   ]
  },
  {
   "attachments": {},
   "cell_type": "markdown",
   "metadata": {},
   "source": [
    "I found the tag_name \"airdrop master\" could be interesting "
   ]
  },
  {
   "cell_type": "code",
   "execution_count": 182,
   "metadata": {},
   "outputs": [],
   "source": [
    "query_airdrop_master = '''\n",
    "SELECT BLOCKCHAIN, CREATOR, ADDRESS, TAG_NAME\n",
    "FROM crosschain.core.address_tags \n",
    "WHERE TAG_NAME = 'airdrop master'\n",
    ";\n",
    "'''\n",
    "df_airdrop_master = flipside_api.execute_query(query_airdrop_master)"
   ]
  },
  {
   "cell_type": "code",
   "execution_count": 183,
   "metadata": {},
   "outputs": [
    {
     "data": {
      "text/html": [
       "<div>\n",
       "<style scoped>\n",
       "    .dataframe tbody tr th:only-of-type {\n",
       "        vertical-align: middle;\n",
       "    }\n",
       "\n",
       "    .dataframe tbody tr th {\n",
       "        vertical-align: top;\n",
       "    }\n",
       "\n",
       "    .dataframe thead th {\n",
       "        text-align: right;\n",
       "    }\n",
       "</style>\n",
       "<table border=\"1\" class=\"dataframe\">\n",
       "  <thead>\n",
       "    <tr style=\"text-align: right;\">\n",
       "      <th></th>\n",
       "      <th>blockchain</th>\n",
       "      <th>creator</th>\n",
       "      <th>address</th>\n",
       "      <th>tag_name</th>\n",
       "      <th>__row_index</th>\n",
       "    </tr>\n",
       "  </thead>\n",
       "  <tbody>\n",
       "    <tr>\n",
       "      <th>0</th>\n",
       "      <td>ethereum</td>\n",
       "      <td>flipside</td>\n",
       "      <td>0x366b862656d5f06d506d6fc2c1e31425c2ccfc3f</td>\n",
       "      <td>airdrop master</td>\n",
       "      <td>0</td>\n",
       "    </tr>\n",
       "    <tr>\n",
       "      <th>1</th>\n",
       "      <td>ethereum</td>\n",
       "      <td>flipside</td>\n",
       "      <td>0x1637c6985673c6b92b2c97faf4f9dfec7a77ee25</td>\n",
       "      <td>airdrop master</td>\n",
       "      <td>1</td>\n",
       "    </tr>\n",
       "    <tr>\n",
       "      <th>2</th>\n",
       "      <td>ethereum</td>\n",
       "      <td>flipside</td>\n",
       "      <td>0xf1c0dc910ecfb7260e97e79d9e89774dca231456</td>\n",
       "      <td>airdrop master</td>\n",
       "      <td>2</td>\n",
       "    </tr>\n",
       "    <tr>\n",
       "      <th>3</th>\n",
       "      <td>ethereum</td>\n",
       "      <td>flipside</td>\n",
       "      <td>0xe92156af7db06361a508f3c2fc4a382edb9ee2b0</td>\n",
       "      <td>airdrop master</td>\n",
       "      <td>3</td>\n",
       "    </tr>\n",
       "    <tr>\n",
       "      <th>4</th>\n",
       "      <td>ethereum</td>\n",
       "      <td>flipside</td>\n",
       "      <td>0x39f234a6ef150346e887a036c4ea1642e26e87ec</td>\n",
       "      <td>airdrop master</td>\n",
       "      <td>4</td>\n",
       "    </tr>\n",
       "    <tr>\n",
       "      <th>...</th>\n",
       "      <td>...</td>\n",
       "      <td>...</td>\n",
       "      <td>...</td>\n",
       "      <td>...</td>\n",
       "      <td>...</td>\n",
       "    </tr>\n",
       "    <tr>\n",
       "      <th>65533</th>\n",
       "      <td>ethereum</td>\n",
       "      <td>flipside</td>\n",
       "      <td>0xc85b0b3dc93e6be5a15df75f89acc6855cbf4252</td>\n",
       "      <td>airdrop master</td>\n",
       "      <td>165533</td>\n",
       "    </tr>\n",
       "    <tr>\n",
       "      <th>65534</th>\n",
       "      <td>ethereum</td>\n",
       "      <td>flipside</td>\n",
       "      <td>0x7da9949382c0f36700b563712ff0a6e38374aa92</td>\n",
       "      <td>airdrop master</td>\n",
       "      <td>165534</td>\n",
       "    </tr>\n",
       "    <tr>\n",
       "      <th>65535</th>\n",
       "      <td>ethereum</td>\n",
       "      <td>flipside</td>\n",
       "      <td>0x1b84fd3a36bd551da54d9d5607885f1461ee9dc6</td>\n",
       "      <td>airdrop master</td>\n",
       "      <td>165535</td>\n",
       "    </tr>\n",
       "    <tr>\n",
       "      <th>65536</th>\n",
       "      <td>ethereum</td>\n",
       "      <td>flipside</td>\n",
       "      <td>0x2fb27655744ffd73ef90e42dc2f56591be58d4d3</td>\n",
       "      <td>airdrop master</td>\n",
       "      <td>165536</td>\n",
       "    </tr>\n",
       "    <tr>\n",
       "      <th>65537</th>\n",
       "      <td>ethereum</td>\n",
       "      <td>flipside</td>\n",
       "      <td>0xf2455a4c6fcc6f41f59222f4244afddc85ff1ed7</td>\n",
       "      <td>airdrop master</td>\n",
       "      <td>165537</td>\n",
       "    </tr>\n",
       "  </tbody>\n",
       "</table>\n",
       "<p>265538 rows × 5 columns</p>\n",
       "</div>"
      ],
      "text/plain": [
       "      blockchain   creator                                     address   \n",
       "0       ethereum  flipside  0x366b862656d5f06d506d6fc2c1e31425c2ccfc3f  \\\n",
       "1       ethereum  flipside  0x1637c6985673c6b92b2c97faf4f9dfec7a77ee25   \n",
       "2       ethereum  flipside  0xf1c0dc910ecfb7260e97e79d9e89774dca231456   \n",
       "3       ethereum  flipside  0xe92156af7db06361a508f3c2fc4a382edb9ee2b0   \n",
       "4       ethereum  flipside  0x39f234a6ef150346e887a036c4ea1642e26e87ec   \n",
       "...          ...       ...                                         ...   \n",
       "65533   ethereum  flipside  0xc85b0b3dc93e6be5a15df75f89acc6855cbf4252   \n",
       "65534   ethereum  flipside  0x7da9949382c0f36700b563712ff0a6e38374aa92   \n",
       "65535   ethereum  flipside  0x1b84fd3a36bd551da54d9d5607885f1461ee9dc6   \n",
       "65536   ethereum  flipside  0x2fb27655744ffd73ef90e42dc2f56591be58d4d3   \n",
       "65537   ethereum  flipside  0xf2455a4c6fcc6f41f59222f4244afddc85ff1ed7   \n",
       "\n",
       "             tag_name  __row_index  \n",
       "0      airdrop master            0  \n",
       "1      airdrop master            1  \n",
       "2      airdrop master            2  \n",
       "3      airdrop master            3  \n",
       "4      airdrop master            4  \n",
       "...               ...          ...  \n",
       "65533  airdrop master       165533  \n",
       "65534  airdrop master       165534  \n",
       "65535  airdrop master       165535  \n",
       "65536  airdrop master       165536  \n",
       "65537  airdrop master       165537  \n",
       "\n",
       "[265538 rows x 5 columns]"
      ]
     },
     "execution_count": 183,
     "metadata": {},
     "output_type": "execute_result"
    }
   ],
   "source": [
    "df_airdrop_master"
   ]
  },
  {
   "cell_type": "code",
   "execution_count": 184,
   "metadata": {},
   "outputs": [
    {
     "name": "stdout",
     "output_type": "stream",
     "text": [
      "Percentage of addresses that interacted with airdrop master: 3%\n"
     ]
    }
   ],
   "source": [
    "# Compute the number of interactions with any of the aidrop for each address\n",
    "df_matching_address['count_interaction_with_airdrop_m'] = df_matching_address['address'].apply(lambda x: count_interaction_with_any(tx_analyser, x, df_airdrop_master['address'].unique()))\n",
    "print(f'Percentage of addresses that interacted with airdrop master: {int((df_matching_address[\"count_interaction_with_airdrop_m\"] > 0).sum() / len(df_matching_address) * 100)}%')"
   ]
  },
  {
   "cell_type": "code",
   "execution_count": 185,
   "metadata": {},
   "outputs": [
    {
     "name": "stdout",
     "output_type": "stream",
     "text": [
      "Percentage of addresses that are airdrop master: 4%\n"
     ]
    }
   ],
   "source": [
    "# Boolean whether the address is a aidrop master\n",
    "df_matching_address['is_airdrop_master'] = df_matching_address['address'].apply(lambda x: x in df_airdrop_master['address'].unique()) \n",
    "print(f'Percentage of addresses that are airdrop master: {int((df_matching_address[\"is_airdrop_master\"]).sum() / len(df_matching_address) * 100)}%')"
   ]
  },
  {
   "cell_type": "code",
   "execution_count": 186,
   "metadata": {},
   "outputs": [],
   "source": [
    "sql_query_tornado = '''\n",
    "SELECT DISTINCT PROJECT_NAME, ADDRESS\n",
    "FROM crosschain.core.address_labels \n",
    "WHERE BLOCKCHAIN='optimism'\n",
    "AND PROJECT_NAME LIKE '%tornado%'\n",
    ";\n",
    "'''\n",
    "df_tornado = flipside_api.execute_query(sql_query_tornado)"
   ]
  },
  {
   "cell_type": "code",
   "execution_count": 187,
   "metadata": {},
   "outputs": [
    {
     "name": "stdout",
     "output_type": "stream",
     "text": [
      "Percentage of addresses that interacted with tornado: 1%\n"
     ]
    }
   ],
   "source": [
    "# Count the number of interactions with tornado\n",
    "df_matching_address['count_interaction_with_tornado'] = df_matching_address['address'].apply(lambda x: count_interaction_with_any(tx_analyser, x, df_tornado['address'].unique()))\n",
    "print(f'Percentage of addresses that interacted with tornado: {int((df_matching_address[\"count_interaction_with_tornado\"] > 0).sum() / len(df_matching_address) * 100)}%')"
   ]
  },
  {
   "cell_type": "code",
   "execution_count": 188,
   "metadata": {},
   "outputs": [
    {
     "name": "stdout",
     "output_type": "stream",
     "text": [
      "Percentage of addresses that interacted with disperse: 0%\n"
     ]
    }
   ],
   "source": [
    "# Count the number of time the address interatec with disperse contract: '0xD152f549545093347A162Dce210e7293f1452150'\n",
    "df_matching_address['count_interaction_with_disperse'] = df_matching_address['address'].apply(lambda x: count_interaction_with_any(tx_analyser, x, [str.lower('0xD152f549545093347A162Dce210e7293f1452150')]))\n",
    "print(f'Percentage of addresses that interacted with disperse: {int((df_matching_address[\"count_interaction_with_disperse\"] > 0).sum() / len(df_matching_address) * 100)}%')"
   ]
  },
  {
   "cell_type": "code",
   "execution_count": 189,
   "metadata": {},
   "outputs": [
    {
     "data": {
      "text/html": [
       "<div>\n",
       "<style scoped>\n",
       "    .dataframe tbody tr th:only-of-type {\n",
       "        vertical-align: middle;\n",
       "    }\n",
       "\n",
       "    .dataframe tbody tr th {\n",
       "        vertical-align: top;\n",
       "    }\n",
       "\n",
       "    .dataframe thead th {\n",
       "        text-align: right;\n",
       "    }\n",
       "</style>\n",
       "<table border=\"1\" class=\"dataframe\">\n",
       "  <thead>\n",
       "    <tr style=\"text-align: right;\">\n",
       "      <th></th>\n",
       "      <th>lcs</th>\n",
       "      <th>cluster_size_lcs</th>\n",
       "      <th>mean_score_lcs</th>\n",
       "      <th>max_score_lcs</th>\n",
       "      <th>count_interaction_with_pool</th>\n",
       "      <th>count_interaction_with_toxic</th>\n",
       "      <th>count_interaction_with_airdrop_m</th>\n",
       "      <th>count_interaction_with_tornado</th>\n",
       "      <th>count_interaction_with_disperse</th>\n",
       "    </tr>\n",
       "  </thead>\n",
       "  <tbody>\n",
       "    <tr>\n",
       "      <th>count</th>\n",
       "      <td>17023.0</td>\n",
       "      <td>17023.000000</td>\n",
       "      <td>17023.000000</td>\n",
       "      <td>17023.000000</td>\n",
       "      <td>17023.000000</td>\n",
       "      <td>17023.0</td>\n",
       "      <td>17023.000000</td>\n",
       "      <td>17023.000000</td>\n",
       "      <td>17023.000000</td>\n",
       "    </tr>\n",
       "    <tr>\n",
       "      <th>mean</th>\n",
       "      <td>0.0</td>\n",
       "      <td>2.819186</td>\n",
       "      <td>0.009255</td>\n",
       "      <td>0.010837</td>\n",
       "      <td>6.257240</td>\n",
       "      <td>0.0</td>\n",
       "      <td>0.142807</td>\n",
       "      <td>0.020795</td>\n",
       "      <td>0.005463</td>\n",
       "    </tr>\n",
       "    <tr>\n",
       "      <th>std</th>\n",
       "      <td>0.0</td>\n",
       "      <td>18.442207</td>\n",
       "      <td>0.036681</td>\n",
       "      <td>0.042714</td>\n",
       "      <td>16.397703</td>\n",
       "      <td>0.0</td>\n",
       "      <td>1.620024</td>\n",
       "      <td>0.171839</td>\n",
       "      <td>0.208290</td>\n",
       "    </tr>\n",
       "    <tr>\n",
       "      <th>min</th>\n",
       "      <td>0.0</td>\n",
       "      <td>0.000000</td>\n",
       "      <td>0.000000</td>\n",
       "      <td>0.000000</td>\n",
       "      <td>0.000000</td>\n",
       "      <td>0.0</td>\n",
       "      <td>0.000000</td>\n",
       "      <td>0.000000</td>\n",
       "      <td>0.000000</td>\n",
       "    </tr>\n",
       "    <tr>\n",
       "      <th>10%</th>\n",
       "      <td>0.0</td>\n",
       "      <td>0.000000</td>\n",
       "      <td>0.000000</td>\n",
       "      <td>0.000000</td>\n",
       "      <td>0.000000</td>\n",
       "      <td>0.0</td>\n",
       "      <td>0.000000</td>\n",
       "      <td>0.000000</td>\n",
       "      <td>0.000000</td>\n",
       "    </tr>\n",
       "    <tr>\n",
       "      <th>25%</th>\n",
       "      <td>0.0</td>\n",
       "      <td>0.000000</td>\n",
       "      <td>0.000000</td>\n",
       "      <td>0.000000</td>\n",
       "      <td>0.000000</td>\n",
       "      <td>0.0</td>\n",
       "      <td>0.000000</td>\n",
       "      <td>0.000000</td>\n",
       "      <td>0.000000</td>\n",
       "    </tr>\n",
       "    <tr>\n",
       "      <th>50%</th>\n",
       "      <td>0.0</td>\n",
       "      <td>0.000000</td>\n",
       "      <td>0.000000</td>\n",
       "      <td>0.000000</td>\n",
       "      <td>0.000000</td>\n",
       "      <td>0.0</td>\n",
       "      <td>0.000000</td>\n",
       "      <td>0.000000</td>\n",
       "      <td>0.000000</td>\n",
       "    </tr>\n",
       "    <tr>\n",
       "      <th>75%</th>\n",
       "      <td>0.0</td>\n",
       "      <td>0.000000</td>\n",
       "      <td>0.000000</td>\n",
       "      <td>0.000000</td>\n",
       "      <td>4.000000</td>\n",
       "      <td>0.0</td>\n",
       "      <td>0.000000</td>\n",
       "      <td>0.000000</td>\n",
       "      <td>0.000000</td>\n",
       "    </tr>\n",
       "    <tr>\n",
       "      <th>90%</th>\n",
       "      <td>0.0</td>\n",
       "      <td>0.000000</td>\n",
       "      <td>0.000000</td>\n",
       "      <td>0.000000</td>\n",
       "      <td>22.000000</td>\n",
       "      <td>0.0</td>\n",
       "      <td>0.000000</td>\n",
       "      <td>0.000000</td>\n",
       "      <td>0.000000</td>\n",
       "    </tr>\n",
       "    <tr>\n",
       "      <th>max</th>\n",
       "      <td>0.0</td>\n",
       "      <td>328.000000</td>\n",
       "      <td>0.200000</td>\n",
       "      <td>0.200000</td>\n",
       "      <td>1010.000000</td>\n",
       "      <td>0.0</td>\n",
       "      <td>85.000000</td>\n",
       "      <td>5.000000</td>\n",
       "      <td>21.000000</td>\n",
       "    </tr>\n",
       "  </tbody>\n",
       "</table>\n",
       "</div>"
      ],
      "text/plain": [
       "           lcs  cluster_size_lcs  mean_score_lcs  max_score_lcs   \n",
       "count  17023.0      17023.000000    17023.000000   17023.000000  \\\n",
       "mean       0.0          2.819186        0.009255       0.010837   \n",
       "std        0.0         18.442207        0.036681       0.042714   \n",
       "min        0.0          0.000000        0.000000       0.000000   \n",
       "10%        0.0          0.000000        0.000000       0.000000   \n",
       "25%        0.0          0.000000        0.000000       0.000000   \n",
       "50%        0.0          0.000000        0.000000       0.000000   \n",
       "75%        0.0          0.000000        0.000000       0.000000   \n",
       "90%        0.0          0.000000        0.000000       0.000000   \n",
       "max        0.0        328.000000        0.200000       0.200000   \n",
       "\n",
       "       count_interaction_with_pool  count_interaction_with_toxic   \n",
       "count                 17023.000000                       17023.0  \\\n",
       "mean                      6.257240                           0.0   \n",
       "std                      16.397703                           0.0   \n",
       "min                       0.000000                           0.0   \n",
       "10%                       0.000000                           0.0   \n",
       "25%                       0.000000                           0.0   \n",
       "50%                       0.000000                           0.0   \n",
       "75%                       4.000000                           0.0   \n",
       "90%                      22.000000                           0.0   \n",
       "max                    1010.000000                           0.0   \n",
       "\n",
       "       count_interaction_with_airdrop_m  count_interaction_with_tornado   \n",
       "count                      17023.000000                    17023.000000  \\\n",
       "mean                           0.142807                        0.020795   \n",
       "std                            1.620024                        0.171839   \n",
       "min                            0.000000                        0.000000   \n",
       "10%                            0.000000                        0.000000   \n",
       "25%                            0.000000                        0.000000   \n",
       "50%                            0.000000                        0.000000   \n",
       "75%                            0.000000                        0.000000   \n",
       "90%                            0.000000                        0.000000   \n",
       "max                           85.000000                        5.000000   \n",
       "\n",
       "       count_interaction_with_disperse  \n",
       "count                     17023.000000  \n",
       "mean                          0.005463  \n",
       "std                           0.208290  \n",
       "min                           0.000000  \n",
       "10%                           0.000000  \n",
       "25%                           0.000000  \n",
       "50%                           0.000000  \n",
       "75%                           0.000000  \n",
       "90%                           0.000000  \n",
       "max                          21.000000  "
      ]
     },
     "execution_count": 189,
     "metadata": {},
     "output_type": "execute_result"
    }
   ],
   "source": [
    "df_matching_address.describe(percentiles=[0.1, 0.25, 0.5, 0.75, 0.9])"
   ]
  },
  {
   "cell_type": "code",
   "execution_count": 190,
   "metadata": {},
   "outputs": [],
   "source": [
    "df_matching_address['has_interaction_toxic'] = df_matching_address['count_interaction_with_toxic'] > 0\n",
    "df_matching_address['has_no_pool_interaction'] = df_matching_address['count_interaction_with_pool'] < 6\n",
    "df_matching_address['has_interaction_airdrop_m'] = df_matching_address['count_interaction_with_airdrop_m'] > 0\n",
    "df_matching_address['has_interaction_tornado'] = df_matching_address['count_interaction_with_tornado'] > 0\n",
    "df_matching_address['has_interaction_disperse'] = df_matching_address['count_interaction_with_disperse'] > 0"
   ]
  },
  {
   "cell_type": "code",
   "execution_count": 191,
   "metadata": {},
   "outputs": [],
   "source": [
    "boolean_features = ['has_lcs', 'seed_suspicious', 'has_interaction_toxic', 'has_no_pool_interaction', 'has_interaction_airdrop_m', 'has_interaction_tornado', 'has_interaction_disperse', 'is_airdrop_master', 'interacted_other_ctbt']"
   ]
  },
  {
   "cell_type": "code",
   "execution_count": 192,
   "metadata": {},
   "outputs": [
    {
     "data": {
      "text/plain": [
       "has_lcs                       1082\n",
       "seed_suspicious               5229\n",
       "has_interaction_toxic            0\n",
       "has_no_pool_interaction      13413\n",
       "has_interaction_airdrop_m      591\n",
       "has_interaction_tornado        298\n",
       "has_interaction_disperse        37\n",
       "is_airdrop_master              728\n",
       "interacted_other_ctbt         3315\n",
       "dtype: int64"
      ]
     },
     "execution_count": 192,
     "metadata": {},
     "output_type": "execute_result"
    }
   ],
   "source": [
    "df_matching_address[boolean_features].sum() "
   ]
  },
  {
   "cell_type": "code",
   "execution_count": 193,
   "metadata": {},
   "outputs": [
    {
     "data": {
      "text/plain": [
       "17023"
      ]
     },
     "execution_count": 193,
     "metadata": {},
     "output_type": "execute_result"
    }
   ],
   "source": [
    "len(df_matching_address)"
   ]
  },
  {
   "attachments": {},
   "cell_type": "markdown",
   "metadata": {},
   "source": [
    "### Look at the addresses with at least one flag"
   ]
  },
  {
   "attachments": {},
   "cell_type": "markdown",
   "metadata": {},
   "source": [
    "We are going to review the addresses that have at least 1 flag:\n",
    "- has_intercation_toxic \n",
    "- has_interaction_disperse\n",
    "- has_interaction_airdrop_master\n",
    "- is airdrop master\n",
    "- interacted with other contributor and less than 5 tx\n",
    "- has_lcs\n",
    "\n",
    "remove seed suspicious because many people use bridges to fund their wallet\n",
    "\n",
    "I decided to remove tornado cash because someone can be anonimous with out being a sybil"
   ]
  },
  {
   "cell_type": "code",
   "execution_count": 194,
   "metadata": {},
   "outputs": [],
   "source": [
    "df_matching_address['interact_less_5tx'] = np.logical_and(df_matching_address['interacted_other_ctbt'], df_matching_address['less_5_tx'])"
   ]
  },
  {
   "cell_type": "code",
   "execution_count": 195,
   "metadata": {},
   "outputs": [],
   "source": [
    "interaction_bool = ['has_lcs', 'has_interaction_toxic', 'has_interaction_airdrop_m', 'has_interaction_disperse', 'is_airdrop_master', 'interact_less_5tx']"
   ]
  },
  {
   "cell_type": "code",
   "execution_count": 196,
   "metadata": {},
   "outputs": [
    {
     "data": {
      "text/plain": [
       "has_lcs                      1082\n",
       "has_interaction_toxic           0\n",
       "has_interaction_airdrop_m     591\n",
       "has_interaction_disperse       37\n",
       "is_airdrop_master             728\n",
       "interact_less_5tx              34\n",
       "dtype: int64"
      ]
     },
     "execution_count": 196,
     "metadata": {},
     "output_type": "execute_result"
    }
   ],
   "source": [
    "df_matching_address[interaction_bool].sum()"
   ]
  },
  {
   "cell_type": "code",
   "execution_count": 197,
   "metadata": {},
   "outputs": [
    {
     "data": {
      "text/html": [
       "<div>\n",
       "<style scoped>\n",
       "    .dataframe tbody tr th:only-of-type {\n",
       "        vertical-align: middle;\n",
       "    }\n",
       "\n",
       "    .dataframe tbody tr th {\n",
       "        vertical-align: top;\n",
       "    }\n",
       "\n",
       "    .dataframe thead th {\n",
       "        text-align: right;\n",
       "    }\n",
       "</style>\n",
       "<table border=\"1\" class=\"dataframe\">\n",
       "  <thead>\n",
       "    <tr style=\"text-align: right;\">\n",
       "      <th></th>\n",
       "      <th>has_lcs</th>\n",
       "      <th>has_interaction_toxic</th>\n",
       "      <th>has_interaction_airdrop_m</th>\n",
       "      <th>has_interaction_disperse</th>\n",
       "      <th>is_airdrop_master</th>\n",
       "      <th>interact_less_5tx</th>\n",
       "    </tr>\n",
       "  </thead>\n",
       "  <tbody>\n",
       "    <tr>\n",
       "      <th>has_lcs</th>\n",
       "      <td>1.000000</td>\n",
       "      <td>0.0</td>\n",
       "      <td>0.002397</td>\n",
       "      <td>0.000000</td>\n",
       "      <td>0.002215</td>\n",
       "      <td>0.001795</td>\n",
       "    </tr>\n",
       "    <tr>\n",
       "      <th>has_interaction_toxic</th>\n",
       "      <td>0.000000</td>\n",
       "      <td>1.0</td>\n",
       "      <td>0.000000</td>\n",
       "      <td>0.000000</td>\n",
       "      <td>0.000000</td>\n",
       "      <td>0.000000</td>\n",
       "    </tr>\n",
       "    <tr>\n",
       "      <th>has_interaction_airdrop_m</th>\n",
       "      <td>0.002397</td>\n",
       "      <td>0.0</td>\n",
       "      <td>1.000000</td>\n",
       "      <td>0.000000</td>\n",
       "      <td>0.157018</td>\n",
       "      <td>0.003210</td>\n",
       "    </tr>\n",
       "    <tr>\n",
       "      <th>has_interaction_disperse</th>\n",
       "      <td>0.000000</td>\n",
       "      <td>0.0</td>\n",
       "      <td>0.000000</td>\n",
       "      <td>1.000000</td>\n",
       "      <td>0.002621</td>\n",
       "      <td>0.000000</td>\n",
       "    </tr>\n",
       "    <tr>\n",
       "      <th>is_airdrop_master</th>\n",
       "      <td>0.002215</td>\n",
       "      <td>0.0</td>\n",
       "      <td>0.157018</td>\n",
       "      <td>0.002621</td>\n",
       "      <td>1.000000</td>\n",
       "      <td>0.000000</td>\n",
       "    </tr>\n",
       "    <tr>\n",
       "      <th>interact_less_5tx</th>\n",
       "      <td>0.001795</td>\n",
       "      <td>0.0</td>\n",
       "      <td>0.003210</td>\n",
       "      <td>0.000000</td>\n",
       "      <td>0.000000</td>\n",
       "      <td>1.000000</td>\n",
       "    </tr>\n",
       "  </tbody>\n",
       "</table>\n",
       "</div>"
      ],
      "text/plain": [
       "                            has_lcs  has_interaction_toxic   \n",
       "has_lcs                    1.000000                    0.0  \\\n",
       "has_interaction_toxic      0.000000                    1.0   \n",
       "has_interaction_airdrop_m  0.002397                    0.0   \n",
       "has_interaction_disperse   0.000000                    0.0   \n",
       "is_airdrop_master          0.002215                    0.0   \n",
       "interact_less_5tx          0.001795                    0.0   \n",
       "\n",
       "                           has_interaction_airdrop_m   \n",
       "has_lcs                                     0.002397  \\\n",
       "has_interaction_toxic                       0.000000   \n",
       "has_interaction_airdrop_m                   1.000000   \n",
       "has_interaction_disperse                    0.000000   \n",
       "is_airdrop_master                           0.157018   \n",
       "interact_less_5tx                           0.003210   \n",
       "\n",
       "                           has_interaction_disperse  is_airdrop_master   \n",
       "has_lcs                                    0.000000           0.002215  \\\n",
       "has_interaction_toxic                      0.000000           0.000000   \n",
       "has_interaction_airdrop_m                  0.000000           0.157018   \n",
       "has_interaction_disperse                   1.000000           0.002621   \n",
       "is_airdrop_master                          0.002621           1.000000   \n",
       "interact_less_5tx                          0.000000           0.000000   \n",
       "\n",
       "                           interact_less_5tx  \n",
       "has_lcs                             0.001795  \n",
       "has_interaction_toxic               0.000000  \n",
       "has_interaction_airdrop_m           0.003210  \n",
       "has_interaction_disperse            0.000000  \n",
       "is_airdrop_master                   0.000000  \n",
       "interact_less_5tx                   1.000000  "
      ]
     },
     "execution_count": 197,
     "metadata": {},
     "output_type": "execute_result"
    }
   ],
   "source": [
    "from scipy.spatial.distance import pdist\n",
    "\n",
    "def jaccard_similarity_matrix(df):\n",
    "    \n",
    "    n = df.shape[1]\n",
    "    scores = 1 - pdist(np.array(df).T, metric='jaccard')\n",
    "    result = np.zeros((n,n))\n",
    "    result[np.triu_indices(n, k=1)] = scores\n",
    "    result += result.T\n",
    "    np.fill_diagonal(result, 1)\n",
    "    return pd.DataFrame(result, index=df.columns, columns=df.columns)\n",
    "\n",
    "jaccard_similarity = jaccard_similarity_matrix(df_matching_address[interaction_bool])\n",
    "jaccard_similarity"
   ]
  },
  {
   "cell_type": "code",
   "execution_count": 198,
   "metadata": {},
   "outputs": [
    {
     "data": {
      "text/plain": [
       "<Axes: >"
      ]
     },
     "execution_count": 198,
     "metadata": {},
     "output_type": "execute_result"
    },
    {
     "data": {
      "image/png": "[encoded data removed]",
      "text/plain": [
       "<Figure size 640x480 with 2 Axes>"
      ]
     },
     "metadata": {},
     "output_type": "display_data"
    }
   ],
   "source": [
    "import seaborn as sns\n",
    "sns.heatmap(jaccard_similarity, annot=True)"
   ]
  },
  {
   "cell_type": "code",
   "execution_count": 199,
   "metadata": {},
   "outputs": [
    {
     "name": "stdout",
     "output_type": "stream",
     "text": [
      "Number of addresses that interacted with a suspicious contract or address: 2282\n"
     ]
    }
   ],
   "source": [
    "df_matching_address['flagged'] = df_matching_address[interaction_bool].sum(axis=1) > 0\n",
    "df_interact_sus_2 = df_matching_address[df_matching_address['flagged'] == True]\n",
    "print(f'Number of addresses that interacted with a suspicious contract or address: {df_interact_sus_2.shape[0]}')"
   ]
  },
  {
   "cell_type": "code",
   "execution_count": 200,
   "metadata": {},
   "outputs": [],
   "source": [
    "boolean_to_keep = ['has_lcs', 'seed_suspicious', 'has_interaction_toxic', 'has_no_pool_interaction', 'has_interaction_tornado', 'has_interaction_disperse', 'is_airdrop_master', 'has_interaction_airdrop_m', 'interacted_other_ctbt', 'interact_less_5tx', 'flagged']"
   ]
  },
  {
   "cell_type": "code",
   "execution_count": 201,
   "metadata": {},
   "outputs": [
    {
     "data": {
      "text/plain": [
       "has_lcs                       1082\n",
       "seed_suspicious               5229\n",
       "has_interaction_toxic            0\n",
       "has_no_pool_interaction      13413\n",
       "has_interaction_tornado        298\n",
       "has_interaction_disperse        37\n",
       "is_airdrop_master              728\n",
       "has_interaction_airdrop_m      591\n",
       "interacted_other_ctbt         3315\n",
       "interact_less_5tx               34\n",
       "flagged                       2282\n",
       "dtype: int64"
      ]
     },
     "execution_count": 201,
     "metadata": {},
     "output_type": "execute_result"
    }
   ],
   "source": [
    "df_matching_address[boolean_to_keep].sum()"
   ]
  },
  {
   "cell_type": "code",
   "execution_count": 202,
   "metadata": {},
   "outputs": [
    {
     "name": "stdout",
     "output_type": "stream",
     "text": [
      "number of squelched votes out of 57366\n"
     ]
    },
    {
     "data": {
      "text/plain": [
       "flagged    8626\n",
       "dtype: int64"
      ]
     },
     "execution_count": 202,
     "metadata": {},
     "output_type": "execute_result"
    }
   ],
   "source": [
    "final_merge = df_votes.merge(df_matching_address, left_on='voter', right_on='address', how='left')\n",
    "print(f'number of squelched votes out of {final_merge.shape[0]}')\n",
    "final_merge[['flagged']].sum() "
   ]
  },
  {
   "cell_type": "code",
   "execution_count": 203,
   "metadata": {},
   "outputs": [
    {
     "name": "stdout",
     "output_type": "stream",
     "text": [
      "(57366, 6)\n",
      "(57366, 31)\n"
     ]
    }
   ],
   "source": [
    "print(df_votes.shape)\n",
    "print(final_merge.shape)"
   ]
  },
  {
   "cell_type": "code",
   "execution_count": 204,
   "metadata": {},
   "outputs": [
    {
     "name": "stderr",
     "output_type": "stream",
     "text": [
      "C:\\Users\\DELL Admin\\AppData\\Local\\Temp\\ipykernel_12448\\3488879250.py:7: DtypeWarning: Columns (15,16) have mixed types. Specify dtype option on import or set low_memory=False.\n",
      "  df_votes_stephi = pd.read_csv(os.path.join(DATA_DIR_STEFI, CSV_STEPHI))\n"
     ]
    },
    {
     "name": "stdout",
     "output_type": "stream",
     "text": [
      "(81811, 19) votes stephi\n",
      "(57366, 31) final merge\n",
      "(57366, 33) votes merge\n"
     ]
    },
    {
     "data": {
      "image/png": "[encoded data removed]",
      "text/plain": [
       "<Figure size 640x480 with 2 Axes>"
      ]
     },
     "metadata": {},
     "output_type": "display_data"
    }
   ],
   "source": [
    "# Adding Stakeriddo and Gray flagged wallet\n",
    "\n",
    "DATA_DIR_STEFI = os.path.join(current_dir.parent.parent, 'stefi')\n",
    "CSV_STEPHI = 'sso_odc_analysis.csv'\n",
    "\n",
    "# load data\n",
    "df_votes_stephi = pd.read_csv(os.path.join(DATA_DIR_STEFI, CSV_STEPHI))\n",
    "print(f'{df_votes_stephi.shape} votes stephi')\n",
    "print(f'{final_merge.shape} final merge')\n",
    "df_stephi_bool_voter = df_votes_stephi[['voter', 'stakeridoo_detected', 'doge_detected']]\n",
    "df_merge = final_merge.merge(df_stephi_bool_voter.drop_duplicates(subset=['voter']), left_on='voter', right_on='voter', how='left')\n",
    "print(f'{df_merge.shape} votes merge')\n",
    "\n",
    "df_merge['stakeridoo_detected'].fillna(False, inplace=True)\n",
    "df_merge['doge_detected'].fillna(False, inplace=True)\n",
    "df_merge['odc_detected'] = np.logical_or(np.logical_or(df_merge['stakeridoo_detected'], df_merge['doge_detected']), df_merge['flagged'])\n",
    "\n",
    "boolean_jaccard = boolean_to_keep + ['stakeridoo_detected', 'doge_detected', 'odc_detected']\n",
    "jaccard_similarity_2 = jaccard_similarity_matrix(df_merge[boolean_jaccard])\n",
    "sns.heatmap(jaccard_similarity_2)\n",
    "\n",
    "df_merge.drop(columns=['address']).to_csv(f'../output_gitcoin/n_{CHAIN_ID}_{GRANT_ROUND_ID}.csv', index=False)"
   ]
  },
  {
   "cell_type": "code",
   "execution_count": 209,
   "metadata": {},
   "outputs": [],
   "source": [
    "df_merge.drop(columns=['address']).to_csv(f'../output_gitcoin/n_{CHAIN_ID}_{GRANT_ROUND_ID}.csv', index=False)"
   ]
  },
  {
   "cell_type": "code",
   "execution_count": 213,
   "metadata": {},
   "outputs": [
    {
     "data": {
      "text/plain": [
       "has_lcs                       1082\n",
       "seed_suspicious               5229\n",
       "has_interaction_toxic            0\n",
       "has_no_pool_interaction      13413\n",
       "has_interaction_tornado        298\n",
       "has_interaction_disperse        37\n",
       "is_airdrop_master              728\n",
       "has_interaction_airdrop_m      591\n",
       "interacted_other_ctbt         3315\n",
       "interact_less_5tx               34\n",
       "flagged                       2282\n",
       "stakeridoo_detected            136\n",
       "doge_detected                    2\n",
       "odc_detected                  2407\n",
       "dtype: int64"
      ]
     },
     "execution_count": 213,
     "metadata": {},
     "output_type": "execute_result"
    }
   ],
   "source": [
    "df_merge.drop_duplicates(subset=['voter'])[boolean_jaccard].sum(axis=0)"
   ]
  },
  {
   "cell_type": "code",
   "execution_count": 214,
   "metadata": {},
   "outputs": [
    {
     "data": {
      "text/plain": [
       "(17023, 34)"
      ]
     },
     "execution_count": 214,
     "metadata": {},
     "output_type": "execute_result"
    }
   ],
   "source": [
    "df_merge.drop_duplicates(subset=['voter']).shape"
   ]
  },
  {
   "cell_type": "code",
   "execution_count": 215,
   "metadata": {},
   "outputs": [
    {
     "data": {
      "text/plain": [
       "has_lcs                       1082\n",
       "seed_suspicious               5229\n",
       "has_interaction_toxic            0\n",
       "has_no_pool_interaction      13413\n",
       "has_interaction_tornado        298\n",
       "has_interaction_disperse        37\n",
       "is_airdrop_master              728\n",
       "has_interaction_airdrop_m      591\n",
       "interacted_other_ctbt         3315\n",
       "interact_less_5tx               34\n",
       "flagged                       2282\n",
       "dtype: int64"
      ]
     },
     "execution_count": 215,
     "metadata": {},
     "output_type": "execute_result"
    }
   ],
   "source": [
    "df_matching_address[boolean_to_keep].sum()"
   ]
  },
  {
   "cell_type": "code",
   "execution_count": 205,
   "metadata": {},
   "outputs": [
    {
     "data": {
      "text/plain": [
       "has_lcs                       3223\n",
       "seed_suspicious              18907\n",
       "has_interaction_toxic            0\n",
       "has_no_pool_interaction      41794\n",
       "has_interaction_tornado       1342\n",
       "has_interaction_disperse       128\n",
       "is_airdrop_master             3463\n",
       "has_interaction_airdrop_m     2606\n",
       "interacted_other_ctbt        10720\n",
       "interact_less_5tx              101\n",
       "flagged                       8626\n",
       "stakeridoo_detected            983\n",
       "doge_detected                    6\n",
       "odc_detected                  9558\n",
       "dtype: int64"
      ]
     },
     "execution_count": 205,
     "metadata": {},
     "output_type": "execute_result"
    }
   ],
   "source": [
    "df_merge[boolean_jaccard].sum(axis=0)"
   ]
  },
  {
   "cell_type": "code",
   "execution_count": 222,
   "metadata": {},
   "outputs": [
    {
     "data": {
      "text/html": [
       "<div>\n",
       "<style scoped>\n",
       "    .dataframe tbody tr th:only-of-type {\n",
       "        vertical-align: middle;\n",
       "    }\n",
       "\n",
       "    .dataframe tbody tr th {\n",
       "        vertical-align: top;\n",
       "    }\n",
       "\n",
       "    .dataframe thead th {\n",
       "        text-align: right;\n",
       "    }\n",
       "</style>\n",
       "<table border=\"1\" class=\"dataframe\">\n",
       "  <thead>\n",
       "    <tr style=\"text-align: right;\">\n",
       "      <th></th>\n",
       "      <th>block_timestamp</th>\n",
       "      <th>tx_hash</th>\n",
       "      <th>voter</th>\n",
       "      <th>amount_usd</th>\n",
       "      <th>__row_index</th>\n",
       "      <th>address</th>\n",
       "      <th>seed_same_naive</th>\n",
       "      <th>seed_same</th>\n",
       "      <th>seed_suspicious</th>\n",
       "      <th>less_5_tx</th>\n",
       "      <th>...</th>\n",
       "      <th>is_airdrop_master</th>\n",
       "      <th>count_interaction_with_tornado</th>\n",
       "      <th>count_interaction_with_disperse</th>\n",
       "      <th>has_interaction_airdrop_m</th>\n",
       "      <th>has_interaction_tornado</th>\n",
       "      <th>has_interaction_disperse</th>\n",
       "      <th>flagged</th>\n",
       "      <th>stakeridoo_detected</th>\n",
       "      <th>doge_detected</th>\n",
       "      <th>odc_detected</th>\n",
       "    </tr>\n",
       "    <tr>\n",
       "      <th>project</th>\n",
       "      <th></th>\n",
       "      <th></th>\n",
       "      <th></th>\n",
       "      <th></th>\n",
       "      <th></th>\n",
       "      <th></th>\n",
       "      <th></th>\n",
       "      <th></th>\n",
       "      <th></th>\n",
       "      <th></th>\n",
       "      <th></th>\n",
       "      <th></th>\n",
       "      <th></th>\n",
       "      <th></th>\n",
       "      <th></th>\n",
       "      <th></th>\n",
       "      <th></th>\n",
       "      <th></th>\n",
       "      <th></th>\n",
       "      <th></th>\n",
       "      <th></th>\n",
       "    </tr>\n",
       "  </thead>\n",
       "  <tbody>\n",
       "    <tr>\n",
       "      <th>0x91fbd3447077bfd97f5af4d2c033ecbc25788f89</th>\n",
       "      <td>2023-06-27T23:14:59.000Z</td>\n",
       "      <td>0xd30bb8483147faa7e53a7f374a32dcbaa404985032dd...</td>\n",
       "      <td>0xf06107faa1398fc800e00ad974e3a5b617e8e542</td>\n",
       "      <td>0.377385</td>\n",
       "      <td>223</td>\n",
       "      <td>0xf06107faa1398fc800e00ad974e3a5b617e8e542</td>\n",
       "      <td>True</td>\n",
       "      <td>True</td>\n",
       "      <td>False</td>\n",
       "      <td>False</td>\n",
       "      <td>...</td>\n",
       "      <td>False</td>\n",
       "      <td>0</td>\n",
       "      <td>0</td>\n",
       "      <td>False</td>\n",
       "      <td>False</td>\n",
       "      <td>False</td>\n",
       "      <td>True</td>\n",
       "      <td>False</td>\n",
       "      <td>False</td>\n",
       "      <td>True</td>\n",
       "    </tr>\n",
       "    <tr>\n",
       "      <th>0x8d36bbb74973dd04e31dcbce5778b16dd310bd9b</th>\n",
       "      <td>2023-06-27T23:14:59.000Z</td>\n",
       "      <td>0xd30bb8483147faa7e53a7f374a32dcbaa404985032dd...</td>\n",
       "      <td>0xf06107faa1398fc800e00ad974e3a5b617e8e542</td>\n",
       "      <td>0.382646</td>\n",
       "      <td>232</td>\n",
       "      <td>0xf06107faa1398fc800e00ad974e3a5b617e8e542</td>\n",
       "      <td>True</td>\n",
       "      <td>True</td>\n",
       "      <td>False</td>\n",
       "      <td>False</td>\n",
       "      <td>...</td>\n",
       "      <td>False</td>\n",
       "      <td>0</td>\n",
       "      <td>0</td>\n",
       "      <td>False</td>\n",
       "      <td>False</td>\n",
       "      <td>False</td>\n",
       "      <td>True</td>\n",
       "      <td>False</td>\n",
       "      <td>False</td>\n",
       "      <td>True</td>\n",
       "    </tr>\n",
       "    <tr>\n",
       "      <th>0xf55d40d1e5255a639ab36834f93d44ce8125e047</th>\n",
       "      <td>2023-06-27T23:14:59.000Z</td>\n",
       "      <td>0xd30bb8483147faa7e53a7f374a32dcbaa404985032dd...</td>\n",
       "      <td>0xf06107faa1398fc800e00ad974e3a5b617e8e542</td>\n",
       "      <td>0.390637</td>\n",
       "      <td>224</td>\n",
       "      <td>0xf06107faa1398fc800e00ad974e3a5b617e8e542</td>\n",
       "      <td>True</td>\n",
       "      <td>True</td>\n",
       "      <td>False</td>\n",
       "      <td>False</td>\n",
       "      <td>...</td>\n",
       "      <td>False</td>\n",
       "      <td>0</td>\n",
       "      <td>0</td>\n",
       "      <td>False</td>\n",
       "      <td>False</td>\n",
       "      <td>False</td>\n",
       "      <td>True</td>\n",
       "      <td>False</td>\n",
       "      <td>False</td>\n",
       "      <td>True</td>\n",
       "    </tr>\n",
       "    <tr>\n",
       "      <th>0xdc71a1bdeabd3c347dc21e9354aff91ad375eb97</th>\n",
       "      <td>2023-06-27T23:14:59.000Z</td>\n",
       "      <td>0xd30bb8483147faa7e53a7f374a32dcbaa404985032dd...</td>\n",
       "      <td>0xf06107faa1398fc800e00ad974e3a5b617e8e542</td>\n",
       "      <td>0.386126</td>\n",
       "      <td>229</td>\n",
       "      <td>0xf06107faa1398fc800e00ad974e3a5b617e8e542</td>\n",
       "      <td>True</td>\n",
       "      <td>True</td>\n",
       "      <td>False</td>\n",
       "      <td>False</td>\n",
       "      <td>...</td>\n",
       "      <td>False</td>\n",
       "      <td>0</td>\n",
       "      <td>0</td>\n",
       "      <td>False</td>\n",
       "      <td>False</td>\n",
       "      <td>False</td>\n",
       "      <td>True</td>\n",
       "      <td>False</td>\n",
       "      <td>False</td>\n",
       "      <td>True</td>\n",
       "    </tr>\n",
       "    <tr>\n",
       "      <th>0xca72c93172ba6eff168e59e7f17c3c7a8fea9b62</th>\n",
       "      <td>2023-06-27T23:14:59.000Z</td>\n",
       "      <td>0xd30bb8483147faa7e53a7f374a32dcbaa404985032dd...</td>\n",
       "      <td>0xf06107faa1398fc800e00ad974e3a5b617e8e542</td>\n",
       "      <td>0.394020</td>\n",
       "      <td>220</td>\n",
       "      <td>0xf06107faa1398fc800e00ad974e3a5b617e8e542</td>\n",
       "      <td>True</td>\n",
       "      <td>True</td>\n",
       "      <td>False</td>\n",
       "      <td>False</td>\n",
       "      <td>...</td>\n",
       "      <td>False</td>\n",
       "      <td>0</td>\n",
       "      <td>0</td>\n",
       "      <td>False</td>\n",
       "      <td>False</td>\n",
       "      <td>False</td>\n",
       "      <td>True</td>\n",
       "      <td>False</td>\n",
       "      <td>False</td>\n",
       "      <td>True</td>\n",
       "    </tr>\n",
       "    <tr>\n",
       "      <th>0xc4450c8d1009160883e44f24d66d92436ae4b4c5</th>\n",
       "      <td>2023-06-27T23:14:59.000Z</td>\n",
       "      <td>0xd30bb8483147faa7e53a7f374a32dcbaa404985032dd...</td>\n",
       "      <td>0xf06107faa1398fc800e00ad974e3a5b617e8e542</td>\n",
       "      <td>0.382047</td>\n",
       "      <td>242</td>\n",
       "      <td>0xf06107faa1398fc800e00ad974e3a5b617e8e542</td>\n",
       "      <td>True</td>\n",
       "      <td>True</td>\n",
       "      <td>False</td>\n",
       "      <td>False</td>\n",
       "      <td>...</td>\n",
       "      <td>False</td>\n",
       "      <td>0</td>\n",
       "      <td>0</td>\n",
       "      <td>False</td>\n",
       "      <td>False</td>\n",
       "      <td>False</td>\n",
       "      <td>True</td>\n",
       "      <td>False</td>\n",
       "      <td>False</td>\n",
       "      <td>True</td>\n",
       "    </tr>\n",
       "    <tr>\n",
       "      <th>0xbec643bd5b7f5e9190617ca4187ef0455950c51c</th>\n",
       "      <td>2023-06-27T23:14:59.000Z</td>\n",
       "      <td>0xd30bb8483147faa7e53a7f374a32dcbaa404985032dd...</td>\n",
       "      <td>0xf06107faa1398fc800e00ad974e3a5b617e8e542</td>\n",
       "      <td>0.382630</td>\n",
       "      <td>241</td>\n",
       "      <td>0xf06107faa1398fc800e00ad974e3a5b617e8e542</td>\n",
       "      <td>True</td>\n",
       "      <td>True</td>\n",
       "      <td>False</td>\n",
       "      <td>False</td>\n",
       "      <td>...</td>\n",
       "      <td>False</td>\n",
       "      <td>0</td>\n",
       "      <td>0</td>\n",
       "      <td>False</td>\n",
       "      <td>False</td>\n",
       "      <td>False</td>\n",
       "      <td>True</td>\n",
       "      <td>False</td>\n",
       "      <td>False</td>\n",
       "      <td>True</td>\n",
       "    </tr>\n",
       "    <tr>\n",
       "      <th>0xb62e762af637b49eb4870bce8fe21bfff189e495</th>\n",
       "      <td>2023-06-27T23:14:59.000Z</td>\n",
       "      <td>0xd30bb8483147faa7e53a7f374a32dcbaa404985032dd...</td>\n",
       "      <td>0xf06107faa1398fc800e00ad974e3a5b617e8e542</td>\n",
       "      <td>0.378028</td>\n",
       "      <td>239</td>\n",
       "      <td>0xf06107faa1398fc800e00ad974e3a5b617e8e542</td>\n",
       "      <td>True</td>\n",
       "      <td>True</td>\n",
       "      <td>False</td>\n",
       "      <td>False</td>\n",
       "      <td>...</td>\n",
       "      <td>False</td>\n",
       "      <td>0</td>\n",
       "      <td>0</td>\n",
       "      <td>False</td>\n",
       "      <td>False</td>\n",
       "      <td>False</td>\n",
       "      <td>True</td>\n",
       "      <td>False</td>\n",
       "      <td>False</td>\n",
       "      <td>True</td>\n",
       "    </tr>\n",
       "    <tr>\n",
       "      <th>0xa51e0a99b53d5b00937a2631d5865468a3543b7d</th>\n",
       "      <td>2023-06-27T23:14:59.000Z</td>\n",
       "      <td>0xd30bb8483147faa7e53a7f374a32dcbaa404985032dd...</td>\n",
       "      <td>0xf06107faa1398fc800e00ad974e3a5b617e8e542</td>\n",
       "      <td>0.382066</td>\n",
       "      <td>238</td>\n",
       "      <td>0xf06107faa1398fc800e00ad974e3a5b617e8e542</td>\n",
       "      <td>True</td>\n",
       "      <td>True</td>\n",
       "      <td>False</td>\n",
       "      <td>False</td>\n",
       "      <td>...</td>\n",
       "      <td>False</td>\n",
       "      <td>0</td>\n",
       "      <td>0</td>\n",
       "      <td>False</td>\n",
       "      <td>False</td>\n",
       "      <td>False</td>\n",
       "      <td>True</td>\n",
       "      <td>False</td>\n",
       "      <td>False</td>\n",
       "      <td>True</td>\n",
       "    </tr>\n",
       "    <tr>\n",
       "      <th>0xa40ba205add80c214ec7a710e790a54d738c4c27</th>\n",
       "      <td>2023-06-27T23:14:59.000Z</td>\n",
       "      <td>0xd30bb8483147faa7e53a7f374a32dcbaa404985032dd...</td>\n",
       "      <td>0xf06107faa1398fc800e00ad974e3a5b617e8e542</td>\n",
       "      <td>0.384733</td>\n",
       "      <td>250</td>\n",
       "      <td>0xf06107faa1398fc800e00ad974e3a5b617e8e542</td>\n",
       "      <td>True</td>\n",
       "      <td>True</td>\n",
       "      <td>False</td>\n",
       "      <td>False</td>\n",
       "      <td>...</td>\n",
       "      <td>False</td>\n",
       "      <td>0</td>\n",
       "      <td>0</td>\n",
       "      <td>False</td>\n",
       "      <td>False</td>\n",
       "      <td>False</td>\n",
       "      <td>True</td>\n",
       "      <td>False</td>\n",
       "      <td>False</td>\n",
       "      <td>True</td>\n",
       "    </tr>\n",
       "    <tr>\n",
       "      <th>0xa30ab83e693ad49f3f651085dad11d049c818923</th>\n",
       "      <td>2023-06-27T23:14:59.000Z</td>\n",
       "      <td>0xd30bb8483147faa7e53a7f374a32dcbaa404985032dd...</td>\n",
       "      <td>0xf06107faa1398fc800e00ad974e3a5b617e8e542</td>\n",
       "      <td>0.390261</td>\n",
       "      <td>236</td>\n",
       "      <td>0xf06107faa1398fc800e00ad974e3a5b617e8e542</td>\n",
       "      <td>True</td>\n",
       "      <td>True</td>\n",
       "      <td>False</td>\n",
       "      <td>False</td>\n",
       "      <td>...</td>\n",
       "      <td>False</td>\n",
       "      <td>0</td>\n",
       "      <td>0</td>\n",
       "      <td>False</td>\n",
       "      <td>False</td>\n",
       "      <td>False</td>\n",
       "      <td>True</td>\n",
       "      <td>False</td>\n",
       "      <td>False</td>\n",
       "      <td>True</td>\n",
       "    </tr>\n",
       "    <tr>\n",
       "      <th>0x9dcba70b2dfe5807e2a847e065ebb666791f8b8a</th>\n",
       "      <td>2023-06-27T23:14:59.000Z</td>\n",
       "      <td>0xd30bb8483147faa7e53a7f374a32dcbaa404985032dd...</td>\n",
       "      <td>0xf06107faa1398fc800e00ad974e3a5b617e8e542</td>\n",
       "      <td>0.385900</td>\n",
       "      <td>240</td>\n",
       "      <td>0xf06107faa1398fc800e00ad974e3a5b617e8e542</td>\n",
       "      <td>True</td>\n",
       "      <td>True</td>\n",
       "      <td>False</td>\n",
       "      <td>False</td>\n",
       "      <td>...</td>\n",
       "      <td>False</td>\n",
       "      <td>0</td>\n",
       "      <td>0</td>\n",
       "      <td>False</td>\n",
       "      <td>False</td>\n",
       "      <td>False</td>\n",
       "      <td>True</td>\n",
       "      <td>False</td>\n",
       "      <td>False</td>\n",
       "      <td>True</td>\n",
       "    </tr>\n",
       "    <tr>\n",
       "      <th>0x9531c059098e3d194ff87febb587ab07b30b1306</th>\n",
       "      <td>2023-06-27T23:14:59.000Z</td>\n",
       "      <td>0xd30bb8483147faa7e53a7f374a32dcbaa404985032dd...</td>\n",
       "      <td>0xf06107faa1398fc800e00ad974e3a5b617e8e542</td>\n",
       "      <td>0.380449</td>\n",
       "      <td>252</td>\n",
       "      <td>0xf06107faa1398fc800e00ad974e3a5b617e8e542</td>\n",
       "      <td>True</td>\n",
       "      <td>True</td>\n",
       "      <td>False</td>\n",
       "      <td>False</td>\n",
       "      <td>...</td>\n",
       "      <td>False</td>\n",
       "      <td>0</td>\n",
       "      <td>0</td>\n",
       "      <td>False</td>\n",
       "      <td>False</td>\n",
       "      <td>False</td>\n",
       "      <td>True</td>\n",
       "      <td>False</td>\n",
       "      <td>False</td>\n",
       "      <td>True</td>\n",
       "    </tr>\n",
       "    <tr>\n",
       "      <th>0x924f5821f991f366df954536e9a408867f962637</th>\n",
       "      <td>2023-06-27T23:14:59.000Z</td>\n",
       "      <td>0xd30bb8483147faa7e53a7f374a32dcbaa404985032dd...</td>\n",
       "      <td>0xf06107faa1398fc800e00ad974e3a5b617e8e542</td>\n",
       "      <td>0.380449</td>\n",
       "      <td>221</td>\n",
       "      <td>0xf06107faa1398fc800e00ad974e3a5b617e8e542</td>\n",
       "      <td>True</td>\n",
       "      <td>True</td>\n",
       "      <td>False</td>\n",
       "      <td>False</td>\n",
       "      <td>...</td>\n",
       "      <td>False</td>\n",
       "      <td>0</td>\n",
       "      <td>0</td>\n",
       "      <td>False</td>\n",
       "      <td>False</td>\n",
       "      <td>False</td>\n",
       "      <td>True</td>\n",
       "      <td>False</td>\n",
       "      <td>False</td>\n",
       "      <td>True</td>\n",
       "    </tr>\n",
       "    <tr>\n",
       "      <th>0x298f7f66ba43f0efecf4bc324b0016f822c783a4</th>\n",
       "      <td>2023-06-27T23:14:59.000Z</td>\n",
       "      <td>0xd30bb8483147faa7e53a7f374a32dcbaa404985032dd...</td>\n",
       "      <td>0xf06107faa1398fc800e00ad974e3a5b617e8e542</td>\n",
       "      <td>0.386596</td>\n",
       "      <td>246</td>\n",
       "      <td>0xf06107faa1398fc800e00ad974e3a5b617e8e542</td>\n",
       "      <td>True</td>\n",
       "      <td>True</td>\n",
       "      <td>False</td>\n",
       "      <td>False</td>\n",
       "      <td>...</td>\n",
       "      <td>False</td>\n",
       "      <td>0</td>\n",
       "      <td>0</td>\n",
       "      <td>False</td>\n",
       "      <td>False</td>\n",
       "      <td>False</td>\n",
       "      <td>True</td>\n",
       "      <td>False</td>\n",
       "      <td>False</td>\n",
       "      <td>True</td>\n",
       "    </tr>\n",
       "    <tr>\n",
       "      <th>0xfc9265a28f66cf4561d74a4e25d7bbd3f482b8e6</th>\n",
       "      <td>2023-06-27T23:14:59.000Z</td>\n",
       "      <td>0xd30bb8483147faa7e53a7f374a32dcbaa404985032dd...</td>\n",
       "      <td>0xf06107faa1398fc800e00ad974e3a5b617e8e542</td>\n",
       "      <td>0.390776</td>\n",
       "      <td>225</td>\n",
       "      <td>0xf06107faa1398fc800e00ad974e3a5b617e8e542</td>\n",
       "      <td>True</td>\n",
       "      <td>True</td>\n",
       "      <td>False</td>\n",
       "      <td>False</td>\n",
       "      <td>...</td>\n",
       "      <td>False</td>\n",
       "      <td>0</td>\n",
       "      <td>0</td>\n",
       "      <td>False</td>\n",
       "      <td>False</td>\n",
       "      <td>False</td>\n",
       "      <td>True</td>\n",
       "      <td>False</td>\n",
       "      <td>False</td>\n",
       "      <td>True</td>\n",
       "    </tr>\n",
       "    <tr>\n",
       "      <th>0x8cfb71682feb93317d1eb4e0b3ca7fa9044169cf</th>\n",
       "      <td>2023-06-27T23:14:59.000Z</td>\n",
       "      <td>0xd30bb8483147faa7e53a7f374a32dcbaa404985032dd...</td>\n",
       "      <td>0xf06107faa1398fc800e00ad974e3a5b617e8e542</td>\n",
       "      <td>0.382573</td>\n",
       "      <td>231</td>\n",
       "      <td>0xf06107faa1398fc800e00ad974e3a5b617e8e542</td>\n",
       "      <td>True</td>\n",
       "      <td>True</td>\n",
       "      <td>False</td>\n",
       "      <td>False</td>\n",
       "      <td>...</td>\n",
       "      <td>False</td>\n",
       "      <td>0</td>\n",
       "      <td>0</td>\n",
       "      <td>False</td>\n",
       "      <td>False</td>\n",
       "      <td>False</td>\n",
       "      <td>True</td>\n",
       "      <td>False</td>\n",
       "      <td>False</td>\n",
       "      <td>True</td>\n",
       "    </tr>\n",
       "    <tr>\n",
       "      <th>0x88c379caef7965c49b17c2a18c43af36f213fbd5</th>\n",
       "      <td>2023-06-27T23:14:59.000Z</td>\n",
       "      <td>0xd30bb8483147faa7e53a7f374a32dcbaa404985032dd...</td>\n",
       "      <td>0xf06107faa1398fc800e00ad974e3a5b617e8e542</td>\n",
       "      <td>0.388596</td>\n",
       "      <td>237</td>\n",
       "      <td>0xf06107faa1398fc800e00ad974e3a5b617e8e542</td>\n",
       "      <td>True</td>\n",
       "      <td>True</td>\n",
       "      <td>False</td>\n",
       "      <td>False</td>\n",
       "      <td>...</td>\n",
       "      <td>False</td>\n",
       "      <td>0</td>\n",
       "      <td>0</td>\n",
       "      <td>False</td>\n",
       "      <td>False</td>\n",
       "      <td>False</td>\n",
       "      <td>True</td>\n",
       "      <td>False</td>\n",
       "      <td>False</td>\n",
       "      <td>True</td>\n",
       "    </tr>\n",
       "    <tr>\n",
       "      <th>0x3fb0d1e89693b8709de60d835452a4712d1c9b04</th>\n",
       "      <td>2023-06-27T23:14:59.000Z</td>\n",
       "      <td>0xd30bb8483147faa7e53a7f374a32dcbaa404985032dd...</td>\n",
       "      <td>0xf06107faa1398fc800e00ad974e3a5b617e8e542</td>\n",
       "      <td>0.390073</td>\n",
       "      <td>251</td>\n",
       "      <td>0xf06107faa1398fc800e00ad974e3a5b617e8e542</td>\n",
       "      <td>True</td>\n",
       "      <td>True</td>\n",
       "      <td>False</td>\n",
       "      <td>False</td>\n",
       "      <td>...</td>\n",
       "      <td>False</td>\n",
       "      <td>0</td>\n",
       "      <td>0</td>\n",
       "      <td>False</td>\n",
       "      <td>False</td>\n",
       "      <td>False</td>\n",
       "      <td>True</td>\n",
       "      <td>False</td>\n",
       "      <td>False</td>\n",
       "      <td>True</td>\n",
       "    </tr>\n",
       "    <tr>\n",
       "      <th>0x4486907312143049ac5c6280cba9ba4cd5f30511</th>\n",
       "      <td>2023-06-27T23:14:59.000Z</td>\n",
       "      <td>0xd30bb8483147faa7e53a7f374a32dcbaa404985032dd...</td>\n",
       "      <td>0xf06107faa1398fc800e00ad974e3a5b617e8e542</td>\n",
       "      <td>0.380556</td>\n",
       "      <td>249</td>\n",
       "      <td>0xf06107faa1398fc800e00ad974e3a5b617e8e542</td>\n",
       "      <td>True</td>\n",
       "      <td>True</td>\n",
       "      <td>False</td>\n",
       "      <td>False</td>\n",
       "      <td>...</td>\n",
       "      <td>False</td>\n",
       "      <td>0</td>\n",
       "      <td>0</td>\n",
       "      <td>False</td>\n",
       "      <td>False</td>\n",
       "      <td>False</td>\n",
       "      <td>True</td>\n",
       "      <td>False</td>\n",
       "      <td>False</td>\n",
       "      <td>True</td>\n",
       "    </tr>\n",
       "    <tr>\n",
       "      <th>0x521aacb43d89e1b8ffd64d9ef76b0a1074dedaf8</th>\n",
       "      <td>2023-06-27T23:14:59.000Z</td>\n",
       "      <td>0xd30bb8483147faa7e53a7f374a32dcbaa404985032dd...</td>\n",
       "      <td>0xf06107faa1398fc800e00ad974e3a5b617e8e542</td>\n",
       "      <td>0.381953</td>\n",
       "      <td>243</td>\n",
       "      <td>0xf06107faa1398fc800e00ad974e3a5b617e8e542</td>\n",
       "      <td>True</td>\n",
       "      <td>True</td>\n",
       "      <td>False</td>\n",
       "      <td>False</td>\n",
       "      <td>...</td>\n",
       "      <td>False</td>\n",
       "      <td>0</td>\n",
       "      <td>0</td>\n",
       "      <td>False</td>\n",
       "      <td>False</td>\n",
       "      <td>False</td>\n",
       "      <td>True</td>\n",
       "      <td>False</td>\n",
       "      <td>False</td>\n",
       "      <td>True</td>\n",
       "    </tr>\n",
       "    <tr>\n",
       "      <th>0x5a5d9ab7b1bd978f80909503ebb828879daca9c3</th>\n",
       "      <td>2023-06-27T23:14:59.000Z</td>\n",
       "      <td>0xd30bb8483147faa7e53a7f374a32dcbaa404985032dd...</td>\n",
       "      <td>0xf06107faa1398fc800e00ad974e3a5b617e8e542</td>\n",
       "      <td>0.389904</td>\n",
       "      <td>234</td>\n",
       "      <td>0xf06107faa1398fc800e00ad974e3a5b617e8e542</td>\n",
       "      <td>True</td>\n",
       "      <td>True</td>\n",
       "      <td>False</td>\n",
       "      <td>False</td>\n",
       "      <td>...</td>\n",
       "      <td>False</td>\n",
       "      <td>0</td>\n",
       "      <td>0</td>\n",
       "      <td>False</td>\n",
       "      <td>False</td>\n",
       "      <td>False</td>\n",
       "      <td>True</td>\n",
       "      <td>False</td>\n",
       "      <td>False</td>\n",
       "      <td>True</td>\n",
       "    </tr>\n",
       "    <tr>\n",
       "      <th>0x6b5918d8ef9094679f4b4e1bf397a66ea411b118</th>\n",
       "      <td>2023-06-27T23:14:59.000Z</td>\n",
       "      <td>0xd30bb8483147faa7e53a7f374a32dcbaa404985032dd...</td>\n",
       "      <td>0xf06107faa1398fc800e00ad974e3a5b617e8e542</td>\n",
       "      <td>0.380539</td>\n",
       "      <td>244</td>\n",
       "      <td>0xf06107faa1398fc800e00ad974e3a5b617e8e542</td>\n",
       "      <td>True</td>\n",
       "      <td>True</td>\n",
       "      <td>False</td>\n",
       "      <td>False</td>\n",
       "      <td>...</td>\n",
       "      <td>False</td>\n",
       "      <td>0</td>\n",
       "      <td>0</td>\n",
       "      <td>False</td>\n",
       "      <td>False</td>\n",
       "      <td>False</td>\n",
       "      <td>True</td>\n",
       "      <td>False</td>\n",
       "      <td>False</td>\n",
       "      <td>True</td>\n",
       "    </tr>\n",
       "    <tr>\n",
       "      <th>0x74afec0c8564ddc09e9fac9493c611eeafcca0e7</th>\n",
       "      <td>2023-06-27T23:14:59.000Z</td>\n",
       "      <td>0xd30bb8483147faa7e53a7f374a32dcbaa404985032dd...</td>\n",
       "      <td>0xf06107faa1398fc800e00ad974e3a5b617e8e542</td>\n",
       "      <td>0.380220</td>\n",
       "      <td>226</td>\n",
       "      <td>0xf06107faa1398fc800e00ad974e3a5b617e8e542</td>\n",
       "      <td>True</td>\n",
       "      <td>True</td>\n",
       "      <td>False</td>\n",
       "      <td>False</td>\n",
       "      <td>...</td>\n",
       "      <td>False</td>\n",
       "      <td>0</td>\n",
       "      <td>0</td>\n",
       "      <td>False</td>\n",
       "      <td>False</td>\n",
       "      <td>False</td>\n",
       "      <td>True</td>\n",
       "      <td>False</td>\n",
       "      <td>False</td>\n",
       "      <td>True</td>\n",
       "    </tr>\n",
       "    <tr>\n",
       "      <th>0x7904667c340601aab73939372c016dc5102732a2</th>\n",
       "      <td>2023-06-27T23:14:59.000Z</td>\n",
       "      <td>0xd30bb8483147faa7e53a7f374a32dcbaa404985032dd...</td>\n",
       "      <td>0xf06107faa1398fc800e00ad974e3a5b617e8e542</td>\n",
       "      <td>0.384020</td>\n",
       "      <td>248</td>\n",
       "      <td>0xf06107faa1398fc800e00ad974e3a5b617e8e542</td>\n",
       "      <td>True</td>\n",
       "      <td>True</td>\n",
       "      <td>False</td>\n",
       "      <td>False</td>\n",
       "      <td>...</td>\n",
       "      <td>False</td>\n",
       "      <td>0</td>\n",
       "      <td>0</td>\n",
       "      <td>False</td>\n",
       "      <td>False</td>\n",
       "      <td>False</td>\n",
       "      <td>True</td>\n",
       "      <td>False</td>\n",
       "      <td>False</td>\n",
       "      <td>True</td>\n",
       "    </tr>\n",
       "    <tr>\n",
       "      <th>0x850a146d7478daaa98fc26fd85e6a24e50846a9d</th>\n",
       "      <td>2023-06-27T23:14:59.000Z</td>\n",
       "      <td>0xd30bb8483147faa7e53a7f374a32dcbaa404985032dd...</td>\n",
       "      <td>0xf06107faa1398fc800e00ad974e3a5b617e8e542</td>\n",
       "      <td>0.390317</td>\n",
       "      <td>235</td>\n",
       "      <td>0xf06107faa1398fc800e00ad974e3a5b617e8e542</td>\n",
       "      <td>True</td>\n",
       "      <td>True</td>\n",
       "      <td>False</td>\n",
       "      <td>False</td>\n",
       "      <td>...</td>\n",
       "      <td>False</td>\n",
       "      <td>0</td>\n",
       "      <td>0</td>\n",
       "      <td>False</td>\n",
       "      <td>False</td>\n",
       "      <td>False</td>\n",
       "      <td>True</td>\n",
       "      <td>False</td>\n",
       "      <td>False</td>\n",
       "      <td>True</td>\n",
       "    </tr>\n",
       "    <tr>\n",
       "      <th>0x8615b6ed9468cbb58cfdf45c120b87e15add787f</th>\n",
       "      <td>2023-06-27T23:14:59.000Z</td>\n",
       "      <td>0xd30bb8483147faa7e53a7f374a32dcbaa404985032dd...</td>\n",
       "      <td>0xf06107faa1398fc800e00ad974e3a5b617e8e542</td>\n",
       "      <td>0.389942</td>\n",
       "      <td>247</td>\n",
       "      <td>0xf06107faa1398fc800e00ad974e3a5b617e8e542</td>\n",
       "      <td>True</td>\n",
       "      <td>True</td>\n",
       "      <td>False</td>\n",
       "      <td>False</td>\n",
       "      <td>...</td>\n",
       "      <td>False</td>\n",
       "      <td>0</td>\n",
       "      <td>0</td>\n",
       "      <td>False</td>\n",
       "      <td>False</td>\n",
       "      <td>False</td>\n",
       "      <td>True</td>\n",
       "      <td>False</td>\n",
       "      <td>False</td>\n",
       "      <td>True</td>\n",
       "    </tr>\n",
       "    <tr>\n",
       "      <th>0x13257e783dc8ded7e227a28edb0428c42d31202e</th>\n",
       "      <td>2023-06-27T07:00:47.000Z</td>\n",
       "      <td>0x02c49bd1d6415e4ed5b5548e359c894630dd39ee8bf3...</td>\n",
       "      <td>0xc5cdf34b216fa0675e9bce0c646b2016ce58b181</td>\n",
       "      <td>1.898486</td>\n",
       "      <td>129</td>\n",
       "      <td>0xc5cdf34b216fa0675e9bce0c646b2016ce58b181</td>\n",
       "      <td>True</td>\n",
       "      <td>True</td>\n",
       "      <td>False</td>\n",
       "      <td>False</td>\n",
       "      <td>...</td>\n",
       "      <td>False</td>\n",
       "      <td>0</td>\n",
       "      <td>0</td>\n",
       "      <td>False</td>\n",
       "      <td>False</td>\n",
       "      <td>False</td>\n",
       "      <td>True</td>\n",
       "      <td>False</td>\n",
       "      <td>False</td>\n",
       "      <td>True</td>\n",
       "    </tr>\n",
       "    <tr>\n",
       "      <th>0x85a363699c6864248a6ffca66e4a1a5ccf9f5567</th>\n",
       "      <td>2023-06-27T05:22:17.000Z</td>\n",
       "      <td>0xa3c9a867214de5f7221cb886c78b6144517091f8bc9a...</td>\n",
       "      <td>0x7d860a3d948cfd85d2854b816fb0b51701e83f37</td>\n",
       "      <td>1.127814</td>\n",
       "      <td>126</td>\n",
       "      <td>0x7d860a3d948cfd85d2854b816fb0b51701e83f37</td>\n",
       "      <td>False</td>\n",
       "      <td>False</td>\n",
       "      <td>False</td>\n",
       "      <td>False</td>\n",
       "      <td>...</td>\n",
       "      <td>False</td>\n",
       "      <td>0</td>\n",
       "      <td>0</td>\n",
       "      <td>False</td>\n",
       "      <td>False</td>\n",
       "      <td>False</td>\n",
       "      <td>True</td>\n",
       "      <td>False</td>\n",
       "      <td>False</td>\n",
       "      <td>True</td>\n",
       "    </tr>\n",
       "    <tr>\n",
       "      <th>0xe1887ff140bfa9d3b45d0b2077b7471124acd242</th>\n",
       "      <td>2023-06-27T05:22:17.000Z</td>\n",
       "      <td>0xa3c9a867214de5f7221cb886c78b6144517091f8bc9a...</td>\n",
       "      <td>0x7d860a3d948cfd85d2854b816fb0b51701e83f37</td>\n",
       "      <td>1.127814</td>\n",
       "      <td>125</td>\n",
       "      <td>0x7d860a3d948cfd85d2854b816fb0b51701e83f37</td>\n",
       "      <td>False</td>\n",
       "      <td>False</td>\n",
       "      <td>False</td>\n",
       "      <td>False</td>\n",
       "      <td>...</td>\n",
       "      <td>False</td>\n",
       "      <td>0</td>\n",
       "      <td>0</td>\n",
       "      <td>False</td>\n",
       "      <td>False</td>\n",
       "      <td>False</td>\n",
       "      <td>True</td>\n",
       "      <td>False</td>\n",
       "      <td>False</td>\n",
       "      <td>True</td>\n",
       "    </tr>\n",
       "    <tr>\n",
       "      <th>0x745ce2af76e9a6eba65cc0cacaa9ea109bb7fabd</th>\n",
       "      <td>2023-06-27T23:10:23.000Z</td>\n",
       "      <td>0x548950b6cb0ebacaadedeef029fd568facba47b50e3c...</td>\n",
       "      <td>0x20e7492b180f05802daf67e3a48b6df76d1c7903</td>\n",
       "      <td>0.263156</td>\n",
       "      <td>175</td>\n",
       "      <td>0x20e7492b180f05802daf67e3a48b6df76d1c7903</td>\n",
       "      <td>True</td>\n",
       "      <td>True</td>\n",
       "      <td>False</td>\n",
       "      <td>True</td>\n",
       "      <td>...</td>\n",
       "      <td>False</td>\n",
       "      <td>0</td>\n",
       "      <td>0</td>\n",
       "      <td>False</td>\n",
       "      <td>False</td>\n",
       "      <td>False</td>\n",
       "      <td>True</td>\n",
       "      <td>False</td>\n",
       "      <td>False</td>\n",
       "      <td>True</td>\n",
       "    </tr>\n",
       "    <tr>\n",
       "      <th>0xc98786d5a7a03c1e74affcb97ff7ef8a710da09b</th>\n",
       "      <td>2023-06-27T23:10:23.000Z</td>\n",
       "      <td>0x548950b6cb0ebacaadedeef029fd568facba47b50e3c...</td>\n",
       "      <td>0x20e7492b180f05802daf67e3a48b6df76d1c7903</td>\n",
       "      <td>0.263156</td>\n",
       "      <td>174</td>\n",
       "      <td>0x20e7492b180f05802daf67e3a48b6df76d1c7903</td>\n",
       "      <td>True</td>\n",
       "      <td>True</td>\n",
       "      <td>False</td>\n",
       "      <td>True</td>\n",
       "      <td>...</td>\n",
       "      <td>False</td>\n",
       "      <td>0</td>\n",
       "      <td>0</td>\n",
       "      <td>False</td>\n",
       "      <td>False</td>\n",
       "      <td>False</td>\n",
       "      <td>True</td>\n",
       "      <td>False</td>\n",
       "      <td>False</td>\n",
       "      <td>True</td>\n",
       "    </tr>\n",
       "    <tr>\n",
       "      <th>0xeb0cf83c80e4b4cd82196dac94e2c579672b6b1c</th>\n",
       "      <td>2023-06-27T23:10:23.000Z</td>\n",
       "      <td>0x548950b6cb0ebacaadedeef029fd568facba47b50e3c...</td>\n",
       "      <td>0x20e7492b180f05802daf67e3a48b6df76d1c7903</td>\n",
       "      <td>0.263156</td>\n",
       "      <td>86</td>\n",
       "      <td>0x20e7492b180f05802daf67e3a48b6df76d1c7903</td>\n",
       "      <td>True</td>\n",
       "      <td>True</td>\n",
       "      <td>False</td>\n",
       "      <td>True</td>\n",
       "      <td>...</td>\n",
       "      <td>False</td>\n",
       "      <td>0</td>\n",
       "      <td>0</td>\n",
       "      <td>False</td>\n",
       "      <td>False</td>\n",
       "      <td>False</td>\n",
       "      <td>True</td>\n",
       "      <td>False</td>\n",
       "      <td>False</td>\n",
       "      <td>True</td>\n",
       "    </tr>\n",
       "  </tbody>\n",
       "</table>\n",
       "<p>33 rows × 33 columns</p>\n",
       "</div>"
      ],
      "text/plain": [
       "                                                     block_timestamp   \n",
       "project                                                                \n",
       "0x91fbd3447077bfd97f5af4d2c033ecbc25788f89  2023-06-27T23:14:59.000Z  \\\n",
       "0x8d36bbb74973dd04e31dcbce5778b16dd310bd9b  2023-06-27T23:14:59.000Z   \n",
       "0xf55d40d1e5255a639ab36834f93d44ce8125e047  2023-06-27T23:14:59.000Z   \n",
       "0xdc71a1bdeabd3c347dc21e9354aff91ad375eb97  2023-06-27T23:14:59.000Z   \n",
       "0xca72c93172ba6eff168e59e7f17c3c7a8fea9b62  2023-06-27T23:14:59.000Z   \n",
       "0xc4450c8d1009160883e44f24d66d92436ae4b4c5  2023-06-27T23:14:59.000Z   \n",
       "0xbec643bd5b7f5e9190617ca4187ef0455950c51c  2023-06-27T23:14:59.000Z   \n",
       "0xb62e762af637b49eb4870bce8fe21bfff189e495  2023-06-27T23:14:59.000Z   \n",
       "0xa51e0a99b53d5b00937a2631d5865468a3543b7d  2023-06-27T23:14:59.000Z   \n",
       "0xa40ba205add80c214ec7a710e790a54d738c4c27  2023-06-27T23:14:59.000Z   \n",
       "0xa30ab83e693ad49f3f651085dad11d049c818923  2023-06-27T23:14:59.000Z   \n",
       "0x9dcba70b2dfe5807e2a847e065ebb666791f8b8a  2023-06-27T23:14:59.000Z   \n",
       "0x9531c059098e3d194ff87febb587ab07b30b1306  2023-06-27T23:14:59.000Z   \n",
       "0x924f5821f991f366df954536e9a408867f962637  2023-06-27T23:14:59.000Z   \n",
       "0x298f7f66ba43f0efecf4bc324b0016f822c783a4  2023-06-27T23:14:59.000Z   \n",
       "0xfc9265a28f66cf4561d74a4e25d7bbd3f482b8e6  2023-06-27T23:14:59.000Z   \n",
       "0x8cfb71682feb93317d1eb4e0b3ca7fa9044169cf  2023-06-27T23:14:59.000Z   \n",
       "0x88c379caef7965c49b17c2a18c43af36f213fbd5  2023-06-27T23:14:59.000Z   \n",
       "0x3fb0d1e89693b8709de60d835452a4712d1c9b04  2023-06-27T23:14:59.000Z   \n",
       "0x4486907312143049ac5c6280cba9ba4cd5f30511  2023-06-27T23:14:59.000Z   \n",
       "0x521aacb43d89e1b8ffd64d9ef76b0a1074dedaf8  2023-06-27T23:14:59.000Z   \n",
       "0x5a5d9ab7b1bd978f80909503ebb828879daca9c3  2023-06-27T23:14:59.000Z   \n",
       "0x6b5918d8ef9094679f4b4e1bf397a66ea411b118  2023-06-27T23:14:59.000Z   \n",
       "0x74afec0c8564ddc09e9fac9493c611eeafcca0e7  2023-06-27T23:14:59.000Z   \n",
       "0x7904667c340601aab73939372c016dc5102732a2  2023-06-27T23:14:59.000Z   \n",
       "0x850a146d7478daaa98fc26fd85e6a24e50846a9d  2023-06-27T23:14:59.000Z   \n",
       "0x8615b6ed9468cbb58cfdf45c120b87e15add787f  2023-06-27T23:14:59.000Z   \n",
       "0x13257e783dc8ded7e227a28edb0428c42d31202e  2023-06-27T07:00:47.000Z   \n",
       "0x85a363699c6864248a6ffca66e4a1a5ccf9f5567  2023-06-27T05:22:17.000Z   \n",
       "0xe1887ff140bfa9d3b45d0b2077b7471124acd242  2023-06-27T05:22:17.000Z   \n",
       "0x745ce2af76e9a6eba65cc0cacaa9ea109bb7fabd  2023-06-27T23:10:23.000Z   \n",
       "0xc98786d5a7a03c1e74affcb97ff7ef8a710da09b  2023-06-27T23:10:23.000Z   \n",
       "0xeb0cf83c80e4b4cd82196dac94e2c579672b6b1c  2023-06-27T23:10:23.000Z   \n",
       "\n",
       "                                                                                      tx_hash   \n",
       "project                                                                                         \n",
       "0x91fbd3447077bfd97f5af4d2c033ecbc25788f89  0xd30bb8483147faa7e53a7f374a32dcbaa404985032dd...  \\\n",
       "0x8d36bbb74973dd04e31dcbce5778b16dd310bd9b  0xd30bb8483147faa7e53a7f374a32dcbaa404985032dd...   \n",
       "0xf55d40d1e5255a639ab36834f93d44ce8125e047  0xd30bb8483147faa7e53a7f374a32dcbaa404985032dd...   \n",
       "0xdc71a1bdeabd3c347dc21e9354aff91ad375eb97  0xd30bb8483147faa7e53a7f374a32dcbaa404985032dd...   \n",
       "0xca72c93172ba6eff168e59e7f17c3c7a8fea9b62  0xd30bb8483147faa7e53a7f374a32dcbaa404985032dd...   \n",
       "0xc4450c8d1009160883e44f24d66d92436ae4b4c5  0xd30bb8483147faa7e53a7f374a32dcbaa404985032dd...   \n",
       "0xbec643bd5b7f5e9190617ca4187ef0455950c51c  0xd30bb8483147faa7e53a7f374a32dcbaa404985032dd...   \n",
       "0xb62e762af637b49eb4870bce8fe21bfff189e495  0xd30bb8483147faa7e53a7f374a32dcbaa404985032dd...   \n",
       "0xa51e0a99b53d5b00937a2631d5865468a3543b7d  0xd30bb8483147faa7e53a7f374a32dcbaa404985032dd...   \n",
       "0xa40ba205add80c214ec7a710e790a54d738c4c27  0xd30bb8483147faa7e53a7f374a32dcbaa404985032dd...   \n",
       "0xa30ab83e693ad49f3f651085dad11d049c818923  0xd30bb8483147faa7e53a7f374a32dcbaa404985032dd...   \n",
       "0x9dcba70b2dfe5807e2a847e065ebb666791f8b8a  0xd30bb8483147faa7e53a7f374a32dcbaa404985032dd...   \n",
       "0x9531c059098e3d194ff87febb587ab07b30b1306  0xd30bb8483147faa7e53a7f374a32dcbaa404985032dd...   \n",
       "0x924f5821f991f366df954536e9a408867f962637  0xd30bb8483147faa7e53a7f374a32dcbaa404985032dd...   \n",
       "0x298f7f66ba43f0efecf4bc324b0016f822c783a4  0xd30bb8483147faa7e53a7f374a32dcbaa404985032dd...   \n",
       "0xfc9265a28f66cf4561d74a4e25d7bbd3f482b8e6  0xd30bb8483147faa7e53a7f374a32dcbaa404985032dd...   \n",
       "0x8cfb71682feb93317d1eb4e0b3ca7fa9044169cf  0xd30bb8483147faa7e53a7f374a32dcbaa404985032dd...   \n",
       "0x88c379caef7965c49b17c2a18c43af36f213fbd5  0xd30bb8483147faa7e53a7f374a32dcbaa404985032dd...   \n",
       "0x3fb0d1e89693b8709de60d835452a4712d1c9b04  0xd30bb8483147faa7e53a7f374a32dcbaa404985032dd...   \n",
       "0x4486907312143049ac5c6280cba9ba4cd5f30511  0xd30bb8483147faa7e53a7f374a32dcbaa404985032dd...   \n",
       "0x521aacb43d89e1b8ffd64d9ef76b0a1074dedaf8  0xd30bb8483147faa7e53a7f374a32dcbaa404985032dd...   \n",
       "0x5a5d9ab7b1bd978f80909503ebb828879daca9c3  0xd30bb8483147faa7e53a7f374a32dcbaa404985032dd...   \n",
       "0x6b5918d8ef9094679f4b4e1bf397a66ea411b118  0xd30bb8483147faa7e53a7f374a32dcbaa404985032dd...   \n",
       "0x74afec0c8564ddc09e9fac9493c611eeafcca0e7  0xd30bb8483147faa7e53a7f374a32dcbaa404985032dd...   \n",
       "0x7904667c340601aab73939372c016dc5102732a2  0xd30bb8483147faa7e53a7f374a32dcbaa404985032dd...   \n",
       "0x850a146d7478daaa98fc26fd85e6a24e50846a9d  0xd30bb8483147faa7e53a7f374a32dcbaa404985032dd...   \n",
       "0x8615b6ed9468cbb58cfdf45c120b87e15add787f  0xd30bb8483147faa7e53a7f374a32dcbaa404985032dd...   \n",
       "0x13257e783dc8ded7e227a28edb0428c42d31202e  0x02c49bd1d6415e4ed5b5548e359c894630dd39ee8bf3...   \n",
       "0x85a363699c6864248a6ffca66e4a1a5ccf9f5567  0xa3c9a867214de5f7221cb886c78b6144517091f8bc9a...   \n",
       "0xe1887ff140bfa9d3b45d0b2077b7471124acd242  0xa3c9a867214de5f7221cb886c78b6144517091f8bc9a...   \n",
       "0x745ce2af76e9a6eba65cc0cacaa9ea109bb7fabd  0x548950b6cb0ebacaadedeef029fd568facba47b50e3c...   \n",
       "0xc98786d5a7a03c1e74affcb97ff7ef8a710da09b  0x548950b6cb0ebacaadedeef029fd568facba47b50e3c...   \n",
       "0xeb0cf83c80e4b4cd82196dac94e2c579672b6b1c  0x548950b6cb0ebacaadedeef029fd568facba47b50e3c...   \n",
       "\n",
       "                                                                                 voter   \n",
       "project                                                                                  \n",
       "0x91fbd3447077bfd97f5af4d2c033ecbc25788f89  0xf06107faa1398fc800e00ad974e3a5b617e8e542  \\\n",
       "0x8d36bbb74973dd04e31dcbce5778b16dd310bd9b  0xf06107faa1398fc800e00ad974e3a5b617e8e542   \n",
       "0xf55d40d1e5255a639ab36834f93d44ce8125e047  0xf06107faa1398fc800e00ad974e3a5b617e8e542   \n",
       "0xdc71a1bdeabd3c347dc21e9354aff91ad375eb97  0xf06107faa1398fc800e00ad974e3a5b617e8e542   \n",
       "0xca72c93172ba6eff168e59e7f17c3c7a8fea9b62  0xf06107faa1398fc800e00ad974e3a5b617e8e542   \n",
       "0xc4450c8d1009160883e44f24d66d92436ae4b4c5  0xf06107faa1398fc800e00ad974e3a5b617e8e542   \n",
       "0xbec643bd5b7f5e9190617ca4187ef0455950c51c  0xf06107faa1398fc800e00ad974e3a5b617e8e542   \n",
       "0xb62e762af637b49eb4870bce8fe21bfff189e495  0xf06107faa1398fc800e00ad974e3a5b617e8e542   \n",
       "0xa51e0a99b53d5b00937a2631d5865468a3543b7d  0xf06107faa1398fc800e00ad974e3a5b617e8e542   \n",
       "0xa40ba205add80c214ec7a710e790a54d738c4c27  0xf06107faa1398fc800e00ad974e3a5b617e8e542   \n",
       "0xa30ab83e693ad49f3f651085dad11d049c818923  0xf06107faa1398fc800e00ad974e3a5b617e8e542   \n",
       "0x9dcba70b2dfe5807e2a847e065ebb666791f8b8a  0xf06107faa1398fc800e00ad974e3a5b617e8e542   \n",
       "0x9531c059098e3d194ff87febb587ab07b30b1306  0xf06107faa1398fc800e00ad974e3a5b617e8e542   \n",
       "0x924f5821f991f366df954536e9a408867f962637  0xf06107faa1398fc800e00ad974e3a5b617e8e542   \n",
       "0x298f7f66ba43f0efecf4bc324b0016f822c783a4  0xf06107faa1398fc800e00ad974e3a5b617e8e542   \n",
       "0xfc9265a28f66cf4561d74a4e25d7bbd3f482b8e6  0xf06107faa1398fc800e00ad974e3a5b617e8e542   \n",
       "0x8cfb71682feb93317d1eb4e0b3ca7fa9044169cf  0xf06107faa1398fc800e00ad974e3a5b617e8e542   \n",
       "0x88c379caef7965c49b17c2a18c43af36f213fbd5  0xf06107faa1398fc800e00ad974e3a5b617e8e542   \n",
       "0x3fb0d1e89693b8709de60d835452a4712d1c9b04  0xf06107faa1398fc800e00ad974e3a5b617e8e542   \n",
       "0x4486907312143049ac5c6280cba9ba4cd5f30511  0xf06107faa1398fc800e00ad974e3a5b617e8e542   \n",
       "0x521aacb43d89e1b8ffd64d9ef76b0a1074dedaf8  0xf06107faa1398fc800e00ad974e3a5b617e8e542   \n",
       "0x5a5d9ab7b1bd978f80909503ebb828879daca9c3  0xf06107faa1398fc800e00ad974e3a5b617e8e542   \n",
       "0x6b5918d8ef9094679f4b4e1bf397a66ea411b118  0xf06107faa1398fc800e00ad974e3a5b617e8e542   \n",
       "0x74afec0c8564ddc09e9fac9493c611eeafcca0e7  0xf06107faa1398fc800e00ad974e3a5b617e8e542   \n",
       "0x7904667c340601aab73939372c016dc5102732a2  0xf06107faa1398fc800e00ad974e3a5b617e8e542   \n",
       "0x850a146d7478daaa98fc26fd85e6a24e50846a9d  0xf06107faa1398fc800e00ad974e3a5b617e8e542   \n",
       "0x8615b6ed9468cbb58cfdf45c120b87e15add787f  0xf06107faa1398fc800e00ad974e3a5b617e8e542   \n",
       "0x13257e783dc8ded7e227a28edb0428c42d31202e  0xc5cdf34b216fa0675e9bce0c646b2016ce58b181   \n",
       "0x85a363699c6864248a6ffca66e4a1a5ccf9f5567  0x7d860a3d948cfd85d2854b816fb0b51701e83f37   \n",
       "0xe1887ff140bfa9d3b45d0b2077b7471124acd242  0x7d860a3d948cfd85d2854b816fb0b51701e83f37   \n",
       "0x745ce2af76e9a6eba65cc0cacaa9ea109bb7fabd  0x20e7492b180f05802daf67e3a48b6df76d1c7903   \n",
       "0xc98786d5a7a03c1e74affcb97ff7ef8a710da09b  0x20e7492b180f05802daf67e3a48b6df76d1c7903   \n",
       "0xeb0cf83c80e4b4cd82196dac94e2c579672b6b1c  0x20e7492b180f05802daf67e3a48b6df76d1c7903   \n",
       "\n",
       "                                            amount_usd  __row_index   \n",
       "project                                                               \n",
       "0x91fbd3447077bfd97f5af4d2c033ecbc25788f89    0.377385          223  \\\n",
       "0x8d36bbb74973dd04e31dcbce5778b16dd310bd9b    0.382646          232   \n",
       "0xf55d40d1e5255a639ab36834f93d44ce8125e047    0.390637          224   \n",
       "0xdc71a1bdeabd3c347dc21e9354aff91ad375eb97    0.386126          229   \n",
       "0xca72c93172ba6eff168e59e7f17c3c7a8fea9b62    0.394020          220   \n",
       "0xc4450c8d1009160883e44f24d66d92436ae4b4c5    0.382047          242   \n",
       "0xbec643bd5b7f5e9190617ca4187ef0455950c51c    0.382630          241   \n",
       "0xb62e762af637b49eb4870bce8fe21bfff189e495    0.378028          239   \n",
       "0xa51e0a99b53d5b00937a2631d5865468a3543b7d    0.382066          238   \n",
       "0xa40ba205add80c214ec7a710e790a54d738c4c27    0.384733          250   \n",
       "0xa30ab83e693ad49f3f651085dad11d049c818923    0.390261          236   \n",
       "0x9dcba70b2dfe5807e2a847e065ebb666791f8b8a    0.385900          240   \n",
       "0x9531c059098e3d194ff87febb587ab07b30b1306    0.380449          252   \n",
       "0x924f5821f991f366df954536e9a408867f962637    0.380449          221   \n",
       "0x298f7f66ba43f0efecf4bc324b0016f822c783a4    0.386596          246   \n",
       "0xfc9265a28f66cf4561d74a4e25d7bbd3f482b8e6    0.390776          225   \n",
       "0x8cfb71682feb93317d1eb4e0b3ca7fa9044169cf    0.382573          231   \n",
       "0x88c379caef7965c49b17c2a18c43af36f213fbd5    0.388596          237   \n",
       "0x3fb0d1e89693b8709de60d835452a4712d1c9b04    0.390073          251   \n",
       "0x4486907312143049ac5c6280cba9ba4cd5f30511    0.380556          249   \n",
       "0x521aacb43d89e1b8ffd64d9ef76b0a1074dedaf8    0.381953          243   \n",
       "0x5a5d9ab7b1bd978f80909503ebb828879daca9c3    0.389904          234   \n",
       "0x6b5918d8ef9094679f4b4e1bf397a66ea411b118    0.380539          244   \n",
       "0x74afec0c8564ddc09e9fac9493c611eeafcca0e7    0.380220          226   \n",
       "0x7904667c340601aab73939372c016dc5102732a2    0.384020          248   \n",
       "0x850a146d7478daaa98fc26fd85e6a24e50846a9d    0.390317          235   \n",
       "0x8615b6ed9468cbb58cfdf45c120b87e15add787f    0.389942          247   \n",
       "0x13257e783dc8ded7e227a28edb0428c42d31202e    1.898486          129   \n",
       "0x85a363699c6864248a6ffca66e4a1a5ccf9f5567    1.127814          126   \n",
       "0xe1887ff140bfa9d3b45d0b2077b7471124acd242    1.127814          125   \n",
       "0x745ce2af76e9a6eba65cc0cacaa9ea109bb7fabd    0.263156          175   \n",
       "0xc98786d5a7a03c1e74affcb97ff7ef8a710da09b    0.263156          174   \n",
       "0xeb0cf83c80e4b4cd82196dac94e2c579672b6b1c    0.263156           86   \n",
       "\n",
       "                                                                               address   \n",
       "project                                                                                  \n",
       "0x91fbd3447077bfd97f5af4d2c033ecbc25788f89  0xf06107faa1398fc800e00ad974e3a5b617e8e542  \\\n",
       "0x8d36bbb74973dd04e31dcbce5778b16dd310bd9b  0xf06107faa1398fc800e00ad974e3a5b617e8e542   \n",
       "0xf55d40d1e5255a639ab36834f93d44ce8125e047  0xf06107faa1398fc800e00ad974e3a5b617e8e542   \n",
       "0xdc71a1bdeabd3c347dc21e9354aff91ad375eb97  0xf06107faa1398fc800e00ad974e3a5b617e8e542   \n",
       "0xca72c93172ba6eff168e59e7f17c3c7a8fea9b62  0xf06107faa1398fc800e00ad974e3a5b617e8e542   \n",
       "0xc4450c8d1009160883e44f24d66d92436ae4b4c5  0xf06107faa1398fc800e00ad974e3a5b617e8e542   \n",
       "0xbec643bd5b7f5e9190617ca4187ef0455950c51c  0xf06107faa1398fc800e00ad974e3a5b617e8e542   \n",
       "0xb62e762af637b49eb4870bce8fe21bfff189e495  0xf06107faa1398fc800e00ad974e3a5b617e8e542   \n",
       "0xa51e0a99b53d5b00937a2631d5865468a3543b7d  0xf06107faa1398fc800e00ad974e3a5b617e8e542   \n",
       "0xa40ba205add80c214ec7a710e790a54d738c4c27  0xf06107faa1398fc800e00ad974e3a5b617e8e542   \n",
       "0xa30ab83e693ad49f3f651085dad11d049c818923  0xf06107faa1398fc800e00ad974e3a5b617e8e542   \n",
       "0x9dcba70b2dfe5807e2a847e065ebb666791f8b8a  0xf06107faa1398fc800e00ad974e3a5b617e8e542   \n",
       "0x9531c059098e3d194ff87febb587ab07b30b1306  0xf06107faa1398fc800e00ad974e3a5b617e8e542   \n",
       "0x924f5821f991f366df954536e9a408867f962637  0xf06107faa1398fc800e00ad974e3a5b617e8e542   \n",
       "0x298f7f66ba43f0efecf4bc324b0016f822c783a4  0xf06107faa1398fc800e00ad974e3a5b617e8e542   \n",
       "0xfc9265a28f66cf4561d74a4e25d7bbd3f482b8e6  0xf06107faa1398fc800e00ad974e3a5b617e8e542   \n",
       "0x8cfb71682feb93317d1eb4e0b3ca7fa9044169cf  0xf06107faa1398fc800e00ad974e3a5b617e8e542   \n",
       "0x88c379caef7965c49b17c2a18c43af36f213fbd5  0xf06107faa1398fc800e00ad974e3a5b617e8e542   \n",
       "0x3fb0d1e89693b8709de60d835452a4712d1c9b04  0xf06107faa1398fc800e00ad974e3a5b617e8e542   \n",
       "0x4486907312143049ac5c6280cba9ba4cd5f30511  0xf06107faa1398fc800e00ad974e3a5b617e8e542   \n",
       "0x521aacb43d89e1b8ffd64d9ef76b0a1074dedaf8  0xf06107faa1398fc800e00ad974e3a5b617e8e542   \n",
       "0x5a5d9ab7b1bd978f80909503ebb828879daca9c3  0xf06107faa1398fc800e00ad974e3a5b617e8e542   \n",
       "0x6b5918d8ef9094679f4b4e1bf397a66ea411b118  0xf06107faa1398fc800e00ad974e3a5b617e8e542   \n",
       "0x74afec0c8564ddc09e9fac9493c611eeafcca0e7  0xf06107faa1398fc800e00ad974e3a5b617e8e542   \n",
       "0x7904667c340601aab73939372c016dc5102732a2  0xf06107faa1398fc800e00ad974e3a5b617e8e542   \n",
       "0x850a146d7478daaa98fc26fd85e6a24e50846a9d  0xf06107faa1398fc800e00ad974e3a5b617e8e542   \n",
       "0x8615b6ed9468cbb58cfdf45c120b87e15add787f  0xf06107faa1398fc800e00ad974e3a5b617e8e542   \n",
       "0x13257e783dc8ded7e227a28edb0428c42d31202e  0xc5cdf34b216fa0675e9bce0c646b2016ce58b181   \n",
       "0x85a363699c6864248a6ffca66e4a1a5ccf9f5567  0x7d860a3d948cfd85d2854b816fb0b51701e83f37   \n",
       "0xe1887ff140bfa9d3b45d0b2077b7471124acd242  0x7d860a3d948cfd85d2854b816fb0b51701e83f37   \n",
       "0x745ce2af76e9a6eba65cc0cacaa9ea109bb7fabd  0x20e7492b180f05802daf67e3a48b6df76d1c7903   \n",
       "0xc98786d5a7a03c1e74affcb97ff7ef8a710da09b  0x20e7492b180f05802daf67e3a48b6df76d1c7903   \n",
       "0xeb0cf83c80e4b4cd82196dac94e2c579672b6b1c  0x20e7492b180f05802daf67e3a48b6df76d1c7903   \n",
       "\n",
       "                                            seed_same_naive  seed_same   \n",
       "project                                                                  \n",
       "0x91fbd3447077bfd97f5af4d2c033ecbc25788f89             True       True  \\\n",
       "0x8d36bbb74973dd04e31dcbce5778b16dd310bd9b             True       True   \n",
       "0xf55d40d1e5255a639ab36834f93d44ce8125e047             True       True   \n",
       "0xdc71a1bdeabd3c347dc21e9354aff91ad375eb97             True       True   \n",
       "0xca72c93172ba6eff168e59e7f17c3c7a8fea9b62             True       True   \n",
       "0xc4450c8d1009160883e44f24d66d92436ae4b4c5             True       True   \n",
       "0xbec643bd5b7f5e9190617ca4187ef0455950c51c             True       True   \n",
       "0xb62e762af637b49eb4870bce8fe21bfff189e495             True       True   \n",
       "0xa51e0a99b53d5b00937a2631d5865468a3543b7d             True       True   \n",
       "0xa40ba205add80c214ec7a710e790a54d738c4c27             True       True   \n",
       "0xa30ab83e693ad49f3f651085dad11d049c818923             True       True   \n",
       "0x9dcba70b2dfe5807e2a847e065ebb666791f8b8a             True       True   \n",
       "0x9531c059098e3d194ff87febb587ab07b30b1306             True       True   \n",
       "0x924f5821f991f366df954536e9a408867f962637             True       True   \n",
       "0x298f7f66ba43f0efecf4bc324b0016f822c783a4             True       True   \n",
       "0xfc9265a28f66cf4561d74a4e25d7bbd3f482b8e6             True       True   \n",
       "0x8cfb71682feb93317d1eb4e0b3ca7fa9044169cf             True       True   \n",
       "0x88c379caef7965c49b17c2a18c43af36f213fbd5             True       True   \n",
       "0x3fb0d1e89693b8709de60d835452a4712d1c9b04             True       True   \n",
       "0x4486907312143049ac5c6280cba9ba4cd5f30511             True       True   \n",
       "0x521aacb43d89e1b8ffd64d9ef76b0a1074dedaf8             True       True   \n",
       "0x5a5d9ab7b1bd978f80909503ebb828879daca9c3             True       True   \n",
       "0x6b5918d8ef9094679f4b4e1bf397a66ea411b118             True       True   \n",
       "0x74afec0c8564ddc09e9fac9493c611eeafcca0e7             True       True   \n",
       "0x7904667c340601aab73939372c016dc5102732a2             True       True   \n",
       "0x850a146d7478daaa98fc26fd85e6a24e50846a9d             True       True   \n",
       "0x8615b6ed9468cbb58cfdf45c120b87e15add787f             True       True   \n",
       "0x13257e783dc8ded7e227a28edb0428c42d31202e             True       True   \n",
       "0x85a363699c6864248a6ffca66e4a1a5ccf9f5567            False      False   \n",
       "0xe1887ff140bfa9d3b45d0b2077b7471124acd242            False      False   \n",
       "0x745ce2af76e9a6eba65cc0cacaa9ea109bb7fabd             True       True   \n",
       "0xc98786d5a7a03c1e74affcb97ff7ef8a710da09b             True       True   \n",
       "0xeb0cf83c80e4b4cd82196dac94e2c579672b6b1c             True       True   \n",
       "\n",
       "                                            seed_suspicious  less_5_tx  ...   \n",
       "project                                                                 ...   \n",
       "0x91fbd3447077bfd97f5af4d2c033ecbc25788f89            False      False  ...  \\\n",
       "0x8d36bbb74973dd04e31dcbce5778b16dd310bd9b            False      False  ...   \n",
       "0xf55d40d1e5255a639ab36834f93d44ce8125e047            False      False  ...   \n",
       "0xdc71a1bdeabd3c347dc21e9354aff91ad375eb97            False      False  ...   \n",
       "0xca72c93172ba6eff168e59e7f17c3c7a8fea9b62            False      False  ...   \n",
       "0xc4450c8d1009160883e44f24d66d92436ae4b4c5            False      False  ...   \n",
       "0xbec643bd5b7f5e9190617ca4187ef0455950c51c            False      False  ...   \n",
       "0xb62e762af637b49eb4870bce8fe21bfff189e495            False      False  ...   \n",
       "0xa51e0a99b53d5b00937a2631d5865468a3543b7d            False      False  ...   \n",
       "0xa40ba205add80c214ec7a710e790a54d738c4c27            False      False  ...   \n",
       "0xa30ab83e693ad49f3f651085dad11d049c818923            False      False  ...   \n",
       "0x9dcba70b2dfe5807e2a847e065ebb666791f8b8a            False      False  ...   \n",
       "0x9531c059098e3d194ff87febb587ab07b30b1306            False      False  ...   \n",
       "0x924f5821f991f366df954536e9a408867f962637            False      False  ...   \n",
       "0x298f7f66ba43f0efecf4bc324b0016f822c783a4            False      False  ...   \n",
       "0xfc9265a28f66cf4561d74a4e25d7bbd3f482b8e6            False      False  ...   \n",
       "0x8cfb71682feb93317d1eb4e0b3ca7fa9044169cf            False      False  ...   \n",
       "0x88c379caef7965c49b17c2a18c43af36f213fbd5            False      False  ...   \n",
       "0x3fb0d1e89693b8709de60d835452a4712d1c9b04            False      False  ...   \n",
       "0x4486907312143049ac5c6280cba9ba4cd5f30511            False      False  ...   \n",
       "0x521aacb43d89e1b8ffd64d9ef76b0a1074dedaf8            False      False  ...   \n",
       "0x5a5d9ab7b1bd978f80909503ebb828879daca9c3            False      False  ...   \n",
       "0x6b5918d8ef9094679f4b4e1bf397a66ea411b118            False      False  ...   \n",
       "0x74afec0c8564ddc09e9fac9493c611eeafcca0e7            False      False  ...   \n",
       "0x7904667c340601aab73939372c016dc5102732a2            False      False  ...   \n",
       "0x850a146d7478daaa98fc26fd85e6a24e50846a9d            False      False  ...   \n",
       "0x8615b6ed9468cbb58cfdf45c120b87e15add787f            False      False  ...   \n",
       "0x13257e783dc8ded7e227a28edb0428c42d31202e            False      False  ...   \n",
       "0x85a363699c6864248a6ffca66e4a1a5ccf9f5567            False      False  ...   \n",
       "0xe1887ff140bfa9d3b45d0b2077b7471124acd242            False      False  ...   \n",
       "0x745ce2af76e9a6eba65cc0cacaa9ea109bb7fabd            False       True  ...   \n",
       "0xc98786d5a7a03c1e74affcb97ff7ef8a710da09b            False       True  ...   \n",
       "0xeb0cf83c80e4b4cd82196dac94e2c579672b6b1c            False       True  ...   \n",
       "\n",
       "                                            is_airdrop_master   \n",
       "project                                                         \n",
       "0x91fbd3447077bfd97f5af4d2c033ecbc25788f89              False  \\\n",
       "0x8d36bbb74973dd04e31dcbce5778b16dd310bd9b              False   \n",
       "0xf55d40d1e5255a639ab36834f93d44ce8125e047              False   \n",
       "0xdc71a1bdeabd3c347dc21e9354aff91ad375eb97              False   \n",
       "0xca72c93172ba6eff168e59e7f17c3c7a8fea9b62              False   \n",
       "0xc4450c8d1009160883e44f24d66d92436ae4b4c5              False   \n",
       "0xbec643bd5b7f5e9190617ca4187ef0455950c51c              False   \n",
       "0xb62e762af637b49eb4870bce8fe21bfff189e495              False   \n",
       "0xa51e0a99b53d5b00937a2631d5865468a3543b7d              False   \n",
       "0xa40ba205add80c214ec7a710e790a54d738c4c27              False   \n",
       "0xa30ab83e693ad49f3f651085dad11d049c818923              False   \n",
       "0x9dcba70b2dfe5807e2a847e065ebb666791f8b8a              False   \n",
       "0x9531c059098e3d194ff87febb587ab07b30b1306              False   \n",
       "0x924f5821f991f366df954536e9a408867f962637              False   \n",
       "0x298f7f66ba43f0efecf4bc324b0016f822c783a4              False   \n",
       "0xfc9265a28f66cf4561d74a4e25d7bbd3f482b8e6              False   \n",
       "0x8cfb71682feb93317d1eb4e0b3ca7fa9044169cf              False   \n",
       "0x88c379caef7965c49b17c2a18c43af36f213fbd5              False   \n",
       "0x3fb0d1e89693b8709de60d835452a4712d1c9b04              False   \n",
       "0x4486907312143049ac5c6280cba9ba4cd5f30511              False   \n",
       "0x521aacb43d89e1b8ffd64d9ef76b0a1074dedaf8              False   \n",
       "0x5a5d9ab7b1bd978f80909503ebb828879daca9c3              False   \n",
       "0x6b5918d8ef9094679f4b4e1bf397a66ea411b118              False   \n",
       "0x74afec0c8564ddc09e9fac9493c611eeafcca0e7              False   \n",
       "0x7904667c340601aab73939372c016dc5102732a2              False   \n",
       "0x850a146d7478daaa98fc26fd85e6a24e50846a9d              False   \n",
       "0x8615b6ed9468cbb58cfdf45c120b87e15add787f              False   \n",
       "0x13257e783dc8ded7e227a28edb0428c42d31202e              False   \n",
       "0x85a363699c6864248a6ffca66e4a1a5ccf9f5567              False   \n",
       "0xe1887ff140bfa9d3b45d0b2077b7471124acd242              False   \n",
       "0x745ce2af76e9a6eba65cc0cacaa9ea109bb7fabd              False   \n",
       "0xc98786d5a7a03c1e74affcb97ff7ef8a710da09b              False   \n",
       "0xeb0cf83c80e4b4cd82196dac94e2c579672b6b1c              False   \n",
       "\n",
       "                                            count_interaction_with_tornado   \n",
       "project                                                                      \n",
       "0x91fbd3447077bfd97f5af4d2c033ecbc25788f89                               0  \\\n",
       "0x8d36bbb74973dd04e31dcbce5778b16dd310bd9b                               0   \n",
       "0xf55d40d1e5255a639ab36834f93d44ce8125e047                               0   \n",
       "0xdc71a1bdeabd3c347dc21e9354aff91ad375eb97                               0   \n",
       "0xca72c93172ba6eff168e59e7f17c3c7a8fea9b62                               0   \n",
       "0xc4450c8d1009160883e44f24d66d92436ae4b4c5                               0   \n",
       "0xbec643bd5b7f5e9190617ca4187ef0455950c51c                               0   \n",
       "0xb62e762af637b49eb4870bce8fe21bfff189e495                               0   \n",
       "0xa51e0a99b53d5b00937a2631d5865468a3543b7d                               0   \n",
       "0xa40ba205add80c214ec7a710e790a54d738c4c27                               0   \n",
       "0xa30ab83e693ad49f3f651085dad11d049c818923                               0   \n",
       "0x9dcba70b2dfe5807e2a847e065ebb666791f8b8a                               0   \n",
       "0x9531c059098e3d194ff87febb587ab07b30b1306                               0   \n",
       "0x924f5821f991f366df954536e9a408867f962637                               0   \n",
       "0x298f7f66ba43f0efecf4bc324b0016f822c783a4                               0   \n",
       "0xfc9265a28f66cf4561d74a4e25d7bbd3f482b8e6                               0   \n",
       "0x8cfb71682feb93317d1eb4e0b3ca7fa9044169cf                               0   \n",
       "0x88c379caef7965c49b17c2a18c43af36f213fbd5                               0   \n",
       "0x3fb0d1e89693b8709de60d835452a4712d1c9b04                               0   \n",
       "0x4486907312143049ac5c6280cba9ba4cd5f30511                               0   \n",
       "0x521aacb43d89e1b8ffd64d9ef76b0a1074dedaf8                               0   \n",
       "0x5a5d9ab7b1bd978f80909503ebb828879daca9c3                               0   \n",
       "0x6b5918d8ef9094679f4b4e1bf397a66ea411b118                               0   \n",
       "0x74afec0c8564ddc09e9fac9493c611eeafcca0e7                               0   \n",
       "0x7904667c340601aab73939372c016dc5102732a2                               0   \n",
       "0x850a146d7478daaa98fc26fd85e6a24e50846a9d                               0   \n",
       "0x8615b6ed9468cbb58cfdf45c120b87e15add787f                               0   \n",
       "0x13257e783dc8ded7e227a28edb0428c42d31202e                               0   \n",
       "0x85a363699c6864248a6ffca66e4a1a5ccf9f5567                               0   \n",
       "0xe1887ff140bfa9d3b45d0b2077b7471124acd242                               0   \n",
       "0x745ce2af76e9a6eba65cc0cacaa9ea109bb7fabd                               0   \n",
       "0xc98786d5a7a03c1e74affcb97ff7ef8a710da09b                               0   \n",
       "0xeb0cf83c80e4b4cd82196dac94e2c579672b6b1c                               0   \n",
       "\n",
       "                                            count_interaction_with_disperse   \n",
       "project                                                                       \n",
       "0x91fbd3447077bfd97f5af4d2c033ecbc25788f89                                0  \\\n",
       "0x8d36bbb74973dd04e31dcbce5778b16dd310bd9b                                0   \n",
       "0xf55d40d1e5255a639ab36834f93d44ce8125e047                                0   \n",
       "0xdc71a1bdeabd3c347dc21e9354aff91ad375eb97                                0   \n",
       "0xca72c93172ba6eff168e59e7f17c3c7a8fea9b62                                0   \n",
       "0xc4450c8d1009160883e44f24d66d92436ae4b4c5                                0   \n",
       "0xbec643bd5b7f5e9190617ca4187ef0455950c51c                                0   \n",
       "0xb62e762af637b49eb4870bce8fe21bfff189e495                                0   \n",
       "0xa51e0a99b53d5b00937a2631d5865468a3543b7d                                0   \n",
       "0xa40ba205add80c214ec7a710e790a54d738c4c27                                0   \n",
       "0xa30ab83e693ad49f3f651085dad11d049c818923                                0   \n",
       "0x9dcba70b2dfe5807e2a847e065ebb666791f8b8a                                0   \n",
       "0x9531c059098e3d194ff87febb587ab07b30b1306                                0   \n",
       "0x924f5821f991f366df954536e9a408867f962637                                0   \n",
       "0x298f7f66ba43f0efecf4bc324b0016f822c783a4                                0   \n",
       "0xfc9265a28f66cf4561d74a4e25d7bbd3f482b8e6                                0   \n",
       "0x8cfb71682feb93317d1eb4e0b3ca7fa9044169cf                                0   \n",
       "0x88c379caef7965c49b17c2a18c43af36f213fbd5                                0   \n",
       "0x3fb0d1e89693b8709de60d835452a4712d1c9b04                                0   \n",
       "0x4486907312143049ac5c6280cba9ba4cd5f30511                                0   \n",
       "0x521aacb43d89e1b8ffd64d9ef76b0a1074dedaf8                                0   \n",
       "0x5a5d9ab7b1bd978f80909503ebb828879daca9c3                                0   \n",
       "0x6b5918d8ef9094679f4b4e1bf397a66ea411b118                                0   \n",
       "0x74afec0c8564ddc09e9fac9493c611eeafcca0e7                                0   \n",
       "0x7904667c340601aab73939372c016dc5102732a2                                0   \n",
       "0x850a146d7478daaa98fc26fd85e6a24e50846a9d                                0   \n",
       "0x8615b6ed9468cbb58cfdf45c120b87e15add787f                                0   \n",
       "0x13257e783dc8ded7e227a28edb0428c42d31202e                                0   \n",
       "0x85a363699c6864248a6ffca66e4a1a5ccf9f5567                                0   \n",
       "0xe1887ff140bfa9d3b45d0b2077b7471124acd242                                0   \n",
       "0x745ce2af76e9a6eba65cc0cacaa9ea109bb7fabd                                0   \n",
       "0xc98786d5a7a03c1e74affcb97ff7ef8a710da09b                                0   \n",
       "0xeb0cf83c80e4b4cd82196dac94e2c579672b6b1c                                0   \n",
       "\n",
       "                                            has_interaction_airdrop_m   \n",
       "project                                                                 \n",
       "0x91fbd3447077bfd97f5af4d2c033ecbc25788f89                      False  \\\n",
       "0x8d36bbb74973dd04e31dcbce5778b16dd310bd9b                      False   \n",
       "0xf55d40d1e5255a639ab36834f93d44ce8125e047                      False   \n",
       "0xdc71a1bdeabd3c347dc21e9354aff91ad375eb97                      False   \n",
       "0xca72c93172ba6eff168e59e7f17c3c7a8fea9b62                      False   \n",
       "0xc4450c8d1009160883e44f24d66d92436ae4b4c5                      False   \n",
       "0xbec643bd5b7f5e9190617ca4187ef0455950c51c                      False   \n",
       "0xb62e762af637b49eb4870bce8fe21bfff189e495                      False   \n",
       "0xa51e0a99b53d5b00937a2631d5865468a3543b7d                      False   \n",
       "0xa40ba205add80c214ec7a710e790a54d738c4c27                      False   \n",
       "0xa30ab83e693ad49f3f651085dad11d049c818923                      False   \n",
       "0x9dcba70b2dfe5807e2a847e065ebb666791f8b8a                      False   \n",
       "0x9531c059098e3d194ff87febb587ab07b30b1306                      False   \n",
       "0x924f5821f991f366df954536e9a408867f962637                      False   \n",
       "0x298f7f66ba43f0efecf4bc324b0016f822c783a4                      False   \n",
       "0xfc9265a28f66cf4561d74a4e25d7bbd3f482b8e6                      False   \n",
       "0x8cfb71682feb93317d1eb4e0b3ca7fa9044169cf                      False   \n",
       "0x88c379caef7965c49b17c2a18c43af36f213fbd5                      False   \n",
       "0x3fb0d1e89693b8709de60d835452a4712d1c9b04                      False   \n",
       "0x4486907312143049ac5c6280cba9ba4cd5f30511                      False   \n",
       "0x521aacb43d89e1b8ffd64d9ef76b0a1074dedaf8                      False   \n",
       "0x5a5d9ab7b1bd978f80909503ebb828879daca9c3                      False   \n",
       "0x6b5918d8ef9094679f4b4e1bf397a66ea411b118                      False   \n",
       "0x74afec0c8564ddc09e9fac9493c611eeafcca0e7                      False   \n",
       "0x7904667c340601aab73939372c016dc5102732a2                      False   \n",
       "0x850a146d7478daaa98fc26fd85e6a24e50846a9d                      False   \n",
       "0x8615b6ed9468cbb58cfdf45c120b87e15add787f                      False   \n",
       "0x13257e783dc8ded7e227a28edb0428c42d31202e                      False   \n",
       "0x85a363699c6864248a6ffca66e4a1a5ccf9f5567                      False   \n",
       "0xe1887ff140bfa9d3b45d0b2077b7471124acd242                      False   \n",
       "0x745ce2af76e9a6eba65cc0cacaa9ea109bb7fabd                      False   \n",
       "0xc98786d5a7a03c1e74affcb97ff7ef8a710da09b                      False   \n",
       "0xeb0cf83c80e4b4cd82196dac94e2c579672b6b1c                      False   \n",
       "\n",
       "                                            has_interaction_tornado   \n",
       "project                                                               \n",
       "0x91fbd3447077bfd97f5af4d2c033ecbc25788f89                    False  \\\n",
       "0x8d36bbb74973dd04e31dcbce5778b16dd310bd9b                    False   \n",
       "0xf55d40d1e5255a639ab36834f93d44ce8125e047                    False   \n",
       "0xdc71a1bdeabd3c347dc21e9354aff91ad375eb97                    False   \n",
       "0xca72c93172ba6eff168e59e7f17c3c7a8fea9b62                    False   \n",
       "0xc4450c8d1009160883e44f24d66d92436ae4b4c5                    False   \n",
       "0xbec643bd5b7f5e9190617ca4187ef0455950c51c                    False   \n",
       "0xb62e762af637b49eb4870bce8fe21bfff189e495                    False   \n",
       "0xa51e0a99b53d5b00937a2631d5865468a3543b7d                    False   \n",
       "0xa40ba205add80c214ec7a710e790a54d738c4c27                    False   \n",
       "0xa30ab83e693ad49f3f651085dad11d049c818923                    False   \n",
       "0x9dcba70b2dfe5807e2a847e065ebb666791f8b8a                    False   \n",
       "0x9531c059098e3d194ff87febb587ab07b30b1306                    False   \n",
       "0x924f5821f991f366df954536e9a408867f962637                    False   \n",
       "0x298f7f66ba43f0efecf4bc324b0016f822c783a4                    False   \n",
       "0xfc9265a28f66cf4561d74a4e25d7bbd3f482b8e6                    False   \n",
       "0x8cfb71682feb93317d1eb4e0b3ca7fa9044169cf                    False   \n",
       "0x88c379caef7965c49b17c2a18c43af36f213fbd5                    False   \n",
       "0x3fb0d1e89693b8709de60d835452a4712d1c9b04                    False   \n",
       "0x4486907312143049ac5c6280cba9ba4cd5f30511                    False   \n",
       "0x521aacb43d89e1b8ffd64d9ef76b0a1074dedaf8                    False   \n",
       "0x5a5d9ab7b1bd978f80909503ebb828879daca9c3                    False   \n",
       "0x6b5918d8ef9094679f4b4e1bf397a66ea411b118                    False   \n",
       "0x74afec0c8564ddc09e9fac9493c611eeafcca0e7                    False   \n",
       "0x7904667c340601aab73939372c016dc5102732a2                    False   \n",
       "0x850a146d7478daaa98fc26fd85e6a24e50846a9d                    False   \n",
       "0x8615b6ed9468cbb58cfdf45c120b87e15add787f                    False   \n",
       "0x13257e783dc8ded7e227a28edb0428c42d31202e                    False   \n",
       "0x85a363699c6864248a6ffca66e4a1a5ccf9f5567                    False   \n",
       "0xe1887ff140bfa9d3b45d0b2077b7471124acd242                    False   \n",
       "0x745ce2af76e9a6eba65cc0cacaa9ea109bb7fabd                    False   \n",
       "0xc98786d5a7a03c1e74affcb97ff7ef8a710da09b                    False   \n",
       "0xeb0cf83c80e4b4cd82196dac94e2c579672b6b1c                    False   \n",
       "\n",
       "                                            has_interaction_disperse  flagged   \n",
       "project                                                                         \n",
       "0x91fbd3447077bfd97f5af4d2c033ecbc25788f89                     False     True  \\\n",
       "0x8d36bbb74973dd04e31dcbce5778b16dd310bd9b                     False     True   \n",
       "0xf55d40d1e5255a639ab36834f93d44ce8125e047                     False     True   \n",
       "0xdc71a1bdeabd3c347dc21e9354aff91ad375eb97                     False     True   \n",
       "0xca72c93172ba6eff168e59e7f17c3c7a8fea9b62                     False     True   \n",
       "0xc4450c8d1009160883e44f24d66d92436ae4b4c5                     False     True   \n",
       "0xbec643bd5b7f5e9190617ca4187ef0455950c51c                     False     True   \n",
       "0xb62e762af637b49eb4870bce8fe21bfff189e495                     False     True   \n",
       "0xa51e0a99b53d5b00937a2631d5865468a3543b7d                     False     True   \n",
       "0xa40ba205add80c214ec7a710e790a54d738c4c27                     False     True   \n",
       "0xa30ab83e693ad49f3f651085dad11d049c818923                     False     True   \n",
       "0x9dcba70b2dfe5807e2a847e065ebb666791f8b8a                     False     True   \n",
       "0x9531c059098e3d194ff87febb587ab07b30b1306                     False     True   \n",
       "0x924f5821f991f366df954536e9a408867f962637                     False     True   \n",
       "0x298f7f66ba43f0efecf4bc324b0016f822c783a4                     False     True   \n",
       "0xfc9265a28f66cf4561d74a4e25d7bbd3f482b8e6                     False     True   \n",
       "0x8cfb71682feb93317d1eb4e0b3ca7fa9044169cf                     False     True   \n",
       "0x88c379caef7965c49b17c2a18c43af36f213fbd5                     False     True   \n",
       "0x3fb0d1e89693b8709de60d835452a4712d1c9b04                     False     True   \n",
       "0x4486907312143049ac5c6280cba9ba4cd5f30511                     False     True   \n",
       "0x521aacb43d89e1b8ffd64d9ef76b0a1074dedaf8                     False     True   \n",
       "0x5a5d9ab7b1bd978f80909503ebb828879daca9c3                     False     True   \n",
       "0x6b5918d8ef9094679f4b4e1bf397a66ea411b118                     False     True   \n",
       "0x74afec0c8564ddc09e9fac9493c611eeafcca0e7                     False     True   \n",
       "0x7904667c340601aab73939372c016dc5102732a2                     False     True   \n",
       "0x850a146d7478daaa98fc26fd85e6a24e50846a9d                     False     True   \n",
       "0x8615b6ed9468cbb58cfdf45c120b87e15add787f                     False     True   \n",
       "0x13257e783dc8ded7e227a28edb0428c42d31202e                     False     True   \n",
       "0x85a363699c6864248a6ffca66e4a1a5ccf9f5567                     False     True   \n",
       "0xe1887ff140bfa9d3b45d0b2077b7471124acd242                     False     True   \n",
       "0x745ce2af76e9a6eba65cc0cacaa9ea109bb7fabd                     False     True   \n",
       "0xc98786d5a7a03c1e74affcb97ff7ef8a710da09b                     False     True   \n",
       "0xeb0cf83c80e4b4cd82196dac94e2c579672b6b1c                     False     True   \n",
       "\n",
       "                                            stakeridoo_detected   \n",
       "project                                                           \n",
       "0x91fbd3447077bfd97f5af4d2c033ecbc25788f89                False  \\\n",
       "0x8d36bbb74973dd04e31dcbce5778b16dd310bd9b                False   \n",
       "0xf55d40d1e5255a639ab36834f93d44ce8125e047                False   \n",
       "0xdc71a1bdeabd3c347dc21e9354aff91ad375eb97                False   \n",
       "0xca72c93172ba6eff168e59e7f17c3c7a8fea9b62                False   \n",
       "0xc4450c8d1009160883e44f24d66d92436ae4b4c5                False   \n",
       "0xbec643bd5b7f5e9190617ca4187ef0455950c51c                False   \n",
       "0xb62e762af637b49eb4870bce8fe21bfff189e495                False   \n",
       "0xa51e0a99b53d5b00937a2631d5865468a3543b7d                False   \n",
       "0xa40ba205add80c214ec7a710e790a54d738c4c27                False   \n",
       "0xa30ab83e693ad49f3f651085dad11d049c818923                False   \n",
       "0x9dcba70b2dfe5807e2a847e065ebb666791f8b8a                False   \n",
       "0x9531c059098e3d194ff87febb587ab07b30b1306                False   \n",
       "0x924f5821f991f366df954536e9a408867f962637                False   \n",
       "0x298f7f66ba43f0efecf4bc324b0016f822c783a4                False   \n",
       "0xfc9265a28f66cf4561d74a4e25d7bbd3f482b8e6                False   \n",
       "0x8cfb71682feb93317d1eb4e0b3ca7fa9044169cf                False   \n",
       "0x88c379caef7965c49b17c2a18c43af36f213fbd5                False   \n",
       "0x3fb0d1e89693b8709de60d835452a4712d1c9b04                False   \n",
       "0x4486907312143049ac5c6280cba9ba4cd5f30511                False   \n",
       "0x521aacb43d89e1b8ffd64d9ef76b0a1074dedaf8                False   \n",
       "0x5a5d9ab7b1bd978f80909503ebb828879daca9c3                False   \n",
       "0x6b5918d8ef9094679f4b4e1bf397a66ea411b118                False   \n",
       "0x74afec0c8564ddc09e9fac9493c611eeafcca0e7                False   \n",
       "0x7904667c340601aab73939372c016dc5102732a2                False   \n",
       "0x850a146d7478daaa98fc26fd85e6a24e50846a9d                False   \n",
       "0x8615b6ed9468cbb58cfdf45c120b87e15add787f                False   \n",
       "0x13257e783dc8ded7e227a28edb0428c42d31202e                False   \n",
       "0x85a363699c6864248a6ffca66e4a1a5ccf9f5567                False   \n",
       "0xe1887ff140bfa9d3b45d0b2077b7471124acd242                False   \n",
       "0x745ce2af76e9a6eba65cc0cacaa9ea109bb7fabd                False   \n",
       "0xc98786d5a7a03c1e74affcb97ff7ef8a710da09b                False   \n",
       "0xeb0cf83c80e4b4cd82196dac94e2c579672b6b1c                False   \n",
       "\n",
       "                                            doge_detected  odc_detected  \n",
       "project                                                                  \n",
       "0x91fbd3447077bfd97f5af4d2c033ecbc25788f89          False          True  \n",
       "0x8d36bbb74973dd04e31dcbce5778b16dd310bd9b          False          True  \n",
       "0xf55d40d1e5255a639ab36834f93d44ce8125e047          False          True  \n",
       "0xdc71a1bdeabd3c347dc21e9354aff91ad375eb97          False          True  \n",
       "0xca72c93172ba6eff168e59e7f17c3c7a8fea9b62          False          True  \n",
       "0xc4450c8d1009160883e44f24d66d92436ae4b4c5          False          True  \n",
       "0xbec643bd5b7f5e9190617ca4187ef0455950c51c          False          True  \n",
       "0xb62e762af637b49eb4870bce8fe21bfff189e495          False          True  \n",
       "0xa51e0a99b53d5b00937a2631d5865468a3543b7d          False          True  \n",
       "0xa40ba205add80c214ec7a710e790a54d738c4c27          False          True  \n",
       "0xa30ab83e693ad49f3f651085dad11d049c818923          False          True  \n",
       "0x9dcba70b2dfe5807e2a847e065ebb666791f8b8a          False          True  \n",
       "0x9531c059098e3d194ff87febb587ab07b30b1306          False          True  \n",
       "0x924f5821f991f366df954536e9a408867f962637          False          True  \n",
       "0x298f7f66ba43f0efecf4bc324b0016f822c783a4          False          True  \n",
       "0xfc9265a28f66cf4561d74a4e25d7bbd3f482b8e6          False          True  \n",
       "0x8cfb71682feb93317d1eb4e0b3ca7fa9044169cf          False          True  \n",
       "0x88c379caef7965c49b17c2a18c43af36f213fbd5          False          True  \n",
       "0x3fb0d1e89693b8709de60d835452a4712d1c9b04          False          True  \n",
       "0x4486907312143049ac5c6280cba9ba4cd5f30511          False          True  \n",
       "0x521aacb43d89e1b8ffd64d9ef76b0a1074dedaf8          False          True  \n",
       "0x5a5d9ab7b1bd978f80909503ebb828879daca9c3          False          True  \n",
       "0x6b5918d8ef9094679f4b4e1bf397a66ea411b118          False          True  \n",
       "0x74afec0c8564ddc09e9fac9493c611eeafcca0e7          False          True  \n",
       "0x7904667c340601aab73939372c016dc5102732a2          False          True  \n",
       "0x850a146d7478daaa98fc26fd85e6a24e50846a9d          False          True  \n",
       "0x8615b6ed9468cbb58cfdf45c120b87e15add787f          False          True  \n",
       "0x13257e783dc8ded7e227a28edb0428c42d31202e          False          True  \n",
       "0x85a363699c6864248a6ffca66e4a1a5ccf9f5567          False          True  \n",
       "0xe1887ff140bfa9d3b45d0b2077b7471124acd242          False          True  \n",
       "0x745ce2af76e9a6eba65cc0cacaa9ea109bb7fabd          False          True  \n",
       "0xc98786d5a7a03c1e74affcb97ff7ef8a710da09b          False          True  \n",
       "0xeb0cf83c80e4b4cd82196dac94e2c579672b6b1c          False          True  \n",
       "\n",
       "[33 rows x 33 columns]"
      ]
     },
     "execution_count": 222,
     "metadata": {},
     "output_type": "execute_result"
    }
   ],
   "source": [
    "df_merge[df_merge['has_lcs'] == True].groupby('project').first().sort_values(by='voter', ascending=False)"
   ]
  },
  {
   "cell_type": "code",
   "execution_count": 207,
   "metadata": {},
   "outputs": [
    {
     "data": {
      "text/plain": [
       "array(['0x310e17aac11fc520fe1cca063d33eb31a59d0034',\n",
       "       '0x8270a0febba70899419e76a98bf2b5dc15fe2ff4',\n",
       "       '0x0b32165db4d078ced10e75cc069b92ce2a049827', ...,\n",
       "       '0x33f3e6a6800a4cdad0def04f943b4c1a296df8b9',\n",
       "       '0x2ca482f7de7075b5800c813741951b7a196b247e',\n",
       "       '0x202dd5ed1fd4158d013bf38daea7f8e6d9df24a7'], dtype=object)"
      ]
     },
     "execution_count": 207,
     "metadata": {},
     "output_type": "execute_result"
    }
   ],
   "source": [
    "df_merge[df_merge['has_lcs'] == True].sort_values(\"max_score_lcs\").voter.unique()"
   ]
  },
  {
   "cell_type": "code",
   "execution_count": 224,
   "metadata": {},
   "outputs": [
    {
     "data": {
      "text/plain": [
       "(1082, 25)"
      ]
     },
     "execution_count": 224,
     "metadata": {},
     "output_type": "execute_result"
    }
   ],
   "source": [
    "df_matching_address_lcs = df_matching_address[df_matching_address['has_lcs']]\n",
    "df_matching_address_lcs.shape"
   ]
  },
  {
   "cell_type": "code",
   "execution_count": 234,
   "metadata": {},
   "outputs": [
    {
     "data": {
      "text/plain": [
       "array([0], dtype=int64)"
      ]
     },
     "execution_count": 234,
     "metadata": {},
     "output_type": "execute_result"
    }
   ],
   "source": [
    "df_matching_address_lcs['lcs'].unique()"
   ]
  },
  {
   "cell_type": "code",
   "execution_count": 243,
   "metadata": {},
   "outputs": [],
   "source": [
    "c1 = r.reset_index().address[0].index.values"
   ]
  },
  {
   "cell_type": "code",
   "execution_count": 244,
   "metadata": {},
   "outputs": [],
   "source": [
    "df_tx_lcs = df_tx[df_tx['EOA'].isin(c1)]"
   ]
  },
  {
   "cell_type": "code",
   "execution_count": 245,
   "metadata": {},
   "outputs": [],
   "source": [
    "# create network graph\n",
    "import networkx as nx\n",
    "G = nx.from_pandas_edgelist(df_tx_lcs, source='from_address', target='to_address', edge_attr=True, create_using=nx.DiGraph())\n"
   ]
  },
  {
   "cell_type": "code",
   "execution_count": 275,
   "metadata": {},
   "outputs": [
    {
     "data": {
      "image/png": "[encoded data removed]",
      "text/plain": [
       "<Figure size 640x480 with 1 Axes>"
      ]
     },
     "metadata": {},
     "output_type": "display_data"
    }
   ],
   "source": [
    "from matplotlib import pyplot as plt\n",
    "# Create a dictionary to store the node labels\n",
    "labels = {}\n",
    "colors = []\n",
    "# Set the node labels to display only the first 4 characters\n",
    "for node in G.nodes():\n",
    "    labels[node] = node[:4]\n",
    "    if node in df_votes['voter'].unique():\n",
    "        colors.append('red')\n",
    "    elif node == \"0x984e29dcb4286c2d9cbaa2c238afdd8a191eefbc\":\n",
    "        colors.append('green')\n",
    "    else:\n",
    "        colors.append('blue')\n",
    "\n",
    "# Plot the graph\n",
    "pos = nx.spring_layout(G)\n",
    "nx.draw_networkx(G, pos=pos, labels=labels, with_labels=True)\n",
    "plt.show()"
   ]
  },
  {
   "cell_type": "code",
   "execution_count": 276,
   "metadata": {},
   "outputs": [
    {
     "data": {
      "application/vnd.plotly.v1+json": {
       "config": {
        "plotlyServerURL": "https://plot.ly"
       },
       "data": [
        {
         "hoverinfo": "none",
         "line": {
          "width": 1
         },
         "mode": "lines",
         "type": "scatter",
         "x": [
          0.04476182917266921,
          0.6926848322183445
         ],
         "y": [
          0.02950428967314848,
          -0.36703736494989636
         ]
        },
        {
         "hoverinfo": "none",
         "line": {
          "width": 1
         },
         "mode": "lines",
         "type": "scatter",
         "x": [
          0.04476182917266921,
          -0.6478839691019497
         ],
         "y": [
          0.02950428967314848,
          0.4279953687126086
         ]
        },
        {
         "hoverinfo": "none",
         "line": {
          "width": 1
         },
         "mode": "lines",
         "type": "scatter",
         "x": [
          -0.005691754434137787,
          0.04476182917266921
         ],
         "y": [
          -0.024349130651307213,
          0.02950428967314848
         ]
        },
        {
         "hoverinfo": "none",
         "line": {
          "width": 1
         },
         "mode": "lines",
         "type": "scatter",
         "x": [
          -0.005691754434137787,
          0.01389504769495296
         ],
         "y": [
          -0.024349130651307213,
          0.05178315450305561
         ]
        },
        {
         "hoverinfo": "none",
         "line": {
          "width": 1
         },
         "mode": "lines",
         "type": "scatter",
         "x": [
          -0.005691754434137787,
          0.02221628739516226
         ],
         "y": [
          -0.024349130651307213,
          0.006134939210014225
         ]
        },
        {
         "hoverinfo": "none",
         "line": {
          "width": 1
         },
         "mode": "lines",
         "type": "scatter",
         "x": [
          -0.005691754434137787,
          -0.08020318779825082
         ],
         "y": [
          -0.024349130651307213,
          -0.10568104912624113
         ]
        },
        {
         "hoverinfo": "none",
         "line": {
          "width": 1
         },
         "mode": "lines",
         "type": "scatter",
         "x": [
          -0.005691754434137787,
          0.012082385297571366
         ],
         "y": [
          -0.024349130651307213,
          0.003066904194459957
         ]
        },
        {
         "hoverinfo": "none",
         "line": {
          "width": 1
         },
         "mode": "lines",
         "type": "scatter",
         "x": [
          -0.005691754434137787,
          0.0020965928624228527
         ],
         "y": [
          -0.024349130651307213,
          -0.0029204066289426965
         ]
        },
        {
         "hoverinfo": "none",
         "line": {
          "width": 1
         },
         "mode": "lines",
         "type": "scatter",
         "x": [
          -0.005691754434137787,
          0.03987495558809135
         ],
         "y": [
          -0.024349130651307213,
          0.04516638255106692
         ]
        },
        {
         "hoverinfo": "none",
         "line": {
          "width": 1
         },
         "mode": "lines",
         "type": "scatter",
         "x": [
          -0.005691754434137787,
          0.028402277732087734
         ],
         "y": [
          -0.024349130651307213,
          0.055852141597739415
         ]
        },
        {
         "hoverinfo": "none",
         "line": {
          "width": 1
         },
         "mode": "lines",
         "type": "scatter",
         "x": [
          -0.005691754434137787,
          0.008968341723952021
         ],
         "y": [
          -0.024349130651307213,
          0.04579606501495033
         ]
        },
        {
         "hoverinfo": "none",
         "line": {
          "width": 1
         },
         "mode": "lines",
         "type": "scatter",
         "x": [
          -0.005691754434137787,
          0.004041957431652822
         ],
         "y": [
          -0.024349130651307213,
          0.03855729684977317
         ]
        },
        {
         "hoverinfo": "none",
         "line": {
          "width": 1
         },
         "mode": "lines",
         "type": "scatter",
         "x": [
          -0.005691754434137787,
          0.007260600980676227
         ],
         "y": [
          -0.024349130651307213,
          -0.007201480590930581
         ]
        },
        {
         "hoverinfo": "none",
         "line": {
          "width": 1
         },
         "mode": "lines",
         "type": "scatter",
         "x": [
          -0.005691754434137787,
          -0.04092430491095822
         ],
         "y": [
          -0.024349130651307213,
          -0.3554921717242343
         ]
        },
        {
         "hoverinfo": "none",
         "line": {
          "width": 1
         },
         "mode": "lines",
         "type": "scatter",
         "x": [
          -0.005691754434137787,
          0.03455009593719792
         ],
         "y": [
          -0.024349130651307213,
          0.058692455404054704
         ]
        },
        {
         "hoverinfo": "none",
         "line": {
          "width": 1
         },
         "mode": "lines",
         "type": "scatter",
         "x": [
          -0.005691754434137787,
          0.01015466487519587
         ],
         "y": [
          -0.024349130651307213,
          0.0234123900894244
         ]
        },
        {
         "hoverinfo": "none",
         "line": {
          "width": 1
         },
         "mode": "lines",
         "type": "scatter",
         "x": [
          -0.005691754434137787,
          0.042578286354046264
         ],
         "y": [
          -0.024349130651307213,
          0.061680120202909396
         ]
        },
        {
         "hoverinfo": "none",
         "line": {
          "width": 1
         },
         "mode": "lines",
         "type": "scatter",
         "x": [
          -0.005691754434137787,
          0.017512871408382542
         ],
         "y": [
          -0.024349130651307213,
          0.0437729480358529
         ]
        },
        {
         "hoverinfo": "none",
         "line": {
          "width": 1
         },
         "mode": "lines",
         "type": "scatter",
         "x": [
          -0.005691754434137787,
          0.04929901176143618
         ],
         "y": [
          -0.024349130651307213,
          0.04523244209072498
         ]
        },
        {
         "hoverinfo": "none",
         "line": {
          "width": 1
         },
         "mode": "lines",
         "type": "scatter",
         "x": [
          -0.005691754434137787,
          0.04592765960296895
         ],
         "y": [
          -0.024349130651307213,
          0.037494579829089957
         ]
        },
        {
         "hoverinfo": "none",
         "line": {
          "width": 1
         },
         "mode": "lines",
         "type": "scatter",
         "x": [
          -0.005691754434137787,
          0.03249863268718136
         ],
         "y": [
          -0.024349130651307213,
          0.01393997625678733
         ]
        },
        {
         "hoverinfo": "none",
         "line": {
          "width": 1
         },
         "mode": "lines",
         "type": "scatter",
         "x": [
          -0.005691754434137787,
          0.01076968362935033
         ],
         "y": [
          -0.024349130651307213,
          0.03141868719902152
         ]
        },
        {
         "hoverinfo": "none",
         "line": {
          "width": 1
         },
         "mode": "lines",
         "type": "scatter",
         "x": [
          -0.005691754434137787,
          0.029584947004381988
         ],
         "y": [
          -0.024349130651307213,
          0.023048337801003533
         ]
        },
        {
         "hoverinfo": "none",
         "line": {
          "width": 1
         },
         "mode": "lines",
         "type": "scatter",
         "x": [
          -0.005691754434137787,
          0.04644704099805812
         ],
         "y": [
          -0.024349130651307213,
          0.06674786696521524
         ]
        },
        {
         "hoverinfo": "none",
         "line": {
          "width": 1
         },
         "mode": "lines",
         "type": "scatter",
         "x": [
          -0.005691754434137787,
          0.01740048916903949
         ],
         "y": [
          -0.024349130651307213,
          0.026157067607978153
         ]
        },
        {
         "hoverinfo": "none",
         "line": {
          "width": 1
         },
         "mode": "lines",
         "type": "scatter",
         "x": [
          -0.005691754434137787,
          0.030488039281119716
         ],
         "y": [
          -0.024349130651307213,
          0.006002716133752574
         ]
        },
        {
         "hoverinfo": "none",
         "line": {
          "width": 1
         },
         "mode": "lines",
         "type": "scatter",
         "x": [
          -0.005691754434137787,
          0.029705347482336386
         ],
         "y": [
          -0.024349130651307213,
          0.035592684880190545
         ]
        },
        {
         "hoverinfo": "none",
         "line": {
          "width": 1
         },
         "mode": "lines",
         "type": "scatter",
         "x": [
          -0.005691754434137787,
          0.05020297218144633
         ],
         "y": [
          -0.024349130651307213,
          0.057836250260850375
         ]
        },
        {
         "hoverinfo": "none",
         "line": {
          "width": 1
         },
         "mode": "lines",
         "type": "scatter",
         "x": [
          -0.005691754434137787,
          0.02559602609813507
         ],
         "y": [
          -0.024349130651307213,
          0.027525715508069953
         ]
        },
        {
         "hoverinfo": "none",
         "line": {
          "width": 1
         },
         "mode": "lines",
         "type": "scatter",
         "x": [
          -0.005691754434137787,
          0.032378165670751885
         ],
         "y": [
          -0.024349130651307213,
          0.04694363620513246
         ]
        },
        {
         "hoverinfo": "none",
         "line": {
          "width": 1
         },
         "mode": "lines",
         "type": "scatter",
         "x": [
          -0.005691754434137787,
          0.010900943038873519
         ],
         "y": [
          -0.024349130651307213,
          0.011037419975597559
         ]
        },
        {
         "hoverinfo": "none",
         "line": {
          "width": 1
         },
         "mode": "lines",
         "type": "scatter",
         "x": [
          -0.005691754434137787,
          0.020431591339236038
         ],
         "y": [
          -0.024349130651307213,
          -0.00021273799814785512
         ]
        },
        {
         "hoverinfo": "none",
         "line": {
          "width": 1
         },
         "mode": "lines",
         "type": "scatter",
         "x": [
          -0.005691754434137787,
          0.024771418362829232
         ],
         "y": [
          -0.024349130651307213,
          0.048385232560873424
         ]
        },
        {
         "hoverinfo": "none",
         "line": {
          "width": 1
         },
         "mode": "lines",
         "type": "scatter",
         "x": [
          -0.005691754434137787,
          0.038709434575576934
         ],
         "y": [
          -0.024349130651307213,
          0.06845148334374382
         ]
        },
        {
         "hoverinfo": "none",
         "line": {
          "width": 1
         },
         "mode": "lines",
         "type": "scatter",
         "x": [
          -0.005691754434137787,
          0.01833745773680972
         ],
         "y": [
          -0.024349130651307213,
          0.019552618730793926
         ]
        },
        {
         "hoverinfo": "none",
         "line": {
          "width": 1
         },
         "mode": "lines",
         "type": "scatter",
         "x": [
          -0.005691754434137787,
          0.0028289772998398985
         ],
         "y": [
          -0.024349130651307213,
          0.02047587469487022
         ]
        },
        {
         "hoverinfo": "none",
         "line": {
          "width": 1
         },
         "mode": "lines",
         "type": "scatter",
         "x": [
          -0.005691754434137787,
          0.03893374804482046
         ],
         "y": [
          -0.024349130651307213,
          0.02439754275975477
         ]
        },
        {
         "hoverinfo": "none",
         "line": {
          "width": 1
         },
         "mode": "lines",
         "type": "scatter",
         "x": [
          -0.005691754434137787,
          0.039051428557774874
         ],
         "y": [
          -0.024349130651307213,
          0.052813451010017304
         ]
        },
        {
         "hoverinfo": "none",
         "line": {
          "width": 1
         },
         "mode": "lines",
         "type": "scatter",
         "x": [
          -0.005691754434137787,
          0.004583480977937421
         ],
         "y": [
          -0.024349130651307213,
          0.005271752334718368
         ]
        },
        {
         "hoverinfo": "none",
         "line": {
          "width": 1
         },
         "mode": "lines",
         "type": "scatter",
         "x": [
          -0.005691754434137787,
          -0.2503683540523814
         ],
         "y": [
          -0.024349130651307213,
          -0.2222589098762178
         ]
        },
        {
         "hoverinfo": "none",
         "line": {
          "width": 1
         },
         "mode": "lines",
         "type": "scatter",
         "x": [
          -0.005691754434137787,
          0.011714774196604699
         ],
         "y": [
          -0.024349130651307213,
          0.038121471391594504
         ]
        },
        {
         "hoverinfo": "none",
         "line": {
          "width": 1
         },
         "mode": "lines",
         "type": "scatter",
         "x": [
          -0.005691754434137787,
          0.03825944616421079
         ],
         "y": [
          -0.024349130651307213,
          0.018029830955898114
         ]
        },
        {
         "hoverinfo": "none",
         "line": {
          "width": 1
         },
         "mode": "lines",
         "type": "scatter",
         "x": [
          -0.005691754434137787,
          0.024651504063586165
         ],
         "y": [
          -0.024349130651307213,
          0.04136169890802197
         ]
        },
        {
         "hoverinfo": "none",
         "line": {
          "width": 1
         },
         "mode": "lines",
         "type": "scatter",
         "x": [
          -0.005691754434137787,
          0.02563254992878366
         ],
         "y": [
          -0.024349130651307213,
          0.015347747884216915
         ]
        },
        {
         "hoverinfo": "none",
         "line": {
          "width": 1
         },
         "mode": "lines",
         "type": "scatter",
         "x": [
          -0.005691754434137787,
          0.03664029821679861
         ],
         "y": [
          -0.024349130651307213,
          0.03164423318917684
         ]
        },
        {
         "hoverinfo": "none",
         "line": {
          "width": 1
         },
         "mode": "lines",
         "type": "scatter",
         "x": [
          -0.005691754434137787,
          0.014432424653725311
         ],
         "y": [
          -0.024349130651307213,
          -0.0039582292055626795
         ]
        },
        {
         "hoverinfo": "none",
         "line": {
          "width": 1
         },
         "mode": "lines",
         "type": "scatter",
         "x": [
          -0.005691754434137787,
          -0.00219843053567417
         ],
         "y": [
          -0.024349130651307213,
          0.02516106643063922
         ]
        },
        {
         "hoverinfo": "none",
         "line": {
          "width": 1
         },
         "mode": "lines",
         "type": "scatter",
         "x": [
          -0.005691754434137787,
          0.047456190630730026
         ],
         "y": [
          -0.024349130651307213,
          0.05144407135624629
         ]
        },
        {
         "hoverinfo": "none",
         "line": {
          "width": 1
         },
         "mode": "lines",
         "type": "scatter",
         "x": [
          -0.005691754434137787,
          -0.0035493542643521194
         ],
         "y": [
          -0.024349130651307213,
          0.015368552068566825
         ]
        },
        {
         "hoverinfo": "none",
         "line": {
          "width": 1
         },
         "mode": "lines",
         "type": "scatter",
         "x": [
          -0.005691754434137787,
          0.02348282007939637
         ],
         "y": [
          -0.024349130651307213,
          0.061742108163413086
         ]
        },
        {
         "hoverinfo": "none",
         "line": {
          "width": 1
         },
         "mode": "lines",
         "type": "scatter",
         "x": [
          -0.005691754434137787,
          0.03063363078012347
         ],
         "y": [
          -0.024349130651307213,
          0.06657709498691727
         ]
        },
        {
         "hoverinfo": "none",
         "line": {
          "width": 1
         },
         "mode": "lines",
         "type": "scatter",
         "x": [
          -0.005691754434137787,
          0.01775554083509517
         ],
         "y": [
          -0.024349130651307213,
          0.011951335218635105
         ]
        },
        {
         "hoverinfo": "none",
         "line": {
          "width": 1
         },
         "mode": "lines",
         "type": "scatter",
         "x": [
          -0.005691754434137787,
          0.007115369403204182
         ],
         "y": [
          -0.024349130651307213,
          0.01528365100110669
         ]
        },
        {
         "hoverinfo": "none",
         "line": {
          "width": 1
         },
         "mode": "lines",
         "type": "scatter",
         "x": [
          -0.005691754434137787,
          0.019654886127487073
         ],
         "y": [
          -0.024349130651307213,
          0.055469744831511
         ]
        },
        {
         "hoverinfo": "none",
         "line": {
          "width": 1
         },
         "mode": "lines",
         "type": "scatter",
         "x": [
          -0.005691754434137787,
          0.037050869815672495
         ],
         "y": [
          -0.024349130651307213,
          0.03947275042530325
         ]
        },
        {
         "hoverinfo": "none",
         "line": {
          "width": 1
         },
         "mode": "lines",
         "type": "scatter",
         "x": [
          -0.005691754434137787,
          0.0211238963163348
         ],
         "y": [
          -0.024349130651307213,
          0.03484116670242668
         ]
        },
        {
         "hoverinfo": "none",
         "line": {
          "width": 1
         },
         "mode": "lines",
         "type": "scatter",
         "x": [
          -0.005691754434137787,
          0.002037260067292594
         ],
         "y": [
          -0.024349130651307213,
          0.03066265717680217
         ]
        },
        {
         "hoverinfo": "none",
         "line": {
          "width": 1
         },
         "mode": "lines",
         "type": "scatter",
         "x": [
          -0.005691754434137787,
          -0.0024759207880824703
         ],
         "y": [
          -0.024349130651307213,
          0.008647288496831747
         ]
        },
        {
         "hoverinfo": "none",
         "line": {
          "width": 1
         },
         "mode": "lines",
         "type": "scatter",
         "x": [
          -0.005691754434137787,
          -0.00410262949162648
         ],
         "y": [
          -0.024349130651307213,
          0.0007790829345439655
         ]
        },
        {
         "hoverinfo": "none",
         "line": {
          "width": 1
         },
         "mode": "lines",
         "type": "scatter",
         "x": [
          0.01389504769495296,
          0.6926848322183445
         ],
         "y": [
          0.05178315450305561,
          -0.36703736494989636
         ]
        },
        {
         "hoverinfo": "none",
         "line": {
          "width": 1
         },
         "mode": "lines",
         "type": "scatter",
         "x": [
          0.01389504769495296,
          -0.6478839691019497
         ],
         "y": [
          0.05178315450305561,
          0.4279953687126086
         ]
        },
        {
         "hoverinfo": "none",
         "line": {
          "width": 1
         },
         "mode": "lines",
         "type": "scatter",
         "x": [
          0.02221628739516226,
          0.6926848322183445
         ],
         "y": [
          0.006134939210014225,
          -0.36703736494989636
         ]
        },
        {
         "hoverinfo": "none",
         "line": {
          "width": 1
         },
         "mode": "lines",
         "type": "scatter",
         "x": [
          0.02221628739516226,
          -0.6478839691019497
         ],
         "y": [
          0.006134939210014225,
          0.4279953687126086
         ]
        },
        {
         "hoverinfo": "none",
         "line": {
          "width": 1
         },
         "mode": "lines",
         "type": "scatter",
         "x": [
          -0.08020318779825082,
          -0.009724259623835038
         ],
         "y": [
          -0.10568104912624113,
          0.6899333506802169
         ]
        },
        {
         "hoverinfo": "none",
         "line": {
          "width": 1
         },
         "mode": "lines",
         "type": "scatter",
         "x": [
          -0.08020318779825082,
          -0.6478839691019497
         ],
         "y": [
          -0.10568104912624113,
          0.4279953687126086
         ]
        },
        {
         "hoverinfo": "none",
         "line": {
          "width": 1
         },
         "mode": "lines",
         "type": "scatter",
         "x": [
          -0.08020318779825082,
          0.6926848322183445
         ],
         "y": [
          -0.10568104912624113,
          -0.36703736494989636
         ]
        },
        {
         "hoverinfo": "none",
         "line": {
          "width": 1
         },
         "mode": "lines",
         "type": "scatter",
         "x": [
          -0.08020318779825082,
          -0.3322969643732677
         ],
         "y": [
          -0.10568104912624113,
          -1
         ]
        },
        {
         "hoverinfo": "none",
         "line": {
          "width": 1
         },
         "mode": "lines",
         "type": "scatter",
         "x": [
          0.012082385297571366,
          0.6926848322183445
         ],
         "y": [
          0.003066904194459957,
          -0.36703736494989636
         ]
        },
        {
         "hoverinfo": "none",
         "line": {
          "width": 1
         },
         "mode": "lines",
         "type": "scatter",
         "x": [
          0.012082385297571366,
          -0.6478839691019497
         ],
         "y": [
          0.003066904194459957,
          0.4279953687126086
         ]
        },
        {
         "hoverinfo": "none",
         "line": {
          "width": 1
         },
         "mode": "lines",
         "type": "scatter",
         "x": [
          0.0020965928624228527,
          0.6926848322183445
         ],
         "y": [
          -0.0029204066289426965,
          -0.36703736494989636
         ]
        },
        {
         "hoverinfo": "none",
         "line": {
          "width": 1
         },
         "mode": "lines",
         "type": "scatter",
         "x": [
          0.0020965928624228527,
          -0.6478839691019497
         ],
         "y": [
          -0.0029204066289426965,
          0.4279953687126086
         ]
        },
        {
         "hoverinfo": "none",
         "line": {
          "width": 1
         },
         "mode": "lines",
         "type": "scatter",
         "x": [
          0.03987495558809135,
          0.6926848322183445
         ],
         "y": [
          0.04516638255106692,
          -0.36703736494989636
         ]
        },
        {
         "hoverinfo": "none",
         "line": {
          "width": 1
         },
         "mode": "lines",
         "type": "scatter",
         "x": [
          0.03987495558809135,
          -0.6478839691019497
         ],
         "y": [
          0.04516638255106692,
          0.4279953687126086
         ]
        },
        {
         "hoverinfo": "none",
         "line": {
          "width": 1
         },
         "mode": "lines",
         "type": "scatter",
         "x": [
          0.028402277732087734,
          0.6926848322183445
         ],
         "y": [
          0.055852141597739415,
          -0.36703736494989636
         ]
        },
        {
         "hoverinfo": "none",
         "line": {
          "width": 1
         },
         "mode": "lines",
         "type": "scatter",
         "x": [
          0.028402277732087734,
          -0.6478839691019497
         ],
         "y": [
          0.055852141597739415,
          0.4279953687126086
         ]
        },
        {
         "hoverinfo": "none",
         "line": {
          "width": 1
         },
         "mode": "lines",
         "type": "scatter",
         "x": [
          0.008968341723952021,
          0.6926848322183445
         ],
         "y": [
          0.04579606501495033,
          -0.36703736494989636
         ]
        },
        {
         "hoverinfo": "none",
         "line": {
          "width": 1
         },
         "mode": "lines",
         "type": "scatter",
         "x": [
          0.008968341723952021,
          -0.6478839691019497
         ],
         "y": [
          0.04579606501495033,
          0.4279953687126086
         ]
        },
        {
         "hoverinfo": "none",
         "line": {
          "width": 1
         },
         "mode": "lines",
         "type": "scatter",
         "x": [
          0.004041957431652822,
          -0.6478839691019497
         ],
         "y": [
          0.03855729684977317,
          0.4279953687126086
         ]
        },
        {
         "hoverinfo": "none",
         "line": {
          "width": 1
         },
         "mode": "lines",
         "type": "scatter",
         "x": [
          0.004041957431652822,
          0.6926848322183445
         ],
         "y": [
          0.03855729684977317,
          -0.36703736494989636
         ]
        },
        {
         "hoverinfo": "none",
         "line": {
          "width": 1
         },
         "mode": "lines",
         "type": "scatter",
         "x": [
          0.007260600980676227,
          0.6926848322183445
         ],
         "y": [
          -0.007201480590930581,
          -0.36703736494989636
         ]
        },
        {
         "hoverinfo": "none",
         "line": {
          "width": 1
         },
         "mode": "lines",
         "type": "scatter",
         "x": [
          0.007260600980676227,
          -0.6478839691019497
         ],
         "y": [
          -0.007201480590930581,
          0.4279953687126086
         ]
        },
        {
         "hoverinfo": "none",
         "line": {
          "width": 1
         },
         "mode": "lines",
         "type": "scatter",
         "x": [
          -0.04092430491095822,
          0.6926848322183445
         ],
         "y": [
          -0.3554921717242343,
          -0.36703736494989636
         ]
        },
        {
         "hoverinfo": "none",
         "line": {
          "width": 1
         },
         "mode": "lines",
         "type": "scatter",
         "x": [
          -0.04092430491095822,
          0.38249272998650324
         ],
         "y": [
          -0.3554921717242343,
          -0.8353081553497304
         ]
        },
        {
         "hoverinfo": "none",
         "line": {
          "width": 1
         },
         "mode": "lines",
         "type": "scatter",
         "x": [
          -0.04092430491095822,
          -0.3322969643732677
         ],
         "y": [
          -0.3554921717242343,
          -1
         ]
        },
        {
         "hoverinfo": "none",
         "line": {
          "width": 1
         },
         "mode": "lines",
         "type": "scatter",
         "x": [
          -0.04092430491095822,
          -0.6478839691019497
         ],
         "y": [
          -0.3554921717242343,
          0.4279953687126086
         ]
        },
        {
         "hoverinfo": "none",
         "line": {
          "width": 1
         },
         "mode": "lines",
         "type": "scatter",
         "x": [
          0.03455009593719792,
          0.6926848322183445
         ],
         "y": [
          0.058692455404054704,
          -0.36703736494989636
         ]
        },
        {
         "hoverinfo": "none",
         "line": {
          "width": 1
         },
         "mode": "lines",
         "type": "scatter",
         "x": [
          0.03455009593719792,
          -0.6478839691019497
         ],
         "y": [
          0.058692455404054704,
          0.4279953687126086
         ]
        },
        {
         "hoverinfo": "none",
         "line": {
          "width": 1
         },
         "mode": "lines",
         "type": "scatter",
         "x": [
          0.01015466487519587,
          0.6926848322183445
         ],
         "y": [
          0.0234123900894244,
          -0.36703736494989636
         ]
        },
        {
         "hoverinfo": "none",
         "line": {
          "width": 1
         },
         "mode": "lines",
         "type": "scatter",
         "x": [
          0.01015466487519587,
          -0.6478839691019497
         ],
         "y": [
          0.0234123900894244,
          0.4279953687126086
         ]
        },
        {
         "hoverinfo": "none",
         "line": {
          "width": 1
         },
         "mode": "lines",
         "type": "scatter",
         "x": [
          0.042578286354046264,
          0.6926848322183445
         ],
         "y": [
          0.061680120202909396,
          -0.36703736494989636
         ]
        },
        {
         "hoverinfo": "none",
         "line": {
          "width": 1
         },
         "mode": "lines",
         "type": "scatter",
         "x": [
          0.042578286354046264,
          -0.6478839691019497
         ],
         "y": [
          0.061680120202909396,
          0.4279953687126086
         ]
        },
        {
         "hoverinfo": "none",
         "line": {
          "width": 1
         },
         "mode": "lines",
         "type": "scatter",
         "x": [
          0.017512871408382542,
          0.6926848322183445
         ],
         "y": [
          0.0437729480358529,
          -0.36703736494989636
         ]
        },
        {
         "hoverinfo": "none",
         "line": {
          "width": 1
         },
         "mode": "lines",
         "type": "scatter",
         "x": [
          0.017512871408382542,
          -0.6478839691019497
         ],
         "y": [
          0.0437729480358529,
          0.4279953687126086
         ]
        },
        {
         "hoverinfo": "none",
         "line": {
          "width": 1
         },
         "mode": "lines",
         "type": "scatter",
         "x": [
          0.04929901176143618,
          0.6926848322183445
         ],
         "y": [
          0.04523244209072498,
          -0.36703736494989636
         ]
        },
        {
         "hoverinfo": "none",
         "line": {
          "width": 1
         },
         "mode": "lines",
         "type": "scatter",
         "x": [
          0.04929901176143618,
          -0.6478839691019497
         ],
         "y": [
          0.04523244209072498,
          0.4279953687126086
         ]
        },
        {
         "hoverinfo": "none",
         "line": {
          "width": 1
         },
         "mode": "lines",
         "type": "scatter",
         "x": [
          0.04592765960296895,
          0.6926848322183445
         ],
         "y": [
          0.037494579829089957,
          -0.36703736494989636
         ]
        },
        {
         "hoverinfo": "none",
         "line": {
          "width": 1
         },
         "mode": "lines",
         "type": "scatter",
         "x": [
          0.04592765960296895,
          -0.6478839691019497
         ],
         "y": [
          0.037494579829089957,
          0.4279953687126086
         ]
        },
        {
         "hoverinfo": "none",
         "line": {
          "width": 1
         },
         "mode": "lines",
         "type": "scatter",
         "x": [
          0.03249863268718136,
          0.6926848322183445
         ],
         "y": [
          0.01393997625678733,
          -0.36703736494989636
         ]
        },
        {
         "hoverinfo": "none",
         "line": {
          "width": 1
         },
         "mode": "lines",
         "type": "scatter",
         "x": [
          0.03249863268718136,
          -0.6478839691019497
         ],
         "y": [
          0.01393997625678733,
          0.4279953687126086
         ]
        },
        {
         "hoverinfo": "none",
         "line": {
          "width": 1
         },
         "mode": "lines",
         "type": "scatter",
         "x": [
          0.01076968362935033,
          0.6926848322183445
         ],
         "y": [
          0.03141868719902152,
          -0.36703736494989636
         ]
        },
        {
         "hoverinfo": "none",
         "line": {
          "width": 1
         },
         "mode": "lines",
         "type": "scatter",
         "x": [
          0.01076968362935033,
          -0.6478839691019497
         ],
         "y": [
          0.03141868719902152,
          0.4279953687126086
         ]
        },
        {
         "hoverinfo": "none",
         "line": {
          "width": 1
         },
         "mode": "lines",
         "type": "scatter",
         "x": [
          0.029584947004381988,
          0.6926848322183445
         ],
         "y": [
          0.023048337801003533,
          -0.36703736494989636
         ]
        },
        {
         "hoverinfo": "none",
         "line": {
          "width": 1
         },
         "mode": "lines",
         "type": "scatter",
         "x": [
          0.029584947004381988,
          -0.6478839691019497
         ],
         "y": [
          0.023048337801003533,
          0.4279953687126086
         ]
        },
        {
         "hoverinfo": "none",
         "line": {
          "width": 1
         },
         "mode": "lines",
         "type": "scatter",
         "x": [
          0.04644704099805812,
          0.6926848322183445
         ],
         "y": [
          0.06674786696521524,
          -0.36703736494989636
         ]
        },
        {
         "hoverinfo": "none",
         "line": {
          "width": 1
         },
         "mode": "lines",
         "type": "scatter",
         "x": [
          0.04644704099805812,
          -0.6478839691019497
         ],
         "y": [
          0.06674786696521524,
          0.4279953687126086
         ]
        },
        {
         "hoverinfo": "none",
         "line": {
          "width": 1
         },
         "mode": "lines",
         "type": "scatter",
         "x": [
          0.01740048916903949,
          0.6926848322183445
         ],
         "y": [
          0.026157067607978153,
          -0.36703736494989636
         ]
        },
        {
         "hoverinfo": "none",
         "line": {
          "width": 1
         },
         "mode": "lines",
         "type": "scatter",
         "x": [
          0.01740048916903949,
          -0.6478839691019497
         ],
         "y": [
          0.026157067607978153,
          0.4279953687126086
         ]
        },
        {
         "hoverinfo": "none",
         "line": {
          "width": 1
         },
         "mode": "lines",
         "type": "scatter",
         "x": [
          0.030488039281119716,
          0.6926848322183445
         ],
         "y": [
          0.006002716133752574,
          -0.36703736494989636
         ]
        },
        {
         "hoverinfo": "none",
         "line": {
          "width": 1
         },
         "mode": "lines",
         "type": "scatter",
         "x": [
          0.030488039281119716,
          -0.6478839691019497
         ],
         "y": [
          0.006002716133752574,
          0.4279953687126086
         ]
        },
        {
         "hoverinfo": "none",
         "line": {
          "width": 1
         },
         "mode": "lines",
         "type": "scatter",
         "x": [
          0.029705347482336386,
          0.6926848322183445
         ],
         "y": [
          0.035592684880190545,
          -0.36703736494989636
         ]
        },
        {
         "hoverinfo": "none",
         "line": {
          "width": 1
         },
         "mode": "lines",
         "type": "scatter",
         "x": [
          0.029705347482336386,
          -0.6478839691019497
         ],
         "y": [
          0.035592684880190545,
          0.4279953687126086
         ]
        },
        {
         "hoverinfo": "none",
         "line": {
          "width": 1
         },
         "mode": "lines",
         "type": "scatter",
         "x": [
          0.05020297218144633,
          0.6926848322183445
         ],
         "y": [
          0.057836250260850375,
          -0.36703736494989636
         ]
        },
        {
         "hoverinfo": "none",
         "line": {
          "width": 1
         },
         "mode": "lines",
         "type": "scatter",
         "x": [
          0.05020297218144633,
          -0.6478839691019497
         ],
         "y": [
          0.057836250260850375,
          0.4279953687126086
         ]
        },
        {
         "hoverinfo": "none",
         "line": {
          "width": 1
         },
         "mode": "lines",
         "type": "scatter",
         "x": [
          0.02559602609813507,
          0.6926848322183445
         ],
         "y": [
          0.027525715508069953,
          -0.36703736494989636
         ]
        },
        {
         "hoverinfo": "none",
         "line": {
          "width": 1
         },
         "mode": "lines",
         "type": "scatter",
         "x": [
          0.02559602609813507,
          -0.6478839691019497
         ],
         "y": [
          0.027525715508069953,
          0.4279953687126086
         ]
        },
        {
         "hoverinfo": "none",
         "line": {
          "width": 1
         },
         "mode": "lines",
         "type": "scatter",
         "x": [
          0.032378165670751885,
          0.6926848322183445
         ],
         "y": [
          0.04694363620513246,
          -0.36703736494989636
         ]
        },
        {
         "hoverinfo": "none",
         "line": {
          "width": 1
         },
         "mode": "lines",
         "type": "scatter",
         "x": [
          0.032378165670751885,
          -0.6478839691019497
         ],
         "y": [
          0.04694363620513246,
          0.4279953687126086
         ]
        },
        {
         "hoverinfo": "none",
         "line": {
          "width": 1
         },
         "mode": "lines",
         "type": "scatter",
         "x": [
          0.010900943038873519,
          0.6926848322183445
         ],
         "y": [
          0.011037419975597559,
          -0.36703736494989636
         ]
        },
        {
         "hoverinfo": "none",
         "line": {
          "width": 1
         },
         "mode": "lines",
         "type": "scatter",
         "x": [
          0.010900943038873519,
          -0.6478839691019497
         ],
         "y": [
          0.011037419975597559,
          0.4279953687126086
         ]
        },
        {
         "hoverinfo": "none",
         "line": {
          "width": 1
         },
         "mode": "lines",
         "type": "scatter",
         "x": [
          0.020431591339236038,
          0.6926848322183445
         ],
         "y": [
          -0.00021273799814785512,
          -0.36703736494989636
         ]
        },
        {
         "hoverinfo": "none",
         "line": {
          "width": 1
         },
         "mode": "lines",
         "type": "scatter",
         "x": [
          0.020431591339236038,
          -0.6478839691019497
         ],
         "y": [
          -0.00021273799814785512,
          0.4279953687126086
         ]
        },
        {
         "hoverinfo": "none",
         "line": {
          "width": 1
         },
         "mode": "lines",
         "type": "scatter",
         "x": [
          0.024771418362829232,
          0.6926848322183445
         ],
         "y": [
          0.048385232560873424,
          -0.36703736494989636
         ]
        },
        {
         "hoverinfo": "none",
         "line": {
          "width": 1
         },
         "mode": "lines",
         "type": "scatter",
         "x": [
          0.024771418362829232,
          -0.6478839691019497
         ],
         "y": [
          0.048385232560873424,
          0.4279953687126086
         ]
        },
        {
         "hoverinfo": "none",
         "line": {
          "width": 1
         },
         "mode": "lines",
         "type": "scatter",
         "x": [
          0.038709434575576934,
          0.6926848322183445
         ],
         "y": [
          0.06845148334374382,
          -0.36703736494989636
         ]
        },
        {
         "hoverinfo": "none",
         "line": {
          "width": 1
         },
         "mode": "lines",
         "type": "scatter",
         "x": [
          0.038709434575576934,
          -0.6478839691019497
         ],
         "y": [
          0.06845148334374382,
          0.4279953687126086
         ]
        },
        {
         "hoverinfo": "none",
         "line": {
          "width": 1
         },
         "mode": "lines",
         "type": "scatter",
         "x": [
          0.01833745773680972,
          0.6926848322183445
         ],
         "y": [
          0.019552618730793926,
          -0.36703736494989636
         ]
        },
        {
         "hoverinfo": "none",
         "line": {
          "width": 1
         },
         "mode": "lines",
         "type": "scatter",
         "x": [
          0.01833745773680972,
          -0.6478839691019497
         ],
         "y": [
          0.019552618730793926,
          0.4279953687126086
         ]
        },
        {
         "hoverinfo": "none",
         "line": {
          "width": 1
         },
         "mode": "lines",
         "type": "scatter",
         "x": [
          0.0028289772998398985,
          0.6926848322183445
         ],
         "y": [
          0.02047587469487022,
          -0.36703736494989636
         ]
        },
        {
         "hoverinfo": "none",
         "line": {
          "width": 1
         },
         "mode": "lines",
         "type": "scatter",
         "x": [
          0.0028289772998398985,
          -0.6478839691019497
         ],
         "y": [
          0.02047587469487022,
          0.4279953687126086
         ]
        },
        {
         "hoverinfo": "none",
         "line": {
          "width": 1
         },
         "mode": "lines",
         "type": "scatter",
         "x": [
          0.03893374804482046,
          0.6926848322183445
         ],
         "y": [
          0.02439754275975477,
          -0.36703736494989636
         ]
        },
        {
         "hoverinfo": "none",
         "line": {
          "width": 1
         },
         "mode": "lines",
         "type": "scatter",
         "x": [
          0.03893374804482046,
          -0.6478839691019497
         ],
         "y": [
          0.02439754275975477,
          0.4279953687126086
         ]
        },
        {
         "hoverinfo": "none",
         "line": {
          "width": 1
         },
         "mode": "lines",
         "type": "scatter",
         "x": [
          0.039051428557774874,
          0.6926848322183445
         ],
         "y": [
          0.052813451010017304,
          -0.36703736494989636
         ]
        },
        {
         "hoverinfo": "none",
         "line": {
          "width": 1
         },
         "mode": "lines",
         "type": "scatter",
         "x": [
          0.039051428557774874,
          -0.6478839691019497
         ],
         "y": [
          0.052813451010017304,
          0.4279953687126086
         ]
        },
        {
         "hoverinfo": "none",
         "line": {
          "width": 1
         },
         "mode": "lines",
         "type": "scatter",
         "x": [
          0.004583480977937421,
          0.6926848322183445
         ],
         "y": [
          0.005271752334718368,
          -0.36703736494989636
         ]
        },
        {
         "hoverinfo": "none",
         "line": {
          "width": 1
         },
         "mode": "lines",
         "type": "scatter",
         "x": [
          0.004583480977937421,
          -0.6478839691019497
         ],
         "y": [
          0.005271752334718368,
          0.4279953687126086
         ]
        },
        {
         "hoverinfo": "none",
         "line": {
          "width": 1
         },
         "mode": "lines",
         "type": "scatter",
         "x": [
          -0.2503683540523814,
          0.6926848322183445
         ],
         "y": [
          -0.2222589098762178,
          -0.36703736494989636
         ]
        },
        {
         "hoverinfo": "none",
         "line": {
          "width": 1
         },
         "mode": "lines",
         "type": "scatter",
         "x": [
          -0.2503683540523814,
          -0.940642584063343
         ],
         "y": [
          -0.2222589098762178,
          0.11284094111189813
         ]
        },
        {
         "hoverinfo": "none",
         "line": {
          "width": 1
         },
         "mode": "lines",
         "type": "scatter",
         "x": [
          -0.2503683540523814,
          -0.6478839691019497
         ],
         "y": [
          -0.2222589098762178,
          0.4279953687126086
         ]
        },
        {
         "hoverinfo": "none",
         "line": {
          "width": 1
         },
         "mode": "lines",
         "type": "scatter",
         "x": [
          -0.2503683540523814,
          -0.3322969643732677
         ],
         "y": [
          -0.2222589098762178,
          -1
         ]
        },
        {
         "hoverinfo": "none",
         "line": {
          "width": 1
         },
         "mode": "lines",
         "type": "scatter",
         "x": [
          0.011714774196604699,
          0.6926848322183445
         ],
         "y": [
          0.038121471391594504,
          -0.36703736494989636
         ]
        },
        {
         "hoverinfo": "none",
         "line": {
          "width": 1
         },
         "mode": "lines",
         "type": "scatter",
         "x": [
          0.011714774196604699,
          -0.6478839691019497
         ],
         "y": [
          0.038121471391594504,
          0.4279953687126086
         ]
        },
        {
         "hoverinfo": "none",
         "line": {
          "width": 1
         },
         "mode": "lines",
         "type": "scatter",
         "x": [
          0.03825944616421079,
          0.6926848322183445
         ],
         "y": [
          0.018029830955898114,
          -0.36703736494989636
         ]
        },
        {
         "hoverinfo": "none",
         "line": {
          "width": 1
         },
         "mode": "lines",
         "type": "scatter",
         "x": [
          0.03825944616421079,
          -0.6478839691019497
         ],
         "y": [
          0.018029830955898114,
          0.4279953687126086
         ]
        },
        {
         "hoverinfo": "none",
         "line": {
          "width": 1
         },
         "mode": "lines",
         "type": "scatter",
         "x": [
          0.024651504063586165,
          0.6926848322183445
         ],
         "y": [
          0.04136169890802197,
          -0.36703736494989636
         ]
        },
        {
         "hoverinfo": "none",
         "line": {
          "width": 1
         },
         "mode": "lines",
         "type": "scatter",
         "x": [
          0.024651504063586165,
          -0.6478839691019497
         ],
         "y": [
          0.04136169890802197,
          0.4279953687126086
         ]
        },
        {
         "hoverinfo": "none",
         "line": {
          "width": 1
         },
         "mode": "lines",
         "type": "scatter",
         "x": [
          0.02563254992878366,
          0.6926848322183445
         ],
         "y": [
          0.015347747884216915,
          -0.36703736494989636
         ]
        },
        {
         "hoverinfo": "none",
         "line": {
          "width": 1
         },
         "mode": "lines",
         "type": "scatter",
         "x": [
          0.02563254992878366,
          -0.6478839691019497
         ],
         "y": [
          0.015347747884216915,
          0.4279953687126086
         ]
        },
        {
         "hoverinfo": "none",
         "line": {
          "width": 1
         },
         "mode": "lines",
         "type": "scatter",
         "x": [
          0.03664029821679861,
          0.6926848322183445
         ],
         "y": [
          0.03164423318917684,
          -0.36703736494989636
         ]
        },
        {
         "hoverinfo": "none",
         "line": {
          "width": 1
         },
         "mode": "lines",
         "type": "scatter",
         "x": [
          0.03664029821679861,
          -0.6478839691019497
         ],
         "y": [
          0.03164423318917684,
          0.4279953687126086
         ]
        },
        {
         "hoverinfo": "none",
         "line": {
          "width": 1
         },
         "mode": "lines",
         "type": "scatter",
         "x": [
          0.014432424653725311,
          0.6926848322183445
         ],
         "y": [
          -0.0039582292055626795,
          -0.36703736494989636
         ]
        },
        {
         "hoverinfo": "none",
         "line": {
          "width": 1
         },
         "mode": "lines",
         "type": "scatter",
         "x": [
          0.014432424653725311,
          -0.6478839691019497
         ],
         "y": [
          -0.0039582292055626795,
          0.4279953687126086
         ]
        },
        {
         "hoverinfo": "none",
         "line": {
          "width": 1
         },
         "mode": "lines",
         "type": "scatter",
         "x": [
          -0.00219843053567417,
          0.6926848322183445
         ],
         "y": [
          0.02516106643063922,
          -0.36703736494989636
         ]
        },
        {
         "hoverinfo": "none",
         "line": {
          "width": 1
         },
         "mode": "lines",
         "type": "scatter",
         "x": [
          -0.00219843053567417,
          -0.6478839691019497
         ],
         "y": [
          0.02516106643063922,
          0.4279953687126086
         ]
        },
        {
         "hoverinfo": "none",
         "line": {
          "width": 1
         },
         "mode": "lines",
         "type": "scatter",
         "x": [
          0.047456190630730026,
          0.6926848322183445
         ],
         "y": [
          0.05144407135624629,
          -0.36703736494989636
         ]
        },
        {
         "hoverinfo": "none",
         "line": {
          "width": 1
         },
         "mode": "lines",
         "type": "scatter",
         "x": [
          0.047456190630730026,
          -0.6478839691019497
         ],
         "y": [
          0.05144407135624629,
          0.4279953687126086
         ]
        },
        {
         "hoverinfo": "none",
         "line": {
          "width": 1
         },
         "mode": "lines",
         "type": "scatter",
         "x": [
          -0.0035493542643521194,
          0.6926848322183445
         ],
         "y": [
          0.015368552068566825,
          -0.36703736494989636
         ]
        },
        {
         "hoverinfo": "none",
         "line": {
          "width": 1
         },
         "mode": "lines",
         "type": "scatter",
         "x": [
          -0.0035493542643521194,
          -0.6478839691019497
         ],
         "y": [
          0.015368552068566825,
          0.4279953687126086
         ]
        },
        {
         "hoverinfo": "none",
         "line": {
          "width": 1
         },
         "mode": "lines",
         "type": "scatter",
         "x": [
          0.02348282007939637,
          0.6926848322183445
         ],
         "y": [
          0.061742108163413086,
          -0.36703736494989636
         ]
        },
        {
         "hoverinfo": "none",
         "line": {
          "width": 1
         },
         "mode": "lines",
         "type": "scatter",
         "x": [
          0.02348282007939637,
          -0.6478839691019497
         ],
         "y": [
          0.061742108163413086,
          0.4279953687126086
         ]
        },
        {
         "hoverinfo": "none",
         "line": {
          "width": 1
         },
         "mode": "lines",
         "type": "scatter",
         "x": [
          0.03063363078012347,
          0.6926848322183445
         ],
         "y": [
          0.06657709498691727,
          -0.36703736494989636
         ]
        },
        {
         "hoverinfo": "none",
         "line": {
          "width": 1
         },
         "mode": "lines",
         "type": "scatter",
         "x": [
          0.03063363078012347,
          -0.6478839691019497
         ],
         "y": [
          0.06657709498691727,
          0.4279953687126086
         ]
        },
        {
         "hoverinfo": "none",
         "line": {
          "width": 1
         },
         "mode": "lines",
         "type": "scatter",
         "x": [
          0.01775554083509517,
          0.6926848322183445
         ],
         "y": [
          0.011951335218635105,
          -0.36703736494989636
         ]
        },
        {
         "hoverinfo": "none",
         "line": {
          "width": 1
         },
         "mode": "lines",
         "type": "scatter",
         "x": [
          0.01775554083509517,
          0.01775554083509517
         ],
         "y": [
          0.011951335218635105,
          0.011951335218635105
         ]
        },
        {
         "hoverinfo": "none",
         "line": {
          "width": 1
         },
         "mode": "lines",
         "type": "scatter",
         "x": [
          0.01775554083509517,
          -0.6478839691019497
         ],
         "y": [
          0.011951335218635105,
          0.4279953687126086
         ]
        },
        {
         "hoverinfo": "none",
         "line": {
          "width": 1
         },
         "mode": "lines",
         "type": "scatter",
         "x": [
          0.007115369403204182,
          0.6926848322183445
         ],
         "y": [
          0.01528365100110669,
          -0.36703736494989636
         ]
        },
        {
         "hoverinfo": "none",
         "line": {
          "width": 1
         },
         "mode": "lines",
         "type": "scatter",
         "x": [
          0.007115369403204182,
          -0.6478839691019497
         ],
         "y": [
          0.01528365100110669,
          0.4279953687126086
         ]
        },
        {
         "hoverinfo": "none",
         "line": {
          "width": 1
         },
         "mode": "lines",
         "type": "scatter",
         "x": [
          0.019654886127487073,
          0.6926848322183445
         ],
         "y": [
          0.055469744831511,
          -0.36703736494989636
         ]
        },
        {
         "hoverinfo": "none",
         "line": {
          "width": 1
         },
         "mode": "lines",
         "type": "scatter",
         "x": [
          0.019654886127487073,
          -0.6478839691019497
         ],
         "y": [
          0.055469744831511,
          0.4279953687126086
         ]
        },
        {
         "hoverinfo": "none",
         "line": {
          "width": 1
         },
         "mode": "lines",
         "type": "scatter",
         "x": [
          0.037050869815672495,
          0.6926848322183445
         ],
         "y": [
          0.03947275042530325,
          -0.36703736494989636
         ]
        },
        {
         "hoverinfo": "none",
         "line": {
          "width": 1
         },
         "mode": "lines",
         "type": "scatter",
         "x": [
          0.037050869815672495,
          -0.6478839691019497
         ],
         "y": [
          0.03947275042530325,
          0.4279953687126086
         ]
        },
        {
         "hoverinfo": "none",
         "line": {
          "width": 1
         },
         "mode": "lines",
         "type": "scatter",
         "x": [
          0.0211238963163348,
          -0.6478839691019497
         ],
         "y": [
          0.03484116670242668,
          0.4279953687126086
         ]
        },
        {
         "hoverinfo": "none",
         "line": {
          "width": 1
         },
         "mode": "lines",
         "type": "scatter",
         "x": [
          0.0211238963163348,
          0.6926848322183445
         ],
         "y": [
          0.03484116670242668,
          -0.36703736494989636
         ]
        },
        {
         "hoverinfo": "none",
         "line": {
          "width": 1
         },
         "mode": "lines",
         "type": "scatter",
         "x": [
          0.002037260067292594,
          0.6926848322183445
         ],
         "y": [
          0.03066265717680217,
          -0.36703736494989636
         ]
        },
        {
         "hoverinfo": "none",
         "line": {
          "width": 1
         },
         "mode": "lines",
         "type": "scatter",
         "x": [
          0.002037260067292594,
          -0.6478839691019497
         ],
         "y": [
          0.03066265717680217,
          0.4279953687126086
         ]
        },
        {
         "hoverinfo": "none",
         "line": {
          "width": 1
         },
         "mode": "lines",
         "type": "scatter",
         "x": [
          -0.0024759207880824703,
          0.6926848322183445
         ],
         "y": [
          0.008647288496831747,
          -0.36703736494989636
         ]
        },
        {
         "hoverinfo": "none",
         "line": {
          "width": 1
         },
         "mode": "lines",
         "type": "scatter",
         "x": [
          -0.0024759207880824703,
          -0.6478839691019497
         ],
         "y": [
          0.008647288496831747,
          0.4279953687126086
         ]
        },
        {
         "hoverinfo": "none",
         "line": {
          "width": 1
         },
         "mode": "lines",
         "type": "scatter",
         "x": [
          -0.00410262949162648,
          0.6926848322183445
         ],
         "y": [
          0.0007790829345439655,
          -0.36703736494989636
         ]
        },
        {
         "hoverinfo": "none",
         "line": {
          "width": 1
         },
         "mode": "lines",
         "type": "scatter",
         "x": [
          -0.00410262949162648,
          -0.6478839691019497
         ],
         "y": [
          0.0007790829345439655,
          0.4279953687126086
         ]
        },
        {
         "hoverinfo": "text",
         "marker": {
          "color": [
           "red",
           "blue",
           "blue",
           "green",
           "red",
           "red",
           "red",
           "blue",
           "blue",
           "red",
           "red",
           "red",
           "red",
           "red",
           "red",
           "red",
           "red",
           "blue",
           "red",
           "red",
           "red",
           "red",
           "red",
           "red",
           "red",
           "red",
           "red",
           "red",
           "red",
           "red",
           "red",
           "red",
           "red",
           "red",
           "red",
           "red",
           "red",
           "red",
           "red",
           "red",
           "red",
           "red",
           "red",
           "red",
           "blue",
           "red",
           "red",
           "red",
           "red",
           "red",
           "red",
           "red",
           "red",
           "red",
           "red",
           "red",
           "red",
           "red",
           "red",
           "red",
           "red",
           "red",
           "red",
           "red"
          ],
          "size": 15
         },
         "mode": "markers",
         "text": [
          "0x03",
          "0xb4",
          "0x80",
          "0x98",
          "0x05",
          "0x05",
          "0x07",
          "0xb4",
          "0x31",
          "0x0c",
          "0x0c",
          "0x0c",
          "0x11",
          "0x15",
          "0x29",
          "0x2e",
          "0x30",
          "0xf3",
          "0x33",
          "0x38",
          "0x3a",
          "0x3a",
          "0x3c",
          "0x45",
          "0x45",
          "0x47",
          "0x49",
          "0x52",
          "0x55",
          "0x5a",
          "0x5e",
          "0x66",
          "0x74",
          "0x78",
          "0x7b",
          "0x7c",
          "0x7d",
          "0x81",
          "0x82",
          "0x85",
          "0x87",
          "0x90",
          "0x92",
          "0x93",
          "0x11",
          "0x9d",
          "0x9e",
          "0xa3",
          "0xb7",
          "0xba",
          "0xba",
          "0xc7",
          "0xca",
          "0xca",
          "0xd0",
          "0xdb",
          "0xe0",
          "0xe1",
          "0xe1",
          "0xe2",
          "0xe8",
          "0xf3",
          "0xf5",
          "0xf8"
         ],
         "type": "scatter",
         "x": [
          0.04476182917266921,
          0.6926848322183445,
          -0.005691754434137787,
          -0.6478839691019497,
          0.01389504769495296,
          0.02221628739516226,
          -0.08020318779825082,
          -0.009724259623835038,
          -0.3322969643732677,
          0.012082385297571366,
          0.0020965928624228527,
          0.03987495558809135,
          0.028402277732087734,
          0.008968341723952021,
          0.004041957431652822,
          0.007260600980676227,
          -0.04092430491095822,
          0.38249272998650324,
          0.03455009593719792,
          0.01015466487519587,
          0.042578286354046264,
          0.017512871408382542,
          0.04929901176143618,
          0.04592765960296895,
          0.03249863268718136,
          0.01076968362935033,
          0.029584947004381988,
          0.04644704099805812,
          0.01740048916903949,
          0.030488039281119716,
          0.029705347482336386,
          0.05020297218144633,
          0.02559602609813507,
          0.032378165670751885,
          0.010900943038873519,
          0.020431591339236038,
          0.024771418362829232,
          0.038709434575576934,
          0.01833745773680972,
          0.0028289772998398985,
          0.03893374804482046,
          0.039051428557774874,
          0.004583480977937421,
          -0.2503683540523814,
          -0.940642584063343,
          0.011714774196604699,
          0.03825944616421079,
          0.024651504063586165,
          0.02563254992878366,
          0.03664029821679861,
          0.014432424653725311,
          -0.00219843053567417,
          0.047456190630730026,
          -0.0035493542643521194,
          0.02348282007939637,
          0.03063363078012347,
          0.01775554083509517,
          0.007115369403204182,
          0.019654886127487073,
          0.037050869815672495,
          0.0211238963163348,
          0.002037260067292594,
          -0.0024759207880824703,
          -0.00410262949162648
         ],
         "y": [
          0.02950428967314848,
          -0.36703736494989636,
          -0.024349130651307213,
          0.4279953687126086,
          0.05178315450305561,
          0.006134939210014225,
          -0.10568104912624113,
          0.6899333506802169,
          -1,
          0.003066904194459957,
          -0.0029204066289426965,
          0.04516638255106692,
          0.055852141597739415,
          0.04579606501495033,
          0.03855729684977317,
          -0.007201480590930581,
          -0.3554921717242343,
          -0.8353081553497304,
          0.058692455404054704,
          0.0234123900894244,
          0.061680120202909396,
          0.0437729480358529,
          0.04523244209072498,
          0.037494579829089957,
          0.01393997625678733,
          0.03141868719902152,
          0.023048337801003533,
          0.06674786696521524,
          0.026157067607978153,
          0.006002716133752574,
          0.035592684880190545,
          0.057836250260850375,
          0.027525715508069953,
          0.04694363620513246,
          0.011037419975597559,
          -0.00021273799814785512,
          0.048385232560873424,
          0.06845148334374382,
          0.019552618730793926,
          0.02047587469487022,
          0.02439754275975477,
          0.052813451010017304,
          0.005271752334718368,
          -0.2222589098762178,
          0.11284094111189813,
          0.038121471391594504,
          0.018029830955898114,
          0.04136169890802197,
          0.015347747884216915,
          0.03164423318917684,
          -0.0039582292055626795,
          0.02516106643063922,
          0.05144407135624629,
          0.015368552068566825,
          0.061742108163413086,
          0.06657709498691727,
          0.011951335218635105,
          0.01528365100110669,
          0.055469744831511,
          0.03947275042530325,
          0.03484116670242668,
          0.03066265717680217,
          0.008647288496831747,
          0.0007790829345439655
         ]
        }
       ],
       "layout": {
        "hovermode": "closest",
        "margin": {
         "b": 20,
         "l": 5,
         "r": 5,
         "t": 40
        },
        "plot_bgcolor": "white",
        "showlegend": false,
        "template": {
         "data": {
          "bar": [
           {
            "error_x": {
             "color": "#2a3f5f"
            },
            "error_y": {
             "color": "#2a3f5f"
            },
            "marker": {
             "line": {
              "color": "#E5ECF6",
              "width": 0.5
             },
             "pattern": {
              "fillmode": "overlay",
              "size": 10,
              "solidity": 0.2
             }
            },
            "type": "bar"
           }
          ],
          "barpolar": [
           {
            "marker": {
             "line": {
              "color": "#E5ECF6",
              "width": 0.5
             },
             "pattern": {
              "fillmode": "overlay",
              "size": 10,
              "solidity": 0.2
             }
            },
            "type": "barpolar"
           }
          ],
          "carpet": [
           {
            "aaxis": {
             "endlinecolor": "#2a3f5f",
             "gridcolor": "white",
             "linecolor": "white",
             "minorgridcolor": "white",
             "startlinecolor": "#2a3f5f"
            },
            "baxis": {
             "endlinecolor": "#2a3f5f",
             "gridcolor": "white",
             "linecolor": "white",
             "minorgridcolor": "white",
             "startlinecolor": "#2a3f5f"
            },
            "type": "carpet"
           }
          ],
          "choropleth": [
           {
            "colorbar": {
             "outlinewidth": 0,
             "ticks": ""
            },
            "type": "choropleth"
           }
          ],
          "contour": [
           {
            "colorbar": {
             "outlinewidth": 0,
             "ticks": ""
            },
            "colorscale": [
             [
              0,
              "#0d0887"
             ],
             [
              0.1111111111111111,
              "#46039f"
             ],
             [
              0.2222222222222222,
              "#7201a8"
             ],
             [
              0.3333333333333333,
              "#9c179e"
             ],
             [
              0.4444444444444444,
              "#bd3786"
             ],
             [
              0.5555555555555556,
              "#d8576b"
             ],
             [
              0.6666666666666666,
              "#ed7953"
             ],
             [
              0.7777777777777778,
              "#fb9f3a"
             ],
             [
              0.8888888888888888,
              "#fdca26"
             ],
             [
              1,
              "#f0f921"
             ]
            ],
            "type": "contour"
           }
          ],
          "contourcarpet": [
           {
            "colorbar": {
             "outlinewidth": 0,
             "ticks": ""
            },
            "type": "contourcarpet"
           }
          ],
          "heatmap": [
           {
            "colorbar": {
             "outlinewidth": 0,
             "ticks": ""
            },
            "colorscale": [
             [
              0,
              "#0d0887"
             ],
             [
              0.1111111111111111,
              "#46039f"
             ],
             [
              0.2222222222222222,
              "#7201a8"
             ],
             [
              0.3333333333333333,
              "#9c179e"
             ],
             [
              0.4444444444444444,
              "#bd3786"
             ],
             [
              0.5555555555555556,
              "#d8576b"
             ],
             [
              0.6666666666666666,
              "#ed7953"
             ],
             [
              0.7777777777777778,
              "#fb9f3a"
             ],
             [
              0.8888888888888888,
              "#fdca26"
             ],
             [
              1,
              "#f0f921"
             ]
            ],
            "type": "heatmap"
           }
          ],
          "heatmapgl": [
           {
            "colorbar": {
             "outlinewidth": 0,
             "ticks": ""
            },
            "colorscale": [
             [
              0,
              "#0d0887"
             ],
             [
              0.1111111111111111,
              "#46039f"
             ],
             [
              0.2222222222222222,
              "#7201a8"
             ],
             [
              0.3333333333333333,
              "#9c179e"
             ],
             [
              0.4444444444444444,
              "#bd3786"
             ],
             [
              0.5555555555555556,
              "#d8576b"
             ],
             [
              0.6666666666666666,
              "#ed7953"
             ],
             [
              0.7777777777777778,
              "#fb9f3a"
             ],
             [
              0.8888888888888888,
              "#fdca26"
             ],
             [
              1,
              "#f0f921"
             ]
            ],
            "type": "heatmapgl"
           }
          ],
          "histogram": [
           {
            "marker": {
             "pattern": {
              "fillmode": "overlay",
              "size": 10,
              "solidity": 0.2
             }
            },
            "type": "histogram"
           }
          ],
          "histogram2d": [
           {
            "colorbar": {
             "outlinewidth": 0,
             "ticks": ""
            },
            "colorscale": [
             [
              0,
              "#0d0887"
             ],
             [
              0.1111111111111111,
              "#46039f"
             ],
             [
              0.2222222222222222,
              "#7201a8"
             ],
             [
              0.3333333333333333,
              "#9c179e"
             ],
             [
              0.4444444444444444,
              "#bd3786"
             ],
             [
              0.5555555555555556,
              "#d8576b"
             ],
             [
              0.6666666666666666,
              "#ed7953"
             ],
             [
              0.7777777777777778,
              "#fb9f3a"
             ],
             [
              0.8888888888888888,
              "#fdca26"
             ],
             [
              1,
              "#f0f921"
             ]
            ],
            "type": "histogram2d"
           }
          ],
          "histogram2dcontour": [
           {
            "colorbar": {
             "outlinewidth": 0,
             "ticks": ""
            },
            "colorscale": [
             [
              0,
              "#0d0887"
             ],
             [
              0.1111111111111111,
              "#46039f"
             ],
             [
              0.2222222222222222,
              "#7201a8"
             ],
             [
              0.3333333333333333,
              "#9c179e"
             ],
             [
              0.4444444444444444,
              "#bd3786"
             ],
             [
              0.5555555555555556,
              "#d8576b"
             ],
             [
              0.6666666666666666,
              "#ed7953"
             ],
             [
              0.7777777777777778,
              "#fb9f3a"
             ],
             [
              0.8888888888888888,
              "#fdca26"
             ],
             [
              1,
              "#f0f921"
             ]
            ],
            "type": "histogram2dcontour"
           }
          ],
          "mesh3d": [
           {
            "colorbar": {
             "outlinewidth": 0,
             "ticks": ""
            },
            "type": "mesh3d"
           }
          ],
          "parcoords": [
           {
            "line": {
             "colorbar": {
              "outlinewidth": 0,
              "ticks": ""
             }
            },
            "type": "parcoords"
           }
          ],
          "pie": [
           {
            "automargin": true,
            "type": "pie"
           }
          ],
          "scatter": [
           {
            "fillpattern": {
             "fillmode": "overlay",
             "size": 10,
             "solidity": 0.2
            },
            "type": "scatter"
           }
          ],
          "scatter3d": [
           {
            "line": {
             "colorbar": {
              "outlinewidth": 0,
              "ticks": ""
             }
            },
            "marker": {
             "colorbar": {
              "outlinewidth": 0,
              "ticks": ""
             }
            },
            "type": "scatter3d"
           }
          ],
          "scattercarpet": [
           {
            "marker": {
             "colorbar": {
              "outlinewidth": 0,
              "ticks": ""
             }
            },
            "type": "scattercarpet"
           }
          ],
          "scattergeo": [
           {
            "marker": {
             "colorbar": {
              "outlinewidth": 0,
              "ticks": ""
             }
            },
            "type": "scattergeo"
           }
          ],
          "scattergl": [
           {
            "marker": {
             "colorbar": {
              "outlinewidth": 0,
              "ticks": ""
             }
            },
            "type": "scattergl"
           }
          ],
          "scattermapbox": [
           {
            "marker": {
             "colorbar": {
              "outlinewidth": 0,
              "ticks": ""
             }
            },
            "type": "scattermapbox"
           }
          ],
          "scatterpolar": [
           {
            "marker": {
             "colorbar": {
              "outlinewidth": 0,
              "ticks": ""
             }
            },
            "type": "scatterpolar"
           }
          ],
          "scatterpolargl": [
           {
            "marker": {
             "colorbar": {
              "outlinewidth": 0,
              "ticks": ""
             }
            },
            "type": "scatterpolargl"
           }
          ],
          "scatterternary": [
           {
            "marker": {
             "colorbar": {
              "outlinewidth": 0,
              "ticks": ""
             }
            },
            "type": "scatterternary"
           }
          ],
          "surface": [
           {
            "colorbar": {
             "outlinewidth": 0,
             "ticks": ""
            },
            "colorscale": [
             [
              0,
              "#0d0887"
             ],
             [
              0.1111111111111111,
              "#46039f"
             ],
             [
              0.2222222222222222,
              "#7201a8"
             ],
             [
              0.3333333333333333,
              "#9c179e"
             ],
             [
              0.4444444444444444,
              "#bd3786"
             ],
             [
              0.5555555555555556,
              "#d8576b"
             ],
             [
              0.6666666666666666,
              "#ed7953"
             ],
             [
              0.7777777777777778,
              "#fb9f3a"
             ],
             [
              0.8888888888888888,
              "#fdca26"
             ],
             [
              1,
              "#f0f921"
             ]
            ],
            "type": "surface"
           }
          ],
          "table": [
           {
            "cells": {
             "fill": {
              "color": "#EBF0F8"
             },
             "line": {
              "color": "white"
             }
            },
            "header": {
             "fill": {
              "color": "#C8D4E3"
             },
             "line": {
              "color": "white"
             }
            },
            "type": "table"
           }
          ]
         },
         "layout": {
          "annotationdefaults": {
           "arrowcolor": "#2a3f5f",
           "arrowhead": 0,
           "arrowwidth": 1
          },
          "autotypenumbers": "strict",
          "coloraxis": {
           "colorbar": {
            "outlinewidth": 0,
            "ticks": ""
           }
          },
          "colorscale": {
           "diverging": [
            [
             0,
             "#8e0152"
            ],
            [
             0.1,
             "#c51b7d"
            ],
            [
             0.2,
             "#de77ae"
            ],
            [
             0.3,
             "#f1b6da"
            ],
            [
             0.4,
             "#fde0ef"
            ],
            [
             0.5,
             "#f7f7f7"
            ],
            [
             0.6,
             "#e6f5d0"
            ],
            [
             0.7,
             "#b8e186"
            ],
            [
             0.8,
             "#7fbc41"
            ],
            [
             0.9,
             "#4d9221"
            ],
            [
             1,
             "#276419"
            ]
           ],
           "sequential": [
            [
             0,
             "#0d0887"
            ],
            [
             0.1111111111111111,
             "#46039f"
            ],
            [
             0.2222222222222222,
             "#7201a8"
            ],
            [
             0.3333333333333333,
             "#9c179e"
            ],
            [
             0.4444444444444444,
             "#bd3786"
            ],
            [
             0.5555555555555556,
             "#d8576b"
            ],
            [
             0.6666666666666666,
             "#ed7953"
            ],
            [
             0.7777777777777778,
             "#fb9f3a"
            ],
            [
             0.8888888888888888,
             "#fdca26"
            ],
            [
             1,
             "#f0f921"
            ]
           ],
           "sequentialminus": [
            [
             0,
             "#0d0887"
            ],
            [
             0.1111111111111111,
             "#46039f"
            ],
            [
             0.2222222222222222,
             "#7201a8"
            ],
            [
             0.3333333333333333,
             "#9c179e"
            ],
            [
             0.4444444444444444,
             "#bd3786"
            ],
            [
             0.5555555555555556,
             "#d8576b"
            ],
            [
             0.6666666666666666,
             "#ed7953"
            ],
            [
             0.7777777777777778,
             "#fb9f3a"
            ],
            [
             0.8888888888888888,
             "#fdca26"
            ],
            [
             1,
             "#f0f921"
            ]
           ]
          },
          "colorway": [
           "#636efa",
           "#EF553B",
           "#00cc96",
           "#ab63fa",
           "#FFA15A",
           "#19d3f3",
           "#FF6692",
           "#B6E880",
           "#FF97FF",
           "#FECB52"
          ],
          "font": {
           "color": "#2a3f5f"
          },
          "geo": {
           "bgcolor": "white",
           "lakecolor": "white",
           "landcolor": "#E5ECF6",
           "showlakes": true,
           "showland": true,
           "subunitcolor": "white"
          },
          "hoverlabel": {
           "align": "left"
          },
          "hovermode": "closest",
          "mapbox": {
           "style": "light"
          },
          "paper_bgcolor": "white",
          "plot_bgcolor": "#E5ECF6",
          "polar": {
           "angularaxis": {
            "gridcolor": "white",
            "linecolor": "white",
            "ticks": ""
           },
           "bgcolor": "#E5ECF6",
           "radialaxis": {
            "gridcolor": "white",
            "linecolor": "white",
            "ticks": ""
           }
          },
          "scene": {
           "xaxis": {
            "backgroundcolor": "#E5ECF6",
            "gridcolor": "white",
            "gridwidth": 2,
            "linecolor": "white",
            "showbackground": true,
            "ticks": "",
            "zerolinecolor": "white"
           },
           "yaxis": {
            "backgroundcolor": "#E5ECF6",
            "gridcolor": "white",
            "gridwidth": 2,
            "linecolor": "white",
            "showbackground": true,
            "ticks": "",
            "zerolinecolor": "white"
           },
           "zaxis": {
            "backgroundcolor": "#E5ECF6",
            "gridcolor": "white",
            "gridwidth": 2,
            "linecolor": "white",
            "showbackground": true,
            "ticks": "",
            "zerolinecolor": "white"
           }
          },
          "shapedefaults": {
           "line": {
            "color": "#2a3f5f"
           }
          },
          "ternary": {
           "aaxis": {
            "gridcolor": "white",
            "linecolor": "white",
            "ticks": ""
           },
           "baxis": {
            "gridcolor": "white",
            "linecolor": "white",
            "ticks": ""
           },
           "bgcolor": "#E5ECF6",
           "caxis": {
            "gridcolor": "white",
            "linecolor": "white",
            "ticks": ""
           }
          },
          "title": {
           "x": 0.05
          },
          "xaxis": {
           "automargin": true,
           "gridcolor": "white",
           "linecolor": "white",
           "ticks": "",
           "title": {
            "standoff": 15
           },
           "zerolinecolor": "white",
           "zerolinewidth": 2
          },
          "yaxis": {
           "automargin": true,
           "gridcolor": "white",
           "linecolor": "white",
           "ticks": "",
           "title": {
            "standoff": 15
           },
           "zerolinecolor": "white",
           "zerolinewidth": 2
          }
         }
        },
        "xaxis": {
         "showgrid": false,
         "showticklabels": false,
         "zeroline": false
        },
        "yaxis": {
         "showgrid": false,
         "showticklabels": false,
         "zeroline": false
        }
       }
      }
     },
     "metadata": {},
     "output_type": "display_data"
    }
   ],
   "source": [
    "import plotly.graph_objects as go\n",
    "\n",
    "\n",
    "# Create a list to store the node positions\n",
    "pos = nx.spring_layout(G)\n",
    "\n",
    "# Create a Scatter plot for the nodes\n",
    "node_trace = go.Scatter(\n",
    "    x=[pos[node][0] for node in G.nodes()],\n",
    "    y=[pos[node][1] for node in G.nodes()],\n",
    "    mode='markers',\n",
    "    text=[labels[node] for node in G.nodes()],\n",
    "    hoverinfo='text',\n",
    "    marker=dict(\n",
    "        size=15,\n",
    "        color=colors\n",
    "    )\n",
    ")\n",
    "\n",
    "# Create a list to store the edge traces\n",
    "edge_traces = []\n",
    "for edge in G.edges():\n",
    "    x0, y0 = pos[edge[0]]\n",
    "    x1, y1 = pos[edge[1]]\n",
    "    edge_trace = go.Scatter(\n",
    "        x=[x0, x1],\n",
    "        y=[y0, y1],\n",
    "        mode='lines',\n",
    "        line=dict(width=1),\n",
    "        hoverinfo='none'\n",
    "    )\n",
    "    edge_traces.append(edge_trace)\n",
    "\n",
    "# Create the figure\n",
    "fig = go.Figure(data=[*edge_traces, node_trace])\n",
    "\n",
    "# Set the layout options\n",
    "fig.update_layout(\n",
    "    plot_bgcolor='white',\n",
    "    showlegend=False,\n",
    "    xaxis=dict(showgrid=False, zeroline=False, showticklabels=False),\n",
    "    yaxis=dict(showgrid=False, zeroline=False, showticklabels=False),\n",
    "    margin=dict(b=20, l=5, r=5, t=40),\n",
    "    hovermode='closest'\n",
    ")\n",
    "\n",
    "# Show the figure\n",
    "fig.show()\n"
   ]
  },
  {
   "cell_type": "code",
   "execution_count": 255,
   "metadata": {},
   "outputs": [
    {
     "name": "stdout",
     "output_type": "stream",
     "text": [
      "64\n",
      "178\n",
      "True\n"
     ]
    },
    {
     "data": {
      "text/plain": [
       "NodeView(('0x0301f541ae4216a0b04fa52c6a34d7a58d21d692', '0xb49c4e680174e331cb0a7ff3ab58afc9738d5f8b', '0x80c67432656d59144ceff962e8faf8926599bcf8', '0x984e29dcb4286c2d9cbaa2c238afdd8a191eefbc', '0x05a3293973cff2fef1cf30a9c58c5b5b4419c972', '0x05c2c1d0c3cf0134987191c28707352284d3bd3e', '0x071312888bfeb39664c557dbe3a7480a0f77f1ad', '0xb436dfe922eda09d02f8b27551b0f3daf438447b', '0x31f88a359a045aba182a3e1d05ceaa5a5b0f5912', '0x0c9a583cf49037cd060e7155b58700d8d1c75486', '0x0ca95a247da8882a27c57c53aff3aa885b805e9f', '0x0ceaf90efd1d3b2a2e024a0a82376c1901d178a5', '0x1144e5b48e30ef24df1b63454edc506501d3bc7a', '0x15ef9388097466e70d603e4fb96c664a178d38f9', '0x29149ec0963ce0b1a3394ebec493ce7cbb6f8e25', '0x2e1168d4d36e9233cfb3a2d7fc5816126facedca', '0x30ea70ebcb3d9349b9736462890a886a58ca7518', '0xf3f48cb2f7ecc25f17de2f5194cb77a6edc7c942', '0x33f3e6a6800a4cdad0def04f943b4c1a296df8b9', '0x38526a24612ea289ecb990692514a40767c730ad', '0x3a69a5fbe5eff43517ae1c57c34e6fece169c9c6', '0x3a6d43db16a611fd175b0066a0df21831cadd45a', '0x3c8f5f020e9d7a86edffe3970cc05eb893e28e71', '0x451fc24bcea16b7051d3b8551e819764935248ba', '0x452f7261c110d86edf4dfc451ddc0627a956ab3a', '0x471fee5f92b4eeb4dd9108855e8f410439d656a4', '0x49ff8ecf35f96c76165d99ba28dbb777ef9eddc0', '0x52def400db8c109713a9746822c3f92cb70adb52', '0x55a50e910910694d97a37118d1f2d30f86fb1872', '0x5a713367a2474bab17c7b3a29ee76b8a676c0ad9', '0x5e4eef3bdabf662149ecc80fdc4aba1224cb8854', '0x6617f5520359ad4d33147277a68861b5c76f5cdb', '0x74458a4e9e03cb0f194d779fc25ff2ea1a51c656', '0x7882c1c9285b4734a370f4bc622ccb8600e68da0', '0x7bcee551e3fce18df7a7ea21aa4bb09102491964', '0x7c8f1329e83f6907a3c854c85f8d1832b023908b', '0x7d8573f5e95404ebd4c25e057010d094f8b4480c', '0x8103cd7c0af26c8bc1e32035a53dd225d4800977', '0x822eceba677d5ebebdfe9ba089dcd576e1eb3b26', '0x85b485098a833796c185719c34fdd4733885a0cf', '0x87183c87cf60fbf11d5756d80f518966c42103c5', '0x9063b85b1e7e8172f9527e2ec62e552ad070eabf', '0x92bd838ab94a104ae261a3d07c273700364f9706', '0x934a6d6487fa58d73ce210abecb56e60737007a0', '0x11a13df18dca747516a7fd401c8697b86b7b5699', '0x9dacd7ca58ed58c202e624f08a28939992eede52', '0x9e2cada654657ae4d5fd1c7203f3e524f23a7893', '0xa353863876daf2fe8665666e78db756d0560300f', '0xb754dfdbdadd95b4699df3a33964eaf7c63da9be', '0xba873bc189bba9f88f4763dc5451cf7a401012ac', '0xbaa89d76dc96d53cd567477a98eaafa5d1d4bfb9', '0xc750f6ff535873b5fd11f4af12f59bf860941361', '0xca4db03e5e3a91d9c2cc5cc28e590f30d2b57232', '0xca548021ec5b94122110301f7a72f89e78a39dc5', '0xd038bd76a07887f3579e20b8a9265796cc25acb6', '0xdb319832e08c3cdd987cbfafb31b5ba3edfbe78a', '0xe0ee75253c84b469141f86a1d82a3b0be890ade8', '0xe139716fa6595badd41b233635a300d67fd106e9', '0xe17d6fe9f8c5554901bc1209227bbfebe456f162', '0xe255803a791c86790e3d2a3e5f68801d06e74f3f', '0xe8bfb231af3311b7036e383d2c67b52860fd00a8', '0xf38631da3704bc2d02412b90556eeedcab9b047a', '0xf5219f9e5cdbbf4d184ea1ea5764d5fac6dbe39e', '0xf834396ac167c7fa2a173acd8fe73357a78aee7b'))"
      ]
     },
     "execution_count": 255,
     "metadata": {},
     "output_type": "execute_result"
    }
   ],
   "source": [
    "print(G.number_of_nodes())\n",
    "print(G.number_of_edges())\n",
    "print(nx.is_directed(G))\n",
    "G.nodes()"
   ]
  },
  {
   "cell_type": "code",
   "execution_count": null,
   "metadata": {},
   "outputs": [],
   "source": []
  },
  {
   "cell_type": "code",
   "execution_count": 228,
   "metadata": {},
   "outputs": [],
   "source": [
    "# create network graph\n",
    "import networkx as nx\n",
    "G = nx.from_pandas_edgelist(df_tx_lcs, source='from_address', target='to_address', edge_attr=True, create_using=nx.DiGraph())\n"
   ]
  },
  {
   "cell_type": "code",
   "execution_count": 229,
   "metadata": {},
   "outputs": [
    {
     "data": {
      "text/plain": [
       "1358"
      ]
     },
     "execution_count": 229,
     "metadata": {},
     "output_type": "execute_result"
    }
   ],
   "source": [
    "G.number_of_nodes()"
   ]
  },
  {
   "cell_type": "code",
   "execution_count": 231,
   "metadata": {},
   "outputs": [
    {
     "data": {
      "image/png": "[encoded data removed]",
      "text/plain": [
       "<Figure size 640x480 with 1 Axes>"
      ]
     },
     "metadata": {},
     "output_type": "display_data"
    }
   ],
   "source": [
    "# print graph \n",
    "nx.draw(G, with_labels=True)"
   ]
  },
  {
   "cell_type": "code",
   "execution_count": 208,
   "metadata": {},
   "outputs": [
    {
     "ename": "AttributeError",
     "evalue": "'DataFrame' object has no attribute 'grantAddress'",
     "output_type": "error",
     "traceback": [
      "\u001b[1;31m---------------------------------------------------------------------------\u001b[0m",
      "\u001b[1;31mAttributeError\u001b[0m                            Traceback (most recent call last)",
      "\u001b[1;32m~\\AppData\\Local\\Temp\\ipykernel_12448\\3485575128.py\u001b[0m in \u001b[0;36m?\u001b[1;34m()\u001b[0m\n\u001b[1;32m----> 1\u001b[1;33m \u001b[0mdf_merge\u001b[0m\u001b[1;33m[\u001b[0m\u001b[0mdf_merge\u001b[0m\u001b[1;33m[\u001b[0m\u001b[1;34m'has_lcs'\u001b[0m\u001b[1;33m]\u001b[0m \u001b[1;33m==\u001b[0m \u001b[1;32mTrue\u001b[0m\u001b[1;33m]\u001b[0m\u001b[1;33m.\u001b[0m\u001b[0mgrantAddress\u001b[0m\u001b[1;33m.\u001b[0m\u001b[0mdescribe\u001b[0m\u001b[1;33m(\u001b[0m\u001b[1;33m)\u001b[0m\u001b[1;33m\u001b[0m\u001b[1;33m\u001b[0m\u001b[0m\n\u001b[0m",
      "\u001b[1;32mc:\\Users\\DELL Admin\\Documents\\ODC\\RegenRangers\\beta-round-vote-analysis\\venvotes2\\lib\\site-packages\\pandas\\core\\generic.py\u001b[0m in \u001b[0;36m?\u001b[1;34m(self, name)\u001b[0m\n\u001b[0;32m   5985\u001b[0m             \u001b[1;32mand\u001b[0m \u001b[0mname\u001b[0m \u001b[1;32mnot\u001b[0m \u001b[1;32min\u001b[0m \u001b[0mself\u001b[0m\u001b[1;33m.\u001b[0m\u001b[0m_accessors\u001b[0m\u001b[1;33m\u001b[0m\u001b[1;33m\u001b[0m\u001b[0m\n\u001b[0;32m   5986\u001b[0m             \u001b[1;32mand\u001b[0m \u001b[0mself\u001b[0m\u001b[1;33m.\u001b[0m\u001b[0m_info_axis\u001b[0m\u001b[1;33m.\u001b[0m\u001b[0m_can_hold_identifiers_and_holds_name\u001b[0m\u001b[1;33m(\u001b[0m\u001b[0mname\u001b[0m\u001b[1;33m)\u001b[0m\u001b[1;33m\u001b[0m\u001b[1;33m\u001b[0m\u001b[0m\n\u001b[0;32m   5987\u001b[0m         ):\n\u001b[0;32m   5988\u001b[0m             \u001b[1;32mreturn\u001b[0m \u001b[0mself\u001b[0m\u001b[1;33m[\u001b[0m\u001b[0mname\u001b[0m\u001b[1;33m]\u001b[0m\u001b[1;33m\u001b[0m\u001b[1;33m\u001b[0m\u001b[0m\n\u001b[1;32m-> 5989\u001b[1;33m         \u001b[1;32mreturn\u001b[0m \u001b[0mobject\u001b[0m\u001b[1;33m.\u001b[0m\u001b[0m__getattribute__\u001b[0m\u001b[1;33m(\u001b[0m\u001b[0mself\u001b[0m\u001b[1;33m,\u001b[0m \u001b[0mname\u001b[0m\u001b[1;33m)\u001b[0m\u001b[1;33m\u001b[0m\u001b[1;33m\u001b[0m\u001b[0m\n\u001b[0m",
      "\u001b[1;31mAttributeError\u001b[0m: 'DataFrame' object has no attribute 'grantAddress'"
     ]
    }
   ],
   "source": [
    "df_merge[df_merge['has_lcs'] == True].grantAddress.describe()   "
   ]
  },
  {
   "cell_type": "code",
   "execution_count": null,
   "metadata": {},
   "outputs": [
    {
     "ename": "NameError",
     "evalue": "name 'df_application' is not defined",
     "output_type": "error",
     "traceback": [
      "\u001b[1;31m---------------------------------------------------------------------------\u001b[0m",
      "\u001b[1;31mNameError\u001b[0m                                 Traceback (most recent call last)",
      "Cell \u001b[1;32mIn[102], line 1\u001b[0m\n\u001b[1;32m----> 1\u001b[0m df_application\u001b[39m.\u001b[39mcolumns\n",
      "\u001b[1;31mNameError\u001b[0m: name 'df_application' is not defined"
     ]
    }
   ],
   "source": [
    "df_application.columns"
   ]
  },
  {
   "cell_type": "code",
   "execution_count": null,
   "metadata": {},
   "outputs": [
    {
     "data": {
      "text/plain": [
       "19    0x18aa467e40e1defb1956708830a343c1d01d3d7c\n",
       "Name: metadata.application.recipient, dtype: object"
      ]
     },
     "execution_count": 95,
     "metadata": {},
     "output_type": "execute_result"
    }
   ],
   "source": [
    "df_application[df_application[\"metadata.application.project.title\"].str.lower().str.contains('jedi')][\"metadata.application.recipient\"]"
   ]
  },
  {
   "cell_type": "code",
   "execution_count": null,
   "metadata": {},
   "outputs": [],
   "source": [
    "jedi_swap = df_merge[df_merge['grantAddress'].str.lower() == str.lower('0x18aa467E40E1deFB1956708830A343c1D01d3D7C')]"
   ]
  },
  {
   "cell_type": "code",
   "execution_count": null,
   "metadata": {},
   "outputs": [
    {
     "data": {
      "text/plain": [
       "9506"
      ]
     },
     "execution_count": 110,
     "metadata": {},
     "output_type": "execute_result"
    }
   ],
   "source": [
    "jedi_swap['voter'].nunique()"
   ]
  },
  {
   "cell_type": "code",
   "execution_count": null,
   "metadata": {},
   "outputs": [
    {
     "data": {
      "text/plain": [
       "(9710,)"
      ]
     },
     "execution_count": 111,
     "metadata": {},
     "output_type": "execute_result"
    }
   ],
   "source": [
    "jedi_swap['voter'].shape"
   ]
  },
  {
   "cell_type": "code",
   "execution_count": null,
   "metadata": {},
   "outputs": [
    {
     "data": {
      "text/plain": [
       "Index(['id', 'projectId', 'applicationId', 'roundId', 'token', 'voter',\n",
       "       'grantAddress', 'amount', 'amountUSD', 'coefficient', 'status',\n",
       "       'last_score_timestamp', 'type', 'success', 'rawScore', 'threshold',\n",
       "       'address', 'seed_same_naive', 'seed_same', 'seed_suspicious',\n",
       "       'less_5_tx', 'less_10_tx', 'interacted_other_ctbt', 'lcs',\n",
       "       'cluster_size_lcs', 'mean_score_lcs', 'max_score_lcs', 'has_lcs',\n",
       "       'count_interaction_with_pool', 'count_interaction_with_toxic',\n",
       "       'count_interaction_with_airdrop_m', 'is_airdrop_master',\n",
       "       'count_interaction_with_tornado', 'count_interaction_with_disperse',\n",
       "       'has_interaction_toxic', 'has_no_pool_interaction',\n",
       "       'has_interaction_airdrop_m', 'has_interaction_tornado',\n",
       "       'has_interaction_disperse', 'interact_less_5tx', 'flagged',\n",
       "       'stakeridoo_detected', 'doge_detected', 'bool_gitcoin_detected',\n",
       "       'odc_detected', 'proposed_coeff'],\n",
       "      dtype='object')"
      ]
     },
     "execution_count": 112,
     "metadata": {},
     "output_type": "execute_result"
    }
   ],
   "source": [
    "jedi_swap.columns"
   ]
  },
  {
   "cell_type": "code",
   "execution_count": null,
   "metadata": {},
   "outputs": [
    {
     "data": {
      "text/plain": [
       "odc_detected                 2374\n",
       "stakeridoo_detected           449\n",
       "doge_detected                  32\n",
       "bool_gitcoin_detected         222\n",
       "is_airdrop_master             567\n",
       "has_interaction_toxic         187\n",
       "has_no_pool_interaction      8440\n",
       "has_interaction_airdrop_m    1355\n",
       "has_interaction_tornado        84\n",
       "has_interaction_disperse      113\n",
       "interact_less_5tx               5\n",
       "has_lcs                       167\n",
       "dtype: int64"
      ]
     },
     "execution_count": 121,
     "metadata": {},
     "output_type": "execute_result"
    }
   ],
   "source": [
    "jedi_swap[[\"odc_detected\", \"stakeridoo_detected\", \"doge_detected\", \"bool_gitcoin_detected\", \"is_airdrop_master\", \"has_interaction_toxic\", \"has_no_pool_interaction\", \"has_interaction_airdrop_m\", \"has_interaction_tornado\", \"has_interaction_disperse\", \"interact_less_5tx\", \"has_lcs\"]].sum()"
   ]
  },
  {
   "cell_type": "code",
   "execution_count": null,
   "metadata": {},
   "outputs": [
    {
     "name": "stderr",
     "output_type": "stream",
     "text": [
      "C:\\Users\\DELL Admin\\AppData\\Local\\Temp\\ipykernel_9816\\525363702.py:1: DtypeWarning: Columns (7) have mixed types. Specify dtype option on import or set low_memory=False.\n",
      "  df_no_lcs= pd.read_csv(os.path.join('C:\\\\Users\\\\DELL Admin\\\\Downloads\\\\Telegram Desktop', f\"n_{CSV_GITCOIN_GRANTS}\"))\n"
     ]
    }
   ],
   "source": [
    "df_no_lcs= pd.read_csv(os.path.join('C:\\\\Users\\\\DELL Admin\\\\Downloads\\\\Telegram Desktop', f\"n_{CSV_GITCOIN_GRANTS}\"))"
   ]
  },
  {
   "cell_type": "code",
   "execution_count": null,
   "metadata": {},
   "outputs": [],
   "source": [
    "bool_old = set(boolean_jaccard) - set(['has_lcs', 'bool_gitcoin_detected'])\n",
    "bool_old = list(bool_old)"
   ]
  },
  {
   "cell_type": "code",
   "execution_count": null,
   "metadata": {},
   "outputs": [
    {
     "data": {
      "text/plain": [
       "is_airdrop_master             5230\n",
       "has_no_pool_interaction      69503\n",
       "stakeridoo_detected           3527\n",
       "has_interaction_tornado       1271\n",
       "seed_suspicious               2319\n",
       "has_interaction_toxic         1763\n",
       "has_interaction_airdrop_m    12198\n",
       "interacted_other_ctbt        22821\n",
       "odc_detected                 19274\n",
       "interact_less_5tx               83\n",
       "has_interaction_disperse      1192\n",
       "flagged                      16274\n",
       "doge_detected                  215\n",
       "dtype: int64"
      ]
     },
     "execution_count": 133,
     "metadata": {},
     "output_type": "execute_result"
    }
   ],
   "source": [
    "df_no_lcs[bool_old].sum(axis=0)"
   ]
  },
  {
   "cell_type": "code",
   "execution_count": null,
   "metadata": {},
   "outputs": [
    {
     "data": {
      "text/plain": [
       "-1479"
      ]
     },
     "execution_count": 134,
     "metadata": {},
     "output_type": "execute_result"
    }
   ],
   "source": [
    "19274 - 20753"
   ]
  },
  {
   "cell_type": "code",
   "execution_count": null,
   "metadata": {},
   "outputs": [
    {
     "data": {
      "text/html": [
       "<div>\n",
       "<style scoped>\n",
       "    .dataframe tbody tr th:only-of-type {\n",
       "        vertical-align: middle;\n",
       "    }\n",
       "\n",
       "    .dataframe tbody tr th {\n",
       "        vertical-align: top;\n",
       "    }\n",
       "\n",
       "    .dataframe thead th {\n",
       "        text-align: right;\n",
       "    }\n",
       "</style>\n",
       "<table border=\"1\" class=\"dataframe\">\n",
       "  <thead>\n",
       "    <tr style=\"text-align: right;\">\n",
       "      <th></th>\n",
       "      <th>grantAddress</th>\n",
       "      <th>voter</th>\n",
       "    </tr>\n",
       "  </thead>\n",
       "  <tbody>\n",
       "    <tr>\n",
       "      <th>0</th>\n",
       "      <td>0x3a5bd1e37b099ae3386d13947b6a90d97675e5e3</td>\n",
       "      <td>197</td>\n",
       "    </tr>\n",
       "    <tr>\n",
       "      <th>1</th>\n",
       "      <td>0x18aa467e40e1defb1956708830a343c1d01d3d7c</td>\n",
       "      <td>167</td>\n",
       "    </tr>\n",
       "    <tr>\n",
       "      <th>2</th>\n",
       "      <td>0x08a3c2a819e3de7aca384c798269b3ce1cd0e437</td>\n",
       "      <td>159</td>\n",
       "    </tr>\n",
       "    <tr>\n",
       "      <th>3</th>\n",
       "      <td>0x99b36fdbc582d113af36a21eba06bfeab7b9be12</td>\n",
       "      <td>157</td>\n",
       "    </tr>\n",
       "    <tr>\n",
       "      <th>4</th>\n",
       "      <td>0xdb0c831283c003686aef40ca228e42bdabf6674c</td>\n",
       "      <td>136</td>\n",
       "    </tr>\n",
       "    <tr>\n",
       "      <th>5</th>\n",
       "      <td>0x5683921269b041fbe66882dd6cadd48b7e5b5817</td>\n",
       "      <td>127</td>\n",
       "    </tr>\n",
       "    <tr>\n",
       "      <th>6</th>\n",
       "      <td>0xe126b3e5d052f1f575828f61feba4f4f2603652a</td>\n",
       "      <td>77</td>\n",
       "    </tr>\n",
       "    <tr>\n",
       "      <th>7</th>\n",
       "      <td>0x4b8810b079eb22ecf2d1f75e08e0abbd6fd87dbf</td>\n",
       "      <td>70</td>\n",
       "    </tr>\n",
       "    <tr>\n",
       "      <th>8</th>\n",
       "      <td>0x01d79bceaeaadfb8fd2f2f53005289cfcf483464</td>\n",
       "      <td>62</td>\n",
       "    </tr>\n",
       "    <tr>\n",
       "      <th>9</th>\n",
       "      <td>0x57ea12a3a8e441f5fe7b1f3af1121097b7d3b6a8</td>\n",
       "      <td>61</td>\n",
       "    </tr>\n",
       "  </tbody>\n",
       "</table>\n",
       "</div>"
      ],
      "text/plain": [
       "                                 grantAddress  voter\n",
       "0  0x3a5bd1e37b099ae3386d13947b6a90d97675e5e3    197\n",
       "1  0x18aa467e40e1defb1956708830a343c1d01d3d7c    167\n",
       "2  0x08a3c2a819e3de7aca384c798269b3ce1cd0e437    159\n",
       "3  0x99b36fdbc582d113af36a21eba06bfeab7b9be12    157\n",
       "4  0xdb0c831283c003686aef40ca228e42bdabf6674c    136\n",
       "5  0x5683921269b041fbe66882dd6cadd48b7e5b5817    127\n",
       "6  0xe126b3e5d052f1f575828f61feba4f4f2603652a     77\n",
       "7  0x4b8810b079eb22ecf2d1f75e08e0abbd6fd87dbf     70\n",
       "8  0x01d79bceaeaadfb8fd2f2f53005289cfcf483464     62\n",
       "9  0x57ea12a3a8e441f5fe7b1f3af1121097b7d3b6a8     61"
      ]
     },
     "execution_count": 139,
     "metadata": {},
     "output_type": "execute_result"
    }
   ],
   "source": [
    "df_lcs_top_grant = df_merge[df_merge['has_lcs'] == True].groupby('grantAddress')['voter'].count().sort_values(ascending=False).reset_index()\n",
    "df_lcs_top_grant.head(10)"
   ]
  },
  {
   "cell_type": "code",
   "execution_count": null,
   "metadata": {},
   "outputs": [],
   "source": [
    "df_application['metadata.application.project.title']"
   ]
  },
  {
   "cell_type": "code",
   "execution_count": null,
   "metadata": {},
   "outputs": [
    {
     "data": {
      "text/plain": [
       "10                                           Lenster\n",
       "19                                          JediSwap\n",
       "167                                        Chainlist\n",
       "24                                         DefiLlama\n",
       "87     Taho - Open Source and Community Owned Wallet\n",
       "105                           Leto | Transfer crypto\n",
       "104                         Via | Cross-chain router\n",
       "73                                           OmniBTC\n",
       "14       Revoke.cash - Helping you stay safe in web3\n",
       "100         BrightID 🔆 Universal Proof of Uniqueness\n",
       "Name: metadata.application.project.title, dtype: object"
      ]
     },
     "execution_count": 150,
     "metadata": {},
     "output_type": "execute_result"
    }
   ],
   "source": [
    "df_application.merge(df_lcs_top_grant, left_on='metadata.application.recipient', right_on='grantAddress', how='left').sort_values(by='voter', ascending=False)['metadata.application.project.title'].head(10)"
   ]
  },
  {
   "cell_type": "code",
   "execution_count": null,
   "metadata": {},
   "outputs": [
    {
     "data": {
      "text/plain": [
       "has_no_pool_interaction\n",
       "True     12670\n",
       "False     1884\n",
       "Name: count, dtype: int64"
      ]
     },
     "execution_count": 156,
     "metadata": {},
     "output_type": "execute_result"
    }
   ],
   "source": [
    "df_merge.drop_duplicates(subset=[\"voter\"])['has_no_pool_interaction'].value_counts()"
   ]
  },
  {
   "cell_type": "code",
   "execution_count": null,
   "metadata": {},
   "outputs": [],
   "source": [
    "df_stake = df_merge.drop_duplicates(subset=[\"voter\"])[df_merge.drop_duplicates(subset=[\"voter\"])['stakeridoo_detected'] == True]"
   ]
  },
  {
   "cell_type": "code",
   "execution_count": null,
   "metadata": {},
   "outputs": [
    {
     "data": {
      "text/html": [
       "<div>\n",
       "<style scoped>\n",
       "    .dataframe tbody tr th:only-of-type {\n",
       "        vertical-align: middle;\n",
       "    }\n",
       "\n",
       "    .dataframe tbody tr th {\n",
       "        vertical-align: top;\n",
       "    }\n",
       "\n",
       "    .dataframe thead th {\n",
       "        text-align: right;\n",
       "    }\n",
       "</style>\n",
       "<table border=\"1\" class=\"dataframe\">\n",
       "  <thead>\n",
       "    <tr style=\"text-align: right;\">\n",
       "      <th></th>\n",
       "      <th>voter</th>\n",
       "      <th>rawScore</th>\n",
       "    </tr>\n",
       "  </thead>\n",
       "  <tbody>\n",
       "    <tr>\n",
       "      <th>486</th>\n",
       "      <td>0x34e2cb7513a50b19f450a067ed5230a86c13a2e9</td>\n",
       "      <td>37.01</td>\n",
       "    </tr>\n",
       "    <tr>\n",
       "      <th>526</th>\n",
       "      <td>0xe4d9f174e9b9f987836030ca0b244a5b4f615869</td>\n",
       "      <td>44.23</td>\n",
       "    </tr>\n",
       "    <tr>\n",
       "      <th>959</th>\n",
       "      <td>0x2fe95ba46d36e6bbc8d3bbc6bf3f18c85c91f3af</td>\n",
       "      <td>34.72</td>\n",
       "    </tr>\n",
       "    <tr>\n",
       "      <th>1592</th>\n",
       "      <td>0xddcfad43fb08c29935f3c6752b3a0d4f64d17b3c</td>\n",
       "      <td>39.10</td>\n",
       "    </tr>\n",
       "    <tr>\n",
       "      <th>2291</th>\n",
       "      <td>0x723aadf9329a770c8a77f205eaacc879b6e83f55</td>\n",
       "      <td>31.70</td>\n",
       "    </tr>\n",
       "    <tr>\n",
       "      <th>...</th>\n",
       "      <td>...</td>\n",
       "      <td>...</td>\n",
       "    </tr>\n",
       "    <tr>\n",
       "      <th>72265</th>\n",
       "      <td>0xfc7d1491dfcdcf6e72bf202e6d3bf5cc55e5b5ee</td>\n",
       "      <td>43.78</td>\n",
       "    </tr>\n",
       "    <tr>\n",
       "      <th>74902</th>\n",
       "      <td>0xe01ada32ad63ea1e021a3dd9c1c9baedfd5fbf11</td>\n",
       "      <td>37.12</td>\n",
       "    </tr>\n",
       "    <tr>\n",
       "      <th>76186</th>\n",
       "      <td>0xb7c1c4290946efc9fb8e4c47a65899f98f448272</td>\n",
       "      <td>31.80</td>\n",
       "    </tr>\n",
       "    <tr>\n",
       "      <th>77810</th>\n",
       "      <td>0xa437edb5987318649c05386801135a0c0bfcb701</td>\n",
       "      <td>33.15</td>\n",
       "    </tr>\n",
       "    <tr>\n",
       "      <th>79712</th>\n",
       "      <td>0x110b8b6717c4da32d86a8d3ef78964d44f9d61f0</td>\n",
       "      <td>32.02</td>\n",
       "    </tr>\n",
       "  </tbody>\n",
       "</table>\n",
       "<p>62 rows × 2 columns</p>\n",
       "</div>"
      ],
      "text/plain": [
       "                                            voter  rawScore\n",
       "486    0x34e2cb7513a50b19f450a067ed5230a86c13a2e9     37.01\n",
       "526    0xe4d9f174e9b9f987836030ca0b244a5b4f615869     44.23\n",
       "959    0x2fe95ba46d36e6bbc8d3bbc6bf3f18c85c91f3af     34.72\n",
       "1592   0xddcfad43fb08c29935f3c6752b3a0d4f64d17b3c     39.10\n",
       "2291   0x723aadf9329a770c8a77f205eaacc879b6e83f55     31.70\n",
       "...                                           ...       ...\n",
       "72265  0xfc7d1491dfcdcf6e72bf202e6d3bf5cc55e5b5ee     43.78\n",
       "74902  0xe01ada32ad63ea1e021a3dd9c1c9baedfd5fbf11     37.12\n",
       "76186  0xb7c1c4290946efc9fb8e4c47a65899f98f448272     31.80\n",
       "77810  0xa437edb5987318649c05386801135a0c0bfcb701     33.15\n",
       "79712  0x110b8b6717c4da32d86a8d3ef78964d44f9d61f0     32.02\n",
       "\n",
       "[62 rows x 2 columns]"
      ]
     },
     "execution_count": 176,
     "metadata": {},
     "output_type": "execute_result"
    }
   ],
   "source": [
    "df_stake[df_stake.rawScore > 30][['voter', 'rawScore']]"
   ]
  },
  {
   "cell_type": "code",
   "execution_count": null,
   "metadata": {},
   "outputs": [],
   "source": [
    "df_merge[df_merge['voter'].isin(['0xbd125f7c40e252a090871b865aca471f5cb8ee01', '0xb58f2521f5a05cfbee6f88171ac94ac088888888', '0x34e2cb7513a50b19f450a067ed5230a86c13a2e9'])].to_csv((\"cluster.csv\"), index=False)"
   ]
  },
  {
   "cell_type": "code",
   "execution_count": null,
   "metadata": {},
   "outputs": [],
   "source": [
    "df_test_vote = pd.read_csv('C:/Users/DELL Admin/Downloads/Gitcoin Citizens  Round #1_ Retroactive funding  (1).csv')"
   ]
  },
  {
   "cell_type": "code",
   "execution_count": null,
   "metadata": {},
   "outputs": [
    {
     "data": {
      "text/plain": [
       "Index(['id', 'transaction', 'blockNumber', 'projectId', 'applicationId',\n",
       "       'roundId', 'voter', 'grantAddress', 'token', 'amount', 'amountUSD',\n",
       "       'amountRoundToken', 'project_id', 'title', 'status', 'utc_time'],\n",
       "      dtype='object')"
      ]
     },
     "execution_count": 109,
     "metadata": {},
     "output_type": "execute_result"
    }
   ],
   "source": [
    "df_test_vote.columns"
   ]
  },
  {
   "cell_type": "code",
   "execution_count": null,
   "metadata": {},
   "outputs": [
    {
     "data": {
      "text/plain": [
       "39657.92561761"
      ]
     },
     "execution_count": 112,
     "metadata": {},
     "output_type": "execute_result"
    }
   ],
   "source": [
    "df_test_vote.amountUSD.sum()"
   ]
  },
  {
   "cell_type": "code",
   "execution_count": null,
   "metadata": {},
   "outputs": [
    {
     "data": {
      "text/plain": [
       "'0x4193c793a5a082818c36b4736f9a8c8eaabfa62bc0d050f8e9f51a2ccf68a089'"
      ]
     },
     "execution_count": 107,
     "metadata": {},
     "output_type": "execute_result"
    }
   ],
   "source": [
    "df_test_vote.sort_values(by='blockNumber', ascending=True).loc[0, 'transaction']"
   ]
  },
  {
   "cell_type": "code",
   "execution_count": null,
   "metadata": {},
   "outputs": [],
   "source": [
    "df_mer"
   ]
  }
 ],
 "metadata": {
  "kernelspec": {
   "display_name": "venvotes",
   "language": "python",
   "name": "python3"
  },
  "language_info": {
   "codemirror_mode": {
    "name": "ipython",
    "version": 3
   },
   "file_extension": ".py",
   "mimetype": "text/x-python",
   "name": "python",
   "nbconvert_exporter": "python",
   "pygments_lexer": "ipython3",
   "version": "3.10.9"
  },
  "orig_nbformat": 4
 },
 "nbformat": 4,
 "nbformat_minor": 2
}
