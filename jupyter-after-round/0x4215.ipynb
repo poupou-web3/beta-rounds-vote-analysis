{
 "cells": [
  {
   "attachments": {},
   "cell_type": "markdown",
   "metadata": {},
   "source": [
    "# vote_coefficients_0x421510312C40486965767be5Ea603Aa8a5707983_2\n"
   ]
  },
  {
   "cell_type": "code",
   "execution_count": 62,
   "metadata": {},
   "outputs": [],
   "source": [
    "import os\n",
    "from pathlib import Path\n",
    "import numpy as np\n",
    "\n",
    "import pandas as pd\n",
    "\n",
    "from sbdata.FlipsideApi import FlipsideApi\n",
    "\n",
    "# Set path to data folder\n",
    "current_dir = Path(os.getcwd())\n",
    "PATH_TO_EXPORT = os.path.join(current_dir.parent.parent, 'tx_data', 'all_beta_rounds')\n",
    "DATA_DIR = os.path.join(current_dir.parent.parent, 'data-regen-rangers')\n",
    "DATA_DIR_GITCOIN = os.path.join(current_dir.parent.parent, 'data-gitcoin')\n",
    "CSV_GITCOIN_GRANTS = 'vote_coefficients_0x421510312C40486965767be5Ea603Aa8a5707983_2.csv'\n",
    "\n",
    "# read the address from oss grant\n",
    "\n",
    "api_key = os.environ['FLIPSIDE_API_KEY']\n",
    "flipside_api = FlipsideApi(api_key, max_address=400)\n",
    "PATH_TO_VOTES = os.path.join(DATA_DIR, \"votes_baoki.csv\")\n",
    "PATH_TO_GRANTS = os.path.join(DATA_DIR, \"all-allo-rounds.csv\")\n",
    "PATH_TO_PROJECTS = os.path.join(DATA_DIR, \"projects_QmQurt.csv\")\n",
    "PATH_TO_VOTES_GITCOIN = os.path.join(DATA_DIR_GITCOIN, CSV_GITCOIN_GRANTS)\n",
    "\n",
    "# load data\n",
    "df_votes = pd.read_csv(PATH_TO_VOTES_GITCOIN)\n",
    "df_grants = pd.read_csv(PATH_TO_GRANTS)\n",
    "df_application = pd.read_csv(PATH_TO_PROJECTS)\n",
    "# Lowercase all addresses because flipside api return lowercase address\n",
    "#id,projectId,applicationId,roundId,token,voter,grantAddress,amount,amountUSD,coefficient,status,last_score_timestamp,type,success,rawScore,threshold\n",
    "df_grants['Round ID'] = df_grants['Round ID'].str.lower()\n",
    "str_columns_votes = ['id', 'projectId', 'roundId', 'voter', 'grantAddress']\n",
    "df_votes[str_columns_votes] = df_votes[str_columns_votes].applymap(lambda x: x.lower())\n",
    "\n",
    "str_columns_application = ['id', 'roundId', 'metadata.application.round', 'metadata.application.recipient']\n",
    "df_application[str_columns_application] = df_application[str_columns_application].applymap(lambda x: str(x).lower())\n",
    "\n",
    "# round_id = df_grants[df_grants['Round name'] == 'Web3 Community and Education']['Round ID'].values[0]\n",
    "array_unique_address = df_votes['voter'].unique()\n",
    "\n",
    "array_unique_address = np.char.lower(array_unique_address.astype(str))\n"
   ]
  },
  {
   "cell_type": "code",
   "execution_count": 63,
   "metadata": {},
   "outputs": [
    {
     "data": {
      "text/plain": [
       "(1970, 16)"
      ]
     },
     "execution_count": 63,
     "metadata": {},
     "output_type": "execute_result"
    }
   ],
   "source": [
    "df_votes.shape"
   ]
  },
  {
   "cell_type": "code",
   "execution_count": 64,
   "metadata": {},
   "outputs": [],
   "source": [
    "from sbutils import LoadData\n",
    "\n",
    "# Load data\n",
    "data_loader = LoadData.LoadData(PATH_TO_EXPORT)\n",
    "df_tx = data_loader.create_df_tx('ethereum', array_unique_address)"
   ]
  },
  {
   "cell_type": "code",
   "execution_count": 65,
   "metadata": {},
   "outputs": [
    {
     "data": {
      "text/plain": [
       "495"
      ]
     },
     "execution_count": 65,
     "metadata": {},
     "output_type": "execute_result"
    }
   ],
   "source": [
    "len(array_unique_address)"
   ]
  },
  {
   "cell_type": "code",
   "execution_count": 66,
   "metadata": {},
   "outputs": [
    {
     "data": {
      "text/plain": [
       "495"
      ]
     },
     "execution_count": 66,
     "metadata": {},
     "output_type": "execute_result"
    }
   ],
   "source": [
    "df_tx.EOA.nunique()"
   ]
  },
  {
   "cell_type": "code",
   "execution_count": 67,
   "metadata": {},
   "outputs": [
    {
     "data": {
      "text/plain": [
       "array([], dtype=object)"
      ]
     },
     "execution_count": 67,
     "metadata": {},
     "output_type": "execute_result"
    }
   ],
   "source": [
    "c = np.setxor1d(array_unique_address, df_tx.EOA.values)\n",
    "c"
   ]
  },
  {
   "attachments": {},
   "cell_type": "markdown",
   "metadata": {},
   "source": [
    "## Computing legos booleans"
   ]
  },
  {
   "cell_type": "code",
   "execution_count": 68,
   "metadata": {},
   "outputs": [],
   "source": [
    "from sblegos.TransactionAnalyser import TransactionAnalyser as txa\n",
    "tx_analyser = txa(df_tx, df_address=pd.DataFrame(np.intersect1d(df_tx.EOA.unique(), array_unique_address)))"
   ]
  },
  {
   "attachments": {},
   "cell_type": "markdown",
   "metadata": {},
   "source": [
    "use matching address because some addresses are not in the extracted data set"
   ]
  },
  {
   "cell_type": "code",
   "execution_count": 69,
   "metadata": {},
   "outputs": [
    {
     "data": {
      "text/html": [
       "<div>\n",
       "<style scoped>\n",
       "    .dataframe tbody tr th:only-of-type {\n",
       "        vertical-align: middle;\n",
       "    }\n",
       "\n",
       "    .dataframe tbody tr th {\n",
       "        vertical-align: top;\n",
       "    }\n",
       "\n",
       "    .dataframe thead th {\n",
       "        text-align: right;\n",
       "    }\n",
       "</style>\n",
       "<table border=\"1\" class=\"dataframe\">\n",
       "  <thead>\n",
       "    <tr style=\"text-align: right;\">\n",
       "      <th></th>\n",
       "      <th>address</th>\n",
       "    </tr>\n",
       "  </thead>\n",
       "  <tbody>\n",
       "    <tr>\n",
       "      <th>0</th>\n",
       "      <td>0x0110e6917a7bc72afef832989295d5f9ff539bb1</td>\n",
       "    </tr>\n",
       "    <tr>\n",
       "      <th>1</th>\n",
       "      <td>0x0117780bdaf2a9ea19ed897ab7db710452a7c00f</td>\n",
       "    </tr>\n",
       "  </tbody>\n",
       "</table>\n",
       "</div>"
      ],
      "text/plain": [
       "                                      address\n",
       "0  0x0110e6917a7bc72afef832989295d5f9ff539bb1\n",
       "1  0x0117780bdaf2a9ea19ed897ab7db710452a7c00f"
      ]
     },
     "execution_count": 69,
     "metadata": {},
     "output_type": "execute_result"
    }
   ],
   "source": [
    "df_matching_address = pd.DataFrame(df_tx.EOA.unique(), columns=[\"address\"])\n",
    "df_matching_address.head(2)"
   ]
  },
  {
   "attachments": {},
   "cell_type": "markdown",
   "metadata": {},
   "source": [
    "Compute the boolean "
   ]
  },
  {
   "attachments": {},
   "cell_type": "markdown",
   "metadata": {},
   "source": [
    "less than 10 x transaction are not performant legos so we don't use it, has same seed is computed as an intermediarry to get the seed_suspicious flag"
   ]
  },
  {
   "cell_type": "code",
   "execution_count": 70,
   "metadata": {},
   "outputs": [],
   "source": [
    "df_matching_address['seed_same_naive'] = df_matching_address.loc[:, 'address'].apply(lambda x : tx_analyser.has_same_seed_naive(x))\n",
    "df_matching_address['seed_same'] = df_matching_address.loc[:, 'address'].apply(lambda x : tx_analyser.has_same_seed(x))\n",
    "df_matching_address['seed_suspicious'] = df_matching_address.loc[:, 'seed_same_naive'].ne(df_matching_address.loc[:, 'seed_same'])\n",
    "df_matching_address['less_5_tx'] = df_matching_address.loc[:, 'address'].apply(lambda x : tx_analyser.has_less_than_n_transactions(x, 5))\n",
    "# df_matching_address['less_10_tx'] = df_matching_address.loc[:, 'address'].apply(lambda x : tx_analyser.has_less_than_n_transactions(x, 10))\n",
    "df_matching_address['interacted_other_ctbt'] = df_matching_address.loc[:, 'address'].apply(lambda x : tx_analyser.has_interacted_with_other_contributor(x))"
   ]
  },
  {
   "cell_type": "code",
   "execution_count": 71,
   "metadata": {},
   "outputs": [
    {
     "name": "stdout",
     "output_type": "stream",
     "text": [
      "Number of voters: 495\n"
     ]
    }
   ],
   "source": [
    "print(f'Number of voters: {len(df_matching_address)}')"
   ]
  },
  {
   "cell_type": "code",
   "execution_count": 72,
   "metadata": {},
   "outputs": [
    {
     "data": {
      "text/plain": [
       "address                  0x0110e6917a7bc72afef832989295d5f9ff539bb10x01...\n",
       "seed_same_naive                                                        256\n",
       "seed_same                                                              266\n",
       "seed_suspicious                                                         12\n",
       "less_5_tx                                                               69\n",
       "interacted_other_ctbt                                                  128\n",
       "dtype: object"
      ]
     },
     "execution_count": 72,
     "metadata": {},
     "output_type": "execute_result"
    }
   ],
   "source": [
    "df_matching_address.sum()"
   ]
  },
  {
   "attachments": {},
   "cell_type": "markdown",
   "metadata": {},
   "source": [
    "### Investigating the boolean seed suspicious"
   ]
  },
  {
   "cell_type": "code",
   "execution_count": 73,
   "metadata": {},
   "outputs": [
    {
     "data": {
      "text/html": [
       "<div>\n",
       "<style scoped>\n",
       "    .dataframe tbody tr th:only-of-type {\n",
       "        vertical-align: middle;\n",
       "    }\n",
       "\n",
       "    .dataframe tbody tr th {\n",
       "        vertical-align: top;\n",
       "    }\n",
       "\n",
       "    .dataframe thead th {\n",
       "        text-align: right;\n",
       "    }\n",
       "</style>\n",
       "<table border=\"1\" class=\"dataframe\">\n",
       "  <thead>\n",
       "    <tr style=\"text-align: right;\">\n",
       "      <th></th>\n",
       "      <th>address</th>\n",
       "      <th>seed_same_naive</th>\n",
       "      <th>seed_same</th>\n",
       "      <th>seed_suspicious</th>\n",
       "      <th>less_5_tx</th>\n",
       "      <th>interacted_other_ctbt</th>\n",
       "    </tr>\n",
       "  </thead>\n",
       "  <tbody>\n",
       "    <tr>\n",
       "      <th>81</th>\n",
       "      <td>0x33b15ac83ddb2d13ead0e90834630007108b0f5c</td>\n",
       "      <td>False</td>\n",
       "      <td>True</td>\n",
       "      <td>True</td>\n",
       "      <td>False</td>\n",
       "      <td>False</td>\n",
       "    </tr>\n",
       "    <tr>\n",
       "      <th>122</th>\n",
       "      <td>0x48b6db5bc3bcb1d29d3cdd95e97478dee74c992a</td>\n",
       "      <td>False</td>\n",
       "      <td>True</td>\n",
       "      <td>True</td>\n",
       "      <td>False</td>\n",
       "      <td>False</td>\n",
       "    </tr>\n",
       "    <tr>\n",
       "      <th>148</th>\n",
       "      <td>0x5a38085a8fdc96da4bea187c3dfe7963cb6f1b36</td>\n",
       "      <td>False</td>\n",
       "      <td>True</td>\n",
       "      <td>True</td>\n",
       "      <td>False</td>\n",
       "      <td>True</td>\n",
       "    </tr>\n",
       "    <tr>\n",
       "      <th>212</th>\n",
       "      <td>0x7493b0e130de151226f165395e17093cf87e6c0b</td>\n",
       "      <td>False</td>\n",
       "      <td>True</td>\n",
       "      <td>True</td>\n",
       "      <td>False</td>\n",
       "      <td>False</td>\n",
       "    </tr>\n",
       "    <tr>\n",
       "      <th>252</th>\n",
       "      <td>0x88dbfc20d2f2bc004d4dde1947deda4cd478dd0d</td>\n",
       "      <td>False</td>\n",
       "      <td>True</td>\n",
       "      <td>True</td>\n",
       "      <td>False</td>\n",
       "      <td>False</td>\n",
       "    </tr>\n",
       "    <tr>\n",
       "      <th>262</th>\n",
       "      <td>0x8e22a4c2901da99777d76f80f29640fc81ae96bb</td>\n",
       "      <td>False</td>\n",
       "      <td>True</td>\n",
       "      <td>True</td>\n",
       "      <td>False</td>\n",
       "      <td>False</td>\n",
       "    </tr>\n",
       "    <tr>\n",
       "      <th>312</th>\n",
       "      <td>0xa68168514efb41ff40c410f35bde87ff7665730b</td>\n",
       "      <td>False</td>\n",
       "      <td>True</td>\n",
       "      <td>True</td>\n",
       "      <td>False</td>\n",
       "      <td>False</td>\n",
       "    </tr>\n",
       "    <tr>\n",
       "      <th>315</th>\n",
       "      <td>0xa7ca400d49bba87eb606ee05af93689bd21fab99</td>\n",
       "      <td>False</td>\n",
       "      <td>True</td>\n",
       "      <td>True</td>\n",
       "      <td>False</td>\n",
       "      <td>True</td>\n",
       "    </tr>\n",
       "    <tr>\n",
       "      <th>412</th>\n",
       "      <td>0xd48339d2d8da11a8f16ef696f0a42f495177fbf9</td>\n",
       "      <td>False</td>\n",
       "      <td>True</td>\n",
       "      <td>True</td>\n",
       "      <td>False</td>\n",
       "      <td>False</td>\n",
       "    </tr>\n",
       "    <tr>\n",
       "      <th>429</th>\n",
       "      <td>0xdb9b58a23cbac3e21b3a0516c40958104e3f7119</td>\n",
       "      <td>False</td>\n",
       "      <td>True</td>\n",
       "      <td>True</td>\n",
       "      <td>False</td>\n",
       "      <td>False</td>\n",
       "    </tr>\n",
       "    <tr>\n",
       "      <th>450</th>\n",
       "      <td>0xe64113140960528f6af928d7ca4f45d192286a7a</td>\n",
       "      <td>False</td>\n",
       "      <td>True</td>\n",
       "      <td>True</td>\n",
       "      <td>False</td>\n",
       "      <td>False</td>\n",
       "    </tr>\n",
       "    <tr>\n",
       "      <th>464</th>\n",
       "      <td>0xee6c21046ebf0250db07d3b136251de3d86decf5</td>\n",
       "      <td>True</td>\n",
       "      <td>False</td>\n",
       "      <td>True</td>\n",
       "      <td>False</td>\n",
       "      <td>True</td>\n",
       "    </tr>\n",
       "  </tbody>\n",
       "</table>\n",
       "</div>"
      ],
      "text/plain": [
       "                                        address  seed_same_naive  seed_same   \n",
       "81   0x33b15ac83ddb2d13ead0e90834630007108b0f5c            False       True  \\\n",
       "122  0x48b6db5bc3bcb1d29d3cdd95e97478dee74c992a            False       True   \n",
       "148  0x5a38085a8fdc96da4bea187c3dfe7963cb6f1b36            False       True   \n",
       "212  0x7493b0e130de151226f165395e17093cf87e6c0b            False       True   \n",
       "252  0x88dbfc20d2f2bc004d4dde1947deda4cd478dd0d            False       True   \n",
       "262  0x8e22a4c2901da99777d76f80f29640fc81ae96bb            False       True   \n",
       "312  0xa68168514efb41ff40c410f35bde87ff7665730b            False       True   \n",
       "315  0xa7ca400d49bba87eb606ee05af93689bd21fab99            False       True   \n",
       "412  0xd48339d2d8da11a8f16ef696f0a42f495177fbf9            False       True   \n",
       "429  0xdb9b58a23cbac3e21b3a0516c40958104e3f7119            False       True   \n",
       "450  0xe64113140960528f6af928d7ca4f45d192286a7a            False       True   \n",
       "464  0xee6c21046ebf0250db07d3b136251de3d86decf5             True      False   \n",
       "\n",
       "     seed_suspicious  less_5_tx  interacted_other_ctbt  \n",
       "81              True      False                  False  \n",
       "122             True      False                  False  \n",
       "148             True      False                   True  \n",
       "212             True      False                  False  \n",
       "252             True      False                  False  \n",
       "262             True      False                  False  \n",
       "312             True      False                  False  \n",
       "315             True      False                   True  \n",
       "412             True      False                  False  \n",
       "429             True      False                  False  \n",
       "450             True      False                  False  \n",
       "464             True      False                   True  "
      ]
     },
     "execution_count": 73,
     "metadata": {},
     "output_type": "execute_result"
    }
   ],
   "source": [
    "df_matching_address[df_matching_address['seed_suspicious'] == True]"
   ]
  },
  {
   "cell_type": "code",
   "execution_count": 74,
   "metadata": {},
   "outputs": [],
   "source": [
    "# projects_voted = df_votes[df_votes['voter'] == '0xc28064b875ae25f9a2ca28c08f116a5c26229f69']\n",
    "# print(f'Number of votes {projects_voted.shape[0]} Number of projects voted: {projects_voted.grantAddress.nunique()}')\n",
    "# # Merge the project the user voted for and the projects \n",
    "# projects_voted.merge(df_application, left_on='grantAddress', right_on='metadata.application.recipient', how='left').drop_duplicates(subset='grantAddress').loc[:, ['grantAddress', 'metadata.application.project.title', 'status', 'metadata.application.round']].reset_index(drop=True)"
   ]
  },
  {
   "attachments": {},
   "cell_type": "markdown",
   "metadata": {},
   "source": [
    "Some of the projects he donated to are in the list of Rejected projects showing that this address is indeed a sybil. And may have contributed to ohter fraudulent projects."
   ]
  },
  {
   "attachments": {},
   "cell_type": "markdown",
   "metadata": {},
   "source": [
    "- Pulsar is not very active and is forked code for the most part\n",
    "- Fusion not very active on github but has a lot of activity on twitter \n",
    "- Share suspicious Github with no activity, twitter does not exists: suspicious\n",
    "\n",
    "Other projects are ok"
   ]
  },
  {
   "cell_type": "code",
   "execution_count": 75,
   "metadata": {},
   "outputs": [],
   "source": [
    "# projects_voted = df_votes[df_votes['voter'] == '0x61ffe691821291d02e9ba5d33098adcee71a3a17']\n",
    "# print(f'Number of votes {projects_voted.shape[0]} Number of projects voted: {projects_voted.grantAddress.nunique()}')\n",
    "# # Merge the project the user voted for and the projects \n",
    "# projects_voted.merge(df_application, left_on='grantAddress', right_on='metadata.application.recipient', how='left').drop_duplicates(subset='grantAddress').loc[:, ['grantAddress', 'metadata.application.project.title']].reset_index(drop=True)"
   ]
  },
  {
   "cell_type": "code",
   "execution_count": 76,
   "metadata": {},
   "outputs": [],
   "source": [
    "# projects_voted = df_votes[df_votes['voter'] == '0xe51200a4d161935fc311ed8a0401feb1abf20e3a']\n",
    "# print(f'Number of votes {projects_voted.shape[0]} Number of projects voted: {projects_voted.grantAddress.nunique()}')\n",
    "# # Merge the project the user voted for and the projects \n",
    "# projects_voted.merge(df_application, left_on='grantAddress', right_on='metadata.application.recipient', how='left').drop_duplicates(subset='grantAddress').loc[:, ['grantAddress', 'metadata.application.project.title']].reset_index(drop=True)"
   ]
  },
  {
   "attachments": {},
   "cell_type": "markdown",
   "metadata": {},
   "source": [
    "The boolean seed suspicious is not relevant for that round we will not use it for the analysis."
   ]
  },
  {
   "attachments": {},
   "cell_type": "markdown",
   "metadata": {},
   "source": [
    "### Computing the new dex interaction score\n",
    "It was investigated in another notebook "
   ]
  },
  {
   "cell_type": "code",
   "execution_count": 77,
   "metadata": {},
   "outputs": [],
   "source": [
    "def get_interacted_address(from_address, to_address, address):\n",
    "    if from_address == address:\n",
    "        return to_address\n",
    "    else:\n",
    "        return from_address\n",
    "\n",
    "def count_interaction_with_any(tx_analyser, address, array_address):\n",
    "    \"\"\"\n",
    "    Return an integer of the number of interactions with the addresses in the array_address\n",
    "    Parameters\n",
    "    ----------\n",
    "    address : str\n",
    "        The address to check\n",
    "\n",
    "    Returns\n",
    "    -------\n",
    "    count_interaction_with_any : int\n",
    "        The number of interactions with the addresses in the array_address\n",
    "    \"\"\"\n",
    "    tx_analyser.set_group_by_sorted_EOA()\n",
    "\n",
    "    df = tx_analyser.gb_EOA_sorted.get_group(address)\n",
    "    address_interacted = df.apply(lambda x: get_interacted_address(x['from_address'], x['to_address'], address), axis=1)\n",
    "    tx_boolean_interacted = address_interacted.isin(array_address)\n",
    "    return tx_boolean_interacted.sum()\n",
    "\n",
    "def has_interacted_with_any(tx_analyser, address, array_address):\n",
    "    \"\"\"\n",
    "    Return a boolean whether the address has interacted with any address in the array_address\n",
    "    Parameters\n",
    "    ----------\n",
    "    address : str\n",
    "        The address to check\n",
    "\n",
    "    Returns\n",
    "    -------\n",
    "    has_interacted_with_any : bool\n",
    "        True if the address has interacted with one or more of the addresses in the array_address\n",
    "    \"\"\"\n",
    "    count_interaction_with_any = count_interaction_with_any(tx_analyser, address, array_address)\n",
    "    return count_interaction_with_any > 0"
   ]
  },
  {
   "cell_type": "code",
   "execution_count": 78,
   "metadata": {},
   "outputs": [],
   "source": [
    "label_query = '''\n",
    "SELECT ADDRESS, CREATOR, LABEL_TYPE, ADDRESS_NAME, PROJECT_NAME\n",
    "FROM crosschain.core.address_labels \n",
    "WHERE BLOCKCHAIN='ethereum'\n",
    "AND LABEL_SUBTYPE = 'pool' \n",
    ";'''\n",
    "df_label = flipside_api.execute_query(label_query)"
   ]
  },
  {
   "cell_type": "code",
   "execution_count": 79,
   "metadata": {},
   "outputs": [],
   "source": [
    "# extract all the pool addresses\n",
    "array_pool_address = df_label['address'].unique()"
   ]
  },
  {
   "cell_type": "code",
   "execution_count": 80,
   "metadata": {},
   "outputs": [],
   "source": [
    "tx_analyser.set_group_by_sorted_EOA()"
   ]
  },
  {
   "cell_type": "code",
   "execution_count": 81,
   "metadata": {},
   "outputs": [],
   "source": [
    "# Compute the number of interactions with any of the pools for each address\n",
    "df_matching_address['count_interaction_with_pool'] = df_matching_address['address'].apply(lambda x: count_interaction_with_any(tx_analyser, x, array_pool_address))"
   ]
  },
  {
   "cell_type": "code",
   "execution_count": 82,
   "metadata": {},
   "outputs": [
    {
     "data": {
      "text/plain": [
       "0.24646464646464647"
      ]
     },
     "execution_count": 82,
     "metadata": {},
     "output_type": "execute_result"
    }
   ],
   "source": [
    "(df_matching_address['count_interaction_with_pool'] > 0).sum() / len(df_matching_address)"
   ]
  },
  {
   "cell_type": "code",
   "execution_count": 83,
   "metadata": {},
   "outputs": [],
   "source": [
    "label_query = '''\n",
    "SELECT DISTINCT(LABEL_SUBTYPE)\n",
    "FROM crosschain.core.address_labels \n",
    "WHERE BLOCKCHAIN='ethereum'\n",
    ";'''\n",
    "df_distinct_labels = flipside_api.execute_query(label_query)"
   ]
  },
  {
   "cell_type": "code",
   "execution_count": 84,
   "metadata": {},
   "outputs": [
    {
     "data": {
      "text/plain": [
       "array(['chadmin', 'router', 'multisig', 'airdrop_contract',\n",
       "       'deposit_wallet', 'staking_contract', 'marketplace', 'foundation',\n",
       "       'bridge', 'token_contract', 'mint_burn', 'mint_contract',\n",
       "       'contract_deployer', 'nf_token_contract', 'token_distribution',\n",
       "       'nf_position_manager', 'governance', 'pool', 'vault',\n",
       "       'general_contract', 'mining_pool', 'donation_address',\n",
       "       'fee_wallet', 'cold_wallet', 'escrow', 'reserve', 'swap_router',\n",
       "       'hot_wallet', 'strategy', 'dao', 'rewards', 'voting', 'toxic',\n",
       "       'distributor_cex', 'swap_contract', 'treasury', 'token_sale',\n",
       "       'oracle', 'aggregator_contract'], dtype=object)"
      ]
     },
     "execution_count": 84,
     "metadata": {},
     "output_type": "execute_result"
    }
   ],
   "source": [
    "df_distinct_labels.label_subtype.unique()"
   ]
  },
  {
   "attachments": {},
   "cell_type": "markdown",
   "metadata": {},
   "source": [
    "From these tags lets flag any address that have interacted with a toxic wallet"
   ]
  },
  {
   "cell_type": "code",
   "execution_count": 85,
   "metadata": {},
   "outputs": [],
   "source": [
    "label_query = '''\n",
    "SELECT ADDRESS, CREATOR, LABEL_TYPE, ADDRESS_NAME, PROJECT_NAME\n",
    "FROM crosschain.core.address_labels \n",
    "WHERE BLOCKCHAIN='ethereum'\n",
    "AND LABEL_SUBTYPE = 'toxic'\n",
    ";'''\n",
    "df_toxic = flipside_api.execute_query(label_query)"
   ]
  },
  {
   "cell_type": "code",
   "execution_count": 86,
   "metadata": {},
   "outputs": [
    {
     "data": {
      "text/plain": [
       "(4857, 6)"
      ]
     },
     "execution_count": 86,
     "metadata": {},
     "output_type": "execute_result"
    }
   ],
   "source": [
    "df_toxic.shape"
   ]
  },
  {
   "cell_type": "code",
   "execution_count": 87,
   "metadata": {},
   "outputs": [],
   "source": [
    "# Compute the number of interactions with any of the scam for each address\n",
    "df_matching_address['count_interaction_with_toxic'] = df_matching_address['address'].apply(lambda x: count_interaction_with_any(tx_analyser, x, df_toxic['address'].unique()))"
   ]
  },
  {
   "cell_type": "code",
   "execution_count": 88,
   "metadata": {},
   "outputs": [
    {
     "name": "stdout",
     "output_type": "stream",
     "text": [
      "Percentage of addresses that have interacted with a toxic address: 1%\n"
     ]
    }
   ],
   "source": [
    "print(f'Percentage of addresses that have interacted with a toxic address: {int((df_matching_address[\"count_interaction_with_toxic\"] > 0).sum() / len(df_matching_address) *100)}%')"
   ]
  },
  {
   "cell_type": "code",
   "execution_count": 89,
   "metadata": {},
   "outputs": [],
   "source": [
    "tag_query = '''\n",
    "SELECT DISTINCT(TAG_TYPE)\n",
    "FROM crosschain.core.address_tags \n",
    "WHERE BLOCKCHAIN='ethereum'\n",
    ";'''\n",
    "df_distinct_tags = flipside_api.execute_query(tag_query)"
   ]
  },
  {
   "cell_type": "code",
   "execution_count": 90,
   "metadata": {},
   "outputs": [
    {
     "data": {
      "text/plain": [
       "array(['contract', 'Aave Delegates', 'dex', 'chainlink oracle', 'NFT',\n",
       "       'cex', 'dydx delegate', 'nft', 'Balancer Delegates', 'activity',\n",
       "       'wallet'], dtype=object)"
      ]
     },
     "execution_count": 90,
     "metadata": {},
     "output_type": "execute_result"
    }
   ],
   "source": [
    "df_distinct_tags.tag_type.values"
   ]
  },
  {
   "attachments": {},
   "cell_type": "markdown",
   "metadata": {},
   "source": [
    "I found the tag_name \"airdrop master\" could be interesting "
   ]
  },
  {
   "cell_type": "code",
   "execution_count": 91,
   "metadata": {},
   "outputs": [],
   "source": [
    "query_airdrop_master = '''\n",
    "SELECT BLOCKCHAIN, CREATOR, ADDRESS, TAG_NAME\n",
    "FROM crosschain.core.address_tags \n",
    "WHERE BLOCKCHAIN='ethereum'\n",
    "AND TAG_NAME = 'airdrop master'\n",
    ";\n",
    "'''\n",
    "df_airdrop_master = flipside_api.execute_query(query_airdrop_master)"
   ]
  },
  {
   "cell_type": "code",
   "execution_count": 92,
   "metadata": {},
   "outputs": [
    {
     "name": "stdout",
     "output_type": "stream",
     "text": [
      "Percentage of addresses that interacted with airdrop master: 15%\n"
     ]
    }
   ],
   "source": [
    "# Compute the number of interactions with any of the aidrop for each address\n",
    "df_matching_address['count_interaction_with_airdrop_m'] = df_matching_address['address'].apply(lambda x: count_interaction_with_any(tx_analyser, x, df_airdrop_master['address'].unique()))\n",
    "print(f'Percentage of addresses that interacted with airdrop master: {int((df_matching_address[\"count_interaction_with_airdrop_m\"] > 0).sum() / len(df_matching_address) * 100)}%')"
   ]
  },
  {
   "cell_type": "code",
   "execution_count": 93,
   "metadata": {},
   "outputs": [
    {
     "name": "stdout",
     "output_type": "stream",
     "text": [
      "Percentage of addresses that are airdrop master: 5%\n"
     ]
    }
   ],
   "source": [
    "# Boolean whether the address is a aidrop master\n",
    "df_matching_address['is_airdrop_master'] = df_matching_address['address'].apply(lambda x: x in df_airdrop_master['address'].unique()) \n",
    "print(f'Percentage of addresses that are airdrop master: {int((df_matching_address[\"is_airdrop_master\"]).sum() / len(df_matching_address) * 100)}%')"
   ]
  },
  {
   "cell_type": "code",
   "execution_count": 94,
   "metadata": {},
   "outputs": [],
   "source": [
    "sql_query_tornado = '''\n",
    "SELECT DISTINCT PROJECT_NAME, ADDRESS\n",
    "FROM crosschain.core.address_labels \n",
    "WHERE BLOCKCHAIN='ethereum'\n",
    "AND PROJECT_NAME LIKE '%tornado%'\n",
    ";\n",
    "'''\n",
    "df_tornado = flipside_api.execute_query(sql_query_tornado)"
   ]
  },
  {
   "cell_type": "code",
   "execution_count": 95,
   "metadata": {},
   "outputs": [
    {
     "name": "stdout",
     "output_type": "stream",
     "text": [
      "Percentage of addresses that interacted with tornado: 2%\n"
     ]
    }
   ],
   "source": [
    "# Count the number of interactions with tornado\n",
    "df_matching_address['count_interaction_with_tornado'] = df_matching_address['address'].apply(lambda x: count_interaction_with_any(tx_analyser, x, df_tornado['address'].unique()))\n",
    "print(f'Percentage of addresses that interacted with tornado: {int((df_matching_address[\"count_interaction_with_tornado\"] > 0).sum() / len(df_matching_address) * 100)}%')"
   ]
  },
  {
   "cell_type": "code",
   "execution_count": 96,
   "metadata": {},
   "outputs": [
    {
     "name": "stdout",
     "output_type": "stream",
     "text": [
      "Percentage of addresses that interacted with disperse: 1%\n"
     ]
    }
   ],
   "source": [
    "# Count the number of time the address interatec with disperse contract: '0xD152f549545093347A162Dce210e7293f1452150'\n",
    "df_matching_address['count_interaction_with_disperse'] = df_matching_address['address'].apply(lambda x: count_interaction_with_any(tx_analyser, x, [str.lower('0xD152f549545093347A162Dce210e7293f1452150')]))\n",
    "print(f'Percentage of addresses that interacted with disperse: {int((df_matching_address[\"count_interaction_with_disperse\"] > 0).sum() / len(df_matching_address) * 100)}%')"
   ]
  },
  {
   "cell_type": "code",
   "execution_count": 97,
   "metadata": {},
   "outputs": [
    {
     "data": {
      "text/html": [
       "<div>\n",
       "<style scoped>\n",
       "    .dataframe tbody tr th:only-of-type {\n",
       "        vertical-align: middle;\n",
       "    }\n",
       "\n",
       "    .dataframe tbody tr th {\n",
       "        vertical-align: top;\n",
       "    }\n",
       "\n",
       "    .dataframe thead th {\n",
       "        text-align: right;\n",
       "    }\n",
       "</style>\n",
       "<table border=\"1\" class=\"dataframe\">\n",
       "  <thead>\n",
       "    <tr style=\"text-align: right;\">\n",
       "      <th></th>\n",
       "      <th>count_interaction_with_pool</th>\n",
       "      <th>count_interaction_with_toxic</th>\n",
       "      <th>count_interaction_with_airdrop_m</th>\n",
       "      <th>count_interaction_with_tornado</th>\n",
       "      <th>count_interaction_with_disperse</th>\n",
       "    </tr>\n",
       "  </thead>\n",
       "  <tbody>\n",
       "    <tr>\n",
       "      <th>count</th>\n",
       "      <td>495.000000</td>\n",
       "      <td>495.000000</td>\n",
       "      <td>495.000000</td>\n",
       "      <td>495.000000</td>\n",
       "      <td>495.000000</td>\n",
       "    </tr>\n",
       "    <tr>\n",
       "      <th>mean</th>\n",
       "      <td>5.642424</td>\n",
       "      <td>0.014141</td>\n",
       "      <td>1.616162</td>\n",
       "      <td>0.092929</td>\n",
       "      <td>0.010101</td>\n",
       "    </tr>\n",
       "    <tr>\n",
       "      <th>std</th>\n",
       "      <td>37.936867</td>\n",
       "      <td>0.134232</td>\n",
       "      <td>8.152031</td>\n",
       "      <td>0.932678</td>\n",
       "      <td>0.100096</td>\n",
       "    </tr>\n",
       "    <tr>\n",
       "      <th>min</th>\n",
       "      <td>0.000000</td>\n",
       "      <td>0.000000</td>\n",
       "      <td>0.000000</td>\n",
       "      <td>0.000000</td>\n",
       "      <td>0.000000</td>\n",
       "    </tr>\n",
       "    <tr>\n",
       "      <th>10%</th>\n",
       "      <td>0.000000</td>\n",
       "      <td>0.000000</td>\n",
       "      <td>0.000000</td>\n",
       "      <td>0.000000</td>\n",
       "      <td>0.000000</td>\n",
       "    </tr>\n",
       "    <tr>\n",
       "      <th>25%</th>\n",
       "      <td>0.000000</td>\n",
       "      <td>0.000000</td>\n",
       "      <td>0.000000</td>\n",
       "      <td>0.000000</td>\n",
       "      <td>0.000000</td>\n",
       "    </tr>\n",
       "    <tr>\n",
       "      <th>50%</th>\n",
       "      <td>0.000000</td>\n",
       "      <td>0.000000</td>\n",
       "      <td>0.000000</td>\n",
       "      <td>0.000000</td>\n",
       "      <td>0.000000</td>\n",
       "    </tr>\n",
       "    <tr>\n",
       "      <th>75%</th>\n",
       "      <td>0.000000</td>\n",
       "      <td>0.000000</td>\n",
       "      <td>0.000000</td>\n",
       "      <td>0.000000</td>\n",
       "      <td>0.000000</td>\n",
       "    </tr>\n",
       "    <tr>\n",
       "      <th>90%</th>\n",
       "      <td>7.000000</td>\n",
       "      <td>0.000000</td>\n",
       "      <td>1.600000</td>\n",
       "      <td>0.000000</td>\n",
       "      <td>0.000000</td>\n",
       "    </tr>\n",
       "    <tr>\n",
       "      <th>max</th>\n",
       "      <td>745.000000</td>\n",
       "      <td>2.000000</td>\n",
       "      <td>96.000000</td>\n",
       "      <td>14.000000</td>\n",
       "      <td>1.000000</td>\n",
       "    </tr>\n",
       "  </tbody>\n",
       "</table>\n",
       "</div>"
      ],
      "text/plain": [
       "       count_interaction_with_pool  count_interaction_with_toxic   \n",
       "count                   495.000000                    495.000000  \\\n",
       "mean                      5.642424                      0.014141   \n",
       "std                      37.936867                      0.134232   \n",
       "min                       0.000000                      0.000000   \n",
       "10%                       0.000000                      0.000000   \n",
       "25%                       0.000000                      0.000000   \n",
       "50%                       0.000000                      0.000000   \n",
       "75%                       0.000000                      0.000000   \n",
       "90%                       7.000000                      0.000000   \n",
       "max                     745.000000                      2.000000   \n",
       "\n",
       "       count_interaction_with_airdrop_m  count_interaction_with_tornado   \n",
       "count                        495.000000                      495.000000  \\\n",
       "mean                           1.616162                        0.092929   \n",
       "std                            8.152031                        0.932678   \n",
       "min                            0.000000                        0.000000   \n",
       "10%                            0.000000                        0.000000   \n",
       "25%                            0.000000                        0.000000   \n",
       "50%                            0.000000                        0.000000   \n",
       "75%                            0.000000                        0.000000   \n",
       "90%                            1.600000                        0.000000   \n",
       "max                           96.000000                       14.000000   \n",
       "\n",
       "       count_interaction_with_disperse  \n",
       "count                       495.000000  \n",
       "mean                          0.010101  \n",
       "std                           0.100096  \n",
       "min                           0.000000  \n",
       "10%                           0.000000  \n",
       "25%                           0.000000  \n",
       "50%                           0.000000  \n",
       "75%                           0.000000  \n",
       "90%                           0.000000  \n",
       "max                           1.000000  "
      ]
     },
     "execution_count": 97,
     "metadata": {},
     "output_type": "execute_result"
    }
   ],
   "source": [
    "df_matching_address.describe(percentiles=[0.1, 0.25, 0.5, 0.75, 0.9])"
   ]
  },
  {
   "cell_type": "code",
   "execution_count": 98,
   "metadata": {},
   "outputs": [],
   "source": [
    "df_matching_address['has_interaction_toxic'] = df_matching_address['count_interaction_with_toxic'] > 0\n",
    "df_matching_address['has_no_pool_interaction'] = df_matching_address['count_interaction_with_pool'] < 6\n",
    "df_matching_address['has_interaction_airdrop_m'] = df_matching_address['count_interaction_with_airdrop_m'] > 0\n",
    "df_matching_address['has_interaction_tornado'] = df_matching_address['count_interaction_with_tornado'] > 0\n",
    "df_matching_address['has_interaction_disperse'] = df_matching_address['count_interaction_with_disperse'] > 0"
   ]
  },
  {
   "cell_type": "code",
   "execution_count": 99,
   "metadata": {},
   "outputs": [],
   "source": [
    "boolean_features = ['seed_suspicious', 'has_interaction_toxic', 'has_no_pool_interaction', 'has_interaction_airdrop_m', 'has_interaction_tornado', 'has_interaction_disperse', 'is_airdrop_master', 'interacted_other_ctbt']"
   ]
  },
  {
   "cell_type": "code",
   "execution_count": 100,
   "metadata": {},
   "outputs": [
    {
     "data": {
      "text/plain": [
       "seed_suspicious               12\n",
       "has_interaction_toxic          6\n",
       "has_no_pool_interaction      435\n",
       "has_interaction_airdrop_m     75\n",
       "has_interaction_tornado       10\n",
       "has_interaction_disperse       5\n",
       "is_airdrop_master             26\n",
       "interacted_other_ctbt        128\n",
       "dtype: int64"
      ]
     },
     "execution_count": 100,
     "metadata": {},
     "output_type": "execute_result"
    }
   ],
   "source": [
    "df_matching_address[boolean_features].sum() "
   ]
  },
  {
   "cell_type": "code",
   "execution_count": 101,
   "metadata": {},
   "outputs": [
    {
     "data": {
      "text/plain": [
       "495"
      ]
     },
     "execution_count": 101,
     "metadata": {},
     "output_type": "execute_result"
    }
   ],
   "source": [
    "len(df_matching_address)"
   ]
  },
  {
   "cell_type": "code",
   "execution_count": 102,
   "metadata": {},
   "outputs": [
    {
     "data": {
      "text/plain": [
       "37"
      ]
     },
     "execution_count": 102,
     "metadata": {},
     "output_type": "execute_result"
    }
   ],
   "source": [
    "(df_matching_address[boolean_features].sum(axis=1) > 2).sum()"
   ]
  },
  {
   "cell_type": "code",
   "execution_count": 103,
   "metadata": {},
   "outputs": [],
   "source": [
    "df_matching_address['count_flags'] = df_matching_address[boolean_features].sum(axis=1)"
   ]
  },
  {
   "cell_type": "code",
   "execution_count": 104,
   "metadata": {},
   "outputs": [],
   "source": [
    "df_matching_address['suspicious_1'] = df_matching_address['count_flags'] > 2"
   ]
  },
  {
   "cell_type": "code",
   "execution_count": 105,
   "metadata": {},
   "outputs": [],
   "source": [
    "df_suspicious_1 = df_matching_address[df_matching_address['suspicious_1'] == True]"
   ]
  },
  {
   "attachments": {},
   "cell_type": "markdown",
   "metadata": {},
   "source": [
    "### Investigating the grants receiving the most votes from the flagged addresses"
   ]
  },
  {
   "cell_type": "code",
   "execution_count": 106,
   "metadata": {},
   "outputs": [],
   "source": [
    "df_vote_sus1 = df_votes[df_votes['voter'].isin(df_suspicious_1['address'])]\n",
    "count_unique_vote_grant = df_votes.drop_duplicates(subset=['grantAddress', 'voter']).groupby('grantAddress')['id'].count().sort_values(ascending=False).reset_index()\n",
    "count_suspicious_vote_grant = df_vote_sus1['grantAddress'].value_counts().reset_index()\n",
    "df_vote_grant = count_unique_vote_grant.merge(count_suspicious_vote_grant, left_on='grantAddress', right_on='grantAddress', how='left').fillna(0).rename(columns={'id': 'count_unique_vote', 'count': 'count_suspicious_vote'})"
   ]
  },
  {
   "cell_type": "code",
   "execution_count": 107,
   "metadata": {},
   "outputs": [
    {
     "data": {
      "text/plain": [
       "(1970, 16)"
      ]
     },
     "execution_count": 107,
     "metadata": {},
     "output_type": "execute_result"
    }
   ],
   "source": [
    "df_votes.shape"
   ]
  },
  {
   "cell_type": "code",
   "execution_count": 108,
   "metadata": {},
   "outputs": [
    {
     "name": "stdout",
     "output_type": "stream",
     "text": [
      "Number of suspicious votes 351 Number of projects voted: 104\n",
      "number of grants: 104\n"
     ]
    },
    {
     "data": {
      "text/html": [
       "<div>\n",
       "<style scoped>\n",
       "    .dataframe tbody tr th:only-of-type {\n",
       "        vertical-align: middle;\n",
       "    }\n",
       "\n",
       "    .dataframe tbody tr th {\n",
       "        vertical-align: top;\n",
       "    }\n",
       "\n",
       "    .dataframe thead th {\n",
       "        text-align: right;\n",
       "    }\n",
       "</style>\n",
       "<table border=\"1\" class=\"dataframe\">\n",
       "  <thead>\n",
       "    <tr style=\"text-align: right;\">\n",
       "      <th></th>\n",
       "      <th>grantAddress</th>\n",
       "      <th>metadata.application.project.title</th>\n",
       "      <th>percentage_suspicious_vote</th>\n",
       "      <th>count_suspicious_vote</th>\n",
       "      <th>roundId</th>\n",
       "      <th>status</th>\n",
       "    </tr>\n",
       "  </thead>\n",
       "  <tbody>\n",
       "    <tr>\n",
       "      <th>91</th>\n",
       "      <td>0x09baddebf74a112a00950cae90b61650de4dbcdb</td>\n",
       "      <td>regrò</td>\n",
       "      <td>71.428571</td>\n",
       "      <td>5</td>\n",
       "      <td>0x421510312c40486965767be5ea603aa8a5707983</td>\n",
       "      <td>APPROVED</td>\n",
       "    </tr>\n",
       "    <tr>\n",
       "      <th>93</th>\n",
       "      <td>0xc9683e50d2edc15c72b7a7bb8666f7c5c466fe19</td>\n",
       "      <td>CCC: photojournalism expeditions on the field ...</td>\n",
       "      <td>57.142857</td>\n",
       "      <td>4</td>\n",
       "      <td>0x421510312c40486965767be5ea603aa8a5707983</td>\n",
       "      <td>APPROVED</td>\n",
       "    </tr>\n",
       "    <tr>\n",
       "      <th>61</th>\n",
       "      <td>0x82d4f37d3a5ebf9b7d89e9d83e1fc59dad3e97af</td>\n",
       "      <td>Ranna: Filmmakers for Climate</td>\n",
       "      <td>54.545455</td>\n",
       "      <td>6</td>\n",
       "      <td>0x421510312c40486965767be5ea603aa8a5707983</td>\n",
       "      <td>APPROVED</td>\n",
       "    </tr>\n",
       "    <tr>\n",
       "      <th>87</th>\n",
       "      <td>0xd3f0f07e1c4068b9e80fd641599324f5a768f10b</td>\n",
       "      <td>Fundación Tucultura</td>\n",
       "      <td>50.000000</td>\n",
       "      <td>4</td>\n",
       "      <td>0x421510312c40486965767be5ea603aa8a5707983</td>\n",
       "      <td>APPROVED</td>\n",
       "    </tr>\n",
       "    <tr>\n",
       "      <th>66</th>\n",
       "      <td>0xe6ff2e03bb419e91d67bb537fcda9ade555ded88</td>\n",
       "      <td>MesoReefDAO - Regenerating Reef Conservation w...</td>\n",
       "      <td>45.454545</td>\n",
       "      <td>5</td>\n",
       "      <td>0x421510312c40486965767be5ea603aa8a5707983</td>\n",
       "      <td>APPROVED</td>\n",
       "    </tr>\n",
       "    <tr>\n",
       "      <th>79</th>\n",
       "      <td>0x423f505479a50264f14730bb8ffcdee67da11d56</td>\n",
       "      <td>Biolumen</td>\n",
       "      <td>44.444444</td>\n",
       "      <td>4</td>\n",
       "      <td>0x421510312c40486965767be5ea603aa8a5707983</td>\n",
       "      <td>APPROVED</td>\n",
       "    </tr>\n",
       "    <tr>\n",
       "      <th>99</th>\n",
       "      <td>0xf263c33faa2e900ff036b3904082af96af8afbf7</td>\n",
       "      <td>Empathia</td>\n",
       "      <td>40.000000</td>\n",
       "      <td>2</td>\n",
       "      <td>0x421510312c40486965767be5ea603aa8a5707983</td>\n",
       "      <td>APPROVED</td>\n",
       "    </tr>\n",
       "    <tr>\n",
       "      <th>102</th>\n",
       "      <td>0xcc9cd175c0f053b8f97cf479280afd0b30e1df30</td>\n",
       "      <td>Regeneratie Coöperatie</td>\n",
       "      <td>40.000000</td>\n",
       "      <td>2</td>\n",
       "      <td>0x421510312c40486965767be5ea603aa8a5707983</td>\n",
       "      <td>APPROVED</td>\n",
       "    </tr>\n",
       "    <tr>\n",
       "      <th>85</th>\n",
       "      <td>0xc705bfefc772b2b0b1cf1652ca3b71e2c933f5c5</td>\n",
       "      <td>ECOHUELLAS</td>\n",
       "      <td>37.500000</td>\n",
       "      <td>3</td>\n",
       "      <td>0x421510312c40486965767be5ea603aa8a5707983</td>\n",
       "      <td>APPROVED</td>\n",
       "    </tr>\n",
       "    <tr>\n",
       "      <th>40</th>\n",
       "      <td>0x16d46098e455a04cf7f3e43c3b2706614fdbec85</td>\n",
       "      <td>Myseelia 🍄</td>\n",
       "      <td>37.500000</td>\n",
       "      <td>6</td>\n",
       "      <td>0x421510312c40486965767be5ea603aa8a5707983</td>\n",
       "      <td>APPROVED</td>\n",
       "    </tr>\n",
       "    <tr>\n",
       "      <th>96</th>\n",
       "      <td>0xd356a5eb40f42702520eef026eb6cf226e2a40af</td>\n",
       "      <td>Mirage Arts Community - Putting into action or...</td>\n",
       "      <td>33.333333</td>\n",
       "      <td>2</td>\n",
       "      <td>0x421510312c40486965767be5ea603aa8a5707983</td>\n",
       "      <td>APPROVED</td>\n",
       "    </tr>\n",
       "    <tr>\n",
       "      <th>57</th>\n",
       "      <td>0x5c3f7b8e269cdf055d9dc4ce10d7444d61377d8f</td>\n",
       "      <td>Knysna Alien Busters</td>\n",
       "      <td>33.333333</td>\n",
       "      <td>4</td>\n",
       "      <td>0x421510312c40486965767be5ea603aa8a5707983</td>\n",
       "      <td>APPROVED</td>\n",
       "    </tr>\n",
       "    <tr>\n",
       "      <th>55</th>\n",
       "      <td>0x8359e86c3791e43d55f99e4b63491a8888057ba0</td>\n",
       "      <td>Bye Bye Plastic</td>\n",
       "      <td>33.333333</td>\n",
       "      <td>4</td>\n",
       "      <td>0x421510312c40486965767be5ea603aa8a5707983</td>\n",
       "      <td>APPROVED</td>\n",
       "    </tr>\n",
       "    <tr>\n",
       "      <th>54</th>\n",
       "      <td>0x949bba9f1c13f2461835366aebcb53c852dd4308</td>\n",
       "      <td>Younergy Crypto</td>\n",
       "      <td>33.333333</td>\n",
       "      <td>4</td>\n",
       "      <td>0x421510312c40486965767be5ea603aa8a5707983</td>\n",
       "      <td>APPROVED</td>\n",
       "    </tr>\n",
       "    <tr>\n",
       "      <th>58</th>\n",
       "      <td>0x34864e4fb9b6ebf21d8c860ff920edd736df21bc</td>\n",
       "      <td>The Wildlife Movement Institute: An Open-Sourc...</td>\n",
       "      <td>33.333333</td>\n",
       "      <td>4</td>\n",
       "      <td>0x421510312c40486965767be5ea603aa8a5707983</td>\n",
       "      <td>APPROVED</td>\n",
       "    </tr>\n",
       "    <tr>\n",
       "      <th>41</th>\n",
       "      <td>0x435cd42591cc503a909085c3d3d2899d17032f77</td>\n",
       "      <td>Sympoiesis</td>\n",
       "      <td>31.250000</td>\n",
       "      <td>5</td>\n",
       "      <td>0x421510312c40486965767be5ea603aa8a5707983</td>\n",
       "      <td>APPROVED</td>\n",
       "    </tr>\n",
       "    <tr>\n",
       "      <th>22</th>\n",
       "      <td>0x59490c362c54c1b60158f19ce499c82aa3669820</td>\n",
       "      <td>The Impact App + Eco Labs</td>\n",
       "      <td>30.769231</td>\n",
       "      <td>8</td>\n",
       "      <td>0x421510312c40486965767be5ea603aa8a5707983</td>\n",
       "      <td>APPROVED</td>\n",
       "    </tr>\n",
       "    <tr>\n",
       "      <th>71</th>\n",
       "      <td>0x149cee19bcf7c3d7bfb8b85180168f816a5c42bb</td>\n",
       "      <td>Wild Friends: Play to save wildlife</td>\n",
       "      <td>30.000000</td>\n",
       "      <td>3</td>\n",
       "      <td>0x421510312c40486965767be5ea603aa8a5707983</td>\n",
       "      <td>APPROVED</td>\n",
       "    </tr>\n",
       "    <tr>\n",
       "      <th>69</th>\n",
       "      <td>0x58b36156a268ec1e28ac781554c556e5152f7450</td>\n",
       "      <td>Climate Attestation Protocol</td>\n",
       "      <td>30.000000</td>\n",
       "      <td>3</td>\n",
       "      <td>0x421510312c40486965767be5ea603aa8a5707983</td>\n",
       "      <td>APPROVED</td>\n",
       "    </tr>\n",
       "    <tr>\n",
       "      <th>67</th>\n",
       "      <td>0x0117780bdaf2a9ea19ed897ab7db710452a7c00f</td>\n",
       "      <td>Tree Tales: Play to Plant</td>\n",
       "      <td>30.000000</td>\n",
       "      <td>3</td>\n",
       "      <td>0x421510312c40486965767be5ea603aa8a5707983</td>\n",
       "      <td>APPROVED</td>\n",
       "    </tr>\n",
       "    <tr>\n",
       "      <th>92</th>\n",
       "      <td>0x2fe0807d0e806549d6ad240dfa47071be908b226</td>\n",
       "      <td>SISU Living Portals</td>\n",
       "      <td>28.571429</td>\n",
       "      <td>2</td>\n",
       "      <td>0x421510312c40486965767be5ea603aa8a5707983</td>\n",
       "      <td>APPROVED</td>\n",
       "    </tr>\n",
       "    <tr>\n",
       "      <th>94</th>\n",
       "      <td>0x9b2ea31e9095f0e1cb4f66f2a9b7a01e78413f63</td>\n",
       "      <td>Pulso Verde</td>\n",
       "      <td>28.571429</td>\n",
       "      <td>2</td>\n",
       "      <td>0x421510312c40486965767be5ea603aa8a5707983</td>\n",
       "      <td>APPROVED</td>\n",
       "    </tr>\n",
       "    <tr>\n",
       "      <th>51</th>\n",
       "      <td>0x2119b7faadf53abc4c9993b7b66afa0c88bcabd5</td>\n",
       "      <td>The Ecological Benefits Framework</td>\n",
       "      <td>28.571429</td>\n",
       "      <td>4</td>\n",
       "      <td>0xaa40e2e5c8df03d792a52b5458959c320f86ca18</td>\n",
       "      <td>REJECTED</td>\n",
       "    </tr>\n",
       "    <tr>\n",
       "      <th>89</th>\n",
       "      <td>0xc3afeb93ae73f160347bcae82097c1f8f3dac75c</td>\n",
       "      <td>Heating with Compute Power</td>\n",
       "      <td>28.571429</td>\n",
       "      <td>2</td>\n",
       "      <td>0x421510312c40486965767be5ea603aa8a5707983</td>\n",
       "      <td>APPROVED</td>\n",
       "    </tr>\n",
       "    <tr>\n",
       "      <th>32</th>\n",
       "      <td>0xc2d706398a978b8c5aa4efcd824b57e978841107</td>\n",
       "      <td>Rebuilding Turkiye</td>\n",
       "      <td>27.272727</td>\n",
       "      <td>6</td>\n",
       "      <td>0x421510312c40486965767be5ea603aa8a5707983</td>\n",
       "      <td>APPROVED</td>\n",
       "    </tr>\n",
       "    <tr>\n",
       "      <th>60</th>\n",
       "      <td>0x88430847ab509183a5a3af9b633e9d74554442f7</td>\n",
       "      <td>ECORISE</td>\n",
       "      <td>27.272727</td>\n",
       "      <td>3</td>\n",
       "      <td>0x421510312c40486965767be5ea603aa8a5707983</td>\n",
       "      <td>APPROVED</td>\n",
       "    </tr>\n",
       "    <tr>\n",
       "      <th>45</th>\n",
       "      <td>0x3cc9f396430bc766ac8aa57fc28aebc5919a5d81</td>\n",
       "      <td>Coffee Impact Collective</td>\n",
       "      <td>26.666667</td>\n",
       "      <td>4</td>\n",
       "      <td>0x421510312c40486965767be5ea603aa8a5707983</td>\n",
       "      <td>APPROVED</td>\n",
       "    </tr>\n",
       "    <tr>\n",
       "      <th>36</th>\n",
       "      <td>0x788bd114c3f625600b547d5a08ec38e0ee90a06e</td>\n",
       "      <td>dMeter</td>\n",
       "      <td>26.315789</td>\n",
       "      <td>5</td>\n",
       "      <td>0x421510312c40486965767be5ea603aa8a5707983</td>\n",
       "      <td>APPROVED</td>\n",
       "    </tr>\n",
       "    <tr>\n",
       "      <th>84</th>\n",
       "      <td>0x20d1cc2212b56f7fe4c80907a4f1de74e2ed5537</td>\n",
       "      <td>Vean</td>\n",
       "      <td>25.000000</td>\n",
       "      <td>2</td>\n",
       "      <td>0x421510312c40486965767be5ea603aa8a5707983</td>\n",
       "      <td>APPROVED</td>\n",
       "    </tr>\n",
       "    <tr>\n",
       "      <th>88</th>\n",
       "      <td>0xd0352d08aa93c9bc9c79d2b3a53846dcd7c9cb92</td>\n",
       "      <td>ReFi Local Node: Cape Town, South Africa</td>\n",
       "      <td>25.000000</td>\n",
       "      <td>2</td>\n",
       "      <td>0xaa40e2e5c8df03d792a52b5458959c320f86ca18</td>\n",
       "      <td>REJECTED</td>\n",
       "    </tr>\n",
       "  </tbody>\n",
       "</table>\n",
       "</div>"
      ],
      "text/plain": [
       "                                   grantAddress   \n",
       "91   0x09baddebf74a112a00950cae90b61650de4dbcdb  \\\n",
       "93   0xc9683e50d2edc15c72b7a7bb8666f7c5c466fe19   \n",
       "61   0x82d4f37d3a5ebf9b7d89e9d83e1fc59dad3e97af   \n",
       "87   0xd3f0f07e1c4068b9e80fd641599324f5a768f10b   \n",
       "66   0xe6ff2e03bb419e91d67bb537fcda9ade555ded88   \n",
       "79   0x423f505479a50264f14730bb8ffcdee67da11d56   \n",
       "99   0xf263c33faa2e900ff036b3904082af96af8afbf7   \n",
       "102  0xcc9cd175c0f053b8f97cf479280afd0b30e1df30   \n",
       "85   0xc705bfefc772b2b0b1cf1652ca3b71e2c933f5c5   \n",
       "40   0x16d46098e455a04cf7f3e43c3b2706614fdbec85   \n",
       "96   0xd356a5eb40f42702520eef026eb6cf226e2a40af   \n",
       "57   0x5c3f7b8e269cdf055d9dc4ce10d7444d61377d8f   \n",
       "55   0x8359e86c3791e43d55f99e4b63491a8888057ba0   \n",
       "54   0x949bba9f1c13f2461835366aebcb53c852dd4308   \n",
       "58   0x34864e4fb9b6ebf21d8c860ff920edd736df21bc   \n",
       "41   0x435cd42591cc503a909085c3d3d2899d17032f77   \n",
       "22   0x59490c362c54c1b60158f19ce499c82aa3669820   \n",
       "71   0x149cee19bcf7c3d7bfb8b85180168f816a5c42bb   \n",
       "69   0x58b36156a268ec1e28ac781554c556e5152f7450   \n",
       "67   0x0117780bdaf2a9ea19ed897ab7db710452a7c00f   \n",
       "92   0x2fe0807d0e806549d6ad240dfa47071be908b226   \n",
       "94   0x9b2ea31e9095f0e1cb4f66f2a9b7a01e78413f63   \n",
       "51   0x2119b7faadf53abc4c9993b7b66afa0c88bcabd5   \n",
       "89   0xc3afeb93ae73f160347bcae82097c1f8f3dac75c   \n",
       "32   0xc2d706398a978b8c5aa4efcd824b57e978841107   \n",
       "60   0x88430847ab509183a5a3af9b633e9d74554442f7   \n",
       "45   0x3cc9f396430bc766ac8aa57fc28aebc5919a5d81   \n",
       "36   0x788bd114c3f625600b547d5a08ec38e0ee90a06e   \n",
       "84   0x20d1cc2212b56f7fe4c80907a4f1de74e2ed5537   \n",
       "88   0xd0352d08aa93c9bc9c79d2b3a53846dcd7c9cb92   \n",
       "\n",
       "                    metadata.application.project.title   \n",
       "91                                              regrò   \\\n",
       "93   CCC: photojournalism expeditions on the field ...   \n",
       "61                       Ranna: Filmmakers for Climate   \n",
       "87                                Fundación Tucultura    \n",
       "66   MesoReefDAO - Regenerating Reef Conservation w...   \n",
       "79                                            Biolumen   \n",
       "99                                            Empathia   \n",
       "102                             Regeneratie Coöperatie   \n",
       "85                                          ECOHUELLAS   \n",
       "40                                          Myseelia 🍄   \n",
       "96   Mirage Arts Community - Putting into action or...   \n",
       "57                                Knysna Alien Busters   \n",
       "55                                     Bye Bye Plastic   \n",
       "54                                     Younergy Crypto   \n",
       "58   The Wildlife Movement Institute: An Open-Sourc...   \n",
       "41                                          Sympoiesis   \n",
       "22                           The Impact App + Eco Labs   \n",
       "71                 Wild Friends: Play to save wildlife   \n",
       "69                        Climate Attestation Protocol   \n",
       "67                           Tree Tales: Play to Plant   \n",
       "92                                 SISU Living Portals   \n",
       "94                                         Pulso Verde   \n",
       "51                   The Ecological Benefits Framework   \n",
       "89                          Heating with Compute Power   \n",
       "32                                  Rebuilding Turkiye   \n",
       "60                                             ECORISE   \n",
       "45                            Coffee Impact Collective   \n",
       "36                                              dMeter   \n",
       "84                                                Vean   \n",
       "88            ReFi Local Node: Cape Town, South Africa   \n",
       "\n",
       "     percentage_suspicious_vote  count_suspicious_vote   \n",
       "91                    71.428571                      5  \\\n",
       "93                    57.142857                      4   \n",
       "61                    54.545455                      6   \n",
       "87                    50.000000                      4   \n",
       "66                    45.454545                      5   \n",
       "79                    44.444444                      4   \n",
       "99                    40.000000                      2   \n",
       "102                   40.000000                      2   \n",
       "85                    37.500000                      3   \n",
       "40                    37.500000                      6   \n",
       "96                    33.333333                      2   \n",
       "57                    33.333333                      4   \n",
       "55                    33.333333                      4   \n",
       "54                    33.333333                      4   \n",
       "58                    33.333333                      4   \n",
       "41                    31.250000                      5   \n",
       "22                    30.769231                      8   \n",
       "71                    30.000000                      3   \n",
       "69                    30.000000                      3   \n",
       "67                    30.000000                      3   \n",
       "92                    28.571429                      2   \n",
       "94                    28.571429                      2   \n",
       "51                    28.571429                      4   \n",
       "89                    28.571429                      2   \n",
       "32                    27.272727                      6   \n",
       "60                    27.272727                      3   \n",
       "45                    26.666667                      4   \n",
       "36                    26.315789                      5   \n",
       "84                    25.000000                      2   \n",
       "88                    25.000000                      2   \n",
       "\n",
       "                                        roundId    status  \n",
       "91   0x421510312c40486965767be5ea603aa8a5707983  APPROVED  \n",
       "93   0x421510312c40486965767be5ea603aa8a5707983  APPROVED  \n",
       "61   0x421510312c40486965767be5ea603aa8a5707983  APPROVED  \n",
       "87   0x421510312c40486965767be5ea603aa8a5707983  APPROVED  \n",
       "66   0x421510312c40486965767be5ea603aa8a5707983  APPROVED  \n",
       "79   0x421510312c40486965767be5ea603aa8a5707983  APPROVED  \n",
       "99   0x421510312c40486965767be5ea603aa8a5707983  APPROVED  \n",
       "102  0x421510312c40486965767be5ea603aa8a5707983  APPROVED  \n",
       "85   0x421510312c40486965767be5ea603aa8a5707983  APPROVED  \n",
       "40   0x421510312c40486965767be5ea603aa8a5707983  APPROVED  \n",
       "96   0x421510312c40486965767be5ea603aa8a5707983  APPROVED  \n",
       "57   0x421510312c40486965767be5ea603aa8a5707983  APPROVED  \n",
       "55   0x421510312c40486965767be5ea603aa8a5707983  APPROVED  \n",
       "54   0x421510312c40486965767be5ea603aa8a5707983  APPROVED  \n",
       "58   0x421510312c40486965767be5ea603aa8a5707983  APPROVED  \n",
       "41   0x421510312c40486965767be5ea603aa8a5707983  APPROVED  \n",
       "22   0x421510312c40486965767be5ea603aa8a5707983  APPROVED  \n",
       "71   0x421510312c40486965767be5ea603aa8a5707983  APPROVED  \n",
       "69   0x421510312c40486965767be5ea603aa8a5707983  APPROVED  \n",
       "67   0x421510312c40486965767be5ea603aa8a5707983  APPROVED  \n",
       "92   0x421510312c40486965767be5ea603aa8a5707983  APPROVED  \n",
       "94   0x421510312c40486965767be5ea603aa8a5707983  APPROVED  \n",
       "51   0xaa40e2e5c8df03d792a52b5458959c320f86ca18  REJECTED  \n",
       "89   0x421510312c40486965767be5ea603aa8a5707983  APPROVED  \n",
       "32   0x421510312c40486965767be5ea603aa8a5707983  APPROVED  \n",
       "60   0x421510312c40486965767be5ea603aa8a5707983  APPROVED  \n",
       "45   0x421510312c40486965767be5ea603aa8a5707983  APPROVED  \n",
       "36   0x421510312c40486965767be5ea603aa8a5707983  APPROVED  \n",
       "84   0x421510312c40486965767be5ea603aa8a5707983  APPROVED  \n",
       "88   0xaa40e2e5c8df03d792a52b5458959c320f86ca18  REJECTED  "
      ]
     },
     "execution_count": 108,
     "metadata": {},
     "output_type": "execute_result"
    }
   ],
   "source": [
    "df_vote_grant['percentage_suspicious_vote'] = df_vote_grant['count_suspicious_vote'] / df_vote_grant['count_unique_vote'] * 100\n",
    "print(f'Number of suspicious votes {df_vote_sus1.shape[0]} Number of projects voted: {df_vote_sus1.grantAddress.nunique()}')\n",
    "# Merge the project the user voted for and the projects \n",
    "gr_sus = df_vote_grant.merge(df_application, left_on='grantAddress', right_on='metadata.application.recipient', how='left').drop_duplicates(subset='grantAddress').loc[:, ['grantAddress', 'metadata.application.project.title', 'percentage_suspicious_vote', 'count_suspicious_vote', 'roundId', 'status']].reset_index(drop=True).sort_values(by='percentage_suspicious_vote', ascending=False)\n",
    "print(f'number of grants: {gr_sus.shape[0]}')\n",
    "gr_sus.head(30)"
   ]
  },
  {
   "attachments": {},
   "cell_type": "markdown",
   "metadata": {},
   "source": [
    "### Look at the addresses with at least one flag"
   ]
  },
  {
   "attachments": {},
   "cell_type": "markdown",
   "metadata": {},
   "source": [
    "We are going to review the addresses that have at least 1 flag:\n",
    "- has_intercation_toxic \n",
    "- has_interaction_disperse\n",
    "- has_interaction_airdrop_master\n",
    "- is airdrop master\n",
    "- seed suspicious\n",
    "- interacted with other contributor and less than 5 tx\n",
    "\n",
    "I decided to remove tornado cash because someone can be anonimous with out being a sybil"
   ]
  },
  {
   "cell_type": "code",
   "execution_count": 109,
   "metadata": {},
   "outputs": [],
   "source": [
    "df_matching_address['interact_less_5tx'] = np.logical_and(df_matching_address['interacted_other_ctbt'], df_matching_address['less_5_tx'])"
   ]
  },
  {
   "cell_type": "code",
   "execution_count": 110,
   "metadata": {},
   "outputs": [],
   "source": [
    "interaction_bool = ['has_interaction_toxic', 'has_interaction_airdrop_m', 'has_interaction_disperse', 'is_airdrop_master', 'seed_suspicious', 'interact_less_5tx']"
   ]
  },
  {
   "cell_type": "code",
   "execution_count": 111,
   "metadata": {},
   "outputs": [
    {
     "data": {
      "text/plain": [
       "has_interaction_toxic         6\n",
       "has_interaction_airdrop_m    75\n",
       "has_interaction_disperse      5\n",
       "is_airdrop_master            26\n",
       "seed_suspicious              12\n",
       "interact_less_5tx            13\n",
       "dtype: int64"
      ]
     },
     "execution_count": 111,
     "metadata": {},
     "output_type": "execute_result"
    }
   ],
   "source": [
    "df_matching_address[interaction_bool].sum()"
   ]
  },
  {
   "cell_type": "code",
   "execution_count": 112,
   "metadata": {},
   "outputs": [
    {
     "data": {
      "text/html": [
       "<div>\n",
       "<style scoped>\n",
       "    .dataframe tbody tr th:only-of-type {\n",
       "        vertical-align: middle;\n",
       "    }\n",
       "\n",
       "    .dataframe tbody tr th {\n",
       "        vertical-align: top;\n",
       "    }\n",
       "\n",
       "    .dataframe thead th {\n",
       "        text-align: right;\n",
       "    }\n",
       "</style>\n",
       "<table border=\"1\" class=\"dataframe\">\n",
       "  <thead>\n",
       "    <tr style=\"text-align: right;\">\n",
       "      <th></th>\n",
       "      <th>has_interaction_toxic</th>\n",
       "      <th>has_interaction_airdrop_m</th>\n",
       "      <th>has_interaction_disperse</th>\n",
       "      <th>is_airdrop_master</th>\n",
       "      <th>seed_suspicious</th>\n",
       "      <th>interact_less_5tx</th>\n",
       "    </tr>\n",
       "  </thead>\n",
       "  <tbody>\n",
       "    <tr>\n",
       "      <th>has_interaction_toxic</th>\n",
       "      <td>1.000000</td>\n",
       "      <td>0.051948</td>\n",
       "      <td>0.100000</td>\n",
       "      <td>0.066667</td>\n",
       "      <td>0.058824</td>\n",
       "      <td>0.0</td>\n",
       "    </tr>\n",
       "    <tr>\n",
       "      <th>has_interaction_airdrop_m</th>\n",
       "      <td>0.051948</td>\n",
       "      <td>1.000000</td>\n",
       "      <td>0.025641</td>\n",
       "      <td>0.311688</td>\n",
       "      <td>0.023529</td>\n",
       "      <td>0.0</td>\n",
       "    </tr>\n",
       "    <tr>\n",
       "      <th>has_interaction_disperse</th>\n",
       "      <td>0.100000</td>\n",
       "      <td>0.025641</td>\n",
       "      <td>1.000000</td>\n",
       "      <td>0.033333</td>\n",
       "      <td>0.000000</td>\n",
       "      <td>0.0</td>\n",
       "    </tr>\n",
       "    <tr>\n",
       "      <th>is_airdrop_master</th>\n",
       "      <td>0.066667</td>\n",
       "      <td>0.311688</td>\n",
       "      <td>0.033333</td>\n",
       "      <td>1.000000</td>\n",
       "      <td>0.000000</td>\n",
       "      <td>0.0</td>\n",
       "    </tr>\n",
       "    <tr>\n",
       "      <th>seed_suspicious</th>\n",
       "      <td>0.058824</td>\n",
       "      <td>0.023529</td>\n",
       "      <td>0.000000</td>\n",
       "      <td>0.000000</td>\n",
       "      <td>1.000000</td>\n",
       "      <td>0.0</td>\n",
       "    </tr>\n",
       "    <tr>\n",
       "      <th>interact_less_5tx</th>\n",
       "      <td>0.000000</td>\n",
       "      <td>0.000000</td>\n",
       "      <td>0.000000</td>\n",
       "      <td>0.000000</td>\n",
       "      <td>0.000000</td>\n",
       "      <td>1.0</td>\n",
       "    </tr>\n",
       "  </tbody>\n",
       "</table>\n",
       "</div>"
      ],
      "text/plain": [
       "                           has_interaction_toxic  has_interaction_airdrop_m   \n",
       "has_interaction_toxic                   1.000000                   0.051948  \\\n",
       "has_interaction_airdrop_m               0.051948                   1.000000   \n",
       "has_interaction_disperse                0.100000                   0.025641   \n",
       "is_airdrop_master                       0.066667                   0.311688   \n",
       "seed_suspicious                         0.058824                   0.023529   \n",
       "interact_less_5tx                       0.000000                   0.000000   \n",
       "\n",
       "                           has_interaction_disperse  is_airdrop_master   \n",
       "has_interaction_toxic                      0.100000           0.066667  \\\n",
       "has_interaction_airdrop_m                  0.025641           0.311688   \n",
       "has_interaction_disperse                   1.000000           0.033333   \n",
       "is_airdrop_master                          0.033333           1.000000   \n",
       "seed_suspicious                            0.000000           0.000000   \n",
       "interact_less_5tx                          0.000000           0.000000   \n",
       "\n",
       "                           seed_suspicious  interact_less_5tx  \n",
       "has_interaction_toxic             0.058824                0.0  \n",
       "has_interaction_airdrop_m         0.023529                0.0  \n",
       "has_interaction_disperse          0.000000                0.0  \n",
       "is_airdrop_master                 0.000000                0.0  \n",
       "seed_suspicious                   1.000000                0.0  \n",
       "interact_less_5tx                 0.000000                1.0  "
      ]
     },
     "execution_count": 112,
     "metadata": {},
     "output_type": "execute_result"
    }
   ],
   "source": [
    "from scipy.spatial.distance import pdist\n",
    "\n",
    "def jaccard_similarity_matrix(df):\n",
    "    \n",
    "    n = df.shape[1]\n",
    "    scores = 1 - pdist(np.array(df).T, metric='jaccard')\n",
    "    result = np.zeros((n,n))\n",
    "    result[np.triu_indices(n, k=1)] = scores\n",
    "    result += result.T\n",
    "    np.fill_diagonal(result, 1)\n",
    "    return pd.DataFrame(result, index=df.columns, columns=df.columns)\n",
    "\n",
    "jaccard_similarity = jaccard_similarity_matrix(df_matching_address[interaction_bool])\n",
    "jaccard_similarity"
   ]
  },
  {
   "cell_type": "code",
   "execution_count": 113,
   "metadata": {},
   "outputs": [
    {
     "data": {
      "text/plain": [
       "<Axes: >"
      ]
     },
     "execution_count": 113,
     "metadata": {},
     "output_type": "execute_result"
    },
    {
     "data": {
      "image/png": "[encoded data removed]",
      "text/plain": [
       "<Figure size 640x480 with 2 Axes>"
      ]
     },
     "metadata": {},
     "output_type": "display_data"
    }
   ],
   "source": [
    "import seaborn as sns\n",
    "sns.heatmap(jaccard_similarity, annot=True)"
   ]
  },
  {
   "cell_type": "code",
   "execution_count": 114,
   "metadata": {},
   "outputs": [
    {
     "name": "stdout",
     "output_type": "stream",
     "text": [
      "Number of addresses that interacted with a suspicious contract or address: 104\n"
     ]
    }
   ],
   "source": [
    "df_matching_address['flagged'] = df_matching_address[interaction_bool].sum(axis=1) > 0\n",
    "df_interact_sus_2 = df_matching_address[df_matching_address['flagged'] == True]\n",
    "print(f'Number of addresses that interacted with a suspicious contract or address: {df_interact_sus_2.shape[0]}')"
   ]
  },
  {
   "cell_type": "code",
   "execution_count": 115,
   "metadata": {},
   "outputs": [],
   "source": [
    "df_vote_sus_2 = df_votes[df_votes['voter'].isin(df_interact_sus_2['address'])]\n",
    "# count_unique_vote_grant = df_votes.drop_duplicates(subset=['grantAddress', 'voter']).groupby('grantAddress')['id'].count().sort_values(ascending=False).reset_index().head(10)\n",
    "count_suspicious_vote_grant_2 = df_vote_sus_2['grantAddress'].value_counts().reset_index()\n",
    "df_vote_grant_2 = count_unique_vote_grant.merge(count_suspicious_vote_grant_2, left_on='grantAddress', right_on='grantAddress', how='left').fillna(0).rename(columns={'id': 'count_unique_vote', 'count': 'count_suspicious_vote'})"
   ]
  },
  {
   "cell_type": "code",
   "execution_count": 116,
   "metadata": {},
   "outputs": [
    {
     "data": {
      "text/plain": [
       "(1970, 16)"
      ]
     },
     "execution_count": 116,
     "metadata": {},
     "output_type": "execute_result"
    }
   ],
   "source": [
    "df_votes.shape"
   ]
  },
  {
   "cell_type": "code",
   "execution_count": 117,
   "metadata": {},
   "outputs": [
    {
     "name": "stdout",
     "output_type": "stream",
     "text": [
      "Number of suspicious votes 531 Number of projects voted: 104\n",
      "number of grants: 104\n"
     ]
    },
    {
     "data": {
      "text/html": [
       "<div>\n",
       "<style scoped>\n",
       "    .dataframe tbody tr th:only-of-type {\n",
       "        vertical-align: middle;\n",
       "    }\n",
       "\n",
       "    .dataframe tbody tr th {\n",
       "        vertical-align: top;\n",
       "    }\n",
       "\n",
       "    .dataframe thead th {\n",
       "        text-align: right;\n",
       "    }\n",
       "</style>\n",
       "<table border=\"1\" class=\"dataframe\">\n",
       "  <thead>\n",
       "    <tr style=\"text-align: right;\">\n",
       "      <th></th>\n",
       "      <th>grantAddress</th>\n",
       "      <th>metadata.application.project.title</th>\n",
       "      <th>percentage_suspicious_vote</th>\n",
       "      <th>count_suspicious_vote</th>\n",
       "      <th>roundId</th>\n",
       "      <th>status</th>\n",
       "    </tr>\n",
       "  </thead>\n",
       "  <tbody>\n",
       "    <tr>\n",
       "      <th>91</th>\n",
       "      <td>0x09baddebf74a112a00950cae90b61650de4dbcdb</td>\n",
       "      <td>regrò</td>\n",
       "      <td>71.428571</td>\n",
       "      <td>5</td>\n",
       "      <td>0x421510312c40486965767be5ea603aa8a5707983</td>\n",
       "      <td>APPROVED</td>\n",
       "    </tr>\n",
       "    <tr>\n",
       "      <th>87</th>\n",
       "      <td>0xd3f0f07e1c4068b9e80fd641599324f5a768f10b</td>\n",
       "      <td>Fundación Tucultura</td>\n",
       "      <td>62.500000</td>\n",
       "      <td>5</td>\n",
       "      <td>0x421510312c40486965767be5ea603aa8a5707983</td>\n",
       "      <td>APPROVED</td>\n",
       "    </tr>\n",
       "    <tr>\n",
       "      <th>99</th>\n",
       "      <td>0xf263c33faa2e900ff036b3904082af96af8afbf7</td>\n",
       "      <td>Empathia</td>\n",
       "      <td>60.000000</td>\n",
       "      <td>3</td>\n",
       "      <td>0x421510312c40486965767be5ea603aa8a5707983</td>\n",
       "      <td>APPROVED</td>\n",
       "    </tr>\n",
       "    <tr>\n",
       "      <th>100</th>\n",
       "      <td>0xa9dad55fd684f252d5fdb240e8f8fc57f1ddfae6</td>\n",
       "      <td>libpwrm</td>\n",
       "      <td>60.000000</td>\n",
       "      <td>3</td>\n",
       "      <td>0x421510312c40486965767be5ea603aa8a5707983</td>\n",
       "      <td>APPROVED</td>\n",
       "    </tr>\n",
       "    <tr>\n",
       "      <th>93</th>\n",
       "      <td>0xc9683e50d2edc15c72b7a7bb8666f7c5c466fe19</td>\n",
       "      <td>CCC: photojournalism expeditions on the field ...</td>\n",
       "      <td>57.142857</td>\n",
       "      <td>4</td>\n",
       "      <td>0x421510312c40486965767be5ea603aa8a5707983</td>\n",
       "      <td>APPROVED</td>\n",
       "    </tr>\n",
       "    <tr>\n",
       "      <th>40</th>\n",
       "      <td>0x16d46098e455a04cf7f3e43c3b2706614fdbec85</td>\n",
       "      <td>Myseelia 🍄</td>\n",
       "      <td>56.250000</td>\n",
       "      <td>9</td>\n",
       "      <td>0x421510312c40486965767be5ea603aa8a5707983</td>\n",
       "      <td>APPROVED</td>\n",
       "    </tr>\n",
       "    <tr>\n",
       "      <th>79</th>\n",
       "      <td>0x423f505479a50264f14730bb8ffcdee67da11d56</td>\n",
       "      <td>Biolumen</td>\n",
       "      <td>55.555556</td>\n",
       "      <td>5</td>\n",
       "      <td>0x421510312c40486965767be5ea603aa8a5707983</td>\n",
       "      <td>APPROVED</td>\n",
       "    </tr>\n",
       "    <tr>\n",
       "      <th>78</th>\n",
       "      <td>0x3fa2284d9320badd6c1c1200faacffa0ab54b669</td>\n",
       "      <td>Proof of Zero</td>\n",
       "      <td>55.555556</td>\n",
       "      <td>5</td>\n",
       "      <td>0x421510312c40486965767be5ea603aa8a5707983</td>\n",
       "      <td>APPROVED</td>\n",
       "    </tr>\n",
       "    <tr>\n",
       "      <th>61</th>\n",
       "      <td>0x82d4f37d3a5ebf9b7d89e9d83e1fc59dad3e97af</td>\n",
       "      <td>Ranna: Filmmakers for Climate</td>\n",
       "      <td>54.545455</td>\n",
       "      <td>6</td>\n",
       "      <td>0x421510312c40486965767be5ea603aa8a5707983</td>\n",
       "      <td>APPROVED</td>\n",
       "    </tr>\n",
       "    <tr>\n",
       "      <th>54</th>\n",
       "      <td>0x949bba9f1c13f2461835366aebcb53c852dd4308</td>\n",
       "      <td>Younergy Crypto</td>\n",
       "      <td>50.000000</td>\n",
       "      <td>6</td>\n",
       "      <td>0x421510312c40486965767be5ea603aa8a5707983</td>\n",
       "      <td>APPROVED</td>\n",
       "    </tr>\n",
       "    <tr>\n",
       "      <th>96</th>\n",
       "      <td>0xd356a5eb40f42702520eef026eb6cf226e2a40af</td>\n",
       "      <td>Mirage Arts Community - Putting into action or...</td>\n",
       "      <td>50.000000</td>\n",
       "      <td>3</td>\n",
       "      <td>0x421510312c40486965767be5ea603aa8a5707983</td>\n",
       "      <td>APPROVED</td>\n",
       "    </tr>\n",
       "    <tr>\n",
       "      <th>69</th>\n",
       "      <td>0x58b36156a268ec1e28ac781554c556e5152f7450</td>\n",
       "      <td>Climate Attestation Protocol</td>\n",
       "      <td>50.000000</td>\n",
       "      <td>5</td>\n",
       "      <td>0x421510312c40486965767be5ea603aa8a5707983</td>\n",
       "      <td>APPROVED</td>\n",
       "    </tr>\n",
       "    <tr>\n",
       "      <th>88</th>\n",
       "      <td>0xd0352d08aa93c9bc9c79d2b3a53846dcd7c9cb92</td>\n",
       "      <td>ReFi Local Node: Cape Town, South Africa</td>\n",
       "      <td>50.000000</td>\n",
       "      <td>4</td>\n",
       "      <td>0xaa40e2e5c8df03d792a52b5458959c320f86ca18</td>\n",
       "      <td>REJECTED</td>\n",
       "    </tr>\n",
       "    <tr>\n",
       "      <th>39</th>\n",
       "      <td>0x7119c556de71cc53965e5be318c9dd4b49ec15e4</td>\n",
       "      <td>Healing Coral</td>\n",
       "      <td>47.058824</td>\n",
       "      <td>8</td>\n",
       "      <td>0x421510312c40486965767be5ea603aa8a5707983</td>\n",
       "      <td>APPROVED</td>\n",
       "    </tr>\n",
       "    <tr>\n",
       "      <th>66</th>\n",
       "      <td>0xe6ff2e03bb419e91d67bb537fcda9ade555ded88</td>\n",
       "      <td>MesoReefDAO - Regenerating Reef Conservation w...</td>\n",
       "      <td>45.454545</td>\n",
       "      <td>5</td>\n",
       "      <td>0x421510312c40486965767be5ea603aa8a5707983</td>\n",
       "      <td>APPROVED</td>\n",
       "    </tr>\n",
       "    <tr>\n",
       "      <th>77</th>\n",
       "      <td>0x4be737b450754bc75f1ef0271d3c5da525173f6b</td>\n",
       "      <td>DeFood: Decentralized Food Security Network (D...</td>\n",
       "      <td>44.444444</td>\n",
       "      <td>4</td>\n",
       "      <td>0x421510312c40486965767be5ea603aa8a5707983</td>\n",
       "      <td>APPROVED</td>\n",
       "    </tr>\n",
       "    <tr>\n",
       "      <th>73</th>\n",
       "      <td>0x2dbc5a4a615c9fa0f93207467ad9fc277faef479</td>\n",
       "      <td>Bloomeria</td>\n",
       "      <td>44.444444</td>\n",
       "      <td>4</td>\n",
       "      <td>0x421510312c40486965767be5ea603aa8a5707983</td>\n",
       "      <td>APPROVED</td>\n",
       "    </tr>\n",
       "    <tr>\n",
       "      <th>48</th>\n",
       "      <td>0xaec54e3a2f9a1745ff724c5cd91c9beed77a0651</td>\n",
       "      <td>Crowdmuse</td>\n",
       "      <td>42.857143</td>\n",
       "      <td>6</td>\n",
       "      <td>0x421510312c40486965767be5ea603aa8a5707983</td>\n",
       "      <td>APPROVED</td>\n",
       "    </tr>\n",
       "    <tr>\n",
       "      <th>92</th>\n",
       "      <td>0x2fe0807d0e806549d6ad240dfa47071be908b226</td>\n",
       "      <td>SISU Living Portals</td>\n",
       "      <td>42.857143</td>\n",
       "      <td>3</td>\n",
       "      <td>0x421510312c40486965767be5ea603aa8a5707983</td>\n",
       "      <td>APPROVED</td>\n",
       "    </tr>\n",
       "    <tr>\n",
       "      <th>50</th>\n",
       "      <td>0x37fbf6535ca0d6d35c9077df3322e586c1462ac5</td>\n",
       "      <td>Rebioca</td>\n",
       "      <td>42.857143</td>\n",
       "      <td>6</td>\n",
       "      <td>0x421510312c40486965767be5ea603aa8a5707983</td>\n",
       "      <td>APPROVED</td>\n",
       "    </tr>\n",
       "    <tr>\n",
       "      <th>57</th>\n",
       "      <td>0x5c3f7b8e269cdf055d9dc4ce10d7444d61377d8f</td>\n",
       "      <td>Knysna Alien Busters</td>\n",
       "      <td>41.666667</td>\n",
       "      <td>5</td>\n",
       "      <td>0x421510312c40486965767be5ea603aa8a5707983</td>\n",
       "      <td>APPROVED</td>\n",
       "    </tr>\n",
       "    <tr>\n",
       "      <th>71</th>\n",
       "      <td>0x149cee19bcf7c3d7bfb8b85180168f816a5c42bb</td>\n",
       "      <td>Wild Friends: Play to save wildlife</td>\n",
       "      <td>40.000000</td>\n",
       "      <td>4</td>\n",
       "      <td>0x421510312c40486965767be5ea603aa8a5707983</td>\n",
       "      <td>APPROVED</td>\n",
       "    </tr>\n",
       "    <tr>\n",
       "      <th>101</th>\n",
       "      <td>0xc15677aba8826e78266ff32d3b4bb4bcc8cd9b19</td>\n",
       "      <td>Proof of Renewable Energy Production (PREPchain)</td>\n",
       "      <td>40.000000</td>\n",
       "      <td>2</td>\n",
       "      <td>0x421510312c40486965767be5ea603aa8a5707983</td>\n",
       "      <td>APPROVED</td>\n",
       "    </tr>\n",
       "    <tr>\n",
       "      <th>102</th>\n",
       "      <td>0xcc9cd175c0f053b8f97cf479280afd0b30e1df30</td>\n",
       "      <td>Regeneratie Coöperatie</td>\n",
       "      <td>40.000000</td>\n",
       "      <td>2</td>\n",
       "      <td>0x421510312c40486965767be5ea603aa8a5707983</td>\n",
       "      <td>APPROVED</td>\n",
       "    </tr>\n",
       "    <tr>\n",
       "      <th>21</th>\n",
       "      <td>0x57e6cf96a2e99a3fdaa79acc3a14fc9be1eabc03</td>\n",
       "      <td>The Neptune Project</td>\n",
       "      <td>39.285714</td>\n",
       "      <td>11</td>\n",
       "      <td>0xaa40e2e5c8df03d792a52b5458959c320f86ca18</td>\n",
       "      <td>APPROVED</td>\n",
       "    </tr>\n",
       "    <tr>\n",
       "      <th>22</th>\n",
       "      <td>0x59490c362c54c1b60158f19ce499c82aa3669820</td>\n",
       "      <td>The Impact App + Eco Labs</td>\n",
       "      <td>38.461538</td>\n",
       "      <td>10</td>\n",
       "      <td>0x421510312c40486965767be5ea603aa8a5707983</td>\n",
       "      <td>APPROVED</td>\n",
       "    </tr>\n",
       "    <tr>\n",
       "      <th>33</th>\n",
       "      <td>0x2bc06b249f9a677dccc65ed12f830698f2067c4f</td>\n",
       "      <td>Simbiotica | The source for impact insights on...</td>\n",
       "      <td>38.095238</td>\n",
       "      <td>8</td>\n",
       "      <td>0x421510312c40486965767be5ea603aa8a5707983</td>\n",
       "      <td>APPROVED</td>\n",
       "    </tr>\n",
       "    <tr>\n",
       "      <th>84</th>\n",
       "      <td>0x20d1cc2212b56f7fe4c80907a4f1de74e2ed5537</td>\n",
       "      <td>Vean</td>\n",
       "      <td>37.500000</td>\n",
       "      <td>3</td>\n",
       "      <td>0x421510312c40486965767be5ea603aa8a5707983</td>\n",
       "      <td>APPROVED</td>\n",
       "    </tr>\n",
       "    <tr>\n",
       "      <th>85</th>\n",
       "      <td>0xc705bfefc772b2b0b1cf1652ca3b71e2c933f5c5</td>\n",
       "      <td>ECOHUELLAS</td>\n",
       "      <td>37.500000</td>\n",
       "      <td>3</td>\n",
       "      <td>0x421510312c40486965767be5ea603aa8a5707983</td>\n",
       "      <td>APPROVED</td>\n",
       "    </tr>\n",
       "    <tr>\n",
       "      <th>41</th>\n",
       "      <td>0x435cd42591cc503a909085c3d3d2899d17032f77</td>\n",
       "      <td>Sympoiesis</td>\n",
       "      <td>37.500000</td>\n",
       "      <td>6</td>\n",
       "      <td>0x421510312c40486965767be5ea603aa8a5707983</td>\n",
       "      <td>APPROVED</td>\n",
       "    </tr>\n",
       "  </tbody>\n",
       "</table>\n",
       "</div>"
      ],
      "text/plain": [
       "                                   grantAddress   \n",
       "91   0x09baddebf74a112a00950cae90b61650de4dbcdb  \\\n",
       "87   0xd3f0f07e1c4068b9e80fd641599324f5a768f10b   \n",
       "99   0xf263c33faa2e900ff036b3904082af96af8afbf7   \n",
       "100  0xa9dad55fd684f252d5fdb240e8f8fc57f1ddfae6   \n",
       "93   0xc9683e50d2edc15c72b7a7bb8666f7c5c466fe19   \n",
       "40   0x16d46098e455a04cf7f3e43c3b2706614fdbec85   \n",
       "79   0x423f505479a50264f14730bb8ffcdee67da11d56   \n",
       "78   0x3fa2284d9320badd6c1c1200faacffa0ab54b669   \n",
       "61   0x82d4f37d3a5ebf9b7d89e9d83e1fc59dad3e97af   \n",
       "54   0x949bba9f1c13f2461835366aebcb53c852dd4308   \n",
       "96   0xd356a5eb40f42702520eef026eb6cf226e2a40af   \n",
       "69   0x58b36156a268ec1e28ac781554c556e5152f7450   \n",
       "88   0xd0352d08aa93c9bc9c79d2b3a53846dcd7c9cb92   \n",
       "39   0x7119c556de71cc53965e5be318c9dd4b49ec15e4   \n",
       "66   0xe6ff2e03bb419e91d67bb537fcda9ade555ded88   \n",
       "77   0x4be737b450754bc75f1ef0271d3c5da525173f6b   \n",
       "73   0x2dbc5a4a615c9fa0f93207467ad9fc277faef479   \n",
       "48   0xaec54e3a2f9a1745ff724c5cd91c9beed77a0651   \n",
       "92   0x2fe0807d0e806549d6ad240dfa47071be908b226   \n",
       "50   0x37fbf6535ca0d6d35c9077df3322e586c1462ac5   \n",
       "57   0x5c3f7b8e269cdf055d9dc4ce10d7444d61377d8f   \n",
       "71   0x149cee19bcf7c3d7bfb8b85180168f816a5c42bb   \n",
       "101  0xc15677aba8826e78266ff32d3b4bb4bcc8cd9b19   \n",
       "102  0xcc9cd175c0f053b8f97cf479280afd0b30e1df30   \n",
       "21   0x57e6cf96a2e99a3fdaa79acc3a14fc9be1eabc03   \n",
       "22   0x59490c362c54c1b60158f19ce499c82aa3669820   \n",
       "33   0x2bc06b249f9a677dccc65ed12f830698f2067c4f   \n",
       "84   0x20d1cc2212b56f7fe4c80907a4f1de74e2ed5537   \n",
       "85   0xc705bfefc772b2b0b1cf1652ca3b71e2c933f5c5   \n",
       "41   0x435cd42591cc503a909085c3d3d2899d17032f77   \n",
       "\n",
       "                    metadata.application.project.title   \n",
       "91                                              regrò   \\\n",
       "87                                Fundación Tucultura    \n",
       "99                                            Empathia   \n",
       "100                                            libpwrm   \n",
       "93   CCC: photojournalism expeditions on the field ...   \n",
       "40                                          Myseelia 🍄   \n",
       "79                                            Biolumen   \n",
       "78                                       Proof of Zero   \n",
       "61                       Ranna: Filmmakers for Climate   \n",
       "54                                     Younergy Crypto   \n",
       "96   Mirage Arts Community - Putting into action or...   \n",
       "69                        Climate Attestation Protocol   \n",
       "88            ReFi Local Node: Cape Town, South Africa   \n",
       "39                                       Healing Coral   \n",
       "66   MesoReefDAO - Regenerating Reef Conservation w...   \n",
       "77   DeFood: Decentralized Food Security Network (D...   \n",
       "73                                           Bloomeria   \n",
       "48                                           Crowdmuse   \n",
       "92                                 SISU Living Portals   \n",
       "50                                             Rebioca   \n",
       "57                                Knysna Alien Busters   \n",
       "71                 Wild Friends: Play to save wildlife   \n",
       "101   Proof of Renewable Energy Production (PREPchain)   \n",
       "102                             Regeneratie Coöperatie   \n",
       "21                                 The Neptune Project   \n",
       "22                           The Impact App + Eco Labs   \n",
       "33   Simbiotica | The source for impact insights on...   \n",
       "84                                                Vean   \n",
       "85                                          ECOHUELLAS   \n",
       "41                                          Sympoiesis   \n",
       "\n",
       "     percentage_suspicious_vote  count_suspicious_vote   \n",
       "91                    71.428571                      5  \\\n",
       "87                    62.500000                      5   \n",
       "99                    60.000000                      3   \n",
       "100                   60.000000                      3   \n",
       "93                    57.142857                      4   \n",
       "40                    56.250000                      9   \n",
       "79                    55.555556                      5   \n",
       "78                    55.555556                      5   \n",
       "61                    54.545455                      6   \n",
       "54                    50.000000                      6   \n",
       "96                    50.000000                      3   \n",
       "69                    50.000000                      5   \n",
       "88                    50.000000                      4   \n",
       "39                    47.058824                      8   \n",
       "66                    45.454545                      5   \n",
       "77                    44.444444                      4   \n",
       "73                    44.444444                      4   \n",
       "48                    42.857143                      6   \n",
       "92                    42.857143                      3   \n",
       "50                    42.857143                      6   \n",
       "57                    41.666667                      5   \n",
       "71                    40.000000                      4   \n",
       "101                   40.000000                      2   \n",
       "102                   40.000000                      2   \n",
       "21                    39.285714                     11   \n",
       "22                    38.461538                     10   \n",
       "33                    38.095238                      8   \n",
       "84                    37.500000                      3   \n",
       "85                    37.500000                      3   \n",
       "41                    37.500000                      6   \n",
       "\n",
       "                                        roundId    status  \n",
       "91   0x421510312c40486965767be5ea603aa8a5707983  APPROVED  \n",
       "87   0x421510312c40486965767be5ea603aa8a5707983  APPROVED  \n",
       "99   0x421510312c40486965767be5ea603aa8a5707983  APPROVED  \n",
       "100  0x421510312c40486965767be5ea603aa8a5707983  APPROVED  \n",
       "93   0x421510312c40486965767be5ea603aa8a5707983  APPROVED  \n",
       "40   0x421510312c40486965767be5ea603aa8a5707983  APPROVED  \n",
       "79   0x421510312c40486965767be5ea603aa8a5707983  APPROVED  \n",
       "78   0x421510312c40486965767be5ea603aa8a5707983  APPROVED  \n",
       "61   0x421510312c40486965767be5ea603aa8a5707983  APPROVED  \n",
       "54   0x421510312c40486965767be5ea603aa8a5707983  APPROVED  \n",
       "96   0x421510312c40486965767be5ea603aa8a5707983  APPROVED  \n",
       "69   0x421510312c40486965767be5ea603aa8a5707983  APPROVED  \n",
       "88   0xaa40e2e5c8df03d792a52b5458959c320f86ca18  REJECTED  \n",
       "39   0x421510312c40486965767be5ea603aa8a5707983  APPROVED  \n",
       "66   0x421510312c40486965767be5ea603aa8a5707983  APPROVED  \n",
       "77   0x421510312c40486965767be5ea603aa8a5707983  APPROVED  \n",
       "73   0x421510312c40486965767be5ea603aa8a5707983  APPROVED  \n",
       "48   0x421510312c40486965767be5ea603aa8a5707983  APPROVED  \n",
       "92   0x421510312c40486965767be5ea603aa8a5707983  APPROVED  \n",
       "50   0x421510312c40486965767be5ea603aa8a5707983  APPROVED  \n",
       "57   0x421510312c40486965767be5ea603aa8a5707983  APPROVED  \n",
       "71   0x421510312c40486965767be5ea603aa8a5707983  APPROVED  \n",
       "101  0x421510312c40486965767be5ea603aa8a5707983  APPROVED  \n",
       "102  0x421510312c40486965767be5ea603aa8a5707983  APPROVED  \n",
       "21   0xaa40e2e5c8df03d792a52b5458959c320f86ca18  APPROVED  \n",
       "22   0x421510312c40486965767be5ea603aa8a5707983  APPROVED  \n",
       "33   0x421510312c40486965767be5ea603aa8a5707983  APPROVED  \n",
       "84   0x421510312c40486965767be5ea603aa8a5707983  APPROVED  \n",
       "85   0x421510312c40486965767be5ea603aa8a5707983  APPROVED  \n",
       "41   0x421510312c40486965767be5ea603aa8a5707983  APPROVED  "
      ]
     },
     "execution_count": 117,
     "metadata": {},
     "output_type": "execute_result"
    }
   ],
   "source": [
    "df_vote_grant_2['percentage_suspicious_vote'] = df_vote_grant_2['count_suspicious_vote'] / df_vote_grant_2['count_unique_vote'] * 100\n",
    "print(f'Number of suspicious votes {df_vote_sus_2.shape[0]} Number of projects voted: {df_vote_sus_2.grantAddress.nunique()}')\n",
    "# Merge the project the user voted for and the projects \n",
    "gr_sus_2 = df_vote_grant_2.merge(df_application, left_on='grantAddress', right_on='metadata.application.recipient', how='left').drop_duplicates(subset='grantAddress').loc[:, ['grantAddress', 'metadata.application.project.title', 'percentage_suspicious_vote', 'count_suspicious_vote', 'roundId', 'status']].reset_index(drop=True).sort_values(by='percentage_suspicious_vote', ascending=False)\n",
    "print(f'number of grants: {gr_sus.shape[0]}')\n",
    "gr_sus_2.head(30)"
   ]
  },
  {
   "cell_type": "code",
   "execution_count": 118,
   "metadata": {},
   "outputs": [],
   "source": [
    "boolean_to_keep = ['seed_suspicious', 'has_interaction_toxic', 'has_no_pool_interaction', 'has_interaction_tornado', 'has_interaction_disperse', 'is_airdrop_master', 'has_interaction_airdrop_m', 'interacted_other_ctbt', 'interact_less_5tx', 'flagged']"
   ]
  },
  {
   "cell_type": "code",
   "execution_count": 119,
   "metadata": {},
   "outputs": [
    {
     "data": {
      "text/plain": [
       "seed_suspicious               12\n",
       "has_interaction_toxic          6\n",
       "has_no_pool_interaction      435\n",
       "has_interaction_tornado       10\n",
       "has_interaction_disperse       5\n",
       "is_airdrop_master             26\n",
       "has_interaction_airdrop_m     75\n",
       "interacted_other_ctbt        128\n",
       "interact_less_5tx             13\n",
       "flagged                      104\n",
       "dtype: int64"
      ]
     },
     "execution_count": 119,
     "metadata": {},
     "output_type": "execute_result"
    }
   ],
   "source": [
    "df_matching_address[boolean_to_keep].sum()"
   ]
  },
  {
   "cell_type": "code",
   "execution_count": 120,
   "metadata": {},
   "outputs": [
    {
     "data": {
      "text/plain": [
       "(1970, 16)"
      ]
     },
     "execution_count": 120,
     "metadata": {},
     "output_type": "execute_result"
    }
   ],
   "source": [
    "df_votes.shape"
   ]
  },
  {
   "cell_type": "code",
   "execution_count": 121,
   "metadata": {},
   "outputs": [
    {
     "name": "stdout",
     "output_type": "stream",
     "text": [
      "number of squelched votes out of 1970\n"
     ]
    },
    {
     "data": {
      "text/plain": [
       "coefficient    330\n",
       "dtype: int64"
      ]
     },
     "execution_count": 121,
     "metadata": {},
     "output_type": "execute_result"
    }
   ],
   "source": [
    "final_merge = df_votes.merge(df_matching_address[boolean_to_keep + ['address']], left_on='voter', right_on='address', how='left')\n",
    "print(f'number of squelched votes out of {final_merge.shape[0]}')\n",
    "final_merge.shape[0] - final_merge[['coefficient']].sum() "
   ]
  },
  {
   "cell_type": "code",
   "execution_count": 122,
   "metadata": {},
   "outputs": [
    {
     "name": "stdout",
     "output_type": "stream",
     "text": [
      "(1970, 16)\n",
      "(1970, 27)\n"
     ]
    }
   ],
   "source": [
    "print(df_votes.shape)\n",
    "print(final_merge.shape)"
   ]
  },
  {
   "cell_type": "code",
   "execution_count": 127,
   "metadata": {},
   "outputs": [
    {
     "name": "stderr",
     "output_type": "stream",
     "text": [
      "C:\\Users\\DELL Admin\\AppData\\Local\\Temp\\ipykernel_8948\\2681738413.py:7: DtypeWarning: Columns (15,16) have mixed types. Specify dtype option on import or set low_memory=False.\n",
      "  df_votes_stephi = pd.read_csv(os.path.join(DATA_DIR_STEFI, CSV_STEPHI))\n"
     ]
    },
    {
     "name": "stdout",
     "output_type": "stream",
     "text": [
      "(81811, 19) votes stephi\n",
      "(1970, 27) final merge\n",
      "(1970, 29) votes merge\n"
     ]
    },
    {
     "data": {
      "image/png": "[encoded data removed]",
      "text/plain": [
       "<Figure size 640x480 with 2 Axes>"
      ]
     },
     "metadata": {},
     "output_type": "display_data"
    }
   ],
   "source": [
    "# Adding Stakeriddo and Gray flagged wallet\n",
    "\n",
    "DATA_DIR_STEFI = os.path.join(current_dir.parent.parent, 'stefi')\n",
    "CSV_STEPHI = 'sso_odc_analysis.csv'\n",
    "\n",
    "# load data\n",
    "df_votes_stephi = pd.read_csv(os.path.join(DATA_DIR_STEFI, CSV_STEPHI))\n",
    "print(f'{df_votes_stephi.shape} votes stephi')\n",
    "print(f'{final_merge.shape} final merge')\n",
    "df_stephi_bool_voter = df_votes_stephi[['voter', 'stakeridoo_detected', 'doge_detected']]\n",
    "df_merge = final_merge.merge(df_stephi_bool_voter.drop_duplicates(subset=['voter']), left_on='voter', right_on='voter', how='left')\n",
    "print(f'{df_merge.shape} votes merge')\n",
    "\n",
    "df_merge['bool_gitcoin_detected'] = np.logical_not(df_merge.success.astype(bool))\n",
    "df_merge['stakeridoo_detected'].fillna(False, inplace=True)\n",
    "df_merge['doge_detected'].fillna(False, inplace=True)\n",
    "df_merge['odc_detected'] = np.logical_or(np.logical_or(df_merge['stakeridoo_detected'], df_merge['doge_detected']), df_merge['flagged'])\n",
    "\n",
    "boolean_jaccard = boolean_to_keep + ['stakeridoo_detected', 'doge_detected', 'bool_gitcoin_detected', 'odc_detected']\n",
    "jaccard_similarity_2 = jaccard_similarity_matrix(df_merge[boolean_jaccard])\n",
    "sns.heatmap(jaccard_similarity_2)\n",
    "\n",
    "df_merge['proposed_coeff'] = np.logical_not(np.logical_or(df_merge['odc_detected'], df_merge['bool_gitcoin_detected']))\n",
    "\n",
    "df_merge.drop(columns=['bool_gitcoin_detected', 'address']).to_csv(f'../output_gitcoin/n_{CSV_GITCOIN_GRANTS}', index=False)"
   ]
  },
  {
   "cell_type": "code",
   "execution_count": 129,
   "metadata": {},
   "outputs": [
    {
     "data": {
      "text/plain": [
       "seed_suspicious                28\n",
       "has_interaction_toxic           8\n",
       "has_no_pool_interaction      1598\n",
       "has_interaction_tornado       133\n",
       "has_interaction_disperse       26\n",
       "is_airdrop_master             279\n",
       "has_interaction_airdrop_m     483\n",
       "interacted_other_ctbt         637\n",
       "interact_less_5tx              13\n",
       "flagged                       531\n",
       "stakeridoo_detected             1\n",
       "doge_detected                   1\n",
       "bool_gitcoin_detected         108\n",
       "odc_detected                  532\n",
       "dtype: int64"
      ]
     },
     "execution_count": 129,
     "metadata": {},
     "output_type": "execute_result"
    }
   ],
   "source": [
    "df_merge[boolean_jaccard].sum(axis=0)"
   ]
  }
 ],
 "metadata": {
  "kernelspec": {
   "display_name": "venvotes",
   "language": "python",
   "name": "python3"
  },
  "language_info": {
   "codemirror_mode": {
    "name": "ipython",
    "version": 3
   },
   "file_extension": ".py",
   "mimetype": "text/x-python",
   "name": "python",
   "nbconvert_exporter": "python",
   "pygments_lexer": "ipython3",
   "version": "3.10.9"
  },
  "orig_nbformat": 4
 },
 "nbformat": 4,
 "nbformat_minor": 2
}
