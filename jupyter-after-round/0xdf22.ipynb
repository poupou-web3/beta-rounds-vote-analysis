{
 "cells": [
  {
   "attachments": {},
   "cell_type": "markdown",
   "metadata": {},
   "source": [
    "# vote_coefficients-0xdf22a2C8F6BA9376fF17EE13E6154B784ee92094\n"
   ]
  },
  {
   "cell_type": "code",
   "execution_count": 1,
   "metadata": {},
   "outputs": [],
   "source": [
    "import os\n",
    "from pathlib import Path\n",
    "import numpy as np\n",
    "\n",
    "import pandas as pd\n",
    "\n",
    "from sbdata.FlipsideApi import FlipsideApi\n",
    "\n",
    "# Set path to data folder\n",
    "current_dir = Path(os.getcwd())\n",
    "PATH_TO_EXPORT = os.path.join(current_dir.parent.parent, 'tx_data', 'all_beta_rounds')\n",
    "DATA_DIR = os.path.join(current_dir.parent.parent, 'data-regen-rangers')\n",
    "DATA_DIR_GITCOIN = os.path.join(current_dir.parent.parent, 'data-gitcoin')\n",
    "CSV_GITCOIN_GRANTS = 'vote_coefficients-0xdf22a2C8F6BA9376fF17EE13E6154B784ee92094.csv'\n",
    "\n",
    "# read the address from oss grant\n",
    "\n",
    "api_key = os.environ['FLIPSIDE_API_KEY']\n",
    "flipside_api = FlipsideApi(api_key, max_address=400)\n",
    "PATH_TO_VOTES = os.path.join(DATA_DIR, \"votes_baoki.csv\")\n",
    "PATH_TO_GRANTS = os.path.join(DATA_DIR, \"all-allo-rounds.csv\")\n",
    "PATH_TO_PROJECTS = os.path.join(DATA_DIR, \"projects_QmQurt.csv\")\n",
    "PATH_TO_VOTES_GITCOIN = os.path.join(DATA_DIR_GITCOIN, CSV_GITCOIN_GRANTS)\n",
    "\n",
    "# load data\n",
    "df_votes = pd.read_csv(PATH_TO_VOTES_GITCOIN)\n",
    "df_grants = pd.read_csv(PATH_TO_GRANTS)\n",
    "df_application = pd.read_csv(PATH_TO_PROJECTS)\n",
    "# Lowercase all addresses because flipside api return lowercase address\n",
    "#id,projectId,applicationId,roundId,token,voter,grantAddress,amount,amountUSD,coefficient,status,last_score_timestamp,type,success,rawScore,threshold\n",
    "df_grants['Round ID'] = df_grants['Round ID'].str.lower()\n",
    "str_columns_votes = ['id', 'projectId', 'roundId', 'voter', 'grantAddress']\n",
    "df_votes[str_columns_votes] = df_votes[str_columns_votes].applymap(lambda x: x.lower())\n",
    "\n",
    "str_columns_application = ['id', 'roundId', 'metadata.application.round', 'metadata.application.recipient']\n",
    "df_application[str_columns_application] = df_application[str_columns_application].applymap(lambda x: str(x).lower())\n",
    "\n",
    "# round_id = df_grants[df_grants['Round name'] == 'Web3 Community and Education']['Round ID'].values[0]\n",
    "array_unique_address = df_votes['voter'].unique()\n",
    "\n",
    "array_unique_address = np.char.lower(array_unique_address.astype(str))\n"
   ]
  },
  {
   "cell_type": "code",
   "execution_count": 2,
   "metadata": {},
   "outputs": [],
   "source": [
    "from sbutils import LoadData\n",
    "\n",
    "# Load data\n",
    "data_loader = LoadData.LoadData(PATH_TO_EXPORT)\n",
    "df_tx = data_loader.create_df_tx('ethereum', array_unique_address)"
   ]
  },
  {
   "cell_type": "code",
   "execution_count": 3,
   "metadata": {},
   "outputs": [
    {
     "data": {
      "text/plain": [
       "1062"
      ]
     },
     "execution_count": 3,
     "metadata": {},
     "output_type": "execute_result"
    }
   ],
   "source": [
    "len(array_unique_address)"
   ]
  },
  {
   "cell_type": "code",
   "execution_count": 4,
   "metadata": {},
   "outputs": [
    {
     "data": {
      "text/plain": [
       "1062"
      ]
     },
     "execution_count": 4,
     "metadata": {},
     "output_type": "execute_result"
    }
   ],
   "source": [
    "df_tx.EOA.nunique()"
   ]
  },
  {
   "cell_type": "code",
   "execution_count": 5,
   "metadata": {},
   "outputs": [
    {
     "data": {
      "text/plain": [
       "array([], dtype=object)"
      ]
     },
     "execution_count": 5,
     "metadata": {},
     "output_type": "execute_result"
    }
   ],
   "source": [
    "c = np.setxor1d(array_unique_address, df_tx.EOA.values)\n",
    "c"
   ]
  },
  {
   "attachments": {},
   "cell_type": "markdown",
   "metadata": {},
   "source": [
    "## Computing legos booleans"
   ]
  },
  {
   "cell_type": "code",
   "execution_count": 6,
   "metadata": {},
   "outputs": [],
   "source": [
    "from sblegos.TransactionAnalyser import TransactionAnalyser as txa\n",
    "tx_analyser = txa(df_tx, df_address=pd.DataFrame(np.intersect1d(df_tx.EOA.unique(), array_unique_address)))"
   ]
  },
  {
   "attachments": {},
   "cell_type": "markdown",
   "metadata": {},
   "source": [
    "use matching address because some addresses are not in the extracted data set"
   ]
  },
  {
   "cell_type": "code",
   "execution_count": 7,
   "metadata": {},
   "outputs": [
    {
     "data": {
      "text/html": [
       "<div>\n",
       "<style scoped>\n",
       "    .dataframe tbody tr th:only-of-type {\n",
       "        vertical-align: middle;\n",
       "    }\n",
       "\n",
       "    .dataframe tbody tr th {\n",
       "        vertical-align: top;\n",
       "    }\n",
       "\n",
       "    .dataframe thead th {\n",
       "        text-align: right;\n",
       "    }\n",
       "</style>\n",
       "<table border=\"1\" class=\"dataframe\">\n",
       "  <thead>\n",
       "    <tr style=\"text-align: right;\">\n",
       "      <th></th>\n",
       "      <th>address</th>\n",
       "    </tr>\n",
       "  </thead>\n",
       "  <tbody>\n",
       "    <tr>\n",
       "      <th>0</th>\n",
       "      <td>0x0000005178d55139ba21423218ea7290a7ccdc81</td>\n",
       "    </tr>\n",
       "    <tr>\n",
       "      <th>1</th>\n",
       "      <td>0x0029ab135b5be72168bf80f140d60a9264dbd0c5</td>\n",
       "    </tr>\n",
       "  </tbody>\n",
       "</table>\n",
       "</div>"
      ],
      "text/plain": [
       "                                      address\n",
       "0  0x0000005178d55139ba21423218ea7290a7ccdc81\n",
       "1  0x0029ab135b5be72168bf80f140d60a9264dbd0c5"
      ]
     },
     "execution_count": 7,
     "metadata": {},
     "output_type": "execute_result"
    }
   ],
   "source": [
    "df_matching_address = pd.DataFrame(df_tx.EOA.unique(), columns=[\"address\"])\n",
    "df_matching_address.head(2)"
   ]
  },
  {
   "attachments": {},
   "cell_type": "markdown",
   "metadata": {},
   "source": [
    "Compute the boolean "
   ]
  },
  {
   "attachments": {},
   "cell_type": "markdown",
   "metadata": {},
   "source": [
    "less than 10 x transaction are not performant legos so we don't use it, has same seed is computed as an intermediarry to get the seed_suspicious flag"
   ]
  },
  {
   "cell_type": "code",
   "execution_count": 8,
   "metadata": {},
   "outputs": [],
   "source": [
    "df_matching_address['seed_same_naive'] = df_matching_address.loc[:, 'address'].apply(lambda x : tx_analyser.has_same_seed_naive(x))\n",
    "df_matching_address['seed_same'] = df_matching_address.loc[:, 'address'].apply(lambda x : tx_analyser.has_same_seed(x))\n",
    "df_matching_address['seed_suspicious'] = df_matching_address.loc[:, 'seed_same_naive'].ne(df_matching_address.loc[:, 'seed_same'])\n",
    "df_matching_address['less_5_tx'] = df_matching_address.loc[:, 'address'].apply(lambda x : tx_analyser.has_less_than_n_transactions(x, 5))\n",
    "# df_matching_address['less_10_tx'] = df_matching_address.loc[:, 'address'].apply(lambda x : tx_analyser.has_less_than_n_transactions(x, 10))\n",
    "df_matching_address['interacted_other_ctbt'] = df_matching_address.loc[:, 'address'].apply(lambda x : tx_analyser.has_interacted_with_other_contributor(x))"
   ]
  },
  {
   "cell_type": "code",
   "execution_count": 9,
   "metadata": {},
   "outputs": [
    {
     "name": "stdout",
     "output_type": "stream",
     "text": [
      "Number of voters: 1062\n"
     ]
    }
   ],
   "source": [
    "print(f'Number of voters: {len(df_matching_address)}')"
   ]
  },
  {
   "cell_type": "code",
   "execution_count": 10,
   "metadata": {},
   "outputs": [
    {
     "data": {
      "text/plain": [
       "address                  0x0000005178d55139ba21423218ea7290a7ccdc810x00...\n",
       "seed_same_naive                                                        604\n",
       "seed_same                                                              630\n",
       "seed_suspicious                                                         26\n",
       "less_5_tx                                                                4\n",
       "interacted_other_ctbt                                                  165\n",
       "dtype: object"
      ]
     },
     "execution_count": 10,
     "metadata": {},
     "output_type": "execute_result"
    }
   ],
   "source": [
    "df_matching_address.sum()"
   ]
  },
  {
   "attachments": {},
   "cell_type": "markdown",
   "metadata": {},
   "source": [
    "### Investigating the boolean seed suspicious"
   ]
  },
  {
   "cell_type": "code",
   "execution_count": 11,
   "metadata": {},
   "outputs": [
    {
     "data": {
      "text/html": [
       "<div>\n",
       "<style scoped>\n",
       "    .dataframe tbody tr th:only-of-type {\n",
       "        vertical-align: middle;\n",
       "    }\n",
       "\n",
       "    .dataframe tbody tr th {\n",
       "        vertical-align: top;\n",
       "    }\n",
       "\n",
       "    .dataframe thead th {\n",
       "        text-align: right;\n",
       "    }\n",
       "</style>\n",
       "<table border=\"1\" class=\"dataframe\">\n",
       "  <thead>\n",
       "    <tr style=\"text-align: right;\">\n",
       "      <th></th>\n",
       "      <th>address</th>\n",
       "      <th>seed_same_naive</th>\n",
       "      <th>seed_same</th>\n",
       "      <th>seed_suspicious</th>\n",
       "      <th>less_5_tx</th>\n",
       "      <th>interacted_other_ctbt</th>\n",
       "    </tr>\n",
       "  </thead>\n",
       "  <tbody>\n",
       "    <tr>\n",
       "      <th>18</th>\n",
       "      <td>0x059fde12f424fa2aa9c3d9fd128cbe47b9bc2a85</td>\n",
       "      <td>False</td>\n",
       "      <td>True</td>\n",
       "      <td>True</td>\n",
       "      <td>False</td>\n",
       "      <td>False</td>\n",
       "    </tr>\n",
       "    <tr>\n",
       "      <th>47</th>\n",
       "      <td>0x0b02898ad0b7e19e3ebea23c74eafafe6a867dda</td>\n",
       "      <td>False</td>\n",
       "      <td>True</td>\n",
       "      <td>True</td>\n",
       "      <td>False</td>\n",
       "      <td>False</td>\n",
       "    </tr>\n",
       "    <tr>\n",
       "      <th>59</th>\n",
       "      <td>0x0e75eabd04986a8fb0b8cb30d6dd069c86e5e142</td>\n",
       "      <td>False</td>\n",
       "      <td>True</td>\n",
       "      <td>True</td>\n",
       "      <td>False</td>\n",
       "      <td>False</td>\n",
       "    </tr>\n",
       "    <tr>\n",
       "      <th>157</th>\n",
       "      <td>0x274b15188071778ee870c6b9462f07d7456a81de</td>\n",
       "      <td>False</td>\n",
       "      <td>True</td>\n",
       "      <td>True</td>\n",
       "      <td>False</td>\n",
       "      <td>False</td>\n",
       "    </tr>\n",
       "    <tr>\n",
       "      <th>202</th>\n",
       "      <td>0x31fe409c0d66af66a40b21a1c963168f4e1323b3</td>\n",
       "      <td>False</td>\n",
       "      <td>True</td>\n",
       "      <td>True</td>\n",
       "      <td>False</td>\n",
       "      <td>False</td>\n",
       "    </tr>\n",
       "    <tr>\n",
       "      <th>270</th>\n",
       "      <td>0x4189ab08f226612a0181642b63f55fc2e6fa0537</td>\n",
       "      <td>False</td>\n",
       "      <td>True</td>\n",
       "      <td>True</td>\n",
       "      <td>False</td>\n",
       "      <td>False</td>\n",
       "    </tr>\n",
       "    <tr>\n",
       "      <th>278</th>\n",
       "      <td>0x4360187ba1204bf91e9f697f67283b38f962da3e</td>\n",
       "      <td>False</td>\n",
       "      <td>True</td>\n",
       "      <td>True</td>\n",
       "      <td>False</td>\n",
       "      <td>False</td>\n",
       "    </tr>\n",
       "    <tr>\n",
       "      <th>293</th>\n",
       "      <td>0x47a39544dc1af6ab7060babde4a336a795e652d3</td>\n",
       "      <td>False</td>\n",
       "      <td>True</td>\n",
       "      <td>True</td>\n",
       "      <td>False</td>\n",
       "      <td>False</td>\n",
       "    </tr>\n",
       "    <tr>\n",
       "      <th>316</th>\n",
       "      <td>0x4e441d3a31c8b2672a7685482bd288938e5b7833</td>\n",
       "      <td>False</td>\n",
       "      <td>True</td>\n",
       "      <td>True</td>\n",
       "      <td>False</td>\n",
       "      <td>False</td>\n",
       "    </tr>\n",
       "    <tr>\n",
       "      <th>367</th>\n",
       "      <td>0x5aeedbc6b655c13950f32e5e8a0760d15bbe0afb</td>\n",
       "      <td>False</td>\n",
       "      <td>True</td>\n",
       "      <td>True</td>\n",
       "      <td>False</td>\n",
       "      <td>False</td>\n",
       "    </tr>\n",
       "    <tr>\n",
       "      <th>389</th>\n",
       "      <td>0x5e6f984b5de41efa109287d5022b9ba865a2924c</td>\n",
       "      <td>False</td>\n",
       "      <td>True</td>\n",
       "      <td>True</td>\n",
       "      <td>False</td>\n",
       "      <td>False</td>\n",
       "    </tr>\n",
       "    <tr>\n",
       "      <th>464</th>\n",
       "      <td>0x6e0ba269d7858a2db0ace0f435a4299d6c5bd529</td>\n",
       "      <td>False</td>\n",
       "      <td>True</td>\n",
       "      <td>True</td>\n",
       "      <td>False</td>\n",
       "      <td>False</td>\n",
       "    </tr>\n",
       "    <tr>\n",
       "      <th>537</th>\n",
       "      <td>0x7f62ee76cbe653a9dac1442cb96ff063d20b62e5</td>\n",
       "      <td>False</td>\n",
       "      <td>True</td>\n",
       "      <td>True</td>\n",
       "      <td>False</td>\n",
       "      <td>False</td>\n",
       "    </tr>\n",
       "    <tr>\n",
       "      <th>594</th>\n",
       "      <td>0x8e7d20638947132b0e6e1afde2da1b103aff9280</td>\n",
       "      <td>False</td>\n",
       "      <td>True</td>\n",
       "      <td>True</td>\n",
       "      <td>False</td>\n",
       "      <td>False</td>\n",
       "    </tr>\n",
       "    <tr>\n",
       "      <th>604</th>\n",
       "      <td>0x904cbe32d0880c0f94025c0b118f1d6729c5d2bb</td>\n",
       "      <td>False</td>\n",
       "      <td>True</td>\n",
       "      <td>True</td>\n",
       "      <td>False</td>\n",
       "      <td>False</td>\n",
       "    </tr>\n",
       "    <tr>\n",
       "      <th>735</th>\n",
       "      <td>0xb01768ca836f2aa4a5c240a8d3782a61c081bb84</td>\n",
       "      <td>False</td>\n",
       "      <td>True</td>\n",
       "      <td>True</td>\n",
       "      <td>False</td>\n",
       "      <td>False</td>\n",
       "    </tr>\n",
       "    <tr>\n",
       "      <th>793</th>\n",
       "      <td>0xbe0a0846bf2057b901bb1e3e577147a2be8663d8</td>\n",
       "      <td>False</td>\n",
       "      <td>True</td>\n",
       "      <td>True</td>\n",
       "      <td>False</td>\n",
       "      <td>False</td>\n",
       "    </tr>\n",
       "    <tr>\n",
       "      <th>811</th>\n",
       "      <td>0xc28064b875ae25f9a2ca28c08f116a5c26229f69</td>\n",
       "      <td>False</td>\n",
       "      <td>True</td>\n",
       "      <td>True</td>\n",
       "      <td>False</td>\n",
       "      <td>False</td>\n",
       "    </tr>\n",
       "    <tr>\n",
       "      <th>814</th>\n",
       "      <td>0xc2e2b715d9e302947ec7e312fd2384b5a1296099</td>\n",
       "      <td>False</td>\n",
       "      <td>True</td>\n",
       "      <td>True</td>\n",
       "      <td>False</td>\n",
       "      <td>True</td>\n",
       "    </tr>\n",
       "    <tr>\n",
       "      <th>847</th>\n",
       "      <td>0xca7b0ce9f73164c2fa1ec90826c94df00796e994</td>\n",
       "      <td>False</td>\n",
       "      <td>True</td>\n",
       "      <td>True</td>\n",
       "      <td>False</td>\n",
       "      <td>False</td>\n",
       "    </tr>\n",
       "    <tr>\n",
       "      <th>875</th>\n",
       "      <td>0xd1d44bed62a27ca6a1514480e985699f3a470cd7</td>\n",
       "      <td>False</td>\n",
       "      <td>True</td>\n",
       "      <td>True</td>\n",
       "      <td>False</td>\n",
       "      <td>False</td>\n",
       "    </tr>\n",
       "    <tr>\n",
       "      <th>901</th>\n",
       "      <td>0xd743c426849d2fddf4621db167c6627b47c19d47</td>\n",
       "      <td>False</td>\n",
       "      <td>True</td>\n",
       "      <td>True</td>\n",
       "      <td>False</td>\n",
       "      <td>False</td>\n",
       "    </tr>\n",
       "    <tr>\n",
       "      <th>933</th>\n",
       "      <td>0xdfef68b86eff06691e3edfaebf620c84eb86f0e3</td>\n",
       "      <td>False</td>\n",
       "      <td>True</td>\n",
       "      <td>True</td>\n",
       "      <td>False</td>\n",
       "      <td>False</td>\n",
       "    </tr>\n",
       "    <tr>\n",
       "      <th>948</th>\n",
       "      <td>0xe454d47f89e1e5434779bca6ef7190a7e9dfd9d0</td>\n",
       "      <td>False</td>\n",
       "      <td>True</td>\n",
       "      <td>True</td>\n",
       "      <td>False</td>\n",
       "      <td>False</td>\n",
       "    </tr>\n",
       "    <tr>\n",
       "      <th>989</th>\n",
       "      <td>0xefa80a25527fcdde37058aad50983f5c5f72039c</td>\n",
       "      <td>False</td>\n",
       "      <td>True</td>\n",
       "      <td>True</td>\n",
       "      <td>False</td>\n",
       "      <td>False</td>\n",
       "    </tr>\n",
       "    <tr>\n",
       "      <th>1029</th>\n",
       "      <td>0xf97f261e2fd4cb035412abcde731d29c52dce136</td>\n",
       "      <td>False</td>\n",
       "      <td>True</td>\n",
       "      <td>True</td>\n",
       "      <td>False</td>\n",
       "      <td>False</td>\n",
       "    </tr>\n",
       "  </tbody>\n",
       "</table>\n",
       "</div>"
      ],
      "text/plain": [
       "                                         address  seed_same_naive  seed_same   \n",
       "18    0x059fde12f424fa2aa9c3d9fd128cbe47b9bc2a85            False       True  \\\n",
       "47    0x0b02898ad0b7e19e3ebea23c74eafafe6a867dda            False       True   \n",
       "59    0x0e75eabd04986a8fb0b8cb30d6dd069c86e5e142            False       True   \n",
       "157   0x274b15188071778ee870c6b9462f07d7456a81de            False       True   \n",
       "202   0x31fe409c0d66af66a40b21a1c963168f4e1323b3            False       True   \n",
       "270   0x4189ab08f226612a0181642b63f55fc2e6fa0537            False       True   \n",
       "278   0x4360187ba1204bf91e9f697f67283b38f962da3e            False       True   \n",
       "293   0x47a39544dc1af6ab7060babde4a336a795e652d3            False       True   \n",
       "316   0x4e441d3a31c8b2672a7685482bd288938e5b7833            False       True   \n",
       "367   0x5aeedbc6b655c13950f32e5e8a0760d15bbe0afb            False       True   \n",
       "389   0x5e6f984b5de41efa109287d5022b9ba865a2924c            False       True   \n",
       "464   0x6e0ba269d7858a2db0ace0f435a4299d6c5bd529            False       True   \n",
       "537   0x7f62ee76cbe653a9dac1442cb96ff063d20b62e5            False       True   \n",
       "594   0x8e7d20638947132b0e6e1afde2da1b103aff9280            False       True   \n",
       "604   0x904cbe32d0880c0f94025c0b118f1d6729c5d2bb            False       True   \n",
       "735   0xb01768ca836f2aa4a5c240a8d3782a61c081bb84            False       True   \n",
       "793   0xbe0a0846bf2057b901bb1e3e577147a2be8663d8            False       True   \n",
       "811   0xc28064b875ae25f9a2ca28c08f116a5c26229f69            False       True   \n",
       "814   0xc2e2b715d9e302947ec7e312fd2384b5a1296099            False       True   \n",
       "847   0xca7b0ce9f73164c2fa1ec90826c94df00796e994            False       True   \n",
       "875   0xd1d44bed62a27ca6a1514480e985699f3a470cd7            False       True   \n",
       "901   0xd743c426849d2fddf4621db167c6627b47c19d47            False       True   \n",
       "933   0xdfef68b86eff06691e3edfaebf620c84eb86f0e3            False       True   \n",
       "948   0xe454d47f89e1e5434779bca6ef7190a7e9dfd9d0            False       True   \n",
       "989   0xefa80a25527fcdde37058aad50983f5c5f72039c            False       True   \n",
       "1029  0xf97f261e2fd4cb035412abcde731d29c52dce136            False       True   \n",
       "\n",
       "      seed_suspicious  less_5_tx  interacted_other_ctbt  \n",
       "18               True      False                  False  \n",
       "47               True      False                  False  \n",
       "59               True      False                  False  \n",
       "157              True      False                  False  \n",
       "202              True      False                  False  \n",
       "270              True      False                  False  \n",
       "278              True      False                  False  \n",
       "293              True      False                  False  \n",
       "316              True      False                  False  \n",
       "367              True      False                  False  \n",
       "389              True      False                  False  \n",
       "464              True      False                  False  \n",
       "537              True      False                  False  \n",
       "594              True      False                  False  \n",
       "604              True      False                  False  \n",
       "735              True      False                  False  \n",
       "793              True      False                  False  \n",
       "811              True      False                  False  \n",
       "814              True      False                   True  \n",
       "847              True      False                  False  \n",
       "875              True      False                  False  \n",
       "901              True      False                  False  \n",
       "933              True      False                  False  \n",
       "948              True      False                  False  \n",
       "989              True      False                  False  \n",
       "1029             True      False                  False  "
      ]
     },
     "execution_count": 11,
     "metadata": {},
     "output_type": "execute_result"
    }
   ],
   "source": [
    "df_matching_address[df_matching_address['seed_suspicious'] == True]"
   ]
  },
  {
   "cell_type": "code",
   "execution_count": 12,
   "metadata": {},
   "outputs": [],
   "source": [
    "# projects_voted = df_votes[df_votes['voter'] == '0xc28064b875ae25f9a2ca28c08f116a5c26229f69']\n",
    "# print(f'Number of votes {projects_voted.shape[0]} Number of projects voted: {projects_voted.grantAddress.nunique()}')\n",
    "# # Merge the project the user voted for and the projects \n",
    "# projects_voted.merge(df_application, left_on='grantAddress', right_on='metadata.application.recipient', how='left').drop_duplicates(subset='grantAddress').loc[:, ['grantAddress', 'metadata.application.project.title', 'status', 'metadata.application.round']].reset_index(drop=True)"
   ]
  },
  {
   "attachments": {},
   "cell_type": "markdown",
   "metadata": {},
   "source": [
    "Some of the projects he donated to are in the list of Rejected projects showing that this address is indeed a sybil. And may have contributed to ohter fraudulent projects."
   ]
  },
  {
   "attachments": {},
   "cell_type": "markdown",
   "metadata": {},
   "source": [
    "- Pulsar is not very active and is forked code for the most part\n",
    "- Fusion not very active on github but has a lot of activity on twitter \n",
    "- Share suspicious Github with no activity, twitter does not exists: suspicious\n",
    "\n",
    "Other projects are ok"
   ]
  },
  {
   "cell_type": "code",
   "execution_count": 13,
   "metadata": {},
   "outputs": [],
   "source": [
    "# projects_voted = df_votes[df_votes['voter'] == '0x61ffe691821291d02e9ba5d33098adcee71a3a17']\n",
    "# print(f'Number of votes {projects_voted.shape[0]} Number of projects voted: {projects_voted.grantAddress.nunique()}')\n",
    "# # Merge the project the user voted for and the projects \n",
    "# projects_voted.merge(df_application, left_on='grantAddress', right_on='metadata.application.recipient', how='left').drop_duplicates(subset='grantAddress').loc[:, ['grantAddress', 'metadata.application.project.title']].reset_index(drop=True)"
   ]
  },
  {
   "cell_type": "code",
   "execution_count": 14,
   "metadata": {},
   "outputs": [],
   "source": [
    "# projects_voted = df_votes[df_votes['voter'] == '0xe51200a4d161935fc311ed8a0401feb1abf20e3a']\n",
    "# print(f'Number of votes {projects_voted.shape[0]} Number of projects voted: {projects_voted.grantAddress.nunique()}')\n",
    "# # Merge the project the user voted for and the projects \n",
    "# projects_voted.merge(df_application, left_on='grantAddress', right_on='metadata.application.recipient', how='left').drop_duplicates(subset='grantAddress').loc[:, ['grantAddress', 'metadata.application.project.title']].reset_index(drop=True)"
   ]
  },
  {
   "attachments": {},
   "cell_type": "markdown",
   "metadata": {},
   "source": [
    "The boolean seed suspicious is not relevant for that round we will not use it for the analysis."
   ]
  },
  {
   "attachments": {},
   "cell_type": "markdown",
   "metadata": {},
   "source": [
    "### Computing the new dex interaction score\n",
    "It was investigated in another notebook "
   ]
  },
  {
   "cell_type": "code",
   "execution_count": 15,
   "metadata": {},
   "outputs": [],
   "source": [
    "def get_interacted_address(from_address, to_address, address):\n",
    "    if from_address == address:\n",
    "        return to_address\n",
    "    else:\n",
    "        return from_address\n",
    "\n",
    "def count_interaction_with_any(tx_analyser, address, array_address):\n",
    "    \"\"\"\n",
    "    Return an integer of the number of interactions with the addresses in the array_address\n",
    "    Parameters\n",
    "    ----------\n",
    "    address : str\n",
    "        The address to check\n",
    "\n",
    "    Returns\n",
    "    -------\n",
    "    count_interaction_with_any : int\n",
    "        The number of interactions with the addresses in the array_address\n",
    "    \"\"\"\n",
    "    tx_analyser.set_group_by_sorted_EOA()\n",
    "\n",
    "    df = tx_analyser.gb_EOA_sorted.get_group(address)\n",
    "    address_interacted = df.apply(lambda x: get_interacted_address(x['from_address'], x['to_address'], address), axis=1)\n",
    "    tx_boolean_interacted = address_interacted.isin(array_address)\n",
    "    return tx_boolean_interacted.sum()\n",
    "\n",
    "def has_interacted_with_any(tx_analyser, address, array_address):\n",
    "    \"\"\"\n",
    "    Return a boolean whether the address has interacted with any address in the array_address\n",
    "    Parameters\n",
    "    ----------\n",
    "    address : str\n",
    "        The address to check\n",
    "\n",
    "    Returns\n",
    "    -------\n",
    "    has_interacted_with_any : bool\n",
    "        True if the address has interacted with one or more of the addresses in the array_address\n",
    "    \"\"\"\n",
    "    count_interaction_with_any = count_interaction_with_any(tx_analyser, address, array_address)\n",
    "    return count_interaction_with_any > 0"
   ]
  },
  {
   "cell_type": "code",
   "execution_count": 16,
   "metadata": {},
   "outputs": [],
   "source": [
    "label_query = '''\n",
    "SELECT ADDRESS, CREATOR, LABEL_TYPE, ADDRESS_NAME, PROJECT_NAME\n",
    "FROM crosschain.core.address_labels \n",
    "WHERE BLOCKCHAIN='ethereum'\n",
    "AND LABEL_SUBTYPE = 'pool' \n",
    ";'''\n",
    "df_label = flipside_api.execute_query(label_query)"
   ]
  },
  {
   "cell_type": "code",
   "execution_count": 17,
   "metadata": {},
   "outputs": [],
   "source": [
    "# extract all the pool addresses\n",
    "array_pool_address = df_label['address'].unique()"
   ]
  },
  {
   "cell_type": "code",
   "execution_count": 18,
   "metadata": {},
   "outputs": [],
   "source": [
    "tx_analyser.set_group_by_sorted_EOA()"
   ]
  },
  {
   "cell_type": "code",
   "execution_count": 19,
   "metadata": {},
   "outputs": [],
   "source": [
    "# Compute the number of interactions with any of the pools for each address\n",
    "df_matching_address['count_interaction_with_pool'] = df_matching_address['address'].apply(lambda x: count_interaction_with_any(tx_analyser, x, array_pool_address))"
   ]
  },
  {
   "cell_type": "code",
   "execution_count": 20,
   "metadata": {},
   "outputs": [
    {
     "data": {
      "text/plain": [
       "0.507532956685499"
      ]
     },
     "execution_count": 20,
     "metadata": {},
     "output_type": "execute_result"
    }
   ],
   "source": [
    "(df_matching_address['count_interaction_with_pool'] > 0).sum() / len(df_matching_address)"
   ]
  },
  {
   "cell_type": "code",
   "execution_count": 21,
   "metadata": {},
   "outputs": [],
   "source": [
    "label_query = '''\n",
    "SELECT DISTINCT(LABEL_SUBTYPE)\n",
    "FROM crosschain.core.address_labels \n",
    "WHERE BLOCKCHAIN='ethereum'\n",
    ";'''\n",
    "df_distinct_labels = flipside_api.execute_query(label_query)"
   ]
  },
  {
   "cell_type": "code",
   "execution_count": 22,
   "metadata": {},
   "outputs": [
    {
     "data": {
      "text/plain": [
       "array(['chadmin', 'aggregator_contract', 'multisig', 'airdrop_contract',\n",
       "       'foundation', 'marketplace', 'treasury', 'token_sale', 'voting',\n",
       "       'swap_contract', 'strategy', 'hot_wallet', 'contract_deployer',\n",
       "       'donation_address', 'mining_pool', 'governance', 'oracle', 'toxic',\n",
       "       'dao', 'rewards', 'deposit_wallet', 'staking_contract', 'vault',\n",
       "       'reserve', 'escrow', 'nf_token_contract', 'token_distribution',\n",
       "       'nf_position_manager', 'general_contract', 'distributor_cex',\n",
       "       'swap_router', 'router', 'token_contract', 'bridge', 'mint_burn',\n",
       "       'mint_contract', 'cold_wallet', 'pool', 'fee_wallet'], dtype=object)"
      ]
     },
     "execution_count": 22,
     "metadata": {},
     "output_type": "execute_result"
    }
   ],
   "source": [
    "df_distinct_labels.label_subtype.unique()"
   ]
  },
  {
   "attachments": {},
   "cell_type": "markdown",
   "metadata": {},
   "source": [
    "From these tags lets flag any address that have interacted with a toxic wallet"
   ]
  },
  {
   "cell_type": "code",
   "execution_count": 23,
   "metadata": {},
   "outputs": [],
   "source": [
    "label_query = '''\n",
    "SELECT ADDRESS, CREATOR, LABEL_TYPE, ADDRESS_NAME, PROJECT_NAME\n",
    "FROM crosschain.core.address_labels \n",
    "WHERE BLOCKCHAIN='ethereum'\n",
    "AND LABEL_SUBTYPE = 'toxic'\n",
    ";'''\n",
    "df_toxic = flipside_api.execute_query(label_query)"
   ]
  },
  {
   "cell_type": "code",
   "execution_count": 24,
   "metadata": {},
   "outputs": [
    {
     "data": {
      "text/plain": [
       "(4857, 6)"
      ]
     },
     "execution_count": 24,
     "metadata": {},
     "output_type": "execute_result"
    }
   ],
   "source": [
    "df_toxic.shape"
   ]
  },
  {
   "cell_type": "code",
   "execution_count": 25,
   "metadata": {},
   "outputs": [],
   "source": [
    "# Compute the number of interactions with any of the scam for each address\n",
    "df_matching_address['count_interaction_with_toxic'] = df_matching_address['address'].apply(lambda x: count_interaction_with_any(tx_analyser, x, df_toxic['address'].unique()))"
   ]
  },
  {
   "cell_type": "code",
   "execution_count": 26,
   "metadata": {},
   "outputs": [
    {
     "name": "stdout",
     "output_type": "stream",
     "text": [
      "Percentage of addresses that have interacted with a toxic address: 2%\n"
     ]
    }
   ],
   "source": [
    "print(f'Percentage of addresses that have interacted with a toxic address: {int((df_matching_address[\"count_interaction_with_toxic\"] > 0).sum() / len(df_matching_address) *100)}%')"
   ]
  },
  {
   "cell_type": "code",
   "execution_count": 27,
   "metadata": {},
   "outputs": [],
   "source": [
    "tag_query = '''\n",
    "SELECT DISTINCT(TAG_TYPE)\n",
    "FROM crosschain.core.address_tags \n",
    "WHERE BLOCKCHAIN='ethereum'\n",
    ";'''\n",
    "df_distinct_tags = flipside_api.execute_query(tag_query)"
   ]
  },
  {
   "cell_type": "code",
   "execution_count": 28,
   "metadata": {},
   "outputs": [
    {
     "data": {
      "text/plain": [
       "array(['activity', 'Aave Delegates', 'dex', 'wallet', 'contract', 'NFT',\n",
       "       'dydx delegate', 'nft', 'cex', 'Balancer Delegates',\n",
       "       'chainlink oracle'], dtype=object)"
      ]
     },
     "execution_count": 28,
     "metadata": {},
     "output_type": "execute_result"
    }
   ],
   "source": [
    "df_distinct_tags.tag_type.values"
   ]
  },
  {
   "attachments": {},
   "cell_type": "markdown",
   "metadata": {},
   "source": [
    "I found the tag_name \"airdrop master\" could be interesting "
   ]
  },
  {
   "cell_type": "code",
   "execution_count": 29,
   "metadata": {},
   "outputs": [],
   "source": [
    "query_airdrop_master = '''\n",
    "SELECT BLOCKCHAIN, CREATOR, ADDRESS, TAG_NAME\n",
    "FROM crosschain.core.address_tags \n",
    "WHERE BLOCKCHAIN='ethereum'\n",
    "AND TAG_NAME = 'airdrop master'\n",
    ";\n",
    "'''\n",
    "df_airdrop_master = flipside_api.execute_query(query_airdrop_master)"
   ]
  },
  {
   "cell_type": "code",
   "execution_count": 30,
   "metadata": {},
   "outputs": [
    {
     "name": "stdout",
     "output_type": "stream",
     "text": [
      "Percentage of addresses that interacted with airdrop master: 25%\n"
     ]
    }
   ],
   "source": [
    "# Compute the number of interactions with any of the aidrop for each address\n",
    "df_matching_address['count_interaction_with_airdrop_m'] = df_matching_address['address'].apply(lambda x: count_interaction_with_any(tx_analyser, x, df_airdrop_master['address'].unique()))\n",
    "print(f'Percentage of addresses that interacted with airdrop master: {int((df_matching_address[\"count_interaction_with_airdrop_m\"] > 0).sum() / len(df_matching_address) * 100)}%')"
   ]
  },
  {
   "cell_type": "code",
   "execution_count": 31,
   "metadata": {},
   "outputs": [
    {
     "name": "stdout",
     "output_type": "stream",
     "text": [
      "Percentage of addresses that are airdrop master: 12%\n"
     ]
    }
   ],
   "source": [
    "# Boolean whether the address is a aidrop master\n",
    "df_matching_address['is_airdrop_master'] = df_matching_address['address'].apply(lambda x: x in df_airdrop_master['address'].unique()) \n",
    "print(f'Percentage of addresses that are airdrop master: {int((df_matching_address[\"is_airdrop_master\"]).sum() / len(df_matching_address) * 100)}%')"
   ]
  },
  {
   "cell_type": "code",
   "execution_count": 32,
   "metadata": {},
   "outputs": [],
   "source": [
    "sql_query_tornado = '''\n",
    "SELECT DISTINCT PROJECT_NAME, ADDRESS\n",
    "FROM crosschain.core.address_labels \n",
    "WHERE BLOCKCHAIN='ethereum'\n",
    "AND PROJECT_NAME LIKE '%tornado%'\n",
    ";\n",
    "'''\n",
    "df_tornado = flipside_api.execute_query(sql_query_tornado)"
   ]
  },
  {
   "cell_type": "code",
   "execution_count": 33,
   "metadata": {},
   "outputs": [
    {
     "name": "stdout",
     "output_type": "stream",
     "text": [
      "Percentage of addresses that interacted with tornado: 4%\n"
     ]
    }
   ],
   "source": [
    "# Count the number of interactions with tornado\n",
    "df_matching_address['count_interaction_with_tornado'] = df_matching_address['address'].apply(lambda x: count_interaction_with_any(tx_analyser, x, df_tornado['address'].unique()))\n",
    "print(f'Percentage of addresses that interacted with tornado: {int((df_matching_address[\"count_interaction_with_tornado\"] > 0).sum() / len(df_matching_address) * 100)}%')"
   ]
  },
  {
   "cell_type": "code",
   "execution_count": 34,
   "metadata": {},
   "outputs": [
    {
     "name": "stdout",
     "output_type": "stream",
     "text": [
      "Percentage of addresses that interacted with disperse: 2%\n"
     ]
    }
   ],
   "source": [
    "# Count the number of time the address interatec with disperse contract: '0xD152f549545093347A162Dce210e7293f1452150'\n",
    "df_matching_address['count_interaction_with_disperse'] = df_matching_address['address'].apply(lambda x: count_interaction_with_any(tx_analyser, x, [str.lower('0xD152f549545093347A162Dce210e7293f1452150')]))\n",
    "print(f'Percentage of addresses that interacted with disperse: {int((df_matching_address[\"count_interaction_with_disperse\"] > 0).sum() / len(df_matching_address) * 100)}%')"
   ]
  },
  {
   "cell_type": "code",
   "execution_count": 35,
   "metadata": {},
   "outputs": [
    {
     "data": {
      "text/html": [
       "<div>\n",
       "<style scoped>\n",
       "    .dataframe tbody tr th:only-of-type {\n",
       "        vertical-align: middle;\n",
       "    }\n",
       "\n",
       "    .dataframe tbody tr th {\n",
       "        vertical-align: top;\n",
       "    }\n",
       "\n",
       "    .dataframe thead th {\n",
       "        text-align: right;\n",
       "    }\n",
       "</style>\n",
       "<table border=\"1\" class=\"dataframe\">\n",
       "  <thead>\n",
       "    <tr style=\"text-align: right;\">\n",
       "      <th></th>\n",
       "      <th>count_interaction_with_pool</th>\n",
       "      <th>count_interaction_with_toxic</th>\n",
       "      <th>count_interaction_with_airdrop_m</th>\n",
       "      <th>count_interaction_with_tornado</th>\n",
       "      <th>count_interaction_with_disperse</th>\n",
       "    </tr>\n",
       "  </thead>\n",
       "  <tbody>\n",
       "    <tr>\n",
       "      <th>count</th>\n",
       "      <td>1062.000000</td>\n",
       "      <td>1062.000000</td>\n",
       "      <td>1062.000000</td>\n",
       "      <td>1062.000000</td>\n",
       "      <td>1062.000000</td>\n",
       "    </tr>\n",
       "    <tr>\n",
       "      <th>mean</th>\n",
       "      <td>13.700565</td>\n",
       "      <td>0.051789</td>\n",
       "      <td>3.919962</td>\n",
       "      <td>0.316384</td>\n",
       "      <td>0.159134</td>\n",
       "    </tr>\n",
       "    <tr>\n",
       "      <th>std</th>\n",
       "      <td>91.830114</td>\n",
       "      <td>0.378687</td>\n",
       "      <td>16.151503</td>\n",
       "      <td>2.568514</td>\n",
       "      <td>1.737784</td>\n",
       "    </tr>\n",
       "    <tr>\n",
       "      <th>min</th>\n",
       "      <td>0.000000</td>\n",
       "      <td>0.000000</td>\n",
       "      <td>0.000000</td>\n",
       "      <td>0.000000</td>\n",
       "      <td>0.000000</td>\n",
       "    </tr>\n",
       "    <tr>\n",
       "      <th>10%</th>\n",
       "      <td>0.000000</td>\n",
       "      <td>0.000000</td>\n",
       "      <td>0.000000</td>\n",
       "      <td>0.000000</td>\n",
       "      <td>0.000000</td>\n",
       "    </tr>\n",
       "    <tr>\n",
       "      <th>25%</th>\n",
       "      <td>0.000000</td>\n",
       "      <td>0.000000</td>\n",
       "      <td>0.000000</td>\n",
       "      <td>0.000000</td>\n",
       "      <td>0.000000</td>\n",
       "    </tr>\n",
       "    <tr>\n",
       "      <th>50%</th>\n",
       "      <td>1.000000</td>\n",
       "      <td>0.000000</td>\n",
       "      <td>0.000000</td>\n",
       "      <td>0.000000</td>\n",
       "      <td>0.000000</td>\n",
       "    </tr>\n",
       "    <tr>\n",
       "      <th>75%</th>\n",
       "      <td>5.000000</td>\n",
       "      <td>0.000000</td>\n",
       "      <td>1.000000</td>\n",
       "      <td>0.000000</td>\n",
       "      <td>0.000000</td>\n",
       "    </tr>\n",
       "    <tr>\n",
       "      <th>90%</th>\n",
       "      <td>22.000000</td>\n",
       "      <td>0.000000</td>\n",
       "      <td>7.000000</td>\n",
       "      <td>0.000000</td>\n",
       "      <td>0.000000</td>\n",
       "    </tr>\n",
       "    <tr>\n",
       "      <th>max</th>\n",
       "      <td>2632.000000</td>\n",
       "      <td>7.000000</td>\n",
       "      <td>208.000000</td>\n",
       "      <td>55.000000</td>\n",
       "      <td>39.000000</td>\n",
       "    </tr>\n",
       "  </tbody>\n",
       "</table>\n",
       "</div>"
      ],
      "text/plain": [
       "       count_interaction_with_pool  count_interaction_with_toxic   \n",
       "count                  1062.000000                   1062.000000  \\\n",
       "mean                     13.700565                      0.051789   \n",
       "std                      91.830114                      0.378687   \n",
       "min                       0.000000                      0.000000   \n",
       "10%                       0.000000                      0.000000   \n",
       "25%                       0.000000                      0.000000   \n",
       "50%                       1.000000                      0.000000   \n",
       "75%                       5.000000                      0.000000   \n",
       "90%                      22.000000                      0.000000   \n",
       "max                    2632.000000                      7.000000   \n",
       "\n",
       "       count_interaction_with_airdrop_m  count_interaction_with_tornado   \n",
       "count                       1062.000000                     1062.000000  \\\n",
       "mean                           3.919962                        0.316384   \n",
       "std                           16.151503                        2.568514   \n",
       "min                            0.000000                        0.000000   \n",
       "10%                            0.000000                        0.000000   \n",
       "25%                            0.000000                        0.000000   \n",
       "50%                            0.000000                        0.000000   \n",
       "75%                            1.000000                        0.000000   \n",
       "90%                            7.000000                        0.000000   \n",
       "max                          208.000000                       55.000000   \n",
       "\n",
       "       count_interaction_with_disperse  \n",
       "count                      1062.000000  \n",
       "mean                          0.159134  \n",
       "std                           1.737784  \n",
       "min                           0.000000  \n",
       "10%                           0.000000  \n",
       "25%                           0.000000  \n",
       "50%                           0.000000  \n",
       "75%                           0.000000  \n",
       "90%                           0.000000  \n",
       "max                          39.000000  "
      ]
     },
     "execution_count": 35,
     "metadata": {},
     "output_type": "execute_result"
    }
   ],
   "source": [
    "df_matching_address.describe(percentiles=[0.1, 0.25, 0.5, 0.75, 0.9])"
   ]
  },
  {
   "cell_type": "code",
   "execution_count": 36,
   "metadata": {},
   "outputs": [],
   "source": [
    "df_matching_address['has_interaction_toxic'] = df_matching_address['count_interaction_with_toxic'] > 0\n",
    "df_matching_address['has_no_pool_interaction'] = df_matching_address['count_interaction_with_pool'] < 6\n",
    "df_matching_address['has_interaction_airdrop_m'] = df_matching_address['count_interaction_with_airdrop_m'] > 0\n",
    "df_matching_address['has_interaction_tornado'] = df_matching_address['count_interaction_with_tornado'] > 0\n",
    "df_matching_address['has_interaction_disperse'] = df_matching_address['count_interaction_with_disperse'] > 0"
   ]
  },
  {
   "cell_type": "code",
   "execution_count": 37,
   "metadata": {},
   "outputs": [],
   "source": [
    "boolean_features = ['seed_suspicious', 'has_interaction_toxic', 'has_no_pool_interaction', 'has_interaction_airdrop_m', 'has_interaction_tornado', 'has_interaction_disperse', 'is_airdrop_master', 'interacted_other_ctbt']"
   ]
  },
  {
   "cell_type": "code",
   "execution_count": 38,
   "metadata": {},
   "outputs": [
    {
     "data": {
      "text/plain": [
       "seed_suspicious               26\n",
       "has_interaction_toxic         31\n",
       "has_no_pool_interaction      803\n",
       "has_interaction_airdrop_m    270\n",
       "has_interaction_tornado       43\n",
       "has_interaction_disperse      26\n",
       "is_airdrop_master            136\n",
       "interacted_other_ctbt        165\n",
       "dtype: int64"
      ]
     },
     "execution_count": 38,
     "metadata": {},
     "output_type": "execute_result"
    }
   ],
   "source": [
    "df_matching_address[boolean_features].sum() "
   ]
  },
  {
   "cell_type": "code",
   "execution_count": 39,
   "metadata": {},
   "outputs": [
    {
     "data": {
      "text/plain": [
       "1062"
      ]
     },
     "execution_count": 39,
     "metadata": {},
     "output_type": "execute_result"
    }
   ],
   "source": [
    "len(df_matching_address)"
   ]
  },
  {
   "cell_type": "code",
   "execution_count": 40,
   "metadata": {},
   "outputs": [
    {
     "data": {
      "text/plain": [
       "115"
      ]
     },
     "execution_count": 40,
     "metadata": {},
     "output_type": "execute_result"
    }
   ],
   "source": [
    "(df_matching_address[boolean_features].sum(axis=1) > 2).sum()"
   ]
  },
  {
   "cell_type": "code",
   "execution_count": 41,
   "metadata": {},
   "outputs": [],
   "source": [
    "df_matching_address['count_flags'] = df_matching_address[boolean_features].sum(axis=1)"
   ]
  },
  {
   "cell_type": "code",
   "execution_count": 42,
   "metadata": {},
   "outputs": [],
   "source": [
    "df_matching_address['suspicious_1'] = df_matching_address['count_flags'] > 2"
   ]
  },
  {
   "cell_type": "code",
   "execution_count": 43,
   "metadata": {},
   "outputs": [],
   "source": [
    "df_suspicious_1 = df_matching_address[df_matching_address['suspicious_1'] == True]"
   ]
  },
  {
   "attachments": {},
   "cell_type": "markdown",
   "metadata": {},
   "source": [
    "### Investigating the grants receiving the most votes from the flagged addresses"
   ]
  },
  {
   "cell_type": "code",
   "execution_count": 44,
   "metadata": {},
   "outputs": [],
   "source": [
    "df_vote_sus1 = df_votes[df_votes['voter'].isin(df_suspicious_1['address'])]\n",
    "count_unique_vote_grant = df_votes.drop_duplicates(subset=['grantAddress', 'voter']).groupby('grantAddress')['id'].count().sort_values(ascending=False).reset_index()\n",
    "count_suspicious_vote_grant = df_vote_sus1['grantAddress'].value_counts().reset_index()\n",
    "df_vote_grant = count_unique_vote_grant.merge(count_suspicious_vote_grant, left_on='grantAddress', right_on='grantAddress', how='left').fillna(0).rename(columns={'id': 'count_unique_vote', 'count': 'count_suspicious_vote'})"
   ]
  },
  {
   "cell_type": "code",
   "execution_count": 45,
   "metadata": {},
   "outputs": [
    {
     "name": "stdout",
     "output_type": "stream",
     "text": [
      "Number of suspicious votes 464 Number of projects voted: 23\n",
      "number of grants: 25\n"
     ]
    },
    {
     "data": {
      "text/html": [
       "<div>\n",
       "<style scoped>\n",
       "    .dataframe tbody tr th:only-of-type {\n",
       "        vertical-align: middle;\n",
       "    }\n",
       "\n",
       "    .dataframe tbody tr th {\n",
       "        vertical-align: top;\n",
       "    }\n",
       "\n",
       "    .dataframe thead th {\n",
       "        text-align: right;\n",
       "    }\n",
       "</style>\n",
       "<table border=\"1\" class=\"dataframe\">\n",
       "  <thead>\n",
       "    <tr style=\"text-align: right;\">\n",
       "      <th></th>\n",
       "      <th>grantAddress</th>\n",
       "      <th>metadata.application.project.title</th>\n",
       "      <th>percentage_suspicious_vote</th>\n",
       "      <th>count_suspicious_vote</th>\n",
       "      <th>roundId</th>\n",
       "      <th>status</th>\n",
       "    </tr>\n",
       "  </thead>\n",
       "  <tbody>\n",
       "    <tr>\n",
       "      <th>17</th>\n",
       "      <td>0x242ba6d68ffeb4a098b591b32d370f973ff882b7</td>\n",
       "      <td>Blockscout - Decentralized, Open-source Block ...</td>\n",
       "      <td>18.867925</td>\n",
       "      <td>20.0</td>\n",
       "      <td>0xdf22a2c8f6ba9376ff17ee13e6154b784ee92094</td>\n",
       "      <td>APPROVED</td>\n",
       "    </tr>\n",
       "    <tr>\n",
       "      <th>15</th>\n",
       "      <td>0x4557b18e779944bfe9d78a672452331c186a9f48</td>\n",
       "      <td>wagmi</td>\n",
       "      <td>17.500000</td>\n",
       "      <td>21.0</td>\n",
       "      <td>0xdf22a2c8f6ba9376ff17ee13e6154b784ee92094</td>\n",
       "      <td>APPROVED</td>\n",
       "    </tr>\n",
       "    <tr>\n",
       "      <th>9</th>\n",
       "      <td>0xfcc41c4614bd464ba28ad96f93aadaa7ba6c8680</td>\n",
       "      <td>clr.fund</td>\n",
       "      <td>16.763006</td>\n",
       "      <td>29.0</td>\n",
       "      <td>0x12bb5bbbfe596dbc489d209299b8302c3300fa40</td>\n",
       "      <td>REJECTED</td>\n",
       "    </tr>\n",
       "    <tr>\n",
       "      <th>10</th>\n",
       "      <td>0x8ba1f109551bd432803012645ac136ddd64dba72</td>\n",
       "      <td>ethers.js</td>\n",
       "      <td>14.792899</td>\n",
       "      <td>25.0</td>\n",
       "      <td>0xdf22a2c8f6ba9376ff17ee13e6154b784ee92094</td>\n",
       "      <td>APPROVED</td>\n",
       "    </tr>\n",
       "    <tr>\n",
       "      <th>8</th>\n",
       "      <td>0xb7081fd06e7039d198d10a8b72b824e60c1b1e16</td>\n",
       "      <td>Otterscan</td>\n",
       "      <td>14.525140</td>\n",
       "      <td>26.0</td>\n",
       "      <td>0xdf22a2c8f6ba9376ff17ee13e6154b784ee92094</td>\n",
       "      <td>APPROVED</td>\n",
       "    </tr>\n",
       "    <tr>\n",
       "      <th>5</th>\n",
       "      <td>0x53390590476dc98860316e4b46bb9842af55efc4</td>\n",
       "      <td>DAppNode</td>\n",
       "      <td>13.537118</td>\n",
       "      <td>31.0</td>\n",
       "      <td>0xdf22a2c8f6ba9376ff17ee13e6154b784ee92094</td>\n",
       "      <td>APPROVED</td>\n",
       "    </tr>\n",
       "    <tr>\n",
       "      <th>14</th>\n",
       "      <td>0xc8f9f8c913d6ff031c65e3bf7c7a51ad1f3a86e5</td>\n",
       "      <td>Lodestar</td>\n",
       "      <td>12.213740</td>\n",
       "      <td>16.0</td>\n",
       "      <td>0xdf22a2c8f6ba9376ff17ee13e6154b784ee92094</td>\n",
       "      <td>APPROVED</td>\n",
       "    </tr>\n",
       "    <tr>\n",
       "      <th>6</th>\n",
       "      <td>0xf29ff96aaea6c9a1fba851f74737f3c069d4f1a9</td>\n",
       "      <td>Protocol Guild</td>\n",
       "      <td>12.149533</td>\n",
       "      <td>26.0</td>\n",
       "      <td>0xdf22a2c8f6ba9376ff17ee13e6154b784ee92094</td>\n",
       "      <td>APPROVED</td>\n",
       "    </tr>\n",
       "    <tr>\n",
       "      <th>4</th>\n",
       "      <td>0xd165df4296c85e780509fa1eace0150d945d49fd</td>\n",
       "      <td>EthStaker</td>\n",
       "      <td>11.522634</td>\n",
       "      <td>28.0</td>\n",
       "      <td>0xdf22a2c8f6ba9376ff17ee13e6154b784ee92094</td>\n",
       "      <td>APPROVED</td>\n",
       "    </tr>\n",
       "    <tr>\n",
       "      <th>20</th>\n",
       "      <td>0x6e41fe2f8303b89c9dbccabe59a7f7f8f4312ca9</td>\n",
       "      <td>Stereum - Ethereum Node Installer &amp; Manager</td>\n",
       "      <td>11.235955</td>\n",
       "      <td>10.0</td>\n",
       "      <td>0xdf22a2c8f6ba9376ff17ee13e6154b784ee92094</td>\n",
       "      <td>APPROVED</td>\n",
       "    </tr>\n",
       "    <tr>\n",
       "      <th>21</th>\n",
       "      <td>0x8d3809951c7f1d18227251b0cb047735dbf8f8fc</td>\n",
       "      <td>Ephemery Testnet</td>\n",
       "      <td>10.810811</td>\n",
       "      <td>4.0</td>\n",
       "      <td>0xdf22a2c8f6ba9376ff17ee13e6154b784ee92094</td>\n",
       "      <td>APPROVED</td>\n",
       "    </tr>\n",
       "    <tr>\n",
       "      <th>18</th>\n",
       "      <td>0x3455fbb4d34c6b47999b66c83aa7bd8fddade638</td>\n",
       "      <td>MetaGame</td>\n",
       "      <td>10.679612</td>\n",
       "      <td>11.0</td>\n",
       "      <td>0xdf22a2c8f6ba9376ff17ee13e6154b784ee92094</td>\n",
       "      <td>APPROVED</td>\n",
       "    </tr>\n",
       "    <tr>\n",
       "      <th>3</th>\n",
       "      <td>0x9531c059098e3d194ff87febb587ab07b30b1306</td>\n",
       "      <td>rotki</td>\n",
       "      <td>10.101010</td>\n",
       "      <td>30.0</td>\n",
       "      <td>0xdf22a2c8f6ba9376ff17ee13e6154b784ee92094</td>\n",
       "      <td>APPROVED</td>\n",
       "    </tr>\n",
       "    <tr>\n",
       "      <th>0</th>\n",
       "      <td>0x713bc00d1df5c452f172c317d39eff71b771c163</td>\n",
       "      <td>Kakarot zkEVM</td>\n",
       "      <td>9.848485</td>\n",
       "      <td>52.0</td>\n",
       "      <td>0xdf22a2c8f6ba9376ff17ee13e6154b784ee92094</td>\n",
       "      <td>APPROVED</td>\n",
       "    </tr>\n",
       "    <tr>\n",
       "      <th>1</th>\n",
       "      <td>0x6c5a2688c83c806150ca9dd0b2f10f16f8f1c33e</td>\n",
       "      <td>L2BEAT</td>\n",
       "      <td>9.803922</td>\n",
       "      <td>35.0</td>\n",
       "      <td>0xdf22a2c8f6ba9376ff17ee13e6154b784ee92094</td>\n",
       "      <td>APPROVED</td>\n",
       "    </tr>\n",
       "    <tr>\n",
       "      <th>16</th>\n",
       "      <td>0x1bcdb2226ee2b023e3886dd2027c4ee95457699f</td>\n",
       "      <td>Ethereum on ARM</td>\n",
       "      <td>9.482759</td>\n",
       "      <td>11.0</td>\n",
       "      <td>0xdf22a2c8f6ba9376ff17ee13e6154b784ee92094</td>\n",
       "      <td>APPROVED</td>\n",
       "    </tr>\n",
       "    <tr>\n",
       "      <th>7</th>\n",
       "      <td>0xc9a872868afa68ba937f65a1c5b4b252dab15d85</td>\n",
       "      <td>Lighthouse by Sigma Prime</td>\n",
       "      <td>9.230769</td>\n",
       "      <td>18.0</td>\n",
       "      <td>0xdf22a2c8f6ba9376ff17ee13e6154b784ee92094</td>\n",
       "      <td>APPROVED</td>\n",
       "    </tr>\n",
       "    <tr>\n",
       "      <th>2</th>\n",
       "      <td>0xb352bb4e2a4f27683435f153a259f1b207218b1b</td>\n",
       "      <td>eth.limo</td>\n",
       "      <td>8.940397</td>\n",
       "      <td>27.0</td>\n",
       "      <td>0x12bb5bbbfe596dbc489d209299b8302c3300fa40</td>\n",
       "      <td>REJECTED</td>\n",
       "    </tr>\n",
       "    <tr>\n",
       "      <th>12</th>\n",
       "      <td>0x187089b65520d2208ab93fb471c4970c29eaf929</td>\n",
       "      <td>Ape Framework</td>\n",
       "      <td>8.917197</td>\n",
       "      <td>14.0</td>\n",
       "      <td>0xdf22a2c8f6ba9376ff17ee13e6154b784ee92094</td>\n",
       "      <td>APPROVED</td>\n",
       "    </tr>\n",
       "    <tr>\n",
       "      <th>11</th>\n",
       "      <td>0xdecf6615152ac768bfb688c4ef882e35debe08ac</td>\n",
       "      <td>Rhino Review - Ethereum Staking Journal</td>\n",
       "      <td>8.588957</td>\n",
       "      <td>14.0</td>\n",
       "      <td>0xdf22a2c8f6ba9376ff17ee13e6154b784ee92094</td>\n",
       "      <td>APPROVED</td>\n",
       "    </tr>\n",
       "    <tr>\n",
       "      <th>13</th>\n",
       "      <td>0x9cce47e9cf12c6147c9844adbb81fe85880c4df4</td>\n",
       "      <td>NiceNode: Run a node — just press start</td>\n",
       "      <td>6.756757</td>\n",
       "      <td>10.0</td>\n",
       "      <td>0xdf22a2c8f6ba9376ff17ee13e6154b784ee92094</td>\n",
       "      <td>APPROVED</td>\n",
       "    </tr>\n",
       "    <tr>\n",
       "      <th>19</th>\n",
       "      <td>0xc52fbf3769056ca421656b9c98b14a453a251a28</td>\n",
       "      <td>Candide Wallet</td>\n",
       "      <td>5.208333</td>\n",
       "      <td>5.0</td>\n",
       "      <td>0x12bb5bbbfe596dbc489d209299b8302c3300fa40</td>\n",
       "      <td>REJECTED</td>\n",
       "    </tr>\n",
       "    <tr>\n",
       "      <th>22</th>\n",
       "      <td>0xcf83d0c22dd54475cc0c52721b0ef07d9756e8c0</td>\n",
       "      <td>Ethereum Staking Guides by CoinCashew</td>\n",
       "      <td>3.703704</td>\n",
       "      <td>1.0</td>\n",
       "      <td>0xdf22a2c8f6ba9376ff17ee13e6154b784ee92094</td>\n",
       "      <td>APPROVED</td>\n",
       "    </tr>\n",
       "    <tr>\n",
       "      <th>23</th>\n",
       "      <td>0xe02aae2cc50763b22e268593237ef822339853cf</td>\n",
       "      <td>Dapplet</td>\n",
       "      <td>0.000000</td>\n",
       "      <td>0.0</td>\n",
       "      <td>0xdf22a2c8f6ba9376ff17ee13e6154b784ee92094</td>\n",
       "      <td>APPROVED</td>\n",
       "    </tr>\n",
       "    <tr>\n",
       "      <th>24</th>\n",
       "      <td>0xfc756d8632a19cebd76560ce0a6967279e32131b</td>\n",
       "      <td>Prettier Solidity</td>\n",
       "      <td>0.000000</td>\n",
       "      <td>0.0</td>\n",
       "      <td>0xdf22a2c8f6ba9376ff17ee13e6154b784ee92094</td>\n",
       "      <td>APPROVED</td>\n",
       "    </tr>\n",
       "  </tbody>\n",
       "</table>\n",
       "</div>"
      ],
      "text/plain": [
       "                                  grantAddress   \n",
       "17  0x242ba6d68ffeb4a098b591b32d370f973ff882b7  \\\n",
       "15  0x4557b18e779944bfe9d78a672452331c186a9f48   \n",
       "9   0xfcc41c4614bd464ba28ad96f93aadaa7ba6c8680   \n",
       "10  0x8ba1f109551bd432803012645ac136ddd64dba72   \n",
       "8   0xb7081fd06e7039d198d10a8b72b824e60c1b1e16   \n",
       "5   0x53390590476dc98860316e4b46bb9842af55efc4   \n",
       "14  0xc8f9f8c913d6ff031c65e3bf7c7a51ad1f3a86e5   \n",
       "6   0xf29ff96aaea6c9a1fba851f74737f3c069d4f1a9   \n",
       "4   0xd165df4296c85e780509fa1eace0150d945d49fd   \n",
       "20  0x6e41fe2f8303b89c9dbccabe59a7f7f8f4312ca9   \n",
       "21  0x8d3809951c7f1d18227251b0cb047735dbf8f8fc   \n",
       "18  0x3455fbb4d34c6b47999b66c83aa7bd8fddade638   \n",
       "3   0x9531c059098e3d194ff87febb587ab07b30b1306   \n",
       "0   0x713bc00d1df5c452f172c317d39eff71b771c163   \n",
       "1   0x6c5a2688c83c806150ca9dd0b2f10f16f8f1c33e   \n",
       "16  0x1bcdb2226ee2b023e3886dd2027c4ee95457699f   \n",
       "7   0xc9a872868afa68ba937f65a1c5b4b252dab15d85   \n",
       "2   0xb352bb4e2a4f27683435f153a259f1b207218b1b   \n",
       "12  0x187089b65520d2208ab93fb471c4970c29eaf929   \n",
       "11  0xdecf6615152ac768bfb688c4ef882e35debe08ac   \n",
       "13  0x9cce47e9cf12c6147c9844adbb81fe85880c4df4   \n",
       "19  0xc52fbf3769056ca421656b9c98b14a453a251a28   \n",
       "22  0xcf83d0c22dd54475cc0c52721b0ef07d9756e8c0   \n",
       "23  0xe02aae2cc50763b22e268593237ef822339853cf   \n",
       "24  0xfc756d8632a19cebd76560ce0a6967279e32131b   \n",
       "\n",
       "                   metadata.application.project.title   \n",
       "17  Blockscout - Decentralized, Open-source Block ...  \\\n",
       "15                                              wagmi   \n",
       "9                                            clr.fund   \n",
       "10                                          ethers.js   \n",
       "8                                           Otterscan   \n",
       "5                                            DAppNode   \n",
       "14                                           Lodestar   \n",
       "6                                      Protocol Guild   \n",
       "4                                           EthStaker   \n",
       "20        Stereum - Ethereum Node Installer & Manager   \n",
       "21                                   Ephemery Testnet   \n",
       "18                                           MetaGame   \n",
       "3                                               rotki   \n",
       "0                                       Kakarot zkEVM   \n",
       "1                                              L2BEAT   \n",
       "16                                    Ethereum on ARM   \n",
       "7                           Lighthouse by Sigma Prime   \n",
       "2                                            eth.limo   \n",
       "12                                      Ape Framework   \n",
       "11            Rhino Review - Ethereum Staking Journal   \n",
       "13            NiceNode: Run a node — just press start   \n",
       "19                                     Candide Wallet   \n",
       "22              Ethereum Staking Guides by CoinCashew   \n",
       "23                                            Dapplet   \n",
       "24                                  Prettier Solidity   \n",
       "\n",
       "    percentage_suspicious_vote  count_suspicious_vote   \n",
       "17                   18.867925                   20.0  \\\n",
       "15                   17.500000                   21.0   \n",
       "9                    16.763006                   29.0   \n",
       "10                   14.792899                   25.0   \n",
       "8                    14.525140                   26.0   \n",
       "5                    13.537118                   31.0   \n",
       "14                   12.213740                   16.0   \n",
       "6                    12.149533                   26.0   \n",
       "4                    11.522634                   28.0   \n",
       "20                   11.235955                   10.0   \n",
       "21                   10.810811                    4.0   \n",
       "18                   10.679612                   11.0   \n",
       "3                    10.101010                   30.0   \n",
       "0                     9.848485                   52.0   \n",
       "1                     9.803922                   35.0   \n",
       "16                    9.482759                   11.0   \n",
       "7                     9.230769                   18.0   \n",
       "2                     8.940397                   27.0   \n",
       "12                    8.917197                   14.0   \n",
       "11                    8.588957                   14.0   \n",
       "13                    6.756757                   10.0   \n",
       "19                    5.208333                    5.0   \n",
       "22                    3.703704                    1.0   \n",
       "23                    0.000000                    0.0   \n",
       "24                    0.000000                    0.0   \n",
       "\n",
       "                                       roundId    status  \n",
       "17  0xdf22a2c8f6ba9376ff17ee13e6154b784ee92094  APPROVED  \n",
       "15  0xdf22a2c8f6ba9376ff17ee13e6154b784ee92094  APPROVED  \n",
       "9   0x12bb5bbbfe596dbc489d209299b8302c3300fa40  REJECTED  \n",
       "10  0xdf22a2c8f6ba9376ff17ee13e6154b784ee92094  APPROVED  \n",
       "8   0xdf22a2c8f6ba9376ff17ee13e6154b784ee92094  APPROVED  \n",
       "5   0xdf22a2c8f6ba9376ff17ee13e6154b784ee92094  APPROVED  \n",
       "14  0xdf22a2c8f6ba9376ff17ee13e6154b784ee92094  APPROVED  \n",
       "6   0xdf22a2c8f6ba9376ff17ee13e6154b784ee92094  APPROVED  \n",
       "4   0xdf22a2c8f6ba9376ff17ee13e6154b784ee92094  APPROVED  \n",
       "20  0xdf22a2c8f6ba9376ff17ee13e6154b784ee92094  APPROVED  \n",
       "21  0xdf22a2c8f6ba9376ff17ee13e6154b784ee92094  APPROVED  \n",
       "18  0xdf22a2c8f6ba9376ff17ee13e6154b784ee92094  APPROVED  \n",
       "3   0xdf22a2c8f6ba9376ff17ee13e6154b784ee92094  APPROVED  \n",
       "0   0xdf22a2c8f6ba9376ff17ee13e6154b784ee92094  APPROVED  \n",
       "1   0xdf22a2c8f6ba9376ff17ee13e6154b784ee92094  APPROVED  \n",
       "16  0xdf22a2c8f6ba9376ff17ee13e6154b784ee92094  APPROVED  \n",
       "7   0xdf22a2c8f6ba9376ff17ee13e6154b784ee92094  APPROVED  \n",
       "2   0x12bb5bbbfe596dbc489d209299b8302c3300fa40  REJECTED  \n",
       "12  0xdf22a2c8f6ba9376ff17ee13e6154b784ee92094  APPROVED  \n",
       "11  0xdf22a2c8f6ba9376ff17ee13e6154b784ee92094  APPROVED  \n",
       "13  0xdf22a2c8f6ba9376ff17ee13e6154b784ee92094  APPROVED  \n",
       "19  0x12bb5bbbfe596dbc489d209299b8302c3300fa40  REJECTED  \n",
       "22  0xdf22a2c8f6ba9376ff17ee13e6154b784ee92094  APPROVED  \n",
       "23  0xdf22a2c8f6ba9376ff17ee13e6154b784ee92094  APPROVED  \n",
       "24  0xdf22a2c8f6ba9376ff17ee13e6154b784ee92094  APPROVED  "
      ]
     },
     "execution_count": 45,
     "metadata": {},
     "output_type": "execute_result"
    }
   ],
   "source": [
    "df_vote_grant['percentage_suspicious_vote'] = df_vote_grant['count_suspicious_vote'] / df_vote_grant['count_unique_vote'] * 100\n",
    "print(f'Number of suspicious votes {df_vote_sus1.shape[0]} Number of projects voted: {df_vote_sus1.grantAddress.nunique()}')\n",
    "# Merge the project the user voted for and the projects \n",
    "gr_sus = df_vote_grant.merge(df_application, left_on='grantAddress', right_on='metadata.application.recipient', how='left').drop_duplicates(subset='grantAddress').loc[:, ['grantAddress', 'metadata.application.project.title', 'percentage_suspicious_vote', 'count_suspicious_vote', 'roundId', 'status']].reset_index(drop=True).sort_values(by='percentage_suspicious_vote', ascending=False)\n",
    "print(f'number of grants: {gr_sus.shape[0]}')\n",
    "gr_sus.head(30)"
   ]
  },
  {
   "attachments": {},
   "cell_type": "markdown",
   "metadata": {},
   "source": [
    "### Look at the addresses with at least one flag"
   ]
  },
  {
   "attachments": {},
   "cell_type": "markdown",
   "metadata": {},
   "source": [
    "We are going to review the addresses that have at least 1 flag:\n",
    "- has_intercation_toxic \n",
    "- has_interaction_disperse\n",
    "- has_interaction_airdrop_master\n",
    "- is airdrop master\n",
    "- seed suspicious\n",
    "- interacted with other contributor and less than 5 tx\n",
    "\n",
    "I decided to remove tornado cash because someone can be anonimous with out being a sybil"
   ]
  },
  {
   "cell_type": "code",
   "execution_count": 46,
   "metadata": {},
   "outputs": [],
   "source": [
    "df_matching_address['interact_less_5tx'] = np.logical_and(df_matching_address['interacted_other_ctbt'], df_matching_address['less_5_tx'])"
   ]
  },
  {
   "cell_type": "code",
   "execution_count": 47,
   "metadata": {},
   "outputs": [],
   "source": [
    "interaction_bool = ['has_interaction_toxic', 'has_interaction_airdrop_m', 'has_interaction_disperse', 'is_airdrop_master', 'seed_suspicious', 'interact_less_5tx']"
   ]
  },
  {
   "cell_type": "code",
   "execution_count": 48,
   "metadata": {},
   "outputs": [
    {
     "data": {
      "text/plain": [
       "has_interaction_toxic         31\n",
       "has_interaction_airdrop_m    270\n",
       "has_interaction_disperse      26\n",
       "is_airdrop_master            136\n",
       "seed_suspicious               26\n",
       "interact_less_5tx              0\n",
       "dtype: int64"
      ]
     },
     "execution_count": 48,
     "metadata": {},
     "output_type": "execute_result"
    }
   ],
   "source": [
    "df_matching_address[interaction_bool].sum()"
   ]
  },
  {
   "cell_type": "code",
   "execution_count": 49,
   "metadata": {},
   "outputs": [
    {
     "data": {
      "text/html": [
       "<div>\n",
       "<style scoped>\n",
       "    .dataframe tbody tr th:only-of-type {\n",
       "        vertical-align: middle;\n",
       "    }\n",
       "\n",
       "    .dataframe tbody tr th {\n",
       "        vertical-align: top;\n",
       "    }\n",
       "\n",
       "    .dataframe thead th {\n",
       "        text-align: right;\n",
       "    }\n",
       "</style>\n",
       "<table border=\"1\" class=\"dataframe\">\n",
       "  <thead>\n",
       "    <tr style=\"text-align: right;\">\n",
       "      <th></th>\n",
       "      <th>has_interaction_toxic</th>\n",
       "      <th>has_interaction_airdrop_m</th>\n",
       "      <th>has_interaction_disperse</th>\n",
       "      <th>is_airdrop_master</th>\n",
       "      <th>seed_suspicious</th>\n",
       "      <th>interact_less_5tx</th>\n",
       "    </tr>\n",
       "  </thead>\n",
       "  <tbody>\n",
       "    <tr>\n",
       "      <th>has_interaction_toxic</th>\n",
       "      <td>1.000000</td>\n",
       "      <td>0.082734</td>\n",
       "      <td>0.117647</td>\n",
       "      <td>0.084416</td>\n",
       "      <td>0.000000</td>\n",
       "      <td>0.0</td>\n",
       "    </tr>\n",
       "    <tr>\n",
       "      <th>has_interaction_airdrop_m</th>\n",
       "      <td>0.082734</td>\n",
       "      <td>1.000000</td>\n",
       "      <td>0.068592</td>\n",
       "      <td>0.409722</td>\n",
       "      <td>0.013699</td>\n",
       "      <td>0.0</td>\n",
       "    </tr>\n",
       "    <tr>\n",
       "      <th>has_interaction_disperse</th>\n",
       "      <td>0.117647</td>\n",
       "      <td>0.068592</td>\n",
       "      <td>1.000000</td>\n",
       "      <td>0.072848</td>\n",
       "      <td>0.040000</td>\n",
       "      <td>0.0</td>\n",
       "    </tr>\n",
       "    <tr>\n",
       "      <th>is_airdrop_master</th>\n",
       "      <td>0.084416</td>\n",
       "      <td>0.409722</td>\n",
       "      <td>0.072848</td>\n",
       "      <td>1.000000</td>\n",
       "      <td>0.012500</td>\n",
       "      <td>0.0</td>\n",
       "    </tr>\n",
       "    <tr>\n",
       "      <th>seed_suspicious</th>\n",
       "      <td>0.000000</td>\n",
       "      <td>0.013699</td>\n",
       "      <td>0.040000</td>\n",
       "      <td>0.012500</td>\n",
       "      <td>1.000000</td>\n",
       "      <td>0.0</td>\n",
       "    </tr>\n",
       "    <tr>\n",
       "      <th>interact_less_5tx</th>\n",
       "      <td>0.000000</td>\n",
       "      <td>0.000000</td>\n",
       "      <td>0.000000</td>\n",
       "      <td>0.000000</td>\n",
       "      <td>0.000000</td>\n",
       "      <td>1.0</td>\n",
       "    </tr>\n",
       "  </tbody>\n",
       "</table>\n",
       "</div>"
      ],
      "text/plain": [
       "                           has_interaction_toxic  has_interaction_airdrop_m   \n",
       "has_interaction_toxic                   1.000000                   0.082734  \\\n",
       "has_interaction_airdrop_m               0.082734                   1.000000   \n",
       "has_interaction_disperse                0.117647                   0.068592   \n",
       "is_airdrop_master                       0.084416                   0.409722   \n",
       "seed_suspicious                         0.000000                   0.013699   \n",
       "interact_less_5tx                       0.000000                   0.000000   \n",
       "\n",
       "                           has_interaction_disperse  is_airdrop_master   \n",
       "has_interaction_toxic                      0.117647           0.084416  \\\n",
       "has_interaction_airdrop_m                  0.068592           0.409722   \n",
       "has_interaction_disperse                   1.000000           0.072848   \n",
       "is_airdrop_master                          0.072848           1.000000   \n",
       "seed_suspicious                            0.040000           0.012500   \n",
       "interact_less_5tx                          0.000000           0.000000   \n",
       "\n",
       "                           seed_suspicious  interact_less_5tx  \n",
       "has_interaction_toxic             0.000000                0.0  \n",
       "has_interaction_airdrop_m         0.013699                0.0  \n",
       "has_interaction_disperse          0.040000                0.0  \n",
       "is_airdrop_master                 0.012500                0.0  \n",
       "seed_suspicious                   1.000000                0.0  \n",
       "interact_less_5tx                 0.000000                1.0  "
      ]
     },
     "execution_count": 49,
     "metadata": {},
     "output_type": "execute_result"
    }
   ],
   "source": [
    "from scipy.spatial.distance import pdist\n",
    "\n",
    "def jaccard_similarity_matrix(df):\n",
    "    \n",
    "    n = df.shape[1]\n",
    "    scores = 1 - pdist(np.array(df).T, metric='jaccard')\n",
    "    result = np.zeros((n,n))\n",
    "    result[np.triu_indices(n, k=1)] = scores\n",
    "    result += result.T\n",
    "    np.fill_diagonal(result, 1)\n",
    "    return pd.DataFrame(result, index=df.columns, columns=df.columns)\n",
    "\n",
    "jaccard_similarity = jaccard_similarity_matrix(df_matching_address[interaction_bool])\n",
    "jaccard_similarity"
   ]
  },
  {
   "cell_type": "code",
   "execution_count": 50,
   "metadata": {},
   "outputs": [
    {
     "data": {
      "text/plain": [
       "<Axes: >"
      ]
     },
     "execution_count": 50,
     "metadata": {},
     "output_type": "execute_result"
    },
    {
     "data": {
      "image/png": "[encoded data removed]",
      "text/plain": [
       "<Figure size 640x480 with 2 Axes>"
      ]
     },
     "metadata": {},
     "output_type": "display_data"
    }
   ],
   "source": [
    "import seaborn as sns\n",
    "sns.heatmap(jaccard_similarity, annot=True)"
   ]
  },
  {
   "cell_type": "code",
   "execution_count": 52,
   "metadata": {},
   "outputs": [
    {
     "name": "stdout",
     "output_type": "stream",
     "text": [
      "Number of addresses that interacted with a suspicious contract or address: 323\n"
     ]
    }
   ],
   "source": [
    "df_matching_address['flagged'] = df_matching_address[interaction_bool].sum(axis=1) > 0\n",
    "df_interact_sus_2 = df_matching_address[df_matching_address['flagged'] == True]\n",
    "print(f'Number of addresses that interacted with a suspicious contract or address: {df_interact_sus_2.shape[0]}')"
   ]
  },
  {
   "cell_type": "code",
   "execution_count": 53,
   "metadata": {},
   "outputs": [],
   "source": [
    "df_vote_sus_2 = df_votes[df_votes['voter'].isin(df_interact_sus_2['address'])]\n",
    "# count_unique_vote_grant = df_votes.drop_duplicates(subset=['grantAddress', 'voter']).groupby('grantAddress')['id'].count().sort_values(ascending=False).reset_index().head(10)\n",
    "count_suspicious_vote_grant_2 = df_vote_sus_2['grantAddress'].value_counts().reset_index()\n",
    "df_vote_grant_2 = count_unique_vote_grant.merge(count_suspicious_vote_grant_2, left_on='grantAddress', right_on='grantAddress', how='left').fillna(0).rename(columns={'id': 'count_unique_vote', 'count': 'count_suspicious_vote'})"
   ]
  },
  {
   "cell_type": "code",
   "execution_count": 54,
   "metadata": {},
   "outputs": [
    {
     "name": "stdout",
     "output_type": "stream",
     "text": [
      "Number of suspicious votes 1274 Number of projects voted: 25\n",
      "number of grants: 25\n"
     ]
    },
    {
     "data": {
      "text/html": [
       "<div>\n",
       "<style scoped>\n",
       "    .dataframe tbody tr th:only-of-type {\n",
       "        vertical-align: middle;\n",
       "    }\n",
       "\n",
       "    .dataframe tbody tr th {\n",
       "        vertical-align: top;\n",
       "    }\n",
       "\n",
       "    .dataframe thead th {\n",
       "        text-align: right;\n",
       "    }\n",
       "</style>\n",
       "<table border=\"1\" class=\"dataframe\">\n",
       "  <thead>\n",
       "    <tr style=\"text-align: right;\">\n",
       "      <th></th>\n",
       "      <th>grantAddress</th>\n",
       "      <th>metadata.application.project.title</th>\n",
       "      <th>percentage_suspicious_vote</th>\n",
       "      <th>count_suspicious_vote</th>\n",
       "      <th>roundId</th>\n",
       "      <th>status</th>\n",
       "    </tr>\n",
       "  </thead>\n",
       "  <tbody>\n",
       "    <tr>\n",
       "      <th>24</th>\n",
       "      <td>0xfc756d8632a19cebd76560ce0a6967279e32131b</td>\n",
       "      <td>Prettier Solidity</td>\n",
       "      <td>66.666667</td>\n",
       "      <td>4</td>\n",
       "      <td>0xdf22a2c8f6ba9376ff17ee13e6154b784ee92094</td>\n",
       "      <td>APPROVED</td>\n",
       "    </tr>\n",
       "    <tr>\n",
       "      <th>23</th>\n",
       "      <td>0xe02aae2cc50763b22e268593237ef822339853cf</td>\n",
       "      <td>Dapplet</td>\n",
       "      <td>50.000000</td>\n",
       "      <td>7</td>\n",
       "      <td>0xdf22a2c8f6ba9376ff17ee13e6154b784ee92094</td>\n",
       "      <td>APPROVED</td>\n",
       "    </tr>\n",
       "    <tr>\n",
       "      <th>17</th>\n",
       "      <td>0x242ba6d68ffeb4a098b591b32d370f973ff882b7</td>\n",
       "      <td>Blockscout - Decentralized, Open-source Block ...</td>\n",
       "      <td>44.339623</td>\n",
       "      <td>47</td>\n",
       "      <td>0xdf22a2c8f6ba9376ff17ee13e6154b784ee92094</td>\n",
       "      <td>APPROVED</td>\n",
       "    </tr>\n",
       "    <tr>\n",
       "      <th>9</th>\n",
       "      <td>0xfcc41c4614bd464ba28ad96f93aadaa7ba6c8680</td>\n",
       "      <td>clr.fund</td>\n",
       "      <td>39.884393</td>\n",
       "      <td>69</td>\n",
       "      <td>0x12bb5bbbfe596dbc489d209299b8302c3300fa40</td>\n",
       "      <td>REJECTED</td>\n",
       "    </tr>\n",
       "    <tr>\n",
       "      <th>20</th>\n",
       "      <td>0x6e41fe2f8303b89c9dbccabe59a7f7f8f4312ca9</td>\n",
       "      <td>Stereum - Ethereum Node Installer &amp; Manager</td>\n",
       "      <td>39.325843</td>\n",
       "      <td>35</td>\n",
       "      <td>0xdf22a2c8f6ba9376ff17ee13e6154b784ee92094</td>\n",
       "      <td>APPROVED</td>\n",
       "    </tr>\n",
       "    <tr>\n",
       "      <th>15</th>\n",
       "      <td>0x4557b18e779944bfe9d78a672452331c186a9f48</td>\n",
       "      <td>wagmi</td>\n",
       "      <td>39.166667</td>\n",
       "      <td>47</td>\n",
       "      <td>0xdf22a2c8f6ba9376ff17ee13e6154b784ee92094</td>\n",
       "      <td>APPROVED</td>\n",
       "    </tr>\n",
       "    <tr>\n",
       "      <th>21</th>\n",
       "      <td>0x8d3809951c7f1d18227251b0cb047735dbf8f8fc</td>\n",
       "      <td>Ephemery Testnet</td>\n",
       "      <td>37.837838</td>\n",
       "      <td>14</td>\n",
       "      <td>0xdf22a2c8f6ba9376ff17ee13e6154b784ee92094</td>\n",
       "      <td>APPROVED</td>\n",
       "    </tr>\n",
       "    <tr>\n",
       "      <th>10</th>\n",
       "      <td>0x8ba1f109551bd432803012645ac136ddd64dba72</td>\n",
       "      <td>ethers.js</td>\n",
       "      <td>35.502959</td>\n",
       "      <td>60</td>\n",
       "      <td>0xdf22a2c8f6ba9376ff17ee13e6154b784ee92094</td>\n",
       "      <td>APPROVED</td>\n",
       "    </tr>\n",
       "    <tr>\n",
       "      <th>6</th>\n",
       "      <td>0xf29ff96aaea6c9a1fba851f74737f3c069d4f1a9</td>\n",
       "      <td>Protocol Guild</td>\n",
       "      <td>35.046729</td>\n",
       "      <td>75</td>\n",
       "      <td>0xdf22a2c8f6ba9376ff17ee13e6154b784ee92094</td>\n",
       "      <td>APPROVED</td>\n",
       "    </tr>\n",
       "    <tr>\n",
       "      <th>14</th>\n",
       "      <td>0xc8f9f8c913d6ff031c65e3bf7c7a51ad1f3a86e5</td>\n",
       "      <td>Lodestar</td>\n",
       "      <td>34.351145</td>\n",
       "      <td>45</td>\n",
       "      <td>0xdf22a2c8f6ba9376ff17ee13e6154b784ee92094</td>\n",
       "      <td>APPROVED</td>\n",
       "    </tr>\n",
       "    <tr>\n",
       "      <th>4</th>\n",
       "      <td>0xd165df4296c85e780509fa1eace0150d945d49fd</td>\n",
       "      <td>EthStaker</td>\n",
       "      <td>34.156379</td>\n",
       "      <td>83</td>\n",
       "      <td>0xdf22a2c8f6ba9376ff17ee13e6154b784ee92094</td>\n",
       "      <td>APPROVED</td>\n",
       "    </tr>\n",
       "    <tr>\n",
       "      <th>8</th>\n",
       "      <td>0xb7081fd06e7039d198d10a8b72b824e60c1b1e16</td>\n",
       "      <td>Otterscan</td>\n",
       "      <td>34.078212</td>\n",
       "      <td>61</td>\n",
       "      <td>0xdf22a2c8f6ba9376ff17ee13e6154b784ee92094</td>\n",
       "      <td>APPROVED</td>\n",
       "    </tr>\n",
       "    <tr>\n",
       "      <th>5</th>\n",
       "      <td>0x53390590476dc98860316e4b46bb9842af55efc4</td>\n",
       "      <td>DAppNode</td>\n",
       "      <td>31.877729</td>\n",
       "      <td>73</td>\n",
       "      <td>0xdf22a2c8f6ba9376ff17ee13e6154b784ee92094</td>\n",
       "      <td>APPROVED</td>\n",
       "    </tr>\n",
       "    <tr>\n",
       "      <th>11</th>\n",
       "      <td>0xdecf6615152ac768bfb688c4ef882e35debe08ac</td>\n",
       "      <td>Rhino Review - Ethereum Staking Journal</td>\n",
       "      <td>30.674847</td>\n",
       "      <td>50</td>\n",
       "      <td>0xdf22a2c8f6ba9376ff17ee13e6154b784ee92094</td>\n",
       "      <td>APPROVED</td>\n",
       "    </tr>\n",
       "    <tr>\n",
       "      <th>7</th>\n",
       "      <td>0xc9a872868afa68ba937f65a1c5b4b252dab15d85</td>\n",
       "      <td>Lighthouse by Sigma Prime</td>\n",
       "      <td>29.230769</td>\n",
       "      <td>57</td>\n",
       "      <td>0xdf22a2c8f6ba9376ff17ee13e6154b784ee92094</td>\n",
       "      <td>APPROVED</td>\n",
       "    </tr>\n",
       "    <tr>\n",
       "      <th>12</th>\n",
       "      <td>0x187089b65520d2208ab93fb471c4970c29eaf929</td>\n",
       "      <td>Ape Framework</td>\n",
       "      <td>28.662420</td>\n",
       "      <td>45</td>\n",
       "      <td>0xdf22a2c8f6ba9376ff17ee13e6154b784ee92094</td>\n",
       "      <td>APPROVED</td>\n",
       "    </tr>\n",
       "    <tr>\n",
       "      <th>16</th>\n",
       "      <td>0x1bcdb2226ee2b023e3886dd2027c4ee95457699f</td>\n",
       "      <td>Ethereum on ARM</td>\n",
       "      <td>28.448276</td>\n",
       "      <td>33</td>\n",
       "      <td>0xdf22a2c8f6ba9376ff17ee13e6154b784ee92094</td>\n",
       "      <td>APPROVED</td>\n",
       "    </tr>\n",
       "    <tr>\n",
       "      <th>0</th>\n",
       "      <td>0x713bc00d1df5c452f172c317d39eff71b771c163</td>\n",
       "      <td>Kakarot zkEVM</td>\n",
       "      <td>28.219697</td>\n",
       "      <td>149</td>\n",
       "      <td>0xdf22a2c8f6ba9376ff17ee13e6154b784ee92094</td>\n",
       "      <td>APPROVED</td>\n",
       "    </tr>\n",
       "    <tr>\n",
       "      <th>1</th>\n",
       "      <td>0x6c5a2688c83c806150ca9dd0b2f10f16f8f1c33e</td>\n",
       "      <td>L2BEAT</td>\n",
       "      <td>27.170868</td>\n",
       "      <td>97</td>\n",
       "      <td>0xdf22a2c8f6ba9376ff17ee13e6154b784ee92094</td>\n",
       "      <td>APPROVED</td>\n",
       "    </tr>\n",
       "    <tr>\n",
       "      <th>22</th>\n",
       "      <td>0xcf83d0c22dd54475cc0c52721b0ef07d9756e8c0</td>\n",
       "      <td>Ethereum Staking Guides by CoinCashew</td>\n",
       "      <td>25.925926</td>\n",
       "      <td>7</td>\n",
       "      <td>0xdf22a2c8f6ba9376ff17ee13e6154b784ee92094</td>\n",
       "      <td>APPROVED</td>\n",
       "    </tr>\n",
       "    <tr>\n",
       "      <th>2</th>\n",
       "      <td>0xb352bb4e2a4f27683435f153a259f1b207218b1b</td>\n",
       "      <td>eth.limo</td>\n",
       "      <td>24.834437</td>\n",
       "      <td>75</td>\n",
       "      <td>0x12bb5bbbfe596dbc489d209299b8302c3300fa40</td>\n",
       "      <td>REJECTED</td>\n",
       "    </tr>\n",
       "    <tr>\n",
       "      <th>3</th>\n",
       "      <td>0x9531c059098e3d194ff87febb587ab07b30b1306</td>\n",
       "      <td>rotki</td>\n",
       "      <td>24.579125</td>\n",
       "      <td>73</td>\n",
       "      <td>0xdf22a2c8f6ba9376ff17ee13e6154b784ee92094</td>\n",
       "      <td>APPROVED</td>\n",
       "    </tr>\n",
       "    <tr>\n",
       "      <th>13</th>\n",
       "      <td>0x9cce47e9cf12c6147c9844adbb81fe85880c4df4</td>\n",
       "      <td>NiceNode: Run a node — just press start</td>\n",
       "      <td>23.648649</td>\n",
       "      <td>35</td>\n",
       "      <td>0xdf22a2c8f6ba9376ff17ee13e6154b784ee92094</td>\n",
       "      <td>APPROVED</td>\n",
       "    </tr>\n",
       "    <tr>\n",
       "      <th>19</th>\n",
       "      <td>0xc52fbf3769056ca421656b9c98b14a453a251a28</td>\n",
       "      <td>Candide Wallet</td>\n",
       "      <td>16.666667</td>\n",
       "      <td>16</td>\n",
       "      <td>0x12bb5bbbfe596dbc489d209299b8302c3300fa40</td>\n",
       "      <td>REJECTED</td>\n",
       "    </tr>\n",
       "    <tr>\n",
       "      <th>18</th>\n",
       "      <td>0x3455fbb4d34c6b47999b66c83aa7bd8fddade638</td>\n",
       "      <td>MetaGame</td>\n",
       "      <td>16.504854</td>\n",
       "      <td>17</td>\n",
       "      <td>0xdf22a2c8f6ba9376ff17ee13e6154b784ee92094</td>\n",
       "      <td>APPROVED</td>\n",
       "    </tr>\n",
       "  </tbody>\n",
       "</table>\n",
       "</div>"
      ],
      "text/plain": [
       "                                  grantAddress   \n",
       "24  0xfc756d8632a19cebd76560ce0a6967279e32131b  \\\n",
       "23  0xe02aae2cc50763b22e268593237ef822339853cf   \n",
       "17  0x242ba6d68ffeb4a098b591b32d370f973ff882b7   \n",
       "9   0xfcc41c4614bd464ba28ad96f93aadaa7ba6c8680   \n",
       "20  0x6e41fe2f8303b89c9dbccabe59a7f7f8f4312ca9   \n",
       "15  0x4557b18e779944bfe9d78a672452331c186a9f48   \n",
       "21  0x8d3809951c7f1d18227251b0cb047735dbf8f8fc   \n",
       "10  0x8ba1f109551bd432803012645ac136ddd64dba72   \n",
       "6   0xf29ff96aaea6c9a1fba851f74737f3c069d4f1a9   \n",
       "14  0xc8f9f8c913d6ff031c65e3bf7c7a51ad1f3a86e5   \n",
       "4   0xd165df4296c85e780509fa1eace0150d945d49fd   \n",
       "8   0xb7081fd06e7039d198d10a8b72b824e60c1b1e16   \n",
       "5   0x53390590476dc98860316e4b46bb9842af55efc4   \n",
       "11  0xdecf6615152ac768bfb688c4ef882e35debe08ac   \n",
       "7   0xc9a872868afa68ba937f65a1c5b4b252dab15d85   \n",
       "12  0x187089b65520d2208ab93fb471c4970c29eaf929   \n",
       "16  0x1bcdb2226ee2b023e3886dd2027c4ee95457699f   \n",
       "0   0x713bc00d1df5c452f172c317d39eff71b771c163   \n",
       "1   0x6c5a2688c83c806150ca9dd0b2f10f16f8f1c33e   \n",
       "22  0xcf83d0c22dd54475cc0c52721b0ef07d9756e8c0   \n",
       "2   0xb352bb4e2a4f27683435f153a259f1b207218b1b   \n",
       "3   0x9531c059098e3d194ff87febb587ab07b30b1306   \n",
       "13  0x9cce47e9cf12c6147c9844adbb81fe85880c4df4   \n",
       "19  0xc52fbf3769056ca421656b9c98b14a453a251a28   \n",
       "18  0x3455fbb4d34c6b47999b66c83aa7bd8fddade638   \n",
       "\n",
       "                   metadata.application.project.title   \n",
       "24                                  Prettier Solidity  \\\n",
       "23                                            Dapplet   \n",
       "17  Blockscout - Decentralized, Open-source Block ...   \n",
       "9                                            clr.fund   \n",
       "20        Stereum - Ethereum Node Installer & Manager   \n",
       "15                                              wagmi   \n",
       "21                                   Ephemery Testnet   \n",
       "10                                          ethers.js   \n",
       "6                                      Protocol Guild   \n",
       "14                                           Lodestar   \n",
       "4                                           EthStaker   \n",
       "8                                           Otterscan   \n",
       "5                                            DAppNode   \n",
       "11            Rhino Review - Ethereum Staking Journal   \n",
       "7                           Lighthouse by Sigma Prime   \n",
       "12                                      Ape Framework   \n",
       "16                                    Ethereum on ARM   \n",
       "0                                       Kakarot zkEVM   \n",
       "1                                              L2BEAT   \n",
       "22              Ethereum Staking Guides by CoinCashew   \n",
       "2                                            eth.limo   \n",
       "3                                               rotki   \n",
       "13            NiceNode: Run a node — just press start   \n",
       "19                                     Candide Wallet   \n",
       "18                                           MetaGame   \n",
       "\n",
       "    percentage_suspicious_vote  count_suspicious_vote   \n",
       "24                   66.666667                      4  \\\n",
       "23                   50.000000                      7   \n",
       "17                   44.339623                     47   \n",
       "9                    39.884393                     69   \n",
       "20                   39.325843                     35   \n",
       "15                   39.166667                     47   \n",
       "21                   37.837838                     14   \n",
       "10                   35.502959                     60   \n",
       "6                    35.046729                     75   \n",
       "14                   34.351145                     45   \n",
       "4                    34.156379                     83   \n",
       "8                    34.078212                     61   \n",
       "5                    31.877729                     73   \n",
       "11                   30.674847                     50   \n",
       "7                    29.230769                     57   \n",
       "12                   28.662420                     45   \n",
       "16                   28.448276                     33   \n",
       "0                    28.219697                    149   \n",
       "1                    27.170868                     97   \n",
       "22                   25.925926                      7   \n",
       "2                    24.834437                     75   \n",
       "3                    24.579125                     73   \n",
       "13                   23.648649                     35   \n",
       "19                   16.666667                     16   \n",
       "18                   16.504854                     17   \n",
       "\n",
       "                                       roundId    status  \n",
       "24  0xdf22a2c8f6ba9376ff17ee13e6154b784ee92094  APPROVED  \n",
       "23  0xdf22a2c8f6ba9376ff17ee13e6154b784ee92094  APPROVED  \n",
       "17  0xdf22a2c8f6ba9376ff17ee13e6154b784ee92094  APPROVED  \n",
       "9   0x12bb5bbbfe596dbc489d209299b8302c3300fa40  REJECTED  \n",
       "20  0xdf22a2c8f6ba9376ff17ee13e6154b784ee92094  APPROVED  \n",
       "15  0xdf22a2c8f6ba9376ff17ee13e6154b784ee92094  APPROVED  \n",
       "21  0xdf22a2c8f6ba9376ff17ee13e6154b784ee92094  APPROVED  \n",
       "10  0xdf22a2c8f6ba9376ff17ee13e6154b784ee92094  APPROVED  \n",
       "6   0xdf22a2c8f6ba9376ff17ee13e6154b784ee92094  APPROVED  \n",
       "14  0xdf22a2c8f6ba9376ff17ee13e6154b784ee92094  APPROVED  \n",
       "4   0xdf22a2c8f6ba9376ff17ee13e6154b784ee92094  APPROVED  \n",
       "8   0xdf22a2c8f6ba9376ff17ee13e6154b784ee92094  APPROVED  \n",
       "5   0xdf22a2c8f6ba9376ff17ee13e6154b784ee92094  APPROVED  \n",
       "11  0xdf22a2c8f6ba9376ff17ee13e6154b784ee92094  APPROVED  \n",
       "7   0xdf22a2c8f6ba9376ff17ee13e6154b784ee92094  APPROVED  \n",
       "12  0xdf22a2c8f6ba9376ff17ee13e6154b784ee92094  APPROVED  \n",
       "16  0xdf22a2c8f6ba9376ff17ee13e6154b784ee92094  APPROVED  \n",
       "0   0xdf22a2c8f6ba9376ff17ee13e6154b784ee92094  APPROVED  \n",
       "1   0xdf22a2c8f6ba9376ff17ee13e6154b784ee92094  APPROVED  \n",
       "22  0xdf22a2c8f6ba9376ff17ee13e6154b784ee92094  APPROVED  \n",
       "2   0x12bb5bbbfe596dbc489d209299b8302c3300fa40  REJECTED  \n",
       "3   0xdf22a2c8f6ba9376ff17ee13e6154b784ee92094  APPROVED  \n",
       "13  0xdf22a2c8f6ba9376ff17ee13e6154b784ee92094  APPROVED  \n",
       "19  0x12bb5bbbfe596dbc489d209299b8302c3300fa40  REJECTED  \n",
       "18  0xdf22a2c8f6ba9376ff17ee13e6154b784ee92094  APPROVED  "
      ]
     },
     "execution_count": 54,
     "metadata": {},
     "output_type": "execute_result"
    }
   ],
   "source": [
    "df_vote_grant_2['percentage_suspicious_vote'] = df_vote_grant_2['count_suspicious_vote'] / df_vote_grant_2['count_unique_vote'] * 100\n",
    "print(f'Number of suspicious votes {df_vote_sus_2.shape[0]} Number of projects voted: {df_vote_sus_2.grantAddress.nunique()}')\n",
    "# Merge the project the user voted for and the projects \n",
    "gr_sus_2 = df_vote_grant_2.merge(df_application, left_on='grantAddress', right_on='metadata.application.recipient', how='left').drop_duplicates(subset='grantAddress').loc[:, ['grantAddress', 'metadata.application.project.title', 'percentage_suspicious_vote', 'count_suspicious_vote', 'roundId', 'status']].reset_index(drop=True).sort_values(by='percentage_suspicious_vote', ascending=False)\n",
    "print(f'number of grants: {gr_sus.shape[0]}')\n",
    "gr_sus_2.head(30)"
   ]
  },
  {
   "cell_type": "code",
   "execution_count": 55,
   "metadata": {},
   "outputs": [],
   "source": [
    "boolean_to_keep = ['seed_suspicious', 'has_interaction_toxic', 'has_no_pool_interaction', 'has_interaction_tornado', 'has_interaction_disperse', 'is_airdrop_master', 'has_interaction_airdrop_m', 'interacted_other_ctbt', 'interact_less_5tx', 'flagged']"
   ]
  },
  {
   "cell_type": "code",
   "execution_count": 56,
   "metadata": {},
   "outputs": [
    {
     "data": {
      "text/plain": [
       "seed_suspicious               26\n",
       "has_interaction_toxic         31\n",
       "has_no_pool_interaction      803\n",
       "has_interaction_tornado       43\n",
       "has_interaction_disperse      26\n",
       "is_airdrop_master            136\n",
       "has_interaction_airdrop_m    270\n",
       "interacted_other_ctbt        165\n",
       "interact_less_5tx              0\n",
       "flagged                      323\n",
       "dtype: int64"
      ]
     },
     "execution_count": 56,
     "metadata": {},
     "output_type": "execute_result"
    }
   ],
   "source": [
    "df_matching_address[boolean_to_keep].sum()"
   ]
  },
  {
   "cell_type": "code",
   "execution_count": 71,
   "metadata": {},
   "outputs": [
    {
     "name": "stdout",
     "output_type": "stream",
     "text": [
      "number of squelched votes out of 4307\n"
     ]
    },
    {
     "data": {
      "text/plain": [
       "coefficient    350\n",
       "dtype: int64"
      ]
     },
     "execution_count": 71,
     "metadata": {},
     "output_type": "execute_result"
    }
   ],
   "source": [
    "final_merge = df_votes.merge(df_matching_address[['address'] + boolean_to_keep], left_on='voter', right_on='address', how='left')\n",
    "print(f'number of squelched votes out of {final_merge.shape[0]}')\n",
    "final_merge.shape[0] - final_merge[['coefficient']].sum() "
   ]
  },
  {
   "cell_type": "code",
   "execution_count": 63,
   "metadata": {},
   "outputs": [
    {
     "name": "stdout",
     "output_type": "stream",
     "text": [
      "(4307, 16)\n",
      "(4307, 27)\n"
     ]
    }
   ],
   "source": [
    "print(df_votes.shape)\n",
    "print(final_merge.shape)"
   ]
  },
  {
   "cell_type": "code",
   "execution_count": 75,
   "metadata": {},
   "outputs": [
    {
     "name": "stderr",
     "output_type": "stream",
     "text": [
      "C:\\Users\\DELL Admin\\AppData\\Local\\Temp\\ipykernel_15708\\2681738413.py:7: DtypeWarning: Columns (15,16) have mixed types. Specify dtype option on import or set low_memory=False.\n",
      "  df_votes_stephi = pd.read_csv(os.path.join(DATA_DIR_STEFI, CSV_STEPHI))\n"
     ]
    },
    {
     "name": "stdout",
     "output_type": "stream",
     "text": [
      "(81811, 19) votes stephi\n",
      "(4307, 27) final merge\n",
      "(4307, 29) votes merge\n"
     ]
    },
    {
     "data": {
      "image/png": "[encoded data removed]",
      "text/plain": [
       "<Figure size 640x480 with 2 Axes>"
      ]
     },
     "metadata": {},
     "output_type": "display_data"
    }
   ],
   "source": [
    "# Adding Stakeriddo and Gray flagged wallet\n",
    "\n",
    "DATA_DIR_STEFI = os.path.join(current_dir.parent.parent, 'stefi')\n",
    "CSV_STEPHI = 'sso_odc_analysis.csv'\n",
    "\n",
    "# load data\n",
    "df_votes_stephi = pd.read_csv(os.path.join(DATA_DIR_STEFI, CSV_STEPHI))\n",
    "print(f'{df_votes_stephi.shape} votes stephi')\n",
    "print(f'{final_merge.shape} final merge')\n",
    "df_stephi_bool_voter = df_votes_stephi[['voter', 'stakeridoo_detected', 'doge_detected']]\n",
    "df_merge = final_merge.merge(df_stephi_bool_voter.drop_duplicates(subset=['voter']), left_on='voter', right_on='voter', how='left')\n",
    "print(f'{df_merge.shape} votes merge')\n",
    "\n",
    "df_merge['bool_gitcoin_detected'] = np.logical_not(df_merge.success.astype(bool))\n",
    "df_merge['stakeridoo_detected'].fillna(False, inplace=True)\n",
    "df_merge['doge_detected'].fillna(False, inplace=True)\n",
    "df_merge['odc_detected'] = np.logical_or(np.logical_or(df_merge['stakeridoo_detected'], df_merge['doge_detected']), df_merge['flagged'])\n",
    "\n",
    "boolean_jaccard = boolean_to_keep + ['stakeridoo_detected', 'doge_detected', 'bool_gitcoin_detected', 'odc_detected']\n",
    "jaccard_similarity_2 = jaccard_similarity_matrix(df_merge[boolean_jaccard])\n",
    "sns.heatmap(jaccard_similarity_2)\n",
    "\n",
    "df_merge['proposed_coeff'] = np.logical_not(np.logical_or(df_merge['odc_detected'], df_merge['bool_gitcoin_detected']))\n",
    "\n",
    "df_merge.drop(columns=['bool_gitcoin_detected', 'address']).to_csv(f'../output_gitcoin/n_{CSV_GITCOIN_GRANTS}', index=False)"
   ]
  },
  {
   "cell_type": "code",
   "execution_count": 80,
   "metadata": {},
   "outputs": [
    {
     "data": {
      "text/plain": [
       "seed_suspicious                87\n",
       "has_interaction_toxic         135\n",
       "has_no_pool_interaction      3190\n",
       "has_interaction_tornado       245\n",
       "has_interaction_disperse      148\n",
       "is_airdrop_master             530\n",
       "has_interaction_airdrop_m    1076\n",
       "interacted_other_ctbt         539\n",
       "interact_less_5tx               0\n",
       "flagged                      1274\n",
       "stakeridoo_detected            64\n",
       "doge_detected                   7\n",
       "bool_gitcoin_detected          85\n",
       "odc_detected                 1331\n",
       "dtype: int64"
      ]
     },
     "execution_count": 80,
     "metadata": {},
     "output_type": "execute_result"
    }
   ],
   "source": [
    "df_merge[boolean_jaccard].sum(axis=0)"
   ]
  }
 ],
 "metadata": {
  "kernelspec": {
   "display_name": "venvotes",
   "language": "python",
   "name": "python3"
  },
  "language_info": {
   "codemirror_mode": {
    "name": "ipython",
    "version": 3
   },
   "file_extension": ".py",
   "mimetype": "text/x-python",
   "name": "python",
   "nbconvert_exporter": "python",
   "pygments_lexer": "ipython3",
   "version": "3.10.9"
  },
  "orig_nbformat": 4
 },
 "nbformat": 4,
 "nbformat_minor": 2
}
