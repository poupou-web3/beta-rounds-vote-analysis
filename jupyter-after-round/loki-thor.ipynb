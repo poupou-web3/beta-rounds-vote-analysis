{
 "cells": [
  {
   "attachments": {},
   "cell_type": "markdown",
   "metadata": {},
   "source": [
    "# loki thor \n"
   ]
  },
  {
   "cell_type": "code",
   "execution_count": 1,
   "metadata": {},
   "outputs": [],
   "source": [
    "import os\n",
    "from pathlib import Path\n",
    "import numpy as np\n",
    "\n",
    "import pandas as pd\n",
    "\n",
    "from sbdata.FlipsideApi import FlipsideApi\n",
    "\n",
    "# Set path to data folder\n",
    "current_dir = Path(os.getcwd())\n",
    "PATH_TO_EXPORT = os.path.join(current_dir.parent.parent, 'tx_data', 'passport2')\n",
    "DATA_DIR = os.path.join(current_dir.parent.parent, 'data-regen-rangers')\n",
    "DATA_DIR_GITCOIN = os.path.join(current_dir.parent.parent, 'data-gitcoin')\n",
    "# CSV_GITCOIN_GRANTS = 'vote_coefficients_0x274554EB289004e15A7679123901B7F070dDa0fa_1.csv'\n",
    "\n",
    "# read the address from oss grant\n",
    "\n",
    "api_key = os.environ['FLIPSIDE_API_KEY2']\n",
    "flipside_api = FlipsideApi(api_key, max_address=400)\n",
    "PATH_TO_VOTES = os.path.join(DATA_DIR, \"votes_baoki.csv\")\n",
    "PATH_TO_GRANTS = os.path.join(DATA_DIR, \"all-allo-rounds.csv\")\n",
    "PATH_TO_PROJECTS = os.path.join(DATA_DIR, \"projects_QmQurt.csv\")\n",
    "# PATH_TO_VOTES_GITCOIN = os.path.join(DATA_DIR_GITCOIN, CSV_GITCOIN_GRANTS)\n",
    "\n",
    "# load data\n",
    "# df_votes = pd.read_csv(PATH_TO_VOTES_GITCOIN)\n",
    "df_grants = pd.read_csv(PATH_TO_GRANTS)\n",
    "df_application = pd.read_csv(PATH_TO_PROJECTS)\n",
    "# Lowercase all addresses because flipside api return lowercase address\n",
    "#id,projectId,applicationId,roundId,token,voter,grantAddress,amount,amountUSD,coefficient,status,last_score_timestamp,type,success,rawScore,threshold\n",
    "df_grants['Round ID'] = df_grants['Round ID'].str.lower()\n",
    "str_columns_votes = ['id', 'projectId', 'roundId', 'voter', 'grantAddress']\n",
    "# df_votes[str_columns_votes] = df_votes[str_columns_votes].applymap(lambda x: x.lower())\n",
    "\n",
    "str_columns_application = ['id', 'roundId', 'metadata.application.round', 'metadata.application.recipient']\n",
    "df_application[str_columns_application] = df_application[str_columns_application].applymap(lambda x: str(x).lower())\n"
   ]
  },
  {
   "cell_type": "code",
   "execution_count": 2,
   "metadata": {},
   "outputs": [],
   "source": [
    "from sbutils import LoadData\n",
    "\n",
    "# Load data\n",
    "data_loader = LoadData.LoadData(PATH_TO_EXPORT)\n",
    "df_tx = data_loader.create_df_tx('ethereum')"
   ]
  },
  {
   "cell_type": "code",
   "execution_count": 3,
   "metadata": {},
   "outputs": [],
   "source": [
    "array_unique_address = df_tx.EOA.unique()\n",
    "array_unique_address = np.char.lower(array_unique_address.astype(str))"
   ]
  },
  {
   "cell_type": "code",
   "execution_count": 4,
   "metadata": {},
   "outputs": [
    {
     "data": {
      "text/plain": [
       "5992"
      ]
     },
     "execution_count": 4,
     "metadata": {},
     "output_type": "execute_result"
    }
   ],
   "source": [
    "len(array_unique_address)"
   ]
  },
  {
   "cell_type": "code",
   "execution_count": 5,
   "metadata": {},
   "outputs": [
    {
     "data": {
      "text/plain": [
       "array([], dtype=object)"
      ]
     },
     "execution_count": 5,
     "metadata": {},
     "output_type": "execute_result"
    }
   ],
   "source": [
    "c = np.setxor1d(array_unique_address, df_tx.EOA.values)\n",
    "c"
   ]
  },
  {
   "attachments": {},
   "cell_type": "markdown",
   "metadata": {},
   "source": [
    "## Computing legos booleans"
   ]
  },
  {
   "cell_type": "code",
   "execution_count": 6,
   "metadata": {},
   "outputs": [],
   "source": [
    "from sblegos.TransactionAnalyser import TransactionAnalyser as txa\n",
    "tx_analyser = txa(df_tx, df_address=pd.DataFrame(np.intersect1d(df_tx.EOA.unique(), array_unique_address)))"
   ]
  },
  {
   "attachments": {},
   "cell_type": "markdown",
   "metadata": {},
   "source": [
    "use matching address because some addresses are not in the extracted data set"
   ]
  },
  {
   "cell_type": "code",
   "execution_count": 7,
   "metadata": {},
   "outputs": [
    {
     "data": {
      "text/html": [
       "<div>\n",
       "<style scoped>\n",
       "    .dataframe tbody tr th:only-of-type {\n",
       "        vertical-align: middle;\n",
       "    }\n",
       "\n",
       "    .dataframe tbody tr th {\n",
       "        vertical-align: top;\n",
       "    }\n",
       "\n",
       "    .dataframe thead th {\n",
       "        text-align: right;\n",
       "    }\n",
       "</style>\n",
       "<table border=\"1\" class=\"dataframe\">\n",
       "  <thead>\n",
       "    <tr style=\"text-align: right;\">\n",
       "      <th></th>\n",
       "      <th>address</th>\n",
       "    </tr>\n",
       "  </thead>\n",
       "  <tbody>\n",
       "    <tr>\n",
       "      <th>0</th>\n",
       "      <td>0x000000000f709dfe4346b80009b8a5197f79aa14</td>\n",
       "    </tr>\n",
       "    <tr>\n",
       "      <th>1</th>\n",
       "      <td>0x00043607fa39c35d613fa48a17c7ed1afd57bbf6</td>\n",
       "    </tr>\n",
       "  </tbody>\n",
       "</table>\n",
       "</div>"
      ],
      "text/plain": [
       "                                      address\n",
       "0  0x000000000f709dfe4346b80009b8a5197f79aa14\n",
       "1  0x00043607fa39c35d613fa48a17c7ed1afd57bbf6"
      ]
     },
     "execution_count": 7,
     "metadata": {},
     "output_type": "execute_result"
    }
   ],
   "source": [
    "df_matching_address = pd.DataFrame(df_tx.EOA.unique(), columns=[\"address\"])\n",
    "df_matching_address.head(2)"
   ]
  },
  {
   "attachments": {},
   "cell_type": "markdown",
   "metadata": {},
   "source": [
    "Compute the boolean "
   ]
  },
  {
   "attachments": {},
   "cell_type": "markdown",
   "metadata": {},
   "source": [
    "less than 10 x transaction are not performant legos so we don't use it, has same seed is computed as an intermediarry to get the seed_suspicious flag"
   ]
  },
  {
   "cell_type": "code",
   "execution_count": 8,
   "metadata": {},
   "outputs": [],
   "source": [
    "df_matching_address['seed_same_naive'] = df_matching_address.loc[:, 'address'].apply(lambda x : tx_analyser.has_same_seed_naive(x))\n",
    "df_matching_address['seed_same'] = df_matching_address.loc[:, 'address'].apply(lambda x : tx_analyser.has_same_seed(x))\n",
    "df_matching_address['seed_suspicious'] = df_matching_address.loc[:, 'seed_same_naive'].ne(df_matching_address.loc[:, 'seed_same'])\n",
    "df_matching_address['less_5_tx'] = df_matching_address.loc[:, 'address'].apply(lambda x : tx_analyser.has_less_than_n_transactions(x, 5))\n",
    "# df_matching_address['less_10_tx'] = df_matching_address.loc[:, 'address'].apply(lambda x : tx_analyser.has_less_than_n_transactions(x, 10))\n",
    "df_matching_address['interacted_other_ctbt'] = df_matching_address.loc[:, 'address'].apply(lambda x : tx_analyser.has_interacted_with_other_contributor(x))"
   ]
  },
  {
   "cell_type": "code",
   "execution_count": 9,
   "metadata": {},
   "outputs": [
    {
     "name": "stdout",
     "output_type": "stream",
     "text": [
      "Number of addresses: 5992\n"
     ]
    }
   ],
   "source": [
    "print(f'Number of addresses: {len(df_matching_address)}')"
   ]
  },
  {
   "cell_type": "code",
   "execution_count": 10,
   "metadata": {},
   "outputs": [
    {
     "data": {
      "text/plain": [
       "address                  0x000000000f709dfe4346b80009b8a5197f79aa140x00...\n",
       "seed_same_naive                                                       3732\n",
       "seed_same                                                             3859\n",
       "seed_suspicious                                                        245\n",
       "less_5_tx                                                              204\n",
       "interacted_other_ctbt                                                 1123\n",
       "dtype: object"
      ]
     },
     "execution_count": 10,
     "metadata": {},
     "output_type": "execute_result"
    }
   ],
   "source": [
    "df_matching_address.sum()"
   ]
  },
  {
   "attachments": {},
   "cell_type": "markdown",
   "metadata": {},
   "source": [
    "### Computing the new dex interaction score\n",
    "It was investigated in another notebook "
   ]
  },
  {
   "cell_type": "code",
   "execution_count": 11,
   "metadata": {},
   "outputs": [],
   "source": [
    "def get_interacted_address(from_address, to_address, address):\n",
    "    if from_address == address:\n",
    "        return to_address\n",
    "    else:\n",
    "        return from_address\n",
    "\n",
    "def count_interaction_with_any(tx_analyser, address, array_address):\n",
    "    \"\"\"\n",
    "    Return an integer of the number of interactions with the addresses in the array_address\n",
    "    Parameters\n",
    "    ----------\n",
    "    address : str\n",
    "        The address to check\n",
    "\n",
    "    Returns\n",
    "    -------\n",
    "    count_interaction_with_any : int\n",
    "        The number of interactions with the addresses in the array_address\n",
    "    \"\"\"\n",
    "    tx_analyser.set_group_by_sorted_EOA()\n",
    "\n",
    "    df = tx_analyser.gb_EOA_sorted.get_group(address)\n",
    "    address_interacted = df.apply(lambda x: get_interacted_address(x['from_address'], x['to_address'], address), axis=1)\n",
    "    tx_boolean_interacted = address_interacted.isin(array_address)\n",
    "    return tx_boolean_interacted.sum()\n",
    "\n",
    "def has_interacted_with_any(tx_analyser, address, array_address):\n",
    "    \"\"\"\n",
    "    Return a boolean whether the address has interacted with any address in the array_address\n",
    "    Parameters\n",
    "    ----------\n",
    "    address : str\n",
    "        The address to check\n",
    "\n",
    "    Returns\n",
    "    -------\n",
    "    has_interacted_with_any : bool\n",
    "        True if the address has interacted with one or more of the addresses in the array_address\n",
    "    \"\"\"\n",
    "    count_interaction_with_any = count_interaction_with_any(tx_analyser, address, array_address)\n",
    "    return count_interaction_with_any > 0"
   ]
  },
  {
   "cell_type": "code",
   "execution_count": 12,
   "metadata": {},
   "outputs": [],
   "source": [
    "label_query = '''\n",
    "SELECT ADDRESS, CREATOR, LABEL_TYPE, ADDRESS_NAME, PROJECT_NAME\n",
    "FROM crosschain.core.address_labels \n",
    "WHERE BLOCKCHAIN='ethereum'\n",
    "AND LABEL_SUBTYPE = 'pool' \n",
    ";'''\n",
    "df_label = flipside_api.execute_query(label_query)"
   ]
  },
  {
   "cell_type": "code",
   "execution_count": 13,
   "metadata": {},
   "outputs": [],
   "source": [
    "# extract all the pool addresses\n",
    "array_pool_address = df_label['address'].unique()"
   ]
  },
  {
   "cell_type": "code",
   "execution_count": 14,
   "metadata": {},
   "outputs": [],
   "source": [
    "tx_analyser.set_group_by_sorted_EOA()"
   ]
  },
  {
   "cell_type": "code",
   "execution_count": 15,
   "metadata": {},
   "outputs": [],
   "source": [
    "# Compute the number of interactions with any of the pools for each address\n",
    "df_matching_address['count_interaction_with_pool'] = df_matching_address['address'].apply(lambda x: count_interaction_with_any(tx_analyser, x, array_pool_address))"
   ]
  },
  {
   "cell_type": "code",
   "execution_count": 16,
   "metadata": {},
   "outputs": [
    {
     "data": {
      "text/plain": [
       "0.47363150867823767"
      ]
     },
     "execution_count": 16,
     "metadata": {},
     "output_type": "execute_result"
    }
   ],
   "source": [
    "(df_matching_address['count_interaction_with_pool'] > 0).sum() / len(df_matching_address)"
   ]
  },
  {
   "cell_type": "code",
   "execution_count": 17,
   "metadata": {},
   "outputs": [],
   "source": [
    "label_query = '''\n",
    "SELECT DISTINCT(LABEL_SUBTYPE)\n",
    "FROM crosschain.core.address_labels \n",
    "WHERE BLOCKCHAIN='ethereum'\n",
    ";'''\n",
    "df_distinct_labels = flipside_api.execute_query(label_query)"
   ]
  },
  {
   "cell_type": "code",
   "execution_count": 18,
   "metadata": {},
   "outputs": [
    {
     "data": {
      "text/plain": [
       "array(['router', 'strategy', 'foundation', 'marketplace',\n",
       "       'donation_address', 'mining_pool', 'fee_wallet', 'chadmin',\n",
       "       'governance', 'cold_wallet', 'nf_token_contract',\n",
       "       'token_distribution', 'nf_position_manager', 'multisig',\n",
       "       'airdrop_contract', 'pool', 'deposit_wallet', 'staking_contract',\n",
       "       'bridge', 'token_contract', 'mint_burn', 'mint_contract',\n",
       "       'contract_deployer', 'reserve', 'escrow', 'vault', 'oracle',\n",
       "       'treasury', 'token_sale', 'swap_router', 'voting',\n",
       "       'aggregator_contract', 'general_contract', 'hot_wallet',\n",
       "       'distributor_cex', 'swap_contract', 'toxic', 'dao', 'rewards'],\n",
       "      dtype=object)"
      ]
     },
     "execution_count": 18,
     "metadata": {},
     "output_type": "execute_result"
    }
   ],
   "source": [
    "df_distinct_labels.label_subtype.unique()"
   ]
  },
  {
   "attachments": {},
   "cell_type": "markdown",
   "metadata": {},
   "source": [
    "From these tags lets flag any address that have interacted with a toxic wallet"
   ]
  },
  {
   "cell_type": "code",
   "execution_count": 33,
   "metadata": {},
   "outputs": [],
   "source": [
    "label_query = '''\n",
    "SELECT ADDRESS, CREATOR, LABEL_TYPE, ADDRESS_NAME, PROJECT_NAME\n",
    "FROM crosschain.core.address_labels \n",
    "WHERE BLOCKCHAIN='ethereum'\n",
    "AND LABEL_SUBTYPE = 'toxic'\n",
    ";'''\n",
    "df_toxic = flipside_api.execute_query(label_query)"
   ]
  },
  {
   "cell_type": "code",
   "execution_count": 34,
   "metadata": {},
   "outputs": [
    {
     "data": {
      "text/plain": [
       "(4857, 6)"
      ]
     },
     "execution_count": 34,
     "metadata": {},
     "output_type": "execute_result"
    }
   ],
   "source": [
    "df_toxic.shape"
   ]
  },
  {
   "cell_type": "code",
   "execution_count": 35,
   "metadata": {},
   "outputs": [],
   "source": [
    "# Compute the number of interactions with any of the scam for each address\n",
    "df_matching_address['count_interaction_with_toxic'] = df_matching_address['address'].apply(lambda x: count_interaction_with_any(tx_analyser, x, df_toxic['address'].unique()))"
   ]
  },
  {
   "cell_type": "code",
   "execution_count": 36,
   "metadata": {},
   "outputs": [
    {
     "name": "stdout",
     "output_type": "stream",
     "text": [
      "Percentage of addresses that have interacted with a toxic address: 2%\n"
     ]
    }
   ],
   "source": [
    "print(f'Percentage of addresses that have interacted with a toxic address: {int((df_matching_address[\"count_interaction_with_toxic\"] > 0).sum() / len(df_matching_address) *100)}%')"
   ]
  },
  {
   "cell_type": "code",
   "execution_count": 37,
   "metadata": {},
   "outputs": [
    {
     "name": "stdout",
     "output_type": "stream",
     "text": [
      "QUERY_RUN_TIMEOUT_ERROR: your query has timed out after 325.0 minutes.\n",
      "\n",
      "SELECT DISTINCT(TAG_TYPE)\n",
      "FROM crosschain.core.address_tags \n",
      "WHERE BLOCKCHAIN='ethereum'\n",
      ";\n"
     ]
    }
   ],
   "source": [
    "tag_query = '''\n",
    "SELECT DISTINCT(TAG_TYPE)\n",
    "FROM crosschain.core.address_tags \n",
    "WHERE BLOCKCHAIN='ethereum'\n",
    ";'''\n",
    "df_distinct_tags = flipside_api.execute_query(tag_query)"
   ]
  },
  {
   "cell_type": "code",
   "execution_count": 38,
   "metadata": {},
   "outputs": [
    {
     "ename": "AttributeError",
     "evalue": "'DataFrame' object has no attribute 'tag_type'",
     "output_type": "error",
     "traceback": [
      "\u001b[1;31m---------------------------------------------------------------------------\u001b[0m",
      "\u001b[1;31mAttributeError\u001b[0m                            Traceback (most recent call last)",
      "\u001b[1;32m~\\AppData\\Local\\Temp\\ipykernel_12636\\1772336401.py\u001b[0m in \u001b[0;36m?\u001b[1;34m()\u001b[0m\n\u001b[1;32m----> 1\u001b[1;33m \u001b[0mdf_distinct_tags\u001b[0m\u001b[1;33m.\u001b[0m\u001b[0mtag_type\u001b[0m\u001b[1;33m.\u001b[0m\u001b[0mvalues\u001b[0m\u001b[1;33m\u001b[0m\u001b[1;33m\u001b[0m\u001b[0m\n\u001b[0m",
      "\u001b[1;32mc:\\Users\\DELL Admin\\Documents\\ODC\\RegenRangers\\beta-round-vote-analysis\\venvotes\\lib\\site-packages\\pandas\\core\\generic.py\u001b[0m in \u001b[0;36m?\u001b[1;34m(self, name)\u001b[0m\n\u001b[0;32m   5985\u001b[0m             \u001b[1;32mand\u001b[0m \u001b[0mname\u001b[0m \u001b[1;32mnot\u001b[0m \u001b[1;32min\u001b[0m \u001b[0mself\u001b[0m\u001b[1;33m.\u001b[0m\u001b[0m_accessors\u001b[0m\u001b[1;33m\u001b[0m\u001b[1;33m\u001b[0m\u001b[0m\n\u001b[0;32m   5986\u001b[0m             \u001b[1;32mand\u001b[0m \u001b[0mself\u001b[0m\u001b[1;33m.\u001b[0m\u001b[0m_info_axis\u001b[0m\u001b[1;33m.\u001b[0m\u001b[0m_can_hold_identifiers_and_holds_name\u001b[0m\u001b[1;33m(\u001b[0m\u001b[0mname\u001b[0m\u001b[1;33m)\u001b[0m\u001b[1;33m\u001b[0m\u001b[1;33m\u001b[0m\u001b[0m\n\u001b[0;32m   5987\u001b[0m         ):\n\u001b[0;32m   5988\u001b[0m             \u001b[1;32mreturn\u001b[0m \u001b[0mself\u001b[0m\u001b[1;33m[\u001b[0m\u001b[0mname\u001b[0m\u001b[1;33m]\u001b[0m\u001b[1;33m\u001b[0m\u001b[1;33m\u001b[0m\u001b[0m\n\u001b[1;32m-> 5989\u001b[1;33m         \u001b[1;32mreturn\u001b[0m \u001b[0mobject\u001b[0m\u001b[1;33m.\u001b[0m\u001b[0m__getattribute__\u001b[0m\u001b[1;33m(\u001b[0m\u001b[0mself\u001b[0m\u001b[1;33m,\u001b[0m \u001b[0mname\u001b[0m\u001b[1;33m)\u001b[0m\u001b[1;33m\u001b[0m\u001b[1;33m\u001b[0m\u001b[0m\n\u001b[0m",
      "\u001b[1;31mAttributeError\u001b[0m: 'DataFrame' object has no attribute 'tag_type'"
     ]
    }
   ],
   "source": [
    "df_distinct_tags.tag_type.values"
   ]
  },
  {
   "attachments": {},
   "cell_type": "markdown",
   "metadata": {},
   "source": [
    "I found the tag_name \"airdrop master\" could be interesting "
   ]
  },
  {
   "cell_type": "code",
   "execution_count": 25,
   "metadata": {},
   "outputs": [],
   "source": [
    "query_airdrop_master = '''\n",
    "SELECT BLOCKCHAIN, CREATOR, ADDRESS, TAG_NAME\n",
    "FROM crosschain.core.address_tags \n",
    "WHERE BLOCKCHAIN='ethereum'\n",
    "AND TAG_NAME = 'airdrop master'\n",
    ";\n",
    "'''\n",
    "df_airdrop_master = flipside_api.execute_query(query_airdrop_master)"
   ]
  },
  {
   "cell_type": "code",
   "execution_count": 26,
   "metadata": {},
   "outputs": [
    {
     "name": "stdout",
     "output_type": "stream",
     "text": [
      "Percentage of addresses that interacted with airdrop master: 20%\n"
     ]
    }
   ],
   "source": [
    "# Compute the number of interactions with any of the aidrop for each address\n",
    "df_matching_address['count_interaction_with_airdrop_m'] = df_matching_address['address'].apply(lambda x: count_interaction_with_any(tx_analyser, x, df_airdrop_master['address'].unique()))\n",
    "print(f'Percentage of addresses that interacted with airdrop master: {int((df_matching_address[\"count_interaction_with_airdrop_m\"] > 0).sum() / len(df_matching_address) * 100)}%')"
   ]
  },
  {
   "cell_type": "code",
   "execution_count": 27,
   "metadata": {},
   "outputs": [
    {
     "name": "stdout",
     "output_type": "stream",
     "text": [
      "Percentage of addresses that are airdrop master: 8%\n"
     ]
    }
   ],
   "source": [
    "# Boolean whether the address is a aidrop master\n",
    "df_matching_address['is_airdrop_master'] = df_matching_address['address'].apply(lambda x: x in df_airdrop_master['address'].unique()) \n",
    "print(f'Percentage of addresses that are airdrop master: {int((df_matching_address[\"is_airdrop_master\"]).sum() / len(df_matching_address) * 100)}%')"
   ]
  },
  {
   "cell_type": "code",
   "execution_count": 28,
   "metadata": {},
   "outputs": [],
   "source": [
    "sql_query_tornado = '''\n",
    "SELECT DISTINCT PROJECT_NAME, ADDRESS\n",
    "FROM crosschain.core.address_labels \n",
    "WHERE BLOCKCHAIN='ethereum'\n",
    "AND PROJECT_NAME LIKE '%tornado%'\n",
    ";\n",
    "'''\n",
    "df_tornado = flipside_api.execute_query(sql_query_tornado)"
   ]
  },
  {
   "cell_type": "code",
   "execution_count": 29,
   "metadata": {},
   "outputs": [
    {
     "name": "stdout",
     "output_type": "stream",
     "text": [
      "Percentage of addresses that interacted with tornado: 1%\n"
     ]
    }
   ],
   "source": [
    "# Count the number of interactions with tornado\n",
    "df_matching_address['count_interaction_with_tornado'] = df_matching_address['address'].apply(lambda x: count_interaction_with_any(tx_analyser, x, df_tornado['address'].unique()))\n",
    "print(f'Percentage of addresses that interacted with tornado: {int((df_matching_address[\"count_interaction_with_tornado\"] > 0).sum() / len(df_matching_address) * 100)}%')"
   ]
  },
  {
   "cell_type": "code",
   "execution_count": 30,
   "metadata": {},
   "outputs": [
    {
     "name": "stdout",
     "output_type": "stream",
     "text": [
      "Percentage of addresses that interacted with disperse: 1%\n"
     ]
    }
   ],
   "source": [
    "# Count the number of time the address interatec with disperse contract: '0xD152f549545093347A162Dce210e7293f1452150'\n",
    "df_matching_address['count_interaction_with_disperse'] = df_matching_address['address'].apply(lambda x: count_interaction_with_any(tx_analyser, x, [str.lower('0xD152f549545093347A162Dce210e7293f1452150')]))\n",
    "print(f'Percentage of addresses that interacted with disperse: {int((df_matching_address[\"count_interaction_with_disperse\"] > 0).sum() / len(df_matching_address) * 100)}%')"
   ]
  },
  {
   "cell_type": "code",
   "execution_count": 31,
   "metadata": {},
   "outputs": [
    {
     "data": {
      "text/html": [
       "<div>\n",
       "<style scoped>\n",
       "    .dataframe tbody tr th:only-of-type {\n",
       "        vertical-align: middle;\n",
       "    }\n",
       "\n",
       "    .dataframe tbody tr th {\n",
       "        vertical-align: top;\n",
       "    }\n",
       "\n",
       "    .dataframe thead th {\n",
       "        text-align: right;\n",
       "    }\n",
       "</style>\n",
       "<table border=\"1\" class=\"dataframe\">\n",
       "  <thead>\n",
       "    <tr style=\"text-align: right;\">\n",
       "      <th></th>\n",
       "      <th>count_interaction_with_pool</th>\n",
       "      <th>count_interaction_with_airdrop_m</th>\n",
       "      <th>count_interaction_with_tornado</th>\n",
       "      <th>count_interaction_with_disperse</th>\n",
       "    </tr>\n",
       "  </thead>\n",
       "  <tbody>\n",
       "    <tr>\n",
       "      <th>count</th>\n",
       "      <td>5992.000000</td>\n",
       "      <td>5992.000000</td>\n",
       "      <td>5992.000000</td>\n",
       "      <td>5992.000000</td>\n",
       "    </tr>\n",
       "    <tr>\n",
       "      <th>mean</th>\n",
       "      <td>6.086949</td>\n",
       "      <td>1.920227</td>\n",
       "      <td>0.060748</td>\n",
       "      <td>0.052069</td>\n",
       "    </tr>\n",
       "    <tr>\n",
       "      <th>std</th>\n",
       "      <td>35.291943</td>\n",
       "      <td>10.253683</td>\n",
       "      <td>0.853077</td>\n",
       "      <td>0.788601</td>\n",
       "    </tr>\n",
       "    <tr>\n",
       "      <th>min</th>\n",
       "      <td>0.000000</td>\n",
       "      <td>0.000000</td>\n",
       "      <td>0.000000</td>\n",
       "      <td>0.000000</td>\n",
       "    </tr>\n",
       "    <tr>\n",
       "      <th>10%</th>\n",
       "      <td>0.000000</td>\n",
       "      <td>0.000000</td>\n",
       "      <td>0.000000</td>\n",
       "      <td>0.000000</td>\n",
       "    </tr>\n",
       "    <tr>\n",
       "      <th>25%</th>\n",
       "      <td>0.000000</td>\n",
       "      <td>0.000000</td>\n",
       "      <td>0.000000</td>\n",
       "      <td>0.000000</td>\n",
       "    </tr>\n",
       "    <tr>\n",
       "      <th>50%</th>\n",
       "      <td>0.000000</td>\n",
       "      <td>0.000000</td>\n",
       "      <td>0.000000</td>\n",
       "      <td>0.000000</td>\n",
       "    </tr>\n",
       "    <tr>\n",
       "      <th>75%</th>\n",
       "      <td>3.000000</td>\n",
       "      <td>0.000000</td>\n",
       "      <td>0.000000</td>\n",
       "      <td>0.000000</td>\n",
       "    </tr>\n",
       "    <tr>\n",
       "      <th>90%</th>\n",
       "      <td>10.000000</td>\n",
       "      <td>3.000000</td>\n",
       "      <td>0.000000</td>\n",
       "      <td>0.000000</td>\n",
       "    </tr>\n",
       "    <tr>\n",
       "      <th>max</th>\n",
       "      <td>1228.000000</td>\n",
       "      <td>309.000000</td>\n",
       "      <td>39.000000</td>\n",
       "      <td>39.000000</td>\n",
       "    </tr>\n",
       "  </tbody>\n",
       "</table>\n",
       "</div>"
      ],
      "text/plain": [
       "       count_interaction_with_pool  count_interaction_with_airdrop_m   \n",
       "count                  5992.000000                       5992.000000  \\\n",
       "mean                      6.086949                          1.920227   \n",
       "std                      35.291943                         10.253683   \n",
       "min                       0.000000                          0.000000   \n",
       "10%                       0.000000                          0.000000   \n",
       "25%                       0.000000                          0.000000   \n",
       "50%                       0.000000                          0.000000   \n",
       "75%                       3.000000                          0.000000   \n",
       "90%                      10.000000                          3.000000   \n",
       "max                    1228.000000                        309.000000   \n",
       "\n",
       "       count_interaction_with_tornado  count_interaction_with_disperse  \n",
       "count                     5992.000000                      5992.000000  \n",
       "mean                         0.060748                         0.052069  \n",
       "std                          0.853077                         0.788601  \n",
       "min                          0.000000                         0.000000  \n",
       "10%                          0.000000                         0.000000  \n",
       "25%                          0.000000                         0.000000  \n",
       "50%                          0.000000                         0.000000  \n",
       "75%                          0.000000                         0.000000  \n",
       "90%                          0.000000                         0.000000  \n",
       "max                         39.000000                        39.000000  "
      ]
     },
     "execution_count": 31,
     "metadata": {},
     "output_type": "execute_result"
    }
   ],
   "source": [
    "df_matching_address.describe(percentiles=[0.1, 0.25, 0.5, 0.75, 0.9])"
   ]
  },
  {
   "cell_type": "code",
   "execution_count": 39,
   "metadata": {},
   "outputs": [],
   "source": [
    "df_matching_address['has_interaction_toxic'] = df_matching_address['count_interaction_with_toxic'] > 0\n",
    "df_matching_address['has_no_pool_interaction'] = df_matching_address['count_interaction_with_pool'] < 6\n",
    "df_matching_address['has_interaction_airdrop_m'] = df_matching_address['count_interaction_with_airdrop_m'] > 0\n",
    "df_matching_address['has_interaction_tornado'] = df_matching_address['count_interaction_with_tornado'] > 0\n",
    "df_matching_address['has_interaction_disperse'] = df_matching_address['count_interaction_with_disperse'] > 0"
   ]
  },
  {
   "cell_type": "code",
   "execution_count": 40,
   "metadata": {},
   "outputs": [],
   "source": [
    "boolean_features = ['seed_suspicious', 'has_interaction_toxic', 'has_no_pool_interaction', 'has_interaction_airdrop_m', 'has_interaction_tornado', 'has_interaction_disperse', 'is_airdrop_master', 'interacted_other_ctbt']"
   ]
  },
  {
   "cell_type": "code",
   "execution_count": 41,
   "metadata": {},
   "outputs": [
    {
     "data": {
      "text/plain": [
       "seed_suspicious               245\n",
       "has_interaction_toxic         146\n",
       "has_no_pool_interaction      5035\n",
       "has_interaction_airdrop_m    1225\n",
       "has_interaction_tornado        93\n",
       "has_interaction_disperse       83\n",
       "is_airdrop_master             528\n",
       "interacted_other_ctbt        1123\n",
       "dtype: int64"
      ]
     },
     "execution_count": 41,
     "metadata": {},
     "output_type": "execute_result"
    }
   ],
   "source": [
    "df_matching_address[boolean_features].sum() "
   ]
  },
  {
   "cell_type": "code",
   "execution_count": 42,
   "metadata": {},
   "outputs": [
    {
     "data": {
      "text/plain": [
       "5992"
      ]
     },
     "execution_count": 42,
     "metadata": {},
     "output_type": "execute_result"
    }
   ],
   "source": [
    "len(df_matching_address)"
   ]
  },
  {
   "attachments": {},
   "cell_type": "markdown",
   "metadata": {},
   "source": [
    "### Look at the addresses with at least one flag"
   ]
  },
  {
   "attachments": {},
   "cell_type": "markdown",
   "metadata": {},
   "source": [
    "We are going to review the addresses that have at least 1 flag:\n",
    "- has_interaction_toxic \n",
    "- has_interaction_disperse\n",
    "- has_interaction_airdrop_master\n",
    "- is airdrop master\n",
    "- seed suspicious\n",
    "- interacted with other contributor and less than 5 tx\n",
    "\n",
    "I decided to remove tornado cash because someone can be anonimous with out being a sybil"
   ]
  },
  {
   "cell_type": "code",
   "execution_count": 43,
   "metadata": {},
   "outputs": [],
   "source": [
    "df_matching_address['interact_less_5tx'] = np.logical_and(df_matching_address['interacted_other_ctbt'], df_matching_address['less_5_tx'])"
   ]
  },
  {
   "cell_type": "code",
   "execution_count": 44,
   "metadata": {},
   "outputs": [],
   "source": [
    "interaction_bool = ['has_interaction_toxic', 'has_interaction_airdrop_m', 'has_interaction_disperse', 'is_airdrop_master', 'seed_suspicious', 'interact_less_5tx']"
   ]
  },
  {
   "cell_type": "code",
   "execution_count": 45,
   "metadata": {},
   "outputs": [
    {
     "data": {
      "text/plain": [
       "has_interaction_toxic         146\n",
       "has_interaction_airdrop_m    1225\n",
       "has_interaction_disperse       83\n",
       "is_airdrop_master             528\n",
       "seed_suspicious               245\n",
       "interact_less_5tx               2\n",
       "dtype: int64"
      ]
     },
     "execution_count": 45,
     "metadata": {},
     "output_type": "execute_result"
    }
   ],
   "source": [
    "df_matching_address[interaction_bool].sum()"
   ]
  },
  {
   "cell_type": "code",
   "execution_count": 46,
   "metadata": {},
   "outputs": [
    {
     "data": {
      "text/html": [
       "<div>\n",
       "<style scoped>\n",
       "    .dataframe tbody tr th:only-of-type {\n",
       "        vertical-align: middle;\n",
       "    }\n",
       "\n",
       "    .dataframe tbody tr th {\n",
       "        vertical-align: top;\n",
       "    }\n",
       "\n",
       "    .dataframe thead th {\n",
       "        text-align: right;\n",
       "    }\n",
       "</style>\n",
       "<table border=\"1\" class=\"dataframe\">\n",
       "  <thead>\n",
       "    <tr style=\"text-align: right;\">\n",
       "      <th></th>\n",
       "      <th>has_interaction_toxic</th>\n",
       "      <th>has_interaction_airdrop_m</th>\n",
       "      <th>has_interaction_disperse</th>\n",
       "      <th>is_airdrop_master</th>\n",
       "      <th>seed_suspicious</th>\n",
       "      <th>interact_less_5tx</th>\n",
       "    </tr>\n",
       "  </thead>\n",
       "  <tbody>\n",
       "    <tr>\n",
       "      <th>has_interaction_toxic</th>\n",
       "      <td>1.000000</td>\n",
       "      <td>0.066926</td>\n",
       "      <td>0.050459</td>\n",
       "      <td>0.071542</td>\n",
       "      <td>0.007732</td>\n",
       "      <td>0.0</td>\n",
       "    </tr>\n",
       "    <tr>\n",
       "      <th>has_interaction_airdrop_m</th>\n",
       "      <td>0.066926</td>\n",
       "      <td>1.000000</td>\n",
       "      <td>0.038095</td>\n",
       "      <td>0.327025</td>\n",
       "      <td>0.011700</td>\n",
       "      <td>0.0</td>\n",
       "    </tr>\n",
       "    <tr>\n",
       "      <th>has_interaction_disperse</th>\n",
       "      <td>0.050459</td>\n",
       "      <td>0.038095</td>\n",
       "      <td>1.000000</td>\n",
       "      <td>0.033841</td>\n",
       "      <td>0.003058</td>\n",
       "      <td>0.0</td>\n",
       "    </tr>\n",
       "    <tr>\n",
       "      <th>is_airdrop_master</th>\n",
       "      <td>0.071542</td>\n",
       "      <td>0.327025</td>\n",
       "      <td>0.033841</td>\n",
       "      <td>1.000000</td>\n",
       "      <td>0.010458</td>\n",
       "      <td>0.0</td>\n",
       "    </tr>\n",
       "    <tr>\n",
       "      <th>seed_suspicious</th>\n",
       "      <td>0.007732</td>\n",
       "      <td>0.011700</td>\n",
       "      <td>0.003058</td>\n",
       "      <td>0.010458</td>\n",
       "      <td>1.000000</td>\n",
       "      <td>0.0</td>\n",
       "    </tr>\n",
       "    <tr>\n",
       "      <th>interact_less_5tx</th>\n",
       "      <td>0.000000</td>\n",
       "      <td>0.000000</td>\n",
       "      <td>0.000000</td>\n",
       "      <td>0.000000</td>\n",
       "      <td>0.000000</td>\n",
       "      <td>1.0</td>\n",
       "    </tr>\n",
       "  </tbody>\n",
       "</table>\n",
       "</div>"
      ],
      "text/plain": [
       "                           has_interaction_toxic  has_interaction_airdrop_m   \n",
       "has_interaction_toxic                   1.000000                   0.066926  \\\n",
       "has_interaction_airdrop_m               0.066926                   1.000000   \n",
       "has_interaction_disperse                0.050459                   0.038095   \n",
       "is_airdrop_master                       0.071542                   0.327025   \n",
       "seed_suspicious                         0.007732                   0.011700   \n",
       "interact_less_5tx                       0.000000                   0.000000   \n",
       "\n",
       "                           has_interaction_disperse  is_airdrop_master   \n",
       "has_interaction_toxic                      0.050459           0.071542  \\\n",
       "has_interaction_airdrop_m                  0.038095           0.327025   \n",
       "has_interaction_disperse                   1.000000           0.033841   \n",
       "is_airdrop_master                          0.033841           1.000000   \n",
       "seed_suspicious                            0.003058           0.010458   \n",
       "interact_less_5tx                          0.000000           0.000000   \n",
       "\n",
       "                           seed_suspicious  interact_less_5tx  \n",
       "has_interaction_toxic             0.007732                0.0  \n",
       "has_interaction_airdrop_m         0.011700                0.0  \n",
       "has_interaction_disperse          0.003058                0.0  \n",
       "is_airdrop_master                 0.010458                0.0  \n",
       "seed_suspicious                   1.000000                0.0  \n",
       "interact_less_5tx                 0.000000                1.0  "
      ]
     },
     "execution_count": 46,
     "metadata": {},
     "output_type": "execute_result"
    }
   ],
   "source": [
    "from scipy.spatial.distance import pdist\n",
    "\n",
    "def jaccard_similarity_matrix(df):\n",
    "    \n",
    "    n = df.shape[1]\n",
    "    scores = 1 - pdist(np.array(df).T, metric='jaccard')\n",
    "    result = np.zeros((n,n))\n",
    "    result[np.triu_indices(n, k=1)] = scores\n",
    "    result += result.T\n",
    "    np.fill_diagonal(result, 1)\n",
    "    return pd.DataFrame(result, index=df.columns, columns=df.columns)\n",
    "\n",
    "jaccard_similarity = jaccard_similarity_matrix(df_matching_address[interaction_bool])\n",
    "jaccard_similarity"
   ]
  },
  {
   "cell_type": "code",
   "execution_count": 47,
   "metadata": {},
   "outputs": [
    {
     "data": {
      "text/plain": [
       "<Axes: >"
      ]
     },
     "execution_count": 47,
     "metadata": {},
     "output_type": "execute_result"
    },
    {
     "data": {
      "image/png": "[encoded data removed]",
      "text/plain": [
       "<Figure size 640x480 with 2 Axes>"
      ]
     },
     "metadata": {},
     "output_type": "display_data"
    }
   ],
   "source": [
    "import seaborn as sns\n",
    "sns.heatmap(jaccard_similarity, annot=True)"
   ]
  },
  {
   "cell_type": "code",
   "execution_count": 48,
   "metadata": {},
   "outputs": [
    {
     "name": "stdout",
     "output_type": "stream",
     "text": [
      "Number of addresses that interacted with a suspicious contract or address: 1637\n"
     ]
    }
   ],
   "source": [
    "df_matching_address['flagged'] = df_matching_address[interaction_bool].sum(axis=1) > 0\n",
    "df_interact_sus_2 = df_matching_address[df_matching_address['flagged'] == True]\n",
    "print(f'Number of addresses that interacted with a suspicious contract or address: {df_interact_sus_2.shape[0]}')"
   ]
  },
  {
   "cell_type": "code",
   "execution_count": 49,
   "metadata": {},
   "outputs": [],
   "source": [
    "boolean_to_keep = ['seed_suspicious', 'has_interaction_toxic', 'has_no_pool_interaction', 'has_interaction_tornado', 'has_interaction_disperse', 'is_airdrop_master', 'has_interaction_airdrop_m', 'interacted_other_ctbt', 'interact_less_5tx', 'flagged']"
   ]
  },
  {
   "cell_type": "code",
   "execution_count": 50,
   "metadata": {},
   "outputs": [
    {
     "data": {
      "text/plain": [
       "seed_suspicious               245\n",
       "has_interaction_toxic         146\n",
       "has_no_pool_interaction      5035\n",
       "has_interaction_tornado        93\n",
       "has_interaction_disperse       83\n",
       "is_airdrop_master             528\n",
       "has_interaction_airdrop_m    1225\n",
       "interacted_other_ctbt        1123\n",
       "interact_less_5tx               2\n",
       "flagged                      1637\n",
       "dtype: int64"
      ]
     },
     "execution_count": 50,
     "metadata": {},
     "output_type": "execute_result"
    }
   ],
   "source": [
    "df_matching_address[boolean_to_keep].sum()"
   ]
  },
  {
   "cell_type": "code",
   "execution_count": 51,
   "metadata": {},
   "outputs": [
    {
     "name": "stderr",
     "output_type": "stream",
     "text": [
      "C:\\Users\\DELL Admin\\AppData\\Local\\Temp\\ipykernel_12636\\2348526555.py:7: DtypeWarning: Columns (15,16) have mixed types. Specify dtype option on import or set low_memory=False.\n",
      "  df_votes_stephi = pd.read_csv(os.path.join(DATA_DIR_STEFI, CSV_STEPHI))\n"
     ]
    },
    {
     "name": "stdout",
     "output_type": "stream",
     "text": [
      "(81811, 19) votes stephi\n",
      "(5992, 19) matching address merge\n",
      "(5992, 22) votes merge\n"
     ]
    },
    {
     "data": {
      "text/plain": [
       "<Axes: >"
      ]
     },
     "execution_count": 51,
     "metadata": {},
     "output_type": "execute_result"
    },
    {
     "data": {
      "image/png": "[encoded data removed]",
      "text/plain": [
       "<Figure size 640x480 with 2 Axes>"
      ]
     },
     "metadata": {},
     "output_type": "display_data"
    }
   ],
   "source": [
    "# Adding Stakeriddo and ddoge flagged wallet\n",
    "\n",
    "DATA_DIR_STEFI = os.path.join(current_dir.parent.parent, 'stefi')\n",
    "CSV_STEPHI = 'sso_odc_analysis.csv'\n",
    "\n",
    "# load data\n",
    "df_votes_stephi = pd.read_csv(os.path.join(DATA_DIR_STEFI, CSV_STEPHI))\n",
    "print(f'{df_votes_stephi.shape} votes stephi')\n",
    "print(f'{df_matching_address.shape} matching address merge')\n",
    "df_stephi_bool_voter = df_votes_stephi[['voter', 'stakeridoo_detected', 'doge_detected']]\n",
    "df_merge = df_matching_address.merge(df_stephi_bool_voter.drop_duplicates(subset=['voter']), left_on='address', right_on='voter', how='left')\n",
    "print(f'{df_merge.shape} votes merge')\n",
    "\n",
    "df_merge['stakeridoo_detected'].fillna(False, inplace=True)\n",
    "df_merge['doge_detected'].fillna(False, inplace=True)\n",
    "df_merge['odc_detected'] = np.logical_or(np.logical_or(df_merge['stakeridoo_detected'], df_merge['doge_detected']), df_merge['flagged'])\n",
    "\n",
    "boolean_jaccard = boolean_to_keep + ['stakeridoo_detected', 'doge_detected', 'odc_detected']\n",
    "jaccard_similarity_2 = jaccard_similarity_matrix(df_merge[boolean_jaccard])\n",
    "sns.heatmap(jaccard_similarity_2)"
   ]
  },
  {
   "cell_type": "code",
   "execution_count": 52,
   "metadata": {},
   "outputs": [
    {
     "data": {
      "text/plain": [
       "seed_suspicious               245\n",
       "has_interaction_toxic         146\n",
       "has_no_pool_interaction      5035\n",
       "has_interaction_tornado        93\n",
       "has_interaction_disperse       83\n",
       "is_airdrop_master             528\n",
       "has_interaction_airdrop_m    1225\n",
       "interacted_other_ctbt        1123\n",
       "interact_less_5tx               2\n",
       "flagged                      1637\n",
       "stakeridoo_detected            15\n",
       "doge_detected                   5\n",
       "odc_detected                 1648\n",
       "dtype: int64"
      ]
     },
     "execution_count": 52,
     "metadata": {},
     "output_type": "execute_result"
    }
   ],
   "source": [
    "df_merge[boolean_jaccard].sum(axis=0)"
   ]
  },
  {
   "cell_type": "code",
   "execution_count": 53,
   "metadata": {},
   "outputs": [
    {
     "name": "stdout",
     "output_type": "stream",
     "text": [
      "(35127, 9) loki\n"
     ]
    }
   ],
   "source": [
    "# Set path to data folder\n",
    "PATH_TO_LOKI = os.path.join(DATA_DIR, \"thor_loki.csv\")\n",
    "\n",
    "# Load data\n",
    "df_loki = pd.read_csv(PATH_TO_LOKI)\n",
    "print(f'{df_loki.shape} loki')"
   ]
  },
  {
   "cell_type": "code",
   "execution_count": 54,
   "metadata": {},
   "outputs": [
    {
     "name": "stdout",
     "output_type": "stream",
     "text": [
      "(21189, 9) loki dropna\n"
     ]
    }
   ],
   "source": [
    "df_loki.dropna(subset=['Wallet Address'], inplace=True)\n",
    "print(f'{df_loki.shape} loki dropna')"
   ]
  },
  {
   "cell_type": "code",
   "execution_count": 55,
   "metadata": {},
   "outputs": [
    {
     "name": "stdout",
     "output_type": "stream",
     "text": [
      "(4433, 9) loki dropna thor/loki indicator\n"
     ]
    }
   ],
   "source": [
    "df_loki.dropna(subset=['Thor/Loki Indicator'], inplace=True)\n",
    "print(f'{df_loki.shape} loki dropna thor/loki indicator')"
   ]
  },
  {
   "cell_type": "code",
   "execution_count": 56,
   "metadata": {},
   "outputs": [
    {
     "data": {
      "text/plain": [
       "(5992, 23)"
      ]
     },
     "execution_count": 56,
     "metadata": {},
     "output_type": "execute_result"
    }
   ],
   "source": [
    "df_merge.shape"
   ]
  },
  {
   "cell_type": "code",
   "execution_count": 57,
   "metadata": {},
   "outputs": [
    {
     "name": "stdout",
     "output_type": "stream",
     "text": [
      "(4431, 9) loki drop duplicates\n"
     ]
    }
   ],
   "source": [
    "df_loki.drop_duplicates(subset=['Wallet Address'], inplace=True)\n",
    "print(f'{df_loki.shape} loki drop duplicates')"
   ]
  },
  {
   "cell_type": "code",
   "execution_count": 58,
   "metadata": {},
   "outputs": [
    {
     "name": "stdout",
     "output_type": "stream",
     "text": [
      "Number of addresses in loki: 4206\n"
     ]
    }
   ],
   "source": [
    "intersect = np.intersect1d(df_merge.address.unique(), df_loki['Wallet Address'].unique())\n",
    "print(f'Number of addresses in loki: {len(intersect)}')"
   ]
  },
  {
   "cell_type": "code",
   "execution_count": 59,
   "metadata": {},
   "outputs": [
    {
     "name": "stdout",
     "output_type": "stream",
     "text": [
      "(4206, 32) merge loki\n"
     ]
    }
   ],
   "source": [
    "merge_loki = df_merge.merge(df_loki, left_on='address', right_on='Wallet Address', how='left')\n",
    "merge_loki.dropna(subset=['Thor/Loki Indicator'], inplace=True)\n",
    "print(f'{merge_loki.shape} merge loki')"
   ]
  },
  {
   "cell_type": "code",
   "execution_count": 60,
   "metadata": {},
   "outputs": [],
   "source": [
    "merge_loki['loki'] = merge_loki['Thor/Loki Indicator'] == 'loki'"
   ]
  },
  {
   "cell_type": "code",
   "execution_count": 61,
   "metadata": {},
   "outputs": [
    {
     "data": {
      "text/plain": [
       "<Axes: >"
      ]
     },
     "execution_count": 61,
     "metadata": {},
     "output_type": "execute_result"
    },
    {
     "data": {
      "image/png": "[encoded data removed]",
      "text/plain": [
       "<Figure size 640x480 with 2 Axes>"
      ]
     },
     "metadata": {},
     "output_type": "display_data"
    }
   ],
   "source": [
    "boolean_jaccard_2 = boolean_jaccard + ['loki']\n",
    "jaccard_similarity_3 = jaccard_similarity_matrix(merge_loki[boolean_jaccard_2])\n",
    "sns.heatmap(jaccard_similarity_3)\n"
   ]
  },
  {
   "cell_type": "code",
   "execution_count": 62,
   "metadata": {},
   "outputs": [
    {
     "data": {
      "text/plain": [
       "seed_suspicious               119\n",
       "has_interaction_toxic         118\n",
       "has_no_pool_interaction      3459\n",
       "has_interaction_tornado        82\n",
       "has_interaction_disperse       61\n",
       "is_airdrop_master             419\n",
       "has_interaction_airdrop_m     997\n",
       "interacted_other_ctbt         599\n",
       "interact_less_5tx               2\n",
       "flagged                      1255\n",
       "stakeridoo_detected             8\n",
       "doge_detected                   3\n",
       "odc_detected                 1262\n",
       "loki                         1836\n",
       "dtype: int64"
      ]
     },
     "execution_count": 62,
     "metadata": {},
     "output_type": "execute_result"
    }
   ],
   "source": [
    "merge_loki[boolean_jaccard_2].sum(axis=0)"
   ]
  },
  {
   "cell_type": "code",
   "execution_count": 64,
   "metadata": {},
   "outputs": [
    {
     "data": {
      "text/plain": [
       "seed_suspicious                70\n",
       "has_interaction_toxic          15\n",
       "has_no_pool_interaction      1700\n",
       "has_interaction_tornado         8\n",
       "has_interaction_disperse       10\n",
       "is_airdrop_master             111\n",
       "has_interaction_airdrop_m     306\n",
       "interacted_other_ctbt         385\n",
       "interact_less_5tx               2\n",
       "flagged                       413\n",
       "stakeridoo_detected             3\n",
       "doge_detected                   2\n",
       "odc_detected                  416\n",
       "loki                         1836\n",
       "dtype: int64"
      ]
     },
     "execution_count": 64,
     "metadata": {},
     "output_type": "execute_result"
    }
   ],
   "source": [
    "merge_loki[merge_loki['loki'] == True][boolean_jaccard_2].sum(axis=0)"
   ]
  },
  {
   "cell_type": "code",
   "execution_count": 82,
   "metadata": {},
   "outputs": [],
   "source": [
    "path_to_full_feature = os.path.join(current_dir.parent, 'output_gitcoin', 'loki-thor-analysis', 'merge_loki.csv')\n",
    "merge_loki.to_csv(path_to_full_feature, index=False)"
   ]
  },
  {
   "cell_type": "code",
   "execution_count": 65,
   "metadata": {},
   "outputs": [
    {
     "data": {
      "text/plain": [
       "<Axes: >"
      ]
     },
     "execution_count": 65,
     "metadata": {},
     "output_type": "execute_result"
    },
    {
     "data": {
      "image/png": "[encoded data removed]",
      "text/plain": [
       "<Figure size 640x480 with 2 Axes>"
      ]
     },
     "metadata": {},
     "output_type": "display_data"
    }
   ],
   "source": [
    "# confusion matrix loki vs odc_detected\n",
    "from sklearn.metrics import confusion_matrix\n",
    "cm = confusion_matrix(merge_loki['loki'], merge_loki['odc_detected'])\n",
    "# plot confusion matrix\n",
    "sns.heatmap(cm, annot=True) # font size"
   ]
  },
  {
   "cell_type": "code",
   "execution_count": 66,
   "metadata": {},
   "outputs": [
    {
     "name": "stdout",
     "output_type": "stream",
     "text": [
      "Precision: 0.329635499207607\n",
      "Recall: 0.22657952069716775\n"
     ]
    }
   ],
   "source": [
    "# compute precision and recall\n",
    "from sklearn.metrics import precision_score, recall_score\n",
    "precision_score(merge_loki['loki'], merge_loki['odc_detected'])\n",
    "recall_score(merge_loki['loki'], merge_loki['odc_detected'])\n",
    "print(f'Precision: {precision_score(merge_loki[\"loki\"], merge_loki[\"odc_detected\"])}')\n",
    "print(f'Recall: {recall_score(merge_loki[\"loki\"], merge_loki[\"odc_detected\"])}')"
   ]
  },
  {
   "cell_type": "code",
   "execution_count": 67,
   "metadata": {},
   "outputs": [],
   "source": [
    "stats = []\n",
    "for flag in boolean_jaccard_2:\n",
    "    stats.append(merge_loki[merge_loki[flag] == True][boolean_jaccard_2].sum(axis=0))\n",
    "stats = pd.concat(stats, axis=1)\n",
    "stats.columns = boolean_jaccard_2"
   ]
  },
  {
   "cell_type": "code",
   "execution_count": 68,
   "metadata": {},
   "outputs": [
    {
     "data": {
      "text/html": [
       "<div>\n",
       "<style scoped>\n",
       "    .dataframe tbody tr th:only-of-type {\n",
       "        vertical-align: middle;\n",
       "    }\n",
       "\n",
       "    .dataframe tbody tr th {\n",
       "        vertical-align: top;\n",
       "    }\n",
       "\n",
       "    .dataframe thead th {\n",
       "        text-align: right;\n",
       "    }\n",
       "</style>\n",
       "<table border=\"1\" class=\"dataframe\">\n",
       "  <thead>\n",
       "    <tr style=\"text-align: right;\">\n",
       "      <th></th>\n",
       "      <th>seed_suspicious</th>\n",
       "      <th>has_interaction_toxic</th>\n",
       "      <th>has_no_pool_interaction</th>\n",
       "      <th>has_interaction_tornado</th>\n",
       "      <th>has_interaction_disperse</th>\n",
       "      <th>is_airdrop_master</th>\n",
       "      <th>has_interaction_airdrop_m</th>\n",
       "      <th>interacted_other_ctbt</th>\n",
       "      <th>interact_less_5tx</th>\n",
       "      <th>flagged</th>\n",
       "      <th>stakeridoo_detected</th>\n",
       "      <th>doge_detected</th>\n",
       "      <th>odc_detected</th>\n",
       "      <th>loki</th>\n",
       "    </tr>\n",
       "  </thead>\n",
       "  <tbody>\n",
       "    <tr>\n",
       "      <th>seed_suspicious</th>\n",
       "      <td>119</td>\n",
       "      <td>2</td>\n",
       "      <td>113</td>\n",
       "      <td>0</td>\n",
       "      <td>1</td>\n",
       "      <td>3</td>\n",
       "      <td>10</td>\n",
       "      <td>25</td>\n",
       "      <td>0</td>\n",
       "      <td>119</td>\n",
       "      <td>0</td>\n",
       "      <td>0</td>\n",
       "      <td>119</td>\n",
       "      <td>70</td>\n",
       "    </tr>\n",
       "    <tr>\n",
       "      <th>has_interaction_toxic</th>\n",
       "      <td>2</td>\n",
       "      <td>118</td>\n",
       "      <td>52</td>\n",
       "      <td>10</td>\n",
       "      <td>8</td>\n",
       "      <td>33</td>\n",
       "      <td>68</td>\n",
       "      <td>9</td>\n",
       "      <td>0</td>\n",
       "      <td>118</td>\n",
       "      <td>0</td>\n",
       "      <td>0</td>\n",
       "      <td>118</td>\n",
       "      <td>15</td>\n",
       "    </tr>\n",
       "    <tr>\n",
       "      <th>has_no_pool_interaction</th>\n",
       "      <td>113</td>\n",
       "      <td>52</td>\n",
       "      <td>3459</td>\n",
       "      <td>22</td>\n",
       "      <td>27</td>\n",
       "      <td>208</td>\n",
       "      <td>597</td>\n",
       "      <td>529</td>\n",
       "      <td>2</td>\n",
       "      <td>806</td>\n",
       "      <td>8</td>\n",
       "      <td>1</td>\n",
       "      <td>813</td>\n",
       "      <td>1700</td>\n",
       "    </tr>\n",
       "    <tr>\n",
       "      <th>has_interaction_tornado</th>\n",
       "      <td>0</td>\n",
       "      <td>10</td>\n",
       "      <td>22</td>\n",
       "      <td>82</td>\n",
       "      <td>7</td>\n",
       "      <td>30</td>\n",
       "      <td>56</td>\n",
       "      <td>6</td>\n",
       "      <td>0</td>\n",
       "      <td>62</td>\n",
       "      <td>0</td>\n",
       "      <td>0</td>\n",
       "      <td>62</td>\n",
       "      <td>8</td>\n",
       "    </tr>\n",
       "    <tr>\n",
       "      <th>has_interaction_disperse</th>\n",
       "      <td>1</td>\n",
       "      <td>8</td>\n",
       "      <td>27</td>\n",
       "      <td>7</td>\n",
       "      <td>61</td>\n",
       "      <td>13</td>\n",
       "      <td>34</td>\n",
       "      <td>13</td>\n",
       "      <td>0</td>\n",
       "      <td>61</td>\n",
       "      <td>0</td>\n",
       "      <td>0</td>\n",
       "      <td>61</td>\n",
       "      <td>10</td>\n",
       "    </tr>\n",
       "    <tr>\n",
       "      <th>is_airdrop_master</th>\n",
       "      <td>3</td>\n",
       "      <td>33</td>\n",
       "      <td>208</td>\n",
       "      <td>30</td>\n",
       "      <td>13</td>\n",
       "      <td>419</td>\n",
       "      <td>343</td>\n",
       "      <td>50</td>\n",
       "      <td>0</td>\n",
       "      <td>419</td>\n",
       "      <td>0</td>\n",
       "      <td>3</td>\n",
       "      <td>419</td>\n",
       "      <td>111</td>\n",
       "    </tr>\n",
       "    <tr>\n",
       "      <th>has_interaction_airdrop_m</th>\n",
       "      <td>10</td>\n",
       "      <td>68</td>\n",
       "      <td>597</td>\n",
       "      <td>56</td>\n",
       "      <td>34</td>\n",
       "      <td>343</td>\n",
       "      <td>997</td>\n",
       "      <td>231</td>\n",
       "      <td>0</td>\n",
       "      <td>997</td>\n",
       "      <td>1</td>\n",
       "      <td>2</td>\n",
       "      <td>997</td>\n",
       "      <td>306</td>\n",
       "    </tr>\n",
       "    <tr>\n",
       "      <th>interacted_other_ctbt</th>\n",
       "      <td>25</td>\n",
       "      <td>9</td>\n",
       "      <td>529</td>\n",
       "      <td>6</td>\n",
       "      <td>13</td>\n",
       "      <td>50</td>\n",
       "      <td>231</td>\n",
       "      <td>599</td>\n",
       "      <td>2</td>\n",
       "      <td>265</td>\n",
       "      <td>1</td>\n",
       "      <td>2</td>\n",
       "      <td>266</td>\n",
       "      <td>385</td>\n",
       "    </tr>\n",
       "    <tr>\n",
       "      <th>interact_less_5tx</th>\n",
       "      <td>0</td>\n",
       "      <td>0</td>\n",
       "      <td>2</td>\n",
       "      <td>0</td>\n",
       "      <td>0</td>\n",
       "      <td>0</td>\n",
       "      <td>0</td>\n",
       "      <td>2</td>\n",
       "      <td>2</td>\n",
       "      <td>2</td>\n",
       "      <td>0</td>\n",
       "      <td>0</td>\n",
       "      <td>2</td>\n",
       "      <td>2</td>\n",
       "    </tr>\n",
       "    <tr>\n",
       "      <th>flagged</th>\n",
       "      <td>119</td>\n",
       "      <td>118</td>\n",
       "      <td>806</td>\n",
       "      <td>62</td>\n",
       "      <td>61</td>\n",
       "      <td>419</td>\n",
       "      <td>997</td>\n",
       "      <td>265</td>\n",
       "      <td>2</td>\n",
       "      <td>1255</td>\n",
       "      <td>1</td>\n",
       "      <td>3</td>\n",
       "      <td>1255</td>\n",
       "      <td>413</td>\n",
       "    </tr>\n",
       "    <tr>\n",
       "      <th>stakeridoo_detected</th>\n",
       "      <td>0</td>\n",
       "      <td>0</td>\n",
       "      <td>8</td>\n",
       "      <td>0</td>\n",
       "      <td>0</td>\n",
       "      <td>0</td>\n",
       "      <td>1</td>\n",
       "      <td>1</td>\n",
       "      <td>0</td>\n",
       "      <td>1</td>\n",
       "      <td>8</td>\n",
       "      <td>0</td>\n",
       "      <td>8</td>\n",
       "      <td>3</td>\n",
       "    </tr>\n",
       "    <tr>\n",
       "      <th>doge_detected</th>\n",
       "      <td>0</td>\n",
       "      <td>0</td>\n",
       "      <td>1</td>\n",
       "      <td>0</td>\n",
       "      <td>0</td>\n",
       "      <td>3</td>\n",
       "      <td>2</td>\n",
       "      <td>2</td>\n",
       "      <td>0</td>\n",
       "      <td>3</td>\n",
       "      <td>0</td>\n",
       "      <td>3</td>\n",
       "      <td>3</td>\n",
       "      <td>2</td>\n",
       "    </tr>\n",
       "    <tr>\n",
       "      <th>odc_detected</th>\n",
       "      <td>119</td>\n",
       "      <td>118</td>\n",
       "      <td>813</td>\n",
       "      <td>62</td>\n",
       "      <td>61</td>\n",
       "      <td>419</td>\n",
       "      <td>997</td>\n",
       "      <td>266</td>\n",
       "      <td>2</td>\n",
       "      <td>1255</td>\n",
       "      <td>8</td>\n",
       "      <td>3</td>\n",
       "      <td>1262</td>\n",
       "      <td>416</td>\n",
       "    </tr>\n",
       "    <tr>\n",
       "      <th>loki</th>\n",
       "      <td>70</td>\n",
       "      <td>15</td>\n",
       "      <td>1700</td>\n",
       "      <td>8</td>\n",
       "      <td>10</td>\n",
       "      <td>111</td>\n",
       "      <td>306</td>\n",
       "      <td>385</td>\n",
       "      <td>2</td>\n",
       "      <td>413</td>\n",
       "      <td>3</td>\n",
       "      <td>2</td>\n",
       "      <td>416</td>\n",
       "      <td>1836</td>\n",
       "    </tr>\n",
       "  </tbody>\n",
       "</table>\n",
       "</div>"
      ],
      "text/plain": [
       "                           seed_suspicious  has_interaction_toxic   \n",
       "seed_suspicious                        119                      2  \\\n",
       "has_interaction_toxic                    2                    118   \n",
       "has_no_pool_interaction                113                     52   \n",
       "has_interaction_tornado                  0                     10   \n",
       "has_interaction_disperse                 1                      8   \n",
       "is_airdrop_master                        3                     33   \n",
       "has_interaction_airdrop_m               10                     68   \n",
       "interacted_other_ctbt                   25                      9   \n",
       "interact_less_5tx                        0                      0   \n",
       "flagged                                119                    118   \n",
       "stakeridoo_detected                      0                      0   \n",
       "doge_detected                            0                      0   \n",
       "odc_detected                           119                    118   \n",
       "loki                                    70                     15   \n",
       "\n",
       "                           has_no_pool_interaction  has_interaction_tornado   \n",
       "seed_suspicious                                113                        0  \\\n",
       "has_interaction_toxic                           52                       10   \n",
       "has_no_pool_interaction                       3459                       22   \n",
       "has_interaction_tornado                         22                       82   \n",
       "has_interaction_disperse                        27                        7   \n",
       "is_airdrop_master                              208                       30   \n",
       "has_interaction_airdrop_m                      597                       56   \n",
       "interacted_other_ctbt                          529                        6   \n",
       "interact_less_5tx                                2                        0   \n",
       "flagged                                        806                       62   \n",
       "stakeridoo_detected                              8                        0   \n",
       "doge_detected                                    1                        0   \n",
       "odc_detected                                   813                       62   \n",
       "loki                                          1700                        8   \n",
       "\n",
       "                           has_interaction_disperse  is_airdrop_master   \n",
       "seed_suspicious                                   1                  3  \\\n",
       "has_interaction_toxic                             8                 33   \n",
       "has_no_pool_interaction                          27                208   \n",
       "has_interaction_tornado                           7                 30   \n",
       "has_interaction_disperse                         61                 13   \n",
       "is_airdrop_master                                13                419   \n",
       "has_interaction_airdrop_m                        34                343   \n",
       "interacted_other_ctbt                            13                 50   \n",
       "interact_less_5tx                                 0                  0   \n",
       "flagged                                          61                419   \n",
       "stakeridoo_detected                               0                  0   \n",
       "doge_detected                                     0                  3   \n",
       "odc_detected                                     61                419   \n",
       "loki                                             10                111   \n",
       "\n",
       "                           has_interaction_airdrop_m  interacted_other_ctbt   \n",
       "seed_suspicious                                   10                     25  \\\n",
       "has_interaction_toxic                             68                      9   \n",
       "has_no_pool_interaction                          597                    529   \n",
       "has_interaction_tornado                           56                      6   \n",
       "has_interaction_disperse                          34                     13   \n",
       "is_airdrop_master                                343                     50   \n",
       "has_interaction_airdrop_m                        997                    231   \n",
       "interacted_other_ctbt                            231                    599   \n",
       "interact_less_5tx                                  0                      2   \n",
       "flagged                                          997                    265   \n",
       "stakeridoo_detected                                1                      1   \n",
       "doge_detected                                      2                      2   \n",
       "odc_detected                                     997                    266   \n",
       "loki                                             306                    385   \n",
       "\n",
       "                           interact_less_5tx  flagged  stakeridoo_detected   \n",
       "seed_suspicious                            0      119                    0  \\\n",
       "has_interaction_toxic                      0      118                    0   \n",
       "has_no_pool_interaction                    2      806                    8   \n",
       "has_interaction_tornado                    0       62                    0   \n",
       "has_interaction_disperse                   0       61                    0   \n",
       "is_airdrop_master                          0      419                    0   \n",
       "has_interaction_airdrop_m                  0      997                    1   \n",
       "interacted_other_ctbt                      2      265                    1   \n",
       "interact_less_5tx                          2        2                    0   \n",
       "flagged                                    2     1255                    1   \n",
       "stakeridoo_detected                        0        1                    8   \n",
       "doge_detected                              0        3                    0   \n",
       "odc_detected                               2     1255                    8   \n",
       "loki                                       2      413                    3   \n",
       "\n",
       "                           doge_detected  odc_detected  loki  \n",
       "seed_suspicious                        0           119    70  \n",
       "has_interaction_toxic                  0           118    15  \n",
       "has_no_pool_interaction                1           813  1700  \n",
       "has_interaction_tornado                0            62     8  \n",
       "has_interaction_disperse               0            61    10  \n",
       "is_airdrop_master                      3           419   111  \n",
       "has_interaction_airdrop_m              2           997   306  \n",
       "interacted_other_ctbt                  2           266   385  \n",
       "interact_less_5tx                      0             2     2  \n",
       "flagged                                3          1255   413  \n",
       "stakeridoo_detected                    0             8     3  \n",
       "doge_detected                          3             3     2  \n",
       "odc_detected                           3          1262   416  \n",
       "loki                                   2           416  1836  "
      ]
     },
     "execution_count": 68,
     "metadata": {},
     "output_type": "execute_result"
    }
   ],
   "source": [
    "stats"
   ]
  },
  {
   "cell_type": "code",
   "execution_count": 69,
   "metadata": {},
   "outputs": [
    {
     "data": {
      "text/html": [
       "<div>\n",
       "<style scoped>\n",
       "    .dataframe tbody tr th:only-of-type {\n",
       "        vertical-align: middle;\n",
       "    }\n",
       "\n",
       "    .dataframe tbody tr th {\n",
       "        vertical-align: top;\n",
       "    }\n",
       "\n",
       "    .dataframe thead th {\n",
       "        text-align: right;\n",
       "    }\n",
       "</style>\n",
       "<table border=\"1\" class=\"dataframe\">\n",
       "  <thead>\n",
       "    <tr style=\"text-align: right;\">\n",
       "      <th></th>\n",
       "      <th>seed_suspicious</th>\n",
       "      <th>has_interaction_toxic</th>\n",
       "      <th>has_no_pool_interaction</th>\n",
       "      <th>has_interaction_tornado</th>\n",
       "      <th>has_interaction_disperse</th>\n",
       "      <th>is_airdrop_master</th>\n",
       "      <th>has_interaction_airdrop_m</th>\n",
       "      <th>interacted_other_ctbt</th>\n",
       "      <th>interact_less_5tx</th>\n",
       "      <th>flagged</th>\n",
       "      <th>stakeridoo_detected</th>\n",
       "      <th>doge_detected</th>\n",
       "      <th>odc_detected</th>\n",
       "      <th>loki</th>\n",
       "    </tr>\n",
       "  </thead>\n",
       "  <tbody>\n",
       "    <tr>\n",
       "      <th>seed_suspicious</th>\n",
       "      <td>100.0</td>\n",
       "      <td>2.0</td>\n",
       "      <td>3.0</td>\n",
       "      <td>0.0</td>\n",
       "      <td>2.0</td>\n",
       "      <td>1.0</td>\n",
       "      <td>1.0</td>\n",
       "      <td>4.0</td>\n",
       "      <td>0.0</td>\n",
       "      <td>9.0</td>\n",
       "      <td>0.0</td>\n",
       "      <td>0.0</td>\n",
       "      <td>9.0</td>\n",
       "      <td>4.0</td>\n",
       "    </tr>\n",
       "    <tr>\n",
       "      <th>has_interaction_toxic</th>\n",
       "      <td>2.0</td>\n",
       "      <td>100.0</td>\n",
       "      <td>2.0</td>\n",
       "      <td>12.0</td>\n",
       "      <td>13.0</td>\n",
       "      <td>8.0</td>\n",
       "      <td>7.0</td>\n",
       "      <td>2.0</td>\n",
       "      <td>0.0</td>\n",
       "      <td>9.0</td>\n",
       "      <td>0.0</td>\n",
       "      <td>0.0</td>\n",
       "      <td>9.0</td>\n",
       "      <td>1.0</td>\n",
       "    </tr>\n",
       "    <tr>\n",
       "      <th>has_no_pool_interaction</th>\n",
       "      <td>95.0</td>\n",
       "      <td>44.0</td>\n",
       "      <td>100.0</td>\n",
       "      <td>27.0</td>\n",
       "      <td>44.0</td>\n",
       "      <td>50.0</td>\n",
       "      <td>60.0</td>\n",
       "      <td>88.0</td>\n",
       "      <td>100.0</td>\n",
       "      <td>64.0</td>\n",
       "      <td>100.0</td>\n",
       "      <td>33.0</td>\n",
       "      <td>64.0</td>\n",
       "      <td>93.0</td>\n",
       "    </tr>\n",
       "    <tr>\n",
       "      <th>has_interaction_tornado</th>\n",
       "      <td>0.0</td>\n",
       "      <td>8.0</td>\n",
       "      <td>1.0</td>\n",
       "      <td>100.0</td>\n",
       "      <td>11.0</td>\n",
       "      <td>7.0</td>\n",
       "      <td>6.0</td>\n",
       "      <td>1.0</td>\n",
       "      <td>0.0</td>\n",
       "      <td>5.0</td>\n",
       "      <td>0.0</td>\n",
       "      <td>0.0</td>\n",
       "      <td>5.0</td>\n",
       "      <td>0.0</td>\n",
       "    </tr>\n",
       "    <tr>\n",
       "      <th>has_interaction_disperse</th>\n",
       "      <td>1.0</td>\n",
       "      <td>7.0</td>\n",
       "      <td>1.0</td>\n",
       "      <td>9.0</td>\n",
       "      <td>100.0</td>\n",
       "      <td>3.0</td>\n",
       "      <td>3.0</td>\n",
       "      <td>2.0</td>\n",
       "      <td>0.0</td>\n",
       "      <td>5.0</td>\n",
       "      <td>0.0</td>\n",
       "      <td>0.0</td>\n",
       "      <td>5.0</td>\n",
       "      <td>1.0</td>\n",
       "    </tr>\n",
       "    <tr>\n",
       "      <th>is_airdrop_master</th>\n",
       "      <td>3.0</td>\n",
       "      <td>28.0</td>\n",
       "      <td>6.0</td>\n",
       "      <td>37.0</td>\n",
       "      <td>21.0</td>\n",
       "      <td>100.0</td>\n",
       "      <td>34.0</td>\n",
       "      <td>8.0</td>\n",
       "      <td>0.0</td>\n",
       "      <td>33.0</td>\n",
       "      <td>0.0</td>\n",
       "      <td>100.0</td>\n",
       "      <td>33.0</td>\n",
       "      <td>6.0</td>\n",
       "    </tr>\n",
       "    <tr>\n",
       "      <th>has_interaction_airdrop_m</th>\n",
       "      <td>8.0</td>\n",
       "      <td>58.0</td>\n",
       "      <td>17.0</td>\n",
       "      <td>68.0</td>\n",
       "      <td>56.0</td>\n",
       "      <td>82.0</td>\n",
       "      <td>100.0</td>\n",
       "      <td>39.0</td>\n",
       "      <td>0.0</td>\n",
       "      <td>79.0</td>\n",
       "      <td>12.0</td>\n",
       "      <td>67.0</td>\n",
       "      <td>79.0</td>\n",
       "      <td>17.0</td>\n",
       "    </tr>\n",
       "    <tr>\n",
       "      <th>interacted_other_ctbt</th>\n",
       "      <td>21.0</td>\n",
       "      <td>8.0</td>\n",
       "      <td>15.0</td>\n",
       "      <td>7.0</td>\n",
       "      <td>21.0</td>\n",
       "      <td>12.0</td>\n",
       "      <td>23.0</td>\n",
       "      <td>100.0</td>\n",
       "      <td>100.0</td>\n",
       "      <td>21.0</td>\n",
       "      <td>12.0</td>\n",
       "      <td>67.0</td>\n",
       "      <td>21.0</td>\n",
       "      <td>21.0</td>\n",
       "    </tr>\n",
       "    <tr>\n",
       "      <th>interact_less_5tx</th>\n",
       "      <td>0.0</td>\n",
       "      <td>0.0</td>\n",
       "      <td>0.0</td>\n",
       "      <td>0.0</td>\n",
       "      <td>0.0</td>\n",
       "      <td>0.0</td>\n",
       "      <td>0.0</td>\n",
       "      <td>0.0</td>\n",
       "      <td>100.0</td>\n",
       "      <td>0.0</td>\n",
       "      <td>0.0</td>\n",
       "      <td>0.0</td>\n",
       "      <td>0.0</td>\n",
       "      <td>0.0</td>\n",
       "    </tr>\n",
       "    <tr>\n",
       "      <th>flagged</th>\n",
       "      <td>100.0</td>\n",
       "      <td>100.0</td>\n",
       "      <td>23.0</td>\n",
       "      <td>76.0</td>\n",
       "      <td>100.0</td>\n",
       "      <td>100.0</td>\n",
       "      <td>100.0</td>\n",
       "      <td>44.0</td>\n",
       "      <td>100.0</td>\n",
       "      <td>100.0</td>\n",
       "      <td>12.0</td>\n",
       "      <td>100.0</td>\n",
       "      <td>99.0</td>\n",
       "      <td>22.0</td>\n",
       "    </tr>\n",
       "    <tr>\n",
       "      <th>stakeridoo_detected</th>\n",
       "      <td>0.0</td>\n",
       "      <td>0.0</td>\n",
       "      <td>0.0</td>\n",
       "      <td>0.0</td>\n",
       "      <td>0.0</td>\n",
       "      <td>0.0</td>\n",
       "      <td>0.0</td>\n",
       "      <td>0.0</td>\n",
       "      <td>0.0</td>\n",
       "      <td>0.0</td>\n",
       "      <td>100.0</td>\n",
       "      <td>0.0</td>\n",
       "      <td>1.0</td>\n",
       "      <td>0.0</td>\n",
       "    </tr>\n",
       "    <tr>\n",
       "      <th>doge_detected</th>\n",
       "      <td>0.0</td>\n",
       "      <td>0.0</td>\n",
       "      <td>0.0</td>\n",
       "      <td>0.0</td>\n",
       "      <td>0.0</td>\n",
       "      <td>1.0</td>\n",
       "      <td>0.0</td>\n",
       "      <td>0.0</td>\n",
       "      <td>0.0</td>\n",
       "      <td>0.0</td>\n",
       "      <td>0.0</td>\n",
       "      <td>100.0</td>\n",
       "      <td>0.0</td>\n",
       "      <td>0.0</td>\n",
       "    </tr>\n",
       "    <tr>\n",
       "      <th>odc_detected</th>\n",
       "      <td>100.0</td>\n",
       "      <td>100.0</td>\n",
       "      <td>24.0</td>\n",
       "      <td>76.0</td>\n",
       "      <td>100.0</td>\n",
       "      <td>100.0</td>\n",
       "      <td>100.0</td>\n",
       "      <td>44.0</td>\n",
       "      <td>100.0</td>\n",
       "      <td>100.0</td>\n",
       "      <td>100.0</td>\n",
       "      <td>100.0</td>\n",
       "      <td>100.0</td>\n",
       "      <td>23.0</td>\n",
       "    </tr>\n",
       "    <tr>\n",
       "      <th>loki</th>\n",
       "      <td>59.0</td>\n",
       "      <td>13.0</td>\n",
       "      <td>49.0</td>\n",
       "      <td>10.0</td>\n",
       "      <td>16.0</td>\n",
       "      <td>26.0</td>\n",
       "      <td>31.0</td>\n",
       "      <td>64.0</td>\n",
       "      <td>100.0</td>\n",
       "      <td>33.0</td>\n",
       "      <td>38.0</td>\n",
       "      <td>67.0</td>\n",
       "      <td>33.0</td>\n",
       "      <td>100.0</td>\n",
       "    </tr>\n",
       "  </tbody>\n",
       "</table>\n",
       "</div>"
      ],
      "text/plain": [
       "                           seed_suspicious  has_interaction_toxic   \n",
       "seed_suspicious                      100.0                    2.0  \\\n",
       "has_interaction_toxic                  2.0                  100.0   \n",
       "has_no_pool_interaction               95.0                   44.0   \n",
       "has_interaction_tornado                0.0                    8.0   \n",
       "has_interaction_disperse               1.0                    7.0   \n",
       "is_airdrop_master                      3.0                   28.0   \n",
       "has_interaction_airdrop_m              8.0                   58.0   \n",
       "interacted_other_ctbt                 21.0                    8.0   \n",
       "interact_less_5tx                      0.0                    0.0   \n",
       "flagged                              100.0                  100.0   \n",
       "stakeridoo_detected                    0.0                    0.0   \n",
       "doge_detected                          0.0                    0.0   \n",
       "odc_detected                         100.0                  100.0   \n",
       "loki                                  59.0                   13.0   \n",
       "\n",
       "                           has_no_pool_interaction  has_interaction_tornado   \n",
       "seed_suspicious                                3.0                      0.0  \\\n",
       "has_interaction_toxic                          2.0                     12.0   \n",
       "has_no_pool_interaction                      100.0                     27.0   \n",
       "has_interaction_tornado                        1.0                    100.0   \n",
       "has_interaction_disperse                       1.0                      9.0   \n",
       "is_airdrop_master                              6.0                     37.0   \n",
       "has_interaction_airdrop_m                     17.0                     68.0   \n",
       "interacted_other_ctbt                         15.0                      7.0   \n",
       "interact_less_5tx                              0.0                      0.0   \n",
       "flagged                                       23.0                     76.0   \n",
       "stakeridoo_detected                            0.0                      0.0   \n",
       "doge_detected                                  0.0                      0.0   \n",
       "odc_detected                                  24.0                     76.0   \n",
       "loki                                          49.0                     10.0   \n",
       "\n",
       "                           has_interaction_disperse  is_airdrop_master   \n",
       "seed_suspicious                                 2.0                1.0  \\\n",
       "has_interaction_toxic                          13.0                8.0   \n",
       "has_no_pool_interaction                        44.0               50.0   \n",
       "has_interaction_tornado                        11.0                7.0   \n",
       "has_interaction_disperse                      100.0                3.0   \n",
       "is_airdrop_master                              21.0              100.0   \n",
       "has_interaction_airdrop_m                      56.0               82.0   \n",
       "interacted_other_ctbt                          21.0               12.0   \n",
       "interact_less_5tx                               0.0                0.0   \n",
       "flagged                                       100.0              100.0   \n",
       "stakeridoo_detected                             0.0                0.0   \n",
       "doge_detected                                   0.0                1.0   \n",
       "odc_detected                                  100.0              100.0   \n",
       "loki                                           16.0               26.0   \n",
       "\n",
       "                           has_interaction_airdrop_m  interacted_other_ctbt   \n",
       "seed_suspicious                                  1.0                    4.0  \\\n",
       "has_interaction_toxic                            7.0                    2.0   \n",
       "has_no_pool_interaction                         60.0                   88.0   \n",
       "has_interaction_tornado                          6.0                    1.0   \n",
       "has_interaction_disperse                         3.0                    2.0   \n",
       "is_airdrop_master                               34.0                    8.0   \n",
       "has_interaction_airdrop_m                      100.0                   39.0   \n",
       "interacted_other_ctbt                           23.0                  100.0   \n",
       "interact_less_5tx                                0.0                    0.0   \n",
       "flagged                                        100.0                   44.0   \n",
       "stakeridoo_detected                              0.0                    0.0   \n",
       "doge_detected                                    0.0                    0.0   \n",
       "odc_detected                                   100.0                   44.0   \n",
       "loki                                            31.0                   64.0   \n",
       "\n",
       "                           interact_less_5tx  flagged  stakeridoo_detected   \n",
       "seed_suspicious                          0.0      9.0                  0.0  \\\n",
       "has_interaction_toxic                    0.0      9.0                  0.0   \n",
       "has_no_pool_interaction                100.0     64.0                100.0   \n",
       "has_interaction_tornado                  0.0      5.0                  0.0   \n",
       "has_interaction_disperse                 0.0      5.0                  0.0   \n",
       "is_airdrop_master                        0.0     33.0                  0.0   \n",
       "has_interaction_airdrop_m                0.0     79.0                 12.0   \n",
       "interacted_other_ctbt                  100.0     21.0                 12.0   \n",
       "interact_less_5tx                      100.0      0.0                  0.0   \n",
       "flagged                                100.0    100.0                 12.0   \n",
       "stakeridoo_detected                      0.0      0.0                100.0   \n",
       "doge_detected                            0.0      0.0                  0.0   \n",
       "odc_detected                           100.0    100.0                100.0   \n",
       "loki                                   100.0     33.0                 38.0   \n",
       "\n",
       "                           doge_detected  odc_detected   loki  \n",
       "seed_suspicious                      0.0           9.0    4.0  \n",
       "has_interaction_toxic                0.0           9.0    1.0  \n",
       "has_no_pool_interaction             33.0          64.0   93.0  \n",
       "has_interaction_tornado              0.0           5.0    0.0  \n",
       "has_interaction_disperse             0.0           5.0    1.0  \n",
       "is_airdrop_master                  100.0          33.0    6.0  \n",
       "has_interaction_airdrop_m           67.0          79.0   17.0  \n",
       "interacted_other_ctbt               67.0          21.0   21.0  \n",
       "interact_less_5tx                    0.0           0.0    0.0  \n",
       "flagged                            100.0          99.0   22.0  \n",
       "stakeridoo_detected                  0.0           1.0    0.0  \n",
       "doge_detected                      100.0           0.0    0.0  \n",
       "odc_detected                       100.0         100.0   23.0  \n",
       "loki                                67.0          33.0  100.0  "
      ]
     },
     "execution_count": 69,
     "metadata": {},
     "output_type": "execute_result"
    }
   ],
   "source": [
    "# divide each column by the max of the column\n",
    "stats = stats.div(stats.max(axis=0), axis=1)\n",
    "stats.applymap(lambda x: 100*round(x, 2))"
   ]
  },
  {
   "cell_type": "code",
   "execution_count": 70,
   "metadata": {},
   "outputs": [
    {
     "data": {
      "text/plain": [
       "<Axes: >"
      ]
     },
     "execution_count": 70,
     "metadata": {},
     "output_type": "execute_result"
    },
    {
     "data": {
      "image/png": "[encoded data removed]",
      "text/plain": [
       "<Figure size 640x480 with 2 Axes>"
      ]
     },
     "metadata": {},
     "output_type": "display_data"
    }
   ],
   "source": [
    "sns.heatmap(stats)"
   ]
  }
 ],
 "metadata": {
  "kernelspec": {
   "display_name": "venvotes",
   "language": "python",
   "name": "python3"
  },
  "language_info": {
   "codemirror_mode": {
    "name": "ipython",
    "version": 3
   },
   "file_extension": ".py",
   "mimetype": "text/x-python",
   "name": "python",
   "nbconvert_exporter": "python",
   "pygments_lexer": "ipython3",
   "version": "3.10.9"
  },
  "orig_nbformat": 4
 },
 "nbformat": 4,
 "nbformat_minor": 2
}
