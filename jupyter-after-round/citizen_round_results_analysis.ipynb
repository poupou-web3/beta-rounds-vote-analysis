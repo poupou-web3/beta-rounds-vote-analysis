{
 "cells": [
  {
   "cell_type": "markdown",
   "metadata": {},
   "source": [
    "Compute a flag based on seed clustereing"
   ]
  },
  {
   "cell_type": "code",
   "execution_count": 2,
   "metadata": {},
   "outputs": [],
   "source": [
    "import os\n",
    "from pathlib import Path\n",
    "import numpy as np\n",
    "import pandas as pd\n",
    "import matplotlib.pyplot as plt\n",
    "import seaborn as sns"
   ]
  },
  {
   "cell_type": "code",
   "execution_count": 3,
   "metadata": {},
   "outputs": [],
   "source": [
    "# Set path to data folder\n",
    "current_dir = Path(os.getcwd())\n",
    "DATA_DIR = os.path.join(current_dir.parent.parent, 'data-regen-rangers')\n",
    "DATA_DIR_GITCOIN = os.path.join(current_dir.parent.parent, 'data-gitcoin')\n",
    "GRANT_ROUND_ID = '0x984e29dCB4286c2D9cbAA2c238AfDd8A191Eefbc'\n",
    "ODC_DATA_DIR = os.path.join(current_dir.parent.parent.parent, 'data')\n",
    "\n",
    "PATH_TO_VOTES = os.path.join(DATA_DIR_GITCOIN, 'citizen-votes.csv')\n",
    "# PATH_TO_GRANTS = os.path.join(DATA_DIR, \"all-allo-rounds.csv\")\n",
    "# PATH_TO_PROJECTS = os.path.join(DATA_DIR, \"projects_QmQurt.csv\")"
   ]
  },
  {
   "cell_type": "code",
   "execution_count": 4,
   "metadata": {},
   "outputs": [],
   "source": [
    "df_matching_address = pd.read_csv(f'../output_gitcoin/full_features/voters_features_{GRANT_ROUND_ID}.csv')\n",
    "df_votes = pd.read_csv(f'../output_gitcoin/full_features/votes_features_citizen_last_{GRANT_ROUND_ID}.csv')\n",
    "df_seed = pd.read_csv(os.path.join(DATA_DIR, 'seed_wallet_citizen.csv'))"
   ]
  },
  {
   "cell_type": "code",
   "execution_count": 5,
   "metadata": {},
   "outputs": [
    {
     "data": {
      "text/plain": [
       "Index(['address', 'seed_same_naive', 'seed_same', 'seed_suspicious',\n",
       "       'less_5_tx', 'less_10_tx', 'interacted_other_ctbt', 'lcs',\n",
       "       'cluster_size_lcs', 'mean_score_lcs', 'max_score_lcs', 'has_lcs',\n",
       "       'count_interaction_with_pool', 'count_interaction_with_toxic',\n",
       "       'interact_less_5tx', 'has_interaction_toxic', 'has_no_pool_interaction',\n",
       "       'count_interaction_with_airdrop_m', 'is_airdrop_master',\n",
       "       'count_interaction_with_tornado', 'count_interaction_with_disperse',\n",
       "       'has_interaction_airdrop_m', 'has_interaction_tornado',\n",
       "       'has_interaction_disperse', 'flagged'],\n",
       "      dtype='object')"
      ]
     },
     "execution_count": 5,
     "metadata": {},
     "output_type": "execute_result"
    }
   ],
   "source": [
    "df_matching_address.columns"
   ]
  },
  {
   "cell_type": "code",
   "execution_count": 6,
   "metadata": {},
   "outputs": [
    {
     "data": {
      "text/plain": [
       "Index(['block_timestamp', 'tx_hash', 'voter', 'project', 'amount_usd',\n",
       "       '__row_index', 'seed_same_naive', 'seed_same', 'seed_suspicious',\n",
       "       'less_5_tx', 'less_10_tx', 'interacted_other_ctbt', 'lcs',\n",
       "       'cluster_size_lcs', 'mean_score_lcs', 'max_score_lcs', 'has_lcs',\n",
       "       'count_interaction_with_pool', 'count_interaction_with_toxic',\n",
       "       'interact_less_5tx', 'has_interaction_toxic', 'has_no_pool_interaction',\n",
       "       'count_interaction_with_airdrop_m', 'is_airdrop_master',\n",
       "       'count_interaction_with_tornado', 'count_interaction_with_disperse',\n",
       "       'has_interaction_airdrop_m', 'has_interaction_tornado',\n",
       "       'has_interaction_disperse', 'flagged', 'stakeridoo_detected',\n",
       "       'doge_detected', 'odc_detected', 'has_seed_cluster', 'cluster_number',\n",
       "       'really_suspicicious_cluster'],\n",
       "      dtype='object')"
      ]
     },
     "execution_count": 6,
     "metadata": {},
     "output_type": "execute_result"
    }
   ],
   "source": [
    "df_votes.columns"
   ]
  },
  {
   "cell_type": "code",
   "execution_count": 7,
   "metadata": {},
   "outputs": [
    {
     "data": {
      "text/html": [
       "<div>\n",
       "<style scoped>\n",
       "    .dataframe tbody tr th:only-of-type {\n",
       "        vertical-align: middle;\n",
       "    }\n",
       "\n",
       "    .dataframe tbody tr th {\n",
       "        vertical-align: top;\n",
       "    }\n",
       "\n",
       "    .dataframe thead th {\n",
       "        text-align: right;\n",
       "    }\n",
       "</style>\n",
       "<table border=\"1\" class=\"dataframe\">\n",
       "  <thead>\n",
       "    <tr style=\"text-align: right;\">\n",
       "      <th></th>\n",
       "      <th>EOA</th>\n",
       "      <th>from_address</th>\n",
       "      <th>to_address</th>\n",
       "    </tr>\n",
       "  </thead>\n",
       "  <tbody>\n",
       "    <tr>\n",
       "      <th>0</th>\n",
       "      <td>0x000000006f457c0f8f560333d9c2877287d92a92</td>\n",
       "      <td>0xacd03d601e5bb1b275bb94076ff46ed9d753435a</td>\n",
       "      <td>0x000000006f457c0f8f560333d9c2877287d92a92</td>\n",
       "    </tr>\n",
       "    <tr>\n",
       "      <th>1</th>\n",
       "      <td>0x000128fa45d79dc9af8016da242781f12c363fd5</td>\n",
       "      <td>0xe4edb277e41dc89ab076a1f049f4a3efa700bce8</td>\n",
       "      <td>0x000128fa45d79dc9af8016da242781f12c363fd5</td>\n",
       "    </tr>\n",
       "  </tbody>\n",
       "</table>\n",
       "</div>"
      ],
      "text/plain": [
       "                                          EOA   \n",
       "0  0x000000006f457c0f8f560333d9c2877287d92a92  \\\n",
       "1  0x000128fa45d79dc9af8016da242781f12c363fd5   \n",
       "\n",
       "                                 from_address   \n",
       "0  0xacd03d601e5bb1b275bb94076ff46ed9d753435a  \\\n",
       "1  0xe4edb277e41dc89ab076a1f049f4a3efa700bce8   \n",
       "\n",
       "                                   to_address  \n",
       "0  0x000000006f457c0f8f560333d9c2877287d92a92  \n",
       "1  0x000128fa45d79dc9af8016da242781f12c363fd5  "
      ]
     },
     "execution_count": 7,
     "metadata": {},
     "output_type": "execute_result"
    }
   ],
   "source": [
    "df_seed.head(2)"
   ]
  },
  {
   "cell_type": "markdown",
   "metadata": {},
   "source": [
    "There is no duplicate votes in the votes data frame"
   ]
  },
  {
   "cell_type": "code",
   "execution_count": 16,
   "metadata": {},
   "outputs": [
    {
     "name": "stdout",
     "output_type": "stream",
     "text": [
      "Number of votes: 57366\n",
      "Number of unique votes: 57366\n",
      "Number of unique voters: 17023\n"
     ]
    }
   ],
   "source": [
    "print(f'Number of votes: {df_votes.shape[0]}')\n",
    "print(f'Number of unique votes: {df_votes.drop_duplicates().shape[0]}')\n",
    "print(f'Number of unique voters: {df_votes.voter.nunique()}')"
   ]
  },
  {
   "cell_type": "code",
   "execution_count": 19,
   "metadata": {},
   "outputs": [
    {
     "data": {
      "text/plain": [
       "count    17023.000000\n",
       "mean         3.369911\n",
       "std          4.748125\n",
       "min          1.000000\n",
       "25%          1.000000\n",
       "50%          2.000000\n",
       "75%          4.000000\n",
       "max         99.000000\n",
       "Name: tx_hash, dtype: float64"
      ]
     },
     "execution_count": 19,
     "metadata": {},
     "output_type": "execute_result"
    }
   ],
   "source": [
    "df_votes.groupby('voter').count().tx_hash.describe()"
   ]
  },
  {
   "cell_type": "code",
   "execution_count": 68,
   "metadata": {},
   "outputs": [],
   "source": [
    "flagging_legos = ['has_lcs', 'has_interaction_toxic', 'has_interaction_airdrop_m', 'has_interaction_disperse', 'is_airdrop_master', 'interact_less_5tx', 'flagged', 'stakeridoo_detected', 'doge_detected', 'really_suspicicious_cluster', 'odc_detected']"
   ]
  },
  {
   "cell_type": "code",
   "execution_count": 69,
   "metadata": {},
   "outputs": [
    {
     "data": {
      "text/plain": [
       "has_lcs                         3223\n",
       "has_interaction_toxic              0\n",
       "has_interaction_airdrop_m       2606\n",
       "has_interaction_disperse         128\n",
       "is_airdrop_master               3463\n",
       "interact_less_5tx                101\n",
       "flagged                         8626\n",
       "stakeridoo_detected              983\n",
       "doge_detected                      6\n",
       "really_suspicicious_cluster     2814\n",
       "odc_detected                   11430\n",
       "dtype: int64"
      ]
     },
     "execution_count": 69,
     "metadata": {},
     "output_type": "execute_result"
    }
   ],
   "source": [
    "df_votes[flagging_legos].sum()"
   ]
  },
  {
   "cell_type": "code",
   "execution_count": 76,
   "metadata": {},
   "outputs": [],
   "source": [
    "columns_expected_matching = np.append(df_matching_address.columns.values, ['stakeridoo_detected', 'doge_detected', 'really_suspicicious_cluster', 'odc_detected'])\n",
    "not_address = [True if x != 'address' else False for x in columns_expected_matching]\n",
    "columns_expected_matching = columns_expected_matching[not_address]\n",
    "columns_expected_matching = np.append(columns_expected_matching, ['voter'])"
   ]
  },
  {
   "cell_type": "code",
   "execution_count": 77,
   "metadata": {},
   "outputs": [],
   "source": [
    "df_matching = df_votes.drop_duplicates('voter').loc[:, columns_expected_matching]\n",
    "df_matching.rename(axis='columns', mapper={'voter': 'address'}, inplace=True)"
   ]
  },
  {
   "cell_type": "code",
   "execution_count": 78,
   "metadata": {},
   "outputs": [],
   "source": [
    "df_matching.to_csv(f'../output_gitcoin/full_features/voters_features_{GRANT_ROUND_ID}.csv', index=False)"
   ]
  },
  {
   "cell_type": "code",
   "execution_count": 79,
   "metadata": {},
   "outputs": [
    {
     "data": {
      "text/plain": [
       "has_lcs                        1082\n",
       "has_interaction_toxic             0\n",
       "has_interaction_airdrop_m       591\n",
       "has_interaction_disperse         37\n",
       "is_airdrop_master               728\n",
       "interact_less_5tx                34\n",
       "flagged                        2282\n",
       "stakeridoo_detected             136\n",
       "doge_detected                     2\n",
       "really_suspicicious_cluster     758\n",
       "odc_detected                   2976\n",
       "dtype: int64"
      ]
     },
     "execution_count": 79,
     "metadata": {},
     "output_type": "execute_result"
    }
   ],
   "source": [
    "df_matching[flagging_legos].sum()"
   ]
  }
 ],
 "metadata": {
  "kernelspec": {
   "display_name": "venvVotesUpdate",
   "language": "python",
   "name": "python3"
  },
  "language_info": {
   "codemirror_mode": {
    "name": "ipython",
    "version": 3
   },
   "file_extension": ".py",
   "mimetype": "text/x-python",
   "name": "python",
   "nbconvert_exporter": "python",
   "pygments_lexer": "ipython3",
   "version": "3.10.9"
  },
  "orig_nbformat": 4
 },
 "nbformat": 4,
 "nbformat_minor": 2
}
