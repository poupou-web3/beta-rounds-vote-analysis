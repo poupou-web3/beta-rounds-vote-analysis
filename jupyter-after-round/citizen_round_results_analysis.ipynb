{
 "cells": [
  {
   "cell_type": "markdown",
   "metadata": {},
   "source": [
    "# Compare flagging methods on the citizen round results"
   ]
  },
  {
   "cell_type": "code",
   "execution_count": 2,
   "metadata": {},
   "outputs": [],
   "source": [
    "import os\n",
    "from pathlib import Path\n",
    "import numpy as np\n",
    "import pandas as pd\n",
    "import matplotlib.pyplot as plt\n",
    "import seaborn as sns"
   ]
  },
  {
   "cell_type": "code",
   "execution_count": 3,
   "metadata": {},
   "outputs": [],
   "source": [
    "# Set path to data folder\n",
    "current_dir = Path(os.getcwd())\n",
    "DATA_DIR = os.path.join(current_dir.parent.parent, 'data-regen-rangers')\n",
    "DATA_DIR_GITCOIN = os.path.join(current_dir.parent.parent, 'data-gitcoin')\n",
    "GRANT_ROUND_ID = '0x984e29dCB4286c2D9cbAA2c238AfDd8A191Eefbc'\n",
    "ODC_DATA_DIR = os.path.join(current_dir.parent.parent.parent, 'data')\n",
    "\n",
    "PATH_TO_VOTES = os.path.join(DATA_DIR_GITCOIN, 'citizen-votes.csv')\n",
    "# PATH_TO_GRANTS = os.path.join(DATA_DIR, \"all-allo-rounds.csv\")\n",
    "# PATH_TO_PROJECTS = os.path.join(DATA_DIR, \"projects_QmQurt.csv\")"
   ]
  },
  {
   "cell_type": "code",
   "execution_count": 27,
   "metadata": {},
   "outputs": [],
   "source": [
    "df_matching_address = pd.read_csv(f'../output_gitcoin/full_features/voters_features_{GRANT_ROUND_ID}.csv')\n",
    "df_votes = pd.read_csv(f'../output_gitcoin/full_features/votes_features_citizen_last_{GRANT_ROUND_ID}.csv')\n",
    "df_seed = pd.read_csv(os.path.join(DATA_DIR, 'seed_wallet_citizen.csv'))\n",
    "df_trusta = pd.read_excel(os.path.join(DATA_DIR, 'citizen_trusta_lab.xlsx'))\n",
    "df_gray = pd.read_json(os.path.join(DATA_DIR, 'citizen_sybil_clusters_gray.json'), typ='series').reset_index()"
   ]
  },
  {
   "cell_type": "code",
   "execution_count": null,
   "metadata": {},
   "outputs": [
    {
     "data": {
      "text/plain": [
       "Index(['seed_same_naive', 'seed_same', 'seed_suspicious', 'less_5_tx',\n",
       "       'less_10_tx', 'interacted_other_ctbt', 'lcs', 'cluster_size_lcs',\n",
       "       'mean_score_lcs', 'max_score_lcs', 'has_lcs',\n",
       "       'count_interaction_with_pool', 'count_interaction_with_toxic',\n",
       "       'interact_less_5tx', 'has_interaction_toxic', 'has_no_pool_interaction',\n",
       "       'count_interaction_with_airdrop_m', 'is_airdrop_master',\n",
       "       'count_interaction_with_tornado', 'count_interaction_with_disperse',\n",
       "       'has_interaction_airdrop_m', 'has_interaction_tornado',\n",
       "       'has_interaction_disperse', 'flagged', 'stakeridoo_detected',\n",
       "       'doge_detected', 'really_suspicicious_cluster', 'odc_detected',\n",
       "       'address'],\n",
       "      dtype='object')"
      ]
     },
     "execution_count": 86,
     "metadata": {},
     "output_type": "execute_result"
    }
   ],
   "source": [
    "df_matching_address.columns"
   ]
  },
  {
   "cell_type": "code",
   "execution_count": null,
   "metadata": {},
   "outputs": [
    {
     "data": {
      "text/plain": [
       "Index(['block_timestamp', 'tx_hash', 'voter', 'project', 'amount_usd',\n",
       "       '__row_index', 'seed_same_naive', 'seed_same', 'seed_suspicious',\n",
       "       'less_5_tx', 'less_10_tx', 'interacted_other_ctbt', 'lcs',\n",
       "       'cluster_size_lcs', 'mean_score_lcs', 'max_score_lcs', 'has_lcs',\n",
       "       'count_interaction_with_pool', 'count_interaction_with_toxic',\n",
       "       'interact_less_5tx', 'has_interaction_toxic', 'has_no_pool_interaction',\n",
       "       'count_interaction_with_airdrop_m', 'is_airdrop_master',\n",
       "       'count_interaction_with_tornado', 'count_interaction_with_disperse',\n",
       "       'has_interaction_airdrop_m', 'has_interaction_tornado',\n",
       "       'has_interaction_disperse', 'flagged', 'stakeridoo_detected',\n",
       "       'doge_detected', 'odc_detected', 'has_seed_cluster', 'cluster_number',\n",
       "       'really_suspicicious_cluster'],\n",
       "      dtype='object')"
      ]
     },
     "execution_count": 87,
     "metadata": {},
     "output_type": "execute_result"
    }
   ],
   "source": [
    "df_votes.columns"
   ]
  },
  {
   "cell_type": "code",
   "execution_count": null,
   "metadata": {},
   "outputs": [],
   "source": [
    "df_votes.sum()"
   ]
  },
  {
   "cell_type": "code",
   "execution_count": null,
   "metadata": {},
   "outputs": [
    {
     "data": {
      "text/html": [
       "<div>\n",
       "<style scoped>\n",
       "    .dataframe tbody tr th:only-of-type {\n",
       "        vertical-align: middle;\n",
       "    }\n",
       "\n",
       "    .dataframe tbody tr th {\n",
       "        vertical-align: top;\n",
       "    }\n",
       "\n",
       "    .dataframe thead th {\n",
       "        text-align: right;\n",
       "    }\n",
       "</style>\n",
       "<table border=\"1\" class=\"dataframe\">\n",
       "  <thead>\n",
       "    <tr style=\"text-align: right;\">\n",
       "      <th></th>\n",
       "      <th>EOA</th>\n",
       "      <th>from_address</th>\n",
       "      <th>to_address</th>\n",
       "    </tr>\n",
       "  </thead>\n",
       "  <tbody>\n",
       "    <tr>\n",
       "      <th>0</th>\n",
       "      <td>0x000000006f457c0f8f560333d9c2877287d92a92</td>\n",
       "      <td>0xacd03d601e5bb1b275bb94076ff46ed9d753435a</td>\n",
       "      <td>0x000000006f457c0f8f560333d9c2877287d92a92</td>\n",
       "    </tr>\n",
       "    <tr>\n",
       "      <th>1</th>\n",
       "      <td>0x000128fa45d79dc9af8016da242781f12c363fd5</td>\n",
       "      <td>0xe4edb277e41dc89ab076a1f049f4a3efa700bce8</td>\n",
       "      <td>0x000128fa45d79dc9af8016da242781f12c363fd5</td>\n",
       "    </tr>\n",
       "  </tbody>\n",
       "</table>\n",
       "</div>"
      ],
      "text/plain": [
       "                                          EOA   \n",
       "0  0x000000006f457c0f8f560333d9c2877287d92a92  \\\n",
       "1  0x000128fa45d79dc9af8016da242781f12c363fd5   \n",
       "\n",
       "                                 from_address   \n",
       "0  0xacd03d601e5bb1b275bb94076ff46ed9d753435a  \\\n",
       "1  0xe4edb277e41dc89ab076a1f049f4a3efa700bce8   \n",
       "\n",
       "                                   to_address  \n",
       "0  0x000000006f457c0f8f560333d9c2877287d92a92  \n",
       "1  0x000128fa45d79dc9af8016da242781f12c363fd5  "
      ]
     },
     "execution_count": 88,
     "metadata": {},
     "output_type": "execute_result"
    }
   ],
   "source": [
    "df_seed.head(2)"
   ]
  },
  {
   "cell_type": "markdown",
   "metadata": {},
   "source": [
    "There is no duplicate votes in the votes data frame"
   ]
  },
  {
   "cell_type": "code",
   "execution_count": null,
   "metadata": {},
   "outputs": [
    {
     "name": "stdout",
     "output_type": "stream",
     "text": [
      "Number of votes: 57366\n",
      "Number of unique votes: 57366\n",
      "Number of unique voters: 17023\n"
     ]
    }
   ],
   "source": [
    "print(f'Number of votes: {df_votes.shape[0]}')\n",
    "print(f'Number of unique votes: {df_votes.drop_duplicates().shape[0]}')\n",
    "print(f'Number of unique voters: {df_votes.voter.nunique()}')"
   ]
  },
  {
   "cell_type": "code",
   "execution_count": null,
   "metadata": {},
   "outputs": [
    {
     "data": {
      "text/plain": [
       "count    17023.000000\n",
       "mean         3.369911\n",
       "std          4.748125\n",
       "min          1.000000\n",
       "25%          1.000000\n",
       "50%          2.000000\n",
       "75%          4.000000\n",
       "max         99.000000\n",
       "Name: tx_hash, dtype: float64"
      ]
     },
     "execution_count": 90,
     "metadata": {},
     "output_type": "execute_result"
    }
   ],
   "source": [
    "df_votes.groupby('voter').count().tx_hash.describe()"
   ]
  },
  {
   "cell_type": "markdown",
   "metadata": {},
   "source": [
    "## Add Trusta lab flag"
   ]
  },
  {
   "cell_type": "code",
   "execution_count": 46,
   "metadata": {},
   "outputs": [],
   "source": [
    "df_votes['trusta'] = df_votes.voter.isin(df_trusta.sybil_address)\n",
    "df_matching_address['trusta'] = df_matching_address.address.isin(df_trusta.sybil_address)"
   ]
  },
  {
   "cell_type": "markdown",
   "metadata": {},
   "source": [
    "## Add Gray Flag"
   ]
  },
  {
   "cell_type": "code",
   "execution_count": 47,
   "metadata": {},
   "outputs": [],
   "source": [
    "address_flag_gray = np.unique(np.concatenate(df_gray.iloc[:, 1].values))\n",
    "df_votes['gray'] = df_votes.voter.isin(address_flag_gray)\n",
    "df_matching_address['gray'] = df_matching_address.address.isin(address_flag_gray)"
   ]
  },
  {
   "cell_type": "markdown",
   "metadata": {},
   "source": [
    "## Add or column"
   ]
  },
  {
   "cell_type": "code",
   "execution_count": 81,
   "metadata": {},
   "outputs": [],
   "source": [
    "or_flags = ['odc_detected', 'trusta', 'gray']\n",
    "df_votes['or_flag'] = df_votes.loc[:, or_flags].sum(axis=1) > 0\n",
    "df_matching_address['or_flag'] = df_matching_address.loc[:, or_flags].sum(axis=1) > 0"
   ]
  },
  {
   "cell_type": "code",
   "execution_count": 82,
   "metadata": {},
   "outputs": [],
   "source": [
    "flagging_legos = ['has_lcs', 'has_interaction_toxic', 'has_interaction_airdrop_m', 'has_interaction_disperse', 'is_airdrop_master', 'interact_less_5tx', 'flagged', 'stakeridoo_detected', 'doge_detected', 'really_suspicicious_cluster', 'odc_detected', 'trusta', 'gray', 'or_flag']"
   ]
  },
  {
   "cell_type": "code",
   "execution_count": 85,
   "metadata": {},
   "outputs": [],
   "source": [
    "df_sum = df_votes[flagging_legos].sum().reset_index().set_axis(['flag', 'votes'], axis='columns').merge(df_matching_address[flagging_legos].sum().reset_index().set_axis(['flag', 'voter'], axis='columns'), left_on='flag', right_on='flag')"
   ]
  },
  {
   "cell_type": "code",
   "execution_count": 126,
   "metadata": {},
   "outputs": [],
   "source": [
    "df_sum['ratio'] = df_sum.votes / df_sum.voter"
   ]
  },
  {
   "cell_type": "code",
   "execution_count": 127,
   "metadata": {},
   "outputs": [
    {
     "data": {
      "text/html": [
       "<div>\n",
       "<style scoped>\n",
       "    .dataframe tbody tr th:only-of-type {\n",
       "        vertical-align: middle;\n",
       "    }\n",
       "\n",
       "    .dataframe tbody tr th {\n",
       "        vertical-align: top;\n",
       "    }\n",
       "\n",
       "    .dataframe thead th {\n",
       "        text-align: right;\n",
       "    }\n",
       "</style>\n",
       "<table border=\"1\" class=\"dataframe\">\n",
       "  <thead>\n",
       "    <tr style=\"text-align: right;\">\n",
       "      <th></th>\n",
       "      <th>flag</th>\n",
       "      <th>votes</th>\n",
       "      <th>voter</th>\n",
       "      <th>ratio</th>\n",
       "    </tr>\n",
       "  </thead>\n",
       "  <tbody>\n",
       "    <tr>\n",
       "      <th>0</th>\n",
       "      <td>has_lcs</td>\n",
       "      <td>3223</td>\n",
       "      <td>1082</td>\n",
       "      <td>2.978743</td>\n",
       "    </tr>\n",
       "    <tr>\n",
       "      <th>1</th>\n",
       "      <td>has_interaction_toxic</td>\n",
       "      <td>0</td>\n",
       "      <td>0</td>\n",
       "      <td>NaN</td>\n",
       "    </tr>\n",
       "    <tr>\n",
       "      <th>2</th>\n",
       "      <td>has_interaction_airdrop_m</td>\n",
       "      <td>2606</td>\n",
       "      <td>591</td>\n",
       "      <td>4.409475</td>\n",
       "    </tr>\n",
       "    <tr>\n",
       "      <th>3</th>\n",
       "      <td>has_interaction_disperse</td>\n",
       "      <td>128</td>\n",
       "      <td>37</td>\n",
       "      <td>3.459459</td>\n",
       "    </tr>\n",
       "    <tr>\n",
       "      <th>4</th>\n",
       "      <td>is_airdrop_master</td>\n",
       "      <td>3463</td>\n",
       "      <td>728</td>\n",
       "      <td>4.756868</td>\n",
       "    </tr>\n",
       "    <tr>\n",
       "      <th>5</th>\n",
       "      <td>interact_less_5tx</td>\n",
       "      <td>101</td>\n",
       "      <td>34</td>\n",
       "      <td>2.970588</td>\n",
       "    </tr>\n",
       "    <tr>\n",
       "      <th>6</th>\n",
       "      <td>flagged</td>\n",
       "      <td>8626</td>\n",
       "      <td>2282</td>\n",
       "      <td>3.780018</td>\n",
       "    </tr>\n",
       "    <tr>\n",
       "      <th>7</th>\n",
       "      <td>stakeridoo_detected</td>\n",
       "      <td>983</td>\n",
       "      <td>136</td>\n",
       "      <td>7.227941</td>\n",
       "    </tr>\n",
       "    <tr>\n",
       "      <th>8</th>\n",
       "      <td>doge_detected</td>\n",
       "      <td>6</td>\n",
       "      <td>2</td>\n",
       "      <td>3.000000</td>\n",
       "    </tr>\n",
       "    <tr>\n",
       "      <th>9</th>\n",
       "      <td>really_suspicicious_cluster</td>\n",
       "      <td>2814</td>\n",
       "      <td>758</td>\n",
       "      <td>3.712401</td>\n",
       "    </tr>\n",
       "    <tr>\n",
       "      <th>10</th>\n",
       "      <td>odc_detected</td>\n",
       "      <td>11430</td>\n",
       "      <td>2976</td>\n",
       "      <td>3.840726</td>\n",
       "    </tr>\n",
       "    <tr>\n",
       "      <th>11</th>\n",
       "      <td>trusta</td>\n",
       "      <td>2008</td>\n",
       "      <td>511</td>\n",
       "      <td>3.929550</td>\n",
       "    </tr>\n",
       "    <tr>\n",
       "      <th>12</th>\n",
       "      <td>gray</td>\n",
       "      <td>539</td>\n",
       "      <td>420</td>\n",
       "      <td>1.283333</td>\n",
       "    </tr>\n",
       "    <tr>\n",
       "      <th>13</th>\n",
       "      <td>or_flag</td>\n",
       "      <td>12640</td>\n",
       "      <td>3509</td>\n",
       "      <td>3.602166</td>\n",
       "    </tr>\n",
       "  </tbody>\n",
       "</table>\n",
       "</div>"
      ],
      "text/plain": [
       "                           flag  votes  voter     ratio\n",
       "0                       has_lcs   3223   1082  2.978743\n",
       "1         has_interaction_toxic      0      0       NaN\n",
       "2     has_interaction_airdrop_m   2606    591  4.409475\n",
       "3      has_interaction_disperse    128     37  3.459459\n",
       "4             is_airdrop_master   3463    728  4.756868\n",
       "5             interact_less_5tx    101     34  2.970588\n",
       "6                       flagged   8626   2282  3.780018\n",
       "7           stakeridoo_detected    983    136  7.227941\n",
       "8                 doge_detected      6      2  3.000000\n",
       "9   really_suspicicious_cluster   2814    758  3.712401\n",
       "10                 odc_detected  11430   2976  3.840726\n",
       "11                       trusta   2008    511  3.929550\n",
       "12                         gray    539    420  1.283333\n",
       "13                      or_flag  12640   3509  3.602166"
      ]
     },
     "execution_count": 127,
     "metadata": {},
     "output_type": "execute_result"
    }
   ],
   "source": [
    "df_sum"
   ]
  },
  {
   "cell_type": "code",
   "execution_count": 132,
   "metadata": {},
   "outputs": [
    {
     "name": "stdout",
     "output_type": "stream",
     "text": [
      "Squelching rate is of 22.03%\n",
      "Squelching voter rate is of 20.61%\n"
     ]
    }
   ],
   "source": [
    "print(f'Squelching rate is of {df_sum[df_sum.flag == \"or_flag\"].votes.values[0]/ df_votes.shape[0]:.2%}')\n",
    "print(f'Squelching voter rate is of {df_sum[df_sum.flag == \"or_flag\"].voter.values[0]/ df_matching_address.shape[0]:.2%}')"
   ]
  },
  {
   "cell_type": "markdown",
   "metadata": {},
   "source": [
    "# Analysis of the distribution of the flags when a wallet is flagged"
   ]
  },
  {
   "cell_type": "code",
   "execution_count": 93,
   "metadata": {},
   "outputs": [],
   "source": [
    "df_flag_address = df_matching_address.loc[df_matching_address['or_flag'], flagging_legos].copy()"
   ]
  },
  {
   "cell_type": "code",
   "execution_count": 94,
   "metadata": {},
   "outputs": [
    {
     "data": {
      "text/plain": [
       "(3509, 14)"
      ]
     },
     "execution_count": 94,
     "metadata": {},
     "output_type": "execute_result"
    }
   ],
   "source": [
    "df_flag_address.shape"
   ]
  },
  {
   "cell_type": "code",
   "execution_count": 96,
   "metadata": {},
   "outputs": [
    {
     "data": {
      "text/html": [
       "<div>\n",
       "<style scoped>\n",
       "    .dataframe tbody tr th:only-of-type {\n",
       "        vertical-align: middle;\n",
       "    }\n",
       "\n",
       "    .dataframe tbody tr th {\n",
       "        vertical-align: top;\n",
       "    }\n",
       "\n",
       "    .dataframe thead th {\n",
       "        text-align: right;\n",
       "    }\n",
       "</style>\n",
       "<table border=\"1\" class=\"dataframe\">\n",
       "  <thead>\n",
       "    <tr style=\"text-align: right;\">\n",
       "      <th></th>\n",
       "      <th>has_lcs</th>\n",
       "      <th>has_interaction_toxic</th>\n",
       "      <th>has_interaction_airdrop_m</th>\n",
       "      <th>has_interaction_disperse</th>\n",
       "      <th>is_airdrop_master</th>\n",
       "      <th>interact_less_5tx</th>\n",
       "      <th>flagged</th>\n",
       "      <th>stakeridoo_detected</th>\n",
       "      <th>doge_detected</th>\n",
       "      <th>really_suspicicious_cluster</th>\n",
       "      <th>odc_detected</th>\n",
       "      <th>trusta</th>\n",
       "      <th>gray</th>\n",
       "      <th>or_flag</th>\n",
       "    </tr>\n",
       "  </thead>\n",
       "  <tbody>\n",
       "    <tr>\n",
       "      <th>9</th>\n",
       "      <td>False</td>\n",
       "      <td>False</td>\n",
       "      <td>False</td>\n",
       "      <td>False</td>\n",
       "      <td>False</td>\n",
       "      <td>False</td>\n",
       "      <td>False</td>\n",
       "      <td>False</td>\n",
       "      <td>False</td>\n",
       "      <td>True</td>\n",
       "      <td>True</td>\n",
       "      <td>True</td>\n",
       "      <td>False</td>\n",
       "      <td>True</td>\n",
       "    </tr>\n",
       "    <tr>\n",
       "      <th>10</th>\n",
       "      <td>False</td>\n",
       "      <td>False</td>\n",
       "      <td>False</td>\n",
       "      <td>False</td>\n",
       "      <td>False</td>\n",
       "      <td>False</td>\n",
       "      <td>False</td>\n",
       "      <td>False</td>\n",
       "      <td>False</td>\n",
       "      <td>True</td>\n",
       "      <td>True</td>\n",
       "      <td>True</td>\n",
       "      <td>False</td>\n",
       "      <td>True</td>\n",
       "    </tr>\n",
       "  </tbody>\n",
       "</table>\n",
       "</div>"
      ],
      "text/plain": [
       "    has_lcs  has_interaction_toxic  has_interaction_airdrop_m   \n",
       "9     False                  False                      False  \\\n",
       "10    False                  False                      False   \n",
       "\n",
       "    has_interaction_disperse  is_airdrop_master  interact_less_5tx  flagged   \n",
       "9                      False              False              False    False  \\\n",
       "10                     False              False              False    False   \n",
       "\n",
       "    stakeridoo_detected  doge_detected  really_suspicicious_cluster   \n",
       "9                 False          False                         True  \\\n",
       "10                False          False                         True   \n",
       "\n",
       "    odc_detected  trusta   gray  or_flag  \n",
       "9           True    True  False     True  \n",
       "10          True    True  False     True  "
      ]
     },
     "execution_count": 96,
     "metadata": {},
     "output_type": "execute_result"
    }
   ],
   "source": [
    "df_flag_address.head(2)"
   ]
  },
  {
   "cell_type": "code",
   "execution_count": 120,
   "metadata": {},
   "outputs": [
    {
     "data": {
      "text/html": [
       "<div>\n",
       "<style scoped>\n",
       "    .dataframe tbody tr th:only-of-type {\n",
       "        vertical-align: middle;\n",
       "    }\n",
       "\n",
       "    .dataframe tbody tr th {\n",
       "        vertical-align: top;\n",
       "    }\n",
       "\n",
       "    .dataframe thead th {\n",
       "        text-align: right;\n",
       "    }\n",
       "</style>\n",
       "<table border=\"1\" class=\"dataframe\">\n",
       "  <thead>\n",
       "    <tr style=\"text-align: right;\">\n",
       "      <th></th>\n",
       "      <th>has_lcs</th>\n",
       "      <th>has_interaction_toxic</th>\n",
       "      <th>has_interaction_airdrop_m</th>\n",
       "      <th>has_interaction_disperse</th>\n",
       "      <th>is_airdrop_master</th>\n",
       "      <th>interact_less_5tx</th>\n",
       "      <th>flagged</th>\n",
       "      <th>stakeridoo_detected</th>\n",
       "      <th>doge_detected</th>\n",
       "      <th>really_suspicicious_cluster</th>\n",
       "      <th>odc_detected</th>\n",
       "      <th>trusta</th>\n",
       "      <th>gray</th>\n",
       "      <th>or_flag</th>\n",
       "    </tr>\n",
       "  </thead>\n",
       "  <tbody>\n",
       "    <tr>\n",
       "      <th>has_lcs</th>\n",
       "      <td>1.000000</td>\n",
       "      <td>0.0</td>\n",
       "      <td>0.002397</td>\n",
       "      <td>0.000000</td>\n",
       "      <td>0.002215</td>\n",
       "      <td>0.001795</td>\n",
       "      <td>0.474145</td>\n",
       "      <td>0.000000</td>\n",
       "      <td>0.000000</td>\n",
       "      <td>0.019956</td>\n",
       "      <td>0.363575</td>\n",
       "      <td>0.015296</td>\n",
       "      <td>0.045233</td>\n",
       "      <td>0.308350</td>\n",
       "    </tr>\n",
       "    <tr>\n",
       "      <th>has_interaction_toxic</th>\n",
       "      <td>0.000000</td>\n",
       "      <td>1.0</td>\n",
       "      <td>0.000000</td>\n",
       "      <td>0.000000</td>\n",
       "      <td>0.000000</td>\n",
       "      <td>0.000000</td>\n",
       "      <td>0.000000</td>\n",
       "      <td>0.000000</td>\n",
       "      <td>0.000000</td>\n",
       "      <td>0.000000</td>\n",
       "      <td>0.000000</td>\n",
       "      <td>0.000000</td>\n",
       "      <td>0.000000</td>\n",
       "      <td>0.000000</td>\n",
       "    </tr>\n",
       "    <tr>\n",
       "      <th>has_interaction_airdrop_m</th>\n",
       "      <td>0.002397</td>\n",
       "      <td>0.0</td>\n",
       "      <td>1.000000</td>\n",
       "      <td>0.000000</td>\n",
       "      <td>0.157018</td>\n",
       "      <td>0.003210</td>\n",
       "      <td>0.258983</td>\n",
       "      <td>0.011127</td>\n",
       "      <td>0.001689</td>\n",
       "      <td>0.063042</td>\n",
       "      <td>0.198589</td>\n",
       "      <td>0.059615</td>\n",
       "      <td>0.000000</td>\n",
       "      <td>0.168424</td>\n",
       "    </tr>\n",
       "    <tr>\n",
       "      <th>has_interaction_disperse</th>\n",
       "      <td>0.000000</td>\n",
       "      <td>0.0</td>\n",
       "      <td>0.000000</td>\n",
       "      <td>1.000000</td>\n",
       "      <td>0.002621</td>\n",
       "      <td>0.000000</td>\n",
       "      <td>0.016214</td>\n",
       "      <td>0.000000</td>\n",
       "      <td>0.000000</td>\n",
       "      <td>0.000000</td>\n",
       "      <td>0.012433</td>\n",
       "      <td>0.001828</td>\n",
       "      <td>0.000000</td>\n",
       "      <td>0.010544</td>\n",
       "    </tr>\n",
       "    <tr>\n",
       "      <th>is_airdrop_master</th>\n",
       "      <td>0.002215</td>\n",
       "      <td>0.0</td>\n",
       "      <td>0.157018</td>\n",
       "      <td>0.002621</td>\n",
       "      <td>1.000000</td>\n",
       "      <td>0.000000</td>\n",
       "      <td>0.319018</td>\n",
       "      <td>0.005821</td>\n",
       "      <td>0.000000</td>\n",
       "      <td>0.018506</td>\n",
       "      <td>0.244624</td>\n",
       "      <td>0.018077</td>\n",
       "      <td>0.000000</td>\n",
       "      <td>0.207467</td>\n",
       "    </tr>\n",
       "    <tr>\n",
       "      <th>interact_less_5tx</th>\n",
       "      <td>0.001795</td>\n",
       "      <td>0.0</td>\n",
       "      <td>0.003210</td>\n",
       "      <td>0.000000</td>\n",
       "      <td>0.000000</td>\n",
       "      <td>1.000000</td>\n",
       "      <td>0.014899</td>\n",
       "      <td>0.000000</td>\n",
       "      <td>0.000000</td>\n",
       "      <td>0.011494</td>\n",
       "      <td>0.011425</td>\n",
       "      <td>0.000000</td>\n",
       "      <td>0.000000</td>\n",
       "      <td>0.009689</td>\n",
       "    </tr>\n",
       "    <tr>\n",
       "      <th>flagged</th>\n",
       "      <td>0.474145</td>\n",
       "      <td>0.0</td>\n",
       "      <td>0.258983</td>\n",
       "      <td>0.016214</td>\n",
       "      <td>0.319018</td>\n",
       "      <td>0.014899</td>\n",
       "      <td>1.000000</td>\n",
       "      <td>0.004988</td>\n",
       "      <td>0.000438</td>\n",
       "      <td>0.047553</td>\n",
       "      <td>0.766801</td>\n",
       "      <td>0.034828</td>\n",
       "      <td>0.024649</td>\n",
       "      <td>0.650328</td>\n",
       "    </tr>\n",
       "    <tr>\n",
       "      <th>stakeridoo_detected</th>\n",
       "      <td>0.000000</td>\n",
       "      <td>0.0</td>\n",
       "      <td>0.011127</td>\n",
       "      <td>0.000000</td>\n",
       "      <td>0.005821</td>\n",
       "      <td>0.000000</td>\n",
       "      <td>0.004988</td>\n",
       "      <td>1.000000</td>\n",
       "      <td>0.000000</td>\n",
       "      <td>0.063020</td>\n",
       "      <td>0.045699</td>\n",
       "      <td>0.083752</td>\n",
       "      <td>0.000000</td>\n",
       "      <td>0.038757</td>\n",
       "    </tr>\n",
       "    <tr>\n",
       "      <th>doge_detected</th>\n",
       "      <td>0.000000</td>\n",
       "      <td>0.0</td>\n",
       "      <td>0.001689</td>\n",
       "      <td>0.000000</td>\n",
       "      <td>0.000000</td>\n",
       "      <td>0.000000</td>\n",
       "      <td>0.000438</td>\n",
       "      <td>0.000000</td>\n",
       "      <td>1.000000</td>\n",
       "      <td>0.000000</td>\n",
       "      <td>0.000672</td>\n",
       "      <td>0.000000</td>\n",
       "      <td>0.000000</td>\n",
       "      <td>0.000570</td>\n",
       "    </tr>\n",
       "    <tr>\n",
       "      <th>really_suspicicious_cluster</th>\n",
       "      <td>0.019956</td>\n",
       "      <td>0.0</td>\n",
       "      <td>0.063042</td>\n",
       "      <td>0.000000</td>\n",
       "      <td>0.018506</td>\n",
       "      <td>0.011494</td>\n",
       "      <td>0.047553</td>\n",
       "      <td>0.063020</td>\n",
       "      <td>0.000000</td>\n",
       "      <td>1.000000</td>\n",
       "      <td>0.254704</td>\n",
       "      <td>0.164220</td>\n",
       "      <td>0.012898</td>\n",
       "      <td>0.216016</td>\n",
       "    </tr>\n",
       "    <tr>\n",
       "      <th>odc_detected</th>\n",
       "      <td>0.363575</td>\n",
       "      <td>0.0</td>\n",
       "      <td>0.198589</td>\n",
       "      <td>0.012433</td>\n",
       "      <td>0.244624</td>\n",
       "      <td>0.011425</td>\n",
       "      <td>0.766801</td>\n",
       "      <td>0.045699</td>\n",
       "      <td>0.000672</td>\n",
       "      <td>0.254704</td>\n",
       "      <td>1.000000</td>\n",
       "      <td>0.083929</td>\n",
       "      <td>0.024125</td>\n",
       "      <td>0.848105</td>\n",
       "    </tr>\n",
       "    <tr>\n",
       "      <th>trusta</th>\n",
       "      <td>0.015296</td>\n",
       "      <td>0.0</td>\n",
       "      <td>0.059615</td>\n",
       "      <td>0.001828</td>\n",
       "      <td>0.018077</td>\n",
       "      <td>0.000000</td>\n",
       "      <td>0.034828</td>\n",
       "      <td>0.083752</td>\n",
       "      <td>0.000000</td>\n",
       "      <td>0.164220</td>\n",
       "      <td>0.083929</td>\n",
       "      <td>1.000000</td>\n",
       "      <td>0.062785</td>\n",
       "      <td>0.145626</td>\n",
       "    </tr>\n",
       "    <tr>\n",
       "      <th>gray</th>\n",
       "      <td>0.045233</td>\n",
       "      <td>0.0</td>\n",
       "      <td>0.000000</td>\n",
       "      <td>0.000000</td>\n",
       "      <td>0.000000</td>\n",
       "      <td>0.000000</td>\n",
       "      <td>0.024649</td>\n",
       "      <td>0.000000</td>\n",
       "      <td>0.000000</td>\n",
       "      <td>0.012898</td>\n",
       "      <td>0.024125</td>\n",
       "      <td>0.062785</td>\n",
       "      <td>1.000000</td>\n",
       "      <td>0.119692</td>\n",
       "    </tr>\n",
       "    <tr>\n",
       "      <th>or_flag</th>\n",
       "      <td>0.308350</td>\n",
       "      <td>0.0</td>\n",
       "      <td>0.168424</td>\n",
       "      <td>0.010544</td>\n",
       "      <td>0.207467</td>\n",
       "      <td>0.009689</td>\n",
       "      <td>0.650328</td>\n",
       "      <td>0.038757</td>\n",
       "      <td>0.000570</td>\n",
       "      <td>0.216016</td>\n",
       "      <td>0.848105</td>\n",
       "      <td>0.145626</td>\n",
       "      <td>0.119692</td>\n",
       "      <td>1.000000</td>\n",
       "    </tr>\n",
       "  </tbody>\n",
       "</table>\n",
       "</div>"
      ],
      "text/plain": [
       "                              has_lcs  has_interaction_toxic   \n",
       "has_lcs                      1.000000                    0.0  \\\n",
       "has_interaction_toxic        0.000000                    1.0   \n",
       "has_interaction_airdrop_m    0.002397                    0.0   \n",
       "has_interaction_disperse     0.000000                    0.0   \n",
       "is_airdrop_master            0.002215                    0.0   \n",
       "interact_less_5tx            0.001795                    0.0   \n",
       "flagged                      0.474145                    0.0   \n",
       "stakeridoo_detected          0.000000                    0.0   \n",
       "doge_detected                0.000000                    0.0   \n",
       "really_suspicicious_cluster  0.019956                    0.0   \n",
       "odc_detected                 0.363575                    0.0   \n",
       "trusta                       0.015296                    0.0   \n",
       "gray                         0.045233                    0.0   \n",
       "or_flag                      0.308350                    0.0   \n",
       "\n",
       "                             has_interaction_airdrop_m   \n",
       "has_lcs                                       0.002397  \\\n",
       "has_interaction_toxic                         0.000000   \n",
       "has_interaction_airdrop_m                     1.000000   \n",
       "has_interaction_disperse                      0.000000   \n",
       "is_airdrop_master                             0.157018   \n",
       "interact_less_5tx                             0.003210   \n",
       "flagged                                       0.258983   \n",
       "stakeridoo_detected                           0.011127   \n",
       "doge_detected                                 0.001689   \n",
       "really_suspicicious_cluster                   0.063042   \n",
       "odc_detected                                  0.198589   \n",
       "trusta                                        0.059615   \n",
       "gray                                          0.000000   \n",
       "or_flag                                       0.168424   \n",
       "\n",
       "                             has_interaction_disperse  is_airdrop_master   \n",
       "has_lcs                                      0.000000           0.002215  \\\n",
       "has_interaction_toxic                        0.000000           0.000000   \n",
       "has_interaction_airdrop_m                    0.000000           0.157018   \n",
       "has_interaction_disperse                     1.000000           0.002621   \n",
       "is_airdrop_master                            0.002621           1.000000   \n",
       "interact_less_5tx                            0.000000           0.000000   \n",
       "flagged                                      0.016214           0.319018   \n",
       "stakeridoo_detected                          0.000000           0.005821   \n",
       "doge_detected                                0.000000           0.000000   \n",
       "really_suspicicious_cluster                  0.000000           0.018506   \n",
       "odc_detected                                 0.012433           0.244624   \n",
       "trusta                                       0.001828           0.018077   \n",
       "gray                                         0.000000           0.000000   \n",
       "or_flag                                      0.010544           0.207467   \n",
       "\n",
       "                             interact_less_5tx   flagged  stakeridoo_detected   \n",
       "has_lcs                               0.001795  0.474145             0.000000  \\\n",
       "has_interaction_toxic                 0.000000  0.000000             0.000000   \n",
       "has_interaction_airdrop_m             0.003210  0.258983             0.011127   \n",
       "has_interaction_disperse              0.000000  0.016214             0.000000   \n",
       "is_airdrop_master                     0.000000  0.319018             0.005821   \n",
       "interact_less_5tx                     1.000000  0.014899             0.000000   \n",
       "flagged                               0.014899  1.000000             0.004988   \n",
       "stakeridoo_detected                   0.000000  0.004988             1.000000   \n",
       "doge_detected                         0.000000  0.000438             0.000000   \n",
       "really_suspicicious_cluster           0.011494  0.047553             0.063020   \n",
       "odc_detected                          0.011425  0.766801             0.045699   \n",
       "trusta                                0.000000  0.034828             0.083752   \n",
       "gray                                  0.000000  0.024649             0.000000   \n",
       "or_flag                               0.009689  0.650328             0.038757   \n",
       "\n",
       "                             doge_detected  really_suspicicious_cluster   \n",
       "has_lcs                           0.000000                     0.019956  \\\n",
       "has_interaction_toxic             0.000000                     0.000000   \n",
       "has_interaction_airdrop_m         0.001689                     0.063042   \n",
       "has_interaction_disperse          0.000000                     0.000000   \n",
       "is_airdrop_master                 0.000000                     0.018506   \n",
       "interact_less_5tx                 0.000000                     0.011494   \n",
       "flagged                           0.000438                     0.047553   \n",
       "stakeridoo_detected               0.000000                     0.063020   \n",
       "doge_detected                     1.000000                     0.000000   \n",
       "really_suspicicious_cluster       0.000000                     1.000000   \n",
       "odc_detected                      0.000672                     0.254704   \n",
       "trusta                            0.000000                     0.164220   \n",
       "gray                              0.000000                     0.012898   \n",
       "or_flag                           0.000570                     0.216016   \n",
       "\n",
       "                             odc_detected    trusta      gray   or_flag  \n",
       "has_lcs                          0.363575  0.015296  0.045233  0.308350  \n",
       "has_interaction_toxic            0.000000  0.000000  0.000000  0.000000  \n",
       "has_interaction_airdrop_m        0.198589  0.059615  0.000000  0.168424  \n",
       "has_interaction_disperse         0.012433  0.001828  0.000000  0.010544  \n",
       "is_airdrop_master                0.244624  0.018077  0.000000  0.207467  \n",
       "interact_less_5tx                0.011425  0.000000  0.000000  0.009689  \n",
       "flagged                          0.766801  0.034828  0.024649  0.650328  \n",
       "stakeridoo_detected              0.045699  0.083752  0.000000  0.038757  \n",
       "doge_detected                    0.000672  0.000000  0.000000  0.000570  \n",
       "really_suspicicious_cluster      0.254704  0.164220  0.012898  0.216016  \n",
       "odc_detected                     1.000000  0.083929  0.024125  0.848105  \n",
       "trusta                           0.083929  1.000000  0.062785  0.145626  \n",
       "gray                             0.024125  0.062785  1.000000  0.119692  \n",
       "or_flag                          0.848105  0.145626  0.119692  1.000000  "
      ]
     },
     "execution_count": 120,
     "metadata": {},
     "output_type": "execute_result"
    }
   ],
   "source": [
    "from scipy.spatial.distance import pdist\n",
    "\n",
    "def similarity_matrix(df, metric='jaccard'):\n",
    "    \n",
    "    n = df.shape[1]\n",
    "    scores = 1 - pdist(np.array(df).T, metric=metric)\n",
    "    result = np.zeros((n,n))\n",
    "    result[np.triu_indices(n, k=1)] = scores\n",
    "    result += result.T\n",
    "    np.fill_diagonal(result, 1)\n",
    "    return pd.DataFrame(result, index=df.columns, columns=df.columns)\n",
    "\n",
    "jaccard_similarity = similarity_matrix(df_flag_address)\n",
    "jaccard_similarity"
   ]
  },
  {
   "cell_type": "code",
   "execution_count": 101,
   "metadata": {},
   "outputs": [
    {
     "data": {
      "application/vnd.plotly.v1+json": {
       "config": {
        "plotlyServerURL": "https://plot.ly"
       },
       "data": [
        {
         "coloraxis": "coloraxis",
         "hovertemplate": "x: %{x}<br>y: %{y}<br>color: %{z}<extra></extra>",
         "name": "0",
         "type": "heatmap",
         "x": [
          "has_lcs",
          "has_interaction_toxic",
          "has_interaction_airdrop_m",
          "has_interaction_disperse",
          "is_airdrop_master",
          "interact_less_5tx",
          "flagged",
          "stakeridoo_detected",
          "doge_detected",
          "really_suspicicious_cluster",
          "odc_detected",
          "trusta",
          "gray",
          "or_flag"
         ],
         "xaxis": "x",
         "y": [
          "has_lcs",
          "has_interaction_toxic",
          "has_interaction_airdrop_m",
          "has_interaction_disperse",
          "is_airdrop_master",
          "interact_less_5tx",
          "flagged",
          "stakeridoo_detected",
          "doge_detected",
          "really_suspicicious_cluster",
          "odc_detected",
          "trusta",
          "gray",
          "or_flag"
         ],
         "yaxis": "y",
         "z": [
          [
           1,
           0,
           0.002396644697423622,
           0,
           0.0022148394241418012,
           0.0017953321364452268,
           0.4741454864154251,
           0,
           0,
           0.019955654101995512,
           0.36357526881720426,
           0.015296367112810683,
           0.04523312456506612,
           0.3083499572527786
          ],
          [
           0,
           1,
           0,
           0,
           0,
           0,
           0,
           0,
           0,
           0,
           0,
           0,
           0,
           0
          ],
          [
           0.002396644697423622,
           0,
           1,
           0,
           0.15701754385964917,
           0.0032102728731941976,
           0.2589833479404031,
           0.011126564673157202,
           0.0016891891891891442,
           0.06304176516942472,
           0.19858870967741937,
           0.059615384615384626,
           0,
           0.16842405243659164
          ],
          [
           0,
           0,
           0,
           1,
           0.002621231979030192,
           0,
           0.016213847502191014,
           0,
           0,
           0,
           0.012432795698924748,
           0.001828153564899404,
           0,
           0.010544314619549744
          ],
          [
           0.0022148394241418012,
           0,
           0.15701754385964917,
           0.002621231979030192,
           1,
           0,
           0.3190184049079755,
           0.005820721769499437,
           0,
           0.018505825908156304,
           0.2446236559139785,
           0.018077239112571863,
           0,
           0.20746651467654598
          ],
          [
           0.0017953321364452268,
           0,
           0.0032102728731941976,
           0,
           0,
           1,
           0.014899211218229569,
           0,
           0,
           0.011494252873563204,
           0.011424731182795744,
           0,
           0,
           0.00968937019093763
          ],
          [
           0.4741454864154251,
           0,
           0.2589833479404031,
           0.016213847502191014,
           0.3190184049079755,
           0.014899211218229569,
           1,
           0.004987531172069848,
           0.00043802014892679875,
           0.04755341144038594,
           0.7668010752688172,
           0.03482771396813633,
           0.02464922260144098,
           0.6503277286976347
          ],
          [
           0,
           0,
           0.011126564673157202,
           0,
           0.005820721769499437,
           0,
           0.004987531172069848,
           1,
           0,
           0.06302021403091562,
           0.045698924731182755,
           0.08375209380234505,
           0,
           0.03875748076375041
          ],
          [
           0,
           0,
           0.0016891891891891442,
           0,
           0,
           0,
           0.00043802014892679875,
           0,
           1,
           0,
           0.0006720430107527431,
           0,
           0,
           0.0005699629524080763
          ],
          [
           0.019955654101995512,
           0,
           0.06304176516942472,
           0,
           0.018505825908156304,
           0.011494252873563204,
           0.04755341144038594,
           0.06302021403091562,
           0,
           1,
           0.25470430107526887,
           0.16422018348623857,
           0.012897678417884806,
           0.21601595896266745
          ],
          [
           0.36357526881720426,
           0,
           0.19858870967741937,
           0.012432795698924748,
           0.2446236559139785,
           0.011424731182795744,
           0.7668010752688172,
           0.045698924731182755,
           0.0006720430107527431,
           0.25470430107526887,
           1,
           0.08392912651538698,
           0.024125452352231624,
           0.8481048731832431
          ],
          [
           0.015296367112810683,
           0,
           0.059615384615384626,
           0.001828153564899404,
           0.018077239112571863,
           0,
           0.03482771396813633,
           0.08375209380234505,
           0,
           0.16422018348623857,
           0.08392912651538698,
           1,
           0.06278538812785384,
           0.14562553434026793
          ],
          [
           0.04523312456506612,
           0,
           0,
           0,
           0,
           0,
           0.02464922260144098,
           0,
           0,
           0.012897678417884806,
           0.024125452352231624,
           0.06278538812785384,
           1,
           0.11969222000569968
          ],
          [
           0.3083499572527786,
           0,
           0.16842405243659164,
           0.010544314619549744,
           0.20746651467654598,
           0.00968937019093763,
           0.6503277286976347,
           0.03875748076375041,
           0.0005699629524080763,
           0.21601595896266745,
           0.8481048731832431,
           0.14562553434026793,
           0.11969222000569968,
           1
          ]
         ]
        }
       ],
       "layout": {
        "coloraxis": {
         "colorscale": [
          [
           0,
           "rgb(247,251,255)"
          ],
          [
           0.125,
           "rgb(222,235,247)"
          ],
          [
           0.25,
           "rgb(198,219,239)"
          ],
          [
           0.375,
           "rgb(158,202,225)"
          ],
          [
           0.5,
           "rgb(107,174,214)"
          ],
          [
           0.625,
           "rgb(66,146,198)"
          ],
          [
           0.75,
           "rgb(33,113,181)"
          ],
          [
           0.875,
           "rgb(8,81,156)"
          ],
          [
           1,
           "rgb(8,48,107)"
          ]
         ]
        },
        "margin": {
         "t": 60
        },
        "template": {
         "data": {
          "bar": [
           {
            "error_x": {
             "color": "#2a3f5f"
            },
            "error_y": {
             "color": "#2a3f5f"
            },
            "marker": {
             "line": {
              "color": "#E5ECF6",
              "width": 0.5
             },
             "pattern": {
              "fillmode": "overlay",
              "size": 10,
              "solidity": 0.2
             }
            },
            "type": "bar"
           }
          ],
          "barpolar": [
           {
            "marker": {
             "line": {
              "color": "#E5ECF6",
              "width": 0.5
             },
             "pattern": {
              "fillmode": "overlay",
              "size": 10,
              "solidity": 0.2
             }
            },
            "type": "barpolar"
           }
          ],
          "carpet": [
           {
            "aaxis": {
             "endlinecolor": "#2a3f5f",
             "gridcolor": "white",
             "linecolor": "white",
             "minorgridcolor": "white",
             "startlinecolor": "#2a3f5f"
            },
            "baxis": {
             "endlinecolor": "#2a3f5f",
             "gridcolor": "white",
             "linecolor": "white",
             "minorgridcolor": "white",
             "startlinecolor": "#2a3f5f"
            },
            "type": "carpet"
           }
          ],
          "choropleth": [
           {
            "colorbar": {
             "outlinewidth": 0,
             "ticks": ""
            },
            "type": "choropleth"
           }
          ],
          "contour": [
           {
            "colorbar": {
             "outlinewidth": 0,
             "ticks": ""
            },
            "colorscale": [
             [
              0,
              "#0d0887"
             ],
             [
              0.1111111111111111,
              "#46039f"
             ],
             [
              0.2222222222222222,
              "#7201a8"
             ],
             [
              0.3333333333333333,
              "#9c179e"
             ],
             [
              0.4444444444444444,
              "#bd3786"
             ],
             [
              0.5555555555555556,
              "#d8576b"
             ],
             [
              0.6666666666666666,
              "#ed7953"
             ],
             [
              0.7777777777777778,
              "#fb9f3a"
             ],
             [
              0.8888888888888888,
              "#fdca26"
             ],
             [
              1,
              "#f0f921"
             ]
            ],
            "type": "contour"
           }
          ],
          "contourcarpet": [
           {
            "colorbar": {
             "outlinewidth": 0,
             "ticks": ""
            },
            "type": "contourcarpet"
           }
          ],
          "heatmap": [
           {
            "colorbar": {
             "outlinewidth": 0,
             "ticks": ""
            },
            "colorscale": [
             [
              0,
              "#0d0887"
             ],
             [
              0.1111111111111111,
              "#46039f"
             ],
             [
              0.2222222222222222,
              "#7201a8"
             ],
             [
              0.3333333333333333,
              "#9c179e"
             ],
             [
              0.4444444444444444,
              "#bd3786"
             ],
             [
              0.5555555555555556,
              "#d8576b"
             ],
             [
              0.6666666666666666,
              "#ed7953"
             ],
             [
              0.7777777777777778,
              "#fb9f3a"
             ],
             [
              0.8888888888888888,
              "#fdca26"
             ],
             [
              1,
              "#f0f921"
             ]
            ],
            "type": "heatmap"
           }
          ],
          "heatmapgl": [
           {
            "colorbar": {
             "outlinewidth": 0,
             "ticks": ""
            },
            "colorscale": [
             [
              0,
              "#0d0887"
             ],
             [
              0.1111111111111111,
              "#46039f"
             ],
             [
              0.2222222222222222,
              "#7201a8"
             ],
             [
              0.3333333333333333,
              "#9c179e"
             ],
             [
              0.4444444444444444,
              "#bd3786"
             ],
             [
              0.5555555555555556,
              "#d8576b"
             ],
             [
              0.6666666666666666,
              "#ed7953"
             ],
             [
              0.7777777777777778,
              "#fb9f3a"
             ],
             [
              0.8888888888888888,
              "#fdca26"
             ],
             [
              1,
              "#f0f921"
             ]
            ],
            "type": "heatmapgl"
           }
          ],
          "histogram": [
           {
            "marker": {
             "pattern": {
              "fillmode": "overlay",
              "size": 10,
              "solidity": 0.2
             }
            },
            "type": "histogram"
           }
          ],
          "histogram2d": [
           {
            "colorbar": {
             "outlinewidth": 0,
             "ticks": ""
            },
            "colorscale": [
             [
              0,
              "#0d0887"
             ],
             [
              0.1111111111111111,
              "#46039f"
             ],
             [
              0.2222222222222222,
              "#7201a8"
             ],
             [
              0.3333333333333333,
              "#9c179e"
             ],
             [
              0.4444444444444444,
              "#bd3786"
             ],
             [
              0.5555555555555556,
              "#d8576b"
             ],
             [
              0.6666666666666666,
              "#ed7953"
             ],
             [
              0.7777777777777778,
              "#fb9f3a"
             ],
             [
              0.8888888888888888,
              "#fdca26"
             ],
             [
              1,
              "#f0f921"
             ]
            ],
            "type": "histogram2d"
           }
          ],
          "histogram2dcontour": [
           {
            "colorbar": {
             "outlinewidth": 0,
             "ticks": ""
            },
            "colorscale": [
             [
              0,
              "#0d0887"
             ],
             [
              0.1111111111111111,
              "#46039f"
             ],
             [
              0.2222222222222222,
              "#7201a8"
             ],
             [
              0.3333333333333333,
              "#9c179e"
             ],
             [
              0.4444444444444444,
              "#bd3786"
             ],
             [
              0.5555555555555556,
              "#d8576b"
             ],
             [
              0.6666666666666666,
              "#ed7953"
             ],
             [
              0.7777777777777778,
              "#fb9f3a"
             ],
             [
              0.8888888888888888,
              "#fdca26"
             ],
             [
              1,
              "#f0f921"
             ]
            ],
            "type": "histogram2dcontour"
           }
          ],
          "mesh3d": [
           {
            "colorbar": {
             "outlinewidth": 0,
             "ticks": ""
            },
            "type": "mesh3d"
           }
          ],
          "parcoords": [
           {
            "line": {
             "colorbar": {
              "outlinewidth": 0,
              "ticks": ""
             }
            },
            "type": "parcoords"
           }
          ],
          "pie": [
           {
            "automargin": true,
            "type": "pie"
           }
          ],
          "scatter": [
           {
            "fillpattern": {
             "fillmode": "overlay",
             "size": 10,
             "solidity": 0.2
            },
            "type": "scatter"
           }
          ],
          "scatter3d": [
           {
            "line": {
             "colorbar": {
              "outlinewidth": 0,
              "ticks": ""
             }
            },
            "marker": {
             "colorbar": {
              "outlinewidth": 0,
              "ticks": ""
             }
            },
            "type": "scatter3d"
           }
          ],
          "scattercarpet": [
           {
            "marker": {
             "colorbar": {
              "outlinewidth": 0,
              "ticks": ""
             }
            },
            "type": "scattercarpet"
           }
          ],
          "scattergeo": [
           {
            "marker": {
             "colorbar": {
              "outlinewidth": 0,
              "ticks": ""
             }
            },
            "type": "scattergeo"
           }
          ],
          "scattergl": [
           {
            "marker": {
             "colorbar": {
              "outlinewidth": 0,
              "ticks": ""
             }
            },
            "type": "scattergl"
           }
          ],
          "scattermapbox": [
           {
            "marker": {
             "colorbar": {
              "outlinewidth": 0,
              "ticks": ""
             }
            },
            "type": "scattermapbox"
           }
          ],
          "scatterpolar": [
           {
            "marker": {
             "colorbar": {
              "outlinewidth": 0,
              "ticks": ""
             }
            },
            "type": "scatterpolar"
           }
          ],
          "scatterpolargl": [
           {
            "marker": {
             "colorbar": {
              "outlinewidth": 0,
              "ticks": ""
             }
            },
            "type": "scatterpolargl"
           }
          ],
          "scatterternary": [
           {
            "marker": {
             "colorbar": {
              "outlinewidth": 0,
              "ticks": ""
             }
            },
            "type": "scatterternary"
           }
          ],
          "surface": [
           {
            "colorbar": {
             "outlinewidth": 0,
             "ticks": ""
            },
            "colorscale": [
             [
              0,
              "#0d0887"
             ],
             [
              0.1111111111111111,
              "#46039f"
             ],
             [
              0.2222222222222222,
              "#7201a8"
             ],
             [
              0.3333333333333333,
              "#9c179e"
             ],
             [
              0.4444444444444444,
              "#bd3786"
             ],
             [
              0.5555555555555556,
              "#d8576b"
             ],
             [
              0.6666666666666666,
              "#ed7953"
             ],
             [
              0.7777777777777778,
              "#fb9f3a"
             ],
             [
              0.8888888888888888,
              "#fdca26"
             ],
             [
              1,
              "#f0f921"
             ]
            ],
            "type": "surface"
           }
          ],
          "table": [
           {
            "cells": {
             "fill": {
              "color": "#EBF0F8"
             },
             "line": {
              "color": "white"
             }
            },
            "header": {
             "fill": {
              "color": "#C8D4E3"
             },
             "line": {
              "color": "white"
             }
            },
            "type": "table"
           }
          ]
         },
         "layout": {
          "annotationdefaults": {
           "arrowcolor": "#2a3f5f",
           "arrowhead": 0,
           "arrowwidth": 1
          },
          "autotypenumbers": "strict",
          "coloraxis": {
           "colorbar": {
            "outlinewidth": 0,
            "ticks": ""
           }
          },
          "colorscale": {
           "diverging": [
            [
             0,
             "#8e0152"
            ],
            [
             0.1,
             "#c51b7d"
            ],
            [
             0.2,
             "#de77ae"
            ],
            [
             0.3,
             "#f1b6da"
            ],
            [
             0.4,
             "#fde0ef"
            ],
            [
             0.5,
             "#f7f7f7"
            ],
            [
             0.6,
             "#e6f5d0"
            ],
            [
             0.7,
             "#b8e186"
            ],
            [
             0.8,
             "#7fbc41"
            ],
            [
             0.9,
             "#4d9221"
            ],
            [
             1,
             "#276419"
            ]
           ],
           "sequential": [
            [
             0,
             "#0d0887"
            ],
            [
             0.1111111111111111,
             "#46039f"
            ],
            [
             0.2222222222222222,
             "#7201a8"
            ],
            [
             0.3333333333333333,
             "#9c179e"
            ],
            [
             0.4444444444444444,
             "#bd3786"
            ],
            [
             0.5555555555555556,
             "#d8576b"
            ],
            [
             0.6666666666666666,
             "#ed7953"
            ],
            [
             0.7777777777777778,
             "#fb9f3a"
            ],
            [
             0.8888888888888888,
             "#fdca26"
            ],
            [
             1,
             "#f0f921"
            ]
           ],
           "sequentialminus": [
            [
             0,
             "#0d0887"
            ],
            [
             0.1111111111111111,
             "#46039f"
            ],
            [
             0.2222222222222222,
             "#7201a8"
            ],
            [
             0.3333333333333333,
             "#9c179e"
            ],
            [
             0.4444444444444444,
             "#bd3786"
            ],
            [
             0.5555555555555556,
             "#d8576b"
            ],
            [
             0.6666666666666666,
             "#ed7953"
            ],
            [
             0.7777777777777778,
             "#fb9f3a"
            ],
            [
             0.8888888888888888,
             "#fdca26"
            ],
            [
             1,
             "#f0f921"
            ]
           ]
          },
          "colorway": [
           "#636efa",
           "#EF553B",
           "#00cc96",
           "#ab63fa",
           "#FFA15A",
           "#19d3f3",
           "#FF6692",
           "#B6E880",
           "#FF97FF",
           "#FECB52"
          ],
          "font": {
           "color": "#2a3f5f"
          },
          "geo": {
           "bgcolor": "white",
           "lakecolor": "white",
           "landcolor": "#E5ECF6",
           "showlakes": true,
           "showland": true,
           "subunitcolor": "white"
          },
          "hoverlabel": {
           "align": "left"
          },
          "hovermode": "closest",
          "mapbox": {
           "style": "light"
          },
          "paper_bgcolor": "white",
          "plot_bgcolor": "#E5ECF6",
          "polar": {
           "angularaxis": {
            "gridcolor": "white",
            "linecolor": "white",
            "ticks": ""
           },
           "bgcolor": "#E5ECF6",
           "radialaxis": {
            "gridcolor": "white",
            "linecolor": "white",
            "ticks": ""
           }
          },
          "scene": {
           "xaxis": {
            "backgroundcolor": "#E5ECF6",
            "gridcolor": "white",
            "gridwidth": 2,
            "linecolor": "white",
            "showbackground": true,
            "ticks": "",
            "zerolinecolor": "white"
           },
           "yaxis": {
            "backgroundcolor": "#E5ECF6",
            "gridcolor": "white",
            "gridwidth": 2,
            "linecolor": "white",
            "showbackground": true,
            "ticks": "",
            "zerolinecolor": "white"
           },
           "zaxis": {
            "backgroundcolor": "#E5ECF6",
            "gridcolor": "white",
            "gridwidth": 2,
            "linecolor": "white",
            "showbackground": true,
            "ticks": "",
            "zerolinecolor": "white"
           }
          },
          "shapedefaults": {
           "line": {
            "color": "#2a3f5f"
           }
          },
          "ternary": {
           "aaxis": {
            "gridcolor": "white",
            "linecolor": "white",
            "ticks": ""
           },
           "baxis": {
            "gridcolor": "white",
            "linecolor": "white",
            "ticks": ""
           },
           "bgcolor": "#E5ECF6",
           "caxis": {
            "gridcolor": "white",
            "linecolor": "white",
            "ticks": ""
           }
          },
          "title": {
           "x": 0.05
          },
          "xaxis": {
           "automargin": true,
           "gridcolor": "white",
           "linecolor": "white",
           "ticks": "",
           "title": {
            "standoff": 15
           },
           "zerolinecolor": "white",
           "zerolinewidth": 2
          },
          "yaxis": {
           "automargin": true,
           "gridcolor": "white",
           "linecolor": "white",
           "ticks": "",
           "title": {
            "standoff": 15
           },
           "zerolinecolor": "white",
           "zerolinewidth": 2
          }
         }
        },
        "xaxis": {
         "anchor": "y",
         "constrain": "domain",
         "domain": [
          0,
          1
         ],
         "scaleanchor": "y"
        },
        "yaxis": {
         "anchor": "x",
         "autorange": "reversed",
         "constrain": "domain",
         "domain": [
          0,
          1
         ]
        }
       }
      }
     },
     "metadata": {},
     "output_type": "display_data"
    }
   ],
   "source": [
    "import plotly.express as px\n",
    "#plotly heatmap\n",
    "fig = px.imshow(jaccard_similarity, color_continuous_scale='Blues')\n",
    "fig.show()"
   ]
  },
  {
   "cell_type": "markdown",
   "metadata": {},
   "source": [
    "Moslty each method find different kind of wallets\n",
    "\n",
    "We can see which method detects the largest number of wallets over the final flags:"
   ]
  },
  {
   "cell_type": "code",
   "execution_count": 103,
   "metadata": {},
   "outputs": [
    {
     "data": {
      "text/plain": [
       "or_flag                        1.000000\n",
       "odc_detected                   0.848105\n",
       "flagged                        0.650328\n",
       "has_lcs                        0.308350\n",
       "really_suspicicious_cluster    0.216016\n",
       "is_airdrop_master              0.207467\n",
       "has_interaction_airdrop_m      0.168424\n",
       "trusta                         0.145626\n",
       "gray                           0.119692\n",
       "stakeridoo_detected            0.038757\n",
       "has_interaction_disperse       0.010544\n",
       "interact_less_5tx              0.009689\n",
       "doge_detected                  0.000570\n",
       "has_interaction_toxic          0.000000\n",
       "Name: or_flag, dtype: float64"
      ]
     },
     "execution_count": 103,
     "metadata": {},
     "output_type": "execute_result"
    }
   ],
   "source": [
    "jaccard_similarity['or_flag'].sort_values(ascending=False)"
   ]
  },
  {
   "cell_type": "markdown",
   "metadata": {},
   "source": [
    "Surprisingly, the foolowing flag do not have large overlap:\n",
    "really_suspicicious_cluster, is_airdrop_master, has_interaction_airdrop_m\n",
    "This can be explain by the way jacard similarity is computed\n",
    "looking at the Hamming distance between the flags is a better indicator of how similar the flags are."
   ]
  },
  {
   "cell_type": "code",
   "execution_count": 124,
   "metadata": {},
   "outputs": [
    {
     "data": {
      "text/html": [
       "<div>\n",
       "<style scoped>\n",
       "    .dataframe tbody tr th:only-of-type {\n",
       "        vertical-align: middle;\n",
       "    }\n",
       "\n",
       "    .dataframe tbody tr th {\n",
       "        vertical-align: top;\n",
       "    }\n",
       "\n",
       "    .dataframe thead th {\n",
       "        text-align: right;\n",
       "    }\n",
       "</style>\n",
       "<table border=\"1\" class=\"dataframe\">\n",
       "  <thead>\n",
       "    <tr style=\"text-align: right;\">\n",
       "      <th></th>\n",
       "      <th>really_suspicicious_cluster</th>\n",
       "      <th>is_airdrop_master</th>\n",
       "      <th>has_interaction_airdrop_m</th>\n",
       "    </tr>\n",
       "  </thead>\n",
       "  <tbody>\n",
       "    <tr>\n",
       "      <th>really_suspicicious_cluster</th>\n",
       "      <td>1.000000</td>\n",
       "      <td>0.018506</td>\n",
       "      <td>0.063042</td>\n",
       "    </tr>\n",
       "    <tr>\n",
       "      <th>is_airdrop_master</th>\n",
       "      <td>0.018506</td>\n",
       "      <td>1.000000</td>\n",
       "      <td>0.157018</td>\n",
       "    </tr>\n",
       "    <tr>\n",
       "      <th>has_interaction_airdrop_m</th>\n",
       "      <td>0.063042</td>\n",
       "      <td>0.157018</td>\n",
       "      <td>1.000000</td>\n",
       "    </tr>\n",
       "  </tbody>\n",
       "</table>\n",
       "</div>"
      ],
      "text/plain": [
       "                             really_suspicicious_cluster  is_airdrop_master   \n",
       "really_suspicicious_cluster                     1.000000           0.018506  \\\n",
       "is_airdrop_master                               0.018506           1.000000   \n",
       "has_interaction_airdrop_m                       0.063042           0.157018   \n",
       "\n",
       "                             has_interaction_airdrop_m  \n",
       "really_suspicicious_cluster                   0.063042  \n",
       "is_airdrop_master                             0.157018  \n",
       "has_interaction_airdrop_m                     1.000000  "
      ]
     },
     "execution_count": 124,
     "metadata": {},
     "output_type": "execute_result"
    }
   ],
   "source": [
    "jaccard_similarity.loc[['really_suspicicious_cluster', 'is_airdrop_master', 'has_interaction_airdrop_m'], ['really_suspicicious_cluster', 'is_airdrop_master', 'has_interaction_airdrop_m']]"
   ]
  },
  {
   "cell_type": "code",
   "execution_count": 121,
   "metadata": {},
   "outputs": [],
   "source": [
    "hamming_similarity = similarity_matrix(df_flag_address, metric='hamming')"
   ]
  },
  {
   "cell_type": "code",
   "execution_count": 125,
   "metadata": {},
   "outputs": [
    {
     "data": {
      "application/vnd.plotly.v1+json": {
       "config": {
        "plotlyServerURL": "https://plot.ly"
       },
       "data": [
        {
         "coloraxis": "coloraxis",
         "hovertemplate": "x: %{x}<br>y: %{y}<br>color: %{z}<extra></extra>",
         "name": "0",
         "type": "heatmap",
         "x": [
          "has_lcs",
          "has_interaction_toxic",
          "has_interaction_airdrop_m",
          "has_interaction_disperse",
          "is_airdrop_master",
          "interact_less_5tx",
          "flagged",
          "stakeridoo_detected",
          "doge_detected",
          "really_suspicicious_cluster",
          "odc_detected",
          "trusta",
          "gray",
          "or_flag"
         ],
         "xaxis": "x",
         "y": [
          "has_lcs",
          "has_interaction_toxic",
          "has_interaction_airdrop_m",
          "has_interaction_disperse",
          "is_airdrop_master",
          "interact_less_5tx",
          "flagged",
          "stakeridoo_detected",
          "doge_detected",
          "really_suspicicious_cluster",
          "odc_detected",
          "trusta",
          "gray",
          "or_flag"
         ],
         "yaxis": "y",
         "z": [
          [
           1,
           0.6916500427472214,
           0.5255058421202622,
           0.6811057281276718,
           0.48646337988030774,
           0.6831005984611,
           0.6580222285551439,
           0.6528925619834711,
           0.6910800797948133,
           0.4961527500712454,
           0.46024508406953546,
           0.5597036192647478,
           0.6090054146480479,
           0.3083499572527786
          ],
          [
           0.6916500427472214,
           1,
           0.8315759475634084,
           0.9894556853804503,
           0.792533485323454,
           0.9903106298090624,
           0.34967227130236533,
           0.9612425192362496,
           0.9994300370475919,
           0.7839840410373325,
           0.15189512681675688,
           0.8543744656597321,
           0.8803077799943004,
           0
          ],
          [
           0.5255058421202622,
           0.8315759475634084,
           1,
           0.8210316329438586,
           0.7261328013679111,
           0.823026503277287,
           0.518096323738957,
           0.7973781704189228,
           0.8315759475634084,
           0.6611570247933884,
           0.3203191792533485,
           0.7212881162724423,
           0.7118837275577088,
           0.16842405243659164
          ],
          [
           0.6811057281276718,
           0.9894556853804503,
           0.8210316329438586,
           1,
           0.7831290966087204,
           0.9797663151895126,
           0.3602165859219151,
           0.9506982046167,
           0.9888857224280422,
           0.7734397264177828,
           0.16243944143630662,
           0.8444001139925905,
           0.8697634653747506,
           0.010544314619549744
          ],
          [
           0.48646337988030774,
           0.792533485323454,
           0.7261328013679111,
           0.7831290966087204,
           1,
           0.7828441151325164,
           0.5571387859789114,
           0.7566258193217441,
           0.791963522371046,
           0.5919065260758051,
           0.35936164149330296,
           0.6594471359361642,
           0.6728412653177543,
           0.20746651467654598
          ],
          [
           0.6831005984611,
           0.9903106298090624,
           0.823026503277287,
           0.9797663151895126,
           0.7828441151325164,
           1,
           0.35936164149330296,
           0.9515531490453121,
           0.9897406668566543,
           0.7794243374180678,
           0.1615844970076945,
           0.8446850954687946,
           0.8706184098033628,
           0.00968937019093763
          ],
          [
           0.6580222285551439,
           0.34967227130236533,
           0.518096323738957,
           0.3602165859219151,
           0.5571387859789114,
           0.35936164149330296,
           1,
           0.31775434596751206,
           0.34967227130236533,
           0.21231119977201485,
           0.8022228555143915,
           0.25762325448845824,
           0.26702764320319183,
           0.6503277286976347
          ],
          [
           0.6528925619834711,
           0.9612425192362496,
           0.7973781704189228,
           0.9506982046167,
           0.7566258193217441,
           0.9515531490453121,
           0.31775434596751206,
           1,
           0.9606725562838415,
           0.7754345967512112,
           0.19065260758050728,
           0.8441151325163865,
           0.84155029923055,
           0.03875748076375041
          ],
          [
           0.6910800797948133,
           0.9994300370475919,
           0.8315759475634084,
           0.9888857224280422,
           0.791963522371046,
           0.9897406668566543,
           0.34967227130236533,
           0.9606725562838415,
           1,
           0.7834140780849245,
           0.15246508976916495,
           0.853804502707324,
           0.8797378170418922,
           0.0005699629524080763
          ],
          [
           0.4961527500712454,
           0.7839840410373325,
           0.6611570247933884,
           0.7734397264177828,
           0.5919065260758051,
           0.7794243374180678,
           0.21231119977201485,
           0.7754345967512112,
           0.7834140780849245,
           1,
           0.36791108577942433,
           0.7403818751781135,
           0.6728412653177543,
           0.21601595896266745
          ],
          [
           0.46024508406953546,
           0.15189512681675688,
           0.3203191792533485,
           0.16243944143630662,
           0.35936164149330296,
           0.1615844970076945,
           0.8022228555143915,
           0.19065260758050728,
           0.15246508976916495,
           0.36791108577942433,
           1,
           0.16015958962667431,
           0.07779994300370474,
           0.8481048731832431
          ],
          [
           0.5597036192647478,
           0.8543744656597321,
           0.7212881162724423,
           0.8444001139925905,
           0.6594471359361642,
           0.8446850954687946,
           0.25762325448845824,
           0.8441151325163865,
           0.853804502707324,
           0.7403818751781135,
           0.16015958962667431,
           1,
           0.7660302080364776,
           0.14562553434026793
          ],
          [
           0.6090054146480479,
           0.8803077799943004,
           0.7118837275577088,
           0.8697634653747506,
           0.6728412653177543,
           0.8706184098033628,
           0.26702764320319183,
           0.84155029923055,
           0.8797378170418922,
           0.6728412653177543,
           0.07779994300370474,
           0.7660302080364776,
           1,
           0.11969222000569968
          ],
          [
           0.3083499572527786,
           0,
           0.16842405243659164,
           0.010544314619549744,
           0.20746651467654598,
           0.00968937019093763,
           0.6503277286976347,
           0.03875748076375041,
           0.0005699629524080763,
           0.21601595896266745,
           0.8481048731832431,
           0.14562553434026793,
           0.11969222000569968,
           1
          ]
         ]
        }
       ],
       "layout": {
        "coloraxis": {
         "colorscale": [
          [
           0,
           "rgb(247,251,255)"
          ],
          [
           0.125,
           "rgb(222,235,247)"
          ],
          [
           0.25,
           "rgb(198,219,239)"
          ],
          [
           0.375,
           "rgb(158,202,225)"
          ],
          [
           0.5,
           "rgb(107,174,214)"
          ],
          [
           0.625,
           "rgb(66,146,198)"
          ],
          [
           0.75,
           "rgb(33,113,181)"
          ],
          [
           0.875,
           "rgb(8,81,156)"
          ],
          [
           1,
           "rgb(8,48,107)"
          ]
         ]
        },
        "margin": {
         "t": 60
        },
        "template": {
         "data": {
          "bar": [
           {
            "error_x": {
             "color": "#2a3f5f"
            },
            "error_y": {
             "color": "#2a3f5f"
            },
            "marker": {
             "line": {
              "color": "#E5ECF6",
              "width": 0.5
             },
             "pattern": {
              "fillmode": "overlay",
              "size": 10,
              "solidity": 0.2
             }
            },
            "type": "bar"
           }
          ],
          "barpolar": [
           {
            "marker": {
             "line": {
              "color": "#E5ECF6",
              "width": 0.5
             },
             "pattern": {
              "fillmode": "overlay",
              "size": 10,
              "solidity": 0.2
             }
            },
            "type": "barpolar"
           }
          ],
          "carpet": [
           {
            "aaxis": {
             "endlinecolor": "#2a3f5f",
             "gridcolor": "white",
             "linecolor": "white",
             "minorgridcolor": "white",
             "startlinecolor": "#2a3f5f"
            },
            "baxis": {
             "endlinecolor": "#2a3f5f",
             "gridcolor": "white",
             "linecolor": "white",
             "minorgridcolor": "white",
             "startlinecolor": "#2a3f5f"
            },
            "type": "carpet"
           }
          ],
          "choropleth": [
           {
            "colorbar": {
             "outlinewidth": 0,
             "ticks": ""
            },
            "type": "choropleth"
           }
          ],
          "contour": [
           {
            "colorbar": {
             "outlinewidth": 0,
             "ticks": ""
            },
            "colorscale": [
             [
              0,
              "#0d0887"
             ],
             [
              0.1111111111111111,
              "#46039f"
             ],
             [
              0.2222222222222222,
              "#7201a8"
             ],
             [
              0.3333333333333333,
              "#9c179e"
             ],
             [
              0.4444444444444444,
              "#bd3786"
             ],
             [
              0.5555555555555556,
              "#d8576b"
             ],
             [
              0.6666666666666666,
              "#ed7953"
             ],
             [
              0.7777777777777778,
              "#fb9f3a"
             ],
             [
              0.8888888888888888,
              "#fdca26"
             ],
             [
              1,
              "#f0f921"
             ]
            ],
            "type": "contour"
           }
          ],
          "contourcarpet": [
           {
            "colorbar": {
             "outlinewidth": 0,
             "ticks": ""
            },
            "type": "contourcarpet"
           }
          ],
          "heatmap": [
           {
            "colorbar": {
             "outlinewidth": 0,
             "ticks": ""
            },
            "colorscale": [
             [
              0,
              "#0d0887"
             ],
             [
              0.1111111111111111,
              "#46039f"
             ],
             [
              0.2222222222222222,
              "#7201a8"
             ],
             [
              0.3333333333333333,
              "#9c179e"
             ],
             [
              0.4444444444444444,
              "#bd3786"
             ],
             [
              0.5555555555555556,
              "#d8576b"
             ],
             [
              0.6666666666666666,
              "#ed7953"
             ],
             [
              0.7777777777777778,
              "#fb9f3a"
             ],
             [
              0.8888888888888888,
              "#fdca26"
             ],
             [
              1,
              "#f0f921"
             ]
            ],
            "type": "heatmap"
           }
          ],
          "heatmapgl": [
           {
            "colorbar": {
             "outlinewidth": 0,
             "ticks": ""
            },
            "colorscale": [
             [
              0,
              "#0d0887"
             ],
             [
              0.1111111111111111,
              "#46039f"
             ],
             [
              0.2222222222222222,
              "#7201a8"
             ],
             [
              0.3333333333333333,
              "#9c179e"
             ],
             [
              0.4444444444444444,
              "#bd3786"
             ],
             [
              0.5555555555555556,
              "#d8576b"
             ],
             [
              0.6666666666666666,
              "#ed7953"
             ],
             [
              0.7777777777777778,
              "#fb9f3a"
             ],
             [
              0.8888888888888888,
              "#fdca26"
             ],
             [
              1,
              "#f0f921"
             ]
            ],
            "type": "heatmapgl"
           }
          ],
          "histogram": [
           {
            "marker": {
             "pattern": {
              "fillmode": "overlay",
              "size": 10,
              "solidity": 0.2
             }
            },
            "type": "histogram"
           }
          ],
          "histogram2d": [
           {
            "colorbar": {
             "outlinewidth": 0,
             "ticks": ""
            },
            "colorscale": [
             [
              0,
              "#0d0887"
             ],
             [
              0.1111111111111111,
              "#46039f"
             ],
             [
              0.2222222222222222,
              "#7201a8"
             ],
             [
              0.3333333333333333,
              "#9c179e"
             ],
             [
              0.4444444444444444,
              "#bd3786"
             ],
             [
              0.5555555555555556,
              "#d8576b"
             ],
             [
              0.6666666666666666,
              "#ed7953"
             ],
             [
              0.7777777777777778,
              "#fb9f3a"
             ],
             [
              0.8888888888888888,
              "#fdca26"
             ],
             [
              1,
              "#f0f921"
             ]
            ],
            "type": "histogram2d"
           }
          ],
          "histogram2dcontour": [
           {
            "colorbar": {
             "outlinewidth": 0,
             "ticks": ""
            },
            "colorscale": [
             [
              0,
              "#0d0887"
             ],
             [
              0.1111111111111111,
              "#46039f"
             ],
             [
              0.2222222222222222,
              "#7201a8"
             ],
             [
              0.3333333333333333,
              "#9c179e"
             ],
             [
              0.4444444444444444,
              "#bd3786"
             ],
             [
              0.5555555555555556,
              "#d8576b"
             ],
             [
              0.6666666666666666,
              "#ed7953"
             ],
             [
              0.7777777777777778,
              "#fb9f3a"
             ],
             [
              0.8888888888888888,
              "#fdca26"
             ],
             [
              1,
              "#f0f921"
             ]
            ],
            "type": "histogram2dcontour"
           }
          ],
          "mesh3d": [
           {
            "colorbar": {
             "outlinewidth": 0,
             "ticks": ""
            },
            "type": "mesh3d"
           }
          ],
          "parcoords": [
           {
            "line": {
             "colorbar": {
              "outlinewidth": 0,
              "ticks": ""
             }
            },
            "type": "parcoords"
           }
          ],
          "pie": [
           {
            "automargin": true,
            "type": "pie"
           }
          ],
          "scatter": [
           {
            "fillpattern": {
             "fillmode": "overlay",
             "size": 10,
             "solidity": 0.2
            },
            "type": "scatter"
           }
          ],
          "scatter3d": [
           {
            "line": {
             "colorbar": {
              "outlinewidth": 0,
              "ticks": ""
             }
            },
            "marker": {
             "colorbar": {
              "outlinewidth": 0,
              "ticks": ""
             }
            },
            "type": "scatter3d"
           }
          ],
          "scattercarpet": [
           {
            "marker": {
             "colorbar": {
              "outlinewidth": 0,
              "ticks": ""
             }
            },
            "type": "scattercarpet"
           }
          ],
          "scattergeo": [
           {
            "marker": {
             "colorbar": {
              "outlinewidth": 0,
              "ticks": ""
             }
            },
            "type": "scattergeo"
           }
          ],
          "scattergl": [
           {
            "marker": {
             "colorbar": {
              "outlinewidth": 0,
              "ticks": ""
             }
            },
            "type": "scattergl"
           }
          ],
          "scattermapbox": [
           {
            "marker": {
             "colorbar": {
              "outlinewidth": 0,
              "ticks": ""
             }
            },
            "type": "scattermapbox"
           }
          ],
          "scatterpolar": [
           {
            "marker": {
             "colorbar": {
              "outlinewidth": 0,
              "ticks": ""
             }
            },
            "type": "scatterpolar"
           }
          ],
          "scatterpolargl": [
           {
            "marker": {
             "colorbar": {
              "outlinewidth": 0,
              "ticks": ""
             }
            },
            "type": "scatterpolargl"
           }
          ],
          "scatterternary": [
           {
            "marker": {
             "colorbar": {
              "outlinewidth": 0,
              "ticks": ""
             }
            },
            "type": "scatterternary"
           }
          ],
          "surface": [
           {
            "colorbar": {
             "outlinewidth": 0,
             "ticks": ""
            },
            "colorscale": [
             [
              0,
              "#0d0887"
             ],
             [
              0.1111111111111111,
              "#46039f"
             ],
             [
              0.2222222222222222,
              "#7201a8"
             ],
             [
              0.3333333333333333,
              "#9c179e"
             ],
             [
              0.4444444444444444,
              "#bd3786"
             ],
             [
              0.5555555555555556,
              "#d8576b"
             ],
             [
              0.6666666666666666,
              "#ed7953"
             ],
             [
              0.7777777777777778,
              "#fb9f3a"
             ],
             [
              0.8888888888888888,
              "#fdca26"
             ],
             [
              1,
              "#f0f921"
             ]
            ],
            "type": "surface"
           }
          ],
          "table": [
           {
            "cells": {
             "fill": {
              "color": "#EBF0F8"
             },
             "line": {
              "color": "white"
             }
            },
            "header": {
             "fill": {
              "color": "#C8D4E3"
             },
             "line": {
              "color": "white"
             }
            },
            "type": "table"
           }
          ]
         },
         "layout": {
          "annotationdefaults": {
           "arrowcolor": "#2a3f5f",
           "arrowhead": 0,
           "arrowwidth": 1
          },
          "autotypenumbers": "strict",
          "coloraxis": {
           "colorbar": {
            "outlinewidth": 0,
            "ticks": ""
           }
          },
          "colorscale": {
           "diverging": [
            [
             0,
             "#8e0152"
            ],
            [
             0.1,
             "#c51b7d"
            ],
            [
             0.2,
             "#de77ae"
            ],
            [
             0.3,
             "#f1b6da"
            ],
            [
             0.4,
             "#fde0ef"
            ],
            [
             0.5,
             "#f7f7f7"
            ],
            [
             0.6,
             "#e6f5d0"
            ],
            [
             0.7,
             "#b8e186"
            ],
            [
             0.8,
             "#7fbc41"
            ],
            [
             0.9,
             "#4d9221"
            ],
            [
             1,
             "#276419"
            ]
           ],
           "sequential": [
            [
             0,
             "#0d0887"
            ],
            [
             0.1111111111111111,
             "#46039f"
            ],
            [
             0.2222222222222222,
             "#7201a8"
            ],
            [
             0.3333333333333333,
             "#9c179e"
            ],
            [
             0.4444444444444444,
             "#bd3786"
            ],
            [
             0.5555555555555556,
             "#d8576b"
            ],
            [
             0.6666666666666666,
             "#ed7953"
            ],
            [
             0.7777777777777778,
             "#fb9f3a"
            ],
            [
             0.8888888888888888,
             "#fdca26"
            ],
            [
             1,
             "#f0f921"
            ]
           ],
           "sequentialminus": [
            [
             0,
             "#0d0887"
            ],
            [
             0.1111111111111111,
             "#46039f"
            ],
            [
             0.2222222222222222,
             "#7201a8"
            ],
            [
             0.3333333333333333,
             "#9c179e"
            ],
            [
             0.4444444444444444,
             "#bd3786"
            ],
            [
             0.5555555555555556,
             "#d8576b"
            ],
            [
             0.6666666666666666,
             "#ed7953"
            ],
            [
             0.7777777777777778,
             "#fb9f3a"
            ],
            [
             0.8888888888888888,
             "#fdca26"
            ],
            [
             1,
             "#f0f921"
            ]
           ]
          },
          "colorway": [
           "#636efa",
           "#EF553B",
           "#00cc96",
           "#ab63fa",
           "#FFA15A",
           "#19d3f3",
           "#FF6692",
           "#B6E880",
           "#FF97FF",
           "#FECB52"
          ],
          "font": {
           "color": "#2a3f5f"
          },
          "geo": {
           "bgcolor": "white",
           "lakecolor": "white",
           "landcolor": "#E5ECF6",
           "showlakes": true,
           "showland": true,
           "subunitcolor": "white"
          },
          "hoverlabel": {
           "align": "left"
          },
          "hovermode": "closest",
          "mapbox": {
           "style": "light"
          },
          "paper_bgcolor": "white",
          "plot_bgcolor": "#E5ECF6",
          "polar": {
           "angularaxis": {
            "gridcolor": "white",
            "linecolor": "white",
            "ticks": ""
           },
           "bgcolor": "#E5ECF6",
           "radialaxis": {
            "gridcolor": "white",
            "linecolor": "white",
            "ticks": ""
           }
          },
          "scene": {
           "xaxis": {
            "backgroundcolor": "#E5ECF6",
            "gridcolor": "white",
            "gridwidth": 2,
            "linecolor": "white",
            "showbackground": true,
            "ticks": "",
            "zerolinecolor": "white"
           },
           "yaxis": {
            "backgroundcolor": "#E5ECF6",
            "gridcolor": "white",
            "gridwidth": 2,
            "linecolor": "white",
            "showbackground": true,
            "ticks": "",
            "zerolinecolor": "white"
           },
           "zaxis": {
            "backgroundcolor": "#E5ECF6",
            "gridcolor": "white",
            "gridwidth": 2,
            "linecolor": "white",
            "showbackground": true,
            "ticks": "",
            "zerolinecolor": "white"
           }
          },
          "shapedefaults": {
           "line": {
            "color": "#2a3f5f"
           }
          },
          "ternary": {
           "aaxis": {
            "gridcolor": "white",
            "linecolor": "white",
            "ticks": ""
           },
           "baxis": {
            "gridcolor": "white",
            "linecolor": "white",
            "ticks": ""
           },
           "bgcolor": "#E5ECF6",
           "caxis": {
            "gridcolor": "white",
            "linecolor": "white",
            "ticks": ""
           }
          },
          "title": {
           "x": 0.05
          },
          "xaxis": {
           "automargin": true,
           "gridcolor": "white",
           "linecolor": "white",
           "ticks": "",
           "title": {
            "standoff": 15
           },
           "zerolinecolor": "white",
           "zerolinewidth": 2
          },
          "yaxis": {
           "automargin": true,
           "gridcolor": "white",
           "linecolor": "white",
           "ticks": "",
           "title": {
            "standoff": 15
           },
           "zerolinecolor": "white",
           "zerolinewidth": 2
          }
         }
        },
        "xaxis": {
         "anchor": "y",
         "constrain": "domain",
         "domain": [
          0,
          1
         ],
         "scaleanchor": "y"
        },
        "yaxis": {
         "anchor": "x",
         "autorange": "reversed",
         "constrain": "domain",
         "domain": [
          0,
          1
         ]
        }
       }
      }
     },
     "metadata": {},
     "output_type": "display_data"
    }
   ],
   "source": [
    "fig = px.imshow(hamming_similarity, color_continuous_scale='Blues')\n",
    "fig.show()"
   ]
  },
  {
   "cell_type": "code",
   "execution_count": 123,
   "metadata": {},
   "outputs": [
    {
     "data": {
      "text/html": [
       "<div>\n",
       "<style scoped>\n",
       "    .dataframe tbody tr th:only-of-type {\n",
       "        vertical-align: middle;\n",
       "    }\n",
       "\n",
       "    .dataframe tbody tr th {\n",
       "        vertical-align: top;\n",
       "    }\n",
       "\n",
       "    .dataframe thead th {\n",
       "        text-align: right;\n",
       "    }\n",
       "</style>\n",
       "<table border=\"1\" class=\"dataframe\">\n",
       "  <thead>\n",
       "    <tr style=\"text-align: right;\">\n",
       "      <th></th>\n",
       "      <th>really_suspicicious_cluster</th>\n",
       "      <th>is_airdrop_master</th>\n",
       "      <th>has_interaction_airdrop_m</th>\n",
       "    </tr>\n",
       "  </thead>\n",
       "  <tbody>\n",
       "    <tr>\n",
       "      <th>really_suspicicious_cluster</th>\n",
       "      <td>1.000000</td>\n",
       "      <td>0.591907</td>\n",
       "      <td>0.661157</td>\n",
       "    </tr>\n",
       "    <tr>\n",
       "      <th>is_airdrop_master</th>\n",
       "      <td>0.591907</td>\n",
       "      <td>1.000000</td>\n",
       "      <td>0.726133</td>\n",
       "    </tr>\n",
       "    <tr>\n",
       "      <th>has_interaction_airdrop_m</th>\n",
       "      <td>0.661157</td>\n",
       "      <td>0.726133</td>\n",
       "      <td>1.000000</td>\n",
       "    </tr>\n",
       "  </tbody>\n",
       "</table>\n",
       "</div>"
      ],
      "text/plain": [
       "                             really_suspicicious_cluster  is_airdrop_master   \n",
       "really_suspicicious_cluster                     1.000000           0.591907  \\\n",
       "is_airdrop_master                               0.591907           1.000000   \n",
       "has_interaction_airdrop_m                       0.661157           0.726133   \n",
       "\n",
       "                             has_interaction_airdrop_m  \n",
       "really_suspicicious_cluster                   0.661157  \n",
       "is_airdrop_master                             0.726133  \n",
       "has_interaction_airdrop_m                     1.000000  "
      ]
     },
     "execution_count": 123,
     "metadata": {},
     "output_type": "execute_result"
    }
   ],
   "source": [
    "hamming_similarity.loc[['really_suspicicious_cluster', 'is_airdrop_master', 'has_interaction_airdrop_m'], ['really_suspicicious_cluster', 'is_airdrop_master', 'has_interaction_airdrop_m']]"
   ]
  }
 ],
 "metadata": {
  "kernelspec": {
   "display_name": "venvVotesUpdate",
   "language": "python",
   "name": "python3"
  },
  "language_info": {
   "codemirror_mode": {
    "name": "ipython",
    "version": 3
   },
   "file_extension": ".py",
   "mimetype": "text/x-python",
   "name": "python",
   "nbconvert_exporter": "python",
   "pygments_lexer": "ipython3",
   "version": "3.10.9"
  },
  "orig_nbformat": 4
 },
 "nbformat": 4,
 "nbformat_minor": 2
}
