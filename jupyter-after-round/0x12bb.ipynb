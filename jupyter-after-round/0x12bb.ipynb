{
 "cells": [
  {
   "attachments": {},
   "cell_type": "markdown",
   "metadata": {},
   "source": [
    "# vote_coefficients_0x12BB5bBbFE596dbc489d209299B8302c3300fa40_4\n"
   ]
  },
  {
   "cell_type": "code",
   "execution_count": 1,
   "metadata": {},
   "outputs": [
    {
     "name": "stderr",
     "output_type": "stream",
     "text": [
      "C:\\Users\\DELL Admin\\AppData\\Local\\Temp\\ipykernel_15020\\1947096817.py:26: DtypeWarning: Columns (7) have mixed types. Specify dtype option on import or set low_memory=False.\n",
      "  df_votes = pd.read_csv(PATH_TO_VOTES_GITCOIN)\n"
     ]
    }
   ],
   "source": [
    "import os\n",
    "from pathlib import Path\n",
    "import numpy as np\n",
    "\n",
    "import pandas as pd\n",
    "\n",
    "from sbdata.FlipsideApi import FlipsideApi\n",
    "\n",
    "# Set path to data folder\n",
    "current_dir = Path(os.getcwd())\n",
    "PATH_TO_EXPORT = os.path.join(current_dir.parent.parent, 'tx_data', 'all_beta_rounds')\n",
    "DATA_DIR = os.path.join(current_dir.parent.parent, 'data-regen-rangers')\n",
    "DATA_DIR_GITCOIN = os.path.join(current_dir.parent.parent, 'data-gitcoin')\n",
    "CSV_GITCOIN_GRANTS = 'vote_coefficients_0x12BB5bBbFE596dbc489d209299B8302c3300fa40_4.csv'\n",
    "\n",
    "# read the address from oss grant\n",
    "\n",
    "api_key = os.environ['FLIPSIDE_API_KEY']\n",
    "flipside_api = FlipsideApi(api_key, max_address=400)\n",
    "PATH_TO_VOTES = os.path.join(DATA_DIR, \"votes_baoki.csv\")\n",
    "PATH_TO_GRANTS = os.path.join(DATA_DIR, \"all-allo-rounds.csv\")\n",
    "PATH_TO_PROJECTS = os.path.join(DATA_DIR, \"projects_QmQurt.csv\")\n",
    "PATH_TO_VOTES_GITCOIN = os.path.join(DATA_DIR_GITCOIN, CSV_GITCOIN_GRANTS)\n",
    "\n",
    "# load data\n",
    "df_votes = pd.read_csv(PATH_TO_VOTES_GITCOIN)\n",
    "df_grants = pd.read_csv(PATH_TO_GRANTS)\n",
    "df_application = pd.read_csv(PATH_TO_PROJECTS)\n",
    "# Lowercase all addresses because flipside api return lowercase address\n",
    "#id,projectId,applicationId,roundId,token,voter,grantAddress,amount,amountUSD,coefficient,status,last_score_timestamp,type,success,rawScore,threshold\n",
    "df_grants['Round ID'] = df_grants['Round ID'].str.lower()\n",
    "str_columns_votes = ['id', 'projectId', 'roundId', 'voter', 'grantAddress']\n",
    "df_votes[str_columns_votes] = df_votes[str_columns_votes].applymap(lambda x: x.lower())\n",
    "\n",
    "str_columns_application = ['id', 'roundId', 'metadata.application.round', 'metadata.application.recipient']\n",
    "df_application[str_columns_application] = df_application[str_columns_application].applymap(lambda x: str(x).lower())\n",
    "\n",
    "# round_id = df_grants[df_grants['Round name'] == 'Web3 Community and Education']['Round ID'].values[0]\n",
    "array_unique_address = df_votes['voter'].unique()\n",
    "\n",
    "array_unique_address = np.char.lower(array_unique_address.astype(str))\n"
   ]
  },
  {
   "cell_type": "code",
   "execution_count": 2,
   "metadata": {},
   "outputs": [],
   "source": [
    "from sbutils import LoadData\n",
    "\n",
    "# Load data\n",
    "data_loader = LoadData.LoadData(PATH_TO_EXPORT)\n",
    "df_tx = data_loader.create_df_tx('ethereum', array_unique_address)"
   ]
  },
  {
   "cell_type": "code",
   "execution_count": 3,
   "metadata": {},
   "outputs": [
    {
     "data": {
      "text/plain": [
       "14554"
      ]
     },
     "execution_count": 3,
     "metadata": {},
     "output_type": "execute_result"
    }
   ],
   "source": [
    "len(array_unique_address)"
   ]
  },
  {
   "cell_type": "code",
   "execution_count": 4,
   "metadata": {},
   "outputs": [
    {
     "data": {
      "text/plain": [
       "14554"
      ]
     },
     "execution_count": 4,
     "metadata": {},
     "output_type": "execute_result"
    }
   ],
   "source": [
    "df_tx.EOA.nunique()"
   ]
  },
  {
   "cell_type": "code",
   "execution_count": 5,
   "metadata": {},
   "outputs": [
    {
     "data": {
      "text/plain": [
       "array([], dtype=object)"
      ]
     },
     "execution_count": 5,
     "metadata": {},
     "output_type": "execute_result"
    }
   ],
   "source": [
    "c = np.setxor1d(array_unique_address, df_tx.EOA.values)\n",
    "c"
   ]
  },
  {
   "attachments": {},
   "cell_type": "markdown",
   "metadata": {},
   "source": [
    "## Computing legos booleans"
   ]
  },
  {
   "cell_type": "code",
   "execution_count": 6,
   "metadata": {},
   "outputs": [],
   "source": [
    "from sblegos.TransactionAnalyser import TransactionAnalyser as txa\n",
    "tx_analyser = txa(df_tx, df_address=pd.DataFrame(np.intersect1d(df_tx.EOA.unique(), array_unique_address)))"
   ]
  },
  {
   "attachments": {},
   "cell_type": "markdown",
   "metadata": {},
   "source": [
    "use matching address because some addresses are not in the extracted data set"
   ]
  },
  {
   "cell_type": "code",
   "execution_count": 7,
   "metadata": {},
   "outputs": [
    {
     "data": {
      "text/html": [
       "<div>\n",
       "<style scoped>\n",
       "    .dataframe tbody tr th:only-of-type {\n",
       "        vertical-align: middle;\n",
       "    }\n",
       "\n",
       "    .dataframe tbody tr th {\n",
       "        vertical-align: top;\n",
       "    }\n",
       "\n",
       "    .dataframe thead th {\n",
       "        text-align: right;\n",
       "    }\n",
       "</style>\n",
       "<table border=\"1\" class=\"dataframe\">\n",
       "  <thead>\n",
       "    <tr style=\"text-align: right;\">\n",
       "      <th></th>\n",
       "      <th>address</th>\n",
       "    </tr>\n",
       "  </thead>\n",
       "  <tbody>\n",
       "    <tr>\n",
       "      <th>0</th>\n",
       "      <td>0x00000000037a08ce8c4917a5c58f40c85367df0c</td>\n",
       "    </tr>\n",
       "    <tr>\n",
       "      <th>1</th>\n",
       "      <td>0x00000001985c6a08963eef53821c78aa84318b42</td>\n",
       "    </tr>\n",
       "  </tbody>\n",
       "</table>\n",
       "</div>"
      ],
      "text/plain": [
       "                                      address\n",
       "0  0x00000000037a08ce8c4917a5c58f40c85367df0c\n",
       "1  0x00000001985c6a08963eef53821c78aa84318b42"
      ]
     },
     "execution_count": 7,
     "metadata": {},
     "output_type": "execute_result"
    }
   ],
   "source": [
    "df_matching_address = pd.DataFrame(df_tx.EOA.unique(), columns=[\"address\"])\n",
    "df_matching_address.head(2)"
   ]
  },
  {
   "attachments": {},
   "cell_type": "markdown",
   "metadata": {},
   "source": [
    "Compute the boolean "
   ]
  },
  {
   "attachments": {},
   "cell_type": "markdown",
   "metadata": {},
   "source": [
    "less than 10 x transaction are not performant legos so we don't use it, has same seed is computed as an intermediarry to get the seed_suspicious flag"
   ]
  },
  {
   "cell_type": "code",
   "execution_count": 8,
   "metadata": {},
   "outputs": [],
   "source": [
    "df_matching_address['seed_same_naive'] = df_matching_address.loc[:, 'address'].apply(lambda x : tx_analyser.has_same_seed_naive(x))\n",
    "df_matching_address['seed_same'] = df_matching_address.loc[:, 'address'].apply(lambda x : tx_analyser.has_same_seed(x))\n",
    "df_matching_address['seed_suspicious'] = df_matching_address.loc[:, 'seed_same_naive'].ne(df_matching_address.loc[:, 'seed_same'])\n",
    "df_matching_address['less_5_tx'] = df_matching_address.loc[:, 'address'].apply(lambda x : tx_analyser.has_less_than_n_transactions(x, 5))\n",
    "# df_matching_address['less_10_tx'] = df_matching_address.loc[:, 'address'].apply(lambda x : tx_analyser.has_less_than_n_transactions(x, 10))\n",
    "df_matching_address['interacted_other_ctbt'] = df_matching_address.loc[:, 'address'].apply(lambda x : tx_analyser.has_interacted_with_other_contributor(x))"
   ]
  },
  {
   "cell_type": "code",
   "execution_count": 9,
   "metadata": {},
   "outputs": [
    {
     "name": "stdout",
     "output_type": "stream",
     "text": [
      "Number of voters: 14554\n"
     ]
    }
   ],
   "source": [
    "print(f'Number of voters: {len(df_matching_address)}')"
   ]
  },
  {
   "cell_type": "code",
   "execution_count": 10,
   "metadata": {},
   "outputs": [
    {
     "data": {
      "text/plain": [
       "address                  0x00000000037a08ce8c4917a5c58f40c85367df0c0x00...\n",
       "seed_same_naive                                                      10325\n",
       "seed_same                                                            10758\n",
       "seed_suspicious                                                        489\n",
       "less_5_tx                                                              229\n",
       "interacted_other_ctbt                                                 3994\n",
       "dtype: object"
      ]
     },
     "execution_count": 10,
     "metadata": {},
     "output_type": "execute_result"
    }
   ],
   "source": [
    "df_matching_address.sum()"
   ]
  },
  {
   "attachments": {},
   "cell_type": "markdown",
   "metadata": {},
   "source": [
    "### Investigating the boolean seed suspicious"
   ]
  },
  {
   "cell_type": "code",
   "execution_count": 11,
   "metadata": {},
   "outputs": [
    {
     "data": {
      "text/html": [
       "<div>\n",
       "<style scoped>\n",
       "    .dataframe tbody tr th:only-of-type {\n",
       "        vertical-align: middle;\n",
       "    }\n",
       "\n",
       "    .dataframe tbody tr th {\n",
       "        vertical-align: top;\n",
       "    }\n",
       "\n",
       "    .dataframe thead th {\n",
       "        text-align: right;\n",
       "    }\n",
       "</style>\n",
       "<table border=\"1\" class=\"dataframe\">\n",
       "  <thead>\n",
       "    <tr style=\"text-align: right;\">\n",
       "      <th></th>\n",
       "      <th>address</th>\n",
       "      <th>seed_same_naive</th>\n",
       "      <th>seed_same</th>\n",
       "      <th>seed_suspicious</th>\n",
       "      <th>less_5_tx</th>\n",
       "      <th>interacted_other_ctbt</th>\n",
       "    </tr>\n",
       "  </thead>\n",
       "  <tbody>\n",
       "    <tr>\n",
       "      <th>42</th>\n",
       "      <td>0x006970fd32059734e586a323b13fc1ce625f296b</td>\n",
       "      <td>False</td>\n",
       "      <td>True</td>\n",
       "      <td>True</td>\n",
       "      <td>False</td>\n",
       "      <td>False</td>\n",
       "    </tr>\n",
       "    <tr>\n",
       "      <th>43</th>\n",
       "      <td>0x006ad7df1dfad4af7d182b9598a294d7c601488b</td>\n",
       "      <td>False</td>\n",
       "      <td>True</td>\n",
       "      <td>True</td>\n",
       "      <td>False</td>\n",
       "      <td>False</td>\n",
       "    </tr>\n",
       "    <tr>\n",
       "      <th>60</th>\n",
       "      <td>0x00bb8b005d090b6a59aa5c9550f3f9629edb18bf</td>\n",
       "      <td>False</td>\n",
       "      <td>True</td>\n",
       "      <td>True</td>\n",
       "      <td>False</td>\n",
       "      <td>False</td>\n",
       "    </tr>\n",
       "    <tr>\n",
       "      <th>61</th>\n",
       "      <td>0x00bf528c0e7ce508e6c20642fdae6b8728e4122b</td>\n",
       "      <td>False</td>\n",
       "      <td>True</td>\n",
       "      <td>True</td>\n",
       "      <td>False</td>\n",
       "      <td>True</td>\n",
       "    </tr>\n",
       "    <tr>\n",
       "      <th>97</th>\n",
       "      <td>0x0150c608a25176c08d9bc8b43d0dc64e4c9f4a58</td>\n",
       "      <td>False</td>\n",
       "      <td>True</td>\n",
       "      <td>True</td>\n",
       "      <td>False</td>\n",
       "      <td>False</td>\n",
       "    </tr>\n",
       "    <tr>\n",
       "      <th>...</th>\n",
       "      <td>...</td>\n",
       "      <td>...</td>\n",
       "      <td>...</td>\n",
       "      <td>...</td>\n",
       "      <td>...</td>\n",
       "      <td>...</td>\n",
       "    </tr>\n",
       "    <tr>\n",
       "      <th>14488</th>\n",
       "      <td>0xfeeda41a603ea7da0b8638ac885be0b2399b4b29</td>\n",
       "      <td>False</td>\n",
       "      <td>True</td>\n",
       "      <td>True</td>\n",
       "      <td>False</td>\n",
       "      <td>False</td>\n",
       "    </tr>\n",
       "    <tr>\n",
       "      <th>14495</th>\n",
       "      <td>0xff17b13fde1b3738b473d24ca640379f8e163738</td>\n",
       "      <td>False</td>\n",
       "      <td>True</td>\n",
       "      <td>True</td>\n",
       "      <td>False</td>\n",
       "      <td>False</td>\n",
       "    </tr>\n",
       "    <tr>\n",
       "      <th>14525</th>\n",
       "      <td>0xff938bd81c2671c28caf920d8015bad9fb816d59</td>\n",
       "      <td>False</td>\n",
       "      <td>True</td>\n",
       "      <td>True</td>\n",
       "      <td>False</td>\n",
       "      <td>True</td>\n",
       "    </tr>\n",
       "    <tr>\n",
       "      <th>14531</th>\n",
       "      <td>0xffa95c8ea548c484e0c40d5e985237db070d6211</td>\n",
       "      <td>False</td>\n",
       "      <td>True</td>\n",
       "      <td>True</td>\n",
       "      <td>False</td>\n",
       "      <td>False</td>\n",
       "    </tr>\n",
       "    <tr>\n",
       "      <th>14545</th>\n",
       "      <td>0xffd066a3438e2c61e456cfc5841c9179c9c0f599</td>\n",
       "      <td>False</td>\n",
       "      <td>True</td>\n",
       "      <td>True</td>\n",
       "      <td>False</td>\n",
       "      <td>False</td>\n",
       "    </tr>\n",
       "  </tbody>\n",
       "</table>\n",
       "<p>489 rows × 6 columns</p>\n",
       "</div>"
      ],
      "text/plain": [
       "                                          address  seed_same_naive  seed_same   \n",
       "42     0x006970fd32059734e586a323b13fc1ce625f296b            False       True  \\\n",
       "43     0x006ad7df1dfad4af7d182b9598a294d7c601488b            False       True   \n",
       "60     0x00bb8b005d090b6a59aa5c9550f3f9629edb18bf            False       True   \n",
       "61     0x00bf528c0e7ce508e6c20642fdae6b8728e4122b            False       True   \n",
       "97     0x0150c608a25176c08d9bc8b43d0dc64e4c9f4a58            False       True   \n",
       "...                                           ...              ...        ...   \n",
       "14488  0xfeeda41a603ea7da0b8638ac885be0b2399b4b29            False       True   \n",
       "14495  0xff17b13fde1b3738b473d24ca640379f8e163738            False       True   \n",
       "14525  0xff938bd81c2671c28caf920d8015bad9fb816d59            False       True   \n",
       "14531  0xffa95c8ea548c484e0c40d5e985237db070d6211            False       True   \n",
       "14545  0xffd066a3438e2c61e456cfc5841c9179c9c0f599            False       True   \n",
       "\n",
       "       seed_suspicious  less_5_tx  interacted_other_ctbt  \n",
       "42                True      False                  False  \n",
       "43                True      False                  False  \n",
       "60                True      False                  False  \n",
       "61                True      False                   True  \n",
       "97                True      False                  False  \n",
       "...                ...        ...                    ...  \n",
       "14488             True      False                  False  \n",
       "14495             True      False                  False  \n",
       "14525             True      False                   True  \n",
       "14531             True      False                  False  \n",
       "14545             True      False                  False  \n",
       "\n",
       "[489 rows x 6 columns]"
      ]
     },
     "execution_count": 11,
     "metadata": {},
     "output_type": "execute_result"
    }
   ],
   "source": [
    "df_matching_address[df_matching_address['seed_suspicious'] == True]"
   ]
  },
  {
   "cell_type": "code",
   "execution_count": 12,
   "metadata": {},
   "outputs": [],
   "source": [
    "# projects_voted = df_votes[df_votes['voter'] == '0xc28064b875ae25f9a2ca28c08f116a5c26229f69']\n",
    "# print(f'Number of votes {projects_voted.shape[0]} Number of projects voted: {projects_voted.grantAddress.nunique()}')\n",
    "# # Merge the project the user voted for and the projects \n",
    "# projects_voted.merge(df_application, left_on='grantAddress', right_on='metadata.application.recipient', how='left').drop_duplicates(subset='grantAddress').loc[:, ['grantAddress', 'metadata.application.project.title', 'status', 'metadata.application.round']].reset_index(drop=True)"
   ]
  },
  {
   "attachments": {},
   "cell_type": "markdown",
   "metadata": {},
   "source": [
    "Some of the projects he donated to are in the list of Rejected projects showing that this address is indeed a sybil. And may have contributed to ohter fraudulent projects."
   ]
  },
  {
   "attachments": {},
   "cell_type": "markdown",
   "metadata": {},
   "source": [
    "- Pulsar is not very active and is forked code for the most part\n",
    "- Fusion not very active on github but has a lot of activity on twitter \n",
    "- Share suspicious Github with no activity, twitter does not exists: suspicious\n",
    "\n",
    "Other projects are ok"
   ]
  },
  {
   "cell_type": "code",
   "execution_count": 13,
   "metadata": {},
   "outputs": [],
   "source": [
    "# projects_voted = df_votes[df_votes['voter'] == '0x61ffe691821291d02e9ba5d33098adcee71a3a17']\n",
    "# print(f'Number of votes {projects_voted.shape[0]} Number of projects voted: {projects_voted.grantAddress.nunique()}')\n",
    "# # Merge the project the user voted for and the projects \n",
    "# projects_voted.merge(df_application, left_on='grantAddress', right_on='metadata.application.recipient', how='left').drop_duplicates(subset='grantAddress').loc[:, ['grantAddress', 'metadata.application.project.title']].reset_index(drop=True)"
   ]
  },
  {
   "cell_type": "code",
   "execution_count": 14,
   "metadata": {},
   "outputs": [],
   "source": [
    "# projects_voted = df_votes[df_votes['voter'] == '0xe51200a4d161935fc311ed8a0401feb1abf20e3a']\n",
    "# print(f'Number of votes {projects_voted.shape[0]} Number of projects voted: {projects_voted.grantAddress.nunique()}')\n",
    "# # Merge the project the user voted for and the projects \n",
    "# projects_voted.merge(df_application, left_on='grantAddress', right_on='metadata.application.recipient', how='left').drop_duplicates(subset='grantAddress').loc[:, ['grantAddress', 'metadata.application.project.title']].reset_index(drop=True)"
   ]
  },
  {
   "attachments": {},
   "cell_type": "markdown",
   "metadata": {},
   "source": [
    "The boolean seed suspicious is not relevant for that round we will not use it for the analysis."
   ]
  },
  {
   "attachments": {},
   "cell_type": "markdown",
   "metadata": {},
   "source": [
    "### Computing the new dex interaction score\n",
    "It was investigated in another notebook "
   ]
  },
  {
   "cell_type": "code",
   "execution_count": 15,
   "metadata": {},
   "outputs": [],
   "source": [
    "def get_interacted_address(from_address, to_address, address):\n",
    "    if from_address == address:\n",
    "        return to_address\n",
    "    else:\n",
    "        return from_address\n",
    "\n",
    "def count_interaction_with_any(tx_analyser, address, array_address):\n",
    "    \"\"\"\n",
    "    Return an integer of the number of interactions with the addresses in the array_address\n",
    "    Parameters\n",
    "    ----------\n",
    "    address : str\n",
    "        The address to check\n",
    "\n",
    "    Returns\n",
    "    -------\n",
    "    count_interaction_with_any : int\n",
    "        The number of interactions with the addresses in the array_address\n",
    "    \"\"\"\n",
    "    tx_analyser.set_group_by_sorted_EOA()\n",
    "\n",
    "    df = tx_analyser.gb_EOA_sorted.get_group(address)\n",
    "    address_interacted = df.apply(lambda x: get_interacted_address(x['from_address'], x['to_address'], address), axis=1)\n",
    "    tx_boolean_interacted = address_interacted.isin(array_address)\n",
    "    return tx_boolean_interacted.sum()\n",
    "\n",
    "def has_interacted_with_any(tx_analyser, address, array_address):\n",
    "    \"\"\"\n",
    "    Return a boolean whether the address has interacted with any address in the array_address\n",
    "    Parameters\n",
    "    ----------\n",
    "    address : str\n",
    "        The address to check\n",
    "\n",
    "    Returns\n",
    "    -------\n",
    "    has_interacted_with_any : bool\n",
    "        True if the address has interacted with one or more of the addresses in the array_address\n",
    "    \"\"\"\n",
    "    count_interaction_with_any = count_interaction_with_any(tx_analyser, address, array_address)\n",
    "    return count_interaction_with_any > 0"
   ]
  },
  {
   "cell_type": "code",
   "execution_count": 16,
   "metadata": {},
   "outputs": [],
   "source": [
    "label_query = '''\n",
    "SELECT ADDRESS, CREATOR, LABEL_TYPE, ADDRESS_NAME, PROJECT_NAME\n",
    "FROM crosschain.core.address_labels \n",
    "WHERE BLOCKCHAIN='ethereum'\n",
    "AND LABEL_SUBTYPE = 'pool' \n",
    ";'''\n",
    "df_label = flipside_api.execute_query(label_query)"
   ]
  },
  {
   "cell_type": "code",
   "execution_count": 17,
   "metadata": {},
   "outputs": [],
   "source": [
    "# extract all the pool addresses\n",
    "array_pool_address = df_label['address'].unique()"
   ]
  },
  {
   "cell_type": "code",
   "execution_count": 18,
   "metadata": {},
   "outputs": [],
   "source": [
    "tx_analyser.set_group_by_sorted_EOA()"
   ]
  },
  {
   "cell_type": "code",
   "execution_count": 19,
   "metadata": {},
   "outputs": [],
   "source": [
    "# Compute the number of interactions with any of the pools for each address\n",
    "df_matching_address['count_interaction_with_pool'] = df_matching_address['address'].apply(lambda x: count_interaction_with_any(tx_analyser, x, array_pool_address))"
   ]
  },
  {
   "cell_type": "code",
   "execution_count": 20,
   "metadata": {},
   "outputs": [
    {
     "data": {
      "text/plain": [
       "0.35103751545966744"
      ]
     },
     "execution_count": 20,
     "metadata": {},
     "output_type": "execute_result"
    }
   ],
   "source": [
    "(df_matching_address['count_interaction_with_pool'] > 0).sum() / len(df_matching_address)"
   ]
  },
  {
   "cell_type": "code",
   "execution_count": 21,
   "metadata": {},
   "outputs": [],
   "source": [
    "label_query = '''\n",
    "SELECT DISTINCT(LABEL_SUBTYPE)\n",
    "FROM crosschain.core.address_labels \n",
    "WHERE BLOCKCHAIN='ethereum'\n",
    ";'''\n",
    "df_distinct_labels = flipside_api.execute_query(label_query)"
   ]
  },
  {
   "cell_type": "code",
   "execution_count": 22,
   "metadata": {},
   "outputs": [
    {
     "data": {
      "text/plain": [
       "array(['hot_wallet', 'cold_wallet', 'deposit_wallet', 'staking_contract',\n",
       "       'rewards', 'dao', 'mining_pool', 'donation_address', 'reserve',\n",
       "       'multisig', 'airdrop_contract', 'contract_deployer', 'voting',\n",
       "       'distributor_cex', 'escrow', 'chadmin', 'token_contract', 'bridge',\n",
       "       'mint_burn', 'mint_contract', 'nf_token_contract',\n",
       "       'nf_position_manager', 'token_distribution', 'swap_router', 'pool',\n",
       "       'router', 'general_contract', 'swap_contract', 'toxic', 'vault',\n",
       "       'fee_wallet', 'governance', 'strategy', 'marketplace',\n",
       "       'foundation', 'oracle', 'aggregator_contract', 'treasury',\n",
       "       'token_sale'], dtype=object)"
      ]
     },
     "execution_count": 22,
     "metadata": {},
     "output_type": "execute_result"
    }
   ],
   "source": [
    "df_distinct_labels.label_subtype.unique()"
   ]
  },
  {
   "attachments": {},
   "cell_type": "markdown",
   "metadata": {},
   "source": [
    "From these tags lets flag any address that have interacted with a toxic wallet"
   ]
  },
  {
   "cell_type": "code",
   "execution_count": 23,
   "metadata": {},
   "outputs": [],
   "source": [
    "label_query = '''\n",
    "SELECT ADDRESS, CREATOR, LABEL_TYPE, ADDRESS_NAME, PROJECT_NAME\n",
    "FROM crosschain.core.address_labels \n",
    "WHERE BLOCKCHAIN='ethereum'\n",
    "AND LABEL_SUBTYPE = 'toxic'\n",
    ";'''\n",
    "df_toxic = flipside_api.execute_query(label_query)"
   ]
  },
  {
   "cell_type": "code",
   "execution_count": 24,
   "metadata": {},
   "outputs": [
    {
     "data": {
      "text/plain": [
       "(4857, 6)"
      ]
     },
     "execution_count": 24,
     "metadata": {},
     "output_type": "execute_result"
    }
   ],
   "source": [
    "df_toxic.shape"
   ]
  },
  {
   "cell_type": "code",
   "execution_count": 25,
   "metadata": {},
   "outputs": [],
   "source": [
    "# Compute the number of interactions with any of the scam for each address\n",
    "df_matching_address['count_interaction_with_toxic'] = df_matching_address['address'].apply(lambda x: count_interaction_with_any(tx_analyser, x, df_toxic['address'].unique()))"
   ]
  },
  {
   "cell_type": "code",
   "execution_count": 26,
   "metadata": {},
   "outputs": [
    {
     "name": "stdout",
     "output_type": "stream",
     "text": [
      "Percentage of addresses that have interacted with a toxic address: 1%\n"
     ]
    }
   ],
   "source": [
    "print(f'Percentage of addresses that have interacted with a toxic address: {int((df_matching_address[\"count_interaction_with_toxic\"] > 0).sum() / len(df_matching_address) *100)}%')"
   ]
  },
  {
   "cell_type": "code",
   "execution_count": 27,
   "metadata": {},
   "outputs": [],
   "source": [
    "tag_query = '''\n",
    "SELECT DISTINCT(TAG_TYPE)\n",
    "FROM crosschain.core.address_tags \n",
    "WHERE BLOCKCHAIN='ethereum'\n",
    ";'''\n",
    "df_distinct_tags = flipside_api.execute_query(tag_query)"
   ]
  },
  {
   "cell_type": "code",
   "execution_count": 28,
   "metadata": {},
   "outputs": [
    {
     "data": {
      "text/plain": [
       "array(['cex', 'NFT', 'contract', 'wallet', 'dex', 'chainlink oracle',\n",
       "       'nft', 'activity', 'dydx delegate', 'Aave Delegates',\n",
       "       'Balancer Delegates'], dtype=object)"
      ]
     },
     "execution_count": 28,
     "metadata": {},
     "output_type": "execute_result"
    }
   ],
   "source": [
    "df_distinct_tags.tag_type.values"
   ]
  },
  {
   "attachments": {},
   "cell_type": "markdown",
   "metadata": {},
   "source": [
    "I found the tag_name \"airdrop master\" could be interesting "
   ]
  },
  {
   "cell_type": "code",
   "execution_count": 29,
   "metadata": {},
   "outputs": [],
   "source": [
    "query_airdrop_master = '''\n",
    "SELECT BLOCKCHAIN, CREATOR, ADDRESS, TAG_NAME\n",
    "FROM crosschain.core.address_tags \n",
    "WHERE BLOCKCHAIN='ethereum'\n",
    "AND TAG_NAME = 'airdrop master'\n",
    ";\n",
    "'''\n",
    "df_airdrop_master = flipside_api.execute_query(query_airdrop_master)"
   ]
  },
  {
   "cell_type": "code",
   "execution_count": 30,
   "metadata": {},
   "outputs": [
    {
     "name": "stdout",
     "output_type": "stream",
     "text": [
      "Percentage of addresses that interacted with airdrop master: 14%\n"
     ]
    }
   ],
   "source": [
    "# Compute the number of interactions with any of the aidrop for each address\n",
    "df_matching_address['count_interaction_with_airdrop_m'] = df_matching_address['address'].apply(lambda x: count_interaction_with_any(tx_analyser, x, df_airdrop_master['address'].unique()))\n",
    "print(f'Percentage of addresses that interacted with airdrop master: {int((df_matching_address[\"count_interaction_with_airdrop_m\"] > 0).sum() / len(df_matching_address) * 100)}%')"
   ]
  },
  {
   "cell_type": "code",
   "execution_count": 31,
   "metadata": {},
   "outputs": [
    {
     "name": "stdout",
     "output_type": "stream",
     "text": [
      "Percentage of addresses that are airdrop master: 5%\n"
     ]
    }
   ],
   "source": [
    "# Boolean whether the address is a aidrop master\n",
    "df_matching_address['is_airdrop_master'] = df_matching_address['address'].apply(lambda x: x in df_airdrop_master['address'].unique()) \n",
    "print(f'Percentage of addresses that are airdrop master: {int((df_matching_address[\"is_airdrop_master\"]).sum() / len(df_matching_address) * 100)}%')"
   ]
  },
  {
   "cell_type": "code",
   "execution_count": 32,
   "metadata": {},
   "outputs": [],
   "source": [
    "sql_query_tornado = '''\n",
    "SELECT DISTINCT PROJECT_NAME, ADDRESS\n",
    "FROM crosschain.core.address_labels \n",
    "WHERE BLOCKCHAIN='ethereum'\n",
    "AND PROJECT_NAME LIKE '%tornado%'\n",
    ";\n",
    "'''\n",
    "df_tornado = flipside_api.execute_query(sql_query_tornado)"
   ]
  },
  {
   "cell_type": "code",
   "execution_count": 33,
   "metadata": {},
   "outputs": [
    {
     "name": "stdout",
     "output_type": "stream",
     "text": [
      "Percentage of addresses that interacted with tornado: 1%\n"
     ]
    }
   ],
   "source": [
    "# Count the number of interactions with tornado\n",
    "df_matching_address['count_interaction_with_tornado'] = df_matching_address['address'].apply(lambda x: count_interaction_with_any(tx_analyser, x, df_tornado['address'].unique()))\n",
    "print(f'Percentage of addresses that interacted with tornado: {int((df_matching_address[\"count_interaction_with_tornado\"] > 0).sum() / len(df_matching_address) * 100)}%')"
   ]
  },
  {
   "cell_type": "code",
   "execution_count": 34,
   "metadata": {},
   "outputs": [
    {
     "name": "stdout",
     "output_type": "stream",
     "text": [
      "Percentage of addresses that interacted with disperse: 1%\n"
     ]
    }
   ],
   "source": [
    "# Count the number of time the address interatec with disperse contract: '0xD152f549545093347A162Dce210e7293f1452150'\n",
    "df_matching_address['count_interaction_with_disperse'] = df_matching_address['address'].apply(lambda x: count_interaction_with_any(tx_analyser, x, [str.lower('0xD152f549545093347A162Dce210e7293f1452150')]))\n",
    "print(f'Percentage of addresses that interacted with disperse: {int((df_matching_address[\"count_interaction_with_disperse\"] > 0).sum() / len(df_matching_address) * 100)}%')"
   ]
  },
  {
   "cell_type": "code",
   "execution_count": 35,
   "metadata": {},
   "outputs": [
    {
     "data": {
      "text/html": [
       "<div>\n",
       "<style scoped>\n",
       "    .dataframe tbody tr th:only-of-type {\n",
       "        vertical-align: middle;\n",
       "    }\n",
       "\n",
       "    .dataframe tbody tr th {\n",
       "        vertical-align: top;\n",
       "    }\n",
       "\n",
       "    .dataframe thead th {\n",
       "        text-align: right;\n",
       "    }\n",
       "</style>\n",
       "<table border=\"1\" class=\"dataframe\">\n",
       "  <thead>\n",
       "    <tr style=\"text-align: right;\">\n",
       "      <th></th>\n",
       "      <th>count_interaction_with_pool</th>\n",
       "      <th>count_interaction_with_toxic</th>\n",
       "      <th>count_interaction_with_airdrop_m</th>\n",
       "      <th>count_interaction_with_tornado</th>\n",
       "      <th>count_interaction_with_disperse</th>\n",
       "    </tr>\n",
       "  </thead>\n",
       "  <tbody>\n",
       "    <tr>\n",
       "      <th>count</th>\n",
       "      <td>14554.000000</td>\n",
       "      <td>14554.000000</td>\n",
       "      <td>14554.000000</td>\n",
       "      <td>14554.000000</td>\n",
       "      <td>14554.000000</td>\n",
       "    </tr>\n",
       "    <tr>\n",
       "      <th>mean</th>\n",
       "      <td>4.003710</td>\n",
       "      <td>0.041432</td>\n",
       "      <td>1.687921</td>\n",
       "      <td>0.041157</td>\n",
       "      <td>0.098530</td>\n",
       "    </tr>\n",
       "    <tr>\n",
       "      <th>std</th>\n",
       "      <td>28.982165</td>\n",
       "      <td>0.748714</td>\n",
       "      <td>11.881740</td>\n",
       "      <td>0.788599</td>\n",
       "      <td>3.471618</td>\n",
       "    </tr>\n",
       "    <tr>\n",
       "      <th>min</th>\n",
       "      <td>0.000000</td>\n",
       "      <td>0.000000</td>\n",
       "      <td>0.000000</td>\n",
       "      <td>0.000000</td>\n",
       "      <td>0.000000</td>\n",
       "    </tr>\n",
       "    <tr>\n",
       "      <th>10%</th>\n",
       "      <td>0.000000</td>\n",
       "      <td>0.000000</td>\n",
       "      <td>0.000000</td>\n",
       "      <td>0.000000</td>\n",
       "      <td>0.000000</td>\n",
       "    </tr>\n",
       "    <tr>\n",
       "      <th>25%</th>\n",
       "      <td>0.000000</td>\n",
       "      <td>0.000000</td>\n",
       "      <td>0.000000</td>\n",
       "      <td>0.000000</td>\n",
       "      <td>0.000000</td>\n",
       "    </tr>\n",
       "    <tr>\n",
       "      <th>50%</th>\n",
       "      <td>0.000000</td>\n",
       "      <td>0.000000</td>\n",
       "      <td>0.000000</td>\n",
       "      <td>0.000000</td>\n",
       "      <td>0.000000</td>\n",
       "    </tr>\n",
       "    <tr>\n",
       "      <th>75%</th>\n",
       "      <td>2.000000</td>\n",
       "      <td>0.000000</td>\n",
       "      <td>0.000000</td>\n",
       "      <td>0.000000</td>\n",
       "      <td>0.000000</td>\n",
       "    </tr>\n",
       "    <tr>\n",
       "      <th>90%</th>\n",
       "      <td>8.000000</td>\n",
       "      <td>0.000000</td>\n",
       "      <td>2.000000</td>\n",
       "      <td>0.000000</td>\n",
       "      <td>0.000000</td>\n",
       "    </tr>\n",
       "    <tr>\n",
       "      <th>max</th>\n",
       "      <td>2632.000000</td>\n",
       "      <td>56.000000</td>\n",
       "      <td>600.000000</td>\n",
       "      <td>55.000000</td>\n",
       "      <td>388.000000</td>\n",
       "    </tr>\n",
       "  </tbody>\n",
       "</table>\n",
       "</div>"
      ],
      "text/plain": [
       "       count_interaction_with_pool  count_interaction_with_toxic   \n",
       "count                 14554.000000                  14554.000000  \\\n",
       "mean                      4.003710                      0.041432   \n",
       "std                      28.982165                      0.748714   \n",
       "min                       0.000000                      0.000000   \n",
       "10%                       0.000000                      0.000000   \n",
       "25%                       0.000000                      0.000000   \n",
       "50%                       0.000000                      0.000000   \n",
       "75%                       2.000000                      0.000000   \n",
       "90%                       8.000000                      0.000000   \n",
       "max                    2632.000000                     56.000000   \n",
       "\n",
       "       count_interaction_with_airdrop_m  count_interaction_with_tornado   \n",
       "count                      14554.000000                    14554.000000  \\\n",
       "mean                           1.687921                        0.041157   \n",
       "std                           11.881740                        0.788599   \n",
       "min                            0.000000                        0.000000   \n",
       "10%                            0.000000                        0.000000   \n",
       "25%                            0.000000                        0.000000   \n",
       "50%                            0.000000                        0.000000   \n",
       "75%                            0.000000                        0.000000   \n",
       "90%                            2.000000                        0.000000   \n",
       "max                          600.000000                       55.000000   \n",
       "\n",
       "       count_interaction_with_disperse  \n",
       "count                     14554.000000  \n",
       "mean                          0.098530  \n",
       "std                           3.471618  \n",
       "min                           0.000000  \n",
       "10%                           0.000000  \n",
       "25%                           0.000000  \n",
       "50%                           0.000000  \n",
       "75%                           0.000000  \n",
       "90%                           0.000000  \n",
       "max                         388.000000  "
      ]
     },
     "execution_count": 35,
     "metadata": {},
     "output_type": "execute_result"
    }
   ],
   "source": [
    "df_matching_address.describe(percentiles=[0.1, 0.25, 0.5, 0.75, 0.9])"
   ]
  },
  {
   "cell_type": "code",
   "execution_count": 36,
   "metadata": {},
   "outputs": [],
   "source": [
    "df_matching_address['has_interaction_toxic'] = df_matching_address['count_interaction_with_toxic'] > 0\n",
    "df_matching_address['has_no_pool_interaction'] = df_matching_address['count_interaction_with_pool'] < 6\n",
    "df_matching_address['has_interaction_airdrop_m'] = df_matching_address['count_interaction_with_airdrop_m'] > 0\n",
    "df_matching_address['has_interaction_tornado'] = df_matching_address['count_interaction_with_tornado'] > 0\n",
    "df_matching_address['has_interaction_disperse'] = df_matching_address['count_interaction_with_disperse'] > 0"
   ]
  },
  {
   "cell_type": "code",
   "execution_count": 37,
   "metadata": {},
   "outputs": [],
   "source": [
    "boolean_features = ['seed_suspicious', 'has_interaction_toxic', 'has_no_pool_interaction', 'has_interaction_airdrop_m', 'has_interaction_tornado', 'has_interaction_disperse', 'is_airdrop_master', 'interacted_other_ctbt']"
   ]
  },
  {
   "cell_type": "code",
   "execution_count": 38,
   "metadata": {},
   "outputs": [
    {
     "data": {
      "text/plain": [
       "seed_suspicious                489\n",
       "has_interaction_toxic          283\n",
       "has_no_pool_interaction      12670\n",
       "has_interaction_airdrop_m     2042\n",
       "has_interaction_tornado        155\n",
       "has_interaction_disperse       192\n",
       "is_airdrop_master              831\n",
       "interacted_other_ctbt         3994\n",
       "dtype: int64"
      ]
     },
     "execution_count": 38,
     "metadata": {},
     "output_type": "execute_result"
    }
   ],
   "source": [
    "df_matching_address[boolean_features].sum() "
   ]
  },
  {
   "cell_type": "code",
   "execution_count": 39,
   "metadata": {},
   "outputs": [
    {
     "data": {
      "text/plain": [
       "14554"
      ]
     },
     "execution_count": 39,
     "metadata": {},
     "output_type": "execute_result"
    }
   ],
   "source": [
    "len(df_matching_address)"
   ]
  },
  {
   "cell_type": "code",
   "execution_count": 40,
   "metadata": {},
   "outputs": [
    {
     "data": {
      "text/plain": [
       "1306"
      ]
     },
     "execution_count": 40,
     "metadata": {},
     "output_type": "execute_result"
    }
   ],
   "source": [
    "(df_matching_address[boolean_features].sum(axis=1) > 2).sum()"
   ]
  },
  {
   "cell_type": "code",
   "execution_count": 41,
   "metadata": {},
   "outputs": [],
   "source": [
    "df_matching_address['count_flags'] = df_matching_address[boolean_features].sum(axis=1)"
   ]
  },
  {
   "cell_type": "code",
   "execution_count": 42,
   "metadata": {},
   "outputs": [],
   "source": [
    "df_matching_address['suspicious_1'] = df_matching_address['count_flags'] > 2"
   ]
  },
  {
   "cell_type": "code",
   "execution_count": 43,
   "metadata": {},
   "outputs": [],
   "source": [
    "df_suspicious_1 = df_matching_address[df_matching_address['suspicious_1'] == True]"
   ]
  },
  {
   "attachments": {},
   "cell_type": "markdown",
   "metadata": {},
   "source": [
    "### Investigating the grants receiving the most votes from the flagged addresses"
   ]
  },
  {
   "cell_type": "code",
   "execution_count": 44,
   "metadata": {},
   "outputs": [],
   "source": [
    "df_vote_sus1 = df_votes[df_votes['voter'].isin(df_suspicious_1['address'])]\n",
    "count_unique_vote_grant = df_votes.drop_duplicates(subset=['grantAddress', 'voter']).groupby('grantAddress')['id'].count().sort_values(ascending=False).reset_index()\n",
    "count_suspicious_vote_grant = df_vote_sus1['grantAddress'].value_counts().reset_index()\n",
    "df_vote_grant = count_unique_vote_grant.merge(count_suspicious_vote_grant, left_on='grantAddress', right_on='grantAddress', how='left').fillna(0).rename(columns={'id': 'count_unique_vote', 'count': 'count_suspicious_vote'})"
   ]
  },
  {
   "cell_type": "code",
   "execution_count": 45,
   "metadata": {},
   "outputs": [
    {
     "name": "stdout",
     "output_type": "stream",
     "text": [
      "Number of suspicious votes 7446 Number of projects voted: 111\n",
      "number of grants: 112\n"
     ]
    },
    {
     "data": {
      "text/html": [
       "<div>\n",
       "<style scoped>\n",
       "    .dataframe tbody tr th:only-of-type {\n",
       "        vertical-align: middle;\n",
       "    }\n",
       "\n",
       "    .dataframe tbody tr th {\n",
       "        vertical-align: top;\n",
       "    }\n",
       "\n",
       "    .dataframe thead th {\n",
       "        text-align: right;\n",
       "    }\n",
       "</style>\n",
       "<table border=\"1\" class=\"dataframe\">\n",
       "  <thead>\n",
       "    <tr style=\"text-align: right;\">\n",
       "      <th></th>\n",
       "      <th>grantAddress</th>\n",
       "      <th>metadata.application.project.title</th>\n",
       "      <th>percentage_suspicious_vote</th>\n",
       "      <th>count_suspicious_vote</th>\n",
       "      <th>roundId</th>\n",
       "      <th>status</th>\n",
       "    </tr>\n",
       "  </thead>\n",
       "  <tbody>\n",
       "    <tr>\n",
       "      <th>110</th>\n",
       "      <td>0xff16d64179a02d6a56a1183a28f1d6293646e2dd</td>\n",
       "      <td>Smart Invoice</td>\n",
       "      <td>40.000000</td>\n",
       "      <td>4.0</td>\n",
       "      <td>0x12bb5bbbfe596dbc489d209299b8302c3300fa40</td>\n",
       "      <td>APPROVED</td>\n",
       "    </tr>\n",
       "    <tr>\n",
       "      <th>93</th>\n",
       "      <td>0xb62e762af637b49eb4870bce8fe21bfff189e495</td>\n",
       "      <td>Grant Review Dashboard</td>\n",
       "      <td>34.615385</td>\n",
       "      <td>9.0</td>\n",
       "      <td>0x12bb5bbbfe596dbc489d209299b8302c3300fa40</td>\n",
       "      <td>APPROVED</td>\n",
       "    </tr>\n",
       "    <tr>\n",
       "      <th>109</th>\n",
       "      <td>0x048669c431230a9a8298b7ec045f1e1137827cca</td>\n",
       "      <td>Blockhead: account tracker, block explorer and...</td>\n",
       "      <td>30.000000</td>\n",
       "      <td>3.0</td>\n",
       "      <td>0x12bb5bbbfe596dbc489d209299b8302c3300fa40</td>\n",
       "      <td>APPROVED</td>\n",
       "    </tr>\n",
       "    <tr>\n",
       "      <th>103</th>\n",
       "      <td>0xa09a8433616ca0e1085248b15eaa06712c0f9cb5</td>\n",
       "      <td>DecentrAgora</td>\n",
       "      <td>26.666667</td>\n",
       "      <td>4.0</td>\n",
       "      <td>0x12bb5bbbfe596dbc489d209299b8302c3300fa40</td>\n",
       "      <td>APPROVED</td>\n",
       "    </tr>\n",
       "    <tr>\n",
       "      <th>66</th>\n",
       "      <td>0xfede2257dc043f53a24ac7947218bacfb0013b09</td>\n",
       "      <td>Zuzu</td>\n",
       "      <td>26.229508</td>\n",
       "      <td>16.0</td>\n",
       "      <td>0x12bb5bbbfe596dbc489d209299b8302c3300fa40</td>\n",
       "      <td>APPROVED</td>\n",
       "    </tr>\n",
       "    <tr>\n",
       "      <th>87</th>\n",
       "      <td>0x2f4bcd8adbe961290f2c4df752852466e7d655c9</td>\n",
       "      <td>StatelessArt</td>\n",
       "      <td>25.806452</td>\n",
       "      <td>8.0</td>\n",
       "      <td>0x12bb5bbbfe596dbc489d209299b8302c3300fa40</td>\n",
       "      <td>APPROVED</td>\n",
       "    </tr>\n",
       "    <tr>\n",
       "      <th>102</th>\n",
       "      <td>0x9f4bc8b266ec6832d1339b62a6f04f35fcddd846</td>\n",
       "      <td>Project LION: Building Leo</td>\n",
       "      <td>25.000000</td>\n",
       "      <td>4.0</td>\n",
       "      <td>0x12bb5bbbfe596dbc489d209299b8302c3300fa40</td>\n",
       "      <td>APPROVED</td>\n",
       "    </tr>\n",
       "    <tr>\n",
       "      <th>101</th>\n",
       "      <td>0xbbbb17a8c1ce64be28facd93b22450abb01b5dca</td>\n",
       "      <td>MEVBoostAA</td>\n",
       "      <td>25.000000</td>\n",
       "      <td>4.0</td>\n",
       "      <td>0x12bb5bbbfe596dbc489d209299b8302c3300fa40</td>\n",
       "      <td>APPROVED</td>\n",
       "    </tr>\n",
       "    <tr>\n",
       "      <th>106</th>\n",
       "      <td>0x8d5d62099f937fb31e5f5078838836b3dc14eb24</td>\n",
       "      <td>HODL Totals</td>\n",
       "      <td>23.076923</td>\n",
       "      <td>3.0</td>\n",
       "      <td>0x12bb5bbbfe596dbc489d209299b8302c3300fa40</td>\n",
       "      <td>APPROVED</td>\n",
       "    </tr>\n",
       "    <tr>\n",
       "      <th>42</th>\n",
       "      <td>0x5c04e7808455ee0e22c2773328c151d0dd79dc62</td>\n",
       "      <td>Flexible Voting</td>\n",
       "      <td>21.917808</td>\n",
       "      <td>32.0</td>\n",
       "      <td>0x12bb5bbbfe596dbc489d209299b8302c3300fa40</td>\n",
       "      <td>APPROVED</td>\n",
       "    </tr>\n",
       "    <tr>\n",
       "      <th>55</th>\n",
       "      <td>0xbc0b437c95c7165f7d1f7c966cb2227da52a27d7</td>\n",
       "      <td>Kredeum NFTs Factory</td>\n",
       "      <td>21.794872</td>\n",
       "      <td>17.0</td>\n",
       "      <td>0x12bb5bbbfe596dbc489d209299b8302c3300fa40</td>\n",
       "      <td>APPROVED</td>\n",
       "    </tr>\n",
       "    <tr>\n",
       "      <th>40</th>\n",
       "      <td>0x4e260bb2b25ec6f3a59b478fcde5ed5b8d783b02</td>\n",
       "      <td>Web3 OSS Libraries by DePay</td>\n",
       "      <td>21.794872</td>\n",
       "      <td>34.0</td>\n",
       "      <td>0x12bb5bbbfe596dbc489d209299b8302c3300fa40</td>\n",
       "      <td>APPROVED</td>\n",
       "    </tr>\n",
       "    <tr>\n",
       "      <th>77</th>\n",
       "      <td>0x0b7246ef74ca7b37fdc3d15be4f0b49876622f95</td>\n",
       "      <td>Praise</td>\n",
       "      <td>21.739130</td>\n",
       "      <td>10.0</td>\n",
       "      <td>0x12bb5bbbfe596dbc489d209299b8302c3300fa40</td>\n",
       "      <td>APPROVED</td>\n",
       "    </tr>\n",
       "    <tr>\n",
       "      <th>95</th>\n",
       "      <td>0x85f5a4e1fc4f44a014b940a224dde22d6e73f2dc</td>\n",
       "      <td>Sovr</td>\n",
       "      <td>20.833333</td>\n",
       "      <td>5.0</td>\n",
       "      <td>0x12bb5bbbfe596dbc489d209299b8302c3300fa40</td>\n",
       "      <td>APPROVED</td>\n",
       "    </tr>\n",
       "    <tr>\n",
       "      <th>67</th>\n",
       "      <td>0x2d1036d679f3cdca0ea86bb0e29540d52346cbc9</td>\n",
       "      <td>DataverseOS</td>\n",
       "      <td>20.689655</td>\n",
       "      <td>12.0</td>\n",
       "      <td>0x12bb5bbbfe596dbc489d209299b8302c3300fa40</td>\n",
       "      <td>APPROVED</td>\n",
       "    </tr>\n",
       "    <tr>\n",
       "      <th>85</th>\n",
       "      <td>0x77fb4fa1aba92576942ad34bc47834059b84e693</td>\n",
       "      <td>signless</td>\n",
       "      <td>20.512821</td>\n",
       "      <td>8.0</td>\n",
       "      <td>0x12bb5bbbfe596dbc489d209299b8302c3300fa40</td>\n",
       "      <td>APPROVED</td>\n",
       "    </tr>\n",
       "    <tr>\n",
       "      <th>108</th>\n",
       "      <td>0xa578d44ef20baaaa694c10c9de909ca83e241da8</td>\n",
       "      <td>Stackly</td>\n",
       "      <td>20.000000</td>\n",
       "      <td>2.0</td>\n",
       "      <td>0x12bb5bbbfe596dbc489d209299b8302c3300fa40</td>\n",
       "      <td>APPROVED</td>\n",
       "    </tr>\n",
       "    <tr>\n",
       "      <th>38</th>\n",
       "      <td>0xa512c3cf9a63715ced87de5058c684cbff9f4321</td>\n",
       "      <td>useWeb3 - Web3 Developer platform</td>\n",
       "      <td>20.000000</td>\n",
       "      <td>32.0</td>\n",
       "      <td>0x12bb5bbbfe596dbc489d209299b8302c3300fa40</td>\n",
       "      <td>APPROVED</td>\n",
       "    </tr>\n",
       "    <tr>\n",
       "      <th>51</th>\n",
       "      <td>0xcdba6263ac0a162848380a1ed117b48d973eabfc</td>\n",
       "      <td>Quest Chains</td>\n",
       "      <td>19.587629</td>\n",
       "      <td>19.0</td>\n",
       "      <td>0x12bb5bbbfe596dbc489d209299b8302c3300fa40</td>\n",
       "      <td>APPROVED</td>\n",
       "    </tr>\n",
       "    <tr>\n",
       "      <th>61</th>\n",
       "      <td>0x97843608a00e2bbc75ab0c1911387e002565dede</td>\n",
       "      <td>Scaffold-ETH 2</td>\n",
       "      <td>18.571429</td>\n",
       "      <td>13.0</td>\n",
       "      <td>0x12bb5bbbfe596dbc489d209299b8302c3300fa40</td>\n",
       "      <td>APPROVED</td>\n",
       "    </tr>\n",
       "    <tr>\n",
       "      <th>70</th>\n",
       "      <td>0xf754ebcff01cc96a42c393432c93aa7df2fee990</td>\n",
       "      <td>fatcat.money</td>\n",
       "      <td>18.518519</td>\n",
       "      <td>10.0</td>\n",
       "      <td>0x12bb5bbbfe596dbc489d209299b8302c3300fa40</td>\n",
       "      <td>APPROVED</td>\n",
       "    </tr>\n",
       "    <tr>\n",
       "      <th>44</th>\n",
       "      <td>0x10666d9c6295e838d3b8b84ffcc97d62ef7e6120</td>\n",
       "      <td>Inverter Network - Fund and build in web 3 wit...</td>\n",
       "      <td>18.400000</td>\n",
       "      <td>23.0</td>\n",
       "      <td>0x12bb5bbbfe596dbc489d209299b8302c3300fa40</td>\n",
       "      <td>APPROVED</td>\n",
       "    </tr>\n",
       "    <tr>\n",
       "      <th>74</th>\n",
       "      <td>0xf4a96d0025717b37252dce516e33541eadcf1e70</td>\n",
       "      <td>ROBOTS.TXT</td>\n",
       "      <td>18.000000</td>\n",
       "      <td>9.0</td>\n",
       "      <td>0x12bb5bbbfe596dbc489d209299b8302c3300fa40</td>\n",
       "      <td>APPROVED</td>\n",
       "    </tr>\n",
       "    <tr>\n",
       "      <th>91</th>\n",
       "      <td>0x29a3677d6ce36bde9927edb008dcebd580d51164</td>\n",
       "      <td>Zuzalu Housing Tetris</td>\n",
       "      <td>17.857143</td>\n",
       "      <td>5.0</td>\n",
       "      <td>0x12bb5bbbfe596dbc489d209299b8302c3300fa40</td>\n",
       "      <td>APPROVED</td>\n",
       "    </tr>\n",
       "    <tr>\n",
       "      <th>50</th>\n",
       "      <td>0xe71fbb197bc8fd11090fa657c100d52dbb407662</td>\n",
       "      <td>Pepemon: Degen Battleground</td>\n",
       "      <td>17.171717</td>\n",
       "      <td>17.0</td>\n",
       "      <td>0x12bb5bbbfe596dbc489d209299b8302c3300fa40</td>\n",
       "      <td>APPROVED</td>\n",
       "    </tr>\n",
       "    <tr>\n",
       "      <th>21</th>\n",
       "      <td>0x7a0857d314f62d383341b4ed8fe380e7c98fb978</td>\n",
       "      <td>Starksheet</td>\n",
       "      <td>16.745283</td>\n",
       "      <td>71.0</td>\n",
       "      <td>0x12bb5bbbfe596dbc489d209299b8302c3300fa40</td>\n",
       "      <td>APPROVED</td>\n",
       "    </tr>\n",
       "    <tr>\n",
       "      <th>48</th>\n",
       "      <td>0x0398a897e8312a0382c65907368cf244a7a3edbd</td>\n",
       "      <td>ENSRedirect</td>\n",
       "      <td>16.666667</td>\n",
       "      <td>18.0</td>\n",
       "      <td>0x12bb5bbbfe596dbc489d209299b8302c3300fa40</td>\n",
       "      <td>REJECTED</td>\n",
       "    </tr>\n",
       "    <tr>\n",
       "      <th>107</th>\n",
       "      <td>0x4173de8235c103d42aad543ce478bb05def603b9</td>\n",
       "      <td>The Slipstream</td>\n",
       "      <td>16.666667</td>\n",
       "      <td>2.0</td>\n",
       "      <td>0x12bb5bbbfe596dbc489d209299b8302c3300fa40</td>\n",
       "      <td>APPROVED</td>\n",
       "    </tr>\n",
       "    <tr>\n",
       "      <th>20</th>\n",
       "      <td>0x11ee133a1408fe2d7c62296d7eb33f234b774503</td>\n",
       "      <td>dm3 protocol - the interoperability initiative</td>\n",
       "      <td>16.627635</td>\n",
       "      <td>71.0</td>\n",
       "      <td>0x12bb5bbbfe596dbc489d209299b8302c3300fa40</td>\n",
       "      <td>REJECTED</td>\n",
       "    </tr>\n",
       "    <tr>\n",
       "      <th>57</th>\n",
       "      <td>0x799b774204a348e1182fe01074c51444ba70a149</td>\n",
       "      <td>0xDeadList</td>\n",
       "      <td>16.216216</td>\n",
       "      <td>12.0</td>\n",
       "      <td>0x12bb5bbbfe596dbc489d209299b8302c3300fa40</td>\n",
       "      <td>APPROVED</td>\n",
       "    </tr>\n",
       "  </tbody>\n",
       "</table>\n",
       "</div>"
      ],
      "text/plain": [
       "                                   grantAddress   \n",
       "110  0xff16d64179a02d6a56a1183a28f1d6293646e2dd  \\\n",
       "93   0xb62e762af637b49eb4870bce8fe21bfff189e495   \n",
       "109  0x048669c431230a9a8298b7ec045f1e1137827cca   \n",
       "103  0xa09a8433616ca0e1085248b15eaa06712c0f9cb5   \n",
       "66   0xfede2257dc043f53a24ac7947218bacfb0013b09   \n",
       "87   0x2f4bcd8adbe961290f2c4df752852466e7d655c9   \n",
       "102  0x9f4bc8b266ec6832d1339b62a6f04f35fcddd846   \n",
       "101  0xbbbb17a8c1ce64be28facd93b22450abb01b5dca   \n",
       "106  0x8d5d62099f937fb31e5f5078838836b3dc14eb24   \n",
       "42   0x5c04e7808455ee0e22c2773328c151d0dd79dc62   \n",
       "55   0xbc0b437c95c7165f7d1f7c966cb2227da52a27d7   \n",
       "40   0x4e260bb2b25ec6f3a59b478fcde5ed5b8d783b02   \n",
       "77   0x0b7246ef74ca7b37fdc3d15be4f0b49876622f95   \n",
       "95   0x85f5a4e1fc4f44a014b940a224dde22d6e73f2dc   \n",
       "67   0x2d1036d679f3cdca0ea86bb0e29540d52346cbc9   \n",
       "85   0x77fb4fa1aba92576942ad34bc47834059b84e693   \n",
       "108  0xa578d44ef20baaaa694c10c9de909ca83e241da8   \n",
       "38   0xa512c3cf9a63715ced87de5058c684cbff9f4321   \n",
       "51   0xcdba6263ac0a162848380a1ed117b48d973eabfc   \n",
       "61   0x97843608a00e2bbc75ab0c1911387e002565dede   \n",
       "70   0xf754ebcff01cc96a42c393432c93aa7df2fee990   \n",
       "44   0x10666d9c6295e838d3b8b84ffcc97d62ef7e6120   \n",
       "74   0xf4a96d0025717b37252dce516e33541eadcf1e70   \n",
       "91   0x29a3677d6ce36bde9927edb008dcebd580d51164   \n",
       "50   0xe71fbb197bc8fd11090fa657c100d52dbb407662   \n",
       "21   0x7a0857d314f62d383341b4ed8fe380e7c98fb978   \n",
       "48   0x0398a897e8312a0382c65907368cf244a7a3edbd   \n",
       "107  0x4173de8235c103d42aad543ce478bb05def603b9   \n",
       "20   0x11ee133a1408fe2d7c62296d7eb33f234b774503   \n",
       "57   0x799b774204a348e1182fe01074c51444ba70a149   \n",
       "\n",
       "                    metadata.application.project.title   \n",
       "110                                      Smart Invoice  \\\n",
       "93                              Grant Review Dashboard   \n",
       "109  Blockhead: account tracker, block explorer and...   \n",
       "103                                       DecentrAgora   \n",
       "66                                                Zuzu   \n",
       "87                                        StatelessArt   \n",
       "102                         Project LION: Building Leo   \n",
       "101                                         MEVBoostAA   \n",
       "106                                        HODL Totals   \n",
       "42                                     Flexible Voting   \n",
       "55                                Kredeum NFTs Factory   \n",
       "40                         Web3 OSS Libraries by DePay   \n",
       "77                                              Praise   \n",
       "95                                                Sovr   \n",
       "67                                         DataverseOS   \n",
       "85                                            signless   \n",
       "108                                            Stackly   \n",
       "38                   useWeb3 - Web3 Developer platform   \n",
       "51                                        Quest Chains   \n",
       "61                                      Scaffold-ETH 2   \n",
       "70                                        fatcat.money   \n",
       "44   Inverter Network - Fund and build in web 3 wit...   \n",
       "74                                          ROBOTS.TXT   \n",
       "91                               Zuzalu Housing Tetris   \n",
       "50                         Pepemon: Degen Battleground   \n",
       "21                                          Starksheet   \n",
       "48                                         ENSRedirect   \n",
       "107                                     The Slipstream   \n",
       "20     dm3 protocol - the interoperability initiative    \n",
       "57                                          0xDeadList   \n",
       "\n",
       "     percentage_suspicious_vote  count_suspicious_vote   \n",
       "110                   40.000000                    4.0  \\\n",
       "93                    34.615385                    9.0   \n",
       "109                   30.000000                    3.0   \n",
       "103                   26.666667                    4.0   \n",
       "66                    26.229508                   16.0   \n",
       "87                    25.806452                    8.0   \n",
       "102                   25.000000                    4.0   \n",
       "101                   25.000000                    4.0   \n",
       "106                   23.076923                    3.0   \n",
       "42                    21.917808                   32.0   \n",
       "55                    21.794872                   17.0   \n",
       "40                    21.794872                   34.0   \n",
       "77                    21.739130                   10.0   \n",
       "95                    20.833333                    5.0   \n",
       "67                    20.689655                   12.0   \n",
       "85                    20.512821                    8.0   \n",
       "108                   20.000000                    2.0   \n",
       "38                    20.000000                   32.0   \n",
       "51                    19.587629                   19.0   \n",
       "61                    18.571429                   13.0   \n",
       "70                    18.518519                   10.0   \n",
       "44                    18.400000                   23.0   \n",
       "74                    18.000000                    9.0   \n",
       "91                    17.857143                    5.0   \n",
       "50                    17.171717                   17.0   \n",
       "21                    16.745283                   71.0   \n",
       "48                    16.666667                   18.0   \n",
       "107                   16.666667                    2.0   \n",
       "20                    16.627635                   71.0   \n",
       "57                    16.216216                   12.0   \n",
       "\n",
       "                                        roundId    status  \n",
       "110  0x12bb5bbbfe596dbc489d209299b8302c3300fa40  APPROVED  \n",
       "93   0x12bb5bbbfe596dbc489d209299b8302c3300fa40  APPROVED  \n",
       "109  0x12bb5bbbfe596dbc489d209299b8302c3300fa40  APPROVED  \n",
       "103  0x12bb5bbbfe596dbc489d209299b8302c3300fa40  APPROVED  \n",
       "66   0x12bb5bbbfe596dbc489d209299b8302c3300fa40  APPROVED  \n",
       "87   0x12bb5bbbfe596dbc489d209299b8302c3300fa40  APPROVED  \n",
       "102  0x12bb5bbbfe596dbc489d209299b8302c3300fa40  APPROVED  \n",
       "101  0x12bb5bbbfe596dbc489d209299b8302c3300fa40  APPROVED  \n",
       "106  0x12bb5bbbfe596dbc489d209299b8302c3300fa40  APPROVED  \n",
       "42   0x12bb5bbbfe596dbc489d209299b8302c3300fa40  APPROVED  \n",
       "55   0x12bb5bbbfe596dbc489d209299b8302c3300fa40  APPROVED  \n",
       "40   0x12bb5bbbfe596dbc489d209299b8302c3300fa40  APPROVED  \n",
       "77   0x12bb5bbbfe596dbc489d209299b8302c3300fa40  APPROVED  \n",
       "95   0x12bb5bbbfe596dbc489d209299b8302c3300fa40  APPROVED  \n",
       "67   0x12bb5bbbfe596dbc489d209299b8302c3300fa40  APPROVED  \n",
       "85   0x12bb5bbbfe596dbc489d209299b8302c3300fa40  APPROVED  \n",
       "108  0x12bb5bbbfe596dbc489d209299b8302c3300fa40  APPROVED  \n",
       "38   0x12bb5bbbfe596dbc489d209299b8302c3300fa40  APPROVED  \n",
       "51   0x12bb5bbbfe596dbc489d209299b8302c3300fa40  APPROVED  \n",
       "61   0x12bb5bbbfe596dbc489d209299b8302c3300fa40  APPROVED  \n",
       "70   0x12bb5bbbfe596dbc489d209299b8302c3300fa40  APPROVED  \n",
       "44   0x12bb5bbbfe596dbc489d209299b8302c3300fa40  APPROVED  \n",
       "74   0x12bb5bbbfe596dbc489d209299b8302c3300fa40  APPROVED  \n",
       "91   0x12bb5bbbfe596dbc489d209299b8302c3300fa40  APPROVED  \n",
       "50   0x12bb5bbbfe596dbc489d209299b8302c3300fa40  APPROVED  \n",
       "21   0x12bb5bbbfe596dbc489d209299b8302c3300fa40  APPROVED  \n",
       "48   0x12bb5bbbfe596dbc489d209299b8302c3300fa40  REJECTED  \n",
       "107  0x12bb5bbbfe596dbc489d209299b8302c3300fa40  APPROVED  \n",
       "20   0x12bb5bbbfe596dbc489d209299b8302c3300fa40  REJECTED  \n",
       "57   0x12bb5bbbfe596dbc489d209299b8302c3300fa40  APPROVED  "
      ]
     },
     "execution_count": 45,
     "metadata": {},
     "output_type": "execute_result"
    }
   ],
   "source": [
    "df_vote_grant['percentage_suspicious_vote'] = df_vote_grant['count_suspicious_vote'] / df_vote_grant['count_unique_vote'] * 100\n",
    "print(f'Number of suspicious votes {df_vote_sus1.shape[0]} Number of projects voted: {df_vote_sus1.grantAddress.nunique()}')\n",
    "# Merge the project the user voted for and the projects \n",
    "gr_sus = df_vote_grant.merge(df_application, left_on='grantAddress', right_on='metadata.application.recipient', how='left').drop_duplicates(subset='grantAddress').loc[:, ['grantAddress', 'metadata.application.project.title', 'percentage_suspicious_vote', 'count_suspicious_vote', 'roundId', 'status']].reset_index(drop=True).sort_values(by='percentage_suspicious_vote', ascending=False)\n",
    "print(f'number of grants: {gr_sus.shape[0]}')\n",
    "gr_sus.head(30)"
   ]
  },
  {
   "attachments": {},
   "cell_type": "markdown",
   "metadata": {},
   "source": [
    "### Look at the addresses with at least one flag"
   ]
  },
  {
   "attachments": {},
   "cell_type": "markdown",
   "metadata": {},
   "source": [
    "We are going to review the addresses that have at least 1 flag:\n",
    "- has_intercation_toxic \n",
    "- has_interaction_disperse\n",
    "- has_interaction_airdrop_master\n",
    "- is airdrop master\n",
    "- seed suspicious\n",
    "- interacted with other contributor and less than 5 tx\n",
    "\n",
    "I decided to remove tornado cash because someone can be anonimous with out being a sybil"
   ]
  },
  {
   "cell_type": "code",
   "execution_count": 46,
   "metadata": {},
   "outputs": [],
   "source": [
    "df_matching_address['interact_less_5tx'] = np.logical_and(df_matching_address['interacted_other_ctbt'], df_matching_address['less_5_tx'])"
   ]
  },
  {
   "cell_type": "code",
   "execution_count": 47,
   "metadata": {},
   "outputs": [],
   "source": [
    "interaction_bool = ['has_interaction_toxic', 'has_interaction_airdrop_m', 'has_interaction_disperse', 'is_airdrop_master', 'seed_suspicious', 'interact_less_5tx']"
   ]
  },
  {
   "cell_type": "code",
   "execution_count": 48,
   "metadata": {},
   "outputs": [
    {
     "data": {
      "text/plain": [
       "has_interaction_toxic         283\n",
       "has_interaction_airdrop_m    2042\n",
       "has_interaction_disperse      192\n",
       "is_airdrop_master             831\n",
       "seed_suspicious               489\n",
       "interact_less_5tx              27\n",
       "dtype: int64"
      ]
     },
     "execution_count": 48,
     "metadata": {},
     "output_type": "execute_result"
    }
   ],
   "source": [
    "df_matching_address[interaction_bool].sum()"
   ]
  },
  {
   "cell_type": "code",
   "execution_count": 49,
   "metadata": {},
   "outputs": [
    {
     "data": {
      "text/html": [
       "<div>\n",
       "<style scoped>\n",
       "    .dataframe tbody tr th:only-of-type {\n",
       "        vertical-align: middle;\n",
       "    }\n",
       "\n",
       "    .dataframe tbody tr th {\n",
       "        vertical-align: top;\n",
       "    }\n",
       "\n",
       "    .dataframe thead th {\n",
       "        text-align: right;\n",
       "    }\n",
       "</style>\n",
       "<table border=\"1\" class=\"dataframe\">\n",
       "  <thead>\n",
       "    <tr style=\"text-align: right;\">\n",
       "      <th></th>\n",
       "      <th>has_interaction_toxic</th>\n",
       "      <th>has_interaction_airdrop_m</th>\n",
       "      <th>has_interaction_disperse</th>\n",
       "      <th>is_airdrop_master</th>\n",
       "      <th>seed_suspicious</th>\n",
       "      <th>interact_less_5tx</th>\n",
       "    </tr>\n",
       "  </thead>\n",
       "  <tbody>\n",
       "    <tr>\n",
       "      <th>has_interaction_toxic</th>\n",
       "      <td>1.000000</td>\n",
       "      <td>0.085434</td>\n",
       "      <td>0.055556</td>\n",
       "      <td>0.075290</td>\n",
       "      <td>0.006519</td>\n",
       "      <td>0.000000</td>\n",
       "    </tr>\n",
       "    <tr>\n",
       "      <th>has_interaction_airdrop_m</th>\n",
       "      <td>0.085434</td>\n",
       "      <td>1.000000</td>\n",
       "      <td>0.048334</td>\n",
       "      <td>0.327634</td>\n",
       "      <td>0.012805</td>\n",
       "      <td>0.000000</td>\n",
       "    </tr>\n",
       "    <tr>\n",
       "      <th>has_interaction_disperse</th>\n",
       "      <td>0.055556</td>\n",
       "      <td>0.048334</td>\n",
       "      <td>1.000000</td>\n",
       "      <td>0.051387</td>\n",
       "      <td>0.004425</td>\n",
       "      <td>0.000000</td>\n",
       "    </tr>\n",
       "    <tr>\n",
       "      <th>is_airdrop_master</th>\n",
       "      <td>0.075290</td>\n",
       "      <td>0.327634</td>\n",
       "      <td>0.051387</td>\n",
       "      <td>1.000000</td>\n",
       "      <td>0.010720</td>\n",
       "      <td>0.000000</td>\n",
       "    </tr>\n",
       "    <tr>\n",
       "      <th>seed_suspicious</th>\n",
       "      <td>0.006519</td>\n",
       "      <td>0.012805</td>\n",
       "      <td>0.004425</td>\n",
       "      <td>0.010720</td>\n",
       "      <td>1.000000</td>\n",
       "      <td>0.013752</td>\n",
       "    </tr>\n",
       "    <tr>\n",
       "      <th>interact_less_5tx</th>\n",
       "      <td>0.000000</td>\n",
       "      <td>0.000000</td>\n",
       "      <td>0.000000</td>\n",
       "      <td>0.000000</td>\n",
       "      <td>0.013752</td>\n",
       "      <td>1.000000</td>\n",
       "    </tr>\n",
       "  </tbody>\n",
       "</table>\n",
       "</div>"
      ],
      "text/plain": [
       "                           has_interaction_toxic  has_interaction_airdrop_m   \n",
       "has_interaction_toxic                   1.000000                   0.085434  \\\n",
       "has_interaction_airdrop_m               0.085434                   1.000000   \n",
       "has_interaction_disperse                0.055556                   0.048334   \n",
       "is_airdrop_master                       0.075290                   0.327634   \n",
       "seed_suspicious                         0.006519                   0.012805   \n",
       "interact_less_5tx                       0.000000                   0.000000   \n",
       "\n",
       "                           has_interaction_disperse  is_airdrop_master   \n",
       "has_interaction_toxic                      0.055556           0.075290  \\\n",
       "has_interaction_airdrop_m                  0.048334           0.327634   \n",
       "has_interaction_disperse                   1.000000           0.051387   \n",
       "is_airdrop_master                          0.051387           1.000000   \n",
       "seed_suspicious                            0.004425           0.010720   \n",
       "interact_less_5tx                          0.000000           0.000000   \n",
       "\n",
       "                           seed_suspicious  interact_less_5tx  \n",
       "has_interaction_toxic             0.006519           0.000000  \n",
       "has_interaction_airdrop_m         0.012805           0.000000  \n",
       "has_interaction_disperse          0.004425           0.000000  \n",
       "is_airdrop_master                 0.010720           0.000000  \n",
       "seed_suspicious                   1.000000           0.013752  \n",
       "interact_less_5tx                 0.013752           1.000000  "
      ]
     },
     "execution_count": 49,
     "metadata": {},
     "output_type": "execute_result"
    }
   ],
   "source": [
    "from scipy.spatial.distance import pdist\n",
    "\n",
    "def jaccard_similarity_matrix(df):\n",
    "    \n",
    "    n = df.shape[1]\n",
    "    scores = 1 - pdist(np.array(df).T, metric='jaccard')\n",
    "    result = np.zeros((n,n))\n",
    "    result[np.triu_indices(n, k=1)] = scores\n",
    "    result += result.T\n",
    "    np.fill_diagonal(result, 1)\n",
    "    return pd.DataFrame(result, index=df.columns, columns=df.columns)\n",
    "\n",
    "jaccard_similarity = jaccard_similarity_matrix(df_matching_address[interaction_bool])\n",
    "jaccard_similarity"
   ]
  },
  {
   "cell_type": "code",
   "execution_count": 50,
   "metadata": {},
   "outputs": [
    {
     "data": {
      "text/plain": [
       "<Axes: >"
      ]
     },
     "execution_count": 50,
     "metadata": {},
     "output_type": "execute_result"
    },
    {
     "data": {
      "image/png": "[encoded data removed]",
      "text/plain": [
       "<Figure size 640x480 with 2 Axes>"
      ]
     },
     "metadata": {},
     "output_type": "display_data"
    }
   ],
   "source": [
    "import seaborn as sns\n",
    "sns.heatmap(jaccard_similarity, annot=True)"
   ]
  },
  {
   "cell_type": "code",
   "execution_count": 51,
   "metadata": {},
   "outputs": [
    {
     "name": "stdout",
     "output_type": "stream",
     "text": [
      "Number of addresses that interacted with a suspicious contract or address: 2815\n"
     ]
    }
   ],
   "source": [
    "df_matching_address['flagged'] = df_matching_address[interaction_bool].sum(axis=1) > 0\n",
    "df_interact_sus_2 = df_matching_address[df_matching_address['flagged'] == True]\n",
    "print(f'Number of addresses that interacted with a suspicious contract or address: {df_interact_sus_2.shape[0]}')"
   ]
  },
  {
   "cell_type": "code",
   "execution_count": 52,
   "metadata": {},
   "outputs": [],
   "source": [
    "df_vote_sus_2 = df_votes[df_votes['voter'].isin(df_interact_sus_2['address'])]\n",
    "# count_unique_vote_grant = df_votes.drop_duplicates(subset=['grantAddress', 'voter']).groupby('grantAddress')['id'].count().sort_values(ascending=False).reset_index().head(10)\n",
    "count_suspicious_vote_grant_2 = df_vote_sus_2['grantAddress'].value_counts().reset_index()\n",
    "df_vote_grant_2 = count_unique_vote_grant.merge(count_suspicious_vote_grant_2, left_on='grantAddress', right_on='grantAddress', how='left').fillna(0).rename(columns={'id': 'count_unique_vote', 'count': 'count_suspicious_vote'})"
   ]
  },
  {
   "cell_type": "code",
   "execution_count": 53,
   "metadata": {},
   "outputs": [
    {
     "name": "stdout",
     "output_type": "stream",
     "text": [
      "Number of suspicious votes 16274 Number of projects voted: 112\n",
      "number of grants: 112\n"
     ]
    },
    {
     "data": {
      "text/html": [
       "<div>\n",
       "<style scoped>\n",
       "    .dataframe tbody tr th:only-of-type {\n",
       "        vertical-align: middle;\n",
       "    }\n",
       "\n",
       "    .dataframe tbody tr th {\n",
       "        vertical-align: top;\n",
       "    }\n",
       "\n",
       "    .dataframe thead th {\n",
       "        text-align: right;\n",
       "    }\n",
       "</style>\n",
       "<table border=\"1\" class=\"dataframe\">\n",
       "  <thead>\n",
       "    <tr style=\"text-align: right;\">\n",
       "      <th></th>\n",
       "      <th>grantAddress</th>\n",
       "      <th>metadata.application.project.title</th>\n",
       "      <th>percentage_suspicious_vote</th>\n",
       "      <th>count_suspicious_vote</th>\n",
       "      <th>roundId</th>\n",
       "      <th>status</th>\n",
       "    </tr>\n",
       "  </thead>\n",
       "  <tbody>\n",
       "    <tr>\n",
       "      <th>110</th>\n",
       "      <td>0xff16d64179a02d6a56a1183a28f1d6293646e2dd</td>\n",
       "      <td>Smart Invoice</td>\n",
       "      <td>70.000000</td>\n",
       "      <td>7</td>\n",
       "      <td>0x12bb5bbbfe596dbc489d209299b8302c3300fa40</td>\n",
       "      <td>APPROVED</td>\n",
       "    </tr>\n",
       "    <tr>\n",
       "      <th>111</th>\n",
       "      <td>0x7e30fb962f951ef78d901865f87dd036fc5aa946</td>\n",
       "      <td>Shivarthu Democracy</td>\n",
       "      <td>66.666667</td>\n",
       "      <td>2</td>\n",
       "      <td>0x12bb5bbbfe596dbc489d209299b8302c3300fa40</td>\n",
       "      <td>APPROVED</td>\n",
       "    </tr>\n",
       "    <tr>\n",
       "      <th>102</th>\n",
       "      <td>0x9f4bc8b266ec6832d1339b62a6f04f35fcddd846</td>\n",
       "      <td>Project LION: Building Leo</td>\n",
       "      <td>50.000000</td>\n",
       "      <td>8</td>\n",
       "      <td>0x12bb5bbbfe596dbc489d209299b8302c3300fa40</td>\n",
       "      <td>APPROVED</td>\n",
       "    </tr>\n",
       "    <tr>\n",
       "      <th>109</th>\n",
       "      <td>0x048669c431230a9a8298b7ec045f1e1137827cca</td>\n",
       "      <td>Blockhead: account tracker, block explorer and...</td>\n",
       "      <td>50.000000</td>\n",
       "      <td>5</td>\n",
       "      <td>0x12bb5bbbfe596dbc489d209299b8302c3300fa40</td>\n",
       "      <td>APPROVED</td>\n",
       "    </tr>\n",
       "    <tr>\n",
       "      <th>93</th>\n",
       "      <td>0xb62e762af637b49eb4870bce8fe21bfff189e495</td>\n",
       "      <td>Grant Review Dashboard</td>\n",
       "      <td>50.000000</td>\n",
       "      <td>13</td>\n",
       "      <td>0x12bb5bbbfe596dbc489d209299b8302c3300fa40</td>\n",
       "      <td>APPROVED</td>\n",
       "    </tr>\n",
       "    <tr>\n",
       "      <th>105</th>\n",
       "      <td>0x372628361ea225aef0fdba0ceadb297f2b4330ac</td>\n",
       "      <td>Wireshape - Open Blockchain for Product Data</td>\n",
       "      <td>50.000000</td>\n",
       "      <td>7</td>\n",
       "      <td>0x12bb5bbbfe596dbc489d209299b8302c3300fa40</td>\n",
       "      <td>APPROVED</td>\n",
       "    </tr>\n",
       "    <tr>\n",
       "      <th>87</th>\n",
       "      <td>0x2f4bcd8adbe961290f2c4df752852466e7d655c9</td>\n",
       "      <td>StatelessArt</td>\n",
       "      <td>48.387097</td>\n",
       "      <td>15</td>\n",
       "      <td>0x12bb5bbbfe596dbc489d209299b8302c3300fa40</td>\n",
       "      <td>APPROVED</td>\n",
       "    </tr>\n",
       "    <tr>\n",
       "      <th>106</th>\n",
       "      <td>0x8d5d62099f937fb31e5f5078838836b3dc14eb24</td>\n",
       "      <td>HODL Totals</td>\n",
       "      <td>46.153846</td>\n",
       "      <td>6</td>\n",
       "      <td>0x12bb5bbbfe596dbc489d209299b8302c3300fa40</td>\n",
       "      <td>APPROVED</td>\n",
       "    </tr>\n",
       "    <tr>\n",
       "      <th>101</th>\n",
       "      <td>0xbbbb17a8c1ce64be28facd93b22450abb01b5dca</td>\n",
       "      <td>MEVBoostAA</td>\n",
       "      <td>43.750000</td>\n",
       "      <td>7</td>\n",
       "      <td>0x12bb5bbbfe596dbc489d209299b8302c3300fa40</td>\n",
       "      <td>APPROVED</td>\n",
       "    </tr>\n",
       "    <tr>\n",
       "      <th>77</th>\n",
       "      <td>0x0b7246ef74ca7b37fdc3d15be4f0b49876622f95</td>\n",
       "      <td>Praise</td>\n",
       "      <td>43.478261</td>\n",
       "      <td>20</td>\n",
       "      <td>0x12bb5bbbfe596dbc489d209299b8302c3300fa40</td>\n",
       "      <td>APPROVED</td>\n",
       "    </tr>\n",
       "    <tr>\n",
       "      <th>67</th>\n",
       "      <td>0x2d1036d679f3cdca0ea86bb0e29540d52346cbc9</td>\n",
       "      <td>DataverseOS</td>\n",
       "      <td>41.379310</td>\n",
       "      <td>24</td>\n",
       "      <td>0x12bb5bbbfe596dbc489d209299b8302c3300fa40</td>\n",
       "      <td>APPROVED</td>\n",
       "    </tr>\n",
       "    <tr>\n",
       "      <th>85</th>\n",
       "      <td>0x77fb4fa1aba92576942ad34bc47834059b84e693</td>\n",
       "      <td>signless</td>\n",
       "      <td>41.025641</td>\n",
       "      <td>16</td>\n",
       "      <td>0x12bb5bbbfe596dbc489d209299b8302c3300fa40</td>\n",
       "      <td>APPROVED</td>\n",
       "    </tr>\n",
       "    <tr>\n",
       "      <th>103</th>\n",
       "      <td>0xa09a8433616ca0e1085248b15eaa06712c0f9cb5</td>\n",
       "      <td>DecentrAgora</td>\n",
       "      <td>40.000000</td>\n",
       "      <td>6</td>\n",
       "      <td>0x12bb5bbbfe596dbc489d209299b8302c3300fa40</td>\n",
       "      <td>APPROVED</td>\n",
       "    </tr>\n",
       "    <tr>\n",
       "      <th>74</th>\n",
       "      <td>0xf4a96d0025717b37252dce516e33541eadcf1e70</td>\n",
       "      <td>ROBOTS.TXT</td>\n",
       "      <td>40.000000</td>\n",
       "      <td>20</td>\n",
       "      <td>0x12bb5bbbfe596dbc489d209299b8302c3300fa40</td>\n",
       "      <td>APPROVED</td>\n",
       "    </tr>\n",
       "    <tr>\n",
       "      <th>98</th>\n",
       "      <td>0x8df607ab90e7c5cce9973975a9ef1f32a95d6bcc</td>\n",
       "      <td>Sadaiv</td>\n",
       "      <td>39.130435</td>\n",
       "      <td>9</td>\n",
       "      <td>0x12bb5bbbfe596dbc489d209299b8302c3300fa40</td>\n",
       "      <td>APPROVED</td>\n",
       "    </tr>\n",
       "    <tr>\n",
       "      <th>70</th>\n",
       "      <td>0xf754ebcff01cc96a42c393432c93aa7df2fee990</td>\n",
       "      <td>fatcat.money</td>\n",
       "      <td>37.037037</td>\n",
       "      <td>20</td>\n",
       "      <td>0x12bb5bbbfe596dbc489d209299b8302c3300fa40</td>\n",
       "      <td>APPROVED</td>\n",
       "    </tr>\n",
       "    <tr>\n",
       "      <th>81</th>\n",
       "      <td>0x6a7e3ce0ebd1c79a0cd895c7f370aab9c43482de</td>\n",
       "      <td>Governator</td>\n",
       "      <td>36.585366</td>\n",
       "      <td>15</td>\n",
       "      <td>0x12bb5bbbfe596dbc489d209299b8302c3300fa40</td>\n",
       "      <td>APPROVED</td>\n",
       "    </tr>\n",
       "    <tr>\n",
       "      <th>66</th>\n",
       "      <td>0xfede2257dc043f53a24ac7947218bacfb0013b09</td>\n",
       "      <td>Zuzu</td>\n",
       "      <td>36.065574</td>\n",
       "      <td>22</td>\n",
       "      <td>0x12bb5bbbfe596dbc489d209299b8302c3300fa40</td>\n",
       "      <td>APPROVED</td>\n",
       "    </tr>\n",
       "    <tr>\n",
       "      <th>30</th>\n",
       "      <td>0x9d4e94db689bc471e45b0a18b7bda36fccec9c3b</td>\n",
       "      <td>beaconcha.in</td>\n",
       "      <td>36.051502</td>\n",
       "      <td>84</td>\n",
       "      <td>0x12bb5bbbfe596dbc489d209299b8302c3300fa40</td>\n",
       "      <td>APPROVED</td>\n",
       "    </tr>\n",
       "    <tr>\n",
       "      <th>55</th>\n",
       "      <td>0xbc0b437c95c7165f7d1f7c966cb2227da52a27d7</td>\n",
       "      <td>Kredeum NFTs Factory</td>\n",
       "      <td>35.897436</td>\n",
       "      <td>28</td>\n",
       "      <td>0x12bb5bbbfe596dbc489d209299b8302c3300fa40</td>\n",
       "      <td>APPROVED</td>\n",
       "    </tr>\n",
       "    <tr>\n",
       "      <th>79</th>\n",
       "      <td>0x2ac6a3561a43f06d62602ef9728c2b9eec393326</td>\n",
       "      <td>1W3</td>\n",
       "      <td>35.714286</td>\n",
       "      <td>15</td>\n",
       "      <td>0x12bb5bbbfe596dbc489d209299b8302c3300fa40</td>\n",
       "      <td>APPROVED</td>\n",
       "    </tr>\n",
       "    <tr>\n",
       "      <th>68</th>\n",
       "      <td>0xcef7299bdd49c4ded9f85a788c9896f23526ed92</td>\n",
       "      <td>Backpack</td>\n",
       "      <td>35.714286</td>\n",
       "      <td>20</td>\n",
       "      <td>0x12bb5bbbfe596dbc489d209299b8302c3300fa40</td>\n",
       "      <td>APPROVED</td>\n",
       "    </tr>\n",
       "    <tr>\n",
       "      <th>61</th>\n",
       "      <td>0x97843608a00e2bbc75ab0c1911387e002565dede</td>\n",
       "      <td>Scaffold-ETH 2</td>\n",
       "      <td>35.714286</td>\n",
       "      <td>25</td>\n",
       "      <td>0x12bb5bbbfe596dbc489d209299b8302c3300fa40</td>\n",
       "      <td>APPROVED</td>\n",
       "    </tr>\n",
       "    <tr>\n",
       "      <th>54</th>\n",
       "      <td>0xff74a280f1514d064d31ff7dd83f7e799cc0a0b7</td>\n",
       "      <td>ethstaker.tax</td>\n",
       "      <td>35.365854</td>\n",
       "      <td>29</td>\n",
       "      <td>0x12bb5bbbfe596dbc489d209299b8302c3300fa40</td>\n",
       "      <td>APPROVED</td>\n",
       "    </tr>\n",
       "    <tr>\n",
       "      <th>45</th>\n",
       "      <td>0xfda84cfc7d83d9d744590280289160f8118966e5</td>\n",
       "      <td>⚡️TurboETH - Web3 Build System</td>\n",
       "      <td>34.677419</td>\n",
       "      <td>43</td>\n",
       "      <td>0x12bb5bbbfe596dbc489d209299b8302c3300fa40</td>\n",
       "      <td>APPROVED</td>\n",
       "    </tr>\n",
       "    <tr>\n",
       "      <th>24</th>\n",
       "      <td>0xe6d7b9fb31b93e542f57c7b6bfa0a5a48efc9d0f</td>\n",
       "      <td>Chaineye</td>\n",
       "      <td>33.676093</td>\n",
       "      <td>131</td>\n",
       "      <td>0x12bb5bbbfe596dbc489d209299b8302c3300fa40</td>\n",
       "      <td>APPROVED</td>\n",
       "    </tr>\n",
       "    <tr>\n",
       "      <th>21</th>\n",
       "      <td>0x7a0857d314f62d383341b4ed8fe380e7c98fb978</td>\n",
       "      <td>Starksheet</td>\n",
       "      <td>33.490566</td>\n",
       "      <td>142</td>\n",
       "      <td>0x12bb5bbbfe596dbc489d209299b8302c3300fa40</td>\n",
       "      <td>APPROVED</td>\n",
       "    </tr>\n",
       "    <tr>\n",
       "      <th>95</th>\n",
       "      <td>0x85f5a4e1fc4f44a014b940a224dde22d6e73f2dc</td>\n",
       "      <td>Sovr</td>\n",
       "      <td>33.333333</td>\n",
       "      <td>8</td>\n",
       "      <td>0x12bb5bbbfe596dbc489d209299b8302c3300fa40</td>\n",
       "      <td>APPROVED</td>\n",
       "    </tr>\n",
       "    <tr>\n",
       "      <th>94</th>\n",
       "      <td>0x01d8aeff110a65da4052f140c19af10374e44525</td>\n",
       "      <td>The Science Commons Initiative</td>\n",
       "      <td>33.333333</td>\n",
       "      <td>8</td>\n",
       "      <td>0x12bb5bbbfe596dbc489d209299b8302c3300fa40</td>\n",
       "      <td>APPROVED</td>\n",
       "    </tr>\n",
       "    <tr>\n",
       "      <th>78</th>\n",
       "      <td>0x0035cc37599241d007d0aba1fb931c5fa757f7a1</td>\n",
       "      <td>EVMcrispr</td>\n",
       "      <td>33.333333</td>\n",
       "      <td>15</td>\n",
       "      <td>0x12bb5bbbfe596dbc489d209299b8302c3300fa40</td>\n",
       "      <td>APPROVED</td>\n",
       "    </tr>\n",
       "  </tbody>\n",
       "</table>\n",
       "</div>"
      ],
      "text/plain": [
       "                                   grantAddress   \n",
       "110  0xff16d64179a02d6a56a1183a28f1d6293646e2dd  \\\n",
       "111  0x7e30fb962f951ef78d901865f87dd036fc5aa946   \n",
       "102  0x9f4bc8b266ec6832d1339b62a6f04f35fcddd846   \n",
       "109  0x048669c431230a9a8298b7ec045f1e1137827cca   \n",
       "93   0xb62e762af637b49eb4870bce8fe21bfff189e495   \n",
       "105  0x372628361ea225aef0fdba0ceadb297f2b4330ac   \n",
       "87   0x2f4bcd8adbe961290f2c4df752852466e7d655c9   \n",
       "106  0x8d5d62099f937fb31e5f5078838836b3dc14eb24   \n",
       "101  0xbbbb17a8c1ce64be28facd93b22450abb01b5dca   \n",
       "77   0x0b7246ef74ca7b37fdc3d15be4f0b49876622f95   \n",
       "67   0x2d1036d679f3cdca0ea86bb0e29540d52346cbc9   \n",
       "85   0x77fb4fa1aba92576942ad34bc47834059b84e693   \n",
       "103  0xa09a8433616ca0e1085248b15eaa06712c0f9cb5   \n",
       "74   0xf4a96d0025717b37252dce516e33541eadcf1e70   \n",
       "98   0x8df607ab90e7c5cce9973975a9ef1f32a95d6bcc   \n",
       "70   0xf754ebcff01cc96a42c393432c93aa7df2fee990   \n",
       "81   0x6a7e3ce0ebd1c79a0cd895c7f370aab9c43482de   \n",
       "66   0xfede2257dc043f53a24ac7947218bacfb0013b09   \n",
       "30   0x9d4e94db689bc471e45b0a18b7bda36fccec9c3b   \n",
       "55   0xbc0b437c95c7165f7d1f7c966cb2227da52a27d7   \n",
       "79   0x2ac6a3561a43f06d62602ef9728c2b9eec393326   \n",
       "68   0xcef7299bdd49c4ded9f85a788c9896f23526ed92   \n",
       "61   0x97843608a00e2bbc75ab0c1911387e002565dede   \n",
       "54   0xff74a280f1514d064d31ff7dd83f7e799cc0a0b7   \n",
       "45   0xfda84cfc7d83d9d744590280289160f8118966e5   \n",
       "24   0xe6d7b9fb31b93e542f57c7b6bfa0a5a48efc9d0f   \n",
       "21   0x7a0857d314f62d383341b4ed8fe380e7c98fb978   \n",
       "95   0x85f5a4e1fc4f44a014b940a224dde22d6e73f2dc   \n",
       "94   0x01d8aeff110a65da4052f140c19af10374e44525   \n",
       "78   0x0035cc37599241d007d0aba1fb931c5fa757f7a1   \n",
       "\n",
       "                    metadata.application.project.title   \n",
       "110                                      Smart Invoice  \\\n",
       "111                                Shivarthu Democracy   \n",
       "102                         Project LION: Building Leo   \n",
       "109  Blockhead: account tracker, block explorer and...   \n",
       "93                              Grant Review Dashboard   \n",
       "105       Wireshape - Open Blockchain for Product Data   \n",
       "87                                        StatelessArt   \n",
       "106                                        HODL Totals   \n",
       "101                                         MEVBoostAA   \n",
       "77                                              Praise   \n",
       "67                                         DataverseOS   \n",
       "85                                            signless   \n",
       "103                                       DecentrAgora   \n",
       "74                                          ROBOTS.TXT   \n",
       "98                                              Sadaiv   \n",
       "70                                        fatcat.money   \n",
       "81                                          Governator   \n",
       "66                                                Zuzu   \n",
       "30                                        beaconcha.in   \n",
       "55                                Kredeum NFTs Factory   \n",
       "79                                                 1W3   \n",
       "68                                            Backpack   \n",
       "61                                      Scaffold-ETH 2   \n",
       "54                                       ethstaker.tax   \n",
       "45                      ⚡️TurboETH - Web3 Build System   \n",
       "24                                            Chaineye   \n",
       "21                                          Starksheet   \n",
       "95                                                Sovr   \n",
       "94                      The Science Commons Initiative   \n",
       "78                                           EVMcrispr   \n",
       "\n",
       "     percentage_suspicious_vote  count_suspicious_vote   \n",
       "110                   70.000000                      7  \\\n",
       "111                   66.666667                      2   \n",
       "102                   50.000000                      8   \n",
       "109                   50.000000                      5   \n",
       "93                    50.000000                     13   \n",
       "105                   50.000000                      7   \n",
       "87                    48.387097                     15   \n",
       "106                   46.153846                      6   \n",
       "101                   43.750000                      7   \n",
       "77                    43.478261                     20   \n",
       "67                    41.379310                     24   \n",
       "85                    41.025641                     16   \n",
       "103                   40.000000                      6   \n",
       "74                    40.000000                     20   \n",
       "98                    39.130435                      9   \n",
       "70                    37.037037                     20   \n",
       "81                    36.585366                     15   \n",
       "66                    36.065574                     22   \n",
       "30                    36.051502                     84   \n",
       "55                    35.897436                     28   \n",
       "79                    35.714286                     15   \n",
       "68                    35.714286                     20   \n",
       "61                    35.714286                     25   \n",
       "54                    35.365854                     29   \n",
       "45                    34.677419                     43   \n",
       "24                    33.676093                    131   \n",
       "21                    33.490566                    142   \n",
       "95                    33.333333                      8   \n",
       "94                    33.333333                      8   \n",
       "78                    33.333333                     15   \n",
       "\n",
       "                                        roundId    status  \n",
       "110  0x12bb5bbbfe596dbc489d209299b8302c3300fa40  APPROVED  \n",
       "111  0x12bb5bbbfe596dbc489d209299b8302c3300fa40  APPROVED  \n",
       "102  0x12bb5bbbfe596dbc489d209299b8302c3300fa40  APPROVED  \n",
       "109  0x12bb5bbbfe596dbc489d209299b8302c3300fa40  APPROVED  \n",
       "93   0x12bb5bbbfe596dbc489d209299b8302c3300fa40  APPROVED  \n",
       "105  0x12bb5bbbfe596dbc489d209299b8302c3300fa40  APPROVED  \n",
       "87   0x12bb5bbbfe596dbc489d209299b8302c3300fa40  APPROVED  \n",
       "106  0x12bb5bbbfe596dbc489d209299b8302c3300fa40  APPROVED  \n",
       "101  0x12bb5bbbfe596dbc489d209299b8302c3300fa40  APPROVED  \n",
       "77   0x12bb5bbbfe596dbc489d209299b8302c3300fa40  APPROVED  \n",
       "67   0x12bb5bbbfe596dbc489d209299b8302c3300fa40  APPROVED  \n",
       "85   0x12bb5bbbfe596dbc489d209299b8302c3300fa40  APPROVED  \n",
       "103  0x12bb5bbbfe596dbc489d209299b8302c3300fa40  APPROVED  \n",
       "74   0x12bb5bbbfe596dbc489d209299b8302c3300fa40  APPROVED  \n",
       "98   0x12bb5bbbfe596dbc489d209299b8302c3300fa40  APPROVED  \n",
       "70   0x12bb5bbbfe596dbc489d209299b8302c3300fa40  APPROVED  \n",
       "81   0x12bb5bbbfe596dbc489d209299b8302c3300fa40  APPROVED  \n",
       "66   0x12bb5bbbfe596dbc489d209299b8302c3300fa40  APPROVED  \n",
       "30   0x12bb5bbbfe596dbc489d209299b8302c3300fa40  APPROVED  \n",
       "55   0x12bb5bbbfe596dbc489d209299b8302c3300fa40  APPROVED  \n",
       "79   0x12bb5bbbfe596dbc489d209299b8302c3300fa40  APPROVED  \n",
       "68   0x12bb5bbbfe596dbc489d209299b8302c3300fa40  APPROVED  \n",
       "61   0x12bb5bbbfe596dbc489d209299b8302c3300fa40  APPROVED  \n",
       "54   0x12bb5bbbfe596dbc489d209299b8302c3300fa40  APPROVED  \n",
       "45   0x12bb5bbbfe596dbc489d209299b8302c3300fa40  APPROVED  \n",
       "24   0x12bb5bbbfe596dbc489d209299b8302c3300fa40  APPROVED  \n",
       "21   0x12bb5bbbfe596dbc489d209299b8302c3300fa40  APPROVED  \n",
       "95   0x12bb5bbbfe596dbc489d209299b8302c3300fa40  APPROVED  \n",
       "94   0x12bb5bbbfe596dbc489d209299b8302c3300fa40  APPROVED  \n",
       "78   0x12bb5bbbfe596dbc489d209299b8302c3300fa40  APPROVED  "
      ]
     },
     "execution_count": 53,
     "metadata": {},
     "output_type": "execute_result"
    }
   ],
   "source": [
    "df_vote_grant_2['percentage_suspicious_vote'] = df_vote_grant_2['count_suspicious_vote'] / df_vote_grant_2['count_unique_vote'] * 100\n",
    "print(f'Number of suspicious votes {df_vote_sus_2.shape[0]} Number of projects voted: {df_vote_sus_2.grantAddress.nunique()}')\n",
    "# Merge the project the user voted for and the projects \n",
    "gr_sus_2 = df_vote_grant_2.merge(df_application, left_on='grantAddress', right_on='metadata.application.recipient', how='left').drop_duplicates(subset='grantAddress').loc[:, ['grantAddress', 'metadata.application.project.title', 'percentage_suspicious_vote', 'count_suspicious_vote', 'roundId', 'status']].reset_index(drop=True).sort_values(by='percentage_suspicious_vote', ascending=False)\n",
    "print(f'number of grants: {gr_sus.shape[0]}')\n",
    "gr_sus_2.head(30)"
   ]
  },
  {
   "cell_type": "code",
   "execution_count": 54,
   "metadata": {},
   "outputs": [],
   "source": [
    "boolean_to_keep = ['seed_suspicious', 'has_interaction_toxic', 'has_no_pool_interaction', 'has_interaction_tornado', 'has_interaction_disperse', 'is_airdrop_master', 'has_interaction_airdrop_m', 'interacted_other_ctbt', 'interact_less_5tx', 'flagged']"
   ]
  },
  {
   "cell_type": "code",
   "execution_count": 55,
   "metadata": {},
   "outputs": [
    {
     "data": {
      "text/plain": [
       "seed_suspicious                489\n",
       "has_interaction_toxic          283\n",
       "has_no_pool_interaction      12670\n",
       "has_interaction_tornado        155\n",
       "has_interaction_disperse       192\n",
       "is_airdrop_master              831\n",
       "has_interaction_airdrop_m     2042\n",
       "interacted_other_ctbt         3994\n",
       "interact_less_5tx               27\n",
       "flagged                       2815\n",
       "dtype: int64"
      ]
     },
     "execution_count": 55,
     "metadata": {},
     "output_type": "execute_result"
    }
   ],
   "source": [
    "df_matching_address[boolean_to_keep].sum()"
   ]
  },
  {
   "cell_type": "code",
   "execution_count": 56,
   "metadata": {},
   "outputs": [
    {
     "name": "stdout",
     "output_type": "stream",
     "text": [
      "number of squelched votes out of 81811\n"
     ]
    },
    {
     "data": {
      "text/plain": [
       "coefficient    5598\n",
       "dtype: int64"
      ]
     },
     "execution_count": 56,
     "metadata": {},
     "output_type": "execute_result"
    }
   ],
   "source": [
    "final_merge = df_votes.merge(df_matching_address[boolean_to_keep + ['address']], left_on='voter', right_on='address', how='left')\n",
    "print(f'number of squelched votes out of {final_merge.shape[0]}')\n",
    "final_merge.shape[0] - final_merge[['coefficient']].sum() "
   ]
  },
  {
   "cell_type": "code",
   "execution_count": 57,
   "metadata": {},
   "outputs": [
    {
     "name": "stdout",
     "output_type": "stream",
     "text": [
      "(81811, 16)\n",
      "(81811, 27)\n"
     ]
    }
   ],
   "source": [
    "print(df_votes.shape)\n",
    "print(final_merge.shape)"
   ]
  },
  {
   "cell_type": "code",
   "execution_count": 59,
   "metadata": {},
   "outputs": [
    {
     "name": "stderr",
     "output_type": "stream",
     "text": [
      "C:\\Users\\DELL Admin\\AppData\\Local\\Temp\\ipykernel_15020\\2681738413.py:7: DtypeWarning: Columns (15,16) have mixed types. Specify dtype option on import or set low_memory=False.\n",
      "  df_votes_stephi = pd.read_csv(os.path.join(DATA_DIR_STEFI, CSV_STEPHI))\n"
     ]
    },
    {
     "name": "stdout",
     "output_type": "stream",
     "text": [
      "(81811, 19) votes stephi\n",
      "(81811, 27) final merge\n",
      "(81811, 29) votes merge\n"
     ]
    },
    {
     "data": {
      "image/png": "[encoded data removed]",
      "text/plain": [
       "<Figure size 640x480 with 2 Axes>"
      ]
     },
     "metadata": {},
     "output_type": "display_data"
    }
   ],
   "source": [
    "# Adding Stakeriddo and Gray flagged wallet\n",
    "\n",
    "DATA_DIR_STEFI = os.path.join(current_dir.parent.parent, 'stefi')\n",
    "CSV_STEPHI = 'sso_odc_analysis.csv'\n",
    "\n",
    "# load data\n",
    "df_votes_stephi = pd.read_csv(os.path.join(DATA_DIR_STEFI, CSV_STEPHI))\n",
    "print(f'{df_votes_stephi.shape} votes stephi')\n",
    "print(f'{final_merge.shape} final merge')\n",
    "df_stephi_bool_voter = df_votes_stephi[['voter', 'stakeridoo_detected', 'doge_detected']]\n",
    "df_merge = final_merge.merge(df_stephi_bool_voter.drop_duplicates(subset=['voter']), left_on='voter', right_on='voter', how='left')\n",
    "print(f'{df_merge.shape} votes merge')\n",
    "\n",
    "df_merge['bool_gitcoin_detected'] = np.logical_not(df_merge.success.astype(bool))\n",
    "df_merge['stakeridoo_detected'].fillna(False, inplace=True)\n",
    "df_merge['doge_detected'].fillna(False, inplace=True)\n",
    "df_merge['odc_detected'] = np.logical_or(np.logical_or(df_merge['stakeridoo_detected'], df_merge['doge_detected']), df_merge['flagged'])\n",
    "\n",
    "boolean_jaccard = boolean_to_keep + ['stakeridoo_detected', 'doge_detected', 'bool_gitcoin_detected', 'odc_detected']\n",
    "jaccard_similarity_2 = jaccard_similarity_matrix(df_merge[boolean_jaccard])\n",
    "sns.heatmap(jaccard_similarity_2)\n",
    "\n",
    "df_merge['proposed_coeff'] = np.logical_not(np.logical_or(df_merge['odc_detected'], df_merge['bool_gitcoin_detected']))\n",
    "\n",
    "df_merge.drop(columns=['bool_gitcoin_detected', 'address']).to_csv(f'../output_gitcoin/n_{CSV_GITCOIN_GRANTS}', index=False)"
   ]
  },
  {
   "cell_type": "code",
   "execution_count": 60,
   "metadata": {},
   "outputs": [
    {
     "data": {
      "text/plain": [
       "seed_suspicious               2319\n",
       "has_interaction_toxic         1763\n",
       "has_no_pool_interaction      69503\n",
       "has_interaction_tornado       1271\n",
       "has_interaction_disperse      1192\n",
       "is_airdrop_master             5230\n",
       "has_interaction_airdrop_m    12198\n",
       "interacted_other_ctbt        22821\n",
       "interact_less_5tx               83\n",
       "flagged                      16274\n",
       "stakeridoo_detected           3527\n",
       "doge_detected                  215\n",
       "bool_gitcoin_detected         1635\n",
       "odc_detected                 19274\n",
       "dtype: int64"
      ]
     },
     "execution_count": 60,
     "metadata": {},
     "output_type": "execute_result"
    }
   ],
   "source": [
    "df_merge[boolean_jaccard].sum(axis=0)"
   ]
  }
 ],
 "metadata": {
  "kernelspec": {
   "display_name": "venvotes",
   "language": "python",
   "name": "python3"
  },
  "language_info": {
   "codemirror_mode": {
    "name": "ipython",
    "version": 3
   },
   "file_extension": ".py",
   "mimetype": "text/x-python",
   "name": "python",
   "nbconvert_exporter": "python",
   "pygments_lexer": "ipython3",
   "version": "3.10.9"
  },
  "orig_nbformat": 4
 },
 "nbformat": 4,
 "nbformat_minor": 2
}
