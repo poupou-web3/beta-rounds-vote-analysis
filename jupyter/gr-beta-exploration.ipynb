{
 "cells": [
  {
   "attachments": {},
   "cell_type": "markdown",
   "metadata": {},
   "source": [
    "# Sybil exploration grant climate"
   ]
  },
  {
   "cell_type": "code",
   "execution_count": 1,
   "metadata": {},
   "outputs": [],
   "source": [
    "import os\n",
    "import sys\n",
    "from pathlib import Path\n",
    "import numpy as np\n",
    "import pandas as pd\n",
    "pd.options.mode.chained_assignment = None"
   ]
  },
  {
   "cell_type": "code",
   "execution_count": 2,
   "metadata": {},
   "outputs": [],
   "source": [
    "from sblegos.TransactionAnalyser import TransactionAnalyser\n",
    "from sbutils.LoadData import LoadData\n",
    "from sbdata.FlipsideApi import FlipsideApi"
   ]
  },
  {
   "cell_type": "code",
   "execution_count": 3,
   "metadata": {},
   "outputs": [],
   "source": [
    "current_dir = Path(os.getcwd())"
   ]
  },
  {
   "attachments": {},
   "cell_type": "markdown",
   "metadata": {},
   "source": [
    "### Initialisation of the data"
   ]
  },
  {
   "attachments": {},
   "cell_type": "markdown",
   "metadata": {},
   "source": [
    "#### Grant data initialisation"
   ]
  },
  {
   "cell_type": "code",
   "execution_count": 4,
   "metadata": {},
   "outputs": [],
   "source": [
    "path_to_grants = \"data/grants\"\n",
    "path_to_contributor_address = os.path.join(path_to_grants, \"address\")"
   ]
  },
  {
   "cell_type": "code",
   "execution_count": 5,
   "metadata": {},
   "outputs": [
    {
     "data": {
      "text/plain": [
       "['df_contribution_address_CLIMATE.csv',\n",
       " 'df_contribution_address_ETHEREUM.csv',\n",
       " 'df_contribution_address_FANTOM.csv',\n",
       " 'df_contribution_address_GR15.csv',\n",
       " 'df_contribution_address_OSS.csv',\n",
       " 'df_contribution_address_UNICEF.csv',\n",
       " 'unique_ctbt_address.csv']"
      ]
     },
     "execution_count": 5,
     "metadata": {},
     "output_type": "execute_result"
    }
   ],
   "source": [
    "full_path_add = os.path.join(current_dir, path_to_contributor_address)\n",
    "files = os.listdir(full_path_add)\n",
    "files"
   ]
  },
  {
   "cell_type": "code",
   "execution_count": 6,
   "metadata": {},
   "outputs": [],
   "source": [
    "csv = files[5]\n",
    "gr_round = \"UNICEF\"\n",
    "df_address = pd.read_csv(os.path.join(full_path_add, csv))\n",
    "list_address = df_address[\"address\"].tolist()"
   ]
  },
  {
   "attachments": {},
   "cell_type": "markdown",
   "metadata": {},
   "source": [
    "The list_address is then used to load all the transactions from the grant data."
   ]
  },
  {
   "attachments": {},
   "cell_type": "markdown",
   "metadata": {},
   "source": [
    "#### Data loader initialisation"
   ]
  },
  {
   "cell_type": "code",
   "execution_count": 7,
   "metadata": {},
   "outputs": [
    {
     "name": "stdout",
     "output_type": "stream",
     "text": [
      "c:\\Users\\DELL Admin\\Documents\\ODC\\DataBuilderHackathon\\transactions_full\n"
     ]
    }
   ],
   "source": [
    "path_to_parent = Path(current_dir).parent\n",
    "path_to_tx = os.path.join(path_to_parent, 'transactions_full')\n",
    "print(path_to_tx)"
   ]
  },
  {
   "attachments": {},
   "cell_type": "markdown",
   "metadata": {},
   "source": [
    "Initialize the data loader with the path to the transactions "
   ]
  },
  {
   "cell_type": "code",
   "execution_count": 8,
   "metadata": {},
   "outputs": [],
   "source": [
    "data_loader = LoadData(path_to_tx)"
   ]
  },
  {
   "attachments": {},
   "cell_type": "markdown",
   "metadata": {},
   "source": [
    "The data loader is then used to load the data from the grant data. It takes some time to load the data. 3 minutes on my computer. "
   ]
  },
  {
   "cell_type": "code",
   "execution_count": 9,
   "metadata": {},
   "outputs": [],
   "source": [
    "df_tx = data_loader.create_df_tx('ethereum', list_address)"
   ]
  },
  {
   "attachments": {},
   "cell_type": "markdown",
   "metadata": {},
   "source": [
    "#### Sybil scorer TransactionAnalyser initialisation and exploration"
   ]
  },
  {
   "cell_type": "code",
   "execution_count": 10,
   "metadata": {},
   "outputs": [],
   "source": [
    "tx_analyser = TransactionAnalyser(df_tx, df_address=df_address)"
   ]
  },
  {
   "attachments": {},
   "cell_type": "markdown",
   "metadata": {},
   "source": [
    "Verify matching addresses because the transaction data is not always complete for a specific chain. ie an address may have contributed from a chain but have zero transactions on the studyed chain, here ethereum."
   ]
  },
  {
   "cell_type": "code",
   "execution_count": 11,
   "metadata": {},
   "outputs": [
    {
     "data": {
      "text/html": [
       "<div>\n",
       "<style scoped>\n",
       "    .dataframe tbody tr th:only-of-type {\n",
       "        vertical-align: middle;\n",
       "    }\n",
       "\n",
       "    .dataframe tbody tr th {\n",
       "        vertical-align: top;\n",
       "    }\n",
       "\n",
       "    .dataframe thead th {\n",
       "        text-align: right;\n",
       "    }\n",
       "</style>\n",
       "<table border=\"1\" class=\"dataframe\">\n",
       "  <thead>\n",
       "    <tr style=\"text-align: right;\">\n",
       "      <th></th>\n",
       "      <th>address</th>\n",
       "    </tr>\n",
       "  </thead>\n",
       "  <tbody>\n",
       "    <tr>\n",
       "      <th>0</th>\n",
       "      <td>0x0000008735754eda8db6b50aeb93463045fc5c55</td>\n",
       "    </tr>\n",
       "    <tr>\n",
       "      <th>1</th>\n",
       "      <td>0x0000ce08fa224696a819877070bf378e8b131acf</td>\n",
       "    </tr>\n",
       "  </tbody>\n",
       "</table>\n",
       "</div>"
      ],
      "text/plain": [
       "                                      address\n",
       "0  0x0000008735754eda8db6b50aeb93463045fc5c55\n",
       "1  0x0000ce08fa224696a819877070bf378e8b131acf"
      ]
     },
     "execution_count": 11,
     "metadata": {},
     "output_type": "execute_result"
    }
   ],
   "source": [
    "df_matching_address = pd.DataFrame(df_tx.EOA.unique(), columns=[\"address\"])\n",
    "df_matching_address.head(2)"
   ]
  },
  {
   "cell_type": "code",
   "execution_count": 12,
   "metadata": {},
   "outputs": [
    {
     "data": {
      "text/plain": [
       "(15508, 1)"
      ]
     },
     "execution_count": 12,
     "metadata": {},
     "output_type": "execute_result"
    }
   ],
   "source": [
    "df_matching_address.shape"
   ]
  },
  {
   "cell_type": "code",
   "execution_count": 13,
   "metadata": {},
   "outputs": [],
   "source": [
    "df_matching_address['seed_same_naive'] = df_matching_address.loc[:, 'address'].apply(lambda x : tx_analyser.has_same_seed_naive(x))"
   ]
  },
  {
   "cell_type": "code",
   "execution_count": 14,
   "metadata": {},
   "outputs": [],
   "source": [
    "df_matching_address['seed_same'] = df_matching_address.loc[:, 'address'].apply(lambda x : tx_analyser.has_same_seed(x))"
   ]
  },
  {
   "cell_type": "code",
   "execution_count": 15,
   "metadata": {},
   "outputs": [],
   "source": [
    "df_matching_address['seed_suspicious'] = df_matching_address.loc[:, 'seed_same_naive'].ne(df_matching_address.loc[:, 'seed_same'])"
   ]
  },
  {
   "cell_type": "code",
   "execution_count": 16,
   "metadata": {},
   "outputs": [],
   "source": [
    "df_matching_address['less_5_tx'] = df_matching_address.loc[:, 'address'].apply(lambda x : tx_analyser.has_less_than_n_transactions(x, 5))\n",
    "df_matching_address['less_10_tx'] = df_matching_address.loc[:, 'address'].apply(lambda x : tx_analyser.has_less_than_n_transactions(x, 10))"
   ]
  },
  {
   "cell_type": "code",
   "execution_count": 17,
   "metadata": {},
   "outputs": [],
   "source": [
    "df_matching_address['interacted_other_ctbt'] = df_matching_address.loc[:, 'address'].apply(lambda x : tx_analyser.has_interacted_with_other_contributor(x))"
   ]
  },
  {
   "cell_type": "code",
   "execution_count": 18,
   "metadata": {},
   "outputs": [],
   "source": [
    "df_matching_address.set_index('address', inplace=True)"
   ]
  },
  {
   "cell_type": "code",
   "execution_count": 19,
   "metadata": {},
   "outputs": [
    {
     "data": {
      "text/plain": [
       "seed_same_naive          10973\n",
       "seed_same                11496\n",
       "seed_suspicious            567\n",
       "less_5_tx                  592\n",
       "less_10_tx                1944\n",
       "interacted_other_ctbt     5202\n",
       "dtype: int64"
      ]
     },
     "execution_count": 19,
     "metadata": {},
     "output_type": "execute_result"
    }
   ],
   "source": [
    "df_matching_address.sum()"
   ]
  },
  {
   "attachments": {},
   "cell_type": "markdown",
   "metadata": {},
   "source": [
    "Many addresses have the same seed wallet. This number should be lowered using tags to remove same wallet addresses comming from centralised exchange."
   ]
  },
  {
   "cell_type": "code",
   "execution_count": 20,
   "metadata": {},
   "outputs": [],
   "source": [
    "list_same_seed_wallets = df_matching_address[np.logical_or(df_matching_address['seed_same_naive'], df_matching_address['seed_same'])].index.tolist()"
   ]
  },
  {
   "cell_type": "code",
   "execution_count": 21,
   "metadata": {},
   "outputs": [],
   "source": [
    "df_seeder = tx_analyser.df_seed_wallet"
   ]
  },
  {
   "cell_type": "code",
   "execution_count": 22,
   "metadata": {},
   "outputs": [
    {
     "name": "stdout",
     "output_type": "stream",
     "text": [
      "4178\n"
     ]
    }
   ],
   "source": [
    "seeder = np.unique(df_seeder.from_address.values)\n",
    "print(len(seeder))"
   ]
  },
  {
   "cell_type": "code",
   "execution_count": 23,
   "metadata": {},
   "outputs": [
    {
     "name": "stdout",
     "output_type": "stream",
     "text": [
      "HTTPSConnectionPool(host='api.flipsidecrypto.com', port=443): Max retries exceeded with url: /queries (Caused by NewConnectionError('<urllib3.connection.HTTPSConnection object at 0x000001AAA64C51E0>: Failed to establish a new connection: [Errno 11001] getaddrinfo failed'))\n",
      "\n",
      "                SELECT *\n",
      "                FROM crosschain.address_labels\n",
      "                WHERE ADDRESS IN (LOWER('0x000566b53e028d21e104e4320de61c2314ef4064'),LOWER('0x000f422887ea7d370ff31173fd3b46c8f66a5b1c'),LOWER('0x0038d020cfe71ae652c7561978b1f74ad7291bf5'),LOWER('0x003e2b1599587a6c2f38928ea8f874a74fb1bbbc'),LOWER('0x003e36550908907c2a2da960fd19a419b9a774b7'),LOWER('0x007174732705604bbbf77038332dc52fd5a5000c'),LOWER('0x0093e5f2a850268c0ca3093c7ea53731296487eb'),LOWER('0x00a2530742a451d0c0e1cfedff5287cc2f70ad54'),LOWER('0x00cc2860117e676262532f8464f278d593d1fea1'),LOWER('0x00cdc153aa8894d08207719fe921fff964f28ba3'),LOWER('0x00d1522eb6dc8c8f13349337b57e55495255e24b'),LOWER('0x00d5b76a4dc21e4e99e90856509da53bd0f3ec95'),LOWER('0x00d77e042b4dfc872f5c39f0ffacb744a6e65432'),LOWER('0x00de4b13153673bcae2616b67bf822500d325fc3'),LOWER('0x00e126a36f4268fd058039ed3a85729340d17004'),LOWER('0x010ec8fdccfa08408c45bae507eee0b8ce52306c'),LOWER('0x0125054443c774ac1009187b54bd6b035ee4c61a'),LOWER('0x012cad4ccb410e9d63365e645100e33959c05393'),LOWER('0x012db66110d211e5aa15171b15265384f22fd1de'),LOWER('0x0133b67aec5d8a3959840385ff6f5aba4f85f894'),LOWER('0x013ae1cf3fec27bc155775acb70333c0c69ea839'),LOWER('0x01485557c2bc6e26c7187ff4cc38d5d9474405d4'),LOWER('0x016606acc6b0cfe537acc221e3bf1bb44b4049ee'),LOWER('0x0188b743c673ad79509b7ac32d36a6b8b3d97cb4'),LOWER('0x01ac37cdcbd76866e789b929f40a9d4540eaeb33'),LOWER('0x01b23f8cc7fbf107b0f39aa0ba7c17ebafb5d618'),LOWER('0x01ba5fd2a06d188c2a23285a909be27cb3a58f91'),LOWER('0x01c242fcbc1ee9789527e9845771eedaecf440e5'),LOWER('0x01e1eeb22e17b91ed65b5f0791e3bf559856e925'),LOWER('0x01ee7b67cf49af45b7111bbf23e6caabf204be98'),LOWER('0x01fb3be1b838ea54ddca072111f20a31a3546675'),LOWER('0x01fcba42ed7d486cd54148a2dd5de784054ae1c5'),LOWER('0x02149c826a8a8818e6edc62697322a59c566ce5a'),LOWER('0x0216c6f7b142f0865e6735464d9e634e7b2d704a'),LOWER('0x022c01a4c98abc4fabb88733f2e5a81560fa4a50'),LOWER('0x025f5010d1c1a63e0be73191b6e0f063f94090ef'),LOWER('0x027740b50f2441afe2715a4d7c234bbd98ddf9ae'),LOWER('0x029f787d86cf481c9d17556db4de174f8a782b6e'),LOWER('0x02b438caafa35ec59a36d761a155af42711dc6dc'),LOWER('0x02b6c52a475ca976276b48f8238080e790b9eed7'),LOWER('0x02d62fcd40467f126fb7fc6201f9dbf3a991fdc7'),LOWER('0x02e405a63c2cfbf9188fa7c8ac49f99215dea2b5'),LOWER('0x02edb19228817eb3c238d7c4ace181d5ae3719ac'),LOWER('0x031d64389174bf1b91876d842c8a00dce6067aff'),LOWER('0x03273ed029d15f1034c13e555d49f534b045808b'),LOWER('0x03283c063012c982d60dd7b3bc6db77e76cb0a2a'),LOWER('0x0333d02e7a399c8fc47df4f95c32f2ac14460556'),LOWER('0x034534ac7512a3d1468f4cccdeef8b74d4cf63c5'),LOWER('0x034f854b44d28e26386c1bc37ff9b20c6380b00d'),LOWER('0x03580100d0ca7850471ec011c09fd3c1adb6b144'),LOWER('0x035ab8e4246259c26e74a612cccd8ee7016f381b'),LOWER('0x036add4ca14e6143bcbd3c56ff3d9e831eb9ce03'),LOWER('0x037c69ed208efcd772b59875de8a5711e4162390'),LOWER('0x037e06f7d015afd89429f8dd0592e93171f51bc7'),LOWER('0x038514601ff531e57c70cfd7cdda4d0e672b81d2'),LOWER('0x0398ad679807d94021e73efd527ac4a61f9ea1d0'),LOWER('0x03b83f6e2770ea1fadbeff51197769ea1c98483e'),LOWER('0x03cd93f0f06253a6a8727ece642da8b793fc4654'),LOWER('0x03d3bd7a1712bfe9ee41f278d82ff3bca6ad5f0e'),LOWER('0x03f45f51abcf8dc4175b96c318cf0b87f295658c'),LOWER('0x03f955ad67d0027e0baf3dccc3d1fb5f665e61f9'),LOWER('0x040f783d440414bc9cd3d48242883cae3108878b'),LOWER('0x04105242d1908bfef51d90feb7b936dd3b6c5835'),LOWER('0x0419395ef65947b74ad9ccd1a9753251e72e411b'),LOWER('0x041d1e551d5fcab33f1b7c291a67132d094946f6'),LOWER('0x042451582184c82cf82e2e47a81d5d6f8aecb8cc'),LOWER('0x043c16a67560cc9b2731151a5fb1eddeab104620'),LOWER('0x046fa360b57d93fc37a8e427b3e591219844bb27'),LOWER('0x047dd4ad156bb274a6839e65b4720483deee60f0'),LOWER('0x048cfe86325ecb012e4cc05495683e229eaca7ad'),LOWER('0x0491fe0756fefe80317448a1de62bee2db5e4bf5'),LOWER('0x0494303eac0a0105e8fdd989e3982585ec3b061f'),LOWER('0x049808d5eaa90a2665b9703d2246dded34f1eb73'),LOWER('0x049c3cce8ae8bb1eaf8bc8f4780c01227c8c08ca'),LOWER('0x04b56031020395e9f637473d031487f193fbbfd6'),LOWER('0x04b65050826bf0e80e3a9c95ad4e4c8e23e052e5'),LOWER('0x04c079bb31deed8391015eed8d6b625a40957058'),LOWER('0x04d7d374b2b2f57e9177659fc6345debc7a2edd4'),LOWER('0x04e90bcbb9714f84adc1b627c0dd4169c983f604'),LOWER('0x04f5cafa2b1243035bdd392027c2a505b8b66079'),LOWER('0x0506c7a98095b02a096cb427d5b2d92d0fd98b69'),LOWER('0x050de5d3eef70a4685e1db962500f463939efdb7'),LOWER('0x05211b706bce6a569d556faa5821237464f33001'),LOWER('0x052cd92257aa17b3f965c4b0d3f51f0d223c6950'),LOWER('0x052f4734f6a9490eaebac1a446edbe7337fb3aaa'),LOWER('0x05426fe88815453a5158c7c32f0a889fb4c98580'),LOWER('0x05591dd9456a67d55e0e9f143506a399877de30d'),LOWER('0x056e79004388d3dd21e44f22d497d5819c0daa81'),LOWER('0x0577a79cfc63bbc0df38833ff4c4a3bf2095b404'),LOWER('0x058fda5bbadceaa9287542adbb37d630584b28f7'),LOWER('0x059738241d0d88409be223d8c5090968b562bbed'),LOWER('0x059eeedfe126ff4c918da928a33826def7402744'),LOWER('0x05aaed2af7208fe16eaa2e63bcda4e8661e3db41'),LOWER('0x05ec9f019ba2d1270ac5a9aa9cba8959b9886e3e'),LOWER('0x05ee546c1a62f90d7acbffd6d846c9c54c7cf94c'),LOWER('0x05f51aab068caa6ab7eeb672f88c180f67f17ec7'),LOWER('0x05fe5507da021d3df44d7d28519e69c77c5cf879'),LOWER('0x0602cfbe442ba09ce39f5d0d48724ddfa792e3d0'),LOWER('0x060f63e6239c06c022190a4c6caea7a5cc1d28ee'),LOWER('0x061b68c3944de2b686068cad4394ee3642f9c682'),LOWER('0x062737783838ec1767f05df400dad693364abeda'),LOWER('0x06289158fc0b3a770f90aa1a342a6c5046c5e88b'),LOWER('0x063586edb88e0452382694a19b6cf2389a5efaa7'),LOWER('0x063fd26d4b3a91786a9e74de2419aa9e2ad13f18'),LOWER('0x064f16fe36aca7a56fa57d0052d34038edfe0afb'),LOWER('0x065b50236507cb01248c0c99b3d609afc9f0412e'),LOWER('0x066954c8ed497e353d6aaf4f24685fd28ec42eef'),LOWER('0x06714a2a843daa939132dc22f4138d3e9db191ef'),LOWER('0x0674b0f206b278cbbd0647deb730dab47f511e90'),LOWER('0x0681d8db095565fe8a346fa0277bffde9c0edbbf'),LOWER('0x0682c0113d4afc3086b87eac19499346cb1a0ace'),LOWER('0x068dda9032b324bd91d69315e87ac54727aac611'),LOWER('0x068ee4603d5ec5cf0110fc28fe8a6942b19ba273'),LOWER('0x068f388443a594c91fc5e4e4bef017754525a521'),LOWER('0x0690adc3dea3dd819064c60f9eecc22e60991f2c'),LOWER('0x06992ebffcbd884e8c77d88f91ce6663e7554a51'),LOWER('0x06993dce48f880aeebeb41826d742e4484d68108'),LOWER('0x06a04015b6dd7c335a2e91b133c85116142a3d52'),LOWER('0x06b1442e6f4c71d7e3a3a881c8589a951cb1830c'),LOWER('0x06b2d84b6ac9d5fe319a77b9132d34b30276e6c5'),LOWER('0x06b32834cfe96bc916ec1d7a1a700aa6899a5684'),LOWER('0x06d0ab13a64f52cec489648caae69b8e9b7f3fc9'),LOWER('0x06f3037a0f753c3ff2140f12a093e61245e5234f'),LOWER('0x06fa22d76a0205f4972580e63090a97f1c788f67'),LOWER('0x0706b9f3239e5c76468445ca507794d5e179ebc8'),LOWER('0x072dcca98226a9860b5413377ad36b8de979e51b'),LOWER('0x0743542070891051861f8d0a4550f97b43b0b89a'),LOWER('0x074bad351fc1362bd291c3e1917f96c27d06fe0c'),LOWER('0x0753462df20ceea1a18412793b9e4aae6c5066a1'),LOWER('0x07627ec9de7636ab073060c97483f1c337a90964'),LOWER('0x076fadb7bc88e985ca27660c1de984e3f9010749'),LOWER('0x077d360f11d220e4d5d831430c81c26c9be7c4a4'),LOWER('0x0789a672cc246016b5afea1476f904f5a005da9a'),LOWER('0x078ad5270b0240d8529f600f35a271fc6e2b2bd8'),LOWER('0x0793946d8d729c95e63c6fb40dbd6a1702187c51'),LOWER('0x079a892628ebf28d0ed8f00151cff225a093dc63'),LOWER('0x079b855a869f6c45e2c447fe20e1e10895affc9e'),LOWER('0x07be9775e6369877ea7b6eb82f01b8f11acb2792'),LOWER('0x07d300d2866b82dfed8dc2bb06d69019218c7927'),LOWER('0x07d5f187e336215b23ba9f4d23d76d2879f1824c'),LOWER('0x07de5b6383f183eba2af36b3c090bf844b170e98'),LOWER('0x07e522bd635710e752343387b006bb7047663d77'),LOWER('0x07f0eb0c571b6cfd90d17b5de2cc51112fb95915'),LOWER('0x0803502669d566c923a9e0ade9721d0c5ead2c93'),LOWER('0x085ed975a8b6b860de3c2b871da60a3f9f48a5b8'),LOWER('0x0877d9248aa8b49cd62528ca5b5ebaa5bc7aefa2'),LOWER('0x087cf2ea1d243763ce2cda721aa8eb462b3102db'),LOWER('0x087f20551f9a31eefc9cacac56fcc4f6452aabc4'),LOWER('0x08bffa56f6e5098ba71481cadcfb123438118d93'),LOWER('0x08de9710df1cc0e92fe2c3c3984669936289a984'),LOWER('0x08fc63fb6b1d6619db5bbdb9e0e9bc503e660709'),LOWER('0x08febe78558a7d6a1aeb873ce8c48fb201ef3639'),LOWER('0x090a4ccf753d110e6fa9bfb2dc3643024193143d'),LOWER('0x090f3a1d27b3e880b5cf703901834ec51eb63170'),LOWER('0x091fd0b5b0ae29904d6e334e53c0a25b99eac446'),LOWER('0x09363887a4096b142f3f6b58a7eed2f1a0ff7343'),LOWER('0x0954f41f5045e936e970d7aa588d571c62dca080'),LOWER('0x0963b87d3654bd48992e91de0193005311d95cab'),LOWER('0x0965722beea05042333ac140f97728a95f21b17c'),LOWER('0x09b402f5f5fcc8933db9b200ab69ef492aa7b01a'),LOWER('0x09cb5537addbf4b4fca315f9bea989ce37c34da8'),LOWER('0x09d2c6af27dc5122a0a3090460a26d738d98ef6f'),LOWER('0x09da2d53c9d7e569e428b7f4a5c82c7cd855a7d4'),LOWER('0x09ef655f72807359eb65f5523daadb6771012445'),LOWER('0x09fa8fd60403a6d5d7fcac30bfc5c63f2811ace7'),LOWER('0x0a028619ac71de5aabace9862cde22837e667849'),LOWER('0x0a180de4cc4463ddcd4ec1adb6512831ac34d86e'),LOWER('0x0a2fbdc55d162b06c01179e5f55f0644aa9f01f3'),LOWER('0x0a31cbcedb782dd1a93a53df591cd31de39de00c'),LOWER('0x0a3823283469b71eb8be30e305d67ae1dd63f9c1'),LOWER('0x0a5ebc60fd12bcd5402e5f99e3680588b23551d2'),LOWER('0x0a750c9c8dc5cf710a5126e50b97b0337643434c'),LOWER('0x0a9a04f289e1237c978d9ed375eeebda73ee97b1'),LOWER('0x0a9b181da5d4a4a53b89f2e6cff08baeee43de6c'),LOWER('0x0abb14b396e07c09a45bf52d51ab0ada0ddc1d5f'),LOWER('0x0abf55a590fe36b550605a753da8d53dc14fd7c2'),LOWER('0x0acf606894568b5d8e83753ff8928e0230bb1e1c'),LOWER('0x0aed46911bbe66a40714b67c1d206a9e4f4b6fa3'),LOWER('0x0aeee23d16084d763e7a65577020c1f3d18804f2'),LOWER('0x0afeade9030fe670d79421daf00c2b70682fa0eb'),LOWER('0x0b078896a3d9166da5c37ae52a5809aca48630d4'),LOWER('0x0b08bad27096bb7c025b92ca9881d5c824610861'),LOWER('0x0b14ef9cc4a8aa22095d640f406b480ce57bff7f'),LOWER('0x0b5ad17273ed99d41e5495f487fb468b83fcbcb3'),LOWER('0x0b5ba3f1234e239acd7c196c7d23c873ca45172a'),LOWER('0x0b7b22c6c274e6f4e0034462b0469f8c2acac678'),LOWER('0x0b7dab5acabac30c3b57fdbf0431213de466f3ae'),LOWER('0x0b7e68cb3663fe4fa1408e12d9c2ea431301dd71'),LOWER('0x0b96c340300e54750d2015853f223e3fb0efef71'),LOWER('0x0b9c8e96aa0567f9e6113a8524c077e5c614371b'),LOWER('0x0b9d0bfd36730219d7ade67897fc63b2535ebf3d'),LOWER('0x0bc7993ab2277b4af9e7d6e59f5d3d2925987afa'),LOWER('0x0bd3ab1fba8379efefedf3722ba6b9173f168e4e'),LOWER('0x0be2709401d1ad7ea9f84c11a829e3396884f87c'),LOWER('0x0bfa343115977a820e51be0193c36e4094b3d68a'),LOWER('0x0c17f421451c209027462a1c86f3324a8914213d'),LOWER('0x0c1a500277017a7a01a4ae67f7baca8203225c71'),LOWER('0x0c265c385117b5f1e49510f4aea09fc610959f61'),LOWER('0x0c58cfa45c6d584fa8f917cb893371cd9b1cd247'),LOWER('0x0c59e6a85993d31a4e16dec6a632021853b3f2da'),LOWER('0x0c61f9285e84141248f35cff7d54256546420ded'),LOWER('0x0c727588938c5b52632a9057088b76aece6267fb'),LOWER('0x0c77c84c932c5bc7244f39db24b7c78513c506eb'),LOWER('0x0ca19fd64c08f3dfc5fc3080597d85b04cbfbf93'),LOWER('0x0ca8b8553daf5de19ccfcd1d1f1f4d5fca9264a4'),LOWER('0x0cafa156960b4224b9bdd6b93e4c786761cf9351'),LOWER('0x0cb319f8d0318171857414f118913c0c21b6208a'),LOWER('0x0cbc9254d351cb108347e1e94fea5cb2f32e51f2'),LOWER('0x0cc92b83c42500de9e9e6e135c560925072e813c'),LOWER('0x0cd86fc536c56f484356cc174944cdb6cdca28a0'),LOWER('0x0cf0cec497a5e3490939754c4de4fbdae0e15127'),LOWER('0x0d0707963952f2fba59dd06f2b425ace40b492fe'),LOWER('0x0d0e3d6ad88f4cce732d3d0f084ac19320e12209'),LOWER('0x0d0fabe4772f70ecf8e68b947e83d460332646b7'),LOWER('0x0d4aea0f52513c5f18299b0721cdb31565cb673f'),LOWER('0x0d6e94d085a597f316be1833649e05a45103e873'),LOWER('0x0d7c03e9a6f96a4fab4ac10eb55fb55f1909c1da'),LOWER('0x0d8589a6a061c7e854c2fe7f1a57027982d9163f'),LOWER('0x0d89ac2d8bcebeb2102f814d88d238bda09846cc'),LOWER('0x0d8ca8c6776ebcbd325b83327abd5b7eac013179'),LOWER('0x0d9034d1fb96bb27c4cebd7a3f0d7a48b58a5e15'),LOWER('0x0d9218ffa022c92ae47e993e00e78056931d9a5d'),LOWER('0x0da37a7948f1cca638d0c8b7170b6ad5c97a80f8'),LOWER('0x0da4b6a1569d325b0e3be64b4a2aafc1a0271f6b'),LOWER('0x0dbedb8b7a2c13d276686d7157867de0176c10ab'),LOWER('0x0dc1f6178f72aea86fabb0e246ebba05a051c8dd'),LOWER('0x0dccc606a747e7517d9c289154c8504be5e9e496'),LOWER('0x0dd318f0f800220847bf610c0e5fec3bdd828705'),LOWER('0x0dd72c527c623a4332fdd61420690d47d91b7eeb'),LOWER('0x0dd8be9c1c1f25991de2653e110f81e20c02bf96'),LOWER('0x0de497758ea9b46f9dd046a1c2a547cfc369cca1'),LOWER('0x0ded969ece2df1a1be5556b7c0ec681361828874'),LOWER('0x0e0d1afcb6833daf6e0833af8a7727d2874dff8c'),LOWER('0x0e3508c8de4a863c874918840894bc9e7d56d582'),LOWER('0x0e463daf569bae8b297f5c0b9765bf7a9433c6f0'),LOWER('0x0e4fe12032df9d3242323caf57d40a75f5789ee7'),LOWER('0x0e681177a3b4cf61d34df360e3823ebec50105e8'),LOWER('0x0e8792c03bb4a17278012433c05f8a366935ae1d'),LOWER('0x0ea2fa52e244a176ee398cf9dac8cfe7f33fe819'),LOWER('0x0eaa9dc131fa4076e06730f3a2f425424a093702'),LOWER('0x0eb1378358bac9d4e17e65237a452b885da150de'),LOWER('0x0eb8abed36d78247bee594c5ba4446d8fa93c325'),LOWER('0x0eee2c11d79096e54fd3f2909aee3a657d0fc0db'),LOWER('0x0efe76a565143d5a68e211257f9f5c7230867ae1'),LOWER('0x0f0289017eddbd5d66ee7719da34cf505188b69a'),LOWER('0x0f26fe7284c3fe32721a4c0b0300d99225010553'),LOWER('0x0f2de56de4027d87afe5183d37919f78f619fb34'),LOWER('0x0f3bcdb64698e3b6732f55a6390082a9241399ee'),LOWER('0x0f411bf7a9fd726056026a4b86db28e9e76f3d20'),LOWER('0x0f49a6f824cd7a16fcee1136cf60a923bc8bf58a'),LOWER('0x0f5e3217961658e0f13a97a43b867d702e0a90a2'),LOWER('0x0f73cee92474f7d5409bdcd7603d2914d7958fce'),LOWER('0x0f9457824adb0649f57b91f21fcaf598b7ed9230'),LOWER('0x0fd081e3bb178dc45c0cb23202069dda57064258'),LOWER('0x100f82b00e6488ae8c2c6cda5f3162c0fc0107da'),LOWER('0x1027faa02682a6d5ec74361dd6cbed2c273102f5'),LOWER('0x10313929ba47a9a8578f19a7c0bc2225692b6f12'),LOWER('0x10486a4dc8c9a5f7bdbd6539c66b1babf411dc63'),LOWER('0x104e4a76960b4bf24492a47239efc891a23b2374'),LOWER('0x1057e34d4a5a420b32e8ffec5e325d14593963b0'),LOWER('0x105fd16339015ec6e849857e55da37cd72e87716'),LOWER('0x10746679947a50a4eec14eaf1e0239398ae6ebb3'),LOWER('0x108c42d950b148c4acd02e75d30ba586cb7c5955'),LOWER('0x1099a091fa280e2447e6867f997e99efff1e8898'),LOWER('0x10dc223e51ff116460717c00e9c95a2d3223434a'),LOWER('0x10ea00cf21868970d76996c457aa8b27fcf563ce'),LOWER('0x10f0d409ed481f21eddc43c06736ae733914ecd9'),LOWER('0x110f3c4cc9e68a4d3f9dab366aec3bf6b6b21db1'),LOWER('0x1129da039e16da3a06f7a76076f7f1a2b9b8b3ec'),LOWER('0x1146effca0ea571d3a43077101d505a28f2a94cf'),LOWER('0x114f0bbf1318ac34be7d75658c98ae5684809887'),LOWER('0x1151314c646ce4e0efd76d1af4760ae66a9fe30f'),LOWER('0x117706a09dafa1898f6829371593031c748c0d32'),LOWER('0x1187f876a75086bf5b4d65cb8961845cbc1a889e'),LOWER('0x119ade768412bb6d90ec69978e1c336d5158782a'),LOWER('0x11abed6803404e0fd13cd69f203b2386b63475d0'),LOWER('0x11b2ac1213370b06608d469a6452b7ea1a42219e'),LOWER('0x11c10bd6069a7f34f0316b173a4ca72f5fe79aeb'),LOWER('0x11c7f8beddaa009ee33709f6a957467e2825b0ad'),LOWER('0x11e1daec4b9be00c41b2fe027a89f4dbed676234'),LOWER('0x11faeee00564543e3ac9ad879f20230c7cac5c2d'),LOWER('0x122b3754ecce7635a23a03637f4c3e65a213ffd9'),LOWER('0x122ec3506991b26e7db2485ef818ef8a93848c64'),LOWER('0x1232526dc72ee45810c6c6136c7e77626023d62a'),LOWER('0x12398f1dfe93e75a6c54db3017ec474912926ed7'),LOWER('0x1287be7308a4580bfcebe1acd3b263d013349b6f'),LOWER('0x129690abb24d22cd0627fc044d101c6ee6d1c854'),LOWER('0x129af20a7ab5fc4be6d45748477d02107e5c1575'),LOWER('0x12a3f6cade82bf9175f5bb4073462d5da40832db'),LOWER('0x12a7a2b4f28e02dff494ea274d6a5d6a19864379'),LOWER('0x12ab16b09dcfa315f3cc422766ef171e64c177e3'),LOWER('0x12c80d709bec16052025569352dadf943ae15886'),LOWER('0x12df800c300d5a8f05faafd8e24b2a37f7d24ae9'),LOWER('0x12fd76ef77cc6c6e3040e4cb3980aadb187c85d4'),LOWER('0x133316864068842a07300f786ac9c71db1b57538'),LOWER('0x1340225290e40933180af0d413addad7d4a3fd93'),LOWER('0x13438e435f2e834f1ed9cbc6dea3442324c8d7cf'),LOWER('0x136932398ca783127689b83cb09f9f378a820dd0'),LOWER('0x136a08342bba488ba8b47c44449eb3a0bc77989c'),LOWER('0x137c88fe18f09d0cb6aa2ca495d2021e5b29c0a0'),LOWER('0x1380833cab9df21b9233346355971bfbd0e8185e'),LOWER('0x13809047f3bee2fa362f9118c8ff557ee8c35364'),LOWER('0x138f877e89098c74efaccc3af683e42ad29f3294'),LOWER('0x1390ed5306c34f3f08347df942c5319ed9174f25'),LOWER('0x1391bec69fa33ae796dce01fa12d194e449db65f'),LOWER('0x139c724947569e22f75ddab1c5e2d15e481cac75'),LOWER('0x139cfcc1b9c0daa5daec23e95e4d72738bde94c7'),LOWER('0x139fd70f52d665b4b52e4ef4ec7a910000dd1d50'),LOWER('0x13a1b13f976643b0f244850d41c5ff3b8a1ba093'),LOWER('0x13a8af0dae3056cc9ad4ed8d6497c4b1f42b4835'),LOWER('0x13a9d291aebcaefb9c77a95494b1aa2f78647969'),LOWER('0x13b731d6340444d457723430e4345aa3eb8d3da1'),LOWER('0x13b9352fef7385dd492f9d99e4adbe5e0776b525'),LOWER('0x13cd31e2b5fe60f6ece3850fbac86309b26577e4'),LOWER('0x13ce3dab64d235fc0e95f5d5092f9da305aa1211'),LOWER('0x13e702cb319fcfda42ffb1330d16a0082e1a0618'),LOWER('0x13f6a73a5fcbd36f149c49e94274b9e28faaf1a4'),LOWER('0x141fa59f55247d82f1f75eed57df2b3ffa715550'),LOWER('0x1430d679b872a94dab5e4e0f1049675e471cd02e'),LOWER('0x1435109a44fc9e054d2f0c8c7a46656f1bd1d9af'),LOWER('0x14740941b81ad6f09092a0ca1902fc95c930015c'),LOWER('0x1475bfb0039b0bcf3be492c2bb339c0181c8885c'),LOWER('0x14798f270720c3e42ecabe941e8fb0d82f1794c6'),LOWER('0x147a95fa1cceccc20b341824952106cb0ee1eded'),LOWER('0x1496de0e32061d5ad8a95d9cfc6587727a142454'),LOWER('0x149c4d3976a8901af1c61f95409e109dccde5e27'),LOWER('0x149cfff9a46dc876cdeea131fdc9b5d6577b8e24'),LOWER('0x14a4e179f124960039e9936519c3a1f62b8f6355'),LOWER('0x14b3eff0d4ca46931733cef5793b45c9bcb1e9d7'),LOWER('0x14c99531c09d72bee19e762956f577e95ffef918'),LOWER('0x14dcae28535c4ede02d0b7ec4d5257f7326e0bf9'),LOWER('0x14ee53bf75f2132c0829ebf48282efdcd826a68a'),LOWER('0x14fd51807e3c1721d7ff1dfce1c54fa947a6a981'),LOWER('0x150e9c31870a99ce35e95c319474edc84ba93448'),LOWER('0x15175c616fa1fd86f0c4852fe8a061ea45de693a'),LOWER('0x151b381058f91cf871e7ea1ee83c45326f61e96d'),LOWER('0x152bae8930267589beee1778ea526c6e7312a5eb'),LOWER('0x1579e97c0c9619c61aef016d055b3d7de7f14bdb'),LOWER('0x158353a7601c7ba9bfdea6c77e571557267cd03b'),LOWER('0x15837b5060c18d50015aa7b44fe83cec0983961e'),LOWER('0x1595c383f52e474b28b5e6b4b8f72e92c1461474'),LOWER('0x15a68861dfb6877ea04769a778826aeee49a6903'),LOWER('0x15bcc179d2fa1c0c1ea687e0570c22b2f2193306'),LOWER('0x15eb7643da6fb1dfdcee6e913d54720c9a957931'),LOWER('0x15f50df01576efc11bda83851d572d4a41612bc3'),LOWER('0x16336b88fba32a0a7cef0b6fac5210d5ae97da32'),LOWER('0x1638f76072261335960fdd16c1e86fa78679faff'),LOWER('0x16613d9c9f1fec0b1e08233602d7dedf27c5c868'),LOWER('0x166d720802f189a03f43f3b1132369b0fd9e1c93'),LOWER('0x167a9333bf582556f35bd4d16a7e80e191aa6476'),LOWER('0x167e60558162c8fd4e5db25c5dc6c46737b131b2'),LOWER('0x168a9e6d755b79f72215d035a2773b2ca7ec4daf'),LOWER('0x169c8bae83a5b7a8776ca30035e5bb2a55aed38d'),LOWER('0x16b0e4ad0b7287341e8436f335b558d168dd0985'),LOWER('0x16bf3beccec24673db16b50023b8221ea9b6efe2'),LOWER('0x16fdf060032958b23d8a8e7f82c68f85d9db8a04'),LOWER('0x1704252bbdac8f87e2af615c9d2802dc1a0cc2c8'),LOWER('0x173a5409be101148e29e2c98e7cf1e78c918b1e0'),LOWER('0x173e281498665a6d159cc1acf921eaea5ae745a0'),LOWER('0x175a0cc46a5430c62f48368f5cba1c66b4b3d56d'),LOWER('0x175cb2b630c62e104578a8d316d96859ca9b7ee0'),LOWER('0x1762c9942df68256cf3882ed40091f5c39c1f68e'),LOWER('0x177ee898027b1f8c6b8ffb91b5ec62caef2c5276'),LOWER('0x17800cfe179583e87f7578aa0ada52afe71b58b9'),LOWER('0x179e2a2f9b6a3ffeafe15a874f644831634b6d5b'),LOWER('0x17a0f67c9526e92071ae7b9bebbd31e201b4be6a'),LOWER('0x17a24e07e0e11c29fe1df05e4baef893967262a4'),LOWER('0x17a25c1889c07a37f2e25443e598ada4c8e7102c'),LOWER('0x17ad3d8fc464034be87f53d984c8801e34fe16dd'),LOWER('0x17cff98442a819482859e4e9ebd58c3a404bf4e9'),LOWER('0x17d343c162cac7e69587060a3970e48f2bcbc8cc'),LOWER('0x17e9fccdb69afc21ec033dea707c62c79f69e425'),LOWER('0x17ec9c7171a74b4f87aca166aae52e3c11acce08'),LOWER('0x17f855afd9219cab31d2791c0466596a68f26777'),LOWER('0x17fb2d9c79fc6c0a3deec9d1f9761df18e36f91d'),LOWER('0x181ae0f75f9b2f1f6460300d9f898f9e45e78eb0'),LOWER('0x1820289a7b5a1ee3e34c1111f049882fffff3aaf'),LOWER('0x182ae484ee19cefa59eed207287c4973673734f5'),LOWER('0x1845e7d10e9db3749ca34677254e305a834b8458'),LOWER('0x185ec7c63b7ab878e005f5d62732947aaca9e506'),LOWER('0x1868cad4b33afe89d7b4318ea822213129477dbd'),LOWER('0x18835c93458515a045c1aa3d140696c7c5a5bf35'),LOWER('0x18838592083ab41e2be69e15e3f3d9ee68d32e76'),LOWER('0x188ec2883f3def815f847ac1e7f364269b0c17e9'),LOWER('0x1893511979f420deb7462c9318ec3f5d9657a3a6'),LOWER('0x189c11de078e4125ffeb00fecbda1b3227a4f970'),LOWER('0x18a1de244390952a235d1fa26fdbc9f546264a53'),LOWER('0x18a27bda79c388c8bf7fed6dabd5f11bdaf5188a'),LOWER('0x18c83199e6ab12ccfd2e0f35d7d3a8fda59eba90'),LOWER('0x18e0c290f1c95f920416e61fe7312d49fd057bb3'),LOWER('0x18f02f2f3640410f0fd59c9346fb60ab17e0d30b'),LOWER('0x18f771e2feccd60aa178a2db8ff9d101c3f412fb'),LOWER('0x18fc6b1bc70bedd57a20e0b50b22c64cef5ca757'),LOWER('0x18feee2a7d014db57da97c32e952dc94f0d5459c'),LOWER('0x18ff30fab8d6dda95a514829c97a8f77de7ec52d'),LOWER('0x1903db30d0458be7bb304f7cf57fe71af64b8a99'),LOWER('0x1919df1aa940df4519719a6caf1117e9b1d87217'),LOWER('0x191fcb65d5799f98ae9ffe2325b81a9e11f7e47a'),LOWER('0x1923dbc4e740bb3e6e638905b03ddbe2d54a9bf8'),LOWER('0x193951b6b02260935ded51c9541681902ff8f2f2'),LOWER('0x1954f10af881e26ae5f008abdf37dd6b9218f21c'),LOWER('0x195e1996edfcba9402ca66befdf34879aae665ef'),LOWER('0x19614c91578cbae693f642246011eb768ca6ed9a'),LOWER('0x1979f9a751cb24d1c00fe1b1ab58aeb5288314ec'),LOWER('0x19895f1a74a5e12f01d9abb1c5549ee44352362e'),LOWER('0x19999c224aa48d7911702c03b5029d6d333d01bd'),LOWER('0x19a131bfd7e7947d2e7278011d6cee3aab1638c2'),LOWER('0x19ba5c60c139c37cec1e439b52e81595e82c495d'),LOWER('0x19bf355f98faf7bc1e8c7822fdf968e902f65971'),LOWER('0x19c0de07420b55e7503b836cb334f3b6faaa43a5'),LOWER('0x19e6eb65a7306acd005a95f70b151ae0001e46a7'),LOWER('0x19f13f8597ccf4d9701a480ab340baf044b5b69f'),LOWER('0x19f30fd4463f64536f54c6f3ef733a8b8b7df525'),LOWER('0x1a0576d8767807eeef9ff9cb16a1cf65dfe5425d'),LOWER('0x1a3946d38bad37a7fcf52822b63ca51c22aee3c1'),LOWER('0x1a3b3acee971d90312dcbc43e750e732aa7d95cc'),LOWER('0x1a46a7ee49aaffe054bff47043a3489adee630f3'),LOWER('0x1a47587c14bf4480906d194b6e05cc6c225b6098'),LOWER('0x1a4b473baa39267494da8cb854a7f0466265b276'),LOWER('0x1a707686b2c8dba0352a73e2fd7cc02bd21bf9eb'),LOWER('0x1a764f8d66bfbffc7fe514a918595afba5f2292d'),LOWER('0x1a949fa46ed2c6d4875883ce14701576e98de708'),LOWER('0x1a971436c82b6492c19992cdb7486138fcfbe3e3'),LOWER('0x1aab72491fa0fb4399cf535e0a09dabe15f6a3e3'),LOWER('0x1abb14f5d5d1e068c7fb2d190ca70f7834d18c12'),LOWER('0x1abef1717803ce81190afa035a27bc67f6df395f'),LOWER('0x1ac0ef818cddc02a471d079868ec53d8c9dc2df9'),LOWER('0x1acd4ce843f2955a87047a4201f473485a8c51fb'),LOWER('0x1ad91ee08f21be3de0ba2ba6918e714da6b45836'),LOWER('0x1ae051730a418e775e411dcccab6dccee91a621c'),LOWER('0x1aed603b013385c8b41ca0e6ddd67a20a30fc79d'),LOWER('0x1aef2ed581b49e76cb26cfb373e173e20c36bf29'),LOWER('0x1af06fffb0e8a413d19289b0fee53fb407f14c88'),LOWER('0x1af833506b770105774fa5c454bf2bb7c9556108'),LOWER('0x1aff278bc55857e4e727e326a00acf0995176fe0'),LOWER('0x1b00e88ba06f61c08e4046ca84a345b68eef78e6'),LOWER('0x1b0df5d788df6e16a933adc719c89c6b5dc92578'),LOWER('0x1b2278ad8d735e872a1cc094aa952373cd148524'),LOWER('0x1b2ca7cee3470c28c08a1cc23e45d90acf67fd9b'),LOWER('0x1b3cedb4f9812f7c7b1ae287e109b71fe75a4c9e'),LOWER('0x1b63ea28a857f6f6839a7491fac0539829b3a565'),LOWER('0x1b91ee2cb5213c0ae0d712db6be229d4b2b4e0b0'),LOWER('0x1b9af79d481b6c54e0697aef19471ab94fab1ed7'),LOWER('0x1bb389205aa7cfba2c576365637e8fbd07099238'),LOWER('0x1bc35cae544df00bfdfee6597c4e54850efdd9af'),LOWER('0x1bd2033e1e06036cf422779d9525c955917b4585'),LOWER('0x1be5f9df988c06400780d53df143c1bbff2988b5'),LOWER('0x1bea80c2b888a6a44fc43b87e5c84823e97af614'),LOWER('0x1c0210fb5a601f7c860238b0cb42459a6855bd2b'),LOWER('0x1c04f0c528c5a47903e94424ea48adb0b19fca46'),LOWER('0x1c0d79a291514549cfea14f400b35842ef266f9f'),LOWER('0x1c292f459aa9de7a0109b3b0d835046379e2cb2f'),LOWER('0x1c29731b09d39864a0d7e68df114e97a764eb290'),LOWER('0x1c33a99070685792b47fddc71d6dd47a61dafdd6'),LOWER('0x1c48a44ca47283da484524ff35d757b98a31ffc9'),LOWER('0x1c68c81cf54b47fefb1e1dc0957d73f648ff6778'),LOWER('0x1c6c0a12c4754ad030a8d4668e61d0e3b5725136'),LOWER('0x1c727a55ea3c11b0ab7d3a361fe0f3c47ce6de5d'),LOWER('0x1c88dea0b582ccac0da258e4ac50a39e87e209fb'),LOWER('0x1c893243ba33e8fbdbb8b7ce6cedccfbe6ae40e0'),LOWER('0x1c8dbe89479c8b2e55a921be0038f16638a52b49'),LOWER('0x1cbde01f4c739c26cedd0a74f76be2616638f288'),LOWER('0x1cc5f236ce26c5d106095d0c9a696ec01c5d4d52'),LOWER('0x1cfbf8c669e24998818ceedaad49fbc04ab5d902'),LOWER('0x1d0e00d02c16343b8a86816aecea2f00b74bc6c8'),LOWER('0x1d0e7c773dfaa479dbf52769b4a9c9d2b8d96b2c'),LOWER('0x1d111dcc5a6b0460056e10e120bc16a3285fa3dc'),LOWER('0x1d14995484498933615052d065d608d8739334f4'),LOWER('0x1d1d0d0e3937ff0f0194a4702843742930374194'),LOWER('0x1d202daff74d2a6f124a95b588fbd010b896d267'),LOWER('0x1d4e1317d147aec6c28eee3d9abbf6a8b9f8e99c'),LOWER('0x1d51ae47cc558783d05f56a286d69f5621e01a95'),LOWER('0x1d55c586f21deb83fafe9fb6507ef535dbdfb651'),LOWER('0x1d586cca506f1c432d739c3720f9912f0c062253'),LOWER('0x1d88f5a58624688627fccd370dc8eac3a700c138'),LOWER('0x1da0baab74be57fb7ca98314d76dd1c71180eb1b'),LOWER('0x1dd168a67371386aa606a52af9fd64344613491d'),LOWER('0x1de2ad7fe508fc3726b08ed353e13ad18d779bdc'),LOWER('0x1ded6a2490eb707dddc21433cb60dbe6ac148f7d'),LOWER('0x1df242cd64dd0e59be52fb4d2ec359c6fe28a373'),LOWER('0x1e0658b839bb52983320e1dba096a64c654eefa1'),LOWER('0x1e1b85dccc41ca69cec66e1a123c3bb3ac4975ac'),LOWER('0x1e2cbecde4833cf5c69c47b69263dd0b01fef35b'),LOWER('0x1e39cc29009ed4760c186d8771295c1e224882d4'),LOWER('0x1e3afb9d6f5c9e3c25a715af3a04dfc463214ecf'),LOWER('0x1e409982cb9da5eec0b9558551029c2a688b463d'),LOWER('0x1e54dbe42e212652ccaab64ea70acb7ff72e76e6'),LOWER('0x1e682ddd908ac5e1b08d245517d978950a54cb1d'),LOWER('0x1e695f0055c9c62b9ba43776b5f3fcb2744046a4'),LOWER('0x1e70565063384ebafb511148c7f06d049293a391'),LOWER('0x1e7b7efc443943b0d7a2992985481449edf3c838'),LOWER('0x1e827856f49c35c181e680b21b48d94f9a9076e0'),LOWER('0x1e9a330d6c972cabb05ee9aa020b09ec128764e8'),LOWER('0x1e9cd85a2146be4033a211a625d99d10e09922d3'),LOWER('0x1ec98a1503d92734c986972ee4e28899a5888933'),LOWER('0x1ee3cc51e4d47b72b63fee42d76bcd1a4db1b495'),LOWER('0x1f3370c7891c2a976652dcb2f6e563098dff87e1'),LOWER('0x1f6a2788bcaa647bac0c981c22e30c0ffd8ac616'),LOWER('0x1f6bac10115921a26a15877e59adf8b7432f6979'),LOWER('0x1f83dc15a98c3903538131d94c30b618d45f9791'),LOWER('0x1f973b233f5ebb1e5d7cfe51b9ae4a32415a3a08'),LOWER('0x1fadcf3b941ae821d29ce09cf0adad0c46508a7a'),LOWER('0x1fc9e8607d564605877a2b74aa4d8a89892cd37f'),LOWER('0x1fd6267f0d86f62d88172b998390afee2a1f54b6'),LOWER('0x1ff0990badf21dcd07a230add1ffef14d2854ebc'),LOWER('0x1ffb4373347582582552cb7b4fcd206d8b9ec33b'),LOWER('0x20231603beb97f46b4c1d575da905b89ff4c256f'),LOWER('0x2026eeefdf83a1b12a0d3c720a9c4b6249f4374d'),LOWER('0x203a3b0a35facf12ce406ca5422b4d8daef15720'),LOWER('0x20549e873311b008879fd6020df7037200959cf5'),LOWER('0x206dd17094c7ab0420c709bf805bf74e39e49831'),LOWER('0x2074924ebfd97ff2351659cb00e259ebd6451aa5'),LOWER('0x2076aede7bf37e1222bdb214b1e0abc4d9f54ceb'),LOWER('0x207bd293c1c518f013a3e98efe63feca28d295d2'),LOWER('0x20805ea6471b82361922c0345ed91f574e8dc634'),LOWER('0x208333b6a38a294ed693ea5c516003570840743c'),LOWER('0x208544b5cd80a67b6ed0ae3464eaf6342c85299b'),LOWER('0x20b671fa04d981ea8d1e68c73fb5e69c2e1c907f'),LOWER('0x20bc83ed9b48b1aeedfd9789f268ebd4e1f22445'),LOWER('0x20bd3feaf2e3ae69ce05b531c968476da087fe0c'),LOWER('0x20bf3be90eeb354d9a59ee212735fdec633745bc'),LOWER('0x20ea4984607efe4eb37b201e4329c508c1ee119f'),LOWER('0x20fe2d2cd38553c3f24f2a55b8ec7872e275c7d6'),LOWER('0x211177b796c0dfc1ff978b850db70c5bd97da4fd'),LOWER('0x21122e906cd595ea5f3d1668c6548760d5e54e68'),LOWER('0x21377d66270036ae952cc3fcde59c32819644aad'),LOWER('0x21408e4478f84a8e891758bde30bc1d421d3f33a'),LOWER('0x21412f14decce56d20c2afbb3e8090ef4bce02d8'),LOWER('0x214989c36c5fd378bcbb27f70315049e3d8aa74c'),LOWER('0x215a7bae26ccf1bfe6b089c3d530a155357e2d83'),LOWER('0x21631cca3fce5fea8f6af04eed72163e9ca472ad'),LOWER('0x21676874e1a6196485a150df767a92b4d6de616c'),LOWER('0x218345e41a7a2133dc1ca67736038667ab03f0a7'),LOWER('0x218e35011c1521151fdc1f51d1079fb67938b542'),LOWER('0x2191a0df790c230f8e525c85f6276d9ee7e45f2e'),LOWER('0x21a2739a7459dd38979278d28ee6208abf9facba'),LOWER('0x21a31ee1afc51d94c2efccaa2092ad1028285549'),LOWER('0x21b4dd13a59f11bdca8cffc1234e439fc9b3524f'),LOWER('0x21b71aa209aa2d5a5df74d986197c0efdc5341df'),LOWER('0x21bc056cf14d51eab62e731f197861e25bfd837b'),LOWER('0x21d13ab6d8d93de39561fde1231c91fc0f3983dd'),LOWER('0x21e1c982a298b1ea15a91ba4771f34e5dc3a4ec2'),LOWER('0x21f74c6bbc1e3ab9f0205e12de3a9daa14351aed'),LOWER('0x22014306165718e4741b3f50dd16dbe7a74b62fb'),LOWER('0x22193c716480e1d97e436b83b80b5b1b9446dfb5'),LOWER('0x2231bec9c6479e4ce9c6aa5e7b997584523987cf'),LOWER('0x2232e1504ed52c436637946dde485d088ad2c00c'),LOWER('0x2239ff85f256b0ad09502e6b757ad4c0a747a899'),LOWER('0x223a8fb9fd0ee3f47ba7a92b5d00acd83200861a'),LOWER('0x22530153b5a9fe4a546a0b59aba9520c21477d79'),LOWER('0x22690daa2ebf5e0c6352597f0ac279928b31b44a'),LOWER('0x227ba5cecd72c261c297015c1114e050b6e50f5f'),LOWER('0x227bb1414467bd99099add8b458b3155b98cb08a'),LOWER('0x227fd2fd881cc6c99dfccc0fb40f2b1dc2f3f36e'),LOWER('0x228fb07ee4ad399457dacf1d76ba1daccfe327fd'),LOWER('0x229a8510b7aadcd0394e4a12524db9a09ba79528'),LOWER('0x22b84d5ffea8b801c0422afe752377a64aa738c2'),LOWER('0x22f2800faa98ef82552d54e21042cff449b75387'),LOWER('0x22f736d4a4952c65b3ea4d291d7e7171203b47b8'),LOWER('0x23054905a2bbc2ce6833e60571dfd42567484a90'),LOWER('0x2311363c4a25576705326446a4c5f46413fe8034'),LOWER('0x231917f11eb737d364faf3422a9cf90595c6f23f'),LOWER('0x232b8b3f94042d7495a6de2affb25a29a868615b'),LOWER('0x2337bbcd5766bf2a9462d493e9a459b60b41b7f2'),LOWER('0x233be3dc5255e9b3a5ed82fbd74721dbeba8cd27'),LOWER('0x2363c3ebd0a26b89c0256c4a7f971f34c534bcd3'),LOWER('0x236f9f97e0e62388479bf9e5ba4889e46b0273c3'),LOWER('0x237eded2c644d04ba6aa0411eb505ca83d4558b4'),LOWER('0x23863232e9cb3d80e7378dc2fde29ae3277d6b4f'),LOWER('0x23942b77912cddd52b9d32ed905d480449e78f2f'),LOWER('0x23a2264d57064417c4d1248fca2abd7d35a5864e'),LOWER('0x23b5cc11bafcb3a1c4d5911ce32c5b58e10e3d45'),LOWER('0x23b8b70f3b5734dd1c8eb35bdaaf493532709c9d'),LOWER('0x23bc0be09e58b531832fdf1632c108f2d0b01b60'),LOWER('0x23c0a6a7e048eca55d26ac284d0b02b607c42b55'),LOWER('0x24016d4ee452e6b46547ee3b8a1bfa362720eee8'),LOWER('0x241a2d5f1c466aae7137dd85f43c7ba906f491d7'),LOWER('0x243bec9256c9a3469da22103891465b47583d9f1'),LOWER('0x244bb3081b8e6902a7261cf531422fbc4097dc6e'),LOWER('0x2466e4d766400f7688c4acd1d64a7cbd20f4cde3'),LOWER('0x2487bab13ed53a818d3dd9bbfb17c21f4eff38be'),LOWER('0x2490dc46358f7ad40b69780932fea4e0030588ff'),LOWER('0x24a9b27a5a7cc1aa2f73eb7765829cb95bf41c8e'),LOWER('0x24ad08d9589d96152acc5452fb212bd291bbb06c'),LOWER('0x24af4d9a22b0398ebd8454734575c9baebdedb16'),LOWER('0x24c5722fec98f9ce24bb446e75f278e4fe2dd89c'),LOWER('0x24d55bb0601362f07a4d564052a25e7d7129b0f9'),LOWER('0x24f21c22f0e641e2371f04a7bb8d713f89f53550'),LOWER('0x253faba1b6b6e7dd17b432a58df89b8de5acf6b4'),LOWER('0x255487e1435cd9b02c7717baab1319621b47b29a'),LOWER('0x25588402932d67874bdd98e67ea5038bef019423'),LOWER('0x255aee625d2b6470b6b9eed47f2f58a3f5291923'),LOWER('0x256ca593e77412b19005a900287c8f67c53cb649'),LOWER('0x256dacb0844fbf6bb01b6ef2edbd52cad272f192'),LOWER('0x2571baaeffe8194df58728d68419d0b7e61626ac'),LOWER('0x257d193ea43a9fe2afc07f70903baa6ee68f614a'),LOWER('0x25a30c05f79c00575196c577a0323dc9ce9ce23b'),LOWER('0x25c1541071258523322657289a4c2923c21185d2'),LOWER('0x25c8e87911745ee76a4880bec96947e588403ed7'),LOWER('0x25caa123d14407310d945a66a26d7d5b2c26e174'),LOWER('0x25d02a2550fc9b4ae78f5c946326df6495a25aa5'),LOWER('0x25eaff5b179f209cf186b1cdcbfa463a69df4c45'),LOWER('0x25f19914a035358a63a3b7a085a8b3a1fb7b9c73'),LOWER('0x25f3a7269a46eeffaf08f1bcd55bb430b15068af'),LOWER('0x25fe4e66fd86d02ab2e4fe6ab5aad89d27150a71'),LOWER('0x260a3dbf7e913e862e0d2bfa2363404be0062b40'),LOWER('0x260ee8f2b0c167e0cd6119b2df923fd061dc1093'),LOWER('0x261668adf1143315cde3b28ad432e19e8744a861'),LOWER('0x264d3af382a29af59bcc5930b46467725dec0eb6'),LOWER('0x264ec4e5c1dc8bbb15b6ac8ec355812960433ab2'),LOWER('0x2652f1e210b26cab22a57d7f2a863da0124a53a5'),LOWER('0x2656bc6f7f6bfa167f44d3ecd4b08ee80ab1c85c'),LOWER('0x265d5dd151b1543eff333d4b929feba3b5eaf0db'),LOWER('0x26780a43651b129d8f49fe0fdaa0681043e2756f'),LOWER('0x267af00983d4010c0af58d4cfbb229ad84f80b57'),LOWER('0x267bd5166fc210752aa0d601760d900628be76b1'),LOWER('0x267be1c1d684f78cb4f6a176c4911b741e4ffdc0'),LOWER('0x2684ddbb618a81582b31fd59c2027deb179f4504'),LOWER('0x2695c8cfa51cbc3ec739fb68f31ba563b2faa1c2'),LOWER('0x26b167f8a507b4dbd7db31ab042c44a0af2d9afa'),LOWER('0x26b2278cb756c28d9d6e362b6dd5e8d17844fd07'),LOWER('0x26b751e88ec7cc4f9f3fc08631cb6e15d3997b76'),LOWER('0x26c032a9562782b15f87ddec89c095c16c2cfe12'),LOWER('0x26c0646ae004e32dd034de6b8926af3463ef34ac'),LOWER('0x26c93b813ba93cc3aa31209cae92f2403b289693'),LOWER('0x26e84472f025e6fd0aec9c42c7d05003f6538832'),LOWER('0x26f69e5c30e11c1ead2565e946ec7e51435ff039'),LOWER('0x27409e6e7ff740244039631069ba35b5cb655200'),LOWER('0x274ddbcc68ea479d8b9d0bdf3159de04e42aee05'),LOWER('0x274f3c32c90517975e29dfc209a23f315c1e5fc7'),LOWER('0x2790f55b9d7f32de695805e40c9b550881ac8966'),LOWER('0x279939f0726e7649fa91a2f6437f285a8d337658'),LOWER('0x27a5b92a614abc86b3e9f467410985f302c966b1'),LOWER('0x27b088d1b1fa9015a7f8502652586ae95f225a6c'),LOWER('0x27b0fc6c4a5a0cf213a570097279a5bde61214d2'),LOWER('0x27d0214273b832d8343c00b0738d6486469ac746'),LOWER('0x27e9f4748a2eb776be193a1f7dec2bb6daafe9cf'),LOWER('0x27ef15f29f94f5553fe972893abbe430ca348e24'),LOWER('0x280603b7c2ecaa8dbfe6444df186b4576c5274fe'),LOWER('0x280724cbd41c0940ce4b40e82b4daf3cce1ea325'),LOWER('0x280b9eb4839eb05e05e48973e1c969226fcc4392'),LOWER('0x2812fae23f56140a4a207876e375ae410cce1875'),LOWER('0x28187c1d9641e1ad7d1bcfb8165713d7a6ca814b'),LOWER('0x2819c144d5946404c0516b6f817a960db37d4929'),LOWER('0x281fc5227fa2d6fcad4916b2ca70174c85e011b2'),LOWER('0x2824fc0ccff3e95b25ee2fa04297c0008e21a0c5'),LOWER('0x28462ac6b9d85d675c7e88252742bbd794720799'),LOWER('0x284ea171497c7c1143621d8d56599b3db7aa8ad5'),LOWER('0x285e799fd788967a9cb1da448f494831276b9e8c'),LOWER('0x286887e6943ab5d18393859b91de50ea98bbf362'),LOWER('0x2875403e0d69641cf631f10e48e63c40e4b27fc3'),LOWER('0x28988ee4aa94ae9cc248146131e49d10423c6348'),LOWER('0x28abca935d5ebed51ffeb5d5d4a2f98d22c63ff4'),LOWER('0x28af94f79e177a6fd73c1d0c98b08816f96004a1'),LOWER('0x28c55e37e7a3c6f273d202ee577b9d48e1826814'),LOWER('0x28c6c06298d514db089934071355e5743bf21d60'),LOWER('0x28ec942c17444fc50f726098229e8834863e8b6c'),LOWER('0x28ffe35688ffffd0659aee2e34778b0ae4e193ad'),LOWER('0x2900c04fd91be87b9fad91eed5e5b9800be8e716'),LOWER('0x29083df2e3a898aa0b3257d9311ba6b36fe13ec0'),LOWER('0x2910543af39aba0cd09dbb2d50200b3e800a63d2'),LOWER('0x291a9a006510c24c86047e29734caa73afb58a8a'),LOWER('0x29211f9b98b0ab9ce4db642ee4e90cec05d95a7a'),LOWER('0x292f04a44506c2fd49bac032e1ca148c35a478c8'),LOWER('0x293c173b0ae90cd27c349cd8892efa625a98dbae'),LOWER('0x298daf4ac47dec78b2a0c10d90aca0684b9367a3'),LOWER('0x299aae34cfa31ef05f362a9f083ab91804fe33fb'),LOWER('0x29bd07c50a2a2a843b309264361c9a91950ec650'),LOWER('0x29d5527caa78f1946a409fa6acaf14a0a4a0274b'),LOWER('0x29da8880c473190dc57704573f24d765f840d572'),LOWER('0x2a02e7304e04fc7da1b5bf21bbf27a2ad500153a'),LOWER('0x2a10216181c16a3bbf32d684e6364fca37d3e3e7'),LOWER('0x2a106b0f45f6c21accd6343b12fbb8335b21af5e'),LOWER('0x2a1b86d7cab4815431827276525f570f37eca21d'),LOWER('0x2a2b1c2fb2f1b655da69cb5867cfa7609eb0aa29'),LOWER('0x2a2c79f42bbefc86c38edccce5530b4a9728b90c'),LOWER('0x2a2ea06db77a2e69b90e8508ceb69fa2e172ec84'),LOWER('0x2a4e0e740501a27658d692232168b86829d43686'),LOWER('0x2a61aed74798e967e25ada1072748d1886bc1eeb'),LOWER('0x2a61b9a279e839f6286035411be300d41169232b'),LOWER('0x2a61d4fd7fde33ca05dbd8257b381000586cfa5e'),LOWER('0x2a65aca4d5fc5b5c859090a6c34d164135398226'),LOWER('0x2a83fc10ac1cfa33bf00159343b6e031a9f08e6b'),LOWER('0x2a982a3cd69a0e6c179c563c83b9a9a9f845a770'),LOWER('0x2a9d40018b9da0d65ac2d77a3df09946fbb3fead'),LOWER('0x2aa3374e1457f71561687db1082f83e253a0a3ca'),LOWER('0x2aaee41249a3f55f604179b855efe39f5425cc75'),LOWER('0x2ac43f1b20e54b182d075d801e1c350c420686d1'),LOWER('0x2ad65fe9d6dd0098995abdc6b0cc8372b129d99f'),LOWER('0x2ae92aaf92026fd700c15f9f71ad4cbfa529a49e'),LOWER('0x2afa6006e6b0ef479fe8bef5c77d8c8ac6866ffe'),LOWER('0x2b046708e3d39d69566ea10ea9fec77b9624a88d'),LOWER('0x2b13a9a626ac6f12f9b7047c4a6cb0f504194a01'),LOWER('0x2b3686a524d1bb3da68b9331d649b150933b5ec5'),LOWER('0x2b3f3b921698990de5886fffc77d5bd6f670e960'),LOWER('0x2b5634c42055806a59e9107ed44d43c426e58258'),LOWER('0x2b5d0713ccdd23a6ace5b3620f3dd39ce9ce030e'),LOWER('0x2b645268e2fbb384b423e50089657395f749763a'),LOWER('0x2b8b7e490b5316be27cc3326546d2487dc0d668c'),LOWER('0x2b93787eac1e219cbfc47b1ab00d611bf22c4c47'),LOWER('0x2b97cc7468f17e6316b0a9288a7bd9efd5c22618'),LOWER('0x2ba0cf3a45d78fb39cd2a75516c3338d5f36dd37'),LOWER('0x2ba6ddce1cb0c94ed391d9c634151e820641a3d7'),LOWER('0x2ba8f4aa4050498e27e2b7187458ba5215b8b13f'),LOWER('0x2bb82c9a194b1a28b4dc0546e0564ae95da846a5'),LOWER('0x2bb84dc376bbcb1de75bd2310bb473206e9fc8fd'),LOWER('0x2bbc8fc8df4b96bb0ab8090c15e0128176328465'),LOWER('0x2bce1ec8879cd959ef39c970ef9d28d2e2828a88'),LOWER('0x2bdd000643d993c51efcac601aadf49ecbf345f1'),LOWER('0x2bdf07ecb7a6d70fc085b5f3325ca1b137ec2636'),LOWER('0x2bf4c5804b9290774889572bf76e31b223b73cf3'),LOWER('0x2c03fd093a83dd6d122ee58a46c96efab65ceeea'),LOWER('0x2c0444bdf1dc06fb985f7645a4cf9c28c6700a54'),LOWER('0x2c057cd5a612dea01e2e31d9a9cb56f425cf8579'),LOWER('0x2c0aa280df3d0afbcbb1ec4e1c9c06e1f7c96228'),LOWER('0x2c2d2e48a864da9f3b0dc8b5ac1c6d3efee0b0f0'),LOWER('0x2c3f6cb12b1ed2296ff06b7ceb4a4f5cd411ae93'),LOWER('0x2c414ab190f2fe0b08cd0851f61ae515ec4430f7'),LOWER('0x2c454a5bf5511bda15e0c699ba99e51138321a37'),LOWER('0x2c454c5b042faea22bdaa6beda5e6aa754e3a2d4'),LOWER('0x2c5983c3fefb0b7f1038fb18d600910070c671e7'),LOWER('0x2c5c2982530c5b304381cfa8ec790dca2ecbbf9e'),LOWER('0x2c628584e510a76fd1503dbc7173f4b7d49f0631'),LOWER('0x2c8385e994ff21413e6a46f484fd99718ebc0033'),LOWER('0x2c88dd6e8646ead774f601e68f2da74f38f6d3c3'),LOWER('0x2cac83dc9d8659ad8435ae2dbd778750c5cbc8c3'),LOWER('0x2cb93a46ccb4418285ccd1e097dad6c3d65864ae'),LOWER('0x2cbff3f8bf8ddd17eaf16854812a0d3de9a3c3e9'),LOWER('0x2cc56eb2504a0fa8b8ee1d75b0d21c93c36ab181'),LOWER('0x2cc8e16afefc8819fa51bd6206632d97a306f832'),LOWER('0x2cf3ff760cfdefe248f53a12dfca2ee887d27637'),LOWER('0x2cf81b4b2d43c17f861573e7cfa4521a1504ae81'),LOWER('0x2d2f77a67de58ced6d6351b7f51f30c1155e38d8'),LOWER('0x2d3c1c80e240886d7a7ab6eb12574c9a6a03f563'),LOWER('0x2d3d495890d3599312b93690fb8280cc7dfbb1ab'),LOWER('0x2d425ed9f40c9ef43760ecb7704e19932635dfc5'),LOWER('0x2d4267088a6771c10ff511718d13ce884096bf75'),LOWER('0x2d498d4a6fc6e68c53963510469327e7bc51b79a'),LOWER('0x2d66fd65445e1e8aa9fe35728b747767602433b3'),LOWER('0x2d844e9a53ef73668da88b9555dc308600c81f2f'),LOWER('0x2d84cfb9cba0e8e4d7511a88cb7102a984fdb0ba'),LOWER('0x2d964ac3099aeefa676acf5a4c616314d18f9ce3'),LOWER('0x2db5c7cd92b6d34e2ba8297048428d632990f136'),LOWER('0x2dbe8d6881b2bb5a55f7a9160203a10ddcd994b2'),LOWER('0x2df20e1a15261d0bf1756a805875deb50dd55034'),LOWER('0x2df913b7837971a3d7bca66208b0ddf1c01dfe28'),LOWER('0x2dfec6147c9e980338c6b0dda93974b808b7fbc0'),LOWER('0x2e0ae752f61cabec11b5df815e39f35ae3a58128'),LOWER('0x2e1380dcbaec6477081f5d770806e2aae71ddd1f'),LOWER('0x2e3ad7598c1224fbca5a5d5c55b43fbe8289b425'),LOWER('0x2e8252d9d27905265bd5548e57aa0154c86aad87'),LOWER('0x2e8722026b525a44b0dbe34de8aad29ebf14b81d'),LOWER('0x2e884770f9e11ba6b649039e34f7504ada6ad8bb'),LOWER('0x2ea4424bb0f9774f1158230a13086250fdd7c89d'),LOWER('0x2eba2ea7fc358066839468056b82201e94d4d725'),LOWER('0x2ee0f3569fb42ea472a9ef6f9bac478e7ce3bb81'),LOWER('0x2f039bad752835bf2776bdac761c587c2a05321f'),LOWER('0x2f0970f10961a03fc6132251f7bedbadbb36a5e4'),LOWER('0x2f0f35e32fdb453f3bfaa068baa6dfb86f04434a'),LOWER('0x2f4cd01b5e54088de41b81c1fdb0f67252e42246'),LOWER('0x2f59cbb57aa24d6cbf5498639b41702f9bbd9e16'),LOWER('0x2f5da38a2c6c5c0bfb1e211b5d37ba9fabb54935'),LOWER('0x2f66b3b4dae6db4439cb1d8734f6270441e02427'),LOWER('0x2f6ede25f37a9ec0c1cf2f26c98369261f21c39f'),LOWER('0x2fa4e80b8d39f29f5ea746bad3c1840fb56cf47b'),LOWER('0x2fbe02c3983e4c06d38574186fae3a77f3655ae4'),LOWER('0x2fcbe0717bf1ef31ac3994598136342dd8342025'),LOWER('0x2fe59a3d4379a127adb934bcb9fcccf2c770eb97'),LOWER('0x2fe7932f0b0781033bfa3f068ed4d8d76afd6f04'),LOWER('0x2fec3c73c86d437fdf2ce6b2c5fba79ddacf9b6c'),LOWER('0x2ffd52d15977a41f211389e514c519a095dd11ae'),LOWER('0x30043aabbcebbd887437ec4f0cfe6d4c0eb5cc64'),LOWER('0x300bf9c40b038343b73e946cecb0ae4d4ff70be3'),LOWER('0x300dd10450d4fb039f72a4328c812ea2067d5fd6'),LOWER('0x3018b55796b0b9f6b4fe6853561fd33b9261ff30'),LOWER('0x30214f9addec9b817e34fc99f0455ed16b208fcf'),LOWER('0x303e33b483b5df3148cb2eaa1c17c486531ddf31'),LOWER('0x30415fc6552d1851c53da20e42dd10b0101ce408'),LOWER('0x306050b0875707d6cf71cccba46b81cb24b202ce'),LOWER('0x306059d45cd6184f13534897e2fcbc3188a943bc'),LOWER('0x3065130c7e9011befd64645676aa68828758342f'),LOWER('0x3085255a678ab8ffa73f2a279eea547e1b684fad'),LOWER('0x3085cfd64a77e2106bd98a3f347b9a4e52f2208c'),LOWER('0x3090b15078ae316befedd304bd38413e26cb6d88'),LOWER('0x30968573c18c6a0df57bb42680da880557c408f6'),LOWER('0x30a74c8c94525c4b1dd8f83dcf2a316ff0f26353'),LOWER('0x30aec46ea55f68e60eba5f96b22a375bfe0c6815'),LOWER('0x30c4adc1ae99c88510d0da09d7ff78604dc9cede'),LOWER('0x30d26d80ff203118f141eb096698a7a16198c157'),LOWER('0x30dddde80843855ea3d7570c11a5c993365e5b20'),LOWER('0x30df16cd7d612c5b25beb0331486b127a42ac371'),LOWER('0x3118ceb3c4b351320d7c93510628c0e6fd8f110d'),LOWER('0x312f354be5bb131ce4b3214c0895247a72d6195b'),LOWER('0x3156edcc20e8853159a0283df8bbc6e67b41a06f'),LOWER('0x3158ede7ad7680df78541af3ca60b4d09dfcf41b'),LOWER('0x316e7fe993877aae8ae96c7fa02bc3f33af8913e'),LOWER('0x317dd0bad0fa6ba94af2440f1b5b5e3de64c4268'),LOWER('0x3189a8fbc44427441fce20ff08ca03423f48c7a8'),LOWER('0x318af75decfb325dbeec5c5442d3628ff8f072ac'),LOWER('0x3192ba4f24f91463e3f3eb53af0a067f9f53801e'),LOWER('0x319ff160cd1bcfc5bbc1877b9d1ce065d29acfb3'),LOWER('0x31a6c1aab12e6abbab2839af3d1841fced2d5666'),LOWER('0x31c5c935623f0a0d86b9cb8c76115e8d51a91d4f'),LOWER('0x31d8ab113ee817a38105dd3271d72ee43224f299'),LOWER('0x31dc2feb73163c4c86da482f99396faa2e61b57a'),LOWER('0x31e9b3373f2ad5d964cad0fd01332d6550cbbde6'),LOWER('0x31fc18f7e1559c4348172c297d54697439fffb9c'),LOWER('0x32232802eb19763b0516faaf5de6f51f8e80fbd5'),LOWER('0x322ef28d6455e5953d046d04fcbe1fe8917e3c24'),LOWER('0x3235d79f90f3474238883daf2cc66ad845c1991f'),LOWER('0x323632d993fe227753ab7cc9c14834f60e043abf'),LOWER('0x323d61dd232df2c4a1d5f6f7f8a394568143575a'),LOWER('0x323f17c75c20f445180128457fad0b9c88dad898'),LOWER('0x324b59b686c98445adaddf8fbac3bef62207c484'),LOWER('0x325b17051b9e75121e6c9a3d14c6d17933f6dc5f'),LOWER('0x32673e42c813502e9ba283ddc118d0c0d7993f57'),LOWER('0x329232f6c72b76b5f0d26b484f3ee06aee545924'),LOWER('0x32950b94f3a7a0091993614ca90e6d5a2389a64b'),LOWER('0x32be343b94f860124dc4fee278fdcbd38c102d88'),LOWER('0x32c9adb77dbcccbdf442cb31dc5ca3bc2a333443'),LOWER('0x32d9c974f6907e968569627d8ebdcba7bcbbb74e'),LOWER('0x32ebedfa4c19016558979610bdd2cb5704e4e8b7'),LOWER('0x32f2511a21bf670ce390d7dba868ad46cb93d9fa'),LOWER('0x32f74b3398ebc082f232e0927ec091305bb4cbbb'),LOWER('0x32f8e5d3f4039d1df89b6a1e544288289a500fd1'),LOWER('0x33088fab25c1e7e960169f5e432412a187f70707'),LOWER('0x331562d00a65e0b582636c13b24c521560d2173a'),LOWER('0x331b132ea95b99ffa1af2207b5f4b8953d3fc9f4'),LOWER('0x3337c5d0648bda250970f968d2071925e655ceed'),LOWER('0x3366a932f86b4152daf7f1c66c93f0093946e401'),LOWER('0x336b3c4c326c29b4f3ba0cb6c26ddcff15aeff37'),LOWER('0x3379536969a63467a85600f8fab93d1faa22b731'),LOWER('0x33a3ffd50c5805ef071380bdebe76aea8dfe248c'),LOWER('0x33cb1de40587f1d702136f4979630e81442124f5'),LOWER('0x33ddd548fe3a082d753e5fe721a26e1ab43e3598'),LOWER('0x33dde5b4f0db040c1b006f383b59e207936c90e5'),LOWER('0x33e21bfc52a4e15e7322c79ceb588f8101609b55'),LOWER('0x340d693ed55d7ba167d184ea76ea2fd092a35bdc'),LOWER('0x3411cb2b60694d43f8f242fd8b48e28f2b4cafe9'),LOWER('0x341784c90da0d8ed28a58ba573f17a73f0bbde5f'),LOWER('0x341b9532c8e915b2abc89de51f62b21979f0b3cf'),LOWER('0x34208a50147d587a7199099ac28f2fbe727a5695'),LOWER('0x344d6aeaf78108242030295c5301900cc1a89398'),LOWER('0x3455246baa8323fd4e174198d76b669bafa4e0b8'),LOWER('0x34720d957fa32d176540c5e69e5d209d7fd7a1ae'),LOWER('0x34731b165f3d3ca5d0ff15fe11f0eacd192347d4'),LOWER('0x3489e3d6ff8616337af9120b70c15c1deeedff65'),LOWER('0x348e05c4e721ce821e182f379a63aa36edf2f341'),LOWER('0x3491b165b4d38d70d2c66a560248e729066d4cb8'),LOWER('0x34a6d95d171b457752b60b24d795e62b78d18f64'),LOWER('0x34b249021fb168418fce307eb0ef13f478ef1de0'),LOWER('0x34dc65e0a6ef78603d13600370323f4cc2b32fe1'),LOWER('0x34f1804de8cf8dfb06d6d24affa2dfe8f289af49'),LOWER('0x35042fa3f535826c171419c3061ef407ac0db60f'),LOWER('0x3512308cd5a8b8b8957423864da888a293de46d8'),LOWER('0x351f53c21ae57b14d4299bdd1954e4b0dcc5696c'),LOWER('0x352dc6b26b6e4888cf7bc08808d3a8945f00eea4'),LOWER('0x354f6df0af80df8d0e65363837485c11f58e371f'),LOWER('0x35642de97d6376dd55240ffd35fafd2619515e54'),LOWER('0x356eed8a58e93020f33cad98d73e75cf32cc7097'),LOWER('0x357c9d12badf7f6086c3b84f0f533b1bfa431336'),LOWER('0x357cc01ebd7503cee2fb113e08f1da103ba053df'),LOWER('0x35a20b5d8bfbd674cbb9229ca91e012222f82e98'),LOWER('0x35b837f3d2b6620324d72750ce2e43eb17cc4ad0'),LOWER('0x35bfa1be88efea16f4d51cfd706d10d4fdc9ecc0'),LOWER('0x35e9c62f87140ca407793b8e99763708017983ee'),LOWER('0x35f0b180d070e5e1e591d2042191358e18d3256c'),LOWER('0x35fcd9dab61251d9d8a1a1c5ffb10e84c199efbe'),LOWER('0x35fe9f54f63c6765b16292ba9a17d6808ff6eb6c'),LOWER('0x35fec6d69294d52b38e9ee133b4b03aab4d0ed4c'),LOWER('0x360c91f1175bff97fa866dea832c416d6104abca'),LOWER('0x36202dcfeac5335c16687af2a84eecd815298b31'),LOWER('0x3630f939a35c52957143e7ad45f31ce486715416'),LOWER('0x36417c91fd84e1f5086488e7e6ff54e9626014b2'),LOWER('0x364db57f0899cdfef2aacd7aaa266d392dbe41ba'),LOWER('0x366293e832d02df460d9de18f8df0e681893cc3c'),LOWER('0x366b44000c2ca8d86c862bf3a310e38481b18f69'),LOWER('0x367aa7609aa0d4e635c635798ed10cc7d1277626'),LOWER('0x36c3f7eec869948024cc71aedad73a0a0273b817'),LOWER('0x36c670816a9df35baa8f1e20c8138fb9f06632f6'),LOWER('0x36d0731b4aaf3613bc16458857b45a6e7c722e5e'),LOWER('0x3701c2da6c8a75968c24582848ccd5185e46693b'),LOWER('0x370ee840dde9d938b56c4221c2b335932a38e3a4'),LOWER('0x371ea1e8fcb52083a2a6ee8bb44bb5540939fb82'),LOWER('0x37214af0e25fb0fa573b14fd63954959d50aca38'),LOWER('0x3738821c732acf3ffff6addbc45e2798146ecdc5'),LOWER('0x373b32f1e754515f8efb642dffd02ba325df7c5f'),LOWER('0x373c2fe4670b2184382fe74080bd6a6d53887c38'),LOWER('0x3767f5c3cf9f33086ec91f351c0d98f27cd8e25c'),LOWER('0x3769bf7a9c177bd6ae210bbbcdb9484135c5aa11'),LOWER('0x376e2a544fbadee69c27839c1a65a8ca7abebb5f'),LOWER('0x3788420fce5c640303da5012326da91faa117781'),LOWER('0x37a0a70457f4a131b99fc31075fec2fc5ead5bf0'),LOWER('0x37a9573b519eb9b00d683214283d9f06f0c3b40f'),LOWER('0x37ad9cc8f74eb57d998990c513e50517c49231aa'),LOWER('0x37b884870adf95704b6cdb8f602588f8ce49f7a5'),LOWER('0x37d9db235ac2452dd7f5bf7500fe81f21b7a7eca'),LOWER('0x37ed2b55890cd2320d835b573c0b10147ee455f7'),LOWER('0x37fcfb537dad2637b6687b46a3cc7c4ce363aa8c'),LOWER('0x3801d2d7e604e8333baacb2ab53ceeb8d7995416'),LOWER('0x380281cd00528797cf2f7df136c024c1f1546f9f'),LOWER('0x381351f693da46e3800897950720c0ac6b89c78a'),LOWER('0x381983105008ce4ca4ee7f591467f4b10fd50ecc'),LOWER('0x38325ed437febe000f79b99227c90abe9f45f529'),LOWER('0x383b848df3881f4312e6c727bdf08b8981102073'),LOWER('0x384f2f93517b56bdf552dd822e0456c4fa998fff'),LOWER('0x385bfa6b50f99ab5c717c6d773ec204a115d9e90'),LOWER('0x3868cc0c31a8b868c9ae98840c9bdab5c5db65d4'),LOWER('0x3873f5e82ee3a84284ac6b95b2e3d2d43945ae1a'),LOWER('0x387ae8e22c8c76a7040d62e3b84eed49624b139b'),LOWER('0x38a3eee437fdfe50392683248f39dee6ae6bb583'),LOWER('0x38d5faf0ec0c765868e89248f32cae03e6f6e940'),LOWER('0x38d8a99b0892926773ef58be21bae412b6606520'),LOWER('0x38de62ffe1f693a92fd129758925c482cc9ffbcb'),LOWER('0x390de26d772d2e2005c6d1d24afc902bae37a4bb'),LOWER('0x393cb58982a86786eecf612bd3f5f5c178139f9f'),LOWER('0x394a0902ce27c5153d24357cacaa6cd63d43f1d3'),LOWER('0x394daf0bd0f55454fd1e091789d26fc8d96577b4'),LOWER('0x395afdc5fa0e93458f482501c2823fa0b3c117f3'),LOWER('0x39794d1d931d2824d80684fd9082518decb48b46'),LOWER('0x398985f280b219a18f1dc76b8fc11f94f8c4326b'),LOWER('0x39b081e491b2fb519ad89d50ef4b149e54ecbba5'),LOWER('0x39b754a9b7d4932d740b9bf6b77d6995318342c7'),LOWER('0x39beb60bc4c1b8b0ebeedc515c7a56e7dfb3a5a9'),LOWER('0x39c1708dc1ca886befaf6390bad55cccfe2566ea'),LOWER('0x39d3dfb5211af2c37db99abcafb0e3f78fc5c9ba'),LOWER('0x39e4f558923f141ff349c88c2c4f0b8ab9e07be9'),LOWER('0x39f642f1513aaca300ca64d8f69a251ba38b033a'),LOWER('0x39f6a6c85d39d5abad8a398310c52e7c374f2ba3'),LOWER('0x3a0fbb2f36271ff92ed8a16ca0343a0f320cfcd5'),LOWER('0x3a26d462980d8f25dafed1b6fec1d354bc0594de'),LOWER('0x3a3355805181ba5752cb52cebe8c95c0f3ed3d61'),LOWER('0x3a4f2159b2dce22e2de8df87a21a300b1d7a2a7c'),LOWER('0x3a5dfb54b2d3aec68483afb516ab8bfdcb4e793c'),LOWER('0x3a691279312f3229d7fe674f9404e5af3a63cffd'),LOWER('0x3a7170672d9335873fe3ffe8ca321c2f16aebdde'),LOWER('0x3a8c7b8b85cb967863c3bb3528ec6920a11982f3'),LOWER('0x3a996becc51829238113c1e2569793cb358531da'),LOWER('0x3aa5bf06e03e6f7c209dace2f93f2b51156932d4'),LOWER('0x3aa6605d87f611e43ad0a64740d6bef9b80fcd2c'),LOWER('0x3aa748ad6ba23980b7fc0fab048a3fd742a02d7f'),LOWER('0x3ab27867e1df54386dc692b960c9f3ca2c406838'),LOWER('0x3ab28ecedea6cdb6feed398e93ae8c7b316b1182'),LOWER('0x3ab7fcd5798713a03887661dc495b5f82092feab'),LOWER('0x3abd07014039151b18d0a43f7bde4f82a669dce3'),LOWER('0x3af26c9541ec2e6e8dec0c5eafe90c654d04f3f0'),LOWER('0x3b0038d58f0cadede7a4d8ec3eea9e80801f578e'),LOWER('0x3b0bc51ab9de1e5b7b6e34e5b960285805c41736'),LOWER('0x3b185d4a6c9c75732f10c0c2dd4cd11c055ee424'),LOWER('0x3b1a430481b737a1e0ee372ae83a26ff83c816e7'),LOWER('0x3b25075da630e8fd4b9f8fbd52648457541f61fd'),LOWER('0x3b39a08f716f12f77202b93d62cc96e0267bc42b'),LOWER('0x3b4eaa66d0b49298052a9c875adc671be39d38c4'),LOWER('0x3b6c3a56f2a8ccb75049dbd98b5be146bf3ca1c8'),LOWER('0x3b6fc6456e73f251fd1102e7b9e281d52e50c969'),LOWER('0x3b74175fb78af5aa92e9eb2c7e837f6d50882522'),LOWER('0x3b794929566e3ba0f25e4263e1987828b5c87161'),LOWER('0x3b8cb6de8a4692ad81de9c5f102fa27a14d5291e'),LOWER('0x3b8fd44f5cbbfaff021aea787ca4b61c2764d7ee'),LOWER('0x3b93771a8cdc8fa3519733e1345c611fe179250a'),LOWER('0x3b9ba7270adea67af702467ff423b486539d8289'),LOWER('0x3bc438b1f637d64c89af8556f8da4b0ce40184c9'),LOWER('0x3bcade548d6e78f52461207b38e46a604f4f6b5d'),LOWER('0x3be700284048dcaebb9612965243b43207ceec6c'),LOWER('0x3becdfed4cb06c627594db226c03b3a55a10d4ab'),LOWER('0x3bf7f65d1847720d08c2bd0d8e2823ef049dab20'),LOWER('0x3bfc380b89fa250feb9e2ae267718dc307476871'),LOWER('0x3c0319a570604d30087af209efb3ab72b852aa41'),LOWER('0x3c0a3d1994c567fd4bf17dc5858ec84ff1f87501'),LOWER('0x3c1560738cefe2d5607c62c5cd6d14e936d7e2d0'),LOWER('0x3c16183c1c0e28f1a0cb9f8ee4b21d0db208ca46'),LOWER('0x3c29b317e4f7b5782a309807df536b607a971edf'),LOWER('0x3c312eb3159eaa4d644ea4052a5b50df42afa215'),LOWER('0x3c74f2e8fa01a0d65d68f237bbfe3934d1dd4939'),LOWER('0x3c795e4f750b15b61159e8f38dca512256a021c7'),LOWER('0x3c8538a97a48530ba2126ce90449809701498fcb'),LOWER('0x3c8ef97b0b3dc41dfe133c7f97a15d4d39e7d6b3'),LOWER('0x3c979fb790c86e361738ed17588c1e8b4c4cc49a'),LOWER('0x3cc43afab1c84a8722425fccb79e7a33a30489bf'),LOWER('0x3cc47738fe7fc2587914d63420caf37cce129a02'),LOWER('0x3cd751e6b0078be393132286c442345e5dc49699'),LOWER('0x3cdb6a5a13128536701b25501e021f95f6af6af5'),LOWER('0x3cdc3026784612dfb4b88c7d09cd199529f3b19c'),LOWER('0x3cdf60f3222df1e10aeef8dae2f37e9f847771ae'),LOWER('0x3cecbb1eb7d4dbda58ea06a60b3b51619bc811e9'),LOWER('0x3d11e89db2ead4395f1d9008369d4d8482938f83'),LOWER('0x3d1bb7b97f4730a0201b568139761f3220eb7242'),LOWER('0x3d34de890debae0da25ef85a0ce42230b8b2020e'),LOWER('0x3d5202a0564de9b05ecd07c955bcca964585ea03'),LOWER('0x3d59282e916b0cef9694666fc2815be49ecdf2f1'),LOWER('0x3d73476d3019183652d52bf2859678dc313e5ebb'),LOWER('0x3d9f2aada2c7fb691968f2bf44b77329543aaf43'),LOWER('0x3da61e0091023aef38a2232baef1dcc1074d0d52'),LOWER('0x3da79a2e4e070f7dc8f505d7c5a5e700861d399b'),LOWER('0x3dd9ad01dea9d6fa3babf194f79e003659e8f8ef'),LOWER('0x3ddd3152aa2fb59a59fe1923671bf328a73df60d'),LOWER('0x3df2f9ed438df87aa3246e9fc6d5667fba1cd240'),LOWER('0x3e00395e522a8b62f905521b22d7c624ac2b246f'),LOWER('0x3e169012c3afdc0603cea5e08e79cba90348e577'),LOWER('0x3e27ca67caa041ec8c844f2e722cf5c7fa7e23f1'),LOWER('0x3e36edc971908ba1db6f10ed0943191a011cbf8a'),LOWER('0x3e4a503ea62ff44c9611c04cf2a46ac8eff3d053'),LOWER('0x3e65303043928403f8a1a2ca4954386e6f39008c'),LOWER('0x3e9afaa4a062a49d64b8ab057b3cb51892e17ecb'),LOWER('0x3ec598ee8e1e08cfbfed5f72e26b0bd0ebd44da1'),LOWER('0x3ee6170ea6d16268e48d67362fa65fa82bb5a6be'),LOWER('0x3ef08488bb53c58e472f571fe8751df792c79423'),LOWER('0x3f2bc1b6e845cc8d2d199ad471e985d00df79908'),LOWER('0x3f362662d43546c0eaf9d97c4b7a624470ced570'),LOWER('0x3f39874e2bd1057f1f13a9058b6061affbf46813'),LOWER('0x3f3e388e367b5bd59ad734ce2dd58643c1526b2e'),LOWER('0x3f4d20edef6b80fa77444256e23e01e180417417'),LOWER('0x3f5b5930f62bccca5d844738af254c2f948d7617'),LOWER('0x3f5ce5fbfe3e9af3971dd833d26ba9b5c936f0be'),LOWER('0x3f6bc268c6463658ad2fd607788c55c17a6f3710'),LOWER('0x3f893885a749c0e5305c28bc5f403a0f56de6021'),LOWER('0x3faef97be72a2d1af854d6d661d194e3f4a64285'),LOWER('0x3fb2f90307719d1499b993bd38397edd8076cadc'),LOWER('0x3fbb263d22f8d0594649954bda59554192b42605'),LOWER('0x3fc250438e4731e79a59bd1a06550427ce51f657'),LOWER('0x3fd901707462b4ea03e285be0953977a76b17d26'),LOWER('0x3fe6d57a87f44af33ca73f97e7ab07f9ae8d3b0f'),LOWER('0x3ff816db844898d2d2206eb16baacc33261022fc'),LOWER('0x403f7118edb40d017052a7490969426bc3dda762'),LOWER('0x404c1f789cc2987beab18284a3f6db55dc7fd4fc'),LOWER('0x407a1d52e62faa339a7927a85a36fd5f363047e7'),LOWER('0x407a56d44d8a0a2ccb73d9658ec8b599c3c36e02'),LOWER('0x407b223e4710780e1068ecc59f6226dcc90d8d9b'),LOWER('0x409265cbe0985f90e8ce3ffbcf8195488a6f16f0'),LOWER('0x4099d277e361454d76e5bd0fc3ddacd1c89c0f35'),LOWER('0x409aecf5bfdf2399b21da6e15c2321b632d3f398'),LOWER('0x40a610ba34e7dfa6f5201230a7d7c7c7d8c57caa'),LOWER('0x40a674c10f6920ed23d0eb121dcbac6ef5eb3e3a'),LOWER('0x40ad72b50a6c74d5915c8e44ad283afc1d1a7ebb'),LOWER('0x40b9ca701050d551e163e81ad0e40720de0f3036'),LOWER('0x40d87a206eaa151608b04600eb6f4e5a63de136a'),LOWER('0x40df147ff5374e22e3ca8a3195629be0b0e710ad'),LOWER('0x40e350746beb55eabb075410af653f0192921f51'),LOWER('0x40f404fe6c091b951576ecc7bcce5ecd56c985f7'),LOWER('0x40f6dfb251c7b7524e54f42df921e05530aeb883'),LOWER('0x4103c267fba03a1df4fe84bc28092d629fa3f422'),LOWER('0x410e3ade42c0f44b6c1854f16b8feecfd2167747'),LOWER('0x4121b940b6b6a23624f61d87ff74b95d1d213ad4'),LOWER('0x4161313a85bc1eb8b398cb5b91830f33e64f2e72'),LOWER('0x416299aade6443e6f6e8ab67126e65a7f606eef5'),LOWER('0x4165cf0809028a0bd48929bc4a6b6e0c6677a312'),LOWER('0x416ab14081f46763d7cd66d825dce4726ad0cfe2'),LOWER('0x416cade0807467a4b4f663c2a0c4d3d7927ab763'),LOWER('0x418739081426280e256529f3e799c3adb0dca476'),LOWER('0x41a62e50b29b141b139dd47a76ed725a16e27e2e'),LOWER('0x41ad39245dd90cf4bc1860748fffe8e5f2727b89'),LOWER('0x41d33a9e6e07d91e9c74539cd4bf138249783ba9'),LOWER('0x41d57e163b6c64fca2cd6535fcaa199b1fedd98b'),LOWER('0x41e78b4a694fc2a16f90289c3352eebd5d7b30fe'),LOWER('0x4209312b6b86c5a12a97daf47ec8bb0158e3857f'),LOWER('0x421de68df5e985bd36adeb9492d3798756aaf8a3'),LOWER('0x422431af5644eb62e300ca49a5fd8f45f098ad22'),LOWER('0x422c7d80c93ea7ad6369afc3b47a3974bae88823'),LOWER('0x4230c402c08cb66dcf3820649a115e54661fce9d'),LOWER('0x42392302fd03e8eeef0b4a12c161b93d117ae6e6'),LOWER('0x4244dec458c4029e18e80edb94ded62119569ef1'),LOWER('0x42490e604c43b6d9529869e471eda0ce15c896c5'),LOWER('0x425069cb2e47d3cc8d50a1d3139db25a226ecdad'),LOWER('0x428ba161faf86924c79c47b745bd73e7a839ff74'),LOWER('0x42a198c215540cf4d01aa5765ec2cc58112f702e'),LOWER('0x42a462a48023fe5474a2fb22c743f481ccbfa89f'),LOWER('0x42c69b6d9498891c4a8659cc425db3b52f125af5'),LOWER('0x42c9a71d26cc542d503f6e643488670050bc22cb'),LOWER('0x42cf5cb75380820fa4ab723a25c2ea901899c2c3'),LOWER('0x42e74f15d5b69cd42abba7a55bb27e35a565e3ae'),LOWER('0x4309be6e43128be78704d471f00a4d73529b8565'),LOWER('0x4331b095bc38dc3bce0a269682b5ebaefa252929'),LOWER('0x433640a415cc24ae4503cc2b2cdea120238fc2ff'),LOWER('0x43424721c98bf9e89e675323f434a2683fd4cca5'),LOWER('0x434262c9cf324a3593e8ce0e51a24e0709250c5c'),LOWER('0x43497d63ea64dad7ab287fbd5ba25ece6711c1ba'),LOWER('0x43584dc82a8077d8558b7c8374918fc939574539'),LOWER('0x4364ee482831c9599e8859b5e3856089413fa407'),LOWER('0x437b5b7124b219f69a7bd8ad37c0a384dcc2741f'),LOWER('0x437e8b5c364f93e97319111a15dc33f1555d4ddd'),LOWER('0x438ec309373e1b4b037b3d19a95b9cba98c76b55'),LOWER('0x43996e251368500c02f1f1c8bced08ea24d9eb46'),LOWER('0x43ca3c533971924621956cc0ba0a5ff201ac5d1b'),LOWER('0x43e2ec837a789fb39f13098bef24c72c27c28806'),LOWER('0x43e4f031f795dcafd662ce097f53b5f908f39dc8'),LOWER('0x43e9fd798dfa84035fc9058fea5ffb695670b8d7'),LOWER('0x43f76ec710c9ac7b10c2dec2e2eb2f788175187a'),LOWER('0x4410ccf6a13c5d6fb51c153516eedcba1b5a0ad3'),LOWER('0x44130fe92c6731b8bc3591a52a2802cdedd6c432'),LOWER('0x4415345c7c63d334ffccde62adf1252b27ecb50b'),LOWER('0x442649d1ed6220a44c121abec6e8a3561a4e04d6'),LOWER('0x4456584b37c87ea8729bdb9104837e31ab1e6dc8'),LOWER('0x447da9c355b30f6e167a5da0eb45c90145f9cfdd'),LOWER('0x4481e312957793fc2c3a3a9c9bb784d68399a7c0'),LOWER('0x449ccf770f01c054e56e22b60b8ee81a5f8e395d'),LOWER('0x44b6cc86f949227d91513bda4c7ef7dda7cef337'),LOWER('0x44bf5c09faf3e32c51cf0c5167a3c9d51c2dfef4'),LOWER('0x44caa2cf15651f7c942d417e5f53ba9142a27d0e'),LOWER('0x44db4e1f207154d6aa370cc2fd2f8e2b9a26ec49'),LOWER('0x44dbbd4846defb5a74425b79c15691b733467a5e'),LOWER('0x44e0771563cea22404a40b23b39e801ae0fd9bae'),LOWER('0x44faac7053f124193d0870ad1209557ded5cbd0d'),LOWER('0x44fde4720323578a5351697a57770cc2fb0d6499'),LOWER('0x44ff6b57a5eabaac19c85056b318203da45568ef'),LOWER('0x4508f5e7d98582cd202f212090cefe542a29f9dd'),LOWER('0x450c037acc8f5e1566f49ccf520b081b72df2cbd'),LOWER('0x451bb8d47a8fc0a77338c73a3cdde8ca87a92ec3'),LOWER('0x451e907b3f06251e74797e584549eaf29baa59ab'),LOWER('0x453268ec77dc1c4e8fdb0437bb6d121d7cf99ec0'),LOWER('0x4534f8bc4c475b6cc0e25fc6e0ee352831dc7561'),LOWER('0x454993b00d45c96c34a65e35b13dac70aa7a678b'),LOWER('0x45557c614d4f280967cbaf4f369d5566f436b5b6'),LOWER('0x456b9049c8d921ff47e2a584846e56851ea34852'),LOWER('0x4572ef6fd7faa5325f31b984ace9d522c9c06b5f'),LOWER('0x4588c9a704cd9917a967ed5d1e62085a3d9f6a1e'),LOWER('0x459201d8a6c1dccfe904461905dc3645ce8a7f39'),LOWER('0x45a3873a10c95aa5bb7ca9fbd97822fc12a6ebd5'),LOWER('0x45bc3c6ab442bd56845ed8b893ea7d12cfedc72b'),LOWER('0x45c14b963c75710d44c6d4ce8338e6a5e066cb30'),LOWER('0x45c94d5019140e42b9c51d1de7fb0370fabf95f7'),LOWER('0x45d59b7aab8bf00449b5a898b14aa4b048f5c56d'),LOWER('0x45ee53f90c619c12182bb90875abb3cc5a4a9cdc'),LOWER('0x45fb09468b17d14d2b9952bc9dcb39ee7359e64d'),LOWER('0x460579c59a098c911af87cfa1b6ddb0b9452a97f'),LOWER('0x46340b20830761efd32832a74d7169b29feb9758'),LOWER('0x4649876902b98e1e393c4fcec591c75efd1e87f0'),LOWER('0x466048c1faf43d6710ed526c37213b0a10639640'),LOWER('0x4666a0eb8ee007202f1aee8bfb633ef7e58ec38e'),LOWER('0x4677c06757a2059c7b750fd5b59c2e65bf1851b3'),LOWER('0x4678cb6580b20bd4340fb5269e91af3e921180d8'),LOWER('0x469232c5a3a9cf5e2ebb4577495809d15602fb52'),LOWER('0x46b3aa73578b2c63181b26a08997140495003a80'),LOWER('0x46b830bf2c258f5a7db64eb9a96706a91132715e'),LOWER('0x46c9eaad8df2b45eb0dce7b47210bf6c514f756d'),LOWER('0x46dcd25a517a77b3e52cc0f8627b1136cea093e2'),LOWER('0x46ed7634e8ee72a40b3faaccbde2878875d07863'),LOWER('0x46f7df06e972b516762182348e37f8c30665dd6a'),LOWER('0x470dd61f274d1612385d3b5aa876fb898b4be344'),LOWER('0x471ad86721e3a5facddc69ad065c4b823b4d6db2'),LOWER('0x471d90af446af532179872549c9c5bc9486aede8'),LOWER('0x474716e617fea8898d4fa9d891aa67b5bedd6c4b'),LOWER('0x475b6ff6603f17177b7e419d1ad2791fb82a3a56'),LOWER('0x4761813466264ad75acf7d46e431f5bbe216f843'),LOWER('0x4762417ae0fdfa3a3a9c866fd1d1bdfdaae734f0'),LOWER('0x4765697e4e357148f0819b961bd7ec4837d1020a'),LOWER('0x476bb29493fcb007e3f80c83a3bf80f3f34610fb'),LOWER('0x477a277e9f16893d96328119e6b3f4fecce61e37'),LOWER('0x4793f5aed4ee3dd86d80964cd4ace74d298b23e0'),LOWER('0x47a214168d6910b25835604915206dfd6c0d82c0'),LOWER('0x47c3eb3dcdd524c2508da649d08f94571dcd398a'),LOWER('0x47ddcc6f5bb92416c4a86c885fbb908ff26bd1d9'),LOWER('0x480a5961ed22638008547b892e5d714827877f95'),LOWER('0x48150b02d91a73326d80f6ef73dc78fab3626325'),LOWER('0x481843a82fbb4a9f0fac77efceb3342078cceafc'),LOWER('0x48198dd06b89d8e8d4cc29a7d2ab4c60abd3ad14'),LOWER('0x4820e986fd99ca22f5cf6fff50f9a139ca58e69c'),LOWER('0x483aeeed3f3c435afc1928497ace02ea7b2f6588'),LOWER('0x486d11acf7500022ad29301c9589f4ec68fd603b'),LOWER('0x48731a48591b8a1869fa0f742334532a88b2ce92'),LOWER('0x4878f0580650fa0d1a49b57fe8ed9918d1c3d410'),LOWER('0x4891f060c2d0a8f16104c6cb0563a80c797ddc59'),LOWER('0x48b576c87e788a762d6f95a456f2a39113b46950'),LOWER('0x48b933365b989904f0108aeaf4b545888b165890'),LOWER('0x48c50f05375cc0af7c3d7f08010ebc992cc5666c'),LOWER('0x48cd56cf91991dba2efe8b4c39dc36c0b9945c6d'),LOWER('0x48ce15c6ef7d15f1668f6eef1965483a487d738b'),LOWER('0x48d29d11d4267d438294d32e5bf55231946bf7b8'),LOWER('0x491e7c32ae10936aee02916678c912ae8b75fb6f'),LOWER('0x491fe5f4724e642c90372b0b95b60c4ac8d13f1c'),LOWER('0x4929fd44d79f6338c8c1d64fd45e7f334caa1009'),LOWER('0x49461c6fbc11fdf0712ea04193510d383dabf433'),LOWER('0x494bde26db38393f7beded2f4b376e67deefffe2'),LOWER('0x4960a1b0b0538bdee1551ec82dc27274edb4d03c'),LOWER('0x4962260d2c1a623d9b7e263c5e66b7c9a2683608'),LOWER('0x497598f81d74e3ff4c856f108a9245e46fd1fa88'),LOWER('0x4976a4a02f38326660d17bf34b431dc6e2eb2327'),LOWER('0x4985889bda103907c9ddb5e8d4b90a5f6136d8e1'),LOWER('0x4986098b65bdb090ca13865f8164edc62d938cd0'),LOWER('0x49a52656696b97d5a2363db0d05c4b0da1453f2a'),LOWER('0x49afaa49c8ea151677b356c0e15963b55d24cb97'),LOWER('0x49b21bdfa30333858956342f4028ce72e37eb851'),LOWER('0x49ba4256fe65b833b3da9c26aa27e1efd74efd1d'),LOWER('0x49bf5ac5c4949ee0f9ee5a3d015fab75545ab811'),LOWER('0x49c9fb3402dc8a7f36b784d42aef56639dc89178'),LOWER('0x49d1978dce1a788a0e33ac59c004e5fee4093e95'),LOWER('0x49e3d09671762bcd510e464be290f1ec6b8da4e3'),LOWER('0x49f37709ec3f43821fe9b73ecae23c954dc10284'),LOWER('0x49fbdf6a6614b1bb9b4b9cdd8f4ebffd87e6cabd'),LOWER('0x4a067b189ef8eefe4b40d73b0b22b60c26b427b7'),LOWER('0x4a34cc34fa9d6051b008fae665cd67669188dc35'),LOWER('0x4a3e87e105593f4d59c015c68814c11e275d4977'),LOWER('0x4a41f3d9df03b76bf80a9455f17cb04743301a44'),LOWER('0x4a5eb5d7285761ff9e660326fddcfac33b0beeb9'),LOWER('0x4aa24d7dd60760d672b8cbc07b4bc409b4338488'),LOWER('0x4abb08d8a702d5df336e6d0d0c440b583630b283'),LOWER('0x4abd7202eff452ff57f415c0475a0654b8380ed2'),LOWER('0x4ac24e5238cd130c9ac7cf9ca1d017360f5f5973'),LOWER('0x4ac7fad2dc112d490ab8b4d5a634d23b54f0ee67'),LOWER('0x4ac879827327d38508324315fc7f478ab6f88c1a'),LOWER('0x4ac92d60cb6415232e62db519657c33abdcd102f'),LOWER('0x4ad00c7af1dc96c935d832fd39bf53d0dab66b55'),LOWER('0x4ad45efb1c0d4d15612311739ed004e8979d5bce'),LOWER('0x4ad64983349c49defe8d7a4686202d24b25d0ce8'),LOWER('0x4ae488d14ff5622ca5ab1df32a8c26e775d4a7d3'),LOWER('0x4ae7ca12a93abc33a040dba03f2ae8fac43ba242'),LOWER('0x4aeaf3ad2071da87f10044d7e69b8559005d26e4'),LOWER('0x4af0f8ed3db4f7af56a3b606b74c2ad9d252b5ce'),LOWER('0x4af8d242c8e46c95221eab911a4ef1b296292468'),LOWER('0x4afc79922d5f72df0c7fe856f724819890f77143'),LOWER('0x4b0163c213f02be6f954e1ae1122d1dd7cb8ed8c'),LOWER('0x4b01721f0244e7c5b5f63c20942850e447f5a5ee'),LOWER('0x4b1c314b6e6015a3bd7f06d5f1a0c133e7636741'),LOWER('0x4b48c397035be379f9e019e30e0207719f50fad5'),LOWER('0x4b4e14a3773ee558b6597070797fd51eb48606e5'),LOWER('0x4b5868bb88bdda59b6c2298fb24a255bbb1bb2a8'),LOWER('0x4b5973b00e74167bf715d96b266d4021f2cb890a'),LOWER('0x4b5b65e56fb7c5b913ec9c58e1efe96699e1d2ab'),LOWER('0x4b729cf402cfcffd057e254924b32241aedc1795'),LOWER('0x4b7d53e3b1f5592f19b20a3bfcc3f230322c146c'),LOWER('0x4b7f50783680fad0cb26829d28f94b90680f68f8'),LOWER('0x4bb11de6a69d1d60c22e60214878ec589df984a2'),LOWER('0x4bb15815412c1b4c6f0781dbfabc7ecd35be8566'),LOWER('0x4bb6cac883abd01934b3a13f961072d9efaff547'),LOWER('0x4bb7daeba84f3d34cdab6b8c0d5c2d6a68a1bcdc'),LOWER('0x4bce3cec9ffebdc48b90cccbe3f568b5b03f31c2'),LOWER('0x4beecef13a3a24a9dc9890452e3fa71427c5870e'),LOWER('0x4bfc3e8628a6470ff6bfd86fb2b6d9bbe0abee17'),LOWER('0x4bff1e6f00450aee0a4ffc8a661b50030d079fae'),LOWER('0x4c0dd4d65637a951d77cd820ba4f967c50b33896'),LOWER('0x4c0f104c81bbddc9bf0b0aa822224422c518dbdb'),LOWER('0x4c105f81b411e3076686c6ee0b6a66168d605238'),LOWER('0x4c1af18185fd46d2dc2c35722c25bc570eb42a31'),LOWER('0x4c34ae54dc716808e94af3d1d638b8ea3a23fa9b'),LOWER('0x4c531ae55b5bdba9b4fa92aa2825cfdf8abdf1fd'),LOWER('0x4c7f2b957ad740f77b84b7a666734eadc2dbedc2'),LOWER('0x4c894300dace47361f6d8c084f7295a2c26e094d'),LOWER('0x4cc0f6a73f5ac0f78c752019d537db88b5dec9a4'),LOWER('0x4cc1aee2578e155dcc30961f4a3e626ce2514366'),LOWER('0x4ccb740b39d51e400425720a7cc483ae7489c5fe'),LOWER('0x4ccceb02bf258491f40b399baf06eb9e7764a2f4'),LOWER('0x4d2663e73089471bcf6feb01023a8cf47857dabb'),LOWER('0x4d2807988e60ccc35e5a692e91ae3e75804e140d'),LOWER('0x4d29cc30f2e8f8f498b4303f810ca1ee26257b66'),LOWER('0x4d38a9b5f8cbcaeb450a9cd6d96d031626178d4e'),LOWER('0x4d421b547f66505f8862113d7b549c1414fe2622'),LOWER('0x4d497d514de6c6e525e97c9b446a93feb3c48b21'),LOWER('0x4d4d42bde095a34d8a257a0681b7f525237c2188'),LOWER('0x4d4feb01b78adee6a3d1dc8956ddd7e0fab3812f'),LOWER('0x4d55999b51a3dfc182dc9e066daf356ac46da10c'),LOWER('0x4d602037a72e5db6b5f0156721ebeb3bedaa3c06'),LOWER('0x4d665e0dfb13ff739581dbd2c9fe503e6a987962'),LOWER('0x4d6cadac5bc746b2a75456065cf2c8ef1f018e7d'),LOWER('0x4d7f1790644af787933c9ff0e2cff9a9b4299abb'),LOWER('0x4d846da8257bb0ebd164eff513dff0f0c2c3c0ba'),LOWER('0x4d8cde421000f030606f51d4327acae71b4b86c6'),LOWER('0x4d9449950057744f124e91e7407b56a21fcce6c9'),LOWER('0x4d9ba778b7f121e58e5d3bb6aef514e035a7c7f5'),LOWER('0x4da9cfc254609019fa372629dc350d86fdeed5f3'),LOWER('0x4db20797136ee7efe5a88dfa16364844aa62511d'),LOWER('0x4de467afa9cdbf88c899dca28e6ff0d2a9c779d7'),LOWER('0x4df135e7acc0430db099be09777c386fa2e53d93'),LOWER('0x4df40cda644c43e8ed16f75b99f30b7c9733d909'),LOWER('0x4e1d123d55994bc919c909838c8963e662552c16'),LOWER('0x4e342f8988fd2668059b3fdf4729f01c1a2d6972'),LOWER('0x4e45ab1f60480fe6199d20208067de206c4e9959'),LOWER('0x4e5b1310b2a3e3906e0c36377c3460278969f329'),LOWER('0x4e5b2e1dc63f6b91cb6cd759936495434c7e972f'),LOWER('0x4e67a6f836e155d8ca2e4156e0ff5c496c5016b1'),LOWER('0x4e6bb27997792ed21a20f5562bcf9c340e64c3bb'),LOWER('0x4e70cc1f9786a837d104c9e56209c40d2f5edb4d'),LOWER('0x4e7b110335511f662fdbb01bf958a7844118c0d4'),LOWER('0x4eb17f9d06e2d31e9f0fe50a14ff6c99b66dbd36'),LOWER('0x4eba186b82c6a124d6d215e523c69731a59efe2e'),LOWER('0x4ec2acb97760522a74382323f9ce6a1dee4347e3'),LOWER('0x4ee49f8d4761d36ae92b8c9bd8ae032240f8aaa1'),LOWER('0x4f11dc07718e8c544e1859fdb4b2cc388b5cf392'),LOWER('0x4f2f1ab8a94425cdc6fdb66d1eeb3cec4801643a'),LOWER('0x4f4392e79450fec4df1776e67f54d1d88b1eaf75'),LOWER('0x4f4e7f117b8ad2234eaa4c4c5c09ef0ab981d6c3'),LOWER('0x4f777e46c37fc4a2f70fdfb3a0a7c56c93ee82f0'),LOWER('0x4f7bfbb37cc91e7c32a2549d077e7113d01095e8'),LOWER('0x4fbcd34663df0e8481ea51a10f13ba35545c412a'),LOWER('0x4fc6dce68a43d440221debcb4de4f3e7ef33d726'),LOWER('0x4fc9898db34c8cc828d6de6c3f53b109cb740a83'),LOWER('0x4fd1bb13bf64f5803fd430afe115be1a170172d4'),LOWER('0x4fd8cb8d7597c08573036fd4996fc7f6535057c6'),LOWER('0x4fe1a1256e8fb80c1b7dcc865d3c87f4de45804f'),LOWER('0x4fe305c02fc7654fc85a35c21ef819f8d2d78694'),LOWER('0x4fed1fc4144c223ae3c1553be203cdfcbd38c581'),LOWER('0x4ff128ce2cb58a424848303e9a7a6a7e6cf1ca52'),LOWER('0x4ffd5b168cf7365fe0e1277446a8869c0edf1345'),LOWER('0x5003b24e77c627c9fb1257e07fda637f0ffb6a83'),LOWER('0x501c5f21da88b0e617bfa09c22331e6203cddcea'),LOWER('0x5027e0fce6dbfbf15c54529c045079dd4f30ae54'),LOWER('0x502d14d6ee362973e0cd80e41a4ae81eb1ad6137'),LOWER('0x504985c1ace62378a3f1c6aa19d09be9d35786dc'),LOWER('0x5051beb48c656f965a3554f9d463719735392446'),LOWER('0x50802f44fa3c5591e73c8db971e815a9fc11c208'),LOWER('0x50a233e8c6a5bbaf678dddd732446e14ee53ab65'),LOWER('0x50af5f78a48bfbb09d4a53263be9a405b4d39fec'),LOWER('0x50b35cbf7547668b6704cb88b0ea43563e3310da'),LOWER('0x50b6fbe92b6aa172808f6888b232ec7ab84468a2'),LOWER('0x50b959f0efef675750bd3a95f8fa5a5ec70dd37b'),LOWER('0x50bce6bd28aba7e531ad1f0993a4edfde6eda34f'),LOWER('0x50be13b54f3eebbe415d20250598d81280e56772'),LOWER('0x50ca78bd5e54ffb44cf91e5451651c8991c9631f'),LOWER('0x50cee9533d2ce153f3a4db05479249fc65f59a93'),LOWER('0x50cfc00594c4e2833771bf321b9b99b3777526e6'),LOWER('0x50d2dec635c48f5e8cede341df87c651c6cd5318'),LOWER('0x50e812cab8c2d8c0713a8cda025be047ba7de21f'),LOWER('0x5101ab0cb07bee4a8df6e8ed2d176287ee0e20c7'),LOWER('0x5103ee0b3b230b59544b15c6cbbdcadcda4a33f9'),LOWER('0x5115b261fb75084af050349020f09164cb8fe059'),LOWER('0x512e25c33ea738e5fc2064cdd334c96c60b78646'),LOWER('0x513e9e47572863e70266f39562b209f06b335a79'),LOWER('0x514c63a6de5a462cf499b59503f89a3eddea56de'),LOWER('0x514cb0c6ef56efc34708285f7dbcbea4e07980d2'),LOWER('0x51534b5e9435b4ccdc6a1d78f33a94f2394c56b0'),LOWER('0x51733bc45c6de4f43a41846468d0b43551ce2dee'),LOWER('0x5174f5717cc3927d92b23541c69e58958997e05f'),LOWER('0x517750948ad729fc150631ee52dc1219c8492d2e'),LOWER('0x517892c02805b93032cab298f9182e0f25eda679'),LOWER('0x51836a753e344257b361519e948ffcaf5fb8d521'),LOWER('0x51a5356d5546a139adadf0a7752c4ba266dae69a'),LOWER('0x51bd0a31e554cd32d0f4b3d42a2c75d3100aed8b'),LOWER('0x51c1e9bed89903e924611fa3c557b2827981848f'),LOWER('0x51eddbd3d2860cee178d4a9d5233e98f4df18fa8'),LOWER('0x51f4e96abf315ec7597cb56d89637455ebf60f4e'),LOWER('0x51faca7c3d66aa09bd1570ab0ed6e4510b6cb487'),LOWER('0x520eb89a82b71435d7a2569c8ce4671da16322d6'),LOWER('0x521143e5aac9910fe362f90b38d3f2ef17f33f6d'),LOWER('0x522afa6c79052564e7ebcd9c025bf2a28b257dcb'),LOWER('0x5235ea672337cd073f16ba138f3975f858237934'),LOWER('0x52385baf5d3e7111c7e0a56f198bc8805ac60532'),LOWER('0x5244736b3a8f898149ae33f013126a20ce7abc62'),LOWER('0x52467a67f7084910340e81c9b062b7e0de0804e6'),LOWER('0x52656dd5dbf611374e9733356ed6d6f17e09c9fa'),LOWER('0x5267522a3ccabc14004fe3dfc817a9e2e0876c63'),LOWER('0x52692b6f9d1ba80332b5ceaf13e34e3ac802d046'),LOWER('0x526ad2623ca614bf27e8b62257fc7ac2a0692a23'),LOWER('0x526b571309c76f3b544711fa46d0fce214163972'),LOWER('0x52ac673119e9c4ba9f647100e6ccb7739f55f6d4'),LOWER('0x52b7c5bb2f623bf33040b3b22207862ffc3aa045'),LOWER('0x52bb4a266ac38a88c869c6dc4681c329db785a04'),LOWER('0x52bc44d5378309ee2abf1539bf71de1b7d7be3b5'),LOWER('0x52d20f9780a13b176280fdf8fcf39e2577cc4f01'),LOWER('0x52f804c8df023ed8433e5496d2528b53b9137caf'),LOWER('0x5314d1eddf38383532d6681e93ccf2d01b625bd1'),LOWER('0x531d4ed2f36bdea07941d7c752a165c2b11d1bf4'),LOWER('0x532017b238c7baab39c6b789a27bbca687b66c7b'),LOWER('0x5321f304c6f78f2639c87c531a5472da44ee38fb'),LOWER('0x532c094014e586cd85e5ad3ad1789c6e96ef1c99'),LOWER('0x532eaf40739f5c2e58f25c947e2bd78e5dad0113'),LOWER('0x5332a3a81e038beb58f1a5a21abe56557edbd526'),LOWER('0x534edfcd48a185accc8b250b0985678c2d794053'),LOWER('0x53689d907380cd7a1d1fe2ac8c64e53882cc7ccc'),LOWER('0x5369436205671974a9a9a2223a45af4af4e518d8'),LOWER('0x536e1687c5c6ce199836f9ec7fe617947416c424'),LOWER('0x536fef0b5ae77486a5795048a659d689cd787c36'),LOWER('0x5385b0530eee346597d128281837a959aaf89315'),LOWER('0x5389a5546f3df2358e069908605dce8727bcf64c'),LOWER('0x538a66263bac72232ee0f765ef235346d500868f'),LOWER('0x53b5ba68d544352c2ccaddaab50ca868896c85fa'),LOWER('0x53bb33730bce9fdb80c9c4c3a9ab9d5acc29c0eb'),LOWER('0x53cfa0fdde69619df714d8bf19b154d12285efc5'),LOWER('0x53d2cad0218dabd124e6f0f48a293c3879b50183'),LOWER('0x53db259c2402d434a4b1eff0afb7efb99ecd8291'),LOWER('0x53eafbbbe854d4b2a77cd9bfebc4a03921bb2251'),LOWER('0x53fb8c2c4b09ce71da05d33299f588324f39fd71'),LOWER('0x53fe11f0029da66cab70d7373b3161dde6be6c4a'),LOWER('0x543fb64a2e77459945d9bd462def277e8a7fbf77'),LOWER('0x544532d291e27c75c27f181fde11b92a2b4ff695'),LOWER('0x545a406e019c4857647180b2daf5944f023a0cb7'),LOWER('0x545bff8aebb092b6aae30c6224886eeb68b3203e'),LOWER('0x545e6223cff2effc035758deb218197a3875755e'),LOWER('0x548c40fc9696f833fee1eb4e3db202047a537449'),LOWER('0x5494c5f156a3e444e3169bfc3bc077a98fa67d85'),LOWER('0x54a8c3ab48dba5412039d816106d047fe1bb77bb'),LOWER('0x54beaf9b7b1a2c90ac52d87f4852a04ed0e3225b'),LOWER('0x54ca3b59fd8a4d881976344623f0a9b882ee808b'),LOWER('0x54cb6a38d1cf3faa1cfb965ab9bb50039131d417'),LOWER('0x54df3c690ebf31899e9c9363c9d558aef8016535'),LOWER('0x54e22ff0d5a59af8912235f4ef65af3db3223965'),LOWER('0x54eafc97e719cb6db0de6af0f789c589dc14edbd'),LOWER('0x54edff070c66fa5775619625e6efd8aa314ca9b2'),LOWER('0x550625b5c7e97981336aeeaa3c0c1dfe30572eb3'),LOWER('0x55135459b85ebd8cca7c357587259090e742f965'),LOWER('0x5561974f0d35d8c355241a5568894df7b691bb28'),LOWER('0x5574d6f75a59945a3d2e056d048816e11ce12bf8'),LOWER('0x5576bf2b676858d5e2934fccedc01b0088ddb3d6'),LOWER('0x557af33b86eb37bf2f3bb3e18d53d5838d205fdb'),LOWER('0x5586e3549a6e7ed3278894701f1ee3ea1979bff3'),LOWER('0x5595c66580a6c7c3a4c52c444174679ff3384e9f'),LOWER('0x55ac0f56917b5c2f26e0b04b5086e2d72b92f651'),LOWER('0x55b727ac5fedfc67378b5e6498b9ce7c98aeb79e'),LOWER('0x55c2a8568b3b3f4e509d249f786e73b211d5aea5'),LOWER('0x55c4775ce67cffed0268f0230b8404e6d6e925ae'),LOWER('0x55d491c5a2ccb0d487ad3dfcc7099d370a14f5f2'),LOWER('0x55e7236e5d86701496ce193da87617b4a7bcf8d7'),LOWER('0x55ee617c98986440c8dc43094ea0a0e745226f89'),LOWER('0x560feceff0f0452935a324fe2f41502b31d26427'),LOWER('0x5623ac7fbc255ca3b7d080f0ac8a7ce64353edaa'),LOWER('0x5624d2195881f8801e9f5fb82ee4e9adcb0dfc3b'),LOWER('0x562680a4dc50ed2f14d75bf31f494cfe0b8d10a1'),LOWER('0x562901b38b9d432680569b807a9a8f7818e18841'),LOWER('0x562c36d3842e9bdd3661430ca3153bc1ce63c0e4'),LOWER('0x563b377a956c80d77a7c613a9343699ad6123911'),LOWER('0x564286362092d8e7936f0549571a803b203aaced'),LOWER('0x56445b3de1ed1e239258c3e46f9c26ab735a8491'),LOWER('0x564fc5027be63048121d54608cabf441e1f63473'),LOWER('0x5651a57490592e9f7499d298ee2cb6161c438d52'),LOWER('0x5666d4c246f7b825a3d3777b6796cf9666c47fa9'),LOWER('0x56845b954e134dd557e405f483e49f881f511062'),LOWER('0x56919a1f97188c732fce8f17b0114d3fd2600f35'),LOWER('0x56bf3dfcec4b1fdda166b6bc504e215fa843823b'),LOWER('0x56d136f2a2ace9a9e4551c9aa6c56d349e0aa90b'),LOWER('0x56de536b0808f62f2c7f904a6e3af508a5aa0c64'),LOWER('0x56e67204a34eb7c79bd1b4b4d8dd905717881ba8'),LOWER('0x56eddb7aa87536c09ccc2793473599fd21a8b17f'),LOWER('0x56fcb69064cfa2097a300461efe9fc5e80567e39'),LOWER('0x570faa3c6ef28aca874ed1e14404a21974606624'),LOWER('0x571975841dbf30010861248ca05078b8576310a5'),LOWER('0x5725a458b319d73b8ec84c47de80620e7b191b0c'),LOWER('0x5727edc03762aaf7d82d1d958de6282c2da836b3'),LOWER('0x575f80b3db70b69a287402ca0ae99a027ccdfd8e'),LOWER('0x57826cfddbbe603722459652cccd751c8fdcda1f'),LOWER('0x57993310d08dcc39b4fe22d0787fa705c670e299'),LOWER('0x5799dd2b9f02c52c28c0cb78929a7a624f2bdd0e'),LOWER('0x579faceb93801bdc1a99e2f53386511df3c219d3'),LOWER('0x57a004076f196b722c7a7f45c570be462e765cf0'),LOWER('0x57a6b5d857cd253164e472dbda23d7932543a09d'),LOWER('0x57a8530c7d4b916d0b2a1986ee8d5478ca26cd8f'),LOWER('0x57afd062355478b18e882ae8fbfe72dc432e324f'),LOWER('0x57b174839cbd0a503b9dfcb655e4f4b1b47b3296'),LOWER('0x57b72d6b0dd4490de60ecafed2ed451b8e7f5797'),LOWER('0x57c06853dd4e461e18f6a99ce704253bea49f9ac'),LOWER('0x57c978431839d03dce06ff0dcb448c3223490806'),LOWER('0x57d1af4c1699d158dd03fa152570b12ee3a70525'),LOWER('0x57d1ea4c837f947814dc6d7bbdfc77b37c96ae36'),LOWER('0x57f0192f5309413a1fa35ad30db2389ed05c4007'),LOWER('0x57ff28fb0e39c241c760251a20b4640cdfcd9f04'),LOWER('0x58246f066674ef1a3a796ea14ea9bf34f6cd75c5'),LOWER('0x582ac953c11d5e51f3383a6ba57a8801db6ca75d'),LOWER('0x584d831e4f373d3290f365721fa42b5b71af4fab'),LOWER('0x585903367a8fd699470ed1e2d0614d820314a401'),LOWER('0x586395f597a19f7476f77b481a0958ac43254c79'),LOWER('0x58695128e50bbe2167264b280568e7c64d1bef15'),LOWER('0x5879c9ad534b5b9acf47ed0d33a946de46877ac4'),LOWER('0x5894b15d3ee303ab74f2ff27965d9b76abda8d09'),LOWER('0x5897b6ffe7bb88c7455afd33eb498b026ea2b154'),LOWER('0x58a37ebf4adbf48232d0836b21bc590a52d7eb72'),LOWER('0x58b2d6f1e617a764f93f7391f3b0a374b2c7fbf0'),LOWER('0x58c0808d8b83279bb5d518f9f0aabc458774eb67'),LOWER('0x58c2cb4a6bee98c309215d0d2a38d7f8aa71211c'),LOWER('0x58c5494acf0b2e2256412cc7c34bef10b8877f30'),LOWER('0x58c6779e14111343594768ff6e94d3165a133fc6'),LOWER('0x58e6949e73654bcf40de6f99fe09ae29243b17c4'),LOWER('0x58e8d89f10d43cf2eb98df1fa0eb28562a99e9e7'),LOWER('0x59036e2b23134ecbb60dd218e311bfab6eeb39dd'),LOWER('0x5903c5a4640f5812dc0791b62c24ee4c59819bdc'),LOWER('0x59104482bd51bb950f9ff37c589b269f34085046'),LOWER('0x59120199b71a63f1f7e21f22945a1f2922e4ca8c'),LOWER('0x5943eae1dedc212a577570f9f48b14124d59c9e4'),LOWER('0x595063172c85b1e8ac2fe74fcb6b7dc26844cc2d'),LOWER('0x59540ff5f90d3fbfc5eb4aeee8b7c10615a8f368'),LOWER('0x596e1a05f78d95de743774b3dc0f3096d8756d15'),LOWER('0x598947beefa9f1f8effa151a30d2735122b69ae2'),LOWER('0x598d21e1443794d046c677c960759635ade3e64b'),LOWER('0x5990c358c53fe983db3d820fe187dcdbfcfac799'),LOWER('0x59a327060047aee4fec76f08f687d0fbae5d8821'),LOWER('0x59a5208b32e627891c389ebafc644145224006e8'),LOWER('0x59a7ebfb5f84c35b6fa5163973514986678f5196'),LOWER('0x59aa0e99cbe397dd5f2eb4013de9094f804a4f37'),LOWER('0x59df739729313d917e56e58ce15b2ed67998006b'),LOWER('0x59edc292ee56a0284a03b04ace0595a831e515df'),LOWER('0x5a169516d016b0ae5f7f98e5062aded10146a722'),LOWER('0x5a24e7d0ec47a5ee482789193b080ce076aa2b62'),LOWER('0x5a264b802702f2e01f7b95c1365c15c2a96de8ff'),LOWER('0x5a4ac9df62415f073e984db58dfe21e14eb8903f'),LOWER('0x5a62d35052ccc511fa7a04f8e3077397fb4d2100'),LOWER('0x5a72bfaf8dd5b251bd008fdc0b4656319ac0509b'),LOWER('0x5a790ce66cacc6a843e1bc649265abbbefa610ff'),LOWER('0x5a7ba787e7cf00f9ce55ccf2c54bf1c0c29231bf'),LOWER('0x5a869e3de0e797e4ff8e1b3436610a66ed09bc93'),LOWER('0x5ab7bd34ae59c6dd894014c630fe0a6b65dc753c'),LOWER('0x5ac1edadac9af6a15774050379324e4b87962491'),LOWER('0x5aedf37b054535ac1c1c0785c8b772ef4a7fca64'),LOWER('0x5af04a892e6f52177d87152a9f02413d25968e63'),LOWER('0x5b02da8420dd9f77a33c6e2b22dc87fe22c17a30'),LOWER('0x5b0ed743a0bd6c3b3bdb2c7970642f956f71fc91'),LOWER('0x5b12539d184f4caa4fa322844777ce60f587bd74'),LOWER('0x5b12b14dd14f8a1fdb38d660dec52031736488e6'),LOWER('0x5b443ad1ef304dee5f33d4d848e4ed9ce90cfeff'),LOWER('0x5b46d6a0b94eebbc9df2877f0a9944f60624d172'),LOWER('0x5b54f5bcd3ffd46e55f3e72f7866907bc4e2bf23'),LOWER('0x5b6b5ef4fcebe5d87e069b997d96c79495e099a0'),LOWER('0x5b8900cb331ce59480c401ec93a1a971795ed597'),LOWER('0x5b9e9b0a14656dd30f58539018619edd287bebc0'),LOWER('0x5ba7bad270985a81b03cf735ccfd4ee1cea9245e'),LOWER('0x5baeac0a0417a05733884852aa068b706967e790'),LOWER('0x5bb88030256585880d134f67639ef656afc29c74'),LOWER('0x5be4aa36716374aee564d08011c6a8402a450a24'),LOWER('0x5bf00e5b856504e9bd78332e39e9b5b3765523c9'),LOWER('0x5c00c07bb2411998962b0fd2e6a0a66235d36b24'),LOWER('0x5c1389dea2c418c1c0c10ef210851942a1d67fc4'),LOWER('0x5c14176fbeee460eef094f98af0e31032a8a8d0f'),LOWER('0x5c2b50161378a460b246a71e9de1be20cb1491b9'),LOWER('0x5c3081365a4016b6579c24d0a7b412a4e206c5d6'),LOWER('0x5c506b87a8ffcc06ead5cb48f4695ab8a47b180e'),LOWER('0x5c51844a3e332f26f61c4abad5b367d12823ed94'),LOWER('0x5c66d175a0f976172e20e355fcad6715eaa36f28'),LOWER('0x5c963e9d2b10a33e8b4123281f82228052db68bb'),LOWER('0x5caf573a688f21bb7a73a5f1cbeac1dfd6b505ca'),LOWER('0x5cbf41337a2a077ac04e2bb398a8f801f7ea2aaa'),LOWER('0x5cc6e140f5310087e35d7632dcbaf03995b92e55'),LOWER('0x5ccd3d48e4fd0f2f0fd717b7c7f1f721cdfc3802'),LOWER('0x5d01da206c3254a2b38b7bba81c4585f3c07ceed'),LOWER('0x5d0208796bdcb2efabb0acd80b0008becce1d7d5'),LOWER('0x5d0474e942db8e94ba6d0a99af8a07584196ccf0'),LOWER('0x5d133f9ef48c8f3c6ea091c6c8dd0e70904e7422'),LOWER('0x5d2ed300f0a731ccb4d6a65998c6bed9ae20e03d'),LOWER('0x5d4d06125052a7835ffefc27b9fe9a901a931ea2'),LOWER('0x5d4f320ce7cdc29d68843cafdb16140686a27320'),LOWER('0x5d6274c88e1461516dc3d28d1111dbca983fb1ac'),LOWER('0x5d807e7f124ec2103a59c5249187f772c0b8d6b2'),LOWER('0x5db6f2b3d2a2534a801d9e21c48dbf9910e80571'),LOWER('0x5dbb5df5b2579250429a43d261a8a729bf496c61'),LOWER('0x5ddafd0617922937efcb12d84699df51f4cf707a'),LOWER('0x5df1b58ca9fa06e3b43a14d58e4989c890cb40e1'),LOWER('0x5df67fec392182b1903d453bc910b5fc6e4ac51d'),LOWER('0x5e002bb3909ff0f7ee1a80620cf4ef9b8bd80066'),LOWER('0x5e003c920a16b02771092c8b1e2b123690308b85'),LOWER('0x5e032243d507c743b061ef021e2ec7fcc6d3ab89'),LOWER('0x5e070d6fe8f2d5afb324b9d4faf5770d53ba9329'),LOWER('0x5e31d083eccb05cc2123e6d4997ea602f04927a0'),LOWER('0x5e43e7bc211bd38e71e1236a575081799810d8ed'),LOWER('0x5e57d5fe1082b4bcc0b386fd2a10b22bebf7ad6e'),LOWER('0x5e83e5fdaf5d043c18de649185eea8e32f2c885f'),LOWER('0x5e8c16c96ffa9217a251f6cd22ac942770b91e08'),LOWER('0x5e994c2ccf7f248f41b90969bf87e82ae769ae23'),LOWER('0x5e9f14b4ee57c135b2c1e72171bf28c2aac4591c'),LOWER('0x5ea55673f0f56356e6270349aa3d503bb1999030'),LOWER('0x5ebae16be177ce5b9fb061039788e1e50845a0af'),LOWER('0x5ee09a37ffd619c01a3487681fb152a618dd8c93'),LOWER('0x5f0eb11a1232a771fcb91f7f796a5ee4cb217217'),LOWER('0x5f27fa28ba1f6ada9396d8317610991c2a0367f1'),LOWER('0x5f3048407dba63a4644bba6ac8a8c1b73d01f468'),LOWER('0x5f399aaf88796f51207aaae3f4c4ec9546c95517'),LOWER('0x5f46087481a1a53eb6b5a91df1476ab4ecb47331'),LOWER('0x5f551466fca17f858a4d43dbaf4611017c98fa23'),LOWER('0x5f55a665bb6c96dc902930f69b5162e3a0338303'),LOWER('0x5f62802f8b8d3d0a84994c877d634eeb12a26370'),LOWER('0x5f791fd1f4ec3617a5c80f76fe39409a27aea8c5'),LOWER('0x5f7bcb371119df0724335031b21fa901296871be'),LOWER('0x5f93b18f8cc753be9face8b35278b60e6a29f377'),LOWER('0x5fa632681d0bc502734096111422586d20692ef3'),LOWER('0x5fe20d61eba1a36238c2d1b52ec9627366fbb369'),LOWER('0x5fe5d038befd47e48c00ab6effaf11eae8e7d817'),LOWER('0x5ff1ddc7dc9299730960b4337affd764ad665b7e'),LOWER('0x5ffbd158745d3c9cb66638bc00242095ed1ac228'),LOWER('0x60006457983cafea566a1a6351e75302c0fc9c24'),LOWER('0x60076e0eb4d855afd343187cce1868b8aa275492'),LOWER('0x60206c1f2b51ac470cb0f71323474f7f9e4772e1'),LOWER('0x6020730498b1be5ddd38b1149f62b919cd10cfd4'),LOWER('0x603c54e34e034409eff91f708028ddfbea664d64'),LOWER('0x608739531c63001f391997a55c652503857c0f0f'),LOWER('0x60876c8f53d217a49a0468a32e769f2a2756038c'),LOWER('0x608f05d5415a751643ad97c7aea70debdf4aa280'),LOWER('0x609295bdb9c2f27e924e95b4b02e37072fbb4f23'),LOWER('0x60a4eba366edd5f6ec1b63ebb3edf39eb6a767f7'),LOWER('0x60b38ea871bf10f27f2f768ff8a2da18d077ca35'),LOWER('0x60c93b4c4683f34b7ad877624fa717715ae7dd26'),LOWER('0x60e265ac56cc5a06174414d21d411458b0bd2a22'),LOWER('0x60ee4c3562fbe93fa16cc5f44809b4782675df9a'),LOWER('0x60f0ee9589273613e004fc57b974fa8b15bff97e'),LOWER('0x60f9e80d0d40b2958ac39006635de782096866c3'),LOWER('0x61038d3c5442fc6eef5bd6e20397d6546a04a698'),LOWER('0x61168d47ec95bff7bd2ff9efa5fe5c1e435841a9'),LOWER('0x611f8c1fd88957204fba39042ae9787061ac9ab0'),LOWER('0x612a2fb19aed178461d7d461e3fb4ee11e1f78d9'),LOWER('0x614e128ffd85d2931a3f539e5b3786761540dad3'),LOWER('0x61709f96c5701cbeb398a11162fe70f7b9dd92a8'),LOWER('0x6175844664837e4e5c678f83384d135873b095a5'),LOWER('0x61797662af0280d3090a53d69da71ec9dc9626d9'),LOWER('0x617ae2a40f561bdc722512390f471f4f4c8ae600'),LOWER('0x618ffd1cdabee36ce5992a857cc7463f21272bd7'),LOWER('0x61b052e2d7441fe5f6e0c177949264e7b65fcf43'),LOWER('0x61beabb01bf270fa63d5735fa725d18d742bd33e'),LOWER('0x61c4458dd2ee33c92d8ce895c1a50c27d1b63215'),LOWER('0x61d804cc6bbcfa8960469a3b861522eb7e3a8030'),LOWER('0x61e9128af97ce396f82f76c93e0d79298c4b2b43'),LOWER('0x61ebb2f085412c0358fb3158558a90bd4a2587f4'),LOWER('0x61f73ddb0755dcd8938dde4a81138562b3a43f9e'),LOWER('0x6206458e9a53f39c8abd37b494b1db793b2117d4'),LOWER('0x620a3e5cddd2748e111a11810757f419d10b1aac'),LOWER('0x621091d1c013e57a37767521bd87208d497b09b6'),LOWER('0x621bd75c7b7aa2c0a4e603e5363f831e6103606e'),LOWER('0x621e5a7859008deed8165666d8a19102a5d6d82b'),LOWER('0x6228e4dcbca5cb570704c1bd3eb813f2b4f9f756'),LOWER('0x624ec75d19e4484595aee0b31e195a094953924c'),LOWER('0x6254b927ecc25ddd233aaecd5296d746b1c006b4'),LOWER('0x6277fd594e3f841f162c3b9a214bd6a4a5b624f8'),LOWER('0x627a660a17b498b1549b35f73358858d25c35986'),LOWER('0x6292daf6f0ae7fbcb8419224ca676ae79a33ccc5'),LOWER('0x62943e8f32316e9fabe65fa014e175209f27bcd3'),LOWER('0x629596bb537b6f3d51b11271663c1d5d487a2173'),LOWER('0x62ae5d42272ad58add921f2758868143daab9616'),LOWER('0x62b4016a1e97ca9d4c77f6a611fa29e0c421b1ef'),LOWER('0x62b7bc5a3ddbf6905d355b5f789c16de458ee2e7'),LOWER('0x62b957e43d7c1a2ae6bdc627bb7f2ee0f47753f8'),LOWER('0x62ba06cab174291c90ed5d3ca6d633b92cfd6d55'),LOWER('0x62c74081683af8840d97c6d0d05e5747564bcf28'),LOWER('0x62d2d9ed20805fff4cb795a3a63675be6c04aaa4'),LOWER('0x62d8529be56572a85c01061afbbc62027dda7e90'),LOWER('0x62daa6da1f8ed6bb6cbe489e6d9e7d677f061844'),LOWER('0x62e1a274cdfbbbba76ddb22202630745cf99c424'),LOWER('0x62eb322def993df0ed0a0dc5fd65fa6ed5d0cfe3'),LOWER('0x62f911adfa2395cf21e92632c3d7e1b7b7de1e6c'),LOWER('0x6305cb5bfaf024a071190f9675ea54421963ce31'),LOWER('0x63549e4e222995370bbde87b027792bbb7e9b218'),LOWER('0x635843570366277bf734a46aa77dd29dd98cf425'),LOWER('0x636958c636886b728ab9e190a8a77397b97fefc3'),LOWER('0x636b47b66a916fd003cff142abdc0ed941e0b437'),LOWER('0x636d5c7d01835220f2634338a8da76ba5032b643'),LOWER('0x63798de1a0e801de233034d57cb9b033f7606d2d'),LOWER('0x637e7afcfa7f027bc1fc499bb53b845ecd78d726'),LOWER('0x6389297f9bc94d1c632adb749dc1dbbcc95b652a'),LOWER('0x639ca1fa0deb0b1d7c2b2c282756f4dea2f39e8c'),LOWER('0x63a5f26274c1f2f50f7dcc9d824beab65deeaaf2'),LOWER('0x63c4222a3e8cd2cdce3cc0ec2db20bfcd8451985'),LOWER('0x63c99b67159043bd3271560bb4a788b8e9cd5180'),LOWER('0x63ed54cc6778c9b0d7c8ae12d89df755b67adbaf'),LOWER('0x63f076f4d35fd958ce45b29cfff7e77fb5783bf5'),LOWER('0x63fb7212a2270256ec4522f5b38ea8057eaf870b'),LOWER('0x6413645079d3397b2dd6263a6b494044e623f97c'),LOWER('0x642774a5b379a710a4bc2a6207727529bf8442d1'),LOWER('0x645d1dea6cd0470678d39c5b7799e6e19c3bb95f'),LOWER('0x64606650c04bde33fab32ad33833dde37b47360b'),LOWER('0x646ce51d64f99cdb4f10e8d77817c1d7aef10b52'),LOWER('0x648444c5959bd266b4f2d41db1ac60736b7211e7'),LOWER('0x64986e67ef13776ac665142cfb10f049f93443a6'),LOWER('0x649b16bb9d3dffef9a53761d8999692ee00203d2'),LOWER('0x649e92d73c0696b19ca963b363c9c1ff9f035d9a'),LOWER('0x64b794b34a747fcde3b82616ee65a8dc11bbd9a6'),LOWER('0x64c857783920386b4a3268e9c851a1b0923f3e70'),LOWER('0x64d6dbc7f7d9b42ae0e00425724348409261cab0'),LOWER('0x64e9c292bc3400d13b23bb8b3d468032577bdc86'),LOWER('0x6508b2e1230fd79422cbe437c11ea154c9efac0f'),LOWER('0x6538cf2b67399bc161797428c53d5ce460cb8b0e'),LOWER('0x6545c3f95c0fa51a0e4d9f7fc2f77dae133717e6'),LOWER('0x6549d0ab277e6f906939c469efc9dcd7a096c3b6'),LOWER('0x65570b90b7887a0ceb57f7604da311e84663a290'),LOWER('0x65653d83d9b643c72bae0ef9f6167aa8b44ca934'),LOWER('0x65668c14d987c1de6994fe8b2006fe74055d7236'),LOWER('0x65ab2af69d1d7c96b12e527584e5d457b57206b5'),LOWER('0x65b2b44c48af3900f8aea4b9c20078b1d3bade47'),LOWER('0x65d07c152cda11a44ff5442431d82d906e0cea06'),LOWER('0x65d25e3f2696b73b850daa07dd1e267dcfa67f2d'),LOWER('0x65d6b8f78bd2b01283a656b4110622ad8754f32d'),LOWER('0x65e2c5175e2e618f48e70343b14c31b280e42d90'),LOWER('0x6601ece318071cea07ed719c03933d19a9dac6b3'),LOWER('0x660294fd48f2380d0d81fa176e79c17a3a271124'),LOWER('0x66396b3c3d8446e364e805cb0e8c310dddff685e'),LOWER('0x6648d39dd323adc816cadcada011d2c497c5257b'),LOWER('0x6656c1fc1d79b522bba854035bf25d12d42fdae2'),LOWER('0x665b47047eed6b3fd67fbb4348e2d19956d7f81e'),LOWER('0x6679248d0f109d6aa8c075e963f0b7cb2e38a261'),LOWER('0x668d4a494192147f396f2e55dff1fed7c8ba595a'),LOWER('0x66b9bd3a9f0d44121533f88c94d4e35213222917'),LOWER('0x66d156b4531db623f7428263ede4523801b72e05'),LOWER('0x66dc49e239156a3361401253f0e297d748eeb892'),LOWER('0x66fbb1cd0a879388005ea9e17c2d951c11334a9c'),LOWER('0x6707dd1c472e2736458c08bc7a0e4fcdc614056b'),LOWER('0x672e3eaadc7533d25b50ee466ff46169a3afb416'),LOWER('0x673763bcd78c00e2d25641c857dc8f6311ec0f7d'),LOWER('0x6742b148d14519b8d27411222234adc6f82ba2c8'),LOWER('0x675c21d79f3a02cb188847b1f0f0383465131a18'),LOWER('0x679be1c1bb47d42e80c74ddc3e59108aaff7d31b'),LOWER('0x67c678734a6a9af996f61f232bb6bbb28bcab430'),LOWER('0x67dfb1d8c629ee716d661c7d46b2959961d330b9'),LOWER('0x67e16ec8e8049e03ac9981ff3cc5d8e6e6757253'),LOWER('0x67fd395e0cab3ce62dbb2b56f7b56aa0847a7b4d'),LOWER('0x681488f557c3ca72609bf9c147e49599e9b17e22'),LOWER('0x681a5414496a1975a68cdf13f0ee7055ee524b32'),LOWER('0x6825f391c99f81862b801c873d3625590c52ab42'),LOWER('0x682c56cda8388a01274d4b67aab580a9ddd8a0bb'),LOWER('0x683c615cde1449674b19feff1e2e1e05a5726b79'),LOWER('0x684016785227f26d1c0c30a09b0f07c0e07f27d5'),LOWER('0x6847412b3123cf8e598f0b0f4da83b84c15e183f'),LOWER('0x685799c817dc20c9f5973f774c66d56c9317ab81'),LOWER('0x6861846e08a1ac49d0a6cf9e3fffb551f991dfd5'),LOWER('0x686c9c3f0f351f52baa8513f57601d645437493d'),LOWER('0x687c20221d399f279215b82d53847db3e30af37a'),LOWER('0x68811cf0c345c8b439da80e32269670b62ab145b'),LOWER('0x689126e2698fe0eb10d3b7c63d79afbfc27c9351'),LOWER('0x689422d8217d37a550781f256d454bcaa46fd2b1'),LOWER('0x68b0a4acbc21ff52de19cf9cb5e830443b5943a8'),LOWER('0x68b22215ff74e3606bd5e6c1de8c2d68180c85f7'),LOWER('0x68b748020a82d2bbc52f94743ec55391c72a9e9c'),LOWER('0x68c882487920d8c114b9f80c4bbf882f60befc5b'),LOWER('0x68ceb3bf4a3bb28334075287fa5201ae272ac584'),LOWER('0x68dc94ad1414c4f4930e5a5a0de24018f5a8abe2'),LOWER('0x68eea6f4d7c4f1c510fab9d1d64b2f3c05d876b4'),LOWER('0x691e3cbb2a8f504fc650f21c9af6226051340559'),LOWER('0x692ae9168fab83d8cec6eec49e6a336ea8cca51b'),LOWER('0x692d89622c3e6f36dd898fc32c6568ea0ed00cee'),LOWER('0x692f00475278c40dbb317b2713e18d33e94385fd'),LOWER('0x694cb2e2cc875bef52f5d6bff01a0f60864bcd11'),LOWER('0x6963af2ca075ca796ee41f184f508871230395d5'),LOWER('0x699befef574d30ce697147a61c2b0d7617f18c2a'),LOWER('0x69a76ca575fa0b04e083fe3c3e7befcca3fcbfb9'),LOWER('0x69ba7215747bf88d027e5a4d82a1dcc77c4480f3'),LOWER('0x69bfc9f70a34419b7ee6dc2816ac74db89896104'),LOWER('0x69d8ade03a1d9d527e291bac9900e8aab929d703'),LOWER('0x69ea6b31ef305d6b99bb2d4c9d99456fa108b02a'),LOWER('0x69ee3e2d622c8371bf736f76412ee251a1cf6739'),LOWER('0x69ee7c888d7e62380b8627c9bef7d333ed12a0e7'),LOWER('0x69f92e6481c3449163d6066e1bf359f4cc1639e1'),LOWER('0x69fc1386ec226eb90a224f96c70b821538620457'),LOWER('0x6a0de8c62781dbc113ffed14ecd4f0e1456ffc0d'),LOWER('0x6a131159f7fd8da8991492d6f50630bfdf1adb78'),LOWER('0x6a15a3715edec64d2c998d12a1a7c45ef2008471'),LOWER('0x6a2695b158261813711696c9eeda4409a2f4008b'),LOWER('0x6a3486f11539764c5a2f98d66a3e197bfd6514c2'),LOWER('0x6a3ff8cab12483dd3a7e5f353a69c4aef8eca2d2'),LOWER('0x6a4406f5be648b406c0c20334e8a5de6b4999516'),LOWER('0x6a58ef80b8510b126c0a56124c514fad14f0b278'),LOWER('0x6a5a3ecd4452745f47de5cab307c3b4a51589f00'),LOWER('0x6a61cf609a1591ee875988c8fc23439695b3ac40'),LOWER('0x6a733aff02a0489b5cc4fc8c598df50913b6f73f'),LOWER('0x6a7a43be33ba930fe58f34e07d0ad6ba7adb9b1f'),LOWER('0x6a85e04b911bfc861cb7e9a65f43d082eaf54e47'),LOWER('0x6a8d2a9c4f7afce18d0d6cfe7ff2049c0b054762'),LOWER('0x6a93a30821f258c8a2ec0ba07a57c97bb7198aa1'),LOWER('0x6a98ff32b16c9d4df19d5504f1c5c448cd2dfe4c'),LOWER('0x6aa6e5504ff2e56d3705bdc0c5e02c7ee8baaaa8'),LOWER('0x6aaf1664c91996211a21c9c29b92a45eaa8840a2'),LOWER('0x6abdadedb622ec081c85b89273a900e87f713474'),LOWER('0x6adb29e85af0a4a614a65fdd81b7ee78b4c3ffa9'),LOWER('0x6af5be7d013766f201bbd9377287b303488fc691'),LOWER('0x6aff876883eb5a395a42d3d94b23f31fe6017bfd'),LOWER('0x6b11ae9497c193987d4a1c08148c28656f0effa1'),LOWER('0x6b459b660b113ba9f3f875932a83f04fdd9c7ab9'),LOWER('0x6b71dcaa3fb9a4901491b748074a314dad9e980b'),LOWER('0x6b94614692ae1ff7313350432c4a50805c38e414'),LOWER('0x6b98d7a4a3107b70e03e0b8d8b42a9ad2dfc3761'),LOWER('0x6b9e867a1d03f2f3d44b85608c1399bb8be49c8a'),LOWER('0x6ba495e6bcefbcaa7594e6fde2d1b005e363d1e0'),LOWER('0x6ba946780ce46b24e670c048c502f4b8343454d7'),LOWER('0x6bbc953c43d60af6994a53267eda3282042814b2'),LOWER('0x6bc23c3d072cb7f46031d6561782c3c613d1da60'),LOWER('0x6bddbd1d6bbe36aff9a1dff1e4067148425a76d9'),LOWER('0x6be569c4871a884d0f9694d0e43a660120ef95f6'),LOWER('0x6bea6ba27781f84a12c17afde65a6836fcb7c411'),LOWER('0x6bfb5845e869ec2d222bdf89b94c8e79ed5984e1'),LOWER('0x6c0d8d99a0982b70ca942a07d53700eef2ca4734'),LOWER('0x6c0e37588d4889576ec641eb16a1314796c6813e'),LOWER('0x6c16d2ba2464fa8026f26c0d5085f163279fb8ce'),LOWER('0x6c39434faf4f22ecc33a484fc2fbe3dc4800e9e6'),LOWER('0x6c4860d3e3460c6572b10769d0e31d07081eb2aa'),LOWER('0x6c51a5ef1b6736b63c965b3057ae5c5b50de76d3'),LOWER('0x6c56f60e9943b2639a4f47d71e79ca51db7da9d9'),LOWER('0x6c5707a8ee5140833f2c42abf21e55889561b100'),LOWER('0x6c9d7f78aa99eab91603c2451ca65db5f07a8693'),LOWER('0x6cc5f688a315f3dc28a7781717a9a798a59fda7b'),LOWER('0x6cd04f91f6c59048b06d92edc72685b622717427'),LOWER('0x6cd1ab7293ede6ebf051f73cc2ded64f2205a35c'),LOWER('0x6cdc63ae36419a7170121098da5535c80771f8fd'),LOWER('0x6cf233cb7a0a1878ef2d315f77e6c8b925f12cec'),LOWER('0x6d0a4867fc34d35428e3e09e69113a3cc592e110'),LOWER('0x6d0cf7555ecd042cf4d32a9658fe07ae8ed090f2'),LOWER('0x6d0e2c66217a762bf9142b8e66f1dd2d2b071c65'),LOWER('0x6d20f41c178fd576811ed28effc260668df8e729'),LOWER('0x6d21a69fd6b839f47eee4a3bf77481ade47e200d'),LOWER('0x6d2ad429c0fd5a2f236e0b5e221638d215389ec0'),LOWER('0x6d3bc28d8a6e1746a5b5e5e11812ad5aa675080b'),LOWER('0x6d430ba4cf1970b8a258ec38a7fe4ba4713d149a'),LOWER('0x6d8abef4b24f2ed00d2fe799fd9844b2b8e28cb1'),LOWER('0x6dcd96c4c1e8b98c99db39d8c0b351a134631d01'),LOWER('0x6de554b5f8c5020f458969bc73ba2383c3894654'),LOWER('0x6dece1898d00d7e9857414b1a658558dcc4e4503'),LOWER('0x6dfc34609a05bc22319fa4cce1d1e2929548c0d7'),LOWER('0x6e0b6ff7536100a9e6b7041ca5a98108935932e5'),LOWER('0x6e0bcc8ea3e5d07c855c57c952e5a2c644e4827f'),LOWER('0x6e0fc44cce1b49323185138217649b5e8996a159'),LOWER('0x6e0fd226e8821c2d8f0674894a7a9d62fc4ada52'),LOWER('0x6e38179c841678d9d3081d510f78e475aed758e7'),LOWER('0x6e42658cb4db91360a355d0ff6cc35f090be786d'),LOWER('0x6e496a605b93d1332b3e07cb1535365ebc50bbd3'),LOWER('0x6e4fa6d5608bb69dd6b71364f80623d01fefbc02'),LOWER('0x6e61d08397b9d4d9f67006867de67af0c4cbe1b4'),LOWER('0x6e76837241039073a42d5362edaeb75fbb44b98b'),LOWER('0x6e93450e1f59ea7e4f61d60cbf589121305996fe'),LOWER('0x6ea408298e83d7694ba459657371799f990459e8'),LOWER('0x6ead8cd1850261647652d1a903bf0e478277637a'),LOWER('0x6eb02935bed717756b77f8e30fe87bfb77c6a264'),LOWER('0x6eccff15f24741c54bf3b909b2d878185e991ef7'),LOWER('0x6eee349de2595e76ae797c7ad262550ae7898121'),LOWER('0x6eff3372fa352b239bb24ff91b423a572347000d'),LOWER('0x6f1ee6f0da3e97ac9d78bc8d1393645618ba2b0a'),LOWER('0x6f3932de1b14747db87d8f6f5c5c344cce46a224'),LOWER('0x6f4be2032cef82b79e7b928243938f6a858e48be'),LOWER('0x6f50c6bff08ec925232937b204b0ae23c488402a'),LOWER('0x6f6b9a91a78c2e23ea086e45a53111ffa61195ad'),LOWER('0x6f70b35c864c7113f0b954c857005b156a52692a'),LOWER('0x6f765cb0b942503ac63617be7f11b1fe704b7ec9'),LOWER('0x6f963c1b336eb0b85977de1173a4c549e57763f4'),LOWER('0x6f99d20127dbe42d7cdadb5c5403ecc03e095cb6'),LOWER('0x6fa3659a15e9264e43ec67fe4bb5d31d38109a42'),LOWER('0x6fa58b9c91b772e1b0a91d8d3662519ce35e5045'),LOWER('0x6fa6a7f3c4b6f3a1b3f6078bff1359f415b251b1'),LOWER('0x6fb8479a3bbb7a4ed8395af47916d9a51b7ba038'),LOWER('0x6fd27902d89f702d37ead1b63181304cd473fefd'),LOWER('0x6fe187c2a1dabd17fffaef026a9eb8d7916e72c0'),LOWER('0x6fe5ae8096ae18a564f22baa6a68b83006ffb3f1'),LOWER('0x6fefa8915c68384da910b02435a1df33b07b5ba7'),LOWER('0x6fefc137f30be3bad785d258875e67b264b27a7d'),LOWER('0x6fff7165cf311714e47df96588d9419ca4a703d7'),LOWER('0x700e9e10c39a72cc2b73fef724e6d51bef7206d8'),LOWER('0x7025bc8e05c659e714bda47aaf7fc10c5545cf40'),LOWER('0x7045c497007a14ef561ca3014d25b1e8701ad487'),LOWER('0x706631b0508500f91f36e99962c48a6633a2750d'),LOWER('0x7071f121c038a98f8a7d485648a27fcd48891ba8'),LOWER('0x707cd0b3d68a1cedda15854d365a80e00c6632d6'),LOWER('0x708396f17127c42383e3b9014072679b2f60b82f'),LOWER('0x7086ee078ff457f5f2c59cd140e79b2ebbc0e89c'),LOWER('0x70b6ad7137c82af953b9dd870f327a2851561d7a'),LOWER('0x70da565928419c5380c89017e5a8f5177fb4aef1'),LOWER('0x70db059a178b8ac0581e073f25df7e81c4f47df5'),LOWER('0x70edd3555a470edee34f9275a5961e8e0e8cb9b9'),LOWER('0x70ee94eebf253b4d92905c5d49ff090908b710b2'),LOWER('0x70faa28a6b8d6829a4b1e649d26ec9a2a39ba413'),LOWER('0x71007a01f10889aa98c5c5ccffac8476b9123196'),LOWER('0x7110694ea37d87eea42b4df5c881d9106d3a80eb'),LOWER('0x7112015b5591290d6a7c3f36c574167c63030711'),LOWER('0x71207f5d63f0032064e8e8dab02ee02d398a6c97'),LOWER('0x71213a9c9504e406d3242436a4bf69c6bfe74461'),LOWER('0x7136b913199ecac0a8a6f28cfa227c7608fc9666'),LOWER('0x71403aeb6141c59fccd5a3e02e3fe48ae93b1b56'),LOWER('0x7142303e564c0a0c466b51495f12d10c2dbc8b99'),LOWER('0x71460b77cf7eefa7d3ec4759630344804597953d'),LOWER('0x714d779525a36625d2f91657ee6bd43aad5e1831'),LOWER('0x71535aae1b6c0c51db317b54d5eee72d1ab843c1'),LOWER('0x71543f381d8fb936f210f8de1bbc74d5f7c1ced4'),LOWER('0x71660c4005ba85c37ccec55d0c4493e66fe775d3'),LOWER('0x7175b04e1298d621c3d3e2428f502d89164677a0'),LOWER('0x7182b123ad5f6619b66533a85b6f180462aed05e'),LOWER('0x71aa6c4e87225fcae2df49f977c7fc0d1e8d2112'),LOWER('0x71ac74028ad23413b9e2b9edaa4a2a7c9e7099a8'),LOWER('0x71ad36fb9d83912dac14955d870f118fa704df92'),LOWER('0x71b1009033ff60b23068dbc52c6295f9753d2382'),LOWER('0x71c693621600d27c5e86d66eed4575c14ee3e6dc'),LOWER('0x71ece163e6a87a7750e4240254657cbddfc420fc'),LOWER('0x72082eed2197d5c47eda6227ccafaca1085c21b5'),LOWER('0x721d6decba0fa5fbb9830704fb4d7ed1fba6e29e'),LOWER('0x724ddc3abca3ba0a00784619b3b057f4bf6dc712'),LOWER('0x7253fec458230253b3acce6a47cba1f37fc1b8cd'),LOWER('0x7254bc7e828a780feb3691cd37762bf922e25de8'),LOWER('0x7257b76281c2e2b4b04a6e2ab867928535c32041'),LOWER('0x7268f9cfb44ace6d905855d235c0c6e4039dbc6c'),LOWER('0x72721d3f3554519b6ac6aa676b3905964caccd86'),LOWER('0x72751a5eac114f32a837bf93ed62b7b24a76c8c7'),LOWER('0x72896d7e07a848e3c6deb1de2b340e4977f81d59'),LOWER('0x7290ac43c0f50e18b7059f11dd1973028d9b67d6'),LOWER('0x7293c005e331f1f4506c2b8400bd02922a98be54'),LOWER('0x7296087bf6e786cc20163c965cf813ea91a47520'),LOWER('0x72a9aa685c0f322be535cd12b00b1fa325c8a224'),LOWER('0x72aba4770ec46634395efccd4beca6f4ac578549'),LOWER('0x72afe1f9a4bde54ba725331263759b4c3c09d9e0'),LOWER('0x72bb00d97124d1dd69c4257039d09de9a5f6a540'),LOWER('0x72c30eca62cbbb7cc80201333da70b1ad84ad70a'),LOWER('0x72d2e68a41d234c38d71f5d47395d8f170b2ee36'),LOWER('0x72d6960aae3c90e2de304f6fb89263a7fcca14bb'),LOWER('0x72e5263ff33d2494692d7f94a758aa9f82062f73'),LOWER('0x7313627007814c6130ce372759c66ba16d7c55f8'),LOWER('0x73236eea6bec2c48e8359d2f7bcfe07723bafef2'),LOWER('0x732573322f3f6c8fa94e7b24cb78565f234af5ee'),LOWER('0x73333de9b96a7363fa6f22f987ecf02e85984c95'),LOWER('0x73359873c377ca981cee66241f73c66997778190'),LOWER('0x73579341011738a4ad9cfce427954f3dc5d49dbe'),LOWER('0x7368ceb1dcd01bc386ff0f162d6dd0ff08c01549'),LOWER('0x737023d996d787d58d02fe74a7ab7df7e5571998'),LOWER('0x73760b2555acfb70240553bedd65c279258e55ee'),LOWER('0x737b309c02c387bd9fe8df0978895d9c38974874'),LOWER('0x7381bc16238cf3a7f7c7324d4ab7ad6c4cc5feb6'),LOWER('0x738626e82bfee4c77f26fa71dd1468616e70781d'),LOWER('0x73921de6fade82d0109ed72132a2fbc8948b21ab'),LOWER('0x73957709695e73fd175582105c44743cf0fb6f2f'),LOWER('0x73abbff9bf0f08e93fd54790ed704b49118c47c2'),LOWER('0x73ba17e53e51761cc110a60d32913a90c37445a6'),LOWER('0x73c7eac9e322adc945a35da3649e221cb4c9e27d'),LOWER('0x73c824d62e85aeeb3196486fd2d17547de7adf0c'),LOWER('0x73d77f1e421a864b891e0e2093a697bf7ea778e5'),LOWER('0x73dfa1d37d0c613f489039208bd6aab007ea82ba'),LOWER('0x73ee414948f91fdf513c47cb0825c405968dfa87'),LOWER('0x73eeb8b4d3a30ccdedfe0cf20273960a7fb6eeb5'),LOWER('0x73f432da307525b6590c858bf458116322d50d16'),LOWER('0x73f8fc2e74302eb2efda125a326655acf0dc2d1b'),LOWER('0x73ff4ef421ff46c10df3f1f722de5da8ba3be076'),LOWER('0x7407af4d0599d50aca6c9d32e84913feee811893'),LOWER('0x7417f15240f9ec975344c53f0f3527edda9cda85'),LOWER('0x7424f053ed1ed84b175a649a4683ed2173e45d4d'),LOWER('0x742a125bceb1545eed69a589d8676159e5a69440'),LOWER('0x74360ad2e757f3cd7a425dc411db556f213b3b4a'),LOWER('0x74422a6a34e9998f12fd4420c8ab99b010b7c9a3'),LOWER('0x7443a9b23f89206651993aa26b417cb12a032aa3'),LOWER('0x745db6b7c054aff58dace2def8e8768c7c2150d1'),LOWER('0x74623c7aa2714a37e6dd4160b250e64d312f4f94'),LOWER('0x7463c43ca777901833b9a2ea0f3b68134b547450'),LOWER('0x74b8fc153bedbe6c31b24e7645897bf6a3cfc075'),LOWER('0x74cb7e3a33e76bc1fd2b33a024c4f68424772dd0'),LOWER('0x74dec05e5b894b0efec69cdf6316971802a2f9a1'),LOWER('0x74f22e276979c603ca3038b074bc9bd55c7fac15'),LOWER('0x74fe2b73647252c9c997424edeaf631e3f7f2df7'),LOWER('0x750ea62440bbd78319793acd7add7b912f439787'),LOWER('0x75405ae639ac565720b1b3075d5c7cd5abcb9c06'),LOWER('0x75507befbabad8462b06440df239394bd586db4b'),LOWER('0x7554a83669eb6394724356c7096ecf278a0e07bb'),LOWER('0x7568aed2c1bd63843a8eafbdff82eff4e8251d06'),LOWER('0x756a908c41236a11fff788e3917e98f564818000'),LOWER('0x757cec361de3b2c9d229d2c8ca4c0892a84e2c7f'),LOWER('0x758a47b827fe5c83b9672a0b298fda579fe2923b'),LOWER('0x7590b085b543afd2e99c1b515a330ea8f9403e65'),LOWER('0x75c9e78b78f08278c698218b54b803ac899c9a3b'),LOWER('0x75d43cd7f98a01bc6d9c9fa00e273a5f31a8f564'),LOWER('0x75db933f690903730724498e1767bd7bbbf5a45c'),LOWER('0x75e483cca6dfe6f565f8fa3c906d5629d020da7e'),LOWER('0x75e7a04dfa2cb9cf240a5489a9a4fce8f56ea093'),LOWER('0x75e7f640bf6968b6f32c47a3cd82c3c2c9dcae68'),LOWER('0x75e89d5979e4f6fba9f97c104c2f0afb3f1dcb88'),LOWER('0x7606574cf58e656bb178043e57abe131d545c2c9'),LOWER('0x7625831aa1821390712f637bf8471a484ffc5319'),LOWER('0x7627a243085acc10647f0e8f909f069dc4a288c6'),LOWER('0x7643bdfaab3441b94b82e886edd4d7db3a53c686'),LOWER('0x76554fc281119d36300649cd6d3eceb8e4767ed5'),LOWER('0x767f0b01f6d4d5fcc64367a3a6bee16ffd3d8f41'),LOWER('0x768314e85f850ec4047e0fc0b139b8c6358078b9'),LOWER('0x76a275ec8fee8ca0c0ab40c80adc287b58a67326'),LOWER('0x76be36a2c80dd0f41dd15f68d296e20f16bab703'),LOWER('0x76bfc7f1815c657bb5e12d84c126ca2a0df31c60'),LOWER('0x76cb80202b2c31e9d7f595a31fd071ce7f75bb93'),LOWER('0x76d46eeb21a7999883246c1ac162a4ea1447e7aa'),LOWER('0x76e3ac86ceacd394bb955575e792cc7de9c7cdf5'),LOWER('0x771388495f34d21c5574fefc04cd1d5811e00ada'),LOWER('0x77259366ba576cb32c3ccaa211192d276352e3ad'),LOWER('0x7732dc4f380fdfe7041d799a605473578a5de58b'),LOWER('0x77494a88212aa2b45be9bcc0b997f0b6a9e54959'),LOWER('0x77515fc286db181dd8744e10252ed9836058e854'),LOWER('0x775a14d72cb8fa944407813de47f570ef8b57819'),LOWER('0x778a3ad2ab6e93ce1fef97755c99275d43cd938a'),LOWER('0x77ab999d1e9f152156b4411e1f3e2a42dab8cd6d'),LOWER('0x77bca24db55ab79cfabdcb39e3e7012a772dd691'),LOWER('0x77cb33b341299b89c351fc03bebcdc50d377fdcf'),LOWER('0x77e7b6f28c0eab1c1a2b0272a1089504e9ea748e'),LOWER('0x77edfe368b3dfe9e1c8f24fd4dfe02df6df9bed9'),LOWER('0x78197c6c8667e05c00f6c60ca6f9f8f2b6acdcbc'),LOWER('0x781ab7eda428f51292570fe67d3138d4793918ee'),LOWER('0x783480d4530a99ff4d7f6b683cb857b8d3cef16a'),LOWER('0x783ca1b8f11d806b4c703359d425d9886fdcc8da'),LOWER('0x784e27c12b4bdece260e91fc329a6b168edd1e83'),LOWER('0x7851a83262db7907bd96d025d25382f6e885b81b'),LOWER('0x7854163b1b0d24e77dca702b97b5cc33e0f83dcb'),LOWER('0x78674b8188a803bae7fbc43509d89428af59cff5'),LOWER('0x787513072f5ed215e14f488325a27185ca0bbec9'),LOWER('0x78791f04a4c51f1db6311f2f1fc0c2fad81bbb21'),LOWER('0x78807772c224802fa944be9fb07ba6aeb2c83bee'),LOWER('0x789e409348174002733c201b94db1c86ac64977e'),LOWER('0x789ea3e63a0a70a151fc75e10ecb60d1fbbc2b9d'),LOWER('0x78a28be6c950798fb68cdf3b7e2a8b80b396f1bf'),LOWER('0x78f7a8f188f54f2266cae6dc885636e8d5efc63c'),LOWER('0x790062e54e6102a84595457a4649c5239fe2e5b6'),LOWER('0x7911fa8d5bfce62ef68b714d5b51a65a5732b101'),LOWER('0x791ffb02a34dd626bbfd9aa20e0907f14a4fad08'),LOWER('0x7920e0e048f19470a379ab560ad8805656aba794'),LOWER('0x792271fc981ca776937db410f9453c1aada18a62'),LOWER('0x7927f89670f942169476b006966dd6eccdc7425c'),LOWER('0x792c8e0d5dad6008b0afb1c5a4565b160a965485'),LOWER('0x793ab235b15e84afe22b88a18b10e04027695d52'),LOWER('0x79428a98754f062167c06f34c1fde542f10185fe'),LOWER('0x794d28ac31bcb136294761a556b68d2634094153'),LOWER('0x7953bb636ab4fd9d29e18f285ea5c84e604495df'),LOWER('0x7960d920fe7342aca70778a58ccadda6018f28e2'),LOWER('0x79658000d8de69399689cd278082dc08b71ac1ec'),LOWER('0x7968891255ccf86d5c3f5cd1ee0159d5151b1ad1'),LOWER('0x796fd1b1a79915b801606a909db3ed025322ef64'),LOWER('0x79938b781dee387638700a5a5fb0e9278304fa5d'),LOWER('0x7994f48b9c10cfd66b730556040e3cc32aa092a8'),LOWER('0x799dbd3d68bd7a85279e48c20318cc5857d6e12b'),LOWER('0x79b6c947559cf9865517d78a456ba0ad0350084c'),LOWER('0x79bdda65c706cbda69c0ad4c8da1d3e91724f48d'),LOWER('0x79be65467d320aa481b5d6c482a028a15e5dcf43'),LOWER('0x79ccf393b58160709cc39eb711bb4a5c6ed0dd4d'),LOWER('0x79d19ddcb201f5cad5992a1deb6a5aa11f06d47c'),LOWER('0x79ea566f725e6b3cee56bd592de9c13f16dc3509'),LOWER('0x79f1688ba25575eb8e18042d1446f73e6eac1c2a'),LOWER('0x79f6bbeb39af43fd2172a91a078104dae416fb43'),LOWER('0x7a116fd818eea726ec6a7adb0f8bceb36be4779b'),LOWER('0x7a25088c05c99cb9594ddb779c3cf8c7d0120d49'),LOWER('0x7a282f06654514bd34a1bb01efcd94dfd71ae5ca'),LOWER('0x7a343cce0fbe8d33e25cd8765950cb5c67c93f36'),LOWER('0x7a38b009f9e176f07978c2e75bab2a5b657ca37a'),LOWER('0x7a3bbeb580072c3f290442936fc9be95cf54aa35'),LOWER('0x7a5234fc6350b67c379144dbe6f16304f61fc9bb'),LOWER('0x7a56f645dcb513d0326cbaa048e9106ff6d4cd5f'),LOWER('0x7a8f8dd8773d373a3ca8a1f423643bc634a25003'),LOWER('0x7ab6609230a1f69336244d796b436a6a79a0b164'),LOWER('0x7ac5d00bd439ef270d68063d3cc1409664c953fe'),LOWER('0x7ae17a0f6f8f02b5b6e76b327db15f91306194e6'),LOWER('0x7afa650476793b11ac66c32a6c0f8b07c30621ce'),LOWER('0x7b29520e790288835da7c85e4db6e4e870710d83'),LOWER('0x7b2ce60a463f31b7aa4b842ddaf5eb8727ab656b'),LOWER('0x7b38fb7743e0435451de32db78aae283d4f53e46'),LOWER('0x7b446abebf04c9145abc576e0c3f1fd6c3ac5e82'),LOWER('0x7b61f86f865c2939e59386a9eabdcee80061eaca'),LOWER('0x7b7709b1c8de9d15c7b6fdb7a512746f244b5722'),LOWER('0x7b88a585d8e3a182d28d020b658aecb8696c5572'),LOWER('0x7b8a8f1397571df9aefaa580e014c3f2c4d0c91b'),LOWER('0x7b940fc6312624b31a013f869ef2e64c95b2a2fa'),LOWER('0x7b9ab899d1f69ab6eeb85195abcd6205c8511cf2'),LOWER('0x7bb07c2dc3ee7f0a5bbbed86a7106ea10fef9c6c'),LOWER('0x7bc08e9858bb64ca306405abacbe2eeebe7c29c7'),LOWER('0x7bda9dd54d7bed6b30470ba75de7c4cf42e6e84e'),LOWER('0x7c195d981abfdc3ddecd2ca0fed0958430488e34'),LOWER('0x7c260cc3033d69a03e37bf5fb24cc79539607b0f'),LOWER('0x7c2865db95c655b9582ad845ddbad7f50d919de9'),LOWER('0x7c424d4b753185c6e91e0cdd5fd98076198c51b2'),LOWER('0x7c56e8028af0616c98970a8358a711e547a1151a'),LOWER('0x7c68c9f5d6e99ebee217363517209b47b6c08fd3'),LOWER('0x7c7be61c9e3ef2fb6999acaf1d01acdee2901051'),LOWER('0x7c7ff6d5728568d7bcdd3854769799598843e191'),LOWER('0x7c9adf9df26b9625743ddb4d91b0376b8a09d510'),LOWER('0x7ccd7187168fa2ebfdae9854bdcd452676829cd9'),LOWER('0x7cdd33ec534fd8f270c002ef9db3b34f7e4ccaf3'),LOWER('0x7cff9fd3bb3197945022c95e3d8078c6fe3864c9'),LOWER('0x7d08fad82348e0fd10e21ae99d1e42ecf2a6af7d'),LOWER('0x7d2af7c74edfd56c2599286ab3d34c84bad42184'),LOWER('0x7d35f3d2cc4439098792ceec49eb242b7ad89019'),LOWER('0x7d3bf2cb39f5ceeeca91ecc8201dc01616ad089f'),LOWER('0x7d4ad402650ad5d69ffb51f265c8b20caffcc507'),LOWER('0x7d609e115485ca00c0d92718d488fb355b341444'),LOWER('0x7d66483eb97403a94a1c131c6fd1a1c17cf19c17'),LOWER('0x7d68d4a864b5c223334f6ae7ee8b3ca726ed1ae9'),LOWER('0x7d9e6de029df3f3145a86399dc6e63872bba2d4c'),LOWER('0x7daed5fa8ed462dcc4ee30993e50705f72dbe20c'),LOWER('0x7db0bfc095cbed2f7342090edd841f3594205914'),LOWER('0x7dd958a5bc6c3f30444deefffcf2abb80eec5580'),LOWER('0x7e0d530137d8392c3e99b9055b22c1669606311a'),LOWER('0x7e17621cb51ed84fb92c29330d540b3e17d1ab3a'),LOWER('0x7e5332f79b61cef6f455f3c0e3e3c8a66d452af4'),LOWER('0x7e646d9f5ee2947c66e87aa414f8a5e7b26dd380'),LOWER('0x7e7677460d3ef76d1649282c43ce25a069266bd4'),LOWER('0x7e7c72f8dec559bd693bb662d0ea9fab9412b743'),LOWER('0x7e829fb42fd6f619be8fdcd0e77a05c6a1a72e88'),LOWER('0x7e9c9956c36444aad40fc2f2803c5bbd452338d7'),LOWER('0x7ea62de398847c13814c10c09bffa59f1b2d6b55'),LOWER('0x7eaa412580aa1ec9548a3c8b408df8e42b1888f1'),LOWER('0x7ed1322b0fa68062066dd233261dcb9ece46b711'),LOWER('0x7ed1e469fcb3ee19c0366d829e291451be638e59'),LOWER('0x7eeb0d0401ec9763a1b3342088bfeb5de3771f8a'),LOWER('0x7f04c1ea7e60f2c620948d5f201ca23d3d54d10d'),LOWER('0x7f0f08237a47628786febe8b85cff13aac883732'),LOWER('0x7f50c6a1a7c5a97678e6c02e014579896e465fda'),LOWER('0x7f6fd88068b58c95b0a2181a8e93f26568a86c03'),LOWER('0x7f85cf44e446a4b1aace2a28774e88cd6d4e3441'),LOWER('0x7f98a60850581177fa9bb01c610c584289884cb3'),LOWER('0x7fc806ff2febc7783b4b491c7a175b69cb0c4236'),LOWER('0x7fd0da5e5a6135e931a85e17f864db3e6b9f6325'),LOWER('0x7fefa99d93cf588f76ac546d2a42ad7ae7f561ef'),LOWER('0x7ff7c8a4b74a5da6e8d1a8d1991d9a8cbd6c4335'),LOWER('0x7ffc368a0d793d64ae2923722cd8337e3760da01'),LOWER('0x80026fd66d0cd4ae23fdaab33926e5e94ecbc240'),LOWER('0x801e4f62c0f299827ba7c675cd259505fc124633'),LOWER('0x803315f6526f63b4d5c696bd8cb89f25a4c414cf'),LOWER('0x8066272448381e36b9fbb686d49c84efac1e6c6e'),LOWER('0x807a3a99ea1e1e252f389f92ca6f7639a44a11f5'),LOWER('0x80867062c965ea52fdbba55c8ff11a542ba294ef'),LOWER('0x80a2527a444c4f2b57a247191cdf1308c9eb210d'),LOWER('0x80ae422db6ceb29e205d716a8cec65344e790835'),LOWER('0x80bae7d7c4130eab932dc25c9175894ab09b9e62'),LOWER('0x80c1d82d8fd9f670b450f2c57bb8a3b458173bc2'),LOWER('0x80c67432656d59144ceff962e8faf8926599bcf8'),LOWER('0x80c689b4f727d98ada17ca576fbc3ebed70a4541'),LOWER('0x80c7ce486d5d73064669472700349d4f3fa3f501'),LOWER('0x80c90c040573d82efcbb3e05d71e2e63a3a218bf'),LOWER('0x80d7bb18521acbef32d7906502ebe94928690e93'),LOWER('0x810d030c2e66a45b13e2c8f667a7a3c1f5e7acc7'),LOWER('0x811394f40d734aac6cf266579ce5df7ad388ef65'),LOWER('0x81480343557bee1db6de12bc626d8eac379469f8'),LOWER('0x81484029d98573093cd01f49cd1d32dd341cd9b1'),LOWER('0x81502b8043c1b9eacd0243c4c4064160a75905e4'),LOWER('0x816200f919715355d1c34e9c3274b3fbce6f7a78'),LOWER('0x8173273af271ead055372218f36bfc710f195b72'),LOWER('0x817f1a1fc3b764f12b331c673c4b816ddf0b79a6'),LOWER('0x8186b5c34e16154b6e2e1cb37799ee0304f6cbde'),LOWER('0x818837c73040b000ac4e72d78735910cbb007b6a'),LOWER('0x819dbff517e804eb55e092207443eaca4457362b'),LOWER('0x81a3c84234013565589f18e6ca9a20dfb70b9c7b'),LOWER('0x81a51a0699da1717a03e5ea7e15f5958a4efe0cd'),LOWER('0x81b4587535820244a39e872e0a0072734bfd7a26'),LOWER('0x81d26560edc164ac624ee084c65715a54c6f035e'),LOWER('0x81e1726ca0fe398f8c8e1696e334ac84e211d9d1'),LOWER('0x81f6274aa375e242cc80583b1c6fa139a84c2a88'),LOWER('0x82029eb50096a301bc7d3d16d32442739298e147'),LOWER('0x8216874887415e2650d12d53ff53516f04a74fd7'),LOWER('0x8220c816a0f5cad3f5ff7a24ca7a2952aaa0fe1d'),LOWER('0x82334283a7f5452f6918878d3838effee2ee610a'),LOWER('0x823c3cdbdf033b0cc3153eaac3cf45882279f153'),LOWER('0x824a8ff733e3bad53f7db87dc3e44f92e3c5efea'),LOWER('0x824bbb4d822e931e54766862ac690fbc2169d866'),LOWER('0x826df0e09b41a0cc918a8eb51da7b331bfe94b68'),LOWER('0x8271b2e8cbe29396e9563229030c89679b9470db'),LOWER('0x8283860083adac0de7501748f24d795ad57c5507'),LOWER('0x829bd824b016326a401d083b33d092293333a830'),LOWER('0x82a3274fc41bd5be097bbf562f9c9175e4a49064'),LOWER('0x82db1eab3e5442b5e9d761f1bdd1aa4390d93c26'),LOWER('0x82e5e4215bbc57539f3fce14e01ac43bb649aa30'),LOWER('0x82ea7e6055d57772d4afb497b324470ce5a56c96'),LOWER('0x831e36ef427a322950a7ce2e2e190f1333898a72'),LOWER('0x832f166799a407275500430b61b622f0058f15d6'),LOWER('0x833452dea2d74a00ce33385101953f22df2a7def'),LOWER('0x8334a533f0c3f904ca59061fae649a8c596b09ac'),LOWER('0x83a5f1c00432cda70fdd2d434e9f3485647f971e'),LOWER('0x83a9dfa748998e040263c0c81b9bf21ec915924a'),LOWER('0x83ad0ced3179828ce1e1f446a3c91c70139430da'),LOWER('0x83bdab7fe4c093f154f58d67bfd78d17a7326bf0'),LOWER('0x83c2ecdce3b99af24ac48e6bb86e8439cadb0354'),LOWER('0x83c9692166ebc75a054506ace5db98e1385bfbfc'),LOWER('0x83c9d38edb570608820ce15a3d902dafcf897a06'),LOWER('0x83d20a4b84380e62956e38452533f86d298dbc24'),LOWER('0x83d88009716b720917642646f669ca15fc018d7b'),LOWER('0x84084d31d527eeaf999d6d554b6369bb956b6177'),LOWER('0x842bf7aa24459d8b9051bc7dc6fbcd950b2626ed'),LOWER('0x8449cc3f0b9ffac413b9bd96d19c2e72b5889b09'),LOWER('0x844dd47fb0b25dd68a9a850e4da3327ebc54e223'),LOWER('0x847215ec9cf9b2b74bd0b430a556da7eb25f6307'),LOWER('0x8477ca111aec7ddd4211c06635c2905572391af1'),LOWER('0x848b5b7cd37a228bc36283a7bac64efd295aa6b4'),LOWER('0x84a28b9bef92d03348ff94a57328db99e332670d'),LOWER('0x84d0f13e0cf58783680e5db7721763c6eee76f72'),LOWER('0x84ddd78c4b22878e014c8ab4d383fcb56e6e3869'),LOWER('0x84f8c439a4188b41e0dbd638f385314a9ffe8673'),LOWER('0x8501e5808ad0e193e9b68c0fc0a44e1bbf613f06'),LOWER('0x8546e8282a71f6d2b926397cb04dc6e5dc4aaf48'),LOWER('0x857034a5877f9186693955a254b737b4d6a88fa4'),LOWER('0x857731a06530fdc4503691d92c302b524ad8fd02'),LOWER('0x859b107c3f908cba3417d403ca4d4f7a33ea9987'),LOWER('0x85b931a32a0725be14285b66f1a22178c672d69b'),LOWER('0x85c7d244c6057d42c770ad85ae198fc5f47957fc'),LOWER('0x85d9fd5f1b6e77556f2de249854c4206be355675'),LOWER('0x85de43b9c643b747e6a418ce7cda6ecbfa08ac06'),LOWER('0x85e9eeece4dcb4ccdff32a9b0b9e3c7be7d5b38e'),LOWER('0x85ea9014cc684269648906b4076cf539a1b62fdc'),LOWER('0x85efe1f49dd371a9132739ef578d8f155cd518d2'),LOWER('0x86089108e81b10eb5abe569b1dd38a73030c2387'),LOWER('0x8624901e95d95f88a546fb9953dc6dfaef62546e'),LOWER('0x865bff82a00bc1ecd62ab2eaaa74cb1bbf2c1a95'),LOWER('0x8678153e7ab34736a7a5d1fe2dd7197a102d4791'),LOWER('0x8682bddfb5fd9484a0a19a85ca4274caa084106d'),LOWER('0x86a7b7edc772d43543e050d02a7d59e492a5e8fd'),LOWER('0x86a9efc6cb689e7cc58f159e47b571e5e57e8c33'),LOWER('0x86abd73c23c527481e952c952f5b2ba9113e6d94'),LOWER('0x86ba3967d579b50fa118247eb8e38c22f738a689'),LOWER('0x86ca7b7e3fe32bda5472403f347ba8b2a7d8c4d7'),LOWER('0x86d3e894b5cdb6a80afffd35ed348868fb98dd3f'),LOWER('0x86de3063e694817095ed8f65b6e075d542a25671'),LOWER('0x86e08e2227645c838813e808aa68118efbd784a5'),LOWER('0x87049866c1d17b12375666d849c06bfd647ccce9'),LOWER('0x87072034175f8a81fbbb6885b041454326861bde'),LOWER('0x870b78c98b953b293d66e99309442b5976fcb49c'),LOWER('0x87136eb3dbc832c26b9596cf816af8c695d4388c'),LOWER('0x8726d038c8bf67ddbd7d571895ecba481d649997'),LOWER('0x873375ac5181d80404a330c97f08704273b3b865'),LOWER('0x8744eda0c47eee40ebfd867e34a67e0f705fc661'),LOWER('0x875b93eabdde5b177c7277da54f9e794cb274e30'),LOWER('0x875d7fca2b45c91b515b2ebfb0a2a64706d21db0'),LOWER('0x876cae58c35f92965baf3455f1f064a3e9582c83'),LOWER('0x876eabf441b2ee5b5b0554fd502a8e0600950cfa'),LOWER('0x87a38a49d2fc0676749132eac73a6b60863d8f17'),LOWER('0x87b6c907b267d16b397d267a31fe0289dffa3626'),LOWER('0x87cbc48075d7aa1760ac71c41e8bc289b6a31f56'),LOWER('0x87dac5558eecad077f0bfd6f81b782bf1b66f0fd'),LOWER('0x87fcfe1b0eae956b4c0a23e627d6fc9443c3b111'),LOWER('0x881baa1915174bac23f9acb5277362e072a746da'),LOWER('0x8836112b53cb70eda1fa57d23bde4594717e623b'),LOWER('0x883d1cfd7a4b4d6ee2fb8a4968e13fc80ac1852a'),LOWER('0x883dac8a8f9bf51166fa4ad47debfb71547b6279'),LOWER('0x883e47614baabf2d2bc7974c3c28fd63bc13aecc'),LOWER('0x8843fea4bba23e495df180f4740d371df8ab9e72'),LOWER('0x885a5cd0a160896ea6fcf6a8c23936a997b126a3'),LOWER('0x885ac62415e534665e80ca205290a3798da91159'),LOWER('0x8879e5bfa6d0793b26b2a879bf9275c40a7537ab'),LOWER('0x887bb3cd6589d4cb014b2a35f86e4777519de839'),LOWER('0x88941b4ecf8c41f4912256461bbfb01ae49d05d0'),LOWER('0x88a29ed6cc752f7444f5afc6be34ad03fe7d468c'),LOWER('0x88d27e332c6281b14952273a0ddb6f8a830cd3ad'),LOWER('0x88dbfc20d2f2bc004d4dde1947deda4cd478dd0d'),LOWER('0x88e429767f4b5f081ca11c6d4ac1a57399e36c54'),LOWER('0x8900f2dcaa0eb2c77f163953bc14013dc1f4e511'),LOWER('0x890e60b2ba083de67a5c496358edd9be2f7a5d85'),LOWER('0x89132603af78841811f5c211d08f9454a2abc81c'),LOWER('0x892806687a37d6cad269fb36eb9f811df74079d2'),LOWER('0x892955812b9eb88e7fe01c4b8748f103ec5389ff'),LOWER('0x8939d85182970a4847c3b68b1407f64d0903e057'),LOWER('0x895470b46cc26d09101ecc8bd2f82011f813fa14'),LOWER('0x896002e29fe4cda28a3ae139b0bf7bac26b33a8c'),LOWER('0x896022620ca215a0e5c8510095f194f46c3470db'),LOWER('0x896b2797442e7066f2e46959a0b32398999fcc0d'),LOWER('0x89943354872f679c157d8666eae273f750e24906'),LOWER('0x89a2e37996a4153b627fecc0ccd943d695118fce'),LOWER('0x89c8121115955831056958861c6800f0298b820a'),LOWER('0x89cf177bdfe290b62f3a4f0bd41c6d67f080884b'),LOWER('0x89db9534b15b88b4dc4adc02e68596718d917789'),LOWER('0x89ecc99110300a8390ec3cbb85f5f888dc3a5a51'),LOWER('0x89f9108eeb97fcffe3b596da820efe4d4b89a60b'),LOWER('0x8a2e32c646e5510244ab196b8a6fa1f86b453373'),LOWER('0x8a50561ce5d3a2c4da1ee03b6702a0c8136ced25'),LOWER('0x8a53c7a940307225682f70880e7dbb827f3a3839'),LOWER('0x8a6c09df7baeeac79900ef542f5df12c27fede78'),LOWER('0x8a841c4d13aff60152f3ccecc055f2482390547d'),LOWER('0x8a94a2967b1de2a980d59e1fd457a3d181769fbc'),LOWER('0x8ab2808cba3481532d9e9d3151eaf802d84da65a'),LOWER('0x8ab53a44a7bf9a0a355f3b13d62567f87d48cd8d'),LOWER('0x8abd60152b14007c3985ac2cecf7fd6474a1fe5e'),LOWER('0x8af5c44678ca19803d99751520a99ffcb8352543'),LOWER('0x8b05729cb134167d0fd95426711e2d209ed0a975'),LOWER('0x8b286e3e967ad104ea51713fe0e7c47964914d25'),LOWER('0x8b30d0f1b5b3f1fd7d9184fceb3814d6e5538747'),LOWER('0x8b4873246b98613545b1ee3c682080994521258c'),LOWER('0x8b6c77d860723eab9bcaec3466d7b0d9b8c95022'),LOWER('0x8b788e6c8770497dfbb31f3b67d4601d5322959e'),LOWER('0x8b86147ee1c2b61ccf83be05515e5497cae0e199'),LOWER('0x8bc0d3781372190d4e163306fdd9f35419cad3b1'),LOWER('0x8bdbbd139be081014fc086def95e4f37fb5a6fad'),LOWER('0x8c154ab7fc738d5b185a0210fc7a5f6f1ebbb96a'),LOWER('0x8c2c34567c91fd7a75625f93590d5d2e597f9711'),LOWER('0x8c4bb998e72e90bf0d82b949e9f05d90ee4685db'),LOWER('0x8c63d609b0d1bd03660b5f3d6c63d15869b40f75'),LOWER('0x8c76d77c63fbba9f82c7a2239ecc1e7e8e15ec10'),LOWER('0x8c8d7c46219d9205f056f28fee5950ad564d7465'),LOWER('0x8ca66c2eefd3d5c972e790f47c354d623001df72'),LOWER('0x8cb7fd703b8e16dffeb408213eaba8f9fec401ee'),LOWER('0x8cc2f2dff5bfb8e621d3b7e42b33e5773c2f14bc'),LOWER('0x8ccab638daf93437fc8105286021294521da3311'),LOWER('0x8ccf17de95a5448f037bd0f2279027b032d8ece8'),LOWER('0x8d0085cd35ec5eaf9603641115fa0f03ff835581'),LOWER('0x8d025a02d50d8dd5860132af861324f86ec3779a'),LOWER('0x8d253c003b0dae93cf4edc5146adc6cfec5626d7'),LOWER('0x8d3107ecf18bbe16413299758caf4ba40dd3fc9b'),LOWER('0x8d42d0ce102d2bcf9e49354896e4fc325d62fcb5'),LOWER('0x8d46e0c5514161465a1b3b796c4e1ca186581b98'),LOWER('0x8d4821b89d4625bf6a89e6a617922a526c8058ba'),LOWER('0x8d56f551b44a6da6072a9608d63d664ce67681a5'),LOWER('0x8d57d3c8c850934c5d64b49f2edf139ad1bb1945'),LOWER('0x8d83fc6493e2986958810ee957fb73e6b6fbd551'),LOWER('0x8d97e025ab6d56aa1174b0ab98104f8d87e47485'),LOWER('0x8da4bf2f8f0cd17849cc563eba0aa8fd6c14a3ac'),LOWER('0x8dc495bf728c93c83c37cfedc20ad8e628befb6b'),LOWER('0x8dd465ba1cd2ad7f6e6dfd929be748be361429ca'),LOWER('0x8de13d8e2668fb8d0a470c60b04a4beb5261913b'),LOWER('0x8de709d7fe320c006e5b8a7410d4094990764649'),LOWER('0x8df2b094e87e5ef7ed57182855f49f2900ab57df'),LOWER('0x8e18c5516025bd6aec677f3dc490549ca404c596'),LOWER('0x8e33199518d18098eb3895d73e581bcb770ba5f8'),LOWER('0x8e3d6c8f591d73ebcf79810ebc4b3adf829d2fb6'),LOWER('0x8e4fd0a080818377adef093d99392813c3526298'),LOWER('0x8e4fefd0fc889ccb2aa624b5f3a318b2b65e7aa0'),LOWER('0x8e549e1d6e3541e2e31e87cb62fde169341d74dc'),LOWER('0x8e5ab0cee629d7d6763a43fba7e6872b2f863e39'),LOWER('0x8eb0f58921c48bc45f0f24854a9492db095b1914'),LOWER('0x8ed41d2b655b5ff4539abf35b907e7ccd82ac10f'),LOWER('0x8ed4651bd2596c820d6c545d2cd878a89a9c2bea'),LOWER('0x8eda47b1d76ae28e6ca44b48c1a882e8daace290'),LOWER('0x8ef2fa2fd8eedc2782ed8cfc2aae0460f5d9dee8'),LOWER('0x8f22f2063d253846b53609231ed80fa571bc0c8f'),LOWER('0x8f27b17b7cefe69c4fb4802cd43c2a7b1dffecb5'),LOWER('0x8f2c67813ab735469035007212ef1a4ee30275d1'),LOWER('0x8f4fb78d76ded904b08fe429b382d19f25e4a935'),LOWER('0x8f553411c55f00044ff8fa67d62aa486df937d06'),LOWER('0x8f7411418f844f3c8f323edca9b27490b29515c2'),LOWER('0x8f8db40136ec62d8576ce8f19615636f1a5531d5'),LOWER('0x8fa0def50e679da5d57577ffb9f022ccb1ced36a'),LOWER('0x8fb8edb256d96ecbcc2bfaf2108440570c741620'),LOWER('0x8fc745cfeab27fa026ede96c75139d86dc995b5d'),LOWER('0x8fc7a03cef0abf03c415ddc2c266fc3fa73003c0'),LOWER('0x8fc9b9d52e4512ad2557c2cd282d5ec76f93f330'),LOWER('0x8fd34eefbfc607a1aabd8e0eea2d1ce82b07e1ca'),LOWER('0x8fd7b2f90c80e848f1242392f458ea5f57b53570'),LOWER('0x8fe0b09be6ee44a357eff95e8f7f96f1ded29880'),LOWER('0x8fe73c1ea1d149cc654d66143861875c1c29d077'),LOWER('0x8ffbad7853aa62970cdaa12cd3b0e27b215d72f2'),LOWER('0x8ffbec526c042a34d28c036dc8e9d2f889df69f6'),LOWER('0x8ffccbcb167ddd34e57cfb2fd07197de894cc798'),LOWER('0x9004251c126c8be39fabf575eb7eecaa2df391bd'),LOWER('0x900c37c2f53b9e561681ae24134f7d21fc133e30'),LOWER('0x9029a9f8450a03005c3a2d8e6834e5a594392391'),LOWER('0x9034f461acab2d315686b48fc13b06fbfbdd2ffb'),LOWER('0x90514cd81e2059d93fb98439a2cce780e2eee86d'),LOWER('0x907ca863e5c5d7f4229e19561adaad4b788d2648'),LOWER('0x907e6549aa021ad5098670a589a0d9a2c581a268'),LOWER('0x9089333f5469296aa52947629b3d35146be6d0fd'),LOWER('0x908cefee8e352d8083f2e3d146568b381eac595a'),LOWER('0x9091af69ec6a39ac6dfb238a29bc5d8de4939504'),LOWER('0x909a89f74f4af63e7a7f08bbf6387f1b12911d10'),LOWER('0x90aa5c7a67081409d0b826facd34600463778a48'),LOWER('0x90ab28c70bae4bc5d865007021219563b3ee1ff9'),LOWER('0x90b62a4ea00b214b6838799c11a9ae3585b32af5'),LOWER('0x90b7df85b6dd4f3e9076a210012e4ae91807fc05'),LOWER('0x90c09e97115514eaaa6bdc6aa3be70a3af4219dd'),LOWER('0x90c7f4034d5fd93a86c37c902cf346a1421c8624'),LOWER('0x90d0246afb383ae4d00a016fec028301b9e06837'),LOWER('0x90e97bd9f5fd775a4c2aa4f26f762050ce6969c4'),LOWER('0x90f46e65620e2063a2df0cb24d30ce7c0857f996'),LOWER('0x91032133998d4d4505a0159449cab3f8f7901680'),LOWER('0x910d82b483f5ceb571090cb49ff966a3645849ed'),LOWER('0x910e8215b0a2201cf175568c1ed27b09c244072d'),LOWER('0x912779d30e3d86a0720c0a9a66c33db5e8327c74'),LOWER('0x9128144205223568269aa1da8f4744ce394d3b17'),LOWER('0x912fd21d7a69678227fe6d08c64222db41477ba0'),LOWER('0x91337a300e0361bddb2e377dd4e88ccb7796663d'),LOWER('0x913a4b8dfcabb05b5780602c93b1380155ae2a18'),LOWER('0x913a97256f1cd74cfa8839ed5ce6263726502c28'),LOWER('0x913dca4e55db018b196a8a703c2b2df43ad6e499'),LOWER('0x9144737f1c0dbe3737eb6f4c7e0260b67e21730f'),LOWER('0x914c0740a8e3abb3cf422a57115152ba8be44fd1'),LOWER('0x915980c1b6e47a2d21dd053e87ba72c1f7b4c7c4'),LOWER('0x915af533bfc63d46ffd38a0589af6d2f5ac86b23'),LOWER('0x916750485339c9a100d6d957de214594ebb87fd1'),LOWER('0x916b9b7ee70c9a0818ac81f1856c169e7ee309b5'),LOWER('0x917291031c29cab4ab1a90d4ad44dd602e8e1949'),LOWER('0x9183a8303c42b2e7f591b40539aa16e71249d296'),LOWER('0x9188bd21d84a213c901cf6fe19b6049146f791e5'),LOWER('0x919ba84dd9d0296ae691b9bb9a8dfe6d9e78938d'),LOWER('0x91adf14f4c0782634e04dfc6e9be16d950aa4daa'),LOWER('0x91d9d542d5e00560762c91a3f98a91a825f6f5c4'),LOWER('0x91da832d551105ee4f75c82a68171115fbf724b0'),LOWER('0x91e0ec7395390cb550bc8e60be18a78bfd7356e7'),LOWER('0x91e351f72aa671e6e930943e04cfc32efca4c8aa'),LOWER('0x91ea60055de39f1e7c621b5cfcc01b3c13c4b02b'),LOWER('0x9202f00ac39b8a7ade9f71383e6e20f8133f5c09'),LOWER('0x920421e4bb5659b7311a2504a4cf1d6146e2b72e'),LOWER('0x920bec346df0f92e3d72aee4a5a9aac190378fce'),LOWER('0x921713387ee6292adaf14db81c864ff97ac65d66'),LOWER('0x922803fb3d6adddea0d4aa76fdf4acd8252a8d1f'),LOWER('0x923c0bc1a01f64a8917164560815d0b48ba0f1d7'),LOWER('0x923f718a94065f3cb982cc428a5e21fca32aa204'),LOWER('0x926044bd478807e194b1c9ce3322fa6767d4dbb5'),LOWER('0x9264684ddf3f9e5b4026c3f3c77b4220eb7f36cc'),LOWER('0x926ba48f7f1be7fe739f561e5051e9e28c0c3803'),LOWER('0x92743a7940070db5b26dd30249cd35ad95ffc715'),LOWER('0x92bc35ecaaae94e753b1753f8f122410637f7070'),LOWER('0x92bedfefeb4db5010d2bead6b56af7868a2d2bcb'),LOWER('0x92de941c9083022774d454b58dac42dd76eb1ec7'),LOWER('0x92e82d0792cc636fae5c010c24911fd8b9b09659'),LOWER('0x92f1960330a7fe71f32100f2ae920b69c9192265'),LOWER('0x92fc30064c3623866dc2654cacce606d8342773d'),LOWER('0x930d75a5dcdbe4afee0dbcbd0c6119fc6460c102'),LOWER('0x9325eafe32eba5aa10787143ea5bc3438a7f6d2b'),LOWER('0x932d3296a65d3093f981135de0181de5d60fc871'),LOWER('0x9348dbd67999e09f5448cf8444f0a72fe0072247'),LOWER('0x9354878efaa0d6d821b7264b22672423e89f0cc1'),LOWER('0x9368a22197c804b05161e6f6ca7a332cff8572df'),LOWER('0x937273ae77bbbe5fd2bf12a20f401c0ec64563f9'),LOWER('0x937dd9e09b563e580f9b49b336da9e2cab386e96'),LOWER('0x937f250b6ae6dd9eb8bd8b86f4b9796b6ef05d13'),LOWER('0x9385615bcf17f14f2c4f876ee4e2d41bb07b0098'),LOWER('0x93a98dd9f2ac7b9bd50264cffbddf2b840468519'),LOWER('0x93b17d3b6d8cc8c7e94283ea7467290f6fa1e167'),LOWER('0x93b220bc7c36ea8e4c64192301b680273a184ec3'),LOWER('0x93c60606cb51cf123731744fa70b5da1828dcc08'),LOWER('0x93d8a2c46dde65b8cb2e0a341086bbd92d02cc81'),LOWER('0x93fef104fbcf4a3e56c930f49fc74d26c3910a18'),LOWER('0x94112709484c53a6cbaefd0fa501a05901e623e0'),LOWER('0x94197f3702ae58a2bb808f47193ce29aea631c57'),LOWER('0x9436108e9cb7fe6e54901e330d845bf51692d2d2'),LOWER('0x9438978c79eb1ee8c89eff8bdc43a9f80562a2e9'),LOWER('0x9461bc38a876bd94ae3bdcdc2eca4719a7eddda3'),LOWER('0x949383470265442ffba27b1c760c140aa65f9d23'),LOWER('0x949a4a784c1772297f4199350bca2d9b1d8fada1'),LOWER('0x949e62914efa1bc2e8f6ecadd3553491018591bc'),LOWER('0x94a69f4824d054b0a848934bdb69f456d9c17929'),LOWER('0x94a832c01a06e6eb0fe2753941b1e90c3957083b'),LOWER('0x94ae20d4d13735f1555b30f900b40713ae658803'),LOWER('0x94b8910e87a157934df0592fb5f1a278d9311a5d'),LOWER('0x94c99d650415cf4119dd6398dbc160a4b3952c78'),LOWER('0x94cda6b2a3b851c4c4b77cb1a11e8ecb2bb23ca9'),LOWER('0x94d7393aa68296ded36bf08525d6d59ea34918d8'),LOWER('0x94e496c5da096115d8dfabb30446bb1403b19f78'),LOWER('0x94f574b446a8b14f98cdc0a435974f2dfbea5a19'),LOWER('0x950555f5f01ee5505627e8a3a36fa1271d7cc4ef'),LOWER('0x950ef69cda506c24985fef24f5d0e416691b16d8'),LOWER('0x951167530afa60bea983e5da28014b1faa607964'),LOWER('0x9559771fb93be7381c273857a9896a181176e533'),LOWER('0x956abbbb0fd249d0c8bf2fee0e5a4f541ba0b03c'),LOWER('0x956e0dbecc0e873d34a5e39b25f364b2ca036730'),LOWER('0x9576ad8cd51e65c0df24d3aecfb5a3096b71fc6e'),LOWER('0x957f787050c41d43d7cdd43f1d8e16703c77cf18'),LOWER('0x9583ffb899cc4846f46fee42db242a9b83a06ca2'),LOWER('0x958914bc3fc61629dcc5c11ce9d2e1dc254f3e57'),LOWER('0x958926d9cd64b510cdf0db8b815d7fd17be3af43'),LOWER('0x9590c48628dbd8a22861f0988ac6a2b6ae014665'),LOWER('0x9594dc29cb16f2dced581aba8e9b3f289e3e646e'),LOWER('0x95a9bd206ae52c4ba8eecfc93d18eacdd41c88cc'),LOWER('0x95ad8360fe25bc9fb573d10b42f76f1bf34669af'),LOWER('0x95b0e306ab581b488064fb88b40d8a0ce9033f59'),LOWER('0x95bbccf2b851cc0279588fd1dc1f9da4ddf312ba'),LOWER('0x95e060af3ba8808edc8540798ff18f7a910bfc95'),LOWER('0x95e2ea9d3df408e0e8a3b8883d60a0df01268cad'),LOWER('0x95e3a58ceaf705e09facf611f9dab8429617ae1a'),LOWER('0x95eaa90c08d7acccd9a64274fe588298d329ab96'),LOWER('0x95f04281bd6be16752dd4ff3b56952c1b03079c9'),LOWER('0x95f0b367001746fd6e50ac22782411d84f1e0850'),LOWER('0x95f50cf888dfec90321dc376c1e695f15b081595'),LOWER('0x9604175918e0232cd42218caefb1b1b85e4795ab'),LOWER('0x960a45875f44f7f47d4d0829f27ad8fffd89eff9'),LOWER('0x9617615277787ef1d79941f15c18eaca011ca83b'),LOWER('0x961d16737a8278af92d3bb4da0d20454b04aa0a7'),LOWER('0x9620da3d1cece0ac2b43d5012270b4036894de4a'),LOWER('0x9623d106f52ca38d07c9f3828ea6b5d2adb303e0'),LOWER('0x9628f11c8fbf15df1307ad5284398ad7dcdf573c'),LOWER('0x96417eaef81a4b48547bb2d69fae01f4300da00d'),LOWER('0x96482960748c7a0afadfd8f4beaa8d48d416f69b'),LOWER('0x9648c280e112946f93bacbd0fd1dc81abb557908'),LOWER('0x964bfa36e25e123ddab0968301d638b6bbdba56d'),LOWER('0x965658b4bd00dd1967cc4f8220462b6007f15860'),LOWER('0x96755c1e68717658cb16b5b392ce63bdeed3c4e4'),LOWER('0x9675971bb3c730fb23f6f9278cd338692f11f7d3'),LOWER('0x968a0e5603c5d4dbf24cbd7df562921d158ad19c'),LOWER('0x968f913e9935815da8ddbbcd51e0525bfe587357'),LOWER('0x9696f59e4d72e237be84ffd425dcad154bf96976'),LOWER('0x96c3a395793f6fac7c8c34f818859fa55487b600'),LOWER('0x96d12612d0e2a663e4885e717f1cb2f72e5469b9'),LOWER('0x96e4cf8177870990c222f0f5d4c47a4b649cc277'),LOWER('0x96fc4553a00c117c5b0bed950dd625d1c16dc894'),LOWER('0x9702a479115788294232c384a5c1f42c881789fe'),LOWER('0x97122ddca38c29b7653d52b07998d06a7128fa0b'),LOWER('0x972978353e8054e4cff24dd7348ea2b2ec768d55'),LOWER('0x976169aff681f3551e5eb1f8dafc025dd271e6ab'),LOWER('0x97622516c92455814a672488dbb087296b4b8e58'),LOWER('0x976c5bd5e8097048155604b3e3830448d1115b53'),LOWER('0x97850073ff92f95aba660d6c4941ff195864694b'),LOWER('0x979409fc0f11e5dca391e00a18bcbff5b3f0ba80'),LOWER('0x979632cc3538d21b5c5782907d92008b4eedfdfd'),LOWER('0x979c67a42cf213c899e7e6ffb480920f8bdaa18c'),LOWER('0x97b48926ae9f3e36bccfb9647c5328ddc6cc42ec'),LOWER('0x97b9d2102a9a65a26e1ee82d59e42d1b73b68689'),LOWER('0x97cb59ea926535807b95cdaf9266b75f4c19cf5d'),LOWER('0x97d5f44105278231f762418d181ccdf42b2f5409'),LOWER('0x97e12bd75bdee72d4975d6df410d2d145b3d8457'),LOWER('0x97f253e55f8e5aa5243f506a4801211987a26413'),LOWER('0x97ffe6e22bb6436b90a7b452899fbe6f2a78dd2c'),LOWER('0x98188a80e73b591acb2b93c01643f629f8c86d74'),LOWER('0x9826db69d2ed6c32d0cda7c0e43166e3a01388ad'),LOWER('0x984d580cfb7be670e6413631375c9ce40473bdf7'),LOWER('0x984ddc52ad519cfdec629be98781b98847ed732e'),LOWER('0x98528323a09cd51cd7da6e8aa4ae6d3f29cc7e9d'),LOWER('0x9864e8b36edaf9fd6f63ef28a83e251b7ad11ec0'),LOWER('0x986a2fca9eda0e06fbf7839b89bfc006ee2a23dd'),LOWER('0x9870ca89649f1a269c5f9bdcde72079f7358929e'),LOWER('0x9872b6f0f75a5a2df2e0478ca2568578653d07d8'),LOWER('0x9884fcaf31e79c1d6ece4e86ce61b4f2e6d81617'),LOWER('0x9898a88e8be5e98a3501197e2c135cdeb8ca9802'),LOWER('0x989d7842fd5fe74e494edf823905393ad1fde358'),LOWER('0x98b2b02302de225835aea95af8ec30701ee36121'),LOWER('0x98d33c9ac1cc2154f3551b46fecb2fba2a7f0748'),LOWER('0x98d8508493a5daa6363220699cbaf34881209c61'),LOWER('0x98db3a41bf8bf4ded2c92a84ec0705689ddeef8b'),LOWER('0x98ef66743649134551ea36b9a05314ce08ef6c6c'),LOWER('0x98f586fc28cc36180f4371c41d866feb957ed705'),LOWER('0x9912fbb5f37fabe8e2bd4348b11172baf3bb5a7c'),LOWER('0x9914496decf95a5fbf391f51c52236ad6f2a4d98'),LOWER('0x9929485d855048f49d518457fb9980a57139bc39'),LOWER('0x9931e357afaa299ef96556015e575eb4ab394f17'),LOWER('0x9975855673d0d3c5be0d27fd633e8f7e886400a8'),LOWER('0x9975f1a6b0ff8abb940b94e71fc2b163e1481ac6'),LOWER('0x997ddaf94a43fe5ada85ff47c1ac1e86ba8f8085'),LOWER('0x99924246e6006c8db55ab77132c8773a77962423'),LOWER('0x99a29e2d402edc73597819e4b0526d81bc53f0c2'),LOWER('0x99a39d44306ff1d7d7921fbc8301b2645c608903'),LOWER('0x99c820e11d5ee26a55755f24f7b6cb55ea782136'),LOWER('0x9a383a8a6d003c3c9ed37024bf042187d084d0b3'),LOWER('0x9a52aeead2fe20c1429d2c3349efd4e51c68445b'),LOWER('0x9a7724467087dd8607d773695a063eba36c1f95f'),LOWER('0x9a89f72879dada789ff86c8339cade04a8d353ae'),LOWER('0x9a8c5e51736b6901411ef251624cbb65989af667'),LOWER('0x9a9085ba167ac8a210cf397b34a8f2282caf6400'),LOWER('0x9ab5eb709e9048f3ded631d786521744970e3b76'),LOWER('0x9acafc3fe25e7da2b8bf49c836619d40e395a859'),LOWER('0x9acbb72cf67103a30333a32cd203459c6a9c3311'),LOWER('0x9ace5bc66e64b30bbb5a3cb8326a17eb147022d2'),LOWER('0x9ad1d7d376750a94de3040bb4bbb1f8d7e635ee5'),LOWER('0x9ae9b3b1de20e331d15aac8c2da0fee9b58a1024'),LOWER('0x9aeb71c2e5f652e53ae30dd046839ebc3ccadaab'),LOWER('0x9af6f75e4b61eaf17e2bbf48e9dbe0538e90a9bc'),LOWER('0x9b0743d02a6ac8f0e69bb0bb6a820f7cbbb76e3f'),LOWER('0x9b1cea7019b2db517059c9ac32e3c03c007a5b29'),LOWER('0x9b23a377e17846f147dae15578190bfac79b7c8c'),LOWER('0x9b2761669cbc26f6f2f3ea2b1c518a8bd6d6e60c'),LOWER('0x9b2a7dba0bfefe9bc834b23cfb69bdea477fced5'),LOWER('0x9b3250422dabe664d4f90873980b978cb7de36a3'),LOWER('0x9b374df0806884ae8cade82422c5e244ca1cee4a'),LOWER('0x9b5a5580183a96e090210b48ef86bf97eb3724fd'),LOWER('0x9b68295c4a16010055e5aca53f7f6094c9d0fb3f'),LOWER('0x9b6bca89cf58e0d35a1bb0c79f76d8392b908c20'),LOWER('0x9b700b581f51e16d185b25a626dbab413b52bba6'),LOWER('0x9b7cb24f7ee022fe1c67199fcd99eae415dde47f'),LOWER('0x9ba5b34024eb39479fac0e020c38888cfe9c4d24'),LOWER('0x9bcbf70b28870808427bfca37e2096f554a3985b'),LOWER('0x9be6c1590a20697d5bf27e179d6a18df348bd0d3'),LOWER('0x9c0cad2afe31797d54f34be1e9e9072ea376f7dd'),LOWER('0x9c119cc797fe12be21c6428fe7fbec08287afabc'),LOWER('0x9c19b0497997fe9e75862688a295168070456951'),LOWER('0x9c22cc4592acd44fe5b6ce3cb3bcaf02ad38bdc2'),LOWER('0x9c2f001719defaebd23ea0301b3789c989eaa7fc'),LOWER('0x9c308db44641802fd4bf697f0114655083c2e399'),LOWER('0x9c79ec067e6b61a5f9dc70007a8197984dec542c'),LOWER('0x9c82ab420491c4fab9e106adff46b455c5c63874'),LOWER('0x9c86960db65b9d3a5331fd1ec855f0d73114b2b1'),LOWER('0x9c8cccb6f344be0a3cd97319ba9678c07762b10c'),LOWER('0x9c8fc6f066a285aa81489f0cbe6a8e6215c403f4'),LOWER('0x9c94a1d0b811a5d23329437b7ceca5a770ff2ed0'),LOWER('0x9c95d28b9fb75078472174320fcd1e67e8851b04'),LOWER('0x9c9856130857763c27b7d1ccd7fe6c10563fea61'),LOWER('0x9caa7459ae36f229d4149e2ea758ccca2d828c81'),LOWER('0x9cac4e91503951da133436c2a3385c8fde1735c6'),LOWER('0x9cb0525d06c14aa22c18414dc6ee4cf4edb27566'),LOWER('0x9cc5426b62801c4838d2e6df149fa048e22c48fd'),LOWER('0x9cc8493f835a3aad8346a8aa66f22d9457fd2ce9'),LOWER('0x9cf3ac61d2f35aca31e2d23ff44561e076d13739'),LOWER('0x9d0f52185c53d2f97689dcd505331e65af74b21e'),LOWER('0x9d179879ac3d54feb3a0a55c482b55d7c8e7ba07'),LOWER('0x9d1cff00d90ac217f74ddca882be17f1b9aa6af5'),LOWER('0x9d1ead7601c5fbcb42f29196822c80aadd4c6476'),LOWER('0x9d637fac06d5b9017a818b669d30403831deaced'),LOWER('0x9d6913393b98623a33608cbca8454e30424b59b0'),LOWER('0x9d784dd0d704788d567c33dcc36ed7884158152b'),LOWER('0x9d7d27d6421926b7ff5b39dd0441a9e96ff989e2'),LOWER('0x9d8d681075f555135fd3d2da822c0fe0a0f12c55'),LOWER('0x9d96b0561be0440ebe93e79fe06a23bbe8270f90'),LOWER('0x9da22a755604c5b7acf57c39c0810c3abb31a006'),LOWER('0x9db01375cfb1195b1b1428001d1ff0e13a20b514'),LOWER('0x9dbcc76199de962d35e3db9b133563f28178227f'),LOWER('0x9dbe10ce698f8dd4751c609524e7dbf14c795bfb'),LOWER('0x9de4443572aa0884afbc96e44bd7c57503486709'),LOWER('0x9e0583da032e7710206101ae2095d3f5728282de'),LOWER('0x9e1ca27cb05f532547a66f353073aa468c21e4a3'),LOWER('0x9e25b7261b433d2a22cc150aaf6f90a25ec374c9'),LOWER('0x9e32a44b2db00354cdacefbc1b02089c3a864fd9'),LOWER('0x9e3a46190c813192c0d3af13ca917a3b4698c1cc'),LOWER('0x9e3cbde5cd7635cbfcb492d2113cabfc78e01b0e'),LOWER('0x9e57e42c862a8f010b3b0a25d42fda88c919e9e1'),LOWER('0x9e66504a892fa84705c24a4bd41e67b6be581c65'),LOWER('0x9e766ff175e864835fbf847e5a075b0832191f3c'),LOWER('0x9e7b68f68fd5a9f68af30044f42efb68936355c7'),LOWER('0x9e96cc042a4316914957a411d7a8771c1fe8ef57'),LOWER('0x9e9cf2cb1cb93a58fef402facec2b29405e03cc6'),LOWER('0x9eaf523240fc1cfb9679d69a4bf7065d7f4bc92b'),LOWER('0x9eb44ffea74f9b4fef38e9695534cba6351e7a9a'),LOWER('0x9eb5fcbddce3bcb6caf74abe719e267e7aaadd6b'),LOWER('0x9ebb4a500d9b05ce0ca612b18c4456df06bc400c'),LOWER('0x9ec108c0e024913dadac8de65287f4209a05ac84'),LOWER('0x9ec213d65fea207cc5c3940197a186ab7f08b946'),LOWER('0x9ee0fe2c447c09cf29af9d3c57cb6396a4b28925'),LOWER('0x9efea2cba5081d85c26139b18962b69a97154776'),LOWER('0x9f01ee49304a3d4482b84953730ef6988002d7d4'),LOWER('0x9f0a30b795c293a623e523d02f6473ebf9d5a00f'),LOWER('0x9f4cb53e9a2e9aae05dce7f315c0437463326208'),LOWER('0x9f696c422c9c47f192f9697060f4bcd67df8c572'),LOWER('0x9f729294b308f79243285348a7be3f58ae5ed31a'),LOWER('0x9f799ebe2df148840835d9c48c2a25ee5307dbfd'),LOWER('0x9f8af0bef30d33811aedb08f5e642d7b0a176c32'),LOWER('0x9fb2469d465fdc5cc64b9845186470492f0c0336'),LOWER('0x9fcafcca8aec0367abb35fbd161c241f7b79891b'),LOWER('0x9fdee2c1883d46a5c0c72630da1eb7d70bf9c32e'),LOWER('0xa007b5d85f67a4d882927ef2ca992735a21d5028'),LOWER('0xa00acb286bf2c21a1360ecc48ad0c961916508d0'),LOWER('0xa013289862035c4b1d7933c9f74a412d8b60dbcd'),LOWER('0xa02b9c87c59dc0516200d4ac7662ab76a50b601a'),LOWER('0xa032af19029667fc7ad842d65d524e62a16cc4ca'),LOWER('0xa03658f7d84c1d269a708f0847f7afa0e53c65d2'),LOWER('0xa0380ffdc01efd232725921976558c90072ada2d'),LOWER('0xa039fd6378741c8ea2bb4c393f1ea782ba7372b3'),LOWER('0xa03cc906b0eb893843cba7a171e62af6f7b6c44e'),LOWER('0xa04824d32f77defc6e8ac625b8739ec2fc040601'),LOWER('0xa0999fc769da6943042bba57fa6f1c39806ba291'),LOWER('0xa09bb7afd552a38784a64c8f1e2dcd0ffe21ffaa'),LOWER('0xa0a146c6639382c727ff7a75b49b2d9ce924163a'),LOWER('0xa0afa32088c69a8683b42af9c9e3ee10c26a380b'),LOWER('0xa0b5115f53b599f097aea1777fa4456eb9d5d517'),LOWER('0xa0bb4ba19f578a63fa3f67adaf7bbca15ccadc45'),LOWER('0xa0bf99f182f941ada4181e85ccc84908d14dfbb1'),LOWER('0xa0c477bb91307616ec8b5504976a794aba89b25d'),LOWER('0xa0d38fa34e563e69dabf78b29c43652b3f851e34'),LOWER('0xa0dcfc47b87106b790039ce10b49151e1a57bb2a'),LOWER('0xa0e06e7bec7a655465548d663d06e78dd9dcfe1b'),LOWER('0xa0e764cb09c8758709c331bdd1e25aa98e2d66c3'),LOWER('0xa0eee1da68a6b89a71e8ecf9e9bf889555d527c4'),LOWER('0xa113f7ce3c20fa74f08fd6362eca1cbbd99fd8e2'),LOWER('0xa1207fb868b864133d4784c128b5042e4e14e316'),LOWER('0xa12611cd4b27a96a9a0ec627a8d977da0e1b6cb6'),LOWER('0xa130d7629eaea3a8a535129ce72b27a2b13a73e2'),LOWER('0xa137408f19372b427fc2fde105ab4b24019c84c2'),LOWER('0xa13a2821c4250111dab3cd6d5710c3c1a0797a63'),LOWER('0xa15ce7f062f770b61055b0f1fe1770244eee0d24'),LOWER('0xa172c295ae3af1ab1480d8c9c8d1e8439c69084e'),LOWER('0xa188525a74af376c440194d39457a3520d916c24'),LOWER('0xa193c943980a9340f306b3d59deb183dc501b35f'),LOWER('0xa1a2af6bcf75718f12fa600ab2bc63f66f39133a'),LOWER('0xa1a8a3ee29694a97e4e73d72ffa12c6f8ca1d637'),LOWER('0xa1ac1d513b3926be573212e094e0df3135d8dd87'),LOWER('0xa1be60a3dd728c15004344ace9039dae426a707b'),LOWER('0xa1d8d972560c2f8144af871db508f0b0b10a3fbf'),LOWER('0xa1f642d35ed2cc023aa74fb0740e2724d60aa4ac'),LOWER('0xa211ef4b15b51b886172c188febce99ab2205eec'),LOWER('0xa21a16ec22a940990922220e4ab5bf4c2310f556'),LOWER('0xa2217c4410363350b698e7e38baa87c6fe75f4df'),LOWER('0xa22628af5731ee4ed03817606e9412f842be60f5'),LOWER('0xa231a5ae629a0f15e1c1eb3ffbf813589e206926'),LOWER('0xa235e1eadf60d2b94ef36ff226d96a4ec2b8aa0e'),LOWER('0xa254dd2456ab48d086ca1a852fea24c0a0265ba4'),LOWER('0xa25f2d38cb91f53136c25e553641e341d1cbd07f'),LOWER('0xa260d670a41c225fcff54bbb88e500c95cafa6d4'),LOWER('0xa27b3dc98903f86992e1907d74fc321d4bf06136'),LOWER('0xa28abb9c54ad4cc3e68ffce2d04c9d7bf9ee4557'),LOWER('0xa2af55b949acf16d56b7764493b9bc35f9f3537c'),LOWER('0xa2b1c8798cac94cab5a7b493a473979a724e1a1c'),LOWER('0xa2b52e6bbf02341a7fa80d7f3099411ab3be977e'),LOWER('0xa2bd3fe0645af2cdab6ebbc3d3ef16cdb0238a6e'),LOWER('0xa2cf22a54bbcaa2b06bfc841da1790435949e6de'),LOWER('0xa2d008a672b5808ba5d5ac7cc8fc47f59ead31a8'),LOWER('0xa30420a8927ae33a273c9c7447ddd3bdd74ccd43'),LOWER('0xa30f8d3d1322783b703cbb4c228fc65f246eabdc'),LOWER('0xa3105a7438953d78c2dc428d3e57705c460390bf'),LOWER('0xa31633277edc94d5b104de267bf69f535fe73749'),LOWER('0xa3206657e5ec6e996cd777eee2b34c1f6d0d2fe8'),LOWER('0xa32c326cc1b5066e5408c33b0532e83231580d75'),LOWER('0xa36318b1a61789f1fdab33bc649df10bd0119cfa'),LOWER('0xa377040ed125a343126d11da87676d982ee7d853'),LOWER('0xa394df9cedf27710b0d8d2386ee32f0341b56730'),LOWER('0xa3af00a4ca8a11b840b1cb190d1c1d66da1546fc'),LOWER('0xa3c2083634ea58416e5bd0c407eb177742b336e8'),LOWER('0xa3c34bc471fcae490a218493eb0f556d88a620d1'),LOWER('0xa3d140c3c3de3c59e829c4e0f2e9d8e0cf5e9bb9'),LOWER('0xa412e7df933694d609ae608056119350974897aa'),LOWER('0xa415d8e8c3b1e14d8fbe76df1eed3fba19ab08e0'),LOWER('0xa417100ddcd35787e6c0598e63db45ef5ecca567'),LOWER('0xa4267f0bf44b865d87aef0d34e3800cb0b8a8c13'),LOWER('0xa432c6f3f78f2a2adebf159d3ba8109e73039c78'),LOWER('0xa4369e39e3ed13593adb0142a1ea5d08abdf99c4'),LOWER('0xa44423295590a9d9f95ab0b1c3e9ff2fd1ffc909'),LOWER('0xa450ca89c62705d0f615b51df6d5c6a1830adadd'),LOWER('0xa457a8a2496783971ea5e30906efd9830cd759d4'),LOWER('0xa47d9e55050dbac27a6061cc2d517858a43721e9'),LOWER('0xa494e0601d588976f07c151aa422acf05107002a'),LOWER('0xa4a3277804104a10da9f053c5db342cced9b4314'),LOWER('0xa4ae45e5007dbe2968870bb7dcf894c8973820ca'),LOWER('0xa4b094884dc50515ea4ed287e950800e5a17a1eb'),LOWER('0xa4c501e1ab23ae5aea3732e752d7ffbbdbf414b1'),LOWER('0xa4cbc608ca30b1c5342459bb97602bf33ebad3a1'),LOWER('0xa4cf2fbdb8c86492467787628dfa351c8d432929'),LOWER('0xa4d30d8d0187eea99e0a626991a693ed64f20795'),LOWER('0xa4e084851fc459fb34a64eafd3f1d506f661afa6'),LOWER('0xa4e42028edcf04107aabf545b970aa0ec5277abd'),LOWER('0xa4e99a749e3dae87046f158f37aa7be6a323490e'),LOWER('0xa50f556168a2a67eeabd5baf821212a6f0c8fe1e'),LOWER('0xa5135394d563e323e83b5c1b097acdd7a053b40c'),LOWER('0xa53e7c7cade7f71bc2489dbe40af10057df8c79a'),LOWER('0xa541c5b3e005946509316a3e2e7697220f686ad2'),LOWER('0xa5533af2728710addb5057ab1dc9393e6bdba5e0'),LOWER('0xa556a5a50d2c786617263414878214a9159d1433'),LOWER('0xa56dac12953e006c36186897176ed0b1c409c7ae'),LOWER('0xa5739fda39964a4e46f7a83a7f845e92f8fe0d16'),LOWER('0xa579861472f46a1db5b885a739ade9c9ae49b650'),LOWER('0xa57d4a794f62ceecd03017b2f37e4bcf100af8cd'),LOWER('0xa58c09bec30e85bb29412de7429df30eb8cc3c11'),LOWER('0xa59dd2597c6ffc059eb7d4b1b6664e6616db3a57'),LOWER('0xa59feebf2bc814612d12fbf16d2bdffd683ee7f4'),LOWER('0xa5a101f9166fb571e8eb33c748cd552300661e00'),LOWER('0xa5a674f956e65616b8fe21d5fb36267aab936de6'),LOWER('0xa5a7a678031149660075a1470f51b2cd37f87c43'),LOWER('0xa5b61af6bc5a24991cf54e835bdd2c0c4f41d816'),LOWER('0xa5b97d1bace6c3044cce72bc20658e27e0dff21e'),LOWER('0xa5cc3c6b894982a1d0f35ac51d3bd2e877d532d8'),LOWER('0xa5dcf91b36b49489dabee16c329580cfbf1e55a7'),LOWER('0xa5e3853ae9e2eaaa7f4308ff88067d1d2659a33d'),LOWER('0xa5edef52f84186c2991383d1cbfd909310feae2b'),LOWER('0xa5f3d98a05970a2110120712513a8a139a216dd1'),LOWER('0xa5fa6f7a47cce9381cbc63edc9dd55d3520270c9'),LOWER('0xa5fc753604a6147971e36ea022b2de708202dc39'),LOWER('0xa61416d47385852c65e584e107b21f0d88dbcabb'),LOWER('0xa6199a79af4d0aa2b76ae5d17c556fcfdf7c2026'),LOWER('0xa61c114e38ceac5bde6325956f4e808582690329'),LOWER('0xa62feb2cc7f89a33ece6a2bb13358a7c90d7269b'),LOWER('0xa633c914ff55344d28e2b85a5cf933c8e1e28cd4'),LOWER('0xa64ca83a5d676929accd4d98eec4f21d414a201b'),LOWER('0xa67f378e40cdbc45fa81af501fdf102faccc4d4b'),LOWER('0xa6a7d616dbbb6bf5343b37577aa5c319ef33e311'),LOWER('0xa6bcf468b3926d0fcdf13abc2f38669c34d9c25c'),LOWER('0xa6be420766b7292ea1c3e64890ece03768c7da0b'),LOWER('0xa6e695fa4512e74ce17bdfe84cdad39cc6b2918c'),LOWER('0xa6f1c0f66f8cd8bf01ec1a5d420f2f2e15d7d591'),LOWER('0xa7014d6ee795952502c84dc81119e0a94bcec331'),LOWER('0xa701adccfd388d547181d79faec75bebef2c0983'),LOWER('0xa709fee88ae75e69cc2014879c657b4f9ade066f'),LOWER('0xa70a2b71e99cc4ae739c4d848a15dfa8bf2f1a4f'),LOWER('0xa7278d6a92bd0b3ea3f08f0448de366d3a12a872'),LOWER('0xa72a91d9bd12dfcecb80ecc61111065153b65091'),LOWER('0xa735329a5ec05911fd73b968aa265924d1b14362'),LOWER('0xa73fbe260a4d61ac44cc22c3dc350d248483939e'),LOWER('0xa74e87f1371c490c1ad948000ee2fd0d88097a16'),LOWER('0xa75c55de6dee251751bb7f4f69411837f8b92423'),LOWER('0xa775d78031dfff380e25b3fe4d437a37318c078a'),LOWER('0xa7863621a06c8c3dbdf56e26543173a9b092d45c'),LOWER('0xa79b5f5907d1077a5738943bec8282516d6131a6'),LOWER('0xa7a0a7211894da25fbe2384d2e32951322810ac6'),LOWER('0xa7c6cb4cbfbbdc172d1dcc9b586121fa1c99b961'),LOWER('0xa7efae728d2936e78bda97dc267687568dd593f3'),LOWER('0xa7f43945cdb1d9958574715598a607af3ae0bf5d'),LOWER('0xa825f63cb7cf3e4c026c6905c071dc4d128a3fa4'),LOWER('0xa82a14495e80e4b662d04357bfd36f418b37bc05'),LOWER('0xa82dbd4e048c8fb346582ee76bdeccc993be84ba'),LOWER('0xa832e00c6921193626668819373c58438431f847'),LOWER('0xa83c875b3a00dfb712a1f141ba0d920020f8101c'),LOWER('0xa841b3d156685f5133aac3570f01129cd110ce93'),LOWER('0xa842d9107ab5ce057b85ebbd1fbf5d0a660305e2'),LOWER('0xa848362a847922708d7cd7f575761d04fecd2205'),LOWER('0xa84b79415e24966d86c416dfcdcd6bbcfe5e1e0f'),LOWER('0xa84ccb647ff049a5ba73eb51d9564b8b9fc9ce4a'),LOWER('0xa8541e4b65bae5a703c333970be1bb85f2658591'),LOWER('0xa85d0f31b33fc9adaf47887467f174a3abc18ca4'),LOWER('0xa85edc8d90d6643afe9e5ced92317f1bd8f6440b'),LOWER('0xa8693c07d6589cf53eb63ce7a9d890672bb18db1'),LOWER('0xa86e96eb1c43dd45718ddf58dbb3811ea5441f16'),LOWER('0xa86f48806ed300bcfce5d056cf8d81efbe55580b'),LOWER('0xa8702fbfa45178a018a5ec0bf9148e2c3ad57fc3'),LOWER('0xa879b4fef26dfd1cd35843ddd6071f2bc63ebfb7'),LOWER('0xa880952e92e92c0531a4438f664e7682c8a7e55a'),LOWER('0xa88902d6e93922893ee77234ed1c3ba4bec90224'),LOWER('0xa8a9f042ce7913da120f05f30c82d9baaca7cbda'),LOWER('0xa8b3478a436e8b909b5e9636090f2b15f9b311e7'),LOWER('0xa8b3cc2acd2b8bc077fb0a3a0b1320c7e7b5030b'),LOWER('0xa8ba80b5c3435fed95365b932f522bd964e1dac8'),LOWER('0xa8bc94c19eccfc0de131e041e7916c42af0dfcf3'),LOWER('0xa8be5a9cc773618499089c9843b0686e7e32b01a'),LOWER('0xa8dc18b2a1def958daf884a935e7a37952bf4712'),LOWER('0xa8e70040e4d385125ca4af8b0e29fd75d0be0e25'),LOWER('0xa8eba6da3801489093c0299529ac79fc16c59b6d'),LOWER('0xa8ebf456196621f390a47ff75713c3fdda05eee3'),LOWER('0xa8ec2333b3c5f6e7d890306aead3c0e66ceeafd4'),LOWER('0xa8f07b1cf799a8afbeb4bb749eb01a592267f274'),LOWER('0xa8f769b88d6d74fb2bd3912f6793f75625228baf'),LOWER('0xa8f77d221b0a2f8ef9dc8f9b12cd427624e1e047'),LOWER('0xa8fd7f7ccc5228787074a949ed55170975cbf7c6'),LOWER('0xa9024b29785cdbba9f080b6eeb9072b1499821e5'),LOWER('0xa9065e74608392bdbad98b134dd604394c014c7c'),LOWER('0xa908e1e83561b198bfd203a7129b54233b56e6dd'),LOWER('0xa90f8f3efa729fcc6d59b23c7e1cc39a3c73c988'),LOWER('0xa910f92acdaf488fa6ef02174fb86208ad7722ba'),LOWER('0xa9174b240ea4001c7b228916ce34791b111e6fbb'),LOWER('0xa9186bfc3d42d065f000571b7e7bbd725d7cef45'),LOWER('0xa9197426b655130b2e03cba7a523d4c06431efba'),LOWER('0xa9218f73321de0a2aa5e867a1817085ba311a893'),LOWER('0xa93844b3edd1380ecd79d6ee60dd708969ef83c5'),LOWER('0xa93990f63ed6797767bbe57a6180887be95ca461'),LOWER('0xa93d39999961655028e11e4dedfebfef9d6e141e'),LOWER('0xa9418c11ac84f94a70e1ff5faeeb42c08168b102'),LOWER('0xa94b40c53432f0576e64873ce1cead1aae62fc90'),LOWER('0xa957de32626c2971ac3900ffa6542067f76ba28b'),LOWER('0xa95e18255e059a6644c219d73e184d1839c52661'),LOWER('0xa96a2ea688a42a1f4155bfdc17af0a4a25a25064'),LOWER('0xa97073fe3bd3056364a97e433208f55c1a8ae32b'),LOWER('0xa97d043a6cf585f98b1692063dcac739acd95b06'),LOWER('0xa9838a3b5a3049dd8ea96a4155910ff790511bd4'),LOWER('0xa9a79028c9e18c4c93e09f0c61defbe9c3da050d'),LOWER('0xa9ae592c0a092d3fc02b8af5ead8d508f88c5962'),LOWER('0xa9d44963a59281624f8af43a5244343d9288dadb'),LOWER('0xa9debd1b201882b1fc0cfce760ba9c9d21d657bb'),LOWER('0xa9ee9b9620556054d5e400d0c12ba6393efbc05e'),LOWER('0xaa0b840cf1d066c92b373393af8e0ffc36b7b0e8'),LOWER('0xaa1e2ad7d2322f4a940037dab7b7632a9e84d14a'),LOWER('0xaa2311cf49630c88b12ff3f3152d3e8d718d82e2'),LOWER('0xaa364c1a348f9517009207a1601e0a73c1cd530b'),LOWER('0xaa4caa80ccc1271012b19393beded317af86ad61'),LOWER('0xaa4d5fad9024b54544b3ed2b44877fc4cfb33bed'),LOWER('0xaa4fd377d2594ef36501a3e489cedacc114f4404'),LOWER('0xaa6b43b77b4df6cccd971699a54b4e2866389a43'),LOWER('0xaa7ac085192b16d8063e0d12c38cdaa97b640bcd'),LOWER('0xaa7b0a1efd187173dfa168520a9169a956f7c032'),LOWER('0xaa816832126f6ef2fb09ff6a52f69f6c59c34d44'),LOWER('0xaa8c8a728768290e75d7897cf4014558178dea8e'),LOWER('0xaa9a3078574562c101fc5e26b3c60012e4df3f83'),LOWER('0xaabfa2f7230ce498800c1cb5c31797fd5839a72a'),LOWER('0xaac762b187be05ee4ef0afc5ef342be6d63bbacc'),LOWER('0xaace0b00d16dbacfc8e79d189b67f886d347e2ed'),LOWER('0xaada41604cad62d44e51ef847bd039db82dfcb69'),LOWER('0xaafcefdbdb81b6002126194802e44c355a4e0e93'),LOWER('0xab06b2a6b4ac245268943e3c37c6d359f6f18617'),LOWER('0xab243ad98d3d59e6efea6bdadde1ace029f822f0'),LOWER('0xab387c92b38d1aacbe5e0d0af0e72821cd02cfa3'),LOWER('0xab4a3cf640d63fde8217f4b1db90813561fa682a'),LOWER('0xab4f075792c261382db2df981c95b668f16e30b9'),LOWER('0xab5c66752a9e8167967685f1450532fb96d5d24f'),LOWER('0xab9614f136f58d90423bb738293a4d8bd6745e08'),LOWER('0xabb0e03bc5d33a4df07badcc91560e7367109f72'),LOWER('0xabb9b25cd11ebda0b7cd4f5558202efccae72e99'),LOWER('0xabd14c080792ddf814f7e377066cc122864c9575'),LOWER('0xabd4c213882c0eda359121da46d7cfeb7d896af9'),LOWER('0xabd5ee47a66cacd27941d54be593f5c846017965'),LOWER('0xabed17272a356b46a62add04dd9f6183ffe351f3'),LOWER('0xabef50ffa962c8b6911d86202a6c80c08983fce8'),LOWER('0xabfd1ffffd163a449b3119d1b9bbefbcae04ba27'),LOWER('0xac248284fe0f141429067d6e9806a58072528c21'),LOWER('0xac27a1fc083f8fe958ca36fa9a0426ac8c3a1b38'),LOWER('0xac3292de538d0179d0b153059f855028808b9c79'),LOWER('0xac34457d13cd6bd41be54ef3644e5be9ffe683e4'),LOWER('0xac38be298b75c7c082869461aae824bb9397244d'),LOWER('0xac3d92ad897b9a3ceaf2117938864c6e7206fa05'),LOWER('0xac634bacc1576eda66c710b6a5e42de3517d932e'),LOWER('0xac76e6bf0924e2426eba7edc05d751e8e4b5f6b9'),LOWER('0xac85aa10103491c8f0add4c3780f351ba1c00dad'),LOWER('0xac86858dbf417abf06d23ce1ce73748be8932192'),LOWER('0xac8873e087956de2b61e8b6b2b3d96cf78f14e29'),LOWER('0xaccc07936c70c86ea6338652013a9cb9f41423da'),LOWER('0xacdca5232ce1e1341dc9ab78971ab97a0008c23b'),LOWER('0xacf6151264646be138d0f1e2b25e9a214925b023'),LOWER('0xad1d85c673476c83b6249b7de6dfc51db6f1fc2c'),LOWER('0xad1db189072b0abefa484ce22c84076d3dc3581d'),LOWER('0xad201e82ab31433e18a16b274a384e2891bff06e'),LOWER('0xad268606cec97ef0fa77f74ddbebdcebbbd8d7c4'),LOWER('0xad31a775714ca63db62481839cdb38e40bf4530e'),LOWER('0xad343048c406d46aba6ef7f12fc6b413118ae26f'),LOWER('0xad44438923400ce0b520882a796c8d086305e7fc'),LOWER('0xad49dcd1eb124660b897e7123bc153f8a76975ab'),LOWER('0xad4d1f8a3b9bd1707cf917a31ebc395c767b9c36'),LOWER('0xad67360a3cdccf027426f812d3d0580da123eef0'),LOWER('0xad6859bfe880f46a4673fd8fa8e8808f77fcde11'),LOWER('0xad6f20a51fb0b3b823f69ed03bcd5a4e27cd3174'),LOWER('0xad70ed0d377439abe741ca39804d4f1479bf9398'),LOWER('0xad71f5aab3ffddd80e8dda885adce77fd6d5c77d'),LOWER('0xad9f0f8c3fcad913561f61eeab53666ef2326ed4'),LOWER('0xadb728172ddbaf0b3a8b87aeb5cbd3141d50f3e3'),LOWER('0xadf670ad258b4baa61590365f5bd888ccd466476'),LOWER('0xae0d56da41765c64d29a3dac984ed1d98964de9c'),LOWER('0xae100ff6d56467017da61f4a572bcb637ed95b3e'),LOWER('0xae256cd2d13353e549d09aea8d4105c8d1cc09d8'),LOWER('0xae6232e9222c518e75aca730199cd2a41a2ea539'),LOWER('0xae87eb6c951b47e7b399487d0da144ce2d0de26b'),LOWER('0xae98492ea3311866d7f623535c7f88719dfe7562'),LOWER('0xaea59eac2dc43ed17057f45d519b436d49ca228f'),LOWER('0xaeea77289fca9f1f3c06ddb8063c9cedb33563f3'),LOWER('0xaeefdc47cd18f933e6252e32c17584bd580b64d8'),LOWER('0xaef12c4e7dd435eeea388b38832cc678fa5c1c06'),LOWER('0xaef27ca13957ee551a3e2279663f3c36442cc7f5'),LOWER('0xaef2c9af1cff9076b41667ac2a9f906954f0bff8'),LOWER('0xaf077e0c5d0af1101fa9d3ef0f3991ea355fc6ec'),LOWER('0xaf087b4b8293660e1dc02c6bdbd666d6ae36b5c9'),LOWER('0xaf159d0e0946a2a13b7a58acb425741354ab7933'),LOWER('0xaf30f4877dd6978db236425c8c4dfdcd089ddff7'),LOWER('0xaf4a20996f39c1d06ed9dd9042732e562127c74c'),LOWER('0xaf4acad31ab3440ea607a39c8508f187e7da21ce'),LOWER('0xaf5d54a44d4fda48c2dc2479dae22fb73e0fb611'),LOWER('0xaf7e7db6d3ea4a0960037a6e2bb91defec743f31'),LOWER('0xaf806997a51a29ad14905e322d81154ba81aaa04'),LOWER('0xaf883361979cee279e154416300d3f5a8ad5b4c0'),LOWER('0xafc592f54d3a0290e6e8caeabcd268718132be19'),LOWER('0xafdb8b28a5e962bcd714fc306c81e2d5345f12dc'),LOWER('0xafee4ab17ea57209f2d0267e5f82d70b092b157f'),LOWER('0xaff9bd46b1369a124bc329a70f9e808b8c569c36'),LOWER('0xaffaa825760a11af4367e9917827baf3d190d25c'),LOWER('0xb00015df432eacded9d29933ea877a81e00a96df'),LOWER('0xb00218433ae089e91ceb0f093c9d1de03f02f98d'),LOWER('0xb008d10153b590ecd37050aa5117effba61d52e0'),LOWER('0xb01cb49fe0d6d6e47edf3a072d15dfe73155331c'),LOWER('0xb020618139f6ed8aba1bba21a567a6c8d5ce0009'),LOWER('0xb03ae245b2bb3526fdb511954b3775f11db12458'),LOWER('0xb0417b6858a683456f18fd781f46f530774ab2e6'),LOWER('0xb04c0eb29c72cebc467b9d4944d29116fa02c44a'),LOWER('0xb073cdd8a0dcaa426f54a39e2737da95a44737b1'),LOWER('0xb07e567ddd748ea8fefd83613b2fe131cf6d7c58'),LOWER('0xb0862fec7cf5eff7f1aed1b16ac03a87f8727631'),LOWER('0xb08f95dbc639621dbaf48a472ae8fce0f6f56a6e'),LOWER('0xb0baa65689611c9d04bb5ed2732d8b9970583360'),LOWER('0xb0bd0548f3453544473af4bf9c600b439b7ec0c8'),LOWER('0xb0be4dff5e9c291404ec99613294964e005bf5aa'),LOWER('0xb0e3e678fd6b6a8e9c82ab1cd6a794f8ec90be94'),LOWER('0xb0e5fca26530bf1df65cde4d2f90ebb0a9d9cd80'),LOWER('0xb0fad1cc39df481c2f17c5375f313e19ffdab02e'),LOWER('0xb11269f9768a60941ac42ec046424ad891147330'),LOWER('0xb1876c5a4255b0d91a5bad25f4943e0a43d502ea'),LOWER('0xb1b86cc078870a9c0f998f7c24dc27ac3dd46cf1'),LOWER('0xb1c57bc41c7e7bea36845040981c25c12e76cc91'),LOWER('0xb1cbe9fe1a63cfbd074cbb64730ed505a4cbb414'),LOWER('0xb1eae46a5ed3e7553adce7b378ac17840c93f56b'),LOWER('0xb1f3d676a5d1ef83e986d537f3bfb11ee93f0791'),LOWER('0xb20bf0ab09b25d37971a3ab71136e83980de5676'),LOWER('0xb230c58e159a910700302dde053ab3a0966b8dac'),LOWER('0xb260f5d77d37a668ab85c08930be0a01dbc9c53d'),LOWER('0xb271b3975773672ddd320098463dff814450f4de'),LOWER('0xb2782fd5a3d55d83255217d941b0b0e082048ba9'),LOWER('0xb27fb4eef88ee06768c12e67d409f1c2d7fe3ec9'),LOWER('0xb2806e93ddc2fffdcc513180a2a550eb4a767e72'),LOWER('0xb283969ecf3d7fcff2ac080d304cc4bc30106099'),LOWER('0xb2930b35844a230f00e51431acae96fe543a0347'),LOWER('0xb295f54ada59a2d41033cb019d10314e49b1ab69'),LOWER('0xb29b49e654a551d0dd9911f81f4c90470632205f'),LOWER('0xb2a63b9002e74b5625763e089a9bc777f26c9978'),LOWER('0xb2a812bac959c26c815533a364749fce2e18f4ee'),LOWER('0xb2aedee35cfaf706b431250cb5a32f67383c9194'),LOWER('0xb2ca6ed9a7dde4930e5dc96a64fe68421e2c4f3d'),LOWER('0xb2cee0977bbb0446b358e0cb3de69e10edc5eda3'),LOWER('0xb2e1eddfdb1e931505214c10a205741adc70b5a3'),LOWER('0xb2ea8c15f54185ff0b02b0391a6fb798ec90704a'),LOWER('0xb2ed304daf650d94d0f53fda6379241985717e36'),LOWER('0xb2efd9a6eb96f10fdaf4e93eaaad611f61cc3313'),LOWER('0xb2f88c42f72b9fc618105b537599dc344040cfca'),LOWER('0xb2f92f6e1d810046340b5fb0adb6c920a9b297ef'),LOWER('0xb2ff730b8f3f16592a28ac0b8774ff5eb7e30564'),LOWER('0xb3040df19c7e6f2d81875e3466c50a8153b65eb6'),LOWER('0xb305acb336af101039c2a63bd3e6de05d72303a0'),LOWER('0xb3092bd0906ad83f59f2b2aa766ba62e15a1ef9a'),LOWER('0xb350840a63d04122fe0b27cfb6173aa86e89f988'),LOWER('0xb3aaaae47070264f3595c5032ee94b620a583a39'),LOWER('0xb3dcb42f206974adc0a3d615e68a6432e50ecef8'),LOWER('0xb3e0d4d8d0cc15b8dbcef1e9512d1d4504738663'),LOWER('0xb3e2322b7507f47a55019c2eaaa1e954be99fd9c'),LOWER('0xb3ff1b34bd9b8a5defc2fbea5422bd28ac3424c3'),LOWER('0xb4016677b85d8af992e8f2a11f3f8b9530f7ac19'),LOWER('0xb41a0d3b80c127bcc8785c144f1dc511f9e314ac'),LOWER('0xb423e4f7b985e885c1ae3221e189205be13a5edf'),LOWER('0xb437a659eed5d79a0ed69bfe1b761d67b71faf34'),LOWER('0xb43c5507031da3821fb58333571532c42eb8f7e5'),LOWER('0xb43e2382d875e4b48ab53b600da8a6955dd616bc'),LOWER('0xb4432344a9a4a81ea6114d34ada77dcb655c7d07'),LOWER('0xb44ac514588be99870220d12120815bc3d349507'),LOWER('0xb45f176fc3a8665ad27b266adef7939153fc8269'),LOWER('0xb4620aa27d3b97374097b55b943b31d4c31afd75'),LOWER('0xb47116c96385ae3796d8bc25629b662d6df58746'),LOWER('0xb47348cf3a1c3ffa6a498c4c3e56306adb03d384'),LOWER('0xb47d3ecefa4fd40532e3525112c0a25d83eeddf0'),LOWER('0xb4946cab2488744dbfab144e45a84b84ad0c27ce'),LOWER('0xb4a2f0ec7b32b371a8a030f5cc54ba00f392f4ca'),LOWER('0xb4aa0e74cada25d161ffdffc6932030ef3c95f65'),LOWER('0xb4bfb6b5e2efc2f9261bb699c546513495a0ae58'),LOWER('0xb4d0157329ffec6d327cd145688f280a4aa1c974'),LOWER('0xb4da2ab44e2f418f3d5027e602e409ad9113c6bf'),LOWER('0xb4e43d9aeee9ba0d4dd2c0b1b2f16a39259fe76c'),LOWER('0xb4fae6c9cb32cf56247cfb2219955d9f8e2fcd3d'),LOWER('0xb5090d3b8f912ea635d95aafe9ae2be6f25af5b8'),LOWER('0xb51a5a03b1c334263c7a611ac77536a3e745dd0d'),LOWER('0xb524139ecd183183cded143aedb6422b1a1733b6'),LOWER('0xb52d1d3fa331c1d568028a5438e1ea20d69442dc'),LOWER('0xb5372347769f0cb8743151573c0af9f4564269c4'),LOWER('0xb53b0255895c4f9e3a185e484e5b674bccfbc076'),LOWER('0xb552d6dc3d96e78ae82457bc2b0fe92752213781'),LOWER('0xb561a03449113cb60d9cf4e00d128b4e5dff927f'),LOWER('0xb567cc95f3a4f0f059bdfae7516c9060da7127dd'),LOWER('0xb56dc78fa662d6f081b3a7e885fc98fa622e4133'),LOWER('0xb5759de539114751ca6db8d967ad21913df25ecf'),LOWER('0xb58c9799888fe30d02593bae5064cdfc8e6cb862'),LOWER('0xb59ff25fb7b58dde02e4b2eb2e0a7f5482472cbe'),LOWER('0xb5a2d4ce4ef6f6643cb954211f02c5a6d11fdd4c'),LOWER('0xb5d85cbf7cb3ee0d56b3bb207d5fc4b82f43f511'),LOWER('0xb62ccab125ba95bd8ed8d52f245b95272fda73d7'),LOWER('0xb63010b800459b5ca5c988f459637c7b9e76934c'),LOWER('0xb63b6f640e7866e4c7b8d547f6e810e2424015c5'),LOWER('0xb63fc928a5a1815a7098e6c5b55248442ecd8bef'),LOWER('0xb6654e858846d765d7f5247c1d8fe1317309d7b1'),LOWER('0xb67f5c362edef92a60db5bdcfe77421000e5ccdb'),LOWER('0xb68b047454c7ec762e106bdcc2c4af5eb17b744d'),LOWER('0xb69d754860a5bc9818212de7bbc87bc2629d36ba'),LOWER('0xb6ba1931e4e74fd080587688f6db10e830f810d5'),LOWER('0xb6bdf3905ecc4b5cb094c57460ee58c00f0c2b9e'),LOWER('0xb6c6b71313148dfd9f878684d975099b82dd6b81'),LOWER('0xb6c8cabc2150083261d541a3011a658a36ca55b9'),LOWER('0xb6e34a8a93031a24c264be59d0bac00bcaef9051'),LOWER('0xb6f59428a0a4fca43af09b4d75ed3568c5518bad'),LOWER('0xb6fe49bb7d15ba9174b71b4531d89dd13924d673'),LOWER('0xb70195e3287f8aa0efd879d37fbb7341031152f5'),LOWER('0xb71cf67175faa4e2fd529feb3ce7ce08d150e8e0'),LOWER('0xb739d0895772dbb71a89a3754a160269068f0d45'),LOWER('0xb73a9ae7d876d023ab9ed0fb85fb0d8a80fd48d5'),LOWER('0xb73c63f9016aac3292fcafc79e3e87e0590d47ef'),LOWER('0xb73d3aaad376ddba8a7b291c51c97df3eeb8003a'),LOWER('0xb74c70e1ebc05a201a98ad95466d58c727d0fab9'),LOWER('0xb74f72708ab9a02643fcfe36e783a82d1f76f314'),LOWER('0xb75d08b1bc49f4e2b0e27c7f77aac9bd49333d29'),LOWER('0xb76a1a6956c52213107f5eb765c4fb8da870804b'),LOWER('0xb77ae8b6f1681c1859aed2a3b9abfa4c1a359118'),LOWER('0xb77c64a1fd89d57e0f26e1a5c0a4d5934ad84350'),LOWER('0xb7a51c4fb17aed4cc4fab8fb44f0b40ebad3380c'),LOWER('0xb7ae938639cdb58376dbbb3a7bdb6ccfbfcc5612'),LOWER('0xb7c437a87a6b6e32c961e9529d6e3cbd2e66c593'),LOWER('0xb7dbf68c222c8662630aabf253e6a8b1e7f91c4f'),LOWER('0xb801631c9bb259e1b947081a4d04b7d57a1e2b39'),LOWER('0xb8065e9e8f99e56ff0cb1786de01d94f24472def'),LOWER('0xb817c854793d34d5ad60b81c12de773b32d91aa4'),LOWER('0xb828ea4484b417863fdefabf9875876ad0f8caf7'),LOWER('0xb836a85ed5395b17d34f2dfdd788d0552a83c4e4'),LOWER('0xb840ee91a9d52fc6cfcad18e620140162a3f7c78'),LOWER('0xb84f2022a67ea830b40d897742c4e731ffe9bfee'),LOWER('0xb85d49a4d3ad1e9bd470aa52823c742a7d954c5e'),LOWER('0xb8668ed749a138b81565a9542914f20cd8e18be9'),LOWER('0xb881152f9eee29fb1b48c3d1e7c811e3aba2d333'),LOWER('0xb8890c0ff4bc505d5acf1ff1ef7bf2638e398775'),LOWER('0xb89b0cbfa12b0cb8ba0c8c81e2888ad7aaad8911'),LOWER('0xb8a20703f11c5ceab00e10dbdba460320c3de3ce'),LOWER('0xb8a40a5aaacc8be33a6f3f61ec920d7143d23e59'),LOWER('0xb8b48b6edd1e159f163bc704221a41994e6b6968'),LOWER('0xb8ba36e591facee901ffd3d5d82df491551ad7ef'),LOWER('0xb8bd72ed01e102a9d00446a159f747b5d44c5a1f'),LOWER('0xb8c04c44f59cff3dddac1573c0b603158d9cfc1f'),LOWER('0xb8e4757fffba3d5cc6d784db42204709f40fe460'),LOWER('0xb8e75b5723e9138eab5a615fb9a11b0c333de4ad'),LOWER('0xb8ed0f3020696e4fa43ca75dc6195862fdc788fa'),LOWER('0xb8ef658827e3de9eb539384af5e7afb41d7e4617'),LOWER('0xb908edf231f814c1fb036647d3b67243e2aae329'),LOWER('0xb90d0d43ee4631dc623638599dda07419f01618b'),LOWER('0xb91071c4c59122609f41e2f2f3369120b15cf443'),LOWER('0xb91e8c6d109802965af67950ec13d7bae8495408'),LOWER('0xb9344fa4a0b21e572534c3e3c2923d9b39060ad8'),LOWER('0xb94b4220265419cd8279706b23df25036862d1f8'),LOWER('0xb96b814d6412add2dca38f83dac60b90607aa1c0'),LOWER('0xb9850833513983c59639008ee7b1e301ebc34081'),LOWER('0xb986e6b0f4564d49aeb40762fb801887d35a13e2'),LOWER('0xb9b384624234ca2142cc8c1e7db8e27d7ae1720f'),LOWER('0xb9b93bf2db3678b010e71ef701d763aee144e93e'),LOWER('0xb9c764114c5619a95d7f232594e3b8dddf95b9cf'),LOWER('0xb9cf21443760630067318965ebc2494f19277590'),LOWER('0xb9e27d21a3321309ba9097220607edaab06eecf8'),LOWER('0xb9ee1e551f538a464e8f8c41e9904498505b49b0'),LOWER('0xb9f987edf468d7da5abc6d14bc9e98c9c0c39195'),LOWER('0xba01a3edf3d250bcb764f2cbb195f11747c63fe3'),LOWER('0xba042dc7ab26e53eb1c329a34d042f9226c5592b'),LOWER('0xba0e13b23b2d5fd5cb80544a34345fd370151179'),LOWER('0xba17342776446fa2b94ffdc3704996dbe1545f4c'),LOWER('0xba17a734fbbd0e96a0f10723b501c3b0249ccba0'),LOWER('0xba1d51bad8ffa11aad624f6b9fdcbbadbfb81a8c'),LOWER('0xba364eb83a23330d1d0b75eed798e391297a2990'),LOWER('0xba37605d1b529e0f3a05946cb115d10b31f2ae22'),LOWER('0xba4002e5018a89d66f5fd19278f85f48beb54a5c'),LOWER('0xba47a8098636cb62c22948a74a8622ebb6313db7'),LOWER('0xba4b448e1987b744920aea4de65558c122bc0929'),LOWER('0xba4cd55471ff7254042d88bc2a3ee740def0a5cd'),LOWER('0xba55a4ff5e6b79d66a410aeb82f7e9c48e53a7bd'),LOWER('0xba61a4766c7eaa73f10a12f0cb319f62828779b3'),LOWER('0xba8d0d5a9a960be2c2cbab805d3d1b01b3387d75'),LOWER('0xba91a9a95190ddf8207392c793cbce7f6e69d55b'),LOWER('0xba91ce209a20b6dc1208dc349bf4489f388ac74a'),LOWER('0xba9b01bd3a31c6feea5b7e1b1806b21784ca0a95'),LOWER('0xbac0ef76e7b9209c7f4d8c7e881c15c865179337'),LOWER('0xbadf281dcab2a56ab68bcf2aff9f33b0f70c4732'),LOWER('0xbaed383ede0e5d9d72430661f3285daa77e9439f'),LOWER('0xbaf9aeab649522b04d45b52894623e5bf85c44e6'),LOWER('0xbb0244016a4dcb20c499b50e740083cfbb6c2f78'),LOWER('0xbb048719d0f7452e11b8e986dd1deb57e7ad6438'),LOWER('0xbb105578857581b31e405b932be2220db337f890'),LOWER('0xbb2fc0eb01d21da9d272d028d6cc9fe8570f46ad'),LOWER('0xbb47b4aafd00a42b5a128971e790b9bd6d4ff249'),LOWER('0xbb5142a7ca74adf073d74ceaf4609fa8ca4310f9'),LOWER('0xbb5ba4ef8780077318036c745f0ecffe169095ec'),LOWER('0xbb5bd958bfdd217283b4723b63186069c27d5f9c'),LOWER('0xbb811c2c6f5e1a20d344131c18440a3b939df41e'),LOWER('0xbba40d4f2971d17ac7e8cb396ad07734d6edf2c9'),LOWER('0xbba5eeb82eee7a33597573229e85329920135142'),LOWER('0xbbabbcf61d2e565ad0f08c72cecfd8d6b1508e96'),LOWER('0xbbac64558ff5a9775556cdf3df7670e4548b6ecf'),LOWER('0xbbaf4c45b13f167754cc28b33a251a7694b7e458'),LOWER('0xbbba1983859ac05cacc453a6ae9a12ce83735b6d'),LOWER('0xbbbe69c697db0214624229c5e9196e2df8a008a9'),LOWER('0xbbd4389fe7e53165174ebf42aa3560754e2cbd32'),LOWER('0xbbd47953cf14513590440208b6338f231f72d871'),LOWER('0xbbddf2cb786ad95ea5f32b710f56ff41928099ee'),LOWER('0xbbe160d6e76f63d51e6b026353c9dfbe2b149869'),LOWER('0xbbe74d626ca3d2c0e61eba7ff6f535d378294ad0'),LOWER('0xbbf5c9682476fe4e9f7077c0f667d191b7eafa03'),LOWER('0xbc0e77c141e7a7bbaad06a2a928264f2f9b603ee'),LOWER('0xbc0f8c9d11141ddfc4e7e9a6af7e543befb5b97b'),LOWER('0xbc16c35c3ed2f972d927b7dc0fe8d965fecafbc5'),LOWER('0xbc1d2426ee23d35713f52fc93106853489e4cdc9'),LOWER('0xbc1d3b5eccc3e3d145be9a7b5e054e68e8906e2d'),LOWER('0xbc20ece21813f06044d67b282f8aad3f21b3460b'),LOWER('0xbc26e27974aebb5dab4bf32c48b20a1c784f724e'),LOWER('0xbc4940e28e717c77fca453b5c94aa9f53fb8fe06'),LOWER('0xbc4d7cd2d146426178e0de1cc25c985f64406eb9'),LOWER('0xbc809d59be9aaf65ad35fafbf3f34af04a063f75'),LOWER('0xbc9ac2a0b7d165e4ab0c1bab0878eba229023f92'),LOWER('0xbcbb80d25cc70160392866600df3ed06ea732b27'),LOWER('0xbcc299d0feb89e6903ff1a7ed5a37427386fc88e'),LOWER('0xbcc306cff05cd3a24286591bfc98efb443144a90'),LOWER('0xbcdd7dca27b8571f6de69a67b5748a05d1b45ab2'),LOWER('0xbceaf818bfb9455b33114c5c9b48ff9ed12cfd58'),LOWER('0xbd36ff665a617e35007ac93df7943b5f50ddbe86'),LOWER('0xbd40733a2f223ff32195a759a81df25e35dd4dea'),LOWER('0xbd500057b730122c7fddffebbb28a591b54489eb'),LOWER('0xbd6dbee69e43caec12c76bbe805750760cc70b0e'),LOWER('0xbd75dbfdafd5ddc0962a53251bd18792cab7b2d7'),LOWER('0xbd81ffb9d2940defed4acfe9d06ab2d2da4c6516'),LOWER('0xbd8ba7a166074cf41a375b54109e12103d6aff25'),LOWER('0xbdab5bfa77c80b9d1a32a2e92156822fb7f17c10'),LOWER('0xbdacfece097aac573ff11e4310410883159a74f6'),LOWER('0xbdadedf8b23a01c7e782eb3ef00f44861a1088e1'),LOWER('0xbdaf75403911529905bf09948606b4c3431fc115'),LOWER('0xbdb4fb218728e903686eae63b0778d830dad282f'),LOWER('0xbdb52ab6b18f46f77357783686f3c6c7efe17148'),LOWER('0xbdc2c3326873fceb5a1af95fd5f87807d2d93e33'),LOWER('0xbdcca44fb967b102928ff1a4726f73a7dc856898'),LOWER('0xbdd5dd5420d72a3f589bea782797d2ac58ff71ce'),LOWER('0xbddf0987e8629077f0c39c0d42fc2be7aaa4c8e8'),LOWER('0xbde75aa2e00a5e9f5e7f077420c5e370357af3e6'),LOWER('0xbdf44cc1d5f34df9b58627641f90fead43264490'),LOWER('0xbdf6c53a8ccc78a8a9800d3a9d6ddfb33e75497c'),LOWER('0xbe00263b04dfddb37df887063dc9eeb44878eb10'),LOWER('0xbe023795578f18b302a2570aa48d09f66a439b93'),LOWER('0xbe041627ccd7d454a32d69e5aa314e7226504c65'),LOWER('0xbe14591a415450b233a3e945604abb2df5534265'),LOWER('0xbe1557632986845109c9e97f9245226f27385b0e'),LOWER('0xbe1bd91b57ce069ce85ec5304cf9d206a3be85df'),LOWER('0xbe2fd46639eae548552aa79b1245d65718cb89d9'),LOWER('0xbe4c4f5cc86d925da75199e1217316f822296e0e'),LOWER('0xbe4f8b5b1957535587d52800222ce599663c5836'),LOWER('0xbe5afc63dc7b7dcd95631d6e37bbe44e9672a9df'),LOWER('0xbe6c2e68604b8b7d4fed70fec0393a42b6ae1ec4'),LOWER('0xbe7246616aaf01477d0561bc3d25f32da9237a6b'),LOWER('0xbe7aeb26288fda47aa895624b31946178fbe5c0c'),LOWER('0xbe8fea1e191ba94d98a5c321384ac6adb1c13463'),LOWER('0xbe918d74bd4e021773fdb1e5ddc55e599349fee6'),LOWER('0xbe94f7f325c5af8dd1f7c137d6a788d9b999b5bb'),LOWER('0xbe9c03eb55699a1e47e3c17b115fd15ea26ee9a4'),LOWER('0xbec16539d77067976b8c807148b2c36ed9731fde'),LOWER('0xbecba38ad08ce3e9096cec0f329d9bfc8dbc9b2d'),LOWER('0xbee59b75f6bf4821da154ad78ebe3fbb157f7f52'),LOWER('0xbef9455925974fb429e41fda9855317ae0def2e5'),LOWER('0xbf0c248f7e37ae3459b9bc9535dce5fbdf0372a8'),LOWER('0xbf0c7ebaedf9dcaefa5c583a0329129dd6e1a0d7'),LOWER('0xbf2be91a9fffd14e754ceb05052631752cefdd21'),LOWER('0xbf3ee6ba46df7cf4eb9b7c138f6ab9ad5f26a94d'),LOWER('0xbf4ba3f5a1e929d6d4836331a92b966a11a09952'),LOWER('0xbf4e827cae9c7f7b4b4a80127654b819d514223e'),LOWER('0xbf62319147a6fb8dcb9bd907b890195be6929222'),LOWER('0xbf6a43fba7b7e81791a50165b4778cb1c25c792a'),LOWER('0xbf6fb63ee325b15e3be59e5c281d7e834136cf8a'),LOWER('0xbf7a21a96fc14e5777b44b44230a999b952e9beb'),LOWER('0xbf886208613921d17fa942336a33f5528ea30de9'),LOWER('0xbf94f0ac752c739f623c463b5210a7fb2cbb420b'),LOWER('0xbf9a4b2d11e0ac2667744adf8a0300315d5e3ace'),LOWER('0xbfacdcd975a71bdde072acd5a61fad2bd9f908aa'),LOWER('0xbfc14bc52915477eb552ca93ac53589480f3b149'),LOWER('0xbfd457de4cbc3b930b34a893cc0463dc095c6d90'),LOWER('0xbfdbe0658a6b68b87fba5f7fc868fbc75d2b2fed'),LOWER('0xbfe22f99eb5ecf001449c6cd615a00e55d67bcab'),LOWER('0xbfe80da880b4519ae78f5082e43921fd5df96879'),LOWER('0xbff6aef93d289e6b706f67994224fa83523abb37'),LOWER('0xbffea9940d67ace3aa0e2bef95579fa488fede46'),LOWER('0xc005697b02700750624f291ce48b93bb56faf80a'),LOWER('0xc00bbc6855054ecacc8d2c5cb44a0ff5de9cfd2f'),LOWER('0xc01d7be81bd5f8955f5466698e7af739fb1b256e'),LOWER('0xc02032c4749be4b8967c6ec59010dd68c883e8c8'),LOWER('0xc025be4229a46b3cfa074a038da2e5b2ef21fa06'),LOWER('0xc039d0b129e36e6b5396588a9b71fc083c0747aa'),LOWER('0xc050cc9db67e9acf087a95bd3fcab510f055f9e3'),LOWER('0xc05ce66c818ac63a92310356e6183873102fc0c6'),LOWER('0xc05ed3743d87bee34b76792d28347478015d7754'),LOWER('0xc07c999149d55e3d4877fee85b0a2f43f48b3a79'),LOWER('0xc08656d7c7511739c7971dd6948948f910982eb1'),LOWER('0xc098b2a3aa256d2140208c3de6543aaef5cd3a94'),LOWER('0xc0e1ec779f10adac42743a975936ab7acc12f3ef'),LOWER('0xc0f8d2b3b34c6e1ca477a7b443c091c2d77e1ab8'),LOWER('0xc10ba7e8621caceaf9903c7da2e80716f085c165'),LOWER('0xc10d072e26fd504e7076e34f0076ddbe36f41471'),LOWER('0xc115e82ac1d4f9d6d7d8c9ee1638ec37584c463d'),LOWER('0xc13456a34305e9265e907f70f76b1ba6e2055c8b'),LOWER('0xc13a87936305f9a250c35f4eee759f26eefbfdb8'),LOWER('0xc1541785e2f50fe7806e089175e2b171ed46ff44'),LOWER('0xc16dfe34d78246ae49f4098630cfbc90c78df161'),LOWER('0xc17aac22f0dfc7842172433c4870649e75c7bb69'),LOWER('0xc189ecf6ce5a2d50cf36fc07e8dc62fa16561a7d'),LOWER('0xc19eed85bf6eb103b41639f08b5d41212710db9f'),LOWER('0xc19f20d0b50b0ebe04366fc7661e3bc491cd7d5f'),LOWER('0xc1a0453cd6aa8e68e8aac8cd10c35385c5d6c7ca'),LOWER('0xc1abd7c888e6911495978aaeb5c60f89f5f08456'),LOWER('0xc1b16eefe9f6f1aab680eb9cd9fee8371dbc3a60'),LOWER('0xc1b45cab34604da75ecd8cd327592a38bcc42eeb'),LOWER('0xc1c01174779c456fedb7495fae0c15b7c7a02d18'),LOWER('0xc1f2e0c19e6105ce6d7afb0a1cebbf6ba6da4fbe'),LOWER('0xc1f85da4e0e5690df8d3076844101a36d1280867'),LOWER('0xc2002599cb2de7aa9ab028069cc032c3f2871f1f'),LOWER('0xc22ab2bd9e56108e0c53438533f4d2c64e4aa7e2'),LOWER('0xc23c77d6936c3f6b72edb3c39b2bbd2987997eb0'),LOWER('0xc242a07ff36815d55f6b38f897342e52013a6465'),LOWER('0xc24dcc035bbc4d765828b1f3c7d3b784d47364f7'),LOWER('0xc25dc289edce5227cf15d42539824509e826b54d'),LOWER('0xc28e5139c298fb0c0060117825602696ec81e178'),LOWER('0xc2adf44448ca48c8cc4f8a8235a24c1ff0412a58'),LOWER('0xc2bb7b27c560f0a14b344acc396f3fed8d6b13e5'),LOWER('0xc2fa554c96051717aa32930833bac68747112e68'),LOWER('0xc301fefc6e17b9c81a34565b2a85dc5c1fab670e'),LOWER('0xc3067b28db75faf5bc337b49660deeb5525ee780'),LOWER('0xc31bdb28235ed9657f51b588866b8ead6800d565'),LOWER('0xc326d0b67b7ce579dc2c15f399ad1d3e8d61ab4d'),LOWER('0xc38d3fc47a5017fc2d682642d0f8f9f00c2d9d15'),LOWER('0xc3981c4cacc57a412a5eecfdd818111b52eaee86'),LOWER('0xc3999eafc960fd7179d98f951422dadd762621ee'),LOWER('0xc39bdf685f289b1f261ee9b0b1b2bf9eae4c1980'),LOWER('0xc3ae7163a7d3a4327e4f3eb71b47f2a7f41b04d7'),LOWER('0xc3ae71fe59f5133ba180cbbd76536a70dec23d40'),LOWER('0xc3c18827986c176d0efc415661420540c2bf0bbf'),LOWER('0xc3e42ccf9d7f091e628beea4cbdfe9e81179ac26'),LOWER('0xc41156b4115d8018ddbee691c582062b6edffafa'),LOWER('0xc416c26cc1467a130fb6d01221eb790c62b6153e'),LOWER('0xc42cadcda32faff4af8d87af2e913fecc0618f8f'),LOWER('0xc4317ef1b369c55def3107f652c8f2de50ca6709'),LOWER('0xc433aad58c7af965a5ce7a3647286e46d333812b'),LOWER('0xc43894aa69061b5a0b23a4803e916cee07a1eacf'),LOWER('0xc43c0b08e0fb0e6c816f2e5a6602d4de17b2d122'),LOWER('0xc456aa04ec495d4c77dd46588e297f480d3bcf8a'),LOWER('0xc4628f3de19135d96ef4b2b25604ed63fc69df8e'),LOWER('0xc488657549fdbe0a56da9a3a7cb14e465433c9fa'),LOWER('0xc49a331ce7186b1e7294ed3a5a2af1e73b53a921'),LOWER('0xc49a7d4f6db416011530d5a047db26b036c51328'),LOWER('0xc4a00668136e174f79939220997097512b23066d'),LOWER('0xc4b2ce745ce84ff84ed22f56d92a0f647a347eeb'),LOWER('0xc4e06f793dc7d22f379cfd1edf2868b9ded0290b'),LOWER('0xc4f6b15b24b260116af064c04a9faf6023d2c86b'),LOWER('0xc5171b3daaab795b99e3ab3790420fd3365184d0'),LOWER('0xc51a422300dcb1d0b5ed539230e27dc082e7fe99'),LOWER('0xc52f9c234cbb5a84656a82324d2b0d37be23b6d9'),LOWER('0xc545b2e18ba05012f012dd3fe013ce6437cfdc21'),LOWER('0xc548e475bfe99ff3ce388f2266f72e8e82f7e636'),LOWER('0xc563d52c750f57d44649ab69c98dd63d1329ab0d'),LOWER('0xc570f77adb9227bd01fcd11ca9e87d329c4e14f5'),LOWER('0xc5743833308b74f4bfcc961f998f1515a7fd8f5f'),LOWER('0xc57fd5b9f4ff1c3d2fa7df72f909131d3cbffae9'),LOWER('0xc5a2406ce879c01956068c07a6515b2b3d102f34'),LOWER('0xc5ad543cc0aa983c19c335bea36d4b2556ae4db5'),LOWER('0xc5babbf7418a10757d49f830972c0e48342c4d64'),LOWER('0xc5c6b0974b64fe383265630757e51e9b57cd052a'),LOWER('0xc5ca34c2e5a2330c086a49fd631b628aa4e17d6e'),LOWER('0xc6008512aac1b6ee1bfab881720e92b4fa7fcd0c'),LOWER('0xc602dc3fb4a966cd6aed233db2ae4a5e596fcc27'),LOWER('0xc6048949502b636e1e8b311c6c41e084bda1ea32'),LOWER('0xc6092ed5cd6ed0803493d77ae8fb1df528ea5bbb'),LOWER('0xc627cd7b079191e8eb3d3ffd1f6d2c5a320b28f7'),LOWER('0xc631058451c11a11d3799133c6a469c771ab87d8'),LOWER('0xc632900d231d4b9767c2d15cc044d454fb41ac3a'),LOWER('0xc64a11669623260e290a1ffcf02c83b19b5061bd'),LOWER('0xc67136651fda159bea2c31215f05c2978e5088f0'),LOWER('0xc6789158f1104162e088b0b5ccb654a27be376be'),LOWER('0xc68f16a1064bc3e731762f7d56d1a0091d0f738b'),LOWER('0xc6989d7f3b4a328388d3c12e512035d931528a82'),LOWER('0xc6adadda2d5e7a013b7008a1e7c38254013b067e'),LOWER('0xc6b7b0408014900ac9fd688917d996191cad2926'),LOWER('0xc6d7d549940c4524c307a0d3ed71fa65ddcf6191'),LOWER('0xc6dad7cb9f230b1143b014f422d8a3975f201c03'),LOWER('0xc6dd2c0ca4237a6a92a5d17dc566ce198205422b'),LOWER('0xc6df9e57dabc6241d1ba5e458e8037a4b35db715'),LOWER('0xc6eaf98151a2b5c4baf759ce907e0065aa1bf111'),LOWER('0xc6fc6835ce16679c89567c0b33604d1e9a71bf99'),LOWER('0xc70c5475b4a074eb6618da22a69ac550b7141f91'),LOWER('0xc73fd8a867c95e62dd75be1e9d68226fb6797a48'),LOWER('0xc7432b1823b40d719df78df2ef02b72446c3acf2'),LOWER('0xc750e5aa7603ce8a3e02834a433dcf1915312736'),LOWER('0xc765a5adb2bd0deaf5472c3536adee2a1e2fac1a'),LOWER('0xc7699217fef86fff56d532a1865de11d204d3df6'),LOWER('0xc7753a12fcc10090cadcd04ff537807813073e12'),LOWER('0xc77951b6629fe45dc9063c805bff3f8f4c7a2f0a'),LOWER('0xc796766fca9edb4b92f3389f3142e12968cf3911'),LOWER('0xc79b2706158ff2872b4ea74e7fcb56d84194d8c7'),LOWER('0xc7a024df387621e7065a549fd643367b85c8d2aa'),LOWER('0xc7ad6c7ffa4641d15b8e65714f06c4cd296efc15'),LOWER('0xc7b762c33d4811f75800852130260a5a599815a2'),LOWER('0xc7b774adeb29be44d8bd556e294dce36d4aa0f92'),LOWER('0xc7b8137f3e21c845601e2fbad8e2e162d203b6fb'),LOWER('0xc7ce2bf0d26148f8ca5501d22ea98c62bc165fc5'),LOWER('0xc7d6754e25bde9aa3d53726b1073f5e595ff308b'),LOWER('0xc7db0a602ab57223b2be80a9f09b0585eb2866f2'),LOWER('0xc7dca7ff84c47fba35e9f09ce5e1c916f2a75b10'),LOWER('0xc7f924cafaff20502f1b7170c81debdcd86705f3'),LOWER('0xc83dbcbb00b8193bf64e433a3979ee4fc9ee7b04'),LOWER('0xc857e7167fc7a3ac3f45ba8b80c0cbbe6d3c2b21'),LOWER('0xc85b1fd3ac4e1c1964ce772606b67b4a40934601'),LOWER('0xc860b0c3deadee3443076b47d630cba5bb36585d'),LOWER('0xc861f3e7e578485c0e0761d77a8be466e4317945'),LOWER('0xc875845eb7d934d62989ef38779b04889a9f6249'),LOWER('0xc880f2445871b41b3e096718ed223220613ae9ea'),LOWER('0xc888cc48c67a01c9d7350c1dece82ad5c3df8418'),LOWER('0xc88ac5587b19ca9c07dd1f96db6722b3badcb8bb'),LOWER('0xc8a2ff0a0209aa0046236b3c9e78e85374841d47'),LOWER('0xc8a3cdc0e3a5cef3e668b89d15c3d3771246891d'),LOWER('0xc8b1aab063da09a2c75c586d5b3bf26d822e8ce8'),LOWER('0xc8c67febc1052634f920db0df242713f9aedb86e'),LOWER('0xc8e4af798859f05e54ef8b4f2e3ca4ce6ca440a9'),LOWER('0xc8ead785187b816aeaf6387aacb4ec0d826868d7'),LOWER('0xc8f06894f521296b288a35527d9db37e1b02bccc'),LOWER('0xc8f44d2a8fcf7b8a5901c00852f956412258f911'),LOWER('0xc900d89135e46043f860799fd2b0a54f9773a05f'),LOWER('0xc90bfb542e4d570f4e9ff83d0d6766b2ed3a557f'),LOWER('0xc912c32153cee08d32482d88af3ffbc4bdf09d39'),LOWER('0xc91cb8e3079bef7f92e8de6caa2d011e95bdaa1a'),LOWER('0xc927ce53c3c16e7605431d45d8914169740e6b37'),LOWER('0xc930b2e159a67e28500a3847fbc68a1072a1d277'),LOWER('0xc9610be2843f1618edfedd0860dc43551c727061'),LOWER('0xc966cd17547569c1b4a4a2b88017098a67fc32d5'),LOWER('0xc9930c8e4055bd5f4619dc345d142e7b814ff655'),LOWER('0xc9950e671a4100c490036062bb686c885c4b3935'),LOWER('0xc9962aca55bf43e152577d487516d7079f08918c'),LOWER('0xc9a5928c6b6fd10858eccc721582c42e8b2ede59'),LOWER('0xc9c037ba9220b095de19e6c1bed65af450637f94'),LOWER('0xc9c9307b6ccf203ea992eb6e1c77068a348e5f34'),LOWER('0xc9f1ce3d5eb1358d5930cd0e801141baf73c455d'),LOWER('0xc9f8932fd78ea62ed4b01c5727cdd33412f7a3e9'),LOWER('0xca3c069685b053cbee6300ef6d622b1448dce6fb'),LOWER('0xca5502084a800fc1b03ca0943cee78a0716d6ae4'),LOWER('0xca5eb2bf0496f101f02f3aaf57027be3b9ef056e'),LOWER('0xcab4e99b83431e679b116406a5565cd633587cb9'),LOWER('0xcaba98e3ffec97fbf8d57061780548eb3b9e9152'),LOWER('0xcac0f97c8b6b20081d7ae585cf93bbc4151c849f'),LOWER('0xcac725bef4f114f728cbcfd744a731c2a463c3fc'),LOWER('0xcacf219c04365048a29697ef21628dabb0dd45b1'),LOWER('0xcad557ad03774150459d5fb528c48abc8d5d8180'),LOWER('0xcad621da75a66c7a8f4ff86d30a2bf981bfc8fdd'),LOWER('0xcaf3a6bba4eb72b0e6889460a3c7d7a8d5b1b8ff'),LOWER('0xcb0d73cf08e9a8f912732a88c1ad58758c6403ed'),LOWER('0xcb28e64e83b63ecbdbb7d9141ea93c926473f1d4'),LOWER('0xcb3cc201e8ce85370f2af36c74abb5da0ec9e1a3'),LOWER('0xcb46e3c23125fb383388e2b94f50ff8985fe0178'),LOWER('0xcb743db3491912c65cf76296f027843d41cd095b'),LOWER('0xcb8ce4bf15e336b5d6d27922cad312167d96b717'),LOWER('0xcb9ab58297238dc0726e23cc68a106f25182b44c'),LOWER('0xcbb1a8053b8c4bf051688f94ac516ec1684e6cfe'),LOWER('0xcbbe3165bfa0f9fc9eeb8b177e8bdbc90bd5a3aa'),LOWER('0xcbc7d0ff51d37b60ba741bf566496bba53b5eea2'),LOWER('0xcbd20e9a39441166a1e3f45971df14c3c2d87479'),LOWER('0xcbd6832ebc203e49e2b771897067fce3c58575ac'),LOWER('0xcbe416312599816b9f897afc6ddf69c9127bb2d0'),LOWER('0xcbffcb2c38ecd19468d366d392ac0c1dc7f04bb6'),LOWER('0xcc0cb91fa65c5b1f01a751dae428dc4137cb2b45'),LOWER('0xcc6afdfdf1163995c78fc8afc1649fdb0c43898b'),LOWER('0xcc879b5952b9b520cec09b04fa379d6df9ccc17e'),LOWER('0xcc8846f982ae25d75083ff3fb01c82d4777e0959'),LOWER('0xcc8efbf5690592669eb576cf09f9bdaf61bb5a50'),LOWER('0xcc9557f04633d82fb6a1741dcec96986cd8689ae'),LOWER('0xccc33a6ae7fa62fd3e5763745a1a874fea0c27f8'),LOWER('0xcce8d59affdd93be338fc77fa0a298c2cb65da59'),LOWER('0xccefa6cc02eef6334ade9439d539eee9997a9c37'),LOWER('0xccf1e6da41caecaee66515805965f06f0ecd55de'),LOWER('0xcd114ebb9c8eabaa2026160ccae56a6bd4103042'),LOWER('0xcd1caabc8ef8ac7d48a6b2b40585787b36c55b3a'),LOWER('0xcd2bf454d5b5a703bb193b96e6374cb08024fa4b'),LOWER('0xcd33cfb6337032de97b74e1cbbfad835a9a4b9ce'),LOWER('0xcd5eadebc190a07f7720d3dbad5fbe26fc97efdc'),LOWER('0xcd7c45bab1fb0f72b06fd28507dfc2c9ee9a016f'),LOWER('0xcd8b0d8ddd85ea0b7c7d3ded7672a9ac83101a49'),LOWER('0xcdadfe00114fdfb895df3aa24b9fb1f1700cce42'),LOWER('0xcdb1bc12a00a5acdf5c0d490866dada982dc2878'),LOWER('0xcdb23d8046984237540d9d809dce2b6dc8b74987'),LOWER('0xcdc571c6749e5d2229e9f69ec6d45d653ff297c1'),LOWER('0xcdc6bd9bd1136710f3ba10607e6456f35cc2fae0'),LOWER('0xcdd37ada79f589c15bd4f8fd2083dc88e34a2af2'),LOWER('0xcdef4f34e5ceb46c7c55134cda34273349be65b7'),LOWER('0xce01ca3f2a63f547dabffa8116532f4f384fcbbe'),LOWER('0xce293ed4c2dcbba53b24e82439918f3cfba2dfc7'),LOWER('0xce3c7a707c57c58b5b47ef4aab2013326d331acb'),LOWER('0xce5009ce2cf19f1623e156662d73a3d067b6cbf1'),LOWER('0xce76a14dabe64acb8b044c489374c8ca1f456837'),LOWER('0xce80a32f1fd7a1ebbdb9384a5c63792085ecc72d'),LOWER('0xce83dfcd1ae027c514604d85a783b4d5b34d5d39'),LOWER('0xce96a2732efb073b99289e34d32bc4f13644b4b0'),LOWER('0xcea173d61f6dd6a72b12297bdf5bc4000e3f7cff'),LOWER('0xceac4dcd3088a84d30463bea3655bdc2c2a75dc3'),LOWER('0xcec1c1b110279ea11bda55d5a15b2a6a4056c79d'),LOWER('0xcecd2d273b6510e95a14b1432fbf8e0b5e5893b5'),LOWER('0xcedd6ceb89a17ccefd81825591f3ab469ca0ed62'),LOWER('0xceec1f6209610f6868efbb54ffb6fa5d4e90113b'),LOWER('0xcefdb5f635bfc913d12e6eac3738e92b1681bd65'),LOWER('0xcf18395580923b7c7d01330b217f981c252055aa'),LOWER('0xcf277b943648e06a49644da73f6fdfe26d13d939'),LOWER('0xcf4da7c66476e647af81debbfc7dbfc7b240f187'),LOWER('0xcf56cafba8c968a4dbcc83b83cde4a962386e8d7'),LOWER('0xcf576c1d6b7a7ee9ae3a9a235dfa9de0d4b5bfb4'),LOWER('0xcf57f807fd1df8ca54516e829b2da5a754191247'),LOWER('0xcf6eee9d8302a0b7668360d605d645a96f8e30b7'),LOWER('0xcf8f1f82d5939b90d5e7aab528adb7e65de51669'),LOWER('0xcf954e856b8e85a0c6e483368abc01db6417f257'),LOWER('0xcfa2aee66b2b22e371e627a17c58678e542631c3'),LOWER('0xcfc0b2c05f5cefa3618c4bbfcc49826b34f1185a'),LOWER('0xcfe730837bd4917330b18b89ce7035f612d97a49'),LOWER('0xd018538c87232ff95acbce4870629b75640a78e7'),LOWER('0xd01b3ae08463b5159a6194bb55a79a19fc7c4bdd'),LOWER('0xd01ca10ed197a2f59d126bc7ebbbfde2ec164d50'),LOWER('0xd03ed048bf24c98ae45ee0c6c0f76f8066b7caac'),LOWER('0xd03f8262ad8132b056adb405e1a9aff54b462f00'),LOWER('0xd049e48e66d67fb9cdc9f6086e654a593ca18c11'),LOWER('0xd04f613c95f445ffd6cf6994d67be4f3d48abdd6'),LOWER('0xd051fe5b3258ef166adc556675c9aa944b25b4b8'),LOWER('0xd05c1aacfa3871da1223077efb3ecb912e76b3d7'),LOWER('0xd066a9202fca2a81a6a22b41f8793b8137e6aff4'),LOWER('0xd06c350939e90795c63e5bec3c981d7a2c9ed6e7'),LOWER('0xd07259d7405c34341171aba12e26e0f4e17750ff'),LOWER('0xd0788c420418a1e5febbb6c210715f36ca885c1b'),LOWER('0xd07f6cc29fbe74abc7f40d2e9836816a37881e3c'),LOWER('0xd0808da05cc71a9f308d330bc9c5c81bbc26fc59'),LOWER('0xd0b26e6a3b96f1fdfe4091bb1b8d317c6a16024c'),LOWER('0xd0b302185d40dc1a20c374baad82714a7cc278d6'),LOWER('0xd0b74bae747a7756644b1f453577449055693a6c'),LOWER('0xd0bd6d46ad299eee5c632ab4e8d26b0531731c63'),LOWER('0xd0ce9d6b0ff7341309241640fbea3841a7fc3feb'),LOWER('0xd0d55eabc23f2e0adcb26e638b02c4c2379859fd'),LOWER('0xd10ae6a00f03eac1f41e0d6d2ee0521b3c20a5d1'),LOWER('0xd10f73b5a58337c54b7db76a933649e35f9e0e07'),LOWER('0xd12140fd712cb5638549b10f77e97fc4ad3ebb17'),LOWER('0xd14d3ffefea113350fd1017e4456f3fd01bdf67e'),LOWER('0xd161f84e83fbb60f26b6234c97779e24707075b4'),LOWER('0xd163e05ea4bbc39cb83990d1061da0e1b47b8110'),LOWER('0xd16b486dfdf1face86c54ebffbd6d39743b27abb'),LOWER('0xd17ea4b9e8b5b2cccc9272fd4f23939d350048f4'),LOWER('0xd18c214536ecca3a001e18fedb5bcfbd51d6f579'),LOWER('0xd1a50b868ce9749cfcd3229c5df74ee1b0474f0a'),LOWER('0xd1bbdcb2f6a959bd145fa86a300081a3a47b22c8'),LOWER('0xd1d400a1042e440e52817234f553708c005d6763'),LOWER('0xd1d4bf14f3a7ba15511f23fe22d58b4a4af4c9b0'),LOWER('0xd1da77f7c38061d0a4e0d84d69b08f22a2d3d4d6'),LOWER('0xd1dce9c760e2ff28acf21266ce4fcc195244418c'),LOWER('0xd1f287a10bc4b6cf473ce98c4d2a1a177efdfa15'),LOWER('0xd2033db9c5370ac76abd80823b5c5adc097e2fbf'),LOWER('0xd2045aec8f809e58f411a5957cedb2e86fd15f81'),LOWER('0xd2049d4879097bbb2fd4cebbebc0c039909e9863'),LOWER('0xd21ddedfbfc807b490e25959cbb011b17858aef8'),LOWER('0xd21de902fe7ac1acc54dcc1f1bc7dbbf6fe13f0d'),LOWER('0xd2202a70dfe5c12a3d601ce54bd402f63c8c8e9e'),LOWER('0xd224e0cca82a7cdb0425b05f3319e242b2e7fa69'),LOWER('0xd22e3b5b5a9d0f71af9b8377a9c2dcc93b2b638e'),LOWER('0xd237c0ec6295fdb8566cfa3d409ad22972042bdd'),LOWER('0xd24400ae8bfebb18ca49be86258a3c749cf46853'),LOWER('0xd24580568ebfbc5f7a513c6679548030a1729d98'),LOWER('0xd245ac36da768c396fc1b7438740d12fad8b6aa4'),LOWER('0xd26b16f8b08c512768ace14bfed4f311865c8613'),LOWER('0xd26d2ba742acbd358c7d63d1dc1b7642aeff9150'),LOWER('0xd272a20ae26603661be2f629f0d53d775e4d9dd3'),LOWER('0xd273a6d3461cf566e5dbd1ee91e27674de2de5ee'),LOWER('0xd2772cd27e325555a9a45b6f239b8aac9ef96360'),LOWER('0xd27f5c4c9708530b9ec30d535532707cf6a5cae7'),LOWER('0xd28d00dccbe0520c41beddd8f52288b9cc3b6b13'),LOWER('0xd298acc20377a1a120fa8c233f70a427a7db8e2a'),LOWER('0xd2a912a9d8bd3fe2aec5ff2f1df9338c041e78a0'),LOWER('0xd2aa878f0878290d3b997e9441b454137bdb0811'),LOWER('0xd2b904b1cba5436fe504da9afb721ad41be251b7'),LOWER('0xd2d502f7e81b37e4ed0e44859ab2e326d1dd0d07'),LOWER('0xd2df0661ec98f53ac25f1f17a065f9d06bf6d7b1'),LOWER('0xd2e0960736d7a9dfcf890fd4d79551cb68bf112a'),LOWER('0xd2f034933c2748d7683930f5fdab2531be69d06c'),LOWER('0xd319a8760798f493a36cffe375b6c47095d2a285'),LOWER('0xd3254b176ed0735524de9251260bf933c4f64b70'),LOWER('0xd325526ee430a586c2b1db82a9e260c969b01cc2'),LOWER('0xd3273eba07248020bf98a8b560ec1576a612102f'),LOWER('0xd332f90e9eedaee3af94e8f3f71c3e4f2fdbee36'),LOWER('0xd33577609f71eeb9e72b8b077590f50f9cbbce0a'),LOWER('0xd34aed921ab9561885e0e7dbbae637395c5486cd'),LOWER('0xd35146dfbd73cf9edc089f629cb97b2dab0ae44e'),LOWER('0xd36245df0956f8d8fd4a1c91f46c42a9ec007dd7'),LOWER('0xd3661b5276547aea4f4f9af7d431565494c58479'),LOWER('0xd3761e84f595669f33abc37310c4e5aed26cb377'),LOWER('0xd377dcd7bcda8539b34f0deb07f21e75d1441a80'),LOWER('0xd37cf3528530dc2ccf37345b59c6196b93800b36'),LOWER('0xd398b676bd1a825e864358f2b6113da21254dd50'),LOWER('0xd3bd5b0e753ce09d05855a62d76a20117fea44d2'),LOWER('0xd3bdb4cbed85f3a50590f242521345e7803fc241'),LOWER('0xd3d81913cb050c9a0bb29a1c5e096b8e82d102d0'),LOWER('0xd3e14d46ee219ff85174c076ddfbb7f99dd0f9b0'),LOWER('0xd3f4e43085d3cde666627030231c4e67be2970a2'),LOWER('0xd419bd4f05e42b3958f55176a6359772f06399d2'),LOWER('0xd42c2a5cd8cb8f7c699217ed53297faafe475cd0'),LOWER('0xd42e2f4ffed9622e0a0dd4d8e5cc2d7e9ab1c401'),LOWER('0xd4337aff6b2519113cd70d2a02b74fc6b7807ff8'),LOWER('0xd439ae57f712bbc29c5fcd7e13b0260e450455cf'),LOWER('0xd43eea8e73957c7632afe43ee154ad4a79d98181'),LOWER('0xd4414e72dd66e3e0c1be8068f397fe6e8d957ee2'),LOWER('0xd44a40462523d34b12ec015bca420583211c0adc'),LOWER('0xd454ed303748bb5a433388f9508433ba5d507030'),LOWER('0xd45ba76cab3ce5a8698d35a8e40dfd356bb39423'),LOWER('0xd45dacbddb2f06813846f6e3b50a0d3cd2705fd9'),LOWER('0xd4697abc9d91d5a60789b409e881f38e8210009b'),LOWER('0xd469ce76ca266dc2b84b2782a1879e6e0743492d'),LOWER('0xd47705dd4c225ef298ee3dfca4309ebfc97d8f32'),LOWER('0xd47cde9065124b6d7c827665a1b13af976bbb963'),LOWER('0xd48169125e659543e297ac337ecbe9f6dcb1af4a'),LOWER('0xd496281296473c09fef9e3cb847bc81e18c0b116'),LOWER('0xd4a9ffd843b1d5f71a50bc951ce7369f46bb5d17'),LOWER('0xd4bddf5e3d0435d7a6214a0b949c7bb58621f37c'),LOWER('0xd4d274ac2a8db3911a42d551815f394210e426a8'),LOWER('0xd4d6af5b797a2b1e7285505aa881132e4b38d06f'),LOWER('0xd4df35be8da59cceb859a44ac96859e1c2305884'),LOWER('0xd4f3a55975edf35074adf6ee7fb42336dc2d48c8'),LOWER('0xd508c555c8349ae273c1da1fad738e9b66950d4b'),LOWER('0xd5167e97353da553daaef7bcdb9e6b42cc512a90'),LOWER('0xd51cdc3b39df5856213485bfeb814ca6d380476c'),LOWER('0xd51f69c9b32100360d1db4cf9154a6d5dd9f0a12'),LOWER('0xd524dafabefeff3adc021d23783a7fee771833fd'),LOWER('0xd548f5c8a1556eaa87a49fcdb1f8aaef627c1fa8'),LOWER('0xd551234ae421e3bcba99a0da6d736074f22192ff'),LOWER('0xd55e1c53800b5e418ee69ecaf88d61aa77476428'),LOWER('0xd562b54fe276cc0a21e4e4188b6a61d037d8c4bf'),LOWER('0xd57a21b15d513f8e0bf2ac0d88c482775afecb09'),LOWER('0xd5a178986bf7d16733fcfaf5e753aa8454556c70'),LOWER('0xd5a2ac24cc020909751ac99938a351a13d6df4c2'),LOWER('0xd5a6fe6f026d68284d0caa042ca5872c4e367b71'),LOWER('0xd5ae937d021eb1eeb5c5c7a5989dfeb02c15891f'),LOWER('0xd5bfb9e531376c86f41e2aeaee7b0afc89988af0'),LOWER('0xd5ce0720af07a4d31c4b11d85aa6fa3b1c4b3d63'),LOWER('0xd5efb6b9eade6f56dde9d1ba806c338e1cb5a2f6'),LOWER('0xd6038023888747865afc6ed7ee28a4888baaf002'),LOWER('0xd60ecd04293d7ad50dc5d2281123a0f1c0e123f0'),LOWER('0xd62559e4894f9148551770ad43169e2a42ab6707'),LOWER('0xd629db5887561ae5d0933ac5ce6403a6e0070b9c'),LOWER('0xd631a7500c39368f021109f497c4ed85b8a256ea'),LOWER('0xd64ba319a73bfde7293431d8882093050c12a522'),LOWER('0xd679c7d2e1217f5902b7521be89874d85f4f4301'),LOWER('0xd6899008a6f6808be219812c16124359437894ce'),LOWER('0xd6cb6744b7f2da784c5afd6b023d957188522198'),LOWER('0xd6d9ee7c771be68912e66f01ac9592cfd2426ffa'),LOWER('0xd6fb1524237c4cb844ec39f96ebd4ca995e1b8a5'),LOWER('0xd70319236bc1a64c5ae7386c8082dfbaeb4e5a65'),LOWER('0xd713ce690060cd42c5e5e09d5125728fc064d8f0'),LOWER('0xd726d73550c7c99abe8d5a14be14cc20f678ceb0'),LOWER('0xd7335474056572414387d677cd45e7010735bf67'),LOWER('0xd73b83234892cb75f0aa652633026045a104d256'),LOWER('0xd74037051781050d836da7928e19a23ba4697371'),LOWER('0xd746fd7fa4928943a36f3991f5173ed57ccca878'),LOWER('0xd74735dbff79a4db1ba982b0ea99a260575de317'),LOWER('0xd754d248aef964948abb901ebc2221a8842b7f4e'),LOWER('0xd777d251769c55f188a6d871c3281357151fabcd'),LOWER('0xd778555afa02af57f077bd48b1204c5405d28887'),LOWER('0xd79248e9e0f83a30a58fe020fdc4b6bd74af26ea'),LOWER('0xd79e29f97650d2aabe46218e8ac8f546c9729f6e'),LOWER('0xd7a683c13f01fbb2201ef59bb020189bd3d4821c'),LOWER('0xd7a731aebdae763bcc80f3aec07d8ce703f9a46a'),LOWER('0xd7aa5d9a66e861f7eac80ebcad74b902e8f31766'),LOWER('0xd7ae65e7b159fa68ec2141d7bcef800ba92dff52'),LOWER('0xd7b26011e6eb5857a6251da1f77e9f3d8aac4489'),LOWER('0xd7b4b2cb7b41b7e11ddd1adc23b222e9a838ded4'),LOWER('0xd7c54bbe617230ad3ef0edaf1bd2085803f3b170'),LOWER('0xd7c9569959e7b52d94a65bf083581a62861f0e33'),LOWER('0xd7f0cffbf47901940e798ca7589f9d04f1bf579d'),LOWER('0xd7fc24fd1953982d46f99adfa7badf1342498e11'),LOWER('0xd7fcc38aad07cf341249f67e133fd8539df3c99f'),LOWER('0xd810411f86fb8bcbf9cd275582a700dd48709975'),LOWER('0xd816c6d88fbabe4954e3c0bdef07f30b37610dd1'),LOWER('0xd81a68f256985452e82297b43a465de4f2a6fd24'),LOWER('0xd82291413b02f85d4c780c5963096376dd51dc26'),LOWER('0xd8245960b4f3866f96a413def8a3c9e65dca1a9f'),LOWER('0xd833aa94e1e8f28f7120cc6c6f47c1766f54e2e0'),LOWER('0xd856ba21d0dc05961a2c09ad18134f63f76c6d4a'),LOWER('0xd8588390f9c0f7826e170ff0bfcc95e3638eb861'),LOWER('0xd8658d2b9465745a55f2a8353dd4922a66ca2c0c'),LOWER('0xd867f969b58010441a3a3b6e0c9cb9c8ab537ae7'),LOWER('0xd892f1cac31704c0f4fe586d142238e933945be5'),LOWER('0xd89350284c7732163765b23338f2ff27449e0bf5'),LOWER('0xd895c9f04d32f5f5d55b65dc9a1430616db6f46b'),LOWER('0xd897fe50cc3f57ddea02c8c21d5ff3eb03387310'),LOWER('0xd8a864717bc7908df16824690ebbe04e6b7d6396'),LOWER('0xd8c101ee22926c0657e9b0450a493b6da9673707'),LOWER('0xd8c5fe5b05bd905210165cd70383145c1499a9b5'),LOWER('0xd8c967ddab8765295d97de4f65a745cd3f2543e9'),LOWER('0xd8ce0970ccc5f6a48d3e0bdb5a0205bfc4109e17'),LOWER('0xd8f1220a68ffb6dce91ca3c2b4955dfd41e17493'),LOWER('0xd8ff36bd818bcae0278f0904d527206363795082'),LOWER('0xd90bf62ca5bdf1d91863b8d6696a00193cb8bea7'),LOWER('0xd91fcadcb0b820cd6d3e03f7a9ca3ff12d258edc'),LOWER('0xd9312dfc4e146c84b45897278a6ab3af09757995'),LOWER('0xd934e696a9b4e38d64757acd6aeff90242276579'),LOWER('0xd94cf0f08b44790c2b98d9b4e3eb92445372c90f'),LOWER('0xd94e1c5376665a9b18ab93542d38005c36d64790'),LOWER('0xd96adc781076c9d63a4f8c706b765944145ee201'),LOWER('0xd96e09913ee3e3afafe0921e2baf973aac8483d9'),LOWER('0xd98955b87082158681d8b9f58cf1d573c200d71a'),LOWER('0xd99eb044687ddf0e47cf1b5e679e895bd4953da6'),LOWER('0xd9b38150a59ef5a29c9bf245f5b3e5fa97c1f7fe'),LOWER('0xd9ca4316e02e81689acafe30a2eddfb5fca2c271'),LOWER('0xd9d150b1d89ae66ce323c334603cda91360b799e'),LOWER('0xd9d1730a243b5e563b5238dbe4fd81427e6d5a94'),LOWER('0xd9e71f0a04f381699b904f155e2ad33e6128223b'),LOWER('0xd9ea912debc5c51aea67633d67e9bfae5291b20c'),LOWER('0xda06d2c05b51d42ce2d9c0af99f6f74a06d97fbe'),LOWER('0xda07184d75fd82b28456fd6619984259663e05df'),LOWER('0xda1452a577968203eb85bfc2dc1cb21ea11a0faf'),LOWER('0xda17e1ff5b4fca7d74f01f09e348e45e59369fa5'),LOWER('0xda1e4ec45e683dc5b83eb866b52b9455bff736a8'),LOWER('0xda3aceb77c614c9dc8b441f113128753e015a678'),LOWER('0xda573972cb1d4cf5df5ff31afecb8f434f546da4'),LOWER('0xda64ca62b1f40e026fc7b5dc188a4d0241735d5b'),LOWER('0xda8379973ea04cdcbbfb7bdc9de3eeb9fc9c2bfc'),LOWER('0xda92c68565b6f8b4ee5ce619fabd880f6e485604'),LOWER('0xdaaa519c3cc1897f4c0180e6b65af2104eb626d7'),LOWER('0xdaabbb932725cc1b3ca487ee174b59cbd6b0ec98'),LOWER('0xdad0ea827f9e3a03bcf8b53137453ba751ba5ee4'),LOWER('0xdae4d0f8f25409e33eb6d182deec9492ddbbcfb5'),LOWER('0xdaeedaf33ff793c7da2b5cc3e16affa9fe77396e'),LOWER('0xdaff5a0fa659ae22b04856659bbc5a0e7b3dcdd2'),LOWER('0xdb044b8298e04d442fdbe5ce01b8cc8f77130e33'),LOWER('0xdb0dc0347dd7f79b6b911b6ffd0e1e86bae3359a'),LOWER('0xdb199d487ab9774456b280be5f8604e4635f06f7'),LOWER('0xdb1db4c8fcf4dad76f66e3061b984308e5f22789'),LOWER('0xdb24c5b3d5e29cf6e9d623607d0bd1dc1cd15238'),LOWER('0xdb2f65b5cacfee8037e7af493632840257b82307'),LOWER('0xdb36e6ce2a547c8a2f3f935298aae2028d4c0906'),LOWER('0xdb382c30ff95f3c548118b94f5ea1135b36063a7'),LOWER('0xdb3d858dcc295be2309e69539b2de07b41d658f7'),LOWER('0xdb49becaaa2301ed493de9e51dff46f0ec4b7204'),LOWER('0xdb4b1757c484b2ae662ecfc4688bc3e6e0b23ffd'),LOWER('0xdb66ff36ce7bcd0e5d608fbcbb3913880840652b'),LOWER('0xdb78856f9a1eea481e64150a507c7607d5855768'),LOWER('0xdb86c528c9fad24505f76a5f5dcbb877238919a1'),LOWER('0xdb916f73e8735b619a3d6c0f9b45fb519fe4296f'),LOWER('0xdbdbab0abbd5c2b8efbe50ab899b27d1b63520f9'),LOWER('0xdbed04c170257081fa5e0b3f8467a675343c87f2'),LOWER('0xdc0b0a1b1badf1a5f6d8540feb3c0b844a54ffb9'),LOWER('0xdc143f0ffa574c2671253c6173acc5f9029a7e5a'),LOWER('0xdc22ef23e8ff1642b41a6dad3cd2b94de3330362'),LOWER('0xdc2f2b4601126add8e22fbe2bb8cb0b4bac6d27c'),LOWER('0xdc40da69bc18872923cb0ad784d5d18d4b65f6fc'),LOWER('0xdc481cb3c5c590e8c0cb51aedaa2defa76705d39'),LOWER('0xdc5b23a5001f5659abda1faa307afa7369b3cfb3'),LOWER('0xdc690b228bbfb5e556e6395945a8b8c5e07e4fd2'),LOWER('0xdc6a64f7e02e98f0053e3cb067f85bb9ef098287'),LOWER('0xdc73f8c786bf0cd931d27c426d79502cf9537439'),LOWER('0xdc8b3e91091d4cc5eda69a7792f9b45f4c804bf8'),LOWER('0xdc9c5e34959ec3643af1e1d34a83d6b251aab1ef'),LOWER('0xdca4c6a5f46ca0cb08aa316d0b24e514a0b67527'),LOWER('0xdcc8f2ddca5f526a3420751741288bfaff45d1b5'),LOWER('0xdccf2e06ed55cb99ed7dc11c8e0a1c015d37cddd'),LOWER('0xdccf328f3e90bef00ef83c387f7c58b125b852a0'),LOWER('0xdcdb53e8e1123baa64a0b7d3da13e360ca843797'),LOWER('0xdcf7c8fd3556328054a552b3e070c9e7385eb0aa'),LOWER('0xdd0962825a44463494e6049a5710384d3c949e3a'),LOWER('0xdd0b6c2e37aebabb2a75918d511590b5a6357ca1'),LOWER('0xdd1511fc9a9381fbc5df09131eb105c10fb17f71'),LOWER('0xdd1922241992fd37dda92dff99964e4fc7c9ac42'),LOWER('0xdd269da57eb3b5a62e35cc1d6d1cc557efdede4b'),LOWER('0xdd3c3a4ac47b556281ae1476ddd8d03879639233'),LOWER('0xdd3cfd9cdd6b4c0018c5f313773d2b61e68f4c25'),LOWER('0xdd46252350568fcd857c5932bc44391c982b31e2'),LOWER('0xdd54ee0d29a1077c8baf84e2b76c3220789023d2'),LOWER('0xdd5dd4a737c0e4a9cb4579e4e39fba8e18fbba5d'),LOWER('0xdd611a42a037ad54d6734287465b00f8ce8e3d80'),LOWER('0xdd6971e971d3531327ef4091124c058992afb9fb'),LOWER('0xdd7df88e10b5fe28947745b51181ce9d60b61b94'),LOWER('0xdd84b44865cee3f9a331aece8e8cbda317928e8e'),LOWER('0xddaf387eb685e18d3df4fe3c281eb7531612cea9'),LOWER('0xddb0f7fb750a2d5e829b21b45839d5228a7815a1'),LOWER('0xddb68f1c22310084390853d5eb21313a78066480'),LOWER('0xddc52ebd00090a7c10db8249cb4dcb6068c08865'),LOWER('0xdde696fed891d0fb481933822f8ea92ddc1c2c51'),LOWER('0xddf44ae54974ebf3c82084d122afd610591ebacc'),LOWER('0xddfabcdc4d8ffc6d5beaf154f18b778f892a0740'),LOWER('0xddff444d8946b6d621d97bef7e59155ea3aa719d'),LOWER('0xde24b83e20df6a08e3735ed04daa7fd0c8157e98'),LOWER('0xde24de7544bae879a89a73d1764b11404f09f78a'),LOWER('0xde2e5cfdf33b26c28c22ea6b21b6021a568a5f85'),LOWER('0xde3bc7d547b512872fded74d6654046660d6e915'),LOWER('0xde4de346f0fc0a553ada9e7ba7a1bbd72953c43d'),LOWER('0xde51ca8809d30ff12077879f4ca8b09e90793cc0'),LOWER('0xde55103acd670f303fdf69ffdc6c9ca8a36d3661'),LOWER('0xde5922da9da59a421ba3fea33ffa7aecc6e296b9'),LOWER('0xde5db9122e58f7e5b1494e7a1cb4e8bf63d3f032'),LOWER('0xde6b519c18a9030470e3d4fc4c03622ce6a99d50'),LOWER('0xde8e6b37b4b2391bd3300e910695933c525fa150'),LOWER('0xde92fca0484b1f8ed4cd35b90bedd0a46bd3deb8'),LOWER('0xde9c6c20aa4ef9514197f7a028f0b93612618177'),LOWER('0xded0b772db29d75b0f53e2b47ddc274afc77d583'),LOWER('0xded0e1acd7297cb74d0ad83a749b9a07b15d3845'),LOWER('0xdef0829c669dc6d40990fcb77c86dc52636c3d51'),LOWER('0xdf1b2a62b61e3e4af2a591fcec78f47fd65d7efb'),LOWER('0xdf271a6b4f0af22be4f150d342aba5a7dde706d0'),LOWER('0xdf27b69005fbbf4a63155bf09cf8000b6739cd96'),LOWER('0xdf362413e0125a93c57c31472f5cc02bebb99306'),LOWER('0xdf48850ccdfa9c5636e9a750335034a6e868b829'),LOWER('0xdf4b6fb700c428476bd3c02e6fa83e110741145b'),LOWER('0xdf632ea5ba8283488aae8538e17a2f802243a61a'),LOWER('0xdf73511d4416a8dc09beb90bf677dcfe0a7e0b2e'),LOWER('0xdf86d6a1958d7680fefd6262960f8fcb69e1d0b2'),LOWER('0xdf96b858345e725655ca0e8e4eccfa00b1b68f5d'),LOWER('0xdfd5293d8e347dfe59e90efd55b2956a1343963d'),LOWER('0xdfdee4db2023af72847a1012de77106b202d2c24'),LOWER('0xdffb100b88df1f951a5fd7c357cb4b4b3fe0e3e4'),LOWER('0xe00c7a4cc02f6d734055250ba22f5452fbf6602b'),LOWER('0xe01c8cabad29f726fe6ea72d65c4bdeee703f841'),LOWER('0xe03c23519e18d64f144d2800e30e81b0065c48b5'),LOWER('0xe053e4fcfff77e5327c10fffef7734c73dc56f60'),LOWER('0xe0577f84d0f02363614791f6386fda68ae74543f'),LOWER('0xe05ce294e03bd7a58256a1f7764137881b747db8'),LOWER('0xe0612e96fe3c7ce756101a8ea35aa6ef4a69eba3'),LOWER('0xe077db55ca4d6d7b4db51f0855e68acdbef75251'),LOWER('0xe0c22abf7a633631b0ae0bd448dd243f8112acb2'),LOWER('0xe0ccd99b2e5747a23f87ba01f51d5e72aed8000a'),LOWER('0xe0e3d66e67b220b567adf7157abf29fffb771c34'),LOWER('0xe0e3ffade60e5f4072213b3bd0092fe46b9516ff'),LOWER('0xe0f0cfde7ee664943906f17f7f14342e76a5cec7'),LOWER('0xe0f33fd368149de1846406b4705ab13b6a911ff8'),LOWER('0xe10ee74fe1d7ba1db674de2520749f4114e4cf54'),LOWER('0xe11388d101bebfed134848ae5ba404a1139fbe6c'),LOWER('0xe11398430e3a5c010c1222a5e9a4b295ce554944'),LOWER('0xe1402999ff2d8d564d74741bf830440da3849aff'),LOWER('0xe1484bae3243c6dbc2820f2d9d300cab3ac4edaa'),LOWER('0xe14c12833108f75bed350d684037141485474a4e'),LOWER('0xe159291d951ed0569c0b0a7a8245b71cede7d7d6'),LOWER('0xe1646c0edb29f4f2565744c25ba740e336bd7951'),LOWER('0xe16a905d50ce004e1b43b624f9f7a84582c93472'),LOWER('0xe175946a95d97dd20109e01e7b7d377932d6a7dc'),LOWER('0xe19af7d26ebbc24daf74674f9e06f9aa26482bd2'),LOWER('0xe1d3624454bca1586ea09e2a6c095bbff210627e'),LOWER('0xe1d4fd81ad7e8b0587d95b3ce7a6c1060500d574'),LOWER('0xe1d6c07d06b8cf700714871d71a0d67f641d5654'),LOWER('0xe221f2fb3833cf228cc32dff0241aa2a45695cd1'),LOWER('0xe222e11129a5fefdebcc0572a10a6deacc35e6c0'),LOWER('0xe25c0e141b98a5a449fbd70cfda45f6088486c74'),LOWER('0xe25cb64bcb62be89eb61b845a8ed3a7025476611'),LOWER('0xe27d839a094f24200b815caa8e56572a3c3b4309'),LOWER('0xe297e0f87f4372893575e839430bdca821d553b8'),LOWER('0xe29cf84b2c6728e2dc969ac9937d7f3731313784'),LOWER('0xe2b39df6da8b441f2a24fbc9b04c7e6b8cd62027'),LOWER('0xe2caecb3e8083c3e8cb2727bf893c0fca0b6e84b'),LOWER('0xe2cd5bbd5185318638139d17bd594f7cecd8a106'),LOWER('0xe30601ed4fe7129577bea0c781a5f7a4c4a9aeb6'),LOWER('0xe34c8da5083c3217400d877f5173c615d43c41c7'),LOWER('0xe350bc09762d49ec02490867ab090188d354d350'),LOWER('0xe3597a5bb44f7d7fae64cf3e9b5f2d3861c7f4f3'),LOWER('0xe36a726d9053b4a1cb904e4fd50e5d59c8daaa0b'),LOWER('0xe36bd8c15a83b89e2e49806d7312846069755c63'),LOWER('0xe38171542c16c8a079f5512a304ac6177245f233'),LOWER('0xe3887945651476c7c8d3f98ad1dec2f54e9dc38c'),LOWER('0xe3b8d6f6239df9aa4aade2e6daec5a5f0889ba9b'),LOWER('0xe3b919ba06ae2ee238bc68212c787a2530958c02'),LOWER('0xe3cd3e5362f0595ad7a11cc522ca4dc4723550e2'),LOWER('0xe3eebadd46fef001b85c32ba1c5c5e3492226e85'),LOWER('0xe401e26f090f084c098ebf2754d86374184cdede'),LOWER('0xe40428b66dda0dc32fa37c2245c9bb096f9b12cb'),LOWER('0xe406edd57b378177d2416a393605936a85ef4ce1'),LOWER('0xe41359c5544417b70c510cf36db6981a18bd347c'),LOWER('0xe426311900d109e13dcfe80eedc7f0393e82639b'),LOWER('0xe442145711bf3c56452f0dcc730f3ad65ce230cc'),LOWER('0xe448d9d70efe95714e38d210e58d458dab0a77d5'),LOWER('0xe4719c1ed68294f83d52ea1192e8b5ce9fbc4e72'),LOWER('0xe480cf8bb34e9f558e042a4f5f7cb109e1b2f9c2'),LOWER('0xe495a931d584ad16c99e88aece44e630406861ee'),LOWER('0xe4af3c5a11289acb1928919a894c2ac76e59c8cc'),LOWER('0xe4b0696ddac3c988d5ef8a0691bee1d2e3343c3e'),LOWER('0xe4b3dd9839ed1780351dc5412925cf05f07a1939'),LOWER('0xe4c89b9fcab29c5bee3971b698cca4528f2644e2'),LOWER('0xe4da6192a89dff5c02d754e5e7b319155109f43c'),LOWER('0xe4df853643c410e4c9d673effb7c4654dfcc32e7'),LOWER('0xe4e0f568287d1c8e4d48a1e0eba4ee703dad2767'),LOWER('0xe4e81a38ea6d480e4f21abdbe34df076621b9113'),LOWER('0xe4f183f08cd974d9beae0f7dd0ceda5743e3041d'),LOWER('0xe53ae3d392c8b80b4cc451ad10e76484e5d1180a'),LOWER('0xe54b20301fa0b9d5419cd7bfef6f5dab8c8b885d'),LOWER('0xe54bb7fcc510b8f806bad0a65cf96e336e7c0e14'),LOWER('0xe551ef5240ecbfdad3b9f536e0daa7c6ed2f0de3'),LOWER('0xe56f14f477eb23c3207e0d2c9303a60feeaf3030'),LOWER('0xe5713ca1d1b5cbc83c25b5af8a090b5cfc092da1'),LOWER('0xe59104682a0015342fe51299cb83ec04172ac604'),LOWER('0xe5c04c954c5494f6975f63e3f19957a380648f82'),LOWER('0xe5c3a63ee9e93ac1226b44633e4ee62094a353ac'),LOWER('0xe5f3194ac64c50fcf25bce4e2f9dfd33b96dc78d'),LOWER('0xe5ff92782bc1daebce2fd596cadbb5987989a452'),LOWER('0xe609632a73c3e6f08ff6c92717c6d9275b80b691'),LOWER('0xe61095bc534a58f9b69a322f49fd71e92a77363f'),LOWER('0xe63c21e478450874183160a24c7a6149f62c8bb7'),LOWER('0xe676392ac178d2fb39485d6c2058079cb7cfa3bf'),LOWER('0xe68420111637bf3884c476e5eca0584333ba0bcf'),LOWER('0xe684ddbf961d38d59322367163d32de1d29d2acb'),LOWER('0xe69fd96bc32b090db80c1b2c4ab0c6b280ced656'),LOWER('0xe6c87a4971a3dfa1b27e1f184637149272164b4c'),LOWER('0xe6c9e2bc68104308e879d16f1f21c84040e8f8ea'),LOWER('0xe7024fabb46819698d3565335edbf315a41df80d'),LOWER('0xe72c9518e2b99e5fe52bc657ee840ee45c8c0074'),LOWER('0xe751f8e88d9efcd7d53dfc85226a3321e77d5842'),LOWER('0xe76bf95c84584d457b022ed349aff18c79bc86d8'),LOWER('0xe77587e3a723b1d314c73f77e822b704a3ffb403'),LOWER('0xe775d7d21e251beb645835fe9777a2a572a5c012'),LOWER('0xe786b38f7a1f3a6e4d849b96149b9a0f0813f503'),LOWER('0xe7893673e4d73bf8573028ac7fe0163f3cb38461'),LOWER('0xe78cdc4340a6751ab8bc4e19bf10dff9b94feb56'),LOWER('0xe78d24d551e3b4ac11c29c7b2bfc5778dd871bc0'),LOWER('0xe78d6aab8a4cebc8c6d9bb3cb46cdbe459196340'),LOWER('0xe79a5a1c8c8c5c0348e52dd3be48cf28313c58e1'),LOWER('0xe7a344c0b4b77b69bc7f124f83de86c350e4cea8'),LOWER('0xe7a38d4d4d1ebc4e441f76a70ad7ce7a5d78531c'),LOWER('0xe7b524aef2220e420747dc90f84498631c594824'),LOWER('0xe7ba45d6f915ca58ce3aa4a07f7330d75a5957f5'),LOWER('0xe7f3722a36f1a08c4db998122553785d94081ebf'),LOWER('0xe8007c1a15631b4b5c126f37f01acd2a35071614'),LOWER('0xe809ddf1f98c86c7247c54c3848ae6d164ecbf7c'),LOWER('0xe83ca8a926c492c6d082de8ae16d76d75d81f493'),LOWER('0xe8473a3fb7326f33e974a378a16ad9ab16b38af3'),LOWER('0xe85954bcc1b53025d76e154f09cd5cebf0662635'),LOWER('0xe876275e5e1a77e0de4006e5d9b85b33621d1442'),LOWER('0xe877d0b590455b34f0569b631aa0467e37ac0357'),LOWER('0xe88681dda199e34332a94828078dc80f72e144fc'),LOWER('0xe88ce93a5d0daf95416a8473861a90f0365f39e7'),LOWER('0xe898854ca58defe8d7c2153392f6ad35dde846e5'),LOWER('0xe89943ec20d856f064a87349a00ef6ab00aed042'),LOWER('0xe8bdac5e7deccc2266732b7025e072548586a11d'),LOWER('0xe8c7109df722937f167b7bea62d00362a7b65897'),LOWER('0xe8d2b580346c8201445a8063a6158b8f4eb5c77a'),LOWER('0xe8ea41967f8e0a7b5af0beaf99f4032d1f879b7d'),LOWER('0xe903ed09b07a540d644134708d8a3608cb4230d4'),LOWER('0xe909884e495232646824894831ced150e35ce8f8'),LOWER('0xe913a5fe3faa5f0fa0d420c87337c7cb99a0c6e5'),LOWER('0xe9150db30732a65dd5d761260f49f399e4f05d34'),LOWER('0xe9365e906eaab9337062b528efa7d36d6d044ac3'),LOWER('0xe94cd1f146e6e00052521b46151ddb7b8aed4f28'),LOWER('0xe953bf0acbbd733e2313432967d8155034e20098'),LOWER('0xe95cd15ae7bfe36cc6f130090ef0dca48f5ec709'),LOWER('0xe95ded321146b50b474ca4ba494793ba0972400f'),LOWER('0xe95f6604a591f6ba33accb43a8a885c9c272108c'),LOWER('0xe96458480887daf5bd0937b26f68e3a55bb3762b'),LOWER('0xe96d6262b83bfda276bc8e32021014c712f47891'),LOWER('0xe9838292e26da51050a811d190381453b3472cde'),LOWER('0xe98c4fdf32637b4c3f2fa7cec28910607fa3c820'),LOWER('0xe9a06db19b2bf7f1d6addf597d73849e6424e896'),LOWER('0xe9b4f7755f74be4389f54e07c94d1541e27c2f33'),LOWER('0xe9bafd7a9c94c07d9c71f6ef2bdb462f7004c789'),LOWER('0xe9bdd53234538db1890480e3b37c3c504ee0a96b'),LOWER('0xe9cc317eddecfb62b9f0bccc53da4683ca9d0b3b'),LOWER('0xe9d7508f16eeef8d5a207aecf9bf86df159b3fbd'),LOWER('0xe9da22a3f15a959cf511d0e455bf9cb689e55bd2'),LOWER('0xe9f5e91ef20fd4174c8b010c3fe0662e96e7acdc'),LOWER('0xe9fc6eb4be8b7d66eab5c09444a061e23f096688'),LOWER('0xea01e69363dae273091c660b66f4cf8c71cd63b1'),LOWER('0xea0b2e3b1cbdc62a7e90bf443444865681da4903'),LOWER('0xea115f4b0d6033b764ae4d4bfb5c5d8a4f439388'),LOWER('0xea2ce7401bb729ba69a10c1953400d138ef4c986'),LOWER('0xea674fdde714fd979de3edf0f56aa9716b898ec8'),LOWER('0xea6bcd53438ab622a52ba639e829040cb0dc2711'),LOWER('0xea72af92c3818fcd6807b46d75c2d8f863392ff9'),LOWER('0xea75a639a17e0de21d1907e7cceb6f3afaadd03d'),LOWER('0xeaa5790825f8bf1f88d25597d8a378f68621dc5d'),LOWER('0xeaabe6869a27d84459c8e1490001ccdebb245476'),LOWER('0xeacaac7adf307597a2b90c9ae1f7190e10fc8612'),LOWER('0xeade395eac359c5683f2f099c5fd014103255911'),LOWER('0xeadeaaaf853a4d42e5d50e96932d7219e34c157c'),LOWER('0xeae7a02e5402726a48c8b276fccc169fa3ad701e'),LOWER('0xeb035f0fd8059a6eece8e28d64a8c75ba1000861'),LOWER('0xeb16362b9ee5d07185439ea151723a4331355563'),LOWER('0xeb25e8be394653251e699752ff51dfbb84897501'),LOWER('0xeb2629a2734e272bcc07bda959863f316f4bd4cf'),LOWER('0xeb2a38ec02b44218d371982d51ec961bd2b17321'),LOWER('0xeb397ac4a030cb6a5b64aafb30a3890e2e5b03a2'),LOWER('0xeb464824501d7afc282e7f295b1f00edc01fccb9'),LOWER('0xeb4be7d96ee89143dcad8e79513189420542f098'),LOWER('0xeb6c4be4b92a52e969f4bf405025d997703d5383'),LOWER('0xeb7c62e05cf24ea1d3a6eec42038486cc6d2e183'),LOWER('0xeb8eb32bdaff1e27321a1f8bb26fde319002c21d'),LOWER('0xeb8f93cd25b7e6eaf9634303f49106940be62490'),LOWER('0xeb976a218b99ad15a0ae252204c66936c2a0cfd7'),LOWER('0xeb9ad27e165e127fc83083444b7d15f8f4edda5c'),LOWER('0xeba35a3093f27ed30e403242f89eb0f996231ddc'),LOWER('0xeba3d01ba46048138a94b975a97ed58742e61c45'),LOWER('0xeba621fed06a9ec9dbc074a168225b99e9b26cb7'),LOWER('0xeba9a3fd1475f130003c09967745e7b9f8d34e17'),LOWER('0xec13cdf96f7184e71d0a00e65ce0be08aefdea0e'),LOWER('0xec24aebd860fa74a82428fb2493eb5cdb65827b9'),LOWER('0xec4d748a5dddc6790ce9bae46d435d4781b2e2fe'),LOWER('0xec5388aebf040c06896dc9daf2c18fab36bb3cc0'),LOWER('0xec84b1e2669d94b54eb387a8590bc79ba4370986'),LOWER('0xec876b4caf344d0ad24f2cc77b9c5dd0506c70c1'),LOWER('0xec938990f4a844a69ae1bafce298d2a324b4096b'),LOWER('0xeca21187d6ad6787b67761a82ed42a38e08ca783'),LOWER('0xeca3ebdc89a0457483651389a65aef3382011277'),LOWER('0xecaa7de41bbd28eae9873d147305e175186277a9'),LOWER('0xecab41cc46b3df7f30e6114e47f71ffc683a391e'),LOWER('0xeccdf8231326a9c5aad32df76a633aaa4c49b104'),LOWER('0xecde2edd1e9d9a2f96b9a32b1b57b9a38c5dc512'),LOWER('0xece344fb0f07e7f4fc4dd568ae7104a88ef30bb3'),LOWER('0xecea66cef0e71fa6feac9deecdc608191e0191cd'),LOWER('0xecfe5daaa2c9d1d6f90dfde9998aff40dd21e8a7'),LOWER('0xed0936bf6d23b220a1d734d95bcc90e47151972e'),LOWER('0xed2cc609ac16e889a8d2e315961b1060206875b7'),LOWER('0xed2f0e1368661bbdc5c56a3deb8becdd19880291'),LOWER('0xed3c678f04d92c78c101154a271a50ad9089f443'),LOWER('0xed3f07297bbba4c32fd29ea8cdb11edd32fd675a'),LOWER('0xed4a59031e82296ed0ce0e3e1bf0020a5570150d'),LOWER('0xed5442209bab16fffc738202b394453a7cde0e55'),LOWER('0xed6476baf9838bd0dd57eaa7f17a16106efdb5e0'),LOWER('0xed647b92b99d3597994a601ac3ea24f40d03c5a5'),LOWER('0xed7dcd8ef1343717bde13195714d845f5316bd33'),LOWER('0xed80333733c159b9c76e78ece3dff182a0995733'),LOWER('0xed896c9283d760df8fa60f7e5ecd0084d8b9e7f9'),LOWER('0xeda3007a749fa34f5632561095f3eaf24bb25bc2'),LOWER('0xedb6cf7cac43e0b79fb433a3602baccb91beb199'),LOWER('0xee08672fc958d41819f83f5ed8763359807e4367'),LOWER('0xee12665e6cee3b36a21deb76d23673ec417cbce0'),LOWER('0xee5ce06accce11bc77c5a93723c8032d9108f22d'),LOWER('0xee67edf2f44599e8697d23a9f8bdfaf91a769d93'),LOWER('0xee6c90648ae8114e1f4b29ab39df6a69788b6ba4'),LOWER('0xee7fff9cef4bc6653e87f40fe3cd6fa00bc385ce'),LOWER('0xee8ba007fa7fe3d127213a206be8d5a5341ca5b8'),LOWER('0xee99bdc01fb852847f727681f773a61bbf750b79'),LOWER('0xeea3e42069951a8910d39ad0a5a7b9a2ff3b48dc'),LOWER('0xeebf890c7031065cf3434260e9e8f927ad4c3c34'),LOWER('0xeec193a23755897ffbb4aeef52b84d567d207fc9'),LOWER('0xeed16856d551569d134530ee3967ec79995e2051'),LOWER('0xeed2a5fd7b8b2142f8a0fab770f7ed1de3f2ed64'),LOWER('0xeeef5b6f6ac7f0f6b221a6819c32ebe03c86a7a3'),LOWER('0xef027178de9c27d4c141c306aa7a991508f53ee4'),LOWER('0xef061c54029c351fed26e452bf6090554147207f'),LOWER('0xef07b25ca14cf68db073b75cd88d82e499120d4a'),LOWER('0xef09aa4e61423dcf1473882d56acd2e7eaad3aca'),LOWER('0xef18be47ba246e0f3ba4f874636ccd0f1ef4cdbf'),LOWER('0xef2193a799a8c2871b23d32aa747475095439af0'),LOWER('0xef4bc7f00c3d80f0a2ed5333e8504fadffb8771e'),LOWER('0xef576264e3592ea1e65df28bbb59f73b27d1cfc1'),LOWER('0xef934376218443a9e7441e9f67bc1eecf4cfa74d'),LOWER('0xef9be344ca93fb042af98004d1d42dbfe6ce463d'),LOWER('0xefa114048218757b8efa3bdbf9d7786c87f6ffaf'),LOWER('0xefb0717a2ee476f69d05a82d0c13716f64f6540f'),LOWER('0xefeb3c96038fb738872880f53940adc3d2fd43e2'),LOWER('0xeff70967507c7b49a6bc24b43ce495987733642e'),LOWER('0xf00a7134f98743654b0d9082b9eda36bc88bbe25'),LOWER('0xf00af4e42df79f09248af4ba1688fbf83468e42c'),LOWER('0xf00f7fff9c806a7035778cb4165ecd81dde34f54'),LOWER('0xf022e2c6900ddcf882689e58674b4841f9f49a04'),LOWER('0xf024ce8148b06a9f7b39ae3e943b576069d841ae'),LOWER('0xf028ae117c4256c6a4120e98e60be4eef10b063a'),LOWER('0xf02913aba543137a8826fd457a8f8d97a2e5782b'),LOWER('0xf032feb081555c5983335c8ab29c92946044477f'),LOWER('0xf039f26062889379721ba27efc88acd7b8824384'),LOWER('0xf03b6d45bd70e61d05577e8817044fe17fb9eefb'),LOWER('0xf07ba726af36cf6b48349b62eafa95e7953252c6'),LOWER('0xf07fbe58cd6b59431ecbf3a75d35c54f80d4ff02'),LOWER('0xf08d6b95dd90fd5d572850131d709154f9d60b9e'),LOWER('0xf0974e846bd6c20bed63c789c276e6921f34359a'),LOWER('0xf09f9b5def8232c6d04b4f534974ac3004e4f9a1'),LOWER('0xf0a2cdb3857ae1022edcacf4ed7fb8404da5c05d'),LOWER('0xf0a82ea8cb867ef4a4252e94a05092a9e450cddd'),LOWER('0xf0b593b9b2d3b8289e92e7a02c1ce485b7db1511'),LOWER('0xf0b6b702d0a757c1319066c60c318db0b84e50d9'),LOWER('0xf0c5ab93b21064c7a90d548da4814bfeee091df8'),LOWER('0xf0c8cdc92139ada111dff35bfefdc24e86b3acb8'),LOWER('0xf0e4d0d6094d6e13f61013a663b56154546b6c4a'),LOWER('0xf0ea58b65c82c48ce69f0abd68d178e7764c4ba2'),LOWER('0xf0f6f2872aab94651857f13f869918a3e7ccdd84'),LOWER('0xf0f9eda9f0cc8056f55797997cb77e1c1c15c1e7'),LOWER('0xf118087031c1bcef90e5b89861e575baaae079f1'),LOWER('0xf144b619327f071a3cab0fe44e915e14a7fc8482'),LOWER('0xf15768865bdf8e91e500b7c344245846eaa6167d'),LOWER('0xf16533ccb5d3619375070f3cab5179683baa3be7'),LOWER('0xf16e9b0d03470827a95cdfd0cb8a8a3b46969b91'),LOWER('0xf2212e96e303ee2255c27d3aa92d5975b4a31c5b'),LOWER('0xf230b33d308dd79c4c540a99df1b8d79fe981e27'),LOWER('0xf2465458cceba5400bcfbb572c5e085b8182a8d0'),LOWER('0xf25a87aa21777f6b4e46125697a901c3665acb66'),LOWER('0xf26a1b2f6e8cf2ab807c076ff0e9e77be94776f3'),LOWER('0xf2709b4830965740ef5a67066d5d31c973d24de2'),LOWER('0xf27fcf41544e2e3d70040a84b28afb1a058b632b'),LOWER('0xf288a11d791537d84b75e91681a56fe1325b0138'),LOWER('0xf28c7a214a258cada05c916a92bb272207d9e545'),LOWER('0xf2a1015c636672f886654f196bb9dfe60a6e54ac'),LOWER('0xf2a6ed06566b3e4eaee5ba10c7d13ab1b9e1afe6'),LOWER('0xf2acadc63f438e455473c06dc6d4b3f9aadce548'),LOWER('0xf2bacb0159d26d86654fae45678fee0d656c8c98'),LOWER('0xf2c1779d6a0064e3b9b4ccc72c301ff22f0f5ede'),LOWER('0xf2c3100d5748cb4a330fbc00aee3ebf4458d9eb6'),LOWER('0xf2c5e22f21b07214e691a4c78b38fc6cfc9113f6'),LOWER('0xf2d00e3080e1d9fd5e47f54188434e24cfe54da2'),LOWER('0xf300311d032acba14af8162844a5e555c88679b1'),LOWER('0xf30e35e4b764d3ce11e25365ce17c0c483a45914'),LOWER('0xf316c79fa65fe4a68e3e141496910929063ad9ac'),LOWER('0xf31d17289bab108ebf6d85d2d3289aa32af7bff7'),LOWER('0xf324898a08ab33bae61c7a34fc93071f39bd84de'),LOWER('0xf32682d5f99ba4143532618d6f516859a055ea06'),LOWER('0xf32a3fdec09b593dd748fa153eadfe8158a2bbf2'),LOWER('0xf33ca00dcff007aeb22d0e7d31cc799a78865da0'),LOWER('0xf33fe08604b009f55a7b898ee9b8d19688b0ac25'),LOWER('0xf34b14de6005db81d58118d2fbb47fa3cca40b50'),LOWER('0xf3670460ed8c7a532d5e425f77aba91d633657c0'),LOWER('0xf3687d145f7b9c7fa74c95a95b0a76c52e070350'),LOWER('0xf376be9f5e77e5cdf860380eb1324b52c088450c'),LOWER('0xf37d5557aa49dc50f4b4347270ffd7ab0fafc3e9'),LOWER('0xf392e08b27b3b04e6e76f45d37b578cf9a9d1112'),LOWER('0xf398179f49036a732be7b3b9258a881918df740d'),LOWER('0xf3a79232f72b75a07cc5681c3063abc715d47115'),LOWER('0xf3aece4027c4d0f6f6dff28746a2cbbbf692c134'),LOWER('0xf3afc2383a0b45ae73d77b49df7f2184b1ad4b90'),LOWER('0xf3b4256d6eb9c601f4826ef6a586ea581148ea29'),LOWER('0xf3b68ec8a4f779e20bb7d96853f68cacbc1a3d31'),LOWER('0xf3c169d5af811d0e96f38b0d115ffdee2f20c941'),LOWER('0xf3c199b29ae9ab997fcbf1fd22d91e4a6d4f659e'),LOWER('0xf3c328de8fdc8af5956191003a7df488a91881a6'),LOWER('0xf3c92d9c3582a8744592e88b99694721a636df9a'),LOWER('0xf3c95dd4cd52c5aee0c2c8c7a6d2c5871f2c94a3'),LOWER('0xf3d068ff4b614c857d3a8b60c89e4244492c6fac'),LOWER('0xf402abe2b829faff9dcc4dbcfcc355e433fee58f'),LOWER('0xf409c87afc113db14ab26470ce8da9bd88f16877'),LOWER('0xf41f47f49476c747e2c34dcc65a02883ed4fd820'),LOWER('0xf42821cfed63161dbc0f1fc0283e29a0ed769357'),LOWER('0xf43b22f9202e05a760ec7642943ac4f989b8a393'),LOWER('0xf476bfff1bc86c6af7d3e629f6d9f2aee2b5900a'),LOWER('0xf486f96ec79dae38a8d26bd1cc255c79c692bcf9'),LOWER('0xf4c5c637417116e8ad1a0f5a9e8be1acbe5d64af'),LOWER('0xf5015105af6e7f9c4de9d7ed08fafb331ac5b88d'),LOWER('0xf5065d14f2edc66bbc664fb65f5899089dbc386a'),LOWER('0xf510f7fa7c834641e290ba960688e82175665b8f'),LOWER('0xf51cd688b8744b1bfd2fba70d050de85ec4fb9fb'),LOWER('0xf52002a9a6857b23671580c8904084549d280658'),LOWER('0xf55a62493c5cff2450692dee196234d192a2f24a'),LOWER('0xf55b5c4f54bdcdf839cc4872f78218d8a6bc5fa8'),LOWER('0xf5613e4da78cee6a1bffdf9c235d56bbf6d01d8d'),LOWER('0xf573b943e01a9dbdbb748355024cceb5a664dd31'),LOWER('0xf57724fc6c9773b84c5575d31a9dc17ca7f87563'),LOWER('0xf582a7c87888714ca875a70b0971f55bde6eb148'),LOWER('0xf59cd9d0ae8abe782ce7a3fd74141e3949f28e7c'),LOWER('0xf5a45a52e4e8cd6c4be9d907dfa4662f5093ae06'),LOWER('0xf5bec430576ff1b82e44ddb5a1c93f6f9d0884f3'),LOWER('0xf5c8d4fc1aa080c439d1dfe56e786972f092b37d'),LOWER('0xf5e927f5fbdf4418b79d622e59cfaec5bf7d0eff'),LOWER('0xf5f082e26fa1d8c70ffc3322ec737fb4e85eee16'),LOWER('0xf5f3436a05b5ced2490dae07b86eb5bbd02782aa'),LOWER('0xf60c2ea62edbfe808163751dd0d8693dcb30019c'),LOWER('0xf612dc20239e56d66fb114a8eaff27119b50bfab'),LOWER('0xf61a47c2e2ffb144c5f62042997b5fa6de7787d6'),LOWER('0xf624c9b3f16d303451d1171292916cc38fd0b7e0'),LOWER('0xf63d78c6b9375fdab283d7a47b8863709ebfd5f6'),LOWER('0xf643e8fba986ec5898005fa3de1246a9b996082b'),LOWER('0xf646cbe3b030fb6c2569215f0117dba58badb95e'),LOWER('0xf64ca3aef48977ee3ed2cdeb1b449b35a8783c55'),LOWER('0xf65615cf48143d10eb59fcb61f82deebfa2dad98'),LOWER('0xf65d1464e7598d77d4da01b1c402166a2d3888b9'),LOWER('0xf66852bc122fd40bfecc63cd48217e88bda12109'),LOWER('0xf68a20b8ddb1b9fc5df7a72992ea91cfcf92aa25'),LOWER('0xf68d9ccd661e3d5e1531be9ef1164b4de94a4a59'),LOWER('0xf69b376a5d52c7af2d6ebcfeb2f57b18e9850fa7'),LOWER('0xf6a63b49a6de2ebb84ab1e662bfa36dbd794643a'),LOWER('0xf6aa861605341a2112e4efcbd0b4930b269c39ed'),LOWER('0xf6b492ee9eb770a63973205c50b34b47c13e6c09'),LOWER('0xf6b7550fb0077fc984da2c4fd220f5241ea6677f'),LOWER('0xf6bfff6ab731b0724852d9b2926079955c83e206'),LOWER('0xf6cdad7cb0c5cd3c23a629c245ae863d951153e3'),LOWER('0xf6ee46005bf4c3a5f518d61613e631ed0b3070a1'),LOWER('0xf6f52a662259f08e0c75054df154ea5497e41ddb'),LOWER('0xf704d714ec68a378dfe0c24825932b9dd38d1ccc'),LOWER('0xf72ff201c736a319600136bca404d3bff41b40c9'),LOWER('0xf73b70a131aaaf4f5ff11c4920179f6c2b6b76d1'),LOWER('0xf73c3c65bde10bf26c2e1763104e609a41702efe'),LOWER('0xf74010b3016338169b389a473ed20f75734d5cd0'),LOWER('0xf7401f57a705b71a9463d8b5a2a59ea0161c93f0'),LOWER('0xf7858da8a6617f7c6d0ff2bcafdb6d2eedf64840'),LOWER('0xf785d5e00703cbf95aedbed63ad2fe480a9c1ebc'),LOWER('0xf792e169884d9c891ea3862cd6aa3b71b1e79928'),LOWER('0xf7a1f2a1b7664815a8127be755ebf8a0a01b0f01'),LOWER('0xf7bdc28dcd0271b16a528981ac8ef58605abc131'),LOWER('0xf7c6a011ccb9274876c1787e7bda7db3de4a2d1f'),LOWER('0xf7cba73943a8dc892c3572b57381833547069938'),LOWER('0xf7cccec25b88bfa08cb81a8473ca190b55f63a11'),LOWER('0xf80c4916a2e864a751b18518ab3d90610931015a'),LOWER('0xf829a486bae4b8481d88d3bf8e52aa398ef60ad2'),LOWER('0xf840c75142f81a12c5b82f9876edf5fffa34c3d1'),LOWER('0xf8439818be6b8bd15ac7b2096e4a4325389a1f91'),LOWER('0xf84f4d23666bb421b5140ed7d68e13ecae318273'),LOWER('0xf87c5f8ff83fe6ec13525cf177cacae0b9f604b7'),LOWER('0xf8811eca7176944895dccdfc43df005efd6df144'),LOWER('0xf89d7b9c864f589bbf53a82105107622b35eaa40'),LOWER('0xf8a6a82d17b54eab7de4273c5e7644e27ced3a09'),LOWER('0xf8b4ddaa9b0fa063bbfa4ad4eaa8676a00665872'),LOWER('0xf8c37625677866febd2a72ae1f7823e27f752b68'),LOWER('0xf8c6ed9fe9e4f77b6b78768fc9649f88818f5b81'),LOWER('0xf8cd134e564418f7de3e8ba821975cad90bad5a9'),LOWER('0xf8fd08bdae2a75fa959a65571edf75d139b0e6dc'),LOWER('0xf90d53b5f80bcd564460433d42ccd32217ab5231'),LOWER('0xf915579b70c8d9bfc152cbd749871f92e60c8c1f'),LOWER('0xf92e84c0eaee37765acf65df9705284d95ee4e0e'),LOWER('0xf9739d0de144f8a690c61cfee2a3bc4c94131c9a'),LOWER('0xf9a55b0f9d7d9caad9b28ca33cd6f0505b13321a'),LOWER('0xf9a9309927d5d9039651bad50a3fc2889168de94'),LOWER('0xf9ac154b1c43a57228d8dd18175ce5c0386a3e8c'),LOWER('0xf9c4440f52332abcd23b331d1fd476f33e0c32a1'),LOWER('0xf9c4f74d469c77582019ae838e5e21e6d3f7ea91'),LOWER('0xf9e5e2b4bfcca2db39889b616ddfdfc911c3cc42'),LOWER('0xf9e611a96fa210d34c7ac573e59cac5e195cceb9'),LOWER('0xfa209467ff0c4f37be839ccf72a14304b96a1f0b'),LOWER('0xfa2ef0bb5afec8d4f7bd4a3f9a3fb7f0212465db'),LOWER('0xfa303d627fd40a1726fa1873e79316890a71406d'),LOWER('0xfa3c7ad6ef49940e0dd8461b2db5aad77c4f35d1'),LOWER('0xfa3e3fd9aab2c8ceb6b6c5ec5fedc028322fc443'),LOWER('0xfa40443c2a120bb7abfb8ae306683e9b2a89ee26'),LOWER('0xfa6416f670c60c29b813609a14a7b9901c3846c6'),LOWER('0xfa6b1a941c8f9515ab2122b47b4c806efb13b7b9'),LOWER('0xfa6d758b52f12fccbc6e12168e76b20c989d3792'),LOWER('0xfa6fd86b42ce2ec5e00c1cd35fb0c78bd88c0417'),LOWER('0xfa76d5bc1372aa505a2a70b87fc8c283c0807ed0'),LOWER('0xfa82b4faa4111e64032379d1c9269c256b5e79d0'),LOWER('0xfa952a97d3d8f6b6dc6d86f498e5dae3fe0990f0'),LOWER('0xfa98ecaa15ed7e526c8f132537f7a81c4822685e'),LOWER('0xfa99912feda125fd15ac908c8e203805e0307e27'),LOWER('0xfaad2bfc5afad1a4dfd71fad1ac346159d0fac8e'),LOWER('0xfad457d895ab1036bf84ed1e9d0fae997d8d9349'),LOWER('0xfada7ce3535047e81718e15e0995e4a74061341b'),LOWER('0xfadd555f1a8b444dfc382910919e64c8ad86a461'),LOWER('0xfade888a624f8864b82874412850e69e68d4c72a'),LOWER('0xfae4edf487bf2686b354b830e165274fb28efa77'),LOWER('0xfae74ff6d11f5e183769559ab074d4936f0ce803'),LOWER('0xfb21273b38776c9d7e745df2432bb4f18da409ba'),LOWER('0xfb40932271fc9db9dbf048e80697e2da4aa57250'),LOWER('0xfb45f4b551ca57547b67c6c9f516497dc9f56a57'),LOWER('0xfb5289addc3a33adda26cc0b800292e2589e24ec'),LOWER('0xfb8f2f6394771b3cdf5c990bbb6e8fbb413807dd'),LOWER('0xfb9ae8ddee587e535f9075dde3badec86e2a8e04'),LOWER('0xfba45fbab2a029d62bb1c6d7bfe1911ef76886a7'),LOWER('0xfba4f2ed324f0b0c536dec16594ca330a925ee6e'),LOWER('0xfba674dbbbfafed6da9895051e5204de824325b9'),LOWER('0xfbb1b73c4f0bda4f67dca266ce6ef42f520fbb98'),LOWER('0xfbb2fe41c78fd4e6b5265f37cbb936a9bc09c7f0'),LOWER('0xfbba813f0fe3b238d04ad8c8d27bcbe5f0375a22'),LOWER('0xfbbc93a79ad1a5d52e28796af25bafde51c48ed0'),LOWER('0xfbbd5070addc38f53f95bc5259c2d0f9e90a92eb'),LOWER('0xfbc90e072c11f85ec0b89bb4a25720bb66a3e24d'),LOWER('0xfbcf516346752210560169fba324c4c4f908682c'),LOWER('0xfbe3ec3701ad36f20dd2597a810eee182758cc9d'),LOWER('0xfbf33e8c2fc843b6f8aaa30aeceef9cf86e1032d'),LOWER('0xfc053b5af97563840248c7147c1eb76060e1636c'),LOWER('0xfc0918182446ef8f1c8f18a908edc38cc0793d61'),LOWER('0xfc1239bbb098685d33b67a41c390f90defb7f197'),LOWER('0xfc254d1330e8ee467c80abc4023b4e9f5c0fac80'),LOWER('0xfc4449544d265a42746a3844c2d2ccfb2c2df33d'),LOWER('0xfc45862d421b4c26a5e7336c65f6b0e619b297fd'),LOWER('0xfc573e8059e0cda91fa70866e34e94d77d0c78b0'),LOWER('0xfc637a6d180d72998884a8fee2f12a3b243cf1ee'),LOWER('0xfc726d539efb4085d3b12976c100c45bf7769bfc'),LOWER('0xfc7bf33c986a695ebf6d13e566d4c54647186f25'),LOWER('0xfc983ae1a12d2b1c515778c892545057893a4915'),LOWER('0xfcc87884e4df3814077852de15c2f5e3e2a9bb44'),LOWER('0xfcda842d0a2b8e315ad10c8d8fdc2c3f15e8a3c2'),LOWER('0xfcdf181ea6d205a90f889e7a7748e654b4851775'),LOWER('0xfce4605e6ec2720a158a9dd8e108c1145057df02'),LOWER('0xfcf6a970ca106e5ab4dd4f93eb122d7c6c639b5d'),LOWER('0xfcfd79309b3510bf7f884d8177382b27693533d1'),LOWER('0xfcfd8a643ba6a986ff33e15d76450847b99b06a6'),LOWER('0xfd0dfb27ec36e3617d3c668e383e961d4d812cf2'),LOWER('0xfd13d67d67008f52bd7d113fe41d3d9fb15cea2a'),LOWER('0xfd379b8242597324e5873b9ffb02ef5818637a82'),LOWER('0xfd45c54c7e368b6e77a8dee7db187c90f42743b1'),LOWER('0xfd64300fd3a6a6b98408026adfcb58ca2bbf569e'),LOWER('0xfd73d18cf5372084ebe4a6d40f19b88019317f28'),LOWER('0xfd86c8436b4a7bc57adb68409c27d910809a523d'),LOWER('0xfd89d2566ea385fe46904640cd570b7ce638141b'),LOWER('0xfd8f134093f5aa7c492e9207235e9e22eb86b6aa'),LOWER('0xfd984b8354ed64df379bd727467dc704a2646788'),LOWER('0xfdab29cbf55beddcfbee39c75be15a56d135fcfc'),LOWER('0xfdacd49f579be5f03576bcdc5c10903ed02ef7aa'),LOWER('0xfdd6e8362a199d5407eaea904043c45ded45302b'),LOWER('0xfde26d6535427ace0775aa0ce1022bcce17a3350'),LOWER('0xfdec86a390ed449c88fed2940ea2df74d871a3ae'),LOWER('0xfdfe8e3b4049fbad10e7c909f3ad1f661994bd2a'),LOWER('0xfe280bdedcb0f369384bafec0b7385b5c571020b'),LOWER('0xfe2dc27ffe419a820eabd7694b1ec1f167c44f50'),LOWER('0xfe4229f3d4cc851c94d2d13c74441426ea2e5bd4'),LOWER('0xfe44daeb65166846fccb3f4aa7186e36247b1c1e'),LOWER('0xfe51a005b48ed91897c24336ea6ea5fcc75e84db'),LOWER('0xfe6b58af5f3f657cdeb9acebde88930850ff06ba'),LOWER('0xfe92a3cf1843b5ec7ccf27b2ae753fac1289fa9d'),LOWER('0xfe98c9495f24f2c0757f430c933c47bb7afea247'),LOWER('0xfeacfdbb62c100cab2af645072b505bad27dab55'),LOWER('0xfebeb197a7393a8ae6df944092519128686dda18'),LOWER('0xfec3dd383e61d7744373617a9b36daa54954d3f8'),LOWER('0xfec5b1910b20d826f500ff5199c08c3947565b04'),LOWER('0xfee0386d27ad0d858b4e18b0aae4cfae0b711b95'),LOWER('0xfee446c14749bb248c860c5386d02b7867535280'),LOWER('0xff19d03ca0d61bbd5f46eea79130947e4b6e0111'),LOWER('0xff22701584922f62f90df6de7c08be256c4678c1'),LOWER('0xff2727c517ede7887239b6f8df02f35233ad52a8'),LOWER('0xff2a2adeec3208725ead6a3a657f35535a97d39b'),LOWER('0xff4256b8362796a330bd8f466f10ff34df8fd151'),LOWER('0xff4df8de763091637a0d07f4dc62ff466138a429'),LOWER('0xff5c37f87ecf7f0e0cb8903aa7142778e1659e2b'),LOWER('0xff61729eaef5668690228c163ca6b943ca0f7c7b'),LOWER('0xff8c4e841c584b93972ff26920e7b9fdbd3b247a'),LOWER('0xff8f62617ca8f30c8493cdcc5ff69207c6c60ca4'),LOWER('0xffa75cb674b99b097668f5e2467a456c64662eb7'),LOWER('0xffcd5844dc33e3eea30eb32a38e60c01d27e87ad'),LOWER('0xfffe54dde0659f38d2395404cdc5e2dbf567b521'))\n",
      "                ;\n",
      "                \n"
     ]
    }
   ],
   "source": [
    "FLIPSIDE_API_KEY = os.environ.get('FLIPSIDE_API_KEY')\n",
    "flipside_api  = FlipsideApi(FLIPSIDE_API_KEY)\n",
    "sql = flipside_api.get_cross_chain_info_sql_query(\n",
    "            seeder,\n",
    "            info_type=\"label\")\n",
    "df_labels = flipside_api.execute_query(sql)"
   ]
  },
  {
   "cell_type": "code",
   "execution_count": 24,
   "metadata": {},
   "outputs": [
    {
     "data": {
      "text/html": [
       "<div>\n",
       "<style scoped>\n",
       "    .dataframe tbody tr th:only-of-type {\n",
       "        vertical-align: middle;\n",
       "    }\n",
       "\n",
       "    .dataframe tbody tr th {\n",
       "        vertical-align: top;\n",
       "    }\n",
       "\n",
       "    .dataframe thead th {\n",
       "        text-align: right;\n",
       "    }\n",
       "</style>\n",
       "<table border=\"1\" class=\"dataframe\">\n",
       "  <thead>\n",
       "    <tr style=\"text-align: right;\">\n",
       "      <th></th>\n",
       "    </tr>\n",
       "  </thead>\n",
       "  <tbody>\n",
       "  </tbody>\n",
       "</table>\n",
       "</div>"
      ],
      "text/plain": [
       "Empty DataFrame\n",
       "Columns: []\n",
       "Index: []"
      ]
     },
     "execution_count": 24,
     "metadata": {},
     "output_type": "execute_result"
    }
   ],
   "source": [
    "df_labels.head(2)"
   ]
  },
  {
   "cell_type": "code",
   "execution_count": 25,
   "metadata": {},
   "outputs": [
    {
     "data": {
      "text/plain": [
       "0"
      ]
     },
     "execution_count": 25,
     "metadata": {},
     "output_type": "execute_result"
    }
   ],
   "source": [
    "df_labels.shape[0]"
   ]
  },
  {
   "cell_type": "code",
   "execution_count": 26,
   "metadata": {},
   "outputs": [
    {
     "ename": "AttributeError",
     "evalue": "'DataFrame' object has no attribute 'label_type'",
     "output_type": "error",
     "traceback": [
      "\u001b[1;31m---------------------------------------------------------------------------\u001b[0m",
      "\u001b[1;31mAttributeError\u001b[0m                            Traceback (most recent call last)",
      "Cell \u001b[1;32mIn[26], line 1\u001b[0m\n\u001b[1;32m----> 1\u001b[0m df_labels\u001b[39m.\u001b[39;49mlabel_type\u001b[39m.\u001b[39munique()\n",
      "File \u001b[1;32mc:\\Users\\DELL Admin\\Documents\\ODC\\DataBuilderHackathon\\grant-exploration\\vexplorer\\lib\\site-packages\\pandas\\core\\generic.py:5902\u001b[0m, in \u001b[0;36mNDFrame.__getattr__\u001b[1;34m(self, name)\u001b[0m\n\u001b[0;32m   5895\u001b[0m \u001b[39mif\u001b[39;00m (\n\u001b[0;32m   5896\u001b[0m     name \u001b[39mnot\u001b[39;00m \u001b[39min\u001b[39;00m \u001b[39mself\u001b[39m\u001b[39m.\u001b[39m_internal_names_set\n\u001b[0;32m   5897\u001b[0m     \u001b[39mand\u001b[39;00m name \u001b[39mnot\u001b[39;00m \u001b[39min\u001b[39;00m \u001b[39mself\u001b[39m\u001b[39m.\u001b[39m_metadata\n\u001b[0;32m   5898\u001b[0m     \u001b[39mand\u001b[39;00m name \u001b[39mnot\u001b[39;00m \u001b[39min\u001b[39;00m \u001b[39mself\u001b[39m\u001b[39m.\u001b[39m_accessors\n\u001b[0;32m   5899\u001b[0m     \u001b[39mand\u001b[39;00m \u001b[39mself\u001b[39m\u001b[39m.\u001b[39m_info_axis\u001b[39m.\u001b[39m_can_hold_identifiers_and_holds_name(name)\n\u001b[0;32m   5900\u001b[0m ):\n\u001b[0;32m   5901\u001b[0m     \u001b[39mreturn\u001b[39;00m \u001b[39mself\u001b[39m[name]\n\u001b[1;32m-> 5902\u001b[0m \u001b[39mreturn\u001b[39;00m \u001b[39mobject\u001b[39;49m\u001b[39m.\u001b[39;49m\u001b[39m__getattribute__\u001b[39;49m(\u001b[39mself\u001b[39;49m, name)\n",
      "\u001b[1;31mAttributeError\u001b[0m: 'DataFrame' object has no attribute 'label_type'"
     ]
    }
   ],
   "source": [
    "df_labels.label_type.unique()"
   ]
  },
  {
   "cell_type": "code",
   "execution_count": null,
   "metadata": {},
   "outputs": [],
   "source": [
    "sql = flipside_api.get_cross_chain_info_sql_query(\n",
    "            seeder,\n",
    "            info_type=\"tag\")\n",
    "df_tags = flipside_api.execute_query(sql)"
   ]
  },
  {
   "cell_type": "code",
   "execution_count": null,
   "metadata": {},
   "outputs": [
    {
     "data": {
      "text/html": [
       "<div>\n",
       "<style scoped>\n",
       "    .dataframe tbody tr th:only-of-type {\n",
       "        vertical-align: middle;\n",
       "    }\n",
       "\n",
       "    .dataframe tbody tr th {\n",
       "        vertical-align: top;\n",
       "    }\n",
       "\n",
       "    .dataframe thead th {\n",
       "        text-align: right;\n",
       "    }\n",
       "</style>\n",
       "<table border=\"1\" class=\"dataframe\">\n",
       "  <thead>\n",
       "    <tr style=\"text-align: right;\">\n",
       "      <th></th>\n",
       "    </tr>\n",
       "  </thead>\n",
       "  <tbody>\n",
       "  </tbody>\n",
       "</table>\n",
       "</div>"
      ],
      "text/plain": [
       "Empty DataFrame\n",
       "Columns: []\n",
       "Index: []"
      ]
     },
     "execution_count": 50,
     "metadata": {},
     "output_type": "execute_result"
    }
   ],
   "source": [
    "df_tags"
   ]
  },
  {
   "cell_type": "markdown",
   "metadata": {},
   "source": [
    "No tag where found in the seeders"
   ]
  },
  {
   "attachments": {},
   "cell_type": "markdown",
   "metadata": {},
   "source": [
    "Lets remove these wallets from the case where has_same_seed is raised."
   ]
  },
  {
   "cell_type": "code",
   "execution_count": null,
   "metadata": {},
   "outputs": [],
   "source": [
    "df_matching_address['seed_without_label'] = df_seeder.apply(lambda x : x['from_address'] not in df_labels.address.values, axis=1)"
   ]
  },
  {
   "cell_type": "code",
   "execution_count": null,
   "metadata": {},
   "outputs": [],
   "source": [
    "df_matching_address.fillna(True, inplace=True)"
   ]
  },
  {
   "cell_type": "code",
   "execution_count": null,
   "metadata": {},
   "outputs": [],
   "source": [
    "df_matching_address[\"same_seed_without_label\"] = np.logical_and(np.logical_or(df_matching_address['seed_same_naive'], df_matching_address['seed_same']), df_matching_address[\"seed_without_label\"])"
   ]
  },
  {
   "cell_type": "code",
   "execution_count": null,
   "metadata": {},
   "outputs": [
    {
     "data": {
      "text/plain": [
       "seed_same_naive            1854\n",
       "seed_same                  1887\n",
       "seed_suspicious              35\n",
       "less_5_tx                   843\n",
       "less_10_tx                 1035\n",
       "interacted_other_ctbt       251\n",
       "seed_without_label          707\n",
       "same_seed_without_label     176\n",
       "dtype: int64"
      ]
     },
     "execution_count": 64,
     "metadata": {},
     "output_type": "execute_result"
    }
   ],
   "source": [
    "df_matching_address.sum()"
   ]
  },
  {
   "cell_type": "code",
   "execution_count": null,
   "metadata": {},
   "outputs": [],
   "source": [
    "df_matching_reduced = df_matching_address.loc[:, ['seed_suspicious', 'less_5_tx', 'interacted_other_ctbt', 'same_seed_without_label']]"
   ]
  },
  {
   "cell_type": "code",
   "execution_count": null,
   "metadata": {},
   "outputs": [
    {
     "name": "stdout",
     "output_type": "stream",
     "text": [
      "There are 1199 suspicious wallets out of 2463 wallets wich is a ratio of 49%.\n"
     ]
    }
   ],
   "source": [
    "suspicious_wallet_count = (df_matching_reduced.T.sum(axis=0) > 0).sum()\n",
    "total_wallet_count = df_matching_reduced.shape[0]\n",
    "print(f\"There are {suspicious_wallet_count} suspicious wallets out of {total_wallet_count} wallets wich is a ratio of {round(suspicious_wallet_count/total_wallet_count*100)}%.\")"
   ]
  },
  {
   "attachments": {},
   "cell_type": "markdown",
   "metadata": {},
   "source": [
    "#### Now lets look at the project that have many suspicious contributors."
   ]
  },
  {
   "attachments": {},
   "cell_type": "markdown",
   "metadata": {},
   "source": [
    "We first load all the votes and then filter for the climate round"
   ]
  },
  {
   "cell_type": "code",
   "execution_count": null,
   "metadata": {},
   "outputs": [
    {
     "name": "stderr",
     "output_type": "stream",
     "text": [
      "C:\\Users\\DELL Admin\\AppData\\Local\\Temp\\ipykernel_8116\\2868675674.py:1: DtypeWarning: Columns (0,4,7,10,11) have mixed types. Specify dtype option on import or set low_memory=False.\n",
      "  df_contributions = pd.read_csv(os.path.join(path_to_grants, \"df_contribution_normalized.csv\"))\n"
     ]
    }
   ],
   "source": [
    "df_contributions = pd.read_csv(os.path.join(path_to_grants, \"df_contribution_normalized.csv\"))\n",
    "df_applications = pd.read_csv(os.path.join(path_to_grants, \"df_application_normalized.csv\"))"
   ]
  },
  {
   "cell_type": "code",
   "execution_count": null,
   "metadata": {},
   "outputs": [],
   "source": [
    "df_ctbt_round = df_contributions.loc[df_contributions['project_round'] == gr_round,: ]"
   ]
  },
  {
   "cell_type": "code",
   "execution_count": null,
   "metadata": {},
   "outputs": [
    {
     "data": {
      "text/plain": [
       "(8556, 12)"
      ]
     },
     "execution_count": 93,
     "metadata": {},
     "output_type": "execute_result"
    }
   ],
   "source": [
    "df_ctbt_round.shape"
   ]
  },
  {
   "cell_type": "code",
   "execution_count": null,
   "metadata": {},
   "outputs": [
    {
     "data": {
      "text/plain": [
       "Index(['ctbt_id', 'ctbt_token', 'ctbt_amount', 'ctbt_address',\n",
       "       'project_address', 'ctbt_timestamp', 'project_round', 'checkout_type',\n",
       "       'ctbt_amount_in_usd', 'raw_amount_in_token', 'ctbt_tx_hash',\n",
       "       'ctbt_modified_on'],\n",
       "      dtype='object')"
      ]
     },
     "execution_count": 90,
     "metadata": {},
     "output_type": "execute_result"
    }
   ],
   "source": [
    "df_ctbt_round.columns"
   ]
  },
  {
   "cell_type": "code",
   "execution_count": null,
   "metadata": {},
   "outputs": [
    {
     "data": {
      "text/plain": [
       "2464"
      ]
     },
     "execution_count": 91,
     "metadata": {},
     "output_type": "execute_result"
    }
   ],
   "source": [
    "df_ctbt_round.ctbt_address.nunique()"
   ]
  },
  {
   "cell_type": "code",
   "execution_count": null,
   "metadata": {},
   "outputs": [
    {
     "data": {
      "text/plain": [
       "array(['CLIMATE'], dtype=object)"
      ]
     },
     "execution_count": 174,
     "metadata": {},
     "output_type": "execute_result"
    }
   ],
   "source": [
    "df_ctbt_round.project_round.unique()"
   ]
  },
  {
   "attachments": {},
   "cell_type": "markdown",
   "metadata": {},
   "source": [
    "Many contributors have contributed several times to the climate grants. This is a sign that they are many sybils."
   ]
  },
  {
   "cell_type": "code",
   "execution_count": null,
   "metadata": {},
   "outputs": [
    {
     "data": {
      "text/plain": [
       "812"
      ]
     },
     "execution_count": 98,
     "metadata": {},
     "output_type": "execute_result"
    }
   ],
   "source": [
    "(df_ctbt_round.groupby('ctbt_address').ctbt_id.count() > 1).sum()"
   ]
  },
  {
   "cell_type": "code",
   "execution_count": null,
   "metadata": {},
   "outputs": [
    {
     "data": {
      "text/plain": [
       "project_address                             ctbt_address                              \n",
       "0x14cb60f6aca2b2a68d975743bacb33f01f587da5  0x67f06a56dbab410d1e06dc75493a1a09fc788047    3\n",
       "0x48f2696fb6fab7ac0956175b2e25b456e61b3fcf  0x67f06a56dbab410d1e06dc75493a1a09fc788047    3\n",
       "0x0f7272f8873b68b2a2f52685311822d831afc8b4  0x67f06a56dbab410d1e06dc75493a1a09fc788047    3\n",
       "0x41dde2dc7f718d5f764fc97e8d122864587642d4  0x67f06a56dbab410d1e06dc75493a1a09fc788047    3\n",
       "0x8d860d4f254ed45946f5fb0e3243c1db63a4ea2f  0x719028736f10164c838ef129936779ed739312f2    2\n",
       "                                                                                         ..\n",
       "0x41dde2dc7f718d5f764fc97e8d122864587642d4  0x140063a309fa9cab5f50c55ffd4fae592177a263    1\n",
       "                                            0x12b71792cb33186111f1a973e31c22c92547beae    1\n",
       "                                            0x12358f3801e916d7df8d86d7be9e48559837f6a7    1\n",
       "                                            0x10c0613d50cf8cd8886a9f248ce13d41b1d90faf    1\n",
       "0xfe97e32a873aa2f926fbfc560abeef01f753c128  0xf30bc2d6b591a648dbfa73ad1bc05f6bf2eeb565    1\n",
       "Name: ctbt_id, Length: 8275, dtype: int64"
      ]
     },
     "execution_count": 100,
     "metadata": {},
     "output_type": "execute_result"
    }
   ],
   "source": [
    "df_ctbt_round.groupby(['project_address', 'ctbt_address']).ctbt_id.count().sort_values(ascending=False)"
   ]
  },
  {
   "cell_type": "code",
   "execution_count": null,
   "metadata": {},
   "outputs": [],
   "source": [
    "gb_has_multi_ctbt_to_project = df_ctbt_round.groupby(['project_address', 'ctbt_address']).ctbt_id.count() > 1"
   ]
  },
  {
   "cell_type": "code",
   "execution_count": null,
   "metadata": {},
   "outputs": [
    {
     "name": "stderr",
     "output_type": "stream",
     "text": [
      "C:\\Users\\DELL Admin\\AppData\\Local\\Temp\\ipykernel_8116\\1799691189.py:1: FutureWarning: The default value of numeric_only in DataFrameGroupBy.sum is deprecated. In a future version, numeric_only will default to False. Either specify numeric_only or select only columns which should be valid for the function.\n",
      "  has_multi_ctbt_to_project = gb_has_multi_ctbt_to_project.reset_index().groupby('ctbt_address').sum().sort_values(by='ctbt_id', ascending=False) > 0\n"
     ]
    }
   ],
   "source": [
    "has_multi_ctbt_to_project = gb_has_multi_ctbt_to_project.reset_index().groupby('ctbt_address').sum().sort_values(by='ctbt_id', ascending=False) > 0"
   ]
  },
  {
   "cell_type": "code",
   "execution_count": null,
   "metadata": {},
   "outputs": [
    {
     "name": "stdout",
     "output_type": "stream",
     "text": [
      "69 out of 2464 wallets have contributed more than one time to a project.\n"
     ]
    }
   ],
   "source": [
    "print(f\"{has_multi_ctbt_to_project.sum().ctbt_id} out of {has_multi_ctbt_to_project.shape[0]} wallets have contributed more than one time to a project.\")"
   ]
  },
  {
   "cell_type": "code",
   "execution_count": null,
   "metadata": {},
   "outputs": [],
   "source": [
    "df_matching_reduced[\"many_ctbt_to_project\"] = has_multi_ctbt_to_project"
   ]
  },
  {
   "cell_type": "code",
   "execution_count": null,
   "metadata": {},
   "outputs": [
    {
     "data": {
      "text/html": [
       "<div>\n",
       "<style scoped>\n",
       "    .dataframe tbody tr th:only-of-type {\n",
       "        vertical-align: middle;\n",
       "    }\n",
       "\n",
       "    .dataframe tbody tr th {\n",
       "        vertical-align: top;\n",
       "    }\n",
       "\n",
       "    .dataframe thead th {\n",
       "        text-align: right;\n",
       "    }\n",
       "</style>\n",
       "<table border=\"1\" class=\"dataframe\">\n",
       "  <thead>\n",
       "    <tr style=\"text-align: right;\">\n",
       "      <th></th>\n",
       "      <th>seed_suspicious</th>\n",
       "      <th>less_5_tx</th>\n",
       "      <th>interacted_other_ctbt</th>\n",
       "      <th>same_seed_without_label</th>\n",
       "      <th>many_ctbt_to_project</th>\n",
       "    </tr>\n",
       "    <tr>\n",
       "      <th>address</th>\n",
       "      <th></th>\n",
       "      <th></th>\n",
       "      <th></th>\n",
       "      <th></th>\n",
       "      <th></th>\n",
       "    </tr>\n",
       "  </thead>\n",
       "  <tbody>\n",
       "    <tr>\n",
       "      <th>0x001f41de6f455d6df74a669c6b21b6dda1bae644</th>\n",
       "      <td>False</td>\n",
       "      <td>True</td>\n",
       "      <td>False</td>\n",
       "      <td>False</td>\n",
       "      <td>False</td>\n",
       "    </tr>\n",
       "    <tr>\n",
       "      <th>0x002153708f11f2651215059eea30820ee4d49ff3</th>\n",
       "      <td>False</td>\n",
       "      <td>False</td>\n",
       "      <td>False</td>\n",
       "      <td>False</td>\n",
       "      <td>False</td>\n",
       "    </tr>\n",
       "  </tbody>\n",
       "</table>\n",
       "</div>"
      ],
      "text/plain": [
       "                                            seed_suspicious  less_5_tx  \\\n",
       "address                                                                  \n",
       "0x001f41de6f455d6df74a669c6b21b6dda1bae644            False       True   \n",
       "0x002153708f11f2651215059eea30820ee4d49ff3            False      False   \n",
       "\n",
       "                                            interacted_other_ctbt  \\\n",
       "address                                                             \n",
       "0x001f41de6f455d6df74a669c6b21b6dda1bae644                  False   \n",
       "0x002153708f11f2651215059eea30820ee4d49ff3                  False   \n",
       "\n",
       "                                            same_seed_without_label  \\\n",
       "address                                                               \n",
       "0x001f41de6f455d6df74a669c6b21b6dda1bae644                    False   \n",
       "0x002153708f11f2651215059eea30820ee4d49ff3                    False   \n",
       "\n",
       "                                            many_ctbt_to_project  \n",
       "address                                                           \n",
       "0x001f41de6f455d6df74a669c6b21b6dda1bae644                 False  \n",
       "0x002153708f11f2651215059eea30820ee4d49ff3                 False  "
      ]
     },
     "execution_count": 116,
     "metadata": {},
     "output_type": "execute_result"
    }
   ],
   "source": [
    "df_matching_reduced.head(2)"
   ]
  },
  {
   "cell_type": "code",
   "execution_count": null,
   "metadata": {},
   "outputs": [],
   "source": [
    "suspicious_address = df_matching_reduced[df_matching_reduced.sum(axis=1)>0].index.values"
   ]
  },
  {
   "attachments": {},
   "cell_type": "markdown",
   "metadata": {},
   "source": [
    "Which projects are the most impacted?"
   ]
  },
  {
   "cell_type": "code",
   "execution_count": null,
   "metadata": {},
   "outputs": [
    {
     "data": {
      "text/plain": [
       "(8556, 12)"
      ]
     },
     "execution_count": 128,
     "metadata": {},
     "output_type": "execute_result"
    }
   ],
   "source": [
    "df_ctbt_round.shape"
   ]
  },
  {
   "cell_type": "code",
   "execution_count": null,
   "metadata": {},
   "outputs": [],
   "source": [
    "df_suspicious_votes = df_ctbt_round[df_ctbt_round.apply(lambda x : x['ctbt_address'] in suspicious_address, axis=1)]"
   ]
  },
  {
   "cell_type": "code",
   "execution_count": null,
   "metadata": {},
   "outputs": [
    {
     "data": {
      "text/plain": [
       "project_address\n",
       "0x8d860d4f254ed45946f5fb0e3243c1db63a4ea2f    163\n",
       "0x18aa467e40e1defb1956708830a343c1d01d3d7c    139\n",
       "0x1208a26faa0f4ac65b42098419eb4daa5e580ac6    137\n",
       "0x08a3c2a819e3de7aca384c798269b3ce1cd0e437    133\n",
       "0x99b36fdbc582d113af36a21eba06bfeab7b9be12    128\n",
       "                                             ... \n",
       "0x799b774204a348e1182fe01074c51444ba70a149      1\n",
       "0xe126b3e5d052f1f575828f61feba4f4f2603652a      1\n",
       "0x9cce47e9cf12c6147c9844adbb81fe85880c4df4      1\n",
       "0x7f06ac71366631157551d97559b82975c293fdba      1\n",
       "0x7bd7de26ebd064465bb9c272513bb3bcbddb1e93      1\n",
       "Name: ctbt_id, Length: 65, dtype: int64"
      ]
     },
     "execution_count": 134,
     "metadata": {},
     "output_type": "execute_result"
    }
   ],
   "source": [
    "df_suspicious_votes.groupby('project_address').ctbt_id.count().sort_values(ascending=False)"
   ]
  },
  {
   "cell_type": "code",
   "execution_count": null,
   "metadata": {},
   "outputs": [],
   "source": [
    "import seaborn as sns"
   ]
  },
  {
   "attachments": {},
   "cell_type": "markdown",
   "metadata": {},
   "source": [
    "Histplot of the number of suspicious contributor per project"
   ]
  },
  {
   "cell_type": "code",
   "execution_count": null,
   "metadata": {},
   "outputs": [
    {
     "data": {
      "text/plain": [
       "<AxesSubplot: xlabel='ctbt_id', ylabel='Count'>"
      ]
     },
     "execution_count": 143,
     "metadata": {},
     "output_type": "execute_result"
    },
    {
     "data": {
      "image/png": "[encoded data removed]",
      "text/plain": [
       "<Figure size 640x480 with 1 Axes>"
      ]
     },
     "metadata": {},
     "output_type": "display_data"
    }
   ],
   "source": [
    "sns.histplot(df_suspicious_votes.groupby('project_address').ctbt_id.count(), bins=17)"
   ]
  },
  {
   "attachments": {},
   "cell_type": "markdown",
   "metadata": {},
   "source": [
    "We must also look at the ratio of suspicious contributors"
   ]
  },
  {
   "cell_type": "code",
   "execution_count": null,
   "metadata": {},
   "outputs": [
    {
     "data": {
      "text/plain": [
       "project_address\n",
       "0x01d79bceaeaadfb8fd2f2f53005289cfcf483464     85\n",
       "0x035a1f3419dd223293e5411133d9c786f5885425    200\n",
       "0x08a3c2a819e3de7aca384c798269b3ce1cd0e437    162\n",
       "0x0ea26051f7657d59418da186137141cea90d0652    177\n",
       "0x0f7272f8873b68b2a2f52685311822d831afc8b4    227\n",
       "                                             ... \n",
       "0xf64bbc221f89cc882fba507908bbe4ae3ad2f470    284\n",
       "0xfbca78474a09e2bf3543f4fc1037152ea2c6c32d    277\n",
       "0xfc148c92062ae30d788d48031b89b45237f27af7    144\n",
       "0xfd9f8a0f4bdeac72f08af1c708023cc31dd2e3be    123\n",
       "0xfe97e32a873aa2f926fbfc560abeef01f753c128     29\n",
       "Name: ctbt_id, Length: 66, dtype: int64"
      ]
     },
     "execution_count": 145,
     "metadata": {},
     "output_type": "execute_result"
    }
   ],
   "source": [
    "df_ctbt_round.groupby('project_address').ctbt_id.count()"
   ]
  },
  {
   "cell_type": "code",
   "execution_count": null,
   "metadata": {},
   "outputs": [],
   "source": [
    "df_ctbt_round[\"suspicious_flag\"] = df_ctbt_round['ctbt_address'].apply(lambda x : x in suspicious_address)"
   ]
  },
  {
   "cell_type": "code",
   "execution_count": null,
   "metadata": {},
   "outputs": [
    {
     "data": {
      "text/plain": [
       "project_address\n",
       "0x01d79bceaeaadfb8fd2f2f53005289cfcf483464     73\n",
       "0x035a1f3419dd223293e5411133d9c786f5885425     85\n",
       "0x08a3c2a819e3de7aca384c798269b3ce1cd0e437    133\n",
       "0x0ea26051f7657d59418da186137141cea90d0652     57\n",
       "0x0f7272f8873b68b2a2f52685311822d831afc8b4     93\n",
       "                                             ... \n",
       "0xf64bbc221f89cc882fba507908bbe4ae3ad2f470    107\n",
       "0xfbca78474a09e2bf3543f4fc1037152ea2c6c32d     78\n",
       "0xfc148c92062ae30d788d48031b89b45237f27af7     54\n",
       "0xfd9f8a0f4bdeac72f08af1c708023cc31dd2e3be     35\n",
       "0xfe97e32a873aa2f926fbfc560abeef01f753c128     25\n",
       "Name: suspicious_flag, Length: 66, dtype: int64"
      ]
     },
     "execution_count": 154,
     "metadata": {},
     "output_type": "execute_result"
    }
   ],
   "source": [
    "df_ctbt_round.groupby(['project_address']).suspicious_flag.sum()"
   ]
  },
  {
   "cell_type": "code",
   "execution_count": null,
   "metadata": {},
   "outputs": [
    {
     "data": {
      "text/plain": [
       "array(['CLIMATE'], dtype=object)"
      ]
     },
     "execution_count": 183,
     "metadata": {},
     "output_type": "execute_result"
    }
   ],
   "source": [
    "df_ctbt_round.project_round.unique()"
   ]
  },
  {
   "cell_type": "code",
   "execution_count": null,
   "metadata": {},
   "outputs": [],
   "source": [
    "ratio_suspicious_ctbt = df_ctbt_round.groupby(['project_address']).suspicious_flag.sum() / df_ctbt_round.groupby(['project_address']).ctbt_id.count()"
   ]
  },
  {
   "cell_type": "code",
   "execution_count": null,
   "metadata": {},
   "outputs": [
    {
     "data": {
      "text/plain": [
       "project_address\n",
       "0xe126b3e5d052f1f575828f61feba4f4f2603652a    1.000000\n",
       "0x9cce47e9cf12c6147c9844adbb81fe85880c4df4    1.000000\n",
       "0x7f06ac71366631157551d97559b82975c293fdba    1.000000\n",
       "0x7bd7de26ebd064465bb9c272513bb3bcbddb1e93    1.000000\n",
       "0x799b774204a348e1182fe01074c51444ba70a149    1.000000\n",
       "                                                ...   \n",
       "0x81c776d0d7f7d9d3699851993ecaa88a46187f11    0.287234\n",
       "0xfd9f8a0f4bdeac72f08af1c708023cc31dd2e3be    0.284553\n",
       "0xfbca78474a09e2bf3543f4fc1037152ea2c6c32d    0.281588\n",
       "0x14cb60f6aca2b2a68d975743bacb33f01f587da5    0.278226\n",
       "0x283949d7c2ad3c8bca304df6aa5d9a2a78e02b77    0.000000\n",
       "Length: 66, dtype: float64"
      ]
     },
     "execution_count": 159,
     "metadata": {},
     "output_type": "execute_result"
    }
   ],
   "source": [
    "ratio_suspicious_ctbt.sort_values(ascending=False)"
   ]
  },
  {
   "cell_type": "code",
   "execution_count": null,
   "metadata": {},
   "outputs": [
    {
     "data": {
      "text/plain": [
       "<AxesSubplot: ylabel='Count'>"
      ]
     },
     "execution_count": 160,
     "metadata": {},
     "output_type": "execute_result"
    },
    {
     "data": {
      "image/png": "[encoded data removed]",
      "text/plain": [
       "<Figure size 640x480 with 1 Axes>"
      ]
     },
     "metadata": {},
     "output_type": "display_data"
    }
   ],
   "source": [
    "sns.histplot(ratio_suspicious_ctbt, bins=17)"
   ]
  },
  {
   "attachments": {},
   "cell_type": "markdown",
   "metadata": {},
   "source": [
    "With a ratio of suspicious contributors above 0.7 the project should be investigated."
   ]
  },
  {
   "attachments": {},
   "cell_type": "markdown",
   "metadata": {},
   "source": [
    "Histogram with all contributions"
   ]
  },
  {
   "cell_type": "code",
   "execution_count": null,
   "metadata": {},
   "outputs": [
    {
     "data": {
      "text/plain": [
       "<AxesSubplot: xlabel='suspicious_flag', ylabel='Count'>"
      ]
     },
     "execution_count": 155,
     "metadata": {},
     "output_type": "execute_result"
    },
    {
     "data": {
      "image/png": "[encoded data removed]",
      "text/plain": [
       "<Figure size 640x480 with 1 Axes>"
      ]
     },
     "metadata": {},
     "output_type": "display_data"
    }
   ],
   "source": [
    "sns.histplot(df_ctbt_round.groupby(['project_address']).suspicious_flag.sum(), bins=17)"
   ]
  },
  {
   "attachments": {},
   "cell_type": "markdown",
   "metadata": {},
   "source": [
    "Above 60 suspicious flag for a project the project is highly suspicious"
   ]
  },
  {
   "attachments": {},
   "cell_type": "markdown",
   "metadata": {},
   "source": [
    "## Retrieve suspicious project from climate grant"
   ]
  },
  {
   "cell_type": "code",
   "execution_count": null,
   "metadata": {},
   "outputs": [],
   "source": [
    "suspicious_project_address = ratio_suspicious_ctbt[ratio_suspicious_ctbt > 0.7]"
   ]
  },
  {
   "cell_type": "code",
   "execution_count": null,
   "metadata": {},
   "outputs": [
    {
     "name": "stdout",
     "output_type": "stream",
     "text": [
      "There are 15 very suspicious projects\n"
     ]
    }
   ],
   "source": [
    "print(f\"There are {suspicious_project_address.shape[0]} very suspicious projects\")"
   ]
  },
  {
   "cell_type": "code",
   "execution_count": null,
   "metadata": {},
   "outputs": [],
   "source": [
    "suspicious_applications = df_applications.loc[df_applications['project_address'].isin(suspicious_project_address.index.values), :]"
   ]
  },
  {
   "cell_type": "code",
   "execution_count": null,
   "metadata": {},
   "outputs": [
    {
     "data": {
      "text/html": [
       "<div>\n",
       "<style scoped>\n",
       "    .dataframe tbody tr th:only-of-type {\n",
       "        vertical-align: middle;\n",
       "    }\n",
       "\n",
       "    .dataframe tbody tr th {\n",
       "        vertical-align: top;\n",
       "    }\n",
       "\n",
       "    .dataframe thead th {\n",
       "        text-align: right;\n",
       "    }\n",
       "</style>\n",
       "<table border=\"1\" class=\"dataframe\">\n",
       "  <thead>\n",
       "    <tr style=\"text-align: right;\">\n",
       "      <th></th>\n",
       "      <th>grant_id</th>\n",
       "      <th>project_active_grant</th>\n",
       "      <th>project_approved</th>\n",
       "      <th>project_address</th>\n",
       "      <th>project_title</th>\n",
       "      <th>project_website</th>\n",
       "      <th>project_decription</th>\n",
       "      <th>project_created_at</th>\n",
       "      <th>project_round</th>\n",
       "      <th>project_long_id</th>\n",
       "      <th>...</th>\n",
       "      <th>project_funding_source</th>\n",
       "      <th>project_team_size</th>\n",
       "      <th>live_on_other_chains</th>\n",
       "      <th>project_value</th>\n",
       "      <th>project_improvements_to_existing</th>\n",
       "      <th>project_github_twitter_credential</th>\n",
       "      <th>project_github_org_link</th>\n",
       "      <th>project_amount_received</th>\n",
       "      <th>project_contributor_count</th>\n",
       "      <th>project_contribution_count</th>\n",
       "    </tr>\n",
       "  </thead>\n",
       "  <tbody>\n",
       "    <tr>\n",
       "      <th>819</th>\n",
       "      <td>0x30b826002362b50fbcc7ee9ccd0515e4ab91c14141d3...</td>\n",
       "      <td>NaN</td>\n",
       "      <td>NaN</td>\n",
       "      <td>0x08a3c2a819e3de7aca384c798269b3ce1cd0e437</td>\n",
       "      <td>DefiLlama</td>\n",
       "      <td>https://defillama.com/</td>\n",
       "      <td>Open and transparent DeFi TVL and analytics. F...</td>\n",
       "      <td>2022-11-18 19:46:02</td>\n",
       "      <td>FANTOM</td>\n",
       "      <td>0x30b826002362b50fbcc7ee9ccd0515e4ab91c14141d3...</td>\n",
       "      <td>...</td>\n",
       "      <td>Previously received funding from Gitcoin Grant...</td>\n",
       "      <td>13</td>\n",
       "      <td>Yes, DefiLlama tracks almost all chains and Ll...</td>\n",
       "      <td>We track DeFi metrics for fantom projects, suc...</td>\n",
       "      <td>NaN</td>\n",
       "      <td>NaN</td>\n",
       "      <td>NaN</td>\n",
       "      <td>15454.296579</td>\n",
       "      <td>10064.0</td>\n",
       "      <td>11904.0</td>\n",
       "    </tr>\n",
       "    <tr>\n",
       "      <th>821</th>\n",
       "      <td>0x37ad3db0b0bc56cea1909e6a6f21fd35453ef27f1d9a...</td>\n",
       "      <td>NaN</td>\n",
       "      <td>NaN</td>\n",
       "      <td>0xe126b3e5d052f1f575828f61feba4f4f2603652a</td>\n",
       "      <td>Revoke.cash - Helping you stay safe in web3</td>\n",
       "      <td>https://revoke.cash</td>\n",
       "      <td>Hey all, we're building free and open source t...</td>\n",
       "      <td>2022-12-01 22:26:19</td>\n",
       "      <td>FANTOM</td>\n",
       "      <td>0x37ad3db0b0bc56cea1909e6a6f21fd35453ef27f1d9a...</td>\n",
       "      <td>...</td>\n",
       "      <td>Gitcoin Grants</td>\n",
       "      <td>1</td>\n",
       "      <td>Yes, Revoke.cash supports 30+ chains, and the ...</td>\n",
       "      <td>As a DeFi ecosystem grows more funds will be a...</td>\n",
       "      <td>NaN</td>\n",
       "      <td>NaN</td>\n",
       "      <td>NaN</td>\n",
       "      <td>7404.270070</td>\n",
       "      <td>7842.0</td>\n",
       "      <td>8636.0</td>\n",
       "    </tr>\n",
       "    <tr>\n",
       "      <th>985</th>\n",
       "      <td>0x429927c3a14cbe156749adb31371f385749150ac3604...</td>\n",
       "      <td>NaN</td>\n",
       "      <td>NaN</td>\n",
       "      <td>0x7f06ac71366631157551d97559b82975c293fdba</td>\n",
       "      <td>Ethereum on ARM</td>\n",
       "      <td>https://ethereum-on-arm-documentation.readthed...</td>\n",
       "      <td>Help us to build a &lt;$400 PnP Ethereum full/arc...</td>\n",
       "      <td>2023-01-11 13:26:23</td>\n",
       "      <td>ETHEREUM</td>\n",
       "      <td>0x429927c3a14cbe156749adb31371f385749150ac3604...</td>\n",
       "      <td>...</td>\n",
       "      <td>Gitcoin Grants, EF and QF rounds</td>\n",
       "      <td>2</td>\n",
       "      <td>NaN</td>\n",
       "      <td>NaN</td>\n",
       "      <td>NaN</td>\n",
       "      <td>Yes</td>\n",
       "      <td>NaN</td>\n",
       "      <td>751.312258</td>\n",
       "      <td>411.0</td>\n",
       "      <td>420.0</td>\n",
       "    </tr>\n",
       "    <tr>\n",
       "      <th>986</th>\n",
       "      <td>0x46de99c3a4e0542fde6d77bfa1ff6d19e107f253ea52...</td>\n",
       "      <td>NaN</td>\n",
       "      <td>NaN</td>\n",
       "      <td>0x08a3c2a819e3de7aca384c798269b3ce1cd0e437</td>\n",
       "      <td>Chainlist</td>\n",
       "      <td>https://chainlist.org/</td>\n",
       "      <td>We track all RPCs available for all chains, mo...</td>\n",
       "      <td>2023-01-15 23:49:35</td>\n",
       "      <td>ETHEREUM</td>\n",
       "      <td>0x46de99c3a4e0542fde6d77bfa1ff6d19e107f253ea52...</td>\n",
       "      <td>...</td>\n",
       "      <td>Donations + self-funding</td>\n",
       "      <td>2</td>\n",
       "      <td>NaN</td>\n",
       "      <td>NaN</td>\n",
       "      <td>NaN</td>\n",
       "      <td>Yes</td>\n",
       "      <td>NaN</td>\n",
       "      <td>15454.296579</td>\n",
       "      <td>10064.0</td>\n",
       "      <td>11904.0</td>\n",
       "    </tr>\n",
       "    <tr>\n",
       "      <th>996</th>\n",
       "      <td>0x99b81016d61f8b9115282b1055649d4876f386197590...</td>\n",
       "      <td>NaN</td>\n",
       "      <td>NaN</td>\n",
       "      <td>0x9cce47e9cf12c6147c9844adbb81fe85880c4df4</td>\n",
       "      <td>NiceNode: Run a node — just press start</td>\n",
       "      <td>https://nicenode.xyz</td>\n",
       "      <td>\\nThe current options to run a node require te...</td>\n",
       "      <td>2023-01-10 20:25:23</td>\n",
       "      <td>ETHEREUM</td>\n",
       "      <td>0x99b81016d61f8b9115282b1055649d4876f386197590...</td>\n",
       "      <td>...</td>\n",
       "      <td>Gitcoin, CityDAO, EF ESP program</td>\n",
       "      <td>3</td>\n",
       "      <td>NaN</td>\n",
       "      <td>NaN</td>\n",
       "      <td>NaN</td>\n",
       "      <td>yes for Twitter, working on Github (was an error)</td>\n",
       "      <td>NaN</td>\n",
       "      <td>627.757908</td>\n",
       "      <td>433.0</td>\n",
       "      <td>436.0</td>\n",
       "    </tr>\n",
       "    <tr>\n",
       "      <th>1006</th>\n",
       "      <td>0xfce9d62f9a833d6f7185f0051701d5a9e64c83d1daca...</td>\n",
       "      <td>NaN</td>\n",
       "      <td>NaN</td>\n",
       "      <td>0x08a3c2a819e3de7aca384c798269b3ce1cd0e437</td>\n",
       "      <td>DefiLlama APIs</td>\n",
       "      <td>https://defillama.com</td>\n",
       "      <td>DefiLlama provides multiple APIs for free that...</td>\n",
       "      <td>2023-01-14 22:00:59</td>\n",
       "      <td>ETHEREUM</td>\n",
       "      <td>0xfce9d62f9a833d6f7185f0051701d5a9e64c83d1daca...</td>\n",
       "      <td>...</td>\n",
       "      <td>Donations + self-funding</td>\n",
       "      <td>11 full time people + 2 interns</td>\n",
       "      <td>NaN</td>\n",
       "      <td>NaN</td>\n",
       "      <td>NaN</td>\n",
       "      <td>Yes</td>\n",
       "      <td>NaN</td>\n",
       "      <td>15454.296579</td>\n",
       "      <td>10064.0</td>\n",
       "      <td>11904.0</td>\n",
       "    </tr>\n",
       "    <tr>\n",
       "      <th>1011</th>\n",
       "      <td>0x0f1d31d427400106f3d2958225dd235ae60b6a7572fb...</td>\n",
       "      <td>NaN</td>\n",
       "      <td>NaN</td>\n",
       "      <td>0x01d79bceaeaadfb8fd2f2f53005289cfcf483464</td>\n",
       "      <td>Lenstube</td>\n",
       "      <td>https://lenstube.xyz</td>\n",
       "      <td>Decentralized video-sharing social media platf...</td>\n",
       "      <td>2023-01-12 06:50:23</td>\n",
       "      <td>OSS</td>\n",
       "      <td>0x0f1d31d427400106f3d2958225dd235ae60b6a7572fb...</td>\n",
       "      <td>...</td>\n",
       "      <td>Nil</td>\n",
       "      <td>1</td>\n",
       "      <td>NaN</td>\n",
       "      <td>NaN</td>\n",
       "      <td>NaN</td>\n",
       "      <td>Yes</td>\n",
       "      <td>User Account - sasicodes, Organization Account...</td>\n",
       "      <td>3560.551441</td>\n",
       "      <td>3035.0</td>\n",
       "      <td>3121.0</td>\n",
       "    </tr>\n",
       "    <tr>\n",
       "      <th>1021</th>\n",
       "      <td>0x20632d089357836c07c38ae6a8b50449fa86c9eef6fd...</td>\n",
       "      <td>NaN</td>\n",
       "      <td>NaN</td>\n",
       "      <td>0x7bd7de26ebd064465bb9c272513bb3bcbddb1e93</td>\n",
       "      <td>White Hat DAO</td>\n",
       "      <td>https://whitehatdao.com</td>\n",
       "      <td>Safety and security should be at the heart of ...</td>\n",
       "      <td>2023-01-08 21:15:59</td>\n",
       "      <td>OSS</td>\n",
       "      <td>0x20632d089357836c07c38ae6a8b50449fa86c9eef6fd...</td>\n",
       "      <td>...</td>\n",
       "      <td>Grants + raising funds through smart contract ...</td>\n",
       "      <td>19</td>\n",
       "      <td>NaN</td>\n",
       "      <td>NaN</td>\n",
       "      <td>NaN</td>\n",
       "      <td>Yes</td>\n",
       "      <td>https://github.com/WhiteHatDAO</td>\n",
       "      <td>164.848446</td>\n",
       "      <td>157.0</td>\n",
       "      <td>160.0</td>\n",
       "    </tr>\n",
       "    <tr>\n",
       "      <th>1029</th>\n",
       "      <td>0x3e4b3f7089aa5cb6614b67e235624d01364febe41841...</td>\n",
       "      <td>NaN</td>\n",
       "      <td>NaN</td>\n",
       "      <td>0x1208a26faa0f4ac65b42098419eb4daa5e580ac6</td>\n",
       "      <td>Optinames | ENS on Optimism</td>\n",
       "      <td>https://optinames.eth.limo</td>\n",
       "      <td>What are Optinames?\\n\\nOptinames are tradable ...</td>\n",
       "      <td>2023-01-15 10:04:47</td>\n",
       "      <td>OSS</td>\n",
       "      <td>0x3e4b3f7089aa5cb6614b67e235624d01364febe41841...</td>\n",
       "      <td>...</td>\n",
       "      <td>Gitcoin Grants</td>\n",
       "      <td>2</td>\n",
       "      <td>NaN</td>\n",
       "      <td>NaN</td>\n",
       "      <td>NaN</td>\n",
       "      <td>Yes</td>\n",
       "      <td>https://github.com/stevegachau</td>\n",
       "      <td>1918.848550</td>\n",
       "      <td>1628.0</td>\n",
       "      <td>1664.0</td>\n",
       "    </tr>\n",
       "    <tr>\n",
       "      <th>1032</th>\n",
       "      <td>0x43b94c544e8ac90c535752b8624e730820a5a752b361...</td>\n",
       "      <td>NaN</td>\n",
       "      <td>NaN</td>\n",
       "      <td>0x799b774204a348e1182fe01074c51444ba70a149</td>\n",
       "      <td>0xDeadList</td>\n",
       "      <td>https://0xdeadlist.io</td>\n",
       "      <td>Inspiration\\nWhen we say that an Ethereum acco...</td>\n",
       "      <td>2023-01-08 07:38:23</td>\n",
       "      <td>OSS</td>\n",
       "      <td>0x43b94c544e8ac90c535752b8624e730820a5a752b361...</td>\n",
       "      <td>...</td>\n",
       "      <td>None</td>\n",
       "      <td>5</td>\n",
       "      <td>NaN</td>\n",
       "      <td>NaN</td>\n",
       "      <td>NaN</td>\n",
       "      <td>Yes</td>\n",
       "      <td>https://github.com/colinlyguo</td>\n",
       "      <td>116.124192</td>\n",
       "      <td>106.0</td>\n",
       "      <td>109.0</td>\n",
       "    </tr>\n",
       "    <tr>\n",
       "      <th>1033</th>\n",
       "      <td>0x46ddc886ac23d5bc2cbc96cd2aa990627bcd98c881a9...</td>\n",
       "      <td>NaN</td>\n",
       "      <td>NaN</td>\n",
       "      <td>0x08a3c2a819e3de7aca384c798269b3ce1cd0e437</td>\n",
       "      <td>DefiLlama</td>\n",
       "      <td>https://defillama.com/</td>\n",
       "      <td>Open and transparent DeFi TVL and analytics</td>\n",
       "      <td>2023-01-14 21:38:23</td>\n",
       "      <td>OSS</td>\n",
       "      <td>0x46ddc886ac23d5bc2cbc96cd2aa990627bcd98c881a9...</td>\n",
       "      <td>...</td>\n",
       "      <td>Donations + self-funding</td>\n",
       "      <td>11 full time people + 2 interns</td>\n",
       "      <td>NaN</td>\n",
       "      <td>NaN</td>\n",
       "      <td>NaN</td>\n",
       "      <td>Yes</td>\n",
       "      <td>org account: https://github.com/DefiLlama, my ...</td>\n",
       "      <td>15454.296579</td>\n",
       "      <td>10064.0</td>\n",
       "      <td>11904.0</td>\n",
       "    </tr>\n",
       "    <tr>\n",
       "      <th>1047</th>\n",
       "      <td>0x60c037f9dfa5daee0f07bc26fb73393ef924e36c73c4...</td>\n",
       "      <td>NaN</td>\n",
       "      <td>NaN</td>\n",
       "      <td>0x18aa467e40e1defb1956708830a343c1d01d3d7c</td>\n",
       "      <td>JediSwap</td>\n",
       "      <td>https://jediswap.xyz</td>\n",
       "      <td>Note: Donations for this grant are for develop...</td>\n",
       "      <td>2023-01-17 07:47:47</td>\n",
       "      <td>OSS</td>\n",
       "      <td>0x60c037f9dfa5daee0f07bc26fb73393ef924e36c73c4...</td>\n",
       "      <td>...</td>\n",
       "      <td>Gitcoin grant mainly. No external funding. Mes...</td>\n",
       "      <td>300+ contributors (dev + non dev)</td>\n",
       "      <td>NaN</td>\n",
       "      <td>NaN</td>\n",
       "      <td>NaN</td>\n",
       "      <td>Yes</td>\n",
       "      <td>https://github.com/jediswapintern, https://git...</td>\n",
       "      <td>5370.176026</td>\n",
       "      <td>4163.0</td>\n",
       "      <td>4270.0</td>\n",
       "    </tr>\n",
       "    <tr>\n",
       "      <th>1050</th>\n",
       "      <td>0x67583b52562147ffe4d7b9c4422c6109d0d18a596c25...</td>\n",
       "      <td>NaN</td>\n",
       "      <td>NaN</td>\n",
       "      <td>0x9d100f017095e53b24d81296bca1d26742f1800f</td>\n",
       "      <td>StarkDeFi</td>\n",
       "      <td>https://www.starkdefi.com</td>\n",
       "      <td>StarkDeFi is a suite of decentralized financia...</td>\n",
       "      <td>2023-01-09 20:47:11</td>\n",
       "      <td>OSS</td>\n",
       "      <td>0x67583b52562147ffe4d7b9c4422c6109d0d18a596c25...</td>\n",
       "      <td>...</td>\n",
       "      <td>GR15</td>\n",
       "      <td>4</td>\n",
       "      <td>NaN</td>\n",
       "      <td>NaN</td>\n",
       "      <td>NaN</td>\n",
       "      <td>YES</td>\n",
       "      <td>https://github.com/Starkdefi/StarkDefi-contracts</td>\n",
       "      <td>4493.664469</td>\n",
       "      <td>3636.0</td>\n",
       "      <td>3729.0</td>\n",
       "    </tr>\n",
       "    <tr>\n",
       "      <th>1062</th>\n",
       "      <td>0x8029c7cda58d70a6cd81ac56a6a678e8ccfb560f153e...</td>\n",
       "      <td>NaN</td>\n",
       "      <td>NaN</td>\n",
       "      <td>0xfe97e32a873aa2f926fbfc560abeef01f753c128</td>\n",
       "      <td>Soul Wallet</td>\n",
       "      <td>https://soulwallets.me</td>\n",
       "      <td>Next-gen Ethereum wallet for everyone.</td>\n",
       "      <td>2023-01-13 21:10:35</td>\n",
       "      <td>OSS</td>\n",
       "      <td>0x8029c7cda58d70a6cd81ac56a6a678e8ccfb560f153e...</td>\n",
       "      <td>...</td>\n",
       "      <td>Ethereum community and VCs</td>\n",
       "      <td>10</td>\n",
       "      <td>NaN</td>\n",
       "      <td>NaN</td>\n",
       "      <td>NaN</td>\n",
       "      <td>yes</td>\n",
       "      <td>https://github.com/proofofsoulprotocol/soul-wa...</td>\n",
       "      <td>629.748810</td>\n",
       "      <td>708.0</td>\n",
       "      <td>717.0</td>\n",
       "    </tr>\n",
       "    <tr>\n",
       "      <th>1069</th>\n",
       "      <td>0x91db8779fa1b15d75761e358fe57683892c68d5cad11...</td>\n",
       "      <td>NaN</td>\n",
       "      <td>NaN</td>\n",
       "      <td>0x2af4125c8fe208a349ef78d3cb980308ab1ed34f</td>\n",
       "      <td>Proof of Humanity</td>\n",
       "      <td>https://proofofhumanity.eth.limo</td>\n",
       "      <td>Sybil-resistant registry of Humans using socia...</td>\n",
       "      <td>2023-01-16 18:01:47</td>\n",
       "      <td>OSS</td>\n",
       "      <td>0x91db8779fa1b15d75761e358fe57683892c68d5cad11...</td>\n",
       "      <td>...</td>\n",
       "      <td>Non profits</td>\n",
       "      <td>10</td>\n",
       "      <td>NaN</td>\n",
       "      <td>NaN</td>\n",
       "      <td>NaN</td>\n",
       "      <td>Didnt work</td>\n",
       "      <td>Democracy Earth Foundation</td>\n",
       "      <td>1723.308271</td>\n",
       "      <td>1737.0</td>\n",
       "      <td>1775.0</td>\n",
       "    </tr>\n",
       "    <tr>\n",
       "      <th>1078</th>\n",
       "      <td>0x9fb5b0d0698dc64cbd3a01c5205ebc5ef609e7d20c21...</td>\n",
       "      <td>NaN</td>\n",
       "      <td>NaN</td>\n",
       "      <td>0x57ea12a3a8e441f5fe7b1f3af1121097b7d3b6a8</td>\n",
       "      <td>Umbra</td>\n",
       "      <td>https://app.umbra.cash</td>\n",
       "      <td>Umbra is a protocol that lets you get paid pri...</td>\n",
       "      <td>2023-01-12 18:59:11</td>\n",
       "      <td>OSS</td>\n",
       "      <td>0x9fb5b0d0698dc64cbd3a01c5205ebc5ef609e7d20c21...</td>\n",
       "      <td>...</td>\n",
       "      <td>Grants</td>\n",
       "      <td>6</td>\n",
       "      <td>NaN</td>\n",
       "      <td>NaN</td>\n",
       "      <td>NaN</td>\n",
       "      <td>Yes</td>\n",
       "      <td>https://github.com/apbendi, https://github.com...</td>\n",
       "      <td>1503.918455</td>\n",
       "      <td>1228.0</td>\n",
       "      <td>1259.0</td>\n",
       "    </tr>\n",
       "    <tr>\n",
       "      <th>1090</th>\n",
       "      <td>0xafb022ea11846bceb90516c35155defd6404e4948697...</td>\n",
       "      <td>NaN</td>\n",
       "      <td>NaN</td>\n",
       "      <td>0x99b36fdbc582d113af36a21eba06bfeab7b9be12</td>\n",
       "      <td>Tally Ho! - Open Source and Community Owned Wa...</td>\n",
       "      <td>https://tallyho.org</td>\n",
       "      <td>Help fund the development of the first open so...</td>\n",
       "      <td>2023-01-13 19:20:59</td>\n",
       "      <td>OSS</td>\n",
       "      <td>0xafb022ea11846bceb90516c35155defd6404e4948697...</td>\n",
       "      <td>...</td>\n",
       "      <td>Thesis is funding the development currently</td>\n",
       "      <td>15</td>\n",
       "      <td>NaN</td>\n",
       "      <td>NaN</td>\n",
       "      <td>NaN</td>\n",
       "      <td>Yes</td>\n",
       "      <td>https://github.com/tallyhowallet</td>\n",
       "      <td>6610.313733</td>\n",
       "      <td>3658.0</td>\n",
       "      <td>3749.0</td>\n",
       "    </tr>\n",
       "    <tr>\n",
       "      <th>1101</th>\n",
       "      <td>0xbe519f8c8f7ff2acb359dd757c5d2bf25b05d9fd29b8...</td>\n",
       "      <td>NaN</td>\n",
       "      <td>NaN</td>\n",
       "      <td>0x3a5bd1e37b099ae3386d13947b6a90d97675e5e3</td>\n",
       "      <td>Lenster</td>\n",
       "      <td>https://lenster.xyz</td>\n",
       "      <td>Lenster is a decentralized and permissionless ...</td>\n",
       "      <td>2023-01-07 07:15:23</td>\n",
       "      <td>OSS</td>\n",
       "      <td>0xbe519f8c8f7ff2acb359dd757c5d2bf25b05d9fd29b8...</td>\n",
       "      <td>...</td>\n",
       "      <td>Ethereum, Polygon, zkSync</td>\n",
       "      <td>1</td>\n",
       "      <td>NaN</td>\n",
       "      <td>NaN</td>\n",
       "      <td>NaN</td>\n",
       "      <td>yes</td>\n",
       "      <td>https://github.com/bigint, https://github.com/...</td>\n",
       "      <td>8058.569967</td>\n",
       "      <td>5075.0</td>\n",
       "      <td>5222.0</td>\n",
       "    </tr>\n",
       "    <tr>\n",
       "      <th>1124</th>\n",
       "      <td>0xe797fdf65ab6db40d29cb7144e8715799a91c9a2f8a7...</td>\n",
       "      <td>NaN</td>\n",
       "      <td>NaN</td>\n",
       "      <td>0x1208a26faa0f4ac65b42098419eb4daa5e580ac6</td>\n",
       "      <td>MintBot | Polygon NFT Minter + ENS SubDomains ...</td>\n",
       "      <td>https://mintbot.io</td>\n",
       "      <td>Mintbot started out as a service that allows E...</td>\n",
       "      <td>2023-01-10 12:47:47</td>\n",
       "      <td>OSS</td>\n",
       "      <td>0xe797fdf65ab6db40d29cb7144e8715799a91c9a2f8a7...</td>\n",
       "      <td>...</td>\n",
       "      <td>Gitcoin Grants</td>\n",
       "      <td>2</td>\n",
       "      <td>NaN</td>\n",
       "      <td>NaN</td>\n",
       "      <td>NaN</td>\n",
       "      <td>Yes</td>\n",
       "      <td>https://github.com/stevegachau</td>\n",
       "      <td>1918.848550</td>\n",
       "      <td>1628.0</td>\n",
       "      <td>1664.0</td>\n",
       "    </tr>\n",
       "    <tr>\n",
       "      <th>1126</th>\n",
       "      <td>0xf05829c76e3da92a8942378240ab4dc70c8c509f558e...</td>\n",
       "      <td>NaN</td>\n",
       "      <td>NaN</td>\n",
       "      <td>0xe126b3e5d052f1f575828f61feba4f4f2603652a</td>\n",
       "      <td>Revoke.cash - Helping you stay safe in web3</td>\n",
       "      <td>https://revoke.cash</td>\n",
       "      <td>Hey all, we're building free and open source t...</td>\n",
       "      <td>2023-01-17 05:07:47</td>\n",
       "      <td>OSS</td>\n",
       "      <td>0xf05829c76e3da92a8942378240ab4dc70c8c509f558e...</td>\n",
       "      <td>...</td>\n",
       "      <td>Gitcoin Grants</td>\n",
       "      <td>1</td>\n",
       "      <td>NaN</td>\n",
       "      <td>NaN</td>\n",
       "      <td>NaN</td>\n",
       "      <td>Yes</td>\n",
       "      <td>https://github.com/rkalis, https://github.com/...</td>\n",
       "      <td>7404.270070</td>\n",
       "      <td>7842.0</td>\n",
       "      <td>8636.0</td>\n",
       "    </tr>\n",
       "  </tbody>\n",
       "</table>\n",
       "<p>20 rows × 28 columns</p>\n",
       "</div>"
      ],
      "text/plain": [
       "                                               grant_id project_active_grant  \\\n",
       "819   0x30b826002362b50fbcc7ee9ccd0515e4ab91c14141d3...                  NaN   \n",
       "821   0x37ad3db0b0bc56cea1909e6a6f21fd35453ef27f1d9a...                  NaN   \n",
       "985   0x429927c3a14cbe156749adb31371f385749150ac3604...                  NaN   \n",
       "986   0x46de99c3a4e0542fde6d77bfa1ff6d19e107f253ea52...                  NaN   \n",
       "996   0x99b81016d61f8b9115282b1055649d4876f386197590...                  NaN   \n",
       "1006  0xfce9d62f9a833d6f7185f0051701d5a9e64c83d1daca...                  NaN   \n",
       "1011  0x0f1d31d427400106f3d2958225dd235ae60b6a7572fb...                  NaN   \n",
       "1021  0x20632d089357836c07c38ae6a8b50449fa86c9eef6fd...                  NaN   \n",
       "1029  0x3e4b3f7089aa5cb6614b67e235624d01364febe41841...                  NaN   \n",
       "1032  0x43b94c544e8ac90c535752b8624e730820a5a752b361...                  NaN   \n",
       "1033  0x46ddc886ac23d5bc2cbc96cd2aa990627bcd98c881a9...                  NaN   \n",
       "1047  0x60c037f9dfa5daee0f07bc26fb73393ef924e36c73c4...                  NaN   \n",
       "1050  0x67583b52562147ffe4d7b9c4422c6109d0d18a596c25...                  NaN   \n",
       "1062  0x8029c7cda58d70a6cd81ac56a6a678e8ccfb560f153e...                  NaN   \n",
       "1069  0x91db8779fa1b15d75761e358fe57683892c68d5cad11...                  NaN   \n",
       "1078  0x9fb5b0d0698dc64cbd3a01c5205ebc5ef609e7d20c21...                  NaN   \n",
       "1090  0xafb022ea11846bceb90516c35155defd6404e4948697...                  NaN   \n",
       "1101  0xbe519f8c8f7ff2acb359dd757c5d2bf25b05d9fd29b8...                  NaN   \n",
       "1124  0xe797fdf65ab6db40d29cb7144e8715799a91c9a2f8a7...                  NaN   \n",
       "1126  0xf05829c76e3da92a8942378240ab4dc70c8c509f558e...                  NaN   \n",
       "\n",
       "     project_approved                             project_address  \\\n",
       "819               NaN  0x08a3c2a819e3de7aca384c798269b3ce1cd0e437   \n",
       "821               NaN  0xe126b3e5d052f1f575828f61feba4f4f2603652a   \n",
       "985               NaN  0x7f06ac71366631157551d97559b82975c293fdba   \n",
       "986               NaN  0x08a3c2a819e3de7aca384c798269b3ce1cd0e437   \n",
       "996               NaN  0x9cce47e9cf12c6147c9844adbb81fe85880c4df4   \n",
       "1006              NaN  0x08a3c2a819e3de7aca384c798269b3ce1cd0e437   \n",
       "1011              NaN  0x01d79bceaeaadfb8fd2f2f53005289cfcf483464   \n",
       "1021              NaN  0x7bd7de26ebd064465bb9c272513bb3bcbddb1e93   \n",
       "1029              NaN  0x1208a26faa0f4ac65b42098419eb4daa5e580ac6   \n",
       "1032              NaN  0x799b774204a348e1182fe01074c51444ba70a149   \n",
       "1033              NaN  0x08a3c2a819e3de7aca384c798269b3ce1cd0e437   \n",
       "1047              NaN  0x18aa467e40e1defb1956708830a343c1d01d3d7c   \n",
       "1050              NaN  0x9d100f017095e53b24d81296bca1d26742f1800f   \n",
       "1062              NaN  0xfe97e32a873aa2f926fbfc560abeef01f753c128   \n",
       "1069              NaN  0x2af4125c8fe208a349ef78d3cb980308ab1ed34f   \n",
       "1078              NaN  0x57ea12a3a8e441f5fe7b1f3af1121097b7d3b6a8   \n",
       "1090              NaN  0x99b36fdbc582d113af36a21eba06bfeab7b9be12   \n",
       "1101              NaN  0x3a5bd1e37b099ae3386d13947b6a90d97675e5e3   \n",
       "1124              NaN  0x1208a26faa0f4ac65b42098419eb4daa5e580ac6   \n",
       "1126              NaN  0xe126b3e5d052f1f575828f61feba4f4f2603652a   \n",
       "\n",
       "                                          project_title  \\\n",
       "819                                           DefiLlama   \n",
       "821         Revoke.cash - Helping you stay safe in web3   \n",
       "985                                     Ethereum on ARM   \n",
       "986                                           Chainlist   \n",
       "996             NiceNode: Run a node — just press start   \n",
       "1006                                     DefiLlama APIs   \n",
       "1011                                           Lenstube   \n",
       "1021                                      White Hat DAO   \n",
       "1029                        Optinames | ENS on Optimism   \n",
       "1032                                         0xDeadList   \n",
       "1033                                          DefiLlama   \n",
       "1047                                           JediSwap   \n",
       "1050                                          StarkDeFi   \n",
       "1062                                        Soul Wallet   \n",
       "1069                                  Proof of Humanity   \n",
       "1078                                              Umbra   \n",
       "1090  Tally Ho! - Open Source and Community Owned Wa...   \n",
       "1101                                            Lenster   \n",
       "1124  MintBot | Polygon NFT Minter + ENS SubDomains ...   \n",
       "1126        Revoke.cash - Helping you stay safe in web3   \n",
       "\n",
       "                                        project_website  \\\n",
       "819                              https://defillama.com/   \n",
       "821                                 https://revoke.cash   \n",
       "985   https://ethereum-on-arm-documentation.readthed...   \n",
       "986                              https://chainlist.org/   \n",
       "996                                https://nicenode.xyz   \n",
       "1006                              https://defillama.com   \n",
       "1011                               https://lenstube.xyz   \n",
       "1021                            https://whitehatdao.com   \n",
       "1029                         https://optinames.eth.limo   \n",
       "1032                              https://0xdeadlist.io   \n",
       "1033                             https://defillama.com/   \n",
       "1047                               https://jediswap.xyz   \n",
       "1050                          https://www.starkdefi.com   \n",
       "1062                             https://soulwallets.me   \n",
       "1069                   https://proofofhumanity.eth.limo   \n",
       "1078                             https://app.umbra.cash   \n",
       "1090                                https://tallyho.org   \n",
       "1101                                https://lenster.xyz   \n",
       "1124                                 https://mintbot.io   \n",
       "1126                                https://revoke.cash   \n",
       "\n",
       "                                     project_decription   project_created_at  \\\n",
       "819   Open and transparent DeFi TVL and analytics. F...  2022-11-18 19:46:02   \n",
       "821   Hey all, we're building free and open source t...  2022-12-01 22:26:19   \n",
       "985   Help us to build a <$400 PnP Ethereum full/arc...  2023-01-11 13:26:23   \n",
       "986   We track all RPCs available for all chains, mo...  2023-01-15 23:49:35   \n",
       "996   \\nThe current options to run a node require te...  2023-01-10 20:25:23   \n",
       "1006  DefiLlama provides multiple APIs for free that...  2023-01-14 22:00:59   \n",
       "1011  Decentralized video-sharing social media platf...  2023-01-12 06:50:23   \n",
       "1021  Safety and security should be at the heart of ...  2023-01-08 21:15:59   \n",
       "1029  What are Optinames?\\n\\nOptinames are tradable ...  2023-01-15 10:04:47   \n",
       "1032  Inspiration\\nWhen we say that an Ethereum acco...  2023-01-08 07:38:23   \n",
       "1033        Open and transparent DeFi TVL and analytics  2023-01-14 21:38:23   \n",
       "1047  Note: Donations for this grant are for develop...  2023-01-17 07:47:47   \n",
       "1050  StarkDeFi is a suite of decentralized financia...  2023-01-09 20:47:11   \n",
       "1062             Next-gen Ethereum wallet for everyone.  2023-01-13 21:10:35   \n",
       "1069  Sybil-resistant registry of Humans using socia...  2023-01-16 18:01:47   \n",
       "1078  Umbra is a protocol that lets you get paid pri...  2023-01-12 18:59:11   \n",
       "1090  Help fund the development of the first open so...  2023-01-13 19:20:59   \n",
       "1101  Lenster is a decentralized and permissionless ...  2023-01-07 07:15:23   \n",
       "1124  Mintbot started out as a service that allows E...  2023-01-10 12:47:47   \n",
       "1126  Hey all, we're building free and open source t...  2023-01-17 05:07:47   \n",
       "\n",
       "     project_round                                    project_long_id  ...  \\\n",
       "819         FANTOM  0x30b826002362b50fbcc7ee9ccd0515e4ab91c14141d3...  ...   \n",
       "821         FANTOM  0x37ad3db0b0bc56cea1909e6a6f21fd35453ef27f1d9a...  ...   \n",
       "985       ETHEREUM  0x429927c3a14cbe156749adb31371f385749150ac3604...  ...   \n",
       "986       ETHEREUM  0x46de99c3a4e0542fde6d77bfa1ff6d19e107f253ea52...  ...   \n",
       "996       ETHEREUM  0x99b81016d61f8b9115282b1055649d4876f386197590...  ...   \n",
       "1006      ETHEREUM  0xfce9d62f9a833d6f7185f0051701d5a9e64c83d1daca...  ...   \n",
       "1011           OSS  0x0f1d31d427400106f3d2958225dd235ae60b6a7572fb...  ...   \n",
       "1021           OSS  0x20632d089357836c07c38ae6a8b50449fa86c9eef6fd...  ...   \n",
       "1029           OSS  0x3e4b3f7089aa5cb6614b67e235624d01364febe41841...  ...   \n",
       "1032           OSS  0x43b94c544e8ac90c535752b8624e730820a5a752b361...  ...   \n",
       "1033           OSS  0x46ddc886ac23d5bc2cbc96cd2aa990627bcd98c881a9...  ...   \n",
       "1047           OSS  0x60c037f9dfa5daee0f07bc26fb73393ef924e36c73c4...  ...   \n",
       "1050           OSS  0x67583b52562147ffe4d7b9c4422c6109d0d18a596c25...  ...   \n",
       "1062           OSS  0x8029c7cda58d70a6cd81ac56a6a678e8ccfb560f153e...  ...   \n",
       "1069           OSS  0x91db8779fa1b15d75761e358fe57683892c68d5cad11...  ...   \n",
       "1078           OSS  0x9fb5b0d0698dc64cbd3a01c5205ebc5ef609e7d20c21...  ...   \n",
       "1090           OSS  0xafb022ea11846bceb90516c35155defd6404e4948697...  ...   \n",
       "1101           OSS  0xbe519f8c8f7ff2acb359dd757c5d2bf25b05d9fd29b8...  ...   \n",
       "1124           OSS  0xe797fdf65ab6db40d29cb7144e8715799a91c9a2f8a7...  ...   \n",
       "1126           OSS  0xf05829c76e3da92a8942378240ab4dc70c8c509f558e...  ...   \n",
       "\n",
       "                                 project_funding_source  \\\n",
       "819   Previously received funding from Gitcoin Grant...   \n",
       "821                                      Gitcoin Grants   \n",
       "985                    Gitcoin Grants, EF and QF rounds   \n",
       "986                            Donations + self-funding   \n",
       "996                    Gitcoin, CityDAO, EF ESP program   \n",
       "1006                           Donations + self-funding   \n",
       "1011                                                Nil   \n",
       "1021  Grants + raising funds through smart contract ...   \n",
       "1029                                     Gitcoin Grants   \n",
       "1032                                               None   \n",
       "1033                           Donations + self-funding   \n",
       "1047  Gitcoin grant mainly. No external funding. Mes...   \n",
       "1050                                               GR15   \n",
       "1062                         Ethereum community and VCs   \n",
       "1069                                        Non profits   \n",
       "1078                                             Grants   \n",
       "1090        Thesis is funding the development currently   \n",
       "1101                          Ethereum, Polygon, zkSync   \n",
       "1124                                     Gitcoin Grants   \n",
       "1126                                     Gitcoin Grants   \n",
       "\n",
       "                      project_team_size  \\\n",
       "819                                  13   \n",
       "821                                   1   \n",
       "985                                   2   \n",
       "986                                   2   \n",
       "996                                   3   \n",
       "1006    11 full time people + 2 interns   \n",
       "1011                                  1   \n",
       "1021                                 19   \n",
       "1029                                  2   \n",
       "1032                                  5   \n",
       "1033    11 full time people + 2 interns   \n",
       "1047  300+ contributors (dev + non dev)   \n",
       "1050                                  4   \n",
       "1062                                 10   \n",
       "1069                                 10   \n",
       "1078                                  6   \n",
       "1090                                 15   \n",
       "1101                                  1   \n",
       "1124                                  2   \n",
       "1126                                  1   \n",
       "\n",
       "                                   live_on_other_chains  \\\n",
       "819   Yes, DefiLlama tracks almost all chains and Ll...   \n",
       "821   Yes, Revoke.cash supports 30+ chains, and the ...   \n",
       "985                                                 NaN   \n",
       "986                                                 NaN   \n",
       "996                                                 NaN   \n",
       "1006                                                NaN   \n",
       "1011                                                NaN   \n",
       "1021                                                NaN   \n",
       "1029                                                NaN   \n",
       "1032                                                NaN   \n",
       "1033                                                NaN   \n",
       "1047                                                NaN   \n",
       "1050                                                NaN   \n",
       "1062                                                NaN   \n",
       "1069                                                NaN   \n",
       "1078                                                NaN   \n",
       "1090                                                NaN   \n",
       "1101                                                NaN   \n",
       "1124                                                NaN   \n",
       "1126                                                NaN   \n",
       "\n",
       "                                          project_value  \\\n",
       "819   We track DeFi metrics for fantom projects, suc...   \n",
       "821   As a DeFi ecosystem grows more funds will be a...   \n",
       "985                                                 NaN   \n",
       "986                                                 NaN   \n",
       "996                                                 NaN   \n",
       "1006                                                NaN   \n",
       "1011                                                NaN   \n",
       "1021                                                NaN   \n",
       "1029                                                NaN   \n",
       "1032                                                NaN   \n",
       "1033                                                NaN   \n",
       "1047                                                NaN   \n",
       "1050                                                NaN   \n",
       "1062                                                NaN   \n",
       "1069                                                NaN   \n",
       "1078                                                NaN   \n",
       "1090                                                NaN   \n",
       "1101                                                NaN   \n",
       "1124                                                NaN   \n",
       "1126                                                NaN   \n",
       "\n",
       "     project_improvements_to_existing  \\\n",
       "819                               NaN   \n",
       "821                               NaN   \n",
       "985                               NaN   \n",
       "986                               NaN   \n",
       "996                               NaN   \n",
       "1006                              NaN   \n",
       "1011                              NaN   \n",
       "1021                              NaN   \n",
       "1029                              NaN   \n",
       "1032                              NaN   \n",
       "1033                              NaN   \n",
       "1047                              NaN   \n",
       "1050                              NaN   \n",
       "1062                              NaN   \n",
       "1069                              NaN   \n",
       "1078                              NaN   \n",
       "1090                              NaN   \n",
       "1101                              NaN   \n",
       "1124                              NaN   \n",
       "1126                              NaN   \n",
       "\n",
       "                      project_github_twitter_credential  \\\n",
       "819                                                 NaN   \n",
       "821                                                 NaN   \n",
       "985                                                 Yes   \n",
       "986                                                 Yes   \n",
       "996   yes for Twitter, working on Github (was an error)   \n",
       "1006                                                Yes   \n",
       "1011                                                Yes   \n",
       "1021                                                Yes   \n",
       "1029                                                Yes   \n",
       "1032                                                Yes   \n",
       "1033                                                Yes   \n",
       "1047                                                Yes   \n",
       "1050                                                YES   \n",
       "1062                                                yes   \n",
       "1069                                         Didnt work   \n",
       "1078                                                Yes   \n",
       "1090                                                Yes   \n",
       "1101                                                yes   \n",
       "1124                                                Yes   \n",
       "1126                                                Yes   \n",
       "\n",
       "                                project_github_org_link  \\\n",
       "819                                                 NaN   \n",
       "821                                                 NaN   \n",
       "985                                                 NaN   \n",
       "986                                                 NaN   \n",
       "996                                                 NaN   \n",
       "1006                                                NaN   \n",
       "1011  User Account - sasicodes, Organization Account...   \n",
       "1021                     https://github.com/WhiteHatDAO   \n",
       "1029                     https://github.com/stevegachau   \n",
       "1032                      https://github.com/colinlyguo   \n",
       "1033  org account: https://github.com/DefiLlama, my ...   \n",
       "1047  https://github.com/jediswapintern, https://git...   \n",
       "1050   https://github.com/Starkdefi/StarkDefi-contracts   \n",
       "1062  https://github.com/proofofsoulprotocol/soul-wa...   \n",
       "1069                         Democracy Earth Foundation   \n",
       "1078  https://github.com/apbendi, https://github.com...   \n",
       "1090                   https://github.com/tallyhowallet   \n",
       "1101  https://github.com/bigint, https://github.com/...   \n",
       "1124                     https://github.com/stevegachau   \n",
       "1126  https://github.com/rkalis, https://github.com/...   \n",
       "\n",
       "     project_amount_received project_contributor_count  \\\n",
       "819             15454.296579                   10064.0   \n",
       "821              7404.270070                    7842.0   \n",
       "985               751.312258                     411.0   \n",
       "986             15454.296579                   10064.0   \n",
       "996               627.757908                     433.0   \n",
       "1006            15454.296579                   10064.0   \n",
       "1011             3560.551441                    3035.0   \n",
       "1021              164.848446                     157.0   \n",
       "1029             1918.848550                    1628.0   \n",
       "1032              116.124192                     106.0   \n",
       "1033            15454.296579                   10064.0   \n",
       "1047             5370.176026                    4163.0   \n",
       "1050             4493.664469                    3636.0   \n",
       "1062              629.748810                     708.0   \n",
       "1069             1723.308271                    1737.0   \n",
       "1078             1503.918455                    1228.0   \n",
       "1090             6610.313733                    3658.0   \n",
       "1101             8058.569967                    5075.0   \n",
       "1124             1918.848550                    1628.0   \n",
       "1126             7404.270070                    7842.0   \n",
       "\n",
       "     project_contribution_count  \n",
       "819                     11904.0  \n",
       "821                      8636.0  \n",
       "985                       420.0  \n",
       "986                     11904.0  \n",
       "996                       436.0  \n",
       "1006                    11904.0  \n",
       "1011                     3121.0  \n",
       "1021                      160.0  \n",
       "1029                     1664.0  \n",
       "1032                      109.0  \n",
       "1033                    11904.0  \n",
       "1047                     4270.0  \n",
       "1050                     3729.0  \n",
       "1062                      717.0  \n",
       "1069                     1775.0  \n",
       "1078                     1259.0  \n",
       "1090                     3749.0  \n",
       "1101                     5222.0  \n",
       "1124                     1664.0  \n",
       "1126                     8636.0  \n",
       "\n",
       "[20 rows x 28 columns]"
      ]
     },
     "execution_count": 178,
     "metadata": {},
     "output_type": "execute_result"
    }
   ],
   "source": [
    "suspicious_applications"
   ]
  },
  {
   "attachments": {},
   "cell_type": "markdown",
   "metadata": {},
   "source": [
    "Some projects appears several times because they may have contributed to several grants. and are recorded with the same project_address, yet they where registered with different project_id."
   ]
  },
  {
   "cell_type": "code",
   "execution_count": null,
   "metadata": {},
   "outputs": [
    {
     "data": {
      "text/plain": [
       "array(['FANTOM', 'ETHEREUM', 'OSS'], dtype=object)"
      ]
     },
     "execution_count": 179,
     "metadata": {},
     "output_type": "execute_result"
    }
   ],
   "source": [
    "suspicious_applications.project_round.unique()"
   ]
  },
  {
   "attachments": {},
   "cell_type": "markdown",
   "metadata": {},
   "source": [
    "I think there is a bug somwhere because the project_address should be from the climate round."
   ]
  },
  {
   "attachments": {},
   "cell_type": "markdown",
   "metadata": {},
   "source": [
    "# Conclusion\n",
    "This notebook shows that applying some on chain analysis we can flag addresses and then cross the results with the application data to find projects with a very high ratio of suspicious contributors."
   ]
  }
 ],
 "metadata": {
  "kernelspec": {
   "display_name": "vexplorer",
   "language": "python",
   "name": "python3"
  },
  "language_info": {
   "codemirror_mode": {
    "name": "ipython",
    "version": 3
   },
   "file_extension": ".py",
   "mimetype": "text/x-python",
   "name": "python",
   "nbconvert_exporter": "python",
   "pygments_lexer": "ipython3",
   "version": "3.10.9"
  },
  "orig_nbformat": 4,
  "vscode": {
   "interpreter": {
    "hash": "e792627dd21444965ca9182d5837ded3009247ff5b5e7771c662170caaff759a"
   }
  }
 },
 "nbformat": 4,
 "nbformat_minor": 2
}
