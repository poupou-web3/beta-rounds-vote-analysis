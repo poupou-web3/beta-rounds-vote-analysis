{
 "cells": [
  {
   "cell_type": "code",
   "execution_count": 1,
   "metadata": {},
   "outputs": [],
   "source": [
    "import os\n",
    "from pathlib import Path\n",
    "import numpy as np\n",
    "\n",
    "import pandas as pd\n",
    "\n",
    "from sbdata.FlipsideApi import FlipsideApi\n",
    "\n",
    "# Set path to data folder\n",
    "current_dir = Path(os.getcwd())\n",
    "PATH_TO_EXPORT = os.path.join(current_dir.parent.parent, 'tx_data', 'community_beta_rounds')\n",
    "DATA_DIR = os.path.join(current_dir.parent.parent, 'data-regen-rangers')\n",
    "\n",
    "# read the address from oss grant\n",
    "\n",
    "api_key = os.environ['FLIPSIDE_API_KEY']\n",
    "flipside_api = FlipsideApi(api_key, max_address=400)\n",
    "PATH_TO_VOTES = os.path.join(DATA_DIR, \"beta_round_votes.csv\")\n",
    "PATH_TO_GRANTS = os.path.join(DATA_DIR, \"all-allo-rounds.csv\")\n",
    "PATH_TO_PROJECTS = os.path.join(DATA_DIR, \"beta-projects.csv\")\n",
    "\n",
    "# 0x12BB5bBbFE596dbc489d209299B8302c3300fa40,Web3 Open Source Software Round,58\n",
    "\n",
    "df_votes = pd.read_csv(PATH_TO_VOTES)\n",
    "df_grants = pd.read_csv(PATH_TO_GRANTS)\n",
    "df_application = pd.read_csv(PATH_TO_PROJECTS)\n",
    "# Lowercase all addresses\n",
    "df_grants['Round ID'] = df_grants['Round ID'].str.lower()\n",
    "str_columns_votes = ['id', 'transaction', 'projectId', 'roundId', 'voter', 'grantAddress']\n",
    "df_votes[str_columns_votes] = df_votes[str_columns_votes].applymap(lambda x: x.lower())\n",
    "\n",
    "df_application\n",
    "\n",
    "round_id = df_grants[df_grants['Round name'] == 'Web3 Community and Education']['Round ID'].values[0]\n",
    "array_unique_address = df_votes[df_votes['roundId'] == round_id]['voter'].unique()\n",
    "\n",
    "array_unique_address = np.char.lower(array_unique_address.astype(str))\n"
   ]
  },
  {
   "cell_type": "code",
   "execution_count": 2,
   "metadata": {},
   "outputs": [
    {
     "name": "stdout",
     "output_type": "stream",
     "text": [
      "c:\\Users\\DELL Admin\\Documents\\ODC\\RegenRangers\\tx_data\\community_beta_rounds\n",
      "c:\\Users\\DELL Admin\\Documents\\ODC\\RegenRangers\\data-regen-rangers\\beta_round_votes.csv\n",
      "c:\\Users\\DELL Admin\\Documents\\ODC\\RegenRangers\\data-regen-rangers\\all-allo-rounds.csv\n"
     ]
    }
   ],
   "source": [
    "print(PATH_TO_EXPORT)\n",
    "print(PATH_TO_VOTES)\n",
    "print(PATH_TO_GRANTS)"
   ]
  },
  {
   "cell_type": "code",
   "execution_count": 3,
   "metadata": {},
   "outputs": [],
   "source": [
    "from sbutils import LoadData\n",
    "\n",
    "# Load data\n",
    "data_loader = LoadData.LoadData(PATH_TO_EXPORT)"
   ]
  },
  {
   "cell_type": "code",
   "execution_count": 4,
   "metadata": {},
   "outputs": [],
   "source": [
    "df_tx = data_loader.create_df_tx('ethereum')"
   ]
  },
  {
   "cell_type": "code",
   "execution_count": 5,
   "metadata": {},
   "outputs": [
    {
     "data": {
      "text/plain": [
       "372"
      ]
     },
     "execution_count": 5,
     "metadata": {},
     "output_type": "execute_result"
    }
   ],
   "source": [
    "len(array_unique_address)"
   ]
  },
  {
   "cell_type": "code",
   "execution_count": 6,
   "metadata": {},
   "outputs": [
    {
     "data": {
      "text/plain": [
       "371"
      ]
     },
     "execution_count": 6,
     "metadata": {},
     "output_type": "execute_result"
    }
   ],
   "source": [
    "df_tx.EOA.nunique()"
   ]
  },
  {
   "cell_type": "code",
   "execution_count": 7,
   "metadata": {},
   "outputs": [
    {
     "data": {
      "text/plain": [
       "array(['0x4a35674727c44cf4375d80c6171281ba2f764213'], dtype=object)"
      ]
     },
     "execution_count": 7,
     "metadata": {},
     "output_type": "execute_result"
    }
   ],
   "source": [
    "c = np.setxor1d(array_unique_address, df_tx.EOA.values)\n",
    "c"
   ]
  },
  {
   "cell_type": "code",
   "execution_count": 8,
   "metadata": {},
   "outputs": [
    {
     "data": {
      "text/html": [
       "<div>\n",
       "<style scoped>\n",
       "    .dataframe tbody tr th:only-of-type {\n",
       "        vertical-align: middle;\n",
       "    }\n",
       "\n",
       "    .dataframe tbody tr th {\n",
       "        vertical-align: top;\n",
       "    }\n",
       "\n",
       "    .dataframe thead th {\n",
       "        text-align: right;\n",
       "    }\n",
       "</style>\n",
       "<table border=\"1\" class=\"dataframe\">\n",
       "  <thead>\n",
       "    <tr style=\"text-align: right;\">\n",
       "      <th></th>\n",
       "      <th>id</th>\n",
       "      <th>transaction</th>\n",
       "      <th>blockNumber</th>\n",
       "      <th>projectId</th>\n",
       "      <th>applicationId</th>\n",
       "      <th>roundId</th>\n",
       "      <th>voter</th>\n",
       "      <th>grantAddress</th>\n",
       "      <th>token</th>\n",
       "      <th>amount</th>\n",
       "      <th>amountUSD</th>\n",
       "      <th>amountRoundToken</th>\n",
       "    </tr>\n",
       "  </thead>\n",
       "  <tbody>\n",
       "    <tr>\n",
       "      <th>35770</th>\n",
       "      <td>0xf41f2c68e0a9c9a893965ac994b8c8c1740d25f422f3...</td>\n",
       "      <td>0x9811c763d0fb392b8326e1a032eb684946ee41296c27...</td>\n",
       "      <td>17146073</td>\n",
       "      <td>0x31b26a1f274342edd2e1b6e8e4421c26950af69e3418...</td>\n",
       "      <td>91</td>\n",
       "      <td>0xaa40e2e5c8df03d792a52b5458959c320f86ca18</td>\n",
       "      <td>0x4a35674727c44cf4375d80c6171281ba2f764213</td>\n",
       "      <td>0x486c853c41885d9c1edb57c423853fc4fbc60769</td>\n",
       "      <td>0x6B175474E89094C44Da98b954EedeAC495271d0F</td>\n",
       "      <td>1000000000000000000</td>\n",
       "      <td>0.999852</td>\n",
       "      <td>1000000000000000000</td>\n",
       "    </tr>\n",
       "    <tr>\n",
       "      <th>35771</th>\n",
       "      <td>0xafaeb732c6722918af430adf723f0e052bea938edb7b...</td>\n",
       "      <td>0x9811c763d0fb392b8326e1a032eb684946ee41296c27...</td>\n",
       "      <td>17146073</td>\n",
       "      <td>0x1cd76156b34e72b3421becdb242274851bd94c60eef0...</td>\n",
       "      <td>52</td>\n",
       "      <td>0xaa40e2e5c8df03d792a52b5458959c320f86ca18</td>\n",
       "      <td>0x4a35674727c44cf4375d80c6171281ba2f764213</td>\n",
       "      <td>0x1a685948f476ad329d9c038c992db79bde9b89e6</td>\n",
       "      <td>0x6B175474E89094C44Da98b954EedeAC495271d0F</td>\n",
       "      <td>1000000000000000000</td>\n",
       "      <td>0.999852</td>\n",
       "      <td>1000000000000000000</td>\n",
       "    </tr>\n",
       "    <tr>\n",
       "      <th>35772</th>\n",
       "      <td>0xef35f2b2f138b589295ff28ce4f9326a8bbbbf782876...</td>\n",
       "      <td>0x9811c763d0fb392b8326e1a032eb684946ee41296c27...</td>\n",
       "      <td>17146073</td>\n",
       "      <td>0xa35e52635d40be090a49c587e58fab7410c30b9cff7a...</td>\n",
       "      <td>43</td>\n",
       "      <td>0xaa40e2e5c8df03d792a52b5458959c320f86ca18</td>\n",
       "      <td>0x4a35674727c44cf4375d80c6171281ba2f764213</td>\n",
       "      <td>0xb6e780438882f2daa11da0972807f4d12166af8b</td>\n",
       "      <td>0x6B175474E89094C44Da98b954EedeAC495271d0F</td>\n",
       "      <td>1000000000000000000</td>\n",
       "      <td>0.999852</td>\n",
       "      <td>1000000000000000000</td>\n",
       "    </tr>\n",
       "    <tr>\n",
       "      <th>35773</th>\n",
       "      <td>0x0502d911fdb9a47f5068f42618d54cfd15db357d01c4...</td>\n",
       "      <td>0x9811c763d0fb392b8326e1a032eb684946ee41296c27...</td>\n",
       "      <td>17146073</td>\n",
       "      <td>0x1e84545865da4aa1be2a34ac7fdc4eb30d6ae9efb396...</td>\n",
       "      <td>46</td>\n",
       "      <td>0xaa40e2e5c8df03d792a52b5458959c320f86ca18</td>\n",
       "      <td>0x4a35674727c44cf4375d80c6171281ba2f764213</td>\n",
       "      <td>0xc80021583ac4ac2357c9b9ee748bba0b46e59b71</td>\n",
       "      <td>0x6B175474E89094C44Da98b954EedeAC495271d0F</td>\n",
       "      <td>1000000000000000000</td>\n",
       "      <td>0.999852</td>\n",
       "      <td>1000000000000000000</td>\n",
       "    </tr>\n",
       "    <tr>\n",
       "      <th>35774</th>\n",
       "      <td>0xeb568ad7048061fdc51f8eb8eeb3ea52f44b97b2dbec...</td>\n",
       "      <td>0x9811c763d0fb392b8326e1a032eb684946ee41296c27...</td>\n",
       "      <td>17146073</td>\n",
       "      <td>0x5d79092725d85663a135c9841b6c8445f20132ee2595...</td>\n",
       "      <td>70</td>\n",
       "      <td>0xaa40e2e5c8df03d792a52b5458959c320f86ca18</td>\n",
       "      <td>0x4a35674727c44cf4375d80c6171281ba2f764213</td>\n",
       "      <td>0xa40ba205add80c214ec7a710e790a54d738c4c27</td>\n",
       "      <td>0x6B175474E89094C44Da98b954EedeAC495271d0F</td>\n",
       "      <td>1000000000000000000</td>\n",
       "      <td>0.999852</td>\n",
       "      <td>1000000000000000000</td>\n",
       "    </tr>\n",
       "  </tbody>\n",
       "</table>\n",
       "</div>"
      ],
      "text/plain": [
       "                                                      id   \n",
       "35770  0xf41f2c68e0a9c9a893965ac994b8c8c1740d25f422f3...  \\\n",
       "35771  0xafaeb732c6722918af430adf723f0e052bea938edb7b...   \n",
       "35772  0xef35f2b2f138b589295ff28ce4f9326a8bbbbf782876...   \n",
       "35773  0x0502d911fdb9a47f5068f42618d54cfd15db357d01c4...   \n",
       "35774  0xeb568ad7048061fdc51f8eb8eeb3ea52f44b97b2dbec...   \n",
       "\n",
       "                                             transaction  blockNumber   \n",
       "35770  0x9811c763d0fb392b8326e1a032eb684946ee41296c27...     17146073  \\\n",
       "35771  0x9811c763d0fb392b8326e1a032eb684946ee41296c27...     17146073   \n",
       "35772  0x9811c763d0fb392b8326e1a032eb684946ee41296c27...     17146073   \n",
       "35773  0x9811c763d0fb392b8326e1a032eb684946ee41296c27...     17146073   \n",
       "35774  0x9811c763d0fb392b8326e1a032eb684946ee41296c27...     17146073   \n",
       "\n",
       "                                               projectId  applicationId   \n",
       "35770  0x31b26a1f274342edd2e1b6e8e4421c26950af69e3418...             91  \\\n",
       "35771  0x1cd76156b34e72b3421becdb242274851bd94c60eef0...             52   \n",
       "35772  0xa35e52635d40be090a49c587e58fab7410c30b9cff7a...             43   \n",
       "35773  0x1e84545865da4aa1be2a34ac7fdc4eb30d6ae9efb396...             46   \n",
       "35774  0x5d79092725d85663a135c9841b6c8445f20132ee2595...             70   \n",
       "\n",
       "                                          roundId   \n",
       "35770  0xaa40e2e5c8df03d792a52b5458959c320f86ca18  \\\n",
       "35771  0xaa40e2e5c8df03d792a52b5458959c320f86ca18   \n",
       "35772  0xaa40e2e5c8df03d792a52b5458959c320f86ca18   \n",
       "35773  0xaa40e2e5c8df03d792a52b5458959c320f86ca18   \n",
       "35774  0xaa40e2e5c8df03d792a52b5458959c320f86ca18   \n",
       "\n",
       "                                            voter   \n",
       "35770  0x4a35674727c44cf4375d80c6171281ba2f764213  \\\n",
       "35771  0x4a35674727c44cf4375d80c6171281ba2f764213   \n",
       "35772  0x4a35674727c44cf4375d80c6171281ba2f764213   \n",
       "35773  0x4a35674727c44cf4375d80c6171281ba2f764213   \n",
       "35774  0x4a35674727c44cf4375d80c6171281ba2f764213   \n",
       "\n",
       "                                     grantAddress   \n",
       "35770  0x486c853c41885d9c1edb57c423853fc4fbc60769  \\\n",
       "35771  0x1a685948f476ad329d9c038c992db79bde9b89e6   \n",
       "35772  0xb6e780438882f2daa11da0972807f4d12166af8b   \n",
       "35773  0xc80021583ac4ac2357c9b9ee748bba0b46e59b71   \n",
       "35774  0xa40ba205add80c214ec7a710e790a54d738c4c27   \n",
       "\n",
       "                                            token               amount   \n",
       "35770  0x6B175474E89094C44Da98b954EedeAC495271d0F  1000000000000000000  \\\n",
       "35771  0x6B175474E89094C44Da98b954EedeAC495271d0F  1000000000000000000   \n",
       "35772  0x6B175474E89094C44Da98b954EedeAC495271d0F  1000000000000000000   \n",
       "35773  0x6B175474E89094C44Da98b954EedeAC495271d0F  1000000000000000000   \n",
       "35774  0x6B175474E89094C44Da98b954EedeAC495271d0F  1000000000000000000   \n",
       "\n",
       "       amountUSD     amountRoundToken  \n",
       "35770   0.999852  1000000000000000000  \n",
       "35771   0.999852  1000000000000000000  \n",
       "35772   0.999852  1000000000000000000  \n",
       "35773   0.999852  1000000000000000000  \n",
       "35774   0.999852  1000000000000000000  "
      ]
     },
     "execution_count": 8,
     "metadata": {},
     "output_type": "execute_result"
    }
   ],
   "source": [
    "df_votes[df_votes.voter.str.lower() == '0x4a35674727c44cf4375d80c6171281ba2f764213'].head()"
   ]
  },
  {
   "cell_type": "code",
   "execution_count": 9,
   "metadata": {},
   "outputs": [
    {
     "data": {
      "text/plain": [
       "'0x9811c763d0fb392b8326e1a032eb684946ee41296c27f0366d7c2858f93dde1c'"
      ]
     },
     "execution_count": 9,
     "metadata": {},
     "output_type": "execute_result"
    }
   ],
   "source": [
    "df_votes[df_votes.voter.str.lower() == '0x4a35674727c44cf4375d80c6171281ba2f764213']['transaction'].values[0]"
   ]
  },
  {
   "cell_type": "code",
   "execution_count": 10,
   "metadata": {},
   "outputs": [
    {
     "data": {
      "text/plain": [
       "Index(['id', 'projectNumber', 'roundId', 'status', 'amountUSD', 'votes',\n",
       "       'uniqueContributors', 'payoutAddress', 'metadata.signature',\n",
       "       'metadata.application.round', 'metadata.application.recipient',\n",
       "       'metadata.application.project.lastUpdated',\n",
       "       'metadata.application.project.createdAt',\n",
       "       'metadata.application.project.id', 'metadata.application.project.title',\n",
       "       'metadata.application.project.description',\n",
       "       'metadata.application.project.website',\n",
       "       'metadata.application.project.bannerImg',\n",
       "       'metadata.application.project.logoImg',\n",
       "       'metadata.application.project.metaPtr.protocol',\n",
       "       'metadata.application.project.metaPtr.pointer',\n",
       "       'metadata.application.project.userGithub',\n",
       "       'metadata.application.project.projectGithub',\n",
       "       'metadata.application.project.projectTwitter',\n",
       "       'metadata.application.project.credentials.twitter.@context',\n",
       "       'metadata.application.project.credentials.twitter.type',\n",
       "       'metadata.application.project.credentials.twitter.credentialSubject.id',\n",
       "       'metadata.application.project.credentials.twitter.credentialSubject.@context',\n",
       "       'metadata.application.project.credentials.twitter.credentialSubject.provider',\n",
       "       'metadata.application.project.credentials.twitter.credentialSubject.hash',\n",
       "       'metadata.application.project.credentials.twitter.issuer',\n",
       "       'metadata.application.project.credentials.twitter.issuanceDate',\n",
       "       'metadata.application.project.credentials.twitter.proof.type',\n",
       "       'metadata.application.project.credentials.twitter.proof.proofPurpose',\n",
       "       'metadata.application.project.credentials.twitter.proof.verificationMethod',\n",
       "       'metadata.application.project.credentials.twitter.proof.created',\n",
       "       'metadata.application.project.credentials.twitter.proof.jws',\n",
       "       'metadata.application.project.credentials.twitter.expirationDate',\n",
       "       'metadata.application.project.credentials.github.@context',\n",
       "       'metadata.application.project.credentials.github.type',\n",
       "       'metadata.application.project.credentials.github.credentialSubject.id',\n",
       "       'metadata.application.project.credentials.github.credentialSubject.provider',\n",
       "       'metadata.application.project.credentials.github.credentialSubject.hash',\n",
       "       'metadata.application.project.credentials.github.credentialSubject.@context',\n",
       "       'metadata.application.project.credentials.github.issuer',\n",
       "       'metadata.application.project.credentials.github.issuanceDate',\n",
       "       'metadata.application.project.credentials.github.proof.type',\n",
       "       'metadata.application.project.credentials.github.proof.proofPurpose',\n",
       "       'metadata.application.project.credentials.github.proof.verificationMethod',\n",
       "       'metadata.application.project.credentials.github.proof.created',\n",
       "       'metadata.application.project.credentials.github.proof.jws',\n",
       "       'metadata.application.project.credentials.github.expirationDate',\n",
       "       'metadata.application.answers'],\n",
       "      dtype='object')"
      ]
     },
     "execution_count": 10,
     "metadata": {},
     "output_type": "execute_result"
    }
   ],
   "source": [
    "df_application.columns"
   ]
  },
  {
   "cell_type": "code",
   "execution_count": 11,
   "metadata": {},
   "outputs": [],
   "source": [
    " df_application['metadata.application.recipient'] = df_application['metadata.application.recipient'].str.lower()"
   ]
  },
  {
   "cell_type": "code",
   "execution_count": 12,
   "metadata": {},
   "outputs": [],
   "source": [
    "df_suspicious = df_votes[df_votes.voter.str.lower() == '0x4a35674727c44cf4375d80c6171281ba2f764213']"
   ]
  },
  {
   "cell_type": "code",
   "execution_count": 13,
   "metadata": {},
   "outputs": [],
   "source": [
    "df_suspicious_merge = df_suspicious.merge(df_application[['metadata.application.project.title', 'metadata.application.recipient']].drop_duplicates(), left_on='grantAddress', right_on='metadata.application.recipient', how='left')"
   ]
  },
  {
   "cell_type": "code",
   "execution_count": 14,
   "metadata": {},
   "outputs": [
    {
     "name": "stdout",
     "output_type": "stream",
     "text": [
      "(48, 12)\n",
      "(50, 14)\n"
     ]
    }
   ],
   "source": [
    "print(df_suspicious.shape)\n",
    "print(df_suspicious_merge.shape)"
   ]
  },
  {
   "cell_type": "code",
   "execution_count": 15,
   "metadata": {},
   "outputs": [
    {
     "data": {
      "text/plain": [
       "count                                             30\n",
       "unique                                            27\n",
       "top       0xb6e780438882f2daa11da0972807f4d12166af8b\n",
       "freq                                               4\n",
       "Name: metadata.application.recipient, dtype: object"
      ]
     },
     "execution_count": 15,
     "metadata": {},
     "output_type": "execute_result"
    }
   ],
   "source": [
    "df_suspicious_merge['metadata.application.recipient'].describe()"
   ]
  },
  {
   "cell_type": "code",
   "execution_count": 16,
   "metadata": {},
   "outputs": [
    {
     "data": {
      "text/html": [
       "<div>\n",
       "<style scoped>\n",
       "    .dataframe tbody tr th:only-of-type {\n",
       "        vertical-align: middle;\n",
       "    }\n",
       "\n",
       "    .dataframe tbody tr th {\n",
       "        vertical-align: top;\n",
       "    }\n",
       "\n",
       "    .dataframe thead th {\n",
       "        text-align: right;\n",
       "    }\n",
       "</style>\n",
       "<table border=\"1\" class=\"dataframe\">\n",
       "  <thead>\n",
       "    <tr style=\"text-align: right;\">\n",
       "      <th></th>\n",
       "      <th>id</th>\n",
       "      <th>transaction</th>\n",
       "      <th>blockNumber</th>\n",
       "      <th>projectId</th>\n",
       "      <th>applicationId</th>\n",
       "      <th>roundId</th>\n",
       "      <th>voter</th>\n",
       "      <th>grantAddress</th>\n",
       "      <th>token</th>\n",
       "      <th>amount</th>\n",
       "      <th>amountUSD</th>\n",
       "      <th>amountRoundToken</th>\n",
       "      <th>metadata.application.project.title</th>\n",
       "      <th>metadata.application.recipient</th>\n",
       "    </tr>\n",
       "  </thead>\n",
       "  <tbody>\n",
       "    <tr>\n",
       "      <th>2</th>\n",
       "      <td>0xef35f2b2f138b589295ff28ce4f9326a8bbbbf782876...</td>\n",
       "      <td>0x9811c763d0fb392b8326e1a032eb684946ee41296c27...</td>\n",
       "      <td>17146073</td>\n",
       "      <td>0xa35e52635d40be090a49c587e58fab7410c30b9cff7a...</td>\n",
       "      <td>43</td>\n",
       "      <td>0xaa40e2e5c8df03d792a52b5458959c320f86ca18</td>\n",
       "      <td>0x4a35674727c44cf4375d80c6171281ba2f764213</td>\n",
       "      <td>0xb6e780438882f2daa11da0972807f4d12166af8b</td>\n",
       "      <td>0x6B175474E89094C44Da98b954EedeAC495271d0F</td>\n",
       "      <td>1000000000000000000</td>\n",
       "      <td>0.999852</td>\n",
       "      <td>1000000000000000000</td>\n",
       "      <td>Impact DAOs Research + Podcast + Book : Impact...</td>\n",
       "      <td>0xb6e780438882f2daa11da0972807f4d12166af8b</td>\n",
       "    </tr>\n",
       "    <tr>\n",
       "      <th>3</th>\n",
       "      <td>0xef35f2b2f138b589295ff28ce4f9326a8bbbbf782876...</td>\n",
       "      <td>0x9811c763d0fb392b8326e1a032eb684946ee41296c27...</td>\n",
       "      <td>17146073</td>\n",
       "      <td>0xa35e52635d40be090a49c587e58fab7410c30b9cff7a...</td>\n",
       "      <td>43</td>\n",
       "      <td>0xaa40e2e5c8df03d792a52b5458959c320f86ca18</td>\n",
       "      <td>0x4a35674727c44cf4375d80c6171281ba2f764213</td>\n",
       "      <td>0xb6e780438882f2daa11da0972807f4d12166af8b</td>\n",
       "      <td>0x6B175474E89094C44Da98b954EedeAC495271d0F</td>\n",
       "      <td>1000000000000000000</td>\n",
       "      <td>0.999852</td>\n",
       "      <td>1000000000000000000</td>\n",
       "      <td>Impact DAO Course + IRL/Online Events: Educati...</td>\n",
       "      <td>0xb6e780438882f2daa11da0972807f4d12166af8b</td>\n",
       "    </tr>\n",
       "    <tr>\n",
       "      <th>27</th>\n",
       "      <td>0xef35f2b2f138b589295ff28ce4f9326a8bbbbf782876...</td>\n",
       "      <td>0x9811c763d0fb392b8326e1a032eb684946ee41296c27...</td>\n",
       "      <td>17146073</td>\n",
       "      <td>0x3e7af275e7342f380ce8182e2f1e19ecbf32086974f5...</td>\n",
       "      <td>113</td>\n",
       "      <td>0xaa40e2e5c8df03d792a52b5458959c320f86ca18</td>\n",
       "      <td>0x4a35674727c44cf4375d80c6171281ba2f764213</td>\n",
       "      <td>0xb6e780438882f2daa11da0972807f4d12166af8b</td>\n",
       "      <td>0x6B175474E89094C44Da98b954EedeAC495271d0F</td>\n",
       "      <td>1000000000000000000</td>\n",
       "      <td>0.999852</td>\n",
       "      <td>1000000000000000000</td>\n",
       "      <td>Impact DAOs Research + Podcast + Book : Impact...</td>\n",
       "      <td>0xb6e780438882f2daa11da0972807f4d12166af8b</td>\n",
       "    </tr>\n",
       "    <tr>\n",
       "      <th>28</th>\n",
       "      <td>0xef35f2b2f138b589295ff28ce4f9326a8bbbbf782876...</td>\n",
       "      <td>0x9811c763d0fb392b8326e1a032eb684946ee41296c27...</td>\n",
       "      <td>17146073</td>\n",
       "      <td>0x3e7af275e7342f380ce8182e2f1e19ecbf32086974f5...</td>\n",
       "      <td>113</td>\n",
       "      <td>0xaa40e2e5c8df03d792a52b5458959c320f86ca18</td>\n",
       "      <td>0x4a35674727c44cf4375d80c6171281ba2f764213</td>\n",
       "      <td>0xb6e780438882f2daa11da0972807f4d12166af8b</td>\n",
       "      <td>0x6B175474E89094C44Da98b954EedeAC495271d0F</td>\n",
       "      <td>1000000000000000000</td>\n",
       "      <td>0.999852</td>\n",
       "      <td>1000000000000000000</td>\n",
       "      <td>Impact DAO Course + IRL/Online Events: Educati...</td>\n",
       "      <td>0xb6e780438882f2daa11da0972807f4d12166af8b</td>\n",
       "    </tr>\n",
       "  </tbody>\n",
       "</table>\n",
       "</div>"
      ],
      "text/plain": [
       "                                                   id   \n",
       "2   0xef35f2b2f138b589295ff28ce4f9326a8bbbbf782876...  \\\n",
       "3   0xef35f2b2f138b589295ff28ce4f9326a8bbbbf782876...   \n",
       "27  0xef35f2b2f138b589295ff28ce4f9326a8bbbbf782876...   \n",
       "28  0xef35f2b2f138b589295ff28ce4f9326a8bbbbf782876...   \n",
       "\n",
       "                                          transaction  blockNumber   \n",
       "2   0x9811c763d0fb392b8326e1a032eb684946ee41296c27...     17146073  \\\n",
       "3   0x9811c763d0fb392b8326e1a032eb684946ee41296c27...     17146073   \n",
       "27  0x9811c763d0fb392b8326e1a032eb684946ee41296c27...     17146073   \n",
       "28  0x9811c763d0fb392b8326e1a032eb684946ee41296c27...     17146073   \n",
       "\n",
       "                                            projectId  applicationId   \n",
       "2   0xa35e52635d40be090a49c587e58fab7410c30b9cff7a...             43  \\\n",
       "3   0xa35e52635d40be090a49c587e58fab7410c30b9cff7a...             43   \n",
       "27  0x3e7af275e7342f380ce8182e2f1e19ecbf32086974f5...            113   \n",
       "28  0x3e7af275e7342f380ce8182e2f1e19ecbf32086974f5...            113   \n",
       "\n",
       "                                       roundId   \n",
       "2   0xaa40e2e5c8df03d792a52b5458959c320f86ca18  \\\n",
       "3   0xaa40e2e5c8df03d792a52b5458959c320f86ca18   \n",
       "27  0xaa40e2e5c8df03d792a52b5458959c320f86ca18   \n",
       "28  0xaa40e2e5c8df03d792a52b5458959c320f86ca18   \n",
       "\n",
       "                                         voter   \n",
       "2   0x4a35674727c44cf4375d80c6171281ba2f764213  \\\n",
       "3   0x4a35674727c44cf4375d80c6171281ba2f764213   \n",
       "27  0x4a35674727c44cf4375d80c6171281ba2f764213   \n",
       "28  0x4a35674727c44cf4375d80c6171281ba2f764213   \n",
       "\n",
       "                                  grantAddress   \n",
       "2   0xb6e780438882f2daa11da0972807f4d12166af8b  \\\n",
       "3   0xb6e780438882f2daa11da0972807f4d12166af8b   \n",
       "27  0xb6e780438882f2daa11da0972807f4d12166af8b   \n",
       "28  0xb6e780438882f2daa11da0972807f4d12166af8b   \n",
       "\n",
       "                                         token               amount   \n",
       "2   0x6B175474E89094C44Da98b954EedeAC495271d0F  1000000000000000000  \\\n",
       "3   0x6B175474E89094C44Da98b954EedeAC495271d0F  1000000000000000000   \n",
       "27  0x6B175474E89094C44Da98b954EedeAC495271d0F  1000000000000000000   \n",
       "28  0x6B175474E89094C44Da98b954EedeAC495271d0F  1000000000000000000   \n",
       "\n",
       "    amountUSD     amountRoundToken   \n",
       "2    0.999852  1000000000000000000  \\\n",
       "3    0.999852  1000000000000000000   \n",
       "27   0.999852  1000000000000000000   \n",
       "28   0.999852  1000000000000000000   \n",
       "\n",
       "                   metadata.application.project.title   \n",
       "2   Impact DAOs Research + Podcast + Book : Impact...  \\\n",
       "3   Impact DAO Course + IRL/Online Events: Educati...   \n",
       "27  Impact DAOs Research + Podcast + Book : Impact...   \n",
       "28  Impact DAO Course + IRL/Online Events: Educati...   \n",
       "\n",
       "                metadata.application.recipient  \n",
       "2   0xb6e780438882f2daa11da0972807f4d12166af8b  \n",
       "3   0xb6e780438882f2daa11da0972807f4d12166af8b  \n",
       "27  0xb6e780438882f2daa11da0972807f4d12166af8b  \n",
       "28  0xb6e780438882f2daa11da0972807f4d12166af8b  "
      ]
     },
     "execution_count": 16,
     "metadata": {},
     "output_type": "execute_result"
    }
   ],
   "source": [
    "df_suspicious_merge[df_suspicious_merge.grantAddress.str.lower() == '0xb6e780438882f2daa11da0972807f4d12166af8b']"
   ]
  },
  {
   "attachments": {},
   "cell_type": "markdown",
   "metadata": {},
   "source": [
    "this donnation is very suspicious\n"
   ]
  },
  {
   "cell_type": "code",
   "execution_count": 23,
   "metadata": {},
   "outputs": [],
   "source": [
    "from sblegos.TransactionAnalyser import TransactionAnalyser as txa\n",
    "tx_analyser = txa(df_tx, df_address=pd.DataFrame(array_unique_address))\n"
   ]
  },
  {
   "cell_type": "code",
   "execution_count": 24,
   "metadata": {},
   "outputs": [
    {
     "data": {
      "text/html": [
       "<div>\n",
       "<style scoped>\n",
       "    .dataframe tbody tr th:only-of-type {\n",
       "        vertical-align: middle;\n",
       "    }\n",
       "\n",
       "    .dataframe tbody tr th {\n",
       "        vertical-align: top;\n",
       "    }\n",
       "\n",
       "    .dataframe thead th {\n",
       "        text-align: right;\n",
       "    }\n",
       "</style>\n",
       "<table border=\"1\" class=\"dataframe\">\n",
       "  <thead>\n",
       "    <tr style=\"text-align: right;\">\n",
       "      <th></th>\n",
       "      <th>address</th>\n",
       "    </tr>\n",
       "  </thead>\n",
       "  <tbody>\n",
       "    <tr>\n",
       "      <th>0</th>\n",
       "      <td>0x0010e3bce7e7d5890849fa2bb2681174f4352bc4</td>\n",
       "    </tr>\n",
       "    <tr>\n",
       "      <th>1</th>\n",
       "      <td>0x00173c4cb23e6d876fcb036ba954a2f9cfcafa19</td>\n",
       "    </tr>\n",
       "  </tbody>\n",
       "</table>\n",
       "</div>"
      ],
      "text/plain": [
       "                                      address\n",
       "0  0x0010e3bce7e7d5890849fa2bb2681174f4352bc4\n",
       "1  0x00173c4cb23e6d876fcb036ba954a2f9cfcafa19"
      ]
     },
     "execution_count": 24,
     "metadata": {},
     "output_type": "execute_result"
    }
   ],
   "source": [
    "df_matching_address = pd.DataFrame(df_tx.EOA.unique(), columns=[\"address\"])\n",
    "df_matching_address.head(2)"
   ]
  },
  {
   "attachments": {},
   "cell_type": "markdown",
   "metadata": {},
   "source": [
    "Compute the boolean "
   ]
  },
  {
   "cell_type": "code",
   "execution_count": 26,
   "metadata": {},
   "outputs": [],
   "source": [
    "df_matching_address['seed_same_naive'] = df_matching_address.loc[:, 'address'].apply(lambda x : tx_analyser.has_same_seed_naive(x))\n",
    "df_matching_address['seed_same'] = df_matching_address.loc[:, 'address'].apply(lambda x : tx_analyser.has_same_seed(x))\n",
    "df_matching_address['seed_suspicious'] = df_matching_address.loc[:, 'seed_same_naive'].ne(df_matching_address.loc[:, 'seed_same'])\n",
    "df_matching_address['less_5_tx'] = df_matching_address.loc[:, 'address'].apply(lambda x : tx_analyser.has_less_than_n_transactions(x, 5))\n",
    "df_matching_address['less_10_tx'] = df_matching_address.loc[:, 'address'].apply(lambda x : tx_analyser.has_less_than_n_transactions(x, 10))\n",
    "df_matching_address['interacted_other_ctbt'] = df_matching_address.loc[:, 'address'].apply(lambda x : tx_analyser.has_interacted_with_other_contributor(x))"
   ]
  },
  {
   "cell_type": "code",
   "execution_count": 25,
   "metadata": {},
   "outputs": [],
   "source": [
    "df_matching_address['interacted_other_ctbt'] = df_matching_address.loc[:, 'address'].apply(lambda x : tx_analyser.has_interacted_with_other_contributor(x))"
   ]
  },
  {
   "attachments": {},
   "cell_type": "markdown",
   "metadata": {},
   "source": [
    "ideas\n",
    "create a new function\n",
    "that whitelist the address that are not suspicious as funding wallet address\n",
    "for example many people are funded by binance or coinbase wallets\n",
    "\n",
    "Other idea apply funding time detection to the wallets\n",
    "if address created on the same day and given to the same grants then suspicious?\n",
    "\n",
    "is it useful to create a complex algorithm to detect suspicious funding time? \n",
    "\n",
    "donation time could also be inspected for each wallet\n",
    "\n",
    "donation pattern? same number of donations and donation to the same grants?\n",
    "\n"
   ]
  },
  {
   "cell_type": "code",
   "execution_count": 27,
   "metadata": {},
   "outputs": [
    {
     "data": {
      "text/plain": [
       "address                  0x0010e3bce7e7d5890849fa2bb2681174f4352bc40x00...\n",
       "interacted_other_ctbt                                                   69\n",
       "seed_same_naive                                                        159\n",
       "seed_same                                                              162\n",
       "seed_suspicious                                                          3\n",
       "less_5_tx                                                                7\n",
       "less_10_tx                                                              25\n",
       "dtype: object"
      ]
     },
     "execution_count": 27,
     "metadata": {},
     "output_type": "execute_result"
    }
   ],
   "source": [
    "df_matching_address.sum()"
   ]
  },
  {
   "cell_type": "code",
   "execution_count": 36,
   "metadata": {},
   "outputs": [
    {
     "data": {
      "text/plain": [
       "0.5902964959568733"
      ]
     },
     "execution_count": 36,
     "metadata": {},
     "output_type": "execute_result"
    }
   ],
   "source": [
    "(df_matching_address.set_index(\"address\").sum(axis=1) >0 ).sum() / len(df_matching_address)"
   ]
  },
  {
   "cell_type": "code",
   "execution_count": null,
   "metadata": {},
   "outputs": [
    {
     "ename": "NameError",
     "evalue": "name 'X1' is not defined",
     "output_type": "error",
     "traceback": [
      "\u001b[1;31m---------------------------------------------------------------------------\u001b[0m",
      "\u001b[1;31mNameError\u001b[0m                                 Traceback (most recent call last)",
      "Cell \u001b[1;32mIn[4], line 3\u001b[0m\n\u001b[0;32m      1\u001b[0m \u001b[39mfrom\u001b[39;00m \u001b[39mscipy\u001b[39;00m\u001b[39m.\u001b[39;00m\u001b[39mcluster\u001b[39;00m\u001b[39m.\u001b[39;00m\u001b[39mhierarchy\u001b[39;00m \u001b[39mimport\u001b[39;00m dendrogram, linkage\n\u001b[1;32m----> 3\u001b[0m Z1 \u001b[39m=\u001b[39m linkage(X1, method\u001b[39m=\u001b[39m\u001b[39m'\u001b[39m\u001b[39msingle\u001b[39m\u001b[39m'\u001b[39m, metric\u001b[39m=\u001b[39m\u001b[39m'\u001b[39m\u001b[39meuclidean\u001b[39m\u001b[39m'\u001b[39m)\n",
      "\u001b[1;31mNameError\u001b[0m: name 'X1' is not defined"
     ]
    }
   ],
   "source": [
    "from scipy.cluster.hierarchy import dendrogram, linkage\n",
    "X1 = df_tx\n",
    "Z1 = linkage(X1, method='single', metric='euclidean')"
   ]
  },
  {
   "cell_type": "code",
   "execution_count": null,
   "metadata": {},
   "outputs": [],
   "source": [
    "from sklearn.cluster import AgglomerativeClustering"
   ]
  },
  {
   "cell_type": "code",
   "execution_count": null,
   "metadata": {},
   "outputs": [
    {
     "ename": "NameError",
     "evalue": "name 'X1' is not defined",
     "output_type": "error",
     "traceback": [
      "\u001b[1;31m---------------------------------------------------------------------------\u001b[0m",
      "\u001b[1;31mNameError\u001b[0m                                 Traceback (most recent call last)",
      "Cell \u001b[1;32mIn[3], line 5\u001b[0m\n\u001b[0;32m      1\u001b[0m \u001b[39mfrom\u001b[39;00m \u001b[39msklearn\u001b[39;00m\u001b[39m.\u001b[39;00m\u001b[39mcluster\u001b[39;00m \u001b[39mimport\u001b[39;00m AgglomerativeClustering\n\u001b[0;32m      3\u001b[0m Z1 \u001b[39m=\u001b[39m AgglomerativeClustering(n_clusters\u001b[39m=\u001b[39m\u001b[39m2\u001b[39m, linkage\u001b[39m=\u001b[39m\u001b[39m'\u001b[39m\u001b[39mward\u001b[39m\u001b[39m'\u001b[39m)\n\u001b[1;32m----> 5\u001b[0m Z1\u001b[39m.\u001b[39mfit_predict(X1)\n\u001b[0;32m      7\u001b[0m \u001b[39mprint\u001b[39m(Z1\u001b[39m.\u001b[39mlabels_)\n",
      "\u001b[1;31mNameError\u001b[0m: name 'X1' is not defined"
     ]
    }
   ],
   "source": [
    "from sklearn.cluster import AgglomerativeClustering\n",
    "\n",
    "Z1 = AgglomerativeClustering(n_clusters=2, linkage='ward')\n",
    "\n",
    "Z1.fit_predict(X1)\n",
    "\n",
    "print(Z1.labels_)"
   ]
  },
  {
   "cell_type": "code",
   "execution_count": null,
   "metadata": {},
   "outputs": [
    {
     "ename": "ModuleNotFoundError",
     "evalue": "No module named 'scipy'",
     "output_type": "error",
     "traceback": [
      "\u001b[1;31m---------------------------------------------------------------------------\u001b[0m",
      "\u001b[1;31mModuleNotFoundError\u001b[0m                       Traceback (most recent call last)",
      "Cell \u001b[1;32mIn[20], line 1\u001b[0m\n\u001b[1;32m----> 1\u001b[0m \u001b[39mfrom\u001b[39;00m \u001b[39mscipy\u001b[39;00m\u001b[39m.\u001b[39;00m\u001b[39mcluster\u001b[39;00m\u001b[39m.\u001b[39;00m\u001b[39mhierarchy\u001b[39;00m \u001b[39mimport\u001b[39;00m dendrogram, linkage\n\u001b[0;32m      3\u001b[0m Z1 \u001b[39m=\u001b[39m linkage(X1, method\u001b[39m=\u001b[39m\u001b[39m'\u001b[39m\u001b[39msingle\u001b[39m\u001b[39m'\u001b[39m, metric\u001b[39m=\u001b[39m\u001b[39m'\u001b[39m\u001b[39meuclidean\u001b[39m\u001b[39m'\u001b[39m)\n",
      "\u001b[1;31mModuleNotFoundError\u001b[0m: No module named 'scipy'"
     ]
    }
   ],
   "source": [
    "from scipy.cluster.hierarchy import dendrogram, linkage\n",
    "\n",
    "Z1 = linkage(X1, method='single', metric='euclidean')"
   ]
  },
  {
   "cell_type": "code",
   "execution_count": null,
   "metadata": {},
   "outputs": [],
   "source": [
    "plt.figure(figsize=(15, 10))\n",
    "plt.subplot(2,2,1), dendrogram(Z1), plt.title('Single')"
   ]
  }
 ],
 "metadata": {
  "kernelspec": {
   "display_name": "venvotes",
   "language": "python",
   "name": "python3"
  },
  "language_info": {
   "codemirror_mode": {
    "name": "ipython",
    "version": 3
   },
   "file_extension": ".py",
   "mimetype": "text/x-python",
   "name": "python",
   "nbconvert_exporter": "python",
   "pygments_lexer": "ipython3",
   "version": "3.10.9"
  },
  "orig_nbformat": 4
 },
 "nbformat": 4,
 "nbformat_minor": 2
}
