{
 "cells": [
  {
   "attachments": {},
   "cell_type": "markdown",
   "metadata": {},
   "source": [
    "# Passport analysis\n",
    "\n",
    "This notebook proposes to create a new on-chain stamp that counts the number of times a person has interacted with a decentralized exchange. \n",
    "\n",
    "For that, it uses transaction data from the list of addresses contained in the Loki/thor data set. \n",
    "\n",
    "It then analyzes the distribution of the number of interactions Thor/Loki users have made with a pool. And then set a threshold that could be used as proof of humanness in a passport."
   ]
  },
  {
   "cell_type": "code",
   "execution_count": 34,
   "metadata": {},
   "outputs": [],
   "source": [
    "# import libraries\n",
    "import os\n",
    "from pathlib import Path\n",
    "\n",
    "import numpy as np\n",
    "import pandas as pd\n",
    "from matplotlib import pyplot as plt\n",
    "import seaborn as sns\n",
    "\n",
    "from sbdata.FlipsideApi import FlipsideApi\n",
    "from sbutils import LoadData\n",
    "from sblegos.TransactionAnalyser import TransactionAnalyser as txa"
   ]
  },
  {
   "cell_type": "code",
   "execution_count": 2,
   "metadata": {},
   "outputs": [],
   "source": [
    "# Set path to data folder\n",
    "current_dir = Path(os.getcwd())\n",
    "PATH_TO_EXPORT = os.path.join(current_dir.parent.parent, 'tx_data', 'passport2')\n",
    "DATA_DIR = os.path.join(current_dir.parent.parent, 'data-regen-rangers')\n",
    "PATH_TO_LOKI = os.path.join(DATA_DIR, \"thor_loki.csv\")\n",
    "PATH_TO_SYBILS_GR15 = os.path.join(DATA_DIR, \"alpha_round_sybils.xlsx\")\n",
    "\n",
    "# Load data\n",
    "df_loki = pd.read_csv(PATH_TO_LOKI)\n",
    "df_sybils_gr15_oss = pd.read_excel(PATH_TO_SYBILS_GR15, sheet_name=3)\n",
    "df_sybils_gr15_eth = pd.read_excel(PATH_TO_SYBILS_GR15, sheet_name=4)\n",
    "df_sybils_gr15_climate = pd.read_excel(PATH_TO_SYBILS_GR15, sheet_name=5)"
   ]
  },
  {
   "cell_type": "code",
   "execution_count": 3,
   "metadata": {},
   "outputs": [],
   "source": [
    "# Initialize the Flipside API\n",
    "api_key = os.environ['FLIPSIDE_API_KEY']\n",
    "flipside_api = FlipsideApi(api_key, max_address=400)"
   ]
  },
  {
   "cell_type": "code",
   "execution_count": 4,
   "metadata": {},
   "outputs": [],
   "source": [
    "# start cleaning data\n",
    "df_loki.dropna(subset=['Wallet Address', 'Thor/Loki Indicator'], inplace=True)\n",
    "df_loki.drop_duplicates(subset=['Wallet Address'], inplace=True)\n",
    "\n",
    "# drop nan values in the excel\n",
    "df_sybils_gr15_oss.dropna(subset=['ID'], inplace=True)\n",
    "df_sybils_gr15_eth.dropna(subset=['ID'], inplace=True)\n",
    "df_sybils_gr15_climate.dropna(subset=['ID'], inplace=True)"
   ]
  },
  {
   "attachments": {},
   "cell_type": "markdown",
   "metadata": {},
   "source": [
    "Count the total number of addresses in the data"
   ]
  },
  {
   "cell_type": "code",
   "execution_count": 5,
   "metadata": {},
   "outputs": [
    {
     "name": "stdout",
     "output_type": "stream",
     "text": [
      "Total number of addresses 14598\n",
      "Total unique addresses unique_addresses 6217\n",
      "8381 duplicates\n"
     ]
    }
   ],
   "source": [
    "addresses = df_loki['Wallet Address'].tolist()\n",
    "addresses += df_sybils_gr15_oss['Source Address'].tolist()\n",
    "addresses += df_sybils_gr15_eth['Source Address'].tolist()\n",
    "addresses += df_sybils_gr15_climate['Source Address'].tolist()\n",
    "print(f'Total number of addresses {len(addresses)}')\n",
    "unique_addresses = np.unique(np.array(addresses))\n",
    "print(f'Total unique addresses unique_addresses {len(unique_addresses)}')\n",
    "print(f'{len(addresses) - len(unique_addresses)} duplicates')"
   ]
  },
  {
   "cell_type": "code",
   "execution_count": 6,
   "metadata": {},
   "outputs": [
    {
     "name": "stdout",
     "output_type": "stream",
     "text": [
      "Total number of addresses in GR15 10167\n",
      "Total unique addresses 1855\n",
      "8312 duplicates\n"
     ]
    }
   ],
   "source": [
    "other_add = df_sybils_gr15_oss['Source Address'].tolist()\n",
    "other_add += df_sybils_gr15_eth['Source Address'].tolist()\n",
    "other_add += df_sybils_gr15_climate['Source Address'].tolist()\n",
    "other_unique_address = np.unique(np.array(other_add))\n",
    "print(f'Total number of addresses in GR15 {len(other_add)}')\n",
    "print(f'Total unique addresses {len(other_unique_address)}')\n",
    "print(f'{len(other_add) - len(other_unique_address)} duplicates')"
   ]
  },
  {
   "cell_type": "code",
   "execution_count": 7,
   "metadata": {},
   "outputs": [
    {
     "name": "stdout",
     "output_type": "stream",
     "text": [
      "Number of addresses in loki 4431\n",
      "Number of addresses in oss 8139\n",
      "Number of addresses in eth 1355\n",
      "Number of addresses in climate 673\n"
     ]
    }
   ],
   "source": [
    "print(f'Number of addresses in loki {len(df_loki)}')\n",
    "print(f'Number of addresses in oss {len(df_sybils_gr15_oss)}')\n",
    "print(f'Number of addresses in eth {len(df_sybils_gr15_eth)}')\n",
    "print(f'Number of addresses in climate {len(df_sybils_gr15_climate)}')"
   ]
  },
  {
   "attachments": {},
   "cell_type": "markdown",
   "metadata": {},
   "source": [
    "There are a lot of addresses to query let's see how we can reduce that number"
   ]
  },
  {
   "cell_type": "code",
   "execution_count": 8,
   "metadata": {},
   "outputs": [
    {
     "data": {
      "text/plain": [
       "Thor/Loki Indicator\n",
       "thor    2383\n",
       "loki    2048\n",
       "Name: count, dtype: int64"
      ]
     },
     "execution_count": 8,
     "metadata": {},
     "output_type": "execute_result"
    }
   ],
   "source": [
    "df_loki['Thor/Loki Indicator'].value_counts()"
   ]
  },
  {
   "attachments": {},
   "cell_type": "markdown",
   "metadata": {},
   "source": [
    "Thor Loki data set is relatively well balanced so we start the analysis with the thor/loki data set."
   ]
  },
  {
   "cell_type": "code",
   "execution_count": 9,
   "metadata": {},
   "outputs": [],
   "source": [
    "# Lowercase all addresses\n",
    "df_loki['Wallet Address'] = df_loki['Wallet Address'].str.lower()"
   ]
  },
  {
   "cell_type": "code",
   "execution_count": 10,
   "metadata": {},
   "outputs": [],
   "source": [
    "loki_unique_address = df_loki['Wallet Address'].unique()"
   ]
  },
  {
   "attachments": {},
   "cell_type": "markdown",
   "metadata": {},
   "source": [
    "We extracted all the transactions of the thor/loki data set in CSV files using the script/extract_txs_thor_loki.py script. We then import it in a data frame using sbscorer librairie"
   ]
  },
  {
   "cell_type": "code",
   "execution_count": 11,
   "metadata": {},
   "outputs": [],
   "source": [
    "# Load loki transaction data\n",
    "data_loader = LoadData.LoadData(PATH_TO_EXPORT)\n",
    "df_tx = data_loader.create_df_tx('ethereum', loki_unique_address.tolist())"
   ]
  },
  {
   "cell_type": "code",
   "execution_count": 12,
   "metadata": {},
   "outputs": [
    {
     "name": "stdout",
     "output_type": "stream",
     "text": [
      "4206\n",
      "4431\n"
     ]
    }
   ],
   "source": [
    "print(df_tx.EOA.nunique())\n",
    "print(len(loki_unique_address))"
   ]
  },
  {
   "attachments": {},
   "cell_type": "markdown",
   "metadata": {},
   "source": [
    "Some addresses are not in the extracted data set. We will remove them from the list of loki_unique_address"
   ]
  },
  {
   "attachments": {},
   "cell_type": "markdown",
   "metadata": {},
   "source": [
    "We create a query to retrieve labels from Flipsides API this allows us to have a list of addresses that are pools."
   ]
  },
  {
   "cell_type": "code",
   "execution_count": 13,
   "metadata": {},
   "outputs": [],
   "source": [
    "label_query = '''\n",
    "SELECT ADDRESS, CREATOR, LABEL_TYPE, ADDRESS_NAME, PROJECT_NAME\n",
    "FROM crosschain.core.address_labels \n",
    "WHERE BLOCKCHAIN='ethereum'\n",
    "AND LABEL_SUBTYPE = 'pool' \n",
    ";'''\n",
    "df_label = flipside_api.execute_query(label_query)"
   ]
  },
  {
   "cell_type": "code",
   "execution_count": 14,
   "metadata": {},
   "outputs": [
    {
     "data": {
      "text/html": [
       "<div>\n",
       "<style scoped>\n",
       "    .dataframe tbody tr th:only-of-type {\n",
       "        vertical-align: middle;\n",
       "    }\n",
       "\n",
       "    .dataframe tbody tr th {\n",
       "        vertical-align: top;\n",
       "    }\n",
       "\n",
       "    .dataframe thead th {\n",
       "        text-align: right;\n",
       "    }\n",
       "</style>\n",
       "<table border=\"1\" class=\"dataframe\">\n",
       "  <thead>\n",
       "    <tr style=\"text-align: right;\">\n",
       "      <th></th>\n",
       "      <th>address</th>\n",
       "      <th>creator</th>\n",
       "      <th>label_type</th>\n",
       "      <th>address_name</th>\n",
       "      <th>project_name</th>\n",
       "      <th>__row_index</th>\n",
       "    </tr>\n",
       "  </thead>\n",
       "  <tbody>\n",
       "    <tr>\n",
       "      <th>0</th>\n",
       "      <td>0xf845cba831be88268b1415d976db0afc7b8c6357</td>\n",
       "      <td>flipside</td>\n",
       "      <td>dex</td>\n",
       "      <td>uniswap v3 dsla/wrapped ether 0.3%</td>\n",
       "      <td>uniswap</td>\n",
       "      <td>0</td>\n",
       "    </tr>\n",
       "    <tr>\n",
       "      <th>1</th>\n",
       "      <td>0xf86c94c39a11e9535cabdf3ca07149eb0e7f24cc</td>\n",
       "      <td>flipside</td>\n",
       "      <td>dex</td>\n",
       "      <td>direwolf/weth pool</td>\n",
       "      <td>shibaswap</td>\n",
       "      <td>1</td>\n",
       "    </tr>\n",
       "  </tbody>\n",
       "</table>\n",
       "</div>"
      ],
      "text/plain": [
       "                                      address   creator label_type   \n",
       "0  0xf845cba831be88268b1415d976db0afc7b8c6357  flipside        dex  \\\n",
       "1  0xf86c94c39a11e9535cabdf3ca07149eb0e7f24cc  flipside        dex   \n",
       "\n",
       "                         address_name project_name  __row_index  \n",
       "0  uniswap v3 dsla/wrapped ether 0.3%      uniswap            0  \n",
       "1                  direwolf/weth pool    shibaswap            1  "
      ]
     },
     "execution_count": 14,
     "metadata": {},
     "output_type": "execute_result"
    }
   ],
   "source": [
    "df_label.head(2)"
   ]
  },
  {
   "cell_type": "code",
   "execution_count": 15,
   "metadata": {},
   "outputs": [],
   "source": [
    "# extract all the pool addresses\n",
    "array_pool_address = df_label['address'].unique()"
   ]
  },
  {
   "cell_type": "code",
   "execution_count": 16,
   "metadata": {},
   "outputs": [],
   "source": [
    "tx_analyser = txa(df_tx, df_address=pd.DataFrame(loki_unique_address))\n",
    "tx_analyser.set_group_by_sorted_EOA()"
   ]
  },
  {
   "attachments": {},
   "cell_type": "markdown",
   "metadata": {},
   "source": [
    "Create methods to count the number of interactions with an address from the pool"
   ]
  },
  {
   "cell_type": "code",
   "execution_count": 18,
   "metadata": {},
   "outputs": [],
   "source": [
    "def get_interacted_address(from_address, to_address, address):\n",
    "    if from_address == address:\n",
    "        return to_address\n",
    "    else:\n",
    "        return from_address\n",
    "\n",
    "def count_interaction_with_any(tx_analyser, address, array_address):\n",
    "    \"\"\"\n",
    "    Return an integer of the number of interactions with the addresses in the array_address\n",
    "    Parameters\n",
    "    ----------\n",
    "    address : str\n",
    "        The address to check\n",
    "\n",
    "    Returns\n",
    "    -------\n",
    "    count_interaction_with_any : int\n",
    "        The number of interactions with the addresses in the array_address\n",
    "    \"\"\"\n",
    "    tx_analyser.set_group_by_sorted_EOA()\n",
    "\n",
    "    df = tx_analyser.gb_EOA_sorted.get_group(address)\n",
    "    address_interacted = df.apply(lambda x: get_interacted_address(x['from_address'], x['to_address'], address), axis=1)\n",
    "    tx_boolean_interacted = address_interacted.isin(array_address)\n",
    "    return tx_boolean_interacted.sum()\n",
    "\n",
    "def has_interacted_with_any(tx_analyser, address, array_address):\n",
    "    \"\"\"\n",
    "    Return a boolean whether the address has interacted with any address in the array_address\n",
    "    Parameters\n",
    "    ----------\n",
    "    address : str\n",
    "        The address to check\n",
    "\n",
    "    Returns\n",
    "    -------\n",
    "    has_interacted_with_any : bool\n",
    "        True if the address has interacted with one or more of the addresses in the array_address\n",
    "    \"\"\"\n",
    "    count_interaction_with_any = count_interaction_with_any(tx_analyser, address, array_address)\n",
    "    return count_interaction_with_any > 0"
   ]
  },
  {
   "cell_type": "code",
   "execution_count": 19,
   "metadata": {},
   "outputs": [],
   "source": [
    "df_loki.reset_index(inplace=True, drop=True)"
   ]
  },
  {
   "attachments": {},
   "cell_type": "markdown",
   "metadata": {},
   "source": [
    "Some of the addresses are not in the data set so we will need to filter them out"
   ]
  },
  {
   "cell_type": "code",
   "execution_count": 20,
   "metadata": {},
   "outputs": [],
   "source": [
    "loki_unique_address = np.intersect1d(loki_unique_address, df_loki['Wallet Address'].unique())"
   ]
  },
  {
   "cell_type": "code",
   "execution_count": 21,
   "metadata": {},
   "outputs": [],
   "source": [
    "loki_unique_address = np.intersect1d(loki_unique_address, df_tx.EOA.unique())"
   ]
  },
  {
   "cell_type": "code",
   "execution_count": 22,
   "metadata": {},
   "outputs": [],
   "source": [
    "df_loki = df_loki[df_loki['Wallet Address'].isin(loki_unique_address)]"
   ]
  },
  {
   "cell_type": "code",
   "execution_count": 23,
   "metadata": {},
   "outputs": [
    {
     "name": "stdout",
     "output_type": "stream",
     "text": [
      "(4206, 9)\n"
     ]
    }
   ],
   "source": [
    "# verify we have the same size of unique addresses\n",
    "assert df_loki.shape[0] == len(loki_unique_address)\n",
    "print(df_loki.shape)"
   ]
  },
  {
   "cell_type": "code",
   "execution_count": 24,
   "metadata": {},
   "outputs": [],
   "source": [
    "# Compute the number of interactions with any of the pools for each address in the loki dataset\n",
    "df_loki['count_interaction_with_any'] = df_loki['Wallet Address'].apply(lambda x: count_interaction_with_any(tx_analyser, x, array_pool_address))"
   ]
  },
  {
   "cell_type": "code",
   "execution_count": 25,
   "metadata": {},
   "outputs": [
    {
     "data": {
      "text/plain": [
       "2101"
      ]
     },
     "execution_count": 25,
     "metadata": {},
     "output_type": "execute_result"
    }
   ],
   "source": [
    "# Number of interactions with any of the pools from all the addresses\n",
    "(df_loki['count_interaction_with_any'] > 0).sum()"
   ]
  },
  {
   "cell_type": "code",
   "execution_count": 26,
   "metadata": {},
   "outputs": [
    {
     "data": {
      "text/plain": [
       "count    4206.000000\n",
       "mean        7.091298\n",
       "std        39.227350\n",
       "min         0.000000\n",
       "25%         0.000000\n",
       "50%         0.000000\n",
       "75%         4.000000\n",
       "max      1222.000000\n",
       "Name: count_interaction_with_any, dtype: float64"
      ]
     },
     "execution_count": 26,
     "metadata": {},
     "output_type": "execute_result"
    }
   ],
   "source": [
    "df_loki['count_interaction_with_any'].describe()"
   ]
  },
  {
   "cell_type": "code",
   "execution_count": 27,
   "metadata": {},
   "outputs": [
    {
     "data": {
      "text/html": [
       "<div>\n",
       "<style scoped>\n",
       "    .dataframe tbody tr th:only-of-type {\n",
       "        vertical-align: middle;\n",
       "    }\n",
       "\n",
       "    .dataframe tbody tr th {\n",
       "        vertical-align: top;\n",
       "    }\n",
       "\n",
       "    .dataframe thead th {\n",
       "        text-align: right;\n",
       "    }\n",
       "</style>\n",
       "<table border=\"1\" class=\"dataframe\">\n",
       "  <thead>\n",
       "    <tr style=\"text-align: right;\">\n",
       "      <th></th>\n",
       "      <th>Wallet Address</th>\n",
       "      <th>Gitcoin Handle</th>\n",
       "      <th>Thor/Loki Indicator</th>\n",
       "      <th>Stamps Collected</th>\n",
       "      <th>Logistic Regression Score</th>\n",
       "      <th>Regularized Regression Score</th>\n",
       "      <th>COF Kish Score</th>\n",
       "      <th>Gitcoin Regen Score</th>\n",
       "      <th>Stamps</th>\n",
       "      <th>count_interaction_with_any</th>\n",
       "    </tr>\n",
       "  </thead>\n",
       "  <tbody>\n",
       "    <tr>\n",
       "      <th>2983</th>\n",
       "      <td>0x64abc5b10c77d93be5038e7b4965d2f0d8279127</td>\n",
       "      <td>hypergamedoteth</td>\n",
       "      <td>thor</td>\n",
       "      <td>21</td>\n",
       "      <td>0.999852</td>\n",
       "      <td>0.985764</td>\n",
       "      <td>3476.000</td>\n",
       "      <td>52</td>\n",
       "      <td>[\"GitcoinContributorStatistics#totalContributi...</td>\n",
       "      <td>1222</td>\n",
       "    </tr>\n",
       "    <tr>\n",
       "      <th>27</th>\n",
       "      <td>0x5d47e5d242a8f66a6286b0a2353868875f5d6068</td>\n",
       "      <td>jokazza84</td>\n",
       "      <td>thor</td>\n",
       "      <td>13</td>\n",
       "      <td>1.000000</td>\n",
       "      <td>0.919659</td>\n",
       "      <td>11543.875</td>\n",
       "      <td>21</td>\n",
       "      <td>[\"ethPossessionsGte#1\", \"ZkSync\", \"FirstEthTxn...</td>\n",
       "      <td>1076</td>\n",
       "    </tr>\n",
       "    <tr>\n",
       "      <th>2964</th>\n",
       "      <td>0x99ed04c212dd3929e9063bd78b26ef41858cb62c</td>\n",
       "      <td>jacobmort</td>\n",
       "      <td>thor</td>\n",
       "      <td>8</td>\n",
       "      <td>0.983923</td>\n",
       "      <td>0.904224</td>\n",
       "      <td>558.500</td>\n",
       "      <td>0</td>\n",
       "      <td>[\"Facebook\", \"Twitter\", \"StarredGithubRepoProv...</td>\n",
       "      <td>922</td>\n",
       "    </tr>\n",
       "    <tr>\n",
       "      <th>81</th>\n",
       "      <td>0x2880a6bb2cd1df6e03dc8bbfbed009de586c2603</td>\n",
       "      <td>n1024829</td>\n",
       "      <td>thor</td>\n",
       "      <td>4</td>\n",
       "      <td>0.612315</td>\n",
       "      <td>0.594022</td>\n",
       "      <td>189.500</td>\n",
       "      <td>0</td>\n",
       "      <td>[\"Twitter\", \"POAP\", \"Google\", \"Ens\"]</td>\n",
       "      <td>756</td>\n",
       "    </tr>\n",
       "    <tr>\n",
       "      <th>2557</th>\n",
       "      <td>0x478fa4c971a077038b4fc5c172c3af5552224ccc</td>\n",
       "      <td>cryptikal514</td>\n",
       "      <td>thor</td>\n",
       "      <td>11</td>\n",
       "      <td>0.739387</td>\n",
       "      <td>0.821560</td>\n",
       "      <td>691.750</td>\n",
       "      <td>0</td>\n",
       "      <td>[\"ZkSync\", \"SnapshotVotesProvider\", \"FirstEthT...</td>\n",
       "      <td>563</td>\n",
       "    </tr>\n",
       "    <tr>\n",
       "      <th>164</th>\n",
       "      <td>0xd83901bd980ea6271af6d0061adf931b00e156d8</td>\n",
       "      <td>alondai</td>\n",
       "      <td>thor</td>\n",
       "      <td>8</td>\n",
       "      <td>0.663024</td>\n",
       "      <td>0.582314</td>\n",
       "      <td>700.000</td>\n",
       "      <td>0</td>\n",
       "      <td>[\"ZkSync\", \"Ens\", \"NFT\", \"Discord\", \"Twitter\",...</td>\n",
       "      <td>420</td>\n",
       "    </tr>\n",
       "    <tr>\n",
       "      <th>2771</th>\n",
       "      <td>0x94692b042a0e36671952ff0b71e43d6e0d06845a</td>\n",
       "      <td>corepl</td>\n",
       "      <td>thor</td>\n",
       "      <td>10</td>\n",
       "      <td>0.651339</td>\n",
       "      <td>0.629363</td>\n",
       "      <td>1312.125</td>\n",
       "      <td>32</td>\n",
       "      <td>[\"ethPossessionsGte#1\", \"ZkSync\", \"GitcoinCont...</td>\n",
       "      <td>371</td>\n",
       "    </tr>\n",
       "    <tr>\n",
       "      <th>2589</th>\n",
       "      <td>0x1c494f1919c1512ebe74a5dcc17dac9a64069023</td>\n",
       "      <td>alexisleger-42</td>\n",
       "      <td>thor</td>\n",
       "      <td>20</td>\n",
       "      <td>0.998073</td>\n",
       "      <td>0.990677</td>\n",
       "      <td>2169.750</td>\n",
       "      <td>18</td>\n",
       "      <td>[\"GitcoinContributorStatistics#totalContributi...</td>\n",
       "      <td>337</td>\n",
       "    </tr>\n",
       "    <tr>\n",
       "      <th>5</th>\n",
       "      <td>0x3d1d397acd3b0989d9e633d6dbf7e6f8f5c03a2d</td>\n",
       "      <td>maksim-tolo</td>\n",
       "      <td>thor</td>\n",
       "      <td>5</td>\n",
       "      <td>0.505828</td>\n",
       "      <td>0.507706</td>\n",
       "      <td>270.000</td>\n",
       "      <td>0</td>\n",
       "      <td>[\"Facebook\", \"POAP\", \"Twitter\", \"Google\", \"Git...</td>\n",
       "      <td>326</td>\n",
       "    </tr>\n",
       "    <tr>\n",
       "      <th>2224</th>\n",
       "      <td>0x5db63f987817910bbb9656b5210990408d3831fb</td>\n",
       "      <td>qlonline</td>\n",
       "      <td>loki</td>\n",
       "      <td>22</td>\n",
       "      <td>0.764276</td>\n",
       "      <td>0.841920</td>\n",
       "      <td>2440.875</td>\n",
       "      <td>39</td>\n",
       "      <td>[\"GitcoinContributorStatistics#totalContributi...</td>\n",
       "      <td>291</td>\n",
       "    </tr>\n",
       "  </tbody>\n",
       "</table>\n",
       "</div>"
      ],
      "text/plain": [
       "                                  Wallet Address   Gitcoin Handle   \n",
       "2983  0x64abc5b10c77d93be5038e7b4965d2f0d8279127  hypergamedoteth  \\\n",
       "27    0x5d47e5d242a8f66a6286b0a2353868875f5d6068        jokazza84   \n",
       "2964  0x99ed04c212dd3929e9063bd78b26ef41858cb62c        jacobmort   \n",
       "81    0x2880a6bb2cd1df6e03dc8bbfbed009de586c2603         n1024829   \n",
       "2557  0x478fa4c971a077038b4fc5c172c3af5552224ccc     cryptikal514   \n",
       "164   0xd83901bd980ea6271af6d0061adf931b00e156d8          alondai   \n",
       "2771  0x94692b042a0e36671952ff0b71e43d6e0d06845a           corepl   \n",
       "2589  0x1c494f1919c1512ebe74a5dcc17dac9a64069023   alexisleger-42   \n",
       "5     0x3d1d397acd3b0989d9e633d6dbf7e6f8f5c03a2d      maksim-tolo   \n",
       "2224  0x5db63f987817910bbb9656b5210990408d3831fb         qlonline   \n",
       "\n",
       "     Thor/Loki Indicator  Stamps Collected  Logistic Regression Score   \n",
       "2983                thor                21                   0.999852  \\\n",
       "27                  thor                13                   1.000000   \n",
       "2964                thor                 8                   0.983923   \n",
       "81                  thor                 4                   0.612315   \n",
       "2557                thor                11                   0.739387   \n",
       "164                 thor                 8                   0.663024   \n",
       "2771                thor                10                   0.651339   \n",
       "2589                thor                20                   0.998073   \n",
       "5                   thor                 5                   0.505828   \n",
       "2224                loki                22                   0.764276   \n",
       "\n",
       "      Regularized Regression Score  COF Kish Score  Gitcoin Regen Score   \n",
       "2983                      0.985764        3476.000                   52  \\\n",
       "27                        0.919659       11543.875                   21   \n",
       "2964                      0.904224         558.500                    0   \n",
       "81                        0.594022         189.500                    0   \n",
       "2557                      0.821560         691.750                    0   \n",
       "164                       0.582314         700.000                    0   \n",
       "2771                      0.629363        1312.125                   32   \n",
       "2589                      0.990677        2169.750                   18   \n",
       "5                         0.507706         270.000                    0   \n",
       "2224                      0.841920        2440.875                   39   \n",
       "\n",
       "                                                 Stamps   \n",
       "2983  [\"GitcoinContributorStatistics#totalContributi...  \\\n",
       "27    [\"ethPossessionsGte#1\", \"ZkSync\", \"FirstEthTxn...   \n",
       "2964  [\"Facebook\", \"Twitter\", \"StarredGithubRepoProv...   \n",
       "81                 [\"Twitter\", \"POAP\", \"Google\", \"Ens\"]   \n",
       "2557  [\"ZkSync\", \"SnapshotVotesProvider\", \"FirstEthT...   \n",
       "164   [\"ZkSync\", \"Ens\", \"NFT\", \"Discord\", \"Twitter\",...   \n",
       "2771  [\"ethPossessionsGte#1\", \"ZkSync\", \"GitcoinCont...   \n",
       "2589  [\"GitcoinContributorStatistics#totalContributi...   \n",
       "5     [\"Facebook\", \"POAP\", \"Twitter\", \"Google\", \"Git...   \n",
       "2224  [\"GitcoinContributorStatistics#totalContributi...   \n",
       "\n",
       "      count_interaction_with_any  \n",
       "2983                        1222  \n",
       "27                          1076  \n",
       "2964                         922  \n",
       "81                           756  \n",
       "2557                         563  \n",
       "164                          420  \n",
       "2771                         371  \n",
       "2589                         337  \n",
       "5                            326  \n",
       "2224                         291  "
      ]
     },
     "execution_count": 27,
     "metadata": {},
     "output_type": "execute_result"
    }
   ],
   "source": [
    "df_loki.sort_values('count_interaction_with_any', ascending=False).head(10)"
   ]
  },
  {
   "cell_type": "code",
   "execution_count": 28,
   "metadata": {},
   "outputs": [
    {
     "data": {
      "text/plain": [
       "count    1836.000000\n",
       "mean        1.824074\n",
       "std         8.330116\n",
       "min         0.000000\n",
       "25%         0.000000\n",
       "50%         0.000000\n",
       "75%         2.000000\n",
       "90%         4.000000\n",
       "95%         7.000000\n",
       "99%        20.000000\n",
       "max       291.000000\n",
       "Name: count_interaction_with_any, dtype: float64"
      ]
     },
     "execution_count": 28,
     "metadata": {},
     "output_type": "execute_result"
    }
   ],
   "source": [
    "df_loki[df_loki['Thor/Loki Indicator'] == 'loki']['count_interaction_with_any'].describe([0.25, 0.5, 0.75, 0.9, 0.95, 0.99])"
   ]
  },
  {
   "cell_type": "code",
   "execution_count": 29,
   "metadata": {},
   "outputs": [
    {
     "data": {
      "text/plain": [
       "count    2370.000000\n",
       "mean       11.171730\n",
       "std        51.375595\n",
       "min         0.000000\n",
       "25%         0.000000\n",
       "50%         2.000000\n",
       "75%         6.000000\n",
       "90%        20.000000\n",
       "95%        42.550000\n",
       "99%       171.860000\n",
       "max      1222.000000\n",
       "Name: count_interaction_with_any, dtype: float64"
      ]
     },
     "execution_count": 29,
     "metadata": {},
     "output_type": "execute_result"
    }
   ],
   "source": [
    "df_loki[df_loki['Thor/Loki Indicator'] == 'thor']['count_interaction_with_any'].describe([0.25, 0.5, 0.75, 0.9, 0.95, 0.99])"
   ]
  },
  {
   "cell_type": "code",
   "execution_count": 35,
   "metadata": {},
   "outputs": [
    {
     "data": {
      "image/png": "[encoded data removed]",
      "text/plain": [
       "<Figure size 650.222x500 with 1 Axes>"
      ]
     },
     "metadata": {},
     "output_type": "display_data"
    }
   ],
   "source": [
    "sns.set_theme(style=\"whitegrid\")\n",
    "sns.displot(df_loki, x=\"count_interaction_with_any\", hue=\"Thor/Loki Indicator\", kind=\"ecdf\")\n",
    "ax = plt.gca()\n",
    "ax.set_xlim([0, 20])\n",
    "plt.show()"
   ]
  },
  {
   "attachments": {},
   "cell_type": "markdown",
   "metadata": {},
   "source": [
    "50% of addresses in the Thor group have interacted with a pool at least 2 times\n",
    "While only 10% of the Loki group have interacted with a pool at least 2 times\n",
    "\n",
    "Above 5 interactions with a pool, we remove 90% of sybil users (Loki)\n",
    "\n",
    "From these percentiles we can propose a threshold of the number of interactions with a dex should be around 5\n",
    "\n",
    "Then a second threshold above 20 would eliminate 99% of the addresses that have the Loki flag and 90% of the addresses that have the Thor flag, however, that second stamp will give proof of humanness with a high degree of confidence.\n",
    "\n",
    "The chart displays the percentiles of the number of interactions with a pool for the Thor/Loki data set per group of users.\n",
    "It demonstrates visually that very rapidly when we increase the number of interactions almost all Loki addresses are filtered out.\n",
    "We have to note that also many thor users don't have any transactions with a pool which would make the stamp discriminate against many users."
   ]
  },
  {
   "attachments": {},
   "cell_type": "markdown",
   "metadata": {},
   "source": [
    "## Conclusion\n",
    "Looking at the number of interactions with a decentralised exchange is a good way to filter out sybil users. However it is not enough to filter out all sybil users. Nonetheless, it would also filter out many thor users. Two kind of stamps could be issued one at a threshold of 5 interactions and one at 20 interactions."
   ]
  },
  {
   "attachments": {},
   "cell_type": "markdown",
   "metadata": {},
   "source": [
    "### Verification with the Grant 15 data set"
   ]
  },
  {
   "cell_type": "code",
   "execution_count": 36,
   "metadata": {},
   "outputs": [],
   "source": [
    "diff_address = np.setdiff1d(other_unique_address, loki_unique_address)"
   ]
  },
  {
   "cell_type": "code",
   "execution_count": 37,
   "metadata": {},
   "outputs": [
    {
     "data": {
      "text/plain": [
       "5992"
      ]
     },
     "execution_count": 37,
     "metadata": {},
     "output_type": "execute_result"
    }
   ],
   "source": [
    "len(diff_address) + len(loki_unique_address)"
   ]
  },
  {
   "cell_type": "code",
   "execution_count": 38,
   "metadata": {},
   "outputs": [],
   "source": [
    "# Load gr15 transaction data\n",
    "data_loader_gr15 = LoadData.LoadData(PATH_TO_EXPORT)\n",
    "df_tx_15 = data_loader.create_df_tx('ethereum', other_unique_address.tolist())"
   ]
  },
  {
   "cell_type": "code",
   "execution_count": null,
   "metadata": {},
   "outputs": [],
   "source": [
    "df_sybils_gr15_oss = pd.read_excel(PATH_TO_SYBILS_GR15, sheet_name=3)\n",
    "df_sybils_gr15_eth = pd.read_excel(PATH_TO_SYBILS_GR15, sheet_name=4)\n",
    "df_sybils_gr15_climate = pd.read_excel(PATH_TO_SYBILS_GR15, sheet_name=5)"
   ]
  },
  {
   "cell_type": "code",
   "execution_count": 53,
   "metadata": {},
   "outputs": [],
   "source": [
    "# Append round 15 reviews\n",
    "df_gr15 = pd.concat([df_sybils_gr15_oss[['Source Address', 'Reviewed Manually']], df_sybils_gr15_eth[['Source Address', 'Reviewed Manually']], df_sybils_gr15_climate[['Source Address', 'Reviewed Manually']]])"
   ]
  },
  {
   "cell_type": "code",
   "execution_count": 54,
   "metadata": {},
   "outputs": [
    {
     "data": {
      "text/plain": [
       "(10167, 2)"
      ]
     },
     "execution_count": 54,
     "metadata": {},
     "output_type": "execute_result"
    }
   ],
   "source": [
    "df_gr15.shape"
   ]
  },
  {
   "cell_type": "code",
   "execution_count": 55,
   "metadata": {},
   "outputs": [
    {
     "name": "stdout",
     "output_type": "stream",
     "text": [
      "2013\n",
      "1855\n"
     ]
    }
   ],
   "source": [
    "df_gr15.drop_duplicates(subset=['Source Address', 'Reviewed Manually'], inplace=True)\n",
    "print(df_gr15.shape[0])\n",
    "print(df_gr15['Source Address'].nunique())"
   ]
  },
  {
   "attachments": {},
   "cell_type": "markdown",
   "metadata": {},
   "source": [
    "Some addresses reviewed manualy do not have the same flag, we will keep the sybil flag as the real flag.\n",
    "\n",
    "For that we assign the flag true to the addresses that appear multiple times."
   ]
  },
  {
   "cell_type": "code",
   "execution_count": 67,
   "metadata": {},
   "outputs": [
    {
     "data": {
      "text/plain": [
       "<pandas.core.groupby.generic.DataFrameGroupBy object at 0x000002038F9FABC0>"
      ]
     },
     "execution_count": 67,
     "metadata": {},
     "output_type": "execute_result"
    }
   ],
   "source": [
    "df_gr15.groupby('Source Address')"
   ]
  },
  {
   "cell_type": "code",
   "execution_count": 72,
   "metadata": {},
   "outputs": [],
   "source": [
    "add_duplicate = (df_gr15.groupby('Source Address').count() > 1 ).reset_index()"
   ]
  },
  {
   "cell_type": "code",
   "execution_count": 74,
   "metadata": {},
   "outputs": [],
   "source": [
    "arr_dup_address = add_duplicate[add_duplicate['Reviewed Manually'] == True]['Source Address'].values #here it is not reviewed manually but does it appear more than one time?"
   ]
  },
  {
   "cell_type": "code",
   "execution_count": 76,
   "metadata": {},
   "outputs": [
    {
     "data": {
      "text/plain": [
       "158"
      ]
     },
     "execution_count": 76,
     "metadata": {},
     "output_type": "execute_result"
    }
   ],
   "source": [
    "len(arr_dup_address)"
   ]
  },
  {
   "cell_type": "code",
   "execution_count": 80,
   "metadata": {},
   "outputs": [],
   "source": [
    "df_gr15.loc[df_gr15['Source Address'].isin(arr_dup_address), 'Rewiewed Manually'] = True"
   ]
  },
  {
   "cell_type": "code",
   "execution_count": 81,
   "metadata": {},
   "outputs": [
    {
     "data": {
      "text/plain": [
       "(1855, 3)"
      ]
     },
     "execution_count": 81,
     "metadata": {},
     "output_type": "execute_result"
    }
   ],
   "source": [
    "df_gr15.drop_duplicates(subset=['Source Address'], inplace=True)\n",
    "df_gr15.shape"
   ]
  },
  {
   "cell_type": "code",
   "execution_count": 82,
   "metadata": {},
   "outputs": [
    {
     "data": {
      "text/plain": [
       "Reviewed Manually\n",
       "False    1697\n",
       "True      158\n",
       "Name: count, dtype: int64"
      ]
     },
     "execution_count": 82,
     "metadata": {},
     "output_type": "execute_result"
    }
   ],
   "source": [
    "df_gr15.value_counts('Reviewed Manually')"
   ]
  },
  {
   "attachments": {},
   "cell_type": "markdown",
   "metadata": {},
   "source": [
    "In comparison with the Thor/Loki data these data are very unbalanced."
   ]
  },
  {
   "cell_type": "code",
   "execution_count": 85,
   "metadata": {},
   "outputs": [],
   "source": [
    "tx_analyser_gr15 = txa(df_tx_15, df_address=pd.DataFrame(other_unique_address))\n",
    "tx_analyser_gr15.set_group_by_sorted_EOA()"
   ]
  },
  {
   "cell_type": "code",
   "execution_count": 86,
   "metadata": {},
   "outputs": [],
   "source": [
    "# Compute the number of interactions with any of the pools for each address in the loki dataset\n",
    "df_gr15['count_interaction_with_any'] = df_gr15['Source Address'].apply(lambda x: count_interaction_with_any(tx_analyser_gr15, x, array_pool_address))"
   ]
  },
  {
   "cell_type": "code",
   "execution_count": 87,
   "metadata": {},
   "outputs": [
    {
     "data": {
      "image/png": "[encoded data removed]",
      "text/plain": [
       "<Figure size 656.472x500 with 1 Axes>"
      ]
     },
     "metadata": {},
     "output_type": "display_data"
    }
   ],
   "source": [
    "sns.set_theme(style=\"whitegrid\")\n",
    "sns.displot(df_gr15, x=\"count_interaction_with_any\", hue='Reviewed Manually', kind=\"ecdf\")\n",
    "ax = plt.gca()\n",
    "ax.set_xlim([0, 20])\n",
    "plt.show()"
   ]
  },
  {
   "attachments": {},
   "cell_type": "markdown",
   "metadata": {},
   "source": [
    "Surprisingly the sybil percentile curve is below the non-sybil which is the contrary of the previous data set.\n",
    "\n",
    "This can be explained by the fact that the data set is very unbalanced and that the sample of sybil is not representative of the whole population."
   ]
  }
 ],
 "metadata": {
  "kernelspec": {
   "display_name": "venvotes",
   "language": "python",
   "name": "python3"
  },
  "language_info": {
   "codemirror_mode": {
    "name": "ipython",
    "version": 3
   },
   "file_extension": ".py",
   "mimetype": "text/x-python",
   "name": "python",
   "nbconvert_exporter": "python",
   "pygments_lexer": "ipython3",
   "version": "3.10.9"
  },
  "orig_nbformat": 4
 },
 "nbformat": 4,
 "nbformat_minor": 2
}
