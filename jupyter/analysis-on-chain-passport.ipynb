{
 "cells": [
  {
   "cell_type": "code",
   "execution_count": 1,
   "metadata": {},
   "outputs": [],
   "source": [
    "import os\n",
    "from pathlib import Path\n",
    "import numpy as np\n",
    "\n",
    "import pandas as pd\n",
    "\n",
    "from sbdata.FlipsideApi import FlipsideApi\n",
    "\n",
    "# Set path to data folder\n",
    "current_dir = Path(os.getcwd())\n",
    "PATH_TO_EXPORT = os.path.join(current_dir.parent.parent, 'tx_data', 'passport')\n",
    "DATA_DIR = os.path.join(current_dir.parent.parent, 'data-regen-rangers')\n",
    "\n",
    "# read the address from oss grant\n",
    "\n",
    "api_key = os.environ['FLIPSIDE_API_KEY']\n",
    "flipside_api = FlipsideApi(api_key, max_address=400)\n",
    "\n",
    "\n",
    "PATH_TO_LOKI = os.path.join(DATA_DIR, \"thor_loki.csv\")\n",
    "PATH_TO_SYBILS_GR15 = os.path.join(DATA_DIR, \"alpha_round_sybils.xlsx\")\n",
    "\n",
    "\n",
    "df_loki = pd.read_csv(PATH_TO_LOKI)\n",
    "df_sybils_gr15_oss = pd.read_excel(PATH_TO_SYBILS_GR15, sheet_name=3)\n",
    "df_sybils_gr15_eth = pd.read_excel(PATH_TO_SYBILS_GR15, sheet_name=4)\n",
    "df_sybils_gr15_climate = pd.read_excel(PATH_TO_SYBILS_GR15, sheet_name=5)"
   ]
  },
  {
   "cell_type": "code",
   "execution_count": 2,
   "metadata": {},
   "outputs": [],
   "source": [
    "df_loki.dropna(subset=['Wallet Address', 'Thor/Loki Indicator'], inplace=True)\n",
    "df_loki.drop_duplicates(subset=['Wallet Address'], inplace=True)"
   ]
  },
  {
   "cell_type": "code",
   "execution_count": 3,
   "metadata": {},
   "outputs": [
    {
     "name": "stdout",
     "output_type": "stream",
     "text": [
      "GBfhgm6rM89PeSDsoT9kPmSXsbWhezXYk6EhYUFrcJ6\n",
      "A6dP7TpAjZ5zDTLVLin62EJcWZzUTaEh1WYbeFGcfXNc\n",
      "HGAJ8yQiSwRFGQJUR6CruhHuPTpXz5Dvt1XVn3YGpQKA\n"
     ]
    }
   ],
   "source": [
    "print(df_sybils_gr15_oss.iloc[0, 0])\n",
    "print(df_sybils_gr15_eth.iloc[0, 0])\n",
    "print(df_sybils_gr15_climate.iloc[0, 0])"
   ]
  },
  {
   "cell_type": "code",
   "execution_count": 4,
   "metadata": {},
   "outputs": [],
   "source": [
    "df_sybils_gr15_oss.dropna(subset=['ID'], inplace=True)\n",
    "df_sybils_gr15_eth.dropna(subset=['ID'], inplace=True)\n",
    "df_sybils_gr15_climate.dropna(subset=['ID'], inplace=True)"
   ]
  },
  {
   "cell_type": "code",
   "execution_count": 5,
   "metadata": {},
   "outputs": [
    {
     "name": "stdout",
     "output_type": "stream",
     "text": [
      "addresses 14598\n",
      "unique_addresses 6217\n",
      "8381 duplicates\n"
     ]
    }
   ],
   "source": [
    "addresses = df_loki['Wallet Address'].tolist()\n",
    "addresses += df_sybils_gr15_oss['Source Address'].tolist()\n",
    "addresses += df_sybils_gr15_eth['Source Address'].tolist()\n",
    "addresses += df_sybils_gr15_climate['Source Address'].tolist()\n",
    "print(f'addresses {len(addresses)}')\n",
    "unique_addresses = np.unique(np.array(addresses))\n",
    "print(f'unique_addresses {len(unique_addresses)}')\n",
    "print(f'{len(addresses) - len(unique_addresses)} duplicates')"
   ]
  },
  {
   "cell_type": "code",
   "execution_count": 6,
   "metadata": {},
   "outputs": [
    {
     "name": "stdout",
     "output_type": "stream",
     "text": [
      "addresses 10167\n",
      "unique_addresses 1855\n",
      "8312 duplicates\n"
     ]
    }
   ],
   "source": [
    "other_add = df_sybils_gr15_oss['Source Address'].tolist()\n",
    "other_add += df_sybils_gr15_eth['Source Address'].tolist()\n",
    "other_add += df_sybils_gr15_climate['Source Address'].tolist()\n",
    "other_unique_address = np.unique(np.array(other_add))\n",
    "print(f'addresses {len(other_add)}')\n",
    "print(f'unique_addresses {len(other_unique_address)}')\n",
    "print(f'{len(other_add) - len(other_unique_address)} duplicates')"
   ]
  },
  {
   "cell_type": "code",
   "execution_count": 7,
   "metadata": {},
   "outputs": [
    {
     "name": "stdout",
     "output_type": "stream",
     "text": [
      "(4431, 9)\n",
      "(8139, 15)\n",
      "(1355, 10)\n",
      "(673, 10)\n"
     ]
    }
   ],
   "source": [
    "print(df_loki.shape)\n",
    "print(df_sybils_gr15_oss.shape)\n",
    "print(df_sybils_gr15_eth.shape)\n",
    "print(df_sybils_gr15_climate.shape)"
   ]
  },
  {
   "attachments": {},
   "cell_type": "markdown",
   "metadata": {},
   "source": [
    "There is a lot of addresses to query lets see how we can reduce that number"
   ]
  },
  {
   "cell_type": "code",
   "execution_count": 8,
   "metadata": {},
   "outputs": [
    {
     "data": {
      "text/plain": [
       "Thor/Loki Indicator\n",
       "thor    2383\n",
       "loki    2048\n",
       "Name: count, dtype: int64"
      ]
     },
     "execution_count": 8,
     "metadata": {},
     "output_type": "execute_result"
    }
   ],
   "source": [
    "df_loki['Thor/Loki Indicator'].value_counts()"
   ]
  },
  {
   "attachments": {},
   "cell_type": "markdown",
   "metadata": {},
   "source": [
    "Thor Loki data set is relatively well balanced so we will start with that"
   ]
  },
  {
   "cell_type": "code",
   "execution_count": 9,
   "metadata": {},
   "outputs": [],
   "source": [
    "df_loki['Wallet Address'] = df_loki['Wallet Address'].str.lower()"
   ]
  },
  {
   "cell_type": "code",
   "execution_count": 10,
   "metadata": {},
   "outputs": [],
   "source": [
    "loki_unique_address = df_loki['Wallet Address'].unique()"
   ]
  },
  {
   "cell_type": "code",
   "execution_count": 11,
   "metadata": {},
   "outputs": [],
   "source": [
    "from sbutils import LoadData\n",
    "\n",
    "# Load data\n",
    "data_loader = LoadData.LoadData(PATH_TO_EXPORT)"
   ]
  },
  {
   "cell_type": "code",
   "execution_count": 12,
   "metadata": {},
   "outputs": [],
   "source": [
    "df_tx = data_loader.create_df_tx('ethereum', loki_unique_address.tolist())"
   ]
  },
  {
   "cell_type": "code",
   "execution_count": 13,
   "metadata": {},
   "outputs": [
    {
     "name": "stdout",
     "output_type": "stream",
     "text": [
      "4187\n",
      "4431\n"
     ]
    }
   ],
   "source": [
    "print(df_tx.EOA.nunique())\n",
    "print(len(loki_unique_address))"
   ]
  },
  {
   "cell_type": "code",
   "execution_count": 14,
   "metadata": {},
   "outputs": [],
   "source": [
    "label_query = '''\n",
    "SELECT ADDRESS, CREATOR, LABEL_TYPE, ADDRESS_NAME, PROJECT_NAME\n",
    "FROM crosschain.core.address_labels \n",
    "WHERE BLOCKCHAIN='ethereum'\n",
    "AND LABEL_SUBTYPE = 'pool' \n",
    ";'''\n",
    "df_label = flipside_api.execute_query(label_query)"
   ]
  },
  {
   "cell_type": "code",
   "execution_count": 15,
   "metadata": {},
   "outputs": [
    {
     "data": {
      "text/html": [
       "<div>\n",
       "<style scoped>\n",
       "    .dataframe tbody tr th:only-of-type {\n",
       "        vertical-align: middle;\n",
       "    }\n",
       "\n",
       "    .dataframe tbody tr th {\n",
       "        vertical-align: top;\n",
       "    }\n",
       "\n",
       "    .dataframe thead th {\n",
       "        text-align: right;\n",
       "    }\n",
       "</style>\n",
       "<table border=\"1\" class=\"dataframe\">\n",
       "  <thead>\n",
       "    <tr style=\"text-align: right;\">\n",
       "      <th></th>\n",
       "      <th>address</th>\n",
       "      <th>creator</th>\n",
       "      <th>label_type</th>\n",
       "      <th>address_name</th>\n",
       "      <th>project_name</th>\n",
       "      <th>__row_index</th>\n",
       "    </tr>\n",
       "  </thead>\n",
       "  <tbody>\n",
       "    <tr>\n",
       "      <th>0</th>\n",
       "      <td>0xf845cba831be88268b1415d976db0afc7b8c6357</td>\n",
       "      <td>flipside</td>\n",
       "      <td>dex</td>\n",
       "      <td>uniswap v3 dsla/wrapped ether 0.3%</td>\n",
       "      <td>uniswap</td>\n",
       "      <td>0</td>\n",
       "    </tr>\n",
       "    <tr>\n",
       "      <th>1</th>\n",
       "      <td>0xf86c94c39a11e9535cabdf3ca07149eb0e7f24cc</td>\n",
       "      <td>flipside</td>\n",
       "      <td>dex</td>\n",
       "      <td>direwolf/weth pool</td>\n",
       "      <td>shibaswap</td>\n",
       "      <td>1</td>\n",
       "    </tr>\n",
       "  </tbody>\n",
       "</table>\n",
       "</div>"
      ],
      "text/plain": [
       "                                      address   creator label_type   \n",
       "0  0xf845cba831be88268b1415d976db0afc7b8c6357  flipside        dex  \\\n",
       "1  0xf86c94c39a11e9535cabdf3ca07149eb0e7f24cc  flipside        dex   \n",
       "\n",
       "                         address_name project_name  __row_index  \n",
       "0  uniswap v3 dsla/wrapped ether 0.3%      uniswap            0  \n",
       "1                  direwolf/weth pool    shibaswap            1  "
      ]
     },
     "execution_count": 15,
     "metadata": {},
     "output_type": "execute_result"
    }
   ],
   "source": [
    "df_label.head(2)"
   ]
  },
  {
   "cell_type": "code",
   "execution_count": 16,
   "metadata": {},
   "outputs": [],
   "source": [
    "array_pool_address = df_label['address'].unique()"
   ]
  },
  {
   "cell_type": "code",
   "execution_count": 17,
   "metadata": {},
   "outputs": [],
   "source": [
    "from sblegos.TransactionAnalyser import TransactionAnalyser as txa\n",
    "tx_analyser = txa(df_tx, df_address=pd.DataFrame(loki_unique_address))"
   ]
  },
  {
   "cell_type": "code",
   "execution_count": 18,
   "metadata": {},
   "outputs": [],
   "source": [
    "tx_analyser.set_group_by_sorted_EOA()\n"
   ]
  },
  {
   "cell_type": "code",
   "execution_count": 49,
   "metadata": {},
   "outputs": [],
   "source": [
    "def get_interacted_address(from_address, to_address, address):\n",
    "    if from_address == address:\n",
    "        return to_address\n",
    "    else:\n",
    "        return from_address\n",
    "\n",
    "def count_interaction_with_any(tx_analyser, address, array_address):\n",
    "    \"\"\"\n",
    "    Return an integer of the number of interactions with the addresses in the array_address\n",
    "    Parameters\n",
    "    ----------\n",
    "    address : str\n",
    "        The address to check\n",
    "\n",
    "    Returns\n",
    "    -------\n",
    "    count_interaction_with_any : int\n",
    "        The number of interactions with the addresses in the array_address\n",
    "    \"\"\"\n",
    "    tx_analyser.set_group_by_sorted_EOA()\n",
    "\n",
    "    df = tx_analyser.gb_EOA_sorted.get_group(address)\n",
    "    address_interacted = df.apply(lambda x: get_interacted_address(x['from_address'], x['to_address'], address), axis=1)\n",
    "    tx_boolean_interacted = address_interacted.isin(array_address)\n",
    "    return tx_boolean_interacted.sum()\n",
    "\n",
    "def has_interacted_with_any(tx_analyser, address, array_address):\n",
    "    \"\"\"\n",
    "    Return a boolean whether the address has interacted with any address in the array_address\n",
    "    Parameters\n",
    "    ----------\n",
    "    address : str\n",
    "        The address to check\n",
    "\n",
    "    Returns\n",
    "    -------\n",
    "    has_interacted_with_any : bool\n",
    "        True if the address has interacted with one or more of the addresses in the array_address\n",
    "    \"\"\"\n",
    "    count_interaction_with_any = count_interaction_with_any(tx_analyser, address, array_address)\n",
    "    return count_interaction_with_any > 0"
   ]
  },
  {
   "cell_type": "code",
   "execution_count": 20,
   "metadata": {},
   "outputs": [],
   "source": [
    "df_loki.reset_index(inplace=True, drop=True)"
   ]
  },
  {
   "attachments": {},
   "cell_type": "markdown",
   "metadata": {},
   "source": [
    "Some of the addresses are not in the data set so we will need to filter them out"
   ]
  },
  {
   "cell_type": "code",
   "execution_count": 34,
   "metadata": {},
   "outputs": [],
   "source": [
    "loki_unique_address = np.intersect1d(loki_unique_address, df_loki['Wallet Address'].unique())"
   ]
  },
  {
   "cell_type": "code",
   "execution_count": 42,
   "metadata": {},
   "outputs": [],
   "source": [
    "loki_unique_address = np.intersect1d(loki_unique_address, df_tx.EOA.unique())"
   ]
  },
  {
   "cell_type": "code",
   "execution_count": 44,
   "metadata": {},
   "outputs": [],
   "source": [
    "df_loki = df_loki[df_loki['Wallet Address'].isin(loki_unique_address)]"
   ]
  },
  {
   "cell_type": "code",
   "execution_count": 46,
   "metadata": {},
   "outputs": [
    {
     "name": "stdout",
     "output_type": "stream",
     "text": [
      "(4187, 9)\n"
     ]
    }
   ],
   "source": [
    "assert df_loki.shape[0] == len(loki_unique_address)\n",
    "print(df_loki.shape)"
   ]
  },
  {
   "cell_type": "code",
   "execution_count": 50,
   "metadata": {},
   "outputs": [],
   "source": [
    "df_loki['count_interaction_with_any'] = df_loki['Wallet Address'].apply(lambda x: count_interaction_with_any(tx_analyser, x, array_pool_address))"
   ]
  },
  {
   "cell_type": "code",
   "execution_count": 51,
   "metadata": {},
   "outputs": [
    {
     "data": {
      "text/plain": [
       "1906"
      ]
     },
     "execution_count": 51,
     "metadata": {},
     "output_type": "execute_result"
    }
   ],
   "source": [
    "(df_loki['count_interaction_with_any'] > 0).sum()"
   ]
  },
  {
   "cell_type": "code",
   "execution_count": 54,
   "metadata": {},
   "outputs": [
    {
     "data": {
      "text/plain": [
       "<Axes: xlabel='Thor/Loki Indicator', ylabel='count_interaction_with_any'>"
      ]
     },
     "execution_count": 54,
     "metadata": {},
     "output_type": "execute_result"
    },
    {
     "data": {
      "image/png": "[encoded data removed]",
      "text/plain": [
       "<Figure size 640x480 with 1 Axes>"
      ]
     },
     "metadata": {},
     "output_type": "display_data"
    }
   ],
   "source": [
    "import seaborn as sns\n",
    "sns.set_theme(style=\"whitegrid\")\n",
    "sns.violinplot(df_loki, x=\"Thor/Loki Indicator\", y=\"count_interaction_with_any\", hue=\"Thor/Loki Indicator\")"
   ]
  },
  {
   "cell_type": "code",
   "execution_count": 55,
   "metadata": {},
   "outputs": [
    {
     "data": {
      "text/plain": [
       "count    4187.000000\n",
       "mean        7.991641\n",
       "std        55.132921\n",
       "min         0.000000\n",
       "25%         0.000000\n",
       "50%         0.000000\n",
       "75%         4.000000\n",
       "max      2256.000000\n",
       "Name: count_interaction_with_any, dtype: float64"
      ]
     },
     "execution_count": 55,
     "metadata": {},
     "output_type": "execute_result"
    }
   ],
   "source": [
    "df_loki['count_interaction_with_any'].describe()"
   ]
  },
  {
   "cell_type": "code",
   "execution_count": 58,
   "metadata": {},
   "outputs": [
    {
     "data": {
      "text/html": [
       "<div>\n",
       "<style scoped>\n",
       "    .dataframe tbody tr th:only-of-type {\n",
       "        vertical-align: middle;\n",
       "    }\n",
       "\n",
       "    .dataframe tbody tr th {\n",
       "        vertical-align: top;\n",
       "    }\n",
       "\n",
       "    .dataframe thead th {\n",
       "        text-align: right;\n",
       "    }\n",
       "</style>\n",
       "<table border=\"1\" class=\"dataframe\">\n",
       "  <thead>\n",
       "    <tr style=\"text-align: right;\">\n",
       "      <th></th>\n",
       "      <th>Wallet Address</th>\n",
       "      <th>Gitcoin Handle</th>\n",
       "      <th>Thor/Loki Indicator</th>\n",
       "      <th>Stamps Collected</th>\n",
       "      <th>Logistic Regression Score</th>\n",
       "      <th>Regularized Regression Score</th>\n",
       "      <th>COF Kish Score</th>\n",
       "      <th>Gitcoin Regen Score</th>\n",
       "      <th>Stamps</th>\n",
       "      <th>count_interaction_with_any</th>\n",
       "    </tr>\n",
       "  </thead>\n",
       "  <tbody>\n",
       "    <tr>\n",
       "      <th>2983</th>\n",
       "      <td>0x64abc5b10c77d93be5038e7b4965d2f0d8279127</td>\n",
       "      <td>hypergamedoteth</td>\n",
       "      <td>thor</td>\n",
       "      <td>21</td>\n",
       "      <td>0.999852</td>\n",
       "      <td>0.985764</td>\n",
       "      <td>3476.000</td>\n",
       "      <td>52</td>\n",
       "      <td>[\"GitcoinContributorStatistics#totalContributi...</td>\n",
       "      <td>2256</td>\n",
       "    </tr>\n",
       "    <tr>\n",
       "      <th>2964</th>\n",
       "      <td>0x99ed04c212dd3929e9063bd78b26ef41858cb62c</td>\n",
       "      <td>jacobmort</td>\n",
       "      <td>thor</td>\n",
       "      <td>8</td>\n",
       "      <td>0.983923</td>\n",
       "      <td>0.904224</td>\n",
       "      <td>558.500</td>\n",
       "      <td>0</td>\n",
       "      <td>[\"Facebook\", \"Twitter\", \"StarredGithubRepoProv...</td>\n",
       "      <td>1602</td>\n",
       "    </tr>\n",
       "    <tr>\n",
       "      <th>2557</th>\n",
       "      <td>0x478fa4c971a077038b4fc5c172c3af5552224ccc</td>\n",
       "      <td>cryptikal514</td>\n",
       "      <td>thor</td>\n",
       "      <td>11</td>\n",
       "      <td>0.739387</td>\n",
       "      <td>0.821560</td>\n",
       "      <td>691.750</td>\n",
       "      <td>0</td>\n",
       "      <td>[\"ZkSync\", \"SnapshotVotesProvider\", \"FirstEthT...</td>\n",
       "      <td>1076</td>\n",
       "    </tr>\n",
       "    <tr>\n",
       "      <th>27</th>\n",
       "      <td>0x5d47e5d242a8f66a6286b0a2353868875f5d6068</td>\n",
       "      <td>jokazza84</td>\n",
       "      <td>thor</td>\n",
       "      <td>13</td>\n",
       "      <td>1.000000</td>\n",
       "      <td>0.919659</td>\n",
       "      <td>11543.875</td>\n",
       "      <td>21</td>\n",
       "      <td>[\"ethPossessionsGte#1\", \"ZkSync\", \"FirstEthTxn...</td>\n",
       "      <td>748</td>\n",
       "    </tr>\n",
       "    <tr>\n",
       "      <th>2771</th>\n",
       "      <td>0x94692b042a0e36671952ff0b71e43d6e0d06845a</td>\n",
       "      <td>corepl</td>\n",
       "      <td>thor</td>\n",
       "      <td>10</td>\n",
       "      <td>0.651339</td>\n",
       "      <td>0.629363</td>\n",
       "      <td>1312.125</td>\n",
       "      <td>32</td>\n",
       "      <td>[\"ethPossessionsGte#1\", \"ZkSync\", \"GitcoinCont...</td>\n",
       "      <td>674</td>\n",
       "    </tr>\n",
       "    <tr>\n",
       "      <th>2589</th>\n",
       "      <td>0x1c494f1919c1512ebe74a5dcc17dac9a64069023</td>\n",
       "      <td>alexisleger-42</td>\n",
       "      <td>thor</td>\n",
       "      <td>20</td>\n",
       "      <td>0.998073</td>\n",
       "      <td>0.990677</td>\n",
       "      <td>2169.750</td>\n",
       "      <td>18</td>\n",
       "      <td>[\"GitcoinContributorStatistics#totalContributi...</td>\n",
       "      <td>572</td>\n",
       "    </tr>\n",
       "    <tr>\n",
       "      <th>81</th>\n",
       "      <td>0x2880a6bb2cd1df6e03dc8bbfbed009de586c2603</td>\n",
       "      <td>n1024829</td>\n",
       "      <td>thor</td>\n",
       "      <td>4</td>\n",
       "      <td>0.612315</td>\n",
       "      <td>0.594022</td>\n",
       "      <td>189.500</td>\n",
       "      <td>0</td>\n",
       "      <td>[\"Twitter\", \"POAP\", \"Google\", \"Ens\"]</td>\n",
       "      <td>544</td>\n",
       "    </tr>\n",
       "    <tr>\n",
       "      <th>2224</th>\n",
       "      <td>0x5db63f987817910bbb9656b5210990408d3831fb</td>\n",
       "      <td>qlonline</td>\n",
       "      <td>loki</td>\n",
       "      <td>22</td>\n",
       "      <td>0.764276</td>\n",
       "      <td>0.841920</td>\n",
       "      <td>2440.875</td>\n",
       "      <td>39</td>\n",
       "      <td>[\"GitcoinContributorStatistics#totalContributi...</td>\n",
       "      <td>468</td>\n",
       "    </tr>\n",
       "    <tr>\n",
       "      <th>3340</th>\n",
       "      <td>0x787b4b7ffef8eddad54f311039acf4c36fec9593</td>\n",
       "      <td>roelie885</td>\n",
       "      <td>thor</td>\n",
       "      <td>5</td>\n",
       "      <td>0.742918</td>\n",
       "      <td>0.743101</td>\n",
       "      <td>214.250</td>\n",
       "      <td>0</td>\n",
       "      <td>[\"ZkSync\", \"Ens\", \"POAP\", \"Twitter\", \"TwitterF...</td>\n",
       "      <td>444</td>\n",
       "    </tr>\n",
       "    <tr>\n",
       "      <th>2244</th>\n",
       "      <td>0xabca2289f0d03773e8b102248997e854aa36cd21</td>\n",
       "      <td>lostmind84</td>\n",
       "      <td>thor</td>\n",
       "      <td>23</td>\n",
       "      <td>0.999877</td>\n",
       "      <td>0.995306</td>\n",
       "      <td>4558.375</td>\n",
       "      <td>54</td>\n",
       "      <td>[\"GitcoinContributorStatistics#totalContributi...</td>\n",
       "      <td>378</td>\n",
       "    </tr>\n",
       "  </tbody>\n",
       "</table>\n",
       "</div>"
      ],
      "text/plain": [
       "                                  Wallet Address   Gitcoin Handle   \n",
       "2983  0x64abc5b10c77d93be5038e7b4965d2f0d8279127  hypergamedoteth  \\\n",
       "2964  0x99ed04c212dd3929e9063bd78b26ef41858cb62c        jacobmort   \n",
       "2557  0x478fa4c971a077038b4fc5c172c3af5552224ccc     cryptikal514   \n",
       "27    0x5d47e5d242a8f66a6286b0a2353868875f5d6068        jokazza84   \n",
       "2771  0x94692b042a0e36671952ff0b71e43d6e0d06845a           corepl   \n",
       "2589  0x1c494f1919c1512ebe74a5dcc17dac9a64069023   alexisleger-42   \n",
       "81    0x2880a6bb2cd1df6e03dc8bbfbed009de586c2603         n1024829   \n",
       "2224  0x5db63f987817910bbb9656b5210990408d3831fb         qlonline   \n",
       "3340  0x787b4b7ffef8eddad54f311039acf4c36fec9593        roelie885   \n",
       "2244  0xabca2289f0d03773e8b102248997e854aa36cd21       lostmind84   \n",
       "\n",
       "     Thor/Loki Indicator  Stamps Collected  Logistic Regression Score   \n",
       "2983                thor                21                   0.999852  \\\n",
       "2964                thor                 8                   0.983923   \n",
       "2557                thor                11                   0.739387   \n",
       "27                  thor                13                   1.000000   \n",
       "2771                thor                10                   0.651339   \n",
       "2589                thor                20                   0.998073   \n",
       "81                  thor                 4                   0.612315   \n",
       "2224                loki                22                   0.764276   \n",
       "3340                thor                 5                   0.742918   \n",
       "2244                thor                23                   0.999877   \n",
       "\n",
       "      Regularized Regression Score  COF Kish Score  Gitcoin Regen Score   \n",
       "2983                      0.985764        3476.000                   52  \\\n",
       "2964                      0.904224         558.500                    0   \n",
       "2557                      0.821560         691.750                    0   \n",
       "27                        0.919659       11543.875                   21   \n",
       "2771                      0.629363        1312.125                   32   \n",
       "2589                      0.990677        2169.750                   18   \n",
       "81                        0.594022         189.500                    0   \n",
       "2224                      0.841920        2440.875                   39   \n",
       "3340                      0.743101         214.250                    0   \n",
       "2244                      0.995306        4558.375                   54   \n",
       "\n",
       "                                                 Stamps   \n",
       "2983  [\"GitcoinContributorStatistics#totalContributi...  \\\n",
       "2964  [\"Facebook\", \"Twitter\", \"StarredGithubRepoProv...   \n",
       "2557  [\"ZkSync\", \"SnapshotVotesProvider\", \"FirstEthT...   \n",
       "27    [\"ethPossessionsGte#1\", \"ZkSync\", \"FirstEthTxn...   \n",
       "2771  [\"ethPossessionsGte#1\", \"ZkSync\", \"GitcoinCont...   \n",
       "2589  [\"GitcoinContributorStatistics#totalContributi...   \n",
       "81                 [\"Twitter\", \"POAP\", \"Google\", \"Ens\"]   \n",
       "2224  [\"GitcoinContributorStatistics#totalContributi...   \n",
       "3340  [\"ZkSync\", \"Ens\", \"POAP\", \"Twitter\", \"TwitterF...   \n",
       "2244  [\"GitcoinContributorStatistics#totalContributi...   \n",
       "\n",
       "      count_interaction_with_any  \n",
       "2983                        2256  \n",
       "2964                        1602  \n",
       "2557                        1076  \n",
       "27                           748  \n",
       "2771                         674  \n",
       "2589                         572  \n",
       "81                           544  \n",
       "2224                         468  \n",
       "3340                         444  \n",
       "2244                         378  "
      ]
     },
     "execution_count": 58,
     "metadata": {},
     "output_type": "execute_result"
    }
   ],
   "source": [
    "df_loki.sort_values('count_interaction_with_any', ascending=False).head(10)"
   ]
  },
  {
   "cell_type": "code",
   "execution_count": 69,
   "metadata": {},
   "outputs": [
    {
     "data": {
      "text/plain": [
       "(1758, 10)"
      ]
     },
     "execution_count": 69,
     "metadata": {},
     "output_type": "execute_result"
    }
   ],
   "source": [
    "df_loki[np.logical_and(df_loki['count_interaction_with_any'] < 10, df_loki['Thor/Loki Indicator'] == 'loki')].shape"
   ]
  },
  {
   "cell_type": "code",
   "execution_count": 79,
   "metadata": {},
   "outputs": [
    {
     "data": {
      "text/plain": [
       "count    1823.000000\n",
       "mean        1.924849\n",
       "std        12.202839\n",
       "min         0.000000\n",
       "50%         0.000000\n",
       "75%         2.000000\n",
       "90%         4.000000\n",
       "95%         8.000000\n",
       "99%        20.000000\n",
       "max       468.000000\n",
       "Name: count_interaction_with_any, dtype: float64"
      ]
     },
     "execution_count": 79,
     "metadata": {},
     "output_type": "execute_result"
    }
   ],
   "source": [
    "df_loki[df_loki['Thor/Loki Indicator'] == 'loki']['count_interaction_with_any'].describe([0.5, 0.75, 0.9, 0.95, 0.99])"
   ]
  },
  {
   "cell_type": "code",
   "execution_count": 80,
   "metadata": {},
   "outputs": [
    {
     "data": {
      "text/plain": [
       "count    2364.000000\n",
       "mean       12.670051\n",
       "std        72.246395\n",
       "min         0.000000\n",
       "50%         2.000000\n",
       "75%         6.000000\n",
       "90%        22.000000\n",
       "95%        46.000000\n",
       "99%       185.180000\n",
       "max      2256.000000\n",
       "Name: count_interaction_with_any, dtype: float64"
      ]
     },
     "execution_count": 80,
     "metadata": {},
     "output_type": "execute_result"
    }
   ],
   "source": [
    "df_loki[df_loki['Thor/Loki Indicator'] == 'thor']['count_interaction_with_any'].describe([0.5, 0.75, 0.9, 0.95, 0.99])"
   ]
  },
  {
   "attachments": {},
   "cell_type": "markdown",
   "metadata": {},
   "source": [
    "From these two percentiles we can understand that a treshold of the number of interactions with a dex should be arround 5\n",
    "\n",
    "Then a second threshold above 20 would eliminate 99% the addresses that have the loki flag and 90% of the addresses that have the thor flag"
   ]
  },
  {
   "cell_type": "code",
   "execution_count": null,
   "metadata": {},
   "outputs": [],
   "source": []
  }
 ],
 "metadata": {
  "kernelspec": {
   "display_name": "venvotes",
   "language": "python",
   "name": "python3"
  },
  "language_info": {
   "codemirror_mode": {
    "name": "ipython",
    "version": 3
   },
   "file_extension": ".py",
   "mimetype": "text/x-python",
   "name": "python",
   "nbconvert_exporter": "python",
   "pygments_lexer": "ipython3",
   "version": "3.10.9"
  },
  "orig_nbformat": 4
 },
 "nbformat": 4,
 "nbformat_minor": 2
}
